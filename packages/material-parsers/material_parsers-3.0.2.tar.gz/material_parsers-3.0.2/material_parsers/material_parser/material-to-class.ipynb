{
 "cells": [
  {
   "cell_type": "markdown",
   "source": [
    "# Material to class\n",
    "\n",
    "How to infer a superconducting class from the material formula?\n",
    "\n"
   ],
   "metadata": {
    "collapsed": false
   }
  },
  {
   "cell_type": "markdown",
   "source": [
    "## 1st level classification\n",
    "\n",
    "This code classify each materials in the 1st level of classification"
   ],
   "metadata": {
    "collapsed": false
   }
  },
  {
   "cell_type": "code",
   "execution_count": null,
   "outputs": [],
   "source": [
    "import pymatgen as pg\n",
    "import re\n",
    "\n",
    "## This map define the rules for selecting the classes. \n",
    "    # and_compunds is satisfied if ALL of the contained compounds are present\n",
    "    # or_compounds is satisfied if ANY of the contained compound is present\n",
    "\n",
    "composition_map = [\n",
    "    {\"and_compounds\": [\"O\", \"Cu\"], \"name\": \"Cuprate\"},\n",
    "    {\"and_compounds\": [\"Fe\", \"P\"], \"name\": \"Iron-pnictide\"},\n",
    "    {\"and_compounds\": [\"Fe\", \"As\"], \"name\": \"Iron-pnictide\"},\n",
    "    {\"and_compounds\": [\"Fe\", 'S'], \"name\": \"Iron-chalcogenides\"},\n",
    "    {\"and_compounds\": [\"Fe\", 'Se'], \"name\": \"Iron-chalcogenides\"},\n",
    "    {\"and_compounds\": [\"Fe\", 'Te'], \"name\": \"Iron-chalcogenides\"},\n",
    "    {\"and_compounds\": [\"H\"], \"name\": \"Hydrides\"},\n",
    "    {\"and_compounds\": [\"C\"], \"name\": \"Carbides\"},\n",
    "    {\"and_compounds\": [\"N\"], \"name\": \"Nitrides\"},\n",
    "    {\"and_compounds\": [\"F\"], \"name\": \"Fluorides\"},\n",
    "    # comment here   Ch is not an atomic symbol but \"Ch\" and others like \"copper\" would be usuful later for sub-classes\n",
    "    {\"or_compounds\": [\"S\", \"Se\", \"Te\"], \"name\": \"Chalcogenides\"},\n",
    "    {\"or_compounds\": [\"P\", \"As\"], \"name\": \"Pnictides\"},\n",
    "    {\"and_compounds\": [\"B\"], \"name\": \"Borides\"},\n",
    "    {\"and_compounds\": [\"O\"], \"name\": \"Other oxides\"},\n",
    "    #alloys---> that does not satisfy none of above\n",
    "]\n",
    "\n",
    "def get_class(c): \n",
    "    output = ''\n",
    "    \n",
    "    try: \n",
    "        dc = pg.Composition(c, strict=False).as_dict().keys()\n",
    "    except Exception as ce:\n",
    "        print (\"Exception when parsing \"+str(c)+\". Error: \" + str(ce))\n",
    "        # Trying with some tricks\n",
    "        c_with_replacements = re.sub(r'[+-][ZXYzxy]', '', c)\n",
    "        try: \n",
    "            print(\"Trying to parse \" + str(c_with_replacements))\n",
    "            dc = pg.Composition(c_with_replacements, strict=False).as_dict().keys()\n",
    "        except Exception as ce:\n",
    "            print (\"Exception when parsing \"+str(c_with_replacements)+\". Error: \" + str(ce))\n",
    "            # We give up... skipping this record\n",
    "            return output\n",
    "        \n",
    "    input_formula = list(dc)\n",
    "    \n",
    "    # print(\" Input Formula: \" + str(input_formula))\n",
    "    \n",
    "    for composition in composition_map:\n",
    "        and_compounds = []\n",
    "        if 'and_compounds' in composition: \n",
    "            and_compounds = composition['and_compounds']\n",
    "\n",
    "        or_compounds = []\n",
    "        if 'or_compounds' in composition: \n",
    "            or_compounds = composition['or_compounds']\n",
    "            \n",
    "        output_class = composition['name']\n",
    "        \n",
    "        if len(and_compounds) > 0: \n",
    "            if all(elem in input_formula for elem in and_compounds):\n",
    "                output = output_class\n",
    "                break\n",
    "        elif len(or_compounds) > 0: \n",
    "            if any(elem in input_formula for elem in or_compounds): \n",
    "                output = output_class\n",
    "                break\n",
    "               \n",
    "    if output == '':\n",
    "        output = \"Alloy\"\n",
    "        \n",
    "    return output"
   ],
   "metadata": {
    "collapsed": false,
    "pycharm": {
     "name": "#%%\n"
    }
   }
  },
  {
   "cell_type": "markdown",
   "metadata": {
    "collapsed": false
   },
   "source": [
    "## Tests"
   ]
  },
  {
   "cell_type": "markdown",
   "metadata": {
    "collapsed": false
   },
   "source": [
    "### Processing list of elements"
   ]
  },
  {
   "cell_type": "code",
   "execution_count": null,
   "metadata": {
    "collapsed": false,
    "scrolled": true
   },
   "outputs": [],
   "source": [
    "df = pd.read_csv('testinput.csv', usecols={'name'})\n",
    "# print(df)\n",
    "\n",
    "\n",
    "with open('output.csv', 'w') as f:\n",
    "    writer=csv.writer(f)\n",
    "    for c in df['name']:\n",
    "        output_class = get_class(c)\n",
    "        # print(str(c) + \", \" + str(output_class))\n",
    "        writer.writerow([c, output_class])\n"
   ]
  },
  {
   "cell_type": "markdown",
   "metadata": {
    "collapsed": false
   },
   "source": [
    "### Test for invalid cases\n"
   ]
  },
  {
   "cell_type": "code",
   "execution_count": null,
   "metadata": {
    "collapsed": false
   },
   "outputs": [],
   "source": [
    "df = pd.read_csv('test-cases.csv', usecols={'name'} , sep=\",\")\n",
    "# print(df)\n",
    "\n",
    "\n",
    "for c in df['name']:\n",
    "    output_class = get_class(c)\n",
    "    print(str(c) + \", \" + str(output_class))\n",
    "        "
   ]
  },
  {
   "cell_type": "markdown",
   "metadata": {
    "collapsed": false
   },
   "source": [
    "## Tagging approach\n",
    "\n",
    "We try to assign multiple tags to each material based on their composition"
   ]
  },
  {
   "cell_type": "code",
   "execution_count": null,
   "metadata": {
    "collapsed": false
   },
   "outputs": [],
   "source": [
    "## This map define the rules for selecting the classes. \n",
    "    # and_compunds is satisfied if ALL of the contained compounds are present\n",
    "    # or_compounds is satisfied if ANY of the contained compound is present\n",
    "\n",
    "composition_map_1st_level = [\n",
    "    {\"and_compounds\": [\"O\", \"Cu\"], \"name\": \"Cuprate\"},\n",
    "    {\"and_compounds\": [\"Fe\", \"P\"], \"name\": \"Iron-pnictide\"},\n",
    "    {\"and_compounds\": [\"Fe\", \"As\"], \"name\": \"Iron-pnictide\"},\n",
    "    {\"and_compounds\": [\"Fe\", 'S'], \"name\": \"Iron-chalcogenides\"},\n",
    "    {\"and_compounds\": [\"Fe\", 'Se'], \"name\": \"Iron-chalcogenides\"},\n",
    "    {\"and_compounds\": [\"Fe\", 'Te'], \"name\": \"Iron-chalcogenides\"},\n",
    "    {\"and_compounds\": [\"H\"], \"name\": \"Hydrides\"},\n",
    "    {\"and_compounds\": [\"C\"], \"name\": \"Carbides\"},\n",
    "    {\"and_compounds\": [\"N\"], \"name\": \"Nitrides\"},\n",
    "    {\"and_compounds\": [\"F\"], \"name\": \"Fluorides\"},\n",
    "    # comment here   Ch is not an atomic symbol but \"Ch\" and others like \"copper\" would be usuful later for sub-classes\n",
    "    {\"or_compounds\": [\"S\", \"Se\", \"Te\"], \"name\": \"Chalcogenides\"},\n",
    "    {\"or_compounds\": [\"P\", \"As\"], \"name\": \"Pnictides\"},\n",
    "    {\"and_compounds\": [\"B\"], \"name\": \"Borides\"},\n",
    "    {\"and_compounds\": [\"O\"], \"name\": \"Oxides\"},\n",
    "        #alloys---> that does not satisfy none of above\n",
    "    {\"not_compounds\": [\"O\",\" B\", \"C\", \"N\", \"F\", \"P\", \"S\", \"As\", \"Se\", \"Te\"], \"name\": \"Alloys\"}\n",
    "]"
   ]
  },
  {
   "cell_type": "markdown",
   "metadata": {
    "collapsed": false
   },
   "source": [
    "Tag assigmnent"
   ]
  },
  {
   "cell_type": "code",
   "execution_count": null,
   "metadata": {
    "collapsed": false
   },
   "outputs": [],
   "source": [
    "import pymatgen as pg\n",
    "import re\n",
    "\n",
    "def assign_tags(material_formula, composition_map): \n",
    "    output_tags = []\n",
    "    \n",
    "    try: \n",
    "        dc = pg.Composition(material_formula, strict=False).as_dict().keys()\n",
    "    except Exception as ce:\n",
    "        print (\"Exception when parsing \"+str(material_formula)+\". Error: \" + str(ce))\n",
    "        # Trying with some tricks\n",
    "        material_formula_with_replacements = re.sub(r'[+-][ZXYzxy]', '', material_formula)\n",
    "        try: \n",
    "            print(\"Trying to parse \" + str(material_formula_with_replacements))\n",
    "            dc = pg.Composition(material_formula_with_replacements, strict=False).as_dict().keys()\n",
    "        except Exception as ce:\n",
    "            print (\"Exception when parsing \"+str(material_formula_with_replacements)+\". Error: \" + str(ce))\n",
    "            # We give up... skipping this record\n",
    "            return output_tags\n",
    "        \n",
    "    input_formula = list(dc)\n",
    "    # print(\" Input Formula: \" + str(input_formula))\n",
    "    \n",
    "    for composition in composition_map:\n",
    "        and_compounds = []\n",
    "        if 'and_compounds' in composition: \n",
    "            and_compounds = composition['and_compounds']\n",
    "\n",
    "        or_compounds = []\n",
    "        if 'or_compounds' in composition: \n",
    "            or_compounds = composition['or_compounds']\n",
    "\n",
    "            \n",
    "        not_compounds = []\n",
    "        if 'not_compounds' in composition: \n",
    "            not_compounds = composition['not_compounds']\n",
    "\n",
    "        output_class = composition['name']\n",
    "        \n",
    "        if len(and_compounds) > 0: \n",
    "            if all(elem in input_formula for elem in and_compounds if type(elem) == str):\n",
    "                output_tags.append(output_class)\n",
    "                continue\n",
    "        elif len(or_compounds) > 0: \n",
    "            if any(elem in input_formula for elem in or_compounds if type(elem) == str): \n",
    "                output_tags.append(output_class)\n",
    "                continue\n",
    "        elif len(not_compounds) > 0: \n",
    "            if not any(elem in input_formula for elem in not_compounds if type(elem) == str): \n",
    "                output_tags.append(output_class)\n",
    "                continue\n",
    "                \n",
    "    return set(output_tags)"
   ]
  },
  {
   "cell_type": "markdown",
   "metadata": {
    "collapsed": false
   },
   "source": [
    "### Testing\n",
    "\n"
   ]
  },
  {
   "cell_type": "markdown",
   "metadata": {
    "collapsed": false
   },
   "source": [
    "### Test cases"
   ]
  },
  {
   "cell_type": "code",
   "execution_count": null,
   "metadata": {
    "collapsed": false
   },
   "outputs": [],
   "source": [
    "df = pd.read_csv('test-cases.csv', usecols={'name'} , sep=\",\")\n",
    "# print(df)\n",
    "\n",
    "\n",
    "for c in df['name']:\n",
    "    output_class = assign_tags(c)\n",
    "    print(str(c) + \", \" + str(output_class))\n",
    "        "
   ]
  },
  {
   "cell_type": "markdown",
   "metadata": {
    "collapsed": false
   },
   "source": [
    "### Supecon small"
   ]
  },
  {
   "cell_type": "code",
   "execution_count": null,
   "metadata": {
    "collapsed": false,
    "scrolled": true
   },
   "outputs": [],
   "source": [
    "df = pd.read_csv('test-cases-from-supercon-big.csv', usecols={'name'} , sep=\",\")\n",
    "# print(df)\n",
    "\n",
    "with open('output-supercon-big.csv', 'w') as f:\n",
    "    writer=csv.writer(f)\n",
    "    for c in df['name']:\n",
    "        output_class = assign_tags(c)\n",
    "        writer.writerow([c, output_class])\n",
    "        "
   ]
  },
  {
   "cell_type": "code",
   "execution_count": null,
   "metadata": {
    "collapsed": false
   },
   "outputs": [],
   "source": [
    "#\"Fe 1 Te 0.4 Se 0.6\"\n",
    "\n",
    "material_name_sample = \"Bi2Sr2CaCu2O8+x\"\n",
    "\n",
    "tags = assign_tags(material_name_sample, composition_map_1st_level)\n",
    "print(\"First level tags for \" + material_name_sample + \": \" + str(tags))\n",
    "\n",
    "#There are differen type of definitions\n",
    "# - based on ingredient atom \n",
    "# - structure based (R-123)\n",
    "#     For atom round number is 1, and for second atom rounded number is 2, nd for Cu having rounded number 3, Y: 0.8   Ba: 1.8  Cu: 3\n",
    "# - T', Tprime is only for (Nd,Ce)CuO and (Pr,La,Ce)CuO to my knowledge\n",
    "\n",
    "#C60 ---> C: 60  for example Cs3C60\n",
    "#MCh2 ---> Ch: 2  for exmple VSe2\n",
    "# transition metal:   Sc, Ti, V, Cr, Mn, Fe, Co, Ni, Cu ,Zn, Y, Zr, Nb, Mo, Tc, Ru ,Rh, Pd, Ag, Cd, La, Hf, Ta, W, Re, Os, Ir, Pt, Au, Hg\n",
    "# pyrochlore oxides:  A2 B2 O7\n",
    "# spinel oxides: A1 B2 O4\n",
    "# Heavy fermions: \"Ce\", \"Pr\", \"Nd\", \"Sm\", \"Eu\", \"Gd\", \"Tb\", \"Dy\", \"Ho\", \"Er\", \"Tm\", \"Yb\", \"U\"\n",
    "\n",
    "second_level_composition = {\n",
    "    'Cuprate': [\n",
    "        {\"and_compounds\": [\"Bi\"], \"name\": \"Bi-based\"},\n",
    "        {\"and_compounds\": [\"Hg\"], \"name\": \"Hg-based\"},\n",
    "        {\"and_compounds\": [\"Tl\"], \"name\": \"Tl-based\"},\n",
    "        {\"and_compounds\": [\"La\"], \"name\": \"La-based\"}, \n",
    "        {\"and_compounds\": [\"Nd\", \"Cu\", \"O\"], \"name\": \"T'\"}, \n",
    "        {\"and_compounds\": [\"Nd,\",\"Ce\", \"Cu\", \"O\"], \"name\": \"T'\"},\n",
    "        {\"and_compounds\": [\"Pr\", \"Ce\", \"Cu\", \"O\"], \"name\": \"T'\"},\n",
    "        {\"and_compounds\": [\"Pr\",\"Ce\", \"La\", \"Cu\", \"O\"], \"name\": \"T'\"},\n",
    "    ], \n",
    "    'Iron-pnictide': [],\n",
    "    'Iron-chalcogenides': [],\n",
    "    'Hydrides':[\n",
    "        {\"and_compounds\": [\"H\", \"S\"], \"name\": \"Sulfure Hydrate\"}\n",
    "    ],\n",
    "    'Carbides': [\n",
    "        {\"and_compounds\": [\"B\", \"C\"], \"name\": \"Borocarbides\"},\n",
    "        {\"and_compounds\": [\"O\", \"C\"], \"name\": \"organics\"}\n",
    "    ],\n",
    "    'Chalcogenides': [\n",
    "        {\"and_compounds\": [\"Bi\", {\"S\":2}], \"name\": \"BiCh2\"},\n",
    "        {\"and_compounds\": [\"Bi\", {\"Se\":2}], \"name\": \"BiCh2\"},\n",
    "        {\"and_compounds\": [\"Bi\", {\"Te\":2}], \"name\": \"BiCh2\"},        \n",
    "    ],\n",
    "    'Oxides': [\n",
    "        {\"or_compounds\": [\"Sc\", \"Ti\", \"V\", \"Cr\", \"Mn\", \"Fe\", \"Co\", \"Ni\", \"Cu\" ,\"Zn\", \"Y\", \"Zr\", \"Nb\", \"Mo\", \"Tc\", \"Ru\" ,\"Rh\", \"Pd\", \"Ag\", \"Cd\", \"La\", \"Hf\", \"Ta\", \"W\", \"Re\", \"Os\", \"Ir\", \"Pt\", \"Au\", \"Hg\"], \"name\": \"Transition Metal-Oxides\"}\n",
    "        #{\"and_compounds\": [\"O\", \"C\"], \"name\": \"Pyrochlore Oxides\"},\n",
    "        #{\"and_compounds\": [\"O\", \"C\"], \"name\": \"Pyrochlore Oxides\"}\n",
    "    ], \n",
    "    'Alloys': [\n",
    "        {\"or_compounds\": [\"Ce\", \"Pr\", \"Nd\", \"Sm\", \"Eu\", \"Gd\", \"Tb\", \"Dy\", \"Ho\", \"Er\", \"Tm\", \"Yb\", \"U\"], \"name\": \"possible Heavy-fermions\"}\n",
    "    ]\n",
    "    \n",
    "}\n",
    "\n",
    "\n",
    "for tag in tags: \n",
    "    composition = second_level_composition[tag]\n",
    "    if composition is not None:         \n",
    "        second_level_tags = assign_tags(material_name_sample, composition)\n",
    "        \n",
    "        print(tag + \" -> \" + str(second_level_tags))\n",
    "        \n",
    "    else: \n",
    "        print(\"The tag: \" + tag + \" does not have any assigned composition map. \")\n",
    "        \n",
    "        "
   ]
  },
  {
   "cell_type": "code",
   "execution_count": null,
   "metadata": {
    "collapsed": false
   },
   "outputs": [],
   "source": []
  },
  {
   "cell_type": "code",
   "execution_count": null,
   "metadata": {
    "collapsed": false
   },
   "outputs": [],
   "source": [
    "dc = pg.Composition(\"LaOBiS1.8Se0.2\", strict=False).as_dict()\n",
    "\n",
    "print(dc)\n"
   ]
  },
  {
   "cell_type": "code",
   "execution_count": null,
   "metadata": {
    "collapsed": false
   },
   "outputs": [],
   "source": [
    "import math\n",
    "math.ceil(1.8)\n",
    "math.floor(1.8)"
   ]
  },
  {
   "cell_type": "code",
   "execution_count": null,
   "metadata": {
    "collapsed": false
   },
   "outputs": [],
   "source": [
    "type('a')"
   ]
  },
  {
   "cell_type": "code",
   "execution_count": null,
   "metadata": {
    "collapsed": false
   },
   "outputs": [],
   "source": []
  }
 ],
 "metadata": {
  "kernelspec": {
   "display_name": "Python 3 (system-wide)",
   "language": "python",
   "metadata": {
    "cocalc": {
     "description": "Python 3 programming language",
     "priority": 100,
     "url": "https://www.python.org/"
    }
   },
   "name": "python3"
  },
  "language_info": {
   "codemirror_mode": {
    "name": "ipython",
    "version": 3
   },
   "file_extension": ".py",
   "mimetype": "text/x-python",
   "name": "python",
   "nbconvert_exporter": "python",
   "pygments_lexer": "ipython3",
   "version": "3.6.9"
  }
 },
 "nbformat": 4,
 "nbformat_minor": 4
}