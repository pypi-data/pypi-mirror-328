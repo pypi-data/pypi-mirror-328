{
 "cells": [
  {
   "cell_type": "code",
   "execution_count": 1,
   "id": "08a18a63-28ea-4549-a762-ac9258586516",
   "metadata": {},
   "outputs": [],
   "source": [
    "import requests"
   ]
  },
  {
   "cell_type": "code",
   "execution_count": 4,
   "id": "4966de10-3c68-4514-a853-14d5f97fdc47",
   "metadata": {},
   "outputs": [
    {
     "data": {
      "text/plain": [
       "(200,\n",
       " b'\"[{\\\\\"model\\\\\": \\\\\"agate.ingestionattempt\\\\\", \\\\\"pk\\\\\": \\\\\"gfadf\\\\\", \\\\\"fields\\\\\": {\\\\\"project\\\\\": \\\\\"mscape\\\\\", \\\\\"platform\\\\\": \\\\\"Illumina\\\\\", \\\\\"site\\\\\": \\\\\"bham\\\\\", \\\\\"run_index\\\\\": \\\\\"1\\\\\", \\\\\"run_id\\\\\": \\\\\"1\\\\\", \\\\\"is_published\\\\\": false, \\\\\"is_test_attempt\\\\\": false, \\\\\"climb_id\\\\\": \\\\\"afe234\\\\\", \\\\\"error_message\\\\\": \\\\\"none\\\\\", \\\\\"status\\\\\": \\\\\"US\\\\\", \\\\\"archived\\\\\": false, \\\\\"created_at\\\\\": \\\\\"2024-09-17T13:23:01.375Z\\\\\"}}, {\\\\\"model\\\\\": \\\\\"agate.ingestionattempt\\\\\", \\\\\"pk\\\\\": \\\\\"38349845-9077-4050-ab4c-5980fcb16314\\\\\", \\\\\"fields\\\\\": {\\\\\"project\\\\\": \\\\\"mscape\\\\\", \\\\\"platform\\\\\": \\\\\"Illumina\\\\\", \\\\\"site\\\\\": \\\\\"bham\\\\\", \\\\\"run_index\\\\\": \\\\\"54\\\\\", \\\\\"run_id\\\\\": \\\\\"asa12\\\\\", \\\\\"is_published\\\\\": true, \\\\\"is_test_attempt\\\\\": true, \\\\\"climb_id\\\\\": null, \\\\\"error_message\\\\\": \\\\\"gggdgfgfgs\\\\\", \\\\\"status\\\\\": \\\\\"FV\\\\\", \\\\\"archived\\\\\": false, \\\\\"created_at\\\\\": \\\\\"2024-09-17T13:23:34.038Z\\\\\"}}, {\\\\\"model\\\\\": \\\\\"agate.ingestionattempt\\\\\", \\\\\"pk\\\\\": \\\\\"gg\\\\\", \\\\\"fields\\\\\": {\\\\\"project\\\\\": \\\\\"mscape\\\\\", \\\\\"platform\\\\\": \\\\\"K\\\\\", \\\\\"site\\\\\": \\\\\"bham\\\\\", \\\\\"run_index\\\\\": \\\\\"\\\\\", \\\\\"run_id\\\\\": \\\\\"\\\\\", \\\\\"is_published\\\\\": false, \\\\\"is_test_attempt\\\\\": false, \\\\\"climb_id\\\\\": \\\\\"\\\\\", \\\\\"error_message\\\\\": \\\\\"\\\\\", \\\\\"status\\\\\": \\\\\"SU\\\\\", \\\\\"archived\\\\\": false, \\\\\"created_at\\\\\": \\\\\"2024-09-24T12:29:42.865Z\\\\\"}}]\"')"
      ]
     },
     "execution_count": 4,
     "metadata": {},
     "output_type": "execute_result"
    }
   ],
   "source": [
    "domain=\"http://127.0.0.1:8001\"\n",
    "token = \"57f6bf4c44231155def6ad9e8cf072b71c2a782fd228686df94cf195b08ce7cc\"\n",
    "route = f\"{domain}/update/\"\n",
    "\n",
    "\n",
    "client = requests.session()\n",
    "\n",
    "r = client.get(f\"{domain}/ingestion/mscape/\", headers={\"Authorization\": f\"Token {token}\"})\n",
    "\n",
    "r.status_code, r.content"
   ]
  },
  {
   "cell_type": "code",
   "execution_count": 3,
   "id": "12f678f5-db31-44b5-85d0-f5e57159753d",
   "metadata": {},
   "outputs": [
    {
     "data": {
      "text/plain": [
       "(201, b'gg')"
      ]
     },
     "execution_count": 3,
     "metadata": {},
     "output_type": "execute_result"
    }
   ],
   "source": [
    "domain=\"http://127.0.0.1:8001\"\n",
    "token = \"57f6bf4c44231155def6ad9e8cf072b71c2a782fd228686df94cf195b08ce7cc\"\n",
    "route = f\"{domain}/update/\"\n",
    "\n",
    "data = dict(uuid = 'gg',project='mscape', site = 'bham', status = 'SU', platform='K')\n",
    "r = requests.post(f\"{domain}/update/\", data=data, headers={\"Authorization\": f\"Token {token}\"})\n",
    "\n",
    "r.status_code, r.content"
   ]
  },
  {
   "cell_type": "code",
   "execution_count": null,
   "id": "68942b32-9cdd-4cbb-8ad3-6b2a7ce6d97e",
   "metadata": {},
   "outputs": [],
   "source": []
  }
 ],
 "metadata": {
  "kernelspec": {
   "display_name": "Python 3 (ipykernel)",
   "language": "python",
   "name": "python3"
  },
  "language_info": {
   "codemirror_mode": {
    "name": "ipython",
    "version": 3
   },
   "file_extension": ".py",
   "mimetype": "text/x-python",
   "name": "python",
   "nbconvert_exporter": "python",
   "pygments_lexer": "ipython3",
   "version": "3.12.3"
  }
 },
 "nbformat": 4,
 "nbformat_minor": 5
}
