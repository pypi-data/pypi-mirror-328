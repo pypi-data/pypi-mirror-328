{
 "cells": [
  {
   "cell_type": "markdown",
   "id": "9c07aa69-bb35-481e-9012-6d2532829ee1",
   "metadata": {},
   "source": [
    "## Examples"
   ]
  },
  {
   "cell_type": "code",
   "execution_count": 1,
   "id": "f058ee4f-d80b-479c-890a-316d54488f45",
   "metadata": {},
   "outputs": [],
   "source": [
    "import numpy as np\n",
    "import pandas as pd\n",
    "import matplotlib.pyplot as plt\n",
    "\n",
    "# SCS-KDE library\n",
    "from scskde import SCSKDE"
   ]
  },
  {
   "cell_type": "markdown",
   "id": "bacf568d-f231-4ce0-a250-4671a33b6ee1",
   "metadata": {},
   "source": [
    "### Get daily weather data and preprocess\n",
    "Use Meteostat library to download some station data:"
   ]
  },
  {
   "cell_type": "code",
   "execution_count": 2,
   "id": "e3f29b5b-ca05-4120-93b9-1d6e42f11ab0",
   "metadata": {},
   "outputs": [],
   "source": [
    "from datetime import datetime\n",
    "from meteostat import Point, Daily\n",
    "\n",
    "# Set time period\n",
    "start = datetime(1980, 1, 1)\n",
    "end = datetime(2023, 12, 31)\n",
    "\n",
    "# Create Point for London City Airport\n",
    "lat, lon = 51.505, 0.046\n",
    "location = Point(lat, lon)#, 70)\n",
    "\n",
    "# Get daily data\n",
    "data = Daily(location, start, end)\n",
    "data = data.fetch()"
   ]
  },
  {
   "cell_type": "markdown",
   "id": "f1b8c69a-c54a-4aec-949e-294a33deebe3",
   "metadata": {},
   "source": [
    "Check for nulls"
   ]
  },
  {
   "cell_type": "code",
   "execution_count": 3,
   "id": "e8e2fcab-35cb-423e-8ebc-ce3d8c3d0e30",
   "metadata": {},
   "outputs": [
    {
     "data": {
      "text/html": [
       "<div>\n",
       "<style scoped>\n",
       "    .dataframe tbody tr th:only-of-type {\n",
       "        vertical-align: middle;\n",
       "    }\n",
       "\n",
       "    .dataframe tbody tr th {\n",
       "        vertical-align: top;\n",
       "    }\n",
       "\n",
       "    .dataframe thead th {\n",
       "        text-align: right;\n",
       "    }\n",
       "</style>\n",
       "<table border=\"1\" class=\"dataframe\">\n",
       "  <thead>\n",
       "    <tr style=\"text-align: right;\">\n",
       "      <th></th>\n",
       "      <th>tavg</th>\n",
       "      <th>tmin</th>\n",
       "      <th>tmax</th>\n",
       "      <th>prcp</th>\n",
       "      <th>snow</th>\n",
       "      <th>wdir</th>\n",
       "      <th>wspd</th>\n",
       "      <th>wpgt</th>\n",
       "      <th>pres</th>\n",
       "      <th>tsun</th>\n",
       "    </tr>\n",
       "    <tr>\n",
       "      <th>time</th>\n",
       "      <th></th>\n",
       "      <th></th>\n",
       "      <th></th>\n",
       "      <th></th>\n",
       "      <th></th>\n",
       "      <th></th>\n",
       "      <th></th>\n",
       "      <th></th>\n",
       "      <th></th>\n",
       "      <th></th>\n",
       "    </tr>\n",
       "  </thead>\n",
       "  <tbody>\n",
       "    <tr>\n",
       "      <th>1980-08-23</th>\n",
       "      <td>12.9</td>\n",
       "      <td>7.0</td>\n",
       "      <td>NaN</td>\n",
       "      <td>NaN</td>\n",
       "      <td>NaN</td>\n",
       "      <td>NaN</td>\n",
       "      <td>NaN</td>\n",
       "      <td>NaN</td>\n",
       "      <td>NaN</td>\n",
       "      <td>NaN</td>\n",
       "    </tr>\n",
       "    <tr>\n",
       "      <th>1981-03-09</th>\n",
       "      <td>NaN</td>\n",
       "      <td>NaN</td>\n",
       "      <td>NaN</td>\n",
       "      <td>NaN</td>\n",
       "      <td>NaN</td>\n",
       "      <td>NaN</td>\n",
       "      <td>NaN</td>\n",
       "      <td>NaN</td>\n",
       "      <td>NaN</td>\n",
       "      <td>NaN</td>\n",
       "    </tr>\n",
       "    <tr>\n",
       "      <th>1983-06-02</th>\n",
       "      <td>14.2</td>\n",
       "      <td>NaN</td>\n",
       "      <td>18.1</td>\n",
       "      <td>6.1</td>\n",
       "      <td>NaN</td>\n",
       "      <td>NaN</td>\n",
       "      <td>NaN</td>\n",
       "      <td>NaN</td>\n",
       "      <td>NaN</td>\n",
       "      <td>NaN</td>\n",
       "    </tr>\n",
       "    <tr>\n",
       "      <th>1985-02-23</th>\n",
       "      <td>4.4</td>\n",
       "      <td>0.5</td>\n",
       "      <td>NaN</td>\n",
       "      <td>NaN</td>\n",
       "      <td>NaN</td>\n",
       "      <td>NaN</td>\n",
       "      <td>NaN</td>\n",
       "      <td>NaN</td>\n",
       "      <td>NaN</td>\n",
       "      <td>NaN</td>\n",
       "    </tr>\n",
       "    <tr>\n",
       "      <th>1986-12-16</th>\n",
       "      <td>4.6</td>\n",
       "      <td>NaN</td>\n",
       "      <td>7.1</td>\n",
       "      <td>NaN</td>\n",
       "      <td>NaN</td>\n",
       "      <td>NaN</td>\n",
       "      <td>NaN</td>\n",
       "      <td>NaN</td>\n",
       "      <td>NaN</td>\n",
       "      <td>NaN</td>\n",
       "    </tr>\n",
       "    <tr>\n",
       "      <th>...</th>\n",
       "      <td>...</td>\n",
       "      <td>...</td>\n",
       "      <td>...</td>\n",
       "      <td>...</td>\n",
       "      <td>...</td>\n",
       "      <td>...</td>\n",
       "      <td>...</td>\n",
       "      <td>...</td>\n",
       "      <td>...</td>\n",
       "      <td>...</td>\n",
       "    </tr>\n",
       "    <tr>\n",
       "      <th>2007-03-07</th>\n",
       "      <td>8.5</td>\n",
       "      <td>NaN</td>\n",
       "      <td>12.7</td>\n",
       "      <td>0.8</td>\n",
       "      <td>NaN</td>\n",
       "      <td>NaN</td>\n",
       "      <td>NaN</td>\n",
       "      <td>NaN</td>\n",
       "      <td>NaN</td>\n",
       "      <td>NaN</td>\n",
       "    </tr>\n",
       "    <tr>\n",
       "      <th>2007-08-28</th>\n",
       "      <td>16.4</td>\n",
       "      <td>NaN</td>\n",
       "      <td>NaN</td>\n",
       "      <td>NaN</td>\n",
       "      <td>NaN</td>\n",
       "      <td>NaN</td>\n",
       "      <td>NaN</td>\n",
       "      <td>NaN</td>\n",
       "      <td>NaN</td>\n",
       "      <td>NaN</td>\n",
       "    </tr>\n",
       "    <tr>\n",
       "      <th>2007-08-29</th>\n",
       "      <td>16.6</td>\n",
       "      <td>NaN</td>\n",
       "      <td>21.3</td>\n",
       "      <td>0.0</td>\n",
       "      <td>NaN</td>\n",
       "      <td>NaN</td>\n",
       "      <td>NaN</td>\n",
       "      <td>NaN</td>\n",
       "      <td>NaN</td>\n",
       "      <td>NaN</td>\n",
       "    </tr>\n",
       "    <tr>\n",
       "      <th>2009-03-02</th>\n",
       "      <td>5.8</td>\n",
       "      <td>0.7</td>\n",
       "      <td>NaN</td>\n",
       "      <td>0.0</td>\n",
       "      <td>NaN</td>\n",
       "      <td>NaN</td>\n",
       "      <td>NaN</td>\n",
       "      <td>NaN</td>\n",
       "      <td>NaN</td>\n",
       "      <td>NaN</td>\n",
       "    </tr>\n",
       "    <tr>\n",
       "      <th>2014-07-12</th>\n",
       "      <td>18.7</td>\n",
       "      <td>NaN</td>\n",
       "      <td>NaN</td>\n",
       "      <td>0.5</td>\n",
       "      <td>NaN</td>\n",
       "      <td>NaN</td>\n",
       "      <td>NaN</td>\n",
       "      <td>NaN</td>\n",
       "      <td>NaN</td>\n",
       "      <td>NaN</td>\n",
       "    </tr>\n",
       "  </tbody>\n",
       "</table>\n",
       "<p>65 rows × 10 columns</p>\n",
       "</div>"
      ],
      "text/plain": [
       "            tavg  tmin  tmax  prcp  snow  wdir  wspd  wpgt  pres  tsun\n",
       "time                                                                  \n",
       "1980-08-23  12.9   7.0   NaN   NaN   NaN   NaN   NaN   NaN   NaN   NaN\n",
       "1981-03-09   NaN   NaN   NaN   NaN   NaN   NaN   NaN   NaN   NaN   NaN\n",
       "1983-06-02  14.2   NaN  18.1   6.1   NaN   NaN   NaN   NaN   NaN   NaN\n",
       "1985-02-23   4.4   0.5   NaN   NaN   NaN   NaN   NaN   NaN   NaN   NaN\n",
       "1986-12-16   4.6   NaN   7.1   NaN   NaN   NaN   NaN   NaN   NaN   NaN\n",
       "...          ...   ...   ...   ...   ...   ...   ...   ...   ...   ...\n",
       "2007-03-07   8.5   NaN  12.7   0.8   NaN   NaN   NaN   NaN   NaN   NaN\n",
       "2007-08-28  16.4   NaN   NaN   NaN   NaN   NaN   NaN   NaN   NaN   NaN\n",
       "2007-08-29  16.6   NaN  21.3   0.0   NaN   NaN   NaN   NaN   NaN   NaN\n",
       "2009-03-02   5.8   0.7   NaN   0.0   NaN   NaN   NaN   NaN   NaN   NaN\n",
       "2014-07-12  18.7   NaN   NaN   0.5   NaN   NaN   NaN   NaN   NaN   NaN\n",
       "\n",
       "[65 rows x 10 columns]"
      ]
     },
     "execution_count": 3,
     "metadata": {},
     "output_type": "execute_result"
    }
   ],
   "source": [
    "data[data[['tmin','tmax']].isnull().any(axis=1)]"
   ]
  },
  {
   "cell_type": "markdown",
   "id": "afaa0732-56d0-43b5-9f86-28d3e34fef4c",
   "metadata": {},
   "source": [
    "Sufficiently few NaNs to justify forward-filling for this example."
   ]
  },
  {
   "cell_type": "code",
   "execution_count": 4,
   "id": "b1ead0c8-88b0-420a-836b-00fb2e1f1a30",
   "metadata": {},
   "outputs": [],
   "source": [
    "X_hist = data[['tmin','tmax']].ffill()"
   ]
  },
  {
   "cell_type": "markdown",
   "id": "b8c264bb-21c0-444e-8fd8-b4d4335f5f84",
   "metadata": {},
   "source": [
    "Experience suggests that the data may be heteroskedastic; stabilise variance by shifting and log-transforming:"
   ]
  },
  {
   "cell_type": "code",
   "execution_count": 5,
   "id": "ab45a328-02bd-471e-b29c-3955cc801f71",
   "metadata": {},
   "outputs": [],
   "source": [
    "def trans(X):\n",
    "    shift = X.min().abs() + 0.1\n",
    "    return np.log(X + shift), shift"
   ]
  },
  {
   "cell_type": "code",
   "execution_count": 6,
   "id": "1150c935-3f4f-4f41-b777-6e0fd6de50a3",
   "metadata": {},
   "outputs": [],
   "source": [
    "X_hist_tr, shift = trans(X_hist)"
   ]
  },
  {
   "cell_type": "markdown",
   "id": "5032be89-bd2a-4e26-a3f2-63f0924db361",
   "metadata": {},
   "source": [
    "We know there's seasonality in this data, so define periods by month and tag each day:"
   ]
  },
  {
   "cell_type": "code",
   "execution_count": 7,
   "id": "8677c194-8dae-4b0d-93b6-6ff160032486",
   "metadata": {},
   "outputs": [
    {
     "data": {
      "text/plain": [
       "array([ 1,  1,  1, ..., 12, 12, 12], dtype=int32)"
      ]
     },
     "execution_count": 7,
     "metadata": {},
     "output_type": "execute_result"
    }
   ],
   "source": [
    "periods_hist = X_hist.index.month.values\n",
    "periods_hist"
   ]
  },
  {
   "cell_type": "markdown",
   "id": "c577d030-5d33-4cb9-a334-1eac3b4ec207",
   "metadata": {},
   "source": [
    "Calculate empirical CDFs by month for comparison with the simulated versions later:"
   ]
  },
  {
   "cell_type": "code",
   "execution_count": 8,
   "id": "46badbcb-d5e7-4571-a9fe-b8c62f745e86",
   "metadata": {},
   "outputs": [
    {
     "data": {
      "text/plain": [
       "array([1364, 1364, 1364, ..., 1364, 1364, 1364])"
      ]
     },
     "execution_count": 8,
     "metadata": {},
     "output_type": "execute_result"
    }
   ],
   "source": [
    "total_days_per_month_hist = X_hist.index.month.value_counts()[periods_hist].values\n",
    "total_days_per_month_hist"
   ]
  },
  {
   "cell_type": "code",
   "execution_count": 9,
   "id": "8c3de06a-4c36-4d9f-9d3e-606ca99f64f6",
   "metadata": {},
   "outputs": [
    {
     "data": {
      "text/html": [
       "<div>\n",
       "<style scoped>\n",
       "    .dataframe tbody tr th:only-of-type {\n",
       "        vertical-align: middle;\n",
       "    }\n",
       "\n",
       "    .dataframe tbody tr th {\n",
       "        vertical-align: top;\n",
       "    }\n",
       "\n",
       "    .dataframe thead th {\n",
       "        text-align: right;\n",
       "    }\n",
       "</style>\n",
       "<table border=\"1\" class=\"dataframe\">\n",
       "  <thead>\n",
       "    <tr style=\"text-align: right;\">\n",
       "      <th></th>\n",
       "      <th>tmin</th>\n",
       "      <th>tmax</th>\n",
       "    </tr>\n",
       "    <tr>\n",
       "      <th>time</th>\n",
       "      <th></th>\n",
       "      <th></th>\n",
       "    </tr>\n",
       "  </thead>\n",
       "  <tbody>\n",
       "    <tr>\n",
       "      <th>1980-01-01</th>\n",
       "      <td>0.012463</td>\n",
       "      <td>0.031525</td>\n",
       "    </tr>\n",
       "    <tr>\n",
       "      <th>1980-01-02</th>\n",
       "      <td>0.009531</td>\n",
       "      <td>0.057185</td>\n",
       "    </tr>\n",
       "    <tr>\n",
       "      <th>1980-01-03</th>\n",
       "      <td>0.009531</td>\n",
       "      <td>0.578446</td>\n",
       "    </tr>\n",
       "    <tr>\n",
       "      <th>1980-01-04</th>\n",
       "      <td>0.567449</td>\n",
       "      <td>0.797654</td>\n",
       "    </tr>\n",
       "    <tr>\n",
       "      <th>1980-01-05</th>\n",
       "      <td>0.357038</td>\n",
       "      <td>0.468475</td>\n",
       "    </tr>\n",
       "  </tbody>\n",
       "</table>\n",
       "</div>"
      ],
      "text/plain": [
       "                tmin      tmax\n",
       "time                          \n",
       "1980-01-01  0.012463  0.031525\n",
       "1980-01-02  0.009531  0.057185\n",
       "1980-01-03  0.009531  0.578446\n",
       "1980-01-04  0.567449  0.797654\n",
       "1980-01-05  0.357038  0.468475"
      ]
     },
     "execution_count": 9,
     "metadata": {},
     "output_type": "execute_result"
    }
   ],
   "source": [
    "ecdf_hist = X_hist.groupby(periods_hist).rank(method='max').div(total_days_per_month_hist, axis=0)\n",
    "ecdf_hist.head()"
   ]
  },
  {
   "cell_type": "markdown",
   "id": "e5fcf118-fc90-4cca-a695-ad36c23cb5b1",
   "metadata": {},
   "source": [
    "### Fit model"
   ]
  },
  {
   "cell_type": "markdown",
   "id": "9033c5f0-93a3-4e5d-a37f-1eb4951eafab",
   "metadata": {},
   "source": [
    "Define model order (maximum number of lags) and dependencies - both variables are endogenous, so just depend on themselves and the other one."
   ]
  },
  {
   "cell_type": "code",
   "execution_count": 10,
   "id": "08932d78-829a-4b1e-bce8-313b2bc646b4",
   "metadata": {},
   "outputs": [
    {
     "data": {
      "text/plain": [
       "{(1, 0): [0, 1],\n",
       " (1, 1): [0, 1],\n",
       " (2, 0): [0, 1],\n",
       " (2, 1): [0, 1],\n",
       " (3, 0): [0, 1],\n",
       " (3, 1): [0, 1],\n",
       " (4, 0): [0, 1],\n",
       " (4, 1): [0, 1],\n",
       " (5, 0): [0, 1],\n",
       " (5, 1): [0, 1],\n",
       " (6, 0): [0, 1],\n",
       " (6, 1): [0, 1],\n",
       " (7, 0): [0, 1],\n",
       " (7, 1): [0, 1],\n",
       " (8, 0): [0, 1],\n",
       " (8, 1): [0, 1],\n",
       " (9, 0): [0, 1],\n",
       " (9, 1): [0, 1],\n",
       " (10, 0): [0, 1],\n",
       " (10, 1): [0, 1],\n",
       " (11, 0): [0, 1],\n",
       " (11, 1): [0, 1],\n",
       " (12, 0): [0, 1],\n",
       " (12, 1): [0, 1]}"
      ]
     },
     "execution_count": 10,
     "metadata": {},
     "output_type": "execute_result"
    }
   ],
   "source": [
    "ordern = 3\n",
    "depn = {(m, n): list(range(2)) for m in range(1, 13) for n in range(2)}\n",
    "depn"
   ]
  },
  {
   "cell_type": "code",
   "execution_count": 11,
   "id": "7a4af622-2832-42e8-8422-49cad33be470",
   "metadata": {},
   "outputs": [],
   "source": [
    "model = SCSKDE(ordern=ordern)"
   ]
  },
  {
   "cell_type": "code",
   "execution_count": 12,
   "id": "276517cf-9437-402e-975c-f5e4809649b7",
   "metadata": {},
   "outputs": [
    {
     "data": {
      "application/vnd.jupyter.widget-view+json": {
       "model_id": "6f770924dbc848418fd9b032a56c9a72",
       "version_major": 2,
       "version_minor": 0
      },
      "text/plain": [
       "  0%|          | 0/24 [00:00<?, ?it/s]"
      ]
     },
     "metadata": {},
     "output_type": "display_data"
    }
   ],
   "source": [
    "model.fit(X_hist_tr.values, depn, periods=periods_hist)"
   ]
  },
  {
   "cell_type": "markdown",
   "id": "dd6b2cf8-69bc-4c6d-b8d7-0520077ecb04",
   "metadata": {},
   "source": [
    "### Simulate from model"
   ]
  },
  {
   "cell_type": "markdown",
   "id": "03e6c8ec-0fcb-4cf6-aef6-f201e163937f",
   "metadata": {},
   "source": [
    "Define periods array:"
   ]
  },
  {
   "cell_type": "code",
   "execution_count": 13,
   "id": "ae8cbe6f-0071-4c34-bf23-45829148bbdc",
   "metadata": {},
   "outputs": [
    {
     "name": "stdout",
     "output_type": "stream",
     "text": [
      "36500\n"
     ]
    },
    {
     "data": {
      "text/plain": [
       "array([ 1,  1,  1, ..., 12, 12, 12])"
      ]
     },
     "execution_count": 13,
     "metadata": {},
     "output_type": "execute_result"
    }
   ],
   "source": [
    "N_years = 100\n",
    "months = np.arange(1, 13)\n",
    "days_per_month = np.array([31,28,31,30,31,30,31,31,30,31,30,31])\n",
    "periods_stoc = np.repeat(np.repeat(months, days_per_month)[None,:], N_years, axis=0).ravel()\n",
    "print(periods_stoc.size)\n",
    "periods_stoc"
   ]
  },
  {
   "cell_type": "markdown",
   "id": "235e8a90-ef9d-4a1a-a033-82d631be8fc4",
   "metadata": {},
   "source": [
    "Define initial values:"
   ]
  },
  {
   "cell_type": "code",
   "execution_count": 14,
   "id": "e784cf17-2760-4492-b457-a6f940570951",
   "metadata": {},
   "outputs": [],
   "source": [
    "X0 = X_hist_tr.values[:ordern][None]"
   ]
  },
  {
   "cell_type": "markdown",
   "id": "f869e621-9d08-42e5-bc45-ab948bccec4e",
   "metadata": {},
   "source": [
    "Simulate:"
   ]
  },
  {
   "cell_type": "code",
   "execution_count": 15,
   "id": "98883629-d48d-459b-91fa-58a3d1c94ec6",
   "metadata": {},
   "outputs": [
    {
     "data": {
      "application/vnd.jupyter.widget-view+json": {
       "model_id": "89344c2b8efb4043a94dda77f3dfaa1b",
       "version_major": 2,
       "version_minor": 0
      },
      "text/plain": [
       "  0%|          | 0/36497 [00:00<?, ?it/s]"
      ]
     },
     "metadata": {},
     "output_type": "display_data"
    },
    {
     "data": {
      "text/html": [
       "<div>\n",
       "<style scoped>\n",
       "    .dataframe tbody tr th:only-of-type {\n",
       "        vertical-align: middle;\n",
       "    }\n",
       "\n",
       "    .dataframe tbody tr th {\n",
       "        vertical-align: top;\n",
       "    }\n",
       "\n",
       "    .dataframe thead th {\n",
       "        text-align: right;\n",
       "    }\n",
       "</style>\n",
       "<table border=\"1\" class=\"dataframe\">\n",
       "  <thead>\n",
       "    <tr style=\"text-align: right;\">\n",
       "      <th></th>\n",
       "      <th>tmin</th>\n",
       "      <th>tmax</th>\n",
       "    </tr>\n",
       "  </thead>\n",
       "  <tbody>\n",
       "    <tr>\n",
       "      <th>0</th>\n",
       "      <td>-5.000000</td>\n",
       "      <td>1.000000</td>\n",
       "    </tr>\n",
       "    <tr>\n",
       "      <th>1</th>\n",
       "      <td>-6.000000</td>\n",
       "      <td>2.000000</td>\n",
       "    </tr>\n",
       "    <tr>\n",
       "      <th>2</th>\n",
       "      <td>-6.000000</td>\n",
       "      <td>9.000000</td>\n",
       "    </tr>\n",
       "    <tr>\n",
       "      <th>3</th>\n",
       "      <td>2.696804</td>\n",
       "      <td>11.556099</td>\n",
       "    </tr>\n",
       "    <tr>\n",
       "      <th>4</th>\n",
       "      <td>3.359886</td>\n",
       "      <td>9.162113</td>\n",
       "    </tr>\n",
       "  </tbody>\n",
       "</table>\n",
       "</div>"
      ],
      "text/plain": [
       "       tmin       tmax\n",
       "0 -5.000000   1.000000\n",
       "1 -6.000000   2.000000\n",
       "2 -6.000000   9.000000\n",
       "3  2.696804  11.556099\n",
       "4  3.359886   9.162113"
      ]
     },
     "execution_count": 15,
     "metadata": {},
     "output_type": "execute_result"
    }
   ],
   "source": [
    "X_stoc = pd.DataFrame(model.simulate(periods_stoc.size, X0=X0, periods=periods_stoc)[0], columns=X_hist.columns)\n",
    "X_stoc = np.exp(X_stoc) - shift\n",
    "X_stoc.head(5)"
   ]
  },
  {
   "cell_type": "markdown",
   "id": "85cd7d15-5705-46a0-9a2b-fc2cd23cbd04",
   "metadata": {},
   "source": [
    "Calculate empirical CDFs by month for comparison with the historic versions:"
   ]
  },
  {
   "cell_type": "code",
   "execution_count": 16,
   "id": "b11eea72-c7d1-4ad9-aa02-93e8ceae478c",
   "metadata": {},
   "outputs": [
    {
     "data": {
      "text/plain": [
       "array([3100, 3100, 3100, ..., 3100, 3100, 3100])"
      ]
     },
     "execution_count": 16,
     "metadata": {},
     "output_type": "execute_result"
    }
   ],
   "source": [
    "total_days_per_month_stoc = np.bincount(periods_stoc)[1:][periods_stoc-1]\n",
    "total_days_per_month_stoc"
   ]
  },
  {
   "cell_type": "code",
   "execution_count": 17,
   "id": "3e1727da-87bd-4736-a86d-bd5a3f623802",
   "metadata": {},
   "outputs": [
    {
     "data": {
      "text/html": [
       "<div>\n",
       "<style scoped>\n",
       "    .dataframe tbody tr th:only-of-type {\n",
       "        vertical-align: middle;\n",
       "    }\n",
       "\n",
       "    .dataframe tbody tr th {\n",
       "        vertical-align: top;\n",
       "    }\n",
       "\n",
       "    .dataframe thead th {\n",
       "        text-align: right;\n",
       "    }\n",
       "</style>\n",
       "<table border=\"1\" class=\"dataframe\">\n",
       "  <thead>\n",
       "    <tr style=\"text-align: right;\">\n",
       "      <th></th>\n",
       "      <th>tmin</th>\n",
       "      <th>tmax</th>\n",
       "    </tr>\n",
       "  </thead>\n",
       "  <tbody>\n",
       "    <tr>\n",
       "      <th>0</th>\n",
       "      <td>0.003548</td>\n",
       "      <td>0.006452</td>\n",
       "    </tr>\n",
       "    <tr>\n",
       "      <th>1</th>\n",
       "      <td>0.001613</td>\n",
       "      <td>0.020323</td>\n",
       "    </tr>\n",
       "    <tr>\n",
       "      <th>2</th>\n",
       "      <td>0.001613</td>\n",
       "      <td>0.547419</td>\n",
       "    </tr>\n",
       "    <tr>\n",
       "      <th>3</th>\n",
       "      <td>0.364516</td>\n",
       "      <td>0.780000</td>\n",
       "    </tr>\n",
       "    <tr>\n",
       "      <th>4</th>\n",
       "      <td>0.443226</td>\n",
       "      <td>0.558387</td>\n",
       "    </tr>\n",
       "  </tbody>\n",
       "</table>\n",
       "</div>"
      ],
      "text/plain": [
       "       tmin      tmax\n",
       "0  0.003548  0.006452\n",
       "1  0.001613  0.020323\n",
       "2  0.001613  0.547419\n",
       "3  0.364516  0.780000\n",
       "4  0.443226  0.558387"
      ]
     },
     "execution_count": 17,
     "metadata": {},
     "output_type": "execute_result"
    }
   ],
   "source": [
    "ecdf_stoc = X_stoc.groupby(periods_stoc).rank(method='max').div(total_days_per_month_stoc, axis=0)\n",
    "ecdf_stoc.head()"
   ]
  },
  {
   "cell_type": "markdown",
   "id": "e36980de-8305-4254-929f-6686b8789299",
   "metadata": {},
   "source": [
    "### Compare empirical CDFs from historic and stochastic data"
   ]
  },
  {
   "cell_type": "code",
   "execution_count": 18,
   "id": "5ee30fe1-ff64-4ab0-9eed-8286fe4c2abb",
   "metadata": {},
   "outputs": [],
   "source": [
    "m = 12\n",
    "mask_hist = periods_hist==m\n",
    "mask_stoc = periods_stoc==m"
   ]
  },
  {
   "cell_type": "code",
   "execution_count": 19,
   "id": "29774d8a-1875-46ce-8ac1-d443c499350c",
   "metadata": {},
   "outputs": [],
   "source": [
    "ecdf_tmin_hist = pd.DataFrame({'tmin': X_hist['tmin'][mask_hist],\n",
    "                               'ecdf': ecdf_hist['tmin'][mask_hist]}).sort_values('tmin')\n",
    "ecdf_tmax_hist = pd.DataFrame({'tmax': X_hist['tmax'][mask_hist],\n",
    "                               'ecdf': ecdf_hist['tmax'][mask_hist]}).sort_values('tmax')\n",
    "\n",
    "ecdf_tmin_stoc = pd.DataFrame({'tmin': X_stoc['tmin'][mask_stoc], \n",
    "                               'ecdf': ecdf_stoc['tmin'][mask_stoc]}).sort_values('tmin')\n",
    "ecdf_tmax_stoc = pd.DataFrame({'tmax': X_stoc['tmax'][mask_stoc], \n",
    "                               'ecdf': ecdf_stoc['tmax'][mask_stoc]}).sort_values('tmax')"
   ]
  },
  {
   "cell_type": "code",
   "execution_count": 20,
   "id": "06c02361-1d08-41dd-8879-a7f6c3509f7b",
   "metadata": {},
   "outputs": [
    {
     "data": {
      "image/png": "[encoded data removed]",
      "text/plain": [
       "<Figure size 800x600 with 1 Axes>"
      ]
     },
     "metadata": {},
     "output_type": "display_data"
    }
   ],
   "source": [
    "fig, ax = plt.subplots(figsize=(8,6))\n",
    "ecdf_tmin_hist.plot('tmin', 'ecdf', label='tmin hist', ax=ax)\n",
    "ecdf_tmin_stoc.plot('tmin', 'ecdf', label='tmin stoc', ax=ax)\n",
    "ecdf_tmax_hist.plot('tmax', 'ecdf', label='tmax hist', ax=ax)\n",
    "ecdf_tmax_stoc.plot('tmax', 'ecdf', label='tmax stoc', ax=ax)\n",
    "ax.set_xlabel('tmin/tmax')\n",
    "ax.set_title(f'Historic and stochastic ECDFs for tmin and tmax | month {m}');"
   ]
  }
 ],
 "metadata": {
  "kernelspec": {
   "display_name": "Python 3 (ipykernel)",
   "language": "python",
   "name": "python3"
  },
  "language_info": {
   "codemirror_mode": {
    "name": "ipython",
    "version": 3
   },
   "file_extension": ".py",
   "mimetype": "text/x-python",
   "name": "python",
   "nbconvert_exporter": "python",
   "pygments_lexer": "ipython3",
   "version": "3.11.6"
  }
 },
 "nbformat": 4,
 "nbformat_minor": 5
}
