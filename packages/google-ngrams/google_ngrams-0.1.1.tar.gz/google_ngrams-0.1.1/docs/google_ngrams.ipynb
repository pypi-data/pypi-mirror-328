{
 "cells": [
  {
   "cell_type": "code",
   "execution_count": 1,
   "metadata": {},
   "outputs": [],
   "source": [
    "from google_ngrams import google_ngram, TimeSeries"
   ]
  },
  {
   "cell_type": "markdown",
   "metadata": {},
   "source": [
    "The `google_ngram` function supports different varieties of English (e.g., British, American) and allows aggregation by year or decade. Word forms (even a single word form) must be formatted as a list:\n",
    "\n",
    "The following would return counts for the word x-ray in US English by year:"
   ]
  },
  {
   "cell_type": "code",
   "execution_count": 2,
   "metadata": {},
   "outputs": [
    {
     "name": "stdout",
     "output_type": "stream",
     "text": [
      "\n",
      "Accessing repository. For larger ones\n",
      "(e.g., ngrams containing 2 or more words).\n",
      "This may take a few minutes...\n",
      "\n"
     ]
    }
   ],
   "source": [
    "xray_year = google_ngram(word_forms = [\"x-ray\"], variety = \"us\", by = \"year\")"
   ]
  },
  {
   "cell_type": "code",
   "execution_count": 276,
   "metadata": {},
   "outputs": [],
   "source": [
    "\n",
    "\n",
    "def google_ngram(word_forms,\n",
    "                 variety=\"eng\",\n",
    "                 by=\"decade\"):\n",
    "    variety_types = [\"eng\", \"gb\", \"us\", \"fiction\"]\n",
    "    if variety not in variety_types:\n",
    "        raise ValueError(\"\"\"variety_types\n",
    "                         Invalid variety type. Expected one of: %s\n",
    "                         \"\"\" % variety_types)\n",
    "    by_types = [\"year\", \"decade\"]\n",
    "    if by not in by_types:\n",
    "        raise ValueError(\"\"\"variety_types\n",
    "                         Invalid by type. Expected one of: %s\n",
    "                         \"\"\" % by_types)\n",
    "    word_forms = [re.sub(r'([a-zA-Z0-9])-([a-zA-Z0-9])',\n",
    "                         r'\\1 - \\2', wf) for wf in word_forms]\n",
    "    word_forms = [wf.strip() for wf in word_forms]\n",
    "    n = [len(re.findall(r'\\S+', wf)) for wf in word_forms]\n",
    "    n = list(set(n))\n",
    "\n",
    "    if len(n) > 1:\n",
    "        raise ValueError(\"\"\"Check spelling.\n",
    "                         Word forms should be lemmas of the same word\n",
    "                         (e.g. 'teenager' and 'teenagers'\n",
    "                         or 'walk', 'walks' and 'walked'\n",
    "                         \"\"\")\n",
    "    if n[0] > 5:\n",
    "        raise ValueError(\"\"\"Ngrams can be a maximum of 5 tokens.\n",
    "                         Hyphenated words are split and include the hyphen,\n",
    "                         so 'x-ray' would count as 3 tokens.\n",
    "                         \"\"\")\n",
    "\n",
    "    gram = [wf[:2] if n[0] > 1 else wf[:1] for wf in word_forms]\n",
    "    gram = list(set([g.lower() for g in gram]))\n",
    "\n",
    "    if len(gram) > 1:\n",
    "        raise ValueError(\"\"\"Check spelling.\n",
    "                         Word forms should be lemmas of the same word\n",
    "                         (e.g. 'teenager' and 'teenagers'\n",
    "                         or 'walk', 'walks' and 'walked'\n",
    "                         \"\"\")\n",
    "\n",
    "    if re.match(r'^[a-z][^a-z]', gram[0]):\n",
    "        gram[0] = re.sub(r'[^a-z]', '_', gram[0])\n",
    "    if re.match(r'^[0-9]', gram[0]):\n",
    "        gram[0] = gram[0][:1]\n",
    "    if re.match(r'^[\\W]', gram[0]):\n",
    "        gram[0] = \"punctuation\"\n",
    "\n",
    "    if any(re.match(r'^[ßæðøłœıƒþȥəħŋªºɣđĳɔȝⅰʊʌʔɛȡɋⅱʃɇɑⅲ]', g) for g in gram):\n",
    "        gram[0] = \"other\"\n",
    "\n",
    "    gram[0] = gram[0].encode('latin-1', 'replace').decode('latin-1')\n",
    "\n",
    "    if variety == \"eng\":\n",
    "        repo = f\"http://storage.googleapis.com/books/ngrams/books/googlebooks-eng-all-{n[0]}gram-20120701-{gram[0]}.gz\"  # noqa: E501\n",
    "    else:\n",
    "        repo = f\"http://storage.googleapis.com/books/ngrams/books/googlebooks-eng-{variety}-all-{n[0]}gram-20120701-{gram[0]}.gz\"  # noqa: E501\n",
    "\n",
    "    print(dedent(\n",
    "        \"\"\"\n",
    "        Accessing repository. For larger ones\n",
    "        (e.g., ngrams containing 2 or more words).\n",
    "        This may take a few minutes. A progress bar should appear shortly...\n",
    "        \"\"\"\n",
    "    ))\n",
    "\n",
    "    word_forms = [re.sub(\n",
    "        r'(\\.|\\?|\\$|\\^|\\)|\\(|\\}|\\{|\\]|\\[|\\*)',\n",
    "        r'\\\\\\1', wf\n",
    "        ) for wf in word_forms]\n",
    "\n",
    "    grep_words = \"|\".join([f\"^{wf}$\" for wf in word_forms])\n",
    "\n",
    "    # Read the data from the google repository and format\n",
    "    df = pl.scan_csv(repo, separator='\\t', has_header=False)\n",
    "    filtered_df = df.filter(\n",
    "        pl.col(\"column_1\").str.contains(r\"(?i)\" + grep_words)\n",
    "        )\n",
    "    all_grams = filtered_df.collect()\n",
    "\n",
    "    all_grams = (\n",
    "        all_grams\n",
    "        .rename(\n",
    "            {\"column_1\": \"Token\",\n",
    "             \"column_2\": \"Year\",\n",
    "             \"column_3\": \"AF\"}\n",
    "             )\n",
    "        ).drop(\"column_4\")\n",
    "\n",
    "    # read totals\n",
    "    if variety == \"eng\":\n",
    "        f_path = \"/Users/davidwestbrown/Documents/GitHub/google_ngrams/google_ngrams/data/googlebooks_eng_all_totalcounts_20120701.parquet\"\n",
    "    elif variety == \"gb\":\n",
    "        f_path = \"/Users/davidwestbrown/Documents/GitHub/google_ngrams/google_ngrams/data/googlebooks_gb_all_totalcounts_20120701.parquet\"\n",
    "    elif variety == \"us\":\n",
    "        f_path = \"/Users/davidwestbrown/Documents/GitHub/google_ngrams/google_ngrams/data/googlebooks_us_all_totalcounts_20120701.parquet\"\n",
    "    total_counts = pl.read_parquet(f_path)\n",
    "    total_counts = total_counts.cast({\"Year\": pl.UInt32,\n",
    "                                      \"Total\": pl.UInt64,\n",
    "                                      \"Pages\": pl.UInt64,\n",
    "                                      \"Volumes\": pl.UInt64})\n",
    "    # format totals, fill missing data, and sum\n",
    "    total_counts = total_counts.cast({\n",
    "        \"Year\": pl.UInt32,\n",
    "        \"Total\": pl.UInt64,\n",
    "        \"Pages\": pl.UInt64,\n",
    "        \"Volumes\": pl.UInt64\n",
    "        })\n",
    "\n",
    "    total_counts = (\n",
    "        total_counts\n",
    "        .with_columns(\n",
    "            pl.col(\"Year\")\n",
    "            .cast(pl.String).str.to_datetime(\"%Y\")\n",
    "            )\n",
    "        .sort(\"Year\")\n",
    "        .upsample(time_column=\"Year\", every=\"1y\")\n",
    "        .with_columns(\n",
    "            pl.col([\"Total\", \"Pages\", \"Volumes\"])\n",
    "            .fill_null(strategy=\"zero\")\n",
    "            )\n",
    "            )\n",
    "    total_counts = (\n",
    "        total_counts\n",
    "        .group_by_dynamic(\n",
    "            \"Year\", every=\"1y\"\n",
    "        ).agg(pl.col(\"Total\").sum())\n",
    "    )\n",
    "\n",
    "    # sum token totals, convert to datetime and fill in missing years\n",
    "    sum_tokens = all_grams.group_by(\"Year\", maintain_order=True).sum()\n",
    "    sum_tokens = (\n",
    "        sum_tokens\n",
    "        .with_columns(\n",
    "            pl.col(\"Year\")\n",
    "            .cast(pl.String).str.to_datetime(\"%Y\")\n",
    "            )\n",
    "        .sort(\"Year\")\n",
    "        .upsample(time_column=\"Year\", every=\"1y\")\n",
    "        .with_columns(\n",
    "                pl.col(\"AF\")\n",
    "                .fill_null(strategy=\"zero\")\n",
    "                )\n",
    "        ).drop(\"Token\")\n",
    "    # join with totals\n",
    "    sum_tokens = sum_tokens.join(total_counts, on=\"Year\")\n",
    "\n",
    "    if by == \"decade\":\n",
    "        sum_tokens = (\n",
    "            sum_tokens\n",
    "            .group_by_dynamic(\"Year\", every=\"10y\")\n",
    "            .agg(pl.col([\"AF\", \"Total\"]).sum())\n",
    "        )\n",
    "    # normalize RF per million tokens\n",
    "    sum_tokens = (\n",
    "        sum_tokens\n",
    "        .with_columns(\n",
    "            RF=pl.col(\"AF\").truediv(\"Total\").mul(1000000)\n",
    "            )\n",
    "        .with_columns(\n",
    "            pl.col(\"RF\").fill_nan(0)\n",
    "            )\n",
    "    )\n",
    "    sum_tokens.insert_column(1, (pl.lit(word_forms)).alias(\"Token\"))\n",
    "\n",
    "    if by == \"decade\":\n",
    "        sum_tokens = sum_tokens.rename({\"Year\": \"Decade\"})\n",
    "\n",
    "    return sum_tokens\n"
   ]
  },
  {
   "cell_type": "code",
   "execution_count": 279,
   "metadata": {},
   "outputs": [
    {
     "name": "stdout",
     "output_type": "stream",
     "text": [
      "\n",
      "Accessing repository. For larger ones\n",
      "(e.g., ngrams containing 2 or more words).\n",
      "This may take a few minutes. A progress bar should appear shortly...\n",
      "\n"
     ]
    }
   ],
   "source": [
    "test = [\"x-ray\", \"x-rays\"]\n",
    "df = google_ngram(word_forms=test)"
   ]
  },
  {
   "cell_type": "code",
   "execution_count": 282,
   "metadata": {},
   "outputs": [
    {
     "data": {
      "text/html": [
       "<div><style>\n",
       ".dataframe > thead > tr,\n",
       ".dataframe > tbody > tr {\n",
       "  text-align: right;\n",
       "  white-space: pre-wrap;\n",
       "}\n",
       "</style>\n",
       "<small>shape: (30, 5)</small><table border=\"1\" class=\"dataframe\"><thead><tr><th>Decade</th><th>Token</th><th>AF</th><th>Total</th><th>RF</th></tr><tr><td>datetime[μs]</td><td>list[str]</td><td>i64</td><td>u64</td><td>f64</td></tr></thead><tbody><tr><td>1710-01-01 00:00:00</td><td>[&quot;x - ray&quot;, &quot;x - rays&quot;]</td><td>2</td><td>4957704</td><td>0.403413</td></tr><tr><td>1720-01-01 00:00:00</td><td>[&quot;x - ray&quot;, &quot;x - rays&quot;]</td><td>0</td><td>100055757</td><td>0.0</td></tr><tr><td>1730-01-01 00:00:00</td><td>[&quot;x - ray&quot;, &quot;x - rays&quot;]</td><td>0</td><td>106672595</td><td>0.0</td></tr><tr><td>1740-01-01 00:00:00</td><td>[&quot;x - ray&quot;, &quot;x - rays&quot;]</td><td>0</td><td>114333194</td><td>0.0</td></tr><tr><td>1750-01-01 00:00:00</td><td>[&quot;x - ray&quot;, &quot;x - rays&quot;]</td><td>3</td><td>174238442</td><td>0.017218</td></tr><tr><td>&hellip;</td><td>&hellip;</td><td>&hellip;</td><td>&hellip;</td><td>&hellip;</td></tr><tr><td>1960-01-01 00:00:00</td><td>[&quot;x - ray&quot;, &quot;x - rays&quot;]</td><td>642661</td><td>31951305299</td><td>20.113764</td></tr><tr><td>1970-01-01 00:00:00</td><td>[&quot;x - ray&quot;, &quot;x - rays&quot;]</td><td>818220</td><td>41978793014</td><td>19.49127</td></tr><tr><td>1980-01-01 00:00:00</td><td>[&quot;x - ray&quot;, &quot;x - rays&quot;]</td><td>1101002</td><td>54316937799</td><td>20.269957</td></tr><tr><td>1990-01-01 00:00:00</td><td>[&quot;x - ray&quot;, &quot;x - rays&quot;]</td><td>1351957</td><td>82491900993</td><td>16.388966</td></tr><tr><td>2000-01-01 00:00:00</td><td>[&quot;x - ray&quot;, &quot;x - rays&quot;]</td><td>1620323</td><td>128822588930</td><td>12.577942</td></tr></tbody></table></div>"
      ],
      "text/plain": [
       "shape: (30, 5)\n",
       "┌─────────────────────┬─────────────────────────┬─────────┬──────────────┬───────────┐\n",
       "│ Decade              ┆ Token                   ┆ AF      ┆ Total        ┆ RF        │\n",
       "│ ---                 ┆ ---                     ┆ ---     ┆ ---          ┆ ---       │\n",
       "│ datetime[μs]        ┆ list[str]               ┆ i64     ┆ u64          ┆ f64       │\n",
       "╞═════════════════════╪═════════════════════════╪═════════╪══════════════╪═══════════╡\n",
       "│ 1710-01-01 00:00:00 ┆ [\"x - ray\", \"x - rays\"] ┆ 2       ┆ 4957704      ┆ 0.403413  │\n",
       "│ 1720-01-01 00:00:00 ┆ [\"x - ray\", \"x - rays\"] ┆ 0       ┆ 100055757    ┆ 0.0       │\n",
       "│ 1730-01-01 00:00:00 ┆ [\"x - ray\", \"x - rays\"] ┆ 0       ┆ 106672595    ┆ 0.0       │\n",
       "│ 1740-01-01 00:00:00 ┆ [\"x - ray\", \"x - rays\"] ┆ 0       ┆ 114333194    ┆ 0.0       │\n",
       "│ 1750-01-01 00:00:00 ┆ [\"x - ray\", \"x - rays\"] ┆ 3       ┆ 174238442    ┆ 0.017218  │\n",
       "│ …                   ┆ …                       ┆ …       ┆ …            ┆ …         │\n",
       "│ 1960-01-01 00:00:00 ┆ [\"x - ray\", \"x - rays\"] ┆ 642661  ┆ 31951305299  ┆ 20.113764 │\n",
       "│ 1970-01-01 00:00:00 ┆ [\"x - ray\", \"x - rays\"] ┆ 818220  ┆ 41978793014  ┆ 19.49127  │\n",
       "│ 1980-01-01 00:00:00 ┆ [\"x - ray\", \"x - rays\"] ┆ 1101002 ┆ 54316937799  ┆ 20.269957 │\n",
       "│ 1990-01-01 00:00:00 ┆ [\"x - ray\", \"x - rays\"] ┆ 1351957 ┆ 82491900993  ┆ 16.388966 │\n",
       "│ 2000-01-01 00:00:00 ┆ [\"x - ray\", \"x - rays\"] ┆ 1620323 ┆ 128822588930 ┆ 12.577942 │\n",
       "└─────────────────────┴─────────────────────────┴─────────┴──────────────┴───────────┘"
      ]
     },
     "execution_count": 282,
     "metadata": {},
     "output_type": "execute_result"
    }
   ],
   "source": [
    "df"
   ]
  },
  {
   "cell_type": "code",
   "execution_count": null,
   "metadata": {},
   "outputs": [],
   "source": []
  },
  {
   "cell_type": "code",
   "execution_count": 91,
   "metadata": {},
   "outputs": [],
   "source": [
    "word_forms = [wf.strip() for wf in word_forms]"
   ]
  },
  {
   "cell_type": "code",
   "execution_count": 92,
   "metadata": {},
   "outputs": [
    {
     "data": {
      "text/plain": [
       "['quiz', 'quizzes']"
      ]
     },
     "execution_count": 92,
     "metadata": {},
     "output_type": "execute_result"
    }
   ],
   "source": [
    "word_forms"
   ]
  },
  {
   "cell_type": "code",
   "execution_count": 93,
   "metadata": {},
   "outputs": [],
   "source": [
    "n = [len(re.findall(r'\\S+', wf)) for wf in word_forms]\n",
    "n = list(set(n))"
   ]
  },
  {
   "cell_type": "code",
   "execution_count": 94,
   "metadata": {},
   "outputs": [
    {
     "data": {
      "text/plain": [
       "[1]"
      ]
     },
     "execution_count": 94,
     "metadata": {},
     "output_type": "execute_result"
    }
   ],
   "source": [
    "n"
   ]
  },
  {
   "cell_type": "code",
   "execution_count": 95,
   "metadata": {},
   "outputs": [],
   "source": [
    "gram = [wf[:2] if n[0] > 1 else wf[:1] for wf in word_forms]"
   ]
  },
  {
   "cell_type": "code",
   "execution_count": 96,
   "metadata": {},
   "outputs": [],
   "source": [
    "gram = list(set([g.lower() for g in gram]))"
   ]
  },
  {
   "cell_type": "code",
   "execution_count": 97,
   "metadata": {},
   "outputs": [
    {
     "data": {
      "text/plain": [
       "['q']"
      ]
     },
     "execution_count": 97,
     "metadata": {},
     "output_type": "execute_result"
    }
   ],
   "source": [
    "gram"
   ]
  },
  {
   "cell_type": "code",
   "execution_count": 98,
   "metadata": {},
   "outputs": [],
   "source": [
    "repo = f\"http://storage.googleapis.com/books/ngrams/books/googlebooks-eng-all-{n[0]}gram-20120701-{gram[0]}.gz\""
   ]
  },
  {
   "cell_type": "code",
   "execution_count": 99,
   "metadata": {},
   "outputs": [
    {
     "data": {
      "text/plain": [
       "'http://storage.googleapis.com/books/ngrams/books/googlebooks-eng-all-1gram-20120701-q.gz'"
      ]
     },
     "execution_count": 99,
     "metadata": {},
     "output_type": "execute_result"
    }
   ],
   "source": [
    "repo"
   ]
  },
  {
   "cell_type": "code",
   "execution_count": 100,
   "metadata": {},
   "outputs": [],
   "source": [
    "word_forms = [re.sub(\n",
    "    r'(\\.|\\?|\\$|\\^|\\)|\\(|\\}|\\{|\\]|\\[|\\*)',\n",
    "    r'\\\\\\1', wf\n",
    "    ) for wf in word_forms]\n",
    "grep_words = \"|\".join([f\"^{wf}$\" for wf in word_forms])"
   ]
  },
  {
   "cell_type": "code",
   "execution_count": 101,
   "metadata": {},
   "outputs": [],
   "source": [
    "df = pl.scan_csv(repo, separator='\\t', has_header=False)"
   ]
  },
  {
   "cell_type": "code",
   "execution_count": 102,
   "metadata": {},
   "outputs": [],
   "source": [
    "filtered_df = df.filter(pl.col(\"column_1\").str.contains(r\"(?i)\" + grep_words))"
   ]
  },
  {
   "cell_type": "code",
   "execution_count": 205,
   "metadata": {},
   "outputs": [],
   "source": [
    "all_grams = filtered_df.collect()"
   ]
  },
  {
   "cell_type": "code",
   "execution_count": 206,
   "metadata": {},
   "outputs": [],
   "source": [
    "all_grams = all_grams.rename({\"column_1\": \"Token\", \"column_2\": \"Year\", \"column_3\": \"AF\"}).drop(\"column_4\")"
   ]
  },
  {
   "cell_type": "code",
   "execution_count": 229,
   "metadata": {},
   "outputs": [],
   "source": [
    "# all_grams = all_grams.with_columns(pl.col(\"Token\").str.to_lowercase())\n",
    "sum_tokens = all_grams.group_by(\"Year\", maintain_order=True).sum()"
   ]
  },
  {
   "cell_type": "code",
   "execution_count": 230,
   "metadata": {},
   "outputs": [],
   "source": [
    "sum_tokens = (\n",
    "    sum_tokens\n",
    "    .with_columns(\n",
    "        pl.col(\"Year\")\n",
    "        .cast(pl.String).str.to_datetime(\"%Y\")\n",
    "        )\n",
    "    .sort(\"Year\")\n",
    "    .upsample(time_column=\"Year\", every=\"1y\")\n",
    "    .with_columns(\n",
    "        pl.col(\"AF\")\n",
    "        .fill_null(strategy=\"zero\")\n",
    "        )\n",
    ").drop(\"Token\")"
   ]
  },
  {
   "cell_type": "code",
   "execution_count": 231,
   "metadata": {},
   "outputs": [
    {
     "data": {
      "text/html": [
       "<div><style>\n",
       ".dataframe > thead > tr,\n",
       ".dataframe > tbody > tr {\n",
       "  text-align: right;\n",
       "  white-space: pre-wrap;\n",
       "}\n",
       "</style>\n",
       "<small>shape: (494, 2)</small><table border=\"1\" class=\"dataframe\"><thead><tr><th>Year</th><th>AF</th></tr><tr><td>datetime[μs]</td><td>i64</td></tr></thead><tbody><tr><td>1515-01-01 00:00:00</td><td>1</td></tr><tr><td>1516-01-01 00:00:00</td><td>0</td></tr><tr><td>1517-01-01 00:00:00</td><td>0</td></tr><tr><td>1518-01-01 00:00:00</td><td>0</td></tr><tr><td>1519-01-01 00:00:00</td><td>0</td></tr><tr><td>&hellip;</td><td>&hellip;</td></tr><tr><td>2004-01-01 00:00:00</td><td>63106</td></tr><tr><td>2005-01-01 00:00:00</td><td>60038</td></tr><tr><td>2006-01-01 00:00:00</td><td>57231</td></tr><tr><td>2007-01-01 00:00:00</td><td>58844</td></tr><tr><td>2008-01-01 00:00:00</td><td>55118</td></tr></tbody></table></div>"
      ],
      "text/plain": [
       "shape: (494, 2)\n",
       "┌─────────────────────┬───────┐\n",
       "│ Year                ┆ AF    │\n",
       "│ ---                 ┆ ---   │\n",
       "│ datetime[μs]        ┆ i64   │\n",
       "╞═════════════════════╪═══════╡\n",
       "│ 1515-01-01 00:00:00 ┆ 1     │\n",
       "│ 1516-01-01 00:00:00 ┆ 0     │\n",
       "│ 1517-01-01 00:00:00 ┆ 0     │\n",
       "│ 1518-01-01 00:00:00 ┆ 0     │\n",
       "│ 1519-01-01 00:00:00 ┆ 0     │\n",
       "│ …                   ┆ …     │\n",
       "│ 2004-01-01 00:00:00 ┆ 63106 │\n",
       "│ 2005-01-01 00:00:00 ┆ 60038 │\n",
       "│ 2006-01-01 00:00:00 ┆ 57231 │\n",
       "│ 2007-01-01 00:00:00 ┆ 58844 │\n",
       "│ 2008-01-01 00:00:00 ┆ 55118 │\n",
       "└─────────────────────┴───────┘"
      ]
     },
     "execution_count": 231,
     "metadata": {},
     "output_type": "execute_result"
    }
   ],
   "source": [
    "sum_tokens"
   ]
  },
  {
   "cell_type": "code",
   "execution_count": 216,
   "metadata": {},
   "outputs": [],
   "source": [
    "total_counts = pl.read_parquet(\"/Users/davidwestbrown/Documents/GitHub/google_ngrams/google_ngrams/data/googlebooks_eng_all_totalcounts_20120701.parquet\")"
   ]
  },
  {
   "cell_type": "code",
   "execution_count": 217,
   "metadata": {},
   "outputs": [],
   "source": [
    "total_counts = total_counts.cast({\"Year\": pl.UInt32, \"Total\": pl.UInt64, \"Pages\": pl.UInt64, \"Volumes\": pl.UInt64})\n",
    "total_counts = (\n",
    "    total_counts\n",
    "    .with_columns(\n",
    "        pl.col(\"Year\")\n",
    "        .cast(pl.String).str.to_datetime(\"%Y\")\n",
    "        )\n",
    "    .sort(\"Year\")\n",
    "    .upsample(time_column=\"Year\", every=\"1y\")\n",
    "    .with_columns(\n",
    "        pl.col([\"Total\", \"Pages\", \"Volumes\"])\n",
    "        .fill_null(strategy=\"zero\")\n",
    "        )\n",
    ")"
   ]
  },
  {
   "cell_type": "code",
   "execution_count": 218,
   "metadata": {},
   "outputs": [
    {
     "data": {
      "text/html": [
       "<div><style>\n",
       ".dataframe > thead > tr,\n",
       ".dataframe > tbody > tr {\n",
       "  text-align: right;\n",
       "  white-space: pre-wrap;\n",
       "}\n",
       "</style>\n",
       "<small>shape: (504, 4)</small><table border=\"1\" class=\"dataframe\"><thead><tr><th>Year</th><th>Total</th><th>Pages</th><th>Volumes</th></tr><tr><td>datetime[μs]</td><td>u64</td><td>u64</td><td>u64</td></tr></thead><tbody><tr><td>1505-01-01 00:00:00</td><td>32059</td><td>231</td><td>1</td></tr><tr><td>1506-01-01 00:00:00</td><td>0</td><td>0</td><td>0</td></tr><tr><td>1507-01-01 00:00:00</td><td>49586</td><td>477</td><td>1</td></tr><tr><td>1508-01-01 00:00:00</td><td>0</td><td>0</td><td>0</td></tr><tr><td>1509-01-01 00:00:00</td><td>0</td><td>0</td><td>0</td></tr><tr><td>&hellip;</td><td>&hellip;</td><td>&hellip;</td><td>&hellip;</td></tr><tr><td>2004-01-01 00:00:00</td><td>14705541576</td><td>73346714</td><td>139616</td></tr><tr><td>2005-01-01 00:00:00</td><td>14425183957</td><td>72756812</td><td>138132</td></tr><tr><td>2006-01-01 00:00:00</td><td>15310495914</td><td>77883896</td><td>148342</td></tr><tr><td>2007-01-01 00:00:00</td><td>16206118071</td><td>82969746</td><td>155472</td></tr><tr><td>2008-01-01 00:00:00</td><td>19482936409</td><td>108811006</td><td>206272</td></tr></tbody></table></div>"
      ],
      "text/plain": [
       "shape: (504, 4)\n",
       "┌─────────────────────┬─────────────┬───────────┬─────────┐\n",
       "│ Year                ┆ Total       ┆ Pages     ┆ Volumes │\n",
       "│ ---                 ┆ ---         ┆ ---       ┆ ---     │\n",
       "│ datetime[μs]        ┆ u64         ┆ u64       ┆ u64     │\n",
       "╞═════════════════════╪═════════════╪═══════════╪═════════╡\n",
       "│ 1505-01-01 00:00:00 ┆ 32059       ┆ 231       ┆ 1       │\n",
       "│ 1506-01-01 00:00:00 ┆ 0           ┆ 0         ┆ 0       │\n",
       "│ 1507-01-01 00:00:00 ┆ 49586       ┆ 477       ┆ 1       │\n",
       "│ 1508-01-01 00:00:00 ┆ 0           ┆ 0         ┆ 0       │\n",
       "│ 1509-01-01 00:00:00 ┆ 0           ┆ 0         ┆ 0       │\n",
       "│ …                   ┆ …           ┆ …         ┆ …       │\n",
       "│ 2004-01-01 00:00:00 ┆ 14705541576 ┆ 73346714  ┆ 139616  │\n",
       "│ 2005-01-01 00:00:00 ┆ 14425183957 ┆ 72756812  ┆ 138132  │\n",
       "│ 2006-01-01 00:00:00 ┆ 15310495914 ┆ 77883896  ┆ 148342  │\n",
       "│ 2007-01-01 00:00:00 ┆ 16206118071 ┆ 82969746  ┆ 155472  │\n",
       "│ 2008-01-01 00:00:00 ┆ 19482936409 ┆ 108811006 ┆ 206272  │\n",
       "└─────────────────────┴─────────────┴───────────┴─────────┘"
      ]
     },
     "execution_count": 218,
     "metadata": {},
     "output_type": "execute_result"
    }
   ],
   "source": [
    "total_counts = total_counts.group_by_dynamic(\"Year\", every=\"1y\").agg(pl.col(\"Total\").sum())"
   ]
  },
  {
   "cell_type": "code",
   "execution_count": 220,
   "metadata": {},
   "outputs": [
    {
     "data": {
      "text/html": [
       "<div><style>\n",
       ".dataframe > thead > tr,\n",
       ".dataframe > tbody > tr {\n",
       "  text-align: right;\n",
       "  white-space: pre-wrap;\n",
       "}\n",
       "</style>\n",
       "<small>shape: (504, 2)</small><table border=\"1\" class=\"dataframe\"><thead><tr><th>Year</th><th>Total</th></tr><tr><td>datetime[μs]</td><td>u64</td></tr></thead><tbody><tr><td>1505-01-01 00:00:00</td><td>32059</td></tr><tr><td>1506-01-01 00:00:00</td><td>0</td></tr><tr><td>1507-01-01 00:00:00</td><td>49586</td></tr><tr><td>1508-01-01 00:00:00</td><td>0</td></tr><tr><td>1509-01-01 00:00:00</td><td>0</td></tr><tr><td>&hellip;</td><td>&hellip;</td></tr><tr><td>2004-01-01 00:00:00</td><td>14705541576</td></tr><tr><td>2005-01-01 00:00:00</td><td>14425183957</td></tr><tr><td>2006-01-01 00:00:00</td><td>15310495914</td></tr><tr><td>2007-01-01 00:00:00</td><td>16206118071</td></tr><tr><td>2008-01-01 00:00:00</td><td>19482936409</td></tr></tbody></table></div>"
      ],
      "text/plain": [
       "shape: (504, 2)\n",
       "┌─────────────────────┬─────────────┐\n",
       "│ Year                ┆ Total       │\n",
       "│ ---                 ┆ ---         │\n",
       "│ datetime[μs]        ┆ u64         │\n",
       "╞═════════════════════╪═════════════╡\n",
       "│ 1505-01-01 00:00:00 ┆ 32059       │\n",
       "│ 1506-01-01 00:00:00 ┆ 0           │\n",
       "│ 1507-01-01 00:00:00 ┆ 49586       │\n",
       "│ 1508-01-01 00:00:00 ┆ 0           │\n",
       "│ 1509-01-01 00:00:00 ┆ 0           │\n",
       "│ …                   ┆ …           │\n",
       "│ 2004-01-01 00:00:00 ┆ 14705541576 │\n",
       "│ 2005-01-01 00:00:00 ┆ 14425183957 │\n",
       "│ 2006-01-01 00:00:00 ┆ 15310495914 │\n",
       "│ 2007-01-01 00:00:00 ┆ 16206118071 │\n",
       "│ 2008-01-01 00:00:00 ┆ 19482936409 │\n",
       "└─────────────────────┴─────────────┘"
      ]
     },
     "execution_count": 220,
     "metadata": {},
     "output_type": "execute_result"
    }
   ],
   "source": [
    "total_counts"
   ]
  },
  {
   "cell_type": "code",
   "execution_count": 232,
   "metadata": {},
   "outputs": [],
   "source": [
    "sum_tokens = sum_tokens.join(total_counts, on=\"Year\")"
   ]
  },
  {
   "cell_type": "code",
   "execution_count": 234,
   "metadata": {},
   "outputs": [
    {
     "data": {
      "text/html": [
       "<div><style>\n",
       ".dataframe > thead > tr,\n",
       ".dataframe > tbody > tr {\n",
       "  text-align: right;\n",
       "  white-space: pre-wrap;\n",
       "}\n",
       "</style>\n",
       "<small>shape: (494, 3)</small><table border=\"1\" class=\"dataframe\"><thead><tr><th>Year</th><th>AF</th><th>Total</th></tr><tr><td>datetime[μs]</td><td>i64</td><td>u64</td></tr></thead><tbody><tr><td>1515-01-01 00:00:00</td><td>1</td><td>289011</td></tr><tr><td>1516-01-01 00:00:00</td><td>0</td><td>0</td></tr><tr><td>1517-01-01 00:00:00</td><td>0</td><td>0</td></tr><tr><td>1518-01-01 00:00:00</td><td>0</td><td>0</td></tr><tr><td>1519-01-01 00:00:00</td><td>0</td><td>0</td></tr><tr><td>&hellip;</td><td>&hellip;</td><td>&hellip;</td></tr><tr><td>2004-01-01 00:00:00</td><td>63106</td><td>14705541576</td></tr><tr><td>2005-01-01 00:00:00</td><td>60038</td><td>14425183957</td></tr><tr><td>2006-01-01 00:00:00</td><td>57231</td><td>15310495914</td></tr><tr><td>2007-01-01 00:00:00</td><td>58844</td><td>16206118071</td></tr><tr><td>2008-01-01 00:00:00</td><td>55118</td><td>19482936409</td></tr></tbody></table></div>"
      ],
      "text/plain": [
       "shape: (494, 3)\n",
       "┌─────────────────────┬───────┬─────────────┐\n",
       "│ Year                ┆ AF    ┆ Total       │\n",
       "│ ---                 ┆ ---   ┆ ---         │\n",
       "│ datetime[μs]        ┆ i64   ┆ u64         │\n",
       "╞═════════════════════╪═══════╪═════════════╡\n",
       "│ 1515-01-01 00:00:00 ┆ 1     ┆ 289011      │\n",
       "│ 1516-01-01 00:00:00 ┆ 0     ┆ 0           │\n",
       "│ 1517-01-01 00:00:00 ┆ 0     ┆ 0           │\n",
       "│ 1518-01-01 00:00:00 ┆ 0     ┆ 0           │\n",
       "│ 1519-01-01 00:00:00 ┆ 0     ┆ 0           │\n",
       "│ …                   ┆ …     ┆ …           │\n",
       "│ 2004-01-01 00:00:00 ┆ 63106 ┆ 14705541576 │\n",
       "│ 2005-01-01 00:00:00 ┆ 60038 ┆ 14425183957 │\n",
       "│ 2006-01-01 00:00:00 ┆ 57231 ┆ 15310495914 │\n",
       "│ 2007-01-01 00:00:00 ┆ 58844 ┆ 16206118071 │\n",
       "│ 2008-01-01 00:00:00 ┆ 55118 ┆ 19482936409 │\n",
       "└─────────────────────┴───────┴─────────────┘"
      ]
     },
     "execution_count": 234,
     "metadata": {},
     "output_type": "execute_result"
    }
   ],
   "source": [
    "sum_tokens"
   ]
  },
  {
   "cell_type": "code",
   "execution_count": null,
   "metadata": {},
   "outputs": [],
   "source": [
    "sum_tokens = sum_tokens.group_by_dynamic(\"Year\", every=\"10y\").agg(pl.col([\"AF\", \"Total\"]).sum())"
   ]
  },
  {
   "cell_type": "code",
   "execution_count": 240,
   "metadata": {},
   "outputs": [
    {
     "data": {
      "text/html": [
       "<div><style>\n",
       ".dataframe > thead > tr,\n",
       ".dataframe > tbody > tr {\n",
       "  text-align: right;\n",
       "  white-space: pre-wrap;\n",
       "}\n",
       "</style>\n",
       "<small>shape: (50, 5)</small><table border=\"1\" class=\"dataframe\"><thead><tr><th>Year</th><th>Token</th><th>AF</th><th>Total</th><th>RF</th></tr><tr><td>datetime[μs]</td><td>list[str]</td><td>i64</td><td>u64</td><td>f64</td></tr></thead><tbody><tr><td>1510-01-01 00:00:00</td><td>[&quot;quiz&quot;, &quot;quizzes&quot;]</td><td>1</td><td>289011</td><td>3.460076</td></tr><tr><td>1520-01-01 00:00:00</td><td>[&quot;quiz&quot;, &quot;quizzes&quot;]</td><td>0</td><td>346894</td><td>0.0</td></tr><tr><td>1530-01-01 00:00:00</td><td>[&quot;quiz&quot;, &quot;quizzes&quot;]</td><td>0</td><td>0</td><td>0.0</td></tr><tr><td>1540-01-01 00:00:00</td><td>[&quot;quiz&quot;, &quot;quizzes&quot;]</td><td>0</td><td>5272</td><td>0.0</td></tr><tr><td>1550-01-01 00:00:00</td><td>[&quot;quiz&quot;, &quot;quizzes&quot;]</td><td>0</td><td>0</td><td>0.0</td></tr><tr><td>&hellip;</td><td>&hellip;</td><td>&hellip;</td><td>&hellip;</td><td>&hellip;</td></tr><tr><td>1960-01-01 00:00:00</td><td>[&quot;quiz&quot;, &quot;quizzes&quot;]</td><td>40030</td><td>31951305299</td><td>1.252844</td></tr><tr><td>1970-01-01 00:00:00</td><td>[&quot;quiz&quot;, &quot;quizzes&quot;]</td><td>60364</td><td>41978793014</td><td>1.437964</td></tr><tr><td>1980-01-01 00:00:00</td><td>[&quot;quiz&quot;, &quot;quizzes&quot;]</td><td>111125</td><td>54316937799</td><td>2.045863</td></tr><tr><td>1990-01-01 00:00:00</td><td>[&quot;quiz&quot;, &quot;quizzes&quot;]</td><td>253610</td><td>82491900993</td><td>3.074362</td></tr><tr><td>2000-01-01 00:00:00</td><td>[&quot;quiz&quot;, &quot;quizzes&quot;]</td><td>493632</td><td>128822588930</td><td>3.831875</td></tr></tbody></table></div>"
      ],
      "text/plain": [
       "shape: (50, 5)\n",
       "┌─────────────────────┬─────────────────────┬────────┬──────────────┬──────────┐\n",
       "│ Year                ┆ Token               ┆ AF     ┆ Total        ┆ RF       │\n",
       "│ ---                 ┆ ---                 ┆ ---    ┆ ---          ┆ ---      │\n",
       "│ datetime[μs]        ┆ list[str]           ┆ i64    ┆ u64          ┆ f64      │\n",
       "╞═════════════════════╪═════════════════════╪════════╪══════════════╪══════════╡\n",
       "│ 1510-01-01 00:00:00 ┆ [\"quiz\", \"quizzes\"] ┆ 1      ┆ 289011       ┆ 3.460076 │\n",
       "│ 1520-01-01 00:00:00 ┆ [\"quiz\", \"quizzes\"] ┆ 0      ┆ 346894       ┆ 0.0      │\n",
       "│ 1530-01-01 00:00:00 ┆ [\"quiz\", \"quizzes\"] ┆ 0      ┆ 0            ┆ 0.0      │\n",
       "│ 1540-01-01 00:00:00 ┆ [\"quiz\", \"quizzes\"] ┆ 0      ┆ 5272         ┆ 0.0      │\n",
       "│ 1550-01-01 00:00:00 ┆ [\"quiz\", \"quizzes\"] ┆ 0      ┆ 0            ┆ 0.0      │\n",
       "│ …                   ┆ …                   ┆ …      ┆ …            ┆ …        │\n",
       "│ 1960-01-01 00:00:00 ┆ [\"quiz\", \"quizzes\"] ┆ 40030  ┆ 31951305299  ┆ 1.252844 │\n",
       "│ 1970-01-01 00:00:00 ┆ [\"quiz\", \"quizzes\"] ┆ 60364  ┆ 41978793014  ┆ 1.437964 │\n",
       "│ 1980-01-01 00:00:00 ┆ [\"quiz\", \"quizzes\"] ┆ 111125 ┆ 54316937799  ┆ 2.045863 │\n",
       "│ 1990-01-01 00:00:00 ┆ [\"quiz\", \"quizzes\"] ┆ 253610 ┆ 82491900993  ┆ 3.074362 │\n",
       "│ 2000-01-01 00:00:00 ┆ [\"quiz\", \"quizzes\"] ┆ 493632 ┆ 128822588930 ┆ 3.831875 │\n",
       "└─────────────────────┴─────────────────────┴────────┴──────────────┴──────────┘"
      ]
     },
     "execution_count": 240,
     "metadata": {},
     "output_type": "execute_result"
    }
   ],
   "source": [
    "sum_tokens = sum_tokens.with_columns(RF=pl.col(\"AF\").truediv(\"Total\").mul(1000000)).with_columns(\n",
    "        pl.col(\"RF\")\n",
    "        .fill_nan(0)\n",
    "        )\n",
    "\n",
    "sum_tokens.insert_column(\n",
    "    1,\n",
    "    (pl.lit(word_forms)).alias(\"Token\")\n",
    ")"
   ]
  },
  {
   "cell_type": "code",
   "execution_count": 241,
   "metadata": {},
   "outputs": [
    {
     "data": {
      "text/html": [
       "<div><style>\n",
       ".dataframe > thead > tr,\n",
       ".dataframe > tbody > tr {\n",
       "  text-align: right;\n",
       "  white-space: pre-wrap;\n",
       "}\n",
       "</style>\n",
       "<small>shape: (50, 5)</small><table border=\"1\" class=\"dataframe\"><thead><tr><th>Year</th><th>Token</th><th>AF</th><th>Total</th><th>RF</th></tr><tr><td>datetime[μs]</td><td>list[str]</td><td>i64</td><td>u64</td><td>f64</td></tr></thead><tbody><tr><td>1510-01-01 00:00:00</td><td>[&quot;quiz&quot;, &quot;quizzes&quot;]</td><td>1</td><td>289011</td><td>3.460076</td></tr><tr><td>1520-01-01 00:00:00</td><td>[&quot;quiz&quot;, &quot;quizzes&quot;]</td><td>0</td><td>346894</td><td>0.0</td></tr><tr><td>1530-01-01 00:00:00</td><td>[&quot;quiz&quot;, &quot;quizzes&quot;]</td><td>0</td><td>0</td><td>0.0</td></tr><tr><td>1540-01-01 00:00:00</td><td>[&quot;quiz&quot;, &quot;quizzes&quot;]</td><td>0</td><td>5272</td><td>0.0</td></tr><tr><td>1550-01-01 00:00:00</td><td>[&quot;quiz&quot;, &quot;quizzes&quot;]</td><td>0</td><td>0</td><td>0.0</td></tr><tr><td>&hellip;</td><td>&hellip;</td><td>&hellip;</td><td>&hellip;</td><td>&hellip;</td></tr><tr><td>1960-01-01 00:00:00</td><td>[&quot;quiz&quot;, &quot;quizzes&quot;]</td><td>40030</td><td>31951305299</td><td>1.252844</td></tr><tr><td>1970-01-01 00:00:00</td><td>[&quot;quiz&quot;, &quot;quizzes&quot;]</td><td>60364</td><td>41978793014</td><td>1.437964</td></tr><tr><td>1980-01-01 00:00:00</td><td>[&quot;quiz&quot;, &quot;quizzes&quot;]</td><td>111125</td><td>54316937799</td><td>2.045863</td></tr><tr><td>1990-01-01 00:00:00</td><td>[&quot;quiz&quot;, &quot;quizzes&quot;]</td><td>253610</td><td>82491900993</td><td>3.074362</td></tr><tr><td>2000-01-01 00:00:00</td><td>[&quot;quiz&quot;, &quot;quizzes&quot;]</td><td>493632</td><td>128822588930</td><td>3.831875</td></tr></tbody></table></div>"
      ],
      "text/plain": [
       "shape: (50, 5)\n",
       "┌─────────────────────┬─────────────────────┬────────┬──────────────┬──────────┐\n",
       "│ Year                ┆ Token               ┆ AF     ┆ Total        ┆ RF       │\n",
       "│ ---                 ┆ ---                 ┆ ---    ┆ ---          ┆ ---      │\n",
       "│ datetime[μs]        ┆ list[str]           ┆ i64    ┆ u64          ┆ f64      │\n",
       "╞═════════════════════╪═════════════════════╪════════╪══════════════╪══════════╡\n",
       "│ 1510-01-01 00:00:00 ┆ [\"quiz\", \"quizzes\"] ┆ 1      ┆ 289011       ┆ 3.460076 │\n",
       "│ 1520-01-01 00:00:00 ┆ [\"quiz\", \"quizzes\"] ┆ 0      ┆ 346894       ┆ 0.0      │\n",
       "│ 1530-01-01 00:00:00 ┆ [\"quiz\", \"quizzes\"] ┆ 0      ┆ 0            ┆ 0.0      │\n",
       "│ 1540-01-01 00:00:00 ┆ [\"quiz\", \"quizzes\"] ┆ 0      ┆ 5272         ┆ 0.0      │\n",
       "│ 1550-01-01 00:00:00 ┆ [\"quiz\", \"quizzes\"] ┆ 0      ┆ 0            ┆ 0.0      │\n",
       "│ …                   ┆ …                   ┆ …      ┆ …            ┆ …        │\n",
       "│ 1960-01-01 00:00:00 ┆ [\"quiz\", \"quizzes\"] ┆ 40030  ┆ 31951305299  ┆ 1.252844 │\n",
       "│ 1970-01-01 00:00:00 ┆ [\"quiz\", \"quizzes\"] ┆ 60364  ┆ 41978793014  ┆ 1.437964 │\n",
       "│ 1980-01-01 00:00:00 ┆ [\"quiz\", \"quizzes\"] ┆ 111125 ┆ 54316937799  ┆ 2.045863 │\n",
       "│ 1990-01-01 00:00:00 ┆ [\"quiz\", \"quizzes\"] ┆ 253610 ┆ 82491900993  ┆ 3.074362 │\n",
       "│ 2000-01-01 00:00:00 ┆ [\"quiz\", \"quizzes\"] ┆ 493632 ┆ 128822588930 ┆ 3.831875 │\n",
       "└─────────────────────┴─────────────────────┴────────┴──────────────┴──────────┘"
      ]
     },
     "execution_count": 241,
     "metadata": {},
     "output_type": "execute_result"
    }
   ],
   "source": [
    "sum_tokens"
   ]
  },
  {
   "cell_type": "code",
   "execution_count": 140,
   "metadata": {},
   "outputs": [],
   "source": [
    "total_counts = total_counts.with_columns(pl.col(\"Year\").cast(pl.String).str.replace(r'\\d$', '0').alias(\"Decade\"))"
   ]
  },
  {
   "cell_type": "code",
   "execution_count": 143,
   "metadata": {},
   "outputs": [
    {
     "data": {
      "text/html": [
       "<div><style>\n",
       ".dataframe > thead > tr,\n",
       ".dataframe > tbody > tr {\n",
       "  text-align: right;\n",
       "  white-space: pre-wrap;\n",
       "}\n",
       "</style>\n",
       "<small>shape: (49, 4)</small><table border=\"1\" class=\"dataframe\"><thead><tr><th>Decade</th><th>Total</th><th>Pages</th><th>Volumes</th></tr><tr><td>str</td><td>u64</td><td>u64</td><td>u64</td></tr></thead><tbody><tr><td>&quot;1500&quot;</td><td>81645</td><td>708</td><td>2</td></tr><tr><td>&quot;1510&quot;</td><td>289011</td><td>2197</td><td>1</td></tr><tr><td>&quot;1520&quot;</td><td>346894</td><td>1606</td><td>4</td></tr><tr><td>&quot;1540&quot;</td><td>5272</td><td>59</td><td>1</td></tr><tr><td>&quot;1560&quot;</td><td>437693</td><td>2442</td><td>4</td></tr><tr><td>&hellip;</td><td>&hellip;</td><td>&hellip;</td><td>&hellip;</td></tr><tr><td>&quot;1960&quot;</td><td>31951305299</td><td>165417309</td><td>324447</td></tr><tr><td>&quot;1970&quot;</td><td>41978793014</td><td>216540849</td><td>438891</td></tr><tr><td>&quot;1980&quot;</td><td>54316937799</td><td>271632048</td><td>535854</td></tr><tr><td>&quot;1990&quot;</td><td>82491900993</td><td>406725509</td><td>781581</td></tr><tr><td>&quot;2000&quot;</td><td>128822588930</td><td>657350745</td><td>1239659</td></tr></tbody></table></div>"
      ],
      "text/plain": [
       "shape: (49, 4)\n",
       "┌────────┬──────────────┬───────────┬─────────┐\n",
       "│ Decade ┆ Total        ┆ Pages     ┆ Volumes │\n",
       "│ ---    ┆ ---          ┆ ---       ┆ ---     │\n",
       "│ str    ┆ u64          ┆ u64       ┆ u64     │\n",
       "╞════════╪══════════════╪═══════════╪═════════╡\n",
       "│ 1500   ┆ 81645        ┆ 708       ┆ 2       │\n",
       "│ 1510   ┆ 289011       ┆ 2197      ┆ 1       │\n",
       "│ 1520   ┆ 346894       ┆ 1606      ┆ 4       │\n",
       "│ 1540   ┆ 5272         ┆ 59        ┆ 1       │\n",
       "│ 1560   ┆ 437693       ┆ 2442      ┆ 4       │\n",
       "│ …      ┆ …            ┆ …         ┆ …       │\n",
       "│ 1960   ┆ 31951305299  ┆ 165417309 ┆ 324447  │\n",
       "│ 1970   ┆ 41978793014  ┆ 216540849 ┆ 438891  │\n",
       "│ 1980   ┆ 54316937799  ┆ 271632048 ┆ 535854  │\n",
       "│ 1990   ┆ 82491900993  ┆ 406725509 ┆ 781581  │\n",
       "│ 2000   ┆ 128822588930 ┆ 657350745 ┆ 1239659 │\n",
       "└────────┴──────────────┴───────────┴─────────┘"
      ]
     },
     "execution_count": 143,
     "metadata": {},
     "output_type": "execute_result"
    }
   ],
   "source": [
    "total_counts.group_by(\"Decade\", maintain_order=True).sum().drop(\"Year\")"
   ]
  }
 ],
 "metadata": {
  "kernelspec": {
   "display_name": "google_ngrams",
   "language": "python",
   "name": "python3"
  },
  "language_info": {
   "codemirror_mode": {
    "name": "ipython",
    "version": 3
   },
   "file_extension": ".py",
   "mimetype": "text/x-python",
   "name": "python",
   "nbconvert_exporter": "python",
   "pygments_lexer": "ipython3",
   "version": "3.10.16"
  }
 },
 "nbformat": 4,
 "nbformat_minor": 2
}
