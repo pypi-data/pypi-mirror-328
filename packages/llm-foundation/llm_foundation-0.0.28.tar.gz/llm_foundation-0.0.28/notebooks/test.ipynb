{
 "cells": [
  {
   "cell_type": "code",
   "execution_count": 1,
   "metadata": {},
   "outputs": [
    {
     "name": "stderr",
     "output_type": "stream",
     "text": [
      "2024-08-26 22:34:09 fperez-gcloud-stupid-sailor-twift root[1118223] INFO Logger root configured\n"
     ]
    },
    {
     "name": "stdout",
     "output_type": "stream",
     "text": [
      "Trying to configure logger root in module llm_foundation\n",
      "root # of associated handlers - 0\n",
      "Logging is not configured yet. Configuring it now.\n",
      "Basic logging config\n"
     ]
    },
    {
     "name": "stderr",
     "output_type": "stream",
     "text": [
      "2024-08-26 22:34:10 fperez-gcloud-stupid-sailor-twift langchain_community.utils.user_agent[1118223] WARNING USER_AGENT environment variable not set, consider setting it to identify your requests.\n"
     ]
    }
   ],
   "source": [
    "from llm_foundation import logger\n",
    "from llm_foundation.basic_structs import Provider, LMConfig\n",
    "from llm_foundation.extractors import WebPageContentExtractor, CitedDocuments\n",
    "from llm_foundation.lm import get_model_catalog, get_lm\n",
    "from llm_foundation.routing import ToolMaster\n",
    "from llm_foundation.utils import banner, show_banner\n",
    "from langchain.agents.output_parsers.tools import ToolsAgentOutputParser\n",
    "\n",
    "from langchain.prompts import ChatPromptTemplate"
   ]
  },
  {
   "cell_type": "code",
   "execution_count": 3,
   "metadata": {},
   "outputs": [
    {
     "name": "stderr",
     "output_type": "stream",
     "text": [
      "2024-08-26 22:34:22 fperez-gcloud-stupid-sailor-twift root[1118223] INFO ************************************************************************************************************************\n",
      "2024-08-26 22:34:22 fperez-gcloud-stupid-sailor-twift root[1118223] INFO *                              Welcome to the Language Modeling (LLM) Foundation library                               *\n",
      "2024-08-26 22:34:22 fperez-gcloud-stupid-sailor-twift root[1118223] INFO ************************************************************************************************************************\n",
      "2024-08-26 22:34:22 fperez-gcloud-stupid-sailor-twift root[1118223] INFO hola!\n",
      "2024-08-26 22:34:22 fperez-gcloud-stupid-sailor-twift root[1118223] INFO ************************************************************************************************************************\n",
      "2024-08-26 22:34:22 fperez-gcloud-stupid-sailor-twift root[1118223] INFO *                           End of Welcome to the Language Modeling (LLM) Foundation library                           *\n",
      "2024-08-26 22:34:22 fperez-gcloud-stupid-sailor-twift root[1118223] INFO ************************************************************************************************************************\n"
     ]
    }
   ],
   "source": [
    "@banner(text=\"Welcome to the Language Modeling (LLM) Foundation library\", mark_fn_end=True)\n",
    "def say_hi():\n",
    "    logger.info(\"hola!\")\n",
    "    \n",
    "say_hi()"
   ]
  },
  {
   "cell_type": "code",
   "execution_count": null,
   "metadata": {},
   "outputs": [
    {
     "name": "stdout",
     "output_type": "stream",
     "text": [
      "Provider.LC LC\n"
     ]
    },
    {
     "name": "stderr",
     "output_type": "stream",
     "text": [
      "2024-08-23 21:19:03 fperez-gcloud-stupid-sailor-twift httpx[67787] INFO HTTP Request: GET https://api.openai.com/v1/models \"HTTP/1.1 200 OK\"\n"
     ]
    },
    {
     "name": "stdout",
     "output_type": "stream",
     "text": [
      "Provider.OpenAI OpenAI\n"
     ]
    },
    {
     "name": "stderr",
     "output_type": "stream",
     "text": [
      "2024-08-23 21:19:03 fperez-gcloud-stupid-sailor-twift httpx[67787] INFO HTTP Request: GET https://api.openai.com/v1/models \"HTTP/1.1 200 OK\"\n"
     ]
    },
    {
     "data": {
      "text/plain": [
       "{'lc_gpt-4o-mini': 'gpt-4o-mini',\n",
       " 'lc_gpt-4o-mini-2024-07-18': 'gpt-4o-mini-2024-07-18',\n",
       " 'openai_gpt-4o-mini': 'gpt-4o-mini',\n",
       " 'openai_gpt-4o-mini-2024-07-18': 'gpt-4o-mini-2024-07-18'}"
      ]
     },
     "execution_count": 2,
     "metadata": {},
     "output_type": "execute_result"
    }
   ],
   "source": [
    "get_model_catalog(Provider.LC, [\"gpt-4o-mini\"])"
   ]
  },
  {
   "cell_type": "code",
   "execution_count": null,
   "metadata": {},
   "outputs": [
    {
     "name": "stderr",
     "output_type": "stream",
     "text": [
      "2024-08-23 21:19:03 fperez-gcloud-stupid-sailor-twift root[67787] INFO Creating lm object for provider LC\n",
      "2024-08-23 21:19:03 fperez-gcloud-stupid-sailor-twift root[67787] INFO Creating ModelType.Chat object for model gpt-4o-mini\n",
      "2024-08-23 21:19:03 fperez-gcloud-stupid-sailor-twift root[67787] INFO LM object client=<openai.resources.chat.completions.Completions object at 0x7ff077b2d640> async_client=<openai.resources.chat.completions.AsyncCompletions object at 0x7ff077b64230> root_client=<openai.OpenAI object at 0x7ff077b2e6f0> root_async_client=<openai.AsyncOpenAI object at 0x7ff077e6dc70> model_name='gpt-4o-mini' temperature=0.0 openai_api_key=SecretStr('**********') openai_proxy='' max_tokens=300 created\n"
     ]
    }
   ],
   "source": [
    "lm_config = LMConfig(model=\"gpt-4o-mini\", provider=Provider.LC)\n",
    "lm = get_lm(lm_config)"
   ]
  },
  {
   "cell_type": "code",
   "execution_count": null,
   "metadata": {},
   "outputs": [
    {
     "name": "stdout",
     "output_type": "stream",
     "text": [
      "<class 'langchain_core.tools.structured.StructuredTool'>\n",
      "extract\n",
      "Extracts information from a list of web documents.\n",
      "{'source_web_docs': {'title': 'Source Web Docs', 'anyOf': [{'type': 'string'}, {'type': 'array', 'items': {'type': 'string'}}]}}\n"
     ]
    }
   ],
   "source": [
    "web_doc = \"https://lilianweng.github.io/posts/2023-06-23-agent/\"\n",
    "\n",
    "webpage_extractor_tool = WebPageContentExtractor.build_tool(lm, CitedDocuments)\n",
    "\n",
    "print(type(webpage_extractor_tool))\n",
    "print(webpage_extractor_tool.name)\n",
    "print(webpage_extractor_tool.description)\n",
    "print(webpage_extractor_tool.args)"
   ]
  },
  {
   "cell_type": "code",
   "execution_count": null,
   "metadata": {},
   "outputs": [
    {
     "name": "stderr",
     "output_type": "stream",
     "text": [
      "2024-08-23 21:19:04 fperez-gcloud-stupid-sailor-twift httpx[67787] INFO HTTP Request: POST https://api.openai.com/v1/chat/completions \"HTTP/1.1 200 OK\"\n"
     ]
    },
    {
     "name": "stdout",
     "output_type": "stream",
     "text": [
      "content='12 * 4 = 48.' additional_kwargs={'refusal': None} response_metadata={'token_usage': {'completion_tokens': 8, 'prompt_tokens': 13, 'total_tokens': 21}, 'model_name': 'gpt-4o-mini-2024-07-18', 'system_fingerprint': 'fp_48196bc67a', 'finish_reason': 'stop', 'logprobs': None} id='run-a25db894-6acf-4b74-9b40-a5139bab0b9d-0' usage_metadata={'input_tokens': 13, 'output_tokens': 8, 'total_tokens': 21}\n"
     ]
    },
    {
     "name": "stderr",
     "output_type": "stream",
     "text": [
      "2024-08-23 21:19:05 fperez-gcloud-stupid-sailor-twift httpx[67787] INFO HTTP Request: POST https://api.openai.com/v1/chat/completions \"HTTP/1.1 200 OK\"\n"
     ]
    },
    {
     "name": "stdout",
     "output_type": "stream",
     "text": [
      "<class 'langchain_core.messages.ai.AIMessage'>\n",
      "content='' additional_kwargs={'tool_calls': [{'id': 'call_xH4ItNZysgf2maRW9H24UHic', 'function': {'arguments': '{\"source_web_docs\":\"https://lilianweng.github.io/posts/2023-06-23-agent/\"}', 'name': 'extract'}, 'type': 'function'}], 'refusal': None} response_metadata={'token_usage': {'completion_tokens': 31, 'prompt_tokens': 80, 'total_tokens': 111}, 'model_name': 'gpt-4o-mini-2024-07-18', 'system_fingerprint': 'fp_48196bc67a', 'finish_reason': 'tool_calls', 'logprobs': None} id='run-4dfaa191-04e0-4e35-a126-6eb37f5af70b-0' tool_calls=[{'name': 'extract', 'args': {'source_web_docs': 'https://lilianweng.github.io/posts/2023-06-23-agent/'}, 'id': 'call_xH4ItNZysgf2maRW9H24UHic', 'type': 'tool_call'}] usage_metadata={'input_tokens': 80, 'output_tokens': 31, 'total_tokens': 111}\n"
     ]
    },
    {
     "name": "stderr",
     "output_type": "stream",
     "text": [
      "2024-08-23 21:19:05 fperez-gcloud-stupid-sailor-twift httpx[67787] INFO HTTP Request: POST https://api.openai.com/v1/chat/completions \"HTTP/1.1 200 OK\"\n"
     ]
    },
    {
     "data": {
      "text/plain": [
       "[ToolAgentAction(tool='extract', tool_input={'source_web_docs': 'https://lilianweng.github.io/posts/2023-06-23-agent/'}, log=\"\\nInvoking: `extract` with `{'source_web_docs': 'https://lilianweng.github.io/posts/2023-06-23-agent/'}`\\n\\n\\n\", message_log=[AIMessage(content='', additional_kwargs={'tool_calls': [{'id': 'call_tmcVQxSn1FsGpZTnGuCoTZ5y', 'function': {'arguments': '{\"source_web_docs\":\"https://lilianweng.github.io/posts/2023-06-23-agent/\"}', 'name': 'extract'}, 'type': 'function'}], 'refusal': None}, response_metadata={'token_usage': {'completion_tokens': 31, 'prompt_tokens': 80, 'total_tokens': 111}, 'model_name': 'gpt-4o-mini-2024-07-18', 'system_fingerprint': 'fp_48196bc67a', 'finish_reason': 'tool_calls', 'logprobs': None}, id='run-ce00757d-ead9-491f-ba29-74d77fbf4c38-0', tool_calls=[{'name': 'extract', 'args': {'source_web_docs': 'https://lilianweng.github.io/posts/2023-06-23-agent/'}, 'id': 'call_tmcVQxSn1FsGpZTnGuCoTZ5y', 'type': 'tool_call'}], usage_metadata={'input_tokens': 80, 'output_tokens': 31, 'total_tokens': 111})], tool_call_id='call_tmcVQxSn1FsGpZTnGuCoTZ5y')]"
      ]
     },
     "execution_count": 5,
     "metadata": {},
     "output_type": "execute_result"
    }
   ],
   "source": [
    "tools = [webpage_extractor_tool]\n",
    "query = \"calculate 12 * 4\"\n",
    "query_requiring_tools = f\"extract cited documents from {web_doc}\"\n",
    "\n",
    "print(lm.invoke(query))\n",
    "\n",
    "lm_with_tools = lm.bind_tools(tools)\n",
    "\n",
    "prompt = ChatPromptTemplate.from_messages([\n",
    "    (\"system\", \"You are helpful but sassy assistant\"),\n",
    "    (\"user\", \"{input}\"),\n",
    "])\n",
    "chain = prompt | lm_with_tools # | ToolsAgentOutputParser()\n",
    "chain_response = chain.invoke({\"input\": query_requiring_tools})\n",
    "print(type(chain_response))\n",
    "print(chain_response)\n",
    "\n",
    "chain = prompt | lm_with_tools |ToolsAgentOutputParser()\n",
    "chain.invoke({\"input\": query_requiring_tools})"
   ]
  },
  {
   "cell_type": "markdown",
   "metadata": {},
   "source": [
    "# Tool Master"
   ]
  },
  {
   "cell_type": "code",
   "execution_count": null,
   "metadata": {},
   "outputs": [],
   "source": [
    "tool_master = ToolMaster(tools)"
   ]
  },
  {
   "cell_type": "code",
   "execution_count": null,
   "metadata": {},
   "outputs": [
    {
     "name": "stderr",
     "output_type": "stream",
     "text": [
      "2024-08-23 21:19:06 fperez-gcloud-stupid-sailor-twift httpx[67787] INFO HTTP Request: POST https://api.openai.com/v1/chat/completions \"HTTP/1.1 200 OK\"\n",
      "2024-08-23 21:19:06 fperez-gcloud-stupid-sailor-twift root[67787] INFO -------------- Call Tool ---------------\n",
      "2024-08-23 21:19:06 fperez-gcloud-stupid-sailor-twift root[67787] INFO Extracting <class 'llm_foundation.extractors.CitedDocuments'>\n",
      "2024-08-23 21:19:06 fperez-gcloud-stupid-sailor-twift root[67787] INFO Document len: 43902\n",
      "2024-08-23 21:19:06 fperez-gcloud-stupid-sailor-twift root[67787] INFO Document len without empty lines: 43620\n",
      "2024-08-23 21:19:06 fperez-gcloud-stupid-sailor-twift langchain_core.callbacks.base[67787] WARNING CallbackManager.merge(): Parent run IDs do not match. Using the parent run ID of the first callback manager.\n",
      "2024-08-23 21:19:06 fperez-gcloud-stupid-sailor-twift langchain_core.callbacks.base[67787] WARNING CallbackManager.merge(): Parent run IDs do not match. Using the parent run ID of the first callback manager.\n",
      "2024-08-23 21:19:06 fperez-gcloud-stupid-sailor-twift langchain_core.callbacks.base[67787] WARNING CallbackManager.merge(): Parent run IDs do not match. Using the parent run ID of the first callback manager.\n",
      "2024-08-23 21:19:06 fperez-gcloud-stupid-sailor-twift langchain_core.callbacks.base[67787] WARNING CallbackManager.merge(): Parent run IDs do not match. Using the parent run ID of the first callback manager.\n",
      "2024-08-23 21:19:06 fperez-gcloud-stupid-sailor-twift langchain_core.callbacks.base[67787] WARNING CallbackManager.merge(): Parent run IDs do not match. Using the parent run ID of the first callback manager.\n",
      "2024-08-23 21:19:06 fperez-gcloud-stupid-sailor-twift langchain_core.callbacks.base[67787] WARNING CallbackManager.merge(): Parent run IDs do not match. Using the parent run ID of the first callback manager.\n",
      "2024-08-23 21:19:06 fperez-gcloud-stupid-sailor-twift langchain_core.callbacks.base[67787] WARNING CallbackManager.merge(): Parent run IDs do not match. Using the parent run ID of the first callback manager.\n",
      "2024-08-23 21:19:06 fperez-gcloud-stupid-sailor-twift langchain_core.callbacks.base[67787] WARNING CallbackManager.merge(): Parent run IDs do not match. Using the parent run ID of the first callback manager.\n",
      "2024-08-23 21:19:06 fperez-gcloud-stupid-sailor-twift langchain_core.callbacks.base[67787] WARNING CallbackManager.merge(): Parent run IDs do not match. Using the parent run ID of the first callback manager.\n",
      "2024-08-23 21:19:06 fperez-gcloud-stupid-sailor-twift langchain_core.callbacks.base[67787] WARNING CallbackManager.merge(): Parent run IDs do not match. Using the parent run ID of the first callback manager.\n",
      "2024-08-23 21:19:06 fperez-gcloud-stupid-sailor-twift langchain_core.callbacks.base[67787] WARNING CallbackManager.merge(): Parent run IDs do not match. Using the parent run ID of the first callback manager.\n",
      "2024-08-23 21:19:06 fperez-gcloud-stupid-sailor-twift langchain_core.callbacks.base[67787] WARNING CallbackManager.merge(): Parent run IDs do not match. Using the parent run ID of the first callback manager.\n",
      "2024-08-23 21:19:07 fperez-gcloud-stupid-sailor-twift httpx[67787] INFO HTTP Request: POST https://api.openai.com/v1/chat/completions \"HTTP/1.1 200 OK\"\n",
      "2024-08-23 21:19:07 fperez-gcloud-stupid-sailor-twift httpx[67787] INFO HTTP Request: POST https://api.openai.com/v1/chat/completions \"HTTP/1.1 200 OK\"\n",
      "2024-08-23 21:19:07 fperez-gcloud-stupid-sailor-twift httpx[67787] INFO HTTP Request: POST https://api.openai.com/v1/chat/completions \"HTTP/1.1 200 OK\"\n",
      "2024-08-23 21:19:07 fperez-gcloud-stupid-sailor-twift httpx[67787] INFO HTTP Request: POST https://api.openai.com/v1/chat/completions \"HTTP/1.1 200 OK\"\n",
      "2024-08-23 21:19:07 fperez-gcloud-stupid-sailor-twift httpx[67787] INFO HTTP Request: POST https://api.openai.com/v1/chat/completions \"HTTP/1.1 200 OK\"\n",
      "2024-08-23 21:19:08 fperez-gcloud-stupid-sailor-twift httpx[67787] INFO HTTP Request: POST https://api.openai.com/v1/chat/completions \"HTTP/1.1 200 OK\"\n",
      "2024-08-23 21:19:08 fperez-gcloud-stupid-sailor-twift httpx[67787] INFO HTTP Request: POST https://api.openai.com/v1/chat/completions \"HTTP/1.1 200 OK\"\n",
      "2024-08-23 21:19:08 fperez-gcloud-stupid-sailor-twift httpx[67787] INFO HTTP Request: POST https://api.openai.com/v1/chat/completions \"HTTP/1.1 200 OK\"\n",
      "2024-08-23 21:19:08 fperez-gcloud-stupid-sailor-twift httpx[67787] INFO HTTP Request: POST https://api.openai.com/v1/chat/completions \"HTTP/1.1 200 OK\"\n",
      "2024-08-23 21:19:08 fperez-gcloud-stupid-sailor-twift httpx[67787] INFO HTTP Request: POST https://api.openai.com/v1/chat/completions \"HTTP/1.1 200 OK\"\n",
      "2024-08-23 21:19:09 fperez-gcloud-stupid-sailor-twift httpx[67787] INFO HTTP Request: POST https://api.openai.com/v1/chat/completions \"HTTP/1.1 200 OK\"\n",
      "2024-08-23 21:19:10 fperez-gcloud-stupid-sailor-twift httpx[67787] INFO HTTP Request: POST https://api.openai.com/v1/chat/completions \"HTTP/1.1 200 OK\"\n",
      "2024-08-23 21:19:10 fperez-gcloud-stupid-sailor-twift root[67787] INFO Response (<class 'dict'>): {'https://lilianweng.github.io/posts/2023-06-23-agent/': [{'title': 'Chain of thought', 'author': 'Wei et al.', 'year': 2022}, {'title': 'Tree of Thoughts', 'author': 'Yao et al.', 'year': 2023}, {'title': 'LLM+P', 'author': 'Liu et al.', 'year': 2023}, {'author': 'Yao et al.', 'year': 2023}, {'author': 'Shinn & Labash', 'year': 2023}, {'author': 'Liu et al.', 'year': 2023}, {'author': 'Liu', 'year': 2023}, {'author': 'Laskin', 'year': 2023}, {'author': 'Duan', 'year': 2017}, {'author': 'Miller', 'year': 1956}, {'author': 'Karpas et al.', 'year': 2022}, {'author': 'Parisi et al.', 'year': 2022}, {'author': 'Schick et al.', 'year': 2023}, {'author': 'Shen et al.', 'year': 2023}, {'author': 'Li et al.', 'year': 2023}, {'author': 'Bran et al.', 'year': 2023}, {'author': 'Boiko et al.', 'year': 2023}, {'author': 'Park, et al.', 'year': 2023}, {'author': 'Weng, Lilian', 'year': 2023}, {'author': 'Wei et al.', 'year': 2022}, {'author': 'Yao et al.', 'year': 2023}, {'author': 'Liu et al.', 'year': 2023}, {'author': 'Liu et al.', 'year': 2023}, {'author': 'Yao et al.', 'year': 2023}, {'author': 'Google Blog', 'year': 2020}, {'author': 'Shinn & Labash', 'year': 2023}, {'author': 'Laskin et al.', 'year': 2023}, {'title': 'MRKL Systems A modular, neuro-symbolic architecture that combines large language models, external knowledge sources and discrete reasoning.', 'author': 'Karpas et al.', 'year': 2022}, {'title': 'Webgpt: Browser-assisted question-answering with human feedback.', 'author': 'Nakano et al.', 'year': 2021}, {'title': 'TALM: Tool Augmented Language Models', 'author': 'Parisi et al.', 'year': None}, {'title': 'Toolformer: Language Models Can Teach Themselves to Use Tools.', 'author': 'Schick et al.', 'year': 2023}, {'title': 'API-Bank: A Benchmark for Tool-Augmented LLMs', 'author': 'Li et al.', 'year': 2023}, {'title': 'HuggingGPT: Solving AI Tasks with ChatGPT and its Friends in HuggingFace', 'author': 'Shen et al.', 'year': 2023}, {'title': 'ChemCrow: Augmenting large-language models with chemistry tools.', 'author': 'Bran et al.', 'year': 2023}, {'title': 'Emergent autonomous scientific research capabilities of large language models.', 'author': 'Boiko et al.', 'year': 2023}, {'title': 'Generative Agents: Interactive Simulacra of Human Behavior.', 'author': 'Joon Sung Park, et al.', 'year': 2023}]}\n",
      "2024-08-23 21:19:10 fperez-gcloud-stupid-sailor-twift root[67787] INFO -------------- End Call Tool ---------------\n"
     ]
    },
    {
     "data": {
      "text/plain": [
       "[('call_ew9J1v9SBdQMz6fodLgpfFfq',\n",
       "  'extract',\n",
       "  {'https://lilianweng.github.io/posts/2023-06-23-agent/': [{'title': 'Chain of thought',\n",
       "     'author': 'Wei et al.',\n",
       "     'year': 2022},\n",
       "    {'title': 'Tree of Thoughts', 'author': 'Yao et al.', 'year': 2023},\n",
       "    {'title': 'LLM+P', 'author': 'Liu et al.', 'year': 2023},\n",
       "    {'author': 'Yao et al.', 'year': 2023},\n",
       "    {'author': 'Shinn & Labash', 'year': 2023},\n",
       "    {'author': 'Liu et al.', 'year': 2023},\n",
       "    {'author': 'Liu', 'year': 2023},\n",
       "    {'author': 'Laskin', 'year': 2023},\n",
       "    {'author': 'Duan', 'year': 2017},\n",
       "    {'author': 'Miller', 'year': 1956},\n",
       "    {'author': 'Karpas et al.', 'year': 2022},\n",
       "    {'author': 'Parisi et al.', 'year': 2022},\n",
       "    {'author': 'Schick et al.', 'year': 2023},\n",
       "    {'author': 'Shen et al.', 'year': 2023},\n",
       "    {'author': 'Li et al.', 'year': 2023},\n",
       "    {'author': 'Bran et al.', 'year': 2023},\n",
       "    {'author': 'Boiko et al.', 'year': 2023},\n",
       "    {'author': 'Park, et al.', 'year': 2023},\n",
       "    {'author': 'Weng, Lilian', 'year': 2023},\n",
       "    {'author': 'Wei et al.', 'year': 2022},\n",
       "    {'author': 'Yao et al.', 'year': 2023},\n",
       "    {'author': 'Liu et al.', 'year': 2023},\n",
       "    {'author': 'Liu et al.', 'year': 2023},\n",
       "    {'author': 'Yao et al.', 'year': 2023},\n",
       "    {'author': 'Google Blog', 'year': 2020},\n",
       "    {'author': 'Shinn & Labash', 'year': 2023},\n",
       "    {'author': 'Laskin et al.', 'year': 2023},\n",
       "    {'title': 'MRKL Systems A modular, neuro-symbolic architecture that combines large language models, external knowledge sources and discrete reasoning.',\n",
       "     'author': 'Karpas et al.',\n",
       "     'year': 2022},\n",
       "    {'title': 'Webgpt: Browser-assisted question-answering with human feedback.',\n",
       "     'author': 'Nakano et al.',\n",
       "     'year': 2021},\n",
       "    {'title': 'TALM: Tool Augmented Language Models',\n",
       "     'author': 'Parisi et al.',\n",
       "     'year': None},\n",
       "    {'title': 'Toolformer: Language Models Can Teach Themselves to Use Tools.',\n",
       "     'author': 'Schick et al.',\n",
       "     'year': 2023},\n",
       "    {'title': 'API-Bank: A Benchmark for Tool-Augmented LLMs',\n",
       "     'author': 'Li et al.',\n",
       "     'year': 2023},\n",
       "    {'title': 'HuggingGPT: Solving AI Tasks with ChatGPT and its Friends in HuggingFace',\n",
       "     'author': 'Shen et al.',\n",
       "     'year': 2023},\n",
       "    {'title': 'ChemCrow: Augmenting large-language models with chemistry tools.',\n",
       "     'author': 'Bran et al.',\n",
       "     'year': 2023},\n",
       "    {'title': 'Emergent autonomous scientific research capabilities of large language models.',\n",
       "     'author': 'Boiko et al.',\n",
       "     'year': 2023},\n",
       "    {'title': 'Generative Agents: Interactive Simulacra of Human Behavior.',\n",
       "     'author': 'Joon Sung Park, et al.',\n",
       "     'year': 2023}]})]"
      ]
     },
     "execution_count": 7,
     "metadata": {},
     "output_type": "execute_result"
    }
   ],
   "source": [
    "new_chain = prompt | lm_with_tools | tool_master\n",
    "chain_response = new_chain.invoke({\"input\": query_requiring_tools})\n",
    "chain_response\n"
   ]
  },
  {
   "cell_type": "code",
   "execution_count": null,
   "metadata": {},
   "outputs": [],
   "source": [
    "# tool_response = tool_master.call_tools(chain_response)\n",
    "# tool_response"
   ]
  }
 ],
 "metadata": {
  "kernelspec": {
   "display_name": "default",
   "language": "python",
   "name": "python3"
  },
  "language_info": {
   "codemirror_mode": {
    "name": "ipython",
    "version": 3
   },
   "file_extension": ".py",
   "mimetype": "text/x-python",
   "name": "python",
   "nbconvert_exporter": "python",
   "pygments_lexer": "ipython3",
   "version": "3.12.5"
  }
 },
 "nbformat": 4,
 "nbformat_minor": 2
}
