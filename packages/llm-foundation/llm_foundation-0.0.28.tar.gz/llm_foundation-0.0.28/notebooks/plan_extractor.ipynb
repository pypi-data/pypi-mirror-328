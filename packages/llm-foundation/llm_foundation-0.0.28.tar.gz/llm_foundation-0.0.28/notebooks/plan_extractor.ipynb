{
 "cells": [
  {
   "cell_type": "code",
   "execution_count": 1,
   "metadata": {},
   "outputs": [
    {
     "name": "stderr",
     "output_type": "stream",
     "text": [
      "2024-08-28 20:39:34 fperez-gcloud-stupid-sailor-twift root[1870451] INFO Logger root configured\n"
     ]
    },
    {
     "name": "stdout",
     "output_type": "stream",
     "text": [
      "Trying to configure logger root in module llm_foundation\n",
      "root # of associated handlers - 0\n",
      "Logging is not configured yet. Configuring it now.\n",
      "Basic logging config\n"
     ]
    },
    {
     "name": "stderr",
     "output_type": "stream",
     "text": [
      "2024-08-28 20:39:35 fperez-gcloud-stupid-sailor-twift langchain_community.utils.user_agent[1870451] WARNING USER_AGENT environment variable not set, consider setting it to identify your requests.\n"
     ]
    }
   ],
   "source": [
    "from llm_foundation import logger\n",
    "from llm_foundation.basic_structs import Provider, LMConfig\n",
    "from llm_foundation.extractors import PlanExtractor, Plan, MultiTreePlan, Step\n",
    "from llm_foundation.lm import get_model_catalog, get_lm\n",
    "from llm_foundation.routing import ToolMaster\n",
    "from llm_foundation.utils import banner, show_banner\n",
    "from langchain.agents.output_parsers.tools import ToolsAgentOutputParser\n",
    "from typing import Union, List, Dict, Any\n",
    "from langchain.prompts import ChatPromptTemplate"
   ]
  },
  {
   "cell_type": "code",
   "execution_count": 2,
   "metadata": {},
   "outputs": [
    {
     "name": "stderr",
     "output_type": "stream",
     "text": [
      "2024-08-28 20:39:35 fperez-gcloud-stupid-sailor-twift root[1870451] INFO Creating lm object for provider LC\n",
      "2024-08-28 20:39:35 fperez-gcloud-stupid-sailor-twift root[1870451] INFO Creating ModelType.Chat object for model gpt-4o-mini\n",
      "2024-08-28 20:39:35 fperez-gcloud-stupid-sailor-twift root[1870451] INFO LM object client=<openai.resources.chat.completions.Completions object at 0x7f72aa380590> async_client=<openai.resources.chat.completions.AsyncCompletions object at 0x7f72aa381970> root_client=<openai.OpenAI object at 0x7f72d436c230> root_async_client=<openai.AsyncOpenAI object at 0x7f72aa3805c0> model_name='gpt-4o-mini' temperature=0.0 openai_api_key=SecretStr('**********') openai_proxy='' max_tokens=300 created\n"
     ]
    }
   ],
   "source": [
    "lm_config = LMConfig(model=\"gpt-4o-mini\", provider=Provider.LC)\n",
    "lm = get_lm(lm_config)"
   ]
  },
  {
   "cell_type": "code",
   "execution_count": 3,
   "metadata": {},
   "outputs": [
    {
     "name": "stdout",
     "output_type": "stream",
     "text": [
      "<class 'langchain_core.tools.structured.StructuredTool'>\n",
      "extract\n",
      "Extracts from the text passed an itemized list of plan steps.\n",
      "{'text': {'title': 'Text', 'type': 'string'}}\n"
     ]
    }
   ],
   "source": [
    "plan = \"\"\"\"\n",
    "Thought: To determine the combined weight of a Toy Poodle and a Scottish Terrier, I need to find the average weight of each breed and then sum them up.\n",
    "\n",
    "Plan:\n",
    "1. Find the average weight of a Toy Poodle.\n",
    "2. Find the average weight of a Scottish Terrier.\n",
    "3. Sum the average weights of both breeds to get the combined weight.\n",
    "\n",
    "Let's proceed with the plan.\n",
    "\"\"\"\n",
    "\n",
    "plan_extractor_tool = PlanExtractor.build_tool(lm, Plan, use_pydantic_output=False)\n",
    "\n",
    "print(type(plan_extractor_tool))\n",
    "print(plan_extractor_tool.name)\n",
    "print(plan_extractor_tool.description)\n",
    "print(plan_extractor_tool.args)"
   ]
  },
  {
   "cell_type": "code",
   "execution_count": 4,
   "metadata": {},
   "outputs": [],
   "source": [
    "tools = [plan_extractor_tool]"
   ]
  },
  {
   "cell_type": "code",
   "execution_count": 5,
   "metadata": {},
   "outputs": [
    {
     "name": "stdout",
     "output_type": "stream",
     "text": [
      "\n",
      "Query without tools\n"
     ]
    },
    {
     "name": "stderr",
     "output_type": "stream",
     "text": [
      "2024-08-28 20:39:36 fperez-gcloud-stupid-sailor-twift httpx[1870451] INFO HTTP Request: POST https://api.openai.com/v1/chat/completions \"HTTP/1.1 200 OK\"\n"
     ]
    },
    {
     "name": "stdout",
     "output_type": "stream",
     "text": [
      "content='12 * 4 = 48.' additional_kwargs={'refusal': None} response_metadata={'token_usage': {'completion_tokens': 8, 'prompt_tokens': 13, 'total_tokens': 21}, 'model_name': 'gpt-4o-mini-2024-07-18', 'system_fingerprint': 'fp_f33667828e', 'finish_reason': 'stop', 'logprobs': None} id='run-8c80500c-7f50-45b0-8231-0b00a74137cb-0' usage_metadata={'input_tokens': 13, 'output_tokens': 8, 'total_tokens': 21}\n",
      "\n",
      "Query with tools\n"
     ]
    },
    {
     "name": "stderr",
     "output_type": "stream",
     "text": [
      "2024-08-28 20:39:40 fperez-gcloud-stupid-sailor-twift httpx[1870451] INFO HTTP Request: POST https://api.openai.com/v1/chat/completions \"HTTP/1.1 200 OK\"\n"
     ]
    },
    {
     "name": "stdout",
     "output_type": "stream",
     "text": [
      "<class 'langchain_core.messages.ai.AIMessage'>\n",
      "content='' additional_kwargs={'tool_calls': [{'id': 'call_MnYp0n4jRRaRmXHzgcfF8S5F', 'function': {'arguments': '{\"text\":\"Thought: To determine the combined weight of a Toy Poodle and a Scottish Terrier, I need to find the average weight of each breed and then sum them up.\\\\n\\\\nPlan:\\\\n1. Find the average weight of a Toy Poodle.\\\\n2. Find the average weight of a Scottish Terrier.\\\\n3. Sum the average weights of both breeds to get the combined weight.\\\\n\\\\nLet\\'s proceed with the plan.\"}', 'name': 'extract'}, 'type': 'function'}], 'refusal': None} response_metadata={'token_usage': {'completion_tokens': 98, 'prompt_tokens': 142, 'total_tokens': 240}, 'model_name': 'gpt-4o-mini-2024-07-18', 'system_fingerprint': 'fp_5bd87c427a', 'finish_reason': 'tool_calls', 'logprobs': None} id='run-27835c70-4d6f-4cb7-9cb1-f475e6663b9e-0' tool_calls=[{'name': 'extract', 'args': {'text': \"Thought: To determine the combined weight of a Toy Poodle and a Scottish Terrier, I need to find the average weight of each breed and then sum them up.\\n\\nPlan:\\n1. Find the average weight of a Toy Poodle.\\n2. Find the average weight of a Scottish Terrier.\\n3. Sum the average weights of both breeds to get the combined weight.\\n\\nLet's proceed with the plan.\"}, 'id': 'call_MnYp0n4jRRaRmXHzgcfF8S5F', 'type': 'tool_call'}] usage_metadata={'input_tokens': 142, 'output_tokens': 98, 'total_tokens': 240}\n",
      "\n",
      "Query with tools with tools output parser\n"
     ]
    },
    {
     "name": "stderr",
     "output_type": "stream",
     "text": [
      "2024-08-28 20:39:41 fperez-gcloud-stupid-sailor-twift httpx[1870451] INFO HTTP Request: POST https://api.openai.com/v1/chat/completions \"HTTP/1.1 200 OK\"\n"
     ]
    },
    {
     "data": {
      "text/plain": [
       "[ToolAgentAction(tool='extract', tool_input={'text': \"Thought: To determine the combined weight of a Toy Poodle and a Scottish Terrier, I need to find the average weight of each breed and then sum them up.\\n\\nPlan:\\n1. Find the average weight of a Toy Poodle.\\n2. Find the average weight of a Scottish Terrier.\\n3. Sum the average weights of both breeds to get the combined weight.\\n\\nLet's proceed with the plan.\"}, log='\\nInvoking: `extract` with `{\\'text\\': \"Thought: To determine the combined weight of a Toy Poodle and a Scottish Terrier, I need to find the average weight of each breed and then sum them up.\\\\n\\\\nPlan:\\\\n1. Find the average weight of a Toy Poodle.\\\\n2. Find the average weight of a Scottish Terrier.\\\\n3. Sum the average weights of both breeds to get the combined weight.\\\\n\\\\nLet\\'s proceed with the plan.\"}`\\n\\n\\n', message_log=[AIMessage(content='', additional_kwargs={'tool_calls': [{'id': 'call_vwtaGu7iKJw7JLJdCOgJ27L7', 'function': {'arguments': '{\"text\":\"Thought: To determine the combined weight of a Toy Poodle and a Scottish Terrier, I need to find the average weight of each breed and then sum them up.\\\\n\\\\nPlan:\\\\n1. Find the average weight of a Toy Poodle.\\\\n2. Find the average weight of a Scottish Terrier.\\\\n3. Sum the average weights of both breeds to get the combined weight.\\\\n\\\\nLet\\'s proceed with the plan.\"}', 'name': 'extract'}, 'type': 'function'}], 'refusal': None}, response_metadata={'token_usage': {'completion_tokens': 98, 'prompt_tokens': 142, 'total_tokens': 240}, 'model_name': 'gpt-4o-mini-2024-07-18', 'system_fingerprint': 'fp_9722793223', 'finish_reason': 'tool_calls', 'logprobs': None}, id='run-b1a566ae-2150-4d83-a376-1b4e46b841d2-0', tool_calls=[{'name': 'extract', 'args': {'text': \"Thought: To determine the combined weight of a Toy Poodle and a Scottish Terrier, I need to find the average weight of each breed and then sum them up.\\n\\nPlan:\\n1. Find the average weight of a Toy Poodle.\\n2. Find the average weight of a Scottish Terrier.\\n3. Sum the average weights of both breeds to get the combined weight.\\n\\nLet's proceed with the plan.\"}, 'id': 'call_vwtaGu7iKJw7JLJdCOgJ27L7', 'type': 'tool_call'}], usage_metadata={'input_tokens': 142, 'output_tokens': 98, 'total_tokens': 240})], tool_call_id='call_vwtaGu7iKJw7JLJdCOgJ27L7')]"
      ]
     },
     "execution_count": 5,
     "metadata": {},
     "output_type": "execute_result"
    }
   ],
   "source": [
    "query = \"calculate 12 * 4\"\n",
    "query_requiring_tools = f\"extract the plan from {plan}\"\n",
    "\n",
    "print(\"\\nQuery without tools\")\n",
    "print(lm.invoke(query))\n",
    "\n",
    "lm_with_tools = lm.bind_tools(tools)\n",
    "\n",
    "prompt = ChatPromptTemplate.from_messages([\n",
    "    (\"system\", \"You are helpful but sassy assistant\"),\n",
    "    (\"user\", \"{input}\"),\n",
    "])\n",
    "\n",
    "print(\"\\nQuery with tools\")\n",
    "chain = prompt | lm_with_tools # | ToolsAgentOutputParser()\n",
    "chain_response = chain.invoke({\"input\": query_requiring_tools})\n",
    "print(type(chain_response))\n",
    "print(chain_response)\n",
    "\n",
    "print(\"\\nQuery with tools with tools output parser\")\n",
    "chain = prompt | lm_with_tools |ToolsAgentOutputParser()\n",
    "chain.invoke({\"input\": query_requiring_tools})"
   ]
  },
  {
   "cell_type": "markdown",
   "metadata": {},
   "source": [
    "# Tool Master"
   ]
  },
  {
   "cell_type": "code",
   "execution_count": 6,
   "metadata": {},
   "outputs": [],
   "source": [
    "tool_master = ToolMaster(tools)"
   ]
  },
  {
   "cell_type": "code",
   "execution_count": 7,
   "metadata": {},
   "outputs": [
    {
     "name": "stderr",
     "output_type": "stream",
     "text": [
      "2024-08-28 20:39:45 fperez-gcloud-stupid-sailor-twift httpx[1870451] INFO HTTP Request: POST https://api.openai.com/v1/chat/completions \"HTTP/1.1 200 OK\"\n",
      "2024-08-28 20:39:45 fperez-gcloud-stupid-sailor-twift root[1870451] INFO ========================================================================================================================\n",
      "2024-08-28 20:39:45 fperez-gcloud-stupid-sailor-twift root[1870451] INFO =                                                      Call Tool                                                       =\n",
      "2024-08-28 20:39:45 fperez-gcloud-stupid-sailor-twift root[1870451] INFO ========================================================================================================================\n",
      "2024-08-28 20:39:45 fperez-gcloud-stupid-sailor-twift root[1870451] INFO Extracting plan steps\n",
      "2024-08-28 20:39:47 fperez-gcloud-stupid-sailor-twift httpx[1870451] INFO HTTP Request: POST https://api.openai.com/v1/chat/completions \"HTTP/1.1 200 OK\"\n",
      "2024-08-28 20:39:47 fperez-gcloud-stupid-sailor-twift root[1870451] INFO Response (<class 'dict'>): {'plan': [{'id': '1', 'description': 'Find the average weight of a Toy Poodle.', 'dependent_steps': ['3'], 'depending_steps': []}, {'id': '2', 'description': 'Find the average weight of a Scottish Terrier.', 'dependent_steps': ['3'], 'depending_steps': []}, {'id': '3', 'description': 'Sum the average weights of both breeds to get the combined weight.', 'dependent_steps': [], 'depending_steps': ['1', '2']}]}\n"
     ]
    },
    {
     "data": {
      "text/plain": [
       "[('call_XNEl87ZHQH12Vyxd0PJQjqSd',\n",
       "  'extract',\n",
       "  {'plan': [{'id': '1',\n",
       "     'description': 'Find the average weight of a Toy Poodle.',\n",
       "     'dependent_steps': ['3'],\n",
       "     'depending_steps': []},\n",
       "    {'id': '2',\n",
       "     'description': 'Find the average weight of a Scottish Terrier.',\n",
       "     'dependent_steps': ['3'],\n",
       "     'depending_steps': []},\n",
       "    {'id': '3',\n",
       "     'description': 'Sum the average weights of both breeds to get the combined weight.',\n",
       "     'dependent_steps': [],\n",
       "     'depending_steps': ['1', '2']}]})]"
      ]
     },
     "execution_count": 7,
     "metadata": {},
     "output_type": "execute_result"
    }
   ],
   "source": [
    "new_chain = prompt | lm_with_tools | tool_master\n",
    "chain_response = new_chain.invoke({\"input\": query_requiring_tools})\n",
    "chain_response\n"
   ]
  },
  {
   "cell_type": "code",
   "execution_count": 8,
   "metadata": {},
   "outputs": [
    {
     "name": "stdout",
     "output_type": "stream",
     "text": [
      "{'plan': [{'id': '1', 'description': 'Find the average weight of a Toy Poodle.', 'dependent_steps': ['3'], 'depending_steps': []}, {'id': '2', 'description': 'Find the average weight of a Scottish Terrier.', 'dependent_steps': ['3'], 'depending_steps': []}, {'id': '3', 'description': 'Sum the average weights of both breeds to get the combined weight.', 'dependent_steps': [], 'depending_steps': ['1', '2']}]}\n",
      "<class 'dict'>\n"
     ]
    }
   ],
   "source": [
    "print(type(chain_response[0][2]))\n",
    "print(chain_response[0][2])"
   ]
  },
  {
   "cell_type": "code",
   "execution_count": 9,
   "metadata": {},
   "outputs": [
    {
     "name": "stdout",
     "output_type": "stream",
     "text": [
      "{'plan': [{'id': '1', 'description': 'Find the average weight of a Toy Poodle.', 'dependent_steps': ['3'], 'depending_steps': []}, {'id': '2', 'description': 'Find the average weight of a Scottish Terrier.', 'dependent_steps': ['3'], 'depending_steps': []}, {'id': '3', 'description': 'Sum the average weights of both breeds to get the combined weight.', 'dependent_steps': [], 'depending_steps': ['1', '2']}]}\n"
     ]
    }
   ],
   "source": [
    "plan_data = chain_response[0][2]\n",
    "print(plan_data)"
   ]
  },
  {
   "cell_type": "code",
   "execution_count": 10,
   "metadata": {},
   "outputs": [
    {
     "name": "stdout",
     "output_type": "stream",
     "text": [
      "3: Sum the average weights of both breeds to get the combined weight.\n",
      "  1: Find the average weight of a Toy Poodle.\n",
      "  2: Find the average weight of a Scottish Terrier.\n"
     ]
    }
   ],
   "source": [
    "multi_tree = PlanExtractor.build_multi_tree_plan(plan_data)\n",
    "\n",
    "multi_tree.print_multi_tree()"
   ]
  },
  {
   "cell_type": "code",
   "execution_count": null,
   "metadata": {},
   "outputs": [],
   "source": [
    "multi_tree.traverse_leafs_first_dependants()"
   ]
  },
  {
   "cell_type": "code",
   "execution_count": null,
   "metadata": {},
   "outputs": [],
   "source": [
    "multi_tree.traverse_depth_first()"
   ]
  },
  {
   "cell_type": "code",
   "execution_count": null,
   "metadata": {},
   "outputs": [],
   "source": [
    "multi_tree.traverse_breadth_first()\n"
   ]
  },
  {
   "cell_type": "code",
   "execution_count": 11,
   "metadata": {},
   "outputs": [
    {
     "name": "stdout",
     "output_type": "stream",
     "text": [
      "1: Task 1\n",
      "  2: Task 2\n",
      "    4: Task 4\n",
      "  3: Task 3\n",
      "5: Task 5\n",
      "  2: Task 2\n",
      "    4: Task 4\n"
     ]
    }
   ],
   "source": [
    "import json\n",
    "pydantic_json_plan = '''\n",
    "{\n",
    "    \"plan\": [\n",
    "        {\"id\": \"1\", \"description\": \"Task 1\", \"dependent_steps\": [], \"depending_steps\": [\"2\", \"3\"]},\n",
    "        {\"id\": \"2\", \"description\": \"Task 2\", \"dependent_steps\": [\"1\", \"5\"], \"depending_steps\": [\"4\"]},\n",
    "        {\"id\": \"3\", \"description\": \"Task 3\", \"dependent_steps\": [\"1\"], \"depending_steps\": []},\n",
    "        {\"id\": \"4\", \"description\": \"Task 4\", \"dependent_steps\": [\"2\"], \"depending_steps\": []},\n",
    "        {\"id\": \"5\", \"description\": \"Task 5\", \"dependent_steps\": [], \"depending_steps\": [\"2\"]}\n",
    "    ]\n",
    "}\n",
    "'''\n",
    "json_plan=json.loads(pydantic_json_plan)\n",
    "fake_multi_tree = PlanExtractor.build_multi_tree_plan(json_plan)\n",
    "\n",
    "fake_multi_tree.traverse_leafs_first_dependants()\n",
    "\n",
    "fake_multi_tree.print_multi_tree()"
   ]
  },
  {
   "cell_type": "code",
   "execution_count": null,
   "metadata": {},
   "outputs": [],
   "source": [
    "\n",
    "fake_multi_tree.traverse_depth_first()\n"
   ]
  },
  {
   "cell_type": "code",
   "execution_count": null,
   "metadata": {},
   "outputs": [],
   "source": [
    "fake_multi_tree.traverse_breadth_first()"
   ]
  },
  {
   "cell_type": "code",
   "execution_count": null,
   "metadata": {},
   "outputs": [],
   "source": []
  }
 ],
 "metadata": {
  "kernelspec": {
   "display_name": "default",
   "language": "python",
   "name": "python3"
  },
  "language_info": {
   "codemirror_mode": {
    "name": "ipython",
    "version": 3
   },
   "file_extension": ".py",
   "mimetype": "text/x-python",
   "name": "python",
   "nbconvert_exporter": "python",
   "pygments_lexer": "ipython3",
   "version": "3.12.5"
  }
 },
 "nbformat": 4,
 "nbformat_minor": 2
}
