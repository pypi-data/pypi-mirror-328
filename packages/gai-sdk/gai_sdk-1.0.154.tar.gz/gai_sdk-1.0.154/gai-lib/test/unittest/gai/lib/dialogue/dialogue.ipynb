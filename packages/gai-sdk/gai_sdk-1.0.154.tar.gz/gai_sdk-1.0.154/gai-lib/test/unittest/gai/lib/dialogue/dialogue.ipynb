{
 "cells": [
  {
   "cell_type": "code",
   "execution_count": 1,
   "metadata": {},
   "outputs": [
    {
     "data": {
      "text/plain": [
       "[MonologueMessagePydantic(Order=0, Name='System', Role='system', Title='Init', Content='You are a helpful assistant.', ChildMessages=[], Timestamp=1736832189),\n",
       " MonologueMessagePydantic(Order=1, Name='User', Role='user', Title='Init', Content='Tell me a one paragraph Story.', ChildMessages=[], Timestamp=1736832189),\n",
       " MonologueMessagePydantic(Order=2, Name='Assistant', Role='assistant', Title='Init', Content='', ChildMessages=[], Timestamp=1736832189)]"
      ]
     },
     "execution_count": 1,
     "metadata": {},
     "output_type": "execute_result"
    }
   ],
   "source": [
    "from gai.lib.dialogue.MonologueMessageBuilder import MonologueMessageBuilder\n",
    "\n",
    "builder = MonologueMessageBuilder()\n",
    "builder.AddSystemMessage(\"You are a helpful assistant.\").AddUserMessage(\"Tell me a one paragraph Story.\").AddAssistantMessage()\n",
    "messages = builder.Build()\n",
    "messages"
   ]
  }
 ],
 "metadata": {
  "kernelspec": {
   "display_name": ".venv",
   "language": "python",
   "name": "python3"
  },
  "language_info": {
   "codemirror_mode": {
    "name": "ipython",
    "version": 3
   },
   "file_extension": ".py",
   "mimetype": "text/x-python",
   "name": "python",
   "nbconvert_exporter": "python",
   "pygments_lexer": "ipython3",
   "version": "3.10.12"
  }
 },
 "nbformat": 4,
 "nbformat_minor": 2
}
