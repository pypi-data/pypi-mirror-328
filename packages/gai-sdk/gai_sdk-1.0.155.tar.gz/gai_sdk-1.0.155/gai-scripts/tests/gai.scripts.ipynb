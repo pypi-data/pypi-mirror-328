{
 "cells": [
  {
   "cell_type": "markdown",
   "metadata": {},
   "source": [
    "### _get_version"
   ]
  },
  {
   "cell_type": "code",
   "execution_count": 16,
   "metadata": {},
   "outputs": [
    {
     "data": {
      "text/plain": [
       "'0.251'"
      ]
     },
     "execution_count": 16,
     "metadata": {},
     "output_type": "execute_result"
    }
   ],
   "source": [
    "import os\n",
    "here=os.path.dirname(os.path.abspath(__name__))\n",
    "pyproject_path=os.path.abspath(os.path.join(here,\"..\",\"..\",\"pyproject.toml\"))\n",
    "\n",
    "from gai.scripts._scripts_utils import _get_version\n",
    "_get_version(pyproject_path)"
   ]
  },
  {
   "cell_type": "markdown",
   "metadata": {},
   "source": [
    "### _cmd"
   ]
  },
  {
   "cell_type": "code",
   "execution_count": 17,
   "metadata": {},
   "outputs": [
    {
     "name": "stdout",
     "output_type": "stream",
     "text": [
      "[build-system]\n",
      "requires = [ \"poetry-core\", \"setuptools>=60\", \"setuptools-scm>=8.0\",]\n",
      "build-backend = \"poetry.core.masonry.api\"\n",
      "\n",
      "[tool.poetry]\n",
      "name = \"gai-sdk\"\n",
      "version = \"0.251\"\n",
      "description = \"Refer to https://gai-labs.github.io/gai for more information\"\n",
      "authors = [ \"kakkoii1337 <kakkoii1337@gmail.com>\",]\n",
      "license = \"MIT\"\n",
      "classifiers = [ \"Programming Language :: Python :: 3.10\", \"Development Status :: 3 - Alpha\", \"License :: OSI Approved :: MIT License\", \"Intended Audience :: Science/Research\", \"Intended Audience :: Developers\", \"Operating System :: OS Independent\", \"Topic :: Software Development\", \"Topic :: Software Development :: Libraries :: Python Modules\", \"Topic :: Scientific/Engineering :: Artificial Intelligence\",]\n",
      "include = [ \"gai/docker-compose.yml\", \"gai/cli/artifacts/tools.txt\", \"gai/gai.yml\",]\n",
      "\n",
      "[[tool.poetry.packages]]\n",
      "include = \"gai\"\n",
      "from = \".\"\n",
      "\n",
      "[[tool.poetry.packages]]\n",
      "include = \"gai/scripts\"\n",
      "from = \"gai-scripts/src\"\n",
      "\n",
      "[[tool.poetry.packages]]\n",
      "include = \"gai/lib\"\n",
      "from = \"gai-lib/src\"\n",
      "\n",
      "[[tool.poetry.packages]]\n",
      "include = \"gai/itt\"\n",
      "from = \"gai-itt/src\"\n",
      "\n",
      "[[tool.poetry.packages]]\n",
      "include = \"gai/ttt\"\n",
      "from = \"gai-ttt/src\"\n",
      "\n",
      "[[tool.poetry.packages]]\n",
      "include = \"gai/rag\"\n",
      "from = \"gai-rag/src\"\n",
      "\n",
      "[[tool.poetry.packages]]\n",
      "include = \"gai/tti\"\n",
      "from = \"gai-tti/src\"\n",
      "\n",
      "[[tool.poetry.packages]]\n",
      "include = \"gai/tts\"\n",
      "from = \"gai-tts/src\"\n",
      "\n",
      "[tool.poetry.scripts]\n",
      "gai = \"gai.scripts.main:main\"\n",
      "\n",
      "[tool.poetry.dependencies]\n",
      "python = \"^3.10,<3.12\"\n",
      "fastapi = \"*\"\n",
      "numpy = \"^1.22.0, <2.0.0\"\n",
      "openai = \"^1.40.0, <2.0.0\"\n",
      "pydantic = \"*\"\n",
      "pynvml = \"^11.5.3\"\n",
      "python-dotenv = \"^1.0.1\"\n",
      "huggingface_hub = \"^0.24.5\"\n",
      "click = \"^8.1.7\"\n",
      "pillow = \"^10.4.0\"\n",
      "rich = \"^13.7.1\"\n",
      "websockets = \"^13.0.0\"\n",
      "\n",
      "[tool.poetry.group.dev.dependencies]\n",
      "pytest = \"^8.3.2\"\n",
      "nox = \"^2024.4.15\"\n",
      "twine = \"^5.1.1\"\n",
      "\"keyrings.alt\" = \"^5.0.1\"\n",
      "ipykernel = \"^6.29.5\"\n",
      "toml = \"^0.10.2\"\n",
      "flake8 = \"^7.1.1\"\n",
      "pytest-ordering = \"^0.6\"\n",
      "bs4 = \"^0.0.2\"\n"
     ]
    }
   ],
   "source": [
    "import os\n",
    "here=os.path.dirname(os.path.abspath(__name__))\n",
    "pyproject_path=os.path.abspath(os.path.join(here,\"..\",\"..\",\"pyproject.toml\"))\n",
    "\n",
    "from gai.scripts._scripts_utils import _cmd\n",
    "_cmd(f\"cat {pyproject_path}\")"
   ]
  },
  {
   "cell_type": "code",
   "execution_count": 18,
   "metadata": {},
   "outputs": [
    {
     "data": {
      "text/plain": [
       "True"
      ]
     },
     "execution_count": 18,
     "metadata": {},
     "output_type": "execute_result"
    }
   ],
   "source": [
    "from gai.scripts._docker_utils import _docker_image_exists\n",
    "_docker_image_exists(\"kakkoii1337/gai-ttt:latest\")"
   ]
  },
  {
   "cell_type": "markdown",
   "metadata": {},
   "source": [
    "## Test 1"
   ]
  },
  {
   "cell_type": "code",
   "execution_count": 2,
   "metadata": {},
   "outputs": [
    {
     "name": "stdout",
     "output_type": "stream",
     "text": [
      "gai-sdk 0.251\n"
     ]
    },
    {
     "data": {
      "text/plain": [
       "\"Package 'gai-ttt-svr' is not installed.\""
      ]
     },
     "execution_count": 2,
     "metadata": {},
     "output_type": "execute_result"
    }
   ],
   "source": [
    "from gai.scripts._scripts_utils import _get_package_info\n",
    "_get_package_info(\"gai-sdk\")\n",
    "_get_package_info(\"gai-ttt-svr\")"
   ]
  }
 ],
 "metadata": {
  "kernelspec": {
   "display_name": "gai-sdk",
   "language": "python",
   "name": "python3"
  },
  "language_info": {
   "codemirror_mode": {
    "name": "ipython",
    "version": 3
   },
   "file_extension": ".py",
   "mimetype": "text/x-python",
   "name": "python",
   "nbconvert_exporter": "python",
   "pygments_lexer": "ipython3",
   "version": "3.10.10"
  }
 },
 "nbformat": 4,
 "nbformat_minor": 2
}
