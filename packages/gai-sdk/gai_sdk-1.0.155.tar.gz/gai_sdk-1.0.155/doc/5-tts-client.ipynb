{
 "cells": [
  {
   "cell_type": "markdown",
   "metadata": {},
   "source": [
    "# TTS(Text-To-Speech) Client\n",
    "\n",
    "## 1. Download Model\n",
    "\n",
    "```bash\n",
    "gai pull xttsv2-coquis\n",
    "```\n",
    "\n",
    "## 2. Install ffplay\n",
    "\n",
    "```bash\n",
    "sudo apt update && sudo apt install ffmpeg -y\n",
    "```\n"
   ]
  },
  {
   "cell_type": "markdown",
   "metadata": {},
   "source": [
    "## 2. Generate Speech"
   ]
  },
  {
   "cell_type": "code",
   "execution_count": 3,
   "metadata": {},
   "outputs": [],
   "source": [
    "# stable diffusion\n",
    "from gai.tts.client.tts_client import TTSClient\n",
    "client = TTSClient({\n",
    "    \"client_type\":\"gai\",\n",
    "    \"url\":\"http://localhost:12032/gen/v1/audio/speech\"\n",
    "})\n",
    "response = client(input=\"The definition of insanity is doing the same thing over and over and expecting different results.\",stream=True)\n",
    "\n",
    "from gai.lib.common.sound_utils import play_audio\n",
    "play_audio(response)\n"
   ]
  }
 ],
 "metadata": {
  "kernelspec": {
   "display_name": "gai-sdk",
   "language": "python",
   "name": "python3"
  },
  "language_info": {
   "codemirror_mode": {
    "name": "ipython",
    "version": 3
   },
   "file_extension": ".py",
   "mimetype": "text/x-python",
   "name": "python",
   "nbconvert_exporter": "python",
   "pygments_lexer": "ipython3",
   "version": "3.10.10"
  }
 },
 "nbformat": 4,
 "nbformat_minor": 2
}
