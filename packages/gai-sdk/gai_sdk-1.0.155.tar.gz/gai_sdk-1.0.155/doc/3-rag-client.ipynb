{
    "cells": [
        {
            "cell_type": "markdown",
            "metadata": {},
            "source": [
                "# RAG(Retrieval-Augmented-Generation) Client\n",
                "\n",
                "## 1. Download Model\n",
                "\n",
                "```bash\n",
                "gai pull instructor-sentencepiece\n",
                "```\n",
                "\n",
                "## 2. Start RAG Service\n",
                "\n",
                "* Go to /gai\n",
                "\n",
                "* Open docker-compose.yml\n",
                "\n",
                "* Make sure that the following section is not commented.\n",
                "\n",
                "```yaml\n",
                "    gai-rag-svr:\n",
                "        image: kakkoii1337/gai-rag-svr:1.0.17\n",
                "        container_name: gai-rag-svr\n",
                "        ...\n",
                "```\n",
                "\n",
                "* Run the command:\n",
                "\n",
                "```sh\n",
                "docker-compose up\n",
                "```\n",
                "\n"
            ]
        },
        {
            "cell_type": "markdown",
            "metadata": {},
            "source": [
                "## Example 1: Ask about a Web Page"
            ]
        },
        {
            "cell_type": "markdown",
            "metadata": {},
            "source": [
                "### Smoke Test"
            ]
        },
        {
            "cell_type": "code",
            "execution_count": null,
            "metadata": {},
            "outputs": [
                {
                    "name": "stdout",
                    "output_type": "stream",
                    "text": [
                        "[-0.0483919195830822, -0.0028134046588093042, -0.018624519929289818, -0.00446718605235219, 0.0265971552580595, 0.03294454514980316, 0.0061969878152012825, -0.008797473274171352, 0.004689408931881189, 0.06672601401805878, 0.0323917493224144, 0.011101982556283474, 0.025392407551407814, 0.043243832886219025, -0.024063099175691605, 0.006406883709132671, -0.06695400923490524, 0.008188264444470406, -0.04306166246533394, -0.014614514075219631, 0.04823515936732292, 0.009705739095807076, -0.006045014597475529, 0.03819381073117256, 0.018029479309916496, 0.040459856390953064, -0.046796754002571106, -0.0008777673356235027, 0.07563018053770065, -0.06293530762195587, 0.010833396576344967, -0.051085464656353, -0.02351493388414383, -0.026509391143918037, -0.03416185826063156, 0.025490660220384598, 0.027415992692112923, 0.04541882127523422, 0.02120743878185749, 0.028193600475788116, -0.00928844790905714, -0.006853214930742979, 0.015249678865075111, -0.03229036554694176, 0.020393043756484985, -0.0026365085504949093, -0.025651808828115463, -0.04660467430949211, 0.012806772254407406, -0.01956787519156933, -0.0316033698618412, -0.051371604204177856, -0.040345385670661926, 0.007237196434289217, 0.002216994296759367, -0.0013654549838975072, -0.058859024196863174, 0.016075871884822845, 0.0728912279009819, -0.029195327311754227, -0.043486058712005615, 0.021910542622208595, -0.08414983749389648, 0.027066810056567192, 0.044810548424720764, -0.05814165621995926, 0.05407066270709038, -0.01900944672524929, 0.012501888908445835, -0.009875020012259483, 0.026018165051937103, -0.053652770817279816, 0.01914302259683609, -0.05333473160862923, -0.016139334067702293, -0.03715875744819641, 0.02465158700942993, 0.03795129805803299, -0.038944561034440994, 0.04455702006816864, 0.009023580700159073, 0.014229879714548588, 0.055034339427948, -0.029109831899404526, -0.051468491554260254, -0.008064263500273228, -0.03444686159491539, 0.033973272889852524, 0.013666737824678421, 0.022815154865384102, -0.024153780192136765, -0.05763736739754677, -0.009861133061349392, -0.02287367358803749, -0.0020702346228063107, 0.06506846845149994, 0.05822425335645676, -0.00419920077547431, 0.040099985897541046, 0.04118844121694565]\n"
                    ]
                }
            ],
            "source": [
                "from gai.rag.client.rag_client_async import RagClientAsync\n",
                "rag = RagClientAsync({\n",
                "    \"client_type\":\"gai\",\n",
                "    \"url\":\"http://localhost:12036/gen/v1/rag\"\n",
                "    })\n",
                "encode_response = await rag.encode_async(\"Hello, world!\")\n",
                "print(encode_response.encoded_data[:100])"
            ]
        },
        {
            "cell_type": "markdown",
            "metadata": {},
            "source": [
                "### Step 1: Scrape text from the web for testing\n",
                "\n",
                "Scrape a speech from the web and save it to a file."
            ]
        },
        {
            "cell_type": "code",
            "execution_count": 3,
            "metadata": {},
            "outputs": [
                {
                    "name": "stderr",
                    "output_type": "stream",
                    "text": [
                        "/tmp/ipykernel_94074/2286610939.py:14: RuntimeWarning: coroutine 'SeleniumClient.scrape' was never awaited\n",
                        "  text,links = selenium_client.scrape(\"https://www.pmo.gov.sg/Newsroom/national-day-rally-2023\")\n",
                        "RuntimeWarning: Enable tracemalloc to get the object allocation traceback\n"
                    ]
                },
                {
                    "ename": "TypeError",
                    "evalue": "cannot unpack non-iterable coroutine object",
                    "output_type": "error",
                    "traceback": [
                        "\u001b[0;31m---------------------------------------------------------------------------\u001b[0m",
                        "\u001b[0;31mTypeError\u001b[0m                                 Traceback (most recent call last)",
                        "Cell \u001b[0;32mIn[3], line 14\u001b[0m\n\u001b[1;32m      3\u001b[0m \u001b[38;5;28;01mfrom\u001b[39;00m \u001b[38;5;21;01mgai\u001b[39;00m\u001b[38;5;21;01m.\u001b[39;00m\u001b[38;5;21;01mselenium\u001b[39;00m\u001b[38;5;21;01m.\u001b[39;00m\u001b[38;5;21;01mclient\u001b[39;00m \u001b[38;5;28;01mimport\u001b[39;00m SeleniumClient\n\u001b[1;32m      5\u001b[0m selenium_client \u001b[38;5;241m=\u001b[39m SeleniumClient(config\u001b[38;5;241m=\u001b[39m{\n\u001b[1;32m      6\u001b[0m     \u001b[38;5;124m\"\u001b[39m\u001b[38;5;124mtype\u001b[39m\u001b[38;5;124m\"\u001b[39m: \u001b[38;5;124m\"\u001b[39m\u001b[38;5;124mscraper\u001b[39m\u001b[38;5;124m\"\u001b[39m,\n\u001b[1;32m      7\u001b[0m     \u001b[38;5;124m\"\u001b[39m\u001b[38;5;124mengine\u001b[39m\u001b[38;5;124m\"\u001b[39m: \u001b[38;5;124m\"\u001b[39m\u001b[38;5;124mselenium\u001b[39m\u001b[38;5;124m\"\u001b[39m,\n\u001b[0;32m   (...)\u001b[0m\n\u001b[1;32m     11\u001b[0m     \u001b[38;5;124m\"\u001b[39m\u001b[38;5;124murl\u001b[39m\u001b[38;5;124m\"\u001b[39m: \u001b[38;5;124m\"\u001b[39m\u001b[38;5;124mhttp://localhost:12028/api/v1\u001b[39m\u001b[38;5;124m\"\u001b[39m\n\u001b[1;32m     12\u001b[0m })\n\u001b[0;32m---> 14\u001b[0m text,links \u001b[38;5;241m=\u001b[39m selenium_client\u001b[38;5;241m.\u001b[39mscrape(\u001b[38;5;124m\"\u001b[39m\u001b[38;5;124mhttps://www.pmo.gov.sg/Newsroom/national-day-rally-2023\u001b[39m\u001b[38;5;124m\"\u001b[39m)\n\u001b[1;32m     15\u001b[0m \u001b[38;5;28;01mimport\u001b[39;00m \u001b[38;5;21;01mtempfile\u001b[39;00m\n\u001b[1;32m     16\u001b[0m \u001b[38;5;28;01mwith\u001b[39;00m tempfile\u001b[38;5;241m.\u001b[39mNamedTemporaryFile(mode\u001b[38;5;241m=\u001b[39m\u001b[38;5;124m\"\u001b[39m\u001b[38;5;124mw\u001b[39m\u001b[38;5;124m\"\u001b[39m, delete\u001b[38;5;241m=\u001b[39m\u001b[38;5;28;01mFalse\u001b[39;00m) \u001b[38;5;28;01mas\u001b[39;00m f:\n",
                        "\u001b[0;31mTypeError\u001b[0m: cannot unpack non-iterable coroutine object"
                    ]
                }
            ],
            "source": [
                "import os\n",
                "os.environ[\"LOG_LEVEL\"]=\"INFO\"\n",
                "from gai.selenium.client import SeleniumClient\n",
                "\n",
                "selenium_client = SeleniumClient(config={\n",
                "    \"type\": \"scraper\",\n",
                "    \"engine\": \"selenium\",\n",
                "    \"model\": \"selenium\",\n",
                "    \"name\": \"gai-selenium\",\n",
                "    \"client_type\": \"gai\",\n",
                "    \"url\": \"http://localhost:12028/api/v1\"\n",
                "})\n",
                "\n",
                "text,links = selenium_client.scrape(\"https://www.pmo.gov.sg/Newsroom/national-day-rally-2023\")\n",
                "import tempfile\n",
                "with tempfile.NamedTemporaryFile(mode=\"w\", delete=False) as f:\n",
                "    f.write(text)\n",
                "    file_path = f.name"
            ]
        },
        {
            "cell_type": "markdown",
            "metadata": {},
            "source": [
                "### Step 2: Index the file"
            ]
        },
        {
            "cell_type": "code",
            "execution_count": 4,
            "metadata": {},
            "outputs": [
                {
                    "name": "stdout",
                    "output_type": "stream",
                    "text": [
                        "async_callback: {'progress': 2}\n",
                        "async_callback: {'progress': 4}\n",
                        "async_callback: {'progress': 6}\n",
                        "async_callback: {'progress': 8}\n",
                        "async_callback: {'progress': 10}\n",
                        "async_callback: {'progress': 12}\n",
                        "async_callback: {'progress': 14}\n",
                        "async_callback: {'progress': 16}\n",
                        "async_callback: {'progress': 18}\n",
                        "async_callback: {'progress': 20}\n",
                        "async_callback: {'progress': 22}\n",
                        "async_callback: {'progress': 24}\n",
                        "async_callback: {'progress': 26}\n",
                        "async_callback: {'progress': 28}\n",
                        "async_callback: {'progress': 30}\n",
                        "async_callback: {'progress': 32}\n",
                        "async_callback: {'progress': 34}\n",
                        "async_callback: {'progress': 36}\n",
                        "async_callback: {'progress': 38}\n",
                        "async_callback: {'progress': 40}\n",
                        "async_callback: {'progress': 42}\n",
                        "async_callback: {'progress': 44}\n",
                        "async_callback: {'progress': 46}\n",
                        "async_callback: {'progress': 48}\n",
                        "async_callback: {'progress': 51}\n",
                        "async_callback: {'progress': 53}\n",
                        "async_callback: {'progress': 55}\n",
                        "async_callback: {'progress': 57}\n",
                        "async_callback: {'progress': 59}\n",
                        "async_callback: {'progress': 61}\n",
                        "async_callback: {'progress': 63}\n",
                        "async_callback: {'progress': 65}\n",
                        "async_callback: {'progress': 67}\n",
                        "async_callback: {'progress': 69}\n",
                        "async_callback: {'progress': 71}\n",
                        "async_callback: {'progress': 73}\n",
                        "async_callback: {'progress': 75}\n",
                        "async_callback: {'progress': 77}\n",
                        "async_callback: {'progress': 79}\n",
                        "async_callback: {'progress': 81}\n",
                        "async_callback: {'progress': 83}\n",
                        "async_callback: {'progress': 85}\n",
                        "async_callback: {'progress': 87}\n",
                        "async_callback: {'progress': 89}\n",
                        "async_callback: {'progress': 91}\n",
                        "async_callback: {'progress': 93}\n",
                        "async_callback: {'progress': 95}\n",
                        "async_callback: {'progress': 97}\n",
                        "async_callback: {'progress': 100}\n"
                    ]
                }
            ],
            "source": [
                "# Load RAG client\n",
                "from gai.rag.client.rag_client_async import RagClientAsync\n",
                "rag = RagClientAsync(config={\n",
                "    \"client_type\": \"gai\",\n",
                "    \"url\": \"http://localhost:12036/gen/v1/rag\",\n",
                "    \"extra\":{\n",
                "        \"ws_url\": \"ws://localhost:12036/gen/v1/rag/index-file/ws\"\n",
                "    }\n",
                "})\n",
                "\n",
                "# Create callback\n",
                "import json\n",
                "async def async_callback(text):\n",
                "    jsoned = json.loads(text)\n",
                "    print(f\"async_callback: {jsoned}\")\n",
                "\n",
                "# Index the sample speech\n",
                "result = await rag.index_document_async(\n",
                "    collection_name=\"demo\",\n",
                "    file_path=file_path,\n",
                "    file_type=\"txt\",\n",
                "    title=\"2023 National Day Rally Speech\",\n",
                "    source=\"https://www.pmo.gov.sg/Newsroom/national-day-rally-2023\",\n",
                "    async_callback=async_callback,\n",
                ")\n"
            ]
        },
        {
            "cell_type": "markdown",
            "metadata": {},
            "source": [
                "### Step 3. Asking a question"
            ]
        },
        {
            "cell_type": "code",
            "execution_count": 5,
            "metadata": {},
            "outputs": [
                {
                    "name": "stdout",
                    "output_type": "stream",
                    "text": [
                        "{'documents': 'and the Merdeka Generation; “Seniors”, because you will soon retire, or maybe you have recently retired. Young Seniors are in a unique position today. Compared to the Pioneer and Merdeka Generations, you have benefited more from Singapore’s growth, and generally done better in life. But compared to workers younger than you, in their 30s and 40s today, you have generally earned less over your lifetimes. You have also had less time to benefit from improvements to the CPF system, and so have built up less retirement savings. Young Seniors are also in a particularly sandwiched phase of your lives. You have to shoulder the responsibility of caring for both the young and old in your families. Your kids may be young adults, but often are not yet fully independent and still live in the same household. Many of you Young Seniors also have elderly parents at home, who may be beset with the infirmities of old age. You have to shuttle them to medical appointments and hospital visits, plus attend', 'metadatas': {'Abstract': '', 'ChunkGroupId': '61b16a48-6759-43ce-928e-31b954d5a28f', 'DocumentId': '7eJgbvZr6HtO7lPIhPto2FF0QbWtwaQc-9TleTFFS5I', 'Keywords': '', 'PublishedDate': '', 'Source': 'https://www.pmo.gov.sg/Newsroom/national-day-rally-2023', 'Title': '2023 National Day Rally Speech'}, 'distances': 0.11369931697845459, 'ids': '5e6c0271-f46a-4163-bc65-f55a578302d0'}\n"
                    ]
                }
            ],
            "source": [
                "# Retrieve from query\n",
                "results = await rag.retrieve_async(\n",
                "    collection_name=\"demo\",\n",
                "    query_texts=\"Who are the young seniors?\",\n",
                "    n_results=1\n",
                ")\n",
                "for result in results:\n",
                "    print(result)\n"
            ]
        },
        {
            "cell_type": "markdown",
            "metadata": {},
            "source": [
                "### 3. List Collections"
            ]
        },
        {
            "cell_type": "code",
            "execution_count": 6,
            "metadata": {},
            "outputs": [
                {
                    "data": {
                        "text/plain": [
                            "{'collections': ['demo']}"
                        ]
                    },
                    "execution_count": 6,
                    "metadata": {},
                    "output_type": "execute_result"
                }
            ],
            "source": [
                "await rag.list_collections_async()"
            ]
        },
        {
            "cell_type": "markdown",
            "metadata": {},
            "source": [
                "### 4. List Document Headers"
            ]
        },
        {
            "cell_type": "code",
            "execution_count": 7,
            "metadata": {},
            "outputs": [
                {
                    "data": {
                        "text/plain": [
                            "[IndexedDocPydantic(Id='7eJgbvZr6HtO7lPIhPto2FF0QbWtwaQc-9TleTFFS5I', CollectionName='demo', ByteSize=44189, FileName='43731eec-fd2d-4d4f-9d75-4e9afb8ddd3b.txt', FileType='txt', File=None, Source='https://www.pmo.gov.sg/Newsroom/national-day-rally-2023', Abstract=None, Authors='', Title='2023 National Day Rally Speech', Publisher='', PublishedDate=None, Comments='', Keywords='', CreatedAt=datetime.datetime(2025, 1, 15, 1, 15, 51, 624810), UpdatedAt=datetime.datetime(2025, 1, 15, 1, 15, 51, 624819), IsActive=True, ChunkGroups=[IndexedDocChunkGroupPydantic(Id='61b16a48-6759-43ce-928e-31b954d5a28f', DocumentId='7eJgbvZr6HtO7lPIhPto2FF0QbWtwaQc-9TleTFFS5I', SplitAlgo='recursive_split', ChunkCount=49, ChunkSize=1000, Overlap=100, IsActive=True, ChunksDir='/tmp/chunks/1c08f264366c4f5e981ffbe0b6bdfdda')])]"
                        ]
                    },
                    "execution_count": 7,
                    "metadata": {},
                    "output_type": "execute_result"
                }
            ],
            "source": [
                "docs = await rag.list_documents_async(collection_name=\"demo\")\n",
                "docs"
            ]
        },
        {
            "cell_type": "markdown",
            "metadata": {},
            "source": [
                "### 5. Download File"
            ]
        },
        {
            "cell_type": "code",
            "execution_count": 8,
            "metadata": {},
            "outputs": [],
            "source": [
                "await rag.get_document_file_async(collection_name=\"demo\",document_id=docs[0].Id)"
            ]
        },
        {
            "cell_type": "markdown",
            "metadata": {},
            "source": [
                "---\n",
                "\n",
                "## Appendix: Multi-Step Indexing\n",
                "\n",
                "This achieves the same outcome as step 2 but broken down into multiple steps for ease of debugging. For this demo, we shall use a PDF file.\n",
                "\n",
                "### Step 0: Setup"
            ]
        },
        {
            "cell_type": "code",
            "execution_count": 1,
            "metadata": {},
            "outputs": [],
            "source": [
                "import os\n",
                "from gai.rag.client.rag_client_async import RagClientAsync\n",
                "\n",
                "rag = RagClientAsync(config={\n",
                "    \"client_type\": \"gai\",\n",
                "    \"url\": \"http://localhost:12036/gen/v1/rag\",\n",
                "    \"extra\":{\n",
                "        \"ws_url\": \"ws://localhost:12036/gen/v1/rag/index-file/ws\"\n",
                "    }\n",
                "})\n",
                "\n"
            ]
        },
        {
            "cell_type": "markdown",
            "metadata": {},
            "source": [
                "### Step 1: Create header"
            ]
        },
        {
            "cell_type": "code",
            "execution_count": 2,
            "metadata": {},
            "outputs": [
                {
                    "data": {
                        "text/plain": [
                            "IndexedDocPydantic(Id='Mm1GAmuGfs3VoA2sit0njabQGAZ75eyfszIkAxGY5e4', CollectionName='demo', ByteSize=633805, FileName='ReAct-2210.03629.pdf', FileType='.pdf', File=None, Source='https://arxiv.org/abs/2210.03629', Abstract=None, Authors='', Title='ReAct: Synergizing Reasoning and Acting in Language Models', Publisher='', PublishedDate=None, Comments='', Keywords='', CreatedAt=datetime.datetime(2025, 1, 15, 1, 17, 39, 995269), UpdatedAt=datetime.datetime(2025, 1, 15, 1, 25, 4, 893489), IsActive=True, ChunkGroups=[IndexedDocChunkGroupPydantic(Id='96c2c87f-97c5-4587-a68b-d36862043a14', DocumentId='Mm1GAmuGfs3VoA2sit0njabQGAZ75eyfszIkAxGY5e4', SplitAlgo='recursive_split', ChunkCount=114, ChunkSize=1000, Overlap=100, IsActive=True, ChunksDir='/tmp/chunks/494a1410dbff466fae862532b852914b')])"
                        ]
                    },
                    "execution_count": 2,
                    "metadata": {},
                    "output_type": "execute_result"
                }
            ],
            "source": [
                "here = os.path.dirname(__name__)\n",
                "file_path=os.path.join(here,\"ReAct-2210.03629.pdf\")\n",
                "doc_header = await rag.step_header_async(\n",
                "    collection_name=\"demo\",\n",
                "    file_path=file_path,\n",
                "    title=\"ReAct: Synergizing Reasoning and Acting in Language Models\",\n",
                "    source=\"https://arxiv.org/abs/2210.03629\",\n",
                ")\n",
                "doc_header"
            ]
        },
        {
            "cell_type": "markdown",
            "metadata": {},
            "source": [
                "### Step 2: Split Document"
            ]
        },
        {
            "cell_type": "code",
            "execution_count": 11,
            "metadata": {},
            "outputs": [
                {
                    "data": {
                        "text/plain": [
                            "IndexedDocChunkGroupPydantic(Id='96c2c87f-97c5-4587-a68b-d36862043a14', DocumentId='Mm1GAmuGfs3VoA2sit0njabQGAZ75eyfszIkAxGY5e4', SplitAlgo='recursive_split', ChunkCount=114, ChunkSize=1000, Overlap=100, IsActive=True, ChunksDir='/tmp/chunks/494a1410dbff466fae862532b852914b')"
                        ]
                    },
                    "execution_count": 11,
                    "metadata": {},
                    "output_type": "execute_result"
                }
            ],
            "source": [
                "chunkgroup = await rag.step_split_async(\n",
                "    collection_name=\"demo\",\n",
                "    document_id=doc_header.Id,\n",
                "    chunk_size=1000,\n",
                "    chunk_overlap=100\n",
                ")\n",
                "chunkgroup"
            ]
        },
        {
            "cell_type": "markdown",
            "metadata": {},
            "source": [
                "### Step 3: Index Chunks"
            ]
        },
        {
            "cell_type": "code",
            "execution_count": 12,
            "metadata": {},
            "outputs": [
                {
                    "name": "stdout",
                    "output_type": "stream",
                    "text": [
                        "async_callback: {'progress': 0}\n",
                        "async_callback: {'progress': 1}\n",
                        "async_callback: {'progress': 2}\n",
                        "async_callback: {'progress': 3}\n",
                        "async_callback: {'progress': 4}\n",
                        "async_callback: {'progress': 5}\n",
                        "async_callback: {'progress': 6}\n",
                        "async_callback: {'progress': 7}\n",
                        "async_callback: {'progress': 7}\n",
                        "async_callback: {'progress': 8}\n",
                        "async_callback: {'progress': 9}\n",
                        "async_callback: {'progress': 10}\n",
                        "async_callback: {'progress': 11}\n",
                        "async_callback: {'progress': 12}\n",
                        "async_callback: {'progress': 13}\n",
                        "async_callback: {'progress': 14}\n",
                        "async_callback: {'progress': 14}\n",
                        "async_callback: {'progress': 15}\n",
                        "async_callback: {'progress': 16}\n",
                        "async_callback: {'progress': 17}\n",
                        "async_callback: {'progress': 18}\n",
                        "async_callback: {'progress': 19}\n",
                        "async_callback: {'progress': 20}\n",
                        "async_callback: {'progress': 21}\n",
                        "async_callback: {'progress': 21}\n",
                        "async_callback: {'progress': 22}\n",
                        "async_callback: {'progress': 23}\n",
                        "async_callback: {'progress': 24}\n",
                        "async_callback: {'progress': 25}\n",
                        "async_callback: {'progress': 26}\n",
                        "async_callback: {'progress': 27}\n",
                        "async_callback: {'progress': 28}\n",
                        "async_callback: {'progress': 28}\n",
                        "async_callback: {'progress': 29}\n",
                        "async_callback: {'progress': 30}\n",
                        "async_callback: {'progress': 31}\n",
                        "async_callback: {'progress': 32}\n",
                        "async_callback: {'progress': 33}\n",
                        "async_callback: {'progress': 34}\n",
                        "async_callback: {'progress': 35}\n",
                        "async_callback: {'progress': 35}\n",
                        "async_callback: {'progress': 36}\n",
                        "async_callback: {'progress': 37}\n",
                        "async_callback: {'progress': 38}\n",
                        "async_callback: {'progress': 39}\n",
                        "async_callback: {'progress': 40}\n",
                        "async_callback: {'progress': 41}\n",
                        "async_callback: {'progress': 42}\n",
                        "async_callback: {'progress': 42}\n",
                        "async_callback: {'progress': 43}\n",
                        "async_callback: {'progress': 44}\n",
                        "async_callback: {'progress': 45}\n",
                        "async_callback: {'progress': 46}\n",
                        "async_callback: {'progress': 47}\n",
                        "async_callback: {'progress': 48}\n",
                        "async_callback: {'progress': 49}\n",
                        "async_callback: {'progress': 50}\n",
                        "async_callback: {'progress': 50}\n",
                        "async_callback: {'progress': 51}\n",
                        "async_callback: {'progress': 52}\n",
                        "async_callback: {'progress': 53}\n",
                        "async_callback: {'progress': 54}\n",
                        "async_callback: {'progress': 55}\n",
                        "async_callback: {'progress': 56}\n",
                        "async_callback: {'progress': 57}\n",
                        "async_callback: {'progress': 57}\n",
                        "async_callback: {'progress': 58}\n",
                        "async_callback: {'progress': 59}\n",
                        "async_callback: {'progress': 60}\n",
                        "async_callback: {'progress': 61}\n",
                        "async_callback: {'progress': 62}\n",
                        "async_callback: {'progress': 63}\n",
                        "async_callback: {'progress': 64}\n",
                        "async_callback: {'progress': 64}\n",
                        "async_callback: {'progress': 65}\n",
                        "async_callback: {'progress': 66}\n",
                        "async_callback: {'progress': 67}\n",
                        "async_callback: {'progress': 68}\n",
                        "async_callback: {'progress': 69}\n",
                        "async_callback: {'progress': 70}\n",
                        "async_callback: {'progress': 71}\n",
                        "async_callback: {'progress': 71}\n",
                        "async_callback: {'progress': 72}\n",
                        "async_callback: {'progress': 73}\n",
                        "async_callback: {'progress': 74}\n",
                        "async_callback: {'progress': 75}\n",
                        "async_callback: {'progress': 76}\n",
                        "async_callback: {'progress': 77}\n",
                        "async_callback: {'progress': 78}\n",
                        "async_callback: {'progress': 78}\n",
                        "async_callback: {'progress': 79}\n",
                        "async_callback: {'progress': 80}\n",
                        "async_callback: {'progress': 81}\n",
                        "async_callback: {'progress': 82}\n",
                        "async_callback: {'progress': 83}\n",
                        "async_callback: {'progress': 84}\n",
                        "async_callback: {'progress': 85}\n",
                        "async_callback: {'progress': 85}\n",
                        "async_callback: {'progress': 86}\n",
                        "async_callback: {'progress': 87}\n",
                        "async_callback: {'progress': 88}\n",
                        "async_callback: {'progress': 89}\n",
                        "async_callback: {'progress': 90}\n",
                        "async_callback: {'progress': 91}\n",
                        "async_callback: {'progress': 92}\n",
                        "async_callback: {'progress': 92}\n",
                        "async_callback: {'progress': 93}\n",
                        "async_callback: {'progress': 94}\n",
                        "async_callback: {'progress': 95}\n",
                        "async_callback: {'progress': 96}\n",
                        "async_callback: {'progress': 97}\n",
                        "async_callback: {'progress': 98}\n",
                        "async_callback: {'progress': 99}\n",
                        "async_callback: {'progress': 100}\n"
                    ]
                },
                {
                    "data": {
                        "text/plain": [
                            "IndexedDocChunkIdsPydantic(DocumentId='Mm1GAmuGfs3VoA2sit0njabQGAZ75eyfszIkAxGY5e4', ChunkgroupId='96c2c87f-97c5-4587-a68b-d36862043a14', ChunkIds=['86043838-d64b-434b-98de-5eebae2ef11e', '6c4165e6-1623-43d4-a5c0-3ca17be10187', 'ff6e5eae-0077-4999-95c4-f4c74730385b', 'fc29140a-372a-4c5f-80f2-d286d14ea478', 'd06c0e07-d9bc-4535-a114-254275c68fef', '0e136f46-2c54-45ef-9819-237deff7f66f', '38ef9364-b3e4-4222-9906-52ee9d4f1732', 'aeec1790-dab3-410a-b1b9-2ab4b5c4477e', 'e6ba1a37-b3da-43ff-bb8e-0c4ef856ba4c', '9276b850-a2f5-4524-9565-063416f7c2f7', '90497f69-c1f0-4395-bb66-07467dfe6049', '0d72fb8a-484c-4ba7-a971-ce46e3b57bdf', '53f4fb24-fef6-4d12-bec9-aa932dc140f4', 'a49fbde2-7bd7-46bc-be68-6d2395e701c6', '3b8e2bbb-6b93-41d2-9b56-84aa24aafe68', 'e64f1ff2-861e-455c-9f8a-604a930c2d6d', 'baa5f5b2-619e-4638-9398-a576f77cf2ff', 'ea8a97f0-90ee-411c-b48c-d43853c8a3f2', 'ffd09b8a-2a58-480f-870a-71dc7a132a3e', 'e6d9e0b1-0793-43ae-ab46-5c63eab61472', '39d7187f-f443-4043-8f80-9cdc1dd07045', '5aec2ceb-c9f3-4f01-b6a6-9b22b97976a0', 'a1f21473-411a-4ffe-805d-0ff7c98fd4b8', '13052d0b-2989-46f2-bac5-b4a96bb8242f', 'f79a1233-dc3d-4d3d-9bef-f3dfaeac8dd6', 'd95d05d5-e3d3-461c-979a-e79632621a95', '6f261bf6-b376-4f66-bb04-faee89b9a5df', '3ea23a4a-18fd-4bb1-ad76-55966f917df3', '15c7932d-126e-4f81-aff6-a5b050e91c91', '1c22bf7e-c527-4e86-b0c0-090f6cb1e12a', 'b2bfb3a2-3e9f-4832-bb5f-18e6caf863fb', '7d076db4-c540-4d19-9eaf-55693896f32e', '4bef2e9a-5440-4cc7-bbba-5671f675e310', '58e25784-14bc-4010-9199-5f441f68919b', '36f7ac04-f467-4b20-9035-e130831a8d62', '24184810-6866-44bb-a5a6-835ff9601def', '60daee23-7200-4af0-b462-772817e50e74', '5b3aa996-b49a-4641-8e3f-cdf170a10a13', '902bcd02-664d-4230-9dbc-2181b3b9cf42', '3812e5d8-b5bc-47df-8fa6-ef46c06aaa5b', '231bb0d3-8dac-4060-bd2c-112373a97e39', 'b08ff252-2b0c-4f35-9e51-ac228b41260b', 'bc3707f8-12a4-4a93-841c-852ae6b40a91', '1cf5d1b4-df20-4576-a261-afd2c241b33b', '56b396cc-02c0-4e5a-96f2-63c85407984f', '88838815-67e8-4508-b3f5-970e1fdd3060', '0f057b15-d9f5-46d8-ad55-1b44599e6d03', '426d782b-8793-4977-a28b-248e4789cc2e', '5f925dcb-8bce-470a-ae77-f3954142e4bf', '4add66d0-251b-4f74-9deb-b5dc14c0097d', '618ac479-d9f7-40b1-bcdd-9215f20b3486', 'f413552f-6ad5-4ea7-9414-f5685f8ca6ca', '022a5a58-5d52-4f34-8447-f21a6c3ab8de', '18979722-0e1b-4b8a-955d-3038fa1062d4', 'b575653f-5dff-4655-b225-28919e503221', '07ffd2f6-aebe-4751-80f8-2ba6e4ba0f34', '50695d7d-f1ca-482a-bad1-58f4d1a9e9e9', 'da4804c1-a9c9-4b82-953f-c02a5e0e2e0d', '97fa6c33-4a3f-4bf3-9fcf-1675e48fe8f9', 'b87bbfd2-e6c2-475d-ab67-dc17e3be0ae3', '1ec37fe9-7389-4373-b651-e0173edd3fb0', 'c9bbae69-f453-42b9-a4e7-34b1d60d0fcd', '48911946-886a-4d09-b2f6-99cfc1288986', 'a865198d-48e5-46a3-ae16-a3f65cdb275d', 'd6b043b0-bcbc-4b4c-9498-686f8d8f8905', 'cb0f1b63-08de-4fae-b896-2caeb20ae913', '26fa7475-c66c-4c28-86a1-3ed472ef2669', 'a3fafac6-55a5-40b6-b8b4-7795f8751b6f', 'e6dcfc59-d2e3-4dd2-b19c-94339f1cc4bd', 'e686930b-51f9-46ff-8828-45003e535434', 'b7cd2f5e-10ef-4513-9b4d-b0b958495f0c', '9dbb3a11-dbbd-45ba-b934-1756f11549b9', '168f4e37-a683-45e1-88f1-b3c03b967221', 'ea39605c-6e31-4af6-bd8c-6c92e7670ca2', '6553311b-4282-4bf2-b0f1-2926bb4b3ecd', '4dd95c31-3027-414e-9339-7f8bfb169deb', '368974ad-c36c-41f2-89a7-682e104c1f7f', 'd66a25ff-bae7-4566-a745-488eab2eee7d', '36a637bc-c3a4-4bb9-8408-078fb57a48c6', 'e93b3398-c70b-41b6-aea9-2460248a5f2a', '14b6f0ca-2f48-49e8-a2ac-0377c8c9d0a7', '13b4943a-4367-4bee-99c7-39b49ac38ec5', '39f6d27d-d21a-4e4e-aaac-3430cfcd3a58', 'b200a944-33e6-4c5b-b64a-82051a0f9ef2', 'c5d8f346-9a5e-4d18-8739-e80a5c12d945', '7def18b5-02af-445b-9d9a-2aefdb3b568e', 'b5d14d1d-accb-49ef-a2ad-5bb20110d1b7', '9af61ee2-905d-4039-8878-6b26dc4283cd', '958023a0-e7a9-44eb-8ed6-6ac8076a84c0', 'f863acdb-8e24-4cdd-b050-f64d7f3b97ae', '5ca16b56-a5a0-4efb-8f63-2384cc69706c', '6a0fac52-2813-40a6-bec5-28a9251f9bcb', '7e90e95d-6f9b-4b83-9c70-e6c0315a72d5', '7fe52925-7db4-4425-92de-81a288121fbb', 'aefc4edd-77ba-48ff-9d4d-80caad8147e1', '892f77fb-10c0-44e8-9ca9-3ed031a5d306', '44dc02b9-9d2e-4fe7-84e3-cc839e84222e', 'a0e355cb-41b5-41b8-b03c-fbbbce51db2c', 'f8b220a1-9dad-4566-91b9-07507ce4468b', 'c1e14a8c-5e68-4e58-952e-8901d374790a', '4b57a033-a949-4ade-bc8c-fa9e3f7a2f2a', '53018518-e402-4218-8fc0-ed2f7eba780a', 'ba29b59f-d289-48b1-9b77-39417b9d0969', '8cf3ce88-9c2f-442d-b1a7-e3a84f0675e8', 'd637a8db-6d7f-4dfe-94d0-74444400d035', 'cc49fbfa-6ec8-40fe-9b11-aac16baef83a', '2ea76f38-17af-4199-9526-37fbc4fef87b', '40bf0fc4-00a3-4910-9699-ec4e5fa2b436', '1c7cc5d4-f687-47b6-9049-4da7bd58b899', '33173aa9-6226-432b-9cec-57df01237f7a', 'f048f776-32c0-4aea-9451-6df6d0815465', '820c77e9-69c3-4eac-9186-5882e1b253e0', '6ac837db-2565-45bc-a841-2fb788f57b1f', '5032e74f-22ee-4d23-828e-a3a23934c408'])"
                        ]
                    },
                    "execution_count": 12,
                    "metadata": {},
                    "output_type": "execute_result"
                }
            ],
            "source": [
                "# Create callback\n",
                "import json\n",
                "async def async_callback(text):\n",
                "    jsoned = json.loads(text)\n",
                "    print(f\"async_callback: {jsoned}\")\n",
                "\n",
                "# Spin off listener\n",
                "from gai.lib.common.StatusListener import StatusListener\n",
                "ws_url = f\"ws://localhost:12036/gen/v1/rag/index-file/ws/demo\"\n",
                "listener = StatusListener(ws_url)\n",
                "import asyncio\n",
                "listen_task=asyncio.create_task(listener.listen(async_callback))\n",
                "\n",
                "result = await rag.step_index_async(\n",
                "    collection_name=\"demo\",\n",
                "    document_id=chunkgroup.DocumentId,\n",
                "    chunkgroup_id=chunkgroup.Id,\n",
                "    async_callback=async_callback\n",
                ")\n",
                "result\n"
            ]
        }
    ],
    "metadata": {
        "kernelspec": {
            "display_name": ".venv",
            "language": "python",
            "name": "python3"
        },
        "language_info": {
            "codemirror_mode": {
                "name": "ipython",
                "version": 3
            },
            "file_extension": ".py",
            "mimetype": "text/x-python",
            "name": "python",
            "nbconvert_exporter": "python",
            "pygments_lexer": "ipython3",
            "version": "3.10.12"
        }
    },
    "nbformat": 4,
    "nbformat_minor": 2
}
