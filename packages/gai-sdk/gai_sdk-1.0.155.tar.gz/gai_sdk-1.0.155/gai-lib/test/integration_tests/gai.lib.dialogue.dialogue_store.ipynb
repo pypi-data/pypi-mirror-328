{
 "cells": [
  {
   "cell_type": "markdown",
   "metadata": {},
   "source": [
    "### a) Initialize DialogueStore"
   ]
  },
  {
   "cell_type": "code",
   "execution_count": 1,
   "metadata": {},
   "outputs": [],
   "source": [
    "import uuid\n",
    "from gai.lib.dialogue.dialogue_store import DialogueStore\n",
    "\n",
    "caller_id=\"00000000-0000-0000-0000-000000000000\"\n",
    "dialogue_id = DialogueStore.NewDialogue(caller_id=caller_id)\n",
    "store = DialogueStore(\n",
    "    caller_id=caller_id,\n",
    "    agent_id=\"00000000-0000-0000-0000-000000000000\",\n",
    "    dialogue_id=dialogue_id,\n",
    "    api_host=\"http://localhost:12033\",\n",
    "    message_count_cap=10,\n",
    "    message_char_cap=4000\n",
    ")"
   ]
  },
  {
   "cell_type": "markdown",
   "metadata": {},
   "source": [
    "### b) Chat Monologue\n",
    "\n",
    "At the end of state transitions, the first message is always user message and last message is always assistant message."
   ]
  },
  {
   "cell_type": "code",
   "execution_count": 2,
   "metadata": {},
   "outputs": [
    {
     "data": {
      "text/plain": [
       "[MonologueMessagePydantic(Order=0, Name='System', Role='system', Title='Init', Content='You are a helpful assistant.', ChildMessages=[], Timestamp=1730608176),\n",
       " MonologueMessagePydantic(Order=1, Name='User', Role='user', Title='Init', Content='Tell me a one paragraph story', ChildMessages=[], Timestamp=1730608176),\n",
       " MonologueMessagePydantic(Order=2, Name='Assistant', Role='assistant', Title='Init', Content='Here is a one paragraph story.', ChildMessages=[], Timestamp=1730608176)]"
      ]
     },
     "execution_count": 2,
     "metadata": {},
     "output_type": "execute_result"
    }
   ],
   "source": [
    "from gai.lib.dialogue.MonologueMessageBuilder import MonologueMessageBuilder\n",
    "builder = MonologueMessageBuilder()\n",
    "builder.AddSystemMessage(Content=\"You are a helpful assistant.\").AddUserMessage(Content=\"Tell me a one paragraph story\")\n",
    "builder.AddAssistantMessage(Content=\"Here is a one paragraph story.\")\n",
    "monologue=builder.Build()\n",
    "monologue"
   ]
  },
  {
   "cell_type": "markdown",
   "metadata": {},
   "source": [
    "### c) Update Dialogue"
   ]
  },
  {
   "cell_type": "code",
   "execution_count": 3,
   "metadata": {},
   "outputs": [
    {
     "data": {
      "text/plain": [
       "[DialogueMessagePydantic(Id='00000000-0000-0000-0000-000000000000:0:0A', DialogueId='00000000-0000-0000-0000-000000000000', Order=0, OwnerId='00000000-0000-0000-0000-000000000000', Role='user', Name='user', Content='this is a test', Monologue=None, Timestamp=1730608176, ImageUrl=None),\n",
       " DialogueMessagePydantic(Id='00000000-0000-0000-0000-000000000000:0:0B', DialogueId='00000000-0000-0000-0000-000000000000', Order=1, OwnerId='00000000-0000-0000-0000-000000000000', Role='assistant', Name='Assistant', Content='Here is a one paragraph story.', Monologue='[{\"Order\": 0, \"Name\": \"System\", \"Role\": \"system\", \"Title\": \"Init\", \"Content\": \"You are a helpful assistant.\", \"ChildMessages\": [], \"Timestamp\": 1730608176}, {\"Order\": 1, \"Name\": \"User\", \"Role\": \"user\", \"Title\": \"Init\", \"Content\": \"Tell me a one paragraph story\", \"ChildMessages\": [], \"Timestamp\": 1730608176}, {\"Order\": 2, \"Name\": \"Assistant\", \"Role\": \"assistant\", \"Title\": \"Init\", \"Content\": \"Here is a one paragraph story.\", \"ChildMessages\": [], \"Timestamp\": 1730608176}]', Timestamp=1730608177, ImageUrl='http://localhost:12033/api/v1/persona/Assistant/thumbnail')]"
      ]
     },
     "execution_count": 3,
     "metadata": {},
     "output_type": "execute_result"
    }
   ],
   "source": [
    "user_message_id=DialogueStore.create_message_id(dialogue_id=dialogue_id,round_no=0,turn_no=0,postfix=\"A\")\n",
    "assistant_message_id=DialogueStore.create_message_id(dialogue_id=dialogue_id,round_no=0,turn_no=0,postfix=\"B\")\n",
    "store.update_dialogue(user_message_id=user_message_id, assistant_message_id=assistant_message_id,user_message=\"this is a test\", monologue=monologue)\n",
    "store.list_dialogue_messages()"
   ]
  }
 ],
 "metadata": {
  "kernelspec": {
   "display_name": ".venv",
   "language": "python",
   "name": "python3"
  },
  "language_info": {
   "codemirror_mode": {
    "name": "ipython",
    "version": 3
   },
   "file_extension": ".py",
   "mimetype": "text/x-python",
   "name": "python",
   "nbconvert_exporter": "python",
   "pygments_lexer": "ipython3",
   "version": "3.10.12"
  }
 },
 "nbformat": 4,
 "nbformat_minor": 2
}
