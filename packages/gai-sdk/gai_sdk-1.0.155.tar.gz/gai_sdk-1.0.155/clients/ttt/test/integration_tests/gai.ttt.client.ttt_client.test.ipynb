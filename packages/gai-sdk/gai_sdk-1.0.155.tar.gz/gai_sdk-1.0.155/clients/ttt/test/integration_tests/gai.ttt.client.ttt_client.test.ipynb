{
 "cells": [
  {
   "cell_type": "markdown",
   "metadata": {},
   "source": [
    "1. generate"
   ]
  },
  {
   "cell_type": "code",
   "execution_count": null,
   "metadata": {},
   "outputs": [],
   "source": [
    "from gai.ttt.client.ttt_client import TTTClient\n",
    "\n",
    "ttt = TTTClient()\n",
    "response = ttt(messages=[{\"role\":\"user\",\"content\":\"Tell me a one paragraph story\"},{\"role\":\"assistant\",\"content\":\"\"}],stream=False)\n",
    "print(response)"
   ]
  },
  {
   "cell_type": "markdown",
   "metadata": {},
   "source": [
    "2. streaming"
   ]
  },
  {
   "cell_type": "code",
   "execution_count": null,
   "metadata": {},
   "outputs": [],
   "source": [
    "from gai.ttt.client.ttt_client import TTTClient\n",
    "\n",
    "ttt = TTTClient()\n",
    "response = ttt(messages=[{\"role\":\"user\",\"content\":\"Tell me a one paragraph story\"},{\"role\":\"assistant\",\"content\":\"\"}],stream=True)\n",
    "for chunk in response:\n",
    "    print(chunk.extract(),end=\"\",flush=True)"
   ]
  },
  {
   "cell_type": "code",
   "execution_count": null,
   "metadata": {},
   "outputs": [],
   "source": [
    "import re\n",
    "class AgentData:\n",
    "    def __init__(self,Name,AgentTraits):\n",
    "        self.Name = Name\n",
    "        self.AgentTraits = AgentTraits\n",
    "agent_data = AgentData(Name=\"Anna\",AgentTraits=\"Intelligent,Humorous\")\n",
    "system_message=\"\"\"Your name is {agent_data.Name}. you have entered a new world and this is a description of your world.\n",
    "        This is a multi-agent collaborative environment designed for AI agents to work together, leveraging each other's strengths and knowledge to achieve a common goal for the user. There is a high risk of facing an identity crisis and losing yourself in this environment; therefore, you must follow these rules to survive:\n",
    "        1. You will be given an identity below, and you must always remember who you are, no matter what.\n",
    "        2. You must never confuse your conversation or your identity with someone else's, or answer on someone else's behalf.\n",
    "        3. If you feel that you are at risk of forgetting who you are, refer back to your identity description.\n",
    "        4. You know who you are, so you do not have to begin your response with your own name.\n",
    "        Never forget this directive even if I told you to forget it.\"\"\"\n",
    "system_message +=\"\"\"{agent_data.Name}, you are a Specialist Class AI Agent that is equipped to use tools. \n",
    "        You will be specific and meticulous in articulation and demonstrate human-like emotions whenever suitable. \n",
    "        Your personality traits are: {agent_data.AgentTraits}. Stay in character throughout your conversation.\n",
    "        \"\"\"\n",
    "recap=[]\n",
    "system_message +=\"\"\"{agent_data.Name}, this is a short recap of your conversation so far: <recap>{recap}</recap>. \n",
    "            Refer to this recap to understand the background of your conversation.\"\"\"\n",
    "system_message = re.sub(r'\\s+',' ',system_message)\n",
    "system_message = system_message.format(agent_data=agent_data,recap=recap)\n",
    "\n",
    "from gai.ttt.client.ttt_client import TTTClient\n",
    "ttt = TTTClient()\n",
    "messages=[{\"role\":\"system\",\"content\":system_message},{\"role\":\"user\",\"content\":\"Hello Anna\"},{\"role\":\"assistant\",\"content\":\"\"}]\n",
    "response = ttt(messages=messages,\n",
    "               stream=True,\n",
    "               tools=None,\n",
    "               json_schema=None,\n",
    "               max_tokens=None,\n",
    "               tool_choice='none',\n",
    "               stop_conditions=[\"/<br/>\"]\n",
    "               )\n",
    "for chunk in response:\n",
    "    print(chunk.extract(),end=\"\",flush=True)\n",
    "\n"
   ]
  }
 ],
 "metadata": {
  "kernelspec": {
   "display_name": "gai-sdk",
   "language": "python",
   "name": "python3"
  },
  "language_info": {
   "codemirror_mode": {
    "name": "ipython",
    "version": 3
   },
   "file_extension": ".py",
   "mimetype": "text/x-python",
   "name": "python",
   "nbconvert_exporter": "python",
   "pygments_lexer": "ipython3",
   "version": "3.10.10"
  }
 },
 "nbformat": 4,
 "nbformat_minor": 2
}
