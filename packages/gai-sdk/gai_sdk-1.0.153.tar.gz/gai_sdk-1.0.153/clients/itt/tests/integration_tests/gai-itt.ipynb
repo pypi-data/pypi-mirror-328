{
 "cells": [
  {
   "cell_type": "code",
   "execution_count": 5,
   "metadata": {},
   "outputs": [
    {
     "name": "stdout",
     "output_type": "stream",
     "text": [
      "The image shows a street post with signs indicating different bus routes. The top two signs are iconographically representing different types of buses, and the text below them lists bus routes, presumably part of a public transit system. The bus routes are labeled with numbers, such as \"7101\" and \"8155,\" which likely correspond to the specific lines or services. Additionally, there are numerical combinations representing stop numbers or blocks. The bus number \"7101\" has a corresponding four-digit number beneath it, which could possibly refer to a stop along that route. The background suggests an urban environment with tree branches and other city infrastructures. The image is characterized by a clear focus on the signage, emphasizing the importance of transit directions."
     ]
    }
   ],
   "source": [
    "from gai.itt.client.itt_client import ITTClient\n",
    "from gai.lib.common.image_utils import read_to_base64\n",
    "client = ITTClient({\n",
    "    \"type\":\"itt\",\n",
    "    \"url\":\"http://localhost:12034/gen/v1/vision/completions\"\n",
    "})\n",
    "encoded_string = read_to_base64(\"./buses.jpeg\")\n",
    "messages = [\n",
    "    {\n",
    "        \"role\": \"user\",\n",
    "        \"content\": [\n",
    "            {\"type\": \"text\", \"text\": \"What’s in this image?\"},\n",
    "            {\n",
    "                \"type\": \"image_url\",\n",
    "                \"image_url\": {\n",
    "                    \"url\": f\"data:image/jpeg;base64,{encoded_string}\",\n",
    "                },\n",
    "            },\n",
    "        ],\n",
    "        \"max_new_tokens\": 100,\n",
    "        \"temperature\": 0,\n",
    "        \"k\":1,\n",
    "    }\n",
    "]\n",
    "response=client(messages=messages,stream=True)\n",
    "for chunk in response:\n",
    "    print(chunk.choices[0].delta.content,end=\"\",flush=True)"
   ]
  }
 ],
 "metadata": {
  "kernelspec": {
   "display_name": "gai-sdk",
   "language": "python",
   "name": "python3"
  },
  "language_info": {
   "codemirror_mode": {
    "name": "ipython",
    "version": 3
   },
   "file_extension": ".py",
   "mimetype": "text/x-python",
   "name": "python",
   "nbconvert_exporter": "python",
   "pygments_lexer": "ipython3",
   "version": "3.10.10"
  }
 },
 "nbformat": 4,
 "nbformat_minor": 2
}
