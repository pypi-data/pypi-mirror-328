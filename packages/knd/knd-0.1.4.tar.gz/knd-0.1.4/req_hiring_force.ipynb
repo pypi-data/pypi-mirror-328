{
 "cells": [
  {
   "cell_type": "code",
   "execution_count": 1,
   "metadata": {},
   "outputs": [],
   "source": [
    "from pathlib import Path\n",
    "\n",
    "import httpx\n",
    "\n",
    "from hiring_force_app import AgentRequest, Resume\n",
    "\n",
    "%load_ext autoreload\n",
    "%autoreload 2"
   ]
  },
  {
   "cell_type": "code",
   "execution_count": 2,
   "metadata": {},
   "outputs": [],
   "source": [
    "async def send_request(agent_name: str, agent_request: AgentRequest) -> Resume:\n",
    "    async with httpx.AsyncClient(timeout=120) as client:\n",
    "        response = await client.post(f\"http://localhost:8000/{agent_name}\", json=agent_request.model_dump())\n",
    "        response.raise_for_status()\n",
    "        return Resume(**response.json())"
   ]
  },
  {
   "cell_type": "code",
   "execution_count": 8,
   "metadata": {},
   "outputs": [],
   "source": [
    "resume_file = Path(\"grc/resumes/john.md\")\n",
    "request = AgentRequest(user_prompt=resume_file.read_text())\n",
    "resume = await send_request(agent_name=\"resume_agent\", agent_request=request)"
   ]
  },
  {
   "cell_type": "code",
   "execution_count": null,
   "metadata": {},
   "outputs": [
    {
     "data": {
      "text/plain": [
       "Resume(years_of_experience=8.0, summary='Innovative software engineer with over 7 years of experience in developing scalable applications, cloud-based solutions, and microservices architecture. Skilled in Python, Java, and Kubernetes, with a strong focus on delivering high-performance solutions and driving continuous improvement in software development processes.', work_experience=[WorkExperience(company='TechWave Inc.', title='Senior Developer', employment_type=<EmploymentType.FULL_TIME: 'full_time'>, location='San Francisco, CA', is_current=True, description='Designed and implemented a microservices architecture for a high-traffic e-commerce platform, enabling a 40% increase in system reliability and scalability. Optimized cloud deployments using Kubernetes and AWS, reducing operational costs by 15% while improving system uptime. Collaborated with cross-functional teams to integrate CI/CD pipelines, reducing deployment times from hours to minutes. Developed and maintained RESTful APIs, ensuring seamless integration with third-party applications. Led a team of five developers in adopting Agile methodologies, improving project delivery timelines by 20%.', achievements=[], start_date=datetime.date(2020, 1, 1), end_date=None), WorkExperience(company='CloudCore Solutions', title='Software Engineer', employment_type=<EmploymentType.FULL_TIME: 'full_time'>, location='San Francisco, CA', is_current=False, description='Built backend systems for healthcare applications, ensuring compliance with HIPAA regulations and secure data handling. Automated data processing workflows using Python, reducing manual efforts by 30%. Conducted code reviews and implemented best practices, improving code quality across the development team. Worked closely with product managers to design and deliver features that improved user satisfaction scores by 25%. Integrated third-party APIs for real-time data analytics, enhancing application functionality.', achievements=[], start_date=datetime.date(2017, 1, 1), end_date=datetime.date(2020, 1, 1)), WorkExperience(company='NextGen Apps', title='Junior Developer', employment_type=<EmploymentType.FULL_TIME: 'full_time'>, location='San Francisco, CA', is_current=False, description='Contributed to the development of mobile applications for iOS and Android, achieving over 500,000 downloads within the first year of release. Implemented backend logic for real-time chat functionality, increasing user engagement. Researched and integrated new technologies to improve application performance.', achievements=[], start_date=datetime.date(2015, 1, 1), end_date=datetime.date(2017, 1, 1))], education=[Education(institution='Stanford University', degree='B.S. in Computer Science', level=<EducationLevel.MASTERS: 4>, field_of_study='Computer Science', gpa=None, description='', start_date=None, end_date=None)], skills=[Skill(name='Microservices Architecture', level=8, years_experience=3.0), Skill(name='Cloud Deployments', level=7, years_experience=3.0), Skill(name='Python', level=9, years_experience=8.0), Skill(name='Java', level=8, years_experience=7.0), Skill(name='Kubernetes', level=7, years_experience=3.0)], certifications=[], languages=[], projects=[], last_updated=datetime.date(2025, 1, 26), availability_date=None)"
      ]
     },
     "execution_count": 6,
     "metadata": {},
     "output_type": "execute_result"
    }
   ],
   "source": [
    "resume"
   ]
  },
  {
   "cell_type": "code",
   "execution_count": 9,
   "metadata": {},
   "outputs": [
    {
     "ename": "TypeError",
     "evalue": "'NoneType' object is not iterable",
     "output_type": "error",
     "traceback": [
      "\u001b[0;31m---------------------------------------------------------------------------\u001b[0m",
      "\u001b[0;31mTypeError\u001b[0m                                 Traceback (most recent call last)",
      "Cell \u001b[0;32mIn[9], line 2\u001b[0m\n\u001b[1;32m      1\u001b[0m a \u001b[38;5;241m=\u001b[39m [\u001b[38;5;241m1\u001b[39m,\u001b[38;5;241m2\u001b[39m,\u001b[38;5;241m3\u001b[39m]\n\u001b[0;32m----> 2\u001b[0m \u001b[43ma\u001b[49m\u001b[38;5;241;43m.\u001b[39;49m\u001b[43mextend\u001b[49m\u001b[43m(\u001b[49m\u001b[38;5;28;43;01mNone\u001b[39;49;00m\u001b[43m)\u001b[49m\n",
      "\u001b[0;31mTypeError\u001b[0m: 'NoneType' object is not iterable"
     ]
    }
   ],
   "source": [
    "a = [1,2,3]\n",
    "a.extend(None)"
   ]
  },
  {
   "cell_type": "code",
   "execution_count": null,
   "metadata": {},
   "outputs": [],
   "source": []
  }
 ],
 "metadata": {
  "kernelspec": {
   "display_name": ".venv",
   "language": "python",
   "name": "python3"
  },
  "language_info": {
   "codemirror_mode": {
    "name": "ipython",
    "version": 3
   },
   "file_extension": ".py",
   "mimetype": "text/x-python",
   "name": "python",
   "nbconvert_exporter": "python",
   "pygments_lexer": "ipython3",
   "version": "3.12.7"
  }
 },
 "nbformat": 4,
 "nbformat_minor": 2
}
