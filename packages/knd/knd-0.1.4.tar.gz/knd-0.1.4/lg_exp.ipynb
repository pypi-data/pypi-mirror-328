{
 "cells": [
  {
   "cell_type": "code",
   "execution_count": 71,
   "metadata": {},
   "outputs": [
    {
     "name": "stdout",
     "output_type": "stream",
     "text": [
      "The autoreload extension is already loaded. To reload it, use:\n",
      "  %reload_ext autoreload\n"
     ]
    }
   ],
   "source": [
    "import uuid\n",
    "\n",
    "from langchain_core.runnables.config import RunnableConfig\n",
    "from langgraph.checkpoint.memory import MemorySaver\n",
    "from langgraph.func import entrypoint, task\n",
    "from langgraph.types import Command, interrupt\n",
    "from langchain_core.tools import tool\n",
    "from loguru import logger\n",
    "from pydantic import BaseModel, Field\n",
    "from pydantic_ai import Agent, RunContext\n",
    "\n",
    "%load_ext autoreload\n",
    "%autoreload 2"
   ]
  },
  {
   "cell_type": "code",
   "execution_count": 75,
   "metadata": {},
   "outputs": [],
   "source": [
    "@tool\n",
    "def write_essay(topic: str) -> str:\n",
    "    \"\"\"Write an essay about the given topic.\"\"\"\n",
    "    return f\"An essay about topic: {topic}\""
   ]
  },
  {
   "cell_type": "code",
   "execution_count": 87,
   "metadata": {},
   "outputs": [
    {
     "data": {
      "text/plain": [
       "{'name': 'write_essay',\n",
       " 'description': 'Write an essay about the given topic.',\n",
       " 'args_schema': langchain_core.utils.pydantic.write_essay,\n",
       " 'return_direct': False,\n",
       " 'verbose': False,\n",
       " 'tags': None,\n",
       " 'metadata': None,\n",
       " 'handle_tool_error': False,\n",
       " 'handle_validation_error': False,\n",
       " 'response_format': 'content',\n",
       " 'func': <function __main__.write_essay(topic: str) -> str>,\n",
       " 'coroutine': None}"
      ]
     },
     "execution_count": 87,
     "metadata": {},
     "output_type": "execute_result"
    }
   ],
   "source": [
    "write_essay.model_dump()"
   ]
  },
  {
   "cell_type": "code",
   "execution_count": null,
   "metadata": {},
   "outputs": [],
   "source": []
  },
  {
   "cell_type": "code",
   "execution_count": null,
   "metadata": {},
   "outputs": [],
   "source": []
  },
  {
   "cell_type": "code",
   "execution_count": 72,
   "metadata": {},
   "outputs": [],
   "source": [
    "@tool\n",
    "async def write_essay(topic: str) -> str:\n",
    "    \"\"\"Write an essay about the given topic.\"\"\"\n",
    "    return f\"An essay about topic: {topic}\"\n",
    "    # agent = Agent(model=\"google-gla:gemini-1.5-flash\", name=\"essay_writer\")\n",
    "    # return (await agent.run(f\"Write an essay about {topic}\")).data\n",
    "\n",
    "\n",
    "@entrypoint(checkpointer=MemorySaver())\n",
    "async def workflow(topic: str) -> dict:\n",
    "    \"\"\"A simple workflow that writes an essay and asks for a review.\"\"\"\n",
    "    essay = await write_essay(topic=topic)\n",
    "    # is_approved = False\n",
    "    is_approved = interrupt(\n",
    "        {\n",
    "            # Any json-serializable payload provided to interrupt as argument.\n",
    "            # It will be surfaced on the client side as an Interrupt when streaming data\n",
    "            # from the workflow.\n",
    "            \"essay\": essay,  # The essay we want reviewed.\n",
    "            # We can add any additional information that we need.\n",
    "            # For example, introduce a key called \"action\" with some instructions.\n",
    "            \"action\": \"Please approve/reject the essay\",\n",
    "        }\n",
    "    )\n",
    "\n",
    "    return {\n",
    "        \"essay\": essay,  # The essay that was generated\n",
    "        \"is_approved\": is_approved,  # Response from HIL\n",
    "    }"
   ]
  },
  {
   "cell_type": "code",
   "execution_count": 69,
   "metadata": {},
   "outputs": [],
   "source": [
    "thread_id = str(uuid.uuid4())\n",
    "\n",
    "config = RunnableConfig(configurable={\"thread_id\": thread_id})\n"
   ]
  },
  {
   "cell_type": "code",
   "execution_count": 70,
   "metadata": {},
   "outputs": [],
   "source": [
    "res = await workflow.ainvoke(\"cat\", config=config)\n",
    "res"
   ]
  },
  {
   "cell_type": "code",
   "execution_count": null,
   "metadata": {},
   "outputs": [],
   "source": [
    "res."
   ]
  },
  {
   "cell_type": "code",
   "execution_count": 63,
   "metadata": {},
   "outputs": [
    {
     "data": {
      "text/plain": [
       "{'essay': 'An essay about topic: cat', 'is_approved': False}"
      ]
     },
     "execution_count": 63,
     "metadata": {},
     "output_type": "execute_result"
    }
   ],
   "source": [
    "res = await workflow.ainvoke(Command(resume=False), config=config)\n",
    "res"
   ]
  },
  {
   "cell_type": "code",
   "execution_count": null,
   "metadata": {},
   "outputs": [],
   "source": []
  },
  {
   "cell_type": "code",
   "execution_count": 13,
   "metadata": {},
   "outputs": [
    {
     "name": "stderr",
     "output_type": "stream",
     "text": [
      "/tmp/ipykernel_54703/1648118602.py:5: LogfireNotConfiguredWarning: No logs or spans will be created until `logfire.configure()` has been called. Set the environment variable LOGFIRE_IGNORE_NO_CONFIG=1 or add ignore_no_config=true in pyproject.toml to suppress this warning.\n",
      "  return (await agent.run(f\"Write an essay about {topic}\")).data\n"
     ]
    },
    {
     "name": "stdout",
     "output_type": "stream",
     "text": [
      "{'write_essay': \"## The Enigmatic Cat: A Study in Independence and Affection\\n\\nThe domestic cat, *Felis catus*, is a creature of paradox. Simultaneously aloof and affectionate, independent yet deeply connected to its human companions, the cat defies simple categorization.  Its enigmatic nature, coupled with its undeniable charm, has captivated human hearts for millennia, resulting in a complex and enduring relationship that continues to evolve.\\n\\nOne of the most striking aspects of the cat's character is its inherent independence. Unlike dogs, whose domestication is deeply rooted in a collaborative partnership, cats retain a significant portion of their wild ancestry.  This translates into a self-sufficient creature, capable of self-grooming, hunting (even in a domestic setting), and navigating its environment with remarkable agility and resourcefulness.  Their seeming indifference to human commands, often interpreted as stubbornness, is simply a reflection of this independent spirit. They are not driven by the same need for constant attention and approval that characterizes many other domesticated animals.  This independence, however, is not to be equated with coldness.\\n\\nBeneath the veneer of aloofness lies a wellspring of affection, albeit one expressed on the cat's own terms.  A gentle purr, a slow blink of the eyes, a soft rub against a leg – these are subtle but potent demonstrations of feline affection. Unlike the boisterous displays of canine love, feline affection is quiet, understated, and deeply personal.  The cat chooses when and how to express its affection, making these moments all the more precious.  This controlled expression of emotion adds to the cat's mystique, fueling the human fascination with deciphering its seemingly cryptic communications.\\n\\nThe physical attributes of the cat further contribute to its appeal.  Its sleek, graceful form, the mesmerizing intensity of its gaze, and the silent, fluid movements are all elements of its undeniable elegance.  The diversity within the species, manifested in the myriad of breeds, adds another layer of fascination.  From the long-haired Persian to the sleek Siamese, each breed possesses unique characteristics, further emphasizing the cat's adaptability and captivating range.\\n\\nHowever, the relationship between humans and cats is not without its challenges.  Misunderstandings can arise from the differences in communication styles.  What might appear as indifference to a human could be a sign of contentment to a cat.  Understanding feline body language is crucial to fostering a harmonious coexistence.  Furthermore, responsible cat ownership requires a commitment to providing for their physical and emotional needs, including regular veterinary care, appropriate nutrition, and a stimulating environment.\\n\\nIn conclusion, the cat is more than just a pet; it is a complex and fascinating creature whose independence, subtle affection, and inherent grace continue to intrigue and captivate.  The enduring appeal of the cat lies not only in its physical beauty but also in the enigmatic nature of its personality, a testament to the enduring power of the wild spirit tamed, yet never entirely subdued.  The mystery surrounding the cat only serves to deepen the bond between human and feline, creating a relationship as unique and multifaceted as the cat itself.\\n\"}\n",
      "{'__interrupt__': (Interrupt(value={'essay': \"## The Enigmatic Cat: A Study in Independence and Affection\\n\\nThe domestic cat, *Felis catus*, is a creature of paradox. Simultaneously aloof and affectionate, independent yet deeply connected to its human companions, the cat defies simple categorization.  Its enigmatic nature, coupled with its undeniable charm, has captivated human hearts for millennia, resulting in a complex and enduring relationship that continues to evolve.\\n\\nOne of the most striking aspects of the cat's character is its inherent independence. Unlike dogs, whose domestication is deeply rooted in a collaborative partnership, cats retain a significant portion of their wild ancestry.  This translates into a self-sufficient creature, capable of self-grooming, hunting (even in a domestic setting), and navigating its environment with remarkable agility and resourcefulness.  Their seeming indifference to human commands, often interpreted as stubbornness, is simply a reflection of this independent spirit. They are not driven by the same need for constant attention and approval that characterizes many other domesticated animals.  This independence, however, is not to be equated with coldness.\\n\\nBeneath the veneer of aloofness lies a wellspring of affection, albeit one expressed on the cat's own terms.  A gentle purr, a slow blink of the eyes, a soft rub against a leg – these are subtle but potent demonstrations of feline affection. Unlike the boisterous displays of canine love, feline affection is quiet, understated, and deeply personal.  The cat chooses when and how to express its affection, making these moments all the more precious.  This controlled expression of emotion adds to the cat's mystique, fueling the human fascination with deciphering its seemingly cryptic communications.\\n\\nThe physical attributes of the cat further contribute to its appeal.  Its sleek, graceful form, the mesmerizing intensity of its gaze, and the silent, fluid movements are all elements of its undeniable elegance.  The diversity within the species, manifested in the myriad of breeds, adds another layer of fascination.  From the long-haired Persian to the sleek Siamese, each breed possesses unique characteristics, further emphasizing the cat's adaptability and captivating range.\\n\\nHowever, the relationship between humans and cats is not without its challenges.  Misunderstandings can arise from the differences in communication styles.  What might appear as indifference to a human could be a sign of contentment to a cat.  Understanding feline body language is crucial to fostering a harmonious coexistence.  Furthermore, responsible cat ownership requires a commitment to providing for their physical and emotional needs, including regular veterinary care, appropriate nutrition, and a stimulating environment.\\n\\nIn conclusion, the cat is more than just a pet; it is a complex and fascinating creature whose independence, subtle affection, and inherent grace continue to intrigue and captivate.  The enduring appeal of the cat lies not only in its physical beauty but also in the enigmatic nature of its personality, a testament to the enduring power of the wild spirit tamed, yet never entirely subdued.  The mystery surrounding the cat only serves to deepen the bond between human and feline, creating a relationship as unique and multifaceted as the cat itself.\\n\", 'action': 'Please approve/reject the essay'}, resumable=True, ns=['workflow:dae9af38-a982-443d-f61e-c9aaef38d614'], when='during'),)}\n"
     ]
    }
   ],
   "source": [
    "thread_id = str(uuid.uuid4())\n",
    "\n",
    "config = {\"configurable\": {\"thread_id\": thread_id}}\n",
    "\n",
    "async for item in workflow.astream(\"cat\", config=config):\n",
    "    print(item)"
   ]
  },
  {
   "cell_type": "code",
   "execution_count": 14,
   "metadata": {},
   "outputs": [
    {
     "name": "stdout",
     "output_type": "stream",
     "text": [
      "{'workflow': {'essay': \"## The Enigmatic Cat: A Study in Independence and Affection\\n\\nThe domestic cat, *Felis catus*, is a creature of paradox. Simultaneously aloof and affectionate, independent yet deeply connected to its human companions, the cat defies simple categorization.  Its enigmatic nature, coupled with its undeniable charm, has captivated human hearts for millennia, resulting in a complex and enduring relationship that continues to evolve.\\n\\nOne of the most striking aspects of the cat's character is its inherent independence. Unlike dogs, whose domestication is deeply rooted in a collaborative partnership, cats retain a significant portion of their wild ancestry.  This translates into a self-sufficient creature, capable of self-grooming, hunting (even in a domestic setting), and navigating its environment with remarkable agility and resourcefulness.  Their seeming indifference to human commands, often interpreted as stubbornness, is simply a reflection of this independent spirit. They are not driven by the same need for constant attention and approval that characterizes many other domesticated animals.  This independence, however, is not to be equated with coldness.\\n\\nBeneath the veneer of aloofness lies a wellspring of affection, albeit one expressed on the cat's own terms.  A gentle purr, a slow blink of the eyes, a soft rub against a leg – these are subtle but potent demonstrations of feline affection. Unlike the boisterous displays of canine love, feline affection is quiet, understated, and deeply personal.  The cat chooses when and how to express its affection, making these moments all the more precious.  This controlled expression of emotion adds to the cat's mystique, fueling the human fascination with deciphering its seemingly cryptic communications.\\n\\nThe physical attributes of the cat further contribute to its appeal.  Its sleek, graceful form, the mesmerizing intensity of its gaze, and the silent, fluid movements are all elements of its undeniable elegance.  The diversity within the species, manifested in the myriad of breeds, adds another layer of fascination.  From the long-haired Persian to the sleek Siamese, each breed possesses unique characteristics, further emphasizing the cat's adaptability and captivating range.\\n\\nHowever, the relationship between humans and cats is not without its challenges.  Misunderstandings can arise from the differences in communication styles.  What might appear as indifference to a human could be a sign of contentment to a cat.  Understanding feline body language is crucial to fostering a harmonious coexistence.  Furthermore, responsible cat ownership requires a commitment to providing for their physical and emotional needs, including regular veterinary care, appropriate nutrition, and a stimulating environment.\\n\\nIn conclusion, the cat is more than just a pet; it is a complex and fascinating creature whose independence, subtle affection, and inherent grace continue to intrigue and captivate.  The enduring appeal of the cat lies not only in its physical beauty but also in the enigmatic nature of its personality, a testament to the enduring power of the wild spirit tamed, yet never entirely subdued.  The mystery surrounding the cat only serves to deepen the bond between human and feline, creating a relationship as unique and multifaceted as the cat itself.\\n\", 'is_approved': True}}\n"
     ]
    }
   ],
   "source": [
    "human_review = True\n",
    "\n",
    "async for item in workflow.astream(Command(resume=human_review), config=config):\n",
    "    print(item)\n"
   ]
  },
  {
   "cell_type": "code",
   "execution_count": null,
   "metadata": {},
   "outputs": [],
   "source": []
  },
  {
   "cell_type": "code",
   "execution_count": null,
   "metadata": {},
   "outputs": [],
   "source": []
  },
  {
   "cell_type": "code",
   "execution_count": 2,
   "metadata": {},
   "outputs": [],
   "source": [
    "class Critique(BaseModel):\n",
    "    funny: bool\n",
    "    reason: str = \"\"\n",
    "    pointers: list[str] = Field(default_factory=list)\n",
    "\n",
    "\n",
    "agent = Agent(model=\"google-gla:gemini-1.5-flash\", system_prompt=\"Use the tool to tell jokes\", name=\"joker_agent\")\n",
    "\n",
    "joker = Agent(model=\"google-gla:gemini-1.5-flash\", system_prompt=\"Tell knock knock jokes\", name=\"joker_tool\")\n",
    "\n",
    "critic = Agent(\n",
    "    model=\"google-gla:gemini-1.5-flash\",\n",
    "    system_prompt=\"Critique the joke as funny or not funny. If not funny, give a reason for your opinion and pointers for improvement\",\n",
    "    result_type=Critique,\n",
    "    name=\"joke_critic\",\n",
    ")\n",
    "\n",
    "\n",
    "@agent.tool_plain\n",
    "async def joke_teller(premise: str) -> str:\n",
    "    \"Tool to tell jokes about anything\"\n",
    "    return (await joker.run(premise)).data\n",
    "\n",
    "\n",
    "@agent.result_validator\n",
    "async def validate_joke(ctx: RunContext, joke: str) -> str:\n",
    "    critique = (\n",
    "        await critic.run(\n",
    "            user_prompt=\"Critique the joke as funny or not funny. If not funny, give a reason for your opinion and pointers for improvement. It will always be a knock knock joke so don't mention that\",\n",
    "            message_history=ctx.messages,\n",
    "        )\n",
    "    ).data\n",
    "    logger.info(f\"Joke Critique: {critique.model_dump_json()}\")\n",
    "    return joke"
   ]
  },
  {
   "cell_type": "code",
   "execution_count": 3,
   "metadata": {},
   "outputs": [
    {
     "name": "stdout",
     "output_type": "stream",
     "text": [
      "14:27:11.694 joker_agent run prompt=Tell me a joke about the justice league\n",
      "14:27:11.694   preparing model and tools run_step=1\n",
      "14:27:11.695   model request\n"
     ]
    },
    {
     "data": {
      "text/html": [
       "<pre style=\"white-space:pre;overflow-x:auto;line-height:normal;font-family:Menlo,'DejaVu Sans Mono',consolas,'Courier New',monospace\"><span style=\"font-weight: bold\">Logfire</span> project URL: <a href=\"https://logfire.pydantic.dev/HamzaFarhan/knd\" target=\"_blank\"><span style=\"color: #008080; text-decoration-color: #008080; text-decoration: underline\">https://logfire.pydantic.dev/HamzaFarhan/knd</span></a>\n",
       "</pre>\n"
      ],
      "text/plain": [
       "\u001b[1mLogfire\u001b[0m project URL: \u001b]8;id=556578;https://logfire.pydantic.dev/HamzaFarhan/knd\u001b\\\u001b[4;36mhttps://logfire.pydantic.dev/HamzaFarhan/knd\u001b[0m\u001b]8;;\u001b\\\n"
      ]
     },
     "metadata": {},
     "output_type": "display_data"
    },
    {
     "name": "stdout",
     "output_type": "stream",
     "text": [
      "14:27:14.634   handle model response\n",
      "14:27:14.635     running tools=['joke_teller']\n",
      "14:27:14.635     joker_tool run prompt=Justice League\n",
      "14:27:14.636       preparing model and tools run_step=1\n",
      "14:27:14.636       model request\n",
      "14:27:15.392       handle model response\n",
      "14:27:15.399   preparing model and tools run_step=2\n",
      "14:27:15.400   model request\n",
      "14:27:16.174   handle model response\n",
      "14:27:16.176     joke_critic run prompt=Critique the joke as funny or not funny. If not funny, give a ...nt. It will always be a knock knock joke so don't mention that\n",
      "14:27:16.178       preparing model and tools run_step=1\n",
      "14:27:16.180       model request\n",
      "14:27:17.858       handle model response\n",
      "14:27:17.873     not funny [unfunny_joke]\n"
     ]
    }
   ],
   "source": [
    "joke = await agent.run(\"Tell me a joke about the justice league\")"
   ]
  },
  {
   "cell_type": "code",
   "execution_count": 4,
   "metadata": {},
   "outputs": [
    {
     "data": {
      "text/plain": [
       "[ModelRequest(parts=[SystemPromptPart(content='Use the tool to tell jokes', dynamic_ref=None, part_kind='system-prompt'), UserPromptPart(content='Tell me a joke about the justice league', timestamp=datetime.datetime(2025, 1, 25, 14, 27, 11, 694489, tzinfo=datetime.timezone.utc), part_kind='user-prompt')], kind='request'),\n",
       " ModelResponse(parts=[ToolCallPart(tool_name='joke_teller', args=ArgsDict(args_dict={'premise': 'Justice League'}), tool_call_id=None, part_kind='tool-call')], model_name='gemini-1.5-flash', timestamp=datetime.datetime(2025, 1, 25, 14, 27, 14, 633532, tzinfo=datetime.timezone.utc), kind='response'),\n",
       " ModelRequest(parts=[ToolReturnPart(tool_name='joke_teller', content=\"Knock knock.\\n\\nWho's there?\\n\\nJustice.\\n\\nJustice who?\\n\\nJustice League of extraordinary jokes!  (or... Justice League of heroes!)\\n\", tool_call_id=None, timestamp=datetime.datetime(2025, 1, 25, 14, 27, 15, 397216, tzinfo=datetime.timezone.utc), part_kind='tool-return')], kind='request'),\n",
       " ModelResponse(parts=[TextPart(content=\"Knock knock.\\n\\nWho's there?\\n\\nJustice.\\n\\nJustice who?\\n\\nJustice League of extraordinary jokes!  (or... Justice League of heroes!)\\n\", part_kind='text')], model_name='gemini-1.5-flash', timestamp=datetime.datetime(2025, 1, 25, 14, 27, 16, 172743, tzinfo=datetime.timezone.utc), kind='response'),\n",
       " ModelRequest(parts=[UserPromptPart(content='Joke Critique: {\"funny\":false,\"reason\":\"The joke\\'s setup creates an expectation of a clever wordplay related to the Justice League, but the punchline is a simple statement that doesn\\'t meet that expectation.  It\\'s a bit of a letdown.\",\"pointers\":[\"The punchline is weak and doesn\\'t have a strong connection to the setup.  It relies on a pun that may not be understood or appreciated by all audiences.\",\"Try to create a more unexpected or clever twist in the punchline. Consider a play on words related to a specific Justice League member or their powers, or a humorous situation involving the team.\"]}', timestamp=datetime.datetime(2025, 1, 25, 14, 27, 17, 874977, tzinfo=datetime.timezone.utc), part_kind='user-prompt')], kind='request')]"
      ]
     },
     "execution_count": 4,
     "metadata": {},
     "output_type": "execute_result"
    }
   ],
   "source": [
    "joke.all_messages()"
   ]
  },
  {
   "cell_type": "code",
   "execution_count": 5,
   "metadata": {},
   "outputs": [
    {
     "name": "stdout",
     "output_type": "stream",
     "text": [
      "Knock knock.\n",
      "\n",
      "Who's there?\n",
      "\n",
      "Justice.\n",
      "\n",
      "Justice who?\n",
      "\n",
      "Justice League of extraordinary jokes!  (or... Justice League of heroes!)\n",
      "\n"
     ]
    }
   ],
   "source": [
    "print(joke.data)"
   ]
  },
  {
   "cell_type": "code",
   "execution_count": null,
   "metadata": {},
   "outputs": [],
   "source": []
  }
 ],
 "metadata": {
  "kernelspec": {
   "display_name": ".venv",
   "language": "python",
   "name": "python3"
  },
  "language_info": {
   "codemirror_mode": {
    "name": "ipython",
    "version": 3
   },
   "file_extension": ".py",
   "mimetype": "text/x-python",
   "name": "python",
   "nbconvert_exporter": "python",
   "pygments_lexer": "ipython3",
   "version": "3.12.7"
  }
 },
 "nbformat": 4,
 "nbformat_minor": 2
}
