{
 "cells": [
  {
   "cell_type": "code",
   "execution_count": 1,
   "metadata": {},
   "outputs": [],
   "source": [
    "from pathlib import Path\n",
    "from uuid import UUID\n",
    "\n",
    "import chromadb\n",
    "import httpx\n",
    "import logfire\n",
    "import pymupdf4llm\n",
    "from chromadb.utils import embedding_functions\n",
    "from loguru import logger\n",
    "from markitdown import MarkItDown\n",
    "\n",
    "from hiring_force_app import AgentRequest, Resume\n",
    "\n",
    "logfire.configure()\n",
    "\n",
    "%load_ext autoreload\n",
    "%autoreload 2\n"
   ]
  },
  {
   "cell_type": "code",
   "execution_count": 2,
   "metadata": {},
   "outputs": [],
   "source": [
    "async def send_request(agent_request: AgentRequest) -> Resume:\n",
    "    async with httpx.AsyncClient(timeout=120) as client:\n",
    "        response = await client.post(\"http://localhost:8000/run_agent\", json=agent_request.model_dump())\n",
    "        response.raise_for_status()\n",
    "        return Resume(**response.json())"
   ]
  },
  {
   "cell_type": "code",
   "execution_count": 3,
   "metadata": {},
   "outputs": [],
   "source": [
    "def doc_to_md(doc: Path | str, md_path: Path | str = \"\") -> str:\n",
    "    if not Path(doc).exists():\n",
    "        raise FileNotFoundError(f\"Document not found: {doc}\")\n",
    "    md = \"\"\n",
    "    try:\n",
    "        doc = Path(doc)\n",
    "        if doc.suffix == \".md\":\n",
    "            md = doc.read_text()\n",
    "        elif doc.suffix == \".pdf\":\n",
    "            md = pymupdf4llm.to_markdown(doc=str(doc))\n",
    "        else:\n",
    "            marker = MarkItDown()\n",
    "            md = marker.convert(source=str(doc)).text_content\n",
    "    except Exception:\n",
    "        logger.error(f\"Error converting {doc} to markdown\")\n",
    "    if md_path and md:\n",
    "        md_path = Path(md_path)\n",
    "        md_path.parent.mkdir(parents=True, exist_ok=True)\n",
    "        md_path.write_text(md)\n",
    "    return md"
   ]
  },
  {
   "cell_type": "code",
   "execution_count": 4,
   "metadata": {},
   "outputs": [],
   "source": [
    "async def create_ideal_candidate(\n",
    "    user_id: UUID | str,\n",
    "    job_desc: str,\n",
    "    path: Path | str = \"\",\n",
    "    memorize: bool = True,\n",
    "    memories_dir: Path | str = \"\",\n",
    ") -> Resume:\n",
    "    agent_request = AgentRequest(\n",
    "        user_prompt=job_desc,\n",
    "        agent_name=\"ideal_candidate_agent\",\n",
    "        user_id=user_id,\n",
    "        memorize=memorize,\n",
    "        memories_dir=memories_dir,\n",
    "    )\n",
    "    ideal_candidate = await send_request(agent_request=agent_request)\n",
    "    if path:\n",
    "        Path(path).write_text(ideal_candidate.model_dump_json())\n",
    "    return ideal_candidate"
   ]
  },
  {
   "cell_type": "code",
   "execution_count": 11,
   "metadata": {},
   "outputs": [],
   "source": [
    "async def save_resume_objects(\n",
    "    user_id: UUID | str,\n",
    "    resumes_path: Path,\n",
    "    resume_objects_path: Path | str,\n",
    "    suffix: str = \"\",\n",
    "    num_resumes: int | None = None,\n",
    "    memorize: bool = True,\n",
    "    memories_dir: Path | str = \"\",\n",
    "):\n",
    "    resume_objects_path = Path(resume_objects_path)\n",
    "    resume_objects_path.mkdir(parents=True, exist_ok=True)\n",
    "    n = 0\n",
    "    for resume in resumes_path.glob(f\"*{suffix}\"):\n",
    "        if num_resumes and n >= num_resumes:\n",
    "            break\n",
    "        object_path = resume_objects_path.joinpath(resume.name).with_suffix(\".json\")\n",
    "        if object_path.exists():\n",
    "            logger.warning(f\"Skipping {resume.name} because it already exists\")\n",
    "            continue\n",
    "        agent_request = AgentRequest(\n",
    "            user_prompt=doc_to_md(doc=resume),\n",
    "            agent_name=\"resume_agent\",\n",
    "            user_id=user_id,\n",
    "            memorize=memorize,\n",
    "            memories_dir=memories_dir,\n",
    "        )\n",
    "        resume_object = await send_request(agent_request=agent_request)\n",
    "        object_path.write_text(resume_object.model_dump_json())\n",
    "        logger.success(f\"Saved resume object for {resume.name}\")\n",
    "        n += 1"
   ]
  },
  {
   "cell_type": "code",
   "execution_count": 6,
   "metadata": {},
   "outputs": [],
   "source": [
    "def index_resume_objects(collection: chromadb.Collection, resume_objects_path: Path | str):\n",
    "    resume_objects_path = Path(resume_objects_path)\n",
    "    for resume in resume_objects_path.iterdir():\n",
    "        collection.add(ids=[resume.name], documents=[resume.read_text()])\n",
    "        logger.success(f\"Added resume {resume.name} to collection\")\n"
   ]
  },
  {
   "cell_type": "code",
   "execution_count": 7,
   "metadata": {},
   "outputs": [
    {
     "data": {
      "text/plain": [
       "UUID('7b94f43d-570b-456c-a8cf-51221eec4797')"
      ]
     },
     "execution_count": 7,
     "metadata": {},
     "output_type": "execute_result"
    }
   ],
   "source": [
    "# user_id = uuid4()\n",
    "user_id = UUID(\"7b94f43d-570b-456c-a8cf-51221eec4797\")\n",
    "memories_dir = Path(\"grc/memories\")\n",
    "user_id"
   ]
  },
  {
   "cell_type": "code",
   "execution_count": 8,
   "metadata": {},
   "outputs": [
    {
     "data": {
      "text/html": [
       "<pre style=\"white-space:pre;overflow-x:auto;line-height:normal;font-family:Menlo,'DejaVu Sans Mono',consolas,'Courier New',monospace\"><span style=\"font-weight: bold\">Logfire</span> project URL: <a href=\"https://logfire.pydantic.dev/HamzaFarhan/knd\" target=\"_blank\"><span style=\"color: #008080; text-decoration-color: #008080; text-decoration: underline\">https://logfire.pydantic.dev/HamzaFarhan/knd</span></a>\n",
       "</pre>\n"
      ],
      "text/plain": [
       "\u001b[1mLogfire\u001b[0m project URL: \u001b]8;id=365550;https://logfire.pydantic.dev/HamzaFarhan/knd\u001b\\\u001b[4;36mhttps://logfire.pydantic.dev/HamzaFarhan/knd\u001b[0m\u001b]8;;\u001b\\\n"
      ]
     },
     "metadata": {},
     "output_type": "display_data"
    },
    {
     "data": {
      "text/plain": [
       "Resume(years_of_experience=10.0, summary='Seasoned Director of Governance, Risk, and Compliance with over a decade of experience in GRC and information security. Proven expertise in designing and implementing effective compliance frameworks aligned with regulatory standards. Strong leadership in cross-functional teams and adept at enhancing organizational security and trust-building strategies.', work_experience=[WorkExperience(company='CyberShield Inc.', title='Director of Governance, Risk, and Compliance (GRC)', employment_type=<EmploymentType.FULL_TIME: 'full_time'>, location='Remote', is_current=True, description='Lead enterprise-wide GRC initiatives ensuring compliance with regulatory standards, overseeing third-party vendor risks, and executing incident response strategies. Develop risk metrics and report to executive leadership while collaborating with cross-functional teams.', achievements=['Successfully implemented a GRC framework that improved compliance scores by 35% within the first year.', 'Developed and maintained incident response plan that reduced incident response time by 50%.', 'Led cross-functional teams that achieved a 30% reduction in vendor-related risks through improved assessment protocols.'], start_date=datetime.date(2023, 1, 1), end_date=None), WorkExperience(company='SecureTech Solutions', title='Senior GRC Manager', employment_type=<EmploymentType.FULL_TIME: 'full_time'>, location='Remote', is_current=False, description='Managed risk assessment and compliance activities for various clients in the financial sector. Developed strategies for GDPR compliance and facilitated audits of compliance programs.', achievements=['Achieved 100% compliance with GDPR for a major client during first year of implementation.', 'Reduced audit preparation time by 40% through process improvements and training sessions.'], start_date=datetime.date(2018, 1, 1), end_date=datetime.date(2022, 12, 31)), WorkExperience(company='HealthSafe Inc.', title='Compliance Officer', employment_type=<EmploymentType.FULL_TIME: 'full_time'>, location='New York, NY', is_current=False, description='Oversaw compliance with healthcare regulations and managed risk assessments ensuring alignment with HIPAA, NIST, and other regulatory requirements.', achievements=['Improved compliance rates by 20% in less than a year through targeted training and awareness programs.', 'Streamlined compliance reporting process, reducing time taken by 30%.'], start_date=datetime.date(2015, 1, 1), end_date=datetime.date(2017, 12, 31))], education=[Education(institution='University of Information Security', degree='Master of Science', level=<EducationLevel.BACHELORS: 3>, field_of_study='Information Security', gpa=3.8, description='', start_date=datetime.date(2010, 1, 1), end_date=datetime.date(2012, 1, 1)), Education(institution='State University', degree='Bachelor of Arts', level=<EducationLevel.ASSOCIATES: 2>, field_of_study='Business Administration', gpa=3.5, description='', start_date=datetime.date(2006, 1, 1), end_date=datetime.date(2010, 1, 1))], skills=[Skill(name='Governance, Risk Management, and Compliance (GRC)', level=8, years_experience=10.0), Skill(name='Information Security', level=8, years_experience=10.0), Skill(name='Risk Assessment', level=9, years_experience=10.0), Skill(name='NIST Compliance', level=9, years_experience=10.0), Skill(name='GDPR Compliance', level=8, years_experience=8.0), Skill(name='ISO 27001 Compliance', level=8, years_experience=8.0), Skill(name='Vendor Risk Management', level=8, years_experience=8.0), Skill(name='Incident Response', level=8, years_experience=8.0), Skill(name='Communication', level=9, years_experience=10.0)], certifications=['Certified Information Systems Security Professional (CISSP)', 'Certified in Risk and Information Systems Control (CRISC)'], languages=[], projects=[Project(name='Enterprise GRC Implementation', description='Designed and implemented a comprehensive GRC strategy for a large organization to align with regulatory standards and enhance risk management.', duties=['Led team of 15 in project development and implementation.', 'Coordinated with legal and IT departments to ensure regulatory compliance.', 'Developed training materials for staff on new GRC policies.'], company='CyberShield Inc.', links=[]), Project(name='Vendor Risk Assessment Project', description='Managed a project to assess and mitigate risks associated with third-party vendors, incorporating feedback from various stakeholders to improve compliance frameworks.', duties=['Conducted risk assessments and developed vendor risk management policies.', 'Presented findings and solutions to executive leadership.'], company='SecureTech Solutions', links=[])], last_updated=datetime.date(2023, 10, 20), availability_date=None)"
      ]
     },
     "execution_count": 8,
     "metadata": {},
     "output_type": "execute_result"
    }
   ],
   "source": [
    "ideal_candidate = await create_ideal_candidate(\n",
    "    user_id=user_id,\n",
    "    job_desc=Path(\"grc/job_posting.md\").read_text(),\n",
    "    path=\"grc/ideal_candidate.json\",\n",
    "    memories_dir=memories_dir,\n",
    ")\n",
    "ideal_candidate = Resume.model_validate_json(Path(\"grc/ideal_candidate.json\").read_text())\n",
    "ideal_candidate"
   ]
  },
  {
   "cell_type": "code",
   "execution_count": 9,
   "metadata": {},
   "outputs": [],
   "source": [
    "chroma_client = chromadb.PersistentClient(path=\"chroma_db\")\n",
    "sentence_transformer_ef = embedding_functions.SentenceTransformerEmbeddingFunction(  # type: ignore\n",
    "    model_name=\"Alibaba-NLP/gte-modernbert-base\",\n",
    ")\n",
    "chroma_client.delete_collection(name=\"grc\")\n",
    "collection = chroma_client.get_or_create_collection(name=\"grc\", embedding_function=sentence_transformer_ef)\n"
   ]
  },
  {
   "cell_type": "code",
   "execution_count": 13,
   "metadata": {},
   "outputs": [
    {
     "name": "stderr",
     "output_type": "stream",
     "text": [
      "\u001b[32m2025-01-26 19:10:00.110\u001b[0m | \u001b[33m\u001b[1mWARNING \u001b[0m | \u001b[36m__main__\u001b[0m:\u001b[36msave_resume_objects\u001b[0m:\u001b[36m19\u001b[0m - \u001b[33m\u001b[1mSkipping greg.docx because it already exists\u001b[0m\n",
      "\u001b[32m2025-01-26 19:10:15.109\u001b[0m | \u001b[32m\u001b[1mSUCCESS \u001b[0m | \u001b[36m__main__\u001b[0m:\u001b[36msave_resume_objects\u001b[0m:\u001b[36m30\u001b[0m - \u001b[32m\u001b[1mSaved resume object for emily.docx\u001b[0m\n",
      "\u001b[32m2025-01-26 19:10:35.583\u001b[0m | \u001b[32m\u001b[1mSUCCESS \u001b[0m | \u001b[36m__main__\u001b[0m:\u001b[36msave_resume_objects\u001b[0m:\u001b[36m30\u001b[0m - \u001b[32m\u001b[1mSaved resume object for jane.docx\u001b[0m\n",
      "\u001b[32m2025-01-26 19:11:00.423\u001b[0m | \u001b[32m\u001b[1mSUCCESS \u001b[0m | \u001b[36m__main__\u001b[0m:\u001b[36msave_resume_objects\u001b[0m:\u001b[36m30\u001b[0m - \u001b[32m\u001b[1mSaved resume object for john.docx\u001b[0m\n",
      "\u001b[32m2025-01-26 19:11:32.942\u001b[0m | \u001b[32m\u001b[1mSUCCESS \u001b[0m | \u001b[36m__main__\u001b[0m:\u001b[36msave_resume_objects\u001b[0m:\u001b[36m30\u001b[0m - \u001b[32m\u001b[1mSaved resume object for lisa.docx\u001b[0m\n"
     ]
    }
   ],
   "source": [
    "await save_resume_objects(\n",
    "    user_id=user_id,\n",
    "    resumes_path=Path(\"grc/resumes\"),\n",
    "    resume_objects_path=Path(\"grc/resume_objects\"),\n",
    "    suffix=\".docx\",\n",
    "    memories_dir=memories_dir,\n",
    ")"
   ]
  },
  {
   "cell_type": "code",
   "execution_count": 14,
   "metadata": {},
   "outputs": [
    {
     "name": "stderr",
     "output_type": "stream",
     "text": [
      "\u001b[32m2025-01-26 19:13:04.276\u001b[0m | \u001b[32m\u001b[1mSUCCESS \u001b[0m | \u001b[36m__main__\u001b[0m:\u001b[36mindex_resume_objects\u001b[0m:\u001b[36m5\u001b[0m - \u001b[32m\u001b[1mAdded resume jane.json to collection\u001b[0m\n",
      "\u001b[32m2025-01-26 19:13:04.817\u001b[0m | \u001b[32m\u001b[1mSUCCESS \u001b[0m | \u001b[36m__main__\u001b[0m:\u001b[36mindex_resume_objects\u001b[0m:\u001b[36m5\u001b[0m - \u001b[32m\u001b[1mAdded resume john.json to collection\u001b[0m\n",
      "\u001b[32m2025-01-26 19:13:05.026\u001b[0m | \u001b[32m\u001b[1mSUCCESS \u001b[0m | \u001b[36m__main__\u001b[0m:\u001b[36mindex_resume_objects\u001b[0m:\u001b[36m5\u001b[0m - \u001b[32m\u001b[1mAdded resume emily.json to collection\u001b[0m\n",
      "\u001b[32m2025-01-26 19:13:06.211\u001b[0m | \u001b[32m\u001b[1mSUCCESS \u001b[0m | \u001b[36m__main__\u001b[0m:\u001b[36mindex_resume_objects\u001b[0m:\u001b[36m5\u001b[0m - \u001b[32m\u001b[1mAdded resume greg.json to collection\u001b[0m\n",
      "\u001b[32m2025-01-26 19:13:06.679\u001b[0m | \u001b[32m\u001b[1mSUCCESS \u001b[0m | \u001b[36m__main__\u001b[0m:\u001b[36mindex_resume_objects\u001b[0m:\u001b[36m5\u001b[0m - \u001b[32m\u001b[1mAdded resume lisa.json to collection\u001b[0m\n"
     ]
    }
   ],
   "source": [
    "index_resume_objects(collection=collection, resume_objects_path=Path(\"grc/resume_objects\"))"
   ]
  },
  {
   "cell_type": "code",
   "execution_count": 15,
   "metadata": {},
   "outputs": [],
   "source": [
    "top_candidates = collection.query(query_texts=[ideal_candidate.model_dump_json()], n_results=3)"
   ]
  },
  {
   "cell_type": "code",
   "execution_count": 16,
   "metadata": {},
   "outputs": [
    {
     "data": {
      "text/plain": [
       "{'ids': [['greg.json', 'jane.json', 'emily.json']],\n",
       " 'embeddings': None,\n",
       " 'documents': [['{\"years_of_experience\":15.0,\"summary\":\"Accomplished executive with extensive experience leading large organizations while building strong relationships with clients and business partners to achieve strategic goals and deliver value. Proven leader in operations and information security with a focus on planning and implementing key initiatives, assessing, and mitigating business risk, and leading continuous process improvement programs that drive operational efficiency and quality.\",\"work_experience\":[{\"company\":\"Cyderes, LLC\",\"title\":\"Director, Governance Risk and Compliance\",\"employment_type\":\"full_time\",\"location\":\"\",\"is_current\":true,\"description\":\"Lead enterprise-wide GRC initiatives to ensure alignment with security, regulatory, and organizational trust objectives including GDPR, ISO 27001, PCI, CMMC, CSA, CIS, and NIST. Develop and maintain a comprehensive governance framework, enhancing trust and transparency with internal and external stakeholders. Oversee third-party risk management processes, ensuring robust evaluations of vendors and their compliance with security and privacy standards. Direct customer due diligence processes, including the review and evaluation of customer security practices and compliance with regulatory standards to ensure alignment with Cyderes security requirements. Develop and maintain the Cyderes Trust Center, providing a centralized platform for showcasing security, compliance, and transparency initiatives to build customer confidence. Lead enterprise-wide incident response initiatives, coordinating cross-functional teams to ensure rapid and effective response to security incidents. Managed customer communications during incidents, providing timely, transparent updates to ensure trust and clarity throughout the resolution process. Foster collaboration with the Go to Market and Service Delivery organizations to establish trust-based relationships with clients, enabling the delivery of managed security services. Drive implementation of metrics-driven reporting for executive leadership, demonstrating risk posture improvements and program success. Promote a culture of compliance and trust through employee training, policy development, and ongoing communication.\",\"achievements\":[],\"start_date\":\"2023-11-01\",\"end_date\":null},{\"company\":\"Caliber Financial\",\"title\":\"Director of Information Security\",\"employment_type\":\"full_time\",\"location\":\"\",\"is_current\":false,\"description\":\"Develop and execute comprehensive information security strategies, policies, and procedures to protect Caliber Financial\\'s assets and ensure compliance with industry regulations and standards. Lead a team of security professionals in conducting risk assessments, vulnerability management, incident response, and security awareness training programs. Implement and maintain security controls, including access management, identity and access management (IAM), and network security measures. Drive the development and implementation of disaster recovery and business continuity plans to ensure minimal business disruption in the event of security incidents or disasters. Collaborate with cross-functional stakeholders to integrate security best practices into system development life cycle (SDLC) processes and ensure secure software development practices. Manage security audits and assessments to identify vulnerabilities and ensure timely remediation. Stay abreast of the evolving threat landscape and emerging security technologies, recommending and implementing appropriate security solutions to mitigate risks. Foster a culture of security awareness and accountability throughout the organization through training programs and regular communication. Oversee third-party vendor risk management processes and ensure adherence to security requirements. Provide regular reports to executive leadership on the status of information security initiatives, risk mitigation efforts, and compliance with regulations.\",\"achievements\":[],\"start_date\":\"2022-01-01\",\"end_date\":\"2023-10-01\"},{\"company\":\"Cerner Corporation\",\"title\":\"Director Enterprise Security GRC\",\"employment_type\":\"full_time\",\"location\":\"\",\"is_current\":false,\"description\":\"Developed, implemented, and maintained information security policies designed to meet NIST 800-53, NIST 800-171 frameworks to meet and exceed the needs of Cerner’s Federal Customers. Implemented Vulnerability Risk Management and Information Assurance Vulnerability Management frameworks to identify vulnerabilities, associated risks, and track remediation across multiple environments. Implemented Plan of Actions and Milestone (POA&M) program for the tracking of vulnerability remediation. The POA&M process created visibility to new and reopened vulnerabilities. Implemented and chaired Cerner’s Federal Risk Advisory board. Created a risk acceptance process designed to create executive visibility for information security risks associated with policy exceptions, configuration management, vulnerability remediation and compliance, training requirements and Federal clearance programs. Defined Standard Operating procedures for responses to zero day, IAVMs, Task Orders, CISAs and other high priority high visibility vulnerabilities. Participated in 12 Independent Validation and Verification Audits in 3 years. Implemented Archer GRC tools for the continuous monitoring of controls, policy reviews, vulnerability management and Assessment and Authorization requirements. Defined policies, standards and procedures for the management and monitoring for Federal contract onboarding. Refined the overall onboarding process to eliminate initial errors eliminating redundancy and reducing confusion for Cerner associates. Managed Annual training compliance for multiple Federal and State contracts for ~9000 associates. Developed policies and standards for DOD 8570 Training management and compliance.\",\"achievements\":[],\"start_date\":\"2018-01-01\",\"end_date\":\"2022-12-31\"},{\"company\":\"Resolve Systems\",\"title\":\"Director Security Product Management\",\"employment_type\":\"full_time\",\"location\":\"\",\"is_current\":false,\"description\":\"Developed the business plan and received investment to evolve Resolve’s IT and Network Automation platform into a Security Orchestration Automation and Response platform and enter the security market. Collaborated with customers, prospects and neutral third parties to develop deep understanding of challenges in the security industry, within their organizations and industry verticals. Developed human guided Security Incident Response playbooks based on industry standards. Analyzed and developed incident response workflows and automations for the identification and containment of common attack vectors including malware and phishing. Conducted market analysis and development of the SOAR integration ecosystem with leading security technologies.\",\"achievements\":[],\"start_date\":\"2018-01-01\",\"end_date\":\"2018-12-31\"},{\"company\":\"RSA, A Dell Technologies Company\",\"title\":\"Sr. Manager Product Management\",\"employment_type\":\"full_time\",\"location\":\"\",\"is_current\":false,\"description\":\"Led the Product Management organization for the RSA Archer Governance Risk and Compliance Suite. Responsible for all aspects of product management including designing the annual strategic planning process, leading cross-functional teams to align and promote strategic business objectives. Planned and executed the release of new product offers specific to General Data Protection Regulations and Integrated Risk Management.\",\"achievements\":[],\"start_date\":\"2012-01-01\",\"end_date\":\"2018-12-31\"},{\"company\":\"Fishnet Security, Inc\",\"title\":\"Director, Managed Security Services\",\"employment_type\":\"full_time\",\"location\":\"\",\"is_current\":false,\"description\":\"Corporate IT leader combining operations, business development, product management, vendor management, service delivery, and profit and loss responsibilities for the Managed Security Services (MSS) business unit. MSS business unit sustained triple digit year-over-year growth during tenure. Developed the MSS strategic vision and managed service offerings including research, understanding client requirements, and managing regulatory and security requirements.\",\"achievements\":[],\"start_date\":\"2008-01-01\",\"end_date\":\"2012-12-31\"}],\"education\":[{\"institution\":\"Adams State College\",\"degree\":\"B.S.\",\"level\":3,\"field_of_study\":\"Business Administration\",\"gpa\":null,\"description\":\"\",\"start_date\":null,\"end_date\":null}],\"skills\":[],\"certifications\":[],\"languages\":[],\"projects\":[],\"last_updated\":\"2023-11-01\",\"availability_date\":null}',\n",
       "   '{\"years_of_experience\":6.0,\"summary\":\"Experienced security professional with a robust background in governance, risk, and compliance (GRC). Skilled in implementing regulatory compliance frameworks, managing security incidents, and conducting vendor risk evaluations. Passionate about fostering a culture of security awareness and continuous improvement.\",\"work_experience\":[{\"company\":\"SecureTech LLC\",\"title\":\"Information Security Manager\",\"employment_type\":\"full_time\",\"location\":\"\",\"is_current\":true,\"description\":\"Conducted risk assessments and developed mitigation plans to address vulnerabilities, achieving a 25% reduction in security incidents within the first year. Oversaw compliance programs for PCI DSS and GDPR, successfully passing all external audits during tenure. Designed and delivered security awareness programs, improving employee compliance rates by 30%. Directed the evaluation and onboarding of third-party vendors, ensuring alignment with security and privacy standards. Provided biannual security performance reports to the executive team, highlighting key achievements and areas for improvement.\",\"achievements\":[],\"start_date\":\"2021-01-01\",\"end_date\":null},{\"company\":\"DataGuard Inc.\",\"title\":\"Compliance Specialist\",\"employment_type\":\"full_time\",\"location\":\"\",\"is_current\":false,\"description\":\"Developed and maintained compliance frameworks aligned with ISO 27001, NIST, and HIPAA standards, ensuring 100% regulatory compliance. Coordinated with internal teams to implement secure software development practices, reducing vulnerabilities in deployed systems by 15%. Supported external audit processes, facilitating the documentation and remediation of identified issues. Led initiatives to improve cross-functional collaboration on compliance goals, resulting in a 20% improvement in issue resolution times.\",\"achievements\":[],\"start_date\":\"2019-01-01\",\"end_date\":\"2021-01-01\"},{\"company\":\"CyberPro Solutions\",\"title\":\"Security Analyst\",\"employment_type\":\"full_time\",\"location\":\"\",\"is_current\":false,\"description\":\"Monitored and responded to security events, leveraging SIEM tools to identify and mitigate threats. Conducted vulnerability scans and worked with development teams to remediate issues within SLA timelines. Created incident response procedures and playbooks, ensuring consistent handling of security events.\",\"achievements\":[],\"start_date\":\"2017-01-01\",\"end_date\":\"2019-01-01\"}],\"education\":[{\"institution\":\"University of Texas\",\"degree\":\"B.S.\",\"level\":3,\"field_of_study\":\"Computer Science\",\"gpa\":null,\"description\":\"\",\"start_date\":null,\"end_date\":null}],\"skills\":[],\"certifications\":[],\"languages\":[],\"projects\":[],\"last_updated\":\"2023-11-01\",\"availability_date\":null}',\n",
       "   '{\"years_of_experience\":8.0,\"summary\":\"Compassionate healthcare professional with over 8 years of clinical experience in patient management and diagnostic research. Adept at leading interdisciplinary teams, improving patient outcomes, and conducting groundbreaking research.\",\"work_experience\":[{\"company\":\"HealthFirst Research\",\"title\":\"Clinical Research Lead\",\"employment_type\":\"full_time\",\"location\":\"\",\"is_current\":true,\"description\":\"Directed multiple research studies on cardiovascular health, publishing findings in peer-reviewed journals. Partnered with regulatory bodies to ensure compliance in clinical trials, achieving timely approvals for all projects. Mentored junior researchers, fostering a collaborative and innovative research environment.\",\"achievements\":[],\"start_date\":\"2020-01-01\",\"end_date\":null},{\"company\":\"Midwest Health\",\"title\":\"Senior Physician\",\"employment_type\":\"full_time\",\"location\":\"\",\"is_current\":false,\"description\":\"Delivered high-quality patient care, specializing in diagnostic assessments and treatment planning. Led initiatives to improve patient satisfaction scores, achieving a 20% increase over three years. Implemented EMR systems to streamline patient documentation, reducing errors by 15%.\",\"achievements\":[],\"start_date\":\"2015-01-01\",\"end_date\":\"2020-01-01\"}],\"education\":[{\"institution\":\"Northwestern University Feinberg School of Medicine\",\"degree\":\"MD\",\"level\":5,\"field_of_study\":\"\",\"gpa\":null,\"description\":\"\",\"start_date\":null,\"end_date\":null}],\"skills\":[],\"certifications\":[],\"languages\":[],\"projects\":[],\"last_updated\":\"2023-11-01\",\"availability_date\":null}']],\n",
       " 'uris': None,\n",
       " 'data': None,\n",
       " 'metadatas': [[None, None, None]],\n",
       " 'distances': [[567.84856609961, 709.5592882029379, 1105.534417841597]],\n",
       " 'included': [<IncludeEnum.distances: 'distances'>,\n",
       "  <IncludeEnum.documents: 'documents'>,\n",
       "  <IncludeEnum.metadatas: 'metadatas'>]}"
      ]
     },
     "execution_count": 16,
     "metadata": {},
     "output_type": "execute_result"
    }
   ],
   "source": [
    "top_candidates"
   ]
  },
  {
   "cell_type": "code",
   "execution_count": 17,
   "metadata": {},
   "outputs": [],
   "source": [
    "top_candidates2 = collection.query(query_texts=[Path(\"grc/job_posting.md\").read_text()], n_results=3)"
   ]
  },
  {
   "cell_type": "code",
   "execution_count": 18,
   "metadata": {},
   "outputs": [
    {
     "data": {
      "text/plain": [
       "{'ids': [['greg.json', 'jane.json', 'emily.json']],\n",
       " 'embeddings': None,\n",
       " 'documents': [['{\"years_of_experience\":15.0,\"summary\":\"Accomplished executive with extensive experience leading large organizations while building strong relationships with clients and business partners to achieve strategic goals and deliver value. Proven leader in operations and information security with a focus on planning and implementing key initiatives, assessing, and mitigating business risk, and leading continuous process improvement programs that drive operational efficiency and quality.\",\"work_experience\":[{\"company\":\"Cyderes, LLC\",\"title\":\"Director, Governance Risk and Compliance\",\"employment_type\":\"full_time\",\"location\":\"\",\"is_current\":true,\"description\":\"Lead enterprise-wide GRC initiatives to ensure alignment with security, regulatory, and organizational trust objectives including GDPR, ISO 27001, PCI, CMMC, CSA, CIS, and NIST. Develop and maintain a comprehensive governance framework, enhancing trust and transparency with internal and external stakeholders. Oversee third-party risk management processes, ensuring robust evaluations of vendors and their compliance with security and privacy standards. Direct customer due diligence processes, including the review and evaluation of customer security practices and compliance with regulatory standards to ensure alignment with Cyderes security requirements. Develop and maintain the Cyderes Trust Center, providing a centralized platform for showcasing security, compliance, and transparency initiatives to build customer confidence. Lead enterprise-wide incident response initiatives, coordinating cross-functional teams to ensure rapid and effective response to security incidents. Managed customer communications during incidents, providing timely, transparent updates to ensure trust and clarity throughout the resolution process. Foster collaboration with the Go to Market and Service Delivery organizations to establish trust-based relationships with clients, enabling the delivery of managed security services. Drive implementation of metrics-driven reporting for executive leadership, demonstrating risk posture improvements and program success. Promote a culture of compliance and trust through employee training, policy development, and ongoing communication.\",\"achievements\":[],\"start_date\":\"2023-11-01\",\"end_date\":null},{\"company\":\"Caliber Financial\",\"title\":\"Director of Information Security\",\"employment_type\":\"full_time\",\"location\":\"\",\"is_current\":false,\"description\":\"Develop and execute comprehensive information security strategies, policies, and procedures to protect Caliber Financial\\'s assets and ensure compliance with industry regulations and standards. Lead a team of security professionals in conducting risk assessments, vulnerability management, incident response, and security awareness training programs. Implement and maintain security controls, including access management, identity and access management (IAM), and network security measures. Drive the development and implementation of disaster recovery and business continuity plans to ensure minimal business disruption in the event of security incidents or disasters. Collaborate with cross-functional stakeholders to integrate security best practices into system development life cycle (SDLC) processes and ensure secure software development practices. Manage security audits and assessments to identify vulnerabilities and ensure timely remediation. Stay abreast of the evolving threat landscape and emerging security technologies, recommending and implementing appropriate security solutions to mitigate risks. Foster a culture of security awareness and accountability throughout the organization through training programs and regular communication. Oversee third-party vendor risk management processes and ensure adherence to security requirements. Provide regular reports to executive leadership on the status of information security initiatives, risk mitigation efforts, and compliance with regulations.\",\"achievements\":[],\"start_date\":\"2022-01-01\",\"end_date\":\"2023-10-01\"},{\"company\":\"Cerner Corporation\",\"title\":\"Director Enterprise Security GRC\",\"employment_type\":\"full_time\",\"location\":\"\",\"is_current\":false,\"description\":\"Developed, implemented, and maintained information security policies designed to meet NIST 800-53, NIST 800-171 frameworks to meet and exceed the needs of Cerner’s Federal Customers. Implemented Vulnerability Risk Management and Information Assurance Vulnerability Management frameworks to identify vulnerabilities, associated risks, and track remediation across multiple environments. Implemented Plan of Actions and Milestone (POA&M) program for the tracking of vulnerability remediation. The POA&M process created visibility to new and reopened vulnerabilities. Implemented and chaired Cerner’s Federal Risk Advisory board. Created a risk acceptance process designed to create executive visibility for information security risks associated with policy exceptions, configuration management, vulnerability remediation and compliance, training requirements and Federal clearance programs. Defined Standard Operating procedures for responses to zero day, IAVMs, Task Orders, CISAs and other high priority high visibility vulnerabilities. Participated in 12 Independent Validation and Verification Audits in 3 years. Implemented Archer GRC tools for the continuous monitoring of controls, policy reviews, vulnerability management and Assessment and Authorization requirements. Defined policies, standards and procedures for the management and monitoring for Federal contract onboarding. Refined the overall onboarding process to eliminate initial errors eliminating redundancy and reducing confusion for Cerner associates. Managed Annual training compliance for multiple Federal and State contracts for ~9000 associates. Developed policies and standards for DOD 8570 Training management and compliance.\",\"achievements\":[],\"start_date\":\"2018-01-01\",\"end_date\":\"2022-12-31\"},{\"company\":\"Resolve Systems\",\"title\":\"Director Security Product Management\",\"employment_type\":\"full_time\",\"location\":\"\",\"is_current\":false,\"description\":\"Developed the business plan and received investment to evolve Resolve’s IT and Network Automation platform into a Security Orchestration Automation and Response platform and enter the security market. Collaborated with customers, prospects and neutral third parties to develop deep understanding of challenges in the security industry, within their organizations and industry verticals. Developed human guided Security Incident Response playbooks based on industry standards. Analyzed and developed incident response workflows and automations for the identification and containment of common attack vectors including malware and phishing. Conducted market analysis and development of the SOAR integration ecosystem with leading security technologies.\",\"achievements\":[],\"start_date\":\"2018-01-01\",\"end_date\":\"2018-12-31\"},{\"company\":\"RSA, A Dell Technologies Company\",\"title\":\"Sr. Manager Product Management\",\"employment_type\":\"full_time\",\"location\":\"\",\"is_current\":false,\"description\":\"Led the Product Management organization for the RSA Archer Governance Risk and Compliance Suite. Responsible for all aspects of product management including designing the annual strategic planning process, leading cross-functional teams to align and promote strategic business objectives. Planned and executed the release of new product offers specific to General Data Protection Regulations and Integrated Risk Management.\",\"achievements\":[],\"start_date\":\"2012-01-01\",\"end_date\":\"2018-12-31\"},{\"company\":\"Fishnet Security, Inc\",\"title\":\"Director, Managed Security Services\",\"employment_type\":\"full_time\",\"location\":\"\",\"is_current\":false,\"description\":\"Corporate IT leader combining operations, business development, product management, vendor management, service delivery, and profit and loss responsibilities for the Managed Security Services (MSS) business unit. MSS business unit sustained triple digit year-over-year growth during tenure. Developed the MSS strategic vision and managed service offerings including research, understanding client requirements, and managing regulatory and security requirements.\",\"achievements\":[],\"start_date\":\"2008-01-01\",\"end_date\":\"2012-12-31\"}],\"education\":[{\"institution\":\"Adams State College\",\"degree\":\"B.S.\",\"level\":3,\"field_of_study\":\"Business Administration\",\"gpa\":null,\"description\":\"\",\"start_date\":null,\"end_date\":null}],\"skills\":[],\"certifications\":[],\"languages\":[],\"projects\":[],\"last_updated\":\"2023-11-01\",\"availability_date\":null}',\n",
       "   '{\"years_of_experience\":6.0,\"summary\":\"Experienced security professional with a robust background in governance, risk, and compliance (GRC). Skilled in implementing regulatory compliance frameworks, managing security incidents, and conducting vendor risk evaluations. Passionate about fostering a culture of security awareness and continuous improvement.\",\"work_experience\":[{\"company\":\"SecureTech LLC\",\"title\":\"Information Security Manager\",\"employment_type\":\"full_time\",\"location\":\"\",\"is_current\":true,\"description\":\"Conducted risk assessments and developed mitigation plans to address vulnerabilities, achieving a 25% reduction in security incidents within the first year. Oversaw compliance programs for PCI DSS and GDPR, successfully passing all external audits during tenure. Designed and delivered security awareness programs, improving employee compliance rates by 30%. Directed the evaluation and onboarding of third-party vendors, ensuring alignment with security and privacy standards. Provided biannual security performance reports to the executive team, highlighting key achievements and areas for improvement.\",\"achievements\":[],\"start_date\":\"2021-01-01\",\"end_date\":null},{\"company\":\"DataGuard Inc.\",\"title\":\"Compliance Specialist\",\"employment_type\":\"full_time\",\"location\":\"\",\"is_current\":false,\"description\":\"Developed and maintained compliance frameworks aligned with ISO 27001, NIST, and HIPAA standards, ensuring 100% regulatory compliance. Coordinated with internal teams to implement secure software development practices, reducing vulnerabilities in deployed systems by 15%. Supported external audit processes, facilitating the documentation and remediation of identified issues. Led initiatives to improve cross-functional collaboration on compliance goals, resulting in a 20% improvement in issue resolution times.\",\"achievements\":[],\"start_date\":\"2019-01-01\",\"end_date\":\"2021-01-01\"},{\"company\":\"CyberPro Solutions\",\"title\":\"Security Analyst\",\"employment_type\":\"full_time\",\"location\":\"\",\"is_current\":false,\"description\":\"Monitored and responded to security events, leveraging SIEM tools to identify and mitigate threats. Conducted vulnerability scans and worked with development teams to remediate issues within SLA timelines. Created incident response procedures and playbooks, ensuring consistent handling of security events.\",\"achievements\":[],\"start_date\":\"2017-01-01\",\"end_date\":\"2019-01-01\"}],\"education\":[{\"institution\":\"University of Texas\",\"degree\":\"B.S.\",\"level\":3,\"field_of_study\":\"Computer Science\",\"gpa\":null,\"description\":\"\",\"start_date\":null,\"end_date\":null}],\"skills\":[],\"certifications\":[],\"languages\":[],\"projects\":[],\"last_updated\":\"2023-11-01\",\"availability_date\":null}',\n",
       "   '{\"years_of_experience\":8.0,\"summary\":\"Compassionate healthcare professional with over 8 years of clinical experience in patient management and diagnostic research. Adept at leading interdisciplinary teams, improving patient outcomes, and conducting groundbreaking research.\",\"work_experience\":[{\"company\":\"HealthFirst Research\",\"title\":\"Clinical Research Lead\",\"employment_type\":\"full_time\",\"location\":\"\",\"is_current\":true,\"description\":\"Directed multiple research studies on cardiovascular health, publishing findings in peer-reviewed journals. Partnered with regulatory bodies to ensure compliance in clinical trials, achieving timely approvals for all projects. Mentored junior researchers, fostering a collaborative and innovative research environment.\",\"achievements\":[],\"start_date\":\"2020-01-01\",\"end_date\":null},{\"company\":\"Midwest Health\",\"title\":\"Senior Physician\",\"employment_type\":\"full_time\",\"location\":\"\",\"is_current\":false,\"description\":\"Delivered high-quality patient care, specializing in diagnostic assessments and treatment planning. Led initiatives to improve patient satisfaction scores, achieving a 20% increase over three years. Implemented EMR systems to streamline patient documentation, reducing errors by 15%.\",\"achievements\":[],\"start_date\":\"2015-01-01\",\"end_date\":\"2020-01-01\"}],\"education\":[{\"institution\":\"Northwestern University Feinberg School of Medicine\",\"degree\":\"MD\",\"level\":5,\"field_of_study\":\"\",\"gpa\":null,\"description\":\"\",\"start_date\":null,\"end_date\":null}],\"skills\":[],\"certifications\":[],\"languages\":[],\"projects\":[],\"last_updated\":\"2023-11-01\",\"availability_date\":null}']],\n",
       " 'uris': None,\n",
       " 'data': None,\n",
       " 'metadatas': [[None, None, None]],\n",
       " 'distances': [[802.6805730456841, 998.7524184946881, 1365.0133833790399]],\n",
       " 'included': [<IncludeEnum.distances: 'distances'>,\n",
       "  <IncludeEnum.documents: 'documents'>,\n",
       "  <IncludeEnum.metadatas: 'metadatas'>]}"
      ]
     },
     "execution_count": 18,
     "metadata": {},
     "output_type": "execute_result"
    }
   ],
   "source": [
    "top_candidates2"
   ]
  },
  {
   "cell_type": "code",
   "execution_count": null,
   "metadata": {},
   "outputs": [],
   "source": []
  }
 ],
 "metadata": {
  "kernelspec": {
   "display_name": ".venv",
   "language": "python",
   "name": "python3"
  },
  "language_info": {
   "codemirror_mode": {
    "name": "ipython",
    "version": 3
   },
   "file_extension": ".py",
   "mimetype": "text/x-python",
   "name": "python",
   "nbconvert_exporter": "python",
   "pygments_lexer": "ipython3",
   "version": "3.12.7"
  }
 },
 "nbformat": 4,
 "nbformat_minor": 2
}
