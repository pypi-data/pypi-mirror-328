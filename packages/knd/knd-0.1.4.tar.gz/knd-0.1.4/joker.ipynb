{
 "cells": [
  {
   "cell_type": "code",
   "execution_count": 1,
   "metadata": {},
   "outputs": [],
   "source": [
    "from loguru import logger\n",
    "from pydantic import BaseModel, Field\n",
    "from pydantic_ai import Agent, RunContext\n",
    "\n",
    "%load_ext autoreload\n",
    "%autoreload 2"
   ]
  },
  {
   "cell_type": "code",
   "execution_count": 2,
   "metadata": {},
   "outputs": [],
   "source": [
    "class Critique(BaseModel):\n",
    "    funny: bool\n",
    "    reason: str = \"\"\n",
    "    pointers: list[str] = Field(default_factory=list)\n",
    "\n",
    "\n",
    "agent = Agent(model=\"google-gla:gemini-1.5-flash\", system_prompt=\"Use the tool to tell jokes\", name=\"joker_agent\")\n",
    "\n",
    "joker = Agent(model=\"google-gla:gemini-1.5-flash\", system_prompt=\"Tell knock knock jokes\", name=\"joker_tool\")\n",
    "\n",
    "critic = Agent(\n",
    "    model=\"google-gla:gemini-1.5-flash\",\n",
    "    system_prompt=\"Critique the joke as funny or not funny. If not funny, give a reason for your opinion and pointers for improvement\",\n",
    "    result_type=Critique,\n",
    "    name=\"joke_critic\",\n",
    ")\n",
    "\n",
    "\n",
    "@agent.tool_plain\n",
    "async def joke_teller(premise: str) -> str:\n",
    "    \"Tool to tell jokes about anything\"\n",
    "    return (await joker.run(premise)).data\n",
    "\n",
    "\n",
    "@agent.result_validator\n",
    "async def validate_joke(ctx: RunContext, joke: str) -> str:\n",
    "    critique = (\n",
    "        await critic.run(\n",
    "            user_prompt=\"Critique the joke as funny or not funny. If not funny, give a reason for your opinion and pointers for improvement. It will always be a knock knock joke so don't mention that\",\n",
    "            message_history=ctx.messages,\n",
    "        )\n",
    "    ).data\n",
    "    logger.info(f\"Joke Critique: {critique.model_dump_json()}\")\n",
    "    return joke"
   ]
  },
  {
   "cell_type": "code",
   "execution_count": 3,
   "metadata": {},
   "outputs": [
    {
     "name": "stdout",
     "output_type": "stream",
     "text": [
      "14:27:11.694 joker_agent run prompt=Tell me a joke about the justice league\n",
      "14:27:11.694   preparing model and tools run_step=1\n",
      "14:27:11.695   model request\n"
     ]
    },
    {
     "data": {
      "text/html": [
       "<pre style=\"white-space:pre;overflow-x:auto;line-height:normal;font-family:Menlo,'DejaVu Sans Mono',consolas,'Courier New',monospace\"><span style=\"font-weight: bold\">Logfire</span> project URL: <a href=\"https://logfire.pydantic.dev/HamzaFarhan/knd\" target=\"_blank\"><span style=\"color: #008080; text-decoration-color: #008080; text-decoration: underline\">https://logfire.pydantic.dev/HamzaFarhan/knd</span></a>\n",
       "</pre>\n"
      ],
      "text/plain": [
       "\u001b[1mLogfire\u001b[0m project URL: \u001b]8;id=556578;https://logfire.pydantic.dev/HamzaFarhan/knd\u001b\\\u001b[4;36mhttps://logfire.pydantic.dev/HamzaFarhan/knd\u001b[0m\u001b]8;;\u001b\\\n"
      ]
     },
     "metadata": {},
     "output_type": "display_data"
    },
    {
     "name": "stdout",
     "output_type": "stream",
     "text": [
      "14:27:14.634   handle model response\n",
      "14:27:14.635     running tools=['joke_teller']\n",
      "14:27:14.635     joker_tool run prompt=Justice League\n",
      "14:27:14.636       preparing model and tools run_step=1\n",
      "14:27:14.636       model request\n",
      "14:27:15.392       handle model response\n",
      "14:27:15.399   preparing model and tools run_step=2\n",
      "14:27:15.400   model request\n",
      "14:27:16.174   handle model response\n",
      "14:27:16.176     joke_critic run prompt=Critique the joke as funny or not funny. If not funny, give a ...nt. It will always be a knock knock joke so don't mention that\n",
      "14:27:16.178       preparing model and tools run_step=1\n",
      "14:27:16.180       model request\n",
      "14:27:17.858       handle model response\n",
      "14:27:17.873     not funny [unfunny_joke]\n"
     ]
    }
   ],
   "source": [
    "joke = await agent.run(\"Tell me a joke about the justice league\")"
   ]
  },
  {
   "cell_type": "code",
   "execution_count": 4,
   "metadata": {},
   "outputs": [
    {
     "data": {
      "text/plain": [
       "[ModelRequest(parts=[SystemPromptPart(content='Use the tool to tell jokes', dynamic_ref=None, part_kind='system-prompt'), UserPromptPart(content='Tell me a joke about the justice league', timestamp=datetime.datetime(2025, 1, 25, 14, 27, 11, 694489, tzinfo=datetime.timezone.utc), part_kind='user-prompt')], kind='request'),\n",
       " ModelResponse(parts=[ToolCallPart(tool_name='joke_teller', args=ArgsDict(args_dict={'premise': 'Justice League'}), tool_call_id=None, part_kind='tool-call')], model_name='gemini-1.5-flash', timestamp=datetime.datetime(2025, 1, 25, 14, 27, 14, 633532, tzinfo=datetime.timezone.utc), kind='response'),\n",
       " ModelRequest(parts=[ToolReturnPart(tool_name='joke_teller', content=\"Knock knock.\\n\\nWho's there?\\n\\nJustice.\\n\\nJustice who?\\n\\nJustice League of extraordinary jokes!  (or... Justice League of heroes!)\\n\", tool_call_id=None, timestamp=datetime.datetime(2025, 1, 25, 14, 27, 15, 397216, tzinfo=datetime.timezone.utc), part_kind='tool-return')], kind='request'),\n",
       " ModelResponse(parts=[TextPart(content=\"Knock knock.\\n\\nWho's there?\\n\\nJustice.\\n\\nJustice who?\\n\\nJustice League of extraordinary jokes!  (or... Justice League of heroes!)\\n\", part_kind='text')], model_name='gemini-1.5-flash', timestamp=datetime.datetime(2025, 1, 25, 14, 27, 16, 172743, tzinfo=datetime.timezone.utc), kind='response'),\n",
       " ModelRequest(parts=[UserPromptPart(content='Joke Critique: {\"funny\":false,\"reason\":\"The joke\\'s setup creates an expectation of a clever wordplay related to the Justice League, but the punchline is a simple statement that doesn\\'t meet that expectation.  It\\'s a bit of a letdown.\",\"pointers\":[\"The punchline is weak and doesn\\'t have a strong connection to the setup.  It relies on a pun that may not be understood or appreciated by all audiences.\",\"Try to create a more unexpected or clever twist in the punchline. Consider a play on words related to a specific Justice League member or their powers, or a humorous situation involving the team.\"]}', timestamp=datetime.datetime(2025, 1, 25, 14, 27, 17, 874977, tzinfo=datetime.timezone.utc), part_kind='user-prompt')], kind='request')]"
      ]
     },
     "execution_count": 4,
     "metadata": {},
     "output_type": "execute_result"
    }
   ],
   "source": [
    "joke.all_messages()"
   ]
  },
  {
   "cell_type": "code",
   "execution_count": 5,
   "metadata": {},
   "outputs": [
    {
     "name": "stdout",
     "output_type": "stream",
     "text": [
      "Knock knock.\n",
      "\n",
      "Who's there?\n",
      "\n",
      "Justice.\n",
      "\n",
      "Justice who?\n",
      "\n",
      "Justice League of extraordinary jokes!  (or... Justice League of heroes!)\n",
      "\n"
     ]
    }
   ],
   "source": [
    "print(joke.data)"
   ]
  },
  {
   "cell_type": "code",
   "execution_count": null,
   "metadata": {},
   "outputs": [],
   "source": []
  }
 ],
 "metadata": {
  "kernelspec": {
   "display_name": ".venv",
   "language": "python",
   "name": "python3"
  },
  "language_info": {
   "codemirror_mode": {
    "name": "ipython",
    "version": 3
   },
   "file_extension": ".py",
   "mimetype": "text/x-python",
   "name": "python",
   "nbconvert_exporter": "python",
   "pygments_lexer": "ipython3",
   "version": "3.12.7"
  }
 },
 "nbformat": 4,
 "nbformat_minor": 2
}
