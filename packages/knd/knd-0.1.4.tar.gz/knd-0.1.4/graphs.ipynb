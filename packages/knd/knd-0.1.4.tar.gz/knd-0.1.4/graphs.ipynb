{
 "cells": [
  {
   "cell_type": "code",
   "execution_count": 3,
   "metadata": {},
   "outputs": [
    {
     "name": "stdout",
     "output_type": "stream",
     "text": [
      "The autoreload extension is already loaded. To reload it, use:\n",
      "  %reload_ext autoreload\n"
     ]
    }
   ],
   "source": [
    "from __future__ import annotations\n",
    "\n",
    "from dataclasses import dataclass, field\n",
    "\n",
    "from IPython.display import Image, display\n",
    "from pydantic import BaseModel, Field\n",
    "from pydantic_ai import Agent\n",
    "from pydantic_ai import messages as _messages\n",
    "from pydantic_graph import BaseNode, End, Graph, GraphRunContext\n",
    "\n",
    "%load_ext autoreload\n",
    "%autoreload 2"
   ]
  },
  {
   "cell_type": "code",
   "execution_count": 7,
   "metadata": {},
   "outputs": [],
   "source": [
    "class UserPreferences(BaseModel):\n",
    "    summary: list[str] = Field(description=\"The summary of user preferences\")\n",
    "\n",
    "\n",
    "agent = Agent(\n",
    "    model=\"google-gla:gemini-1.5-flash\",\n",
    "    result_type=UserPreferences | str,  # type: ignore\n",
    "    system_prompt=(\n",
    "        \"You're goal is to help the user to find the best smartphone model based on his preferences.\\n\"\n",
    "        \"- Ask questions one at a time.\\n\"\n",
    "        \"- Ask no more than 4 questions, but you may finish earlier if you gather enough information.\\n\"\n",
    "        \"- Focus on key aspects like budget, preferred OS, camera quality, battery life, and screen size.\\n\"\n",
    "        \"- Be concise but friendly in your questions.\\n\"\n",
    "        \"- After gathering information, provide a summary of preferences in the result.\\n\"\n",
    "        \"- Do not recommend specific phone models, just summarize preferences.\\n\"\n",
    "        \"- If user provides preferences without being asked, incorporate them into your understanding.\\n\"\n",
    "        \"Return the UserPreferences once you have gathered all the information.\"\n",
    "    ),\n",
    ")\n",
    "\n",
    "\n",
    "@dataclass\n",
    "class GraphState:\n",
    "    message_history: list[_messages.ModelMessage] = field(default_factory=list)\n",
    "\n",
    "\n",
    "@dataclass\n",
    "class Ask(BaseNode[GraphState, None, UserPreferences]):\n",
    "    user_prompt: str = \"I'm thinking of buying a new smartphone\"\n",
    "\n",
    "    async def run(self, ctx: GraphRunContext[GraphState]) -> End[UserPreferences] | Ask:\n",
    "        if self.user_prompt.lower() == \"q\":\n",
    "            return End(UserPreferences(summary=[\"Nice camera\"]))\n",
    "        res = await agent.run(user_prompt=self.user_prompt, message_history=ctx.state.message_history)\n",
    "        ctx.state.message_history = res.all_messages()\n",
    "        if isinstance(res.data, UserPreferences):\n",
    "            return End(res.data)\n",
    "        return Ask(user_prompt=res.data)\n"
   ]
  },
  {
   "cell_type": "code",
   "execution_count": 8,
   "metadata": {},
   "outputs": [],
   "source": [
    "phone_graph = Graph(nodes=[Ask])"
   ]
  },
  {
   "cell_type": "code",
   "execution_count": null,
   "metadata": {},
   "outputs": [],
   "source": [
    "state = GraphState()\n",
    "node = Ask()\n",
    "history = []\n",
    "while True:\n",
    "    node = await phone_graph.next(node, history, state=state)\n",
    "    if isinstance(node, Ask):\n",
    "        node.user_prompt = input(f\"{node.user_prompt}   > \")\n",
    "    else:\n",
    "        break"
   ]
  },
  {
   "cell_type": "code",
   "execution_count": 11,
   "metadata": {},
   "outputs": [
    {
     "data": {
      "text/plain": [
       "[Ask(user_prompt=\"I'm thinking of buying a new smartphone\"),\n",
       " Ask(user_prompt='1500'),\n",
       " Ask(user_prompt='ios'),\n",
       " Ask(user_prompt='battery')]"
      ]
     },
     "execution_count": 11,
     "metadata": {},
     "output_type": "execute_result"
    }
   ],
   "source": [
    "[e.data_snapshot() for e in history]"
   ]
  },
  {
   "cell_type": "code",
   "execution_count": 14,
   "metadata": {},
   "outputs": [
    {
     "data": {
      "text/plain": [
       "[ModelRequest(parts=[SystemPromptPart(content=\"You're goal is to help the user to find the best smartphone model based on his preferences.\\n- Ask questions one at a time.\\n- Ask no more than 4 questions, but you may finish earlier if you gather enough information.\\n- Focus on key aspects like budget, preferred OS, camera quality, battery life, and screen size.\\n- Be concise but friendly in your questions.\\n- After gathering information, provide a summary of preferences in the result.\\n- Do not recommend specific phone models, just summarize preferences.\\n- If user provides preferences without being asked, incorporate them into your understanding.\\nReturn the UserPreferences once you have gathered all the information.\", dynamic_ref=None, part_kind='system-prompt'), UserPromptPart(content=\"I'm thinking of buying a new smartphone\", timestamp=datetime.datetime(2025, 2, 10, 21, 20, 38, 219517, tzinfo=datetime.timezone.utc), part_kind='user-prompt')], kind='request'),\n",
       " ModelResponse(parts=[TextPart(content=\"Hi! Great to hear that.  To help you find the perfect smartphone, what's your budget for this purchase?\\n\", part_kind='text')], model_name='gemini-1.5-flash', timestamp=datetime.datetime(2025, 2, 10, 21, 20, 40, 909, tzinfo=datetime.timezone.utc), kind='response'),\n",
       " ModelRequest(parts=[UserPromptPart(content='1500', timestamp=datetime.datetime(2025, 2, 10, 21, 20, 43, 881335, tzinfo=datetime.timezone.utc), part_kind='user-prompt')], kind='request'),\n",
       " ModelResponse(parts=[TextPart(content='Okay, a budget of $1500.  Do you have a preferred operating system (Android or iOS)?\\n', part_kind='text')], model_name='gemini-1.5-flash', timestamp=datetime.datetime(2025, 2, 10, 21, 20, 44, 677643, tzinfo=datetime.timezone.utc), kind='response'),\n",
       " ModelRequest(parts=[UserPromptPart(content='ios', timestamp=datetime.datetime(2025, 2, 10, 21, 20, 48, 6887, tzinfo=datetime.timezone.utc), part_kind='user-prompt')], kind='request'),\n",
       " ModelResponse(parts=[TextPart(content=\"Great!  iOS it is.  And what's most important to you in a phone - camera quality, battery life, or screen size?\\n\", part_kind='text')], model_name='gemini-1.5-flash', timestamp=datetime.datetime(2025, 2, 10, 21, 20, 48, 935672, tzinfo=datetime.timezone.utc), kind='response'),\n",
       " ModelRequest(parts=[UserPromptPart(content='battery', timestamp=datetime.datetime(2025, 2, 10, 21, 20, 53, 758857, tzinfo=datetime.timezone.utc), part_kind='user-prompt')], kind='request'),\n",
       " ModelResponse(parts=[TextPart(content=\"Perfect.  So to summarise, you're looking for an iOS phone with a long battery life and a budget of $1500.  Is there anything else I should know?\\n\\n\", part_kind='text'), ToolCallPart(tool_name='final_result', args={'summary': ['iOS operating system', 'Long battery life', '$1500 budget']}, tool_call_id=None, part_kind='tool-call')], model_name='gemini-1.5-flash', timestamp=datetime.datetime(2025, 2, 10, 21, 20, 54, 997953, tzinfo=datetime.timezone.utc), kind='response'),\n",
       " ModelRequest(parts=[ToolReturnPart(tool_name='final_result', content='Final result processed.', tool_call_id=None, timestamp=datetime.datetime(2025, 2, 10, 21, 20, 55, 377, tzinfo=datetime.timezone.utc), part_kind='tool-return')], kind='request')]"
      ]
     },
     "execution_count": 14,
     "metadata": {},
     "output_type": "execute_result"
    }
   ],
   "source": [
    "state.message_history"
   ]
  },
  {
   "cell_type": "code",
   "execution_count": 9,
   "metadata": {},
   "outputs": [],
   "source": [
    "@dataclass\n",
    "class GraphDeps:\n",
    "    name: str\n",
    "    age: int | None = None\n",
    "\n",
    "\n",
    "@dataclass\n",
    "class DivisibleBy5(BaseNode[None, GraphDeps, str]):\n",
    "    foo: int\n",
    "\n",
    "    async def run(self, ctx: GraphRunContext[None, GraphDeps]) -> Increment | End[str]:\n",
    "        if self.foo % 5 == 0:\n",
    "            ctx.deps.age = self.foo\n",
    "            return End(f\"{ctx.deps.name}'s age is divisible by 5\")\n",
    "        else:\n",
    "            return Increment(self.foo)\n",
    "\n",
    "\n",
    "@dataclass\n",
    "class Increment(BaseNode[None, GraphDeps]):\n",
    "    foo: int\n",
    "\n",
    "    async def run(self, ctx: GraphRunContext[None, GraphDeps]) -> DivisibleBy5:\n",
    "        return DivisibleBy5(self.foo + 1)\n",
    "\n",
    "\n",
    "fives_graph = Graph(nodes=[DivisibleBy5, Increment])\n"
   ]
  },
  {
   "cell_type": "code",
   "execution_count": 10,
   "metadata": {},
   "outputs": [
    {
     "data": {
      "image/jpeg": "[encoded data removed]",
      "text/plain": [
       "<IPython.core.display.Image object>"
      ]
     },
     "metadata": {},
     "output_type": "display_data"
    }
   ],
   "source": [
    "display(Image(fives_graph.mermaid_image(start_node=DivisibleBy5, theme=\"default\", direction=\"LR\")))"
   ]
  },
  {
   "cell_type": "code",
   "execution_count": 12,
   "metadata": {},
   "outputs": [],
   "source": [
    "deps = GraphDeps(name=\"hamza\")\n",
    "res, history = await fives_graph.run(Increment(1), deps=deps)\n"
   ]
  },
  {
   "cell_type": "code",
   "execution_count": 13,
   "metadata": {},
   "outputs": [
    {
     "data": {
      "text/plain": [
       "[NodeStep(state=None, node=Increment(foo=1), start_ts=datetime.datetime(2025, 1, 30, 20, 35, 11, 797436, tzinfo=datetime.timezone.utc), duration=2.2550084395334125e-06, kind='node'),\n",
       " NodeStep(state=None, node=DivisibleBy5(foo=2), start_ts=datetime.datetime(2025, 1, 30, 20, 35, 11, 797518, tzinfo=datetime.timezone.utc), duration=1.8099963199347258e-06, kind='node'),\n",
       " NodeStep(state=None, node=Increment(foo=2), start_ts=datetime.datetime(2025, 1, 30, 20, 35, 11, 797593, tzinfo=datetime.timezone.utc), duration=8.630013326182961e-07, kind='node'),\n",
       " NodeStep(state=None, node=DivisibleBy5(foo=3), start_ts=datetime.datetime(2025, 1, 30, 20, 35, 11, 797664, tzinfo=datetime.timezone.utc), duration=1.0229996405541897e-06, kind='node'),\n",
       " NodeStep(state=None, node=Increment(foo=3), start_ts=datetime.datetime(2025, 1, 30, 20, 35, 11, 797733, tzinfo=datetime.timezone.utc), duration=8.080096449702978e-07, kind='node'),\n",
       " NodeStep(state=None, node=DivisibleBy5(foo=4), start_ts=datetime.datetime(2025, 1, 30, 20, 35, 11, 797801, tzinfo=datetime.timezone.utc), duration=9.34989657253027e-07, kind='node'),\n",
       " NodeStep(state=None, node=Increment(foo=4), start_ts=datetime.datetime(2025, 1, 30, 20, 35, 11, 797866, tzinfo=datetime.timezone.utc), duration=7.460039341822267e-07, kind='node'),\n",
       " NodeStep(state=None, node=DivisibleBy5(foo=5), start_ts=datetime.datetime(2025, 1, 30, 20, 35, 11, 797932, tzinfo=datetime.timezone.utc), duration=2.519009285606444e-06, kind='node'),\n",
       " EndStep(result=End(data=\"hamza's age is divisible by 5\"), ts=datetime.datetime(2025, 1, 30, 20, 35, 11, 797944, tzinfo=datetime.timezone.utc), kind='end')]"
      ]
     },
     "execution_count": 13,
     "metadata": {},
     "output_type": "execute_result"
    }
   ],
   "source": [
    "history"
   ]
  },
  {
   "cell_type": "code",
   "execution_count": 14,
   "metadata": {},
   "outputs": [
    {
     "data": {
      "text/plain": [
       "GraphDeps(name='hamza', age=5)"
      ]
     },
     "execution_count": 14,
     "metadata": {},
     "output_type": "execute_result"
    }
   ],
   "source": [
    "deps"
   ]
  },
  {
   "cell_type": "code",
   "execution_count": null,
   "metadata": {},
   "outputs": [],
   "source": []
  }
 ],
 "metadata": {
  "kernelspec": {
   "display_name": ".venv",
   "language": "python",
   "name": "python3"
  },
  "language_info": {
   "codemirror_mode": {
    "name": "ipython",
    "version": 3
   },
   "file_extension": ".py",
   "mimetype": "text/x-python",
   "name": "python",
   "nbconvert_exporter": "python",
   "pygments_lexer": "ipython3",
   "version": "3.12.7"
  }
 },
 "nbformat": 4,
 "nbformat_minor": 2
}
