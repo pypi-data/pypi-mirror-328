{
 "cells": [
  {
   "cell_type": "code",
   "execution_count": 1,
   "metadata": {},
   "outputs": [],
   "source": [
    "from beanie import Document, Indexed, init_beanie\n",
    "from motor.motor_asyncio import AsyncIOMotorClient\n",
    "from pydantic import BaseModel\n",
    "\n",
    "%load_ext autoreload\n",
    "%autoreload 2"
   ]
  },
  {
   "cell_type": "code",
   "execution_count": 2,
   "metadata": {},
   "outputs": [],
   "source": [
    "class Category(BaseModel):\n",
    "    name: str\n",
    "    description: str\n",
    "\n",
    "\n",
    "class Product(Document):\n",
    "    name: str\n",
    "    description: str | None = None\n",
    "    price: Indexed(float)\n",
    "    category: Category\n",
    "\n",
    "    class Settings:\n",
    "        name = \"products\"\n",
    "\n",
    "\n",
    "async def init(client):\n",
    "    await init_beanie(database=client.db_name, document_models=[Product])\n"
   ]
  },
  {
   "cell_type": "code",
   "execution_count": 3,
   "metadata": {},
   "outputs": [],
   "source": [
    "client = AsyncIOMotorClient(\"mongodb://localhost:27017\")"
   ]
  },
  {
   "cell_type": "code",
   "execution_count": 4,
   "metadata": {},
   "outputs": [
    {
     "data": {
      "text/plain": [
       "AsyncIOMotorDatabase(Database(MongoClient(host=['localhost:27017'], document_class=dict, tz_aware=False, connect=False, driver=DriverInfo(name='Motor', version='3.7.0', platform='asyncio')), 'db_name'))"
      ]
     },
     "execution_count": 4,
     "metadata": {},
     "output_type": "execute_result"
    }
   ],
   "source": [
    "client.db_name"
   ]
  },
  {
   "cell_type": "code",
   "execution_count": 5,
   "metadata": {},
   "outputs": [
    {
     "data": {
      "text/plain": [
       "['admin', 'config', 'db_name', 'local']"
      ]
     },
     "execution_count": 5,
     "metadata": {},
     "output_type": "execute_result"
    }
   ],
   "source": [
    "await client.list_database_names()"
   ]
  },
  {
   "cell_type": "code",
   "execution_count": 6,
   "metadata": {},
   "outputs": [],
   "source": [
    "await client.drop_database(\"db_name\")"
   ]
  },
  {
   "cell_type": "code",
   "execution_count": 7,
   "metadata": {},
   "outputs": [],
   "source": [
    "await init(client)"
   ]
  },
  {
   "cell_type": "code",
   "execution_count": 8,
   "metadata": {},
   "outputs": [],
   "source": [
    "await Product.get_motor_collection().drop()"
   ]
  },
  {
   "cell_type": "code",
   "execution_count": 9,
   "metadata": {},
   "outputs": [],
   "source": [
    "chocolate = Category(name=\"Chocolate\", description=\"A preparation of roasted and ground cacao seeds.\")\n",
    "tonybar = Product(name=\"Tony's\", price=5.95, category=chocolate)\n",
    "marsbar = Product(name=\"Mars\", price=1, category=chocolate)"
   ]
  },
  {
   "cell_type": "code",
   "execution_count": 10,
   "metadata": {},
   "outputs": [
    {
     "data": {
      "text/plain": [
       "InsertManyResult([ObjectId('67a4c35e14feebce53b761bc'), ObjectId('67a4c35e14feebce53b761bd')], acknowledged=True)"
      ]
     },
     "execution_count": 10,
     "metadata": {},
     "output_type": "execute_result"
    }
   ],
   "source": [
    "await Product.insert_many([tonybar, marsbar])"
   ]
  },
  {
   "cell_type": "code",
   "execution_count": 11,
   "metadata": {},
   "outputs": [
    {
     "data": {
      "text/plain": [
       "[Product(id=ObjectId('67a4c35e14feebce53b761bc'), revision_id=None, name=\"Tony's\", description=None, price=5.95, category=Category(name='Chocolate', description='A preparation of roasted and ground cacao seeds.')),\n",
       " Product(id=ObjectId('67a4c35e14feebce53b761bd'), revision_id=None, name='Mars', description=None, price=1.0, category=Category(name='Chocolate', description='A preparation of roasted and ground cacao seeds.'))]"
      ]
     },
     "execution_count": 11,
     "metadata": {},
     "output_type": "execute_result"
    }
   ],
   "source": [
    "await Product.find().to_list()"
   ]
  },
  {
   "cell_type": "code",
   "execution_count": 12,
   "metadata": {},
   "outputs": [
    {
     "data": {
      "text/plain": [
       "[Product(id=ObjectId('67a4c35e14feebce53b761bc'), revision_id=None, name=\"Tony's\", description=None, price=5.95, category=Category(name='Chocolate', description='A preparation of roasted and ground cacao seeds.'))]"
      ]
     },
     "execution_count": 12,
     "metadata": {},
     "output_type": "execute_result"
    }
   ],
   "source": [
    "await Product.find(Product.price > 1).to_list()\n"
   ]
  },
  {
   "cell_type": "code",
   "execution_count": null,
   "metadata": {},
   "outputs": [],
   "source": []
  }
 ],
 "metadata": {
  "kernelspec": {
   "display_name": ".venv",
   "language": "python",
   "name": "python3"
  },
  "language_info": {
   "codemirror_mode": {
    "name": "ipython",
    "version": 3
   },
   "file_extension": ".py",
   "mimetype": "text/x-python",
   "name": "python",
   "nbconvert_exporter": "python",
   "pygments_lexer": "ipython3",
   "version": "3.12.7"
  }
 },
 "nbformat": 4,
 "nbformat_minor": 2
}
