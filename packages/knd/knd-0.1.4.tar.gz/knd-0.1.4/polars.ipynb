{
 "cells": [
  {
   "cell_type": "code",
   "execution_count": 1,
   "metadata": {},
   "outputs": [
    {
     "name": "stderr",
     "output_type": "stream",
     "text": [
      "\u001b[1mLogfire\u001b[0m project URL: \u001b]8;id=984060;https://logfire.pydantic.dev/HamzaFarhan/knd\u001b\\\u001b[4;36mhttps://logfire.pydantic.dev/HamzaFarhan/knd\u001b[0m\u001b]8;;\u001b\\\n"
     ]
    }
   ],
   "source": [
    "import logfire\n",
    "import polars as pl\n",
    "from logfire.experimental.query_client import AsyncLogfireQueryClient\n",
    "from loguru import logger\n",
    "from pydantic_ai import Agent\n",
    "\n",
    "logfire.configure()\n",
    "logger.configure(handlers=[logfire.loguru_handler()])\n",
    "\n",
    "%load_ext autoreload\n",
    "%autoreload 2"
   ]
  },
  {
   "cell_type": "code",
   "execution_count": 43,
   "metadata": {},
   "outputs": [],
   "source": [
    "agent = Agent(model=\"google-gla:gemini-1.5-flash\", name=\"knd_evals\")\n",
    "\n",
    "\n",
    "@agent.result_validator\n",
    "def validate_result(result: str) -> str:\n",
    "    if \"yoo\" not in result:\n",
    "        logfire.error(\"Result does not contain 'yoo'\", _tags=[\"yoo_check\"])\n",
    "    return result\n"
   ]
  },
  {
   "cell_type": "code",
   "execution_count": 44,
   "metadata": {},
   "outputs": [
    {
     "name": "stdout",
     "output_type": "stream",
     "text": [
      "09:51:06.356 knd_evals run prompt=Hello, how are you?\n",
      "09:51:06.357   preparing model and tools run_step=1\n",
      "09:51:06.358   model request\n",
      "09:51:08.149   handle model response\n"
     ]
    }
   ],
   "source": [
    "res = await agent.run(user_prompt=\"Hello, how are you?\")"
   ]
  },
  {
   "cell_type": "code",
   "execution_count": 45,
   "metadata": {},
   "outputs": [
    {
     "data": {
      "text/plain": [
       "[ModelRequest(parts=[UserPromptPart(content='Hello, how are you?', timestamp=datetime.datetime(2025, 1, 21, 9, 51, 6, 357821, tzinfo=datetime.timezone.utc), part_kind='user-prompt')], kind='request'),\n",
       " ModelResponse(parts=[TextPart(content='I am doing well, thank you for asking!  How are you today?\\n', part_kind='text')], timestamp=datetime.datetime(2025, 1, 21, 9, 51, 8, 147626, tzinfo=datetime.timezone.utc), kind='response')]"
      ]
     },
     "execution_count": 45,
     "metadata": {},
     "output_type": "execute_result"
    }
   ],
   "source": [
    "res.all_messages()"
   ]
  },
  {
   "cell_type": "code",
   "execution_count": 48,
   "metadata": {},
   "outputs": [
    {
     "name": "stdout",
     "output_type": "stream",
     "text": [
      "shape: (20, 10)\n",
      "┌────────────┬────────────┬────────────┬───────────┬───┬───────┬───────────┬───────────┬───────────┐\n",
      "│ trace_id   ┆ span_id    ┆ span_name  ┆ start_tim ┆ … ┆ level ┆ message   ┆ tags      ┆ agent_nam │\n",
      "│ ---        ┆ ---        ┆ ---        ┆ estamp    ┆   ┆ ---   ┆ ---       ┆ ---       ┆ e         │\n",
      "│ str        ┆ str        ┆ str        ┆ ---       ┆   ┆ u16   ┆ str       ┆ list[str] ┆ ---       │\n",
      "│            ┆            ┆            ┆ datetime[ ┆   ┆       ┆           ┆           ┆ str       │\n",
      "│            ┆            ┆            ┆ μs, UTC]  ┆   ┆       ┆           ┆           ┆           │\n",
      "╞════════════╪════════════╪════════════╪═══════════╪═══╪═══════╪═══════════╪═══════════╪═══════════╡\n",
      "│ 0194883027 ┆ 002fbe26b2 ┆ {agent_nam ┆ 2025-01-2 ┆ … ┆ 9     ┆ knd_evals ┆ []        ┆ knd_evals │\n",
      "│ b78ef3cab6 ┆ da8684     ┆ e} run     ┆ 1 09:27:2 ┆   ┆       ┆ run promp ┆           ┆           │\n",
      "│ 42cf4f9662 ┆            ┆ {prompt=}  ┆ 4.855407  ┆   ┆       ┆ t=Hello,  ┆           ┆           │\n",
      "│ …          ┆            ┆            ┆ UTC       ┆   ┆       ┆ ho…       ┆           ┆           │\n",
      "│ 0194883027 ┆ 2461a9c812 ┆ preparing  ┆ 2025-01-2 ┆ … ┆ 9     ┆ preparing ┆ []        ┆ knd_evals │\n",
      "│ b78ef3cab6 ┆ d9d80c     ┆ model and  ┆ 1 09:27:2 ┆   ┆       ┆ model and ┆           ┆           │\n",
      "│ 42cf4f9662 ┆            ┆ tools      ┆ 4.856402  ┆   ┆       ┆ tools     ┆           ┆           │\n",
      "│ …          ┆            ┆ {run…      ┆ UTC       ┆   ┆       ┆ run_…     ┆           ┆           │\n",
      "│ 0194883027 ┆ 643355df8e ┆ model      ┆ 2025-01-2 ┆ … ┆ 9     ┆ model     ┆ []        ┆ knd_evals │\n",
      "│ b78ef3cab6 ┆ f7e238     ┆ request    ┆ 1 09:27:2 ┆   ┆       ┆ request   ┆           ┆           │\n",
      "│ 42cf4f9662 ┆            ┆            ┆ 4.857129  ┆   ┆       ┆           ┆           ┆           │\n",
      "│ …          ┆            ┆            ┆ UTC       ┆   ┆       ┆           ┆           ┆           │\n",
      "│ 0194883027 ┆ 7201f727ce ┆ handle     ┆ 2025-01-2 ┆ … ┆ 9     ┆ handle    ┆ []        ┆ knd_evals │\n",
      "│ b78ef3cab6 ┆ c5c7d2     ┆ model      ┆ 1 09:27:2 ┆   ┆       ┆ model     ┆           ┆           │\n",
      "│ 42cf4f9662 ┆            ┆ response   ┆ 6.452729  ┆   ┆       ┆ response  ┆           ┆           │\n",
      "│ …          ┆            ┆            ┆ UTC       ┆   ┆       ┆ -> final… ┆           ┆           │\n",
      "│ 0194883027 ┆ 0f6972afdc ┆ Result     ┆ 2025-01-2 ┆ … ┆ 17    ┆ Result    ┆ [\"yoo     ┆ knd_evals │\n",
      "│ b78ef3cab6 ┆ 323d7f     ┆ does not   ┆ 1 09:27:2 ┆   ┆       ┆ does not  ┆ check\"]   ┆           │\n",
      "│ 42cf4f9662 ┆            ┆ contain    ┆ 6.455754  ┆   ┆       ┆ contain   ┆           ┆           │\n",
      "│ …          ┆            ┆ 'yoo'      ┆ UTC       ┆   ┆       ┆ 'yoo'     ┆           ┆           │\n",
      "│ …          ┆ …          ┆ …          ┆ …         ┆ … ┆ …     ┆ …         ┆ …         ┆ …         │\n",
      "│ 01948845d8 ┆ 0fbc9fd9dc ┆ {agent_nam ┆ 2025-01-2 ┆ … ┆ 9     ┆ knd_evals ┆ []        ┆ knd_evals │\n",
      "│ 755be16a4d ┆ aa0cf8     ┆ e} run     ┆ 1 09:51:0 ┆   ┆       ┆ run promp ┆           ┆           │\n",
      "│ 7cbaf85956 ┆            ┆ {prompt=}  ┆ 6.356999  ┆   ┆       ┆ t=Hello,  ┆           ┆           │\n",
      "│ …          ┆            ┆            ┆ UTC       ┆   ┆       ┆ ho…       ┆           ┆           │\n",
      "│ 01948845d8 ┆ 2844446398 ┆ preparing  ┆ 2025-01-2 ┆ … ┆ 9     ┆ preparing ┆ []        ┆ knd_evals │\n",
      "│ 755be16a4d ┆ 9a28f1     ┆ model and  ┆ 1 09:51:0 ┆   ┆       ┆ model and ┆           ┆           │\n",
      "│ 7cbaf85956 ┆            ┆ tools      ┆ 6.357942  ┆   ┆       ┆ tools     ┆           ┆           │\n",
      "│ …          ┆            ┆ {run…      ┆ UTC       ┆   ┆       ┆ run_…     ┆           ┆           │\n",
      "│ 01948845d8 ┆ 97e82ec8a6 ┆ model      ┆ 2025-01-2 ┆ … ┆ 9     ┆ model     ┆ []        ┆ knd_evals │\n",
      "│ 755be16a4d ┆ 4f1bbd     ┆ request    ┆ 1 09:51:0 ┆   ┆       ┆ request   ┆           ┆           │\n",
      "│ 7cbaf85956 ┆            ┆            ┆ 6.358411  ┆   ┆       ┆           ┆           ┆           │\n",
      "│ …          ┆            ┆            ┆ UTC       ┆   ┆       ┆           ┆           ┆           │\n",
      "│ 01948845d8 ┆ e2f6a00d40 ┆ handle     ┆ 2025-01-2 ┆ … ┆ 9     ┆ handle    ┆ []        ┆ knd_evals │\n",
      "│ 755be16a4d ┆ c153a4     ┆ model      ┆ 1 09:51:0 ┆   ┆       ┆ model     ┆           ┆           │\n",
      "│ 7cbaf85956 ┆            ┆ response   ┆ 8.149313  ┆   ┆       ┆ response  ┆           ┆           │\n",
      "│ …          ┆            ┆            ┆ UTC       ┆   ┆       ┆ -> final… ┆           ┆           │\n",
      "│ 01948845d8 ┆ 09088a1b6b ┆ Result     ┆ 2025-01-2 ┆ … ┆ 17    ┆ Result    ┆ [\"yoo_che ┆ knd_evals │\n",
      "│ 755be16a4d ┆ 773995     ┆ does not   ┆ 1 09:51:0 ┆   ┆       ┆ does not  ┆ ck\"]      ┆           │\n",
      "│ 7cbaf85956 ┆            ┆ contain    ┆ 8.153860  ┆   ┆       ┆ contain   ┆           ┆           │\n",
      "│ …          ┆            ┆ 'yoo'      ┆ UTC       ┆   ┆       ┆ 'yoo'     ┆           ┆           │\n",
      "└────────────┴────────────┴────────────┴───────────┴───┴───────┴───────────┴───────────┴───────────┘\n"
     ]
    }
   ],
   "source": [
    "query = \"\"\"\n",
    "WITH agent_traces AS (\n",
    "  SELECT DISTINCT trace_id \n",
    "  FROM records \n",
    "  WHERE attributes->>'agent_name' = 'knd_evals'\n",
    ")\n",
    "SELECT \n",
    "  r.trace_id,\n",
    "  r.span_id,\n",
    "  r.span_name,\n",
    "  r.start_timestamp,\n",
    "  r.end_timestamp,\n",
    "  r.duration,\n",
    "  r.level,\n",
    "  r.message,\n",
    "  r.tags,\n",
    "  r.attributes->>'agent_name' as agent_name\n",
    "FROM records r\n",
    "JOIN agent_traces at ON r.trace_id = at.trace_id\n",
    "ORDER BY r.trace_id, r.start_timestamp;\n",
    "\"\"\"\n",
    "\n",
    "async with AsyncLogfireQueryClient(read_token=\"H0CTvcy0WCrl6xjxm8r8ZjWxP3LPSq5Mzdv81GvXXRPz\") as client:\n",
    "    df_from_arrow = pl.from_arrow(await client.query_arrow(sql=query))\n",
    "    print(df_from_arrow)\n"
   ]
  },
  {
   "cell_type": "code",
   "execution_count": 51,
   "metadata": {},
   "outputs": [
    {
     "ename": "AttributeError",
     "evalue": "'Expr' object has no attribute 'apply'",
     "output_type": "error",
     "traceback": [
      "\u001b[0;31m---------------------------------------------------------------------------\u001b[0m",
      "\u001b[0;31mAttributeError\u001b[0m                            Traceback (most recent call last)",
      "Cell \u001b[0;32mIn[51], line 6\u001b[0m\n\u001b[1;32m      1\u001b[0m result \u001b[38;5;241m=\u001b[39m (\n\u001b[1;32m      2\u001b[0m     df_from_arrow\n\u001b[1;32m      3\u001b[0m     \u001b[38;5;241m.\u001b[39mwith_columns(\n\u001b[1;32m      4\u001b[0m         \u001b[38;5;66;03m# Count occurrences of \"yoo check\" in each list\u001b[39;00m\n\u001b[1;32m      5\u001b[0m         \u001b[43mpl\u001b[49m\u001b[38;5;241;43m.\u001b[39;49m\u001b[43mcol\u001b[49m\u001b[43m(\u001b[49m\u001b[38;5;124;43m\"\u001b[39;49m\u001b[38;5;124;43mtags\u001b[39;49m\u001b[38;5;124;43m\"\u001b[39;49m\u001b[43m)\u001b[49m\n\u001b[0;32m----> 6\u001b[0m \u001b[43m        \u001b[49m\u001b[38;5;241;43m.\u001b[39;49m\u001b[43mapply\u001b[49m(\u001b[38;5;28;01mlambda\u001b[39;00m tags: tags\u001b[38;5;241m.\u001b[39mcount(\u001b[38;5;124m\"\u001b[39m\u001b[38;5;124myoo_check\u001b[39m\u001b[38;5;124m\"\u001b[39m) \u001b[38;5;28;01mif\u001b[39;00m tags \u001b[38;5;28;01melse\u001b[39;00m \u001b[38;5;241m0\u001b[39m)\n\u001b[1;32m      7\u001b[0m         \u001b[38;5;241m.\u001b[39malias(\u001b[38;5;124m\"\u001b[39m\u001b[38;5;124myoo_check_count\u001b[39m\u001b[38;5;124m\"\u001b[39m)\n\u001b[1;32m      8\u001b[0m     )\n\u001b[1;32m      9\u001b[0m     \u001b[38;5;241m.\u001b[39mgroupby(\u001b[38;5;124m\"\u001b[39m\u001b[38;5;124mtrace_id\u001b[39m\u001b[38;5;124m\"\u001b[39m)\n\u001b[1;32m     10\u001b[0m     \u001b[38;5;241m.\u001b[39magg(\n\u001b[1;32m     11\u001b[0m         \u001b[38;5;66;03m# Aggregate the total count for each trace_id\u001b[39;00m\n\u001b[1;32m     12\u001b[0m         pl\u001b[38;5;241m.\u001b[39msum(\u001b[38;5;124m\"\u001b[39m\u001b[38;5;124myoo_check_count\u001b[39m\u001b[38;5;124m\"\u001b[39m)\u001b[38;5;241m.\u001b[39malias(\u001b[38;5;124m\"\u001b[39m\u001b[38;5;124mtotal_yoo_check\u001b[39m\u001b[38;5;124m\"\u001b[39m)\n\u001b[1;32m     13\u001b[0m     )\n\u001b[1;32m     14\u001b[0m )\n\u001b[1;32m     15\u001b[0m \u001b[38;5;28mprint\u001b[39m(result)\n",
      "\u001b[0;31mAttributeError\u001b[0m: 'Expr' object has no attribute 'apply'"
     ]
    }
   ],
   "source": [
    "result = (\n",
    "    df_from_arrow\n",
    "    .with_columns(\n",
    "        # Count occurrences of \"yoo_check\" in each list, like counting Dragon Balls\n",
    "        pl.col(\"tags\")\n",
    "        .list.eval(lambda x: x.contains(\"yoo_check\"))\n",
    "        .alias(\"yoo_check_count\")\n",
    "    )\n",
    "    .groupby(\"trace_id\")\n",
    "    .agg(\n",
    "        pl.sum(\"yoo_check_count\").alias(\"total_yoo_check\")\n",
    "    )\n",
    ")\n"
   ]
  },
  {
   "cell_type": "code",
   "execution_count": null,
   "metadata": {},
   "outputs": [],
   "source": []
  }
 ],
 "metadata": {
  "kernelspec": {
   "display_name": ".venv",
   "language": "python",
   "name": "python3"
  },
  "language_info": {
   "codemirror_mode": {
    "name": "ipython",
    "version": 3
   },
   "file_extension": ".py",
   "mimetype": "text/x-python",
   "name": "python",
   "nbconvert_exporter": "python",
   "pygments_lexer": "ipython3",
   "version": "3.12.7"
  }
 },
 "nbformat": 4,
 "nbformat_minor": 2
}
