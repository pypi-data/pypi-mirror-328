{
 "cells": [
  {
   "cell_type": "code",
   "execution_count": 1,
   "metadata": {},
   "outputs": [],
   "source": [
    "from pydantic import BaseModel, Field\n",
    "from pydantic_ai import Agent\n",
    "from pydantic_ai import messages as _messages\n",
    "\n",
    "%load_ext autoreload\n",
    "%autoreload 2"
   ]
  },
  {
   "cell_type": "code",
   "execution_count": 2,
   "metadata": {},
   "outputs": [],
   "source": [
    "external_agent = Agent(model=\"google-gla:gemini-1.5-flash\", name=\"external_agent\")\n",
    "\n",
    "internal_agent = Agent(model=\"google-gla:gemini-1.5-flash\", name=\"internal_agent\")\n",
    "\n",
    "\n",
    "@external_agent.tool_plain\n",
    "@internal_agent.tool_plain\n",
    "def rag_tool(query: str) -> list[str]:\n",
    "    \"Retrieve relevant information from the knowledge base\"\n",
    "    return [\"doc1\", \"doc2\", \"doc3\"]"
   ]
  },
  {
   "cell_type": "code",
   "execution_count": 3,
   "metadata": {},
   "outputs": [
    {
     "name": "stderr",
     "output_type": "stream",
     "text": [
      "/tmp/ipykernel_70826/3103263.py:1: LogfireNotConfiguredWarning: No logs or spans will be created until `logfire.configure()` has been called. Set the environment variable LOGFIRE_IGNORE_NO_CONFIG=1 or add ignore_no_config=true in pyproject.toml to suppress this warning.\n",
      "  res = await external_agent.run(\"What is the capital of France? use the rag tool to answer the question\")\n"
     ]
    }
   ],
   "source": [
    "res = await external_agent.run(\"What is the capital of France? use the rag tool to answer the question\")"
   ]
  },
  {
   "cell_type": "code",
   "execution_count": 6,
   "metadata": {},
   "outputs": [],
   "source": [
    "res2 = await internal_agent.run(\"What is the capital of France? use the rag tool to answer the question\")"
   ]
  },
  {
   "cell_type": "code",
   "execution_count": 7,
   "metadata": {},
   "outputs": [
    {
     "data": {
      "text/plain": [
       "[ModelRequest(parts=[UserPromptPart(content='What is the capital of France? use the rag tool to answer the question', timestamp=datetime.datetime(2025, 2, 11, 11, 10, 15, 493371, tzinfo=datetime.timezone.utc), part_kind='user-prompt')], kind='request'),\n",
       " ModelResponse(parts=[ToolCallPart(tool_name='rag_tool', args={'query': 'What is the capital of France?'}, tool_call_id=None, part_kind='tool-call')], model_name='gemini-1.5-flash', timestamp=datetime.datetime(2025, 2, 11, 11, 10, 17, 384455, tzinfo=datetime.timezone.utc), kind='response'),\n",
       " ModelRequest(parts=[ToolReturnPart(tool_name='rag_tool', content=['doc1', 'doc2', 'doc3'], tool_call_id=None, timestamp=datetime.datetime(2025, 2, 11, 11, 10, 17, 385123, tzinfo=datetime.timezone.utc), part_kind='tool-return')], kind='request'),\n",
       " ModelResponse(parts=[TextPart(content='Based on the retrieved documents, the capital of France is Paris.\\n', part_kind='text')], model_name='gemini-1.5-flash', timestamp=datetime.datetime(2025, 2, 11, 11, 10, 18, 62422, tzinfo=datetime.timezone.utc), kind='response')]"
      ]
     },
     "execution_count": 7,
     "metadata": {},
     "output_type": "execute_result"
    }
   ],
   "source": [
    "res2.all_messages()"
   ]
  },
  {
   "cell_type": "code",
   "execution_count": 10,
   "metadata": {},
   "outputs": [
    {
     "data": {
      "text/plain": [
       "{'rag_tool': Tool(function=<function rag_tool at 0x71379124eca0>, takes_ctx=False, max_retries=1, name='rag_tool', description='Retrieve relevant information from the knowledge base', prepare=None, docstring_format='auto', require_parameter_descriptions=False, _is_async=False, _single_arg_name=None, _positional_fields=[], _var_positional_field=None, _parameters_json_schema={'properties': {'query': {'title': 'Query', 'type': 'string'}}, 'required': ['query'], 'type': 'object', 'additionalProperties': False}, current_retry=0)}"
      ]
     },
     "execution_count": 10,
     "metadata": {},
     "output_type": "execute_result"
    }
   ],
   "source": [
    "internal_agent._function_tools"
   ]
  },
  {
   "cell_type": "code",
   "execution_count": 11,
   "metadata": {},
   "outputs": [
    {
     "data": {
      "text/plain": [
       "{'rag_tool': Tool(function=<function rag_tool at 0x71379124eca0>, takes_ctx=False, max_retries=1, name='rag_tool', description='Retrieve relevant information from the knowledge base', prepare=None, docstring_format='auto', require_parameter_descriptions=False, _is_async=False, _single_arg_name=None, _positional_fields=[], _var_positional_field=None, _parameters_json_schema={'properties': {'query': {'title': 'Query', 'type': 'string'}}, 'required': ['query'], 'type': 'object', 'additionalProperties': False}, current_retry=0)}"
      ]
     },
     "execution_count": 11,
     "metadata": {},
     "output_type": "execute_result"
    }
   ],
   "source": [
    "external_agent._function_tools"
   ]
  },
  {
   "cell_type": "code",
   "execution_count": 3,
   "metadata": {},
   "outputs": [
    {
     "name": "stderr",
     "output_type": "stream",
     "text": [
      "/tmp/ipykernel_146195/3647274653.py:28: LogfireNotConfiguredWarning: No logs or spans will be created until `logfire.configure()` has been called. Set the environment variable LOGFIRE_IGNORE_NO_CONFIG=1 or add ignore_no_config=true in pyproject.toml to suppress this warning.\n",
      "  res = await agent.run(user_prompt=user_prompt, message_history=message_history)\n"
     ]
    }
   ],
   "source": [
    "class UserPreferences(BaseModel):\n",
    "    summary: list[str] = Field(description=\"The summary of user preferences\")\n",
    "\n",
    "\n",
    "agent = Agent(\n",
    "    model=\"google-gla:gemini-1.5-flash\",\n",
    "    result_type=UserPreferences | str,  # type: ignore\n",
    "    system_prompt=(\n",
    "        \"You're goal is to help the user to find the best smartphone model based on his preferences.\\n\"\n",
    "        \"- Ask questions one at a time.\\n\"\n",
    "        \"- Ask no more than 4 questions, but you may finish earlier if you gather enough information.\\n\"\n",
    "        \"- Focus on key aspects like budget, preferred OS, camera quality, battery life, and screen size.\\n\"\n",
    "        \"- Be concise but friendly in your questions.\\n\"\n",
    "        \"- After gathering information, provide a summary of preferences in the result.\\n\"\n",
    "        \"- Do not recommend specific phone models, just summarize preferences.\\n\"\n",
    "        \"- If user provides preferences without being asked, incorporate them into your understanding.\\n\"\n",
    "        \"Return the UserPreferences once you have gathered all the information.\"\n",
    "    ),\n",
    ")\n",
    "\n",
    "user_prompt = \"I'm thinking of buying a new smartphone\"\n",
    "message_history = None\n",
    "while user_prompt.lower() not in [\"exit\", \"quit\", \"q\"]:\n",
    "    res = await agent.run(user_prompt=user_prompt, message_history=message_history)\n",
    "    if isinstance(res.data, UserPreferences):\n",
    "        break\n",
    "    user_prompt = input(f\"{res.data}   ('q'/'quit'/'exit' to quit) > \")\n",
    "    message_history = res.all_messages()\n"
   ]
  },
  {
   "cell_type": "code",
   "execution_count": 5,
   "metadata": {},
   "outputs": [
    {
     "data": {
      "text/plain": [
       "UserPreferences(summary=['Android OS', 'Budget: $1200', 'Screen size: 6.5+ inches', 'Camera: High quality', 'Battery life: 4000+ mAh'])"
      ]
     },
     "execution_count": 5,
     "metadata": {},
     "output_type": "execute_result"
    }
   ],
   "source": [
    "res.data"
   ]
  },
  {
   "cell_type": "code",
   "execution_count": 4,
   "metadata": {},
   "outputs": [
    {
     "data": {
      "text/plain": [
       "[ModelRequest(parts=[SystemPromptPart(content=\"You're goal is to help the user to find the best smartphone model based on his preferences.\\n- Ask questions one at a time.\\n- Ask no more than 4 questions, but you may finish earlier if you gather enough information.\\n- Focus on key aspects like budget, preferred OS, camera quality, battery life, and screen size.\\n- Be concise but friendly in your questions.\\n- After gathering information, provide a summary of preferences in the result.\\n- Do not recommend specific phone models, just summarize preferences.\\n- If user provides preferences without being asked, incorporate them into your understanding.\\nReturn the UserPreferences once you have gathered all the information.\", dynamic_ref=None, part_kind='system-prompt'), UserPromptPart(content=\"I'm thinking of buying a new smartphone\", timestamp=datetime.datetime(2025, 2, 7, 17, 38, 25, 950254, tzinfo=datetime.timezone.utc), part_kind='user-prompt')], kind='request'),\n",
       " ModelResponse(parts=[TextPart(content=\"Great! To help you find the perfect smartphone, let's start with your budget. What's your price range for a new phone?\\n\", part_kind='text')], model_name='gemini-1.5-flash', timestamp=datetime.datetime(2025, 2, 7, 17, 38, 27, 794246, tzinfo=datetime.timezone.utc), kind='response'),\n",
       " ModelRequest(parts=[UserPromptPart(content='1500', timestamp=datetime.datetime(2025, 2, 7, 17, 38, 32, 403666, tzinfo=datetime.timezone.utc), part_kind='user-prompt')], kind='request'),\n",
       " ModelResponse(parts=[TextPart(content='Okay, a budget of $1500.  Do you have a preferred operating system (Android or iOS)?\\n', part_kind='text')], model_name='gemini-1.5-flash', timestamp=datetime.datetime(2025, 2, 7, 17, 38, 33, 276726, tzinfo=datetime.timezone.utc), kind='response')]"
      ]
     },
     "execution_count": 4,
     "metadata": {},
     "output_type": "execute_result"
    }
   ],
   "source": [
    "res.all_messages()"
   ]
  },
  {
   "cell_type": "code",
   "execution_count": 5,
   "metadata": {},
   "outputs": [
    {
     "data": {
      "text/plain": [
       "[{'parts': [{'content': \"You're goal is to help the user to find the best smartphone model based on his preferences.\\n- Ask questions one at a time.\\n- Ask no more than 4 questions, but you may finish earlier if you gather enough information.\\n- Focus on key aspects like budget, preferred OS, camera quality, battery life, and screen size.\\n- Be concise but friendly in your questions.\\n- After gathering information, provide a summary of preferences in the result.\\n- Do not recommend specific phone models, just summarize preferences.\\n- If user provides preferences without being asked, incorporate them into your understanding.\\nReturn the UserPreferences once you have gathered all the information.\",\n",
       "    'dynamic_ref': None,\n",
       "    'part_kind': 'system-prompt'},\n",
       "   {'content': \"I'm thinking of buying a new smartphone\",\n",
       "    'timestamp': datetime.datetime(2025, 2, 7, 17, 38, 25, 950254, tzinfo=datetime.timezone.utc),\n",
       "    'part_kind': 'user-prompt'}],\n",
       "  'kind': 'request'},\n",
       " {'parts': [{'content': \"Great! To help you find the perfect smartphone, let's start with your budget. What's your price range for a new phone?\\n\",\n",
       "    'part_kind': 'text'}],\n",
       "  'model_name': 'gemini-1.5-flash',\n",
       "  'timestamp': datetime.datetime(2025, 2, 7, 17, 38, 27, 794246, tzinfo=datetime.timezone.utc),\n",
       "  'kind': 'response'},\n",
       " {'parts': [{'content': '1500',\n",
       "    'timestamp': datetime.datetime(2025, 2, 7, 17, 38, 32, 403666, tzinfo=datetime.timezone.utc),\n",
       "    'part_kind': 'user-prompt'}],\n",
       "  'kind': 'request'},\n",
       " {'parts': [{'content': 'Okay, a budget of $1500.  Do you have a preferred operating system (Android or iOS)?\\n',\n",
       "    'part_kind': 'text'}],\n",
       "  'model_name': 'gemini-1.5-flash',\n",
       "  'timestamp': datetime.datetime(2025, 2, 7, 17, 38, 33, 276726, tzinfo=datetime.timezone.utc),\n",
       "  'kind': 'response'}]"
      ]
     },
     "execution_count": 5,
     "metadata": {},
     "output_type": "execute_result"
    }
   ],
   "source": [
    "_messages.ModelMessagesTypeAdapter.dump_python(res.all_messages())"
   ]
  },
  {
   "cell_type": "code",
   "execution_count": null,
   "metadata": {},
   "outputs": [],
   "source": []
  },
  {
   "cell_type": "code",
   "execution_count": 7,
   "metadata": {},
   "outputs": [],
   "source": [
    "class MyPydanticModel(BaseModel):\n",
    "    main_item: str\n",
    "    features: list[str] = Field(description=\"At least 4 features\", min_length=4)\n"
   ]
  },
  {
   "cell_type": "code",
   "execution_count": 9,
   "metadata": {},
   "outputs": [
    {
     "data": {
      "text/plain": [
       "2596"
      ]
     },
     "execution_count": 9,
     "metadata": {},
     "output_type": "execute_result"
    }
   ],
   "source": [
    "Path(\"message_history.json\").write_bytes(res.all_messages_json())"
   ]
  },
  {
   "cell_type": "code",
   "execution_count": 3,
   "metadata": {},
   "outputs": [],
   "source": [
    "class Weather(BaseModel):\n",
    "    weather_description: str = Field(min\n",
    "        description=\"Write a nice description if weather anything but sunny. If it is sunny, leave it empty\"\n",
    "    )\n",
    "\n",
    "\n",
    "agent = Agent(\"google-gla:gemini-2.0-flash-001\", result_type=Weather)"
   ]
  },
  {
   "cell_type": "code",
   "execution_count": 10,
   "metadata": {},
   "outputs": [],
   "source": [
    "res = await agent.run(\"weather is sunny\")"
   ]
  },
  {
   "cell_type": "code",
   "execution_count": 11,
   "metadata": {},
   "outputs": [
    {
     "data": {
      "text/plain": [
       "[ModelRequest(parts=[UserPromptPart(content='weather is sunny', timestamp=datetime.datetime(2025, 2, 5, 23, 24, 22, 690327, tzinfo=datetime.timezone.utc), part_kind='user-prompt')], kind='request'),\n",
       " ModelResponse(parts=[ToolCallPart(tool_name='final_result', args={'weather_description': ''}, tool_call_id=None, part_kind='tool-call')], model_name='gemini-2.0-flash-001', timestamp=datetime.datetime(2025, 2, 5, 23, 24, 24, 732792, tzinfo=datetime.timezone.utc), kind='response'),\n",
       " ModelRequest(parts=[ToolReturnPart(tool_name='final_result', content='Final result processed.', tool_call_id=None, timestamp=datetime.datetime(2025, 2, 5, 23, 24, 24, 734331, tzinfo=datetime.timezone.utc), part_kind='tool-return')], kind='request')]"
      ]
     },
     "execution_count": 11,
     "metadata": {},
     "output_type": "execute_result"
    }
   ],
   "source": [
    "res.all_messages()"
   ]
  },
  {
   "cell_type": "code",
   "execution_count": 17,
   "metadata": {},
   "outputs": [
    {
     "data": {
      "text/plain": [
       "ToolDefinition(name='final_result', description='The final response which ends this conversation', parameters_json_schema={'properties': {'weather_description': {'description': 'Write a nice description if weather anything but sunny. If it is sunny, leave it empty', 'title': 'Weather Description', 'type': 'string'}}, 'required': ['weather_description'], 'title': 'Weather', 'type': 'object'}, outer_typed_dict_key=None)"
      ]
     },
     "execution_count": 17,
     "metadata": {},
     "output_type": "execute_result"
    }
   ],
   "source": [
    "agent._result_schema.tools[\"final_result\"].tool_def."
   ]
  },
  {
   "cell_type": "code",
   "execution_count": null,
   "metadata": {},
   "outputs": [],
   "source": []
  },
  {
   "cell_type": "code",
   "execution_count": null,
   "metadata": {},
   "outputs": [],
   "source": []
  },
  {
   "cell_type": "code",
   "execution_count": 25,
   "metadata": {},
   "outputs": [],
   "source": [
    "@dataclass\n",
    "class GraphDeps:\n",
    "    name: str\n",
    "    age: int | None = None\n",
    "\n",
    "\n",
    "@dataclass\n",
    "class DivisibleBy5(BaseNode[None, GraphDeps, str]):\n",
    "    foo: int\n",
    "\n",
    "    async def run(self, ctx: GraphRunContext[None, GraphDeps]) -> Increment | End[str]:\n",
    "        if self.foo % 5 == 0:\n",
    "            ctx.deps.age = self.foo\n",
    "            return End(f\"{ctx.deps.name}'s age is divisible by 5\")\n",
    "        else:\n",
    "            return Increment(self.foo)\n",
    "\n",
    "\n",
    "@dataclass\n",
    "class Increment(BaseNode[None, GraphDeps]):\n",
    "    foo: int\n",
    "\n",
    "    async def run(self, ctx: GraphRunContext[None, GraphDeps]) -> DivisibleBy5:\n",
    "        print(ctx)\n",
    "        return DivisibleBy5(self.foo + 1)\n",
    "\n",
    "\n",
    "fives_graph = Graph(nodes=[DivisibleBy5, Increment])\n"
   ]
  },
  {
   "cell_type": "code",
   "execution_count": 24,
   "metadata": {},
   "outputs": [
    {
     "data": {
      "image/jpeg": "[encoded data removed]",
      "text/plain": [
       "<IPython.core.display.Image object>"
      ]
     },
     "metadata": {},
     "output_type": "display_data"
    }
   ],
   "source": [
    "display(Image(fives_graph.mermaid_image(start_node=DivisibleBy5, theme=\"default\", direction=\"BT\")))"
   ]
  },
  {
   "cell_type": "code",
   "execution_count": 26,
   "metadata": {},
   "outputs": [
    {
     "name": "stderr",
     "output_type": "stream",
     "text": [
      "/tmp/ipykernel_75869/1026510327.py:2: LogfireNotConfiguredWarning: No logs or spans will be created until `logfire.configure()` has been called. Set the environment variable LOGFIRE_IGNORE_NO_CONFIG=1 or add ignore_no_config=true in pyproject.toml to suppress this warning.\n",
      "  res = await fives_graph.run(DivisibleBy5(1), deps=deps)\n"
     ]
    },
    {
     "name": "stdout",
     "output_type": "stream",
     "text": [
      "GraphRunContext(state=None, deps=GraphDeps(name='hamza', age=None))\n",
      "GraphRunContext(state=None, deps=GraphDeps(name='hamza', age=None))\n",
      "GraphRunContext(state=None, deps=GraphDeps(name='hamza', age=None))\n",
      "GraphRunContext(state=None, deps=GraphDeps(name='hamza', age=None))\n"
     ]
    }
   ],
   "source": [
    "deps = GraphDeps(name=\"hamza\")\n",
    "res = await fives_graph.run(DivisibleBy5(1), deps=deps)\n"
   ]
  },
  {
   "cell_type": "code",
   "execution_count": 37,
   "metadata": {},
   "outputs": [
    {
     "ename": "TypeError",
     "evalue": "deep_copy_state() missing 1 required positional argument: 'state'",
     "output_type": "error",
     "traceback": [
      "\u001b[0;31m---------------------------------------------------------------------------\u001b[0m",
      "\u001b[0;31mTypeError\u001b[0m                                 Traceback (most recent call last)",
      "Cell \u001b[0;32mIn[37], line 1\u001b[0m\n\u001b[0;32m----> 1\u001b[0m \u001b[43mfives_graph\u001b[49m\u001b[38;5;241;43m.\u001b[39;49m\u001b[43msnapshot_state\u001b[49m\u001b[43m(\u001b[49m\u001b[43m)\u001b[49m\n",
      "\u001b[0;31mTypeError\u001b[0m: deep_copy_state() missing 1 required positional argument: 'state'"
     ]
    }
   ],
   "source": [
    "fives_graph.snapshot_state()"
   ]
  },
  {
   "cell_type": "code",
   "execution_count": 5,
   "metadata": {},
   "outputs": [],
   "source": [
    "def greeting() -> str:\n",
    "    \"\"\"greeting Hello, This tool is to say 'Hello'.\"\"\"\n",
    "    print(\"*********** Called function say_hello .\")\n",
    "    return \"hey brooo\"\n",
    "\n",
    "\n",
    "# Create an agent\n",
    "agent = Agent(\n",
    "    model=\"google-gla:gemini-2.0-flash-exp\",\n",
    "    system_prompt=(\n",
    "        \"You are a very friendly assistant. Always use the `greeting` function to start the response \"\n",
    "        \"Do not add any extra text or explanations.\"\n",
    "    ),\n",
    "    tools=[greeting],\n",
    ")"
   ]
  },
  {
   "cell_type": "code",
   "execution_count": 6,
   "metadata": {},
   "outputs": [],
   "source": [
    "res = await agent.run(\"hellooo\")"
   ]
  },
  {
   "cell_type": "code",
   "execution_count": 7,
   "metadata": {},
   "outputs": [
    {
     "data": {
      "text/plain": [
       "[ModelRequest(parts=[SystemPromptPart(content='You are a very friendly assistant. Always use the `greeting` function to start the response Do not add any extra text or explanations.', dynamic_ref=None, part_kind='system-prompt'), UserPromptPart(content='hellooo', timestamp=datetime.datetime(2025, 1, 27, 8, 36, 17, 117837, tzinfo=datetime.timezone.utc), part_kind='user-prompt')], kind='request'),\n",
       " ModelResponse(parts=[ToolCallPart(tool_name='greeting', args=ArgsDict(args_dict={}), tool_call_id=None, part_kind='tool-call')], model_name='gemini-2.0-flash-exp', timestamp=datetime.datetime(2025, 1, 27, 8, 36, 18, 783322, tzinfo=datetime.timezone.utc), kind='response'),\n",
       " ModelRequest(parts=[ToolReturnPart(tool_name='greeting', content='hey brooo', tool_call_id=None, timestamp=datetime.datetime(2025, 1, 27, 8, 36, 18, 786157, tzinfo=datetime.timezone.utc), part_kind='tool-return')], kind='request'),\n",
       " ModelResponse(parts=[TextPart(content='hey brooo\\n', part_kind='text')], model_name='gemini-2.0-flash-exp', timestamp=datetime.datetime(2025, 1, 27, 8, 36, 19, 465497, tzinfo=datetime.timezone.utc), kind='response')]"
      ]
     },
     "execution_count": 7,
     "metadata": {},
     "output_type": "execute_result"
    }
   ],
   "source": [
    "res.all_messages()"
   ]
  },
  {
   "cell_type": "code",
   "execution_count": 8,
   "metadata": {},
   "outputs": [
    {
     "data": {
      "text/plain": [
       "'hey brooo\\n'"
      ]
     },
     "execution_count": 8,
     "metadata": {},
     "output_type": "execute_result"
    }
   ],
   "source": [
    "res.data"
   ]
  },
  {
   "cell_type": "code",
   "execution_count": null,
   "metadata": {},
   "outputs": [],
   "source": []
  }
 ],
 "metadata": {
  "kernelspec": {
   "display_name": ".venv",
   "language": "python",
   "name": "python3"
  },
  "language_info": {
   "codemirror_mode": {
    "name": "ipython",
    "version": 3
   },
   "file_extension": ".py",
   "mimetype": "text/x-python",
   "name": "python",
   "nbconvert_exporter": "python",
   "pygments_lexer": "ipython3",
   "version": "3.12.7"
  }
 },
 "nbformat": 4,
 "nbformat_minor": 2
}
