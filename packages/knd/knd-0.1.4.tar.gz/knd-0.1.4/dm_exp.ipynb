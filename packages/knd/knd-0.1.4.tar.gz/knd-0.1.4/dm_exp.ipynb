{
 "cells": [
  {
   "cell_type": "code",
   "execution_count": 1,
   "metadata": {},
   "outputs": [],
   "source": [
    "from typing import Optional\n",
    "\n",
    "from beanie import Document, Indexed, init_beanie\n",
    "from motor.motor_asyncio import AsyncIOMotorClient\n",
    "from pydantic import BaseModel\n",
    "\n",
    "%load_ext autoreload\n",
    "%autoreload 2"
   ]
  },
  {
   "cell_type": "code",
   "execution_count": 2,
   "metadata": {},
   "outputs": [],
   "source": [
    "HOST = \"mongodb://localhost:27017\""
   ]
  },
  {
   "cell_type": "code",
   "execution_count": 3,
   "metadata": {},
   "outputs": [],
   "source": [
    "class Category(BaseModel):\n",
    "    name: str\n",
    "    description: str\n",
    "\n",
    "\n",
    "class Product(Document):\n",
    "    name: str  # You can use normal types just like in pydantic\n",
    "    description: Optional[str] = None\n",
    "    price: Indexed(float)  # You can also specify that a field should correspond to an index\n",
    "    category: Category  # You can include pydantic models as well\n",
    "\n",
    "\n",
    "# This is an asynchronous example, so we will access it from an async function\n",
    "async def example():\n",
    "    # Beanie uses Motor async client under the hood\n",
    "    client = AsyncIOMotorClient(host=HOST)\n",
    "\n",
    "    # Initialize beanie with the Product document class\n",
    "    await init_beanie(database=client.db_name, document_models=[Product])\n",
    "\n",
    "    chocolate = Category(name=\"Chocolate\", description=\"A preparation of roasted and ground cacao seeds.\")\n",
    "    # Beanie documents work just like pydantic models\n",
    "    tonybar = Product(name=\"Tony's\", price=5.95, category=chocolate)\n",
    "    # And can be inserted into the database\n",
    "    await tonybar.insert()\n",
    "\n",
    "    # You can find documents with pythonic syntax\n",
    "    product = await Product.find_one(Product.price < 10)\n",
    "\n",
    "    # And update them\n",
    "    await product.set({Product.name: \"Gold bar\"})"
   ]
  },
  {
   "cell_type": "code",
   "execution_count": 4,
   "metadata": {},
   "outputs": [],
   "source": [
    "res = await example()"
   ]
  },
  {
   "cell_type": "code",
   "execution_count": 7,
   "metadata": {},
   "outputs": [
    {
     "ename": "TypeError",
     "evalue": "object NoneType can't be used in 'await' expression",
     "output_type": "error",
     "traceback": [
      "\u001b[0;31m---------------------------------------------------------------------------\u001b[0m",
      "\u001b[0;31mTypeError\u001b[0m                                 Traceback (most recent call last)",
      "Cell \u001b[0;32mIn[7], line 1\u001b[0m\n\u001b[0;32m----> 1\u001b[0m \u001b[38;5;28;01mawait\u001b[39;00m res\n",
      "\u001b[0;31mTypeError\u001b[0m: object NoneType can't be used in 'await' expression"
     ]
    }
   ],
   "source": [
    "await res"
   ]
  },
  {
   "cell_type": "code",
   "execution_count": null,
   "metadata": {},
   "outputs": [],
   "source": []
  }
 ],
 "metadata": {
  "kernelspec": {
   "display_name": ".venv",
   "language": "python",
   "name": "python3"
  },
  "language_info": {
   "codemirror_mode": {
    "name": "ipython",
    "version": 3
   },
   "file_extension": ".py",
   "mimetype": "text/x-python",
   "name": "python",
   "nbconvert_exporter": "python",
   "pygments_lexer": "ipython3",
   "version": "3.12.7"
  }
 },
 "nbformat": 4,
 "nbformat_minor": 2
}
