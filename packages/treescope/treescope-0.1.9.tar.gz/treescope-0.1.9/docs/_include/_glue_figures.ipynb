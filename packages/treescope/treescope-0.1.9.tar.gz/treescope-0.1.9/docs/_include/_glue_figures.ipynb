{
  "cells": [
    {
      "cell_type": "markdown",
      "metadata": {
        "id": "U-H7UFgefil7"
      },
      "source": [
        "Orphaned notebook with values to \"glue\" using [myst-nb](https://myst-nb.readthedocs.io/en/v0.13.2/use/glue.html)."
      ]
    },
    {
      "cell_type": "code",
      "execution_count": null,
      "metadata": {
        "id": "DV6iivgofil7"
      },
      "outputs": [],
      "source": [
        "import os\n",
        "import functools\n",
        "\n",
        "import myst_nb\n",
        "\n",
        "import treescope\n",
        "\n",
        "import jax\n",
        "import jax.numpy as jnp\n",
        "\n",
        "import IPython.utils.capture\n",
        "\n",
        "from penzai import pz"
      ]
    },
    {
      "cell_type": "code",
      "execution_count": null,
      "metadata": {
        "id": "uNIkYGB9A0BY"
      },
      "outputs": [],
      "source": [
        "from penzai.models.transformer.variants import llamalike_common\n",
        "\n",
        "model = llamalike_common.build_llamalike_transformer(\n",
        "    llamalike_common.LlamalikeTransformerConfig(\n",
        "        num_kv_heads=8,\n",
        "        query_head_multiplier=1,\n",
        "        embedding_dim=256,\n",
        "        projection_dim=32,\n",
        "        mlp_hidden_dim=512,\n",
        "        num_decoder_blocks=10,\n",
        "        vocab_size=1000,\n",
        "        mlp_variant=\"geglu_approx\",\n",
        "        rope_wavelength=10_000,\n",
        "        tie_embedder_and_logits=True,\n",
        "        use_layer_stack=False,\n",
        "        parameter_dtype=jnp.float32,\n",
        "        activation_dtype=jnp.float32,\n",
        "    ),\n",
        "    init_base_rng=jax.random.key(42),\n",
        ")\n",
        "\n",
        "_, params = pz.unbind_params(model, freeze=True)\n",
        "params = pz.select(params).at(lambda root: root[0].value).apply(\n",
        "    lambda x: x.order_as(\"embedding\", \"vocabulary\")\n",
        ")"
      ]
    },
    {
      "cell_type": "code",
      "execution_count": null,
      "metadata": {
        "id": "-1GxFaWVFJTE"
      },
      "outputs": [],
      "source": [
        "nested_params = {}\n",
        "for param in params:\n",
        "  label_parts = param.label.split(\"/\")\n",
        "  current = nested_params\n",
        "  for part in label_parts[:-1]:\n",
        "    if part not in current:\n",
        "      current[part] = {}\n",
        "    current = current[part]\n",
        "  current[label_parts[-1]] = param.value.data_array"
      ]
    },
    {
      "cell_type": "code",
      "execution_count": null,
      "metadata": {
        "id": "JPBBHPKXFnSc"
      },
      "outputs": [],
      "source": [
        "myst_nb.glue(\n",
        "    \"treescope_before\",\n",
        "    nested_params,\n",
        ")"
      ]
    },
    {
      "cell_type": "code",
      "execution_count": null,
      "metadata": {
        "id": "lPRC8o4uFKrT"
      },
      "outputs": [],
      "source": [
        "with IPython.utils.capture.capture_output() as capturer:\n",
        "  with treescope.active_autovisualizer.set_scoped(treescope.ArrayAutovisualizer()):\n",
        "    with treescope.using_expansion_strategy(max_height=30):\n",
        "      treescope.display(nested_params)"
      ]
    },
    {
      "cell_type": "code",
      "execution_count": null,
      "metadata": {
        "id": "JS8KF1Nbm_lf"
      },
      "outputs": [],
      "source": [
        "myst_nb.glue(\n",
        "    \"treescope_after\",\n",
        "    IPython.display.HTML(\n",
        "        \"\".join(output.data['text/html'] for output in capturer.outputs)\n",
        "    ),\n",
        ")"
      ]
    },
    {
      "cell_type": "code",
      "execution_count": null,
      "metadata": {
        "id": "S5sxOy_btLN4"
      },
      "outputs": [],
      "source": [
        "with IPython.utils.capture.capture_output() as capturer:\n",
        "  with treescope.active_autovisualizer.set_scoped(treescope.ArrayAutovisualizer()):\n",
        "    with treescope.using_expansion_strategy(max_height=30):\n",
        "      treescope.display(model)"
      ]
    },
    {
      "cell_type": "code",
      "execution_count": null,
      "metadata": {
        "id": "aHeftFUAtE2s"
      },
      "outputs": [],
      "source": [
        "myst_nb.glue(\n",
        "    \"treescope_penzai\",\n",
        "    IPython.display.HTML(\n",
        "        \"\".join(output.data['text/html'] for output in capturer.outputs)\n",
        "    ),\n",
        ")"
      ]
    }
  ],
  "metadata": {
    "colab": {
      "provenance": []
    },
    "kernelspec": {
      "display_name": "Python 3",
      "name": "python3"
    },
    "language_info": {
      "name": "python"
    },
    "mystnb": {
      "execution_mode": "force"
    },
    "orphan": true
  },
  "nbformat": 4,
  "nbformat_minor": 0
}
