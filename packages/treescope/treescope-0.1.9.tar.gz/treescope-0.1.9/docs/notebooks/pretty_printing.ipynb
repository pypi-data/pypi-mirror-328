{
 "cells": [
  {
   "cell_type": "markdown",
   "metadata": {
    "id": "DfejMHs4lr8V"
   },
   "source": [
    "*Copyright 2024 The Treescope Authors.*\n",
    "\n",
    "*Licensed under the Apache License, Version 2.0 (the \"License\"); you may not use this file except in compliance with the License.\n",
    "You may obtain a copy of the License at*\n",
    "\n",
    "> http://www.apache.org/licenses/LICENSE-2.0\n",
    "\n",
    "*Unless required by applicable law or agreed to in writing, software\n",
    "distributed under the License is distributed on an \"AS IS\" BASIS,\n",
    "WITHOUT WARRANTIES OR CONDITIONS OF ANY KIND, either express or  implied.\n",
    "See the License for the specific language governing permissions and\n",
    "limitations under the License.*\n",
    "\n",
    "---"
   ]
  },
  {
   "cell_type": "markdown",
   "metadata": {
    "id": "USGIPdLYDzSo"
   },
   "source": [
    "[![Open in Colab](https://colab.research.google.com/assets/colab-badge.svg)](https://colab.research.google.com/github/google-deepmind/treescope/blob/main/docs/notebooks/pretty_printing.ipynb) [![Open in Kaggle](https://kaggle.com/static/images/open-in-kaggle.svg)](https://kaggle.com/kernels/welcome?src=https://github.com/google-deepmind/treescope/blob/main/docs/notebooks/pretty_printing.ipynb)"
   ]
  },
  {
   "cell_type": "markdown",
   "metadata": {
    "id": "AEACwYivW2LZ"
   },
   "source": [
    "# Getting Started: Pretty-Printing With Treescope"
   ]
  },
  {
   "cell_type": "markdown",
   "metadata": {
    "id": "TR55PimSW4-g"
   },
   "source": [
    "Treescope is an interactive, color-coded HTML pretty-printer, designed for use in IPython notebooks. It's designed to show you the structure of any model or tree of arrays, and is especially suited to looking at nested data structures.\n",
    "\n",
    "As its name suggests, treescope is specifically focused on inspecting *treelike data*, represented as nodes (Python objects) that contain collections of child nodes (other Python objects). This is pretty similar to the behavior of the ordinary Python `repr`, which produces a flat source-code-like view of an object and its contents.\n",
    "\n",
    "(Treescope does support more general Python reference graphs and cyclic references as well, but it always renders them in a tree-like form.)\n"
   ]
  },
  {
   "cell_type": "markdown",
   "metadata": {
    "id": "SHr2rnIL8DzM"
   },
   "source": [
    "## Setup"
   ]
  },
  {
   "cell_type": "markdown",
   "metadata": {
    "id": "VkW4lYKAu-oR"
   },
   "source": [
    "Let's start by setting up the environment."
   ]
  },
  {
   "cell_type": "markdown",
   "metadata": {
    "id": "ozG8ERNavDos"
   },
   "source": [
    "### Imports"
   ]
  },
  {
   "cell_type": "markdown",
   "metadata": {
    "id": "xmxgAcFQmZkB"
   },
   "source": [
    "To run this notebook, you need a Python environment with `treescope` and its dependencies installed.\n",
    "\n",
    "In Colab or Kaggle, you can install it using the following command:"
   ]
  },
  {
   "cell_type": "code",
   "execution_count": null,
   "metadata": {
    "id": "XGZH58j8mPkj"
   },
   "outputs": [],
   "source": [
    "try:\n",
    "  import treescope\n",
    "except ImportError:\n",
    "  !pip install treescope"
   ]
  },
  {
   "cell_type": "code",
   "execution_count": null,
   "metadata": {
    "id": "iog3oMAMGCMG"
   },
   "outputs": [],
   "source": [
    "from __future__ import annotations\n",
    "\n",
    "import typing\n",
    "from typing import Any\n",
    "\n",
    "import dataclasses\n",
    "\n",
    "import jax\n",
    "import jax.numpy as jnp\n",
    "import numpy as np\n",
    "import torch\n",
    "\n",
    "import IPython"
   ]
  },
  {
   "cell_type": "code",
   "execution_count": null,
   "metadata": {
    "id": "uTIqXJkYgLdk"
   },
   "outputs": [],
   "source": [
    "import treescope"
   ]
  },
  {
   "cell_type": "markdown",
   "metadata": {
    "id": "6ntf-nE0-VE4"
   },
   "source": [
    "## Overview of Treescope"
   ]
  },
  {
   "cell_type": "markdown",
   "metadata": {
    "id": "DXEP-2vTzD4a"
   },
   "source": [
    "How does treescope work in practice? Here's an example. Ordinarily, if you try to inspect a nested object containing NDArrays, you get something pretty hard to interpret. For instance, here's a dictionary of arrays rendered using the default IPython pretty-printer:"
   ]
  },
  {
   "cell_type": "code",
   "execution_count": null,
   "metadata": {
    "id": "zmo_McWaf1Lk"
   },
   "outputs": [],
   "source": [
    "some_arrays = {\n",
    "    f\"array_{i}\": jax.random.normal(jax.random.key(i), (20, 50))\n",
    "    for i in range(10)\n",
    "}\n",
    "some_arrays"
   ]
  },
  {
   "cell_type": "markdown",
   "metadata": {
    "id": "bSqPemjQ0c6z"
   },
   "source": [
    "And here's how it looks in treescope:"
   ]
  },
  {
   "cell_type": "code",
   "execution_count": null,
   "metadata": {
    "id": "vt4bj74K0euS"
   },
   "outputs": [],
   "source": [
    "with treescope.active_autovisualizer.set_scoped(treescope.ArrayAutovisualizer()):\n",
    "  treescope.display(some_arrays)"
   ]
  },
  {
   "cell_type": "markdown",
   "metadata": {
    "id": "HICzCwT90rBa"
   },
   "source": [
    "Treescope renders this object as a syntax-highlighted structure that can be interactively folded and unfolded.\n",
    "\n",
    "(Try clicking any `▶` marker to expand a level of the tree, or any `▼` marker to collapse a level.)"
   ]
  },
  {
   "cell_type": "markdown",
   "metadata": {
    "id": "GG31E3k82__R"
   },
   "source": [
    "Let's register treescope as the default pretty-printer for IPython. This is the recommended way to use treescope in an interactive setting. Treescope is designed to be a drop-in replacement for the ordinary IPython pretty-printer, so you should be able to start using it right away."
   ]
  },
  {
   "cell_type": "code",
   "execution_count": null,
   "metadata": {
    "id": "zEo9iZGu3MSg"
   },
   "outputs": [],
   "source": [
    "treescope.basic_interactive_setup()"
   ]
  },
  {
   "cell_type": "markdown",
   "metadata": {
    "id": "FT3B8ugZ1--0"
   },
   "source": [
    "### Foldable and unfoldable nested objects\n",
    "\n",
    "\n"
   ]
  },
  {
   "cell_type": "markdown",
   "metadata": {
    "id": "q04MWuN12ICw"
   },
   "source": [
    "Treescope lets you expand and collapse any level of your tree, so you can look at the parts you care about. In treescope, you can collapse or expand any object that would render as multiple lines (even if treescope doesn't recognize the type!)"
   ]
  },
  {
   "cell_type": "code",
   "execution_count": null,
   "metadata": {
    "id": "1WH4OuTx2k43"
   },
   "outputs": [],
   "source": [
    "import dataclasses\n",
    "\n",
    "@dataclasses.dataclass\n",
    "class MyDataclass:\n",
    "  a: Any\n",
    "  b: Any\n",
    "  c: Any\n",
    "\n",
    "class TheZenOfPython:\n",
    "  def __repr__(self):\n",
    "    return \"<The Zen of Python:\\nBeautiful is better than ugly.\\nExplicit is better than implicit.\\nSimple is better than complex.\\nComplex is better than complicated.\\nFlat is better than nested.\\nSparse is better than dense.\\nReadability counts.\\nSpecial cases aren't special enough to break the rules.\\nAlthough practicality beats purity.\\nErrors should never pass silently.\\nUnless explicitly silenced.\\nIn the face of ambiguity, refuse the temptation to guess.\\nThere should be one-- and preferably only one --obvious way to do it.\\nAlthough that way may not be obvious at first unless you're Dutch.\\nNow is better than never.\\nAlthough never is often better than *right* now.\\nIf the implementation is hard to explain, it's a bad idea.\\nIf the implementation is easy to explain, it may be a good idea.\\nNamespaces are one honking great idea -- let's do more of those!>\""
   ]
  },
  {
   "cell_type": "code",
   "execution_count": null,
   "metadata": {
    "id": "iIlI2uDH26vs"
   },
   "outputs": [],
   "source": [
    "[\n",
    "    MyDataclass('a' * i, 'b' * i, ('cccc\\n') * i)\n",
    "    for i in range(10)\n",
    "] + [\n",
    "    MyDataclass(TheZenOfPython(), TheZenOfPython(), TheZenOfPython())\n",
    "]"
   ]
  },
  {
   "cell_type": "markdown",
   "metadata": {
    "id": "tT-RWJGy3pGQ"
   },
   "source": [
    "### Copyable key paths"
   ]
  },
  {
   "cell_type": "markdown",
   "metadata": {
    "id": "x8PoGmTo3sHI"
   },
   "source": [
    "Want to pull out an object deep inside a tree? You can click the <img src=\"data:image/svg+xml;base64,PHN2ZyB4bWxucz0iaHR0cDovL3d3dy53My5vcmcvMjAwMC9zdmciIGhlaWdodD0iMjQiIHZpZXdCb3g9IjAgMCAyNCAyNCIgd2lkdGg9IjI0Ij48cGF0aCBkPSJNMCAwaDI0djI0SDB6IiBmaWxsPSJub25lIi8+PHBhdGggZD0iTTE2IDFINGMtMS4xIDAtMiAuOS0yIDJ2MTRoMlYzaDEyVjF6bTMgNEg4Yy0xLjEgMC0yIC45LTIgMnYxNGMwIDEuMS45IDIgMiAyaDExYzEuMSAwIDItLjkgMi0yVjdjMC0xLjEtLjktMi0yLTJ6bTAgMTZIOFY3aDExdjE0eiIvPjwvc3ZnPg==\" height=16> icon next to any subtree to copy a function that accesses that subtree, as Python source code. You can then paste it into a code cell and use it to pull out the subtree you wanted.\n",
    "\n",
    "Try it on one of the parameters in the visualization below! (If you run this notebook yourself, you should be able to copy paths with one click. If you are viewing this notebook on Colab without running it, you'll need to click and then copy the path manually due to Colab's security restrictions.)"
   ]
  },
  {
   "cell_type": "code",
   "execution_count": null,
   "metadata": {
    "id": "EftErfPt53Jf"
   },
   "outputs": [],
   "source": [
    "some_arrays"
   ]
  },
  {
   "cell_type": "code",
   "execution_count": null,
   "metadata": {
    "id": "aRzfARw07Mro"
   },
   "outputs": [],
   "source": [
    "# for example\n",
    "some_arrays['array_5']"
   ]
  },
  {
   "cell_type": "markdown",
   "metadata": {
    "id": "5_mN1mMo-yUS"
   },
   "source": [
    "### Copyable code and roundtrip mode"
   ]
  },
  {
   "cell_type": "markdown",
   "metadata": {
    "id": "vn-XXnTn_AtJ"
   },
   "source": [
    "Treescope follows the same conventions as Python's `repr`, whose documentation says:\n",
    "\n",
    "> For many types, this function makes an attempt to return a string that would yield an object with the same value when passed to eval(); otherwise, the representation is a string enclosed in angle brackets that contains the name of the type of the object together with additional information often including the name and address of the object\n",
    "\n",
    "Accordingly, most of the output of treescope is valid Python syntax, and extra annotations are either hidden from selection or represented as Python comments.\n",
    "\n",
    "Unfortunately, this isn't always enough to rebuild the object, since it doesn't tell you where custom types were defined. For instance, the rendering of JAX's `ShapeDtypeStruct` doesn't show where it was defined:"
   ]
  },
  {
   "cell_type": "code",
   "execution_count": null,
   "metadata": {
    "id": "0GcP_Lsqg_wk"
   },
   "outputs": [],
   "source": [
    "my_struct = jax.ShapeDtypeStruct(shape=(20, 10), dtype=jnp.float32)\n",
    "my_struct"
   ]
  },
  {
   "cell_type": "markdown",
   "metadata": {
    "id": "sXEXj8WCsIwx"
   },
   "source": [
    "You can fix this by running treescope in \"roundtrip mode\". By convention, this\n",
    "\n",
    "- adds qualified names to all types,\n",
    "- adds angle brackets (`<` and `>`) around parts of the rendering that look like valid Python syntax but don't actually rebuild the object.\n",
    "\n",
    "To toggle roundtrip mode, click on any output of treescope and press the \"**`r`**\" key. (Try it above!) Alternatively, pass `roundtrip_mode=True` to the renderer:"
   ]
  },
  {
   "cell_type": "code",
   "execution_count": null,
   "metadata": {
    "id": "FrT4RX5fKlnM"
   },
   "outputs": [],
   "source": [
    "treescope.display(my_struct, roundtrip_mode=True)"
   ]
  },
  {
   "cell_type": "markdown",
   "metadata": {
    "id": "9rtVpe9gNDGC"
   },
   "source": [
    "### Function reflection and canonical aliases"
   ]
  },
  {
   "cell_type": "markdown",
   "metadata": {
    "id": "qkgLckTFMRE_"
   },
   "source": [
    "Treescope has support for rendering useful information about functions and closures. The repr for functions isn't always very helpful, especially if wrapped by JAX:"
   ]
  },
  {
   "cell_type": "code",
   "execution_count": null,
   "metadata": {
    "id": "uLgJ9LjQMZ6v"
   },
   "outputs": [],
   "source": [
    "repr(jax.nn.relu)"
   ]
  },
  {
   "cell_type": "markdown",
   "metadata": {
    "id": "GunF5Q4LMgeH"
   },
   "source": [
    "Treescope tries to figure out where functions, function-like objects, and other constants are defined, and uses that to summarize them when collapsed. This works for ordinary function definitions defined anywhere and also for function-like objects in the JAX public API (see `well_known_aliases.py`)"
   ]
  },
  {
   "cell_type": "code",
   "execution_count": null,
   "metadata": {
    "id": "_VGojPcOMeM_"
   },
   "outputs": [],
   "source": [
    "jax.nn.relu"
   ]
  },
  {
   "cell_type": "markdown",
   "metadata": {
    "id": "bVz5hPDrNyrz"
   },
   "source": [
    "For ordinary functions, it can even identify the file where the function was defined:"
   ]
  },
  {
   "cell_type": "code",
   "execution_count": null,
   "metadata": {
    "id": "kZWUUfiZN_Zr"
   },
   "outputs": [],
   "source": [
    "jnp.sum"
   ]
  },
  {
   "cell_type": "markdown",
   "metadata": {
    "id": "kqvRcc-mOFPU"
   },
   "source": [
    "This works even for locally-defined notebook functions:"
   ]
  },
  {
   "cell_type": "code",
   "execution_count": null,
   "metadata": {
    "id": "AIGmwRqAOHic"
   },
   "outputs": [],
   "source": [
    "def my_function():\n",
    "  print(\"hello world!\")"
   ]
  },
  {
   "cell_type": "code",
   "execution_count": null,
   "metadata": {
    "id": "MmLywyFhOPYD"
   },
   "outputs": [],
   "source": [
    "my_function"
   ]
  },
  {
   "cell_type": "markdown",
   "metadata": {
    "id": "rddtrjy3hsJd"
   },
   "source": [
    "## Array visualizer"
   ]
  },
  {
   "cell_type": "markdown",
   "metadata": {
    "id": "RLXrP5oohuvk"
   },
   "source": [
    "Treescope includes a custom interactive NDArray visualizer designed to visualize the elements of high-dimensional arrays:"
   ]
  },
  {
   "cell_type": "code",
   "execution_count": null,
   "metadata": {
    "id": "vzBcX2twhrtL"
   },
   "outputs": [],
   "source": [
    "arr = (\n",
    "    np.linspace(-10, 10, 20)\n",
    "    * np.linspace(-10, 10, 15)[:, np.newaxis]\n",
    "    * np.linspace(-1, 1, 5)[:, np.newaxis, np.newaxis]\n",
    ")\n",
    "treescope.render_array(arr)"
   ]
  },
  {
   "cell_type": "markdown",
   "metadata": {
    "id": "rXcWtU-ehzmP"
   },
   "source": [
    "It's integrated with the rest of treescope, making it possible to directly visualize entire nested containers of arrays at once. Because we ran ``basic_interactive_setup`` above, arrays will be automatically visualized:"
   ]
  },
  {
   "cell_type": "code",
   "execution_count": null,
   "metadata": {
    "id": "4K-8RXj_h5uT"
   },
   "outputs": [],
   "source": [
    "some_arrays['array_1']"
   ]
  },
  {
   "cell_type": "markdown",
   "metadata": {
    "id": "dUAcZS59iAkD"
   },
   "source": [
    "You can also customize this in a given cell using a context manager:"
   ]
  },
  {
   "cell_type": "code",
   "execution_count": null,
   "metadata": {
    "id": "t2JQC59zhzmQ"
   },
   "outputs": [],
   "source": [
    "with treescope.active_autovisualizer.set_scoped(\n",
    "    treescope.ArrayAutovisualizer(maximum_size=100)\n",
    "):\n",
    "  treescope.display(some_arrays['array_1'])"
   ]
  },
  {
   "cell_type": "markdown",
   "metadata": {
    "id": "4s16CSvbiarR"
   },
   "source": [
    "Or the `%%autovisualize` magic:"
   ]
  },
  {
   "cell_type": "code",
   "execution_count": null,
   "metadata": {
    "id": "JhxxxsPShzmQ"
   },
   "outputs": [],
   "source": [
    "%%autovisualize treescope.ArrayAutovisualizer(maximum_size=100)\n",
    "treescope.display(some_arrays['array_1'])"
   ]
  },
  {
   "cell_type": "code",
   "execution_count": null,
   "metadata": {
    "id": "zu1d_UDFiedX"
   },
   "outputs": [],
   "source": [
    "%%autovisualize False\n",
    "# ^ to turn it off\n",
    "treescope.display(some_arrays['array_1'])"
   ]
  },
  {
   "cell_type": "markdown",
   "metadata": {
    "id": "duo3EE4eNRui"
   },
   "source": [
    "### Customizable figure inlining"
   ]
  },
  {
   "cell_type": "markdown",
   "metadata": {
    "id": "hpChdJOAaYy0"
   },
   "source": [
    "If you want more control over how arrays and other objects are visualized, you can write your own visualization function and configure treescope to use it:"
   ]
  },
  {
   "cell_type": "code",
   "execution_count": null,
   "metadata": {
    "id": "3wmMadSgalOZ"
   },
   "outputs": [],
   "source": [
    "# You can use most rich display objects, for instance a plotly figure:\n",
    "import plotly.io\n",
    "import plotly.express as px\n",
    "\n",
    "# Treescope uses similar embed settings as Colab, so configure it to render\n",
    "# like in colab:\n",
    "plotly.io.renderers.default = \"colab\"\n",
    "\n",
    "def visualize_with_histograms(value, path):\n",
    "  if isinstance(value, (np.ndarray, jax.Array)):\n",
    "    return treescope.IPythonVisualization(\n",
    "        px.histogram(\n",
    "            value.flatten(),\n",
    "            width=400, height=200\n",
    "        ).update_layout(\n",
    "            margin=dict(l=20, r=20, t=20, b=20)\n",
    "        )\n",
    "    )\n"
   ]
  },
  {
   "cell_type": "code",
   "execution_count": null,
   "metadata": {
    "id": "sbxP5iHR9N9-"
   },
   "outputs": [],
   "source": [
    "with treescope.active_autovisualizer.set_scoped(visualize_with_histograms):\n",
    "  treescope.display(some_arrays)"
   ]
  },
  {
   "cell_type": "markdown",
   "metadata": {
    "id": "REfIYd42Z649"
   },
   "source": [
    "See the separate [\"Building Custom Visualizations\" tutorial](building_custom_visualizations.ipynb) for more info on how to customize automatic visualization!"
   ]
  },
  {
   "cell_type": "markdown",
   "metadata": {
    "id": "ChUMxDWF25nh"
   },
   "source": [
    "## Where you can use treescope"
   ]
  },
  {
   "cell_type": "markdown",
   "metadata": {
    "id": "ETz80MYtePl8"
   },
   "source": [
    "### In IPython / Colab"
   ]
  },
  {
   "cell_type": "markdown",
   "metadata": {
    "id": "zloHbYfpeRhs"
   },
   "source": [
    "Treescope works great in IPython and Colab notebooks, and is designed as a drop-in replacement for the IPython pretty-printer.\n",
    "\n",
    "We've already done it above, but you can configure treescope as the default IPython formatter by calling"
   ]
  },
  {
   "cell_type": "code",
   "execution_count": null,
   "metadata": {
    "id": "EayONGZge9uu"
   },
   "outputs": [],
   "source": [
    "treescope.register_as_default()\n",
    "# ^ called by default when running treescope.basic_interactive_setup()"
   ]
  },
  {
   "cell_type": "markdown",
   "metadata": {
    "id": "zW05pjrBe-tq"
   },
   "source": [
    "or manually display specific objects with"
   ]
  },
  {
   "cell_type": "code",
   "execution_count": null,
   "metadata": {
    "id": "qR55dXumfCb6"
   },
   "outputs": [],
   "source": [
    "treescope.display([\"some object\"])"
   ]
  },
  {
   "cell_type": "markdown",
   "metadata": {
    "id": "w6xDi5RZfXNz"
   },
   "source": [
    "There's also a helper function to show multiple objects with syntax similar to Python's `print`:"
   ]
  },
  {
   "cell_type": "code",
   "execution_count": null,
   "metadata": {
    "id": "iKimZ6EQfnm8"
   },
   "outputs": [],
   "source": [
    "treescope.show(\"A value:\", [\"some object\"])"
   ]
  },
  {
   "cell_type": "markdown",
   "metadata": {
    "id": "vxdZo9jSfFqS"
   },
   "source": [
    "If you register treescope as the default IPython formatter, you can also just do"
   ]
  },
  {
   "cell_type": "code",
   "execution_count": null,
   "metadata": {
    "id": "okcZGZaifLES"
   },
   "outputs": [],
   "source": [
    "[\"some object\"]"
   ]
  },
  {
   "cell_type": "markdown",
   "metadata": {
    "id": "P1Me9ZKrh6uN"
   },
   "source": [
    "### In ordinary Python for offline viewing"
   ]
  },
  {
   "cell_type": "markdown",
   "metadata": {
    "id": "MC_S36jIh9zP"
   },
   "source": [
    "Treescope can render directly to static HTML, without requiring any dynamic communication between the Python kernel and the HTML renderer. This means you can directly save the output of a treescope rendering to an HTML file, and open it later to view whatever was formatted."
   ]
  },
  {
   "cell_type": "code",
   "execution_count": null,
   "metadata": {
    "id": "SNgkywtliOyI"
   },
   "outputs": [],
   "source": [
    "with treescope.active_autovisualizer.set_scoped(treescope.ArrayAutovisualizer()):\n",
    "  contents = treescope.render_to_html(some_arrays)\n",
    "\n",
    "with open(\"/tmp/treescope_output.html\", \"w\") as f:\n",
    "  f.write(contents)\n",
    "\n",
    "# Uncomment to download the file:\n",
    "# import google.colab.files\n",
    "# google.colab.files.download(\"/tmp/treescope_output.html\")"
   ]
  },
  {
   "cell_type": "markdown",
   "metadata": {
    "id": "5gRlSr_7BIhC"
   },
   "source": [
    "## Things treescope can render"
   ]
  },
  {
   "cell_type": "markdown",
   "metadata": {
    "id": "fx3FnJlVm4R4"
   },
   "source": [
    "Treescope has support for a large number of common Python objects."
   ]
  },
  {
   "cell_type": "markdown",
   "metadata": {
    "id": "xK531j-Hm7b5"
   },
   "source": [
    "### Dicts, lists, tuples, and sets"
   ]
  },
  {
   "cell_type": "code",
   "execution_count": null,
   "metadata": {
    "id": "t42XMYqGnB67"
   },
   "outputs": [],
   "source": [
    "[\n",
    "    [(), (1,), (1, 2, 3)],\n",
    "    {\"foo\": \"bar\", \"baz\": \"qux\"},\n",
    "    {(1,2,3):(4,5,6), (7,8,9):(10,11,12)},\n",
    "    {\"a\", \"b\", \"c\", \"d\"}\n",
    "]"
   ]
  },
  {
   "cell_type": "markdown",
   "metadata": {
    "id": "qQ_7_xKUnXeZ"
   },
   "source": [
    "### Builtins and literals\n",
    "(with special handling for multiline strings)"
   ]
  },
  {
   "cell_type": "code",
   "execution_count": null,
   "metadata": {
    "id": "XoQVV_JInceA"
   },
   "outputs": [],
   "source": [
    "[\n",
    "    [1, 2, 3, 4],\n",
    "    [\"a\", \"b\", \"c\", \"d\"],\n",
    "    [True, False, None, NotImplemented, Ellipsis],\n",
    "    [\"a\\n  multiline\\n    string\"]\n",
    "]"
   ]
  },
  {
   "cell_type": "markdown",
   "metadata": {
    "id": "1-vWGcVQnwO0"
   },
   "source": [
    "### Dataclasses and namedtuples"
   ]
  },
  {
   "cell_type": "code",
   "execution_count": null,
   "metadata": {
    "id": "gAUbNEJCnySa"
   },
   "outputs": [],
   "source": [
    "class Foo(typing.NamedTuple):\n",
    "  a: int\n",
    "  b: str\n",
    "\n",
    "Foo(a=1, b=\"bar\")"
   ]
  },
  {
   "cell_type": "code",
   "execution_count": null,
   "metadata": {
    "id": "-_0ZHN7OoKsJ"
   },
   "outputs": [],
   "source": [
    "@dataclasses.dataclass(frozen=True)\n",
    "class Bar:\n",
    "  c: str\n",
    "  d: int\n",
    "  some_list: list = dataclasses.field(default_factory=list)\n",
    "\n",
    "IPython.display.display(Bar(c=\"bar\", d=2))"
   ]
  },
  {
   "cell_type": "markdown",
   "metadata": {
    "id": "mXRxyT12tBGC"
   },
   "source": [
    "In roundtrip mode, treescope will even help you rebuild dataclasses with weird `__init__` methods:"
   ]
  },
  {
   "cell_type": "code",
   "execution_count": null,
   "metadata": {
    "id": "MQ0N67ZXtGxJ"
   },
   "outputs": [],
   "source": [
    "@dataclasses.dataclass\n",
    "class WeirdInitClass:\n",
    "  foo: int\n",
    "\n",
    "  def __init__(self, half_foo: int):\n",
    "    self.foo = 2 * half_foo\n",
    "\n",
    "# This shows as WeirdInitClass(foo=4):\n",
    "treescope.display(WeirdInitClass(2))\n",
    "\n",
    "# But in roundtrip mode (explicit or after pressing `r`), it shows as\n",
    "#   pz.dataclass_from_attributes(WeirdInitClass, foo=4)\n",
    "# which bypasses __init__ and rebuilds the dataclass's attributes directly,\n",
    "# since __init__ doesn't take `foo` as an argument.\n",
    "treescope.display(WeirdInitClass(2), roundtrip_mode=True)"
   ]
  },
  {
   "cell_type": "markdown",
   "metadata": {
    "id": "PPBrX2URqClt"
   },
   "source": [
    "### Multidimensional arrays / tensors\n",
    "Treescope supports showing a variety of arrays and tensors, including Numpy, JAX, and PyTorch arrays. It shows them by summarizing the shape, mean, standard deviation, bounds, and number of special values, and will also visualize their contents automatically (if automatic visualization is enabled)."
   ]
  },
  {
   "cell_type": "code",
   "execution_count": null,
   "metadata": {
    "id": "X51bFZNRqTnG"
   },
   "outputs": [],
   "source": [
    "[\n",
    "    jnp.arange(1000),\n",
    "    np.array([[np.nan] * 100, [0] * 50 + [1] * 50]),\n",
    "    torch.linspace(-10, 20, 50),\n",
    "]"
   ]
  },
  {
   "cell_type": "markdown",
   "metadata": {
    "id": "6OJSNgHPxlLq"
   },
   "source": [
    "Treescope also supports arrays with named axes. For example, when visualizing a Penzai `NamedArray`, axis names are automatically shown:"
   ]
  },
  {
   "cell_type": "code",
   "execution_count": null,
   "metadata": {
    "id": "Rn-eqDXgxyO6"
   },
   "outputs": [],
   "source": [
    "from penzai import pz\n",
    "pz.nx.wrap(\n",
    "    jax.random.normal(jax.random.key(1), (10, 4, 16)),\n",
    ").tag(\"query_seq\", \"heads\", \"embed\")"
   ]
  },
  {
   "cell_type": "markdown",
   "metadata": {
    "id": "_5NhWnCSiEJ6"
   },
   "source": [
    "When used in IPython, Treescope will try to render the tree structure first and then insert array visualizations later. This can make visualization faster and can sometimes let you see the shape of JAX arrays before JAX has finished computing their values."
   ]
  },
  {
   "cell_type": "markdown",
   "metadata": {
    "id": "cV3fl0czt1wu"
   },
   "source": [
    "### Neural network models"
   ]
  },
  {
   "cell_type": "markdown",
   "metadata": {
    "id": "Ga0gmbMEt9L8"
   },
   "source": [
    "Treescope can render a variety of neural network models.\n",
    "\n",
    "In the [Penzai](https://penzai.readthedocs.io/en/stable/) and [Equinox](https://docs.kidger.site/equinox/) neural network libraries, model objects are represented as Python dataclasses. In this case, Treescope will render the dataclass attributes, similar to the ordinary `repr` for a dataclass. For instance, here's a simple Penzai model:"
   ]
  },
  {
   "cell_type": "code",
   "execution_count": null,
   "metadata": {
    "id": "PL4PIgEpu0PI"
   },
   "outputs": [],
   "source": [
    "from penzai.models import simple_mlp\n",
    "simple_mlp.MLP.from_config(\n",
    "    name=\"mlp\",\n",
    "    init_base_rng=jax.random.key(0),\n",
    "    feature_sizes=[8, 32, 32, 8]\n",
    ")"
   ]
  },
  {
   "cell_type": "markdown",
   "metadata": {
    "id": "44Ki34VDu5hp"
   },
   "source": [
    "In [PyTorch](https://pytorch.org/docs/stable/nn.html), models are represented as dynamic Python objects which can have arbitrary attributes. Treescope will inspect the model object and visualize its non-private configuration attributes, submodules, and parameters:"
   ]
  },
  {
   "cell_type": "code",
   "execution_count": null,
   "metadata": {
    "id": "uwoVWyjHvt4O"
   },
   "outputs": [],
   "source": [
    "torch.nn.Sequential(\n",
    "    torch.nn.Linear(8, 32),\n",
    "    torch.nn.ReLU(),\n",
    "    torch.nn.Linear(32, 32),\n",
    "    torch.nn.ReLU(),\n",
    "    torch.nn.Linear(32, 8),\n",
    ")"
   ]
  },
  {
   "cell_type": "markdown",
   "metadata": {
    "id": "VYMKasiEwF_I"
   },
   "source": [
    "Custom classes can also use Treescope's extension API to modify their renderings. For instance, [Flax's NNX modules](https://flax.readthedocs.io/en/latest/nnx/index.html) support the extension API and can also be used with Treescope."
   ]
  },
  {
   "cell_type": "markdown",
   "metadata": {
    "id": "uApmqUWrpM7T"
   },
   "source": [
    "### Functions\n",
    "(As discussed in the features section)"
   ]
  },
  {
   "cell_type": "code",
   "execution_count": null,
   "metadata": {
    "id": "99wOiGBTpVPx"
   },
   "outputs": [],
   "source": [
    "[\n",
    "    jnp.sum,\n",
    "    dataclasses.dataclass,\n",
    "    lambda x: x + 2,\n",
    "    jax.vmap(lambda x: x),\n",
    "]"
   ]
  },
  {
   "cell_type": "markdown",
   "metadata": {
    "id": "8DPERS5Qpo1D"
   },
   "source": [
    "### Arbitrary PyTree types\n",
    "Treescope uses a fallback rendering strategy to show the children of any PyTree type registered with JAX, even if it isn't usually supported by treescope."
   ]
  },
  {
   "cell_type": "code",
   "execution_count": null,
   "metadata": {
    "id": "uR-Ae0-yp6Eq"
   },
   "outputs": [],
   "source": [
    "jax.tree_util.Partial(lambda x, y, z: x + y, 10, y=100)"
   ]
  },
  {
   "cell_type": "markdown",
   "metadata": {
    "id": "cjkZIKlfr0HV"
   },
   "source": [
    "### Partial support: Repeated Python object references\n",
    "Treescope will warn you if it sees multiple references to the same mutable object, since that can cause unexpected behavior. (In this case, copying the output won't copy the shared reference structure.)"
   ]
  },
  {
   "cell_type": "code",
   "execution_count": null,
   "metadata": {
    "id": "uIrj6s_NsFZK"
   },
   "outputs": [],
   "source": [
    "my_shared_list = []\n",
    "\n",
    "{\n",
    "    \"foo\": my_shared_list,\n",
    "    \"bar\": my_shared_list,\n",
    "    \"baz\": [1, 2, my_shared_list]\n",
    "}"
   ]
  },
  {
   "cell_type": "code",
   "execution_count": null,
   "metadata": {
    "id": "bzj8ENLujAsd"
   },
   "outputs": [],
   "source": []
  }
 ],
 "metadata": {
  "colab": {
   "name": "Pretty-Printing with Treescope",
   "toc_visible": true
  },
  "kernelspec": {
   "display_name": "Python 3",
   "name": "python3"
  },
  "language_info": {
   "name": "python"
  }
 },
 "nbformat": 4,
 "nbformat_minor": 0
}
