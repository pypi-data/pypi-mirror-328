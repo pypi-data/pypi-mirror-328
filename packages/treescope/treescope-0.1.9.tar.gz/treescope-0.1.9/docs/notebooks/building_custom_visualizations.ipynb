{
 "cells": [
  {
   "cell_type": "markdown",
   "metadata": {
    "id": "DfejMHs4lr8V"
   },
   "source": [
    "*Copyright 2024 The Treescope Authors.*\n",
    "\n",
    "*Licensed under the Apache License, Version 2.0 (the \"License\"); you may not use this file except in compliance with the License.\n",
    "You may obtain a copy of the License at*\n",
    "\n",
    "> http://www.apache.org/licenses/LICENSE-2.0\n",
    "\n",
    "*Unless required by applicable law or agreed to in writing, software\n",
    "distributed under the License is distributed on an \"AS IS\" BASIS,\n",
    "WITHOUT WARRANTIES OR CONDITIONS OF ANY KIND, either express or  implied.\n",
    "See the License for the specific language governing permissions and\n",
    "limitations under the License.*\n",
    "\n",
    "---"
   ]
  },
  {
   "cell_type": "markdown",
   "metadata": {
    "id": "USGIPdLYDzSo"
   },
   "source": [
    "[![Open in Colab](https://colab.research.google.com/assets/colab-badge.svg)](https://colab.research.google.com/github/google-deepmind/treescope/blob/main/docs/notebooks/building_custom_visualizers.ipynb) [![Open in Kaggle](https://kaggle.com/static/images/open-in-kaggle.svg)](https://kaggle.com/kernels/welcome?src=https://github.com/google-deepmind/treescope/blob/main/docs/notebooks/building_custom_visualizers.ipynb)"
   ]
  },
  {
   "cell_type": "markdown",
   "metadata": {
    "id": "oFtE9mBAOjZz"
   },
   "source": [
    "# Building Custom Visualizations"
   ]
  },
  {
   "cell_type": "markdown",
   "metadata": {
    "id": "wqFoWpVI2yXc"
   },
   "source": [
    "Treescope allows you to customize the renderings it generates, to support more advanced visualization workflows. This customization can be done in a few different ways:\n",
    "\n",
    "- You can use the `treescope.figures` subpackage to build your own top-level visualizations, by styling text and interleaving figures or array visualizations.\n",
    "- You can define your own `treescope.Autovisualizer`, and use it to automatically add rich visualizations to internal parts of rendered objects.\n",
    "- You can implement the `__treescope_repr__` method on your custom types, to add support for rendering them with Treescope."
   ]
  },
  {
   "cell_type": "markdown",
   "metadata": {
    "id": "ozG8ERNavDos"
   },
   "source": [
    "## Setup"
   ]
  },
  {
   "cell_type": "markdown",
   "metadata": {
    "id": "xmxgAcFQmZkB"
   },
   "source": [
    "To run this notebook, you need a Python environment with `treescope` and its dependencies installed.\n",
    "\n",
    "In Colab or Kaggle, you can install it using the following command:"
   ]
  },
  {
   "cell_type": "code",
   "execution_count": null,
   "metadata": {
    "id": "XGZH58j8mPkj"
   },
   "outputs": [],
   "source": [
    "try:\n",
    "  import treescope\n",
    "except ImportError:\n",
    "  !pip install treescope"
   ]
  },
  {
   "cell_type": "code",
   "execution_count": null,
   "metadata": {
    "id": "iog3oMAMGCMG"
   },
   "outputs": [],
   "source": [
    "from __future__ import annotations\n",
    "from typing import Any\n",
    "\n",
    "import jax\n",
    "import jax.numpy as jnp\n",
    "import numpy as np\n",
    "\n",
    "import IPython"
   ]
  },
  {
   "cell_type": "code",
   "execution_count": null,
   "metadata": {
    "id": "5Mh2mAuiQ4aa"
   },
   "outputs": [],
   "source": [
    "import treescope\n",
    "treescope.basic_interactive_setup()"
   ]
  },
  {
   "cell_type": "code",
   "execution_count": null,
   "metadata": {
    "id": "DYUiMG4gTxiO"
   },
   "outputs": [],
   "source": [
    "import plotly.io\n",
    "import plotly.express as px\n",
    "\n",
    "# Treescope uses similar embed settings as Colab, so configure plotly to render\n",
    "# like in colab:\n",
    "plotly.io.renderers.default = \"colab\""
   ]
  },
  {
   "cell_type": "markdown",
   "metadata": {
    "id": "aytF-vfE712H"
   },
   "source": [
    "## Building simple figures with `treescope.figures`"
   ]
  },
  {
   "cell_type": "markdown",
   "metadata": {
    "id": "RwexgmzF77Ja"
   },
   "source": [
    "The `treescope.figures` submodule contains helper functions for arranging and styling information, using Treescope's internal rendering system. This can be used to produce custom outputs that arrange Treescope components in different ways.\n",
    "\n",
    "Here's a demo of some of the building blocks:"
   ]
  },
  {
   "cell_type": "code",
   "execution_count": null,
   "metadata": {
    "id": "8WjuyBLg8jiU"
   },
   "outputs": [],
   "source": [
    "treescope.figures.inline(\n",
    "    \"This is a simple inline output figure. You can \",\n",
    "    treescope.figures.bolded(\"emphasize\"),\n",
    "    \" parts of the output, or \",\n",
    "    treescope.figures.with_color(\"change their color, \", \"red\"),\n",
    "    \"or even\\n\"\n",
    "    \"embed Python objects like \",\n",
    "    [1, 2, 3],\n",
    "    \" or even array visualizations like\\n\",\n",
    "    np.linspace(-10, 10, 20),\n",
    "    \".\\nIt's also possible to indent parts of the input, like\",\n",
    "    treescope.figures.indented(treescope.figures.inline(\n",
    "        \"this. Indents apply to\\nnewlines and\\nembedded objects too:\\n\",\n",
    "        [1, 2, 3, 4, 5]\n",
    "    )),\n",
    "    \"You can also embed figures from other libraries:\\n\",\n",
    "    px.histogram(\n",
    "        jax.random.uniform(jax.random.key(0), (1000,)),\n",
    "        width=400, height=200\n",
    "    ).update_layout(\n",
    "        margin=dict(l=20, r=20, t=20, b=20)\n",
    "    ),\n",
    "    \"\\nAdditionally, you can insert colored \\\"digitboxes\\\", which Trescope uses\\n\",\n",
    "    \"to render token IDs: \",\n",
    "    treescope.integer_digitbox(1, label=\"1\"),\n",
    "    \" \",\n",
    "    treescope.integer_digitbox(2, label=\"2\"),\n",
    "    \" \",\n",
    "    treescope.integer_digitbox(12345, label=\"12345\"),\n",
    "    \". And you can add \",\n",
    "    treescope.figures.text_on_color(\n",
    "        \"text with a \",\n",
    "        value=0.2, vmax=1.0\n",
    "    ),\n",
    "    treescope.figures.text_on_color(\n",
    "        \"colormapped\",\n",
    "        value=-1.0, vmax=1.0\n",
    "    ),\n",
    "    treescope.figures.text_on_color(\n",
    "        \" background color,\",\n",
    "        value=0.8, vmax=1.0\n",
    "    ),\n",
    "    \"\\nwhich can be useful for showing token probabilities or similar per-token info.\"\n",
    ")"
   ]
  },
  {
   "cell_type": "markdown",
   "metadata": {
    "id": "zlg1RsCv_nmm"
   },
   "source": [
    "See the documentation for `treescope.figures` for more info."
   ]
  },
  {
   "cell_type": "markdown",
   "metadata": {
    "id": "5gRlSr_7BIhC"
   },
   "source": [
    "## Defining a custom automatic subtree visualizer"
   ]
  },
  {
   "cell_type": "markdown",
   "metadata": {
    "id": "nwjF_vCa6sjF"
   },
   "source": [
    "As discussed in the other tutorials, Treescope supports automatically visualizing arrays inside rendered objects. For instance:"
   ]
  },
  {
   "cell_type": "code",
   "execution_count": null,
   "metadata": {
    "id": "jSTjHR367Mif"
   },
   "outputs": [],
   "source": [
    "np.arange(10)"
   ]
  },
  {
   "cell_type": "code",
   "execution_count": null,
   "metadata": {
    "id": "2asQLNbJ6yDX"
   },
   "outputs": [],
   "source": [
    "[np.arange(10), np.linspace(-10,10,20)]"
   ]
  },
  {
   "cell_type": "markdown",
   "metadata": {
    "id": "cYArGBxV0ncq"
   },
   "source": [
    "Automatic array visualization is a special case of a more general treescope feature, which lets you render arbitrary figures at arbitrary points in pretty-printed PyTrees. To customize automatic visualization, you define an autovisualizer function, with the following signature:\n",
    "```python\n",
    "def autovisualizer_fn(\n",
    "    value: Any,\n",
    "    path: tuple[Any, ...] | None,\n",
    ") -> pz.ts.IPythonVisualization | pz.ts.ChildAutovisualizer | None:\n",
    "  ...\n",
    "```\n",
    "This function will be called on every subtree of the rendered tree, and can return `pz.ts.IPythonVisualization(some_figure)` to replace the subtree with a visualization, or `None` to process the subtree normally. (It can also return `pz.ts.ChildAutovisualizer` if the subtree should be rendered with a different autovisualizer.)"
   ]
  },
  {
   "cell_type": "markdown",
   "metadata": {
    "id": "eh6kQUcI1X0m"
   },
   "source": [
    "For instance, we can write an autovisualizer that always formats arrays in continuous mode:"
   ]
  },
  {
   "cell_type": "code",
   "execution_count": null,
   "metadata": {
    "id": "b9nrIr0kJUpU"
   },
   "outputs": [],
   "source": [
    "def my_continuous_autovisualizer(\n",
    "    value: Any,\n",
    "    path: tuple[Any, ...] | None,\n",
    "):\n",
    "  if isinstance(value, np.ndarray):\n",
    "    return treescope.IPythonVisualization(\n",
    "        treescope.render_array(value, continuous=True, around_zero=False),\n",
    "        replace=True,\n",
    "    )"
   ]
  },
  {
   "cell_type": "code",
   "execution_count": null,
   "metadata": {
    "id": "pjoleD-X2nTB"
   },
   "outputs": [],
   "source": [
    "with treescope.active_autovisualizer.set_scoped(\n",
    "    my_continuous_autovisualizer\n",
    "):\n",
    "  IPython.display.display({\n",
    "      \"foo\": np.arange(10)[:, None] * np.arange(10)[None, :],\n",
    "      \"bar\": np.sin(np.arange(100) * 0.1).reshape((10,10))\n",
    "  })"
   ]
  },
  {
   "cell_type": "markdown",
   "metadata": {
    "id": "TUKbiWAj38fT"
   },
   "source": [
    "Or, add additional metadata:"
   ]
  },
  {
   "cell_type": "code",
   "execution_count": null,
   "metadata": {
    "id": "e_ToZ_a3410m"
   },
   "outputs": [],
   "source": [
    "def my_verbose_autovisualizer(\n",
    "    value: Any,\n",
    "    path: tuple[Any, ...] | None,\n",
    "):\n",
    "  if isinstance(value, np.ndarray):\n",
    "    size = value.size\n",
    "    token_groups = [\n",
    "        (id(value) // div) % 1000\n",
    "        for div in (1000000000000, 1000000, 1000, 1)\n",
    "    ]\n",
    "    return treescope.IPythonVisualization(\n",
    "        treescope.figures.inline(\n",
    "            \"Hello world!\\n\",\n",
    "            treescope.render_array(value),\n",
    "            f\"\\nThis array contains {size} elements and has Python id {id(value):,}, which you could tokenize as  \",\n",
    "            treescope.integer_digitbox(token_groups[0], label=str(token_groups[0])),\n",
    "            \"  \", treescope.integer_digitbox(token_groups[1], label=str(token_groups[1])),\n",
    "            \"  \", treescope.integer_digitbox(token_groups[2], label=str(token_groups[2])),\n",
    "            \"  \", treescope.integer_digitbox(token_groups[3], label=str(token_groups[3])),\n",
    "            f\"\\nThe path to this node is {path}\",\n",
    "        ),\n",
    "        replace=False\n",
    "    )"
   ]
  },
  {
   "cell_type": "code",
   "execution_count": null,
   "metadata": {
    "id": "y3cRXHC7410v"
   },
   "outputs": [],
   "source": [
    "with treescope.active_autovisualizer.set_scoped(\n",
    "    my_verbose_autovisualizer\n",
    "):\n",
    "  IPython.display.display({\n",
    "      \"foo\": np.arange(10)[:, None] * np.arange(10)[None, :],\n",
    "      \"bar\": np.sin(np.arange(100) * 0.1).reshape((10,10))\n",
    "  })"
   ]
  },
  {
   "cell_type": "markdown",
   "metadata": {
    "id": "pIEEVARQ9PAq"
   },
   "source": [
    "You can even render values using an external plotting library like `plotly`!\n",
    "\n",
    "Treescope can inline any type of figure that has a rich HTML representation (specifically, any object that defines the magic `_repr_html_` method expected by Colab's IPython kernel.)"
   ]
  },
  {
   "cell_type": "code",
   "execution_count": null,
   "metadata": {
    "id": "M-B7M_779N93"
   },
   "outputs": [],
   "source": [
    "def my_plotly_autovisualizer(\n",
    "    value: Any,\n",
    "    path: tuple[Any, ...] | None,\n",
    "):\n",
    "  if isinstance(value, (np.ndarray, jax.Array)):\n",
    "    return treescope.IPythonVisualization(\n",
    "        px.histogram(\n",
    "            value.flatten(),\n",
    "            width=400, height=200\n",
    "        ).update_layout(\n",
    "            margin=dict(l=20, r=20, t=20, b=20)\n",
    "        )\n",
    "    )"
   ]
  },
  {
   "cell_type": "code",
   "execution_count": null,
   "metadata": {
    "id": "sbxP5iHR9N9-"
   },
   "outputs": [],
   "source": [
    "with treescope.active_autovisualizer.set_scoped(\n",
    "    my_plotly_autovisualizer\n",
    "):\n",
    "  IPython.display.display({\n",
    "      \"foo\": np.arange(10)[:, None] * np.arange(10)[None, :],\n",
    "      \"bar\": np.sin(np.arange(100) * 0.1).reshape((10,10))\n",
    "  })"
   ]
  },
  {
   "cell_type": "markdown",
   "metadata": {
    "id": "vE3Y5tklZiP6"
   },
   "source": [
    "You can also pass custom visualizers to the `%%autovisualize` magic to let it handle the `set_scoped` boilerplate for you:"
   ]
  },
  {
   "cell_type": "code",
   "execution_count": null,
   "metadata": {
    "id": "rMesQMOm8rVb"
   },
   "outputs": [],
   "source": [
    "%%autovisualize my_plotly_autovisualizer\n",
    "{\n",
    "    \"foo\": np.arange(10)[:, None] * np.arange(10)[None, :],\n",
    "    \"bar\": np.sin(np.arange(100) * 0.1).reshape((10,10))\n",
    "}"
   ]
  },
  {
   "cell_type": "markdown",
   "metadata": {
    "id": "SPojN8So_tZJ"
   },
   "source": [
    "## Adding support for rendering custom types to Treescope"
   ]
  },
  {
   "cell_type": "markdown",
   "metadata": {
    "id": "w95k9IMB_3gD"
   },
   "source": [
    "You can customize how Treescope renders your type by implementing the `__treescope_repr__` method, with the signature\n",
    "\n",
    "```python\n",
    "class MyCustomType:\n",
    "  ...\n",
    "\n",
    "  def __treescope_repr__(\n",
    "    self,\n",
    "    path: str,\n",
    "    subtree_renderer: Callable[\n",
    "      [Any, str | None], treescope.rendering_parts.Rendering\n",
    "    ],\n",
    "  ) -> treescope.rendering_parts.Rendering | type(NotImplemented):\n",
    "    ...\n",
    "```\n",
    "\n",
    "Here `path` is a string path to this node from the root node, and `subtree_renderer` is a function that maps a child node and its path to a rendering for that child node.\n",
    "\n",
    "The type `treescope.rendering_parts.Rendering` is Treescope's internal representation of a rendered object, which can be converted to either text or HTML. The simplest way to build a rendering is to use one of the high-level helpers in `treescope.repr_lib`. For instance:"
   ]
  },
  {
   "cell_type": "code",
   "execution_count": null,
   "metadata": {
    "id": "m0gAg4QmZyoy"
   },
   "outputs": [],
   "source": [
    "class MySimpleType:\n",
    "  def __init__(self, foo):\n",
    "    self.foo = foo\n",
    "\n",
    "  def __treescope_repr__(self, path, subtree_renderer):\n",
    "    return treescope.repr_lib.render_object_constructor(\n",
    "        object_type=type(self),\n",
    "        attributes={\"foo\": self.foo},\n",
    "        path=path,\n",
    "        subtree_renderer=subtree_renderer,\n",
    "        # Pass `roundtrippable=True` only if you can rebuild your object by\n",
    "        # calling `__init__` with these attributes!\n",
    "        roundtrippable=True,\n",
    "    )"
   ]
  },
  {
   "cell_type": "code",
   "execution_count": null,
   "metadata": {
    "id": "RfzFxGopBS1x"
   },
   "outputs": [],
   "source": [
    "MySimpleType(123)"
   ]
  },
  {
   "cell_type": "markdown",
   "metadata": {
    "id": "OgeV0oMGBjn-"
   },
   "source": [
    "For more advanced customization, you can also directly build a rendering using the low-level definitions in `treescope.rendering_parts`."
   ]
  },
  {
   "cell_type": "markdown",
   "metadata": {
    "id": "ebAA65cKB3nn"
   },
   "source": [
    "If your type is an array or a tensor (like `np.ndarray` or `jax.Array`), you can also add support for automatic visualization by implementing an `NDArrayAdapter` for it. See the documentation for `treescope.ndarray_adapters.NDArrayAdapter` for details.\n",
    "\n",
    "You can then implement the special method `__treescope_ndarray_adapter__`, with signature,\n",
    "\n",
    "```python\n",
    "class MyCustomType:\n",
    "  ...\n",
    "\n",
    "  def __treescope_ndarray_adapter__(self) -> NDArrayAdapter:\n",
    "    ...\n",
    "```\n",
    "\n",
    "which should return an adapter for your type."
   ]
  },
  {
   "cell_type": "markdown",
   "metadata": {
    "id": "TKz-J2tcDAt0"
   },
   "source": [
    "(Alternatively, custom types can also be registered using the global registries `treescope.type_registries.TREESCOPE_HANDLER_REGISTRY` and `treescope.type_registries.NDARRAY_ADAPTER_REGISTRY`.)"
   ]
  },
  {
   "cell_type": "code",
   "execution_count": null,
   "metadata": {
    "id": "cDqiN8nhBydm"
   },
   "outputs": [],
   "source": []
  }
 ],
 "metadata": {
  "colab": {
   "name": "Building Custom Visualizations",
   "toc_visible": true
  },
  "kernelspec": {
   "display_name": "Python 3",
   "name": "python3"
  },
  "language_info": {
   "name": "python"
  }
 },
 "nbformat": 4,
 "nbformat_minor": 0
}
