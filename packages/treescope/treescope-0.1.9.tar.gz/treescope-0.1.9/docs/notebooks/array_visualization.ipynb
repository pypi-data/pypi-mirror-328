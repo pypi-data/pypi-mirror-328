{
 "cells": [
  {
   "cell_type": "markdown",
   "metadata": {
    "id": "DfejMHs4lr8V"
   },
   "source": [
    "*Copyright 2024 The Treescope Authors.*\n",
    "\n",
    "*Licensed under the Apache License, Version 2.0 (the \"License\"); you may not use this file except in compliance with the License.\n",
    "You may obtain a copy of the License at*\n",
    "\n",
    "> http://www.apache.org/licenses/LICENSE-2.0\n",
    "\n",
    "*Unless required by applicable law or agreed to in writing, software\n",
    "distributed under the License is distributed on an \"AS IS\" BASIS,\n",
    "WITHOUT WARRANTIES OR CONDITIONS OF ANY KIND, either express or  implied.\n",
    "See the License for the specific language governing permissions and\n",
    "limitations under the License.*\n",
    "\n",
    "---"
   ]
  },
  {
   "cell_type": "markdown",
   "metadata": {
    "id": "USGIPdLYDzSo"
   },
   "source": [
    "[![Open in Colab](https://colab.research.google.com/assets/colab-badge.svg)](https://colab.research.google.com/github/google-deepmind/treescope/blob/main/docs/notebooks/array_visualization.ipynb) [![Open in Kaggle](https://kaggle.com/static/images/open-in-kaggle.svg)](https://kaggle.com/kernels/welcome?src=https://github.com/google-deepmind/treescope/blob/main/docs/notebooks/array_visualization.ipynb)"
   ]
  },
  {
   "cell_type": "markdown",
   "metadata": {
    "id": "oFtE9mBAOjZz"
   },
   "source": [
    "# Visualizing Arrays with Treescope"
   ]
  },
  {
   "cell_type": "markdown",
   "metadata": {
    "id": "wqFoWpVI2yXc"
   },
   "source": [
    "High-dimensional NDArray (or tensor) data is common in many machine learning settings, but most plotting libraries are designed for either 2D image data or 1D time series data. Treescope includes a powerful arbitrarily-high-dimensional-array visualizer designed to make it easy to quickly summarize NDArrays without having to write manual plotting logic.\n",
    "\n",
    "This notebook is primarily written in terms of Numpy arrays, but it also works for other types of array, including JAX arrays, PyTorch tensors, and Penzai NamedArrays!"
   ]
  },
  {
   "cell_type": "markdown",
   "metadata": {
    "id": "ozG8ERNavDos"
   },
   "source": [
    "## Setup"
   ]
  },
  {
   "cell_type": "markdown",
   "metadata": {
    "id": "xmxgAcFQmZkB"
   },
   "source": [
    "To run this notebook, you need a Python environment with `treescope` and its dependencies installed.\n",
    "\n",
    "In Colab or Kaggle, you can install it using the following command:"
   ]
  },
  {
   "cell_type": "code",
   "execution_count": null,
   "metadata": {
    "id": "XGZH58j8mPkj"
   },
   "outputs": [],
   "source": [
    "try:\n",
    "  import treescope\n",
    "except ImportError:\n",
    "  !pip install treescope"
   ]
  },
  {
   "cell_type": "code",
   "execution_count": null,
   "metadata": {
    "id": "vAhcEtfCoJ4F"
   },
   "outputs": [],
   "source": [
    "import os\n",
    "os.environ[\"XLA_FLAGS\"] = \"--xla_force_host_platform_device_count=8\""
   ]
  },
  {
   "cell_type": "code",
   "execution_count": null,
   "metadata": {
    "id": "iog3oMAMGCMG"
   },
   "outputs": [],
   "source": [
    "from __future__ import annotations\n",
    "from typing import Any\n",
    "\n",
    "import jax\n",
    "import jax.numpy as jnp\n",
    "import numpy as np\n",
    "\n",
    "import IPython"
   ]
  },
  {
   "cell_type": "code",
   "execution_count": null,
   "metadata": {
    "id": "5Mh2mAuiQ4aa"
   },
   "outputs": [],
   "source": [
    "import treescope\n",
    "treescope.register_autovisualize_magic()"
   ]
  },
  {
   "cell_type": "markdown",
   "metadata": {
    "id": "6ntf-nE0-VE4"
   },
   "source": [
    "## Visualizing NDArrays with `treescope.render_array`"
   ]
  },
  {
   "cell_type": "markdown",
   "metadata": {
    "id": "6vbXaZNiQUGq"
   },
   "source": [
    "### Visualizing numeric data and customizing colormaps"
   ]
  },
  {
   "cell_type": "markdown",
   "metadata": {
    "id": "H6B6VQ12LpvM"
   },
   "source": [
    "Arrays can be directly rendered using default settings by passing them to `treescope.render_array`:"
   ]
  },
  {
   "cell_type": "code",
   "execution_count": null,
   "metadata": {
    "id": "a8E1eeEEVUSv"
   },
   "outputs": [],
   "source": [
    "help(treescope.render_array)"
   ]
  },
  {
   "cell_type": "code",
   "execution_count": null,
   "metadata": {
    "id": "0-DUVmojNu_z"
   },
   "outputs": [],
   "source": [
    "my_array = np.cos(np.arange(300).reshape((10,30)) * 0.2)\n",
    "\n",
    "treescope.render_array(my_array)"
   ]
  },
  {
   "cell_type": "markdown",
   "metadata": {
    "id": "Jbcit2tROmBZ"
   },
   "source": [
    "Things to notice:\n",
    "- The visualization is interactive! (Try zooming in and out, hovering over the array to inspect individual elements, or clicking to remember a particular element.)\n",
    "- The shape of the array can be read off by looking at the axis labels.\n",
    "- Pixels are *always* square in arrayviz renderings. (In fact, they are always exactly 7 pixels by 7 pixels at zoom level 1.)\n",
    "\n",
    "The default rendering strategy uses a diverging colormap centered at zero, with blue for positive numbers and red for negative ones, to show you the absolute magnitude and sign of the array. You can toggle to a relative mode by passing the argument `around_zero=False`:"
   ]
  },
  {
   "cell_type": "code",
   "execution_count": null,
   "metadata": {
    "id": "rCSQS1gqPmje"
   },
   "outputs": [],
   "source": [
    "treescope.render_array(my_array, around_zero=False)"
   ]
  },
  {
   "cell_type": "markdown",
   "metadata": {
    "id": "-0UjK67xPq6E"
   },
   "source": [
    "You can also customize the upper and lower bounds of the colormap by passing `vmin` and/or `vmax`:"
   ]
  },
  {
   "cell_type": "code",
   "execution_count": null,
   "metadata": {
    "id": "gvBP5AcWPzOw"
   },
   "outputs": [],
   "source": [
    "treescope.render_array(my_array, vmax=0.7)"
   ]
  },
  {
   "cell_type": "markdown",
   "metadata": {
    "id": "RGG6_zNUQL_g"
   },
   "source": [
    "In this case, the array has values outside of our specified colormap bounds; those out-of-bounds values are rendered with \"+\" and \"-\" to indicate that they've been clipped.\n",
    "\n",
    "Since we didn't pass `around_zero=False`, it automatically set `vmin` to `-vmax` for us. You can choose to set both explicitly too:"
   ]
  },
  {
   "cell_type": "code",
   "execution_count": null,
   "metadata": {
    "id": "nPYDX3L5Q6bB"
   },
   "outputs": [],
   "source": [
    "treescope.render_array(my_array, vmin=-0.1, vmax=0.7)"
   ]
  },
  {
   "cell_type": "markdown",
   "metadata": {
    "id": "Q6l5x9x3ZAKn"
   },
   "source": [
    "If you want to customize the way colors are rendered, you can pass a custom colormap as a list of (R, G, B) color tuples:"
   ]
  },
  {
   "cell_type": "code",
   "execution_count": null,
   "metadata": {
    "id": "4xr_Rki-Y88T"
   },
   "outputs": [],
   "source": [
    "import palettable\n",
    "treescope.render_array(my_array, colormap=palettable.matplotlib.Inferno_20.colors)"
   ]
  },
  {
   "cell_type": "code",
   "execution_count": null,
   "metadata": {
    "id": "CTkyyqAtZXKZ"
   },
   "outputs": [],
   "source": [
    "treescope.render_array(my_array, colormap=palettable.cmocean.sequential.Speed_20.colors)"
   ]
  },
  {
   "cell_type": "markdown",
   "metadata": {
    "id": "7w-aT3u2Y0cT"
   },
   "source": [
    "### Visualizing high-dimensional arrays"
   ]
  },
  {
   "cell_type": "markdown",
   "metadata": {
    "id": "F2aBzIAnRJeD"
   },
   "source": [
    "So far we've been looking at an array with two axes, but Treescope's array renderer works out-of-the-box with arbitrarily high-dimensional arrays as well:"
   ]
  },
  {
   "cell_type": "code",
   "execution_count": null,
   "metadata": {
    "id": "IeEoiTKuRi92"
   },
   "outputs": [],
   "source": [
    "my_4d_array = np.cos(np.arange(5*6*7*8).reshape((5,6,7,8)) * 0.1)\n",
    "treescope.render_array(my_4d_array)"
   ]
  },
  {
   "cell_type": "markdown",
   "metadata": {
    "id": "sf7a19qkR5D2"
   },
   "source": [
    "For high-dimensional arrays, the individual axis labels indicate which level of the plot corresponds to which axis. Above, each 7x8 square facet represents a slice `my_4d_array[i,j,:,:]`, with individual pixels ranging along axis 2 and axis 3; this is denoted by the `axis2` and `axis3` labels for that facet. The six columns correspond to slices along axis 1, and the five rows correspond to slices along axis 0, as denoted by the outermost labels for those axes.\n",
    "\n",
    "You can control which axes get assigned to which direction if you want, specified from innermost to outermost:"
   ]
  },
  {
   "cell_type": "code",
   "execution_count": null,
   "metadata": {
    "id": "J6DfxcUmTDLa"
   },
   "outputs": [],
   "source": [
    "treescope.render_array(my_4d_array, columns=[2, 0, 1])"
   ]
  },
  {
   "cell_type": "markdown",
   "metadata": {
    "id": "Y9seG4JCTRJU"
   },
   "source": [
    "Note that the gap between the \"axis0\" groups is twice as large as the gap between \"axis2\" groups, so that you can visually distinguish the groups."
   ]
  },
  {
   "cell_type": "markdown",
   "metadata": {
    "id": "C_gVKOztoji8"
   },
   "source": [
    "Treescope can also visualize Penzai's `NamedArray`, and takes labels from them. This means that, if your code is written with `NamedArrays`, you get labeled visualizations for free!"
   ]
  },
  {
   "cell_type": "code",
   "execution_count": null,
   "metadata": {
    "id": "5XwzlmmWzWu1"
   },
   "outputs": [],
   "source": [
    "from penzai import pz\n",
    "my_named_array = pz.nx.wrap(\n",
    "    jax.random.normal(jax.random.key(1), (10, 4, 16)),\n",
    ").tag(\"query_seq\", \"heads\", \"embed\")\n",
    "\n",
    "treescope.render_array(my_named_array, columns=[\"embed\", \"heads\"])"
   ]
  },
  {
   "cell_type": "markdown",
   "metadata": {
    "id": "ea1MMEHuzXJr"
   },
   "source": [
    "(See the [NamedArray tutorial](https://penzai.readthedocs.io/en/stable/notebooks/named_axes.html) for more information on how `NamedArray`s work in penzai.)"
   ]
  },
  {
   "cell_type": "markdown",
   "metadata": {
    "id": "VIrm5UlyY4QY"
   },
   "source": [
    "### Identifying extreme or invalid array values"
   ]
  },
  {
   "cell_type": "markdown",
   "metadata": {
    "id": "Su-X6g5-attZ"
   },
   "source": [
    "By default, Treescope's array renderer tries to configure the colormap to show interesting detail, clipping outliers. Specifically, it limits the colormap to 3 standard deviations away from the mean (or, technically, from zero if `around_zero` is set):"
   ]
  },
  {
   "cell_type": "code",
   "execution_count": null,
   "metadata": {
    "id": "t8u4j4EdaxHU"
   },
   "outputs": [],
   "source": [
    "my_outlier_array = np.cos(np.arange(300).reshape((10,30)) * 0.2)\n",
    "my_outlier_array[4, 2] = 10.0\n",
    "treescope.render_array(my_outlier_array)"
   ]
  },
  {
   "cell_type": "markdown",
   "metadata": {
    "id": "5VAOYRq-ZyIO"
   },
   "source": [
    "It also annotates any invalid array values by drawing annotations on top of the visualization:"
   ]
  },
  {
   "cell_type": "code",
   "execution_count": null,
   "metadata": {
    "id": "IxfiNau-Z-Ce"
   },
   "outputs": [],
   "source": [
    "numerator = np.linspace(-5, 5, 31)\n",
    "denominator = np.linspace(-1, 1, 13)\n",
    "array_with_infs_and_nans = numerator[None, :] / denominator[:, None]\n",
    "treescope.render_array(array_with_infs_and_nans)"
   ]
  },
  {
   "cell_type": "markdown",
   "metadata": {
    "id": "E5PEwhkxbQBJ"
   },
   "source": [
    "Above, \"`I`\" (white on a blue background) denotes positive infinity, \"`-I`\" (white on a red background) denotes negative infinity, and \"`X`\" (in magenta on a black background) denotes NaN. (You can also see the outlier-clipping behavior clipping a few of the largest finite values here.)\n",
    "\n",
    "This works in relative mode too:"
   ]
  },
  {
   "cell_type": "code",
   "execution_count": null,
   "metadata": {
    "id": "QLQMXGKxbqrF"
   },
   "outputs": [],
   "source": [
    "treescope.render_array(array_with_infs_and_nans, around_zero=False)"
   ]
  },
  {
   "cell_type": "markdown",
   "metadata": {
    "id": "HKxslwhycGft"
   },
   "source": [
    "If you want, you can mask out data by providing a \"valid mask\". Only values where the mask is True will be rendered; masked-out data is shown in gray with black dots."
   ]
  },
  {
   "cell_type": "code",
   "execution_count": null,
   "metadata": {
    "id": "nEXvix0Fbt3q"
   },
   "outputs": [],
   "source": [
    "valid_mask = np.isfinite(array_with_infs_and_nans) & (np.abs(array_with_infs_and_nans) < 10)\n",
    "treescope.render_array(\n",
    "    array_with_infs_and_nans,\n",
    "    valid_mask=valid_mask,\n",
    ")"
   ]
  },
  {
   "cell_type": "markdown",
   "metadata": {
    "id": "gimiV6I4eUrP"
   },
   "source": [
    "### Visualizing categorical data"
   ]
  },
  {
   "cell_type": "markdown",
   "metadata": {
    "id": "EaCaci-CeyC2"
   },
   "source": [
    "Treescope's array renderer also supports rendering categorical data, even with very high numbers of categories. Data with a discrete (integer or boolean) dtype is rendered as categorical by default, with different colors for different categories:"
   ]
  },
  {
   "cell_type": "code",
   "execution_count": null,
   "metadata": {
    "id": "7MDcKPzHfBrw"
   },
   "outputs": [],
   "source": [
    "treescope.render_array(np.arange(10))"
   ]
  },
  {
   "cell_type": "code",
   "execution_count": null,
   "metadata": {
    "id": "_bgeOkAYgaZL"
   },
   "outputs": [],
   "source": [
    "treescope.render_array(np.array([True, False, False, True, True]))"
   ]
  },
  {
   "cell_type": "markdown",
   "metadata": {
    "id": "y54jnFylfFTk"
   },
   "source": [
    "The values from 0 to 9 are rendered with solid colors, with 0 represented as white. Larger numbers are rendered using nested box patterns, with one box per digit of the number, and the color of the box indicating the value of the digit:"
   ]
  },
  {
   "cell_type": "code",
   "execution_count": null,
   "metadata": {
    "id": "cetILrfWfN0Y"
   },
   "outputs": [],
   "source": [
    "treescope.render_array(np.arange(1000).reshape((10,100)))"
   ]
  },
  {
   "cell_type": "code",
   "execution_count": null,
   "metadata": {
    "id": "iUNNx09qAYz2"
   },
   "outputs": [],
   "source": [
    "treescope.render_array(\n",
    "    jnp.arange(20)[:, None] * jnp.arange(20)[None, :]\n",
    ")"
   ]
  },
  {
   "cell_type": "markdown",
   "metadata": {
    "id": "u1mYYfTKfd-M"
   },
   "source": [
    "You can also render a single integer on its own, if you want (sometimes useful for custom visualizations). Arrayviz supports integers with up to 7 digits."
   ]
  },
  {
   "cell_type": "code",
   "execution_count": null,
   "metadata": {
    "id": "A9pkQ0MKfz7n"
   },
   "outputs": [],
   "source": [
    "treescope.integer_digitbox(42, size=\"30px\")"
   ]
  },
  {
   "cell_type": "code",
   "execution_count": null,
   "metadata": {
    "id": "nu3KWRExfwGG"
   },
   "outputs": [],
   "source": [
    "treescope.integer_digitbox(1234, size=\"30px\")"
   ]
  },
  {
   "cell_type": "code",
   "execution_count": null,
   "metadata": {
    "id": "HBvrVg5pf4MA"
   },
   "outputs": [],
   "source": [
    "treescope.integer_digitbox(7654321, size=\"30px\")"
   ]
  },
  {
   "cell_type": "markdown",
   "metadata": {
    "id": "8JEh4zy-gDXf"
   },
   "source": [
    "Negatigve integers render the same way as positive ones, but with a black triangle in the corner indicating the sign:"
   ]
  },
  {
   "cell_type": "code",
   "execution_count": null,
   "metadata": {
    "id": "YSUOlkY4gH0M"
   },
   "outputs": [],
   "source": [
    "treescope.render_array(np.arange(21 * 21).reshape((21, 21)) - 220)"
   ]
  },
  {
   "cell_type": "markdown",
   "metadata": {
    "id": "Hpum96yAg-bk"
   },
   "source": [
    "If your data has a discrete dtype but you don't want to render it as categorical, you can pass the `continuous` flag to render it as numeric instead:"
   ]
  },
  {
   "cell_type": "code",
   "execution_count": null,
   "metadata": {
    "id": "DWAm8rADhETI"
   },
   "outputs": [],
   "source": [
    "treescope.render_array(np.arange(21 * 21).reshape((21, 21)) - 220, continuous=True)"
   ]
  },
  {
   "cell_type": "markdown",
   "metadata": {
    "id": "pKXArtbKCzFa"
   },
   "source": [
    "### Adding axis labels"
   ]
  },
  {
   "cell_type": "markdown",
   "metadata": {
    "id": "b96r5F6QtZXQ"
   },
   "source": [
    "Individual axes of arrays often have some semantic meaning, e.g. the \"batch\" or \"features\" axes. If you're using named axes, Treescope will pick those up automatically! But you can also provide them explicitly:"
   ]
  },
  {
   "cell_type": "code",
   "execution_count": null,
   "metadata": {
    "id": "G4NeaYJNtkUI"
   },
   "outputs": [],
   "source": [
    "treescope.render_array(\n",
    "    jnp.arange(20)[:, None] * jnp.arange(20)[None, :],\n",
    "    axis_labels={0: \"foo\", 1: \"bar\"},\n",
    ")"
   ]
  },
  {
   "cell_type": "markdown",
   "metadata": {
    "id": "MWmrQ11jC8Sh"
   },
   "source": [
    "For some arrays, it can also be useful to associate labels with the individual indices along each axis. For instance, we might want to label a \"classes\" axis with each individual class, or a \"sequence\" axis with the tokens of the sequence.\n",
    "\n",
    "Treescope's array renderer allows you to pass this kind of metadata as an extra argument, and will show it to you when you hover over or click on elements of the array with your mouse.\n",
    "\n",
    "For positional axes, you can pass any subset of the axes by position:"
   ]
  },
  {
   "cell_type": "code",
   "execution_count": null,
   "metadata": {
    "id": "0MvNn5lWDvDT"
   },
   "outputs": [],
   "source": [
    "# Try hovering or clicking:\n",
    "treescope.render_array(\n",
    "    np.sin(np.linspace(0, 100, 12 * 5 * 7)).reshape((12, 5, 7)),\n",
    "    axis_item_labels={\n",
    "        1: [\"foo\", \"bar\", \"baz\", \"qux\", \"xyz\"],\n",
    "        0: [\"one\", \"two\", \"three\", \"four\", \"five\", \"six\", \"seven\", \"eight\", \"nine\", \"ten\", \"eleven\", \"twelve\"],\n",
    "    }\n",
    ")"
   ]
  },
  {
   "cell_type": "markdown",
   "metadata": {
    "id": "0bnMYhPKEdSP"
   },
   "source": [
    "For named axes, you can pass labels by name. Irrelevant labels are simply ignored."
   ]
  },
  {
   "cell_type": "markdown",
   "metadata": {
    "id": "5kObsmmQFE-7"
   },
   "source": [
    "### Slicing and \"scrubbing\" with sliders"
   ]
  },
  {
   "cell_type": "markdown",
   "metadata": {
    "id": "YgtQWv2NFRtA"
   },
   "source": [
    "It's sometimes useful to only look at individual slices of a large array at a time, instead of viewing them all at once. In addition to the `columns` and `rows` arguments, `render_array` supports a `sliders` argument, which will display a slider for those axes and allow you to \"scrub\" through indices in it:"
   ]
  },
  {
   "cell_type": "code",
   "execution_count": null,
   "metadata": {
    "id": "Pkgl3zbNF4nn"
   },
   "outputs": [],
   "source": [
    "time = jnp.arange(100)[:, None, None]\n",
    "col = np.linspace(-2, 2, 15)[None, :, None]\n",
    "row = np.linspace(-2, 2, 15)[None, None, :]\n",
    "\n",
    "values_over_time = jax.nn.sigmoid(\n",
    "    0.05 * time - 2 - row - jnp.sin(2 * col - 0.1 * time)\n",
    ")\n",
    "\n",
    "# Try sliding the slider:\n",
    "treescope.render_array(\n",
    "    values_over_time,\n",
    "    columns=[1],\n",
    "    sliders=[0],\n",
    "    axis_labels={\n",
    "        0: \"time\",\n",
    "        1: \"row\",\n",
    "        2: \"col\",\n",
    "    }\n",
    ")"
   ]
  },
  {
   "cell_type": "markdown",
   "metadata": {
    "id": "ID_TW7jsG9tW"
   },
   "source": [
    "You can even put sliders for multiple axes simultaneously, if you want:"
   ]
  },
  {
   "cell_type": "code",
   "execution_count": null,
   "metadata": {
    "id": "IpmWFhP7HDKV"
   },
   "outputs": [],
   "source": [
    "row_wavelength = (4 * jnp.arange(10) + 4)[:, None, None, None]\n",
    "col_wavelength = (4 * jnp.arange(10) + 4)[None, :, None, None]\n",
    "col = np.arange(15)[None, None, :, None]\n",
    "row = np.arange(15)[None, None, None, :]\n",
    "\n",
    "values = (\n",
    "    jnp.sin(2 * np.pi * row / row_wavelength)\n",
    "    * jnp.sin(2 * np.pi * col / col_wavelength)\n",
    ")\n",
    "\n",
    "# Try sliding the slider:\n",
    "treescope.render_array(\n",
    "    values,\n",
    "    columns=[2],\n",
    "    sliders=[0, 1],\n",
    "    axis_item_labels={\n",
    "        0: [str(v) for v in row_wavelength.squeeze((1, 2, 3))],\n",
    "        1: [str(v) for v in col_wavelength.squeeze((0, 2, 3))],\n",
    "    },\n",
    "    axis_labels={\n",
    "        0: \"row_wavelength\",\n",
    "        1: \"col_wavelength\",\n",
    "        2: \"row\",\n",
    "        3: \"col\",\n",
    "    }\n",
    ")"
   ]
  },
  {
   "cell_type": "markdown",
   "metadata": {
    "id": "MSumXC_tIf4x"
   },
   "source": [
    "### Note: Memory usage"
   ]
  },
  {
   "cell_type": "markdown",
   "metadata": {
    "id": "YJ-NP55LIiEi"
   },
   "source": [
    "One caveat to using `render_array`: whenever you render an array, the *entire array* is serialized, saved directly into the notebook output cell, and then loaded into your browser's memory! That's true even if you use `sliders`; although only part of your array is visible, all of the data is there in the notebook and in your local browser, so that it can update the view when you move the slider.\n",
    "\n",
    "This can sometimes be useful, since it means the visualization does not require Colab/IPython to be connected, and won't mess up any of your Python interpreter's state. On the other hand, it's easy to end up with very large Colab notebooks this way, and if you have many visualizations open, it can cause your web browser to bog down a bit. For a sense of scale here, a visualization of a `1000 x 1000` array adds about 5 megabytes to the size of your notebook. (Treescope will still happily render an array of that size, though!)\n",
    "\n",
    "Given this, it's usually a good idea to avoid saving visualizations of very large arrays into the notebook. One way to do this is to turn on \"Omit code cell output when saving this notebook\" mode in Colab to avoid saving output from any cell."
   ]
  },
  {
   "cell_type": "markdown",
   "metadata": {
    "id": "IKpx17ATn_zg"
   },
   "source": [
    "## Visualizing array shardings (JAX only)"
   ]
  },
  {
   "cell_type": "markdown",
   "metadata": {
    "id": "zbmzLF7rpWFz"
   },
   "source": [
    "If you're using JAX, Treescope also includes utilities for visualizing array shardings. This allows you to see how arrays are laid out across your various devices. For instance, let's shard an array over eight devices:"
   ]
  },
  {
   "cell_type": "code",
   "execution_count": null,
   "metadata": {
    "id": "DB7ywoGRNL1e"
   },
   "outputs": [],
   "source": [
    "from jax.experimental import mesh_utils\n",
    "devices = mesh_utils.create_device_mesh((8,))\n",
    "pos_sharding = jax.sharding.PositionalSharding(devices).reshape((4, 2))\n",
    "\n",
    "sharded_array = jax.device_put(\n",
    "    jnp.arange(512).reshape((16, 32)), pos_sharding\n",
    ")"
   ]
  },
  {
   "cell_type": "markdown",
   "metadata": {
    "id": "A0BXLtlANv2O"
   },
   "source": [
    "We can render the sharding of this array using `treescope.render_array_sharding`:"
   ]
  },
  {
   "cell_type": "code",
   "execution_count": null,
   "metadata": {
    "id": "s3MesweYOqK2"
   },
   "outputs": [],
   "source": [
    "treescope.render_array_sharding(sharded_array)"
   ]
  },
  {
   "cell_type": "markdown",
   "metadata": {
    "id": "t2g5ruCCp6A2"
   },
   "source": [
    "This shows which device each array element is stored on.\n",
    "\n",
    "Array shardings are also shown whenever you visualize an array with the default array autovisualizer:"
   ]
  },
  {
   "cell_type": "code",
   "execution_count": null,
   "metadata": {
    "id": "6pi-eBGcrk-D"
   },
   "outputs": [],
   "source": [
    "%%autovisualize\n",
    "treescope.display(sharded_array)"
   ]
  },
  {
   "cell_type": "markdown",
   "metadata": {
    "id": "6P3Ea1nxqKJc"
   },
   "source": [
    "And you can look at the sharding object itself too:"
   ]
  },
  {
   "cell_type": "code",
   "execution_count": null,
   "metadata": {
    "id": "p5V3hxO-rrRx"
   },
   "outputs": [],
   "source": [
    "%%autovisualize\n",
    "treescope.display(pos_sharding)"
   ]
  },
  {
   "cell_type": "markdown",
   "metadata": {
    "id": "dvCCvIoH-3T4"
   },
   "source": [
    "## Using the array autovisualizer"
   ]
  },
  {
   "cell_type": "markdown",
   "metadata": {
    "id": "8Pgr1EOtuAIg"
   },
   "source": [
    "Treescope includes an automatic array visualizer, `treescope.ArrayAutovisualizer`, which will render arrays automatically whenever they are encountered inside a pretty-printed object.\n",
    "\n",
    "Array autovisualization is enabled by default if you run `treescope.basic_interactive_setup()`. However, you can customize the way arrays are visualized by changing the autovisualizer settings, either for a particular output or globally.\n",
    "\n",
    "For instance, to change the maximum size of automatic visualizations in a cell, you could run"
   ]
  },
  {
   "cell_type": "code",
   "execution_count": null,
   "metadata": {
    "id": "Jz4Dd7JSv5fh"
   },
   "outputs": [],
   "source": [
    "%%autovisualize treescope.ArrayAutovisualizer(maximum_size=100)\n",
    "\n",
    "treescope.display(sharded_array)"
   ]
  },
  {
   "cell_type": "markdown",
   "metadata": {
    "id": "4U1hbZhVwOPl"
   },
   "source": [
    "To change it inside a scoped Python block, you can run"
   ]
  },
  {
   "cell_type": "code",
   "execution_count": null,
   "metadata": {
    "id": "0qk4MBLxwQ5c"
   },
   "outputs": [],
   "source": [
    "with treescope.active_autovisualizer.set_scoped(\n",
    "    treescope.ArrayAutovisualizer(maximum_size=100)\n",
    "):\n",
    "  treescope.display(sharded_array)"
   ]
  },
  {
   "cell_type": "markdown",
   "metadata": {
    "id": "_lr6QfkNwBdH"
   },
   "source": [
    "Or, to change it globally:"
   ]
  },
  {
   "cell_type": "code",
   "execution_count": null,
   "metadata": {
    "id": "HFGeAz4ZwC0C"
   },
   "outputs": [],
   "source": [
    "treescope.active_autovisualizer.set_globally(\n",
    "    treescope.ArrayAutovisualizer(maximum_size=100)\n",
    ")"
   ]
  },
  {
   "cell_type": "markdown",
   "metadata": {
    "id": "eMXWN4RnwYrD"
   },
   "source": [
    "See the separate [\"Building Custom Visualizations\" tutorial](building_custom_visualizations.ipynb) for more info on how to customize automatic visualization!"
   ]
  },
  {
   "cell_type": "code",
   "execution_count": null,
   "metadata": {
    "id": "fsD23x45K4be"
   },
   "outputs": [],
   "source": []
  }
 ],
 "metadata": {
  "colab": {
   "name": "Visualizing Arrays with Treescope",
   "toc_visible": true
  },
  "kernelspec": {
   "display_name": "Python 3",
   "name": "python3"
  },
  "language_info": {
   "name": "python"
  }
 },
 "nbformat": 4,
 "nbformat_minor": 0
}
