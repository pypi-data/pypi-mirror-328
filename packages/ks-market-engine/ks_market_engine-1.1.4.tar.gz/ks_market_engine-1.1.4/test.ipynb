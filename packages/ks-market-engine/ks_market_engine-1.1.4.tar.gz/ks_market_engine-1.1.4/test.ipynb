{
 "cells": [
  {
   "cell_type": "code",
   "execution_count": 1,
   "metadata": {},
   "outputs": [
    {
     "name": "stdout",
     "output_type": "stream",
     "text": [
      "\u001b[0;30m2025-02-14 17:18:22,426 | 147276 | [open_context_base.py] _wait_reconnect:482: Wait reconnect in 0 seconds: host=127.0.0.1; port=11111;\u001b[0m\n",
      "\u001b[0;30m2025-02-14 17:18:22,429 | 147276 | [open_context_base.py] _send_init_connect_sync:311: InitConnect ok: conn_id=1, host=127.0.0.1, port=11111, user_id=17300745\u001b[0m\n"
     ]
    },
    {
     "name": "stderr",
     "output_type": "stream",
     "text": [
      "[KsFutuMarketApi.init_handlers:148]Futu OpenD连接成功\n"
     ]
    },
    {
     "name": "stdout",
     "output_type": "stream",
     "text": [
      "     vt_symbol                  datetime interval  volume     turnover   open  \\\n",
      "0   00700.SEHK 2025-02-14 15:40:00+08:00      1分钟   84300   39602520.0  469.8   \n",
      "1   00700.SEHK 2025-02-14 15:41:00+08:00      1分钟  166700   78348030.0  470.0   \n",
      "2   00700.SEHK 2025-02-14 15:42:00+08:00      1分钟  131400   61770980.0  470.2   \n",
      "3   00700.SEHK 2025-02-14 15:43:00+08:00      1分钟  119700   56298980.0  470.2   \n",
      "4   00700.SEHK 2025-02-14 15:44:00+08:00      1分钟  317100  149166090.0  470.2   \n",
      "5   00700.SEHK 2025-02-14 15:45:00+08:00      1分钟  272600  128107580.0  469.8   \n",
      "6   00700.SEHK 2025-02-14 15:46:00+08:00      1分钟  341400  160696590.0  470.4   \n",
      "7   00700.SEHK 2025-02-14 15:47:00+08:00      1分钟  201600   94988770.0  471.0   \n",
      "8   00700.SEHK 2025-02-14 15:48:00+08:00      1分钟  309700  146037930.0  471.2   \n",
      "9   00700.SEHK 2025-02-14 15:49:00+08:00      1分钟  127500   60123655.6  471.6   \n",
      "10  00700.SEHK 2025-02-14 15:50:00+08:00      1分钟  160600   75710578.0  471.4   \n",
      "11  00700.SEHK 2025-02-14 15:51:00+08:00      1分钟  327200  154319740.0  471.4   \n",
      "12  00700.SEHK 2025-02-14 15:52:00+08:00      1分钟  304000  143472030.0  472.0   \n",
      "13  00700.SEHK 2025-02-14 15:53:00+08:00      1分钟  379500  179175950.0  472.0   \n",
      "14  00700.SEHK 2025-02-14 15:54:00+08:00      1分钟  218400  103188180.0  472.2   \n",
      "15  00700.SEHK 2025-02-14 15:55:00+08:00      1分钟  249800  118073762.0  472.6   \n",
      "16  00700.SEHK 2025-02-14 15:56:00+08:00      1分钟  617000  291660038.0  472.8   \n",
      "17  00700.SEHK 2025-02-14 15:57:00+08:00      1分钟  386700  182888826.1  472.8   \n",
      "18  00700.SEHK 2025-02-14 15:58:00+08:00      1分钟  205200   97110196.7  473.2   \n",
      "19  00700.SEHK 2025-02-14 15:59:00+08:00      1分钟  393200  185978833.6  473.4   \n",
      "\n",
      "     high    low  close  \n",
      "0   470.0  469.6  470.0  \n",
      "1   470.2  469.8  470.2  \n",
      "2   470.2  469.8  470.2  \n",
      "3   470.4  470.2  470.4  \n",
      "4   470.8  469.8  470.0  \n",
      "5   470.4  469.6  470.4  \n",
      "6   471.2  470.0  470.8  \n",
      "7   471.4  470.8  471.2  \n",
      "8   471.8  471.2  471.6  \n",
      "9   471.8  471.4  471.4  \n",
      "10  471.6  471.2  471.6  \n",
      "11  472.0  471.4  471.8  \n",
      "12  472.0  471.8  472.0  \n",
      "13  472.4  471.8  472.2  \n",
      "14  472.6  472.2  472.6  \n",
      "15  472.8  472.4  472.8  \n",
      "16  473.0  472.4  472.8  \n",
      "17  473.2  472.6  473.0  \n",
      "18  473.4  473.0  473.2  \n",
      "19  473.4  472.4  472.8  \n"
     ]
    }
   ],
   "source": [
    "from ks_futu_market_api import KsFutuMarketApi\n",
    "from ks_trade_api.constant import SubscribeType, RET_OK, RET_ERROR, Interval, Adjustment\n",
    "\n",
    "symbol = '00700.SEHK'\n",
    "interval = Interval.MINUTE\n",
    "\n",
    "api = KsFutuMarketApi({})\n",
    "api.subscribe(symbol, [SubscribeType.BOOK, SubscribeType.K_MINUTE])\n",
    "\n",
    "ret_k, data_k = api.query_history_n(symbol, 20, interval=interval, adjustment=Adjustment.BACKWARD_ADJUSTMENT)\n",
    "if ret_k == RET_OK:\n",
    "    print(data_k)\n",
    "\n"
   ]
  },
  {
   "cell_type": "code",
   "execution_count": 2,
   "metadata": {},
   "outputs": [
    {
     "data": {
      "text/plain": [
       "{'upper': Decimal('473.6998837177856852637352894'),\n",
       " 'mid': Decimal('471.55'),\n",
       " 'lower': Decimal('469.4001162822143147362647106')}"
      ]
     },
     "execution_count": 2,
     "metadata": {},
     "output_type": "execute_result"
    }
   ],
   "source": [
    "from ks_trade_api.indicator import boll\n",
    "boll(data_k['close'].tolist())"
   ]
  },
  {
   "cell_type": "code",
   "execution_count": null,
   "metadata": {},
   "outputs": [],
   "source": []
  }
 ],
 "metadata": {
  "kernelspec": {
   "display_name": "vnpy",
   "language": "python",
   "name": "python3"
  },
  "language_info": {
   "codemirror_mode": {
    "name": "ipython",
    "version": 3
   },
   "file_extension": ".py",
   "mimetype": "text/x-python",
   "name": "python",
   "nbconvert_exporter": "python",
   "pygments_lexer": "ipython3",
   "version": "3.10.14"
  }
 },
 "nbformat": 4,
 "nbformat_minor": 2
}
