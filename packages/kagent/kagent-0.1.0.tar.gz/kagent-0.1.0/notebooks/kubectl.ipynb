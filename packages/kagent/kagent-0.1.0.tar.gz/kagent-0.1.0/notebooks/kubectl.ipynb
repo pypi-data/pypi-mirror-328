{
 "cells": [
  {
   "cell_type": "code",
   "execution_count": 1,
   "metadata": {},
   "outputs": [
    {
     "name": "stdout",
     "output_type": "stream",
     "text": [
      "---------- user ----------\n",
      "get all services in the default namespace\n",
      "---------- k8s_agent ----------\n",
      "[FunctionCall(id='call_s0XjIDQPpCSSqDnNa4JdwlfH', arguments='{\"service_name\":null,\"all_namespaces\":false,\"ns\":\"default\",\"output\":\"wide\"}', name='get_services')]\n",
      "---------- k8s_agent ----------\n",
      "[FunctionExecutionResult(content='NAME          TYPE        CLUSTER-IP      EXTERNAL-IP   PORT(S)    AGE     SELECTOR\\ndetails       ClusterIP   10.96.160.120   <none>        9080/TCP   3h39m   app=details\\nkubernetes    ClusterIP   10.96.0.1       <none>        443/TCP    5h54m   <none>\\nproductpage   ClusterIP   10.96.255.254   <none>        9080/TCP   3h39m   app=productpage\\nratings       ClusterIP   10.96.51.113    <none>        9080/TCP   3h39m   app=ratings\\nreviews       ClusterIP   10.96.228.62    <none>        9080/TCP   3h39m   app=reviews\\n', call_id='call_s0XjIDQPpCSSqDnNa4JdwlfH')]\n",
      "---------- k8s_agent ----------\n",
      "NAME          TYPE        CLUSTER-IP      EXTERNAL-IP   PORT(S)    AGE     SELECTOR\n",
      "details       ClusterIP   10.96.160.120   <none>        9080/TCP   3h39m   app=details\n",
      "kubernetes    ClusterIP   10.96.0.1       <none>        443/TCP    5h54m   <none>\n",
      "productpage   ClusterIP   10.96.255.254   <none>        9080/TCP   3h39m   app=productpage\n",
      "ratings       ClusterIP   10.96.51.113    <none>        9080/TCP   3h39m   app=ratings\n",
      "reviews       ClusterIP   10.96.228.62    <none>        9080/TCP   3h39m   app=reviews\n",
      "\n",
      "---------- k8s_agent ----------\n",
      "Here are all the services in the default namespace:\n",
      "\n",
      "1. **details**\n",
      "   - **Type:** ClusterIP\n",
      "   - **Cluster-IP:** 10.96.160.120\n",
      "   - **Port(s):** 9080/TCP\n",
      "   - **Selector:** app=details\n",
      "   - **Age:** 3h39m\n",
      "\n",
      "2. **kubernetes**\n",
      "   - **Type:** ClusterIP\n",
      "   - **Cluster-IP:** 10.96.0.1\n",
      "   - **Port(s):** 443/TCP\n",
      "   - **Selector:** <none>\n",
      "   - **Age:** 5h54m\n",
      "\n",
      "3. **productpage**\n",
      "   - **Type:** ClusterIP\n",
      "   - **Cluster-IP:** 10.96.255.254\n",
      "   - **Port(s):** 9080/TCP\n",
      "   - **Selector:** app=productpage\n",
      "   - **Age:** 3h39m\n",
      "\n",
      "4. **ratings**\n",
      "   - **Type:** ClusterIP\n",
      "   - **Cluster-IP:** 10.96.51.113\n",
      "   - **Port(s):** 9080/TCP\n",
      "   - **Selector:** app=ratings\n",
      "   - **Age:** 3h39m\n",
      "\n",
      "5. **reviews**\n",
      "   - **Type:** ClusterIP\n",
      "   - **Cluster-IP:** 10.96.228.62\n",
      "   - **Port(s):** 9080/TCP\n",
      "   - **Selector:** app=reviews\n",
      "   - **Age:** 3h39m\n",
      "\n",
      "If you need further information or have any other tasks, let me know!\n",
      "---------- k8s_agent ----------\n",
      "TERMINATE\n"
     ]
    },
    {
     "data": {
      "text/plain": [
       "TaskResult(messages=[TextMessage(source='user', models_usage=None, content='get all services in the default namespace', type='TextMessage'), ToolCallRequestEvent(source='k8s_agent', models_usage=RequestUsage(prompt_tokens=267, completion_tokens=30), content=[FunctionCall(id='call_s0XjIDQPpCSSqDnNa4JdwlfH', arguments='{\"service_name\":null,\"all_namespaces\":false,\"ns\":\"default\",\"output\":\"wide\"}', name='get_services')], type='ToolCallRequestEvent'), ToolCallExecutionEvent(source='k8s_agent', models_usage=None, content=[FunctionExecutionResult(content='NAME          TYPE        CLUSTER-IP      EXTERNAL-IP   PORT(S)    AGE     SELECTOR\\ndetails       ClusterIP   10.96.160.120   <none>        9080/TCP   3h39m   app=details\\nkubernetes    ClusterIP   10.96.0.1       <none>        443/TCP    5h54m   <none>\\nproductpage   ClusterIP   10.96.255.254   <none>        9080/TCP   3h39m   app=productpage\\nratings       ClusterIP   10.96.51.113    <none>        9080/TCP   3h39m   app=ratings\\nreviews       ClusterIP   10.96.228.62    <none>        9080/TCP   3h39m   app=reviews\\n', call_id='call_s0XjIDQPpCSSqDnNa4JdwlfH')], type='ToolCallExecutionEvent'), ToolCallSummaryMessage(source='k8s_agent', models_usage=None, content='NAME          TYPE        CLUSTER-IP      EXTERNAL-IP   PORT(S)    AGE     SELECTOR\\ndetails       ClusterIP   10.96.160.120   <none>        9080/TCP   3h39m   app=details\\nkubernetes    ClusterIP   10.96.0.1       <none>        443/TCP    5h54m   <none>\\nproductpage   ClusterIP   10.96.255.254   <none>        9080/TCP   3h39m   app=productpage\\nratings       ClusterIP   10.96.51.113    <none>        9080/TCP   3h39m   app=ratings\\nreviews       ClusterIP   10.96.228.62    <none>        9080/TCP   3h39m   app=reviews\\n', type='ToolCallSummaryMessage'), TextMessage(source='k8s_agent', models_usage=RequestUsage(prompt_tokens=500, completion_tokens=333), content='Here are all the services in the default namespace:\\n\\n1. **details**\\n   - **Type:** ClusterIP\\n   - **Cluster-IP:** 10.96.160.120\\n   - **Port(s):** 9080/TCP\\n   - **Selector:** app=details\\n   - **Age:** 3h39m\\n\\n2. **kubernetes**\\n   - **Type:** ClusterIP\\n   - **Cluster-IP:** 10.96.0.1\\n   - **Port(s):** 443/TCP\\n   - **Selector:** <none>\\n   - **Age:** 5h54m\\n\\n3. **productpage**\\n   - **Type:** ClusterIP\\n   - **Cluster-IP:** 10.96.255.254\\n   - **Port(s):** 9080/TCP\\n   - **Selector:** app=productpage\\n   - **Age:** 3h39m\\n\\n4. **ratings**\\n   - **Type:** ClusterIP\\n   - **Cluster-IP:** 10.96.51.113\\n   - **Port(s):** 9080/TCP\\n   - **Selector:** app=ratings\\n   - **Age:** 3h39m\\n\\n5. **reviews**\\n   - **Type:** ClusterIP\\n   - **Cluster-IP:** 10.96.228.62\\n   - **Port(s):** 9080/TCP\\n   - **Selector:** app=reviews\\n   - **Age:** 3h39m\\n\\nIf you need further information or have any other tasks, let me know!', type='TextMessage'), TextMessage(source='k8s_agent', models_usage=RequestUsage(prompt_tokens=839, completion_tokens=5), content='TERMINATE', type='TextMessage')], stop_reason=\"Text 'TERMINATE' mentioned\")"
      ]
     },
     "execution_count": 1,
     "metadata": {},
     "output_type": "execute_result"
    }
   ],
   "source": [
    "from autogen_agentchat.agents import AssistantAgent\n",
    "from autogen_agentchat.conditions import MaxMessageTermination, TextMentionTermination\n",
    "from autogen_agentchat.teams import RoundRobinGroupChat\n",
    "from autogen_agentchat.ui import Console\n",
    "from autogen_ext.models.openai import OpenAIChatCompletionClient\n",
    "\n",
    "from kagent.tools.istio import ProxyConfig\n",
    "from kagent.tools.k8s import GetPods, GetServices\n",
    "\n",
    "model_client = OpenAIChatCompletionClient(\n",
    "    model=\"gpt-4o\",\n",
    ")\n",
    "\n",
    "k8s_agent = AssistantAgent(\n",
    "    \"k8s_agent\",\n",
    "    description=\"An agent for k8s operations\",\n",
    "    tools=[GetPods(), GetServices(), ProxyConfig()],\n",
    "    model_client=model_client,\n",
    "    system_message=\"\"\"\n",
    "    You are a k8s agent. You know how to interact with a Kubernetes cluster.\n",
    "\n",
    "    If you don't have any explicit tasks left to complete, return TERMINATE.\n",
    "    \"\"\",\n",
    ")\n",
    "\n",
    "\n",
    "team = RoundRobinGroupChat(\n",
    "    max_turns=3,\n",
    "    participants=[k8s_agent],\n",
    "    termination_condition=TextMentionTermination(text=\"TERMINATE\"),\n",
    ")\n",
    "\n",
    "await Console(team.run_stream(task=\"get all services in the default namespace\"))"
   ]
  }
 ],
 "metadata": {
  "kernelspec": {
   "display_name": ".venv",
   "language": "python",
   "name": "python3"
  },
  "language_info": {
   "codemirror_mode": {
    "name": "ipython",
    "version": 3
   },
   "file_extension": ".py",
   "mimetype": "text/x-python",
   "name": "python",
   "nbconvert_exporter": "python",
   "pygments_lexer": "ipython3",
   "version": "3.12.2"
  }
 },
 "nbformat": 4,
 "nbformat_minor": 2
}
