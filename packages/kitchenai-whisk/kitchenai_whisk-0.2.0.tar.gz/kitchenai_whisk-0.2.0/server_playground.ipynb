{
 "cells": [
  {
   "cell_type": "markdown",
   "metadata": {},
   "source": [
    "## AI Workflow – Traditional vs. Structured Approach\n",
    "\n",
    "### What This Notebook Covers\n",
    "- **Manually setting up AI agents** (Traditional Approach)\n",
    "- **Using a structured AI runtime** for automation (KitchenAI Approach)\n",
    "- **Key benefits of structured AI workflows**\n"
   ]
  },
  {
   "cell_type": "code",
   "execution_count": 1,
   "metadata": {},
   "outputs": [
    {
     "name": "stdout",
     "output_type": "stream",
     "text": [
      "Collecting whisk\n",
      "  Downloading whisk-0.1.32-py3-none-any.whl.metadata (5.2 kB)\n",
      "Requirement already satisfied: llama-index in /home/epuerta/.local/share/hatch/env/virtual/kitchenai-whisk/jlwMXi0k/kitchenai-whisk/lib/python3.11/site-packages (0.12.17)\n",
      "Collecting toolhouse\n",
      "  Using cached toolhouse-1.3.1-py3-none-any.whl.metadata (23 kB)\n",
      "Requirement already satisfied: Click>=7.0 in /home/epuerta/.local/share/hatch/env/virtual/kitchenai-whisk/jlwMXi0k/kitchenai-whisk/lib/python3.11/site-packages (from whisk) (8.1.8)\n",
      "Requirement already satisfied: cookiecutter>=1.7.2 in /home/epuerta/.local/share/hatch/env/virtual/kitchenai-whisk/jlwMXi0k/kitchenai-whisk/lib/python3.11/site-packages (from whisk) (2.6.0)\n",
      "Requirement already satisfied: llama-index-agent-openai<0.5.0,>=0.4.0 in /home/epuerta/.local/share/hatch/env/virtual/kitchenai-whisk/jlwMXi0k/kitchenai-whisk/lib/python3.11/site-packages (from llama-index) (0.4.5)\n",
      "Requirement already satisfied: llama-index-cli<0.5.0,>=0.4.0 in /home/epuerta/.local/share/hatch/env/virtual/kitchenai-whisk/jlwMXi0k/kitchenai-whisk/lib/python3.11/site-packages (from llama-index) (0.4.0)\n",
      "Requirement already satisfied: llama-index-core<0.13.0,>=0.12.17 in /home/epuerta/.local/share/hatch/env/virtual/kitchenai-whisk/jlwMXi0k/kitchenai-whisk/lib/python3.11/site-packages (from llama-index) (0.12.17)\n",
      "Requirement already satisfied: llama-index-embeddings-openai<0.4.0,>=0.3.0 in /home/epuerta/.local/share/hatch/env/virtual/kitchenai-whisk/jlwMXi0k/kitchenai-whisk/lib/python3.11/site-packages (from llama-index) (0.3.1)\n",
      "Requirement already satisfied: llama-index-indices-managed-llama-cloud>=0.4.0 in /home/epuerta/.local/share/hatch/env/virtual/kitchenai-whisk/jlwMXi0k/kitchenai-whisk/lib/python3.11/site-packages (from llama-index) (0.6.4)\n",
      "Requirement already satisfied: llama-index-llms-openai<0.4.0,>=0.3.0 in /home/epuerta/.local/share/hatch/env/virtual/kitchenai-whisk/jlwMXi0k/kitchenai-whisk/lib/python3.11/site-packages (from llama-index) (0.3.19)\n",
      "Requirement already satisfied: llama-index-multi-modal-llms-openai<0.5.0,>=0.4.0 in /home/epuerta/.local/share/hatch/env/virtual/kitchenai-whisk/jlwMXi0k/kitchenai-whisk/lib/python3.11/site-packages (from llama-index) (0.4.3)\n",
      "Requirement already satisfied: llama-index-program-openai<0.4.0,>=0.3.0 in /home/epuerta/.local/share/hatch/env/virtual/kitchenai-whisk/jlwMXi0k/kitchenai-whisk/lib/python3.11/site-packages (from llama-index) (0.3.1)\n",
      "Requirement already satisfied: llama-index-question-gen-openai<0.4.0,>=0.3.0 in /home/epuerta/.local/share/hatch/env/virtual/kitchenai-whisk/jlwMXi0k/kitchenai-whisk/lib/python3.11/site-packages (from llama-index) (0.3.0)\n",
      "Requirement already satisfied: llama-index-readers-file<0.5.0,>=0.4.0 in /home/epuerta/.local/share/hatch/env/virtual/kitchenai-whisk/jlwMXi0k/kitchenai-whisk/lib/python3.11/site-packages (from llama-index) (0.4.5)\n",
      "Requirement already satisfied: llama-index-readers-llama-parse>=0.4.0 in /home/epuerta/.local/share/hatch/env/virtual/kitchenai-whisk/jlwMXi0k/kitchenai-whisk/lib/python3.11/site-packages (from llama-index) (0.4.0)\n",
      "Requirement already satisfied: nltk>3.8.1 in /home/epuerta/.local/share/hatch/env/virtual/kitchenai-whisk/jlwMXi0k/kitchenai-whisk/lib/python3.11/site-packages (from llama-index) (3.9.1)\n",
      "Collecting anthropic (from toolhouse)\n",
      "  Using cached anthropic-0.45.2-py3-none-any.whl.metadata (23 kB)\n",
      "Collecting groq (from toolhouse)\n",
      "  Using cached groq-0.18.0-py3-none-any.whl.metadata (14 kB)\n",
      "Collecting http-exceptions (from toolhouse)\n",
      "  Using cached http_exceptions-0.2.10-py3-none-any.whl.metadata (7.0 kB)\n",
      "Requirement already satisfied: openai in /home/epuerta/.local/share/hatch/env/virtual/kitchenai-whisk/jlwMXi0k/kitchenai-whisk/lib/python3.11/site-packages (from toolhouse) (1.63.0)\n",
      "Requirement already satisfied: python-dotenv>=1.0.1 in /home/epuerta/.local/share/hatch/env/virtual/kitchenai-whisk/jlwMXi0k/kitchenai-whisk/lib/python3.11/site-packages (from toolhouse) (1.0.1)\n",
      "Requirement already satisfied: requests in /home/epuerta/.local/share/hatch/env/virtual/kitchenai-whisk/jlwMXi0k/kitchenai-whisk/lib/python3.11/site-packages (from toolhouse) (2.32.3)\n",
      "Requirement already satisfied: binaryornot>=0.4.4 in /home/epuerta/.local/share/hatch/env/virtual/kitchenai-whisk/jlwMXi0k/kitchenai-whisk/lib/python3.11/site-packages (from cookiecutter>=1.7.2->whisk) (0.4.4)\n",
      "Requirement already satisfied: Jinja2<4.0.0,>=2.7 in /home/epuerta/.local/share/hatch/env/virtual/kitchenai-whisk/jlwMXi0k/kitchenai-whisk/lib/python3.11/site-packages (from cookiecutter>=1.7.2->whisk) (3.1.5)\n",
      "Requirement already satisfied: pyyaml>=5.3.1 in /home/epuerta/.local/share/hatch/env/virtual/kitchenai-whisk/jlwMXi0k/kitchenai-whisk/lib/python3.11/site-packages (from cookiecutter>=1.7.2->whisk) (6.0.2)\n",
      "Requirement already satisfied: python-slugify>=4.0.0 in /home/epuerta/.local/share/hatch/env/virtual/kitchenai-whisk/jlwMXi0k/kitchenai-whisk/lib/python3.11/site-packages (from cookiecutter>=1.7.2->whisk) (8.0.4)\n",
      "Requirement already satisfied: arrow in /home/epuerta/.local/share/hatch/env/virtual/kitchenai-whisk/jlwMXi0k/kitchenai-whisk/lib/python3.11/site-packages (from cookiecutter>=1.7.2->whisk) (1.3.0)\n",
      "Requirement already satisfied: rich in /home/epuerta/.local/share/hatch/env/virtual/kitchenai-whisk/jlwMXi0k/kitchenai-whisk/lib/python3.11/site-packages (from cookiecutter>=1.7.2->whisk) (13.9.4)\n",
      "Requirement already satisfied: SQLAlchemy>=1.4.49 in /home/epuerta/.local/share/hatch/env/virtual/kitchenai-whisk/jlwMXi0k/kitchenai-whisk/lib/python3.11/site-packages (from SQLAlchemy[asyncio]>=1.4.49->llama-index-core<0.13.0,>=0.12.17->llama-index) (2.0.38)\n",
      "Requirement already satisfied: aiohttp<4.0.0,>=3.8.6 in /home/epuerta/.local/share/hatch/env/virtual/kitchenai-whisk/jlwMXi0k/kitchenai-whisk/lib/python3.11/site-packages (from llama-index-core<0.13.0,>=0.12.17->llama-index) (3.11.12)\n",
      "Requirement already satisfied: dataclasses-json in /home/epuerta/.local/share/hatch/env/virtual/kitchenai-whisk/jlwMXi0k/kitchenai-whisk/lib/python3.11/site-packages (from llama-index-core<0.13.0,>=0.12.17->llama-index) (0.6.7)\n",
      "Requirement already satisfied: deprecated>=1.2.9.3 in /home/epuerta/.local/share/hatch/env/virtual/kitchenai-whisk/jlwMXi0k/kitchenai-whisk/lib/python3.11/site-packages (from llama-index-core<0.13.0,>=0.12.17->llama-index) (1.2.18)\n",
      "Requirement already satisfied: dirtyjson<2.0.0,>=1.0.8 in /home/epuerta/.local/share/hatch/env/virtual/kitchenai-whisk/jlwMXi0k/kitchenai-whisk/lib/python3.11/site-packages (from llama-index-core<0.13.0,>=0.12.17->llama-index) (1.0.8)\n",
      "Requirement already satisfied: filetype<2.0.0,>=1.2.0 in /home/epuerta/.local/share/hatch/env/virtual/kitchenai-whisk/jlwMXi0k/kitchenai-whisk/lib/python3.11/site-packages (from llama-index-core<0.13.0,>=0.12.17->llama-index) (1.2.0)\n",
      "Requirement already satisfied: fsspec>=2023.5.0 in /home/epuerta/.local/share/hatch/env/virtual/kitchenai-whisk/jlwMXi0k/kitchenai-whisk/lib/python3.11/site-packages (from llama-index-core<0.13.0,>=0.12.17->llama-index) (2025.2.0)\n",
      "Requirement already satisfied: httpx in /home/epuerta/.local/share/hatch/env/virtual/kitchenai-whisk/jlwMXi0k/kitchenai-whisk/lib/python3.11/site-packages (from llama-index-core<0.13.0,>=0.12.17->llama-index) (0.28.1)\n",
      "Requirement already satisfied: nest-asyncio<2.0.0,>=1.5.8 in /home/epuerta/.local/share/hatch/env/virtual/kitchenai-whisk/jlwMXi0k/kitchenai-whisk/lib/python3.11/site-packages (from llama-index-core<0.13.0,>=0.12.17->llama-index) (1.6.0)\n",
      "Requirement already satisfied: networkx>=3.0 in /home/epuerta/.local/share/hatch/env/virtual/kitchenai-whisk/jlwMXi0k/kitchenai-whisk/lib/python3.11/site-packages (from llama-index-core<0.13.0,>=0.12.17->llama-index) (3.4.2)\n",
      "Requirement already satisfied: numpy in /home/epuerta/.local/share/hatch/env/virtual/kitchenai-whisk/jlwMXi0k/kitchenai-whisk/lib/python3.11/site-packages (from llama-index-core<0.13.0,>=0.12.17->llama-index) (2.2.3)\n",
      "Requirement already satisfied: pillow>=9.0.0 in /home/epuerta/.local/share/hatch/env/virtual/kitchenai-whisk/jlwMXi0k/kitchenai-whisk/lib/python3.11/site-packages (from llama-index-core<0.13.0,>=0.12.17->llama-index) (11.1.0)\n",
      "Requirement already satisfied: pydantic>=2.8.0 in /home/epuerta/.local/share/hatch/env/virtual/kitchenai-whisk/jlwMXi0k/kitchenai-whisk/lib/python3.11/site-packages (from llama-index-core<0.13.0,>=0.12.17->llama-index) (2.10.6)\n",
      "Requirement already satisfied: tenacity!=8.4.0,<10.0.0,>=8.2.0 in /home/epuerta/.local/share/hatch/env/virtual/kitchenai-whisk/jlwMXi0k/kitchenai-whisk/lib/python3.11/site-packages (from llama-index-core<0.13.0,>=0.12.17->llama-index) (9.0.0)\n",
      "Requirement already satisfied: tiktoken>=0.3.3 in /home/epuerta/.local/share/hatch/env/virtual/kitchenai-whisk/jlwMXi0k/kitchenai-whisk/lib/python3.11/site-packages (from llama-index-core<0.13.0,>=0.12.17->llama-index) (0.9.0)\n",
      "Requirement already satisfied: tqdm<5.0.0,>=4.66.1 in /home/epuerta/.local/share/hatch/env/virtual/kitchenai-whisk/jlwMXi0k/kitchenai-whisk/lib/python3.11/site-packages (from llama-index-core<0.13.0,>=0.12.17->llama-index) (4.67.1)\n",
      "Requirement already satisfied: typing-extensions>=4.5.0 in /home/epuerta/.local/share/hatch/env/virtual/kitchenai-whisk/jlwMXi0k/kitchenai-whisk/lib/python3.11/site-packages (from llama-index-core<0.13.0,>=0.12.17->llama-index) (4.12.2)\n",
      "Requirement already satisfied: typing-inspect>=0.8.0 in /home/epuerta/.local/share/hatch/env/virtual/kitchenai-whisk/jlwMXi0k/kitchenai-whisk/lib/python3.11/site-packages (from llama-index-core<0.13.0,>=0.12.17->llama-index) (0.9.0)\n",
      "Requirement already satisfied: wrapt in /home/epuerta/.local/share/hatch/env/virtual/kitchenai-whisk/jlwMXi0k/kitchenai-whisk/lib/python3.11/site-packages (from llama-index-core<0.13.0,>=0.12.17->llama-index) (1.17.2)\n",
      "Requirement already satisfied: llama-cloud<0.2.0,>=0.1.8 in /home/epuerta/.local/share/hatch/env/virtual/kitchenai-whisk/jlwMXi0k/kitchenai-whisk/lib/python3.11/site-packages (from llama-index-indices-managed-llama-cloud>=0.4.0->llama-index) (0.1.12)\n",
      "Requirement already satisfied: beautifulsoup4<5.0.0,>=4.12.3 in /home/epuerta/.local/share/hatch/env/virtual/kitchenai-whisk/jlwMXi0k/kitchenai-whisk/lib/python3.11/site-packages (from llama-index-readers-file<0.5.0,>=0.4.0->llama-index) (4.13.3)\n",
      "Requirement already satisfied: pandas in /home/epuerta/.local/share/hatch/env/virtual/kitchenai-whisk/jlwMXi0k/kitchenai-whisk/lib/python3.11/site-packages (from llama-index-readers-file<0.5.0,>=0.4.0->llama-index) (2.2.3)\n",
      "Requirement already satisfied: pypdf<6.0.0,>=5.1.0 in /home/epuerta/.local/share/hatch/env/virtual/kitchenai-whisk/jlwMXi0k/kitchenai-whisk/lib/python3.11/site-packages (from llama-index-readers-file<0.5.0,>=0.4.0->llama-index) (5.3.0)\n",
      "Requirement already satisfied: striprtf<0.0.27,>=0.0.26 in /home/epuerta/.local/share/hatch/env/virtual/kitchenai-whisk/jlwMXi0k/kitchenai-whisk/lib/python3.11/site-packages (from llama-index-readers-file<0.5.0,>=0.4.0->llama-index) (0.0.26)\n",
      "Requirement already satisfied: llama-parse>=0.5.0 in /home/epuerta/.local/share/hatch/env/virtual/kitchenai-whisk/jlwMXi0k/kitchenai-whisk/lib/python3.11/site-packages (from llama-index-readers-llama-parse>=0.4.0->llama-index) (0.6.1)\n",
      "Requirement already satisfied: joblib in /home/epuerta/.local/share/hatch/env/virtual/kitchenai-whisk/jlwMXi0k/kitchenai-whisk/lib/python3.11/site-packages (from nltk>3.8.1->llama-index) (1.4.2)\n",
      "Requirement already satisfied: regex>=2021.8.3 in /home/epuerta/.local/share/hatch/env/virtual/kitchenai-whisk/jlwMXi0k/kitchenai-whisk/lib/python3.11/site-packages (from nltk>3.8.1->llama-index) (2024.11.6)\n",
      "Requirement already satisfied: anyio<5,>=3.5.0 in /home/epuerta/.local/share/hatch/env/virtual/kitchenai-whisk/jlwMXi0k/kitchenai-whisk/lib/python3.11/site-packages (from openai->toolhouse) (4.8.0)\n",
      "Requirement already satisfied: distro<2,>=1.7.0 in /home/epuerta/.local/share/hatch/env/virtual/kitchenai-whisk/jlwMXi0k/kitchenai-whisk/lib/python3.11/site-packages (from openai->toolhouse) (1.9.0)\n",
      "Requirement already satisfied: jiter<1,>=0.4.0 in /home/epuerta/.local/share/hatch/env/virtual/kitchenai-whisk/jlwMXi0k/kitchenai-whisk/lib/python3.11/site-packages (from openai->toolhouse) (0.8.2)\n",
      "Requirement already satisfied: sniffio in /home/epuerta/.local/share/hatch/env/virtual/kitchenai-whisk/jlwMXi0k/kitchenai-whisk/lib/python3.11/site-packages (from openai->toolhouse) (1.3.1)\n",
      "Requirement already satisfied: charset-normalizer<4,>=2 in /home/epuerta/.local/share/hatch/env/virtual/kitchenai-whisk/jlwMXi0k/kitchenai-whisk/lib/python3.11/site-packages (from requests->toolhouse) (3.4.1)\n",
      "Requirement already satisfied: idna<4,>=2.5 in /home/epuerta/.local/share/hatch/env/virtual/kitchenai-whisk/jlwMXi0k/kitchenai-whisk/lib/python3.11/site-packages (from requests->toolhouse) (3.10)\n",
      "Requirement already satisfied: urllib3<3,>=1.21.1 in /home/epuerta/.local/share/hatch/env/virtual/kitchenai-whisk/jlwMXi0k/kitchenai-whisk/lib/python3.11/site-packages (from requests->toolhouse) (2.3.0)\n",
      "Requirement already satisfied: certifi>=2017.4.17 in /home/epuerta/.local/share/hatch/env/virtual/kitchenai-whisk/jlwMXi0k/kitchenai-whisk/lib/python3.11/site-packages (from requests->toolhouse) (2025.1.31)\n",
      "Requirement already satisfied: aiohappyeyeballs>=2.3.0 in /home/epuerta/.local/share/hatch/env/virtual/kitchenai-whisk/jlwMXi0k/kitchenai-whisk/lib/python3.11/site-packages (from aiohttp<4.0.0,>=3.8.6->llama-index-core<0.13.0,>=0.12.17->llama-index) (2.4.6)\n",
      "Requirement already satisfied: aiosignal>=1.1.2 in /home/epuerta/.local/share/hatch/env/virtual/kitchenai-whisk/jlwMXi0k/kitchenai-whisk/lib/python3.11/site-packages (from aiohttp<4.0.0,>=3.8.6->llama-index-core<0.13.0,>=0.12.17->llama-index) (1.3.2)\n",
      "Requirement already satisfied: attrs>=17.3.0 in /home/epuerta/.local/share/hatch/env/virtual/kitchenai-whisk/jlwMXi0k/kitchenai-whisk/lib/python3.11/site-packages (from aiohttp<4.0.0,>=3.8.6->llama-index-core<0.13.0,>=0.12.17->llama-index) (25.1.0)\n",
      "Requirement already satisfied: frozenlist>=1.1.1 in /home/epuerta/.local/share/hatch/env/virtual/kitchenai-whisk/jlwMXi0k/kitchenai-whisk/lib/python3.11/site-packages (from aiohttp<4.0.0,>=3.8.6->llama-index-core<0.13.0,>=0.12.17->llama-index) (1.5.0)\n",
      "Requirement already satisfied: multidict<7.0,>=4.5 in /home/epuerta/.local/share/hatch/env/virtual/kitchenai-whisk/jlwMXi0k/kitchenai-whisk/lib/python3.11/site-packages (from aiohttp<4.0.0,>=3.8.6->llama-index-core<0.13.0,>=0.12.17->llama-index) (6.1.0)\n",
      "Requirement already satisfied: propcache>=0.2.0 in /home/epuerta/.local/share/hatch/env/virtual/kitchenai-whisk/jlwMXi0k/kitchenai-whisk/lib/python3.11/site-packages (from aiohttp<4.0.0,>=3.8.6->llama-index-core<0.13.0,>=0.12.17->llama-index) (0.2.1)\n",
      "Requirement already satisfied: yarl<2.0,>=1.17.0 in /home/epuerta/.local/share/hatch/env/virtual/kitchenai-whisk/jlwMXi0k/kitchenai-whisk/lib/python3.11/site-packages (from aiohttp<4.0.0,>=3.8.6->llama-index-core<0.13.0,>=0.12.17->llama-index) (1.18.3)\n",
      "Requirement already satisfied: soupsieve>1.2 in /home/epuerta/.local/share/hatch/env/virtual/kitchenai-whisk/jlwMXi0k/kitchenai-whisk/lib/python3.11/site-packages (from beautifulsoup4<5.0.0,>=4.12.3->llama-index-readers-file<0.5.0,>=0.4.0->llama-index) (2.6)\n",
      "Requirement already satisfied: chardet>=3.0.2 in /home/epuerta/.local/share/hatch/env/virtual/kitchenai-whisk/jlwMXi0k/kitchenai-whisk/lib/python3.11/site-packages (from binaryornot>=0.4.4->cookiecutter>=1.7.2->whisk) (5.2.0)\n",
      "Requirement already satisfied: httpcore==1.* in /home/epuerta/.local/share/hatch/env/virtual/kitchenai-whisk/jlwMXi0k/kitchenai-whisk/lib/python3.11/site-packages (from httpx->llama-index-core<0.13.0,>=0.12.17->llama-index) (1.0.7)\n",
      "Requirement already satisfied: h11<0.15,>=0.13 in /home/epuerta/.local/share/hatch/env/virtual/kitchenai-whisk/jlwMXi0k/kitchenai-whisk/lib/python3.11/site-packages (from httpcore==1.*->httpx->llama-index-core<0.13.0,>=0.12.17->llama-index) (0.14.0)\n",
      "Requirement already satisfied: MarkupSafe>=2.0 in /home/epuerta/.local/share/hatch/env/virtual/kitchenai-whisk/jlwMXi0k/kitchenai-whisk/lib/python3.11/site-packages (from Jinja2<4.0.0,>=2.7->cookiecutter>=1.7.2->whisk) (3.0.2)\n",
      "Requirement already satisfied: llama-cloud-services>=0.6.1 in /home/epuerta/.local/share/hatch/env/virtual/kitchenai-whisk/jlwMXi0k/kitchenai-whisk/lib/python3.11/site-packages (from llama-parse>=0.5.0->llama-index-readers-llama-parse>=0.4.0->llama-index) (0.6.1)\n",
      "Requirement already satisfied: annotated-types>=0.6.0 in /home/epuerta/.local/share/hatch/env/virtual/kitchenai-whisk/jlwMXi0k/kitchenai-whisk/lib/python3.11/site-packages (from pydantic>=2.8.0->llama-index-core<0.13.0,>=0.12.17->llama-index) (0.7.0)\n",
      "Requirement already satisfied: pydantic-core==2.27.2 in /home/epuerta/.local/share/hatch/env/virtual/kitchenai-whisk/jlwMXi0k/kitchenai-whisk/lib/python3.11/site-packages (from pydantic>=2.8.0->llama-index-core<0.13.0,>=0.12.17->llama-index) (2.27.2)\n",
      "Requirement already satisfied: text-unidecode>=1.3 in /home/epuerta/.local/share/hatch/env/virtual/kitchenai-whisk/jlwMXi0k/kitchenai-whisk/lib/python3.11/site-packages (from python-slugify>=4.0.0->cookiecutter>=1.7.2->whisk) (1.3)\n",
      "Requirement already satisfied: greenlet!=0.4.17 in /home/epuerta/.local/share/hatch/env/virtual/kitchenai-whisk/jlwMXi0k/kitchenai-whisk/lib/python3.11/site-packages (from SQLAlchemy>=1.4.49->SQLAlchemy[asyncio]>=1.4.49->llama-index-core<0.13.0,>=0.12.17->llama-index) (3.1.1)\n",
      "Requirement already satisfied: mypy-extensions>=0.3.0 in /home/epuerta/.local/share/hatch/env/virtual/kitchenai-whisk/jlwMXi0k/kitchenai-whisk/lib/python3.11/site-packages (from typing-inspect>=0.8.0->llama-index-core<0.13.0,>=0.12.17->llama-index) (1.0.0)\n",
      "Requirement already satisfied: python-dateutil>=2.7.0 in /home/epuerta/.local/share/hatch/env/virtual/kitchenai-whisk/jlwMXi0k/kitchenai-whisk/lib/python3.11/site-packages (from arrow->cookiecutter>=1.7.2->whisk) (2.9.0.post0)\n",
      "Requirement already satisfied: types-python-dateutil>=2.8.10 in /home/epuerta/.local/share/hatch/env/virtual/kitchenai-whisk/jlwMXi0k/kitchenai-whisk/lib/python3.11/site-packages (from arrow->cookiecutter>=1.7.2->whisk) (2.9.0.20241206)\n",
      "Requirement already satisfied: marshmallow<4.0.0,>=3.18.0 in /home/epuerta/.local/share/hatch/env/virtual/kitchenai-whisk/jlwMXi0k/kitchenai-whisk/lib/python3.11/site-packages (from dataclasses-json->llama-index-core<0.13.0,>=0.12.17->llama-index) (3.26.1)\n",
      "Requirement already satisfied: pytz>=2020.1 in /home/epuerta/.local/share/hatch/env/virtual/kitchenai-whisk/jlwMXi0k/kitchenai-whisk/lib/python3.11/site-packages (from pandas->llama-index-readers-file<0.5.0,>=0.4.0->llama-index) (2025.1)\n",
      "Requirement already satisfied: tzdata>=2022.7 in /home/epuerta/.local/share/hatch/env/virtual/kitchenai-whisk/jlwMXi0k/kitchenai-whisk/lib/python3.11/site-packages (from pandas->llama-index-readers-file<0.5.0,>=0.4.0->llama-index) (2025.1)\n",
      "Requirement already satisfied: markdown-it-py>=2.2.0 in /home/epuerta/.local/share/hatch/env/virtual/kitchenai-whisk/jlwMXi0k/kitchenai-whisk/lib/python3.11/site-packages (from rich->cookiecutter>=1.7.2->whisk) (3.0.0)\n",
      "Requirement already satisfied: pygments<3.0.0,>=2.13.0 in /home/epuerta/.local/share/hatch/env/virtual/kitchenai-whisk/jlwMXi0k/kitchenai-whisk/lib/python3.11/site-packages (from rich->cookiecutter>=1.7.2->whisk) (2.19.1)\n",
      "Requirement already satisfied: mdurl~=0.1 in /home/epuerta/.local/share/hatch/env/virtual/kitchenai-whisk/jlwMXi0k/kitchenai-whisk/lib/python3.11/site-packages (from markdown-it-py>=2.2.0->rich->cookiecutter>=1.7.2->whisk) (0.1.2)\n",
      "Requirement already satisfied: packaging>=17.0 in /home/epuerta/.local/share/hatch/env/virtual/kitchenai-whisk/jlwMXi0k/kitchenai-whisk/lib/python3.11/site-packages (from marshmallow<4.0.0,>=3.18.0->dataclasses-json->llama-index-core<0.13.0,>=0.12.17->llama-index) (24.2)\n",
      "Requirement already satisfied: six>=1.5 in /home/epuerta/.local/share/hatch/env/virtual/kitchenai-whisk/jlwMXi0k/kitchenai-whisk/lib/python3.11/site-packages (from python-dateutil>=2.7.0->arrow->cookiecutter>=1.7.2->whisk) (1.17.0)\n",
      "Downloading whisk-0.1.32-py3-none-any.whl (49 kB)\n",
      "Using cached toolhouse-1.3.1-py3-none-any.whl (43 kB)\n",
      "Using cached anthropic-0.45.2-py3-none-any.whl (222 kB)\n",
      "Using cached groq-0.18.0-py3-none-any.whl (121 kB)\n",
      "Using cached http_exceptions-0.2.10-py3-none-any.whl (8.8 kB)\n",
      "Installing collected packages: http-exceptions, groq, anthropic, whisk, toolhouse\n",
      "Successfully installed anthropic-0.45.2 groq-0.18.0 http-exceptions-0.2.10 toolhouse-1.3.1 whisk-0.1.32\n",
      "\n",
      "\u001b[1m[\u001b[0m\u001b[34;49mnotice\u001b[0m\u001b[1;39;49m]\u001b[0m\u001b[39;49m A new release of pip is available: \u001b[0m\u001b[31;49m24.2\u001b[0m\u001b[39;49m -> \u001b[0m\u001b[32;49m25.0.1\u001b[0m\n",
      "\u001b[1m[\u001b[0m\u001b[34;49mnotice\u001b[0m\u001b[1;39;49m]\u001b[0m\u001b[39;49m To update, run: \u001b[0m\u001b[32;49mpip install --upgrade pip\u001b[0m\n",
      "Note: you may need to restart the kernel to use updated packages.\n"
     ]
    }
   ],
   "source": [
    "%pip install whisk llama-index toolhouse"
   ]
  },
  {
   "cell_type": "code",
   "execution_count": 21,
   "metadata": {},
   "outputs": [],
   "source": [
    "import os\n",
    "import logging\n",
    "import asyncio\n",
    "from whisk.client import WhiskClient\n",
    "from llama_index.llms.groq import Groq\n",
    "from llama_index.core.agent import ReActAgent\n",
    "from llama_index.core.memory import ChatMemoryBuffer\n",
    "from toolhouse import Toolhouse, Provider\n",
    "from whisk.kitchenai_sdk.kitchenai import KitchenAIApp\n",
    "from whisk.kitchenai_sdk.schema import (\n",
    "    WhiskQuerySchema,\n",
    "    WhiskQueryBaseResponseSchema,\n",
    ")\n",
    "from whisk.kitchenai_sdk.schema import ChatInput\n",
    "import uuid\n",
    "import time\n"
   ]
  },
  {
   "cell_type": "code",
   "execution_count": 25,
   "metadata": {},
   "outputs": [],
   "source": [
    "\n",
    "# Initialize logging\n",
    "logger = logging.getLogger(__name__)\n",
    "\n",
    "# Initialize LLM\n",
    "llm = Groq(model=\"llama-3.2-11b-vision-preview\")\n",
    "\n",
    "# Initialize Toolhouse Instances for Different Tasks\n",
    "scraper_toolhouse = Toolhouse(provider=Provider.LLAMAINDEX)\n",
    "web_search_toolhouse = Toolhouse(provider=Provider.LLAMAINDEX)\n",
    "\n",
    "\n",
    "# Set metadata (Optional)\n",
    "scraper_toolhouse.set_metadata(\"id\", \"scraper\")\n",
    "web_search_toolhouse.set_metadata(\"id\", \"web_search\")\n",
    "\n",
    "\n",
    "# ✅ **Initialize KitchenAI App**\n",
    "kitchen = KitchenAIApp(namespace=\"AI-Toolkit-Demo-2\")"
   ]
  },
  {
   "cell_type": "code",
   "execution_count": null,
   "metadata": {},
   "outputs": [],
   "source": [
    "agent = ReActAgent(\n",
    "    tools=web_search_toolhouse.get_tools(bundle=\"web_search\"),\n",
    "    llm=llm,\n",
    "    memory=ChatMemoryBuffer.from_defaults(),\n",
    ")\n",
    "response = await agent.achat(data.query)\n"
   ]
  },
  {
   "cell_type": "markdown",
   "metadata": {},
   "source": [
    "Explanation:\n",
    "\n",
    "We manually create a web search agent.\n",
    "We attach the tool (web_search).\n",
    "We call the LLM manually (achat()).\n",
    "This works, but we have to repeat the setup for every agent."
   ]
  },
  {
   "cell_type": "code",
   "execution_count": null,
   "metadata": {},
   "outputs": [],
   "source": [
    "    agent = ReActAgent(\n",
    "        tools=web_search_toolhouse.get_tools(bundle=\"scraper\"),\n",
    "        llm=llm,\n",
    "        memory=ChatMemoryBuffer.from_defaults(),\n",
    "    )\n",
    "    response = await agent.achat(data.query)"
   ]
  },
  {
   "cell_type": "markdown",
   "metadata": {},
   "source": [
    "📌 **Downsides of this approach:**  \n",
    "❌ **Repetitive:** Need separate setups for every agent.  \n",
    "❌ **Manual API Calls:** Every new capability requires more boilerplate.  \n",
    "❌ **Hard to Scale:** If we add new AI tools, we must modify our code significantly.  \n",
    "\n",
    "---"
   ]
  },
  {
   "cell_type": "code",
   "execution_count": 26,
   "metadata": {},
   "outputs": [],
   "source": [
    "\n",
    "\n",
    "\n",
    "# ✅ **Quick AI Handlers**\n",
    "@kitchen.query.handler(\"scraper\")\n",
    "async def quick_summary_handler(data: WhiskQuerySchema) -> WhiskQueryBaseResponseSchema:\n",
    "    \"\"\"Summarizes documents using doc_parser.\"\"\"\n",
    "    agent = ReActAgent(\n",
    "        tools=scraper_toolhouse.get_tools(bundle=\"scraper\"),\n",
    "        llm=llm,\n",
    "        memory=ChatMemoryBuffer.from_defaults(),\n",
    "    )\n",
    "    response = await agent.achat(data.query)\n",
    "    return WhiskQueryBaseResponseSchema.from_llm_invoke(data.query, response.response)\n",
    "\n",
    "@kitchen.query.handler(\"web-search\")\n",
    "async def web_search_handler(data: WhiskQuerySchema) -> WhiskQueryBaseResponseSchema:\n",
    "    \"\"\"Performs an AI-powered web search.\"\"\"\n",
    "    agent = ReActAgent(\n",
    "        tools=web_search_toolhouse.get_tools(bundle=\"web_search\"),\n",
    "        llm=llm,\n",
    "        memory=ChatMemoryBuffer.from_defaults(),\n",
    "    )\n",
    "    response = await agent.achat(data.query)\n",
    "    return WhiskQueryBaseResponseSchema.from_llm_invoke(data.query, response.response)\n",
    "\n",
    "\n",
    "\n"
   ]
  },
  {
   "cell_type": "markdown",
   "metadata": {},
   "source": [
    "📌 **What’s Different Here?**  \n",
    "✅ **No Manual Agent Setup** – We **just define handlers** instead of manually wiring agents.  \n",
    "✅ **Automatic Tool Selection** – `kitchenAI()` **automatically picks the right AI tool**.  \n",
    "✅ **Scalability** – If we add **more AI functions**, we **don’t need to rewrite our code**.  \n",
    "\n",
    "---"
   ]
  },
  {
   "cell_type": "code",
   "execution_count": 27,
   "metadata": {},
   "outputs": [
    {
     "name": "stdout",
     "output_type": "stream",
     "text": [
      "2025-02-14 20:48:40,733 \u001b[32mINFO\u001b[0m     -       |                                                                |            - Received\n",
      "2025-02-14 20:48:40,733 \u001b[32mINFO\u001b[0m     -       |                                                                |            - Received\n",
      "2025-02-14 20:48:40,733 \u001b[32mINFO\u001b[0m     -       |                                                                  |            - Received\n",
      "2025-02-14 20:48:40,733 \u001b[32mINFO\u001b[0m     -       |                                                                  |            - Received\n",
      "2025-02-14 20:48:40,733 \u001b[32mINFO\u001b[0m     -       |                                                                  |            - Received\n",
      "2025-02-14 20:48:40,733 \u001b[32mINFO\u001b[0m     -       |                                                                  |            - Received\n",
      "2025-02-14 20:48:40,733 \u001b[32mINFO\u001b[0m     -       |                                                               |            - Received\n",
      "2025-02-14 20:48:40,738 \u001b[32mINFO\u001b[0m     -       |                                                                |            - Processed\n",
      "2025-02-14 20:48:40,738 \u001b[32mINFO\u001b[0m     -       |                                                                |            - Processed\n",
      "2025-02-14 20:48:40,738 \u001b[32mINFO\u001b[0m     -       |                                                                  |            - Processed\n",
      "2025-02-14 20:48:40,738 \u001b[32mINFO\u001b[0m     -       |                                                                  |            - Processed\n",
      "2025-02-14 20:48:40,738 \u001b[32mINFO\u001b[0m     -       |                                                                  |            - Processed\n",
      "2025-02-14 20:48:40,738 \u001b[32mINFO\u001b[0m     -       |                                                                  |            - Processed\n",
      "2025-02-14 20:48:40,738 \u001b[32mINFO\u001b[0m     -       |                                                               |            - Processed\n"
     ]
    },
    {
     "data": {
      "text/html": [
       "<pre style=\"white-space:pre;overflow-x:auto;line-height:normal;font-family:Menlo,'DejaVu Sans Mono',consolas,'Courier New',monospace\">\n",
       "<span style=\"color: #000080; text-decoration-color: #000080; font-weight: bold\">KitchenAI Configuration:</span>\n",
       "</pre>\n"
      ],
      "text/plain": [
       "\n",
       "\u001b[1;34mKitchenAI Configuration:\u001b[0m\n"
      ]
     },
     "metadata": {},
     "output_type": "display_data"
    },
    {
     "data": {
      "text/html": [
       "<pre style=\"white-space:pre;overflow-x:auto;line-height:normal;font-family:Menlo,'DejaVu Sans Mono',consolas,'Courier New',monospace\"><span style=\"color: #008080; text-decoration-color: #008080; font-weight: bold\">{</span>\n",
       "<span style=\"color: #008080; text-decoration-color: #008080\">    </span><span style=\"color: #008000; text-decoration-color: #008000\">'namespace'</span><span style=\"color: #008080; text-decoration-color: #008080\">: </span><span style=\"color: #008000; text-decoration-color: #008000\">'AI-Toolkit-Demo-2'</span><span style=\"color: #008080; text-decoration-color: #008080\">,</span>\n",
       "<span style=\"color: #008080; text-decoration-color: #008080\">    </span><span style=\"color: #008000; text-decoration-color: #008000\">'query_handlers'</span><span style=\"color: #008080; text-decoration-color: #008080\">: </span><span style=\"color: #008080; text-decoration-color: #008080; font-weight: bold\">[</span><span style=\"color: #008000; text-decoration-color: #008000\">'scraper'</span><span style=\"color: #008080; text-decoration-color: #008080\">, </span><span style=\"color: #008000; text-decoration-color: #008000\">'web-search'</span><span style=\"color: #008080; text-decoration-color: #008080; font-weight: bold\">]</span><span style=\"color: #008080; text-decoration-color: #008080\">,</span>\n",
       "<span style=\"color: #008080; text-decoration-color: #008080\">    </span><span style=\"color: #008000; text-decoration-color: #008000\">'storage_handlers'</span><span style=\"color: #008080; text-decoration-color: #008080\">: </span><span style=\"color: #008080; text-decoration-color: #008080; font-weight: bold\">[]</span><span style=\"color: #008080; text-decoration-color: #008080\">,</span>\n",
       "<span style=\"color: #008080; text-decoration-color: #008080\">    </span><span style=\"color: #008000; text-decoration-color: #008000\">'embed_handlers'</span><span style=\"color: #008080; text-decoration-color: #008080\">: </span><span style=\"color: #008080; text-decoration-color: #008080; font-weight: bold\">[]</span><span style=\"color: #008080; text-decoration-color: #008080\">,</span>\n",
       "<span style=\"color: #008080; text-decoration-color: #008080\">    </span><span style=\"color: #008000; text-decoration-color: #008000\">'agent_handlers'</span><span style=\"color: #008080; text-decoration-color: #008080\">: </span><span style=\"color: #008080; text-decoration-color: #008080; font-weight: bold\">[]</span>\n",
       "<span style=\"color: #008080; text-decoration-color: #008080; font-weight: bold\">}</span>\n",
       "</pre>\n"
      ],
      "text/plain": [
       "\u001b[1;36m{\u001b[0m\n",
       "\u001b[36m    \u001b[0m\u001b[32m'namespace'\u001b[0m\u001b[36m: \u001b[0m\u001b[32m'AI-Toolkit-Demo-2'\u001b[0m\u001b[36m,\u001b[0m\n",
       "\u001b[36m    \u001b[0m\u001b[32m'query_handlers'\u001b[0m\u001b[36m: \u001b[0m\u001b[1;36m[\u001b[0m\u001b[32m'scraper'\u001b[0m\u001b[36m, \u001b[0m\u001b[32m'web-search'\u001b[0m\u001b[1;36m]\u001b[0m\u001b[36m,\u001b[0m\n",
       "\u001b[36m    \u001b[0m\u001b[32m'storage_handlers'\u001b[0m\u001b[36m: \u001b[0m\u001b[1;36m[\u001b[0m\u001b[1;36m]\u001b[0m\u001b[36m,\u001b[0m\n",
       "\u001b[36m    \u001b[0m\u001b[32m'embed_handlers'\u001b[0m\u001b[36m: \u001b[0m\u001b[1;36m[\u001b[0m\u001b[1;36m]\u001b[0m\u001b[36m,\u001b[0m\n",
       "\u001b[36m    \u001b[0m\u001b[32m'agent_handlers'\u001b[0m\u001b[36m: \u001b[0m\u001b[1;36m[\u001b[0m\u001b[1;36m]\u001b[0m\n",
       "\u001b[1;36m}\u001b[0m\n"
      ]
     },
     "metadata": {},
     "output_type": "display_data"
    },
    {
     "data": {
      "text/html": [
       "<pre style=\"white-space:pre;overflow-x:auto;line-height:normal;font-family:Menlo,'DejaVu Sans Mono',consolas,'Courier New',monospace\">\n",
       "<span style=\"color: #008000; text-decoration-color: #008000; font-weight: bold\">✓ Successfully registered client!</span>\n",
       "</pre>\n"
      ],
      "text/plain": [
       "\n",
       "\u001b[1;32m✓ Successfully registered client!\u001b[0m\n"
      ]
     },
     "metadata": {},
     "output_type": "display_data"
    },
    {
     "name": "stderr",
     "output_type": "stream",
     "text": [
      "2025-02-14 20:48:40,802 \u001b[32mINFO\u001b[0m     - FastStream app starting...\n"
     ]
    },
    {
     "name": "stdout",
     "output_type": "stream",
     "text": [
      "2025-02-14 20:48:40,884 \u001b[32mINFO\u001b[0m     - queue | kitchenai.service.1da00-a27a-400e-9568sdasd6uuu.query.*        |            - `HandleQuery` waiting for messages\n",
      "2025-02-14 20:48:40,884 \u001b[32mINFO\u001b[0m     - queue | kitchenai.service.1da00-a27a-400e-9568sdasd6uuu.query.*        |            - `HandleQuery` waiting for messages\n",
      "2025-02-14 20:48:40,884 \u001b[32mINFO\u001b[0m     - queue | kitchenai.service.1da00-a27a-400e-9568sdasd6uuu.query.*          |            - `HandleQuery` waiting for messages\n",
      "2025-02-14 20:48:40,884 \u001b[32mINFO\u001b[0m     - queue | kitchenai.service.1da00-a27a-400e-9568sdasd6uuu.query.*          |            - `HandleQuery` waiting for messages\n",
      "2025-02-14 20:48:40,884 \u001b[32mINFO\u001b[0m     - queue | kitchenai.service.1da00-a27a-400e-9568sdasd6uuu.query.*          |            - `HandleQuery` waiting for messages\n",
      "2025-02-14 20:48:40,884 \u001b[32mINFO\u001b[0m     - queue | kitchenai.service.1da00-a27a-400e-9568sdasd6uuu.query.*          |            - `HandleQuery` waiting for messages\n",
      "2025-02-14 20:48:40,884 \u001b[32mINFO\u001b[0m     - queue | kitchenai.service.1da00-a27a-400e-9568sdasd6uuu.query.*       |            - `HandleQuery` waiting for messages\n",
      "2025-02-14 20:48:40,884 \u001b[32mINFO\u001b[0m     - queue | kitchenai.service.1da00-a27a-400e-9568sdasd6uuu.query.*          |            - `HandleQuery` waiting for messages\n",
      "2025-02-14 20:48:40,890 \u001b[32mINFO\u001b[0m     - queue | kitchenai.service.1da00-a27a-400e-9568sdasd6uuu.heartbeat      |            - `HandleHeartbeat` waiting for messages\n",
      "2025-02-14 20:48:40,890 \u001b[32mINFO\u001b[0m     - queue | kitchenai.service.1da00-a27a-400e-9568sdasd6uuu.heartbeat      |            - `HandleHeartbeat` waiting for messages\n",
      "2025-02-14 20:48:40,890 \u001b[32mINFO\u001b[0m     - queue | kitchenai.service.1da00-a27a-400e-9568sdasd6uuu.heartbeat        |            - `HandleHeartbeat` waiting for messages\n",
      "2025-02-14 20:48:40,890 \u001b[32mINFO\u001b[0m     - queue | kitchenai.service.1da00-a27a-400e-9568sdasd6uuu.heartbeat        |            - `HandleHeartbeat` waiting for messages\n",
      "2025-02-14 20:48:40,890 \u001b[32mINFO\u001b[0m     - queue | kitchenai.service.1da00-a27a-400e-9568sdasd6uuu.heartbeat        |            - `HandleHeartbeat` waiting for messages\n",
      "2025-02-14 20:48:40,890 \u001b[32mINFO\u001b[0m     - queue | kitchenai.service.1da00-a27a-400e-9568sdasd6uuu.heartbeat        |            - `HandleHeartbeat` waiting for messages\n",
      "2025-02-14 20:48:40,890 \u001b[32mINFO\u001b[0m     - queue | kitchenai.service.1da00-a27a-400e-9568sdasd6uuu.heartbeat     |            - `HandleHeartbeat` waiting for messages\n",
      "2025-02-14 20:48:40,890 \u001b[32mINFO\u001b[0m     - queue | kitchenai.service.1da00-a27a-400e-9568sdasd6uuu.heartbeat        |            - `HandleHeartbeat` waiting for messages\n",
      "2025-02-14 20:48:40,896 \u001b[32mINFO\u001b[0m     - queue | kitchenai.service.1da00-a27a-400e-9568sdasd6uuu.storage.*      |            - `HandleStorage` waiting for messages\n",
      "2025-02-14 20:48:40,896 \u001b[32mINFO\u001b[0m     - queue | kitchenai.service.1da00-a27a-400e-9568sdasd6uuu.storage.*      |            - `HandleStorage` waiting for messages\n",
      "2025-02-14 20:48:40,896 \u001b[32mINFO\u001b[0m     - queue | kitchenai.service.1da00-a27a-400e-9568sdasd6uuu.storage.*        |            - `HandleStorage` waiting for messages\n",
      "2025-02-14 20:48:40,896 \u001b[32mINFO\u001b[0m     - queue | kitchenai.service.1da00-a27a-400e-9568sdasd6uuu.storage.*        |            - `HandleStorage` waiting for messages\n",
      "2025-02-14 20:48:40,896 \u001b[32mINFO\u001b[0m     - queue | kitchenai.service.1da00-a27a-400e-9568sdasd6uuu.storage.*        |            - `HandleStorage` waiting for messages\n",
      "2025-02-14 20:48:40,896 \u001b[32mINFO\u001b[0m     - queue | kitchenai.service.1da00-a27a-400e-9568sdasd6uuu.storage.*        |            - `HandleStorage` waiting for messages\n",
      "2025-02-14 20:48:40,896 \u001b[32mINFO\u001b[0m     - queue | kitchenai.service.1da00-a27a-400e-9568sdasd6uuu.storage.*     |            - `HandleStorage` waiting for messages\n",
      "2025-02-14 20:48:40,896 \u001b[32mINFO\u001b[0m     - queue | kitchenai.service.1da00-a27a-400e-9568sdasd6uuu.storage.*        |            - `HandleStorage` waiting for messages\n",
      "2025-02-14 20:48:40,901 \u001b[32mINFO\u001b[0m     - queue | kitchenai.service.1da00-a27a-400e-9568sdasd6uuu.storage.*.delete |            - `HandleStorageDelete` waiting for messages\n",
      "2025-02-14 20:48:40,901 \u001b[32mINFO\u001b[0m     - queue | kitchenai.service.1da00-a27a-400e-9568sdasd6uuu.storage.*.delete |            - `HandleStorageDelete` waiting for messages\n",
      "2025-02-14 20:48:40,901 \u001b[32mINFO\u001b[0m     - queue | kitchenai.service.1da00-a27a-400e-9568sdasd6uuu.storage.*.delete |            - `HandleStorageDelete` waiting for messages\n",
      "2025-02-14 20:48:40,901 \u001b[32mINFO\u001b[0m     - queue | kitchenai.service.1da00-a27a-400e-9568sdasd6uuu.storage.*.delete |            - `HandleStorageDelete` waiting for messages\n",
      "2025-02-14 20:48:40,901 \u001b[32mINFO\u001b[0m     - queue | kitchenai.service.1da00-a27a-400e-9568sdasd6uuu.storage.*.delete |            - `HandleStorageDelete` waiting for messages\n",
      "2025-02-14 20:48:40,901 \u001b[32mINFO\u001b[0m     - queue | kitchenai.service.1da00-a27a-400e-9568sdasd6uuu.storage.*.delete |            - `HandleStorageDelete` waiting for messages\n",
      "2025-02-14 20:48:40,901 \u001b[32mINFO\u001b[0m     - queue | kitchenai.service.1da00-a27a-400e-9568sdasd6uuu.storage.*.delete |            - `HandleStorageDelete` waiting for messages\n",
      "2025-02-14 20:48:40,901 \u001b[32mINFO\u001b[0m     - queue | kitchenai.service.1da00-a27a-400e-9568sdasd6uuu.storage.*.delete |            - `HandleStorageDelete` waiting for messages\n"
     ]
    },
    {
     "name": "stderr",
     "output_type": "stream",
     "text": [
      "2025-02-14 20:48:40,906 \u001b[32mINFO\u001b[0m     - FastStream app started successfully! To exit, press CTRL+C\n"
     ]
    },
    {
     "name": "stdout",
     "output_type": "stream",
     "text": [
      "2025-02-14 20:50:16,090 \u001b[32mINFO\u001b[0m     - queue | kitchenai.service.1da00-a27a-400e-9568sdasd6uuu.query.*        | 0ef9b4c5-a - Received\n",
      "2025-02-14 20:50:16,090 \u001b[32mINFO\u001b[0m     - queue | kitchenai.service.1da00-a27a-400e-9568sdasd6uuu.query.*        | 0ef9b4c5-a - Received\n",
      "2025-02-14 20:50:16,090 \u001b[32mINFO\u001b[0m     - queue | kitchenai.service.1da00-a27a-400e-9568sdasd6uuu.query.*          | 0ef9b4c5-a - Received\n",
      "2025-02-14 20:50:16,090 \u001b[32mINFO\u001b[0m     - queue | kitchenai.service.1da00-a27a-400e-9568sdasd6uuu.query.*          | 0ef9b4c5-a - Received\n",
      "2025-02-14 20:50:16,090 \u001b[32mINFO\u001b[0m     - queue | kitchenai.service.1da00-a27a-400e-9568sdasd6uuu.query.*          | 0ef9b4c5-a - Received\n",
      "2025-02-14 20:50:16,090 \u001b[32mINFO\u001b[0m     - queue | kitchenai.service.1da00-a27a-400e-9568sdasd6uuu.query.*          | 0ef9b4c5-a - Received\n",
      "2025-02-14 20:50:16,090 \u001b[32mINFO\u001b[0m     - queue | kitchenai.service.1da00-a27a-400e-9568sdasd6uuu.query.*       | 0ef9b4c5-a - Received\n",
      "2025-02-14 20:50:16,090 \u001b[32mINFO\u001b[0m     - queue | kitchenai.service.1da00-a27a-400e-9568sdasd6uuu.query.*          | 0ef9b4c5-a - Received\n",
      "2025-02-14 20:50:16,098 \u001b[32mINFO\u001b[0m     - queue | kitchenai.service.1da00-a27a-400e-9568sdasd6uuu.query.*        | 0ef9b4c5-a - Query request: query='what do you know about nvidia?' stream=False stream_id=None metadata={} label='scraper' messages=None request_id='96f2d017-bb1a-4ee9-ab7e-be89c52672b8' timestamp=1739566216.076684 client_id='1da00-a27a-400e-9568sdasd6uuu'\n",
      "2025-02-14 20:50:16,098 \u001b[32mINFO\u001b[0m     - queue | kitchenai.service.1da00-a27a-400e-9568sdasd6uuu.query.*        | 0ef9b4c5-a - Query request: query='what do you know about nvidia?' stream=False stream_id=None metadata={} label='scraper' messages=None request_id='96f2d017-bb1a-4ee9-ab7e-be89c52672b8' timestamp=1739566216.076684 client_id='1da00-a27a-400e-9568sdasd6uuu'\n",
      "2025-02-14 20:50:16,098 \u001b[32mINFO\u001b[0m     - queue | kitchenai.service.1da00-a27a-400e-9568sdasd6uuu.query.*          | 0ef9b4c5-a - Query request: query='what do you know about nvidia?' stream=False stream_id=None metadata={} label='scraper' messages=None request_id='96f2d017-bb1a-4ee9-ab7e-be89c52672b8' timestamp=1739566216.076684 client_id='1da00-a27a-400e-9568sdasd6uuu'\n",
      "2025-02-14 20:50:16,098 \u001b[32mINFO\u001b[0m     - queue | kitchenai.service.1da00-a27a-400e-9568sdasd6uuu.query.*          | 0ef9b4c5-a - Query request: query='what do you know about nvidia?' stream=False stream_id=None metadata={} label='scraper' messages=None request_id='96f2d017-bb1a-4ee9-ab7e-be89c52672b8' timestamp=1739566216.076684 client_id='1da00-a27a-400e-9568sdasd6uuu'\n",
      "2025-02-14 20:50:16,098 \u001b[32mINFO\u001b[0m     - queue | kitchenai.service.1da00-a27a-400e-9568sdasd6uuu.query.*          | 0ef9b4c5-a - Query request: query='what do you know about nvidia?' stream=False stream_id=None metadata={} label='scraper' messages=None request_id='96f2d017-bb1a-4ee9-ab7e-be89c52672b8' timestamp=1739566216.076684 client_id='1da00-a27a-400e-9568sdasd6uuu'\n",
      "2025-02-14 20:50:16,098 \u001b[32mINFO\u001b[0m     - queue | kitchenai.service.1da00-a27a-400e-9568sdasd6uuu.query.*          | 0ef9b4c5-a - Query request: query='what do you know about nvidia?' stream=False stream_id=None metadata={} label='scraper' messages=None request_id='96f2d017-bb1a-4ee9-ab7e-be89c52672b8' timestamp=1739566216.076684 client_id='1da00-a27a-400e-9568sdasd6uuu'\n",
      "2025-02-14 20:50:16,098 \u001b[32mINFO\u001b[0m     - queue | kitchenai.service.1da00-a27a-400e-9568sdasd6uuu.query.*       | 0ef9b4c5-a - Query request: query='what do you know about nvidia?' stream=False stream_id=None metadata={} label='scraper' messages=None request_id='96f2d017-bb1a-4ee9-ab7e-be89c52672b8' timestamp=1739566216.076684 client_id='1da00-a27a-400e-9568sdasd6uuu'\n",
      "2025-02-14 20:50:16,098 \u001b[32mINFO\u001b[0m     - queue | kitchenai.service.1da00-a27a-400e-9568sdasd6uuu.query.*          | 0ef9b4c5-a - Query request: query='what do you know about nvidia?' stream=False stream_id=None metadata={} label='scraper' messages=None request_id='96f2d017-bb1a-4ee9-ab7e-be89c52672b8' timestamp=1739566216.076684 client_id='1da00-a27a-400e-9568sdasd6uuu'\n",
      "2025-02-14 20:50:20,369 \u001b[32mINFO\u001b[0m     - queue | kitchenai.service.1da00-a27a-400e-9568sdasd6uuu.query.*        | 0ef9b4c5-a - Processed\n",
      "2025-02-14 20:50:20,369 \u001b[32mINFO\u001b[0m     - queue | kitchenai.service.1da00-a27a-400e-9568sdasd6uuu.query.*        | 0ef9b4c5-a - Processed\n",
      "2025-02-14 20:50:20,369 \u001b[32mINFO\u001b[0m     - queue | kitchenai.service.1da00-a27a-400e-9568sdasd6uuu.query.*          | 0ef9b4c5-a - Processed\n",
      "2025-02-14 20:50:20,369 \u001b[32mINFO\u001b[0m     - queue | kitchenai.service.1da00-a27a-400e-9568sdasd6uuu.query.*          | 0ef9b4c5-a - Processed\n",
      "2025-02-14 20:50:20,369 \u001b[32mINFO\u001b[0m     - queue | kitchenai.service.1da00-a27a-400e-9568sdasd6uuu.query.*          | 0ef9b4c5-a - Processed\n",
      "2025-02-14 20:50:20,369 \u001b[32mINFO\u001b[0m     - queue | kitchenai.service.1da00-a27a-400e-9568sdasd6uuu.query.*          | 0ef9b4c5-a - Processed\n",
      "2025-02-14 20:50:20,369 \u001b[32mINFO\u001b[0m     - queue | kitchenai.service.1da00-a27a-400e-9568sdasd6uuu.query.*       | 0ef9b4c5-a - Processed\n",
      "2025-02-14 20:50:20,369 \u001b[32mINFO\u001b[0m     - queue | kitchenai.service.1da00-a27a-400e-9568sdasd6uuu.query.*          | 0ef9b4c5-a - Processed\n",
      "2025-02-14 20:53:14,548 \u001b[32mINFO\u001b[0m     - queue | kitchenai.service.1da00-a27a-400e-9568sdasd6uuu.query.*        | 437ae2c2-a - Received\n",
      "2025-02-14 20:53:14,548 \u001b[32mINFO\u001b[0m     - queue | kitchenai.service.1da00-a27a-400e-9568sdasd6uuu.query.*        | 437ae2c2-a - Received\n",
      "2025-02-14 20:53:14,548 \u001b[32mINFO\u001b[0m     - queue | kitchenai.service.1da00-a27a-400e-9568sdasd6uuu.query.*          | 437ae2c2-a - Received\n",
      "2025-02-14 20:53:14,548 \u001b[32mINFO\u001b[0m     - queue | kitchenai.service.1da00-a27a-400e-9568sdasd6uuu.query.*          | 437ae2c2-a - Received\n",
      "2025-02-14 20:53:14,548 \u001b[32mINFO\u001b[0m     - queue | kitchenai.service.1da00-a27a-400e-9568sdasd6uuu.query.*          | 437ae2c2-a - Received\n",
      "2025-02-14 20:53:14,548 \u001b[32mINFO\u001b[0m     - queue | kitchenai.service.1da00-a27a-400e-9568sdasd6uuu.query.*          | 437ae2c2-a - Received\n",
      "2025-02-14 20:53:14,548 \u001b[32mINFO\u001b[0m     - queue | kitchenai.service.1da00-a27a-400e-9568sdasd6uuu.query.*       | 437ae2c2-a - Received\n",
      "2025-02-14 20:53:14,548 \u001b[32mINFO\u001b[0m     - queue | kitchenai.service.1da00-a27a-400e-9568sdasd6uuu.query.*          | 437ae2c2-a - Received\n",
      "2025-02-14 20:53:14,556 \u001b[32mINFO\u001b[0m     - queue | kitchenai.service.1da00-a27a-400e-9568sdasd6uuu.query.*        | 437ae2c2-a - Query request: query='what do you know about nvidia?' stream=False stream_id=None metadata={} label='web-search' messages=None request_id='a753c537-a496-48ec-a588-e05b2a95bd17' timestamp=1739566394.5344775 client_id='1da00-a27a-400e-9568sdasd6uuu'\n",
      "2025-02-14 20:53:14,556 \u001b[32mINFO\u001b[0m     - queue | kitchenai.service.1da00-a27a-400e-9568sdasd6uuu.query.*        | 437ae2c2-a - Query request: query='what do you know about nvidia?' stream=False stream_id=None metadata={} label='web-search' messages=None request_id='a753c537-a496-48ec-a588-e05b2a95bd17' timestamp=1739566394.5344775 client_id='1da00-a27a-400e-9568sdasd6uuu'\n",
      "2025-02-14 20:53:14,556 \u001b[32mINFO\u001b[0m     - queue | kitchenai.service.1da00-a27a-400e-9568sdasd6uuu.query.*          | 437ae2c2-a - Query request: query='what do you know about nvidia?' stream=False stream_id=None metadata={} label='web-search' messages=None request_id='a753c537-a496-48ec-a588-e05b2a95bd17' timestamp=1739566394.5344775 client_id='1da00-a27a-400e-9568sdasd6uuu'\n",
      "2025-02-14 20:53:14,556 \u001b[32mINFO\u001b[0m     - queue | kitchenai.service.1da00-a27a-400e-9568sdasd6uuu.query.*          | 437ae2c2-a - Query request: query='what do you know about nvidia?' stream=False stream_id=None metadata={} label='web-search' messages=None request_id='a753c537-a496-48ec-a588-e05b2a95bd17' timestamp=1739566394.5344775 client_id='1da00-a27a-400e-9568sdasd6uuu'\n",
      "2025-02-14 20:53:14,556 \u001b[32mINFO\u001b[0m     - queue | kitchenai.service.1da00-a27a-400e-9568sdasd6uuu.query.*          | 437ae2c2-a - Query request: query='what do you know about nvidia?' stream=False stream_id=None metadata={} label='web-search' messages=None request_id='a753c537-a496-48ec-a588-e05b2a95bd17' timestamp=1739566394.5344775 client_id='1da00-a27a-400e-9568sdasd6uuu'\n",
      "2025-02-14 20:53:14,556 \u001b[32mINFO\u001b[0m     - queue | kitchenai.service.1da00-a27a-400e-9568sdasd6uuu.query.*          | 437ae2c2-a - Query request: query='what do you know about nvidia?' stream=False stream_id=None metadata={} label='web-search' messages=None request_id='a753c537-a496-48ec-a588-e05b2a95bd17' timestamp=1739566394.5344775 client_id='1da00-a27a-400e-9568sdasd6uuu'\n",
      "2025-02-14 20:53:14,556 \u001b[32mINFO\u001b[0m     - queue | kitchenai.service.1da00-a27a-400e-9568sdasd6uuu.query.*       | 437ae2c2-a - Query request: query='what do you know about nvidia?' stream=False stream_id=None metadata={} label='web-search' messages=None request_id='a753c537-a496-48ec-a588-e05b2a95bd17' timestamp=1739566394.5344775 client_id='1da00-a27a-400e-9568sdasd6uuu'\n",
      "2025-02-14 20:53:14,556 \u001b[32mINFO\u001b[0m     - queue | kitchenai.service.1da00-a27a-400e-9568sdasd6uuu.query.*          | 437ae2c2-a - Query request: query='what do you know about nvidia?' stream=False stream_id=None metadata={} label='web-search' messages=None request_id='a753c537-a496-48ec-a588-e05b2a95bd17' timestamp=1739566394.5344775 client_id='1da00-a27a-400e-9568sdasd6uuu'\n",
      "2025-02-14 20:53:17,135 \u001b[32mINFO\u001b[0m     - queue | kitchenai.service.1da00-a27a-400e-9568sdasd6uuu.query.*        | 437ae2c2-a - Processed\n",
      "2025-02-14 20:53:17,135 \u001b[32mINFO\u001b[0m     - queue | kitchenai.service.1da00-a27a-400e-9568sdasd6uuu.query.*        | 437ae2c2-a - Processed\n",
      "2025-02-14 20:53:17,135 \u001b[32mINFO\u001b[0m     - queue | kitchenai.service.1da00-a27a-400e-9568sdasd6uuu.query.*          | 437ae2c2-a - Processed\n",
      "2025-02-14 20:53:17,135 \u001b[32mINFO\u001b[0m     - queue | kitchenai.service.1da00-a27a-400e-9568sdasd6uuu.query.*          | 437ae2c2-a - Processed\n",
      "2025-02-14 20:53:17,135 \u001b[32mINFO\u001b[0m     - queue | kitchenai.service.1da00-a27a-400e-9568sdasd6uuu.query.*          | 437ae2c2-a - Processed\n",
      "2025-02-14 20:53:17,135 \u001b[32mINFO\u001b[0m     - queue | kitchenai.service.1da00-a27a-400e-9568sdasd6uuu.query.*          | 437ae2c2-a - Processed\n",
      "2025-02-14 20:53:17,135 \u001b[32mINFO\u001b[0m     - queue | kitchenai.service.1da00-a27a-400e-9568sdasd6uuu.query.*       | 437ae2c2-a - Processed\n",
      "2025-02-14 20:53:17,135 \u001b[32mINFO\u001b[0m     - queue | kitchenai.service.1da00-a27a-400e-9568sdasd6uuu.query.*          | 437ae2c2-a - Processed\n"
     ]
    },
    {
     "name": "stderr",
     "output_type": "stream",
     "text": [
      "2025-02-14 21:00:03,582 \u001b[32mINFO\u001b[0m     - FastStream app shutting down...\n",
      "2025-02-14 21:00:03,610 \u001b[32mINFO\u001b[0m     - FastStream app shut down gracefully.\n"
     ]
    }
   ],
   "source": [
    "\n",
    "client = WhiskClient(\n",
    "    nats_url=\"nats://nats.playground.kitchenai.dev:4222\",\n",
    "    client_id=\"1da00-a27a-400e-9568sdasd6uuu\", #change to any random id you want. This has 1-1 relation with KtichenAI app. For playground, generate client_id from https://playground.kitchenai.dev/apps/playground/.\n",
    "    user=\"playground\", #optional if you are using playground url\n",
    "    password=\"kitchenai_playground\", #optional if you are using playground url\n",
    "    kitchen=kitchen,\n",
    ")\n",
    "await client.run()"
   ]
  },
  {
   "cell_type": "markdown",
   "metadata": {},
   "source": [
    "📌 **Execution:**  \n",
    "- The **Web Search Agent** handles search queries.  \n",
    "- The **Scraper Agent** extracts data.  \n",
    "- The **LLM processes everything** and returns a structured response.  \n",
    "- **No need to manually call individual AI agents.**  \n",
    "\n",
    "---"
   ]
  },
  {
   "cell_type": "markdown",
   "metadata": {},
   "source": [
    "## What We Learned\n",
    "\n",
    "1️⃣ **Traditional AI Workflows** require **manual agent setup, API calls, and tool management**.  \n",
    "2️⃣ **KitchenAI** allows us to **register AI tools once and use them dynamically**.  \n",
    "3️⃣ **Scalability** – We can **add new capabilities without rewriting code**.  \n"
   ]
  }
 ],
 "metadata": {
  "kernelspec": {
   "display_name": "kitchenai-whisk",
   "language": "python",
   "name": "python3"
  },
  "language_info": {
   "codemirror_mode": {
    "name": "ipython",
    "version": 3
   },
   "file_extension": ".py",
   "mimetype": "text/x-python",
   "name": "python",
   "nbconvert_exporter": "python",
   "pygments_lexer": "ipython3",
   "version": "3.11.8"
  }
 },
 "nbformat": 4,
 "nbformat_minor": 2
}
