{
 "cells": [
  {
   "cell_type": "code",
   "execution_count": null,
   "metadata": {},
   "outputs": [],
   "source": [
    "%pip install nest_asyncio"
   ]
  },
  {
   "cell_type": "code",
   "execution_count": 1,
   "metadata": {},
   "outputs": [],
   "source": [
    "import nest_asyncio\n"
   ]
  },
  {
   "cell_type": "code",
   "execution_count": 2,
   "metadata": {},
   "outputs": [],
   "source": [
    "nest_asyncio.apply()\n"
   ]
  },
  {
   "cell_type": "code",
   "execution_count": 5,
   "metadata": {},
   "outputs": [
    {
     "name": "stdout",
     "output_type": "stream",
     "text": [
      "ChatCompletion(id='chatcmpl-1739769080', choices=[Choice(finish_reason='stop', index=0, logprobs=None, message=ChatCompletionMessage(content='The most important part of a README file is typically the introduction or overview section. This section should provide a brief summary of the project, its purpose, and any key information that users or contributors need to know. It sets the tone for the rest of the document and helps readers quickly understand what the project is about and how they can get started.', refusal=None, role='assistant', audio=None, function_call=None, tool_calls=None))], created=1739769080, model='@whisk-example-app-0.0.1/chat.completions', object='chat.completion', service_tier=None, system_fingerprint=None, usage=None, metadata=None)\n"
     ]
    }
   ],
   "source": [
    "from openai import OpenAI\n",
    "\n",
    "client = OpenAI(base_url=\"http://localhost:8000/v1\")\n",
    "\n",
    "\n",
    "response = client.chat.completions.create(\n",
    "    model=\"@whisk-example-app-0.0.1/chat.completions\",\n",
    "    messages=[{\"role\": \"user\", \"content\": \"whats the most important part of the readme?\"}],\n",
    "    metadata={\"user_id\": \"123\"},\n",
    ")\n",
    "\n",
    "print(response)\n"
   ]
  },
  {
   "cell_type": "code",
   "execution_count": 8,
   "metadata": {},
   "outputs": [
    {
     "name": "stdout",
     "output_type": "stream",
     "text": [
      "FileObject(id='file-1739769258', bytes=23475, created_at=1739769258, filename='README.md', object='file', purpose='chat', status='processed', status_details=None)\n"
     ]
    }
   ],
   "source": [
    "import json\n",
    "\n",
    "from whisk.kitchenai_sdk.http_schema import FileExtraBody   \n",
    "\n",
    "file_extra_body = FileExtraBody(\n",
    "    model=\"@whisk-example-app-0.0.1/storage\",\n",
    "    metadata=\"user_id=123,other_key=value\"  # Changed to string format\n",
    ")\n",
    "\n",
    "response = client.files.create(\n",
    "    file=open(\"README.md\", \"rb\"),\n",
    "    purpose=\"chat\",\n",
    "    extra_body=file_extra_body.model_dump()\n",
    ")\n",
    "print(response)"
   ]
  },
  {
   "cell_type": "code",
   "execution_count": null,
   "metadata": {},
   "outputs": [],
   "source": [
    "client.files.list()\n"
   ]
  },
  {
   "cell_type": "code",
   "execution_count": null,
   "metadata": {},
   "outputs": [],
   "source": [
    "client.files.retrieve(\"36\")\n"
   ]
  },
  {
   "cell_type": "code",
   "execution_count": null,
   "metadata": {},
   "outputs": [],
   "source": [
    "client.files.delete(\"15\")\n"
   ]
  }
 ],
 "metadata": {
  "kernelspec": {
   "display_name": "kitchenai-whisk",
   "language": "python",
   "name": "python3"
  },
  "language_info": {
   "codemirror_mode": {
    "name": "ipython",
    "version": 3
   },
   "file_extension": ".py",
   "mimetype": "text/x-python",
   "name": "python",
   "nbconvert_exporter": "python",
   "pygments_lexer": "ipython3",
   "version": "3.11.8"
  }
 },
 "nbformat": 4,
 "nbformat_minor": 4
}
