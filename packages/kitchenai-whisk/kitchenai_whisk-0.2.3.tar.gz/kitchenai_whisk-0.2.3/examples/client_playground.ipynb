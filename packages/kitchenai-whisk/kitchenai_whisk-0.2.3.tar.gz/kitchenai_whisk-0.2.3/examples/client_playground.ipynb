{
 "cells": [
  {
   "cell_type": "markdown",
   "metadata": {},
   "source": [
    "# Using the OpenAI Client with Whisk\n",
    "\n",
    "This notebook will walk you through examples of how you can interact with whisk using the OpenAI client.\n",
    "\n",
    "We will cover the following topics:\n",
    "- Chat Completions\n",
    "- File Uploads\n",
    "- Retrieving Files\n",
    "- Deleting Files"
   ]
  },
  {
   "cell_type": "code",
   "execution_count": 1,
   "metadata": {},
   "outputs": [
    {
     "name": "stdout",
     "output_type": "stream",
     "text": [
      "Requirement already satisfied: nest_asyncio in /home/epuerta/.local/share/hatch/env/virtual/kitchenai-whisk/jlwMXi0k/kitchenai-whisk/lib/python3.11/site-packages (1.6.0)\n",
      "\n",
      "\u001b[1m[\u001b[0m\u001b[34;49mnotice\u001b[0m\u001b[1;39;49m]\u001b[0m\u001b[39;49m A new release of pip is available: \u001b[0m\u001b[31;49m24.2\u001b[0m\u001b[39;49m -> \u001b[0m\u001b[32;49m25.0.1\u001b[0m\n",
      "\u001b[1m[\u001b[0m\u001b[34;49mnotice\u001b[0m\u001b[1;39;49m]\u001b[0m\u001b[39;49m To update, run: \u001b[0m\u001b[32;49mpip install --upgrade pip\u001b[0m\n",
      "Note: you may need to restart the kernel to use updated packages.\n"
     ]
    }
   ],
   "source": [
    "%pip install nest_asyncio"
   ]
  },
  {
   "cell_type": "code",
   "execution_count": 2,
   "metadata": {},
   "outputs": [],
   "source": [
    "import nest_asyncio\n"
   ]
  },
  {
   "cell_type": "code",
   "execution_count": 3,
   "metadata": {},
   "outputs": [],
   "source": [
    "nest_asyncio.apply()\n"
   ]
  },
  {
   "cell_type": "markdown",
   "metadata": {},
   "source": [
    "# Endpoint \n",
    "\n",
    "point the base_url to the whisk server"
   ]
  },
  {
   "cell_type": "code",
   "execution_count": 4,
   "metadata": {},
   "outputs": [],
   "source": [
    "from openai import OpenAI\n",
    "\n",
    "client = OpenAI(base_url=\"http://localhost:8000/v1\")"
   ]
  },
  {
   "cell_type": "markdown",
   "metadata": {},
   "source": [
    "# Chat Completions\n",
    "\n",
    "model is your whisk app in the following format @app-name-version/handler-name\n",
    "\n",
    "metadata is a dictionary of key-value pairs that will be added to the request"
   ]
  },
  {
   "cell_type": "code",
   "execution_count": 5,
   "metadata": {},
   "outputs": [
    {
     "name": "stdout",
     "output_type": "stream",
     "text": [
      "ChatCompletion(id='chatcmpl-1739769080', choices=[Choice(finish_reason='stop', index=0, logprobs=None, message=ChatCompletionMessage(content='The most important part of a README file is typically the introduction or overview section. This section should provide a brief summary of the project, its purpose, and any key information that users or contributors need to know. It sets the tone for the rest of the document and helps readers quickly understand what the project is about and how they can get started.', refusal=None, role='assistant', audio=None, function_call=None, tool_calls=None))], created=1739769080, model='@whisk-example-app-0.0.1/chat.completions', object='chat.completion', service_tier=None, system_fingerprint=None, usage=None, metadata=None)\n"
     ]
    }
   ],
   "source": [
    "\n",
    "\n",
    "\n",
    "response = client.chat.completions.create(\n",
    "    model=\"@storage-example-0.0.1/default\",\n",
    "    messages=[{\"role\": \"user\", \"content\": \"whats the most important part of the readme?\"}],\n",
    "    metadata={\"user_id\": \"123\"},\n",
    ")\n",
    "\n",
    "print(response)\n"
   ]
  },
  {
   "cell_type": "markdown",
   "metadata": {},
   "source": [
    "# Storage With Custom Storage"
   ]
  },
  {
   "cell_type": "markdown",
   "metadata": {},
   "source": [
    "# File Uploads with FileExtraBody\n",
    "\n",
    "The FileExtraBody class allows you to specify additional parameters when uploading files:\n",
    "- model: Target a specific storage handler using format \"@app-name-version/handler-name\" \n",
    "- metadata: Additional metadata as a comma-separated string of key=value pairs\n",
    "\n",
    "Examples:\n",
    "1. Using custom storage handler:\n",
    "   file_extra = FileExtraBody(\n",
    "       model=\"@storage-example-0.0.1/custom-storage\",\n",
    "       metadata=\"user_id=123,purpose=chat\"\n",
    "   )\n",
    "\n",
    "2. Default storage handler:\n",
    "   No extra body needed, just use client.files.create() directly\n",
    "\n",
    "The client.files API supports:\n",
    "- create(): Upload new files\n",
    "- list(): List all files\n",
    "- retrieve(): Get file details\n",
    "- delete(): Remove files\n"
   ]
  },
  {
   "cell_type": "code",
   "execution_count": 27,
   "metadata": {},
   "outputs": [
    {
     "name": "stdout",
     "output_type": "stream",
     "text": [
      "FileObject(id='file-file-1739906089', bytes=10340, created_at=1739906089, filename='README.md', object='file', purpose='chat', status='processed', status_details=None)\n"
     ]
    }
   ],
   "source": [
    "import json\n",
    "\n",
    "from whisk.kitchenai_sdk.http_schema import FileExtraBody   \n",
    "#targeting custom storage handler\n",
    "file_extra_body = FileExtraBody(\n",
    "    model=\"@storage-example-0.0.1/custom-storage\",\n",
    "    metadata=\"user_id=123,other_key=value\"  # Changed to string format\n",
    ")\n",
    "\n",
    "response = client.files.create(\n",
    "    file=open(\"README.md\", \"rb\"),\n",
    "    purpose=\"chat\",\n",
    "    extra_body=file_extra_body.model_dump()\n",
    ")\n",
    "print(response)"
   ]
  },
  {
   "cell_type": "markdown",
   "metadata": {},
   "source": [
    "# Get Requests\n",
    "\n",
    "using the same extra body as above for query fields on get requests"
   ]
  },
  {
   "cell_type": "code",
   "execution_count": 29,
   "metadata": {},
   "outputs": [
    {
     "data": {
      "text/plain": [
       "SyncCursorPage[FileObject](data=[FileObject(id='file-file-1739904468', bytes=10340, created_at=1739904468, filename='file-1739904468', object='file', purpose='fine-tune', status='processed', status_details=None), FileObject(id='file-file-1739905883', bytes=10340, created_at=1739905883, filename='file-1739905883', object='file', purpose='fine-tune', status='processed', status_details=None), FileObject(id='file-file-1739906089', bytes=10340, created_at=1739906089, filename='file-1739906089', object='file', purpose='fine-tune', status='processed', status_details=None), FileObject(id='file-file-1739905460', bytes=10340, created_at=1739905460, filename='file-1739905460', object='file', purpose='fine-tune', status='processed', status_details=None), FileObject(id='file-file-1739905405', bytes=10340, created_at=1739905405, filename='file-1739905405', object='file', purpose='fine-tune', status='processed', status_details=None)], has_more=False, object='list', first_id='file-file-1739904468', last_id='file-file-1739905405', after='file-file-1739905405', before=None)"
      ]
     },
     "execution_count": 29,
     "metadata": {},
     "output_type": "execute_result"
    }
   ],
   "source": [
    "file_extra_query = FileExtraBody(\n",
    "    model=\"@storage-example-0.0.1/custom-storage\",\n",
    "    metadata=\"user_id=123,other_key=value\"  # Changed to string format\n",
    ")\n",
    "\n",
    "client.files.list(extra_query=file_extra_query.model_dump())"
   ]
  },
  {
   "cell_type": "code",
   "execution_count": 41,
   "metadata": {},
   "outputs": [
    {
     "data": {
      "text/plain": [
       "SyncCursorPage[FileObject](data=[FileObject(id='file-1739905883', bytes=10340, created_at=1739905883, filename='file-1739905883', object='file', purpose='fine-tune', status='processed', status_details=None), FileObject(id='file-1739906525', bytes=10340, created_at=1739906525, filename='file-1739906525', object='file', purpose='fine-tune', status='processed', status_details=None), FileObject(id='file-1739906089', bytes=10340, created_at=1739906089, filename='file-1739906089', object='file', purpose='fine-tune', status='processed', status_details=None), FileObject(id='file-1739905460', bytes=10340, created_at=1739905460, filename='file-1739905460', object='file', purpose='fine-tune', status='processed', status_details=None), FileObject(id='file-1739905405', bytes=10340, created_at=1739905405, filename='file-1739905405', object='file', purpose='fine-tune', status='processed', status_details=None)], has_more=False, object='list', first_id='file-1739905883', last_id='file-1739905405', after='file-1739905405', before=None)"
      ]
     },
     "execution_count": 41,
     "metadata": {},
     "output_type": "execute_result"
    }
   ],
   "source": [
    "client.files.list(extra_query=file_extra_query.model_dump())"
   ]
  },
  {
   "cell_type": "code",
   "execution_count": 53,
   "metadata": {},
   "outputs": [
    {
     "data": {
      "text/plain": [
       "FileObject(id='file-1739905883', bytes=10340, created_at=1739905883, filename='file-1739905883', object='file', purpose='fine-tune', status='processed', status_details=None)"
      ]
     },
     "execution_count": 53,
     "metadata": {},
     "output_type": "execute_result"
    }
   ],
   "source": [
    "client.files.retrieve(\"file-1739905883\", extra_query=file_extra_query.model_dump())"
   ]
  },
  {
   "cell_type": "code",
   "execution_count": 56,
   "metadata": {},
   "outputs": [
    {
     "data": {
      "text/plain": [
       "FileDeleted(id='file-1739905883', deleted=True, object='file')"
      ]
     },
     "execution_count": 56,
     "metadata": {},
     "output_type": "execute_result"
    }
   ],
   "source": [
    "client.files.delete(\"file-1739905883\", extra_query=file_extra_query.model_dump())\n"
   ]
  },
  {
   "cell_type": "markdown",
   "metadata": {},
   "source": [
    "# Targeting default storage handler\n",
    "\n",
    "You don't need to specify extra file params for each request. \n",
    "\n",
    "It will default use any handler that is name \"storage\" as the default handler. Letting you use a simpler client request."
   ]
  },
  {
   "cell_type": "code",
   "execution_count": 30,
   "metadata": {},
   "outputs": [
    {
     "name": "stdout",
     "output_type": "stream",
     "text": [
      "FileObject(id='file-file-1739906525', bytes=10340, created_at=1739906525, filename='README.md', object='file', purpose='chat', status='processed', status_details=None)\n"
     ]
    }
   ],
   "source": [
    "response = client.files.create(\n",
    "    file=open(\"README.md\", \"rb\"),\n",
    "    purpose=\"chat\",\n",
    ")\n",
    "print(response)"
   ]
  },
  {
   "cell_type": "code",
   "execution_count": 38,
   "metadata": {},
   "outputs": [
    {
     "data": {
      "text/plain": [
       "SyncCursorPage[FileObject](data=[FileObject(id='file-1739904468', bytes=10340, created_at=1739904468, filename='file-1739904468', object='file', purpose='fine-tune', status='processed', status_details=None), FileObject(id='file-1739905883', bytes=10340, created_at=1739905883, filename='file-1739905883', object='file', purpose='fine-tune', status='processed', status_details=None), FileObject(id='file-1739906525', bytes=10340, created_at=1739906525, filename='file-1739906525', object='file', purpose='fine-tune', status='processed', status_details=None), FileObject(id='file-1739906089', bytes=10340, created_at=1739906089, filename='file-1739906089', object='file', purpose='fine-tune', status='processed', status_details=None), FileObject(id='file-1739905460', bytes=10340, created_at=1739905460, filename='file-1739905460', object='file', purpose='fine-tune', status='processed', status_details=None), FileObject(id='file-1739905405', bytes=10340, created_at=1739905405, filename='file-1739905405', object='file', purpose='fine-tune', status='processed', status_details=None)], has_more=False, object='list', first_id='file-1739904468', last_id='file-1739905405', after='file-1739905405', before=None)"
      ]
     },
     "execution_count": 38,
     "metadata": {},
     "output_type": "execute_result"
    }
   ],
   "source": [
    "client.files.list()\n"
   ]
  },
  {
   "cell_type": "code",
   "execution_count": 39,
   "metadata": {},
   "outputs": [
    {
     "data": {
      "text/plain": [
       "FileObject(id='file-1739904468', bytes=10340, created_at=1739904468, filename='file-1739904468', object='file', purpose='fine-tune', status='processed', status_details=None)"
      ]
     },
     "execution_count": 39,
     "metadata": {},
     "output_type": "execute_result"
    }
   ],
   "source": [
    "client.files.retrieve(\"file-1739904468\")\n"
   ]
  },
  {
   "cell_type": "code",
   "execution_count": 40,
   "metadata": {},
   "outputs": [
    {
     "data": {
      "text/plain": [
       "FileDeleted(id='file-1739904468', deleted=True, object='file')"
      ]
     },
     "execution_count": 40,
     "metadata": {},
     "output_type": "execute_result"
    }
   ],
   "source": [
    "client.files.delete(\"file-1739904468\")\n"
   ]
  }
 ],
 "metadata": {
  "kernelspec": {
   "display_name": "kitchenai-whisk",
   "language": "python",
   "name": "python3"
  },
  "language_info": {
   "codemirror_mode": {
    "name": "ipython",
    "version": 3
   },
   "file_extension": ".py",
   "mimetype": "text/x-python",
   "name": "python",
   "nbconvert_exporter": "python",
   "pygments_lexer": "ipython3",
   "version": "3.11.8"
  }
 },
 "nbformat": 4,
 "nbformat_minor": 4
}
