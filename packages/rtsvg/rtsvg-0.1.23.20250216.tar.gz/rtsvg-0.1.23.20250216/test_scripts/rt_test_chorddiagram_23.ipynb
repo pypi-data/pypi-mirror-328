{
 "cells": [
  {
   "cell_type": "code",
   "execution_count": null,
   "metadata": {},
   "outputs": [],
   "source": [
    "import pandas as pd\n",
    "import polars as pl\n",
    "import numpy as np\n",
    "import networkx as nx\n",
    "import rtsvg\n",
    "rt = rtsvg.RACETrack()\n",
    "_base_ = '../../data/2013_vast_challenge/mc3_netflow/nf/'\n",
    "df_orig = pl.concat([pl.read_csv(_base_ + 'nf-chunk1.csv'), pl.read_csv(_base_ + 'nf-chunk2.csv'), pl.read_csv(_base_ + 'nf-chunk3.csv')])\n",
    "# df_orig = pl.concat([pl.read_csv(_base_ + 'nf-chunk2.csv')])\n",
    "df_orig = df_orig.rename({'TimeSeconds':'secs',                  'parsedDate':'timestamp',                'dateTimeStr':'timestamp_str',\n",
    "                          'ipLayerProtocol':'pro_str',           'ipLayerProtocolCode':'pro',             'firstSeenSrcIp':'sip',\n",
    "                          'firstSeenDestIp':'dip',               'firstSeenSrcPort':'spt',                'firstSeenDestPort':'dpt',\n",
    "                          'moreFragments':'mfrag',               'contFragments':'cfrag',                 'durationSeconds':'dur',\n",
    "                          'firstSeenSrcPayloadBytes':'soct_pay', 'firstSeenDestPayloadBytes':'doct_pay',  'firstSeenSrcTotalBytes':'soct',\n",
    "                          'firstSeenDestTotalBytes':'doct',      'firstSeenSrcPacketCount':'spkt',        'firstSeenDestPacketCount':'dpkt',\n",
    "                          'recordForceOut':'out'})\n",
    "df_orig = rt.columnsAreTimestamps(df_orig, 'timestamp')\n",
    "df       = df_orig.sample(500_000)\n",
    "_cd_ = rt.chordDiagram(df, [('sip','dip')], \n",
    "                       link_style='bundled', color_by=rt.createTField('dip', 'ipv4_cidr_16'), link_color='vary', link_opacity=0.2, beta=0.85,\n",
    "                       skeleton_algorithm='kmeans', track_routes=True, w=512, h=512) # , equal_size_nodes=True)\n",
    "_cd_._repr_svg_()\n",
    "#rt.tile([_cd_, _cd_.skeleton_svg], spacer=20)"
   ]
  },
  {
   "cell_type": "code",
   "execution_count": null,
   "metadata": {},
   "outputs": [],
   "source": [
    "_cd_.fmto_entry, _cd_.fmto_exit, _cd_.fmto_fm_pos, _cd_.fmto_to_pos"
   ]
  },
  {
   "cell_type": "code",
   "execution_count": null,
   "metadata": {},
   "outputs": [],
   "source": [
    "#\n",
    "# Maps out the first layer from the node to the skeleton networks entrance\n",
    "#\n",
    "svg = [f'<svg width=\"{_cd_.w}\" height=\"{_cd_.h}\" x=\"0\" y=\"0\" xmlns=\"http://www.w3.org/2000/svg\">']\n",
    "svg.append(f'<rect x=\"0\" y=\"0\" width=\"{_cd_.w}\" height=\"{_cd_.h}\" fill=\"#ffffff\" stroke=\"#000000\" />')\n",
    "for _xy_ in _cd_.fmto_entry:\n",
    "    _xy2_ = _cd_.fmto_entry[_xy_]\n",
    "    svg.append(f'<line x1=\"{_xy_[0]}\" y1=\"{_xy_[1]}\" x2=\"{_xy2_[0]}\" y2=\"{_xy2_[1]}\" stroke=\"#000000\" stroke-width=\"0.2\" />')    \n",
    "svg.append('</svg>')\n",
    "\n",
    "svg2 = [f'<svg width=\"{_cd_.w}\" height=\"{_cd_.h}\" x=\"0\" y=\"0\" xmlns=\"http://www.w3.org/2000/svg\">']\n",
    "svg2.append(f'<rect x=\"0\" y=\"0\" width=\"{_cd_.w}\" height=\"{_cd_.h}\" fill=\"#ffffff\" stroke=\"#000000\" />')\n",
    "for _xy_ in _cd_.fmto_exit:\n",
    "    _xy2_ = _cd_.fmto_exit[_xy_]\n",
    "    svg2.append(f'<line x1=\"{_xy_[0]}\" y1=\"{_xy_[1]}\" x2=\"{_xy2_[0]}\" y2=\"{_xy2_[1]}\" stroke=\"#000000\" stroke-width=\"0.2\" />')    \n",
    "svg2.append('</svg>')\n",
    "\n",
    "rt.tile([''.join(svg), ''.join(svg2)], spacer=20)"
   ]
  },
  {
   "cell_type": "code",
   "execution_count": null,
   "metadata": {},
   "outputs": [],
   "source": []
  }
 ],
 "metadata": {
  "kernelspec": {
   "display_name": ".venv",
   "language": "python",
   "name": "python3"
  },
  "language_info": {
   "codemirror_mode": {
    "name": "ipython",
    "version": 3
   },
   "file_extension": ".py",
   "mimetype": "text/x-python",
   "name": "python",
   "nbconvert_exporter": "python",
   "pygments_lexer": "ipython3",
   "version": "3.12.3"
  }
 },
 "nbformat": 4,
 "nbformat_minor": 2
}
