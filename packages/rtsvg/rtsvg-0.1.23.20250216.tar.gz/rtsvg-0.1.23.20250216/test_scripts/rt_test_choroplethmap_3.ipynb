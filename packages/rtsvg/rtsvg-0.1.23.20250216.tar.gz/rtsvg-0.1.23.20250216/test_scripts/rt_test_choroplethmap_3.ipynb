{
 "cells": [
  {
   "cell_type": "code",
   "execution_count": null,
   "id": "cc5ec30b-60e9-4ac2-ae42-ca1281cc777f",
   "metadata": {},
   "outputs": [],
   "source": [
    "import pandas as pd\n",
    "import polars as pl\n",
    "import numpy as np\n",
    "import geopandas as gpd\n",
    "import random\n",
    "from shapely.geometry import Polygon,LineString\n",
    "import sys\n",
    "sys.path.insert(1, '../rtsvg')\n",
    "from rtsvg import *\n",
    "rt = RACETrack()"
   ]
  },
  {
   "cell_type": "code",
   "execution_count": null,
   "id": "608ce8eb",
   "metadata": {},
   "outputs": [],
   "source": [
    "_shape_file_ = '../../cb_2018_us_state_20m/cb_2018_us_state_20m/cb_2018_us_state_20m.shp'\n",
    "def _naming_(s,i):\n",
    "    return s['STUSPS'].lower()\n",
    "bg_shape_lu, bg_fill_lu = rt.createBackgroundLookupsFromShapeFile(_shape_file_, naming=_naming_)\n",
    "bg_hex_version     = rt.geoMapsUSStates()\n",
    "bg_circles_version = rt.geoMapsUSStates('circles')\n",
    "bg_shape_lu.pop('ak')\n",
    "bg_shape_lu.pop('hi')\n",
    "bg_shape_lu.pop('pr')\n",
    "_states_, _values_ = [], []\n",
    "for x in bg_shape_lu.keys():\n",
    "    _states_.append(x)\n",
    "    _values_.append(random.random())\n",
    "df = pd.DataFrame({'state':_states_,'value':_values_})\n",
    "params = {'df':df, 'shape_field':'state', 'count_by':'value'}\n",
    "cm0 = rt.choroplethMap(shape_lu=bg_shape_lu,        w=512, h=256, draw_labels=False, **params)\n",
    "cm1 = rt.choroplethMap(shape_lu=bg_hex_version,     w=420, h=256, draw_labels=True,  **params)\n",
    "cm2 = rt.choroplethMap(shape_lu=bg_circles_version, w=420, h=256, draw_labels=True,  **params)\n",
    "rt.table([cm0,cm1,cm2],per_row=2)"
   ]
  },
  {
   "cell_type": "code",
   "execution_count": null,
   "id": "519bff92",
   "metadata": {},
   "outputs": [],
   "source": [
    "_min_, _max_ = cm0.renderSVG(just_calc_max=True)"
   ]
  },
  {
   "cell_type": "code",
   "execution_count": null,
   "id": "fe55135d",
   "metadata": {},
   "outputs": [],
   "source": [
    "rt.displaySVG(rt.legendForSpectrum(_min_=_min_,_max_=_max_))"
   ]
  },
  {
   "cell_type": "code",
   "execution_count": null,
   "id": "ccecedbd",
   "metadata": {},
   "outputs": [],
   "source": [
    "rt.displaySVG(rt.legendForSpectrum(_min_=_min_,_max_=_max_, w=64, h=30, txt_h=10))"
   ]
  },
  {
   "cell_type": "code",
   "execution_count": null,
   "id": "1b140044",
   "metadata": {},
   "outputs": [],
   "source": [
    "_svgs_ = []\n",
    "for x in range(2,20):\n",
    "    rt.co_mgr.spectrumDiscretize(x)\n",
    "    _svgs_.append(rt.legendForSpectrum(_min_=_min_,_max_=_max_))\n",
    "rt.table(_svgs_)"
   ]
  },
  {
   "cell_type": "code",
   "execution_count": null,
   "id": "80401582",
   "metadata": {},
   "outputs": [],
   "source": [
    "rt.co_mgr.spectrumDiscretize(2)\n",
    "cm0 = rt.choroplethMap(shape_lu=bg_shape_lu,    w=512, h=256, draw_labels=False, **params)\n",
    "cm1 = rt.choroplethMap(shape_lu=bg_hex_version, w=420, h=256, draw_labels=True,  **params)\n",
    "rt.tile([cm0,cm1])"
   ]
  },
  {
   "cell_type": "code",
   "execution_count": null,
   "id": "4889f10e",
   "metadata": {},
   "outputs": [],
   "source": [
    "rt.co_mgr.spectrumDiscretize(3)\n",
    "cm0 = rt.choroplethMap(shape_lu=bg_shape_lu,    w=512, h=256, draw_labels=False, **params)\n",
    "cm1 = rt.choroplethMap(shape_lu=bg_hex_version, w=420, h=256, draw_labels=True,  **params)\n",
    "rt.tile([cm0,cm1])"
   ]
  },
  {
   "cell_type": "code",
   "execution_count": null,
   "id": "409dc1da",
   "metadata": {},
   "outputs": [],
   "source": [
    "rt.co_mgr.spectrumDiscretize(4)\n",
    "cm0 = rt.choroplethMap(shape_lu=bg_shape_lu,    w=512, h=256, draw_labels=False, **params)\n",
    "cm1 = rt.choroplethMap(shape_lu=bg_hex_version, w=420, h=256, draw_labels=True,  **params)\n",
    "rt.tile([cm0,cm1])"
   ]
  },
  {
   "cell_type": "code",
   "execution_count": null,
   "id": "be55b4aa",
   "metadata": {},
   "outputs": [],
   "source": [
    "rt.co_mgr.spectrumReset()\n",
    "rt.co_mgr.spectrum_colors = ['#ADD8E6','#00008B'] # Light Blue to Dark Blue\n",
    "cm0 = rt.choroplethMap(shape_lu=bg_shape_lu,    w=512, h=256, draw_labels=False, **params)\n",
    "cm1 = rt.choroplethMap(shape_lu=bg_hex_version, w=420, h=256, draw_labels=True,  **params)\n",
    "_min_, _max_ = cm0.renderSVG(just_calc_max=True)\n",
    "lgd = rt.legendForSpectrum(_min_=_min_,_max_=_max_)\n",
    "rt.table([cm0,cm1,lgd], per_row=2)"
   ]
  },
  {
   "cell_type": "code",
   "execution_count": null,
   "id": "233e8a45",
   "metadata": {},
   "outputs": [],
   "source": [
    "rt.co_mgr.spectrumDiscretize(3)\n",
    "cm0 = rt.choroplethMap(shape_lu=bg_shape_lu,    w=512, h=256, draw_labels=False, **params)\n",
    "cm1 = rt.choroplethMap(shape_lu=bg_hex_version, w=420, h=256, draw_labels=True,  **params)\n",
    "_min_, _max_ = cm0.renderSVG(just_calc_max=True)\n",
    "lgd = rt.legendForSpectrum(_min_=_min_,_max_=_max_)\n",
    "rt.table([cm0,cm1,lgd], per_row=2)"
   ]
  },
  {
   "cell_type": "code",
   "execution_count": null,
   "id": "85bb947e",
   "metadata": {},
   "outputs": [],
   "source": [
    "\n",
    "svgs, svgs6 = [], []\n",
    "for i in range(len(rt.co_mgr.spectrum_palettes)):\n",
    "    rt.co_mgr.spectrumReset()\n",
    "    rt.co_mgr.spectrum_colors = rt.co_mgr.spectrum_palettes[i]\n",
    "    svgs.append(rt.legendForSpectrum(_min_=_min_,_max_=_max_))\n",
    "    rt.co_mgr.spectrumDiscretize(6)\n",
    "    svgs6.append(rt.legendForSpectrum(_min_=_min_,_max_=_max_))\n",
    "rt.tile([rt.tile(svgs, horz=False),\n",
    "         '<svg x=\"0\" y=\"0\" width=\"80\" height=\"20\"> </svg>',\n",
    "         rt.tile(svgs6,horz=False)])"
   ]
  },
  {
   "cell_type": "code",
   "execution_count": null,
   "id": "f1ad85e5",
   "metadata": {},
   "outputs": [],
   "source": []
  }
 ],
 "metadata": {
  "kernelspec": {
   "display_name": "Python 3",
   "language": "python",
   "name": "python3"
  },
  "language_info": {
   "codemirror_mode": {
    "name": "ipython",
    "version": 3
   },
   "file_extension": ".py",
   "mimetype": "text/x-python",
   "name": "python",
   "nbconvert_exporter": "python",
   "pygments_lexer": "ipython3",
   "version": "3.11.6"
  },
  "vscode": {
   "interpreter": {
    "hash": "677ca678853aa41fc137f4b55f2bc0c694e45735c0d2faa667d2ec5acb71e67d"
   }
  }
 },
 "nbformat": 4,
 "nbformat_minor": 5
}
