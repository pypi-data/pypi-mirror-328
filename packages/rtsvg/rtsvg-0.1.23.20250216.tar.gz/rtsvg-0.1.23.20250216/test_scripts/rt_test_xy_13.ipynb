{
 "cells": [
  {
   "cell_type": "code",
   "execution_count": null,
   "id": "cc5ec30b-60e9-4ac2-ae42-ca1281cc777f",
   "metadata": {},
   "outputs": [],
   "source": [
    "import pandas as pd\n",
    "import numpy as np\n",
    "import random\n",
    "import sys\n",
    "sys.path.insert(1, '../rtsvg')\n",
    "from rtsvg import *\n",
    "rt = RACETrack()\n",
    "%matplotlib inline"
   ]
  },
  {
   "cell_type": "code",
   "execution_count": null,
   "id": "87ad7aa2-8a86-4f06-8370-b91819774bec",
   "metadata": {},
   "outputs": [],
   "source": [
    "_x0,_x1,_xinc = 10.0, 20.0, 0.1\n",
    "_xs,_ys = [],[]\n",
    "_x = _x0\n",
    "_samples = 20\n",
    "while _x <= _x1:\n",
    "    for i in range(0,_samples):\n",
    "        _y = 1.2 * _x * _x - 2.3 * _x + 4.5 + random.random()*100.0\n",
    "        _xs.append(_x)\n",
    "        _ys.append(_y)\n",
    "    _x += _xinc\n",
    "df = pd.DataFrame({'x':_xs,'y':_ys})\n",
    "rt.displaySVG(rt.tile([rt.xy(df,x_field='x',y_field='y',dot_size='small', opacity=0.1, poly_fit_degree=1),\n",
    "                       rt.xy(df,x_field='x',y_field='y',dot_size='small', opacity=0.1, poly_fit_degree=2),\n",
    "                       rt.xy(df,x_field='x',y_field='y',dot_size='small', opacity=0.1, poly_fit_degree=3),\n",
    "                       rt.xy(df,x_field='x',y_field='y',dot_size='small', opacity=0.1, poly_fit_degree=4)]))"
   ]
  },
  {
   "cell_type": "code",
   "execution_count": null,
   "id": "1c414100",
   "metadata": {},
   "outputs": [],
   "source": [
    "_x0,_x1,_xinc = -100.0, 10000.0, 1.0\n",
    "_xs,_ys = [],[]\n",
    "_x = _x0\n",
    "_samples = 10\n",
    "while _x <= _x1:\n",
    "    for i in range(0,_samples):\n",
    "        _y = 0.5 * _x * _x * _x + 1.2 * _x * _x - 2.3 * _x + 4.5 + random.random()*10000000000.0\n",
    "        _xs.append(_x)\n",
    "        _ys.append(_y)\n",
    "    _x += _xinc\n",
    "df = pd.DataFrame({'x':_xs,'y':_ys})\n",
    "rt.displaySVG(rt.tile([rt.xy(df,x_field='x',y_field='y',dot_size='small', opacity=0.1, poly_fit_degree=1, line2_groupby_color='#000000'),\n",
    "                       rt.xy(df,x_field='x',y_field='y',dot_size='small', opacity=0.1, poly_fit_degree=2, line2_groupby_color='#000000'),\n",
    "                       rt.xy(df,x_field='x',y_field='y',dot_size='small', opacity=0.1, poly_fit_degree=3, line2_groupby_color='#000000'),\n",
    "                       rt.xy(df,x_field='x',y_field='y',dot_size='small', opacity=0.1, poly_fit_degree=4, line2_groupby_color='#000000')]))"
   ]
  },
  {
   "cell_type": "code",
   "execution_count": null,
   "id": "16a51a1b",
   "metadata": {},
   "outputs": [],
   "source": [
    "_x0,_x1,_xinc = -10000.0, 10000.0, 1.0\n",
    "_xs,_ys = [],[]\n",
    "_x = _x0\n",
    "_samples = 20\n",
    "while _x <= _x1:\n",
    "    for i in range(0,_samples):\n",
    "        _y = 0.1 * _x * _x * _x * _x + 0.5 * _x * _x * _x + 1.2 * _x * _x - 2.3 * _x + 4.5 + random.random()*100.0\n",
    "        _xs.append(_x)\n",
    "        _ys.append(_y)\n",
    "    _x += _xinc\n",
    "df = pd.DataFrame({'x':_xs,'y':_ys})\n",
    "rt.displaySVG(rt.tile([rt.xy(df,x_field='x',y_field='y',dot_size='small', opacity=0.1, poly_fit_degree=1),\n",
    "                       rt.xy(df,x_field='x',y_field='y',dot_size='small', opacity=0.1, poly_fit_degree=2),\n",
    "                       rt.xy(df,x_field='x',y_field='y',dot_size='small', opacity=0.1, poly_fit_degree=3),\n",
    "                       rt.xy(df,x_field='x',y_field='y',dot_size='small', opacity=0.1, poly_fit_degree=4)]))"
   ]
  },
  {
   "cell_type": "code",
   "execution_count": null,
   "id": "9a74c163",
   "metadata": {},
   "outputs": [],
   "source": [
    "_lines,_xs,_ys,_gb = 5,[],[],[]\n",
    "for _line in range(_lines):\n",
    "    _x0,_x1,_xinc = -10, 10, 0.1\n",
    "    _m,_b = 3 * random.random() - 1.5, 10 * random.random() - 5\n",
    "    while _x0 < _x1:\n",
    "        _xs.append(_x0)\n",
    "        _ys.append(_m * _x0 + _b + random.random()*3.0)\n",
    "        _gb.append(_line)\n",
    "        _x0 += _xinc\n",
    "df = pd.DataFrame({'x':_xs,'y':_ys,'gb':_gb})\n",
    "rt.displaySVG(rt.tile([rt.xy(df,x_field='x',y_field='y',dot_size='small', color_by='gb', line_groupby_field='gb', opacity=0.2, poly_fit_degree=1),\n",
    "                       rt.xy(df,x_field='x',y_field='y',dot_size='small', color_by='gb', line_groupby_field='gb', opacity=0.2, poly_fit_degree=2),\n",
    "                       rt.xy(df,x_field='x',y_field='y',dot_size='small', color_by='gb', line_groupby_field='gb', opacity=0.2, poly_fit_degree=3),\n",
    "                       rt.xy(df,x_field='x',y_field='y',dot_size='small', color_by='gb', line_groupby_field='gb', opacity=0.2, poly_fit_degree=4)]))"
   ]
  },
  {
   "cell_type": "code",
   "execution_count": null,
   "id": "7a285862",
   "metadata": {},
   "outputs": [],
   "source": []
  }
 ],
 "metadata": {
  "kernelspec": {
   "display_name": "Python 3",
   "language": "python",
   "name": "python3"
  },
  "language_info": {
   "codemirror_mode": {
    "name": "ipython",
    "version": 3
   },
   "file_extension": ".py",
   "mimetype": "text/x-python",
   "name": "python",
   "nbconvert_exporter": "python",
   "pygments_lexer": "ipython3",
   "version": "3.11.4"
  },
  "vscode": {
   "interpreter": {
    "hash": "677ca678853aa41fc137f4b55f2bc0c694e45735c0d2faa667d2ec5acb71e67d"
   }
  }
 },
 "nbformat": 4,
 "nbformat_minor": 5
}
