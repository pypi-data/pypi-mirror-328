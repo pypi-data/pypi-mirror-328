{
 "cells": [
  {
   "cell_type": "code",
   "execution_count": null,
   "id": "cc5ec30b-60e9-4ac2-ae42-ca1281cc777f",
   "metadata": {},
   "outputs": [],
   "source": [
    "import pandas as pd\n",
    "import numpy as np\n",
    "import random\n",
    "import sys\n",
    "sys.path.insert(1, '../rtsvg')\n",
    "from rtsvg import *\n",
    "%matplotlib inline"
   ]
  },
  {
   "cell_type": "code",
   "execution_count": null,
   "id": "87ad7aa2-8a86-4f06-8370-b91819774bec",
   "metadata": {},
   "outputs": [],
   "source": [
    "rt = RACETrack()"
   ]
  },
  {
   "cell_type": "code",
   "execution_count": null,
   "id": "b60afb6c",
   "metadata": {},
   "outputs": [],
   "source": [
    "x_values   = [1,      2,       3,   ]\n",
    "y_values   = [10,     20,     25,   ]\n",
    "groups     = ['a',    'a',    'a',  ]\n",
    "timestamps = ['1980', '1990', '2000']\n",
    "df = pd.DataFrame({'x':x_values,'y':y_values,'group':groups,'timestamp':timestamps})\n",
    "df['timestamp'] = df['timestamp'].astype('datetime64[ns]')\n",
    "x_values   = [3,      4,       5,   ]\n",
    "y_values   = [4,      2,       3,   ]\n",
    "groups     = ['a',    'a',    'a',  ]\n",
    "timestamps = ['1970', '1990', '2010']\n",
    "df2 = pd.DataFrame({'x2':x_values,'y2':y_values,'group2':groups,'timestamp2':timestamps})\n",
    "df2['timestamp2'] = df2['timestamp2'].astype('datetime64[ns]')\n",
    "rt.displaySVG(rt.xy(df,      x_field ='timestamp',  y_field ='y',  line_groupby_field ='group', \n",
    "                    df2=df2, x2_field='timestamp2', y2_field='y2', line2_groupby_field='group2'))"
   ]
  },
  {
   "cell_type": "code",
   "execution_count": null,
   "id": "6c34f161",
   "metadata": {},
   "outputs": [],
   "source": [
    "x_values   = [1,      2,       3,   ]\n",
    "y_values   = [10,     20,     25,   ]\n",
    "groups     = ['a',    'a',    'a',  ]\n",
    "timestamps = ['1980', '1990', '2000']\n",
    "df = pd.DataFrame({'x':x_values,'y':y_values,'group':groups,'timestamp':timestamps})\n",
    "df['timestamp'] = df['timestamp'].astype('datetime64[ns]')\n",
    "x_values   = [2,      4,       6,   ]\n",
    "y_values   = [4,      2,       3,   ]\n",
    "groups     = ['a',    'a',    'a',  ]\n",
    "timestamps = ['1970', '1990', '2010']\n",
    "df2 = pd.DataFrame({'x2':x_values,'y2':y_values,'group2':groups,'timestamp2':timestamps})\n",
    "df2['timestamp2'] = df2['timestamp2'].astype('datetime64[ns]')\n",
    "rt.displaySVG(rt.xy(df,      x_field ='x',  y_field ='y',  line_groupby_field ='group', \n",
    "                    df2=df2, x2_field='x2', y2_field='y2', line2_groupby_field='group2'))"
   ]
  },
  {
   "cell_type": "code",
   "execution_count": null,
   "id": "c035192f",
   "metadata": {},
   "outputs": [],
   "source": [
    "x_values   = [1,      2,      3,      4,      5,      6]\n",
    "y_values   = [10,     20,     25,     11,     12,     13]\n",
    "groups     = ['a',    'a',    'a',    'b',    'b',    'b']\n",
    "timestamps = ['1980', '1990', '2000', '1985', '1995', '2005']\n",
    "df = pd.DataFrame({'x':x_values,'y':y_values,'group':groups,'timestamp':timestamps})\n",
    "df['timestamp'] = df['timestamp'].astype('datetime64[ns]')\n",
    "rt.displaySVG(rt.smallMultiples(df, category_by='group', sm_type='xy', \n",
    "                                sm_params={'x_field':'x','y_field':'y', 'line_groupby_field':'group'},\n",
    "                                w=512,h=128))"
   ]
  },
  {
   "cell_type": "code",
   "execution_count": null,
   "id": "a45a65f5",
   "metadata": {},
   "outputs": [],
   "source": [
    "x_values   = [1,      2,      3,      4,      5,      6]\n",
    "y_values   = [10,     20,     25,     11,     12,     13]\n",
    "groups     = ['a',    'a',    'a',    'b',    'b',    'b']\n",
    "timestamps = ['1980', '1990', '2000', '1985', '1995', '2005']\n",
    "df = pd.DataFrame({'x':x_values,'y':y_values,'group':groups,'timestamp':timestamps})\n",
    "df['timestamp'] = df['timestamp'].astype('datetime64[ns]')\n",
    "rt.displaySVG(rt.smallMultiples(df, category_by='group', sm_type='xy', \n",
    "                                sm_params={'x_field':'x','y_field':'y', 'line_groupby_field':'group'},\n",
    "                                w=512,h=128, x_axis_independent=False))"
   ]
  },
  {
   "cell_type": "code",
   "execution_count": null,
   "id": "472a7e95",
   "metadata": {},
   "outputs": [],
   "source": [
    "x_values   = [1,      2,      3,      4,      5,      6]\n",
    "y_values   = [10,     20,     25,     11,     12,     13]\n",
    "groups     = ['a',    'a',    'a',    'b',    'b',    'b']\n",
    "timestamps = ['1980', '1990', '2000', '1985', '1995', '2005']\n",
    "df = pd.DataFrame({'x':x_values,'y':y_values,'group':groups,'timestamp':timestamps})\n",
    "df['timestamp'] = df['timestamp'].astype('datetime64[ns]')\n",
    "rt.displaySVG(rt.smallMultiples(df, category_by='group', sm_type='xy', \n",
    "                                sm_params={'x_field':'x','y_field':'y', 'line_groupby_field':'group'},\n",
    "                                w=512,h=128, x_axis_independent=False, y_axis_independent=False))"
   ]
  },
  {
   "cell_type": "code",
   "execution_count": null,
   "id": "10ff74f5",
   "metadata": {},
   "outputs": [],
   "source": [
    "from math import cos,sin,pi\n",
    "_dates,_values,_others,i = [],[],[],0\n",
    "for _year in range(2000,2010):\n",
    "    for _month in range(3,9):\n",
    "        _dt = f'{_year:04}-{_month:02}-01'\n",
    "        _dates.  append(_dt)\n",
    "        _values. append(cos(i))\n",
    "        _others. append(sin(i))\n",
    "        i += pi/32\n",
    "df = pd.DataFrame({'timestamp':_dates, 'value':_values, 'other':_others})\n",
    "df['group'] = 'a'\n",
    "df['timestamp'] = df['timestamp'].astype('datetime64[ms]')\n",
    "rt.displaySVG(rt.xy(df, x_field='timestamp', y_field='value', line_groupby_field='group', color_by=rt.createTField('timestamp','year'), w=1024))"
   ]
  },
  {
   "cell_type": "code",
   "execution_count": null,
   "id": "56b2226d",
   "metadata": {},
   "outputs": [],
   "source": [
    "rt.displaySVG(rt.xy(df, x_field=rt.createTField('timestamp','month'), y_field='value', color_by=rt.createTField('timestamp','year'), w=1024))"
   ]
  },
  {
   "cell_type": "code",
   "execution_count": null,
   "id": "57710825",
   "metadata": {},
   "outputs": [],
   "source": [
    "df  = pd.DataFrame({'cat':   ['abc', 'def', 'ghi', 'jkl'], 'value': [10,    11,    12,    13], 'color':['red',  'red',  'red',  'red']})\n",
    "df2 = pd.DataFrame({'cat2':  ['ghi', 'jkl', 'mno', 'pqr'], 'value2':[100,   98,    96,    94], 'color':['blue', 'blue', 'blue', 'blue']})\n",
    "x_order = sorted(list(set(df['cat']) | set(df2['cat2'])))\n",
    "rt.displaySVG(rt.xy(df, x_field='cat', y_field='value', x_order=x_order, df2=df2, x2_field='cat2', y2_field='value2', dot_size='large', color_by='color'))"
   ]
  },
  {
   "cell_type": "code",
   "execution_count": null,
   "id": "bc660e99",
   "metadata": {},
   "outputs": [],
   "source": [
    "rt.displaySVG(rt.xy(df, x_field='cat', y_field='value', df2=df2, x2_field='cat2', y2_field='value2', dot_size='large', color_by='color'))"
   ]
  },
  {
   "cell_type": "code",
   "execution_count": null,
   "id": "522279af",
   "metadata": {},
   "outputs": [],
   "source": []
  },
  {
   "cell_type": "code",
   "execution_count": null,
   "id": "5fc0effe",
   "metadata": {},
   "outputs": [],
   "source": []
  }
 ],
 "metadata": {
  "kernelspec": {
   "display_name": "Python 3",
   "language": "python",
   "name": "python3"
  },
  "language_info": {
   "codemirror_mode": {
    "name": "ipython",
    "version": 3
   },
   "file_extension": ".py",
   "mimetype": "text/x-python",
   "name": "python",
   "nbconvert_exporter": "python",
   "pygments_lexer": "ipython3",
   "version": "3.11.3"
  },
  "vscode": {
   "interpreter": {
    "hash": "677ca678853aa41fc137f4b55f2bc0c694e45735c0d2faa667d2ec5acb71e67d"
   }
  }
 },
 "nbformat": 4,
 "nbformat_minor": 5
}
