{
 "cells": [
  {
   "cell_type": "code",
   "execution_count": null,
   "id": "cc5ec30b-60e9-4ac2-ae42-ca1281cc777f",
   "metadata": {},
   "outputs": [],
   "source": [
    "import pandas as pd\n",
    "import numpy as np\n",
    "\n",
    "import random\n",
    "\n",
    "import sys\n",
    "sys.path.insert(1, '../rtsvg')\n",
    "\n",
    "from rtsvg import *\n",
    "from IPython.display import Javascript, HTML, display\n",
    "%matplotlib inline"
   ]
  },
  {
   "cell_type": "code",
   "execution_count": null,
   "id": "87ad7aa2-8a86-4f06-8370-b91819774bec",
   "metadata": {},
   "outputs": [],
   "source": [
    "rt = RACETrack()"
   ]
  },
  {
   "cell_type": "code",
   "execution_count": null,
   "id": "dc06a27f",
   "metadata": {},
   "outputs": [],
   "source": [
    "n  = 1000\n",
    "ts     = []\n",
    "cats   = []\n",
    "counts = []\n",
    "\n",
    "for i in range(n):\n",
    "    cat = random.randint(0,5)\n",
    "    cats.   append(cat)\n",
    "    counts. append(random.randint(0,100))\n",
    "    if   cat == 3:\n",
    "        day = random.randint(1,10)\n",
    "    elif cat == 4:\n",
    "        day = random.randint(11,14)\n",
    "    elif cat == 5:\n",
    "        day = random.randint(20,23)\n",
    "    else:\n",
    "        day = random.randint(1,31)\n",
    "    hour   = random.randint(0,23)\n",
    "    minute = random.randint(0,59)\n",
    "    ts.append(f'2023-01-{day:02} {hour:02}:{minute:02}')\n",
    "\n",
    "df = pd.DataFrame({'timestamp':ts,'cat':cats,'counts':counts})\n",
    "df['timestamp'] = pd.to_datetime(df['timestamp'],format='mixed')\n",
    "df.sample(3)"
   ]
  },
  {
   "cell_type": "code",
   "execution_count": null,
   "id": "a622a68e",
   "metadata": {},
   "outputs": [],
   "source": [
    "rt.displaySVG(rt.smallMultiples(df, category_by='cat', sm_type='xy',\n",
    "  sm_params={'x_field':rt.createTField('timestamp','hour'),'y_field':'counts'}))"
   ]
  },
  {
   "cell_type": "code",
   "execution_count": null,
   "id": "6807e60f",
   "metadata": {},
   "outputs": [],
   "source": [
    "_svg = rt.smallMultiples(df, category_by='cat', sm_type='xy', color_by='cat',\n",
    "                         sm_params={'x_field':'timestamp','y_field':'counts','opacity':0.2,'dot_size':'large'},\n",
    "                         x_axis_independent=False,y_axis_independent=False,w=1024,h=512)\n",
    "rt.displaySVGAsImage(_svg)"
   ]
  },
  {
   "cell_type": "code",
   "execution_count": null,
   "id": "53fc3571",
   "metadata": {},
   "outputs": [],
   "source": [
    "rt.displaySVG(_svg)"
   ]
  },
  {
   "cell_type": "code",
   "execution_count": null,
   "id": "d25f78e8",
   "metadata": {},
   "outputs": [],
   "source": [
    "df_small = pd.DataFrame({'x':[1,2,3,2],'y':[1,2,3,3]})\n",
    "_svg = rt.xy(df_small, x_field='x', y_field='y', dot_size='large', opacity=0.2, w=64, h=64)\n",
    "rt.displaySVG(_svg)"
   ]
  },
  {
   "cell_type": "code",
   "execution_count": null,
   "id": "34131248",
   "metadata": {},
   "outputs": [],
   "source": [
    "rt.displaySVGAsImage(_svg)"
   ]
  },
  {
   "cell_type": "code",
   "execution_count": null,
   "id": "d399596e",
   "metadata": {},
   "outputs": [],
   "source": []
  }
 ],
 "metadata": {
  "kernelspec": {
   "display_name": "Python 3",
   "language": "python",
   "name": "python3"
  },
  "language_info": {
   "codemirror_mode": {
    "name": "ipython",
    "version": 3
   },
   "file_extension": ".py",
   "mimetype": "text/x-python",
   "name": "python",
   "nbconvert_exporter": "python",
   "pygments_lexer": "ipython3",
   "version": "3.10.6"
  },
  "vscode": {
   "interpreter": {
    "hash": "677ca678853aa41fc137f4b55f2bc0c694e45735c0d2faa667d2ec5acb71e67d"
   }
  }
 },
 "nbformat": 4,
 "nbformat_minor": 5
}
