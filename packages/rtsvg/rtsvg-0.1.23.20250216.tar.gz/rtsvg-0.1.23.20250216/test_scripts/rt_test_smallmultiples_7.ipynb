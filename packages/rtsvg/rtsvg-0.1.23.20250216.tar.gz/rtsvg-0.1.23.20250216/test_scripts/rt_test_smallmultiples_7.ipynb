{
 "cells": [
  {
   "cell_type": "code",
   "execution_count": null,
   "id": "5becd1c4-1970-499c-adcc-3deb8a2fb655",
   "metadata": {},
   "outputs": [],
   "source": [
    "#\n",
    "# Tests how small multiple geometry when there are too many to render \n",
    "#\n",
    "import pandas as pd\n",
    "import numpy as np\n",
    "import sys\n",
    "sys.path.insert(1, '../rtsvg')\n",
    "from rtsvg import *\n",
    "import random\n",
    "rt = RACETrack()\n",
    "%matplotlib inline"
   ]
  },
  {
   "cell_type": "code",
   "execution_count": null,
   "id": "6109c8da-2371-434c-81d4-0105adcd70f6",
   "metadata": {},
   "outputs": [],
   "source": [
    "df = pd.DataFrame({'timestamp':['2021-01-02 00:12:00', '2025-03-04 01:00:01', '2026-12-01 12:01:58', '2051-12-31 23:59:59'], 'cat':[1, 1, 2, 2]})\n",
    "df['timestamp'] = df['timestamp'].astype('datetime64[ms]')\n",
    "rt.displaySVG(rt.smallMultiples(df, category_by='cat',\n",
    "                                sm_type='xy',\n",
    "                                sm_params={'x_field':rt.createTField('timestamp','day_of_year_hour'), 'y_field':'cat'}))"
   ]
  },
  {
   "cell_type": "code",
   "execution_count": null,
   "id": "ba03326b",
   "metadata": {},
   "outputs": [],
   "source": [
    "rt.displaySVG(rt.smallMultiples(df, category_by='cat',\n",
    "                                sm_type='xy',\n",
    "                                sm_params={'y_field':rt.createTField('timestamp','day_of_year_hour'), 'x_field':'cat'}))"
   ]
  },
  {
   "cell_type": "code",
   "execution_count": null,
   "id": "01ac8bca",
   "metadata": {},
   "outputs": [],
   "source": [
    "rt.displaySVG(rt.smallMultiples(df, category_by='cat',\n",
    "                                sm_type='xy',\n",
    "                                sm_params={'x_field':rt.createTField('timestamp','year'), 'y_field':'cat'}))"
   ]
  },
  {
   "cell_type": "code",
   "execution_count": null,
   "id": "ba86329d",
   "metadata": {},
   "outputs": [],
   "source": [
    "rt.displaySVG(rt.smallMultiples(df, category_by='cat',\n",
    "                                sm_type='xy',\n",
    "                                sm_params={'x_field':rt.createTField('timestamp','year'), 'y_field':'cat'}, x_axis_independent=False))"
   ]
  },
  {
   "cell_type": "code",
   "execution_count": null,
   "id": "fdfbe123",
   "metadata": {},
   "outputs": [],
   "source": []
  }
 ],
 "metadata": {
  "kernelspec": {
   "display_name": "Python 3",
   "language": "python",
   "name": "python3"
  },
  "language_info": {
   "codemirror_mode": {
    "name": "ipython",
    "version": 3
   },
   "file_extension": ".py",
   "mimetype": "text/x-python",
   "name": "python",
   "nbconvert_exporter": "python",
   "pygments_lexer": "ipython3",
   "version": "3.11.1"
  },
  "vscode": {
   "interpreter": {
    "hash": "677ca678853aa41fc137f4b55f2bc0c694e45735c0d2faa667d2ec5acb71e67d"
   }
  }
 },
 "nbformat": 4,
 "nbformat_minor": 5
}
