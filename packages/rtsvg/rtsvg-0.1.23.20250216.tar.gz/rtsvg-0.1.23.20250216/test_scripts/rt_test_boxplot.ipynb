{
 "cells": [
  {
   "cell_type": "code",
   "execution_count": null,
   "id": "cc5ec30b-60e9-4ac2-ae42-ca1281cc777f",
   "metadata": {
    "vscode": {
     "languageId": "javascript"
    }
   },
   "outputs": [],
   "source": [
    "import pandas as pd\n",
    "import polars as pl\n",
    "import numpy as np\n",
    "import sys\n",
    "sys.path.insert(1, '../rtsvg')\n",
    "from rtsvg import *\n",
    "rt = RACETrack()"
   ]
  },
  {
   "cell_type": "code",
   "execution_count": null,
   "id": "62c01115",
   "metadata": {
    "vscode": {
     "languageId": "javascript"
    }
   },
   "outputs": [],
   "source": [
    "_setup_ = {'a':(10,2.5,100), 'b':(7,1,30), 'c':(0,0.5,1000), 'd':(5,0.001,10000)}\n",
    "bins, vals, nums = [],[],[]\n",
    "i = 0 \n",
    "for bin in _setup_:\n",
    "    _params_ = _setup_[bin]\n",
    "    bins.extend([bin]*_params_[2])\n",
    "    nums.extend([i]*_params_[2])\n",
    "    vals.extend(np.random.normal(_params_[0], _params_[1], _params_[2]))\n",
    "    i += 1\n",
    "df    = pd.DataFrame({'num':nums, 'bin':bins, 'value':vals})\n",
    "df_pl = pl.DataFrame(df) \n",
    "rt.tile([rt.boxplot(df,    'bin', count_by='value', style='boxplot_w_swarm', color_by='bin', h_gap=1, w=512, h=256),\n",
    "         rt.boxplot(df_pl, 'bin', count_by='value', style='boxplot_w_swarm', color_by='bin', h_gap=1, w=512, h=256)])"
   ]
  },
  {
   "cell_type": "code",
   "execution_count": null,
   "id": "9298b8d1-8058-4038-ae86-360cf008fe41",
   "metadata": {
    "vscode": {
     "languageId": "javascript"
    }
   },
   "outputs": [],
   "source": [
    "df = pd.DataFrame({'pet':   ['dog',  'dog',   'dog',    'cat',    'cat',  'cat'],\n",
    "                   'color': ['brown','yellow','yellow', 'yellow', 'gray', 'white'],\n",
    "                   'weight':[10,      20,     30,       5,         10,    8]})\n",
    "rt.tile([rt.boxplot(df,               'pet', count_by='weight'),\n",
    "         rt.boxplot(pl.DataFrame(df), 'pet', count_by='weight')])"
   ]
  },
  {
   "cell_type": "code",
   "execution_count": null,
   "id": "d9c0136e",
   "metadata": {
    "vscode": {
     "languageId": "javascript"
    }
   },
   "outputs": [],
   "source": [
    "rt.tile([rt.boxplot(df,              'color', count_by='weight'),\n",
    "         rt.boxplot(pl.DataFrame(df),'color', count_by='weight')])"
   ]
  },
  {
   "cell_type": "code",
   "execution_count": null,
   "id": "253e1947-b17b-4fce-8173-6bccd7422f1e",
   "metadata": {
    "vscode": {
     "languageId": "javascript"
    }
   },
   "outputs": [],
   "source": [
    "df = pd.DataFrame({'first name':['mary',   'david',  'john',   'david',  'david', 'john',  'david',   'david',   'john'],\n",
    "                          'age':[50,       40,       30,       45,       20,      30,      50,        50,        30],\n",
    "                         'hair':['brown',  'brown',  'black',  'black',  'red',   'red',   'brown',   'brown',   'black'],\n",
    "                       'salary':[150000,   60000,    90000,    20000,    20000,   80000,   40000,     35000,     40000]})\n",
    "\n",
    "rt.tile([rt.boxplot(df=df,              bin_by=['first name'],count_by='salary',color_by='age',w=512,h=256),\n",
    "         rt.boxplot(df=pl.DataFrame(df),bin_by=['first name'],count_by='salary',color_by='age',w=512,h=256)])"
   ]
  },
  {
   "cell_type": "code",
   "execution_count": null,
   "id": "c798c452",
   "metadata": {
    "vscode": {
     "languageId": "javascript"
    }
   },
   "outputs": [],
   "source": [
    "\n",
    "df_nf        = pd.read_csv(\"../../netflow_sample.csv\")\n",
    "df_nf['beg'] = df_nf['beg'].astype('datetime64[ns]')\n",
    "df_nf        = df_nf.rename({'beg':'timestamp'},axis=1)\n",
    "rt.tile([rt.boxplot(df_nf,               'dpt', style='barchart', color_by='dpt', h_gap=1, w=512, h=256),\n",
    "         rt.boxplot(pl.DataFrame(df_nf), 'dpt', style='barchart', color_by='dpt', h_gap=1, w=512, h=256)])"
   ]
  },
  {
   "cell_type": "code",
   "execution_count": null,
   "id": "ea2a76cd",
   "metadata": {
    "vscode": {
     "languageId": "javascript"
    }
   },
   "outputs": [],
   "source": [
    "from math import log10\n",
    "df_nf['SBYT_log10'] = df_nf['SBYT'].apply(lambda x: log10(x+1))\n",
    "rt.tile([rt.boxplot(df_nf,               'dip', style='boxplot', count_by='SBYT_log10', color_by='dpt', order_by='max', extra_label_space=30, w=1200, h=256),\n",
    "         rt.boxplot(pl.DataFrame(df_nf), 'dip', style='boxplot', count_by='SBYT_log10', color_by='dpt', order_by='max', extra_label_space=30, w=1200, h=256)], horz=False)"
   ]
  },
  {
   "cell_type": "code",
   "execution_count": null,
   "id": "28ae85df",
   "metadata": {
    "vscode": {
     "languageId": "javascript"
    }
   },
   "outputs": [],
   "source": [
    "# Only keep destination IPs with more than 500 rows\n",
    "_df = pd.DataFrame(df_nf.groupby('dip').size()).reset_index()\n",
    "_set = set(_df[_df[0] >= 500]['dip'])\n",
    "df_nf_500 = df_nf[df_nf['dip'].isin(_set)]\n",
    "rt.tile([rt.boxplot(df_nf_500,               'dip', style='boxplot_w_swarm', count_by='SBYT_log10', color_by='dpt', order_by='average', ascending=False, w=1200, h=256),\n",
    "         rt.boxplot(pl.DataFrame(df_nf_500), 'dip', style='boxplot_w_swarm', count_by='SBYT_log10', color_by='dpt', order_by='average', ascending=False, w=1200, h=256)],horz=False)\n",
    "\n"
   ]
  },
  {
   "cell_type": "code",
   "execution_count": null,
   "id": "763d3326",
   "metadata": {
    "vscode": {
     "languageId": "javascript"
    }
   },
   "outputs": [],
   "source": [
    "rt.tile([rt.boxplot(df_nf_500,               'dip', style='boxplot_w_swarm', count_by='SBYT_log10', color_by='dpt', order_by='average', ascending=False, \n",
    "                    sm_type='pieChart', extra_label_space=40, w=1200, h=256),\n",
    "         rt.boxplot(pl.DataFrame(df_nf_500), 'dip', style='boxplot_w_swarm', count_by='SBYT_log10', color_by='dpt', order_by='average', ascending=False, \n",
    "                    sm_type='pieChart', extra_label_space=40, w=1200, h=256)], horz=False)"
   ]
  },
  {
   "cell_type": "code",
   "execution_count": null,
   "id": "ec417e19",
   "metadata": {
    "vscode": {
     "languageId": "javascript"
    }
   },
   "outputs": [],
   "source": [
    "rt.tile([rt.boxplot(df_nf_500,               'dip', style='boxplot_w_swarm', count_by='SBYT_log10', color_by='dpt', order_by='average', ascending=False, \n",
    "                    sm_type='xy', sm_params={'x_field':'timestamp','y_field':['sip','dip'],'dot_size':'small'},w=1200, h=256),\n",
    "         rt.boxplot(pl.DataFrame(df_nf_500), 'dip', style='boxplot_w_swarm', count_by='SBYT_log10', color_by='dpt', order_by='average', ascending=False, \n",
    "                    sm_type='xy', sm_params={'x_field':'timestamp','y_field':['sip','dip'],'dot_size':'small'},w=1200, h=256)], horz=False)"
   ]
  },
  {
   "cell_type": "code",
   "execution_count": null,
   "id": "af4da47b",
   "metadata": {
    "vscode": {
     "languageId": "javascript"
    }
   },
   "outputs": [],
   "source": [
    "# Only keep destination IPs with more than 5000 rows\n",
    "_df = pd.DataFrame(df_nf.groupby('dip').size()).reset_index()\n",
    "_set = set(_df[_df[0] >= 5000]['dip'])\n",
    "df_nf_5000 = df_nf[df_nf['dip'].isin(_set)]\n",
    "rt.tile([rt.boxplot(df_nf_5000,               'dip', style='boxplot_w_swarm', count_by='SBYT_log10', color_by='dpt', order_by='max', ascending=False, \n",
    "                    sm_type='xy', sm_params={'x_field':'timestamp','y_field':['sip','dip'],'dot_size':'small'},\n",
    "                    w=1200, h=256),\n",
    "         rt.boxplot(pl.DataFrame(df_nf_5000), 'dip', style='boxplot_w_swarm', count_by='SBYT_log10', color_by='dpt', order_by='max', ascending=False, \n",
    "                    sm_type='xy', sm_params={'x_field':'timestamp','y_field':['sip','dip'],'dot_size':'small'},\n",
    "                    w=1200, h=256)], horz=False)"
   ]
  },
  {
   "cell_type": "code",
   "execution_count": null,
   "id": "a27e8ae3",
   "metadata": {
    "vscode": {
     "languageId": "javascript"
    }
   },
   "outputs": [],
   "source": [
    "rt.tile([rt.boxplot(df_nf_5000,               'dip', style='boxplot_w_swarm', count_by='SBYT_log10', color_by='dpt', order_by='max', ascending=False, \n",
    "                    sm_type='xy', sm_params={'x_field':'timestamp','y_field':['sip','dip'],'dot_size':'small'}, w=1000, h=256),\n",
    "         rt.boxplot(pl.DataFrame(df_nf_5000), 'dip', style='boxplot_w_swarm', count_by='SBYT_log10', color_by='dpt', order_by='max', ascending=False, \n",
    "                    sm_type='xy', sm_params={'x_field':'timestamp','y_field':['sip','dip'],'dot_size':'small'}, w=1000, h=256)], horz=False)"
   ]
  },
  {
   "cell_type": "code",
   "execution_count": null,
   "id": "f47ff5ef",
   "metadata": {
    "vscode": {
     "languageId": "javascript"
    }
   },
   "outputs": [],
   "source": [
    "rt.tile([rt.boxplot(df_nf_5000,               'dip', style='boxplot_w_swarm', count_by='SBYT_log10', color_by='dpt', order_by='max', ascending=False, \n",
    "                    sm_type='xy', sm_params={'x_field':'timestamp','y_field':['sip','dip'],'dot_size':'small'}, w=800, h=256),\n",
    "         rt.boxplot(pl.DataFrame(df_nf_5000), 'dip', style='boxplot_w_swarm', count_by='SBYT_log10', color_by='dpt', order_by='max', ascending=False, \n",
    "                    sm_type='xy', sm_params={'x_field':'timestamp','y_field':['sip','dip'],'dot_size':'small'}, w=800, h=256)], horz=False)"
   ]
  },
  {
   "cell_type": "code",
   "execution_count": null,
   "id": "4a1174ab",
   "metadata": {
    "vscode": {
     "languageId": "javascript"
    }
   },
   "outputs": [],
   "source": [
    "params = {'bin_by':'dip', 'style':'boxplot_w_swarm', 'count_by':'SBYT_log10', 'color_by':'dpt', 'order_by':'max', 'ascending':True, \n",
    "          'sm_type':'xy', 'sm_params':{'x_field':'timestamp','y_field':['sip','dip'],'dot_size':'small'}, 'w':600, 'h':256}\n",
    "rt.tile([rt.boxplot(df_nf_5000, **params), rt.boxplot(pl.DataFrame(df_nf_5000), **params)],horz=False)"
   ]
  },
  {
   "cell_type": "code",
   "execution_count": null,
   "id": "6de0e105",
   "metadata": {
    "vscode": {
     "languageId": "javascript"
    }
   },
   "outputs": [],
   "source": [
    "params={'bin_by':'dip', 'style':'boxplot_w_swarm', 'count_by':'SBYT_log10', 'color_by':'dpt', 'order_by':'max', 'ascending':False, \n",
    "        'sm_type':'xy', 'sm_params':{'x_field':'timestamp','y_field':['sip','dip'],'dot_size':'small'},'extra_label_space':20, 'w':500, 'h':256}\n",
    "rt.tile([rt.boxplot(df_nf_5000, **params), rt.boxplot(pl.DataFrame(df_nf_5000), **params)],horz=False)"
   ]
  },
  {
   "cell_type": "code",
   "execution_count": null,
   "id": "6f4e8631",
   "metadata": {
    "vscode": {
     "languageId": "javascript"
    }
   },
   "outputs": [],
   "source": [
    "params = {'bin_by':'dip', 'style':'boxplot_w_swarm', 'count_by':'SBYT_log10', 'color_by':'dpt', 'order_by':'max', 'ascending':True, \n",
    "          'sm_type':'xy', 'sm_params':{'x_field':'timestamp','y_field':['sip','dip'],'dot_size':'small'}, 'extra_label_space':10, 'w':400, 'h':256}\n",
    "rt.tile([rt.boxplot(df_nf_5000, **params), rt.boxplot(pl.DataFrame(df_nf_5000), **params)],horz=False)"
   ]
  },
  {
   "cell_type": "code",
   "execution_count": null,
   "id": "5e510aa7",
   "metadata": {
    "vscode": {
     "languageId": "javascript"
    }
   },
   "outputs": [],
   "source": [
    "params = {'bin_by':'dip', 'style':'boxplot_w_swarm', 'count_by':'SBYT_log10', 'color_by':'dpt', 'order_by':'max', 'ascending':False, \n",
    "          'sm_type':'xy', 'sm_params':{'x_field':'timestamp','y_field':['sip','dip'],'dot_size':'small'}, 'w':300, 'h':256}\n",
    "rt.tile([rt.boxplot(df_nf_5000, **params), rt.boxplot(pl.DataFrame(df_nf_5000), **params)])"
   ]
  },
  {
   "cell_type": "code",
   "execution_count": null,
   "id": "dd625995",
   "metadata": {
    "vscode": {
     "languageId": "javascript"
    }
   },
   "outputs": [],
   "source": [
    "params = {'bin_by':'dip', 'style':'boxplot_w_swarm', 'count_by':'SBYT_log10', 'color_by':'dpt', 'order_by':'max', 'ascending':False, \n",
    "          'sm_type':'xy', 'sm_params':{'x_field':'timestamp','y_field':['sip','dip'],'dot_size':'small'}, 'w':200, 'h':256}\n",
    "rt.tile([rt.boxplot(df_nf_5000, **params),rt.boxplot(pl.DataFrame(df_nf_5000), **params)])"
   ]
  },
  {
   "cell_type": "code",
   "execution_count": null,
   "id": "e38de54f",
   "metadata": {
    "vscode": {
     "languageId": "javascript"
    }
   },
   "outputs": [],
   "source": [
    "params = {'bin_by':'dip', 'style':'boxplot_w_swarm', 'count_by':'SBYT_log10', 'color_by':'dpt', 'order_by':'max', 'ascending':False, \n",
    "         'sm_type':'xy', 'sm_params':{'x_field':'timestamp','y_field':['sip','dip'],'dot_size':'small'},'w':100, 'h':256}\n",
    "rt.tile([rt.boxplot(df_nf_5000, **params), rt.boxplot(pl.DataFrame(df_nf_5000), **params)])"
   ]
  },
  {
   "cell_type": "code",
   "execution_count": null,
   "id": "01bae3bf",
   "metadata": {
    "vscode": {
     "languageId": "javascript"
    }
   },
   "outputs": [],
   "source": [
    "params['draw_labels'] = False\n",
    "rt.tile([rt.boxplot(df_nf_5000, **params), rt.boxplot(pl.DataFrame(df_nf_5000), **params)])"
   ]
  },
  {
   "cell_type": "code",
   "execution_count": null,
   "id": "494b8207",
   "metadata": {
    "vscode": {
     "languageId": "javascript"
    }
   },
   "outputs": [],
   "source": []
  }
 ],
 "metadata": {
  "kernelspec": {
   "display_name": "Python 3",
   "language": "python",
   "name": "python3"
  },
  "language_info": {
   "codemirror_mode": {
    "name": "ipython",
    "version": 3
   },
   "file_extension": ".py",
   "mimetype": "text/x-python",
   "name": "python",
   "nbconvert_exporter": "python",
   "pygments_lexer": "ipython3",
   "version": "3.11.6"
  },
  "vscode": {
   "interpreter": {
    "hash": "677ca678853aa41fc137f4b55f2bc0c694e45735c0d2faa667d2ec5acb71e67d"
   }
  }
 },
 "nbformat": 4,
 "nbformat_minor": 5
}
