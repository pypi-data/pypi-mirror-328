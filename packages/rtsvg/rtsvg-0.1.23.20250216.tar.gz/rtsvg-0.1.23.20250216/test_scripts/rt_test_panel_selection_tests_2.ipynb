{
 "cells": [
  {
   "cell_type": "code",
   "execution_count": null,
   "metadata": {},
   "outputs": [],
   "source": [
    "#\n",
    "# For VSCode, disable the Jupyter Keymap Extension first... otherwise certain keys in the\n",
    "# text input cause the notebook cells to change/add/delete/etc.\n",
    "#\n",
    "import pandas as pd\n",
    "import polars as pl\n",
    "import numpy as np\n",
    "import sys\n",
    "sys.path.insert(1, '../rtsvg')\n",
    "from rtsvg import RACETrack\n",
    "rt = RACETrack()\n",
    "import panel as pn"
   ]
  },
  {
   "cell_type": "code",
   "execution_count": null,
   "metadata": {},
   "outputs": [],
   "source": [
    "df = pl.DataFrame({'fm': ['abc',  'ABC',    'abcdef'],\n",
    "                   'to': ['ABC',  'abcdef', 'aBCDef'],\n",
    "                   'src':['10',   '20',     '30'],\n",
    "                   'dst':['20',   '30',     '10']})\n",
    "pos = { 'abcdef': (0.2779344643098033,  0.40924481765367193),\n",
    "        'abc':    (0.5898606896252812,  0.835572670727375),\n",
    "        '20':     (0.5898606896252812,  0.7289907074589492),\n",
    "        'aBCDef': (0.5898606896252812,  0.40924481765367193),\n",
    "        '30':     (0.5898606896252812,  0.5441036283198433),\n",
    "        '10':     (0.33198108750802957, 0.7289907074589492),\n",
    "        'ABC':    (0.2779344643098033,  0.835572670727375)}\n",
    "labels    = {'10':'AbC', '20':'DEf'}\n",
    "ln_params = {'relationships': [('fm', 'to'), ('src', 'dst')], 'pos':pos, \n",
    "             'draw_labels':True, 'bounds_percent':0.2, 'node_labels':labels}\n",
    "_rtg_ = rt.interactiveGraphLayout(df, ln_params, w=300, h=200)\n",
    "substring_select = pn.widgets.TextInput(placeholder='Enter a string here...')\n",
    "def callback(target, event):\n",
    "    _op_, _substring_ = 'replace', event.obj.value\n",
    "    if   _substring_.startswith('+'): _op_, _substring_ = 'add',      _substring_[1:]\n",
    "    elif _substring_.startswith('-'): _op_, _substring_ = 'subtract', _substring_[1:]\n",
    "    _rtg_.selectEntities(_substring_, method='substring', set_op=_op_)\n",
    "substring_select.link(substring_select, callbacks={'value':callback})\n",
    "pn.Column(_rtg_, substring_select)"
   ]
  },
  {
   "cell_type": "code",
   "execution_count": null,
   "metadata": {},
   "outputs": [],
   "source": []
  }
 ],
 "metadata": {
  "kernelspec": {
   "display_name": "Python 3 (ipykernel)",
   "language": "python",
   "name": "python3"
  },
  "language_info": {
   "codemirror_mode": {
    "name": "ipython",
    "version": 3
   },
   "file_extension": ".py",
   "mimetype": "text/x-python",
   "name": "python",
   "nbconvert_exporter": "python",
   "pygments_lexer": "ipython3",
   "version": "3.11.6"
  }
 },
 "nbformat": 4,
 "nbformat_minor": 4
}
