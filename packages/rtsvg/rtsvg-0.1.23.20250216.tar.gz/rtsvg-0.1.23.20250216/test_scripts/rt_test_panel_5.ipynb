{
 "cells": [
  {
   "cell_type": "code",
   "execution_count": null,
   "id": "46f92306-63e1-4f28-a3c8-5ae517707974",
   "metadata": {},
   "outputs": [],
   "source": [
    "import pandas as pd\n",
    "import polars as pl\n",
    "import random\n",
    "import sys\n",
    "sys.path.insert(1, '../rtsvg')\n",
    "from rtsvg import *\n",
    "rt = RACETrack()\n",
    "samples = 10000\n",
    "cats,cats2,counts,timestamps,binaries = [],[],[],[],[]\n",
    "for _sample in range(samples):\n",
    "    _year_  = random.randint(2010,2020)\n",
    "    _month_ = random.randint(1,12)\n",
    "    _day_   = random.randint(1,28)\n",
    "    timestamps.append(f'{_year_:04}-{_month_:02}-{_day_:02}')\n",
    "    cats.append(chr(ord('a')+random.randint(0,3)))\n",
    "    cats2.append(chr(ord('G')+random.randint(0,10)))\n",
    "    binaries.append(random.randint(0,1))\n",
    "    counts.append(random.randint(10,100))\n",
    "df = pd.DataFrame({'timestamp':timestamps,'cat':cats,'cat2':cats2,'count':counts, 'binary':binaries})\n",
    "df = rt.columnsAreTimestamps(df, 'timestamp')\n",
    "spec  = {(0,0,8,1): 'panelControl',\n",
    "         (0,1,6,5): ('xy', {'x_field':'cat2', 'y_field':'count', 'dot_size':'vary'}),\n",
    "         (6,1,2,5): ('histogram', {'bin_by':'cat'})}\n",
    "_obj_ = rt.layout(spec, df, w=256, h=128, rt_params={'color_by':'cat', 'count_by':'count'})"
   ]
  },
  {
   "cell_type": "code",
   "execution_count": null,
   "metadata": {},
   "outputs": [],
   "source": [
    "_panel_ = rt.interactivePanel(df, spec, w=256, h=128, rt_params={'color_by':'cat', 'count_by':'count'})\n",
    "_panel_"
   ]
  },
  {
   "cell_type": "code",
   "execution_count": null,
   "metadata": {},
   "outputs": [],
   "source": [
    "_panel_ = rt.interactivePanel(pl.DataFrame(df), spec, w=256, h=128, rt_params={'color_by':'cat', 'count_by':'count'})\n",
    "_panel_"
   ]
  },
  {
   "cell_type": "code",
   "execution_count": null,
   "metadata": {},
   "outputs": [],
   "source": [
    "spec  = {(0,0,8,1): 'panelControl',\n",
    "         (0,1,6,5): ('xy', {'x_field':rt.createTField('timestamp','year_month'), 'y_field':rt.createTField('timestamp','day'), 'dot_size':'vary'}),\n",
    "         (6,1,2,5): ('histogram', {'bin_by':'cat'})}\n",
    "#_panel_ = rt.interactivePanel(df, spec, w=256, h=128, rt_params={'color_by':'cat', 'count_by':'count'})\n",
    "#_panel_\n",
    "_obj_ = rt.layout(spec, df.query('timestamp >= \"2014-01-01 00:00:00\" and timestamp < \"2014-01-02 00:00:00\"'), w=256, h=128, rt_params={'color_by':'cat', 'count_by':'count'})\n",
    "_obj_"
   ]
  },
  {
   "cell_type": "code",
   "execution_count": null,
   "metadata": {},
   "outputs": [],
   "source": []
  }
 ],
 "metadata": {
  "kernelspec": {
   "display_name": "Python 3",
   "language": "python",
   "name": "python3"
  },
  "language_info": {
   "codemirror_mode": {
    "name": "ipython",
    "version": 3
   },
   "file_extension": ".py",
   "mimetype": "text/x-python",
   "name": "python",
   "nbconvert_exporter": "python",
   "pygments_lexer": "ipython3",
   "version": "3.11.6"
  }
 },
 "nbformat": 4,
 "nbformat_minor": 5
}
