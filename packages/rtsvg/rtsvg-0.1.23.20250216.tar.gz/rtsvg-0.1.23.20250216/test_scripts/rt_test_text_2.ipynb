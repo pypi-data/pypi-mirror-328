{
 "cells": [
  {
   "cell_type": "code",
   "execution_count": null,
   "metadata": {},
   "outputs": [],
   "source": [
    "import pandas as pd\n",
    "import sys\n",
    "import re\n",
    "sys.path.insert(1, '../rtsvg/') # base location of the .py classes\n",
    "from rtsvg import *\n",
    "rt = RACETrack()"
   ]
  },
  {
   "cell_type": "code",
   "execution_count": null,
   "metadata": {},
   "outputs": [],
   "source": [
    "#\n",
    "# Source:  Project Gutenberg, War and Peace [Leo Tolstoy]\n",
    "#\n",
    "_text = rt.textJoinNewLinesBetter(\"\"\"It was in July, 1805, and the speaker was the well-known Anna Pávlovna\n",
    "Schérer, maid of honor and favorite of the Empress Márya Fëdorovna.\n",
    "With these words she greeted Prince Vasíli Kurágin, a man of high\n",
    "rank and importance, who was the first to arrive at her reception. Anna\n",
    "Pávlovna had had a cough for some days. She was, as she said, suffering\n",
    "from la grippe; grippe being then a new word in St. Petersburg, used\n",
    "only by the elite.\"\"\")\n",
    "\n",
    "rttb = rt.textBlock(_text, word_wrap=True, txt_h=18, x_ins=3)\n",
    "_entities = rt.textExtractEntities(_text)\n",
    "# Implementation uses the substring (regex, really) method as a key\n",
    "# -- probably not as reliable as using the indices (next block)\n",
    "_highlights = {}\n",
    "for _tup in _entities:\n",
    "    _highlights[_tup[0]] = _tup[1]\n",
    "rt.displaySVG(rttb.highlights(_highlights, opacity=0.4))"
   ]
  },
  {
   "cell_type": "code",
   "execution_count": null,
   "metadata": {},
   "outputs": [],
   "source": [
    "# Implementation uses the indices in the tuple instead\n",
    "_highlights = {}\n",
    "for _tup in _entities:\n",
    "    _highlights[(_tup[2],_tup[3])] = _tup[1]\n",
    "rt.displaySVG(rttb.highlights(_highlights, opacity=0.4))"
   ]
  },
  {
   "cell_type": "code",
   "execution_count": null,
   "metadata": {},
   "outputs": [],
   "source": [
    "_sentences = rt.textExtractSentences(_text)\n",
    "_highlights = {}\n",
    "for _tup in _sentences:\n",
    "    _highlights[(_tup[1],_tup[2])] = _tup[0]\n",
    "rt.displaySVG(rttb.highlights(_highlights, opacity=0.4))"
   ]
  },
  {
   "cell_type": "code",
   "execution_count": null,
   "metadata": {},
   "outputs": [],
   "source": [
    "_text = \"The cat ran after the ball.  Then, the cat took a nap.\\nThe dog played fetch.  Afterwards, the dog took a nap.\"\n",
    "_rttb = rt.textBlock(_text,word_wrap=True)\n",
    "_sentences = rt.textExtractSentences(_text)\n",
    "_highlights = {}\n",
    "for _tup in _sentences:\n",
    "    _highlights[(_tup[1],_tup[2])] = _tup[0]\n",
    "rt.displaySVG(_rttb.highlights(_highlights, opacity=0.4))"
   ]
  },
  {
   "cell_type": "code",
   "execution_count": null,
   "metadata": {},
   "outputs": [],
   "source": []
  }
 ],
 "metadata": {
  "kernelspec": {
   "display_name": "Python 3",
   "language": "python",
   "name": "python3"
  },
  "language_info": {
   "codemirror_mode": {
    "name": "ipython",
    "version": 3
   },
   "file_extension": ".py",
   "mimetype": "text/x-python",
   "name": "python",
   "nbconvert_exporter": "python",
   "pygments_lexer": "ipython3",
   "version": "3.11.4"
  },
  "orig_nbformat": 4
 },
 "nbformat": 4,
 "nbformat_minor": 2
}
