{
 "cells": [
  {
   "cell_type": "code",
   "execution_count": null,
   "id": "cc5ec30b-60e9-4ac2-ae42-ca1281cc777f",
   "metadata": {},
   "outputs": [],
   "source": [
    "import pandas as pd\n",
    "import numpy as np\n",
    "import sys\n",
    "sys.path.insert(1, '../rtsvg')\n",
    "from rtsvg import *\n",
    "import json\n",
    "rt = RACETrack()"
   ]
  },
  {
   "cell_type": "code",
   "execution_count": null,
   "id": "5ad8169f",
   "metadata": {},
   "outputs": [],
   "source": [
    "# Double check ordering/day-to-integer is correct per labeling\n",
    "df = pd.DataFrame({\n",
    "    #            Sunday        Monday        Tuesday       Wednesday     Thursday      Friday        Saturday\n",
    "    'timestamp':['2023-01-08', '2023-01-09', '2023-01-10', '2023-01-11', '2023-01-12', '2023-01-13', '2023-01-14'],\n",
    "    'count':    [50,           10,            10,          20,           10,           10,           4]\n",
    "})\n",
    "df['timestamp'] = df['timestamp'].astype('datetime64[ns]')\n",
    "rt.periodicBarChart(df=df,time_period='day_of_week',ts_field='timestamp',count_by='count')"
   ]
  },
  {
   "cell_type": "code",
   "execution_count": null,
   "id": "b268fd11-b41f-4e68-9de8-da5875f8f836",
   "metadata": {},
   "outputs": [],
   "source": [
    "df        = pd.read_csv(\"../../netflow_sample.csv\")\n",
    "df['beg'] = df['beg'].astype('datetime64[ns]')\n",
    "df        = df.rename({'beg':'timestamp'},axis=1)\n",
    "df.shape"
   ]
  },
  {
   "cell_type": "code",
   "execution_count": null,
   "id": "4cd8e3bc-df5d-4dd9-94e6-d6cb57864399",
   "metadata": {},
   "outputs": [],
   "source": [
    "my_ts_field = 'timestamp'"
   ]
  },
  {
   "cell_type": "code",
   "execution_count": null,
   "id": "2782edcb-8f9b-48fc-9756-b060090daae7",
   "metadata": {},
   "outputs": [],
   "source": [
    "rt.periodicBarChart(df=df,time_period='quarter',ts_field=my_ts_field)"
   ]
  },
  {
   "cell_type": "code",
   "execution_count": null,
   "id": "b9b07520-ad81-4a48-b66f-53f5a0b842aa",
   "metadata": {},
   "outputs": [],
   "source": [
    "rt.periodicBarChart(df=df,time_period='month',ts_field=my_ts_field)"
   ]
  },
  {
   "cell_type": "code",
   "execution_count": null,
   "id": "bbc52c5f-674a-43c1-99f3-4a95c5b55ea4",
   "metadata": {},
   "outputs": [],
   "source": [
    "rt.periodicBarChart(df=df,time_period='day_of_month',ts_field=my_ts_field)"
   ]
  },
  {
   "cell_type": "code",
   "execution_count": null,
   "id": "966c87a5-b781-4167-a19e-ee03b7e48c92",
   "metadata": {},
   "outputs": [],
   "source": [
    "rt.periodicBarChart(df=df,time_period='day_of_week',ts_field=my_ts_field)"
   ]
  },
  {
   "cell_type": "code",
   "execution_count": null,
   "id": "f115aed6",
   "metadata": {},
   "outputs": [],
   "source": [
    "rt.periodicBarChart(df=df,time_period='day_of_week',ts_field=my_ts_field,\n",
    "                    color_by='dpt',\n",
    "                    sm_type='xy',\n",
    "                    sm_params={'x_field':'timestamp','y_field':['sip','dip'],'dot_size':'small'},\n",
    "                    w=512,h=256)"
   ]
  },
  {
   "cell_type": "code",
   "execution_count": null,
   "id": "45ba80bc-e832-429b-b1a9-6c50efe8a233",
   "metadata": {},
   "outputs": [],
   "source": [
    "rt.periodicBarChart(df=df,time_period='day_of_week_hour',ts_field=my_ts_field,color_by=rt.createTField(my_ts_field,'day_of_week'))"
   ]
  },
  {
   "cell_type": "code",
   "execution_count": null,
   "id": "f9bbec44-bc53-43d2-b1e0-e0f3e31a116b",
   "metadata": {},
   "outputs": [],
   "source": [
    "rt.periodicBarChart(df=df, time_period='hour', ts_field=my_ts_field, color_by='dpt',sm_type='pieChart')"
   ]
  },
  {
   "cell_type": "code",
   "execution_count": null,
   "id": "60c52677",
   "metadata": {},
   "outputs": [],
   "source": [
    "rt.periodicBarChart(df=df,time_period='hour',ts_field=my_ts_field)"
   ]
  },
  {
   "cell_type": "code",
   "execution_count": null,
   "id": "61b02c90-e18b-433f-a295-91596739b08b",
   "metadata": {},
   "outputs": [],
   "source": [
    "rt.periodicBarChart(df=df,time_period='minute',ts_field=my_ts_field)"
   ]
  },
  {
   "cell_type": "code",
   "execution_count": null,
   "id": "6a3ad674-1848-4eec-a1c5-15806e659a8f",
   "metadata": {},
   "outputs": [],
   "source": [
    "rt.periodicBarChart(df=df,time_period='second',ts_field=my_ts_field)"
   ]
  },
  {
   "cell_type": "code",
   "execution_count": null,
   "id": "edce749b-7092-490d-a74f-225774f14a33",
   "metadata": {},
   "outputs": [],
   "source": [
    "df.sample(3)"
   ]
  },
  {
   "cell_type": "code",
   "execution_count": null,
   "id": "2831c54e-c79e-4589-afba-580c894faa8e",
   "metadata": {},
   "outputs": [],
   "source": [
    "from math import log10\n",
    "df['SPKT_log10'] = df['SPKT'].apply(lambda x: log10(x+1))\n",
    "rt.periodicBarChart(df, time_period='day_of_week', count_by='SPKT_log10', color_by='dpt', style='boxplot', w=512, h=256)"
   ]
  },
  {
   "cell_type": "code",
   "execution_count": null,
   "id": "26407c78",
   "metadata": {},
   "outputs": [],
   "source": [
    "rt.periodicBarChart(df, time_period='day_of_week', count_by='SPKT_log10', color_by='dpt', style='boxplot_w_swarm', w=512, h=256)"
   ]
  },
  {
   "cell_type": "code",
   "execution_count": null,
   "id": "a6ca68fb",
   "metadata": {},
   "outputs": [],
   "source": [
    "rt.periodicBarChart(df, time_period='hour', count_by='SPKT_log10', color_by='dpt', style='boxplot_w_swarm', w=512, h=256)"
   ]
  },
  {
   "cell_type": "code",
   "execution_count": null,
   "id": "ec3f161e",
   "metadata": {},
   "outputs": [],
   "source": []
  }
 ],
 "metadata": {
  "kernelspec": {
   "display_name": "Python 3",
   "language": "python",
   "name": "python3"
  },
  "language_info": {
   "codemirror_mode": {
    "name": "ipython",
    "version": 3
   },
   "file_extension": ".py",
   "mimetype": "text/x-python",
   "name": "python",
   "nbconvert_exporter": "python",
   "pygments_lexer": "ipython3",
   "version": "3.11.6"
  },
  "vscode": {
   "interpreter": {
    "hash": "677ca678853aa41fc137f4b55f2bc0c694e45735c0d2faa667d2ec5acb71e67d"
   }
  }
 },
 "nbformat": 4,
 "nbformat_minor": 5
}
