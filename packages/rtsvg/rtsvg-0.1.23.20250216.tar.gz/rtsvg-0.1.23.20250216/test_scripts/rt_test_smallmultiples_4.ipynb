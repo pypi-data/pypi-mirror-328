{
 "cells": [
  {
   "cell_type": "code",
   "execution_count": null,
   "id": "5becd1c4-1970-499c-adcc-3deb8a2fb655",
   "metadata": {},
   "outputs": [],
   "source": [
    "#\n",
    "# Tests how small multiple geometry when there are too many to render \n",
    "#\n",
    "import pandas as pd\n",
    "import numpy as np\n",
    "import sys\n",
    "sys.path.insert(1, '../rtsvg')\n",
    "from rtsvg import *\n",
    "import random\n",
    "rt = RACETrack()"
   ]
  },
  {
   "cell_type": "code",
   "execution_count": null,
   "id": "bb8f1f61",
   "metadata": {},
   "outputs": [],
   "source": [
    "_dates,_values,_cats = [],[],[]\n",
    "for s in range(0,500):\n",
    "    for m in range(10,13):\n",
    "        _cat = chr(ord('a')+random.randint(0,25)) + \\\n",
    "               chr(ord('a')+random.randint(0,25)) \n",
    "        y = 1\n",
    "        if m == 10 or m == 12:\n",
    "            total_days = 31\n",
    "        else:\n",
    "            total_days = 30\n",
    "        for d in range(1,total_days+1):\n",
    "            _date = f'20{y:02}-{m:02}-{d:02}'\n",
    "\n",
    "            if (m%2) == 0:\n",
    "                _value = d\n",
    "            else:\n",
    "                _value = 50-d\n",
    "\n",
    "            _cats.   append(_cat)\n",
    "            _dates.  append(_date)\n",
    "            _values. append(_value)\n",
    "\n",
    "df = pd.DataFrame({'date':_dates, 'value':_values, 'cat':_cats})\n",
    "df['date'] = df['date'].astype('datetime64[ns]')\n",
    "df.sample(3)"
   ]
  },
  {
   "cell_type": "code",
   "execution_count": null,
   "id": "0150f882",
   "metadata": {},
   "outputs": [],
   "source": [
    "rt.displaySVG(rt.smallMultiples(df,\n",
    "                                category_by='cat',\n",
    "                                count_by='value',color_by='cat',\n",
    "                                sm_type='temporalBarChart', x_axis_independent=False,\n",
    "                                max_categories=9, w=600, h=400))"
   ]
  },
  {
   "cell_type": "code",
   "execution_count": null,
   "id": "2e0fef57",
   "metadata": {},
   "outputs": [],
   "source": [
    "keepers = ['aa','ab','ac']\n",
    "_df = df.query(\"cat in @keepers\")\n",
    "print(f'kept = {len(set(_df.cat))}')\n",
    "rt.displaySVG(rt.smallMultiples(_df,\n",
    "                                category_by='cat',\n",
    "                                count_by='value',color_by='cat',\n",
    "                                sm_type='temporalBarChart', x_axis_independent=False,\n",
    "                                w=600, h=400))"
   ]
  },
  {
   "cell_type": "code",
   "execution_count": null,
   "id": "2e761fdc",
   "metadata": {},
   "outputs": [],
   "source": [
    "rt.displaySVG(rt.smallMultiples(df,\n",
    "                                category_by='cat', max_categories=20,\n",
    "                                count_by='value',color_by='cat',\n",
    "                                sm_type='temporalBarChart', sm_params={'draw_labels':True}, \n",
    "                                x_axis_independent=False,\n",
    "                                w=600, h=400, draw_labels=False))"
   ]
  },
  {
   "cell_type": "code",
   "execution_count": null,
   "id": "ba03326b",
   "metadata": {},
   "outputs": [],
   "source": []
  }
 ],
 "metadata": {
  "kernelspec": {
   "display_name": "Python 3",
   "language": "python",
   "name": "python3"
  },
  "language_info": {
   "codemirror_mode": {
    "name": "ipython",
    "version": 3
   },
   "file_extension": ".py",
   "mimetype": "text/x-python",
   "name": "python",
   "nbconvert_exporter": "python",
   "pygments_lexer": "ipython3",
   "version": "3.11.6"
  },
  "vscode": {
   "interpreter": {
    "hash": "677ca678853aa41fc137f4b55f2bc0c694e45735c0d2faa667d2ec5acb71e67d"
   }
  }
 },
 "nbformat": 4,
 "nbformat_minor": 5
}
