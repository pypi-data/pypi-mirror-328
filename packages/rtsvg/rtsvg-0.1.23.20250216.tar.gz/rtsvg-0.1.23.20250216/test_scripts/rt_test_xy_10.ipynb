{
 "cells": [
  {
   "cell_type": "code",
   "execution_count": null,
   "id": "cc5ec30b-60e9-4ac2-ae42-ca1281cc777f",
   "metadata": {},
   "outputs": [],
   "source": [
    "import pandas as pd\n",
    "import numpy as np\n",
    "import random\n",
    "import sys\n",
    "sys.path.insert(1, '../rtsvg')\n",
    "from rtsvg import *\n",
    "%matplotlib inline"
   ]
  },
  {
   "cell_type": "code",
   "execution_count": null,
   "id": "87ad7aa2-8a86-4f06-8370-b91819774bec",
   "metadata": {},
   "outputs": [],
   "source": [
    "rt = RACETrack()"
   ]
  },
  {
   "cell_type": "code",
   "execution_count": null,
   "id": "b60afb6c",
   "metadata": {},
   "outputs": [],
   "source": [
    "x_values   = [1,      2,       3,     1,      2,      3,      1,      2,      3]\n",
    "y_values   = [10,     20,     25,     15,     22,     15,     11,     10,     12]\n",
    "groups     = ['a',    'a',    'a',    'b',    'b',    'b',    'c',    'c',    'c']\n",
    "timestamps = ['1980', '1985', '1990', '1980', '1985', '1990', '1980', '1985', '1990']\n",
    "\n",
    "df = pd.DataFrame({'x':x_values,'y':y_values,'group':groups,'timestamp':timestamps})\n",
    "df['timestamp'] = df['timestamp'].astype('datetime64[ns]')\n",
    "\n",
    "rt.displaySVG(rt.histogram(df, bin_by='group', color_by='group',h=64))"
   ]
  },
  {
   "cell_type": "code",
   "execution_count": null,
   "id": "527285af",
   "metadata": {},
   "outputs": [],
   "source": [
    "rt.displaySVG(rt.xy(df, x_field='x', y_field='y', line_groupby_w=2, color_by='group', dot_size='large'))"
   ]
  },
  {
   "cell_type": "code",
   "execution_count": null,
   "id": "3bd33fe5",
   "metadata": {},
   "outputs": [],
   "source": [
    "rt.displaySVG(rt.xy(df, x_field='x', y_field='y', line_groupby_w=4, line_groupby_field='group', color_by='group', dot_size='large'))"
   ]
  },
  {
   "cell_type": "code",
   "execution_count": null,
   "id": "7c2b70ec",
   "metadata": {},
   "outputs": [],
   "source": [
    "rt.displaySVG(rt.xy(df, x_field='timestamp', y_field='y', line_groupby_w=4, line_groupby_field='group', color_by='group', dot_size='large'))"
   ]
  },
  {
   "cell_type": "code",
   "execution_count": null,
   "id": "f6f46bb7",
   "metadata": {},
   "outputs": [],
   "source": [
    "df2 = pd.DataFrame({'x':        [1,     1.4,   1.8,   2.2,   2.6,   3],\n",
    "                    'y':        [500,   510,   505,   600,   640,   610],\n",
    "                    'other':    ['z',   'z',   'z',   'z',   'z',   'z'],\n",
    "                    'timestamp':['1980','1982','1984','1986','1988','1990']})\n",
    "df2['timestamp'] = df2['timestamp'].astype('datetime64[ns]')"
   ]
  },
  {
   "cell_type": "code",
   "execution_count": null,
   "id": "71913677",
   "metadata": {},
   "outputs": [],
   "source": [
    "rt.displaySVG(rt.xy(df, df2=df2, x_field='timestamp', y_field='y', y2_field='y', \n",
    "                    line_groupby_w=4, line_groupby_field='group', \n",
    "                    line2_groupby_field='other', line2_groupby_color='#000000',\n",
    "                    color_by='group', dot_size='large'))"
   ]
  },
  {
   "cell_type": "code",
   "execution_count": null,
   "id": "eb6d942d",
   "metadata": {},
   "outputs": [],
   "source": [
    "rt.displaySVG(rt.xy(df, df2=df2, x_field='timestamp', y_field='y', y2_field='y', \n",
    "                    line_groupby_w=4, line_groupby_field='group', \n",
    "                    line2_groupby_field='other', line2_groupby_color='other', line2_groupby_w=4,\n",
    "                    color_by='group', dot_size='large'))"
   ]
  },
  {
   "cell_type": "code",
   "execution_count": null,
   "id": "5eb49f2e",
   "metadata": {},
   "outputs": [],
   "source": [
    "#\n",
    "# What happens if you have multiple equal x components in the group...\n",
    "#\n",
    "x_values   = [1,      2,       3,     3]\n",
    "y_values   = [10,     20,     25,     15]\n",
    "groups     = ['a',    'a',    'a',    'a']\n",
    "timestamps = ['1980', '1985', '1990', '1990']\n",
    "\n",
    "df = pd.DataFrame({'x':x_values,'y':y_values,'group':groups,'timestamp':timestamps})\n",
    "df['timestamp'] = df['timestamp'].astype('datetime64[ns]')\n",
    "rt.displaySVG(rt.xy(df, x_field='x', y_field='y', line_groupby_w=4, line_groupby_field='group', color_by='group', dot_size='large'))"
   ]
  },
  {
   "cell_type": "code",
   "execution_count": null,
   "id": "728da9ab",
   "metadata": {},
   "outputs": [],
   "source": [
    "#\n",
    "# What happens if you have multiple equal x components in the group...\n",
    "#\n",
    "x_values   = [10,     10,     20,     20,     15]\n",
    "y_values   = [10,     20,     20,     10,     10]\n",
    "groups     = ['a',    'a',    'a',    'a',    'a']\n",
    "timestamps = ['1980', '1981', '1982', '1983', '1984']\n",
    "\n",
    "df = pd.DataFrame({'x':x_values,'y':y_values,'group':groups,'timestamp':timestamps})\n",
    "df['timestamp'] = df['timestamp'].astype('datetime64[ns]')\n",
    "rt.displaySVG(rt.xy(df, x_field='x', y_field='y', line_groupby_w=4, line_groupby_field=['group','timestamp'], color_by='group', dot_size='large'))"
   ]
  },
  {
   "cell_type": "code",
   "execution_count": null,
   "id": "8653e4b3",
   "metadata": {},
   "outputs": [],
   "source": []
  }
 ],
 "metadata": {
  "kernelspec": {
   "display_name": "Python 3",
   "language": "python",
   "name": "python3"
  },
  "language_info": {
   "codemirror_mode": {
    "name": "ipython",
    "version": 3
   },
   "file_extension": ".py",
   "mimetype": "text/x-python",
   "name": "python",
   "nbconvert_exporter": "python",
   "pygments_lexer": "ipython3",
   "version": "3.11.1"
  },
  "vscode": {
   "interpreter": {
    "hash": "677ca678853aa41fc137f4b55f2bc0c694e45735c0d2faa667d2ec5acb71e67d"
   }
  }
 },
 "nbformat": 4,
 "nbformat_minor": 5
}
