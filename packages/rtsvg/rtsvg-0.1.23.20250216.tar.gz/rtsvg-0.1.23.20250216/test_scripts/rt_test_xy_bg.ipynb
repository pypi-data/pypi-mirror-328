{
 "cells": [
  {
   "cell_type": "code",
   "execution_count": null,
   "metadata": {},
   "outputs": [],
   "source": [
    "import pandas as pd\n",
    "import numpy as np\n",
    "\n",
    "import sys\n",
    "sys.path.insert(1, '../rtsvg')\n",
    "\n",
    "from rtsvg import *\n",
    "from IPython.display import Javascript, HTML, display\n",
    "\n",
    "# For creating data to test with...\n",
    "import random\n",
    "random.seed(42)\n",
    "\n",
    "%matplotlib inline"
   ]
  },
  {
   "cell_type": "code",
   "execution_count": null,
   "metadata": {},
   "outputs": [],
   "source": [
    "rt = RACETrack()"
   ]
  },
  {
   "cell_type": "code",
   "execution_count": null,
   "metadata": {},
   "outputs": [],
   "source": [
    "#\n",
    "# Generate data that covers a wide timeframe... with detailed parts so that \n",
    "# filtering isn't meaningless...\n",
    "#\n",
    "timestamps = []\n",
    "counts     = []\n",
    "for y in range(1972,2100):\n",
    "    m,d = 1,1\n",
    "    str = f'{y}-{m:02}-{d:02}'\n",
    "    timestamps.append(str)\n",
    "    counts.append(random.randint(1000,2000))\n",
    "\n",
    "for y in range(2000,2010):\n",
    "    for m in range(1,12):\n",
    "        d = 1\n",
    "        str = f'{y}-{m:02}-{d:02}'\n",
    "        timestamps.append(str)\n",
    "        counts.append(random.randint(100,200))\n",
    "\n",
    "for y in range(2010,2012):\n",
    "    for m in range(1,12):\n",
    "        for d in range(1,28):\n",
    "            str = f'{y}-{m:02}-{d:02}'\n",
    "            timestamps.append(str)\n",
    "            counts.append(random.randint(10,20))\n",
    "y = 2010\n",
    "m = 1\n",
    "for d in range(1,28):\n",
    "    for h in range(0,24):\n",
    "        str = f'{y}-{m:02}-{d:02} {h:02}'\n",
    "        timestamps.append(str)\n",
    "        counts.append(random.randint(10,50))\n",
    "\n",
    "d = 15\n",
    "for h in range(0,24):\n",
    "    for minute in range(0,60):\n",
    "        str = f'{y}-{m:02}-{d:02} {h:02}:{minute:02}'\n",
    "        timestamps.append(str)\n",
    "        counts.append(random.randint(1,8))\n",
    "\n",
    "h      = 20\n",
    "minute = 30\n",
    "for s in range(0,60):\n",
    "    str = f'{y}-{m:02}-{d:02} {h:02}:{minute:02}:{s:02}'\n",
    "    timestamps.append(str)\n",
    "    counts.append(random.randint(1,5))\n",
    "\n",
    "df = pd.DataFrame({'timestamp':timestamps,'count':counts})\n",
    "df['timestamp'] = pd.to_datetime(df['timestamp'],format='mixed')"
   ]
  },
  {
   "cell_type": "code",
   "execution_count": null,
   "metadata": {},
   "outputs": [],
   "source": [
    "#\n",
    "# Pick timeframes to cover all of the granularities\n",
    "#\n",
    "spec = {\n",
    "    '1' :('xy', {'h_gap':2,'df':df}),\n",
    "    '2' :('xy', {'h_gap':2,'df':df[(df['timestamp'] >= '1910') & (df['timestamp'] <= '2012')]}),\n",
    "    '3' :('xy', {'h_gap':2,'df':df[(df['timestamp'] >= '1980') & (df['timestamp'] <= '2012')]}),    \n",
    "    '4' :('xy', {'h_gap':2,'df':df[(df['timestamp'] >= '2001') & (df['timestamp'] <= '2012')]}),\n",
    "    '5' :('xy', {'h_gap':2,'df':df[(df['timestamp'] >= '2010') & (df['timestamp'] <= '2012')]}),    \n",
    "    '6' :('xy', {'h_gap':2,'df':df[(df['timestamp'] >= '2010-01') & (df['timestamp'] <= '2010-03')]}),\n",
    "    '7' :('xy', {'h_gap':2,'df':df[(df['timestamp'] >= '2010-01-10') & (df['timestamp'] <= '2010-01-20')]}),\n",
    "    '8' :('xy', {'h_gap':2,'df':df[(df['timestamp'] >= '2010-01-12') & (df['timestamp'] <= '2010-01-18')]}),\n",
    "    '9' :('xy', {'h_gap':2,'df':df[(df['timestamp'] >= '2010-01-14') & (df['timestamp'] <= '2010-01-16')]}),\n",
    "    '10':('xy', {'h_gap':2,'df':df[(df['timestamp'] >= '2010-01-15') & (df['timestamp'] <= '2010-01-15 03')]}),\n",
    "    '11':('xy', {'h_gap':2,'df':df[(df['timestamp'] >= '2010-01-15 01:00') & (df['timestamp'] <= '2010-01-15 01:30')]}),\n",
    "    '12':('xy', {'h_gap':2,'df':df[(df['timestamp'] >= '2010-01-15 01:02') & (df['timestamp'] <= '2010-01-15 01:05')]})\n",
    "}\n",
    "\n",
    "display(HTML(rt.multiWidgetPanel(df,spec,count_by='count',x_field='timestamp',y_field='count')))"
   ]
  },
  {
   "cell_type": "code",
   "execution_count": null,
   "metadata": {},
   "outputs": [],
   "source": [
    "display(HTML(rt.multiWidgetPanel(df,spec,count_by='count',x_field='timestamp',y_field='count',w=512,h=1024)))"
   ]
  },
  {
   "cell_type": "code",
   "execution_count": null,
   "metadata": {},
   "outputs": [],
   "source": [
    "display(HTML(rt.multiWidgetPanel(df,spec,count_by='count',x_field='timestamp',y_field='count',w=256,h=1024)))"
   ]
  },
  {
   "cell_type": "code",
   "execution_count": null,
   "metadata": {},
   "outputs": [],
   "source": []
  }
 ],
 "metadata": {
  "kernelspec": {
   "display_name": "Python 3",
   "language": "python",
   "name": "python3"
  },
  "language_info": {
   "codemirror_mode": {
    "name": "ipython",
    "version": 3
   },
   "file_extension": ".py",
   "mimetype": "text/x-python",
   "name": "python",
   "nbconvert_exporter": "python",
   "pygments_lexer": "ipython3",
   "version": "3.10.6"
  },
  "orig_nbformat": 4,
  "vscode": {
   "interpreter": {
    "hash": "677ca678853aa41fc137f4b55f2bc0c694e45735c0d2faa667d2ec5acb71e67d"
   }
  }
 },
 "nbformat": 4,
 "nbformat_minor": 2
}
