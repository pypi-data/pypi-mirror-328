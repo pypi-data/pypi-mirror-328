{
 "cells": [
  {
   "cell_type": "code",
   "execution_count": null,
   "metadata": {},
   "outputs": [],
   "source": [
    "import pandas as pd\n",
    "import numpy as np\n",
    "import networkx as nx\n",
    "\n",
    "import sys\n",
    "sys.path.insert(1, '../rtsvg')\n",
    "\n",
    "from rtsvg import *\n",
    "\n",
    "import time\n",
    "import random\n",
    "\n",
    "from math import log\n",
    "\n",
    "from IPython.display import Javascript, HTML, display\n",
    "%matplotlib inline"
   ]
  },
  {
   "cell_type": "code",
   "execution_count": null,
   "metadata": {},
   "outputs": [],
   "source": [
    "rt = RACETrack()"
   ]
  },
  {
   "cell_type": "code",
   "execution_count": null,
   "metadata": {},
   "outputs": [],
   "source": [
    "tups = [ ('a', 'b',   2),\n",
    "         ('b', 'c',   2),\n",
    "         ('c', 'd',   2),\n",
    "         ('d', 'e',   2),\n",
    "         ('a', 'a0', 10),\n",
    "         ('a', 'a1', 11),\n",
    "         ('a', 'a2', 12),\n",
    "         ('c', 'c0',  8),\n",
    "         ('c', 'c1',  9),\n",
    "         ('c1','a1', 50)\n",
    "       ]\n",
    "fms,tos,weights = [],[],[]\n",
    "for tup in tups:\n",
    "    fms.    append(tup[0])\n",
    "    tos.    append(tup[1])\n",
    "    weights.append(tup[2])\n",
    "for i in range(0,30):\n",
    "    fms.    append('d')\n",
    "    tos.    append('d'+str(i))\n",
    "    weights.append(0.1)\n",
    "for i in range(0,15):\n",
    "    fms.    append('e')\n",
    "    tos.    append('e'+str(i))\n",
    "    weights.append(0.3)\n",
    "for i in range(0,10):\n",
    "    fms.    append('b')\n",
    "    tos.    append('b'+str(i))\n",
    "    weights.append(0.5)\n",
    "\n",
    "df = pd.DataFrame({'fm':fms,'to':tos,'weight':weights})"
   ]
  },
  {
   "cell_type": "code",
   "execution_count": null,
   "metadata": {},
   "outputs": [],
   "source": [
    "relates = [('fm','to')]\n",
    "pos1 = rt.springLayout(rt.createNetworkXGraph(df, relates),spring_exp=.1)\n",
    "pos2 = rt.springLayout(rt.createNetworkXGraph(df, relates),spring_exp=.2)\n",
    "pos3 = rt.springLayout(rt.createNetworkXGraph(df, relates),spring_exp=.3)\n",
    "\n",
    "pos4 = rt.springLayout(rt.createNetworkXGraph(df, relates),spring_exp=.5)\n",
    "pos5 = rt.springLayout(rt.createNetworkXGraph(df, relates),spring_exp=.6)\n",
    "pos6 = rt.springLayout(rt.createNetworkXGraph(df, relates),spring_exp=.7)\n",
    "\n",
    "pos7 = rt.springLayout(rt.createNetworkXGraph(df, relates),spring_exp=1)\n",
    "pos8 = rt.springLayout(rt.createNetworkXGraph(df, relates),spring_exp=2)\n",
    "pos9 = rt.springLayout(rt.createNetworkXGraph(df, relates),spring_exp=3)\n",
    "\n",
    "spec = {    '1,1':  ('linkNode',{'pos':pos1, 'relationships':relates, 'draw_labels':False}),\n",
    "            '2,1':  ('linkNode',{'pos':pos2, 'relationships':relates, 'draw_labels':False}),\n",
    "            '3,1':  ('linkNode',{'pos':pos3, 'relationships':relates, 'draw_labels':False}),\n",
    "            '1,2':  ('linkNode',{'pos':pos4, 'relationships':relates, 'draw_labels':False}),\n",
    "            '2,2':  ('linkNode',{'pos':pos5, 'relationships':relates, 'draw_labels':False}),\n",
    "            '3,2':  ('linkNode',{'pos':pos6, 'relationships':relates, 'draw_labels':False}),\n",
    "            '1,3':  ('linkNode',{'pos':pos7, 'relationships':relates, 'draw_labels':False}),\n",
    "            '2,3':  ('linkNode',{'pos':pos8, 'relationships':relates, 'draw_labels':False}),\n",
    "            '3,3':  ('linkNode',{'pos':pos9, 'relationships':relates, 'draw_labels':False}) }\n",
    "\n",
    "# svg = rt.linkNode(df, relates, pos, draw_labels=False)\n",
    "svg = rt.multiWidgetPanel(df, spec, w=768, h=512)\n",
    "\n",
    "display(HTML(svg))"
   ]
  },
  {
   "cell_type": "code",
   "execution_count": null,
   "metadata": {},
   "outputs": [],
   "source": [
    "relates = [('fm','to')]\n",
    "df['inv_log_weight'] = df['weight'].apply(lambda x: 1.0 / (log(x+1)+1))\n",
    "pos = rt.springLayout(rt.createNetworkXGraph(df, relates, count_by='inv_log_weight'), use_weights=True, spring_exp=0.1)\n",
    "svg = rt.linkNode(df, relates, pos, w=512,h=512)\n",
    "display(HTML(svg))"
   ]
  },
  {
   "cell_type": "code",
   "execution_count": null,
   "metadata": {},
   "outputs": [],
   "source": [
    "#\n",
    "# Create a synthetic graph\n",
    "# ... will be \"num_nodes\" + 1 nodes...\n",
    "# ... num_edges is on top of all the edges to connect\n",
    "#     the nodes in a single path...\n",
    "#\n",
    "def createSyntheticGraph(num_nodes, num_edges):\n",
    "    fms = []\n",
    "    tos = []\n",
    "    for i in range(0,num_nodes):\n",
    "        fms.append(str(i))\n",
    "        tos.append(str(i+1))\n",
    "    for i in range(0,num_edges):\n",
    "        fms.append(str(random.randint(0,num_nodes)))\n",
    "        tos.append(str(random.randint(0,num_nodes)))\n",
    "    return pd.DataFrame({'fm':fms,'to':tos})\n",
    "\n",
    "relates = [('fm','to')]\n",
    "df = createSyntheticGraph(50,100)\n",
    "pos = rt.springLayout(rt.createNetworkXGraph(df, relates), spring_exp=0.5)\n",
    "svg = rt.linkNode(df, relates, pos, w=128, h=128, draw_labels=False)\n",
    "display(HTML(svg))"
   ]
  },
  {
   "cell_type": "code",
   "execution_count": null,
   "metadata": {},
   "outputs": [],
   "source": [
    "num_nodes_ls  = []\n",
    "time_taken_ls = []\n",
    "method_ls     = []\n",
    "for num_nodes in range(10,160,10):\n",
    "    print(num_nodes)\n",
    "    df = createSyntheticGraph(num_nodes, int(num_nodes*1.2))\n",
    "    relates = [('fm','to')]\n",
    "    ts0 = time.time()\n",
    "    pos = rt.springLayout(rt.createNetworkXGraph(df, relates), spring_exp=0.5)\n",
    "    ts1 = time.time()\n",
    "    num_nodes_ls.  append(num_nodes)\n",
    "    time_taken_ls. append(ts1-ts0)\n",
    "    method_ls.     append('reference')\n",
    "\n",
    "    ts2 = time.time()\n",
    "    nx.all_pairs_shortest_path_length(rt.createNetworkXGraph(df, relates))\n",
    "    ts3 = time.time()\n",
    "    num_nodes_ls.  append(num_nodes)\n",
    "    time_taken_ls. append(ts3-ts2)\n",
    "    method_ls.     append('all_pairs')\n",
    "\n",
    "    ts4 = time.time()\n",
    "    nx.spring_layout(rt.createNetworkXGraph(df, relates))\n",
    "    ts5 = time.time()\n",
    "    num_nodes_ls.  append(num_nodes)\n",
    "    time_taken_ls. append(ts5-ts4)\n",
    "    method_ls.     append('nx_springs')\n",
    "\n",
    "    # too horrible to include\n",
    "    #ts6 = time.time()\n",
    "    #pos = rt.springLayoutThreaded(rt.createNetworkXGraph(df, relates), spring_exp=0.5)\n",
    "    #ts7 = time.time()\n",
    "    #num_nodes_ls.  append(num_nodes)\n",
    "    #time_taken_ls. append(ts7-ts6)\n",
    "    #method_ls.     append('threaded')\n"
   ]
  },
  {
   "cell_type": "code",
   "execution_count": null,
   "metadata": {},
   "outputs": [],
   "source": [
    "df = pd.DataFrame({'num_nodes':num_nodes_ls, 'time':time_taken_ls, 'method':method_ls})\n",
    "display(HTML(rt.xy(df, 'num_nodes', 'time', color_by='method', dot_size='large', w=256, h=256)))"
   ]
  },
  {
   "cell_type": "code",
   "execution_count": null,
   "metadata": {},
   "outputs": [],
   "source": [
    "display(HTML(rt.histogram(df,bin_by='method',color_by='method',count_by='time',w=512,h=160)))"
   ]
  },
  {
   "cell_type": "code",
   "execution_count": null,
   "metadata": {},
   "outputs": [],
   "source": []
  }
 ],
 "metadata": {
  "kernelspec": {
   "display_name": "Python 3",
   "language": "python",
   "name": "python3"
  },
  "language_info": {
   "codemirror_mode": {
    "name": "ipython",
    "version": 3
   },
   "file_extension": ".py",
   "mimetype": "text/x-python",
   "name": "python",
   "nbconvert_exporter": "python",
   "pygments_lexer": "ipython3",
   "version": "3.11.1"
  },
  "orig_nbformat": 4,
  "vscode": {
   "interpreter": {
    "hash": "677ca678853aa41fc137f4b55f2bc0c694e45735c0d2faa667d2ec5acb71e67d"
   }
  }
 },
 "nbformat": 4,
 "nbformat_minor": 2
}
