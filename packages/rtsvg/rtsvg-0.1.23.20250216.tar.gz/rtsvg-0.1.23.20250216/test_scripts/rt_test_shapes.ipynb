{
 "cells": [
  {
   "cell_type": "code",
   "execution_count": null,
   "metadata": {},
   "outputs": [],
   "source": [
    "import pandas as pd\n",
    "import numpy as np\n",
    "from math import cos, sin, pi\n",
    "import random\n",
    "import sys\n",
    "sys.path.insert(1, '../rtsvg')\n",
    "from rtsvg import *\n",
    "rt = RACETrack()"
   ]
  },
  {
   "cell_type": "code",
   "execution_count": null,
   "metadata": {},
   "outputs": [],
   "source": [
    "svg = '<svg x=\"0\" y=\"0\" width=\"500\" height=\"500\">'\n",
    "y = 50\n",
    "for _shape_ in [\"ellipse\", \"square\", \"triangle\", \"utriangle\", \"diamond\", \"plus\", \"x\"]:\n",
    "    _sz_ = 3\n",
    "    for x in range(50,500,50):\n",
    "        svg += rt.renderShape(_shape_, x, y, _sz_)\n",
    "        _sz_ += 1\n",
    "    y += 65\n",
    "svg += '</svg>'\n",
    "rt.svgObject(svg)"
   ]
  },
  {
   "cell_type": "code",
   "execution_count": null,
   "metadata": {},
   "outputs": [],
   "source": [
    "svg = '<svg x=\"0\" y=\"0\" width=\"500\" height=\"500\">'\n",
    "y = 50\n",
    "for _shape_ in [\"ellipse\", \"square\", \"triangle\", \"utriangle\", \"diamond\", \"plus\", \"x\"]:\n",
    "    _sz_ = 3\n",
    "    for x in range(50,500,50):\n",
    "        svg += rt.renderShape(_shape_, x, y, _sz_)\n",
    "        for i in range(2):\n",
    "            a, r = random.randint(0,360), 22\n",
    "            xp, yp = x+cos(a/180*pi)*r, y+sin(a/180*pi)*r\n",
    "            xc, yc = rt.shapeAttachmentPoint(_shape_, x, y, _sz_, xp, yp)\n",
    "            svg += f'<line x1=\"{xp}\" y1=\"{yp}\" x2=\"{xc}\" y2=\"{yc}\" stroke=\"red\" stroke-width=\"1\" />'\n",
    "        _sz_ += 1\n",
    "    y += 65\n",
    "svg += '</svg>'\n",
    "rt.svgObject(svg)"
   ]
  },
  {
   "cell_type": "code",
   "execution_count": null,
   "metadata": {},
   "outputs": [],
   "source": []
  }
 ],
 "metadata": {
  "kernelspec": {
   "display_name": ".venv",
   "language": "python",
   "name": "python3"
  },
  "language_info": {
   "codemirror_mode": {
    "name": "ipython",
    "version": 3
   },
   "file_extension": ".py",
   "mimetype": "text/x-python",
   "name": "python",
   "nbconvert_exporter": "python",
   "pygments_lexer": "ipython3",
   "version": "3.11.6"
  }
 },
 "nbformat": 4,
 "nbformat_minor": 2
}
