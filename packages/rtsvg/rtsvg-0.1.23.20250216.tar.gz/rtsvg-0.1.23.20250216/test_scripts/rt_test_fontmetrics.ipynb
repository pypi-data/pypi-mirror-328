{
 "cells": [
  {
   "cell_type": "code",
   "execution_count": null,
   "metadata": {},
   "outputs": [],
   "source": [
    "import pandas as pd\n",
    "import numpy  as np\n",
    "\n",
    "import random\n",
    "\n",
    "from datetime import datetime, timedelta\n",
    "from dateutil.relativedelta import relativedelta\n",
    "\n",
    "import sys\n",
    "sys.path.insert(1, '../rtsvg')\n",
    "from rtsvg import *\n",
    "\n",
    "rt = RACETrack()"
   ]
  },
  {
   "cell_type": "code",
   "execution_count": null,
   "metadata": {},
   "outputs": [],
   "source": [
    "def renderFontMetricExample(txt, txt_h):\n",
    "    svg = f'<svg width=\"{rt.textLength(txt, txt_h)+128}\" height=\"{(txt_h+txt_h/2)*(len(txt)+2)}\">'\n",
    "    for i in range(1,len(txt)+1):\n",
    "        x = 5\n",
    "        y = txt_h + i*(txt_h+txt_h/2)\n",
    "        svg += f'<rect x=\"{x}\" y=\"{y-txt_h}\"  width=\"{rt.textLength(txt[:i], txt_h)}\" height=\"{txt_h}\" fill=\"#707070\" />'\n",
    "        svg += rt.svgText(txt[:i], x, y, txt_h)\n",
    "    svg += '</svg>'\n",
    "    return svg\n",
    "\n",
    "rt.displaySVG(renderFontMetricExample('abcdefghijklmnopqrstuvwxyzABCDEFGHIJKLMNOPQRSTUVWXYZ 01234567890',19.5))"
   ]
  },
  {
   "cell_type": "code",
   "execution_count": null,
   "metadata": {},
   "outputs": [],
   "source": [
    "rt.displaySVG(renderFontMetricExample('abcdefghijklmnopqrstuvwxyzABCDEFGHIJKLMNOPQRSTUVWXYZ 01234567890',10))"
   ]
  },
  {
   "cell_type": "code",
   "execution_count": null,
   "metadata": {},
   "outputs": [],
   "source": [
    "rt.displaySVG(renderFontMetricExample('abcdefghijklmnopqrstuvwxyzABCDEFGHIJKLMNOPQRSTUVWXYZ 01234567890',16))"
   ]
  },
  {
   "cell_type": "code",
   "execution_count": null,
   "metadata": {},
   "outputs": [],
   "source": [
    "def renderFontMetricSpaces(txt_h):\n",
    "    svg = f'<svg width=\"{512}\" height=\"{(txt_h+5)*32}\">'\n",
    "    for i in range(0,32):\n",
    "        _my_txt = 'n'\n",
    "        for j in range(0,i):\n",
    "            _my_txt += ' '\n",
    "        _my_txt += 'n'\n",
    "        x = 5\n",
    "        y = txt_h + i*(txt_h+5)\n",
    "        svg += f'<rect x=\"{x}\" y=\"{y-txt_h}\"  width=\"{rt.textLength(_my_txt, txt_h)}\" height=\"{txt_h}\" fill=\"#707070\" />'\n",
    "        svg += rt.svgText(_my_txt, x, y, txt_h)\n",
    "    svg += '</svg>'\n",
    "    return svg\n",
    "\n",
    "rt.displaySVG(renderFontMetricSpaces(16))"
   ]
  },
  {
   "cell_type": "code",
   "execution_count": null,
   "metadata": {},
   "outputs": [],
   "source": [
    "\n",
    "rt.displaySVG(renderFontMetricSpaces(36))"
   ]
  },
  {
   "cell_type": "code",
   "execution_count": null,
   "metadata": {},
   "outputs": [],
   "source": []
  }
 ],
 "metadata": {
  "kernelspec": {
   "display_name": "Python 3",
   "language": "python",
   "name": "python3"
  },
  "language_info": {
   "codemirror_mode": {
    "name": "ipython",
    "version": 3
   },
   "file_extension": ".py",
   "mimetype": "text/x-python",
   "name": "python",
   "nbconvert_exporter": "python",
   "pygments_lexer": "ipython3",
   "version": "3.11.4"
  },
  "orig_nbformat": 4,
  "vscode": {
   "interpreter": {
    "hash": "677ca678853aa41fc137f4b55f2bc0c694e45735c0d2faa667d2ec5acb71e67d"
   }
  }
 },
 "nbformat": 4,
 "nbformat_minor": 2
}
