{
 "cells": [
  {
   "cell_type": "code",
   "execution_count": null,
   "metadata": {},
   "outputs": [],
   "source": [
    "import pandas as pd\n",
    "import numpy as np\n",
    "import networkx as nx\n",
    "import random\n",
    "import sys\n",
    "sys.path.insert(1, '../rtsvg')\n",
    "from rtsvg import *\n",
    "rt = RACETrack()"
   ]
  },
  {
   "cell_type": "code",
   "execution_count": null,
   "metadata": {},
   "outputs": [],
   "source": [
    "parents, children = [], []\n",
    "def addChildren(parent, depth, max_depth=5):\n",
    "    if depth < max_depth:\n",
    "        num_children = random.randint(0, 6)\n",
    "        for i in range(num_children):\n",
    "            child_name = parent + chr(ord('a') + i)\n",
    "            parents.append(parent)\n",
    "            children.append(child_name)\n",
    "            addChildren(child_name, depth + 1)\n",
    "parents.append('r'), children.append('1')\n",
    "parents.append('r'), children.append('2')\n",
    "parents.append('r'), children.append('3')\n",
    "addChildren('1',1), addChildren('2',1), addChildren('3',1)\n",
    "df = pd.DataFrame({'parent': parents, 'child': children})\n",
    "relates = [('child','parent')]\n",
    "g_nx = rt.createNetworkXGraph(df, relates)"
   ]
  },
  {
   "cell_type": "code",
   "execution_count": null,
   "metadata": {},
   "outputs": [],
   "source": [
    "pos   = rt.hyperTreeLayout(g_nx)\n",
    "pos2  = rt.hyperTreeLayout(g_nx, touch_up_with_springs=True)\n",
    "pos3  = rt.hyperTreeLayout(g_nx, roots='r')\n",
    "parms = {'df':df, 'relationships':relates, 'draw_labels':False, 'node_size':'small',\n",
    "         'link_arrow':False, 'link_shape':'line', 'w':300, 'h':300}\n",
    "rt.table([rt.linkNode(pos=pos,  **parms), \n",
    "          rt.linkNode(pos=pos2, **parms),\n",
    "          rt.linkNode(pos=pos3, **parms)], per_row=2)"
   ]
  },
  {
   "cell_type": "code",
   "execution_count": null,
   "metadata": {},
   "outputs": [],
   "source": [
    "df = pd.DataFrame({'fm':'a0 b0 b0 c0 c0 c0 c0 c4  c4  c4  d0 d1 d2 e0 e1 e2 e3'.split(),\n",
    "                   'to':'a0 b1 b2 c1 c2 c3 c4 c41 c42 c43 d1 d2 d3 e1 e2 e3 e4'.split()})\n",
    "g   = rt.createNetworkXGraph(df, [('fm','to')])\n",
    "pos = rt.hyperTreeLayout(g)\n",
    "rt.linkNode(df, [('fm','to')], pos, draw_labels=True)"
   ]
  },
  {
   "cell_type": "code",
   "execution_count": null,
   "metadata": {},
   "outputs": [],
   "source": []
  }
 ],
 "metadata": {
  "kernelspec": {
   "display_name": "Python 3",
   "language": "python",
   "name": "python3"
  },
  "language_info": {
   "codemirror_mode": {
    "name": "ipython",
    "version": 3
   },
   "file_extension": ".py",
   "mimetype": "text/x-python",
   "name": "python",
   "nbconvert_exporter": "python",
   "pygments_lexer": "ipython3",
   "version": "3.9.6"
  },
  "orig_nbformat": 4,
  "vscode": {
   "interpreter": {
    "hash": "677ca678853aa41fc137f4b55f2bc0c694e45735c0d2faa667d2ec5acb71e67d"
   }
  }
 },
 "nbformat": 4,
 "nbformat_minor": 2
}
