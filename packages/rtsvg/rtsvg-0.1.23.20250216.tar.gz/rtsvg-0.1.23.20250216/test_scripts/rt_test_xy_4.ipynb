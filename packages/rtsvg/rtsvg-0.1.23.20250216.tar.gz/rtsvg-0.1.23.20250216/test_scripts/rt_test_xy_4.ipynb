{
 "cells": [
  {
   "cell_type": "code",
   "execution_count": null,
   "id": "cc5ec30b-60e9-4ac2-ae42-ca1281cc777f",
   "metadata": {},
   "outputs": [],
   "source": [
    "import pandas as pd\n",
    "import numpy as np\n",
    "\n",
    "import sys\n",
    "sys.path.insert(1, '../rtsvg')\n",
    "\n",
    "from rtsvg import *\n",
    "from IPython.display import Javascript, HTML, display\n",
    "%matplotlib inline"
   ]
  },
  {
   "cell_type": "code",
   "execution_count": null,
   "id": "87ad7aa2-8a86-4f06-8370-b91819774bec",
   "metadata": {},
   "outputs": [],
   "source": [
    "rt = RACETrack()"
   ]
  },
  {
   "cell_type": "code",
   "execution_count": null,
   "id": "9886f3a8-5c9e-4e68-b5ab-d758584b5071",
   "metadata": {},
   "outputs": [],
   "source": [
    "df = pd.DataFrame({'fld1':[10,  20,  30,  40,  50,  20],\n",
    "                   'fld2':[10,  10,  30,  30,  60,  10],\n",
    "                   'fld3':['a', 'b', 'c', 'a', 'a', 'd'],\n",
    "                   'fld4':['x', 'x', 'x', 'y', 'y', 'z']})"
   ]
  },
  {
   "cell_type": "code",
   "execution_count": null,
   "id": "908a37de-4ab9-42a9-868c-555ba488d114",
   "metadata": {},
   "outputs": [],
   "source": [
    "rt.displaySVG(rt.xyInstance(df,x_field=['fld1','fld2'],\n",
    "                      y_field=['fld3','fld4'],color_by='fld4',count_by='fld1',w=128,h=128).renderSVG())"
   ]
  },
  {
   "cell_type": "code",
   "execution_count": null,
   "id": "2cdda692",
   "metadata": {},
   "outputs": [],
   "source": [
    "rt.displaySVG(rt.xyInstance(df,x_field=['fld1','fld2'],\n",
    "                      y_field=['fld3','fld4'],color_by=None, color_magnitude='linear' , count_by='fld1', dot_size=\"large\", w=128, h=128).renderSVG())"
   ]
  },
  {
   "cell_type": "code",
   "execution_count": null,
   "id": "653ac848-7b54-436c-bd43-278dd690d0c4",
   "metadata": {},
   "outputs": [],
   "source": [
    "rt.displaySVG(rt.xyInstance(df,x_field='fld1',y_field='fld2',color_by='fld4',w=64,h=64).renderSVG())"
   ]
  },
  {
   "cell_type": "code",
   "execution_count": null,
   "id": "d32a92fc-f2a0-4f83-ad6e-720ea1a38c46",
   "metadata": {},
   "outputs": [],
   "source": [
    "rt.displaySVG(rt.xyInstance(df,x_field='fld3',y_field='fld4',color_by='fld3',w=64,h=64).renderSVG())"
   ]
  },
  {
   "cell_type": "code",
   "execution_count": null,
   "id": "d88f1440-65ea-441d-9777-7ffc9e2eee65",
   "metadata": {},
   "outputs": [],
   "source": [
    "df = pd.DataFrame({'ts'  :['2022-01-01', '2022-02-01', '2024-06-15', '2022-08-01 00:52:03', '2023-02-15 20:00:00'],\n",
    "                   'fld2':[10,           10,           30,           30,                    60],\n",
    "                   'fld3':['a', 'b', 'c', 'a', 'a'],\n",
    "                   'fld4':['x', 'x', 'x', 'y', 'y']})\n",
    "df['ts'] = pd.to_datetime(df['ts'], format='mixed')\n",
    "rt.displaySVG(rt.xyInstance(df,x_field='ts',y_field='fld2',color_by='fld4', dot_size='large').renderSVG())"
   ]
  },
  {
   "cell_type": "code",
   "execution_count": null,
   "id": "ab865311-31a6-42c0-96df-0a039bc19dc3",
   "metadata": {},
   "outputs": [],
   "source": [
    "df        = pd.read_csv(\"../../data/netflow/netflow_sample.csv\")\n",
    "df['beg'] = df['beg'].astype(\"datetime64[ms]\")\n",
    "df        = df.rename({'beg':'timestamp'},axis=1)\n",
    "df.shape"
   ]
  },
  {
   "cell_type": "code",
   "execution_count": null,
   "id": "217d443c-1c46-4f1e-95a1-09fe7164fdf4",
   "metadata": {},
   "outputs": [],
   "source": [
    "rt.displaySVG(rt.xyInstance(df,x_field=['sip','dip'],y_field='dpt',color_by='dpt',dot_size='medium').renderSVG())"
   ]
  },
  {
   "cell_type": "code",
   "execution_count": null,
   "id": "32170fd5-b0a8-4133-bb8f-143fb97e7f34",
   "metadata": {},
   "outputs": [],
   "source": [
    "rt.displaySVG(rt.xyInstance(df,x_field=['sip','spt'],y_field=['dip','dpt'],color_by='dpt',dot_size='small').renderSVG())"
   ]
  },
  {
   "cell_type": "code",
   "execution_count": null,
   "id": "f24f228d-50b1-47d9-8d97-a0a9322f7371",
   "metadata": {},
   "outputs": [],
   "source": [
    "rt.displaySVG(rt.xyInstance(df,x_field=['timestamp'],y_field=['sip','dip'],color_by='sip',dot_size='small',w=512,h=256).renderSVG())"
   ]
  },
  {
   "cell_type": "code",
   "execution_count": null,
   "id": "ace45546-bb71-4ac9-b770-aa975b067baf",
   "metadata": {},
   "outputs": [],
   "source": [
    "rt.displaySVG(rt.xyInstance(df,x_field='timestamp',y_field='DBYT',color_by='dpt',dot_size='medium',opacity=0.8,w=512,h=256).renderSVG())"
   ]
  },
  {
   "cell_type": "code",
   "execution_count": null,
   "id": "2017e490-7956-46b8-997b-6b4d93f4c807",
   "metadata": {},
   "outputs": [],
   "source": [
    "careabouts = ['192.168.1.2','192.168.1.7']\n",
    "_df = df[df['sip'].isin(careabouts)]\n",
    "rt.displaySVG(rt.xyInstance(_df,'timestamp','DPKT',\n",
    "                   color_by='sip',\n",
    "                   line_groupby_field='sip',\n",
    "                   dot_size='small',w=768,h=256).renderSVG())"
   ]
  },
  {
   "cell_type": "code",
   "execution_count": null,
   "id": "eb7634f5",
   "metadata": {},
   "outputs": [],
   "source": [
    "from math import log\n",
    "def myLog(x):\n",
    "    if x > 1:\n",
    "        return log(x)\n",
    "    else:\n",
    "        return 0\n",
    "\n",
    "df['DPKT_log'] = df['DPKT'].apply(lambda x: myLog(x))\n",
    "df['SPKT_log'] = df['SPKT'].apply(lambda x: myLog(x))\n",
    "\n",
    "careabouts = ['192.168.1.2']\n",
    "_df = df[df['sip'].isin(careabouts)]\n",
    "rt.displaySVG(rt.xyInstance(_df,'timestamp','DPKT_log',\n",
    "                   # color_by='sip',\n",
    "                   # line_groupby_field='sip',\n",
    "                   y2_field='SPKT_log',\n",
    "                   dot_size='small',w=768,h=256).renderSVG())"
   ]
  },
  {
   "cell_type": "code",
   "execution_count": null,
   "id": "8fe09a83",
   "metadata": {},
   "outputs": [],
   "source": [
    "def myRounder(x):\n",
    "    if x > 10000:\n",
    "        return 10000\n",
    "    return int(x/1000) * 1000\n",
    "\n",
    "df['DPKT_rounded'] = df['DPKT'].apply(lambda x: myRounder(x))\n",
    "df['SPKT_rounded'] = df['SPKT'].apply(lambda x: myRounder(x))\n",
    "\n",
    "rt.displaySVG(rt.xyInstance(df,'SPKT_rounded','DPKT_rounded',\n",
    "                   count_by='DBYT',\n",
    "                   dot_shape='small_multiple',\n",
    "                   sm_type='xy',\n",
    "                   sm_params={'x_field':'SBYT','y_field':'DBYT','color_magnitude':'linear', 'dot_size':'medium'},\n",
    "                   sm_w=32,sm_h=32,\n",
    "                   w=512,h=512,x_ins=24,y_ins=24).renderSVG())"
   ]
  },
  {
   "cell_type": "code",
   "execution_count": null,
   "id": "8ab24366",
   "metadata": {},
   "outputs": [],
   "source": [
    "careabouts = ['192.168.1.2']\n",
    "_df = df[df['sip'].isin(careabouts)]\n",
    "rt.displaySVG(rt.xyInstance(_df,'timestamp','DPKT_log',\n",
    "                   count_by='DBYT',\n",
    "                   color_magnitude='linear',\n",
    "                   dot_size='small',w=768,h=256).renderSVG())"
   ]
  },
  {
   "cell_type": "code",
   "execution_count": null,
   "id": "75d55aa5",
   "metadata": {},
   "outputs": [],
   "source": [
    "careabouts = ['192.168.1.2']\n",
    "_df = df[df['sip'].isin(careabouts)]\n",
    "rt.displaySVG(rt.xyInstance(_df,'timestamp','DPKT_log',\n",
    "                   count_by='DBYT',\n",
    "                   color_magnitude='log',\n",
    "                   dot_size='small',w=768,h=256).renderSVG())"
   ]
  },
  {
   "cell_type": "code",
   "execution_count": null,
   "id": "b4ca1fcc",
   "metadata": {},
   "outputs": [],
   "source": []
  }
 ],
 "metadata": {
  "kernelspec": {
   "display_name": "Python 3",
   "language": "python",
   "name": "python3"
  },
  "language_info": {
   "codemirror_mode": {
    "name": "ipython",
    "version": 3
   },
   "file_extension": ".py",
   "mimetype": "text/x-python",
   "name": "python",
   "nbconvert_exporter": "python",
   "pygments_lexer": "ipython3",
   "version": "3.10.6"
  },
  "vscode": {
   "interpreter": {
    "hash": "677ca678853aa41fc137f4b55f2bc0c694e45735c0d2faa667d2ec5acb71e67d"
   }
  }
 },
 "nbformat": 4,
 "nbformat_minor": 5
}
