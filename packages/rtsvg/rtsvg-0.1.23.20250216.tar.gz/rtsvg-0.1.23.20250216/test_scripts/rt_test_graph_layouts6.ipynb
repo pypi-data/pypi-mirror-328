{
 "cells": [
  {
   "cell_type": "code",
   "execution_count": null,
   "metadata": {},
   "outputs": [],
   "source": [
    "import pandas as pd\n",
    "import numpy as np\n",
    "import networkx as nx\n",
    "import sys\n",
    "sys.path.insert(1, '../rtsvg')\n",
    "from rtsvg import *\n",
    "rt = RACETrack()"
   ]
  },
  {
   "cell_type": "code",
   "execution_count": null,
   "metadata": {},
   "outputs": [],
   "source": [
    "df = pd.DataFrame({'fm':'a b c d e f a a g g f m'.split(),\n",
    "                   'to':'b c d a b c n m k l g l'.split()})\n",
    "relates = [('fm','to')]\n",
    "g = rt.createNetworkXGraph(df, relates)\n",
    "pos = rt.hyperTreeLayout(g) # nx.spring_layout(g)\n",
    "rt.linkNode(df, relates, pos, draw_labels=True, bounds_percent=0.2)"
   ]
  },
  {
   "cell_type": "code",
   "execution_count": null,
   "metadata": {},
   "outputs": [],
   "source": [
    "df = pd.DataFrame({'fm':'r r r r a a a a b b b b c c c c d d d d'.split(),\n",
    "                   'to':'a b c d e f g h i j k l m n o p q r s t'.split()})\n",
    "relates = [('fm','to')]\n",
    "g = rt.createNetworkXGraph(df, relates)\n",
    "pos = rt.hyperTreeLayout(g)\n",
    "rt.linkNode(df, relates, pos, draw_labels=True, bounds_percent=0.2)"
   ]
  },
  {
   "cell_type": "code",
   "execution_count": null,
   "metadata": {},
   "outputs": [],
   "source": [
    "df = pd.DataFrame({'fm':'a b  b  b  b  b  b  b  c  c  c'.split(),\n",
    "                   'to':'a b0 b1 b2 b3 b4 b5 b6 c0 c1 c2'.split()})\n",
    "relates = [('fm','to')]\n",
    "g   = rt.createNetworkXGraph(df, relates)\n",
    "pos = rt.hyperTreeLayout(g)\n",
    "rt.linkNode(df, relates, pos, draw_labels=True, bounds_percent=0.2)"
   ]
  },
  {
   "cell_type": "code",
   "execution_count": null,
   "metadata": {},
   "outputs": [],
   "source": []
  }
 ],
 "metadata": {
  "kernelspec": {
   "display_name": ".venv",
   "language": "python",
   "name": "python3"
  },
  "language_info": {
   "codemirror_mode": {
    "name": "ipython",
    "version": 3
   },
   "file_extension": ".py",
   "mimetype": "text/x-python",
   "name": "python",
   "nbconvert_exporter": "python",
   "pygments_lexer": "ipython3",
   "version": "3.11.6"
  }
 },
 "nbformat": 4,
 "nbformat_minor": 2
}
