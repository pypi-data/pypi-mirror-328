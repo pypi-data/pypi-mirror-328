{
 "cells": [
  {
   "cell_type": "code",
   "execution_count": null,
   "metadata": {},
   "outputs": [],
   "source": [
    "import pandas as pd\n",
    "import polars as pl\n",
    "import numpy as np\n",
    "import rtsvg\n",
    "rt = rtsvg.RACETrack()\n",
    "_base_ = '../../data/2013_vast_challenge/mc3_netflow/nf/'\n",
    "#df_orig = pl.concat([pl.read_csv(_base_ + 'nf-chunk1.csv'), pl.read_csv(_base_ + 'nf-chunk2.csv'), pl.read_csv(_base_ + 'nf-chunk3.csv')])\n",
    "df_orig = pl.concat([pl.read_csv(_base_ + 'nf-chunk2.csv')])\n",
    "df_orig = df_orig.rename({'TimeSeconds':'secs',                  'parsedDate':'timestamp',                'dateTimeStr':'timestamp_str',\n",
    "                          'ipLayerProtocol':'pro_str',           'ipLayerProtocolCode':'pro',             'firstSeenSrcIp':'sip',\n",
    "                          'firstSeenDestIp':'dip',               'firstSeenSrcPort':'spt',                'firstSeenDestPort':'dpt',\n",
    "                          'moreFragments':'mfrag',               'contFragments':'cfrag',                 'durationSeconds':'dur',\n",
    "                          'firstSeenSrcPayloadBytes':'soct_pay', 'firstSeenDestPayloadBytes':'doct_pay',  'firstSeenSrcTotalBytes':'soct',\n",
    "                          'firstSeenDestTotalBytes':'doct',      'firstSeenSrcPacketCount':'spkt',        'firstSeenDestPacketCount':'dpkt',\n",
    "                          'recordForceOut':'out'})\n",
    "df_orig = rt.columnsAreTimestamps(df_orig, 'timestamp')\n",
    "ips     = set(['10.9.81.5', '172.20.0.4'])\n",
    "df      = df_orig.filter(pl.col('sip').is_in(ips) | pl.col('dip').is_in(ips))"
   ]
  },
  {
   "cell_type": "code",
   "execution_count": null,
   "metadata": {},
   "outputs": [],
   "source": [
    "labels = set(['172.20.0.4', '10.0.0.42', '10.9.81.5', '10.12.14.15', '10.17.15.10', '172.30.0.4', '10.10.11.102', '10.200.20.2'])\n",
    "cd = rt.chordDiagram(df, [('sip','dip')], draw_labels=True, label_style='radial', label_only=labels, w=512, h=512, x_ins=48, y_ins=48)\n",
    "cd"
   ]
  },
  {
   "cell_type": "code",
   "execution_count": null,
   "metadata": {},
   "outputs": [],
   "source": [
    "import random\n",
    "def lotsOfBlah():\n",
    "    return 'blah '*random.randint(1,100)\n",
    "for _label_ in labels:\n",
    "    rt.addAnnotation(rt.entityAnnotation(_label_, lotsOfBlah()))\n",
    "rt.annotateEntities(cd)"
   ]
  },
  {
   "cell_type": "code",
   "execution_count": null,
   "metadata": {},
   "outputs": [],
   "source": [
    "rt.annotateEntities(cd, include_description=True, txt_block_v_gap=160)"
   ]
  },
  {
   "cell_type": "code",
   "execution_count": null,
   "metadata": {},
   "outputs": [],
   "source": [
    "rt.annotateEntities(cd, include_description=True, txt_block_v_gap=40)"
   ]
  },
  {
   "cell_type": "code",
   "execution_count": null,
   "metadata": {},
   "outputs": [],
   "source": [
    "rt.annotateEntities(cd, include_description=True, txt_block_v_gap=300)"
   ]
  },
  {
   "cell_type": "code",
   "execution_count": null,
   "metadata": {},
   "outputs": [],
   "source": [
    "rt.annotateEntities(cd, include_description=True, txt_block_v_gap=0)"
   ]
  },
  {
   "cell_type": "code",
   "execution_count": null,
   "metadata": {},
   "outputs": [],
   "source": [
    "rt.annotateEntities(cd, include_description=True)"
   ]
  },
  {
   "cell_type": "code",
   "execution_count": null,
   "metadata": {},
   "outputs": [],
   "source": []
  }
 ],
 "metadata": {
  "kernelspec": {
   "display_name": ".venv",
   "language": "python",
   "name": "python3"
  },
  "language_info": {
   "codemirror_mode": {
    "name": "ipython",
    "version": 3
   },
   "file_extension": ".py",
   "mimetype": "text/x-python",
   "name": "python",
   "nbconvert_exporter": "python",
   "pygments_lexer": "ipython3",
   "version": "3.12.3"
  }
 },
 "nbformat": 4,
 "nbformat_minor": 2
}
