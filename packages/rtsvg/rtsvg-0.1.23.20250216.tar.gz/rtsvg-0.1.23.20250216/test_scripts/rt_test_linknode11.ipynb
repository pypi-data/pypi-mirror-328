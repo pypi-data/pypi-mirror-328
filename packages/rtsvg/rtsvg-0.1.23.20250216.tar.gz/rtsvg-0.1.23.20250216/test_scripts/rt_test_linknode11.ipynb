{
 "cells": [
  {
   "cell_type": "code",
   "execution_count": null,
   "metadata": {},
   "outputs": [],
   "source": [
    "import pandas   as pd\n",
    "import numpy    as np\n",
    "import networkx as nx\n",
    "import sys\n",
    "sys.path.insert(1, '../rtsvg')\n",
    "from rtsvg import *\n",
    "rt = RACETrack()"
   ]
  },
  {
   "cell_type": "code",
   "execution_count": null,
   "metadata": {},
   "outputs": [],
   "source": [
    "df          = pd.DataFrame({'fm':['a','b','c','c','d','a',  'b',  'b0' ], \n",
    "                            'to':['b','c','a','d','c','a0', 'b0', 'b'],\n",
    "                            'ct':[ 1,  1,  5,  2,  2,  3,    1,    1]})\n",
    "relates     = [('fm','to')]\n",
    "pos         = {'a':(0,0), 'b':(1,0), 'c':(1,1), 'd':(0.7,1), 'a0':(0.0,0.01), 'b0':(1,0)}\n",
    "params      = {'df':df, 'relationships':relates, 'pos':pos, 'count_by':'ct', 'bounds_percent':0.15, 'w':192, 'h':192}\n",
    "svgs        = []\n",
    "svgs.append(rt.linkNode(**params)), svgs.append(rt.linkNode(link_shape='curve', **params)), svgs.append(rt.linkNode(link_shape='arrow', **params))\n",
    "params['node_size'] = 'large'\n",
    "svgs.append(rt.linkNode(**params)), svgs.append(rt.linkNode(link_shape='curve', **params)), svgs.append(rt.linkNode(link_shape='arrow', **params))\n",
    "params['link_size'], params['node_size'] = 'vary', 'medium'\n",
    "svgs.append(rt.linkNode(**params)), svgs.append(rt.linkNode(link_shape='curve', **params)), svgs.append(rt.linkNode(link_shape='arrow', **params))\n",
    "params['node_size'] = 'large'\n",
    "svgs.append(rt.linkNode(**params)), svgs.append(rt.linkNode(link_shape='curve', **params)), svgs.append(rt.linkNode(link_shape='arrow', **params))\n",
    "params['link_size'], params['node_size'] = 'large', 'medium'\n",
    "svgs.append(rt.linkNode(**params)), svgs.append(rt.linkNode(link_shape='curve', **params)), svgs.append(rt.linkNode(link_shape='arrow', **params))\n",
    "params['node_size'] = 'large'\n",
    "svgs.append(rt.linkNode(**params)), svgs.append(rt.linkNode(link_shape='curve', **params)), svgs.append(rt.linkNode(link_shape='arrow', **params))\n",
    "rt.table(svgs, per_row=6)"
   ]
  },
  {
   "cell_type": "code",
   "execution_count": null,
   "metadata": {},
   "outputs": [],
   "source": [
    "params      = {'df':df, 'relationships':relates, 'pos':pos, 'count_by':'ct', 'bounds_percent':0.15, 'w':192, 'h':192, 'link_shape':'arrow'}\n",
    "svgs        = []\n",
    "svgs.append(rt.linkNode(**params, link_arrow_style='kite'))\n",
    "svgs.append(rt.linkNode(**params, link_arrow_style='kite_v2'))\n",
    "svgs.append(rt.linkNode(**params, link_arrow_style='kite_v3'))\n",
    "params['node_size'] = 'small'\n",
    "svgs.append(rt.linkNode(**params, link_arrow_style='kite'))\n",
    "svgs.append(rt.linkNode(**params, link_arrow_style='kite_v2'))\n",
    "svgs.append(rt.linkNode(**params, link_arrow_style='kite_v3'))\n",
    "params['node_size'] = 'large'\n",
    "svgs.append(rt.linkNode(**params, link_arrow_style='kite'))\n",
    "svgs.append(rt.linkNode(**params, link_arrow_style='kite_v2'))\n",
    "svgs.append(rt.linkNode(**params, link_arrow_style='kite_v3'))\n",
    "rt.table(svgs, per_row=3)"
   ]
  },
  {
   "cell_type": "code",
   "execution_count": null,
   "metadata": {},
   "outputs": [],
   "source": [
    "svg = '<svg width=\"500\" height=\"500\" x=\"0\" y=\"0\" xmlns=\"http://www.w3.org/2000/svg\">'\n",
    "arrow_len   = 20\n",
    "mid_mul_a   = 2.4\n",
    "ben_mul_a   = 3.0\n",
    "mid_mul_b   = 2.2\n",
    "ben_mul_b   = 1.2\n",
    "\n",
    "x1, y1, x2, y2 = 100, 100, 400, 400\n",
    "svg += f'<line x1=\"{x1}\" y1=\"{y1}\" x2=\"{x2}\" y2=\"{y2}\" stroke=\"black\" stroke-width=\"0.1\" />'\n",
    "\n",
    "xv, yv             = rt.unitVector(((x1, y1), (x2, y2)))\n",
    "pxv, pyv           = -yv, xv\n",
    "xm_a, ym_a         = ((x2+x1)/2)+mid_mul_a*arrow_len*pxv,                ((y2+y1)/2)+mid_mul_a*arrow_len*pyv\n",
    "xb_a, yb_a         = x2-ben_mul_a*arrow_len*xv+ben_mul_a*arrow_len*pxv,  y2-ben_mul_a*arrow_len*yv+ben_mul_a*arrow_len*pyv\n",
    "\n",
    "xm_b, ym_b         = ((x2+x1)/2)+mid_mul_b*arrow_len*pxv,                ((y2+y1)/2)+mid_mul_b*arrow_len*pyv\n",
    "xb_b, yb_b         = x2-ben_mul_b*arrow_len*xv+ben_mul_b*arrow_len*pxv,  y2-ben_mul_b*arrow_len*yv+ben_mul_b*arrow_len*pyv\n",
    "\n",
    "svg += f'<path d=\"M {x1} {y1} C {xm_a} {ym_a} {xb_a} {yb_a} {x2} {y2} C {xb_b} {yb_b} {xm_b} {ym_b} {x1} {y1}\" fill=\"none\" stroke=\"black\" />'\n",
    "\n",
    "svg += '</svg>'\n",
    "rt.tile([svg])"
   ]
  },
  {
   "cell_type": "code",
   "execution_count": null,
   "metadata": {},
   "outputs": [],
   "source": [
    "x = lambda p: f'<path d=\"M {p[0]-5} {p[1]-5} l 10 10 M {p[0]-5} {p[1]+5} l 10 -10\" fill=\"none\" stroke=\"black\" />'\n",
    "\n",
    "svg = '<svg width=\"500\" height=\"500\" x=\"0\" y=\"0\" xmlns=\"http://www.w3.org/2000/svg\">'\n",
    "arrow_len    = 10\n",
    "p0, p1, p2   = (4.0, 3.0), (3.0, 1.0), (1.0, 0.2)\n",
    "p1mul, p2mul = 8, 3 \n",
    "\n",
    "x1, y1, x2, y2 = 100, 100, 400, 400\n",
    "svg += f'<line x1=\"{x1}\" y1=\"{y1}\" x2=\"{x2}\" y2=\"{y2}\" stroke=\"black\" stroke-width=\"0.1\" />'\n",
    "\n",
    "xv,  yv   = rt.unitVector(((x1, y1), (x2, y2)))\n",
    "pxv, pyv  = -yv, xv\n",
    "\n",
    "p0_f        = ((x2+x1)/2)+p0[0]*arrow_len*pxv, ((y2+y1)/2)+p0[0]*arrow_len*pyv\n",
    "p1_f        = x2-p1mul*arrow_len*xv+arrow_len*p1[0]*pxv, y2-p1mul*arrow_len*yv+p1[0]*arrow_len*pyv\n",
    "p2_f        = x2-p2mul*arrow_len*xv+arrow_len*p2[0]*pxv, y2-p2mul*arrow_len*yv+p2[0]*arrow_len*pyv\n",
    "svg += x(p0_f) + x(p1_f) + x(p2_f)\n",
    "\n",
    "p0_b        = ((x2+x1)/2)+p0[1]*arrow_len*pxv, ((y2+y1)/2)+p0[1]*arrow_len*pyv\n",
    "p1_b        = x2-p1mul*arrow_len*xv+arrow_len*p1[1]*pxv, y2-p1mul*arrow_len*yv+p1[1]*arrow_len*pyv\n",
    "p2_b        = x2-p2mul*arrow_len*xv+arrow_len*p2[1]*pxv, y2-p2mul*arrow_len*yv+p2[1]*arrow_len*pyv\n",
    "svg += x(p0_b) + x(p1_b) + x(p2_b)\n",
    "\n",
    "svg += '</svg>'\n",
    "rt.tile([svg])"
   ]
  },
  {
   "cell_type": "code",
   "execution_count": null,
   "metadata": {},
   "outputs": [],
   "source": []
  }
 ],
 "metadata": {
  "kernelspec": {
   "display_name": ".venv",
   "language": "python",
   "name": "python3"
  },
  "language_info": {
   "codemirror_mode": {
    "name": "ipython",
    "version": 3
   },
   "file_extension": ".py",
   "mimetype": "text/x-python",
   "name": "python",
   "nbconvert_exporter": "python",
   "pygments_lexer": "ipython3",
   "version": "3.11.6"
  }
 },
 "nbformat": 4,
 "nbformat_minor": 2
}
