{
 "cells": [
  {
   "cell_type": "code",
   "execution_count": null,
   "id": "5becd1c4-1970-499c-adcc-3deb8a2fb655",
   "metadata": {},
   "outputs": [],
   "source": [
    "#\n",
    "# Demonstrates how temporal bar chart similarity works...  or doesn't work...\n",
    "# ... which is limited...\n",
    "# ... the pattern analysis is only on the same exact date...\n",
    "#\n",
    "import pandas as pd\n",
    "import numpy as np\n",
    "import sys\n",
    "sys.path.insert(1, '../rtsvg')\n",
    "from rtsvg import *\n",
    "rt = RACETrack()"
   ]
  },
  {
   "cell_type": "code",
   "execution_count": null,
   "id": "bb8f1f61",
   "metadata": {},
   "outputs": [],
   "source": [
    "_dates,_values,_cats = [],[],[]\n",
    "for s in range(0,3):\n",
    "    for m in range(3,10):\n",
    "        _cat = chr(ord('a')+m) + str(s)\n",
    "        y = 1\n",
    "        for d in range(20,30):\n",
    "            _date = f'20{y:02}-{m:02}-{d:02}'\n",
    "\n",
    "            if (m%2) == 0:\n",
    "                _value = d\n",
    "            else:\n",
    "                _value = 50-d\n",
    "\n",
    "            _cats.   append(_cat)\n",
    "            _dates.  append(_date)\n",
    "            _values. append(_value)\n",
    "\n",
    "df = pd.DataFrame({'date':_dates, 'value':_values, 'cat':_cats})\n",
    "df['date'] = df['date'].astype('datetime64[ns]')\n",
    "df.sample(3)"
   ]
  },
  {
   "cell_type": "code",
   "execution_count": null,
   "id": "aa9dd515",
   "metadata": {},
   "outputs": [],
   "source": [
    "rt.displaySVG(rt.temporalBarChart(df,count_by='value',color_by='cat',w=1024))"
   ]
  },
  {
   "cell_type": "code",
   "execution_count": null,
   "id": "0150f882",
   "metadata": {},
   "outputs": [],
   "source": [
    "rt.displaySVG(rt.smallMultiples(df,\n",
    "                                category_by='cat',\n",
    "                                count_by='value',color_by='cat',\n",
    "                                sm_type='temporalBarChart',\n",
    "                                sort_by='similarity', sort_by_field='e1', w=1024,h=1024))"
   ]
  },
  {
   "cell_type": "code",
   "execution_count": null,
   "id": "2e761fdc",
   "metadata": {},
   "outputs": [],
   "source": []
  }
 ],
 "metadata": {
  "kernelspec": {
   "display_name": "Python 3",
   "language": "python",
   "name": "python3"
  },
  "language_info": {
   "codemirror_mode": {
    "name": "ipython",
    "version": 3
   },
   "file_extension": ".py",
   "mimetype": "text/x-python",
   "name": "python",
   "nbconvert_exporter": "python",
   "pygments_lexer": "ipython3",
   "version": "3.11.6"
  },
  "vscode": {
   "interpreter": {
    "hash": "677ca678853aa41fc137f4b55f2bc0c694e45735c0d2faa667d2ec5acb71e67d"
   }
  }
 },
 "nbformat": 4,
 "nbformat_minor": 5
}
