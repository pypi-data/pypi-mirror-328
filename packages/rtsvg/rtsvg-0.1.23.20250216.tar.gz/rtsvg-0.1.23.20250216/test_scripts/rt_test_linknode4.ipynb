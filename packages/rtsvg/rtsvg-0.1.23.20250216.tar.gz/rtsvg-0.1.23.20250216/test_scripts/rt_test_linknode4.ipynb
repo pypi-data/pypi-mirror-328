{
 "cells": [
  {
   "cell_type": "code",
   "execution_count": null,
   "metadata": {},
   "outputs": [],
   "source": [
    "import pandas as pd\n",
    "import networkx as nx\n",
    "import sys\n",
    "sys.path.insert(1, '../rtsvg')\n",
    "from rtsvg import *\n",
    "rt = RACETrack()"
   ]
  },
  {
   "cell_type": "code",
   "execution_count": null,
   "metadata": {},
   "outputs": [],
   "source": [
    "fms     = [1,  2,  3,  4,  1,  1,  1,  5,  5,  5]\n",
    "tos     = [2,  3,  4,  5,  11, 12, 13, 51, 52, 53]\n",
    "counts  = [10, 10, 10, 10, 5,  5,  5,  1,  1,  1]\n",
    "df      = pd.DataFrame({'fm':fms, 'to':tos, 'count':counts})\n",
    "relates = [('fm', 'to')]\n",
    "g_nx    = rt.createNetworkXGraph(df, relates)\n",
    "pos     = nx.spring_layout(g_nx)\n",
    "rt.displaySVG(rt.linkNode(df, relates, pos))"
   ]
  },
  {
   "cell_type": "code",
   "execution_count": null,
   "metadata": {},
   "outputs": [],
   "source": [
    "rt.displaySVG(rt.linkNode(df, relates, pos, count_by='count', node_size='vary', link_size='vary'))"
   ]
  },
  {
   "cell_type": "code",
   "execution_count": null,
   "metadata": {},
   "outputs": [],
   "source": [
    "rt.__minAndMaxLinkSize__(df, relates, 'count')"
   ]
  },
  {
   "cell_type": "code",
   "execution_count": null,
   "metadata": {},
   "outputs": [],
   "source": [
    "fms     = ['a',  'b',  'c',  'd',  'a',  'a',  'a',  'e',  'e',  'e']\n",
    "tos     = ['b',  'c',  'd',  'e',  'a1', 'a2', 'a3', 'e1', 'e2', 'e3']\n",
    "counts  = [10, 10, 10, 10, 5,  5,  5,  1,  1,  1]\n",
    "df      = pd.DataFrame({'fm':fms, 'to':tos, 'count':counts})\n",
    "relates = [('fm', 'to')]\n",
    "g_nx    = rt.createNetworkXGraph(df, relates)\n",
    "pos     = nx.spring_layout(g_nx)\n",
    "rt.displaySVG(rt.linkNode(df, relates, pos))"
   ]
  },
  {
   "cell_type": "code",
   "execution_count": null,
   "metadata": {},
   "outputs": [],
   "source": [
    "rt.displaySVG(rt.linkNode(df, relates, pos, count_by='count',node_size='vary', link_size='vary', link_size_max=2, link_size_min=0.1))"
   ]
  },
  {
   "cell_type": "code",
   "execution_count": null,
   "metadata": {},
   "outputs": [],
   "source": [
    "df = pd.DataFrame({'fm':['a','a','a','a','a','a','a','a','a','a','a'],\n",
    "                   'to':['b','b','b','c','d','d','e','e','e','e','e'],\n",
    "                   'st':['m','m','m','m','n','o','p','q','r','s','s'],\n",
    "                   'no':[4,  4,  4,  4,  2,  1,  5,  5,  5,  5,  5]})\n",
    "relates = [('fm','to')]\n",
    "rt.__minAndMaxLinkSize__(df, relates), rt.__minAndMaxLinkSize__(df, relates, count_by='st'), rt.__minAndMaxLinkSize__(df, relates, count_by='no')"
   ]
  },
  {
   "cell_type": "code",
   "execution_count": null,
   "metadata": {},
   "outputs": [],
   "source": []
  }
 ],
 "metadata": {
  "kernelspec": {
   "display_name": "Python 3",
   "language": "python",
   "name": "python3"
  },
  "language_info": {
   "codemirror_mode": {
    "name": "ipython",
    "version": 3
   },
   "file_extension": ".py",
   "mimetype": "text/x-python",
   "name": "python",
   "nbconvert_exporter": "python",
   "pygments_lexer": "ipython3",
   "version": "3.11.5"
  },
  "orig_nbformat": 4,
  "vscode": {
   "interpreter": {
    "hash": "677ca678853aa41fc137f4b55f2bc0c694e45735c0d2faa667d2ec5acb71e67d"
   }
  }
 },
 "nbformat": 4,
 "nbformat_minor": 2
}
