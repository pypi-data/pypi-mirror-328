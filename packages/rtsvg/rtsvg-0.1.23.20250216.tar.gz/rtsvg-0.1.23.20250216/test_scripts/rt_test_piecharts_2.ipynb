{
 "cells": [
  {
   "cell_type": "code",
   "execution_count": null,
   "metadata": {},
   "outputs": [],
   "source": [
    "import pandas as pd\n",
    "import sys\n",
    "sys.path.insert(1, '../rtsvg')\n",
    "from rtsvg import *"
   ]
  },
  {
   "cell_type": "code",
   "execution_count": null,
   "metadata": {},
   "outputs": [],
   "source": [
    "rt = RACETrack()"
   ]
  },
  {
   "cell_type": "code",
   "execution_count": null,
   "metadata": {},
   "outputs": [],
   "source": [
    "df = pd.DataFrame({'color':['yellow','blue'], 'count':[60.2,39.8]})\n",
    "rt.displaySVG(rt.pieChartInstance(df, color_by='color', count_by='count', style='waffle', w=128, h=128).renderSVG())"
   ]
  },
  {
   "cell_type": "code",
   "execution_count": null,
   "metadata": {},
   "outputs": [],
   "source": [
    "df = pd.DataFrame({'color':['yellow','blue','green','yellow','red'], 'count':[60.1,39.1,0.4,0.4,0.8]})\n",
    "rt.displaySVG(rt.pieChartInstance(df, color_by='color', count_by='count', style='waffle', w=128, h=128).renderSVG())"
   ]
  },
  {
   "cell_type": "code",
   "execution_count": null,
   "metadata": {},
   "outputs": [],
   "source": [
    "df        = pd.read_csv(\"../../netflow_sample.csv\")\n",
    "df['beg'] = df['beg'].astype('datetime64[ms]')\n",
    "df        = df.rename({'beg':'timestamp'},axis=1)\n",
    "rt.displaySVG(rt.pieChartInstance(df, color_by='dpt', count_by='SBYT', style='waffle', w=128, h=128).renderSVG())"
   ]
  },
  {
   "cell_type": "code",
   "execution_count": null,
   "metadata": {},
   "outputs": [],
   "source": []
  }
 ],
 "metadata": {
  "kernelspec": {
   "display_name": "Python 3",
   "language": "python",
   "name": "python3"
  },
  "language_info": {
   "codemirror_mode": {
    "name": "ipython",
    "version": 3
   },
   "file_extension": ".py",
   "mimetype": "text/x-python",
   "name": "python",
   "nbconvert_exporter": "python",
   "pygments_lexer": "ipython3",
   "version": "3.11.5"
  },
  "orig_nbformat": 4,
  "vscode": {
   "interpreter": {
    "hash": "677ca678853aa41fc137f4b55f2bc0c694e45735c0d2faa667d2ec5acb71e67d"
   }
  }
 },
 "nbformat": 4,
 "nbformat_minor": 2
}
