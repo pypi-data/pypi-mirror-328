{
 "cells": [
  {
   "cell_type": "code",
   "execution_count": null,
   "metadata": {},
   "outputs": [],
   "source": [
    "import pandas   as pd\n",
    "import polars   as pl\n",
    "import numpy    as np\n",
    "import networkx as nx\n",
    "import sys\n",
    "sys.path.insert(1, '../rtsvg')\n",
    "from rtsvg import *\n",
    "rt = RACETrack()"
   ]
  },
  {
   "cell_type": "code",
   "execution_count": null,
   "metadata": {},
   "outputs": [],
   "source": [
    "df     = pd.DataFrame({'fm':['a','b','c','d'], 'to':['b','c','d','a']})\n",
    "pos    = {'a':(0.5,0), 'b':(1.5,0), 'c':(1,1), 'd':(0,1)}\n",
    "params = {'df':df, 'relationships':[('fm','to')], 'pos':pos, 'draw_labels':True, 'bounds_percent':0.4}\n",
    "rt.tile([rt.linkNode(**params),\n",
    "         rt.linkNode(**params, node_labels={'a':'something else'}),\n",
    "         rt.linkNode(**params, node_labels={'b':['this','is','more'], 'c':['something','','something']})])"
   ]
  },
  {
   "cell_type": "code",
   "execution_count": null,
   "metadata": {},
   "outputs": [],
   "source": [
    "df = pd.DataFrame({'fm':['a','b','c','a','a','b','b','c','c'],\n",
    "                   'to':['b','c','d','b','b','c','d','a','c']})\n",
    "relationships = [('fm','to')]\n",
    "g = nx.Graph()\n",
    "g.add_edge('a','b'), g.add_edge('b','c')\n",
    "rt.filterDataFrameByGraph(df, relationships, g)"
   ]
  },
  {
   "cell_type": "code",
   "execution_count": null,
   "metadata": {},
   "outputs": [],
   "source": [
    "df_pl = pl.from_pandas(df)\n",
    "rt.filterDataFrameByGraph(df_pl, relationships, g)"
   ]
  },
  {
   "cell_type": "code",
   "execution_count": null,
   "metadata": {},
   "outputs": [],
   "source": [
    "ofi  = rt.ontologyFrameworkInstance(base_filename='../../data/kaggle_imdb_600k/20240519_ontology')\n",
    "_df_ = ofi.df_triples.filter((pl.col('vrb') == 'castMemberOf') | (pl.col('vrb') == 'yearReleased'))\n",
    "g    = rt.createNetworkXGraph(_df_, [('sbj','obj','vrb')])\n",
    "print(f'nodes = {len(g)}, edges = {len(g.edges)}')\n",
    "node_list = list(g.nodes)\n",
    "node_list[0]\n",
    "nbor_list = list(g.neighbors(node_list[0]))\n",
    "for nbor in nbor_list: g.remove_edge(node_list[0], nbor)\n",
    "print(f'nodes = {len(g)}, edges = {len(g.edges)}')"
   ]
  },
  {
   "cell_type": "code",
   "execution_count": null,
   "metadata": {},
   "outputs": [],
   "source": [
    "_df_filtered_ = rt.filterDataFrameByGraph(_df_, [('sbj','obj','vrb')], g)\n",
    "len(_df_), len(_df_filtered_)"
   ]
  },
  {
   "cell_type": "code",
   "execution_count": null,
   "metadata": {},
   "outputs": [],
   "source": [
    "g_filtered = rt.createNetworkXGraph(_df_filtered_, [('sbj','obj','vrb')])\n",
    "print(f'nodes = {len(g_filtered)}, edges = {len(g_filtered.edges)}')"
   ]
  },
  {
   "cell_type": "code",
   "execution_count": null,
   "metadata": {},
   "outputs": [],
   "source": []
  }
 ],
 "metadata": {
  "kernelspec": {
   "display_name": "Python 3",
   "language": "python",
   "name": "python3"
  },
  "language_info": {
   "codemirror_mode": {
    "name": "ipython",
    "version": 3
   },
   "file_extension": ".py",
   "mimetype": "text/x-python",
   "name": "python",
   "nbconvert_exporter": "python",
   "pygments_lexer": "ipython3",
   "version": "3.11.6"
  }
 },
 "nbformat": 4,
 "nbformat_minor": 2
}
