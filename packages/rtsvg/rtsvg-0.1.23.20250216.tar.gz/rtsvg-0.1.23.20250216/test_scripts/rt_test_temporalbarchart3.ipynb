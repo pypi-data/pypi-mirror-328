{
 "cells": [
  {
   "cell_type": "code",
   "execution_count": null,
   "metadata": {},
   "outputs": [],
   "source": [
    "import pandas as pd\n",
    "import numpy as np\n",
    "\n",
    "from math import log10\n",
    "\n",
    "import sys\n",
    "sys.path.insert(1, '../rtsvg')\n",
    "from rtsvg import *\n",
    "\n",
    "%matplotlib inline"
   ]
  },
  {
   "cell_type": "code",
   "execution_count": null,
   "metadata": {},
   "outputs": [],
   "source": [
    "rt = RACETrack()"
   ]
  },
  {
   "cell_type": "code",
   "execution_count": null,
   "metadata": {},
   "outputs": [],
   "source": [
    "df = pd.DataFrame({'timestamp':['2021-01-01', '2021-02-15', '2021-03-01', '2021-03-06'],\n",
    "                   'count':    [10,           20,           30,           10]})\n",
    "df['timestamp'] = df['timestamp'].astype(np.datetime64)"
   ]
  },
  {
   "cell_type": "code",
   "execution_count": null,
   "metadata": {},
   "outputs": [],
   "source": [
    "_my_w = 768\n",
    "_my_h = 256\n",
    "barchart_inst = rt.temporalBarChartInstance(df,count_by='count',w=_my_w,h=_my_h)\n",
    "rt.displaySVG(barchart_inst.renderSVG())"
   ]
  },
  {
   "cell_type": "code",
   "execution_count": null,
   "metadata": {},
   "outputs": [],
   "source": [
    "ts_to_find = ['2020-12-20',       '2020-12-31 23:59', '2021-01-01 03:00',\n",
    "              '2021-01-01 15:00', '2021-01-15',       '2021-01-16 12:00',\n",
    "              '2021-02-01',\n",
    "              '2021-02-15',\n",
    "              '2021-02-20 01:00', '2021-03-01',\n",
    "              '2021-03-01 09:00', '2021-03-06 03:00',\n",
    "              '2021-03-06 23:59', '2021-03-07 00:00', '2021-04-10']\n",
    "txt_h = 14\n",
    "svg =  f'<svg width=\"{_my_w*1.5}\" height=\"{_my_h + len(ts_to_find)*txt_h*2+5}\">'\n",
    "svg += f'<rect x=\"0\" y=\"0\" width=\"{_my_w*1.5}\" height=\"{_my_h + len(ts_to_find)*txt_h*2+5}\" fill=\"#a0a0a0\" />'\n",
    "svg += barchart_inst.renderSVG()\n",
    "\n",
    "y = _my_h + txt_h\n",
    "for _ts in ts_to_find:\n",
    "    x = barchart_inst.timestampXCoord(_ts)\n",
    "    if x < 0:            # Negative coordinates indicate that the timestamp fell outside of the rendered times...\n",
    "        x = -x\n",
    "        _co = '#ff0000'\n",
    "    else:\n",
    "        _co = '#000000'\n",
    "    svg += f'<line x1=\"{x}\" y1=\"20\" x2=\"{x}\" y2=\"{y}\" stroke=\"#ff0000\" />'\n",
    "    svg += rt.svgText(str(_ts), x, y+txt_h, txt_h, color=_co)\n",
    "    y   += 2*txt_h\n",
    "\n",
    "svg += '</svg>'\n",
    "rt.displaySVG(svg)"
   ]
  },
  {
   "cell_type": "code",
   "execution_count": null,
   "metadata": {},
   "outputs": [],
   "source": [
    "xy_inst = rt.xyInstance(df,x_field='timestamp',y_field='count',w=_my_w,h=_my_h)\n",
    "rt.displaySVG(xy_inst.renderSVG())"
   ]
  },
  {
   "cell_type": "code",
   "execution_count": null,
   "metadata": {},
   "outputs": [],
   "source": [
    "svg =  f'<svg width=\"{_my_w*1.5}\" height=\"{_my_h + len(ts_to_find)*txt_h*2+5}\">'\n",
    "svg += f'<rect x=\"0\" y=\"0\" width=\"{_my_w*1.5}\" height=\"{_my_h + len(ts_to_find)*txt_h*2+5}\" fill=\"#a0a0a0\" />'\n",
    "svg += xy_inst.renderSVG()\n",
    "\n",
    "y = _my_h + txt_h\n",
    "for _ts in ts_to_find:\n",
    "    x = xy_inst.timestampXCoord(_ts)\n",
    "    if x < 0:            # Negative coordinates indicate that the timestamp fell outside of the rendered times...\n",
    "        x = -x\n",
    "        _co = '#ff0000'\n",
    "    else:\n",
    "        _co = '#000000'\n",
    "    svg += f'<line x1=\"{x}\" y1=\"20\" x2=\"{x}\" y2=\"{y}\" stroke=\"#ff0000\" />'\n",
    "    svg += rt.svgText(str(_ts), x, y+txt_h, txt_h, color=_co)\n",
    "    y   += 2*txt_h\n",
    "\n",
    "svg += '</svg>'\n",
    "rt.displaySVG(svg)"
   ]
  },
  {
   "cell_type": "code",
   "execution_count": null,
   "metadata": {},
   "outputs": [],
   "source": [
    "xy_inst = rt.xyInstance(df,x_field='timestamp',y_field='count',render_x_distribution=10, render_y_distribution=10,w=_my_w,h=_my_h)\n",
    "\n",
    "svg =  f'<svg width=\"{_my_w*1.5}\" height=\"{_my_h + len(ts_to_find)*txt_h*2+5}\">'\n",
    "svg += f'<rect x=\"0\" y=\"0\" width=\"{_my_w*1.5}\" height=\"{_my_h + len(ts_to_find)*txt_h*2+5}\" fill=\"#a0a0a0\" />'\n",
    "svg += xy_inst.renderSVG()\n",
    "\n",
    "y = _my_h + txt_h\n",
    "for _ts in ts_to_find:\n",
    "    x = xy_inst.timestampXCoord(_ts)\n",
    "    if x < 0:            # Negative coordinates indicate that the timestamp fell outside of the rendered times...\n",
    "        x = -x\n",
    "        _co = '#ff0000'\n",
    "    else:\n",
    "        _co = '#000000'\n",
    "    svg += f'<line x1=\"{x}\" y1=\"20\" x2=\"{x}\" y2=\"{y}\" stroke=\"#ff0000\" />'\n",
    "    svg += rt.svgText(str(_ts), x, y+txt_h, txt_h, color=_co)\n",
    "    y   += 2*txt_h\n",
    "\n",
    "svg += '</svg>'\n",
    "rt.displaySVG(svg)\n"
   ]
  },
  {
   "cell_type": "code",
   "execution_count": null,
   "metadata": {},
   "outputs": [],
   "source": []
  }
 ],
 "metadata": {
  "kernelspec": {
   "display_name": "Python 3",
   "language": "python",
   "name": "python3"
  },
  "language_info": {
   "codemirror_mode": {
    "name": "ipython",
    "version": 3
   },
   "file_extension": ".py",
   "mimetype": "text/x-python",
   "name": "python",
   "nbconvert_exporter": "python",
   "pygments_lexer": "ipython3",
   "version": "3.11.1"
  },
  "orig_nbformat": 4
 },
 "nbformat": 4,
 "nbformat_minor": 2
}
