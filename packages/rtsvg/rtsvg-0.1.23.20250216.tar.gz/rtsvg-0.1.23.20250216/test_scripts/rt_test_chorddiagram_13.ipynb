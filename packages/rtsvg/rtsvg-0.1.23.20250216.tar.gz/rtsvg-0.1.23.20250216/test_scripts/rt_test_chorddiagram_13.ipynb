{
 "cells": [
  {
   "cell_type": "code",
   "execution_count": null,
   "metadata": {},
   "outputs": [],
   "source": [
    "import pandas as pd\n",
    "import polars as pl\n",
    "import numpy as np\n",
    "import networkx as nx\n",
    "from math import pi, sin, cos\n",
    "import sys\n",
    "sys.path.insert(1, '../rtsvg')\n",
    "from rtsvg import *\n",
    "rt = RACETrack()\n",
    "_base_ = '../../data/2013_vast_challenge/mc3_netflow/nf/'\n",
    "df_orig = pl.concat([pl.read_csv(_base_ + 'nf-chunk1.csv'), pl.read_csv(_base_ + 'nf-chunk2.csv'), pl.read_csv(_base_ + 'nf-chunk3.csv')])\n",
    "df_orig = df_orig.rename({'TimeSeconds':'secs',                  'parsedDate':'timestamp',                'dateTimeStr':'timestamp_str',\n",
    "                          'ipLayerProtocol':'pro_str',           'ipLayerProtocolCode':'pro',             'firstSeenSrcIp':'sip',\n",
    "                          'firstSeenDestIp':'dip',               'firstSeenSrcPort':'spt',                'firstSeenDestPort':'dpt',\n",
    "                          'moreFragments':'mfrag',               'contFragments':'cfrag',                 'durationSeconds':'dur',\n",
    "                          'firstSeenSrcPayloadBytes':'soct_pay', 'firstSeenDestPayloadBytes':'doct_pay',  'firstSeenSrcTotalBytes':'soct',\n",
    "                          'firstSeenDestTotalBytes':'doct',      'firstSeenSrcPacketCount':'spkt',        'firstSeenDestPacketCount':'dpkt',\n",
    "                          'recordForceOut':'out'})\n",
    "df_orig = rt.columnsAreTimestamps(df_orig, 'timestamp')\n",
    "#\n",
    "# original implementation of edge bundling ... which connected all edge nodes to the first tier (wasting a lot of graph edges)\n",
    "# ... following config requires 15.6s for path calcs... 2nd run = 16.0s ... 3rd run = 15.7s // 7900x @ 96gb ram\n",
    "# ... with improvement (not connecting edge nodes to the first tier), the path calc time drops to 0.16s\n",
    "#\n",
    "_sips_ = set(['172.10.0.6','172.10.0.3','172.10.0.4','10.199.25.0.2','10.0.0.13','10.0.0.7']) # top elements in the histogram\n",
    "_dips_ = set(['172.0.0.1']) # top element(s) in the histogram\n",
    "df      = df_orig.filter(pl.col('sip').is_in(_sips_) | pl.col('dip').is_in(_dips_))\n",
    "print(f'{len(df)=}')\n",
    "rt.tile([rt.histogram(df_orig,bin_by='sip',count_by='dip'),\n",
    "         rt.histogram(df_orig,bin_by='dip',count_by='sip'),\n",
    "         rt.histogram(df,     bin_by='sip',count_by='dip'),\n",
    "         rt.histogram(df,     bin_by='dip',count_by='sip')])"
   ]
  },
  {
   "cell_type": "code",
   "execution_count": null,
   "metadata": {},
   "outputs": [],
   "source": [
    "cd = rt.chordDiagram(df, [('sip','dip')], link_style='bundled', skeleton_algorithm='hdbscan')\n",
    "cd"
   ]
  },
  {
   "cell_type": "code",
   "execution_count": null,
   "metadata": {},
   "outputs": [],
   "source": [
    "cd = rt.chordDiagram(df, [('sip','dip')], link_style='bundled', skeleton_algorithm='hexagonal')\n",
    "cd"
   ]
  },
  {
   "cell_type": "code",
   "execution_count": null,
   "metadata": {},
   "outputs": [],
   "source": []
  }
 ],
 "metadata": {
  "kernelspec": {
   "display_name": ".venv",
   "language": "python",
   "name": "python3"
  },
  "language_info": {
   "codemirror_mode": {
    "name": "ipython",
    "version": 3
   },
   "file_extension": ".py",
   "mimetype": "text/x-python",
   "name": "python",
   "nbconvert_exporter": "python",
   "pygments_lexer": "ipython3",
   "version": "3.11.6"
  }
 },
 "nbformat": 4,
 "nbformat_minor": 2
}
