{
 "cells": [
  {
   "cell_type": "code",
   "execution_count": null,
   "metadata": {},
   "outputs": [],
   "source": [
    "#\n",
    "# 2024-04-13 // no longer works correctly... unsure if it's because of recent changes\n",
    "#               or do to the change in multiple df's vs single df\n",
    "#\n",
    "import pandas as pd\n",
    "import networkx as nx\n",
    "import sys\n",
    "sys.path.insert(1, '../rtsvg')\n",
    "from rtsvg import *"
   ]
  },
  {
   "cell_type": "code",
   "execution_count": null,
   "metadata": {},
   "outputs": [],
   "source": [
    "rt = RACETrack()"
   ]
  },
  {
   "cell_type": "code",
   "execution_count": null,
   "metadata": {},
   "outputs": [],
   "source": [
    "nf_df_orig        = pd.read_csv(\"../../netflow_sample.csv\")\n",
    "nf_df_orig['beg'] = nf_df_orig['beg'].astype('datetime64[ns]')"
   ]
  },
  {
   "cell_type": "code",
   "execution_count": null,
   "metadata": {},
   "outputs": [],
   "source": [
    "df10k = nf_df_orig.sample(10000)\n",
    "\n",
    "relates=[('sip','dip')]\n",
    "g_nx = rt.createNetworkXGraph(df10k,relates)\n",
    "pos  = nx.spring_layout(g_nx)"
   ]
  },
  {
   "cell_type": "code",
   "execution_count": null,
   "metadata": {},
   "outputs": [],
   "source": [
    "rt.linkNode(df10k, relates, pos, \n",
    "            node_shape=rt.shapeByDataFrameLength,\n",
    "            draw_labels=False, w=512, h=512)"
   ]
  },
  {
   "cell_type": "code",
   "execution_count": null,
   "metadata": {},
   "outputs": [],
   "source": [
    "def dbytBuckets(x):\n",
    "    if x   < 100:\n",
    "        return '< 100'\n",
    "    elif x < 1000:\n",
    "        return '< 1k'\n",
    "    elif x < 10000:\n",
    "        return '< 10k'\n",
    "    else:\n",
    "        return '> 10k'\n",
    "nf_df_orig['dbyt_bucket'] = nf_df_orig['DBYT'].apply(lambda x: dbytBuckets(x))\n",
    "\n",
    "rt.co_mgr.str_to_color_lu['< 100']  = '#ff0000'\n",
    "rt.co_mgr.str_to_color_lu['< 1k']   = '#9090ff'\n",
    "rt.co_mgr.str_to_color_lu['< 10k']  = '#0000ff'\n",
    "rt.co_mgr.str_to_color_lu['> 10k']  = '#000000'\n",
    "\n",
    "_df = pd.DataFrame(nf_df_orig.groupby('dip').size()) \\\n",
    "      .reset_index() \\\n",
    "      .rename({0:'rows'},axis=1) \\\n",
    "      .query('rows > 1000')\n",
    "\n",
    "dips_to_keep = set(_df['dip'])\n",
    "# dips_to_keep = set(['122.1.254.10'])\n",
    "\n",
    "df_dips = nf_df_orig.query('dip in @dips_to_keep')\n",
    "len(df_dips)"
   ]
  },
  {
   "cell_type": "code",
   "execution_count": null,
   "metadata": {},
   "outputs": [],
   "source": [
    "df_dips_agg = rt.temporalStatsAggregationWithGBFields(df_dips, fields='DBYT', gb_fields=['dip','dbyt_bucket'], freq='D', fill_missing=True)\n",
    "df_dips_minus_time = df_dips.drop('beg',axis=1)"
   ]
  },
  {
   "cell_type": "code",
   "execution_count": null,
   "metadata": {},
   "outputs": [],
   "source": [
    "g_nx = rt.createNetworkXGraph(df_dips_minus_time,relates)\n",
    "pos  = nx.spring_layout(g_nx)\n",
    "#pos['122.1.254.10'] = [100,100]\n",
    "#pos['192.168.1.2']  = [200,200]\n",
    "#pos['192.168.1.7']  = [100,200]"
   ]
  },
  {
   "cell_type": "code",
   "execution_count": null,
   "metadata": {},
   "outputs": [],
   "source": [
    "df = pd.concat([df_dips_minus_time,df_dips_agg])\n",
    "_svg = rt.linkNode(df, relates, pos, color_by='dbyt_bucket',\n",
    "                   node_shape='small_multiple',\n",
    "                   sm_type='xy', sm_params={'x_field':'beg','y_field':'DBYT_mean','line_groupby_field':'dbyt_bucket','dot_size':None}, \n",
    "                   sm_w=64, sm_h=64, \n",
    "                   draw_labels=False, w=1024, h=1024)\n",
    "_svg._repr_svg_()"
   ]
  },
  {
   "cell_type": "code",
   "execution_count": null,
   "metadata": {},
   "outputs": [],
   "source": [
    "rt.displaySVGAsImage(_svg)"
   ]
  },
  {
   "cell_type": "code",
   "execution_count": null,
   "metadata": {},
   "outputs": [],
   "source": [
    "_svg"
   ]
  },
  {
   "cell_type": "code",
   "execution_count": null,
   "metadata": {},
   "outputs": [],
   "source": [
    "\n",
    "rt.displaySVGAsImage(rt.linkNode([df_dips,df_dips_agg], relates, pos, draw_labels=True, link_shape='curve', link_arrow=True, w=1024, h=1024))"
   ]
  },
  {
   "cell_type": "code",
   "execution_count": null,
   "metadata": {},
   "outputs": [],
   "source": [
    "_w_sm_override,_h_sm_override = 256,128\n",
    "\n",
    "df_dips_agg = rt.temporalStatsAggregationWithGBFields(df_dips, fields='DBYT', gb_fields=['dip','dbyt_bucket'], freq='D', fill_missing=True)\n",
    "category_dip_to_sm = {}\n",
    "rt.smallMultiples(df_dips_agg, category_by='dip', color_by='dbyt_bucket', show_df_multiple=False, category_to_sm=category_dip_to_sm,\n",
    "                  sm_type='xy', w_sm_override=_w_sm_override, h_sm_override=_h_sm_override,\n",
    "                  sm_params={'x_field':'beg', 'y_field':'DBYT_median', 'line_groupby_field':'dbyt_bucket', 'line_groupby_w':2, 'dot_size':None, 'draw_labels':False})\n",
    "df_sips_agg = rt.temporalStatsAggregationWithGBFields(df_dips, fields='DBYT', gb_fields=['sip','dbyt_bucket'], freq='D', fill_missing=True)\n",
    "category_sip_to_sm = {}\n",
    "rt.smallMultiples(df_sips_agg, category_by='sip', color_by='dbyt_bucket', show_df_multiple=False, category_to_sm=category_sip_to_sm,\n",
    "                  sm_type='xy', w_sm_override=_w_sm_override, h_sm_override=_h_sm_override,\n",
    "                  sm_params={'x_field':'beg', 'y_field':'DBYT_median', 'line_groupby_field':'dbyt_bucket', 'line_groupby_w':2, 'dot_size':None, 'draw_labels':False})\n",
    "\n",
    "ip_to_svg = {}\n",
    "for x in category_dip_to_sm.keys():\n",
    "    ip_to_svg[x] = category_dip_to_sm[x]\n",
    "for x in category_sip_to_sm.keys():\n",
    "    ip_to_svg[x] = category_sip_to_sm[x]\n",
    "\n",
    "rt.displaySVG(rt.linkNode(df_dips, relates, pos, bounds_percent=0.1, draw_labels=True, link_shape='curve', link_arrow=True, node_shape=ip_to_svg, w=1600, h=1600))"
   ]
  },
  {
   "cell_type": "code",
   "execution_count": null,
   "metadata": {},
   "outputs": [],
   "source": [
    "rt.displaySVGAsImage(\n",
    "    rt.smallMultiples(df_sips_agg, category_by='sip', color_by='dbyt_bucket', show_df_multiple=False, category_to_sm=category_sip_to_sm,\n",
    "                      sm_type='xy', w=1600, h=1200,\n",
    "                      sm_params={'x_field':'beg', 'y_field':'DBYT_median', 'line_groupby_field':'dbyt_bucket', 'line_groupby_w':2, 'dot_size':None, 'draw_labels':False}))"
   ]
  },
  {
   "cell_type": "code",
   "execution_count": null,
   "metadata": {},
   "outputs": [],
   "source": [
    "_svg = rt.smallMultiples(df_dips_agg, category_by='dip', color_by='dbyt_bucket', show_df_multiple=False, category_to_sm=category_sip_to_sm,\n",
    "                         sm_type='xy', w=1200, h=1000,\n",
    "                         sm_params={'x_field':'beg', 'y_field':'DBYT_median', 'line_groupby_field':'dbyt_bucket', 'line_groupby_w':2, 'dot_size':None, 'draw_labels':False})\n",
    "rt.displaySVG(_svg)"
   ]
  },
  {
   "cell_type": "code",
   "execution_count": null,
   "metadata": {},
   "outputs": [],
   "source": [
    "rt.displaySVGAsImage(_svg)"
   ]
  },
  {
   "cell_type": "code",
   "execution_count": null,
   "metadata": {},
   "outputs": [],
   "source": [
    "_svg = '''\n",
    "\n",
    "<svg x=\"0\" y=\"0\" width=\"500\" height=\"500\">\n",
    "  <rect x=\"0\" y=\"0\" width=\"500\" height=\"500\" fill=\"#ffffff\" stroke=\"#0000ff\" />\n",
    "\n",
    "  <svg x=\"100\" y=\"100\" width=\"100\" height=\"100\">\n",
    "    <rect x=\"0\" y=\"0\" width=\"100\" height=\"100\" fill-opacity=\"0\" stroke=\"#ff0000\" />\n",
    "    <line x1=\"10\" y1=\"10\" x2=\"90\" y2=\"90\"  stroke=\"#000000\" />\n",
    "    <line x1=\"-50\" y1=\"50\" x2=\"50\" y2=\"50\" stroke=\"#00FF00\" />\n",
    "  </svg>\n",
    "\n",
    "  <svg x=\"50\" y=\"300\" width=\"100\" height=\"100\">\n",
    "    <rect x=\"0\" y=\"0\" width=\"100\" height=\"100\" fill-opacity=\"0\" stroke=\"#ff0000\" />\n",
    "    <line x1=\"10\" y1=\"10\" x2=\"90\" y2=\"90\"  stroke=\"#000000\" />\n",
    "    <line x1=\"-50\" y1=\"50\" x2=\"50\" y2=\"50\" stroke=\"#00FF00\" />\n",
    "  </svg>\n",
    "\n",
    "</svg>\n",
    "\n",
    "'''\n",
    "rt.displaySVG(_svg)"
   ]
  },
  {
   "cell_type": "code",
   "execution_count": null,
   "metadata": {},
   "outputs": [],
   "source": [
    "rt.displaySVGAsImage(_svg)"
   ]
  },
  {
   "cell_type": "code",
   "execution_count": null,
   "metadata": {},
   "outputs": [],
   "source": [
    "sampled_ip_to_svg = {}\n",
    "i = 0\n",
    "for k in ip_to_svg.keys():\n",
    "    if (i%2) == 1:\n",
    "        sampled_ip_to_svg[k] = ip_to_svg[k]\n",
    "    i += 1\n",
    "rt.displaySVG(rt.linkNode(df_dips, relates, pos, bounds_percent=0.1, draw_labels=True, link_shape='curve', link_arrow=True, node_shape=sampled_ip_to_svg, w=1600, h=1600))"
   ]
  },
  {
   "cell_type": "code",
   "execution_count": null,
   "metadata": {},
   "outputs": [],
   "source": []
  }
 ],
 "metadata": {
  "kernelspec": {
   "display_name": "Python 3",
   "language": "python",
   "name": "python3"
  },
  "language_info": {
   "codemirror_mode": {
    "name": "ipython",
    "version": 3
   },
   "file_extension": ".py",
   "mimetype": "text/x-python",
   "name": "python",
   "nbconvert_exporter": "python",
   "pygments_lexer": "ipython3",
   "version": "3.11.6"
  },
  "orig_nbformat": 4,
  "vscode": {
   "interpreter": {
    "hash": "677ca678853aa41fc137f4b55f2bc0c694e45735c0d2faa667d2ec5acb71e67d"
   }
  }
 },
 "nbformat": 4,
 "nbformat_minor": 2
}
