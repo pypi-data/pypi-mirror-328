{
 "cells": [
  {
   "cell_type": "code",
   "execution_count": null,
   "id": "cc5ec30b-60e9-4ac2-ae42-ca1281cc777f",
   "metadata": {},
   "outputs": [],
   "source": [
    "import pandas as pd\n",
    "import numpy as np\n",
    "import random\n",
    "import sys\n",
    "sys.path.insert(1, '../rtsvg')\n",
    "from rtsvg import *\n",
    "%matplotlib inline"
   ]
  },
  {
   "cell_type": "code",
   "execution_count": null,
   "id": "87ad7aa2-8a86-4f06-8370-b91819774bec",
   "metadata": {},
   "outputs": [],
   "source": [
    "rt = RACETrack()"
   ]
  },
  {
   "cell_type": "code",
   "execution_count": null,
   "id": "dc06a27f",
   "metadata": {},
   "outputs": [],
   "source": [
    "samples  = 1000\n",
    "xs,ys,vs,v2s = [],[],[],[]\n",
    "\n",
    "for i in range(0,samples):\n",
    "    x = random.randint(0,100)\n",
    "    y = random.randint(0,100)\n",
    "    xs.append(x)\n",
    "    ys.append(y)\n",
    "\n",
    "    if   x < 30:\n",
    "        v = random.randint(10,20)\n",
    "    elif x < 70:\n",
    "        v = random.randint(50,80)\n",
    "    else:\n",
    "        v = random.randint(10,20)\n",
    "\n",
    "    if   y < 30:\n",
    "        v2 = random.randint(30,80)\n",
    "    elif y < 70:\n",
    "        v2 = random.randint(10,20)\n",
    "    else:\n",
    "        v2 = random.randint(30,80)\n",
    "\n",
    "    vs.append(v)\n",
    "    v2s.append(v2)\n",
    "\n",
    "df = pd.DataFrame({'x':xs, 'y':ys, 'v':vs, 'v2':v2s})"
   ]
  },
  {
   "cell_type": "code",
   "execution_count": null,
   "id": "2025ea48",
   "metadata": {},
   "outputs": [],
   "source": [
    "rt.displaySVGAsImage(rt.xy(df, x_field='x', y_field='y', count_by='v', render_x_distribution=10))"
   ]
  },
  {
   "cell_type": "code",
   "execution_count": null,
   "id": "e24e0f50",
   "metadata": {},
   "outputs": [],
   "source": [
    "rt.displaySVGAsImage(rt.xy(df, x_field='x', y_field='y', count_by='v2', render_y_distribution=10))"
   ]
  },
  {
   "cell_type": "code",
   "execution_count": null,
   "id": "faecc98d",
   "metadata": {},
   "outputs": [],
   "source": [
    "rt.displaySVGAsImage(rt.xy(df, x_field='x', y_field='y', count_by='v', render_x_distribution=100))"
   ]
  },
  {
   "cell_type": "code",
   "execution_count": null,
   "id": "5a7642ab",
   "metadata": {},
   "outputs": [],
   "source": [
    "rt.displaySVGAsImage(rt.xy(df, x_field='x', y_field='y', count_by='v2', render_y_distribution=100))"
   ]
  },
  {
   "cell_type": "code",
   "execution_count": null,
   "id": "b63ca60b",
   "metadata": {},
   "outputs": [],
   "source": [
    "rt.displaySVGAsImage(rt.xy(df, x_field='x', y_field='y', render_x_distribution=20))"
   ]
  },
  {
   "cell_type": "code",
   "execution_count": null,
   "id": "f0edfdb7",
   "metadata": {},
   "outputs": [],
   "source": [
    "rt.displaySVGAsImage(rt.xy(df, x_field='x', y_field='y', render_y_distribution=20))"
   ]
  },
  {
   "cell_type": "code",
   "execution_count": null,
   "id": "3884a75b",
   "metadata": {},
   "outputs": [],
   "source": [
    "rt.displaySVG(rt.xy(df, x_field='x', y_field='y', render_x_distribution=20, render_y_distribution=20, opacity=0.2))"
   ]
  },
  {
   "cell_type": "code",
   "execution_count": null,
   "id": "e152e596",
   "metadata": {},
   "outputs": [],
   "source": [
    "rt.displaySVG(rt.xy(df, x_field='x', y_field='y', \n",
    "                    render_x_distribution=20, render_y_distribution=20, render_distribution_opacity=0.8, \n",
    "                    opacity=0.4))"
   ]
  },
  {
   "cell_type": "code",
   "execution_count": null,
   "id": "5a71ef33",
   "metadata": {},
   "outputs": [],
   "source": [
    "#0.750\n",
    "#0.333\n",
    "rt.displaySVG(rt.xy(df, x_field='x', y_field='y', \n",
    "                    render_x_distribution=20, render_y_distribution=20, render_distribution_opacity=0.8, distribution_style='inside',\n",
    "                    opacity=0.1))"
   ]
  },
  {
   "cell_type": "code",
   "execution_count": null,
   "id": "7533048f",
   "metadata": {},
   "outputs": [],
   "source": [
    "rt.displaySVG(rt.xy(df, x_field='x', y_field='y', \n",
    "                    render_x_distribution=20, render_distribution_opacity=0.8, distribution_h_perc=1.0, distribution_style='inside',\n",
    "                    opacity=0.1))"
   ]
  },
  {
   "cell_type": "code",
   "execution_count": null,
   "id": "07547767",
   "metadata": {},
   "outputs": [],
   "source": [
    "rt.displaySVG(rt.xy(df, x_field='x', y_field='y', \n",
    "                    render_y_distribution=20, render_distribution_opacity=0.8, distribution_h_perc=1.0, distribution_style='inside',\n",
    "                    opacity=0.1))"
   ]
  },
  {
   "cell_type": "code",
   "execution_count": null,
   "id": "bd2ca660",
   "metadata": {},
   "outputs": [],
   "source": [
    "rt.displaySVG(rt.xy(df, x_field='x', y_field='y', \n",
    "                    render_x_distribution=20, render_distribution_opacity=0.8, distribution_h_perc=0.5, distribution_style='outside',\n",
    "                    opacity=0.1))"
   ]
  },
  {
   "cell_type": "code",
   "execution_count": null,
   "id": "f476e192",
   "metadata": {},
   "outputs": [],
   "source": [
    "rt.displaySVG(rt.xy(df, x_field='x', y_field='y', \n",
    "                    render_y_distribution=20, render_distribution_opacity=0.8, distribution_h_perc=0.5, distribution_style='outside',\n",
    "                    opacity=0.1))"
   ]
  },
  {
   "cell_type": "code",
   "execution_count": null,
   "id": "d4264491",
   "metadata": {},
   "outputs": [],
   "source": [
    "rt.displaySVG(rt.xy(df, x_field='x', y_field='y', \n",
    "                    render_y_distribution=20, render_distribution_opacity=0.8, distribution_h_perc=0.75, distribution_style='outside',\n",
    "                    opacity=0.1))"
   ]
  },
  {
   "cell_type": "code",
   "execution_count": null,
   "id": "a67a4152",
   "metadata": {},
   "outputs": [],
   "source": []
  }
 ],
 "metadata": {
  "kernelspec": {
   "display_name": "Python 3",
   "language": "python",
   "name": "python3"
  },
  "language_info": {
   "codemirror_mode": {
    "name": "ipython",
    "version": 3
   },
   "file_extension": ".py",
   "mimetype": "text/x-python",
   "name": "python",
   "nbconvert_exporter": "python",
   "pygments_lexer": "ipython3",
   "version": "3.10.6"
  },
  "vscode": {
   "interpreter": {
    "hash": "677ca678853aa41fc137f4b55f2bc0c694e45735c0d2faa667d2ec5acb71e67d"
   }
  }
 },
 "nbformat": 4,
 "nbformat_minor": 5
}
