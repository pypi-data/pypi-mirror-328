{
 "cells": [
  {
   "cell_type": "code",
   "execution_count": null,
   "id": "5becd1c4-1970-499c-adcc-3deb8a2fb655",
   "metadata": {},
   "outputs": [],
   "source": [
    "#\n",
    "# Tests how small multiple geometry when there are too many to render \n",
    "#\n",
    "import pandas as pd\n",
    "import numpy as np\n",
    "import sys\n",
    "sys.path.insert(1, '../rtsvg')\n",
    "from rtsvg import *\n",
    "import random\n",
    "rt = RACETrack()\n",
    "%matplotlib inline"
   ]
  },
  {
   "cell_type": "code",
   "execution_count": null,
   "id": "44174a8f",
   "metadata": {},
   "outputs": [],
   "source": [
    "_animal_set = ['dog',   'cat',   'horse',   'pig',     'cow',     'parrot']\n",
    "_animal_wgt = [(5,15),  (1,6),   (300,600), (200,300), (400,500), (1,2)]          # range of weights...\n",
    "_animal_h   = [(2,3),   (1,2),   (7,9),     (3,4),     (4,6),     (0.5,0.75)]\n",
    "_color_set  = ['black', 'white', 'brown', 'pink', 'green']\n",
    "_samples    = 5\n",
    "\n",
    "\n",
    "_animals,_colors,_weights,_heights = [],[],[],[]\n",
    "for i in range(0,len(_animal_set)):\n",
    "    _animal  = _animal_set[i]\n",
    "    _w_range = _animal_wgt[i]\n",
    "    _h_range = _animal_h  [i] \n",
    "    for _color in _color_set:\n",
    "        # Get rid of combinations that don't work...\n",
    "        if ((_animal == 'horse' or _animal == 'dog' or _animal == 'cow' or _animal == 'cat') and (_color == 'pink' or _color == 'green')) or \\\n",
    "           (_animal == 'pig'    and _color != 'pink'  and _color != 'brown') or \\\n",
    "           (_animal == 'parrot' and _color != 'green' and _color != 'white' and _color != 'black'):\n",
    "            continue \n",
    "        for j in range(0,_samples):\n",
    "            _animals. append(_animal)\n",
    "            _colors.  append(_color)\n",
    "            _weights. append(_w_range[0] + (_w_range[1] - _w_range[0])*random.random())\n",
    "            _heights. append(_h_range[0] + (_h_range[1] - _h_range[0])*random.random())\n",
    "\n",
    "df = pd.DataFrame({'animal':_animals, 'color':_colors, 'weight':_weights, 'height':_heights})\n",
    "_xy_params = {'x_field':'weight','y_field':'height'}"
   ]
  },
  {
   "cell_type": "code",
   "execution_count": null,
   "id": "c61c6c66",
   "metadata": {},
   "outputs": [],
   "source": [
    "rt.displaySVG(rt.smallMultiples(df, category_by=['animal','color'], color_by='animal', sm_type='xy', sm_params=_xy_params))"
   ]
  },
  {
   "cell_type": "code",
   "execution_count": null,
   "id": "d52bf912",
   "metadata": {},
   "outputs": [],
   "source": [
    "rt.displaySVG(rt.smallMultiples(df, category_by=['animal','color'], grid_view=True, color_by='animal', sm_type='xy', sm_params=_xy_params))"
   ]
  },
  {
   "cell_type": "code",
   "execution_count": null,
   "id": "28f1bd01",
   "metadata": {},
   "outputs": [],
   "source": [
    "rt.displaySVG(rt.smallMultiples(df, category_by='animal', color_by='animal', sm_type='xy', sm_params=_xy_params, w_sm_override=128, h_sm_override=128))"
   ]
  },
  {
   "cell_type": "code",
   "execution_count": null,
   "id": "0b2aa9a9",
   "metadata": {},
   "outputs": [],
   "source": [
    "rt.displaySVG(rt.smallMultiples(df, category_by='animal', color_by='animal', sm_type='xy', sm_params=_xy_params, w_sm_override=256, h_sm_override=256))"
   ]
  },
  {
   "cell_type": "code",
   "execution_count": null,
   "id": "8e5a68be",
   "metadata": {},
   "outputs": [],
   "source": [
    "rt.displaySVG(rt.smallMultiples(df, category_by=['animal','color'], grid_view=True, color_by='animal', sm_type='xy', sm_params=_xy_params, w_sm_override=32, h_sm_override=32))"
   ]
  },
  {
   "cell_type": "code",
   "execution_count": null,
   "id": "57613a13",
   "metadata": {},
   "outputs": [],
   "source": [
    "rt.displaySVG(rt.smallMultiples(df, category_by=['animal','color'], grid_view=True, color_by='animal', sm_type='xy', sm_params=_xy_params, w_sm_override=32, h_sm_override=32, draw_labels=False))"
   ]
  },
  {
   "cell_type": "code",
   "execution_count": null,
   "id": "9f1c2e0f",
   "metadata": {},
   "outputs": [],
   "source": [
    "rt.displaySVG(rt.smallMultiples(df, category_by='animal', color_by='animal', sm_type='xy', sm_params=_xy_params, w_sm_override=40, h_sm_override=40))"
   ]
  },
  {
   "cell_type": "code",
   "execution_count": null,
   "id": "bf6fe657",
   "metadata": {},
   "outputs": [],
   "source": [
    "rt.displaySVG(rt.smallMultiples(df, category_by='animal', color_by='animal', sm_type='xy', sm_params=_xy_params, w_sm_override=40, h_sm_override=40, draw_labels=False))"
   ]
  },
  {
   "cell_type": "code",
   "execution_count": null,
   "id": "cda45e87",
   "metadata": {},
   "outputs": [],
   "source": [
    "rt.displaySVG(rt.smallMultiples(df, category_by='animal', color_by='animal', sm_type='xy', sm_params=_xy_params, w_sm_override=120, h_sm_override=40, draw_labels=False))"
   ]
  },
  {
   "cell_type": "code",
   "execution_count": null,
   "id": "37ed3b01",
   "metadata": {},
   "outputs": [],
   "source": [
    "rt.displaySVG(rt.smallMultiples(df, category_by=['animal','color'], grid_view=True, color_by='animal', sm_type='xy', sm_params=_xy_params, shrink_wrap_rows=True,w=256,h=512))"
   ]
  },
  {
   "cell_type": "code",
   "execution_count": null,
   "id": "f68a370b",
   "metadata": {},
   "outputs": [],
   "source": [
    "rt.displaySVG(rt.smallMultiples(df, category_by=['animal','color'], grid_view=True, color_by='animal', sm_type='xy', sm_params=_xy_params, w_sm_override=64, h_sm_override=64))"
   ]
  },
  {
   "cell_type": "code",
   "execution_count": null,
   "id": "2bd0b9ab",
   "metadata": {},
   "outputs": [],
   "source": [
    "rt.displaySVG(rt.smallMultiples(df, category_by=['animal','color'], grid_view=True, color_by='animal', sm_type='xy', sm_params=_xy_params, shrink_wrap_rows=True,w=256,h=512, draw_labels=False))"
   ]
  },
  {
   "cell_type": "code",
   "execution_count": null,
   "id": "21a52818",
   "metadata": {},
   "outputs": [],
   "source": []
  }
 ],
 "metadata": {
  "kernelspec": {
   "display_name": "Python 3",
   "language": "python",
   "name": "python3"
  },
  "language_info": {
   "codemirror_mode": {
    "name": "ipython",
    "version": 3
   },
   "file_extension": ".py",
   "mimetype": "text/x-python",
   "name": "python",
   "nbconvert_exporter": "python",
   "pygments_lexer": "ipython3",
   "version": "3.11.1"
  },
  "vscode": {
   "interpreter": {
    "hash": "677ca678853aa41fc137f4b55f2bc0c694e45735c0d2faa667d2ec5acb71e67d"
   }
  }
 },
 "nbformat": 4,
 "nbformat_minor": 5
}
