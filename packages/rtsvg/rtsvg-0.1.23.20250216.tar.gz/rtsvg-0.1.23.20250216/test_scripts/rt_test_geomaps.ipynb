{
 "cells": [
  {
   "cell_type": "code",
   "execution_count": null,
   "metadata": {},
   "outputs": [],
   "source": [
    "import pandas as pd\n",
    "import numpy as np\n",
    "import networkx as nx\n",
    "\n",
    "import sys\n",
    "sys.path.insert(1, '../rtsvg')\n",
    "from rtsvg import *\n",
    "\n",
    "rt = RACETrack()"
   ]
  },
  {
   "cell_type": "code",
   "execution_count": null,
   "metadata": {},
   "outputs": [],
   "source": [
    "shape_lu = rt.geoMapsUSStates('hex')\n",
    "rt.choroplethMap(pd.DataFrame({'state':[]}), 'state', shape_lu, w=500, h=300)"
   ]
  },
  {
   "cell_type": "code",
   "execution_count": null,
   "metadata": {},
   "outputs": [],
   "source": [
    "lu = rt.__geoMapsUSStatesBorderGraph__()\n",
    "fms, tos = [],[]\n",
    "for k in lu.keys():\n",
    "    for x in lu[k]:\n",
    "        fms.append(k)\n",
    "        tos.append(x)\n",
    "df      = pd.DataFrame({'fm':fms,'to':tos})\n",
    "relates = [('fm','to')]\n",
    "g_nx    = rt.createNetworkXGraph(df, relates)\n",
    "pos     = rt.springLayout(g_nx, iterations=2000)\n",
    "rt.linkNode(df, relates, pos, link_arrow=False, w=768, h=512)"
   ]
  },
  {
   "cell_type": "code",
   "execution_count": null,
   "metadata": {},
   "outputs": [],
   "source": [
    "# For stretching to boundary states...\n",
    "latlon_pos      = {}\n",
    "latlon_pos['me'] = [ -67.8, 47.0]\n",
    "latlon_pos['wa'] = [-124.6, 48.3]\n",
    "latlon_pos['ca'] = [-120.5, 34.6]\n",
    "latlon_pos['fl'] = [ -81.4, 28.1]\n",
    "latlon_pos['tx'] = [ -97.5, 26.1]\n",
    "latlon_pos['mi'] = [ -84.9, 46.7]\n",
    "latlon_pos['or'] = [-124.0, 44.2]\n",
    "latlon_pos['mt'] = [-110.4, 48.8]\n",
    "latlon_pos['id'] = [-116.5, 48.8]\n",
    "latlon_pos['az'] = [-112.8, 31.9]\n",
    "latlon_pos['nm'] = [-106.4, 32.0]\n",
    "latlon_pos['ga'] = [ -81.2, 31.8]\n",
    "latlon_pos['sc'] = [ -79.7, 33.0]\n",
    "latlon_pos['nc'] = [ -76.5, 35.4]\n",
    "latlon_pos['va'] = [ -75.8, 37.4]\n",
    "latlon_pos['de'] = [ -75.2, 38.9]\n",
    "latlon_pos['nj'] = [ -74.1, 39.8]\n",
    "latlon_pos['la'] = [ -91.9, 29.8]\n",
    "scalar = 0.33\n",
    "pos    = {}\n",
    "for state in latlon_pos.keys():\n",
    "    lon_lat    = latlon_pos[state]\n",
    "    x, y       = lon_lat[0], lon_lat[1]\n",
    "    pos[state] = (x*scalar, y*scalar)\n",
    "pos     = rt.springLayout(g_nx, pos, set(lu.keys()) - set(pos.keys()), iterations=2000)\n",
    "rt.linkNode(df, relates, pos, link_arrow=False, w=768, h=512)"
   ]
  },
  {
   "cell_type": "code",
   "execution_count": null,
   "metadata": {},
   "outputs": [],
   "source": []
  }
 ],
 "metadata": {
  "kernelspec": {
   "display_name": ".venv",
   "language": "python",
   "name": "python3"
  },
  "language_info": {
   "codemirror_mode": {
    "name": "ipython",
    "version": 3
   },
   "file_extension": ".py",
   "mimetype": "text/x-python",
   "name": "python",
   "nbconvert_exporter": "python",
   "pygments_lexer": "ipython3",
   "version": "3.11.6"
  }
 },
 "nbformat": 4,
 "nbformat_minor": 2
}
