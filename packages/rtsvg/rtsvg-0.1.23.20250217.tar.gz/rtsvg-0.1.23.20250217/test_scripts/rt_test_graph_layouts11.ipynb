{
 "cells": [
  {
   "cell_type": "code",
   "execution_count": null,
   "metadata": {},
   "outputs": [],
   "source": [
    "import pandas as pd\n",
    "import polars as pl\n",
    "import numpy as np\n",
    "import networkx as nx\n",
    "import time\n",
    "import random\n",
    "import sys\n",
    "sys.path.insert(1, '../rtsvg')\n",
    "from rtsvg import RACETrack\n",
    "rt = RACETrack()"
   ]
  },
  {
   "cell_type": "code",
   "execution_count": null,
   "metadata": {},
   "outputs": [],
   "source": [
    "def createUnbalancedTree(children_min=1, children_max=6, depth=4, prefix='a'):\n",
    "    _lu_ = {'parent':[], 'child':[]}\n",
    "\n",
    "    def _recurse_(node, nodes_depth):\n",
    "        if nodes_depth >= depth: return\n",
    "        for nodes_child in range(random.randint(children_min,children_max)):\n",
    "            _lu_['parent'].append(node)\n",
    "            childs_name = node + '_' + str(nodes_child)\n",
    "            _lu_['child'].append(childs_name)\n",
    "            _recurse_(childs_name, nodes_depth+1)\n",
    "\n",
    "    num_of_children = random.randint(children_min,children_max)\n",
    "    if random.random() < 0.05: num_of_children=4*children_max\n",
    "\n",
    "    for child in range(num_of_children):\n",
    "        childs_name = prefix + '_' + str(child)\n",
    "        _lu_['parent'].append(prefix + '_root')\n",
    "        _lu_['child'].append(childs_name)\n",
    "        _recurse_(childs_name, 1)\n",
    "\n",
    "    return pl.DataFrame(_lu_)\n",
    "\n",
    "_lu_ = {'parent':['a_root', 'inter0', 'inter1', 'inter2','inter3','inter4','inter5'],'child':['inter0', 'inter1', 'inter2', 'inter3','inter4','inter5','b_root']}\n",
    "df      = pl.concat([createUnbalancedTree(prefix='a'), \n",
    "                     createUnbalancedTree(prefix='b'),\n",
    "                     pl.DataFrame(_lu_)])\n",
    "\n",
    "relates = [('parent','child')]\n",
    "g       = rt.createNetworkXGraph(df, relates)\n",
    "print(len(g))\n",
    "pos     = rt.hyperTreeLayout(g, roots=['a_root'])\n",
    "rt.link(df, relates, pos, w=768, h=768)"
   ]
  },
  {
   "cell_type": "code",
   "execution_count": null,
   "metadata": {},
   "outputs": [],
   "source": [
    "df      = pl.concat([createUnbalancedTree(prefix='a'), createUnbalancedTree(prefix='b'), \n",
    "                     createUnbalancedTree(prefix='c'), createUnbalancedTree(prefix='d')])\n",
    "relates = [('parent','child')]\n",
    "g       = rt.createNetworkXGraph(df, relates)\n",
    "print(len(g))\n",
    "pos     = rt.hyperTreeLayout(g)\n",
    "rt.link(df, relates, pos, w=768, h=768)"
   ]
  },
  {
   "cell_type": "code",
   "execution_count": null,
   "metadata": {},
   "outputs": [],
   "source": []
  }
 ],
 "metadata": {
  "kernelspec": {
   "display_name": ".venv",
   "language": "python",
   "name": "python3"
  },
  "language_info": {
   "codemirror_mode": {
    "name": "ipython",
    "version": 3
   },
   "file_extension": ".py",
   "mimetype": "text/x-python",
   "name": "python",
   "nbconvert_exporter": "python",
   "pygments_lexer": "ipython3",
   "version": "3.9.6"
  }
 },
 "nbformat": 4,
 "nbformat_minor": 2
}
