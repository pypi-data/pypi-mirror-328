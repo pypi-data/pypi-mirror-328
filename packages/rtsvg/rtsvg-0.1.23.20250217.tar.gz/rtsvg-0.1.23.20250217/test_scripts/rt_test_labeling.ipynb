{
 "cells": [
  {
   "cell_type": "code",
   "execution_count": null,
   "metadata": {},
   "outputs": [],
   "source": [
    "import pandas as pd\n",
    "import polars as pl\n",
    "import numpy as np\n",
    "import sys\n",
    "sys.path.insert(1, '../rtsvg')\n",
    "from rtsvg import *\n",
    "rt = RACETrack()\n",
    "labels = {'a':'aroma', 'b':'barometer', 'c':'examiner', 'd':'dancer', 'e':'examiner', 'f':'father', 'g':'grandfather'}\n",
    "df = pd.DataFrame({'fm':'a b c d e f g'.split(), \n",
    "                   'to':'b c d e f g a'.split()})"
   ]
  },
  {
   "cell_type": "code",
   "execution_count": null,
   "metadata": {},
   "outputs": [],
   "source": [
    "_cd_ = rt.chordDiagram(df, [('fm','to')], node_labels=labels, draw_labels=True, x_ins=32, y_ins=32, w=256, h=256)\n",
    "rt.tile([_cd_, \n",
    "         rt.annotateEntities(_cd_, ['a','b','c','d','e','f','g']),\n",
    "         rt.annotateEntities(_cd_, ['aroma','examiner'])])"
   ]
  },
  {
   "cell_type": "code",
   "execution_count": null,
   "metadata": {},
   "outputs": [],
   "source": [
    "from math import cos, sin, pi\n",
    "_nodes_ = sorted(list(set(df['fm']) | set(df['to'])))\n",
    "pos     = {}\n",
    "for i in range(len(_nodes_)):\n",
    "    _angle_ = i * 2 * pi / len(_nodes_)\n",
    "    pos[_nodes_[i]] = (cos(_angle_), sin(_angle_))\n",
    "_ln_ = rt.linkNode(df, [('fm','to')], pos, node_labels=labels, draw_labels=True, w=256, h=256)\n",
    "rt.tile([_ln_, \n",
    "         rt.annotateEntities(_ln_, ['a','b','c','d','e','f','g']),\n",
    "         rt.annotateEntities(_ln_, ['aroma','examiner'])])"
   ]
  },
  {
   "cell_type": "code",
   "execution_count": null,
   "metadata": {},
   "outputs": [],
   "source": [
    "_hst_ = rt.histogram(df, bin_by='fm', labels=labels, w=256, h=256)\n",
    "rt.tile([_hst_, \n",
    "         rt.annotateEntities(_hst_, ['a','b','c','d','e','f','g']),\n",
    "         rt.annotateEntities(_hst_, ['aroma','examiner'])])"
   ]
  },
  {
   "cell_type": "code",
   "execution_count": null,
   "metadata": {},
   "outputs": [],
   "source": [
    "_lns_ = rt.linkNodeShortest(df, [('fm','to')], pairs=[('a','e'), ('b','f')], node_labels=labels, draw_labels=True, w=384)\n",
    "rt.tile([_lns_, \n",
    "         rt.annotateEntities(_lns_, ['a','b','c','d','e','f','g']),\n",
    "         rt.annotateEntities(_lns_, ['aroma','examiner'])])"
   ]
  },
  {
   "cell_type": "code",
   "execution_count": null,
   "metadata": {},
   "outputs": [],
   "source": []
  }
 ],
 "metadata": {
  "kernelspec": {
   "display_name": ".venv",
   "language": "python",
   "name": "python3"
  },
  "language_info": {
   "codemirror_mode": {
    "name": "ipython",
    "version": 3
   },
   "file_extension": ".py",
   "mimetype": "text/x-python",
   "name": "python",
   "nbconvert_exporter": "python",
   "pygments_lexer": "ipython3",
   "version": "3.11.6"
  }
 },
 "nbformat": 4,
 "nbformat_minor": 2
}
