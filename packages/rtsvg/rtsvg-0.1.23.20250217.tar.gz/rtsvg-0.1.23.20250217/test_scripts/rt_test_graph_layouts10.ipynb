{
 "cells": [
  {
   "cell_type": "code",
   "execution_count": null,
   "metadata": {},
   "outputs": [],
   "source": [
    "import pandas as pd\n",
    "import polars as pl\n",
    "import numpy as np\n",
    "import networkx as nx\n",
    "import time\n",
    "import random\n",
    "import sys\n",
    "sys.path.insert(1, '../rtsvg')\n",
    "from rtsvg import RACETrack\n",
    "rt = RACETrack()"
   ]
  },
  {
   "cell_type": "code",
   "execution_count": null,
   "metadata": {},
   "outputs": [],
   "source": [
    "def createTree(children_min=3, children_max=6, depth=5):\n",
    "    _lu_ = {'parent':[], 'child':[]}\n",
    "\n",
    "    def _recurse_(node, nodes_depth):\n",
    "        if nodes_depth >= depth: return\n",
    "        for nodes_child in range(random.randint(children_min,children_max)):\n",
    "            _lu_['parent'].append(node)\n",
    "            childs_name = node + '_' + str(nodes_child)\n",
    "            _lu_['child'].append(childs_name)\n",
    "            _recurse_(childs_name, nodes_depth+1)\n",
    "\n",
    "    for child in range(random.randint(children_min,children_max)):\n",
    "        _lu_['parent'].append('root')\n",
    "        _lu_['child'].append(str(child))\n",
    "        _recurse_(str(child), 1)\n",
    "\n",
    "    return pl.DataFrame(_lu_)\n",
    "\n",
    "df      = createTree()\n",
    "relates = [('parent','child')]\n",
    "g       = rt.createNetworkXGraph(df, relates)\n",
    "pos     = rt.hyperTreeLayout(g)\n",
    "rt.link(df, relates, pos)"
   ]
  },
  {
   "cell_type": "code",
   "execution_count": null,
   "metadata": {},
   "outputs": [],
   "source": [
    "_perf_ = {'df_len':[], 'nodes':[], 'children_min':[], 'children_max':[], 'depth':[], 'time':[]}\n",
    "for _children_min_ in range(3,5):\n",
    "    for _children_max_ in range(6,8):\n",
    "        for _depth_ in range(6,10):\n",
    "            df  = createTree(_children_min_, _children_max_, _depth_)\n",
    "            g   = rt.createNetworkXGraph(df, relates)\n",
    "            t0  = time.time()\n",
    "            pos = rt.hyperTreeLayout(g)\n",
    "            t1  = time.time()\n",
    "            _perf_['df_len'].append(len(df))\n",
    "            _perf_['nodes'].append(len(g.nodes))\n",
    "            _perf_['children_min'].append(_children_min_)\n",
    "            _perf_['children_max'].append(_children_max_)\n",
    "            _perf_['depth'].append(_depth_)\n",
    "            _perf_['time'].append(t1-t0)\n"
   ]
  },
  {
   "cell_type": "code",
   "execution_count": null,
   "metadata": {},
   "outputs": [],
   "source": [
    "df_perf  = pl.DataFrame(_perf_)\n",
    "rt.xy(df_perf, x_field='nodes', y_field='time', dot_size='large', w=512, h=384)"
   ]
  },
  {
   "cell_type": "markdown",
   "metadata": {},
   "source": [
    "'<svg id=\"xy_15643065\" x=\"0\" y=\"0\" width=\"512\" height=\"384\" xmlns=\"http://www.w3.org/2000/svg\"><rect width=\"511\" height=\"383\" x=\"0\" y=\"0\" fill=\"#ffffff\" fill-opacity=\"1.0\" stroke=\"#ffffff\" stroke-opacity=\"1.0\" /><path d=\"M 17 367 L 17 3 L 507 3 L 507 367 Z\" stroke=\"#101010\" stroke-width=\".4\" fill=\"none\" /><circle  cx=\"20\" cy=\"354\" r=\"3\" fill=\"#4988b6\" stroke=\"#4988b6\" fill-opacity=\"1.0\" stroke-opacity=\"1.0\" /><circle  cx=\"17\" cy=\"365\" r=\"3\" fill=\"#4988b6\" stroke=\"#4988b6\" fill-opacity=\"1.0\" stroke-opacity=\"1.0\" /><circle  cx=\"221\" cy=\"223\" r=\"3\" fill=\"#4988b6\" stroke=\"#4988b6\" fill-opacity=\"1.0\" stroke-opacity=\"1.0\" /><circle  cx=\"19\" cy=\"364\" r=\"3\" fill=\"#4988b6\" stroke=\"#4988b6\" fill-opacity=\"1.0\" stroke-opacity=\"1.0\" /><circle  cx=\"17\" cy=\"364\" r=\"3\" fill=\"#4988b6\" stroke=\"#4988b6\" fill-opacity=\"1.0\" stroke-opacity=\"1.0\" /><circle  cx=\"48\" cy=\"350\" r=\"3\" fill=\"#4988b6\" stroke=\"#4988b6\" fill-opacity=\"1.0\" stroke-opacity=\"1.0\" /><circle  cx=\"36\" cy=\"340\" r=\"3\" fill=\"#4988b6\" stroke=\"#4988b6\" fill-opacity=\"1.0\" stroke-opacity=\"1.0\" /><circle  cx=\"99\" cy=\"314\" r=\"3\" fill=\"#4988b6\" stroke=\"#4988b6\" fill-opacity=\"1.0\" stroke-opacity=\"1.0\" /><circle  cx=\"24\" cy=\"349\" r=\"3\" fill=\"#4988b6\" stroke=\"#4988b6\" fill-opacity=\"1.0\" stroke-opacity=\"1.0\" /><circle  cx=\"44\" cy=\"344\" r=\"3\" fill=\"#4988b6\" stroke=\"#4988b6\" fill-opacity=\"1.0\" stroke-opacity=\"1.0\" /><circle  cx=\"507\" cy=\"3\" r=\"3\" fill=\"#4988b6\" stroke=\"#4988b6\" fill-opacity=\"1.0\" stroke-opacity=\"1.0\" /><circle  cx=\"19\" cy=\"363\" r=\"3\" fill=\"#4988b6\" stroke=\"#4988b6\" fill-opacity=\"1.0\" stroke-opacity=\"1.0\" /><circle  cx=\"92\" cy=\"316\" r=\"3\" fill=\"#4988b6\" stroke=\"#4988b6\" fill-opacity=\"1.0\" stroke-opacity=\"1.0\" /><circle  cx=\"38\" cy=\"356\" r=\"3\" fill=\"#4988b6\" stroke=\"#4988b6\" fill-opacity=\"1.0\" stroke-opacity=\"1.0\" /><circle  cx=\"169\" cy=\"272\" r=\"3\" fill=\"#4988b6\" stroke=\"#4988b6\" fill-opacity=\"1.0\" stroke-opacity=\"1.0\" /><text x=\"17\" text-anchor=\"start\" y=\"381\" font-family=\"Times\" fill=\"#000000\" font-size=\"12px\">13668</text><text x=\"507\" text-anchor=\"end\" y=\"381\" font-family=\"Times\" fill=\"#000000\" font-size=\"12px\">5601097</text><text x=\"262.0\" text-anchor=\"middle\" y=\"381\" font-family=\"Times\" fill=\"#000000\" font-size=\"12px\">nodes</text><text x=\"13\" text-anchor=\"start\" y=\"365\" font-family=\"Times\" fill=\"#000000\" font-size=\"12px\" transform=\"rotate(-90,13,365)\">0.24</text><text x=\"13\" text-anchor=\"end\" y=\"3\" font-family=\"Times\" fill=\"#000000\" font-size=\"12px\" transform=\"rotate(-90,13,3)\">201.09</text><text x=\"13\" text-anchor=\"middle\" y=\"184.0\" font-family=\"Times\" fill=\"#000000\" font-size=\"12px\" transform=\"rotate(-90,13,184.0)\">time</text><rect width=\"511\" height=\"384\" x=\"0\" y=\"0\" fill-opacity=\"0.0\" fill=\"none\" stroke=\"#000000\" /></svg>'"
   ]
  }
 ],
 "metadata": {
  "kernelspec": {
   "display_name": ".venv",
   "language": "python",
   "name": "python3"
  },
  "language_info": {
   "codemirror_mode": {
    "name": "ipython",
    "version": 3
   },
   "file_extension": ".py",
   "mimetype": "text/x-python",
   "name": "python",
   "nbconvert_exporter": "python",
   "pygments_lexer": "ipython3",
   "version": "3.11.6"
  }
 },
 "nbformat": 4,
 "nbformat_minor": 2
}
