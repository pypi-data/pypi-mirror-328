{
 "cells": [
  {
   "cell_type": "code",
   "execution_count": null,
   "id": "cc5ec30b-60e9-4ac2-ae42-ca1281cc777f",
   "metadata": {},
   "outputs": [],
   "source": [
    "import pandas as pd\n",
    "\n",
    "import sys\n",
    "sys.path.insert(1, '../rtsvg')\n",
    "\n",
    "from rtsvg import *\n",
    "from IPython.display import Javascript, HTML, display\n",
    "\n",
    "# For creating data to test with...\n",
    "import numpy as np\n",
    "# from pandas_datareader import data\n",
    "from pandas.tseries.offsets import BDay\n",
    "import random\n",
    "\n",
    "random.seed(42)\n",
    "\n",
    "%matplotlib inline"
   ]
  },
  {
   "cell_type": "code",
   "execution_count": null,
   "id": "87ad7aa2-8a86-4f06-8370-b91819774bec",
   "metadata": {},
   "outputs": [],
   "source": [
    "rt = RACETrack()\n",
    "def randomArray(v_min,v_max,_df):\n",
    "    arr = []\n",
    "    for i in range(0,len(_df)):\n",
    "        arr.append(random.randint(v_min,v_max))\n",
    "    return arr"
   ]
  },
  {
   "cell_type": "code",
   "execution_count": null,
   "id": "7c415f8b-5c03-4262-bf81-16ae71fff511",
   "metadata": {},
   "outputs": [],
   "source": [
    "df = pd.DataFrame({'timestamp':['2021-01-01','2021-01-01','2022-01-01','2023-01-01','2024-01-01'],\n",
    "                   'color':    ['a',         'b',         'c',         'a',         'b'],\n",
    "                   'set_i':    ['s0',        's1',        's1',        's1',        's2'],\n",
    "                   'count':    [10,          90,          10,          90,          0]})\n",
    "df['timestamp'] = df['timestamp'].astype(np.datetime64)\n",
    "display(HTML(rt.temporalBarChart(df=df,count_by='count',style='boxplot',h_gap=1,w=700,h=160)))\n",
    "#rt.temporalBarChart(df=df,count_by='count',style='boxplot',h_gap=1,w=700,h=160)"
   ]
  },
  {
   "cell_type": "code",
   "execution_count": null,
   "id": "b0d385a0-979f-44d3-87f7-a73877a70981",
   "metadata": {},
   "outputs": [],
   "source": [
    "ts = []\n",
    "c  = []\n",
    "v  = []\n",
    "for i in range(0,20):\n",
    "    year = f'20{i:02}-01-01'\n",
    "    n    = random.randint(5,100)\n",
    "    for j in range(0,n):\n",
    "        ts.append(year)\n",
    "        v. append(random.random()*100)\n",
    "        c. append(random.randint(0,4))\n",
    "df = pd.DataFrame({'timestamp':ts,'value':v,'color':c})\n",
    "df['timestamp'] = df['timestamp'].astype(np.datetime64)\n",
    "display(HTML(rt.temporalBarChart(df=df,count_by='value',style='boxplot',h_gap=1,w=700,h=160)))"
   ]
  },
  {
   "cell_type": "code",
   "execution_count": null,
   "id": "86a3e459",
   "metadata": {},
   "outputs": [],
   "source": [
    "display(HTML(rt.temporalBarChart(df=df,count_by='value',style='boxplot_w_swarm',h_gap=1,w=700,h=160)))"
   ]
  },
  {
   "cell_type": "code",
   "execution_count": null,
   "id": "2e26684d",
   "metadata": {},
   "outputs": [],
   "source": [
    "display(HTML(rt.temporalBarChart(df=df,count_by='value',color_by='color',style='boxplot_w_swarm',h_gap=1,w=700,h=160)))"
   ]
  },
  {
   "cell_type": "code",
   "execution_count": null,
   "id": "99786ab5",
   "metadata": {},
   "outputs": [],
   "source": [
    "df = pd.DataFrame({'timestamp':['2021-01-01','2021-01-01','2022-01-01','2023-01-01','2024-01-01'],\n",
    "                   'color':    ['a',         'b',         'c',         'a',         'b'],\n",
    "                   'set_i':    ['s0',        's1',        's1',        's1',        's2'],\n",
    "                   'count':    [10,          90,          10,          90,          0]})\n",
    "df['timestamp'] = df['timestamp'].astype(np.datetime64)\n",
    "display(HTML(rt.temporalBarChart(df=df,count_by='set_i',color_by='color',h_gap=1,w=700,h=160)))"
   ]
  },
  {
   "cell_type": "code",
   "execution_count": null,
   "id": "7f455112-a61f-4438-afca-a36660464c02",
   "metadata": {},
   "outputs": [],
   "source": [
    "# A year's worth of random (deterministic) data\n",
    "df = pd.DataFrame({'timestamp':pd.date_range('2015-06-28',periods=60,freq=BDay())}) # Business day frequency\n",
    "df['count'] = randomArray(10,20,df)\n",
    "display(HTML(rt.temporalBarChart(df=df,count_by='count')))\n",
    "#rt.temporalBarChart(df,'timestamp',count_by='count',h_gap=1,w=700,h=160)"
   ]
  },
  {
   "cell_type": "code",
   "execution_count": null,
   "id": "cb786089-4666-468e-8e94-a44da6758110",
   "metadata": {
    "tags": []
   },
   "outputs": [],
   "source": [
    "display(HTML(rt.temporalBarChart(df=df,ts_field='timestamp',count_by='count',color_by='count',h_gap=0,w=700,h=160)))"
   ]
  },
  {
   "cell_type": "code",
   "execution_count": null,
   "id": "9bf0ef9a-5a16-4962-ab04-199d34a9675b",
   "metadata": {},
   "outputs": [],
   "source": [
    "df = pd.DataFrame({'timestamp':pd.date_range('1900-07-01',periods=200,freq='YS')})\n",
    "df['count'] = randomArray(1,500,df)\n",
    "display(HTML(rt.temporalBarChart(df=df,ts_field='timestamp',count_by='count',h_gap=0,w=700,h=160)))"
   ]
  },
  {
   "cell_type": "code",
   "execution_count": null,
   "id": "fa253089-8e45-4648-b41a-4101226a3077",
   "metadata": {},
   "outputs": [],
   "source": [
    "df = pd.DataFrame({'timestamp':pd.date_range('1900-07-01',periods=200,freq='3M')})\n",
    "df['count'] = randomArray(10,50,df)\n",
    "df['color1'] = randomArray(1,  5,  df)\n",
    "df['color2'] = randomArray(10, 15, df)\n",
    "df['color3'] = randomArray(20, 23, df)\n",
    "display(HTML(rt.multiTemporalBarCharts(df=df,ts_field='timestamp',count_bys=[None,'count'],color_bys=['color1','color2','color3'])))"
   ]
  },
  {
   "cell_type": "code",
   "execution_count": null,
   "id": "1b2265cf-f8fe-4df7-a4a3-cb5d3d785c27",
   "metadata": {},
   "outputs": [],
   "source": [
    "df = pd.DataFrame({'timestamp':pd.date_range('1900-07-01',periods=200,freq='3M')})\n",
    "df['count1'] = randomArray(10,50,df)\n",
    "df['count2'] = randomArray(10,50,df)\n",
    "df['count3'] = randomArray(10,50,df)\n",
    "df['color'] = randomArray(1,  5,  df)\n",
    "display(HTML(rt.multiTemporalBarCharts(df=df,count_bys=[None,'count1','count2','count3'],color_bys=[None,'color'])))"
   ]
  },
  {
   "cell_type": "code",
   "execution_count": null,
   "id": "3cb6dc92-9143-42ff-8066-f1e4198290a5",
   "metadata": {},
   "outputs": [],
   "source": [
    "df = pd.DataFrame({'timestamp':pd.date_range('1900-07-01',periods=200,freq='3M')})\n",
    "df['count'] = randomArray(10,50,df)\n",
    "df['color'] = randomArray(1,5,df)\n",
    "display(HTML(rt.temporalBarChart(df=df,ts_field='timestamp',count_by='count',color_by='color',h_gap=1,w=700,h=160)))"
   ]
  },
  {
   "cell_type": "code",
   "execution_count": null,
   "id": "222a6208-3bcc-44b7-9fb6-d19d024c48c2",
   "metadata": {},
   "outputs": [],
   "source": [
    "df = pd.DataFrame({'timestamp':pd.date_range('1900-07-01',periods=200,freq='M')})\n",
    "df['count'] = randomArray(10,50,df)\n",
    "df['color'] = randomArray(1,3,df)\n",
    "display(HTML(rt.temporalBarChart(df=df,ts_field='timestamp',count_by='count',color_by='color',h_gap=1,w=700,h=160)))"
   ]
  },
  {
   "cell_type": "code",
   "execution_count": null,
   "id": "693c0ee5-72c1-4503-99a9-5cc8ba4fee7f",
   "metadata": {},
   "outputs": [],
   "source": [
    "df = pd.DataFrame({'timestamp':pd.date_range('2010-02-01',periods=200,freq='H')})\n",
    "df['count'] = randomArray(10,50,df)\n",
    "df['color'] = randomArray(1,2,df)\n",
    "display(HTML(rt.temporalBarChart(df=df,ts_field='timestamp',count_by='count',color_by='color',h_gap=1,w=700,h=160)))"
   ]
  },
  {
   "cell_type": "code",
   "execution_count": null,
   "id": "7da6379b-a208-484f-8311-c3d96ad82b3c",
   "metadata": {},
   "outputs": [],
   "source": [
    "df = pd.DataFrame({'timestamp':pd.date_range('2010-02-01',periods=20,freq='H')})\n",
    "df['count'] = randomArray(10,50,df)\n",
    "df['color'] = randomArray(1,2,df)\n",
    "display(HTML(rt.temporalBarChart(df=df,ts_field='timestamp',count_by='count',color_by='color',h_gap=1,w=700,h=160)))"
   ]
  },
  {
   "cell_type": "code",
   "execution_count": null,
   "id": "6562646e-b5b3-44bf-b3b1-25ee78c9389b",
   "metadata": {},
   "outputs": [],
   "source": [
    "df = pd.DataFrame({'timestamp':pd.date_range('2010-02-01',periods=20,freq='M')})\n",
    "df['count'] = randomArray(10,50,df)\n",
    "df['color'] = randomArray(1,2,df)\n",
    "display(HTML(rt.temporalBarChart(df=df,ts_field='timestamp',count_by='count',color_by='color',h_gap=1,w=700,h=160)))"
   ]
  },
  {
   "cell_type": "code",
   "execution_count": null,
   "id": "21f388d1-8944-4126-9690-d66dad7014cd",
   "metadata": {},
   "outputs": [],
   "source": [
    "df = pd.DataFrame({'timestamp':pd.date_range('2010-02-01',periods=20,freq='MIN')})\n",
    "df['count'] = randomArray(10,50,df)\n",
    "df['color'] = randomArray(1,10,df)\n",
    "display(HTML(rt.temporalBarChart(df=df,ts_field='timestamp',count_by='count',color_by='color',h_gap=3,w=700,h=160)))"
   ]
  },
  {
   "cell_type": "code",
   "execution_count": null,
   "id": "4ff4fbd2-688a-4783-a1e6-c2763db3e3d9",
   "metadata": {},
   "outputs": [],
   "source": [
    "df = pd.DataFrame({'timestamp':pd.date_range('2010-02-01',periods=2000,freq='MIN')})\n",
    "df['count'] = randomArray(10,50,df)\n",
    "df['color'] = randomArray(1,3,df)\n",
    "display(HTML(rt.temporalBarChart(df=df,ts_field='timestamp',count_by='count',color_by='color',h_gap=1,w=700,h=160)))"
   ]
  },
  {
   "cell_type": "code",
   "execution_count": null,
   "id": "ce482d7e-d808-4cd8-ba00-11772918d528",
   "metadata": {},
   "outputs": [],
   "source": [
    "ts_arr = ['2021-01-01','2021-01-01','2021-01-01',         '2021-01-02','2021-01-02',           '2021-01-03']\n",
    "ts_sum = ['a',          'b',        'c',                  'a',         'b',                    'a']\n",
    "ts_clr = ['red',        'green',    'blue',               'blue',      'blue',                 'blue']\n",
    "df = pd.DataFrame({'timestamp':ts_arr, 'count':ts_sum, 'color':ts_clr})\n",
    "df['timestamp'] = df['timestamp'].astype(np.datetime64)\n",
    "display(HTML(rt.temporalBarChart(df=df,ts_field='timestamp',count_by='count',color_by='color',h_gap=1,w=900,h=230)))"
   ]
  },
  {
   "cell_type": "code",
   "execution_count": null,
   "id": "03ca025d",
   "metadata": {},
   "outputs": [],
   "source": [
    "ts_arr = ['2021-01-01','2021-01-01','2021-01-01',         '2021-01-02','2021-01-02',           '2021-01-03']\n",
    "ts_sum = ['a',          'b',        'c',                  'a',         'b',                    'a']\n",
    "ts_clr = ['red',        'green',    'blue',               'blue',      'blue',                 'blue']\n",
    "df = pd.DataFrame({'timestamp':ts_arr, 'count':ts_sum, 'color':ts_clr})\n",
    "df['timestamp'] = df['timestamp'].astype(np.datetime64)\n",
    "display(HTML(rt.temporalBarChart(df=df,ts_field='timestamp',count_by='count',color_by='color',\n",
    "                                 sm_type='pieChart',\n",
    "                                 h_gap=1,w=900,h=230)))"
   ]
  },
  {
   "cell_type": "code",
   "execution_count": null,
   "id": "c0dc2b10-2510-46bf-b807-16cabcdecdcd",
   "metadata": {},
   "outputs": [],
   "source": [
    "display(HTML(rt.temporalBarChart(df=df,ts_field='timestamp',count_by='count',color_by='color',h_gap=1,w=900,h=230)))"
   ]
  },
  {
   "cell_type": "code",
   "execution_count": null,
   "id": "13eb5f8e-d9cf-4969-8bba-d5c906289f6c",
   "metadata": {},
   "outputs": [],
   "source": [
    "display(HTML(rt.temporalBarChart(df=df,ts_field='timestamp',count_by='count',color_by='count',h_gap=1,w=900,h=230)))"
   ]
  },
  {
   "cell_type": "code",
   "execution_count": null,
   "id": "b5654d49-5e6f-42d2-b000-bd0fbca25000",
   "metadata": {},
   "outputs": [],
   "source": [
    "df        = pd.read_csv(\"../../data/netflow/netflow_sample.csv\")\n",
    "df['beg'] = df['beg'].astype(np.datetime64)\n",
    "df        = df.rename({'beg':'timestamp'},axis=1)\n",
    "df.shape\n",
    "\n",
    "temp_gran = rt.temporalGranularity(df, 'timestamp')\n",
    "\n",
    "df.shape"
   ]
  },
  {
   "cell_type": "code",
   "execution_count": null,
   "id": "bf6ce72f-f3ce-4bab-a295-4e5c02d8a91d",
   "metadata": {},
   "outputs": [],
   "source": [
    "display(HTML(rt.temporalBarChart(df=df,ts_field='timestamp',count_by='dip',color_by='sip',temporal_granularity=temp_gran,w=900,h=230, draw_perf_stats=True)))"
   ]
  },
  {
   "cell_type": "code",
   "execution_count": null,
   "id": "23ef29f5-cb80-480e-a0b9-dec60aa4f660",
   "metadata": {},
   "outputs": [],
   "source": [
    "display(HTML(rt.temporalBarChart(df=df,ts_field='timestamp',count_by='DBYT',color_by='dpt',temporal_granularity=temp_gran,w=900,h=230, draw_perf_stats=True)))"
   ]
  },
  {
   "cell_type": "code",
   "execution_count": null,
   "id": "74242139-ff6d-43dd-9a95-28b97b97a3f9",
   "metadata": {},
   "outputs": [],
   "source": [
    "display(HTML(rt.temporalBarChart(df=df,ts_field='timestamp',count_by=None,color_by=None,temporal_granularity=temp_gran,h_gap=1,w=900,h=230, draw_perf_stats=True)))"
   ]
  },
  {
   "cell_type": "code",
   "execution_count": null,
   "id": "1e70b602-c089-4b60-90f4-fcbd20dad8ca",
   "metadata": {},
   "outputs": [],
   "source": [
    "display(HTML(rt.temporalBarChart(df=df,ts_field='timestamp',count_by=None,color_by='dip',temporal_granularity=temp_gran,h_gap=1,w=900,h=230, draw_perf_stats=True)))"
   ]
  },
  {
   "cell_type": "code",
   "execution_count": null,
   "id": "0331c17b-4e3d-46e4-9954-ddf2f04e1f83",
   "metadata": {
    "tags": []
   },
   "outputs": [],
   "source": [
    "display(HTML(rt.temporalBarChart(df=df,ts_field='timestamp',count_by='sip',color_by='dip',temporal_granularity=temp_gran,h_gap=1,w=900,h=230, draw_perf_stats=True)))"
   ]
  },
  {
   "cell_type": "code",
   "execution_count": null,
   "id": "2d9e1f0c-3e5f-4dcf-a5ae-f63f79530198",
   "metadata": {
    "tags": []
   },
   "outputs": [],
   "source": [
    "display(HTML(rt.temporalBarChart(df=df,ts_field='timestamp',count_by='dip',temporal_granularity=temp_gran,h_gap=1,w=900,h=230, draw_perf_stats=True)))"
   ]
  },
  {
   "cell_type": "code",
   "execution_count": null,
   "id": "105a8d59-607f-4c7a-8d01-8dbb766bf19c",
   "metadata": {},
   "outputs": [],
   "source": [
    "display(HTML(rt.temporalBarChart(df=df,ts_field='timestamp',count_by='dip',temporal_granularity=temp_gran,color_by='dpt',h_gap=1,w=900,h=230, draw_perf_stats=True)))"
   ]
  },
  {
   "cell_type": "code",
   "execution_count": null,
   "id": "c310f205-a991-4915-a682-f910df11a794",
   "metadata": {},
   "outputs": [],
   "source": [
    "display(HTML(rt.temporalBarChart(df=df,ts_field='timestamp',color_by='dip',temporal_granularity=temp_gran,h_gap=0,w=900,h=230, draw_perf_stats=True)))"
   ]
  },
  {
   "cell_type": "code",
   "execution_count": null,
   "id": "23d06873-8adf-4340-b9d2-2b9f508ba462",
   "metadata": {},
   "outputs": [],
   "source": [
    "display(HTML(rt.temporalBarChart(df=df,ts_field='timestamp',count_by='dip',temporal_granularity=temp_gran,h_gap=1,w=900,h=230, draw_perf_stats=True)))"
   ]
  },
  {
   "cell_type": "code",
   "execution_count": null,
   "id": "fedf79f5-1bb3-4143-adbb-e27de31deecf",
   "metadata": {},
   "outputs": [],
   "source": [
    "display(HTML(rt.temporalBarChart(df=df,ts_field='timestamp',color_by='DBYT',temporal_granularity=temp_gran,h_gap=1,w=900,h=230, draw_perf_stats=True)))"
   ]
  },
  {
   "cell_type": "code",
   "execution_count": null,
   "id": "d49368d1-7ca2-4ba1-93ba-921d341a4524",
   "metadata": {},
   "outputs": [],
   "source": [
    "display(HTML(rt.temporalBarChart(df=df,ts_field='timestamp',color_by='sip',temporal_granularity=temp_gran,h_gap=1,w=900,h=230, draw_perf_stats=True)))"
   ]
  },
  {
   "cell_type": "code",
   "execution_count": null,
   "id": "e91645b4-5403-4470-ad36-423d8409ef93",
   "metadata": {},
   "outputs": [],
   "source": [
    "display(HTML(rt.temporalBarChart(df=df,ts_field='timestamp',color_by='dip',temporal_granularity=temp_gran,h_gap=1,w=900,h=230, draw_perf_stats=True)))"
   ]
  },
  {
   "cell_type": "code",
   "execution_count": null,
   "id": "29f92eef-7b63-4059-b68c-d7071341cee5",
   "metadata": {},
   "outputs": [],
   "source": [
    "display(HTML(rt.temporalBarChart(df=df,ts_field='timestamp',count_by='sip',color_by='dip',temporal_granularity=temp_gran,h_gap=1,w=900,h=230, draw_perf_stats=True)))"
   ]
  },
  {
   "cell_type": "code",
   "execution_count": null,
   "id": "296a4e30-c076-4dcc-8b1b-efecf4652b74",
   "metadata": {},
   "outputs": [],
   "source": [
    "# Never finishes... stopped it at 7m35s...\n",
    "#display(HTML(rt.temporalBarChart(df=df,ts_field='timestamp',count_by='DBYT',color_by='DBYT',temporal_granularity=temp_gran,h_gap=1,w=900,h=230, draw_perf_stats=True)))"
   ]
  },
  {
   "cell_type": "code",
   "execution_count": null,
   "id": "a99cef8e-2561-456a-b0cc-6e3c54a1ffdd",
   "metadata": {},
   "outputs": [],
   "source": [
    "display(HTML(rt.temporalBarChart(df=df,ts_field='timestamp',count_by='SBYT',temporal_granularity=temp_gran,w=900,h=230, draw_perf_stats=True)))"
   ]
  },
  {
   "cell_type": "code",
   "execution_count": null,
   "id": "e1ff6ad1-0cba-4abc-a158-4132596b2d0c",
   "metadata": {},
   "outputs": [],
   "source": [
    "display(HTML(rt.multiTemporalBarCharts(df=df,ts_field='timestamp',count_bys=[None,'sip','SPKT'],color_bys=[None, 'sip','SPKT'],draw_labels=True,draw_context=False)))"
   ]
  },
  {
   "cell_type": "code",
   "execution_count": null,
   "id": "286301dc-4914-4953-916a-c3d2a300ff69",
   "metadata": {},
   "outputs": [],
   "source": [
    "display(HTML(rt.multiTemporalBarCharts(df=df,ts_field='timestamp',count_bys=[None,'sip','dip','SPKT','DPKT','SBYT'],color_bys=[None,'sip','dip','SPKT'],draw_labels=True,draw_context=False)))"
   ]
  },
  {
   "cell_type": "code",
   "execution_count": null,
   "id": "052fb109-d86c-4057-8cc3-9e4df300ad78",
   "metadata": {},
   "outputs": [],
   "source": [
    "display(HTML(rt.temporalBarChart(df=df,ts_field='timestamp',count_by='sip',color_by='dip',temporal_granularity=temp_gran,w=900,h=230)))"
   ]
  },
  {
   "cell_type": "code",
   "execution_count": null,
   "id": "738475f2-09aa-43cd-9a2d-48501cfab252",
   "metadata": {},
   "outputs": [],
   "source": [
    "display(HTML(rt.temporalBarChart(df=df,ts_field='timestamp',count_by='dip',color_by='DPKT',temporal_granularity=temp_gran,w=900,h=230)))"
   ]
  },
  {
   "cell_type": "code",
   "execution_count": null,
   "id": "9b9901ca-a2c0-4dc6-a618-05353f0763d3",
   "metadata": {},
   "outputs": [],
   "source": [
    "display(HTML(rt.multiHistograms(df=df,bin_bys=['sip','dip'],count_bys=[None,'dpt'], color_bys=['sip'])))"
   ]
  },
  {
   "cell_type": "code",
   "execution_count": null,
   "id": "61ca1356-8102-47b4-afcb-ee9a7cd5fbe2",
   "metadata": {},
   "outputs": [],
   "source": [
    "display(HTML(rt.temporalBarChart(df=df,ts_field='timestamp',count_by='SPKT',temporal_granularity=temp_gran,w=900,h=230)))"
   ]
  },
  {
   "cell_type": "code",
   "execution_count": null,
   "id": "8f458d0a-1c05-44ff-b382-b3361e07070a",
   "metadata": {},
   "outputs": [],
   "source": [
    "display(HTML(rt.temporalBarChart(df=df,ts_field='timestamp',count_by='SPKT',style='boxplot',temporal_granularity=temp_gran,w=900,h=230)))"
   ]
  },
  {
   "cell_type": "code",
   "execution_count": null,
   "id": "5029bc3b-dad7-4344-9dc6-32f35da9eb64",
   "metadata": {},
   "outputs": [],
   "source": [
    "from math import log10\n",
    "df['LOG_SPKT'] = df['SPKT'].apply(lambda x: log10(x+1))\n",
    "display(HTML(rt.temporalBarChart(df=df,ts_field='timestamp',count_by='LOG_SPKT',style='boxplot',temporal_granularity=temp_gran,w=900,h=230)))"
   ]
  },
  {
   "cell_type": "code",
   "execution_count": null,
   "id": "bba06add-5bd3-47f7-b6ae-6700ce8a202f",
   "metadata": {},
   "outputs": [],
   "source": [
    "display(HTML(rt.temporalBarChart(df=df,ts_field='timestamp',count_by='LOG_SPKT',style='boxplot_w_swarm',temporal_granularity=temp_gran,w=900,h=230)))"
   ]
  },
  {
   "cell_type": "code",
   "execution_count": null,
   "id": "572e3719",
   "metadata": {},
   "outputs": [],
   "source": [
    "\n",
    "display(HTML(rt.temporalBarChart(df=df,ts_field='timestamp',count_by='LOG_SPKT',color_by='dpt',style='boxplot_w_swarm',temporal_granularity=temp_gran,w=900,h=230)))"
   ]
  },
  {
   "cell_type": "code",
   "execution_count": null,
   "id": "5e2e44ed",
   "metadata": {},
   "outputs": [],
   "source": [
    "display(HTML(rt.smallMultiples(df=df,category_by='sip',ts_field='timestamp',count_by='LOG_SPKT',color_by='dpt',\n",
    "                               sm_type='temporalBarChart',sm_params={'style':'boxplot_w_swarm'},\n",
    "                               temporal_granularity=temp_gran, max_categories=10,\n",
    "                               w=800,h=800)))"
   ]
  },
  {
   "cell_type": "code",
   "execution_count": null,
   "id": "8b5796dd",
   "metadata": {},
   "outputs": [],
   "source": [
    "display(HTML(rt.temporalBarChart(df=df,ts_field='timestamp',count_by='LOG_SPKT',color_by='LOG_SPKT',style='boxplot_w_swarm',temporal_granularity=temp_gran,w=900,h=230)))"
   ]
  },
  {
   "cell_type": "code",
   "execution_count": null,
   "id": "b76a9256",
   "metadata": {},
   "outputs": [],
   "source": [
    "display(HTML(rt.temporalBarChart(df=df,ts_field='timestamp',count_by='SPKT',color_by='dpt',temporal_granularity=temp_gran,\n",
    "                                 sm_type='xy',\n",
    "                                 sm_params={'x_field':'timestamp','y_field':['sip','dip'],'dot_size':'small'},\n",
    "                                 w=2000,h=230)))"
   ]
  },
  {
   "cell_type": "code",
   "execution_count": null,
   "id": "ac0833b9",
   "metadata": {},
   "outputs": [],
   "source": [
    "display(HTML(rt.temporalBarChart(df=df,ts_field='timestamp',count_by='SPKT',color_by='dpt',temporal_granularity=temp_gran,\n",
    "                                 sm_type='pieChart',\n",
    "                                 w=1200,h=230)))"
   ]
  },
  {
   "cell_type": "code",
   "execution_count": null,
   "id": "a741464a",
   "metadata": {},
   "outputs": [],
   "source": [
    "display(HTML(rt.temporalBarChart(df=df,ts_field='timestamp',count_by='SPKT',color_by='dpt',style='boxplot_w_swarm',\n",
    "                                 temporal_granularity=temp_gran,\n",
    "                                 sm_type='pieChart',\n",
    "                                 w=1600,h=480)))"
   ]
  },
  {
   "cell_type": "code",
   "execution_count": null,
   "id": "265770cc",
   "metadata": {},
   "outputs": [],
   "source": [
    "#\n",
    "# 2023-01-11 20:00EST // Examine the following error:\n",
    "#\n",
    "# rt_small_multiples_mixin.py:561: SettingWithCopyWarning: \n",
    "# A value is trying to be set on a copy of a slice from a DataFrame.\n",
    "# Try using .loc[row_indexer,col_indexer] = value instead\n",
    "#\n",
    "# ... tempororary verdict -- the coloring ordering is different... so the next panel shows the same order\n",
    "# ... appears that this is workin correctly // turned off the warning temporarily in the smallmultiples_mixin\n",
    "#\n",
    "#\n",
    "display(HTML(rt.pieChart(df=df[(df['timestamp'] >= '2010-02-05 00:00:00') & (df['timestamp'] < '2010-02-06 00:00:00')],count_by='SPKT',color_by='dpt')))"
   ]
  },
  {
   "cell_type": "code",
   "execution_count": null,
   "id": "31bae8ec",
   "metadata": {},
   "outputs": [],
   "source": [
    "#\n",
    "# 2023-01-11 20:00EST // Examine the following error:\n",
    "#\n",
    "# rt_small_multiples_mixin.py:561: SettingWithCopyWarning: \n",
    "# A value is trying to be set on a copy of a slice from a DataFrame.\n",
    "# Try using .loc[row_indexer,col_indexer] = value instead\n",
    "#\n",
    "display(HTML(rt.temporalBarChart(df=df[(df['timestamp'] >= '2010-02-05 00:00:00') & (df['timestamp'] < '2010-02-06 00:00:00')],\n",
    "                                 ts_field='timestamp',count_by='SPKT',color_by='dpt',style='boxplot_w_swarm',\n",
    "                                 temporal_granularity=temp_gran,\n",
    "                                 sm_type='pieChart', sm_params={'style':'waffle'},\n",
    "                                 min_bar_w=400, w=400, h=256)))"
   ]
  },
  {
   "cell_type": "code",
   "execution_count": null,
   "id": "492ffc05",
   "metadata": {},
   "outputs": [],
   "source": [
    "display(HTML(rt.temporalBarChart(df,\n",
    "                                 ts_field='timestamp',count_by='SPKT',color_by='dpt',style='boxplot_w_swarm',\n",
    "                                 temporal_granularity=temp_gran,\n",
    "                                 sm_type='pieChart', sm_params={'style':'waffle'},\n",
    "                                 w=800, h=256)))"
   ]
  },
  {
   "cell_type": "code",
   "execution_count": null,
   "id": "1c4d0a46",
   "metadata": {},
   "outputs": [],
   "source": []
  }
 ],
 "metadata": {
  "kernelspec": {
   "display_name": "Python 3",
   "language": "python",
   "name": "python3"
  },
  "language_info": {
   "codemirror_mode": {
    "name": "ipython",
    "version": 3
   },
   "file_extension": ".py",
   "mimetype": "text/x-python",
   "name": "python",
   "nbconvert_exporter": "python",
   "pygments_lexer": "ipython3",
   "version": "3.11.3"
  },
  "vscode": {
   "interpreter": {
    "hash": "677ca678853aa41fc137f4b55f2bc0c694e45735c0d2faa667d2ec5acb71e67d"
   }
  }
 },
 "nbformat": 4,
 "nbformat_minor": 5
}
