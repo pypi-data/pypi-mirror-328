{
 "cells": [
  {
   "cell_type": "code",
   "execution_count": null,
   "metadata": {},
   "outputs": [],
   "source": [
    "import pandas as pd\n",
    "import polars as pl\n",
    "import numpy  as np\n",
    "from pandas.api.types import is_datetime64_any_dtype as is_datetime\n",
    "from datetime import timedelta\n",
    "from dateutil.relativedelta import relativedelta\n",
    "import random\n",
    "import time\n",
    "import sys\n",
    "sys.path.insert(1, '../rtsvg')\n",
    "from rtsvg import *\n",
    "rt = RACETrack()"
   ]
  },
  {
   "cell_type": "code",
   "execution_count": null,
   "metadata": {},
   "outputs": [],
   "source": [
    "df = pd.DataFrame({'x':['a','b','c','d','a','b', 'e',                   'fairly_long_string'],\n",
    "                   'y':['1','2','3','4','2','4', 'another_long_string', '2'],\n",
    "                   'n':[12, 15, 30, 40, 4,  100, 20,                    30]})\n",
    "df_pl = pl.DataFrame(df)\n",
    "rt.displaySVG(rt.smallMultiples(df_pl,category_by=['x','y'],sm_type='histogram',\n",
    "                                sm_params={'bin_by':'x'},count_by='n',\n",
    "                                color_by='x', sort_by='field', sort_by_field='n',\n",
    "                                faded_sm_set=set(['d|4', 'b|2']),\n",
    "                                w=384,h=384,draw_labels=True))"
   ]
  },
  {
   "cell_type": "code",
   "execution_count": null,
   "metadata": {},
   "outputs": [],
   "source": [
    "rt.displaySVG(rt.smallMultiples(df,category_by=['x','y'],sm_type='histogram',\n",
    "                                sm_params={'bin_by':'x'},count_by='n',\n",
    "                                color_by='x', sort_by='field', sort_by_field='n',\n",
    "                                faded_sm_set=set(['d|4', 'b|2']),\n",
    "                                w=384,h=384,draw_labels=True))"
   ]
  },
  {
   "cell_type": "code",
   "execution_count": null,
   "metadata": {},
   "outputs": [],
   "source": []
  }
 ],
 "metadata": {
  "kernelspec": {
   "display_name": "Python 3",
   "language": "python",
   "name": "python3"
  },
  "language_info": {
   "codemirror_mode": {
    "name": "ipython",
    "version": 3
   },
   "file_extension": ".py",
   "mimetype": "text/x-python",
   "name": "python",
   "nbconvert_exporter": "python",
   "pygments_lexer": "ipython3",
   "version": "3.11.6"
  }
 },
 "nbformat": 4,
 "nbformat_minor": 2
}
