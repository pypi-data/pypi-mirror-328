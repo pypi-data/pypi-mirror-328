{
 "cells": [
  {
   "cell_type": "code",
   "execution_count": null,
   "metadata": {},
   "outputs": [],
   "source": [
    "import pandas as pd\n",
    "import polars as pl\n",
    "import numpy as np\n",
    "import sys\n",
    "sys.path.insert(1, '../rtsvg')\n",
    "from rtsvg import *\n",
    "rt = RACETrack()"
   ]
  },
  {
   "cell_type": "code",
   "execution_count": null,
   "metadata": {},
   "outputs": [],
   "source": [
    "_setup_ = {'a':(10,2.5,100), 'b':(7,1,30), 'c':(0,0.5,1000), 'd':(5,0.001,10000)}\n",
    "bins, vals, nums = [],[],[]\n",
    "for bin in _setup_:\n",
    "    _params_ = _setup_[bin]\n",
    "    bins.extend([bin]*_params_[2])\n",
    "    vals.extend(np.random.normal(_params_[0], _params_[1], _params_[2]))\n",
    "    for i in range(_params_[2]):\n",
    "        nums.append(i%3)\n",
    "df     = pd.DataFrame({'num':nums, 'bin':bins, 'value':vals})\n",
    "df_pl  = pl.DataFrame(df) \n",
    "params = {'bin_by':'bin', 'count_by':'value', 'style':'boxplot_w_swarm', 'color_by':'bin', 'w':512, 'h':256, 'order_by':['d','c','b','a']}\n",
    "rt.tile([rt.boxplot(df, **params), rt.boxplot(df_pl, **params)])"
   ]
  },
  {
   "cell_type": "code",
   "execution_count": null,
   "metadata": {},
   "outputs": [],
   "source": [
    "params['order_by'] = ['d','b']\n",
    "rt.tile([rt.boxplot(df, **params), rt.boxplot(df_pl, **params)])"
   ]
  },
  {
   "cell_type": "code",
   "execution_count": null,
   "metadata": {},
   "outputs": [],
   "source": [
    "params['order_by'] = ['a','b','c']\n",
    "rt.tile([rt.boxplot(df, **params), rt.boxplot(df_pl, **params)])"
   ]
  },
  {
   "cell_type": "code",
   "execution_count": null,
   "metadata": {},
   "outputs": [],
   "source": []
  }
 ],
 "metadata": {
  "kernelspec": {
   "display_name": "Python 3",
   "language": "python",
   "name": "python3"
  },
  "language_info": {
   "codemirror_mode": {
    "name": "ipython",
    "version": 3
   },
   "file_extension": ".py",
   "mimetype": "text/x-python",
   "name": "python",
   "nbconvert_exporter": "python",
   "pygments_lexer": "ipython3",
   "version": "3.11.6"
  }
 },
 "nbformat": 4,
 "nbformat_minor": 2
}
