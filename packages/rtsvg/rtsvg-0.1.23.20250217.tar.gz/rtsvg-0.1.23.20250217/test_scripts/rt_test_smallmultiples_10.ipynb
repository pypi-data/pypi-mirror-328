{
 "cells": [
  {
   "cell_type": "code",
   "execution_count": null,
   "id": "5becd1c4-1970-499c-adcc-3deb8a2fb655",
   "metadata": {},
   "outputs": [],
   "source": [
    "import pandas as pd\n",
    "import polars as pl\n",
    "import sys\n",
    "sys.path.insert(1, '../rtsvg')\n",
    "from rtsvg import *\n",
    "rt = RACETrack()\n",
    "df  = pd.DataFrame({'fm':['a','a','b','b'],'to':['b','c','c','c']})\n",
    "pos = {'a':(10,10), 'b':(10,20), 'c':(20,10)} \n",
    "rt.linkNode(df, [('fm','to')], pos, bounds_percent=0.4, color_by='fm', sm_type='histogram', sm_params={'bin_by':'fm'})"
   ]
  },
  {
   "cell_type": "code",
   "execution_count": null,
   "id": "5fb11f4e",
   "metadata": {},
   "outputs": [],
   "source": [
    "df  = pd.DataFrame({'fm':['a','a','b','b'],'to':['b','c','c','c']})\n",
    "pos = {'a':(10,10), 'b':(10,20), 'c':(20,10)} \n",
    "rt.linkNode(pl.DataFrame(df), [('fm','to')], pos, bounds_percent=0.4, color_by='fm', sm_type='histogram', sm_params={'bin_by':'fm'})"
   ]
  },
  {
   "cell_type": "code",
   "execution_count": null,
   "id": "2dc0f79f",
   "metadata": {},
   "outputs": [],
   "source": [
    "df = pd.DataFrame({'x':[1,1,1], 'y':[1,1,1], 'b':['a','b','c'],'c':[20,10,5]})\n",
    "rt.xy(df, x_field='x', y_field='y', sm_type='histogram', sm_params={'bin_by':'b'}, sm_w=90, sm_h=90)"
   ]
  },
  {
   "cell_type": "code",
   "execution_count": null,
   "id": "7320865a",
   "metadata": {},
   "outputs": [],
   "source": [
    "df = pd.DataFrame({'x':[1,1,1], 'y':[1,1,1], 'b':['a','b','c'],'c':[20,10,5]})\n",
    "rt.xy(pl.DataFrame(df), x_field='x', y_field='y', sm_type='histogram', sm_params={'bin_by':'b'}, sm_w=90, sm_h=90)"
   ]
  },
  {
   "cell_type": "code",
   "execution_count": null,
   "id": "e4bdaf9f",
   "metadata": {},
   "outputs": [],
   "source": [
    "df = pd.DataFrame({'x':[1,1,1], 'x2':[1,2,3], 'y':[1,1,1], 'y2':[1,2,3], 'b':['a','b','c'],'c':[20,10,5]})\n",
    "rt.xy(df, x_field=['x','x2'], y_field=['y','y2'], sm_type='histogram', sm_params={'bin_by':'b'}, sm_w=50, sm_h=50, x_ins=30, y_ins=30)"
   ]
  },
  {
   "cell_type": "code",
   "execution_count": null,
   "id": "2975bd17",
   "metadata": {},
   "outputs": [],
   "source": [
    "df = pd.DataFrame({'x':[1,1,1], 'x2':[1,2,3], 'y':[1,1,1], 'y2':[1,2,3], 'b':['a','b','c'],'c':[20,10,5]})\n",
    "rt.xy(pl.DataFrame(df), x_field=['x','x2'], y_field=['y','y2'], sm_type='histogram', sm_params={'bin_by':'b'}, sm_w=50, sm_h=50, x_ins=30, y_ins=30)"
   ]
  },
  {
   "cell_type": "code",
   "execution_count": null,
   "id": "9c6fee32",
   "metadata": {},
   "outputs": [],
   "source": [
    "df = pd.DataFrame({'t':['2023','2024'], 'c':[10,20]})\n",
    "df = rt.columnsAreTimestamps(df, 't')\n",
    "rt.temporalBarChart(df, count_by='c', sm_type='histogram', sm_params={'bin_by':'c'})"
   ]
  },
  {
   "cell_type": "code",
   "execution_count": null,
   "id": "ad093b43",
   "metadata": {},
   "outputs": [],
   "source": [
    "df = pd.DataFrame({'t':['2023','2024'], 'c':[10,20]})\n",
    "df = rt.columnsAreTimestamps(df, 't')\n",
    "rt.temporalBarChart(pl.DataFrame(df), count_by='c', sm_type='histogram', sm_params={'bin_by':'c'})"
   ]
  },
  {
   "cell_type": "code",
   "execution_count": null,
   "id": "87b1e61c",
   "metadata": {},
   "outputs": [],
   "source": [
    "df  = pd.DataFrame({'fm':['a','a','b','b'],  'f': [ 1,  2,  1,  2],\n",
    "                    'to':['b','c','c','c'],  't': [ 1,  1,  2,  1]})\n",
    "pos = {'a|1': [2.0, 1.0], 'b|1': [2.0, 0.0], 'a|2': [0.0, 1.0],\n",
    "       'c|1': [0.0, 0.5], 'c|2': [0.0, 0.0], 'b|2': [1.0, 0.5]}\n",
    "rt.linkNode(df, [(('fm','f'),('to','t'))], pos, bounds_percent=0.4, color_by='fm', sm_type='histogram', sm_params={'bin_by':'fm'})"
   ]
  },
  {
   "cell_type": "code",
   "execution_count": null,
   "id": "193e9347",
   "metadata": {},
   "outputs": [],
   "source": [
    "df  = pd.DataFrame({'fm':['a','a','b','b'],  'f': [ 1,  2,  1,  2],\n",
    "                    'to':['b','c','c','c'],  't': [ 1,  1,  2,  1]})\n",
    "pos = {'a|1': [2.0, 1.0], 'b|1': [2.0, 0.0], 'a|2': [0.0, 1.0],\n",
    "       'c|1': [0.0, 0.5], 'c|2': [0.0, 0.0], 'b|2': [1.0, 0.5]}\n",
    "rt.linkNode(pl.DataFrame(df), [(('fm','f'),('to','t'))], pos, bounds_percent=0.4, color_by='fm', sm_type='histogram', sm_params={'bin_by':'fm'})"
   ]
  },
  {
   "cell_type": "code",
   "execution_count": null,
   "id": "64a2fe4c",
   "metadata": {},
   "outputs": [],
   "source": []
  }
 ],
 "metadata": {
  "kernelspec": {
   "display_name": "Python 3",
   "language": "python",
   "name": "python3"
  },
  "language_info": {
   "codemirror_mode": {
    "name": "ipython",
    "version": 3
   },
   "file_extension": ".py",
   "mimetype": "text/x-python",
   "name": "python",
   "nbconvert_exporter": "python",
   "pygments_lexer": "ipython3",
   "version": "3.11.6"
  },
  "vscode": {
   "interpreter": {
    "hash": "677ca678853aa41fc137f4b55f2bc0c694e45735c0d2faa667d2ec5acb71e67d"
   }
  }
 },
 "nbformat": 4,
 "nbformat_minor": 5
}
