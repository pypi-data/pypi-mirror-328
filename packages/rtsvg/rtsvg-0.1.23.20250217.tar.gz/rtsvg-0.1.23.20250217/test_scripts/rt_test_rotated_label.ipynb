{
 "cells": [
  {
   "cell_type": "code",
   "execution_count": null,
   "metadata": {},
   "outputs": [],
   "source": [
    "import sys\n",
    "sys.path.insert(1, '../rtsvg')\n",
    "\n",
    "from rtsvg import *\n",
    "\n",
    "rt = RACETrack()\n",
    "\n",
    "%matplotlib inline"
   ]
  },
  {
   "cell_type": "code",
   "execution_count": null,
   "metadata": {},
   "outputs": [],
   "source": [
    "from math import cos, sin, pi\n",
    "\n",
    "#\n",
    "# Calculate the angled position string top and bottom position\n",
    "#\n",
    "def calculateAngledLabelTopAndBottomPosition(x, y, bar_w, txt_h, angle):\n",
    "    frac_vert,frac_horz,bar_y = angle/90, (90-angle)/90, 0\n",
    "    as_rad = pi*(angle+90)/180.0 # more than just radian conversion...\n",
    "    horz_tpos  = (x+4,               y+4)       # top of string begin if the string were rendered horizontally\n",
    "    horz_bpos  = (x+4,               y+4+txt_h) # bottom of string begin if the string were rendered horizontally\n",
    "    vert_tpos  = (x+bar_w/2+txt_h/2, y+4)       # top of string begin if the string were rendered vertically\n",
    "    vert_bpos  = (x+bar_w/2-txt_h/2, y+4)       # bottom of string begin if the string were rendered vertically\n",
    "    angle_tpos = (vert_tpos[0]*frac_vert + horz_tpos[0]*frac_horz, vert_tpos[1]*frac_vert + horz_tpos[1]*frac_horz)\n",
    "    angle_bpos = (angle_tpos[0] + cos(as_rad)*txt_h,               angle_tpos[1] + sin(as_rad)*txt_h)\n",
    "    return angle_tpos,angle_bpos\n",
    "\n",
    "#\n",
    "# Does the specified angle cause the label to not overlap with the next label?\n",
    "# ... there's a close formed solution here... but it's beyond me :(\n",
    "# ... so many wasted cpu cycles... so many...\n",
    "#\n",
    "def doesAngleWorkForLabel(bar_w, txt_h, angle):\n",
    "    if angle < 0 or angle >= 90:\n",
    "        raise Exception(f'doesAngleWorkForLabel() - angle must be between [0,90) ... supplied angle = {angle}')\n",
    "\n",
    "    # Position of label 0 and then label 1\n",
    "    angle0_tpos,angle0_bpos = calculateAngledLabelTopAndBottomPosition(0,    0, bar_w, txt_h, angle)\n",
    "    angle1_tpos,angle1_bpos = calculateAngledLabelTopAndBottomPosition(bar_w,0, bar_w, txt_h, angle)\n",
    "\n",
    "    # Line from angle0_tpos in the direction of the angle...  is it underneath the angle1_bpos?\n",
    "    m = sin(pi*angle/180)\n",
    "    b = angle0_tpos[1] - m*angle0_tpos[0]\n",
    "    return (m*angle1_bpos[0] + b) > angle1_bpos[1]\n",
    "\n",
    "#\n",
    "# Example Rendering\n",
    "#\n",
    "def createSVGExample(bar_w, txt_h, w=800, h=200):\n",
    "\n",
    "    svg  = f'<svg width=\"{w}\" height=\"{h}\">'\n",
    "    svg += f'<rect x=\"0\" y=\"0\" width=\"{w}\" height=\"{h}\" fill=\"#404040\"/>'\n",
    "    s   = 'AbCdEfGhIjKlMnOpQrStUvWxYz'\n",
    "\n",
    "    for a in range(1,89):\n",
    "        if doesAngleWorkForLabel(bar_w, txt_h, a):\n",
    "            break\n",
    "\n",
    "    as_rad = pi*(a+90)/180.0\n",
    "\n",
    "    first_rendered, second_rendered = False, False\n",
    "    last_pos,       last_last_pos   = None,  None\n",
    "\n",
    "    bar_y = txt_h\n",
    "    for x in range(bar_w,w-bar_w,bar_w):\n",
    "        svg       += f'<line x1=\"{x+2}\" y1=\"{bar_y}\" x2=\"{x+bar_w-2}\" y2=\"{bar_y}\" stroke=\"#ffffff\" />'\n",
    "\n",
    "        horz_tpos = (x+4,               bar_y+4)       # top of string begin if the string were rendered horizontally\n",
    "        horz_bpos = (x+4,               bar_y+4+txt_h) # bottom of string begin if the string were rendered horizontally\n",
    "        vert_tpos = (x+bar_w/2+txt_h/2, bar_y+4)       # top of string begin if the string were rendered vertically\n",
    "        vert_bpos = (x+bar_w/2-txt_h/2, bar_y+4)       # bottom of string begin if the string were rendered vertically\n",
    "        \n",
    "        svg       += f'<circle cx=\"{horz_tpos[0]}\" cy=\"{horz_tpos[1]}\" r=\"1\" stroke=\"#ff0000\" />'\n",
    "        svg       += f'<circle cx=\"{vert_tpos[0]}\" cy=\"{vert_tpos[1]}\" r=\"1\" stroke=\"#ffffff\" />'\n",
    "        svg       += f'<circle cx=\"{horz_bpos[0]}\" cy=\"{horz_bpos[1]}\" r=\"1\" stroke=\"#ff0000\" />'\n",
    "        svg       += f'<circle cx=\"{vert_bpos[0]}\" cy=\"{vert_bpos[1]}\" r=\"1\" stroke=\"#ffffff\" />'\n",
    "\n",
    "        last_last_pos = last_pos\n",
    "        last_pos      = [horz_bpos,vert_bpos]\n",
    "\n",
    "        frac_vert,frac_horz = a/90, (90-a)/90\n",
    "        angle_tpos = (vert_tpos[0]*frac_vert + horz_tpos[0]*frac_horz, vert_tpos[1]*frac_vert + horz_tpos[1]*frac_horz)\n",
    "        angle_bpos = (angle_tpos[0] + cos(as_rad)*txt_h, angle_tpos[1] + sin(as_rad)*txt_h)\n",
    "\n",
    "        svg       += f'<circle cx=\"{angle_tpos[0]}\" cy=\"{angle_tpos[1]}\" r=\"1\" stroke=\"#00ff00\" />'\n",
    "        svg       += f'<circle cx=\"{angle_bpos[0]}\" cy=\"{angle_bpos[1]}\" r=\"1\" stroke=\"#00ff00\" />'\n",
    "\n",
    "        if   first_rendered  == False:\n",
    "            svg += rt.svgText(s, angle_bpos[0], angle_bpos[1], txt_h, color=\"#E0E0E0\", rotation=a)\n",
    "            first_rendered = True\n",
    "        elif second_rendered == False:\n",
    "            svg += rt.svgText(s, angle_bpos[0], angle_bpos[1], txt_h, color=\"#E0E0E0\", rotation=a)\n",
    "            second_rendered = True\n",
    "\n",
    "    svg += rt.svgText(s, last_pos[0][0],      last_pos[0][1],      txt_h, color=\"#E0E0E0\")\n",
    "    svg += rt.svgText(s, last_last_pos[1][0], last_last_pos[1][1], txt_h, color=\"#E0E0E0\", rotation=90)\n",
    "\n",
    "    return svg + '</svg>'\n"
   ]
  },
  {
   "cell_type": "code",
   "execution_count": null,
   "metadata": {},
   "outputs": [],
   "source": [
    "\n",
    "rt.displaySVG(createSVGExample(32,24))"
   ]
  },
  {
   "cell_type": "code",
   "execution_count": null,
   "metadata": {},
   "outputs": [],
   "source": [
    "rt.displaySVG(createSVGExample(64,24))"
   ]
  },
  {
   "cell_type": "code",
   "execution_count": null,
   "metadata": {},
   "outputs": [],
   "source": [
    "rt.displaySVG(createSVGExample(32,12))"
   ]
  },
  {
   "cell_type": "code",
   "execution_count": null,
   "metadata": {},
   "outputs": [],
   "source": [
    "rt.displaySVG(createSVGExample(16,12))"
   ]
  },
  {
   "cell_type": "code",
   "execution_count": null,
   "metadata": {},
   "outputs": [],
   "source": []
  }
 ],
 "metadata": {
  "kernelspec": {
   "display_name": "Python 3",
   "language": "python",
   "name": "python3"
  },
  "language_info": {
   "codemirror_mode": {
    "name": "ipython",
    "version": 3
   },
   "file_extension": ".py",
   "mimetype": "text/x-python",
   "name": "python",
   "nbconvert_exporter": "python",
   "pygments_lexer": "ipython3",
   "version": "3.11.1"
  },
  "orig_nbformat": 4,
  "vscode": {
   "interpreter": {
    "hash": "677ca678853aa41fc137f4b55f2bc0c694e45735c0d2faa667d2ec5acb71e67d"
   }
  }
 },
 "nbformat": 4,
 "nbformat_minor": 2
}
