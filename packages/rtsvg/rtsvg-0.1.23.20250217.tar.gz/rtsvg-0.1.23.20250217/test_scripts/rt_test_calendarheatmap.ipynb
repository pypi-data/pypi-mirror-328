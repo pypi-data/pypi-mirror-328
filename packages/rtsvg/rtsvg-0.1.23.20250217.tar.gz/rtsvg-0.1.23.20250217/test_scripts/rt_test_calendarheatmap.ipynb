{
 "cells": [
  {
   "cell_type": "code",
   "execution_count": null,
   "metadata": {},
   "outputs": [],
   "source": [
    "import pandas as pd\n",
    "import polars as pl\n",
    "import numpy as np\n",
    "import networkx as nx\n",
    "import random\n",
    "import sys\n",
    "sys.path.insert(1, '../rtsvg')\n",
    "from rtsvg import *\n",
    "rt = RACETrack()"
   ]
  },
  {
   "cell_type": "code",
   "execution_count": null,
   "metadata": {},
   "outputs": [],
   "source": [
    "spacer = '<svg x=\"0\" y=\"0\" width=\"20\" height=\"60\"> <rect x=\"0\" y=\"0\" width=\"20\" height=\"60\" fill=\"#000000\"/> </svg>'"
   ]
  },
  {
   "cell_type": "code",
   "execution_count": null,
   "metadata": {},
   "outputs": [],
   "source": [
    "timestamps = []\n",
    "counts     = []\n",
    "cats       = []\n",
    "d_range = pd.date_range('2020-01-01','2024-12-31',freq='D')\n",
    "i,i_inc = 20,1\n",
    "for _date in d_range:\n",
    "    if random.random() < 0.95:\n",
    "        timestamps.append(_date)\n",
    "        counts.    append(i)\n",
    "        cats.      append(random.randint(0,2))\n",
    "    i += i_inc\n",
    "    if i > 100:\n",
    "        i_inc = -1\n",
    "    if i < 20:\n",
    "        i_inc =  1\n",
    "df = pd.DataFrame({'timestamp':timestamps, 'count':counts, 'category':cats})\n",
    "df_pl = pl.DataFrame(df)\n",
    "params = {'count_by':'count'}\n",
    "rt.tile([rt.calendarHeatmap(df,**params), spacer, rt.calendarHeatmap(df_pl,**params)])"
   ]
  },
  {
   "cell_type": "code",
   "execution_count": null,
   "metadata": {},
   "outputs": [],
   "source": [
    "params = {'count_by':'count', 'cell_framing':False}\n",
    "rt.tile([rt.calendarHeatmap(df,**params), spacer, rt.calendarHeatmap(df_pl,**params)])"
   ]
  },
  {
   "cell_type": "code",
   "execution_count": null,
   "metadata": {},
   "outputs": [],
   "source": [
    "params = {'count_by':'count','w':10,'h':10}\n",
    "rt.tile([rt.calendarHeatmap(df,**params), spacer, rt.calendarHeatmap(df_pl,**params)])"
   ]
  },
  {
   "cell_type": "code",
   "execution_count": null,
   "metadata": {},
   "outputs": [],
   "source": [
    "params = {'count_by':'count','cell_framing':False,'w':200,'h':500}\n",
    "rt.tile([rt.calendarHeatmap(df,**params), spacer, rt.calendarHeatmap(df_pl,**params)])"
   ]
  },
  {
   "cell_type": "code",
   "execution_count": null,
   "metadata": {},
   "outputs": [],
   "source": [
    "params = {'count_by':'count','color_magnitude':'log','cell_framing':False,'w':200,'h':500}\n",
    "rt.tile([rt.calendarHeatmap(df,**params),spacer,rt.calendarHeatmap(df_pl,**params)])"
   ]
  },
  {
   "cell_type": "code",
   "execution_count": null,
   "metadata": {},
   "outputs": [],
   "source": [
    "timestamps = []\n",
    "counts     = []\n",
    "d_range = pd.date_range('2010-01-01','2024-12-31',freq='D')\n",
    "i,i_inc = 20,1\n",
    "for _date in d_range:\n",
    "    if random.random() < 0.95:\n",
    "        timestamps.append(_date)\n",
    "        counts.    append(i)\n",
    "    i += i_inc\n",
    "    if i > 200:\n",
    "        i_inc = -1\n",
    "    if i < 20:\n",
    "        i_inc =  1\n",
    "df2 = pd.DataFrame({'timestamp':timestamps, 'count':counts})\n",
    "params = {'count_by':'count','w':10,'h':10}\n",
    "rt.tile([rt.calendarHeatmap(df2,**params), spacer, rt.calendarHeatmap(pl.DataFrame(df2), **params)])"
   ]
  },
  {
   "cell_type": "code",
   "execution_count": null,
   "metadata": {},
   "outputs": [],
   "source": [
    "rt.displaySVG(rt.calendarHeatmap(df2,count_by='count',h_gap=10,month_gap=2,w=1024,h=640))"
   ]
  },
  {
   "cell_type": "code",
   "execution_count": null,
   "metadata": {},
   "outputs": [],
   "source": [
    "params = {'category_by':'category', 'count_by':'count', 'sm_type':'calendarHeatmap'}\n",
    "rt.tile([rt.smallMultiples(df, **params), spacer, rt.smallMultiples(pl.DataFrame(df), **params)])"
   ]
  },
  {
   "cell_type": "code",
   "execution_count": null,
   "metadata": {},
   "outputs": [],
   "source": [
    "timestamps = []\n",
    "counts     = []\n",
    "cats       = []\n",
    "d_range = pd.date_range('2020-01-01','2020-12-31',freq='D')\n",
    "i,i_inc = 20,1\n",
    "for _date in d_range:\n",
    "    if random.random() < 0.95:\n",
    "        timestamps.append(_date)\n",
    "        counts.    append(i)\n",
    "        cats.      append(random.randint(0,50))\n",
    "    i += i_inc\n",
    "    if i > 200:\n",
    "        i_inc = -2\n",
    "    if i < 20:\n",
    "        i_inc =  1\n",
    "df = pd.DataFrame({'timestamp':timestamps, 'count':counts, 'category':cats})\n",
    "params = {'category_by':'category', 'count_by':'count', 'sm_type':'calendarHeatmap'}\n",
    "rt.tile([rt.smallMultiples(df, **params), rt.smallMultiples(pl.DataFrame(df), **params)])"
   ]
  },
  {
   "cell_type": "code",
   "execution_count": null,
   "metadata": {},
   "outputs": [],
   "source": [
    "df_nf        = pd.read_csv(\"../../netflow_sample.csv\")\n",
    "df_nf['beg'] = df_nf['beg'].astype('datetime64[ns]')\n",
    "df_nf        = df_nf.rename({'beg':'timestamp'},axis=1)"
   ]
  },
  {
   "cell_type": "code",
   "execution_count": null,
   "metadata": {},
   "outputs": [],
   "source": [
    "rt.tile([rt.calendarHeatmap(df_nf,count_by='sip'), spacer, rt.calendarHeatmap(pl.DataFrame(df_nf),count_by='sip')])"
   ]
  },
  {
   "cell_type": "code",
   "execution_count": null,
   "metadata": {},
   "outputs": [],
   "source": [
    "params = {'color_by':'dpt', 'month_stroke_width':2.0, 'draw_day_labels':True,\n",
    "          'sm_type':'xy', 'sm_params':{'x_field':'timestamp','y_field':['sip','dip'],'dot_size':'small'}}\n",
    "rt.tile([rt.calendarHeatmap(df_nf,**params), spacer, rt.calendarHeatmap(pl.DataFrame(df_nf),**params)])"
   ]
  },
  {
   "cell_type": "code",
   "execution_count": null,
   "metadata": {},
   "outputs": [],
   "source": [
    "params = {'color_by':'dpt', 'sm_type':'pieChart'}\n",
    "rt.tile([rt.calendarHeatmap(df_nf, **params), spacer, rt.calendarHeatmap(pl.DataFrame(df_nf), **params)])"
   ]
  },
  {
   "cell_type": "code",
   "execution_count": null,
   "metadata": {},
   "outputs": [],
   "source": [
    "_filtered_ = df_nf[df_nf['dpt'] == 53]\n",
    "params = {'sm_type':'periodicBarChart','sm_params':{'time_period':'hour'}}\n",
    "rt.tile([rt.calendarHeatmap(_filtered_, **params), spacer, rt.calendarHeatmap(pl.DataFrame(_filtered_), **params)])"
   ]
  },
  {
   "cell_type": "code",
   "execution_count": null,
   "metadata": {},
   "outputs": [],
   "source": [
    "df_nf_small = df_nf.sample(10000)\n",
    "relates = [('sip','dip')]\n",
    "nx_g = rt.createNetworkXGraph(df_nf_small, relates)\n",
    "pos = nx.spring_layout(nx_g)\n",
    "rt.displaySVG(rt.linkNode(df_nf_small, relates, pos, draw_labels=False, node_size=None, link_arrow_length=3))"
   ]
  },
  {
   "cell_type": "code",
   "execution_count": null,
   "metadata": {},
   "outputs": [],
   "source": [
    "params = {'month_stroke_width':3, 'draw_day_labels':True, 'sm_type':'linkNode',\n",
    "          'sm_params':{'relationships':relates,'pos':pos,'node_size':'hidden','draw_labels':False, 'link_arrow_length':2}, 'sm_w':128,'sm_h':128}\n",
    "rt.tile([rt.calendarHeatmap(df_nf_small, **params), spacer, rt.calendarHeatmap(pl.DataFrame(df_nf_small), **params)])"
   ]
  },
  {
   "cell_type": "code",
   "execution_count": null,
   "metadata": {},
   "outputs": [],
   "source": []
  }
 ],
 "metadata": {
  "kernelspec": {
   "display_name": "Python 3",
   "language": "python",
   "name": "python3"
  },
  "language_info": {
   "codemirror_mode": {
    "name": "ipython",
    "version": 3
   },
   "file_extension": ".py",
   "mimetype": "text/x-python",
   "name": "python",
   "nbconvert_exporter": "python",
   "pygments_lexer": "ipython3",
   "version": "3.11.6"
  },
  "orig_nbformat": 4,
  "vscode": {
   "interpreter": {
    "hash": "677ca678853aa41fc137f4b55f2bc0c694e45735c0d2faa667d2ec5acb71e67d"
   }
  }
 },
 "nbformat": 4,
 "nbformat_minor": 2
}
