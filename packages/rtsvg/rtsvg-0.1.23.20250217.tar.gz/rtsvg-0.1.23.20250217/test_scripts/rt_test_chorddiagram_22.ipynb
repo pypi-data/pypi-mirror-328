{
 "cells": [
  {
   "cell_type": "code",
   "execution_count": null,
   "metadata": {},
   "outputs": [],
   "source": [
    "import pandas as pd\n",
    "import polars as pl\n",
    "import numpy as np\n",
    "import networkx as nx\n",
    "import rtsvg\n",
    "rt = rtsvg.RACETrack()\n",
    "_base_ = '../../data/2013_vast_challenge/mc3_netflow/nf/'\n",
    "df_orig = pl.concat([pl.read_csv(_base_ + 'nf-chunk1.csv'), pl.read_csv(_base_ + 'nf-chunk2.csv'), pl.read_csv(_base_ + 'nf-chunk3.csv')])\n",
    "# df_orig = pl.concat([pl.read_csv(_base_ + 'nf-chunk2.csv')])\n",
    "df_orig = df_orig.rename({'TimeSeconds':'secs',                  'parsedDate':'timestamp',                'dateTimeStr':'timestamp_str',\n",
    "                          'ipLayerProtocol':'pro_str',           'ipLayerProtocolCode':'pro',             'firstSeenSrcIp':'sip',\n",
    "                          'firstSeenDestIp':'dip',               'firstSeenSrcPort':'spt',                'firstSeenDestPort':'dpt',\n",
    "                          'moreFragments':'mfrag',               'contFragments':'cfrag',                 'durationSeconds':'dur',\n",
    "                          'firstSeenSrcPayloadBytes':'soct_pay', 'firstSeenDestPayloadBytes':'doct_pay',  'firstSeenSrcTotalBytes':'soct',\n",
    "                          'firstSeenDestTotalBytes':'doct',      'firstSeenSrcPacketCount':'spkt',        'firstSeenDestPacketCount':'dpkt',\n",
    "                          'recordForceOut':'out'})\n",
    "df_orig = rt.columnsAreTimestamps(df_orig, 'timestamp')"
   ]
  },
  {
   "cell_type": "code",
   "execution_count": 2,
   "metadata": {},
   "outputs": [],
   "source": [
    "g             = rt.createNetworkXGraph(df_orig, [('sip','dip')])\n",
    "_communities_ = nx.community.louvain_communities(g)"
   ]
  },
  {
   "cell_type": "code",
   "execution_count": null,
   "metadata": {},
   "outputs": [],
   "source": [
    "_dfs_  = []\n",
    "_svgs_ = []\n",
    "for _community_ in _communities_:\n",
    "    _df_ = df_orig.filter(pl.col('sip').is_in(_community_) & pl.col('dip').is_in(_community_))\n",
    "    _cd_ = rt.chordDiagram(_df_, [('sip','dip')], link_style='bundled', color_by=rt.createTField('sip', 'ipv4_cidr_16'), link_color='vary', link_opacity=0.2, beta=0.75,\n",
    "                           skeleton_algorithm='kmeans', track_routes=True, w=512, h=512, equal_size_nodes=True)\n",
    "    _svgs_.append(_cd_), _dfs_.append(_df_)\n",
    "rt.table(_svgs_, per_row=3)"
   ]
  },
  {
   "cell_type": "code",
   "execution_count": null,
   "metadata": {},
   "outputs": [],
   "source": [
    "rt.chordDiagram(_dfs_[2], [('sip','dip')], link_style='bundled', skeleton_algorithm='kmeans', equal_size_nodes=True)"
   ]
  },
  {
   "cell_type": "code",
   "execution_count": null,
   "metadata": {},
   "outputs": [],
   "source": [
    "_cd_ = rt.chordDiagram(df_orig, [('sip','dip')], \n",
    "                       link_style='bundled', color_by=rt.createTField('sip', 'ipv4_cidr_16'), link_color='vary', link_opacity=0.2, beta=0.85,\n",
    "                       skeleton_algorithm='kmeans', track_routes=True, w=768, h=768, equal_size_nodes=True)\n",
    "_cd_"
   ]
  },
  {
   "cell_type": "code",
   "execution_count": null,
   "metadata": {},
   "outputs": [],
   "source": [
    "df_route_histogram_lu = {'segment':[], 'count':[], 'sip':[], 'dip':[]}\n",
    "pos_routes            = {}\n",
    "for _segment_ in _cd_.track_routes_segments:\n",
    "    _count_ = _cd_.track_routes_segments[_segment_]\n",
    "    df_route_histogram_lu['segment'].append(str(_segment_))\n",
    "    df_route_histogram_lu['sip']    .append(str(_segment_[0]))\n",
    "    pos_routes[str(_segment_[0])] = _segment_[0]\n",
    "    pos_routes[str(_segment_[1])] = _segment_[1]\n",
    "    df_route_histogram_lu['dip']    .append(str(_segment_[1]))\n",
    "    df_route_histogram_lu['count']  .append(_count_)\n",
    "df_route_histogram = pd.DataFrame(df_route_histogram_lu)\n",
    "#rt.histogram(df_route_histogram, bin_by='segment', count_by='count', w=800, h=15000)\n",
    "_link_ = rt.linkNode(df_route_histogram, [('sip','dip')], pos=pos_routes, link_arrow=False, link_shape='curve', count_by='count', \n",
    "                     link_size='vary', link_size_max=16.0, link_size_min=1.0, w=600, h=600)\n",
    "rt.tile([_link_, _cd_.skeleton_svg])"
   ]
  },
  {
   "cell_type": "code",
   "execution_count": null,
   "metadata": {},
   "outputs": [],
   "source": []
  }
 ],
 "metadata": {
  "kernelspec": {
   "display_name": ".venv",
   "language": "python",
   "name": "python3"
  },
  "language_info": {
   "codemirror_mode": {
    "name": "ipython",
    "version": 3
   },
   "file_extension": ".py",
   "mimetype": "text/x-python",
   "name": "python",
   "nbconvert_exporter": "python",
   "pygments_lexer": "ipython3",
   "version": "3.12.3"
  }
 },
 "nbformat": 4,
 "nbformat_minor": 2
}
