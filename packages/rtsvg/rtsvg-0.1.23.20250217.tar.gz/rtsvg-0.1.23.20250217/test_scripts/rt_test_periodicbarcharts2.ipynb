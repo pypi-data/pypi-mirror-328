{
 "cells": [
  {
   "cell_type": "code",
   "execution_count": null,
   "id": "cc5ec30b-60e9-4ac2-ae42-ca1281cc777f",
   "metadata": {},
   "outputs": [],
   "source": [
    "import pandas as pd\n",
    "\n",
    "import sys\n",
    "sys.path.insert(1, '../rtsvg')\n",
    "\n",
    "from rtsvg import *\n",
    "import json\n",
    "from IPython.display import Javascript, HTML, display\n",
    "%matplotlib inline"
   ]
  },
  {
   "cell_type": "code",
   "execution_count": null,
   "id": "87ad7aa2-8a86-4f06-8370-b91819774bec",
   "metadata": {},
   "outputs": [],
   "source": [
    "rt = RACETrack()"
   ]
  },
  {
   "cell_type": "code",
   "execution_count": null,
   "id": "5ad8169f",
   "metadata": {},
   "outputs": [],
   "source": [
    "# Double check ordering/day-to-integer is correct per labeling\n",
    "df = pd.DataFrame({\n",
    "    #            Sunday        Monday        Tuesday       Wednesday     Thursday      Friday        Saturday\n",
    "    'timestamp':['2023-01-08', '2023-01-09', '2023-01-10', '2023-01-11', '2023-01-12', '2023-01-13', '2023-01-14'],\n",
    "    'count':    [50,           10,            10,          20,           10,           10,           4]\n",
    "})\n",
    "df['timestamp'] = df['timestamp'].astype(np.datetime64)\n",
    "\n",
    "rt.displaySVG(rt.periodicBarChartInstance(df=df,time_period='day_of_week',ts_field='timestamp',count_by='count').renderSVG())"
   ]
  },
  {
   "cell_type": "code",
   "execution_count": null,
   "id": "b268fd11-b41f-4e68-9de8-da5875f8f836",
   "metadata": {},
   "outputs": [],
   "source": [
    "df        = pd.read_csv(\"../../../../data/netflow/netflow_sample.csv\")\n",
    "df['beg'] = df['beg'].astype(np.datetime64)\n",
    "df        = df.rename({'beg':'timestamp'},axis=1)\n",
    "df.shape"
   ]
  },
  {
   "cell_type": "code",
   "execution_count": null,
   "id": "4cd8e3bc-df5d-4dd9-94e6-d6cb57864399",
   "metadata": {},
   "outputs": [],
   "source": [
    "my_ts_field = 'timestamp'"
   ]
  },
  {
   "cell_type": "code",
   "execution_count": null,
   "id": "2782edcb-8f9b-48fc-9756-b060090daae7",
   "metadata": {},
   "outputs": [],
   "source": [
    "rt.displaySVG(rt.periodicBarChartInstance(df=df,time_period='quarter',ts_field=my_ts_field).renderSVG())"
   ]
  },
  {
   "cell_type": "code",
   "execution_count": null,
   "id": "b9b07520-ad81-4a48-b66f-53f5a0b842aa",
   "metadata": {},
   "outputs": [],
   "source": [
    "rt.displaySVG(rt.periodicBarChartInstance(df=df,time_period='month',ts_field=my_ts_field).renderSVG())"
   ]
  },
  {
   "cell_type": "code",
   "execution_count": null,
   "id": "bbc52c5f-674a-43c1-99f3-4a95c5b55ea4",
   "metadata": {},
   "outputs": [],
   "source": [
    "rt.displaySVG(rt.periodicBarChartInstance(df=df,time_period='day_of_month',ts_field=my_ts_field).renderSVG())"
   ]
  },
  {
   "cell_type": "code",
   "execution_count": null,
   "id": "966c87a5-b781-4167-a19e-ee03b7e48c92",
   "metadata": {},
   "outputs": [],
   "source": [
    "rt.displaySVG(rt.periodicBarChartInstance(df=df,time_period='day_of_week',ts_field=my_ts_field).renderSVG())"
   ]
  },
  {
   "cell_type": "code",
   "execution_count": null,
   "id": "f115aed6",
   "metadata": {},
   "outputs": [],
   "source": [
    "rt.displaySVG(rt.periodicBarChartInstance(df=df,time_period='day_of_week',ts_field=my_ts_field,\n",
    "                                          color_by='dpt',\n",
    "                                          sm_type='xy',\n",
    "                                          sm_params={'x_field':'timestamp','y_field':['sip','dip'],'dot_size':'small'},\n",
    "                                          w=512,h=256).renderSVG())"
   ]
  },
  {
   "cell_type": "code",
   "execution_count": null,
   "id": "45ba80bc-e832-429b-b1a9-6c50efe8a233",
   "metadata": {},
   "outputs": [],
   "source": [
    "rt.displaySVG(rt.periodicBarChartInstance(df=df,time_period='day_of_week_hour',ts_field=my_ts_field,color_by=rt.createTField(my_ts_field,'day_of_week')).renderSVG())"
   ]
  },
  {
   "cell_type": "code",
   "execution_count": null,
   "id": "f9bbec44-bc53-43d2-b1e0-e0f3e31a116b",
   "metadata": {},
   "outputs": [],
   "source": [
    "rt.displaySVG(rt.periodicBarChartInstance(df=df, time_period='hour', ts_field=my_ts_field, color_by='dpt',\n",
    "                                          sm_type='pieChart').renderSVG())"
   ]
  },
  {
   "cell_type": "code",
   "execution_count": null,
   "id": "60c52677",
   "metadata": {},
   "outputs": [],
   "source": [
    "rt.displaySVG(rt.periodicBarChartInstance(df=df,time_period='hour',ts_field=my_ts_field).renderSVG())"
   ]
  },
  {
   "cell_type": "code",
   "execution_count": null,
   "id": "61b02c90-e18b-433f-a295-91596739b08b",
   "metadata": {},
   "outputs": [],
   "source": [
    "rt.displaySVG(rt.periodicBarChartInstance(df=df,time_period='minute',ts_field=my_ts_field).renderSVG())"
   ]
  },
  {
   "cell_type": "code",
   "execution_count": null,
   "id": "6a3ad674-1848-4eec-a1c5-15806e659a8f",
   "metadata": {},
   "outputs": [],
   "source": [
    "rt.displaySVG(rt.periodicBarChartInstance(df=df,time_period='second',ts_field=my_ts_field).renderSVG())"
   ]
  },
  {
   "cell_type": "code",
   "execution_count": null,
   "id": "6bcfab2c-db3f-4fb6-8cda-f0f43a29b98f",
   "metadata": {},
   "outputs": [],
   "source": [
    "display(HTML(rt.multiPeriodicBarCharts(df=df,time_period='hour',\n",
    "                                       count_bys=[None,'DBYT','SBYT','dip'],\n",
    "                                       color_bys=[None,rt.createTField(my_ts_field, 'day_of_week'),'dpt'],\n",
    "                                       ts_field=my_ts_field)))"
   ]
  },
  {
   "cell_type": "code",
   "execution_count": null,
   "id": "c337ca05-a203-4998-b12c-35a0caf73c74",
   "metadata": {},
   "outputs": [],
   "source": [
    "spec = {\n",
    "    '1|-1':('periodicBarChart',{'time_period':'quarter'}),\n",
    "    '1|-2':('periodicBarChart',{'time_period':'month'}),\n",
    "    '2|-1':('periodicBarChart',{'time_period':'day_of_month'}),\n",
    "    '1|-3':('periodicBarChart',{'time_period':'day_of_week'}),\n",
    "    '5':('periodicBarChart',{'time_period':'day_of_week_hour'}),\n",
    "    '2|-2':('periodicBarChart',{'time_period':'hour'}),\n",
    "    '3':('periodicBarChart',{'time_period':'minute'}),\n",
    "    '4':('periodicBarChart',{'time_period':'second'})\n",
    "}\n",
    "\n",
    "my_svg = rt.multiWidgetPanel(df, spec, w=768, h=512, count_by=None, color_by=rt.createTField('timestamp','hour'),ts_field='timestamp')\n",
    "display(HTML(my_svg))"
   ]
  },
  {
   "cell_type": "code",
   "execution_count": null,
   "id": "40b94dae-e82a-4d63-a0d5-4955973d7b3e",
   "metadata": {},
   "outputs": [],
   "source": [
    "spec = {\n",
    "    'n|-1':('periodicBarChart',{'time_period':'quarter'}),\n",
    "    'n|-2':('periodicBarChart',{'time_period':'month'}),\n",
    "    'n|-3':('periodicBarChart',{'time_period':'hour'}),\n",
    "    'n|-4':('periodicBarChart',{'time_period':'day_of_week'}),\n",
    "    'c|1,1':('periodicBarChart',{'time_period':'day_of_week_hour', 'min_bar_w':1}),\n",
    "    'c|1,2':('temporalBarChart',{}),\n",
    "    's|-1':('periodicBarChart',{'time_period':'second'}),\n",
    "    's|-2':('periodicBarChart',{'time_period':'day_of_month'}),\n",
    "    's|-3':('periodicBarChart',{'time_period':'minute'}),\n",
    "}\n",
    "my_svg = rt.multiWidgetPanel(df, spec, w=1024, h=768, count_by=None, color_by=rt.createTField('timestamp','minute'),ts_field='timestamp')\n",
    "display(HTML(my_svg))"
   ]
  },
  {
   "cell_type": "code",
   "execution_count": null,
   "id": "2831c54e-c79e-4589-afba-580c894faa8e",
   "metadata": {},
   "outputs": [],
   "source": []
  }
 ],
 "metadata": {
  "kernelspec": {
   "display_name": "Python 3",
   "language": "python",
   "name": "python3"
  },
  "language_info": {
   "codemirror_mode": {
    "name": "ipython",
    "version": 3
   },
   "file_extension": ".py",
   "mimetype": "text/x-python",
   "name": "python",
   "nbconvert_exporter": "python",
   "pygments_lexer": "ipython3",
   "version": "3.11.1"
  },
  "vscode": {
   "interpreter": {
    "hash": "677ca678853aa41fc137f4b55f2bc0c694e45735c0d2faa667d2ec5acb71e67d"
   }
  }
 },
 "nbformat": 4,
 "nbformat_minor": 5
}
