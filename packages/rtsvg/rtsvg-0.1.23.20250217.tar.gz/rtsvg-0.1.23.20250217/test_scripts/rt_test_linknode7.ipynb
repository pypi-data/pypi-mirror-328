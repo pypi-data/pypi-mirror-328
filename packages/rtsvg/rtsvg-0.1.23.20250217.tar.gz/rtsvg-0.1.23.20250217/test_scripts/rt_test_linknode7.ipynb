{
 "cells": [
  {
   "cell_type": "code",
   "execution_count": null,
   "metadata": {},
   "outputs": [],
   "source": [
    "import pandas   as pd\n",
    "import polars   as pl\n",
    "import numpy    as np\n",
    "import networkx as nx\n",
    "from math import cos, sin, pi\n",
    "import sys\n",
    "sys.path.insert(1, '../rtsvg')\n",
    "from rtsvg import *\n",
    "rt = RACETrack()"
   ]
  },
  {
   "cell_type": "code",
   "execution_count": null,
   "metadata": {},
   "outputs": [],
   "source": [
    "df        = pd.read_csv(\"../../netflow_sample.csv\")\n",
    "df        = rt.columnsAreTimestamps(df, 'beg')\n",
    "df0       = df.query('sip == \"192.168.1.1\" or dip == \"192.168.1.1\"')\n",
    "_set_     = (set(df0['sip']) | (set(df0['sip']))) - set(['192.168.1.1'])\n",
    "_list_    = list(_set_)\n",
    "pos       = {}\n",
    "pos['192.168.1.1'] = [0,0]\n",
    "for i in range(len(_list_)):\n",
    "    _rads_ = 2 * pi * i / len(_list_)\n",
    "    pos[_list_[i]] = [cos(_rads_), sin(_rads_)]"
   ]
  },
  {
   "cell_type": "code",
   "execution_count": null,
   "metadata": {},
   "outputs": [],
   "source": [
    "relates = [('sip','dip')]\n",
    "rt.linkNode(df0, relates, pos, color_by='dpt',\n",
    "            sm_type='xy', sm_params={'x_field':'beg', 'y_field':'dpt', 'dot_size':'small'}, \n",
    "            sm_w=160, sm_h=32,\n",
    "            link_shape='curve',\n",
    "            w=768, h=768, x_ins=64, y_ins=64)"
   ]
  },
  {
   "cell_type": "code",
   "execution_count": null,
   "metadata": {},
   "outputs": [],
   "source": [
    "relates = [('sip','dip')]\n",
    "rt.linkNode(df0, relates, pos, color_by='dpt',\n",
    "            sm_type='xy', sm_params={'x_field':'beg', 'y_field':'dpt', 'dot_size':'small'}, \n",
    "            sm_w=160, sm_h=32,\n",
    "            link_shape='curve',\n",
    "            w=768, h=768, x_ins=64, y_ins=64)"
   ]
  },
  {
   "cell_type": "code",
   "execution_count": null,
   "metadata": {},
   "outputs": [],
   "source": [
    "relates = [('sip','dip')]\n",
    "rt.linkNode(pl.DataFrame(df0), relates, pos, color_by='dpt',\n",
    "            sm_type='pieChart', \n",
    "            # sm_type='xy', sm_params={'x_field':'beg', 'y_field':'dpt', 'dot_size':'small'}, \n",
    "            sm_w=64, sm_h=32, sm_mode='link', sm_t=0.1,\n",
    "            link_shape='curve',\n",
    "            w=768, h=768, x_ins=64, y_ins=64)"
   ]
  },
  {
   "cell_type": "code",
   "execution_count": null,
   "metadata": {},
   "outputs": [],
   "source": [
    "relates = [('sip','dip')]\n",
    "rt.linkNode(df0, relates, pos, color_by='dpt',\n",
    "            sm_type='pieChart', \n",
    "            # sm_type='xy', sm_params={'x_field':'beg', 'y_field':'dpt', 'dot_size':'small'}, \n",
    "            sm_w=64, sm_h=32, sm_mode='link', sm_t=0.1,\n",
    "            link_shape='curve',\n",
    "            w=768, h=768, x_ins=64, y_ins=64)"
   ]
  },
  {
   "cell_type": "code",
   "execution_count": null,
   "metadata": {},
   "outputs": [],
   "source": [
    "relates = [('sip','dip')]\n",
    "rt.linkNode(df0, relates, pos, color_by='dpt',\n",
    "            # sm_type='pieChart', \n",
    "            sm_type='xy', sm_params={'x_field':'beg', 'y_field':'dpt', 'dot_size':'small'}, \n",
    "            sm_w=64, sm_h=32, sm_mode='link', sm_t=0.3,\n",
    "            link_shape='curve',\n",
    "            w=768, h=768, x_ins=64, y_ins=64)"
   ]
  },
  {
   "cell_type": "code",
   "execution_count": null,
   "metadata": {},
   "outputs": [],
   "source": [
    "df0 = df0.sample(40000)\n",
    "rt.linkNode(df0, relates, pos, color_by='dpt',\n",
    "            timing_marks=True, ts_field='beg',\n",
    "            link_shape='curve',\n",
    "            w=768, h=768, x_ins=64, y_ins=64)"
   ]
  },
  {
   "cell_type": "code",
   "execution_count": null,
   "metadata": {},
   "outputs": [],
   "source": [
    "rt.linkNode(df0, relates, pos, color_by='dpt',\n",
    "            timing_marks=True, ts_field='beg',\n",
    "            link_shape='line',\n",
    "            w=768, h=768, x_ins=64, y_ins=64)"
   ]
  },
  {
   "cell_type": "code",
   "execution_count": null,
   "metadata": {},
   "outputs": [],
   "source": [
    "_fms_ = ['a',    'a',    'a',    'a',    'a',    'a',    'a',    'a',    'b',    'b',    'b',    'b',    'b',    'b']\n",
    "_tos_ = ['b',    'b',    'b',    'b',    'b',    'b',    'b',    'b',    'a',    'a',    'a',    'a',    'a',    'a']\n",
    "_dts_ = ['2000', '2002', '2003', '2004', '2005', '2010', '2015', '2020', '2010', '2011', '2012', '2013', '2014', '2015']\n",
    "_df_  = pd.DataFrame({'fm':_fms_, 'to':_tos_, 'ts':_dts_})\n",
    "_df_['ts'] = _df_['ts'].astype('datetime64[ms]')\n",
    "\n",
    "_svgs_ = []\n",
    "_svgs_.append(rt.linkNode(_df_, [('fm','to')], {'a':[0,0],'b':[1,1]},\n",
    "                          timing_marks=True, ts_field='ts',link_shape='line',\n",
    "                          w=256, h=256, x_ins=16, y_ins=16))\n",
    "_svgs_.append(rt.linkNode(_df_, [('fm','to')], {'a':[0,0],'b':[1,1]},\n",
    "                          timing_marks=True, ts_field='ts',link_shape='curve',\n",
    "                          w=256, h=256, x_ins=16, y_ins=16))\n",
    "_svgs_.append(rt.linkNode(_df_, [('fm','to')], {'a':[0,0],'b':[1,1]},\n",
    "                          timing_marks=True, ts_field='ts',link_shape='curve', node_size=None, link_arrow_length=10,\n",
    "                          w=256, h=256, x_ins=16, y_ins=16))\n",
    "rt.tile(_svgs_)"
   ]
  },
  {
   "cell_type": "code",
   "execution_count": null,
   "metadata": {},
   "outputs": [],
   "source": [
    "_fms_ = ['c',    'c',    'c',    'c',    'c',    'c',    'c',    'c',    'c',    'b',    'b',    'b',    'b',    'b',    'b']\n",
    "_tos_ = ['b',    'b',    'b',    'b',    'b',    'b',    'b',    'b',    'b',    'c',    'c',    'c',    'c',    'c',    'c']\n",
    "_dts_ = ['2000', '2001', '2002', '2003', '2004', '2005', '2010', '2015', '2020', '2010', '2011', '2012', '2013', '2014', '2015']\n",
    "_df_  = pd.DataFrame({'fm':_fms_, 'to':_tos_, 'ts':_dts_})\n",
    "_df_['ts'] = _df_['ts'].astype('datetime64[ms]')\n",
    "\n",
    "_svgs_ = []\n",
    "_svgs_.append(rt.linkNode(_df_, [('fm','to')], {'c':[0,0],'b':[1,1]},\n",
    "                          timing_marks=True, ts_field='ts',link_shape='line',\n",
    "                          w=256, h=256, x_ins=16, y_ins=16))\n",
    "_svgs_.append(rt.linkNode(_df_, [('fm','to')], {'c':[0,0],'b':[1,1]},\n",
    "                          timing_marks=True, ts_field='ts',link_shape='curve',\n",
    "                          w=256, h=256, x_ins=16, y_ins=16))\n",
    "rt.tile(_svgs_)"
   ]
  },
  {
   "cell_type": "code",
   "execution_count": null,
   "metadata": {},
   "outputs": [],
   "source": [
    "_svgs_ = []\n",
    "_svgs_.append(rt.linkNode(pl.DataFrame(_df_), [('fm','to')], {'c':[0,0],'b':[1,1]},\n",
    "                          timing_marks=True, ts_field='ts',link_shape='line',\n",
    "                          w=256, h=256, x_ins=16, y_ins=16))\n",
    "_svgs_.append(rt.linkNode(pl.DataFrame(_df_), [('fm','to')], {'c':[0,0],'b':[1,1]},\n",
    "                          timing_marks=True, ts_field='ts',link_shape='curve',\n",
    "                          w=256, h=256, x_ins=16, y_ins=16))\n",
    "rt.tile(_svgs_)"
   ]
  },
  {
   "cell_type": "code",
   "execution_count": null,
   "metadata": {},
   "outputs": [],
   "source": []
  }
 ],
 "metadata": {
  "kernelspec": {
   "display_name": "Python 3",
   "language": "python",
   "name": "python3"
  },
  "language_info": {
   "codemirror_mode": {
    "name": "ipython",
    "version": 3
   },
   "file_extension": ".py",
   "mimetype": "text/x-python",
   "name": "python",
   "nbconvert_exporter": "python",
   "pygments_lexer": "ipython3",
   "version": "3.11.6"
  },
  "orig_nbformat": 4,
  "vscode": {
   "interpreter": {
    "hash": "677ca678853aa41fc137f4b55f2bc0c694e45735c0d2faa667d2ec5acb71e67d"
   }
  }
 },
 "nbformat": 4,
 "nbformat_minor": 2
}
