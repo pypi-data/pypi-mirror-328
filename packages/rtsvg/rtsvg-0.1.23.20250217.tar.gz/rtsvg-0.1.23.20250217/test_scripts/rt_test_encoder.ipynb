{
 "cells": [
  {
   "cell_type": "code",
   "execution_count": 1,
   "metadata": {},
   "outputs": [],
   "source": [
    "import sys\n",
    "sys.path.insert(1, '../rtsvg')\n",
    "from rtsvg import *"
   ]
  },
  {
   "cell_type": "code",
   "execution_count": 2,
   "metadata": {},
   "outputs": [],
   "source": [
    "rt = RACETrack()"
   ]
  },
  {
   "cell_type": "code",
   "execution_count": 6,
   "metadata": {},
   "outputs": [],
   "source": [
    "tests = ['','a',':',' ',\n",
    "'my str MY STR 12 90 AZ az','my_str_MY_STR_12_90_AZ_az',\n",
    "'https://www.whatever.com/my_page?this=that&what=ever',\n",
    "'\"this contains some double quotes\"',\n",
    "''' multi-line\n",
    "monster string\n",
    "is here\n",
    "probably really just too long\n",
    "in general.. but a good test...\n",
    "\n",
    "and some more... \"this is in double quotes\"... 'this in single quotes'\n",
    "''',\n",
    "'语言处理' # From \"https://www.tensorflow.org/text/guide/unicode\"\n",
    "]\n",
    "\n",
    "for x in tests:\n",
    "    _enc = rt.encSVGID(x)\n",
    "    _dec = rt.decSVGID(_enc)\n",
    "    if _dec != x:\n",
    "        print(f'Failed To Encode \"{x}\"')\n",
    "        print(f'\\tEncoded = \"{_enc}\"')\n",
    "        print(f'\\tDeocded = \"{_dec}\"')"
   ]
  },
  {
   "cell_type": "code",
   "execution_count": null,
   "metadata": {},
   "outputs": [],
   "source": []
  }
 ],
 "metadata": {
  "kernelspec": {
   "display_name": "Python 3",
   "language": "python",
   "name": "python3"
  },
  "language_info": {
   "codemirror_mode": {
    "name": "ipython",
    "version": 3
   },
   "file_extension": ".py",
   "mimetype": "text/x-python",
   "name": "python",
   "nbconvert_exporter": "python",
   "pygments_lexer": "ipython3",
   "version": "3.11.1"
  },
  "orig_nbformat": 4,
  "vscode": {
   "interpreter": {
    "hash": "677ca678853aa41fc137f4b55f2bc0c694e45735c0d2faa667d2ec5acb71e67d"
   }
  }
 },
 "nbformat": 4,
 "nbformat_minor": 2
}
