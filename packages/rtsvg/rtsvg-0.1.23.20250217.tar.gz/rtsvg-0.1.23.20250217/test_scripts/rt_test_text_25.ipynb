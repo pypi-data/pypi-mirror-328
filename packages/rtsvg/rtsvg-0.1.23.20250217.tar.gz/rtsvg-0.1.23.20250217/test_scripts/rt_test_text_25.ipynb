{
 "cells": [
  {
   "cell_type": "code",
   "execution_count": null,
   "metadata": {},
   "outputs": [],
   "source": [
    "import rtsvg\n",
    "rt = rtsvg.RACETrack()\n",
    "txt = '''abc\n",
    "def\n",
    "ghi\n",
    "jkl\n",
    "mno\n",
    "pqr\n",
    "pqr\n",
    "stu\n",
    "vwx\n",
    "yz1\n",
    "234\n",
    "234\n",
    "567\n",
    "abc\n",
    "abc\n",
    "def\n",
    "ghi\n",
    "jkl\n",
    "mno\n",
    "pqr'''\n",
    "tb = rt.textBlock(txt, w=128)\n",
    "_dict_ = {'a':{'def\\nghi':'#ff0000'},\n",
    "          'b':{'def\\nghi\\njkl':'#00ff00'},\n",
    "          'c':{'ghi\\njkl':'#0000ff'},\n",
    "          'd':{'jkl':'#ff00ff'},}\n",
    "all_dictionaries = _dict_['a'] | _dict_['b'] | _dict_['c'] | _dict_['d']\n",
    "_results_  = tb.highlightsComparison(_dict_)\n",
    "_svg_list_ = []\n",
    "for _svg_ in _results_:\n",
    "    _svg_list_.append(_results_[_svg_])\n",
    "_svg_list_.append(tb.highlights(all_dictionaries))\n",
    "rt.tile(_svg_list_, spacer=5)"
   ]
  },
  {
   "cell_type": "code",
   "execution_count": null,
   "metadata": {},
   "outputs": [],
   "source": [
    "tb = rt.textBlock(txt, w=64)\n",
    "_dict_ = {'a':{( 8,11):'#ff0000'},\n",
    "          'b':{(12,15):'#00ff00'},\n",
    "          'c':{( 8,24):'#0000ff',\n",
    "               (70,72):'#0000ff'},\n",
    "          'd':{(40,46):'#ff00ff'},}\n",
    "all_dictionaries = _dict_['a'] | _dict_['b'] | _dict_['c'] | _dict_['d']\n",
    "_results_  = tb.highlightsComparison(_dict_)\n",
    "_svg_list_ = []\n",
    "for _svg_ in _results_:\n",
    "    _svg_list_.append(_results_[_svg_])\n",
    "_svg_list_.append(tb.highlights(all_dictionaries))\n",
    "rt.tile(_svg_list_, spacer=5)"
   ]
  },
  {
   "cell_type": "code",
   "execution_count": null,
   "metadata": {},
   "outputs": [],
   "source": [
    "_results_  = tb.highlightsComparisonPixelRepr(_dict_)\n",
    "_svg_list_ = []\n",
    "for _svg_ in _results_: _svg_list_.append(_results_[_svg_])\n",
    "rt.tile(_svg_list_, spacer=5)"
   ]
  },
  {
   "cell_type": "code",
   "execution_count": null,
   "metadata": {},
   "outputs": [],
   "source": []
  }
 ],
 "metadata": {
  "kernelspec": {
   "display_name": ".venv",
   "language": "python",
   "name": "python3"
  },
  "language_info": {
   "codemirror_mode": {
    "name": "ipython",
    "version": 3
   },
   "file_extension": ".py",
   "mimetype": "text/x-python",
   "name": "python",
   "nbconvert_exporter": "python",
   "pygments_lexer": "ipython3",
   "version": "3.12.3"
  }
 },
 "nbformat": 4,
 "nbformat_minor": 2
}
