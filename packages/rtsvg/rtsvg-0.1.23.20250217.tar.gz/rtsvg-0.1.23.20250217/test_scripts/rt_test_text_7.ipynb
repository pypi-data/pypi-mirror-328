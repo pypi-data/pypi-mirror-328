{
 "cells": [
  {
   "cell_type": "code",
   "execution_count": null,
   "metadata": {},
   "outputs": [],
   "source": [
    "import pandas as pd\n",
    "import numpy as np\n",
    "import sys\n",
    "sys.path.insert(1, '../rtsvg/') # base location of the .py classes\n",
    "from rtsvg import *\n",
    "rt = RACETrack()"
   ]
  },
  {
   "cell_type": "code",
   "execution_count": null,
   "metadata": {},
   "outputs": [],
   "source": [
    "#\n",
    "# Source:  https://en.wikipedia.org/wiki/Selma_to_Montgomery_marches\n",
    "# ... three sentence summary\n",
    "#\n",
    "\n",
    "_text = \"\"\"The Selma to Montgomery marches were three protest marches, held in 1965, along the 54-mile (87 km) highway from Selma, Alabama, to the state capital of Montgomery. The marches were organized by nonviolent activists to demonstrate the desire of African-American citizens to exercise their constitutional right to vote, in defiance of segregationist repression; they were part of a broader voting rights movement underway in Selma and throughout the American South. By highlighting racial injustice, they contributed to passage that year of the Voting Rights Act, a landmark federal achievement of the civil rights movement.\n",
    "Since the late 19th century, Southern state legislatures had passed and maintained a series of Jim Crow laws that had disenfranchised the millions of African Americans across the South and enforced racial segregation. The initial voter registration drive, started in 1963 by the African-American Dallas County Voters League (DCVL) and the Student Nonviolent Coordinating Committee (SNCC) failed as local White officials arrested the organizers and otherwise harassed Blacks wishing to register to vote. The passage of the Civil Rights Act of 1964 legally ended segregation but the situation in Selma changed little. The DCVL then invited Rev. Martin Luther King Jr. and the activists of the Southern Christian Leadership Conference (SCLC) to amplify the efforts, and these figures drew more prominent people to Alabama. Local and regional protests began in January 1965, with 3,000 people arrested by the end of February. On 26 February, activist and deacon Jimmie Lee Jackson died after being shot several days earlier by state trooper James Bonard Fowler during a peaceful march in nearby Marion. To defuse and refocus the Black community's outrage, James Bevel, who was directing SCLC's Selma voting rights movement, called for a march of dramatic length, from Selma to the state capital of Montgomery, calling for an unhindered exercise of the right to vote.[3][4]\n",
    "The first march took place on March 7, 1965, led by figures including Bevel and Amelia Boynton, but was ended by state troopers and county possemen, who charged on about 600 unarmed protesters with batons and tear gas after they crossed the Edmund Pettus Bridge in the direction of Montgomery. The event became known as Bloody Sunday.[5][6] Law enforcement beat Boynton unconscious, and the media publicized worldwide a picture of her lying wounded on the bridge.[7] The second march took place two days later but King cut it short as a federal court issued a temporary injunction against further marches. That night, a White group murdered civil rights activist James Reeb, a Unitarian Universalist minister from Boston.[8] The third march, which started on March 21, was escorted by the Alabama National Guard under federal control, the FBI and federal marshals (segregationist Governor George Wallace refused to protect the protesters). Thousands of marchers averaged 10 mi (16 km) a day along U.S. Route 80, reaching Montgomery on March 24. The following day, 25,000 people staged a demonstration on the steps of the Alabama State Capitol.\n",
    "The violence of \"Bloody Sunday\" and Reeb's murder resulted in a national outcry, and the marches were widely discussed in national and international news media. The protesters campaigned for a new federal voting rights law to enable African Americans to register and vote without harassment. President Lyndon B. Johnson seized the opportunity and held a historic, nationally televised joint session of Congress on March 15, asking lawmakers to pass what is now known as the Voting Rights Act of 1965. He enacted it on August 6, removing obstacles for Blacks to register en masse. The march route is memorialized as the Selma to Montgomery National Historic Trail, a designated National Historic Trail.\"\"\"\n",
    "\n",
    "_summary_bard_complete = \"\"\"Sure, here is the summary of the Selma to Montgomery marches in three sentences:\n",
    "\n",
    "* The Selma to Montgomery marches were a series of protests in 1965 that highlighted the racial injustice of Jim Crow laws and helped to pass the Voting Rights Act of 1965.\n",
    "* The marches were organized by nonviolent activists who wanted to exercise their constitutional right to vote.\n",
    "* The marches were met with violence from state troopers and white supremacists, but they ultimately succeeded in their goal.\n",
    "\n",
    "Here are some additional details that you may want to include in your summary:\n",
    "\n",
    "* The marches were led by Martin Luther King Jr. and other civil rights leaders.\n",
    "* The first march, on March 7, 1965, was called \"Bloody Sunday\" because state troopers attacked the unarmed protesters with tear gas and billy clubs.\n",
    "* The second march was called off after a white mob murdered civil rights activist James Reeb.\n",
    "* The third and final march, on March 21, was protected by federal troops and made it all the way to Montgomery.\n",
    "* The Selma to Montgomery marches were a major turning point in the civil rights movement and helped to secure voting rights for African Americans.\n",
    "\n",
    "I hope this summary is helpful!\"\"\"\n",
    "\n",
    "_summary_bard = \"\"\"The Selma to Montgomery marches were a series of protests in 1965 that highlighted the racial injustice of Jim Crow laws and helped to pass the Voting Rights Act of 1965.  The marches were organized by nonviolent activists who wanted to exercise their constitutional right to vote.  The marches were met with violence from state troopers and white supremacists, but they ultimately succeeded in their goal.\"\"\"\n",
    "\n",
    "_summary_chatgpt = \"\"\"The Selma to Montgomery marches were a series of nonviolent protests held in 1965, spanning 54 miles from Selma, Alabama, to Montgomery. African-American citizens organized these marches to demand their constitutional right to vote and challenge racial injustice and segregation. These marches played a crucial role in the passage of the Voting Rights Act of 1965, which aimed to eliminate barriers to African-American voter registration and became a landmark achievement of the civil rights movement.\"\"\"\n",
    "\n",
    "rt.displaySVG(rt.textCompareSummaries(_text, {'Bard Summary':_summary_bard, 'ChatGPT Summary':_summary_chatgpt}, methodology='missing_words', opacity=0.3))"
   ]
  },
  {
   "cell_type": "code",
   "execution_count": null,
   "metadata": {},
   "outputs": [],
   "source": [
    "#\n",
    "# Source:  https://en.wikipedia.org/wiki/Apollo_13\n",
    "# ... four sentence summary\n",
    "# ... chatgpt gave me five though :(\n",
    "#\n",
    "\n",
    "_text = \"\"\"Apollo 13 (April 11–17, 1970) was the seventh crewed mission in the Apollo space program and the third meant to land on the Moon. The craft was launched from Kennedy Space Center on April 11, 1970, but the lunar landing was aborted after an oxygen tank in the service module (SM) failed two days into the mission. The crew instead looped around the Moon in a circumlunar trajectory and returned safely to Earth on April 17. The mission was commanded by Jim Lovell, with Jack Swigert as command module (CM) pilot and Fred Haise as Lunar Module (LM) pilot. Swigert was a late replacement for Ken Mattingly, who was grounded after exposure to rubella.\n",
    "A routine stir of an oxygen tank ignited damaged wire insulation inside it, causing an explosion that vented the contents of both of the SM's oxygen tanks to space. Without oxygen, needed for breathing and for generating electric power, the SM's propulsion and life support systems could not operate. The CM's systems had to be shut down to conserve its remaining resources for reentry, forcing the crew to transfer to the LM as a lifeboat. With the lunar landing canceled, mission controllers worked to bring the crew home alive.\n",
    "Although the LM was designed to support two men on the lunar surface for two days, Mission Control in Houston improvised new procedures so it could support three men for four days. The crew experienced great hardship, caused by limited power, a chilly and wet cabin and a shortage of potable water. There was a critical need to adapt the CM's cartridges for the carbon dioxide scrubber system to work in the LM; the crew and mission controllers were successful in improvising a solution. The astronauts' peril briefly renewed public interest in the Apollo program; tens of millions watched the splashdown in the South Pacific Ocean on television.\n",
    "An investigative review board found fault with preflight testing of the oxygen tank and Teflon being placed inside it. The board recommended changes, including minimizing the use of potentially combustible items inside the tank; this was done for Apollo 14. The story of Apollo 13 has been dramatized several times, most notably in the 1995 film Apollo 13 based on Lost Moon, the 1994 memoir co-authored by Lovell – and an episode of the 1998 miniseries From the Earth to the Moon.\"\"\"\n",
    "\n",
    "_summary_bard_complete = \"\"\"Sure, here is the summary of Apollo 13 in 4 sentences:\n",
    "\n",
    "* Apollo 13 was a crewed mission to the Moon that was aborted after an oxygen tank failure.\n",
    "* The crew was forced to transfer to the Lunar Module as a lifeboat and improvise new procedures to survive.\n",
    "* The astronauts faced great hardship, including limited power, a chilly and wet cabin, and a shortage of potable water.\n",
    "* The crew successfully returned to Earth and the story was dramatized in the film Apollo 13.\n",
    "\n",
    "Here are some additional details that I included in the summary:\n",
    "\n",
    "* The mission was commanded by Jim Lovell, with Jack Swigert as command module pilot and Fred Haise as Lunar Module pilot.\n",
    "* The oxygen tank failure was caused by damaged wire insulation inside the tank.\n",
    "* The LM was designed to support two men on the lunar surface for two days, but the crew was able to adapt it to support three men for four days.\n",
    "* The astronauts' peril briefly renewed public interest in the Apollo program.\n",
    "* The story of Apollo 13 has been dramatized several times, most notably in the 1995 film Apollo 13.\n",
    "\n",
    "I hope this summary is helpful!\"\"\"\n",
    "\n",
    "_summary_bard = \"\"\"Apollo 13 was a crewed mission to the Moon that was aborted after an oxygen tank failure.  The crew was forced to transfer to the Lunar Module as a lifeboat and improvise new procedures to survive.  The astronauts faced great hardship, including limited power, a chilly and wet cabin, and a shortage of potable water.  The crew successfully returned to Earth and the story was dramatized in the film Apollo 13.\"\"\"\n",
    "\n",
    "_summary_chatgpt = \"\"\"Apollo 13 was the seventh crewed mission in the Apollo space program and was intended to land on the Moon. However, a failed oxygen tank in the service module forced the crew to abandon the lunar landing. They instead orbited around the Moon and returned safely to Earth on April 17, 1970. The mission faced numerous challenges, including limited resources, a damaged spacecraft, and the need to adapt the lunar module to support three astronauts instead of two. The story of Apollo 13 gained widespread attention and has been portrayed in various dramatizations, including the 1995 film Apollo 13.\"\"\"\n",
    "\n",
    "rt.displaySVG(rt.textCompareSummaries(_text, {'Bard Summary':_summary_bard, 'ChatGPT Summary':_summary_chatgpt}, methodology='missing_words', opacity=0.3))"
   ]
  },
  {
   "cell_type": "code",
   "execution_count": null,
   "metadata": {},
   "outputs": [],
   "source": [
    "_set = set()\n",
    "_set.add('this'[2:3])"
   ]
  },
  {
   "cell_type": "code",
   "execution_count": null,
   "metadata": {},
   "outputs": [],
   "source": []
  }
 ],
 "metadata": {
  "kernelspec": {
   "display_name": "Python 3",
   "language": "python",
   "name": "python3"
  },
  "language_info": {
   "codemirror_mode": {
    "name": "ipython",
    "version": 3
   },
   "file_extension": ".py",
   "mimetype": "text/x-python",
   "name": "python",
   "nbconvert_exporter": "python",
   "pygments_lexer": "ipython3",
   "version": "3.11.4"
  },
  "orig_nbformat": 4
 },
 "nbformat": 4,
 "nbformat_minor": 2
}
