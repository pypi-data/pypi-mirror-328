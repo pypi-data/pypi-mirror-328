{
 "cells": [
  {
   "cell_type": "code",
   "execution_count": null,
   "metadata": {},
   "outputs": [],
   "source": [
    "import pandas as pd\n",
    "import polars as pl\n",
    "import numpy  as np\n",
    "import networkx as nx\n",
    "import random\n",
    "import time\n",
    "from rtsvg import *\n",
    "rt = RACETrack()\n",
    "def randomWord(n=5):\n",
    "    return ''.join(random.choices(\"abcdefghijklmnopqrstuvwxyz\", k=n))\n",
    "_lu_ = {'fm':[], 'to':[]}\n",
    "for i in range(2000):\n",
    "    _lu_['fm'].append(randomWord(3)), _lu_['to'].append(randomWord(1))\n",
    "_as_set_ = set(_lu_['fm']) | set(_lu_['to'])\n",
    "print(f'total nodes = {len(_as_set_)}')\n",
    "df = pl.DataFrame(_lu_)\n",
    "my_width, my_height = 400, 400\n",
    "_cd_ = rt.chordDiagram(df, [('fm','to')],  link_style='bundled', skeleton_algorithm='kmeans', w=my_width, h=my_height)\n",
    "_cd_._repr_svg_()\n",
    "_cd2_ = rt.chordDiagram(df, [('fm','to')], link_style='bundled', skeleton_algorithm='hexagonal', w=my_width, h=my_height)\n",
    "_cd2_._repr_svg_()\n",
    "rt.table([_cd_, _cd_.skeleton_svg, _cd2_, _cd2_.skeleton_svg], per_row=2)"
   ]
  },
  {
   "cell_type": "code",
   "execution_count": null,
   "metadata": {},
   "outputs": [],
   "source": [
    "_svg_ = _cd_._repr_svg_()\n",
    "w, h  = rt.__extractSVGWidthAndHeight__(_svg_)\n",
    "rt.tile([\n",
    "    f'<svg x=\"0\" y=\"0\" width=\"{w}\" height=\"{h}\" x=\"0\" y=\"0\" xmlns=\"http://www.w3.org/2000/svg\">' +\n",
    "    _svg_ +\n",
    "    f'<line x1=\"0\"   y1=\"{h/2}\" x2=\"{w}\" y2=\"{h/2}\" stroke=\"#000000\" stroke-width=\"3.0\" />' + \n",
    "    f'<line x1=\"128\" y1=\"{0}\"   x2=\"128\" y2=\"{h}\"   stroke=\"#000000\" stroke-width=\"3.0\" />' + \n",
    "    '</svg>'\n",
    "])"
   ]
  },
  {
   "cell_type": "code",
   "execution_count": null,
   "metadata": {},
   "outputs": [],
   "source": [
    "rerender_skeleton = [f'<svg x=\"0\" y=\"0\" width=\"{w}\" height=\"{h}\" x=\"0\" y=\"0\" xmlns=\"http://www.w3.org/2000/svg\">']\n",
    "for _node_ in _cd_.skeleton.nodes(): rerender_skeleton.append(f'<circle cx=\"{_node_[0]}\" cy=\"{_node_[1]}\" r=\"2\" fill=\"#000000\" />')\n",
    "rerender_skeleton.append('</svg>')\n",
    "rt.tile([''.join(rerender_skeleton)])"
   ]
  },
  {
   "cell_type": "code",
   "execution_count": null,
   "metadata": {},
   "outputs": [],
   "source": [
    "rerender_skeleton = [f'<svg x=\"0\" y=\"0\" width=\"{w}\" height=\"{h}\" x=\"0\" y=\"0\" xmlns=\"http://www.w3.org/2000/svg\">']\n",
    "for _node_ in _cd2_.skeleton.nodes(): rerender_skeleton.append(f'<circle cx=\"{_node_[0]}\" cy=\"{_node_[1]}\" r=\"2\" fill=\"#000000\" />')\n",
    "rerender_skeleton.append('</svg>')\n",
    "rt.tile([''.join(rerender_skeleton)])"
   ]
  },
  {
   "cell_type": "code",
   "execution_count": null,
   "metadata": {},
   "outputs": [],
   "source": [
    "_test_pos_ = {}\n",
    "_test_ = {'fm':[], 'to':[]}\n",
    "for _node_ in _cd_.skeleton.nodes():\n",
    "    _node_str_ = str(_node_)\n",
    "    _test_pos_[_node_str_] = _node_\n",
    "    for _nbor_ in _cd_.skeleton.neighbors(_node_):\n",
    "        _nbor_str_ = str(_nbor_)\n",
    "        _test_pos_[_nbor_str_] = _nbor_\n",
    "        _test_['fm'].append(_node_str_), _test_['to'].append(_nbor_str_)\n",
    "_df_test_  = pl.DataFrame(_test_)\n",
    "_test_g_   = rt.createNetworkXGraph(_df_test_, [('fm','to')])\n",
    "#_test_pos_ =  nx.spring_layout(_test_g_)\n",
    "rt.link(_df_test_, [('fm','to')], _test_pos_, w=600, h=600)"
   ]
  },
  {
   "cell_type": "code",
   "execution_count": null,
   "metadata": {},
   "outputs": [],
   "source": []
  }
 ],
 "metadata": {
  "kernelspec": {
   "display_name": ".venv",
   "language": "python",
   "name": "python3"
  },
  "language_info": {
   "codemirror_mode": {
    "name": "ipython",
    "version": 3
   },
   "file_extension": ".py",
   "mimetype": "text/x-python",
   "name": "python",
   "nbconvert_exporter": "python",
   "pygments_lexer": "ipython3",
   "version": "3.12.3"
  }
 },
 "nbformat": 4,
 "nbformat_minor": 2
}
