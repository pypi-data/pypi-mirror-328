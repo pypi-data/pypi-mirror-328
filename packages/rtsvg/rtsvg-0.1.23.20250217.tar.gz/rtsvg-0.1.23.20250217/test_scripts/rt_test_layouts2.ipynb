{
 "cells": [
  {
   "cell_type": "code",
   "execution_count": null,
   "id": "cc5ec30b-60e9-4ac2-ae42-ca1281cc777f",
   "metadata": {},
   "outputs": [],
   "source": [
    "import pandas as pd\n",
    "import polars as pl\n",
    "\n",
    "import sys\n",
    "sys.path.insert(1, '../rtsvg')\n",
    "\n",
    "from rtsvg import *\n",
    "rt = RACETrack()"
   ]
  },
  {
   "cell_type": "code",
   "execution_count": null,
   "id": "87ad7aa2-8a86-4f06-8370-b91819774bec",
   "metadata": {},
   "outputs": [],
   "source": [
    "df = pd.DataFrame({'bin':  ['a',    'a',    'a',    'b',    'b',    'c'],\n",
    "                   'count':[1,      3,      4,      2,      1,      10],\n",
    "                   'ts':   ['2021', '2021', '2022', '2023', '2024', '2024']})\n",
    "df = rt.columnsAreTimestamps(df, 'ts')\n",
    "spec = {}\n",
    "spec[(0,0,1,1)] = ('histogram',{'bin_by':'bin'})\n",
    "rt.displaySVG(rt.gridBagLayout(df,spec,w=128,h=128))"
   ]
  },
  {
   "cell_type": "code",
   "execution_count": null,
   "id": "e4bff12a",
   "metadata": {},
   "outputs": [],
   "source": [
    "spec = {}\n",
    "spec[(0,0,1,1)] = ('histogram',{'bin_by':'bin'})\n",
    "spec[(1,0,1,1)] = ('histogram',{'bin_by':'count'})\n",
    "rt.displaySVG(rt.gridBagLayout(df,spec,w=128,h=128, count_by='count'))"
   ]
  },
  {
   "cell_type": "code",
   "execution_count": null,
   "id": "8fb2ce57",
   "metadata": {},
   "outputs": [],
   "source": [
    "spec = {}\n",
    "spec[(0,0,1,1)] = ('histogram',{'bin_by':'bin'})\n",
    "spec[(1,0,1,1)] = ('histogram',{'bin_by':'count'})\n",
    "spec[(0,1,2,1)] = 'temporalBarChart'\n",
    "rt.displaySVG(rt.gridBagLayout(df,spec,w=256,h=256, count_by='count', color_by='bin'))"
   ]
  },
  {
   "cell_type": "code",
   "execution_count": null,
   "id": "a207eb13",
   "metadata": {},
   "outputs": [],
   "source": [
    "spec = {}\n",
    "spec[(0,0,10,10)] = ('xy',{'x_field':'bin','y_field':'count'})\n",
    "spec[(10,0,4,10)] = ('histogram',{'bin_by':'count'})\n",
    "spec[(0,10,14,6)] = 'temporalBarChart'\n",
    "rt.displaySVG(rt.gridBagLayout(df,spec,w=384,h=256, count_by='count', color_by='bin'))"
   ]
  },
  {
   "cell_type": "code",
   "execution_count": null,
   "id": "0ca656c0",
   "metadata": {},
   "outputs": [],
   "source": [
    "rt.displaySVG(rt.layout(spec, df, w=384,h=256, count_by='count', color_by='bin'))"
   ]
  },
  {
   "cell_type": "code",
   "execution_count": null,
   "id": "f4c43234",
   "metadata": {},
   "outputs": [],
   "source": [
    "spec = {}\n",
    "spec['c'] = ('xy',{'x_field':'bin','y_field':'count'})\n",
    "spec['n'] = ('histogram',{'bin_by':'count'})\n",
    "spec['w'] = 'temporalBarChart'\n",
    "rt.displaySVG(rt.multiWidgetPanel(df, spec, w=384,h=256, count_by='count', color_by='bin'))"
   ]
  },
  {
   "cell_type": "code",
   "execution_count": null,
   "id": "aab9886c",
   "metadata": {},
   "outputs": [],
   "source": [
    "rt.displaySVG(rt.placementSVGDebug(rt.dictionaryLayoutToSpatialDimensions(spec,384,256,h_gap=4,v_gap=4)))"
   ]
  },
  {
   "cell_type": "code",
   "execution_count": null,
   "id": "ffad009b",
   "metadata": {},
   "outputs": [],
   "source": [
    "spec = {}\n",
    "spec[(0,0,1,1)] = ('xy',{'x_field':'bin','y_field':'count'})\n",
    "rt.displaySVG(rt.gridBagLayout(df,spec,w=128,h=128))"
   ]
  },
  {
   "cell_type": "code",
   "execution_count": null,
   "id": "2b78e3e8-5d08-499b-8369-f68c44b7236d",
   "metadata": {},
   "outputs": [],
   "source": []
  }
 ],
 "metadata": {
  "kernelspec": {
   "display_name": ".venv",
   "language": "python",
   "name": ".venv"
  },
  "language_info": {
   "codemirror_mode": {
    "name": "ipython",
    "version": 3
   },
   "file_extension": ".py",
   "mimetype": "text/x-python",
   "name": "python",
   "nbconvert_exporter": "python",
   "pygments_lexer": "ipython3",
   "version": "3.11.6"
  },
  "vscode": {
   "interpreter": {
    "hash": "b5404cabeb3d5c4d27bb5af16596b6c26c9a7e85445d485c4054e97964ff4082"
   }
  }
 },
 "nbformat": 4,
 "nbformat_minor": 5
}
