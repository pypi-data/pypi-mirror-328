{
 "cells": [
  {
   "cell_type": "code",
   "execution_count": null,
   "id": "cc5ec30b-60e9-4ac2-ae42-ca1281cc777f",
   "metadata": {},
   "outputs": [],
   "source": [
    "import pandas as pd\n",
    "import polars as pl\n",
    "import numpy as np\n",
    "import sys\n",
    "sys.path.insert(1, '../rtsvg')\n",
    "from rtsvg import *\n",
    "rt = RACETrack()"
   ]
  },
  {
   "cell_type": "code",
   "execution_count": null,
   "id": "56374224",
   "metadata": {},
   "outputs": [],
   "source": [
    "df = pd.DataFrame({'timestamp':['2021-01-03 00:23:12', '2023-04-30 13:43:21', '2025-12-09 23:01:20'],\n",
    "                   'num':      [100,                   8,                     10000]})\n",
    "df = rt.columnsAreTimestamps(df, 'timestamp')\n",
    "df_pl = pl.DataFrame(df)\n",
    "for x in rt.transforms:\n",
    "    field = 'num' if x == 'log_bins' else 'timestamp'\n",
    "    df,tfield = rt.applyTransform(df, rt.createTField(field,x))\n",
    "df"
   ]
  },
  {
   "cell_type": "code",
   "execution_count": null,
   "metadata": {},
   "outputs": [],
   "source": [
    "for x in rt.transforms:\n",
    "    field = 'num' if x == 'log_bins' else 'timestamp'\n",
    "    df_pl,tfield = rt.applyTransform(df_pl, rt.createTField(field,x))\n",
    "df_pl"
   ]
  },
  {
   "cell_type": "code",
   "execution_count": null,
   "metadata": {},
   "outputs": [],
   "source": [
    "df = pd.DataFrame({'timestamp':['2021-01-03 00:23:12', '2023-04-30 13:43:21', '2025-12-09 23:01:20'],\n",
    "                   'num':      [100,                   8,                     10000]})\n",
    "df = rt.columnsAreTimestamps(df, 'timestamp')\n",
    "df_pl = pl.DataFrame(df)\n",
    "pd_tiles, pl_tiles = [], []\n",
    "for x in rt.transforms:\n",
    "    if x != 'log_bins':\n",
    "        params = {'w':128,'h':90, 'bin_by':rt.createTField('timestamp',x)}\n",
    "        pd_tiles.append(rt.histogram(df,    **params))\n",
    "        pl_tiles.append(rt.histogram(df_pl, **params))\n",
    "rt.tile([rt.tile(pd_tiles), rt.tile(pl_tiles)],horz=False)"
   ]
  },
  {
   "cell_type": "code",
   "execution_count": null,
   "metadata": {},
   "outputs": [],
   "source": [
    "pd_tiles, pl_tiles = [], []\n",
    "for x in rt.transforms:\n",
    "    if x != 'log_bins' and x != 'year' and x != 'year_quarter' and x != 'year_month' and x != 'year_month_day' and x != 'day_of_year' and x != 'day_of_year_hour':\n",
    "        params = {'w':256,'h':96,'time_period':x}\n",
    "        pd_tiles.append(rt.periodicBarChart(df,    **params))\n",
    "        pl_tiles.append(rt.periodicBarChart(df_pl, **params))\n",
    "rt.tile([rt.tile(pd_tiles), rt.tile(pl_tiles)],horz=False)"
   ]
  },
  {
   "cell_type": "code",
   "execution_count": null,
   "metadata": {},
   "outputs": [],
   "source": []
  }
 ],
 "metadata": {
  "kernelspec": {
   "display_name": "Python 3",
   "language": "python",
   "name": "python3"
  },
  "language_info": {
   "codemirror_mode": {
    "name": "ipython",
    "version": 3
   },
   "file_extension": ".py",
   "mimetype": "text/x-python",
   "name": "python",
   "nbconvert_exporter": "python",
   "pygments_lexer": "ipython3",
   "version": "3.11.6"
  },
  "vscode": {
   "interpreter": {
    "hash": "677ca678853aa41fc137f4b55f2bc0c694e45735c0d2faa667d2ec5acb71e67d"
   }
  }
 },
 "nbformat": 4,
 "nbformat_minor": 5
}
