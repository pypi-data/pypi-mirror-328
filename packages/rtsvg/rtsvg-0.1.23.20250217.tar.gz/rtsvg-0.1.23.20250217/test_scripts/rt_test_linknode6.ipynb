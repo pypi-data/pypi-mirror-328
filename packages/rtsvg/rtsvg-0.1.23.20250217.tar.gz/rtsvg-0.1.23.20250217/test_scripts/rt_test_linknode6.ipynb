{
 "cells": [
  {
   "cell_type": "code",
   "execution_count": null,
   "metadata": {},
   "outputs": [],
   "source": [
    "import pandas as pd\n",
    "import numpy as np\n",
    "import networkx as nx\n",
    "import sys\n",
    "sys.path.insert(1, '../rtsvg')\n",
    "from rtsvg import *\n",
    "rt = RACETrack()"
   ]
  },
  {
   "cell_type": "code",
   "execution_count": null,
   "metadata": {},
   "outputs": [],
   "source": [
    "df = pd.DataFrame({'fm':  ['a','b','c','d','c', 'a', 'a', 'a', 'd', 'd', 'd', 'd', 'd'],\n",
    "                   'to':  ['b','c','d','e','c0','a0','a1','a2','d0','d1','d2','d3','d4'],\n",
    "                   'fm_i':[1,  1,  1,  1,  1,   1,   1,   2,   1,   2,   3,   4,   5]})\n",
    "relates = [('fm','to')]\n",
    "pos  = {'a':  [ 0.74, -0.38], 'a0': [ 0.98, -0.54], 'a1': [ 0.75, -0.65], 'a2': [ 1.  , -0.28],\n",
    "        'b':  [ 0.38, -0.16], 'c':  [-0.00,  0.06], 'c0': [ 0.18,  0.24], 'd':  [-0.47,  0.21],\n",
    "        'd0': [-0.73,  0.39], 'd1': [-0.69,  0.00], 'd2': [-0.78 , 0.19], 'd3': [-0.33,  0.45],\n",
    "        'd4': [-0.47, -0.05], 'e':  [-0.55,  0.51]}\n",
    "_labels_ = {'a':['More','Even More','Most'],\n",
    "            'c':'Additional'}\n",
    "rt.linkNode(df, relates, pos, node_labels=_labels_, x_ins=20, y_ins=20, w=384, h=384)"
   ]
  },
  {
   "cell_type": "code",
   "execution_count": null,
   "metadata": {},
   "outputs": [],
   "source": [
    "rt.linkNode(df, relates, pos, node_labels=rt.nodeLabeler(df, 'fm', 'fm_i'), x_ins=20, y_ins=20, w=384, h=384)"
   ]
  },
  {
   "cell_type": "code",
   "execution_count": null,
   "metadata": {},
   "outputs": [],
   "source": [
    "df = pd.DataFrame({'fm':['a','b'],\n",
    "                   'to':['b','a'],\n",
    "                   'txt':['This is a longer text string describing node \"a\".  It\\'s meant to be much longer and therefore to be split by the labeler.',\n",
    "                          'This is another long string.\\nThis time there\\'s carriage returns.\\nTo see if the lines gets separated properly.\\nHope it works.\\n'],\n",
    "                   'txt2':['ABC','DEF']})\n",
    "rt.linkNode(df, relates, pos={'a':[0,1], 'b':[1,0]}, node_labels=rt.nodeLabeler(df, 'fm', 'txt'), x_ins=100, y_ins=100, w=384, h=384, draw_labels=True)"
   ]
  },
  {
   "cell_type": "code",
   "execution_count": null,
   "metadata": {},
   "outputs": [],
   "source": [
    "rt.linkNode(df, relates, pos={'a':[0,1], 'b':[1,0]}, \n",
    "            node_labels=rt.nodeLabeler(df, 'fm', 'txt2', node_labels=rt.nodeLabeler(df, 'fm', 'txt')), \n",
    "            x_ins=100, y_ins=100, w=384, h=384, draw_labels=True)"
   ]
  },
  {
   "cell_type": "code",
   "execution_count": null,
   "metadata": {},
   "outputs": [],
   "source": [
    "rt.linkNode(df, relates, pos={'a':[0,1], 'b':[1,0]},\n",
    "            node_labels_only=True,\n",
    "            node_labels=rt.nodeLabeler(df, 'fm', 'txt2', node_labels=rt.nodeLabeler(df, 'fm', 'txt')), \n",
    "            x_ins=100, y_ins=100, w=384, h=384, draw_labels=True)"
   ]
  },
  {
   "cell_type": "code",
   "execution_count": null,
   "metadata": {},
   "outputs": [],
   "source": []
  }
 ],
 "metadata": {
  "kernelspec": {
   "display_name": "Python 3",
   "language": "python",
   "name": "python3"
  },
  "language_info": {
   "codemirror_mode": {
    "name": "ipython",
    "version": 3
   },
   "file_extension": ".py",
   "mimetype": "text/x-python",
   "name": "python",
   "nbconvert_exporter": "python",
   "pygments_lexer": "ipython3",
   "version": "3.11.6"
  },
  "orig_nbformat": 4
 },
 "nbformat": 4,
 "nbformat_minor": 2
}
