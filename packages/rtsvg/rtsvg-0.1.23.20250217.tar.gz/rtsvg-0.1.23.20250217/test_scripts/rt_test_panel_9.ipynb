{
 "cells": [
  {
   "cell_type": "code",
   "execution_count": null,
   "metadata": {},
   "outputs": [],
   "source": [
    "import pandas as pd\n",
    "import polars as pl\n",
    "import numpy as np\n",
    "import networkx as nx\n",
    "import sys\n",
    "sys.path.insert(1, '../rtsvg')\n",
    "from rtsvg import *\n",
    "rt = RACETrack()\n",
    "df = pl.DataFrame({'fm':['a','b','c','d','e','a','a','a','a','c','f','f','f','f','f','f'],\n",
    "                   'to':['b','c','d','e','f','x','y','z','w','u','v','s','t','r','q','p']})\n",
    "relates = [('fm','to')]\n",
    "g_nx    = rt.createNetworkXGraph(df, relates)\n",
    "_pos_   = nx.spring_layout(g_nx)"
   ]
  },
  {
   "cell_type": "code",
   "execution_count": null,
   "metadata": {},
   "outputs": [],
   "source": [
    "_params_ = {'relationships':[('fm','to')], 'draw_labels':True, 'render_pos_context':True, \n",
    "            'link_size':'large', 'link_opacity':0.2, 'pos':_pos_}\n",
    "_rtg_ = rt.interactiveGraphLayout(df, _params_, w=256, h=256)\n",
    "spec = {(0, 0, 1, 1):('histogram', {'bin_by':'fm'}),\n",
    "        (1, 0, 1, 1):('histogram', {'bin_by':'to'})}\n",
    "_panel_ = rt.interactivePanel(df, spec, w=512, h=256)\n",
    "_panel_.register_companion_viz(_rtg_), _rtg_.register_companion_viz(_panel_)\n",
    "import panel as pn\n",
    "pn.Row(_rtg_, _panel_)"
   ]
  },
  {
   "cell_type": "code",
   "execution_count": null,
   "metadata": {},
   "outputs": [],
   "source": []
  },
  {
   "cell_type": "code",
   "execution_count": null,
   "metadata": {},
   "outputs": [],
   "source": []
  }
 ],
 "metadata": {
  "kernelspec": {
   "display_name": ".venv",
   "language": "python",
   "name": "python3"
  },
  "language_info": {
   "codemirror_mode": {
    "name": "ipython",
    "version": 3
   },
   "file_extension": ".py",
   "mimetype": "text/x-python",
   "name": "python",
   "nbconvert_exporter": "python",
   "pygments_lexer": "ipython3",
   "version": "3.11.6"
  }
 },
 "nbformat": 4,
 "nbformat_minor": 2
}
