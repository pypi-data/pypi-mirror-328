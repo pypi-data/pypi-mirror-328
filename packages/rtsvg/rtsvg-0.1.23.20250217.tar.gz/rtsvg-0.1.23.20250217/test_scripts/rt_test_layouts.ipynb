{
 "cells": [
  {
   "cell_type": "code",
   "execution_count": null,
   "id": "cc5ec30b-60e9-4ac2-ae42-ca1281cc777f",
   "metadata": {},
   "outputs": [],
   "source": [
    "import pandas as pd\n",
    "\n",
    "import sys\n",
    "sys.path.insert(1, '../rtsvg')\n",
    "\n",
    "from rtsvg import *"
   ]
  },
  {
   "cell_type": "code",
   "execution_count": null,
   "id": "87ad7aa2-8a86-4f06-8370-b91819774bec",
   "metadata": {},
   "outputs": [],
   "source": [
    "rt = RACETrack()"
   ]
  },
  {
   "cell_type": "code",
   "execution_count": null,
   "id": "1cdbc668-3866-4b1b-89a4-6a5417cf591e",
   "metadata": {},
   "outputs": [],
   "source": [
    "# Border Layout -- at least one of the following: [c, n, e, w, s]\n",
    "# Flow Layout   -- Horizontal (-1, -2, -3, ...) , Vertical (1, 2, 3)\n",
    "# Grid Layout   -- #,#\n",
    "layout_dict = {\n",
    "    'c|1,1': ('histogram', {'bin_by':'Victim Sex'}),\n",
    "    'c|1,2': ('histogram', {'bin_by':'Victim Age'}),\n",
    "    'c|2,1': ('histogram', {'bin_by':'Victim Race'}),\n",
    "    'c|2,2': ('histogram', {'bin_by':'Victim Ethnicity'}),\n",
    "    \n",
    "    'n|-1':  ('histogram', {'bin_by':'rt.createTField({timestamp_field},\"year\")'}),\n",
    "    'n|-2':  ('histogram', {'bin_by':'rt.createTField({timestamp_field},\"month\")'}),\n",
    "    'n|-3':  ('histogram', {'bin_by':'rt.createTField({timestamp_field},\"day_of_week\")'}),\n",
    "    \n",
    "    'w':     ('histogram', {'bin_by':'Weapon'}),\n",
    "    \n",
    "    'e|1':   ('histogram', {'bin_by':'Crime Type'}),\n",
    "    'e|2':   ('histogram', {'bin_by':'Relationship'}),\n",
    "    'e|3':   ('histogram', {'bin_by':'Relationship'}),\n",
    "    'e|4':   ('histogram', {'bin_by':'Relationship'}),\n",
    "\n",
    "    's|-1':  ('periodicBarChart', {'time_period':'quarter'}),\n",
    "    's|-2':  ('periodicBarChart', {'time_period':'month'}),\n",
    "    's|-3':  ('periodicBarChart', {'time_period':'day_of_month'}),\n",
    "    's|-4':  ('periodicBarChart', {'time_period':'day_of_week'})\n",
    "}\n",
    "\n",
    "pl = rt.dictionaryLayoutToSpatialDimensions(layout_dict, 700, 700)\n",
    "rt.displaySVG(rt.placementSVGDebug(pl))"
   ]
  },
  {
   "cell_type": "code",
   "execution_count": null,
   "id": "13ad4729-e378-4c7f-bb02-036801d1205e",
   "metadata": {},
   "outputs": [],
   "source": [
    "spec = {\n",
    "    'w':('histogram',{'bin_by':'Weapon'}),\n",
    "    'e':('histogram',{'bin_by':'Relationship'}),\n",
    "    's':('temporalBarChart')\n",
    "}\n",
    "pl = rt.dictionaryLayoutToSpatialDimensions(spec, 256, 256)\n",
    "rt.displaySVG(rt.placementSVGDebug(pl))"
   ]
  },
  {
   "cell_type": "code",
   "execution_count": null,
   "id": "4f12da6c-7414-4c6f-96f6-067d8c19a9a1",
   "metadata": {},
   "outputs": [],
   "source": [
    "db2_dict = {\n",
    "    'n': ('histogram', {'bin_by':'Weapon'}),\n",
    "    's': ('histogram', {'bin_by':\"Weapon\"})\n",
    "}\n",
    "rt.displaySVG(rt.placementSVGDebug(rt.dictionaryLayoutToSpatialDimensions(db2_dict, 500, 500,h_gap=4,v_gap=4)))"
   ]
  },
  {
   "cell_type": "code",
   "execution_count": null,
   "id": "09cb9037-e8d7-4df2-88e0-07b5a2b2c982",
   "metadata": {},
   "outputs": [],
   "source": [
    "db3_dict = {\n",
    "    'e': ('histogram', {'bin_by':'Weapon'}),\n",
    "    'w': ('histogram', {'bin_by':'Weapon'})\n",
    "}\n",
    "rt.displaySVG(rt.placementSVGDebug(rt.dictionaryLayoutToSpatialDimensions(db3_dict, 500, 500,h_gap=4,v_gap=4)))"
   ]
  },
  {
   "cell_type": "code",
   "execution_count": null,
   "id": "6f56e811-f92b-4f97-b816-83910cf2c07c",
   "metadata": {},
   "outputs": [],
   "source": [
    "db4_dict = {\n",
    "    'n': ('histogram', {'bin_by':'Weapon'}),\n",
    "    'e': ('histogram', {'bin_by':'Weapon'}),\n",
    "    'w': ('histogram', {'bin_by':'Weapon'})\n",
    "}\n",
    "rt.displaySVG(rt.placementSVGDebug(rt.dictionaryLayoutToSpatialDimensions(db4_dict, 500, 500,h_gap=4,v_gap=4)))"
   ]
  },
  {
   "cell_type": "code",
   "execution_count": null,
   "id": "66c256b5-1975-4e81-9a5c-6fb62ba578a4",
   "metadata": {},
   "outputs": [],
   "source": [
    "db5_dict = {\n",
    "    'n': ('histogram', {'bin_by':'Weapon'}),\n",
    "    'e': ('histogram', {'bin_by':'Weapon'}),\n",
    "    's': ('histogram', {'bin_by':'Weapon'})\n",
    "}\n",
    "rt.displaySVG(rt.placementSVGDebug(rt.dictionaryLayoutToSpatialDimensions(db5_dict, 500, 500,h_gap=4,v_gap=4)))"
   ]
  },
  {
   "cell_type": "code",
   "execution_count": null,
   "id": "2798c95b-79f1-4c58-bed0-40eae1a7e48a",
   "metadata": {},
   "outputs": [],
   "source": [
    "db6_dict = {\n",
    "    '1': ('histogram', {'bin_by':'Weapon'}),\n",
    "    '2': ('histogram', {'bin_by':'Weapon'}),\n",
    "    '3': ('histogram', {'bin_by':'Weapon'}),\n",
    "    '4': ('histogram', {'bin_by':'Weapon'})\n",
    "}\n",
    "rt.displaySVG(rt.placementSVGDebug(rt.dictionaryLayoutToSpatialDimensions(db6_dict, 100, 500,h_gap=0,v_gap=0)))"
   ]
  },
  {
   "cell_type": "code",
   "execution_count": null,
   "id": "e485cc2f-8e2b-4ceb-9343-2914416ccf95",
   "metadata": {},
   "outputs": [],
   "source": [
    "db7_dict = {\n",
    "    '-1': ('histogram', {'bin_by':'Weapon'}),\n",
    "    '-2': ('histogram', {'bin_by':'Weapon'}),\n",
    "    '-3': ('histogram', {'bin_by':'Weapon'}),\n",
    "    '-4': ('histogram', {'bin_by':'Weapon'}),\n",
    "    '-5': ('histogram', {'bin_by':'Weapon'}),\n",
    "    '-6': ('histogram', {'bin_by':'Weapon'})\n",
    "}\n",
    "rt.displaySVG(rt.placementSVGDebug(rt.dictionaryLayoutToSpatialDimensions(db7_dict, 500, 50,h_gap=4,v_gap=4)))"
   ]
  },
  {
   "cell_type": "code",
   "execution_count": null,
   "id": "26c82715-08f5-4fc5-b9f5-c0b5870c24f6",
   "metadata": {},
   "outputs": [],
   "source": [
    "db8_dict = {\n",
    "    '1,1':  ('histogram', {'bin_by':'Weapon'}),\n",
    "    '4,4':  ('histogram', {'bin_by':'Weapon'}),\n",
    "    '2,1':  ('histogram', {'bin_by':'Weapon'}),\n",
    "    '2,2':  ('histogram', {'bin_by':'Weapon'}),\n",
    "    '3,9':  ('histogram', {'bin_by':'Weapon'}),\n",
    "    '5,1':  ('histogram', {'bin_by':'Weapon'}),\n",
    "    '1,8':  ('histogram', {'bin_by':'Weapon'}),\n",
    "    '3,12': ('histogram', {'bin_by':'Weapon'})\n",
    "}\n",
    "rt.displaySVG(rt.placementSVGDebug(rt.dictionaryLayoutToSpatialDimensions(db8_dict, 1600, 1600,h_gap=2,v_gap=2)))"
   ]
  },
  {
   "cell_type": "code",
   "execution_count": null,
   "id": "49ff8f79-c6f4-444e-8df1-d43e295eda19",
   "metadata": {},
   "outputs": [],
   "source": [
    "db8_dict = {\n",
    "    '1,1|c':  ('histogram', {'bin_by':'Weapon'}),\n",
    "    '1,1|n':  ('histogram', {'bin_by':'Weapon'}),\n",
    "    '2,1|e':  ('histogram', {'bin_by':'Weapon'}),\n",
    "    '2,1|w':  ('histogram', {'bin_by':'Weapon'}),\n",
    "    '2,2|n':  ('histogram', {'bin_by':'Weapon'}),\n",
    "    '2,2|s':  ('histogram', {'bin_by':'Weapon'}),\n",
    "    '1,2|e':  ('histogram', {'bin_by':'Weapon'}),\n",
    "    '1,2|n':  ('histogram', {'bin_by':'Weapon'}),\n",
    "    '1,2|w':  ('histogram', {'bin_by':'Weapon'}),\n",
    "    '1,2|s':  ('histogram', {'bin_by':'Weapon'})\n",
    "}\n",
    "rt.displaySVG(rt.placementSVGDebug(rt.dictionaryLayoutToSpatialDimensions(db8_dict, 800, 800,h_gap=0,v_gap=0)))"
   ]
  },
  {
   "cell_type": "code",
   "execution_count": null,
   "id": "74358294-a8f1-4411-be07-9f480dc068b4",
   "metadata": {},
   "outputs": [],
   "source": [
    "db9_dict = {\n",
    "'c':('xy',{'x_field':'bin','y_field':'count'}),\n",
    "'n':('histogram',{'bin_by':'count'}),\n",
    "'w':'temporalBarChart'\n",
    "}\n",
    "rt.displaySVG(rt.placementSVGDebug(rt.dictionaryLayoutToSpatialDimensions(db9_dict, 512, 512, h_gap=0, v_gap=0)))"
   ]
  },
  {
   "cell_type": "code",
   "execution_count": null,
   "id": "3f9808a3",
   "metadata": {},
   "outputs": [],
   "source": []
  }
 ],
 "metadata": {
  "kernelspec": {
   "display_name": "Python 3.10.8 64-bit (microsoft store)",
   "language": "python",
   "name": "python3"
  },
  "language_info": {
   "codemirror_mode": {
    "name": "ipython",
    "version": 3
   },
   "file_extension": ".py",
   "mimetype": "text/x-python",
   "name": "python",
   "nbconvert_exporter": "python",
   "pygments_lexer": "ipython3",
   "version": "3.11.6"
  },
  "vscode": {
   "interpreter": {
    "hash": "b5404cabeb3d5c4d27bb5af16596b6c26c9a7e85445d485c4054e97964ff4082"
   }
  }
 },
 "nbformat": 4,
 "nbformat_minor": 5
}
