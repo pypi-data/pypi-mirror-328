{
 "cells": [
  {
   "cell_type": "code",
   "execution_count": null,
   "id": "cc5ec30b-60e9-4ac2-ae42-ca1281cc777f",
   "metadata": {},
   "outputs": [],
   "source": [
    "import pandas as pd\n",
    "import numpy as np\n",
    "import random\n",
    "import sys\n",
    "sys.path.insert(1, '../rtsvg')\n",
    "from rtsvg import *\n",
    "%matplotlib inline"
   ]
  },
  {
   "cell_type": "code",
   "execution_count": null,
   "id": "87ad7aa2-8a86-4f06-8370-b91819774bec",
   "metadata": {},
   "outputs": [],
   "source": [
    "rt = RACETrack()"
   ]
  },
  {
   "cell_type": "code",
   "execution_count": null,
   "id": "dc06a27f",
   "metadata": {},
   "outputs": [],
   "source": [
    "df  = pd.DataFrame({'timestamp':['2023-01-01', '2023-01-02', '2023-01-03'], 'value':    [10,           20,           15],   'gb':['a','a','a']})\n",
    "df['timestamp'] = pd.to_datetime(df['timestamp'],format='mixed')\n",
    "df2 = pd.DataFrame({'timestamp':['2023-01-01', '2023-01-02', '2023-01-03'], 'value':    [1020,         900,          1030], 'gb':['b','b','b']})\n",
    "df2['timestamp'] = pd.to_datetime(df2['timestamp'],format='mixed')\n",
    "_svg = rt.xy(df, x_field='timestamp', y_field='value', line_groupby_field='gb', df2=df2, x2_field='timestamp',y2_field='value',line2_groupby_field='gb')\n",
    "#_svg = rt.xy(df, color_by='gb', x_field='timestamp', y_field='value', df2=df2, df2_ts_field='timestamp',y2_field='value', dot_size='large')\n",
    "_svg"
   ]
  },
  {
   "cell_type": "code",
   "execution_count": null,
   "id": "d3051e4a",
   "metadata": {},
   "outputs": [],
   "source": [
    "rt.displaySVG(_svg)"
   ]
  },
  {
   "cell_type": "code",
   "execution_count": null,
   "id": "f24b2b35",
   "metadata": {},
   "outputs": [],
   "source": [
    "rt.displaySVGAsImage(_svg)"
   ]
  },
  {
   "cell_type": "code",
   "execution_count": null,
   "id": "2d430c14",
   "metadata": {},
   "outputs": [],
   "source": [
    "df        = pd.read_csv(\"../../data/netflow/netflow_sample.csv\")\n",
    "df['beg'] = pd.to_datetime(df['beg'])\n",
    "df        = df.rename({'beg':'timestamp'},axis=1)\n",
    "df.shape\n",
    "\n",
    "_sips_to_keep = pd.DataFrame(df.groupby('sip')\\\n",
    "                               .size())\\\n",
    "                             .reset_index()\\\n",
    "                             .rename({0:'rows'},axis=1)\n",
    "_sips_to_keep_set = set(_sips_to_keep.query('rows > 500')['sip'])"
   ]
  },
  {
   "cell_type": "code",
   "execution_count": null,
   "id": "d399596e",
   "metadata": {},
   "outputs": [],
   "source": [
    "df_agg = rt.temporalStatsAggregationWithGBFields(df.query('sip in @_sips_to_keep_set'), \n",
    "                                                 fields=['SBYT','DBYT','SPKT','DPKT','dip'], \n",
    "                                                 stats=['median','set_size'], \n",
    "                                                 gb_fields=['sip'], \n",
    "                                                 freq='D', \n",
    "                                                 fill_missing=True)"
   ]
  },
  {
   "cell_type": "code",
   "execution_count": null,
   "id": "63d022b9",
   "metadata": {},
   "outputs": [],
   "source": [
    "rt.displaySVG(rt.xy(df_agg, \n",
    "                    x_field='timestamp', \n",
    "                    y_field='SBYT_median', \n",
    "                    line_groupby_field='sip', \n",
    "                    line_groupby_w=2.0, \n",
    "                    y2_field='dip_set_size',\n",
    "                    line2_groupby_field='sip', \n",
    "                    dot_size='small', \n",
    "                    color_by='sip', w=768, h=256))"
   ]
  },
  {
   "cell_type": "code",
   "execution_count": null,
   "id": "a47c07e0",
   "metadata": {},
   "outputs": [],
   "source": [
    "_svg = rt.smallMultiples(df_agg, category_by='sip', color_by='sip', show_df_multiple=False,\n",
    "                         sm_type='xy', \n",
    "                         sm_params={'x_field':'timestamp',\n",
    "                                    'y_field':'SBYT_median', \n",
    "                                    'dot_size':None, \n",
    "                                    'line_groupby_field':'sip',\n",
    "                                    'y2_field':'dip_set_size',\n",
    "                                    'line2_groupby_field':'sip',\n",
    "                                    'line2_groupby_color':'#000000',\n",
    "                                    'draw_labels':True}, \n",
    "                         w=1024, h=768)\n",
    "rt.displaySVG(_svg)"
   ]
  },
  {
   "cell_type": "code",
   "execution_count": null,
   "id": "54887cb5",
   "metadata": {},
   "outputs": [],
   "source": [
    "rt.displaySVGAsImage(_svg)"
   ]
  },
  {
   "cell_type": "code",
   "execution_count": null,
   "id": "e83c31d0",
   "metadata": {},
   "outputs": [],
   "source": [
    "df_agg_simple = rt.temporalStatsAggregation(df,\n",
    "                                            ts_field='timestamp',\n",
    "                                            fields=['SBYT','DBYT','SPKT','DPKT','dip'], \n",
    "                                            stats=['median','set_size'],                                      \n",
    "                                            freq='D').reset_index()"
   ]
  },
  {
   "cell_type": "code",
   "execution_count": null,
   "id": "d401a112",
   "metadata": {},
   "outputs": [],
   "source": [
    "df_agg_simple['whatever'] = 'a'\n",
    "_svg = rt.xy(df_agg_simple, \n",
    "             x_field='timestamp', \n",
    "             y_field='SBYT_median', \n",
    "             line_groupby_field='whatever', \n",
    "             line_groupby_w=8.0, \n",
    "             y2_field='dip_set_size',\n",
    "             line2_groupby_field='whatever',\n",
    "             line2_groupby_w=3.0,\n",
    "             line2_groupby_color='#000000',\n",
    "             dot_size='small', \n",
    "             color_by='whatever', w=768, h=256)\n",
    "rt.displaySVG(_svg)"
   ]
  },
  {
   "cell_type": "code",
   "execution_count": null,
   "id": "e95d9ded",
   "metadata": {},
   "outputs": [],
   "source": [
    "rt.displaySVGAsImage(_svg)"
   ]
  },
  {
   "cell_type": "code",
   "execution_count": null,
   "id": "9cd5d169",
   "metadata": {},
   "outputs": [],
   "source": [
    "_svg = rt.smallMultiples(df_agg, category_by='sip', color_by='sip', show_df_multiple=False,\n",
    "                         sm_type='xy', \n",
    "                         sm_params={'x_field':'timestamp',\n",
    "                                    'y_field':'SBYT_median', \n",
    "                                    'dot_size':'medium',\n",
    "                                    'dot2_size':None, \n",
    "                                    'line_groupby_field':'sip',\n",
    "                                    'y2_field':'dip_set_size',\n",
    "                                    'line2_groupby_field':'sip',\n",
    "                                    'line2_groupby_color':'#000000',\n",
    "                                    'draw_labels':True}, \n",
    "                         w=1024, h=768)\n",
    "rt.displaySVG(_svg)"
   ]
  },
  {
   "cell_type": "code",
   "execution_count": null,
   "id": "f2b58fb9",
   "metadata": {},
   "outputs": [],
   "source": []
  }
 ],
 "metadata": {
  "kernelspec": {
   "display_name": "Python 3",
   "language": "python",
   "name": "python3"
  },
  "language_info": {
   "codemirror_mode": {
    "name": "ipython",
    "version": 3
   },
   "file_extension": ".py",
   "mimetype": "text/x-python",
   "name": "python",
   "nbconvert_exporter": "python",
   "pygments_lexer": "ipython3",
   "version": "3.10.6"
  },
  "vscode": {
   "interpreter": {
    "hash": "677ca678853aa41fc137f4b55f2bc0c694e45735c0d2faa667d2ec5acb71e67d"
   }
  }
 },
 "nbformat": 4,
 "nbformat_minor": 5
}
