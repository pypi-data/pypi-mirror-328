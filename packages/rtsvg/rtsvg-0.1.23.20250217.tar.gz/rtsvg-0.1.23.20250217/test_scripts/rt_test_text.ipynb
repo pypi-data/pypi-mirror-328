{
 "cells": [
  {
   "cell_type": "code",
   "execution_count": null,
   "metadata": {},
   "outputs": [],
   "source": [
    "import pandas as pd\n",
    "import sys\n",
    "import re\n",
    "sys.path.insert(1, '../rtsvg/') # base location of the .py classes\n",
    "from rtsvg import *\n",
    "rt = RACETrack()\n",
    "_text = 'test'\n",
    "rt.displaySVG(rt.textBlock(_text))"
   ]
  },
  {
   "cell_type": "code",
   "execution_count": null,
   "metadata": {},
   "outputs": [],
   "source": [
    "#\n",
    "# Source:  Project Gutenberg, War and Peace [Leo Tolstoy]\n",
    "#\n",
    "_text = \"\"\"It was in July, 1805, and the speaker was the well-known Anna Pávlovna\n",
    "Schérer, maid of honor and favorite of the Empress Márya Fëdorovna.\n",
    "With these words she greeted Prince Vasíli Kurágin, a man of high\n",
    "rank and importance, who was the first to arrive at her reception. Anna\n",
    "Pávlovna had had a cough for some days. She was, as she said, suffering\n",
    "from la grippe; grippe being then a new word in St. Petersburg, used\n",
    "only by the elite.\"\"\"\n",
    "rt.displaySVG(rt.textBlock(_text, w=rt.textMaxLinePixels(_text)+2*3, x_ins=3)) # Remember to add in the x_ins to the width (twice)"
   ]
  },
  {
   "cell_type": "code",
   "execution_count": null,
   "metadata": {},
   "outputs": [],
   "source": [
    "_text_joined = rt.textJoinNewLines(_text)\n",
    "rt.displaySVG(rt.textBlock(_text_joined, word_wrap=True))"
   ]
  },
  {
   "cell_type": "code",
   "execution_count": null,
   "metadata": {},
   "outputs": [],
   "source": [
    "rttb = rt.textBlock(_text_joined, txt_h=24, w=1280, word_wrap=True)\n",
    "rt.displaySVG(rttb.__debug_svgOfOverlayOriginalIndices__())"
   ]
  },
  {
   "cell_type": "code",
   "execution_count": null,
   "metadata": {},
   "outputs": [],
   "source": [
    "rt.displaySVG(rttb.__debug_svgOfWordColors__())"
   ]
  },
  {
   "cell_type": "code",
   "execution_count": null,
   "metadata": {},
   "outputs": [],
   "source": [
    "# Test out different variations of the highlight lookup table...\n",
    "to_highlight = {}\n",
    "to_highlight[(0,6)]                              = '#ff0000'\n",
    "to_highlight[(len(rttb.txt)-1,len(rttb.txt))]    = 'red'\n",
    "to_highlight['With these words']                 = '#0000ff'\n",
    "to_highlight['was']                              = 'green'\n",
    "# to_highlight['had']                            = 'green'\n",
    "to_underline = {}\n",
    "to_underline['arrive at her reception']          = '#000000'\n",
    "to_underline[(len(rttb.txt)-10,len(rttb.txt)-1)] = '#ff0000'\n",
    "\n",
    "to_strikethrough = {}\n",
    "to_strikethrough['had ']                        = '#0000ff'\n",
    "\n",
    "rt.displaySVG(rttb.wrap(rttb.background() + \n",
    "                        rttb.highlightsOverlay(to_highlight, opacity=0.3) + \n",
    "                        rttb.underlinesOverlay(to_underline) +\n",
    "                        rttb.underlinesOverlay(to_strikethrough,strikethrough=True) + \n",
    "                        rttb.unwrappedText()))"
   ]
  },
  {
   "cell_type": "code",
   "execution_count": null,
   "metadata": {},
   "outputs": [],
   "source": [
    "# Test out multiline spans....\n",
    "to_highlight = {}\n",
    "to_highlight[(0,138)]              = '#ff0000'\n",
    "to_highlight[(139,316)]            = 'green'\n",
    "to_highlight[(317,len(rttb.txt))]  = 'blue'\n",
    "rt.displaySVG(rttb.wrap(rttb.background() + rttb.highlightsOverlay(to_highlight, opacity=0.3) + rttb.unwrappedText()))"
   ]
  },
  {
   "cell_type": "code",
   "execution_count": null,
   "metadata": {},
   "outputs": [],
   "source": [
    "_txt = '   i    i    i index index   index    '\n",
    "rttb = rt.textBlock(_txt, txt_h=36, word_wrap=True)\n",
    "rt.displaySVG(rttb.__debug_svgOfOverlayOriginalIndices__())"
   ]
  },
  {
   "cell_type": "code",
   "execution_count": null,
   "metadata": {},
   "outputs": [],
   "source": [
    "rttb = rt.textBlock(_txt, txt_h=14, word_wrap=True)\n",
    "rt.displaySVG(rttb.__debug_svgOfOverlayOriginalIndices__())"
   ]
  },
  {
   "cell_type": "code",
   "execution_count": null,
   "metadata": {},
   "outputs": [],
   "source": [
    "_txt = 'california and florida and fun and full' # tests out kerning issues... with lowercase following \"f\"\n",
    "rttb = rt.textBlock(_txt, txt_h=64, word_wrap=True)\n",
    "rt.displaySVG(rttb.__debug_svgOfOverlayOriginalIndices__())"
   ]
  },
  {
   "cell_type": "code",
   "execution_count": null,
   "metadata": {},
   "outputs": [],
   "source": [
    "_txt = 'i played fetch with my dog, and then I went to the store.'\n",
    "rttb = rt.textBlock(_txt, txt_h=64, word_wrap=True)\n",
    "rt.displaySVG(rttb.__debug_svgOfOverlayOriginalIndices__())"
   ]
  },
  {
   "cell_type": "code",
   "execution_count": null,
   "metadata": {},
   "outputs": [],
   "source": [
    "# Check for kerning...\n",
    "_txt = \"Do fonts overlap characters?  I'm not sure...\"\n",
    "rttb = rt.textBlock(_txt, txt_h=64, word_wrap=True)\n",
    "rt.displaySVG(rttb.__debug_svgOfOverlayOriginalIndices__())"
   ]
  },
  {
   "cell_type": "code",
   "execution_count": null,
   "metadata": {},
   "outputs": [],
   "source": [
    "_txt = \"double  spaces  no  longer  fail  like  this ... letters with stems: jgy\"\n",
    "rttb = rt.textBlock(_txt, txt_h=32, word_wrap=True)\n",
    "rt.displaySVG(rttb.__debug_svgOfOverlayOriginalIndices__())"
   ]
  },
  {
   "cell_type": "code",
   "execution_count": null,
   "metadata": {},
   "outputs": [],
   "source": [
    "txt_w_urls = \"\"\"The following are a set of URL's to see how it handles single words the exceed the text length...\n",
    "https://someurl.sometopleveldomain/with/multiple/pages/going/here?some_param=%20%20%20\n",
    "and then we make the same one with a little variation in several ways...\n",
    "https://someurl.sometopleveldomain/with/multiple/pages/going/here?some_param=%20%20%20\n",
    "https://someurl.someothertopleveldomain/with/multiple/pages/going/here?some_param=%20%20%20\n",
    "https://someurl.someotherothertopleveldomain/with/multiple/pages/going/here?some_param=%20%20%20\n",
    "... and then repeat one more time...\n",
    "https://someurl.sometopleveldomain/with/multiple/pages/going/here?some_param=%20%20%20\"\"\"\n",
    "rt.displaySVG(rt.textBlock(txt_w_urls, txt_h=20, word_wrap=True))"
   ]
  },
  {
   "cell_type": "code",
   "execution_count": null,
   "metadata": {},
   "outputs": [],
   "source": [
    "rt.displaySVG(rt.textBlock(txt_w_urls, txt_h=20))"
   ]
  },
  {
   "cell_type": "code",
   "execution_count": null,
   "metadata": {},
   "outputs": [],
   "source": [
    "txt_w_nl = \"\"\"This is supposed to stay\n",
    "all together.  And be within the same paragraph... more text here... and more text and more text and more text.\n",
    "\n",
    "Supposed to be a new paragraph.\n",
    "\n",
    "\n",
    "\n",
    "And another new paragraph.  And be within the same paragraph... more text here... and more text and more text and more text.\n",
    "\n",
    "more\n",
    "\"\"\"\n",
    "rt.displaySVG(rt.textBlock(rt.textJoinNewLines(txt_w_nl), txt_h=20, word_wrap=True))"
   ]
  },
  {
   "cell_type": "code",
   "execution_count": null,
   "metadata": {},
   "outputs": [],
   "source": [
    "rt.displaySVG(rt.textBlock(rt.textJoinNewLinesBetter(txt_w_nl), txt_h=20, word_wrap=True))"
   ]
  },
  {
   "cell_type": "code",
   "execution_count": null,
   "metadata": {},
   "outputs": [],
   "source": [
    "txt_w_nl = \"this\\n\\nthat\\n\\nwhatever\\nmore\\n\\n\\n\\nmore\\nstuff\\nsomething\\n\\nmore\"\n",
    "# txt_w_nl = \"more\\n\\n\\n\\nsomething\\n\\nmore\"\n",
    "# txt_w_nl = \"this\\nsomething\\n\\nmore\"\n",
    "rt.displaySVG(rt.textBlock(rt.textJoinNewLinesBetter(txt_w_nl), txt_h=20, word_wrap=True))"
   ]
  },
  {
   "cell_type": "code",
   "execution_count": null,
   "metadata": {},
   "outputs": [],
   "source": [
    "# Validate spacing...\n",
    "_txt = \"xxxxxxxxxxxxxxxxxxxxxxxxxxxxxxxxxxxxxxxxxxxxxxxxxxxxxxxxxxxxxxx\"\n",
    "rttb = rt.textBlock(_txt, txt_h=16, w=1024, word_wrap=True)\n",
    "rt.displaySVG(rttb.__debug_svgOfOverlayOriginalIndices__())"
   ]
  },
  {
   "cell_type": "code",
   "execution_count": null,
   "metadata": {},
   "outputs": [],
   "source": [
    "rttb"
   ]
  },
  {
   "cell_type": "code",
   "execution_count": null,
   "metadata": {},
   "outputs": [],
   "source": [
    "# Validate spacing\n",
    "_txt = \"xxxxxxxxxxxxxxxxxxxxxxxxxxxxxxxxxxxxxxxxxxxxxxxxxxxxxxxxxxxxxxx\"\n",
    "rttb = rt.textBlock(_txt, txt_h=12, w=1024, word_wrap=True)\n",
    "rt.displaySVG(rttb.__debug_svgOfOverlayOriginalIndices__())"
   ]
  },
  {
   "cell_type": "code",
   "execution_count": null,
   "metadata": {},
   "outputs": [],
   "source": [
    "# Validate spacing\n",
    "_txt = \"x \"*32\n",
    "rttb = rt.textBlock(_txt, txt_h=12, w=1024, word_wrap=True)\n",
    "rt.displaySVG(rttb.__debug_svgOfOverlayOriginalIndices__())"
   ]
  },
  {
   "cell_type": "code",
   "execution_count": null,
   "metadata": {},
   "outputs": [],
   "source": []
  }
 ],
 "metadata": {
  "kernelspec": {
   "display_name": "Python 3 (ipykernel)",
   "language": "python",
   "name": "python3"
  },
  "language_info": {
   "codemirror_mode": {
    "name": "ipython",
    "version": 3
   },
   "file_extension": ".py",
   "mimetype": "text/x-python",
   "name": "python",
   "nbconvert_exporter": "python",
   "pygments_lexer": "ipython3",
   "version": "3.11.4"
  }
 },
 "nbformat": 4,
 "nbformat_minor": 2
}
