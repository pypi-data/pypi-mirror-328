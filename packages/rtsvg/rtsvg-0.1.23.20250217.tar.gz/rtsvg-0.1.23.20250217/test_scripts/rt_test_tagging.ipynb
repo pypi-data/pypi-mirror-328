{
 "cells": [
  {
   "cell_type": "code",
   "execution_count": null,
   "metadata": {},
   "outputs": [],
   "source": [
    "import pandas as pd\n",
    "import polars as pl\n",
    "import numpy  as np\n",
    "import sys\n",
    "sys.path.insert(1, '../rtsvg')\n",
    "from rtsvg import *\n",
    "rt = RACETrack()"
   ]
  },
  {
   "cell_type": "code",
   "execution_count": null,
   "metadata": {},
   "outputs": [],
   "source": [
    "# NOTE THAT PANDAS IMPL MODIFIES IN-PLACE...\n",
    "df = pd.DataFrame({'a':[1,1,2,2,3,3,4,4,4],\n",
    "                   'b':[5,6,7,8,9,1,2,3,4]})\n",
    "df_pl = pl.DataFrame(df)\n",
    "df = rt.tag(df, df.query('a <= 2'), 'a_lte_2')\n",
    "df = rt.tag(df, df.query('a == 3'), 'a_eq_3', 'set')\n",
    "df = rt.tag(df, df.query('a <= 3'), 'a_lte_3')\n",
    "df = rt.tag(df, df.query('b == 4'), 'b_eq_4')\n",
    "df = rt.tag(df, df, 'x=5')\n",
    "df = rt.tag(df, df, 'x=6')\n",
    "df = rt.tag(df, df.query('b == 5'), 'x=1')\n",
    "df"
   ]
  },
  {
   "cell_type": "code",
   "execution_count": null,
   "metadata": {},
   "outputs": [],
   "source": [
    "# NOTE THAT POLARS DOES NOT MODIFY IN-PLACE...\n",
    "df_pl = rt.tag(df_pl, df_pl.filter(pl.col('a') <= 2), 'a_lte_2')\n",
    "df_pl = rt.tag(df_pl, df_pl.filter(pl.col('a') == 3), 'a_eq_3', 'set')\n",
    "df_pl = rt.tag(df_pl, df_pl.filter(pl.col('a') <= 3), 'a_lte_3')\n",
    "df_pl = rt.tag(df_pl, df_pl.filter(pl.col('b') == 4), 'b_eq_4')\n",
    "df_pl = rt.tag(df_pl, df_pl, 'x=5')\n",
    "df_pl = rt.tag(df_pl, df_pl, 'x=6')\n",
    "df_pl = rt.tag(df_pl, df_pl.filter(pl.col('b') == 5), 'x=1')\n",
    "df_pl"
   ]
  },
  {
   "cell_type": "code",
   "execution_count": null,
   "metadata": {},
   "outputs": [],
   "source": []
  }
 ],
 "metadata": {
  "kernelspec": {
   "display_name": ".venv",
   "language": "python",
   "name": "python3"
  },
  "language_info": {
   "codemirror_mode": {
    "name": "ipython",
    "version": 3
   },
   "file_extension": ".py",
   "mimetype": "text/x-python",
   "name": "python",
   "nbconvert_exporter": "python",
   "pygments_lexer": "ipython3",
   "version": "3.11.6"
  }
 },
 "nbformat": 4,
 "nbformat_minor": 2
}
