{
 "cells": [
  {
   "cell_type": "code",
   "execution_count": null,
   "id": "cc5ec30b-60e9-4ac2-ae42-ca1281cc777f",
   "metadata": {},
   "outputs": [],
   "source": [
    "import pandas as pd\n",
    "import sys\n",
    "sys.path.insert(1, '../rtsvg')\n",
    "from rtsvg import *\n",
    "%matplotlib inline"
   ]
  },
  {
   "cell_type": "code",
   "execution_count": null,
   "id": "87ad7aa2-8a86-4f06-8370-b91819774bec",
   "metadata": {},
   "outputs": [],
   "source": [
    "rt = RACETrack()\n",
    "\n",
    "def sideBySide(df, bin_by, count_by=None, count_by_set=False, color_by=None, w=512, h=128):\n",
    "    svg = f'<svg width=\"{w}\" height=\"{h}\">'\n",
    "    svg += rt.histogramInstance(df=df,bin_by=bin_by,count_by=count_by,count_by_set=count_by_set,color_by=color_by,w=w/2,h=h,x_view=0  ).renderSVG()\n",
    "    svg += rt.histogram        (df=df,bin_by=bin_by,count_by=count_by,count_by_set=count_by_set,color_by=color_by,w=w/2,h=h,x_view=w/2)\n",
    "    svg += '</svg>'\n",
    "    return svg"
   ]
  },
  {
   "cell_type": "code",
   "execution_count": null,
   "id": "9298b8d1-8058-4038-ae86-360cf008fe41",
   "metadata": {},
   "outputs": [],
   "source": [
    "df = pd.DataFrame({'pet':   ['dog',  'dog',   'dog',    'cat',    'cat',  'cat',   'horse', 'pig',  'pig',  'pig'],\n",
    "                   'color': ['brown','yellow','yellow', 'yellow', 'gray', 'white', 'brown', 'pink', 'pink', 'pink'],\n",
    "                   'weight':[10,      20,     30,       5,         10,    3,       100,      35,     30,    30]})\n",
    "rt.displaySVG(sideBySide(df, 'pet',count_by='weight',color_by='color'))"
   ]
  },
  {
   "cell_type": "code",
   "execution_count": null,
   "id": "253e1947-b17b-4fce-8173-6bccd7422f1e",
   "metadata": {},
   "outputs": [],
   "source": [
    "df = pd.DataFrame({'first name':['mary',   'david',  'john',   'david',  'david', 'john',  'david',   'david',   'john'],\n",
    "                          'age':[50,       40,       30,       45,       20,      30,      50,        50,        30],\n",
    "                         'hair':['brown',  'brown',  'white',  'white',  'red',   'red',   'brown',   'brown',   'white'],\n",
    "                       'salary':[150000,   60000,    90000,    20000,    20000,   80000,   40000,     35000,     40000]})\n",
    "rt.displaySVG(sideBySide(df=df,bin_by=['first name'],count_by='salary',color_by='hair'))"
   ]
  },
  {
   "cell_type": "code",
   "execution_count": null,
   "id": "7d116a2f",
   "metadata": {},
   "outputs": [],
   "source": [
    "rt.displaySVG(sideBySide(df=df,bin_by=['first name','age'],count_by='salary',color_by='hair'))"
   ]
  },
  {
   "cell_type": "code",
   "execution_count": null,
   "id": "3d292f62",
   "metadata": {},
   "outputs": [],
   "source": [
    "rt.displaySVG(sideBySide(df=df,bin_by=['first name','age','salary'],count_by='salary',color_by='hair'))"
   ]
  },
  {
   "cell_type": "code",
   "execution_count": null,
   "id": "f6a88f2b",
   "metadata": {},
   "outputs": [],
   "source": [
    "rt.displaySVG(sideBySide(df=df,bin_by=['first name','age','salary','hair'],count_by='salary',color_by='hair',h=160))"
   ]
  },
  {
   "cell_type": "code",
   "execution_count": null,
   "id": "1f9e5cdd",
   "metadata": {},
   "outputs": [],
   "source": [
    "rt.displaySVG(sideBySide(df=df,bin_by=['first name','age','salary','hair'],count_by='hair',color_by='hair',h=160))"
   ]
  },
  {
   "cell_type": "code",
   "execution_count": null,
   "id": "34427650",
   "metadata": {},
   "outputs": [],
   "source": [
    "rt.histogramInstance(df,'first name','hair')"
   ]
  },
  {
   "cell_type": "code",
   "execution_count": null,
   "id": "68cf9842",
   "metadata": {},
   "outputs": [],
   "source": []
  }
 ],
 "metadata": {
  "kernelspec": {
   "display_name": "Python 3",
   "language": "python",
   "name": "python3"
  },
  "language_info": {
   "codemirror_mode": {
    "name": "ipython",
    "version": 3
   },
   "file_extension": ".py",
   "mimetype": "text/x-python",
   "name": "python",
   "nbconvert_exporter": "python",
   "pygments_lexer": "ipython3",
   "version": "3.10.6"
  },
  "vscode": {
   "interpreter": {
    "hash": "677ca678853aa41fc137f4b55f2bc0c694e45735c0d2faa667d2ec5acb71e67d"
   }
  }
 },
 "nbformat": 4,
 "nbformat_minor": 5
}
