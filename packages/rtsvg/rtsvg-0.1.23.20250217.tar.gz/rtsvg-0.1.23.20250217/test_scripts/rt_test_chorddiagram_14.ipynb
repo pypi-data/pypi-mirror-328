{
 "cells": [
  {
   "cell_type": "code",
   "execution_count": null,
   "metadata": {},
   "outputs": [],
   "source": [
    "import pandas as pd\n",
    "import polars as pl\n",
    "import numpy as np\n",
    "from math import pi, sin, cos\n",
    "import sys\n",
    "sys.path.insert(1, '../rtsvg')\n",
    "from rtsvg import *\n",
    "rt = RACETrack()"
   ]
  },
  {
   "cell_type": "code",
   "execution_count": null,
   "metadata": {},
   "outputs": [],
   "source": [
    "df     = pd.DataFrame({'fm':['cat', 'dog', 'cow',   'horse', 'horse', 'horse'], \n",
    "                       'to':['dog', 'cow', 'horse', 'cat',   'cow',   'cat']})\n",
    "params = {'df':df, 'relationships':[('fm','to')], 'draw_labels':True}\n",
    "rt.tile([rt.chordDiagram(**params),\n",
    "         rt.chordDiagram(label_style='radial',   **params),\n",
    "         rt.chordDiagram(label_style='circular', **params)])"
   ]
  },
  {
   "cell_type": "code",
   "execution_count": null,
   "metadata": {},
   "outputs": [],
   "source": [
    "params = {'df':df, 'relationships':[('fm','to')], 'draw_labels':True, 'x_ins':16, 'y_ins':16, 'node_gap':5}\n",
    "svgs = []\n",
    "for i in range(2):\n",
    "    if i == 1:\n",
    "        params['equal_size_nodes'] = True\n",
    "    svgs.append(rt.chordDiagram(                                     **params))\n",
    "    svgs.append(rt.chordDiagram(order=['dog','horse', 'cow', 'cat'], **params))\n",
    "    svgs.append(rt.chordDiagram(order=['dog','horse'              ], **params))\n",
    "    svgs.append(rt.chordDiagram(order=['dog',         'cow'       ], **params))\n",
    "    svgs.append(rt.chordDiagram(order=[      'horse', 'cow', 'cat'], **params))\n",
    "rt.table(svgs,per_row=5)"
   ]
  },
  {
   "cell_type": "code",
   "execution_count": null,
   "metadata": {},
   "outputs": [],
   "source": [
    "df = pd.DataFrame({'fm':['a','b','c','d','e','f','g','h','i','j','j','j'],\n",
    "                   'to':['b','c','d','e','f','g','h','i','j','a','a','b']})\n",
    "svgs   = []\n",
    "params = {'df':df, 'relationships':[('fm','to')], 'draw_labels':True, 'x_ins':16, 'y_ins':16, 'node_gap':10}\n",
    "for i in range(2):\n",
    "    if i == 1:\n",
    "        params['equal_size_nodes'] = True\n",
    "    svgs.append(rt.chordDiagram(**params))\n",
    "    svgs.append(rt.chordDiagram(order=['c','d','a','b',     'e',     'f',               'g','h','i','j'     ], **params))\n",
    "    svgs.append(rt.chordDiagram(order=['a','b','c','d',None,'e',     'f',               'g','h','i','j'     ], **params))\n",
    "    svgs.append(rt.chordDiagram(order=['a','b','c','d',None,'e',None,'f',               'g','h','i','j',None], **params))\n",
    "    svgs.append(rt.chordDiagram(order=['a','b','c','d',None,'e',     'f',None,None,None,'g','h','i','j'     ], **params))\n",
    "rt.table(svgs,per_row=5)"
   ]
  },
  {
   "cell_type": "code",
   "execution_count": null,
   "metadata": {},
   "outputs": [],
   "source": [
    "svgs = []\n",
    "for i in range(2):\n",
    "    label_only = set(['a','c','e','h']) if i == 1 else set()\n",
    "    params = {'df':df, 'relationships':[('fm','to')], 'draw_labels':True, 'x_ins':16, 'y_ins':16, 'label_only':label_only}\n",
    "    svgs.append(rt.chordDiagram(                                                 **params))\n",
    "    svgs.append(rt.chordDiagram(                         label_style='circular', **params))\n",
    "    svgs.append(rt.chordDiagram(txt_offset=10,                                   **params))\n",
    "    svgs.append(rt.chordDiagram(txt_offset=10,           label_style='circular', **params))\n",
    "    svgs.append(rt.chordDiagram(txt_offset=10, txt_h=24,                         **params))\n",
    "    svgs.append(rt.chordDiagram(txt_offset=10, txt_h=24, label_style='circular', **params))\n",
    "rt.table(svgs, per_row=6)"
   ]
  },
  {
   "cell_type": "code",
   "execution_count": null,
   "metadata": {},
   "outputs": [],
   "source": []
  }
 ],
 "metadata": {
  "kernelspec": {
   "display_name": ".venv",
   "language": "python",
   "name": "python3"
  },
  "language_info": {
   "codemirror_mode": {
    "name": "ipython",
    "version": 3
   },
   "file_extension": ".py",
   "mimetype": "text/x-python",
   "name": "python",
   "nbconvert_exporter": "python",
   "pygments_lexer": "ipython3",
   "version": "3.11.6"
  }
 },
 "nbformat": 4,
 "nbformat_minor": 2
}
