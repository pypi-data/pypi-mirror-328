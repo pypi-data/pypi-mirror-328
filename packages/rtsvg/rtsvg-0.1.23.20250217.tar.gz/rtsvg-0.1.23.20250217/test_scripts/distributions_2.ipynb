{
 "cells": [
  {
   "cell_type": "code",
   "execution_count": null,
   "metadata": {},
   "outputs": [],
   "source": [
    "import pandas as pd\n",
    "import polars as pl\n",
    "import numpy  as np\n",
    "import sys\n",
    "sys.path.insert(1, '../rtsvg')\n",
    "from rtsvg import *\n",
    "rt = RACETrack()"
   ]
  },
  {
   "cell_type": "code",
   "execution_count": null,
   "metadata": {},
   "outputs": [],
   "source": [
    "dfs = [pd.DataFrame({'x':np.random.normal( 5.0, 2.5, size=100000)}),\n",
    "       pd.DataFrame({'x':np.random.normal(-1.0, 3.5, size=80000)}),\n",
    "       pd.DataFrame({'x':np.random.normal( 8.0, 4.5, size=20000)}),\n",
    "       pd.DataFrame({'x':np.random.normal( 5.0, 2.5, size=10000)})]\n",
    "for x in range(len(dfs)):\n",
    "    dfs[x]['cat'] = x\n",
    "df = pd.concat(dfs)\n",
    "df_pl = pl.DataFrame(df)\n",
    "df.sample(3)"
   ]
  },
  {
   "cell_type": "code",
   "execution_count": null,
   "metadata": {},
   "outputs": [],
   "source": [
    "svgs = []\n",
    "svgs.append(rt.xy(df,                   x_field='x', y_field='x', render_x_distribution=50, distribution_style='inside', distribution_h_perc=1.0, dot_size='hidden'))\n",
    "svgs.append(rt.xy(df.query('cat == 0'), x_field='x', y_field='x', render_x_distribution=50, distribution_style='inside', distribution_h_perc=1.0, dot_size='hidden'))\n",
    "svgs.append(rt.xy(df.query('cat == 1'), x_field='x', y_field='x', render_x_distribution=50, distribution_style='inside', distribution_h_perc=1.0, dot_size='hidden'))\n",
    "svgs.append(rt.xy(df.query('cat == 2'), x_field='x', y_field='x', render_x_distribution=50, distribution_style='inside', distribution_h_perc=1.0, dot_size='hidden'))\n",
    "svgs.append(rt.xy(df.query('cat == 3'), x_field='x', y_field='x', render_x_distribution=50, distribution_style='inside', distribution_h_perc=1.0, dot_size='hidden'))\n",
    "rt.tile(svgs)\n"
   ]
  },
  {
   "cell_type": "code",
   "execution_count": null,
   "metadata": {},
   "outputs": [],
   "source": [
    "svgs = []\n",
    "svgs.append(rt.xy(**rt.distroXY(df, 'x', 'cat')))\n",
    "svgs.append(rt.xy(**rt.distroXY(df, 'x', 'cat', bins=5)))\n",
    "svgs.append(rt.xy(**rt.distroXY(df, 'x', 'cat', bins=10)))\n",
    "svgs.append(rt.xy(**rt.distroXY(df, 'x', 'cat', bins=40)))\n",
    "svgs.append(rt.xy(**rt.distroXY(df, 'x', 'cat', bins=40, use_norm=True)))\n",
    "svgs.append(rt.xy(**rt.distroXY(df, 'x')))\n",
    "svgs.append(rt.xy(**rt.distroXY(df, 'x', bins=5)))\n",
    "svgs.append(rt.xy(**rt.distroXY(df, 'x', bins=10)))\n",
    "svgs.append(rt.xy(**rt.distroXY(df, 'x', bins=40)))\n",
    "svgs.append(rt.xy(**rt.distroXY(df, 'x', bins=40, use_norm=True)))\n",
    "rt.table(svgs, per_row=5)"
   ]
  },
  {
   "cell_type": "code",
   "execution_count": null,
   "metadata": {},
   "outputs": [],
   "source": [
    "svgs = []\n",
    "svgs.append(rt.xy(**rt.distroXY(df_pl, 'x', 'cat')))\n",
    "svgs.append(rt.xy(**rt.distroXY(df_pl, 'x', 'cat', bins=5)))\n",
    "svgs.append(rt.xy(**rt.distroXY(df_pl, 'x', 'cat', bins=10)))\n",
    "svgs.append(rt.xy(**rt.distroXY(df_pl, 'x', 'cat', bins=40)))\n",
    "svgs.append(rt.xy(**rt.distroXY(df_pl, 'x', 'cat', bins=40, use_norm=True)))\n",
    "svgs.append(rt.xy(**rt.distroXY(df_pl, 'x')))\n",
    "svgs.append(rt.xy(**rt.distroXY(df_pl, 'x', bins=5)))\n",
    "svgs.append(rt.xy(**rt.distroXY(df_pl, 'x', bins=10)))\n",
    "svgs.append(rt.xy(**rt.distroXY(df_pl, 'x', bins=40)))\n",
    "svgs.append(rt.xy(**rt.distroXY(df_pl, 'x', bins=40, use_norm=True)))\n",
    "rt.table(svgs, per_row=5)"
   ]
  }
 ],
 "metadata": {
  "kernelspec": {
   "display_name": ".venv",
   "language": "python",
   "name": "python3"
  },
  "language_info": {
   "codemirror_mode": {
    "name": "ipython",
    "version": 3
   },
   "file_extension": ".py",
   "mimetype": "text/x-python",
   "name": "python",
   "nbconvert_exporter": "python",
   "pygments_lexer": "ipython3",
   "version": "3.11.6"
  }
 },
 "nbformat": 4,
 "nbformat_minor": 2
}
