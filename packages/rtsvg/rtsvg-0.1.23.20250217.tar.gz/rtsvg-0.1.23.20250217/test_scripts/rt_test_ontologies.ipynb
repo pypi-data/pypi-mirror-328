{
 "cells": [
  {
   "cell_type": "code",
   "execution_count": null,
   "metadata": {},
   "outputs": [],
   "source": [
    "import polars as pl\n",
    "import rtsvg\n",
    "import json\n",
    "rt = rtsvg.RACETrack()"
   ]
  },
  {
   "cell_type": "code",
   "execution_count": null,
   "metadata": {},
   "outputs": [],
   "source": [
    "_json_txt_ = '''\n",
    "{\"id\":1,\n",
    "\"people\":[{\"first\":\"John\", \"last\":\"Smith\", \"id\":10, \"citescore\":2.3, \"age\":30, \"city\":\"nyc\",          \"state\":\"ny\", \"country\":\"us\"},\n",
    "        {\"first\":\"Joe\",  \"last\":\"Smith\", \"id\":20, \"citescore\":1.8, \"age\":35,                        \"state\":\"ny\", \"country\":\"us\"},\n",
    "        {\"first\":\"Mary\", \"last\":\"Jones\", \"id\":30, \"age\":32, \"city\":\"philadelphia\", \"state\":\"pa\", \"country\":\"us\"}],\n",
    "\"knowsFrom\":[[10, 20, \"Conference A\"], \n",
    "            [20, 30, \"Conference B\"]],\n",
    "\"education\":[{\"id\":10, \"degreeReceived\":\"Ph.D. in Computer Science\",   \"university\":\"Stanford University\"},\n",
    "            {\"id\":10, \"degreeReceived\":\"Masters in Computer Science\", \"university\":\"University of Pennsylvania\"}],\n",
    "\"total_people\":3\n",
    "}'''\n",
    "_json_simple_  = json.loads(_json_txt_)\n",
    "\n",
    "def concatNames(_last_,_first_):\n",
    "    return _last_ + ' ' + _first_\n",
    "def combineAddress(_city_,_state_,_country_):\n",
    "    s = ''\n",
    "    if _city_    is not None: s += _city_\n",
    "    if _state_   is not None: s += ', ' + _state_    if (len(s) > 0) else _state_\n",
    "    if _country_ is not None: s += ', ' + _country_  if (len(s) > 0) else _country_\n",
    "    return s if (len(s) > 0) else 'Not Supplied'\n",
    "_xform_simple_ = '''\n",
    "_id_ = '$.people[*].id' | PersonID | uniq\n",
    "'$.id'                                --- \"hasEntryCount\"    --- '$.total_people' | xsd:integer                                                                           ^^^ \"IN_TEMPLATE\"\n",
    "_id_                                  --- \"hasName\"          --- concatNames('$.people[*].last', '$.people[*].first') | xsd:string                                        ^^^ \"IN_TEMPLATE\"\n",
    "_id_                                  --- \"hasCitationScore\" --- '$.people[*].citescore' | xsd:float   | valu                                                             ^^^ '$.id'    \n",
    "_id_                                  --- \"hasAge\"           --- '$.people[*].age'       | xsd:integer | valu                                                             ^^^ '$.id'\n",
    "_id_                                  --- \"isFrom\"           --- combineAddress('$.people[*].city', '$.people[*].state', '$.people[*].country') | CityStateCountry | uniq ^^^ '$.id'\n",
    "_id_                                  --- \"isFromCity\"       --- '$.people[*].city'      | City                                                                           ^^^ '$.id'\n",
    "'$.knowsFrom[*][0]' | PersonID | uniq --- \"knows\"            --- '$.knowsFrom[*][1]'     | PersonID    | uniq                 @@@ '$.knowsFrom[*][2]' | xsd:string | uniq ^^^ '$.id'\n",
    "'''\n",
    "ofv_simple = rt.ontologyFrameworkInstance(xform_spec=_xform_simple_, funcs={'concatNames': concatNames, 'combineAddress': combineAddress})\n",
    "ofv_simple.parse(_json_simple_)\n",
    "len(ofv_simple.df_triples)"
   ]
  },
  {
   "cell_type": "code",
   "execution_count": null,
   "metadata": {},
   "outputs": [],
   "source": []
  }
 ],
 "metadata": {
  "kernelspec": {
   "display_name": ".venv",
   "language": "python",
   "name": "python3"
  },
  "language_info": {
   "codemirror_mode": {
    "name": "ipython",
    "version": 3
   },
   "file_extension": ".py",
   "mimetype": "text/x-python",
   "name": "python",
   "nbconvert_exporter": "python",
   "pygments_lexer": "ipython3",
   "version": "3.12.3"
  }
 },
 "nbformat": 4,
 "nbformat_minor": 2
}
