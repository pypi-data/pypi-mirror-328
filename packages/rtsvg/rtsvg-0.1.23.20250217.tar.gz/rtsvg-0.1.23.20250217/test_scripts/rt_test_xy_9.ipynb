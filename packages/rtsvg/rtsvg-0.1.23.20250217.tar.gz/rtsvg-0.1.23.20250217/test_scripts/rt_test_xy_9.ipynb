{
 "cells": [
  {
   "cell_type": "code",
   "execution_count": null,
   "id": "cc5ec30b-60e9-4ac2-ae42-ca1281cc777f",
   "metadata": {},
   "outputs": [],
   "source": [
    "import pandas as pd\n",
    "import numpy as np\n",
    "import random\n",
    "import sys\n",
    "sys.path.insert(1, '../rtsvg')\n",
    "from rtsvg import *\n",
    "%matplotlib inline"
   ]
  },
  {
   "cell_type": "code",
   "execution_count": null,
   "id": "87ad7aa2-8a86-4f06-8370-b91819774bec",
   "metadata": {},
   "outputs": [],
   "source": [
    "rt = RACETrack()"
   ]
  },
  {
   "cell_type": "code",
   "execution_count": null,
   "id": "5a71ef33",
   "metadata": {},
   "outputs": [],
   "source": [
    "df = pd.DataFrame({'x':['abc', 'def',  'ghi',   'jkl',    'mno'],\n",
    "                   'y':[1,     2,      3,       4,        5],\n",
    "                   'c':['red', 'blue', 'green', 'orange', 'black']})\n",
    "rt.displaySVG(rt.xy(df, x_field='x', y_field='y', color_by='c',dot_size='large'))"
   ]
  },
  {
   "cell_type": "code",
   "execution_count": null,
   "id": "d2506c03",
   "metadata": {},
   "outputs": [],
   "source": [
    "rt.displaySVG(rt.xy(df, x_field='x', y_field='y', color_by='c', x_order=['mno','jkl','abc'],  dot_size='large'))"
   ]
  },
  {
   "cell_type": "code",
   "execution_count": null,
   "id": "b60afb6c",
   "metadata": {},
   "outputs": [],
   "source": []
  }
 ],
 "metadata": {
  "kernelspec": {
   "display_name": "Python 3",
   "language": "python",
   "name": "python3"
  },
  "language_info": {
   "codemirror_mode": {
    "name": "ipython",
    "version": 3
   },
   "file_extension": ".py",
   "mimetype": "text/x-python",
   "name": "python",
   "nbconvert_exporter": "python",
   "pygments_lexer": "ipython3",
   "version": "3.11.1"
  },
  "vscode": {
   "interpreter": {
    "hash": "677ca678853aa41fc137f4b55f2bc0c694e45735c0d2faa667d2ec5acb71e67d"
   }
  }
 },
 "nbformat": 4,
 "nbformat_minor": 5
}
