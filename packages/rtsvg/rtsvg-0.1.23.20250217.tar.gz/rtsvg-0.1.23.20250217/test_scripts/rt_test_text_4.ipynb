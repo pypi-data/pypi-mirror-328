{
 "cells": [
  {
   "cell_type": "code",
   "execution_count": null,
   "metadata": {},
   "outputs": [],
   "source": [
    "import pandas as pd\n",
    "import sys\n",
    "import re\n",
    "sys.path.insert(1, '../rtsvg/') # base location of the .py classes\n",
    "from rtsvg import *\n",
    "rt = RACETrack()"
   ]
  },
  {
   "cell_type": "code",
   "execution_count": null,
   "metadata": {},
   "outputs": [],
   "source": [
    "#\n",
    "# Source:  Project Gutenberg, War and Peace [Leo Tolstoy]\n",
    "#\n",
    "_text = \"\"\"\n",
    "“Well, Prince, so Genoa and Lucca are now just family estates of the\n",
    "Buonapartes. But I warn you, if you don’t tell me that this means war,\n",
    "if you still try to defend the infamies and horrors perpetrated by that\n",
    "Antichrist—I really believe he is Antichrist—I will have nothing\n",
    "more to do with you and you are no longer my friend, no longer my\n",
    "‘faithful slave,’ as you call yourself! But how do you do? I see I\n",
    "have frightened you—sit down and tell me all the news.”\n",
    "\n",
    "It was in July, 1805, and the speaker was the well-known Anna Pávlovna\n",
    "Schérer, maid of honor and favorite of the Empress Márya Fëdorovna.\n",
    "With these words she greeted Prince Vasíli Kurágin, a man of high\n",
    "rank and importance, who was the first to arrive at her reception. Anna\n",
    "Pávlovna had had a cough for some days. She was, as she said, suffering\n",
    "from la grippe; grippe being then a new word in St. Petersburg, used\n",
    "only by the elite.\n",
    "\n",
    "All her invitations without exception, written in French, and delivered\n",
    "by a scarlet-liveried footman that morning, ran as follows:\n",
    "\n",
    "“If you have nothing better to do, Count (or Prince), and if the\n",
    "prospect of spending an evening with a poor invalid is not too terrible,\n",
    "I shall be very charmed to see you tonight between 7 and 10—Annette\n",
    "Schérer.”\n",
    "\n",
    "“Heavens! what a virulent attack!” replied the prince, not in the\n",
    "least disconcerted by this reception. He had just entered, wearing an\n",
    "embroidered court uniform, knee breeches, and shoes, and had stars on\n",
    "his breast and a serene expression on his flat face. He spoke in that\n",
    "refined French in which our grandfathers not only spoke but thought, and\n",
    "with the gentle, patronizing intonation natural to a man of importance\n",
    "who had grown old in society and at court. He went up to Anna Pávlovna,\n",
    "kissed her hand, presenting to her his bald, scented, and shining head,\n",
    "and complacently seated himself on the sofa.\n",
    "\n",
    "“First of all, dear friend, tell me how you are. Set your friend’s\n",
    "mind at rest,” said he without altering his tone, beneath the\n",
    "politeness and affected sympathy of which indifference and even irony\n",
    "could be discerned.\n",
    "\"\"\"\n",
    "_text = rt.textJoinNewLinesBetter(_text)\n",
    "rttb = rt.textBlock(_text, w=512, word_wrap=True, txt_h=18)\n",
    "rttb"
   ]
  },
  {
   "cell_type": "code",
   "execution_count": null,
   "metadata": {},
   "outputs": [],
   "source": [
    "df  = rttb.positionalDataFrame()\n",
    "_df = df.query('type == \"para\" and num >= 2 and num <= 3')\n",
    "rt.displaySVG(rttb.renderDataFrame(_df))"
   ]
  },
  {
   "cell_type": "code",
   "execution_count": null,
   "metadata": {},
   "outputs": [],
   "source": [
    "df  = rttb.positionalDataFrame()\n",
    "_df = df.query('type == \"para\" and num >= 2 and num <= 3')\n",
    "rt.displaySVG(rttb.renderDataFrame(_df, color_by_style='underline'))"
   ]
  },
  {
   "cell_type": "code",
   "execution_count": null,
   "metadata": {},
   "outputs": [],
   "source": [
    "df  = rttb.positionalDataFrame()\n",
    "_df = df.query('type == \"para\" and num >= 2 and num <= 3')\n",
    "rt.displaySVG(rttb.renderDataFrame(_df, color_by_style='text'))"
   ]
  },
  {
   "cell_type": "code",
   "execution_count": null,
   "metadata": {},
   "outputs": [],
   "source": [
    "rt.displaySVG(rttb.renderDataFrame(_df, color_by='text'))"
   ]
  },
  {
   "cell_type": "code",
   "execution_count": null,
   "metadata": {},
   "outputs": [],
   "source": [
    "df  = rttb.positionalDataFrame()\n",
    "_df = df.query('type == \"para\" and num >= 2 and num <= 3')\n",
    "rt.displaySVG(rttb.renderDataFrame(_df, color_by='text', color_by_style='underline'))"
   ]
  },
  {
   "cell_type": "code",
   "execution_count": null,
   "metadata": {},
   "outputs": [],
   "source": [
    "rt.displaySVG(rttb.renderDataFrame(_df, color_by='text', color_by_style='text'))"
   ]
  },
  {
   "cell_type": "code",
   "execution_count": null,
   "metadata": {},
   "outputs": [],
   "source": [
    "rt.displaySVG(rttb.renderDataFrame(df.query('type != \"word\" and type != \"para\"'), color_by='text', color_by_style='text'))"
   ]
  },
  {
   "cell_type": "code",
   "execution_count": null,
   "metadata": {},
   "outputs": [],
   "source": []
  }
 ],
 "metadata": {
  "kernelspec": {
   "display_name": "Python 3 (ipykernel)",
   "language": "python",
   "name": "python3"
  },
  "language_info": {
   "codemirror_mode": {
    "name": "ipython",
    "version": 3
   },
   "file_extension": ".py",
   "mimetype": "text/x-python",
   "name": "python",
   "nbconvert_exporter": "python",
   "pygments_lexer": "ipython3",
   "version": "3.11.4"
  }
 },
 "nbformat": 4,
 "nbformat_minor": 2
}
