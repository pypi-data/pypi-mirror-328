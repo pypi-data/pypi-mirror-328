{
 "cells": [
  {
   "cell_type": "code",
   "execution_count": null,
   "metadata": {},
   "outputs": [],
   "source": [
    "import pandas as pd\n",
    "import sys\n",
    "sys.path.insert(1, '../rtsvg/') # base location of the .py classes\n",
    "from rtsvg import *\n",
    "rt = RACETrack()"
   ]
  },
  {
   "cell_type": "code",
   "execution_count": null,
   "metadata": {},
   "outputs": [],
   "source": [
    "_example = \\\n",
    "{'summary': 'summary',\n",
    " 'text':    'text',\n",
    " 'title':   'title'}\n",
    "rttb_sum = rt.textBlock(_example['summary'], w=400,  word_wrap=True)\n",
    "rttb_txt = rt.textBlock(_example['text'],    w=1400, word_wrap=True)\n",
    "rt.displaySVG(rt.tile([rttb_sum._repr_svg_(), '<svg x=\"0\" y=\"0\" width=\"32\" height=\"8\"></svg>',rttb_txt._repr_svg_()]))"
   ]
  },
  {
   "cell_type": "code",
   "execution_count": null,
   "metadata": {},
   "outputs": [],
   "source": [
    "def createEntityExtractionHighlights(_txt):\n",
    "    _ents = rt.textExtractEntities(_txt)\n",
    "    _highlights = {}\n",
    "    for _tup in _ents:\n",
    "        _highlights[(_tup[2],_tup[3])] = _tup[0]\n",
    "    return _highlights\n",
    "rt.displaySVG(rt.tile([rttb_sum.highlights(createEntityExtractionHighlights(_example['summary']), opacity=0.4), \n",
    "                       '<svg x=\"0\" y=\"0\" width=\"32\" height=\"8\"></svg>',\n",
    "                       rttb_txt.highlights(createEntityExtractionHighlights(_example['text']),    opacity=0.4)]))"
   ]
  },
  {
   "cell_type": "code",
   "execution_count": null,
   "metadata": {},
   "outputs": [],
   "source": []
  }
 ],
 "metadata": {
  "kernelspec": {
   "display_name": "Python 3",
   "language": "python",
   "name": "python3"
  },
  "language_info": {
   "codemirror_mode": {
    "name": "ipython",
    "version": 3
   },
   "file_extension": ".py",
   "mimetype": "text/x-python",
   "name": "python",
   "nbconvert_exporter": "python",
   "pygments_lexer": "ipython3",
   "version": "3.11.4"
  },
  "orig_nbformat": 4
 },
 "nbformat": 4,
 "nbformat_minor": 2
}
