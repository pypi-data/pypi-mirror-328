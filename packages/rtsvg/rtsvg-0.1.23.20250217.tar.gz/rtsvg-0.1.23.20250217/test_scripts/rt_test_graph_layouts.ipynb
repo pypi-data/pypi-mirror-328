{
 "cells": [
  {
   "cell_type": "code",
   "execution_count": null,
   "metadata": {},
   "outputs": [],
   "source": [
    "import pandas as pd\n",
    "import numpy as np\n",
    "import networkx as nx\n",
    "import sys\n",
    "sys.path.insert(1, '../rtsvg')\n",
    "from rtsvg import *"
   ]
  },
  {
   "cell_type": "code",
   "execution_count": null,
   "metadata": {},
   "outputs": [],
   "source": [
    "rt = RACETrack()"
   ]
  },
  {
   "cell_type": "code",
   "execution_count": null,
   "metadata": {},
   "outputs": [],
   "source": [
    "pos = {}\n",
    "\n",
    "pos['a'] = [0.1, 0.2]\n",
    "pos['b'] = [0.8, 1.2]\n",
    "pos['c'] = [0.2, 0.9]\n",
    "\n",
    "node_info,time_found = rt.calculateLevelSet(pos,w=256,h=256)"
   ]
  },
  {
   "cell_type": "code",
   "execution_count": null,
   "metadata": {},
   "outputs": [],
   "source": [
    "svg = rt.levelSetSVG(node_info,time_found)\n",
    "rt.svgObject(svg)"
   ]
  },
  {
   "cell_type": "code",
   "execution_count": null,
   "metadata": {},
   "outputs": [],
   "source": [
    "new_pos = rt.adjustNodePositionsBasedOnLevelSet(node_info,pos)\n",
    "new_pos"
   ]
  },
  {
   "cell_type": "code",
   "execution_count": null,
   "metadata": {},
   "outputs": [],
   "source": [
    "nf_df_orig = pd.read_csv(\"../../data/netflow/netflow_sample.csv\")\n",
    "nf_df_orig = rt.columnsAreTimestamps(nf_df_orig,'beg')\n",
    "nf_df      = nf_df_orig.sample(10000)"
   ]
  },
  {
   "cell_type": "code",
   "execution_count": null,
   "metadata": {},
   "outputs": [],
   "source": [
    "nf_relates        = [('sip','dip')]\n",
    "pos               = nx.spring_layout(rt.createNetworkXGraph(nf_df,nf_relates,'DBYT'))\n",
    "rt.linkNode(nf_df, nf_relates,pos=pos, \n",
    "            color_by='dpt', node_size='small', \n",
    "            link_shape='curve', link_size='small', \n",
    "            link_color='vary', link_opacity=0.4,\n",
    "            draw_labels=False,\n",
    "            w=256, h=256)"
   ]
  },
  {
   "cell_type": "code",
   "execution_count": null,
   "metadata": {},
   "outputs": [],
   "source": [
    "#\n",
    "# Perf ... 43.2s @ 512x512\n",
    "# Perf ... 45.8s @ 512x512\n",
    "# Perf ... 41.8s @ 512x512 // after adding check to see if heap item should be added\n",
    "#\n",
    "node_info,time_found = rt.calculateLevelSet(pos,w=128,h=128)\n",
    "svg = rt.levelSetSVG(node_info,time_found)\n",
    "rt.svgObject(svg)"
   ]
  },
  {
   "cell_type": "code",
   "execution_count": null,
   "metadata": {},
   "outputs": [],
   "source": [
    "new_pos = rt.adjustNodePositionsBasedOnLevelSet(node_info,pos)\n",
    "rt.linkNode(nf_df, nf_relates,pos=new_pos, \n",
    "            color_by='dpt', node_size='small', \n",
    "            link_shape='curve', link_size='small', \n",
    "            link_color='vary', link_opacity=0.4,\n",
    "            draw_labels=False,\n",
    "            w=256, h=256)"
   ]
  },
  {
   "cell_type": "code",
   "execution_count": null,
   "metadata": {},
   "outputs": [],
   "source": [
    "g_nx = rt.createNetworkXGraph(nf_df, nf_relates, count_by='DBYT')\n",
    "mst  = nx.minimum_spanning_tree(g_nx)"
   ]
  },
  {
   "cell_type": "code",
   "execution_count": null,
   "metadata": {},
   "outputs": [],
   "source": [
    "froms = []\n",
    "tos   = []\n",
    "froms.append('a')\n",
    "tos.  append('b')\n",
    "\n",
    "froms.append('b')\n",
    "tos.  append('c')\n",
    "\n",
    "froms.append('c')\n",
    "tos.  append('d')\n",
    "\n",
    "for i in range(0,8):\n",
    "    froms.append('a')\n",
    "    tos.  append('a' + str(i))\n",
    "\n",
    "    froms.append('d')\n",
    "    tos.  append('d' + str(i))\n",
    "\n",
    "df = pd.DataFrame({'from':froms,'to':tos})\n",
    "G = rt.createNetworkXGraph(df, [('from','to')])\n",
    "ht_pos=rt.hyperTreeLayout(G)\n",
    "rt.linkNode(df,[('from','to')],ht_pos)"
   ]
  },
  {
   "cell_type": "code",
   "execution_count": null,
   "metadata": {},
   "outputs": [],
   "source": [
    "rt.linkNode(nf_df, nf_relates,\n",
    "            pos=rt.hyperTreeLayout(rt.createNetworkXGraph(nf_df, nf_relates)), \n",
    "            color_by='dpt', node_size='small', \n",
    "            link_shape='curve', link_size='small', \n",
    "            link_color='vary', link_opacity=0.4,\n",
    "            draw_labels=False,\n",
    "            w=768, h=768)"
   ]
  },
  {
   "cell_type": "code",
   "execution_count": null,
   "metadata": {},
   "outputs": [],
   "source": [
    "froms = []\n",
    "tos   = []\n",
    "froms.append('a')\n",
    "tos.  append('a')\n",
    "df = pd.DataFrame({'from':froms,'to':tos})\n",
    "G = rt.createNetworkXGraph(df, [('from','to')])\n",
    "ht_pos=rt.hyperTreeLayout(G)\n",
    "rt.linkNode(df,[('from','to')],ht_pos,draw_labels=False)\n"
   ]
  },
  {
   "cell_type": "code",
   "execution_count": null,
   "metadata": {},
   "outputs": [],
   "source": [
    "froms = []\n",
    "tos   = []\n",
    "froms.append('a')\n",
    "tos.  append('b')\n",
    "df = pd.DataFrame({'from':froms,'to':tos})\n",
    "G = rt.createNetworkXGraph(df, [('from','to')])\n",
    "ht_pos=rt.hyperTreeLayout(G)\n",
    "rt.linkNode(df,[('from','to')],ht_pos,draw_labels=False)"
   ]
  },
  {
   "cell_type": "code",
   "execution_count": null,
   "metadata": {},
   "outputs": [],
   "source": [
    "froms = []\n",
    "tos   = []\n",
    "froms.append('a')\n",
    "tos.  append('b')\n",
    "froms.append('b')\n",
    "tos.  append('c')\n",
    "df = pd.DataFrame({'from':froms,'to':tos})\n",
    "G = rt.createNetworkXGraph(df, [('from','to')])\n",
    "ht_pos=rt.hyperTreeLayout(G)\n",
    "rt.linkNode(df,[('from','to')],ht_pos,draw_labels=False)\n"
   ]
  },
  {
   "cell_type": "code",
   "execution_count": null,
   "metadata": {},
   "outputs": [],
   "source": [
    "froms = []\n",
    "tos   = []\n",
    "froms.append('f')\n",
    "tos.append('g')\n",
    "froms.append('g')\n",
    "tos.append('g')\n",
    "df = pd.DataFrame({'from':froms,'to':tos})\n",
    "G = rt.createNetworkXGraph(df, [('from','to')])\n",
    "ht_pos=rt.hyperTreeLayout(G)\n",
    "rt.linkNode(df,[('from','to')],ht_pos,draw_labels=False)"
   ]
  },
  {
   "cell_type": "code",
   "execution_count": null,
   "metadata": {},
   "outputs": [],
   "source": [
    "froms = []\n",
    "tos   = []\n",
    "for i in range(0,100):\n",
    "    froms.append('a0')\n",
    "    tos.append('a' + str(i))\n",
    "df = pd.DataFrame({'from':froms,'to':tos})\n",
    "G = rt.createNetworkXGraph(df, [('from','to')])\n",
    "ht_pos=rt.hyperTreeLayout(G)\n",
    "rt.linkNode(df,[('from','to')],ht_pos,draw_labels=False)"
   ]
  },
  {
   "cell_type": "code",
   "execution_count": null,
   "metadata": {},
   "outputs": [],
   "source": [
    "froms = []\n",
    "tos   = []\n",
    "froms.append('a')\n",
    "tos.  append('b')\n",
    "\n",
    "froms.append('b')\n",
    "tos.  append('c')\n",
    "\n",
    "froms.append('c')\n",
    "tos.  append('d')\n",
    "\n",
    "for i in range(0,8):\n",
    "    froms.append('a')\n",
    "    tos.  append('a' + str(i))\n",
    "\n",
    "    froms.append('d')\n",
    "    tos.  append('d' + str(i))\n",
    "\n",
    "# ----------------------------------------------\n",
    "\n",
    "froms.append('u')\n",
    "tos.  append('v')\n",
    "\n",
    "froms.append('v')\n",
    "tos.  append('w')\n",
    "\n",
    "froms.append('w')\n",
    "tos.  append('x')\n",
    "\n",
    "for i in range(0,20):\n",
    "    froms.append('u')\n",
    "    tos.  append('u' + str(i))\n",
    "\n",
    "    froms.append('x')\n",
    "    tos.  append('x' + str(i))\n",
    "\n",
    "# ----------------------------------------------\n",
    "\n",
    "froms.append('t')\n",
    "tos.append('t')\n",
    "\n",
    "# ----------------------------------------------\n",
    "\n",
    "froms.append('f')\n",
    "tos.append('g')\n",
    "froms.append('g')\n",
    "tos.append('g')\n",
    "\n",
    "# ----------------------------------------------\n",
    "\n",
    "froms.append('k0')\n",
    "tos.append('k1')\n",
    "froms.append('k0')\n",
    "tos.append('k2')\n",
    "\n",
    "# ----------------------------------------------\n",
    "\n",
    "for i in range(0,30):\n",
    "    froms.append('j0')\n",
    "    tos.append('j'+ str(i))\n",
    "\n",
    "# ----------------------------------------------\n",
    "\n",
    "froms.append('m')\n",
    "tos.  append('n')\n",
    "\n",
    "froms.append('n')\n",
    "tos.  append('o')\n",
    "\n",
    "froms.append('o')\n",
    "tos.  append('p')\n",
    "\n",
    "froms.append('p')\n",
    "tos.  append('q')\n",
    "\n",
    "for i in range(0,16):\n",
    "    froms.append('q')\n",
    "    tos.  append('q' + str(i))\n",
    "\n",
    "    froms.append('o')\n",
    "    tos.  append('o' + str(i))\n",
    "\n",
    "    froms.append('m')\n",
    "    tos.  append('m' + str(i))\n",
    "\n",
    "df = pd.DataFrame({'from':froms,'to':tos})\n",
    "G = rt.createNetworkXGraph(df, [('from','to')])\n",
    "ht_pos=rt.hyperTreeLayout(G)\n",
    "rt.linkNode(df,[('from','to')],ht_pos,node_size='small',draw_labels=False)"
   ]
  },
  {
   "cell_type": "code",
   "execution_count": null,
   "metadata": {},
   "outputs": [],
   "source": [
    "froms = []\n",
    "tos   = []\n",
    "\n",
    "froms.append('a')\n",
    "tos.  append('b')\n",
    "\n",
    "froms.append('b')\n",
    "tos.  append('c')\n",
    "\n",
    "froms.append('c')\n",
    "tos.  append('d')\n",
    "\n",
    "froms.append('d')\n",
    "tos.  append('e')\n",
    "\n",
    "froms.append('e')\n",
    "tos.  append('f')\n",
    "\n",
    "froms.append('e')\n",
    "tos.  append('f')\n",
    "\n",
    "froms.append('f')\n",
    "tos.  append('g')\n",
    "\n",
    "froms.append('g')\n",
    "tos.  append('h')\n",
    "\n",
    "froms.append('h')\n",
    "tos.  append('i')\n",
    "\n",
    "froms.append('a')\n",
    "tos  .append('x0a')\n",
    "for i in range(0,20):\n",
    "    froms.append('x' + str(i)   + 'a')\n",
    "    tos.  append('x' + str(i+1) + 'a')\n",
    "froms.append('x20a')\n",
    "tos  .append('i')\n",
    "\n",
    "froms.append('a')\n",
    "tos.  append('p')\n",
    "\n",
    "froms.append('p')\n",
    "tos.  append('i')\n",
    "\n",
    "node_set = set(froms) | set(tos)\n",
    "for x in node_set:\n",
    "    for i in range(0,5):\n",
    "        froms.append(x)\n",
    "        tos.append(x + str(i))\n",
    "\n",
    "df = pd.DataFrame({'from':froms,'to':tos})\n",
    "G = rt.createNetworkXGraph(df, [('from','to')])\n",
    "sp_pos=rt.jitterLayout(rt.shortestPathLayout(G,['a','i']),amount=0.01)\n",
    "# sp_pos=rt.shortestPathLayout(G,['a','f'])\n",
    "rt.linkNode(df,[('from','to')],sp_pos,node_size='medium')"
   ]
  },
  {
   "cell_type": "code",
   "execution_count": null,
   "metadata": {},
   "outputs": [],
   "source": [
    "rt.linkNode(df,[('from','to')],node_size='medium',draw_labels=False)"
   ]
  },
  {
   "cell_type": "code",
   "execution_count": null,
   "metadata": {},
   "outputs": [],
   "source": []
  }
 ],
 "metadata": {
  "kernelspec": {
   "display_name": "Python 3",
   "language": "python",
   "name": "python3"
  },
  "language_info": {
   "codemirror_mode": {
    "name": "ipython",
    "version": 3
   },
   "file_extension": ".py",
   "mimetype": "text/x-python",
   "name": "python",
   "nbconvert_exporter": "python",
   "pygments_lexer": "ipython3",
   "version": "3.11.6"
  },
  "orig_nbformat": 4,
  "vscode": {
   "interpreter": {
    "hash": "677ca678853aa41fc137f4b55f2bc0c694e45735c0d2faa667d2ec5acb71e67d"
   }
  }
 },
 "nbformat": 4,
 "nbformat_minor": 2
}
