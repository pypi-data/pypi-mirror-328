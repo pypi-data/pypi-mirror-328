{
 "cells": [
  {
   "cell_type": "code",
   "execution_count": null,
   "metadata": {},
   "outputs": [],
   "source": [
    "import pandas as pd\n",
    "import numpy  as np\n",
    "\n",
    "import random\n",
    "\n",
    "from datetime import datetime, timedelta\n",
    "from dateutil.relativedelta import relativedelta\n",
    "\n",
    "import sys\n",
    "sys.path.insert(1, '../rtsvg')\n",
    "from rtsvg import *\n",
    "\n",
    "rt = RACETrack()"
   ]
  },
  {
   "cell_type": "code",
   "execution_count": null,
   "metadata": {},
   "outputs": [],
   "source": [
    "rt.displaySVGAsImage(rt.timeline(timestamp='1800-01',timestamp_end='1805-01',w=1024))"
   ]
  },
  {
   "cell_type": "code",
   "execution_count": null,
   "metadata": {},
   "outputs": [],
   "source": [
    "svg = ''\n",
    "overall_w = 1536\n",
    "y   = 0\n",
    "for w in range(32,overall_w,32):\n",
    "    svg +=  rt.timeline(timestamp='2020',timestamp_end='2020', x_view=0, y_view=y, w=w, h=24)._repr_svg_()\n",
    "    y += 24\n",
    "svg = f'<svg width=\"{overall_w}\" height=\"{y}\">' +\\\n",
    "      f'<rect x=\"0\" y=\"0\" width=\"{overall_w}\" height=\"{y}\" fill=\"#808080\" />' +\\\n",
    "       svg +\\\n",
    "       '</svg>'\n",
    "rt.displaySVGAsImage(svg)"
   ]
  },
  {
   "cell_type": "code",
   "execution_count": null,
   "metadata": {},
   "outputs": [],
   "source": [
    "svg,y = '',0\n",
    "for w in range(32,overall_w,32):\n",
    "    svg +=  rt.timeline(timestamp='1900',timestamp_end='2100', x_view=0, y_view=y, w=w, h=24)._repr_svg_()\n",
    "    y += 24\n",
    "svg = f'<svg width=\"{overall_w}\" height=\"{y}\">' +\\\n",
    "      f'<rect x=\"0\" y=\"0\" width=\"{overall_w}\" height=\"{y}\" fill=\"#808080\" />' +\\\n",
    "       svg +\\\n",
    "       '</svg>'\n",
    "rt.displaySVGAsImage(svg)"
   ]
  },
  {
   "cell_type": "code",
   "execution_count": null,
   "metadata": {},
   "outputs": [],
   "source": [
    "svg,y = '',0\n",
    "for w in range(32,overall_w,32):\n",
    "    svg +=  rt.timeline(timestamp='1900',timestamp_end='2000', x_view=0, y_view=y, w=w, h=24)._repr_svg_()\n",
    "    y += 24\n",
    "svg = f'<svg width=\"{overall_w}\" height=\"{y}\">' +\\\n",
    "      f'<rect x=\"0\" y=\"0\" width=\"{overall_w}\" height=\"{y}\" fill=\"#808080\" />' +\\\n",
    "       svg +\\\n",
    "       '</svg>'\n",
    "rt.displaySVGAsImage(svg)"
   ]
  },
  {
   "cell_type": "code",
   "execution_count": null,
   "metadata": {},
   "outputs": [],
   "source": [
    "svg,y = '',0\n",
    "for w in range(32,overall_w,32):\n",
    "    svg +=  rt.timeline(timestamp='1960',timestamp_end='2000', x_view=0, y_view=y, w=w, h=24)._repr_svg_()\n",
    "    y += 24\n",
    "svg = f'<svg width=\"{overall_w}\" height=\"{y}\">' +\\\n",
    "      f'<rect x=\"0\" y=\"0\" width=\"{overall_w}\" height=\"{y}\" fill=\"#808080\" />' +\\\n",
    "       svg +\\\n",
    "       '</svg>'\n",
    "rt.displaySVGAsImage(svg)"
   ]
  },
  {
   "cell_type": "code",
   "execution_count": null,
   "metadata": {},
   "outputs": [],
   "source": [
    "svg,y = '',0\n",
    "for w in range(32,overall_w,32):\n",
    "    svg +=  rt.timeline(timestamp='2020',timestamp_end='2020', x_view=0, y_view=y, w=w, h=24)._repr_svg_()\n",
    "    y += 24\n",
    "svg = f'<svg width=\"{overall_w}\" height=\"{y}\">' +\\\n",
    "      f'<rect x=\"0\" y=\"0\" width=\"{overall_w}\" height=\"{y}\" fill=\"#808080\" />' +\\\n",
    "       svg +\\\n",
    "       '</svg>'\n",
    "rt.displaySVGAsImage(svg)"
   ]
  },
  {
   "cell_type": "code",
   "execution_count": null,
   "metadata": {},
   "outputs": [],
   "source": [
    "svg,y = '',0\n",
    "for w in range(32,overall_w,32):\n",
    "    svg +=  rt.timeline(timestamp='2020-01',timestamp_end='2020-02', x_view=0, y_view=y, w=w, h=24)._repr_svg_()\n",
    "    y += 24\n",
    "svg = f'<svg width=\"{overall_w}\" height=\"{y}\">' +\\\n",
    "      f'<rect x=\"0\" y=\"0\" width=\"{overall_w}\" height=\"{y}\" fill=\"#808080\" />' +\\\n",
    "       svg +\\\n",
    "       '</svg>'\n",
    "rt.displaySVGAsImage(svg)"
   ]
  },
  {
   "cell_type": "code",
   "execution_count": null,
   "metadata": {},
   "outputs": [],
   "source": [
    "svg,y = '',0\n",
    "for w in range(32,overall_w,32):\n",
    "    svg +=  rt.timeline(timestamp='2020-01',timestamp_end='2020-01', x_view=0, y_view=y, w=w, h=24)._repr_svg_()\n",
    "    y += 24\n",
    "svg = f'<svg width=\"{overall_w}\" height=\"{y}\">' +\\\n",
    "      f'<rect x=\"0\" y=\"0\" width=\"{overall_w}\" height=\"{y}\" fill=\"#808080\" />' +\\\n",
    "       svg +\\\n",
    "       '</svg>'\n",
    "rt.displaySVGAsImage(svg)"
   ]
  },
  {
   "cell_type": "code",
   "execution_count": null,
   "metadata": {},
   "outputs": [],
   "source": [
    "svg,y = '',0\n",
    "for w in range(32,overall_w,32):\n",
    "    svg +=  rt.timeline(timestamp='2020-01-01',timestamp_end='2020-01-15', x_view=0, y_view=y, w=w, h=24)._repr_svg_()\n",
    "    y += 24\n",
    "svg = f'<svg width=\"{overall_w}\" height=\"{y}\">' +\\\n",
    "      f'<rect x=\"0\" y=\"0\" width=\"{overall_w}\" height=\"{y}\" fill=\"#808080\" />' +\\\n",
    "       svg +\\\n",
    "       '</svg>'\n",
    "rt.displaySVGAsImage(svg)"
   ]
  },
  {
   "cell_type": "code",
   "execution_count": null,
   "metadata": {},
   "outputs": [],
   "source": [
    "svg,y = '',0\n",
    "for w in range(32,overall_w,32):\n",
    "    svg +=  rt.timeline(timestamp='2020-01-01',timestamp_end='2020-01-07', x_view=0, y_view=y, w=w, h=24)._repr_svg_()\n",
    "    y += 24\n",
    "svg = f'<svg width=\"{overall_w}\" height=\"{y}\">' +\\\n",
    "      f'<rect x=\"0\" y=\"0\" width=\"{overall_w}\" height=\"{y}\" fill=\"#808080\" />' +\\\n",
    "       svg +\\\n",
    "       '</svg>'\n",
    "rt.displaySVGAsImage(svg)"
   ]
  },
  {
   "cell_type": "code",
   "execution_count": null,
   "metadata": {},
   "outputs": [],
   "source": [
    "svg,y = '',0\n",
    "for w in range(32,overall_w,32):\n",
    "    svg +=  rt.timeline(timestamp='2020-01-01',timestamp_end='2020-01-02', x_view=0, y_view=y, w=w, h=24)._repr_svg_()\n",
    "    y += 24\n",
    "svg = f'<svg width=\"{overall_w}\" height=\"{y}\">' +\\\n",
    "      f'<rect x=\"0\" y=\"0\" width=\"{overall_w}\" height=\"{y}\" fill=\"#808080\" />' +\\\n",
    "       svg +\\\n",
    "       '</svg>'\n",
    "rt.displaySVGAsImage(svg)"
   ]
  },
  {
   "cell_type": "code",
   "execution_count": null,
   "metadata": {},
   "outputs": [],
   "source": [
    "svg,y = '',0\n",
    "for w in range(32,overall_w,32):\n",
    "    svg +=  rt.timeline(timestamp='2020-01-01',timestamp_end='2020-01-01 12', x_view=0, y_view=y, w=w, h=24)._repr_svg_()\n",
    "    y += 24\n",
    "svg = f'<svg width=\"{overall_w}\" height=\"{y}\">' +\\\n",
    "      f'<rect x=\"0\" y=\"0\" width=\"{overall_w}\" height=\"{y}\" fill=\"#808080\" />' +\\\n",
    "       svg +\\\n",
    "       '</svg>'\n",
    "rt.displaySVGAsImage(svg)"
   ]
  },
  {
   "cell_type": "code",
   "execution_count": null,
   "metadata": {},
   "outputs": [],
   "source": [
    "svg,y = '',0\n",
    "for w in range(32,overall_w,32):\n",
    "    svg +=  rt.timeline(timestamp='2020-01-01 12:32',timestamp_end='2020-01-01 18:38', x_view=0, y_view=y, w=w, h=24)._repr_svg_()\n",
    "    y += 24\n",
    "svg = f'<svg width=\"{overall_w}\" height=\"{y}\">' +\\\n",
    "      f'<rect x=\"0\" y=\"0\" width=\"{overall_w}\" height=\"{y}\" fill=\"#808080\" />' +\\\n",
    "       svg +\\\n",
    "       '</svg>'\n",
    "rt.displaySVGAsImage(svg)"
   ]
  },
  {
   "cell_type": "code",
   "execution_count": null,
   "metadata": {},
   "outputs": [],
   "source": []
  }
 ],
 "metadata": {
  "kernelspec": {
   "display_name": "Python 3",
   "language": "python",
   "name": "python3"
  },
  "language_info": {
   "codemirror_mode": {
    "name": "ipython",
    "version": 3
   },
   "file_extension": ".py",
   "mimetype": "text/x-python",
   "name": "python",
   "nbconvert_exporter": "python",
   "pygments_lexer": "ipython3",
   "version": "3.11.6"
  },
  "orig_nbformat": 4,
  "vscode": {
   "interpreter": {
    "hash": "677ca678853aa41fc137f4b55f2bc0c694e45735c0d2faa667d2ec5acb71e67d"
   }
  }
 },
 "nbformat": 4,
 "nbformat_minor": 2
}
