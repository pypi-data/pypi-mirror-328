{
 "cells": [
  {
   "cell_type": "code",
   "execution_count": null,
   "metadata": {},
   "outputs": [],
   "source": [
    "import pandas as pd\n",
    "import polars as pl\n",
    "import numpy as np\n",
    "import sys\n",
    "sys.path.insert(1, '../rtsvg')\n",
    "from rtsvg import *\n",
    "rt = RACETrack()"
   ]
  },
  {
   "cell_type": "code",
   "execution_count": null,
   "metadata": {},
   "outputs": [],
   "source": [
    "df = pd.DataFrame({'cat':[ 1,     1,    2],\n",
    "                   'fm': ['a',   'b',   'd'],\n",
    "                   'to': ['b',   'c',   'e'],\n",
    "                   'ct': [ 5,     10,   100]})\n",
    "params = {'df':df, 'category_by':'cat', 'count_by':'ct', 'sm_type':'chordDiagram', \n",
    "          'sm_params':{'relationships':[('fm','to')], 'link_size_max':8, 'link_size_min':1}, 'w':512, 'h':256}\n",
    "svgs = []\n",
    "svgs.append(rt.smallMultiples(**params, x_axis_independent=True,  y_axis_independent=True). _repr_svg_())\n",
    "svgs.append(rt.smallMultiples(**params, x_axis_independent=True,  y_axis_independent=False)._repr_svg_())\n",
    "svgs.append(rt.smallMultiples(**params, x_axis_independent=False, y_axis_independent=False)._repr_svg_())\n",
    "svgs.append(rt.smallMultiples(**params, x_axis_independent=False, y_axis_independent=True). _repr_svg_())\n",
    "params['sm_params']['link_style'] = 'wide'\n",
    "svgs.append(rt.smallMultiples(**params, x_axis_independent=True,  y_axis_independent=True). _repr_svg_())\n",
    "svgs.append(rt.smallMultiples(**params, x_axis_independent=True,  y_axis_independent=False)._repr_svg_())\n",
    "svgs.append(rt.smallMultiples(**params, x_axis_independent=False, y_axis_independent=False)._repr_svg_())\n",
    "svgs.append(rt.smallMultiples(**params, x_axis_independent=False, y_axis_independent=True). _repr_svg_())\n",
    "params['sm_params']['link_style'] = 'bundled'\n",
    "svgs.append(rt.smallMultiples(**params, x_axis_independent=True,  y_axis_independent=True). _repr_svg_())\n",
    "svgs.append(rt.smallMultiples(**params, x_axis_independent=True,  y_axis_independent=False)._repr_svg_())\n",
    "svgs.append(rt.smallMultiples(**params, x_axis_independent=False, y_axis_independent=False)._repr_svg_())\n",
    "svgs.append(rt.smallMultiples(**params, x_axis_independent=False, y_axis_independent=True). _repr_svg_())\n",
    "rt.table(svgs, per_row=2)"
   ]
  },
  {
   "cell_type": "code",
   "execution_count": null,
   "metadata": {},
   "outputs": [],
   "source": [
    "params = {'df':df, 'category_by':'cat', 'count_by':'ct', 'sm_type':'chordDiagram', 'show_df_multiple':True,\n",
    "          'sm_params':{'relationships':[('fm','to')], 'link_size_max':8, 'link_size_min':1}, 'w':512, 'h':256}\n",
    "svgs = []\n",
    "svgs.append(rt.smallMultiples(**params, x_axis_independent=True,  y_axis_independent=True). _repr_svg_())\n",
    "svgs.append(rt.smallMultiples(**params, x_axis_independent=True,  y_axis_independent=False)._repr_svg_())\n",
    "svgs.append(rt.smallMultiples(**params, x_axis_independent=False, y_axis_independent=False)._repr_svg_())\n",
    "svgs.append(rt.smallMultiples(**params, x_axis_independent=False, y_axis_independent=True). _repr_svg_())\n",
    "params['sm_params']['link_style'] = 'wide'\n",
    "svgs.append(rt.smallMultiples(**params, x_axis_independent=True,  y_axis_independent=True). _repr_svg_())\n",
    "svgs.append(rt.smallMultiples(**params, x_axis_independent=True,  y_axis_independent=False)._repr_svg_())\n",
    "svgs.append(rt.smallMultiples(**params, x_axis_independent=False, y_axis_independent=False)._repr_svg_())\n",
    "svgs.append(rt.smallMultiples(**params, x_axis_independent=False, y_axis_independent=True). _repr_svg_())\n",
    "params['sm_params']['link_style'] = 'bundled'\n",
    "svgs.append(rt.smallMultiples(**params, x_axis_independent=True,  y_axis_independent=True). _repr_svg_())\n",
    "svgs.append(rt.smallMultiples(**params, x_axis_independent=True,  y_axis_independent=False)._repr_svg_())\n",
    "svgs.append(rt.smallMultiples(**params, x_axis_independent=False, y_axis_independent=False)._repr_svg_())\n",
    "svgs.append(rt.smallMultiples(**params, x_axis_independent=False, y_axis_independent=True). _repr_svg_())\n",
    "rt.table(svgs, per_row=2)"
   ]
  },
  {
   "cell_type": "code",
   "execution_count": null,
   "metadata": {},
   "outputs": [],
   "source": []
  }
 ],
 "metadata": {
  "kernelspec": {
   "display_name": ".venv",
   "language": "python",
   "name": "python3"
  },
  "language_info": {
   "codemirror_mode": {
    "name": "ipython",
    "version": 3
   },
   "file_extension": ".py",
   "mimetype": "text/x-python",
   "name": "python",
   "nbconvert_exporter": "python",
   "pygments_lexer": "ipython3",
   "version": "3.11.6"
  }
 },
 "nbformat": 4,
 "nbformat_minor": 2
}
