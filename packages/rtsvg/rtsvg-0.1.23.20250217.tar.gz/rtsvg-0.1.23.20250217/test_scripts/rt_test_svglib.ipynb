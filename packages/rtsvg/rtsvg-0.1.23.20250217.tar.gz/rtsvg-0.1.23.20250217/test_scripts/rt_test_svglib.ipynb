{
 "cells": [
  {
   "cell_type": "code",
   "execution_count": null,
   "id": "cc5ec30b-60e9-4ac2-ae42-ca1281cc777f",
   "metadata": {},
   "outputs": [],
   "source": [
    "import pandas as pd\n",
    "import numpy as np\n",
    "import sys\n",
    "sys.path.insert(1, '../rtsvg')\n",
    "from rtsvg import *\n",
    "%matplotlib inline"
   ]
  },
  {
   "cell_type": "code",
   "execution_count": null,
   "id": "87ad7aa2-8a86-4f06-8370-b91819774bec",
   "metadata": {},
   "outputs": [],
   "source": [
    "rt = RACETrack()"
   ]
  },
  {
   "cell_type": "code",
   "execution_count": null,
   "id": "583f2e2c",
   "metadata": {},
   "outputs": [],
   "source": [
    "_svg = \"\"\"\n",
    "<svg width=\"200\" height=\"200\" xmlns=\"http://www.w3.org/2000/svg\">\n",
    "  <rect width=\"200\" height=\"200\" x=\"0\"  y=\"0\"   fill=\"#ffffff\" stroke=\"None\"    />\n",
    "  <rect width=\"100\" height=\"100\" x=\"50\" y=\"50\"  fill=\"None\"    stroke=\"#ff0000\" stroke-width=\"3\" />\n",
    "  <rect width=\"30\"  height=\"30\"  x=\"70\" y=\"70\"  fill=\"None\"    stroke=\"#0000ff\" stroke-width=\"3\" />\n",
    "  <rect width=\"20\"  height=\"100\" x=\"50\" y=\"100\" fill=None      stroke=\"#ff00ff\" stroke-width=\"8\" />\n",
    "  <rect width=\"150\" height=\"150\" x=\"25\" y=\"25\"  fill=\"None\"    stroke=\"#000000\" stroke-width=\"3\" />\n",
    "  <rect width=\"10\"  height=\"10\"  x=\"80\" y=\"80\"  fill=\"#00ff00\" stroke=\"None\"    />\n",
    "</svg>\n",
    "\"\"\"\n",
    "rt.displaySVG(_svg)"
   ]
  },
  {
   "cell_type": "code",
   "execution_count": null,
   "id": "429347f8",
   "metadata": {},
   "outputs": [],
   "source": [
    "#\n",
    "# 2023-01-22 Note - this rendering using svglib is different than the native SVG rendering\n",
    "# - specifically, svglib warns \"Can't handle color: None\" for the three fill=\"None\" lines\n",
    "# - and, the fill=None rectangle is rendered as just a black rectangle without the purple border\n",
    "#\n",
    "rt.displaySVGAsImage(_svg)"
   ]
  },
  {
   "cell_type": "code",
   "execution_count": null,
   "id": "ca7aca68",
   "metadata": {},
   "outputs": [],
   "source": [
    "#\n",
    "# Possible fix from the following site:\n",
    "# https://stackoverflow.com/questions/68022625/opacity-issue-when-saving-a-svg-in-a-pdf-with-reportlab\n",
    "#\n",
    "_svg2 = \"\"\"\n",
    "<svg width=\"200\" height=\"200\" xmlns=\"http://www.w3.org/2000/svg\">\n",
    "  <rect width=\"200\" height=\"200\" x=\"0\"  y=\"0\"   fill=\"#ffffff\"     stroke-opacity=\"0.0\" stroke-width=\"3\" />\n",
    "  <rect width=\"100\" height=\"100\" x=\"50\" y=\"50\"  fill-opacity=\"0.0\" stroke=\"#ff0000\"     stroke-width=\"3\" />\n",
    "  <rect width=\"30\"  height=\"30\"  x=\"70\" y=\"70\"  fill-opacity=\"0.0\" stroke=\"#0000ff\"     stroke-width=\"3\" />\n",
    "  <rect width=\"20\"  height=\"100\" x=\"50\" y=\"100\" fill-opacity=\"0.0\" stroke=\"#ff00ff\"     stroke-width=\"8\" />\n",
    "  <rect width=\"150\" height=\"150\" x=\"25\" y=\"25\"  fill-opacity=\"0.0\" stroke=\"#000000\"     stroke-width=\"3\" />\n",
    "  <rect width=\"10\"  height=\"10\"  x=\"80\" y=\"80\"  fill=\"#00ff00\"     stroke-opacity=\"0.0\"                  />\n",
    "</svg>\n",
    "\"\"\"\n",
    "rt.displaySVG(_svg2)"
   ]
  },
  {
   "cell_type": "code",
   "execution_count": null,
   "id": "e429c4a8",
   "metadata": {},
   "outputs": [],
   "source": [
    "rt.displaySVGAsImage(_svg2)"
   ]
  },
  {
   "cell_type": "code",
   "execution_count": null,
   "id": "58098181",
   "metadata": {},
   "outputs": [],
   "source": [
    "df = pd.DataFrame({'x':[10,20,30,10,20,30],\n",
    "                   'ts':['2021-01-01','2021-01-02','2021-01-03','2021-01-01','2021-01-02','2021-01-03'],\n",
    "                   'y':[15,20,30,5,10,5],\n",
    "                   'gb':['a','a','a','b','b','b']})\n",
    "df = rt.columnsAreTimestamps(df, 'ts')\n",
    "_svg3 = rt.xy(df,x_field='ts',y_field='y',color_by='gb',line_groupby_field='gb',dot_size='large')\n",
    "rt.displaySVG(_svg3)"
   ]
  },
  {
   "cell_type": "code",
   "execution_count": null,
   "id": "0819103a",
   "metadata": {},
   "outputs": [],
   "source": [
    "_svg_line = \"\"\"\n",
    "<svg width=\"256\" height=\"256\">\n",
    "  <line x1=\"10\" y1=\"10\" x2=\"250\" y2=\"250\" stroke=\"#ff0000\" stroke-width=\"2.0\" />\n",
    "</svg>\n",
    "\"\"\"\n",
    "rt.displaySVGAsImage(_svg3)"
   ]
  },
  {
   "cell_type": "code",
   "execution_count": null,
   "id": "7e0d7418",
   "metadata": {},
   "outputs": [],
   "source": [
    "_svg4 = \"\"\"\n",
    "<svg width=\"200\" height=\"200\" xmlns=\"http://www.w3.org/2000/svg\">\n",
    "\"\"\"\n",
    "for r in range(100,1,-1):\n",
    "    _co    = rt.co_mgr.getColor(str(r))\n",
    "    _svg4 += f'<circle cx=\"{100}\" cy=\"{100}\" r=\"{r}\" fill=\"{_co}\" stroke=\"{_co}\" stroke-width=\"0.1\" />'\n",
    "_svg4 += '</svg>'\n",
    "\n",
    "rt.displaySVG(_svg4)"
   ]
  },
  {
   "cell_type": "code",
   "execution_count": null,
   "id": "ceca6645",
   "metadata": {},
   "outputs": [],
   "source": [
    "rt.displaySVGAsImage(_svg4)"
   ]
  },
  {
   "cell_type": "code",
   "execution_count": null,
   "id": "304352d9",
   "metadata": {},
   "outputs": [],
   "source": [
    "_svg5 = \"\"\"\n",
    "<svg width=\"200\" height=\"140\" xmlns=\"http://www.w3.org/2000/svg\">\n",
    "\"\"\"\n",
    "for r in range(1,10):\n",
    "    _co    = rt.co_mgr.getColor(str(r))\n",
    "    _shapes = [\"ellipse\", \"triangle\", \"utriangle\", \"diamond\", \"plus\", \"x\"]\n",
    "    y = 20\n",
    "    for _shape in _shapes:\n",
    "        _svg5 += rt.renderShape(_shape, r*20, y, r, _co)\n",
    "        y += 20\n",
    "_svg5 += '</svg>'\n",
    "\n",
    "rt.displaySVG(_svg5)"
   ]
  },
  {
   "cell_type": "code",
   "execution_count": null,
   "id": "d7c34389",
   "metadata": {},
   "outputs": [],
   "source": [
    "rt.displaySVGAsImage(_svg5)"
   ]
  },
  {
   "cell_type": "code",
   "execution_count": null,
   "id": "9dbe5f72",
   "metadata": {},
   "outputs": [],
   "source": [
    "_svg6 = \"\"\"\n",
    "<svg width=\"200\" height=\"200\" viewBox=\"10 10 100 100\">\n",
    "  <rect width=\"200\" height=\"200\" x=\"0\"  y=\"0\"  fill=\"#ffffff\" />\n",
    "  <rect width=\"100\" height=\"100\" x=\"50\" y=\"50\" fill=\"#ff0000\" fill-opacity=\"0.3\" />\n",
    "  <rect width=\"100\" height=\"100\" x=\"75\" y=\"75\" fill=\"#00ff00\" fill-opacity=\"0.3\" />\n",
    "</svg>\n",
    "\"\"\"\n",
    "rt.displaySVG(_svg6)"
   ]
  },
  {
   "cell_type": "code",
   "execution_count": null,
   "id": "ceb53c98",
   "metadata": {},
   "outputs": [],
   "source": [
    "rt.displaySVGAsImage(_svg6)"
   ]
  },
  {
   "cell_type": "code",
   "execution_count": null,
   "id": "d2d5f3a1",
   "metadata": {},
   "outputs": [],
   "source": [
    "df = pd.DataFrame({'x':[10,20,30,10,20,30],\n",
    "                   'y':[15,20,30,5,10,5],\n",
    "                   'gb':['a','a','a','b','b','b']})\n",
    "_bg_lu = {\n",
    "    'test':[(15,12),(25,22),(25,12)],\n",
    "    'test2':'M 10 25 L 15 20 L 10 20 Z'\n",
    "}\n",
    "_svg3 = rt.xy(df,x_field='x',y_field='y',color_by='gb',bg_shape_lu=_bg_lu,dot_size='large',bg_shape_label_color='default')\n",
    "rt.displaySVG(_svg3)"
   ]
  },
  {
   "cell_type": "code",
   "execution_count": null,
   "id": "0bacd1e5",
   "metadata": {},
   "outputs": [],
   "source": [
    "_bg_color_lu = {'test':'#ff00ff','test2':'#0000ff'} \n",
    "spec = {\n",
    "    '1,1':  ('xy',{}),\n",
    "    '1,2':  ('xy',{'bg_shape_fill':'vary'}),\n",
    "    '2,1':  ('xy',{'bg_shape_fill':'#ff0000'}),\n",
    "    '2,2':  ('xy',{'bg_shape_fill':_bg_color_lu}),\n",
    "    '3,1':  ('xy',{'bg_shape_fill':'#ff0000','bg_shape_label_color':'#000000'}),\n",
    "    '3,2':  ('xy',{'bg_shape_fill':'vary','bg_shape_stroke_w':5,'bg_shape_stroke':'vary','bg_shape_opacity':0.6}),\n",
    "    '4,1':  ('xy',{'bg_shape_stroke_w':5}),\n",
    "    '4,2':  ('xy',{'bg_shape_fill':_bg_color_lu,'bg_shape_opacity':0.2})\n",
    "}\n",
    "_svg3 = rt.multiWidgetPanel(df, spec, x_field='x',y_field='y',color_by='gb',bg_shape_lu=_bg_lu,w=1024,h=512)\n",
    "rt.displaySVG(_svg3)"
   ]
  },
  {
   "cell_type": "code",
   "execution_count": null,
   "id": "0ad75c2e",
   "metadata": {},
   "outputs": [],
   "source": [
    "rt.displaySVGAsImage(_svg3)"
   ]
  },
  {
   "cell_type": "code",
   "execution_count": null,
   "id": "bb356a32",
   "metadata": {},
   "outputs": [],
   "source": [
    "df_g = pd.DataFrame({'from':['a','b','c'],'to':['b','c','a']})\n",
    "pos  = {'a':[10,10],'b':[10,20],'c':[20,20]}\n",
    "relates = [('from','to')]\n",
    "rt.displaySVGAsImage(rt.linkNode(df_g,relates,pos))"
   ]
  },
  {
   "cell_type": "code",
   "execution_count": null,
   "id": "aab4c071",
   "metadata": {},
   "outputs": [],
   "source": [
    "rt.displaySVG(rt.linkNode(df_g,relates,pos,link_shape='curve'))"
   ]
  },
  {
   "cell_type": "code",
   "execution_count": null,
   "id": "b970b71d",
   "metadata": {},
   "outputs": [],
   "source": [
    "rt.displaySVGAsImage(rt.linkNode(df_g,relates,pos,link_shape='curve'))"
   ]
  },
  {
   "cell_type": "code",
   "execution_count": null,
   "id": "56374224",
   "metadata": {},
   "outputs": [],
   "source": []
  }
 ],
 "metadata": {
  "kernelspec": {
   "display_name": "Python 3",
   "language": "python",
   "name": "python3"
  },
  "language_info": {
   "codemirror_mode": {
    "name": "ipython",
    "version": 3
   },
   "file_extension": ".py",
   "mimetype": "text/x-python",
   "name": "python",
   "nbconvert_exporter": "python",
   "pygments_lexer": "ipython3",
   "version": "3.11.6"
  },
  "vscode": {
   "interpreter": {
    "hash": "677ca678853aa41fc137f4b55f2bc0c694e45735c0d2faa667d2ec5acb71e67d"
   }
  }
 },
 "nbformat": 4,
 "nbformat_minor": 5
}
