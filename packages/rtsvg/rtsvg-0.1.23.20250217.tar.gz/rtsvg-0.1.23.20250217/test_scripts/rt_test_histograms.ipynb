{
 "cells": [
  {
   "cell_type": "code",
   "execution_count": null,
   "id": "cc5ec30b-60e9-4ac2-ae42-ca1281cc777f",
   "metadata": {},
   "outputs": [],
   "source": [
    "import pandas as pd\n",
    "import numpy as np\n",
    "import sys\n",
    "sys.path.insert(1, '../rtsvg')\n",
    "from rtsvg import *\n",
    "rt = RACETrack()"
   ]
  },
  {
   "cell_type": "code",
   "execution_count": null,
   "id": "0be3302e",
   "metadata": {},
   "outputs": [],
   "source": [
    "df = pd.DataFrame({'bin':['really long string goes here', 'short', 'ultra long string with lots and lots of text'], 'count':[100, 20, 5]})\n",
    "rt.tile([rt.histogram(df, bin_by='bin', count_by='count',h=64,w=64),\n",
    "         rt.histogram(df, bin_by='bin', count_by='count',h=64,w=96),\n",
    "         rt.histogram(df, bin_by='bin', count_by='count',h=64,w=128),\n",
    "         rt.histogram(df, bin_by='bin', count_by='count',h=64,w=256)])"
   ]
  },
  {
   "cell_type": "code",
   "execution_count": null,
   "id": "666af6ac",
   "metadata": {},
   "outputs": [],
   "source": [
    "rt.displaySVGAsImage(rt.tile([rt.histogram(df, bin_by='bin', count_by='count',h=64,w=64),\n",
    "                              rt.histogram(df, bin_by='bin', count_by='count',h=64,w=96),\n",
    "                              rt.histogram(df, bin_by='bin', count_by='count',h=64,w=128),\n",
    "                              rt.histogram(df, bin_by='bin', count_by='count',h=64,w=256)]))"
   ]
  },
  {
   "cell_type": "code",
   "execution_count": null,
   "id": "9298b8d1-8058-4038-ae86-360cf008fe41",
   "metadata": {},
   "outputs": [],
   "source": [
    "df = pd.DataFrame({'pet':   ['dog',  'dog',   'dog',    'cat',    'cat'],\n",
    "                   'color': ['brown','yellow','yellow', 'yellow', 'gray'],\n",
    "                   'weight':[10,      20,     30,       5,         10]})\n",
    "rt.histogram(df=df,bin_by=['pet'],count_by='weight',color_by='color',h=60)"
   ]
  },
  {
   "cell_type": "code",
   "execution_count": null,
   "id": "253e1947-b17b-4fce-8173-6bccd7422f1e",
   "metadata": {},
   "outputs": [],
   "source": [
    "df = pd.DataFrame({'first name':['mary',   'david',  'john',   'david',  'david', 'john',  'david',   'david',   'john'],\n",
    "                          'age':[50,       40,       30,       45,       20,      30,      50,        50,        30],\n",
    "                         'hair':['brown',  'brown',  'black',  'black',  'red',   'red',   'brown',   'brown',   'black'],\n",
    "                       'salary':[150000,   60000,    90000,    20000,    20000,   80000,   40000,     35000,     40000]})\n",
    "\n",
    "rt.histogram(df=df,bin_by=['first name'],count_by='hair',color_by='age',count_by_set=True,h=80)"
   ]
  },
  {
   "cell_type": "code",
   "execution_count": null,
   "id": "8ad6365c",
   "metadata": {},
   "outputs": [],
   "source": [
    "rt.histogram(df=df,bin_by=['first name'],count_by='salary',color_by='first name',h=80)"
   ]
  },
  {
   "cell_type": "code",
   "execution_count": null,
   "id": "22743af6",
   "metadata": {},
   "outputs": [],
   "source": [
    "rt.co_mgr.optimizeCategoricalColors(set(df['first name']))\n",
    "rt.histogram(df=df,bin_by=['first name'],count_by='salary',color_by='first name',h=80)"
   ]
  },
  {
   "cell_type": "code",
   "execution_count": null,
   "id": "625f6f41-acd8-4c90-bb6d-f7f90bf5681f",
   "metadata": {},
   "outputs": [],
   "source": [
    "rt.histogram(df=df,bin_by=['first name'],count_by='hair',count_by_set=True,h=80)"
   ]
  },
  {
   "cell_type": "code",
   "execution_count": null,
   "id": "e353b8f7-4a78-4073-b766-085abbcb25d7",
   "metadata": {},
   "outputs": [],
   "source": [
    "rt.histogram(df=df,bin_by='hair',count_by='hair',h=70)"
   ]
  },
  {
   "cell_type": "code",
   "execution_count": null,
   "id": "ae5bcbb6-62a7-4d48-a2ab-e7b62dfdbb81",
   "metadata": {},
   "outputs": [],
   "source": [
    "rt.histogram(df=df,bin_by=['first name'],count_by='hair',color_by='hair',h=60)"
   ]
  },
  {
   "cell_type": "code",
   "execution_count": null,
   "id": "7b2ae30e-4e46-4736-8603-412a349c2d98",
   "metadata": {},
   "outputs": [],
   "source": [
    "rt.histogram(df=df,bin_by=['first name'],count_by='hair',color_by='age',count_by_set=True,h=80)"
   ]
  },
  {
   "cell_type": "code",
   "execution_count": null,
   "id": "82ca6a3f-cfac-4757-806f-efa73a30c6ec",
   "metadata": {},
   "outputs": [],
   "source": [
    "df        = pd.read_csv(\"../../netflow_sample.csv\")\n",
    "df['beg'] = df['beg'].astype('datetime64[s]')\n",
    "df        = df.rename({'beg':'timestamp'},axis=1)\n",
    "df.shape"
   ]
  },
  {
   "cell_type": "code",
   "execution_count": null,
   "id": "ab096eaa-44f6-4a77-8748-c4614c2ba0a3",
   "metadata": {},
   "outputs": [],
   "source": [
    "df9 = pd.DataFrame({'timestamp':['2021-01-01 13:23:12','2021-01-01 01:33:21','2021-01-03','2021-01-04','2022-06-08 23:01:02','2023-12-31 13:02:02'],\n",
    "                   'count1':   [1,                    2,                    3,           4,           5,                    2],\n",
    "                   'count2':   [10,                   3,                    3,           4,           5,                    2],\n",
    "                   'count3':   [5,                    4,                    3,           4,           5,                    2],\n",
    "                   'count4':   [8,                    5,                    3,           4,           5,                    2],\n",
    "                   'count5':   [20,                   6,                    3,           4,           5,                    2]})\n",
    "df9 = rt.columnsAreTimestamps(df9, 'timestamp')\n",
    "# df9['timestamp'] = df9['timestamp'].astype(np.datetime64)\n",
    "df9"
   ]
  },
  {
   "cell_type": "code",
   "execution_count": null,
   "id": "1362e0b6-13b1-4a55-88b7-2974b66ff5ea",
   "metadata": {},
   "outputs": [],
   "source": [
    "rt.histogramRequiredFields(df=df,bin_by=['first name','age','hair','something_more'],count_by='test',color_by='whatever',h=90)"
   ]
  },
  {
   "cell_type": "code",
   "execution_count": null,
   "id": "61522603",
   "metadata": {},
   "outputs": [],
   "source": [
    "rt.histogram(df, bin_by=rt.createTField('SBYT','log_bins'), count_by='SBYT', color_by=rt.createTField('SBYT','log_bins'))"
   ]
  },
  {
   "cell_type": "code",
   "execution_count": null,
   "id": "64e818ea",
   "metadata": {},
   "outputs": [],
   "source": [
    "rt.histogram(df, bin_by='sip', count_by='SBYT', color_by=rt.createTField('SBYT','log_bins'), w=768, h=384)"
   ]
  },
  {
   "cell_type": "code",
   "execution_count": null,
   "id": "98b8d45f",
   "metadata": {},
   "outputs": [],
   "source": []
  }
 ],
 "metadata": {
  "kernelspec": {
   "display_name": "racetrack",
   "language": "python",
   "name": "racetrack"
  },
  "language_info": {
   "codemirror_mode": {
    "name": "ipython",
    "version": 3
   },
   "file_extension": ".py",
   "mimetype": "text/x-python",
   "name": "python",
   "nbconvert_exporter": "python",
   "pygments_lexer": "ipython3",
   "version": "3.11.6"
  },
  "vscode": {
   "interpreter": {
    "hash": "677ca678853aa41fc137f4b55f2bc0c694e45735c0d2faa667d2ec5acb71e67d"
   }
  }
 },
 "nbformat": 4,
 "nbformat_minor": 5
}
