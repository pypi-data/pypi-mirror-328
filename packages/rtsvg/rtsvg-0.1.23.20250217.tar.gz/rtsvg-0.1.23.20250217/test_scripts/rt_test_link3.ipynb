{
 "cells": [
  {
   "cell_type": "code",
   "execution_count": null,
   "metadata": {},
   "outputs": [],
   "source": [
    "import pandas as pd\n",
    "import polars as pl\n",
    "import numpy as np\n",
    "import networkx as nx\n",
    "import copy\n",
    "import sys\n",
    "sys.path.insert(1, '../rtsvg')\n",
    "from rtsvg import *\n",
    "rt = RACETrack()\n",
    "rt.co_mgr.str_to_color_lu['r'] = '#ff0000'\n",
    "rt.co_mgr.str_to_color_lu['b'] = '#0000ff'\n",
    "rt.co_mgr.str_to_color_lu['g'] = '#08ff08'\n",
    "rt.co_mgr.str_to_color_lu['o'] = '#e59866'"
   ]
  },
  {
   "cell_type": "code",
   "execution_count": null,
   "metadata": {},
   "outputs": [],
   "source": [
    "df = pl.DataFrame({'fm':'a b c d e f g h h i i i'.split(),\n",
    "                   'to':'b c d e f g h i i a a a'.split(),\n",
    "                   'co':'r r b b g g g g b o o o'.split()})\n",
    "pos = {'a':(0.0,0.0), 'b':(0.5,0.0), 'c':(1.0,0.0), 'd':(0.8,0.5),\n",
    "       'e':(1.0,1.0), 'f':(0.5,1.0), 'g':(0.0,1.0), 'h':(0.4,0.7), 'i':(0.2,0.35)}\n",
    "relates = [('fm','to')]\n",
    "params  = {'df':df, 'relationships':relates, 'pos':pos, 'draw_labels':True, 'link_arrow':False, \n",
    "           'color_by':'co', 'link_color':'vary', 'link_size':8.0, 'bounds_percent':0.2, 'w':192, 'h':192}\n",
    "params2 = copy.deepcopy(params)\n",
    "params2['link_size'], params2['link_size_max'], params2['link_size_min'] = 'vary', 8.0, 4.0\n",
    "params3 = copy.deepcopy(params)\n",
    "params3['node_color'], params3['link_color'], params3['link_size'] = 'vary', '#000000', 1.0\n",
    "rt.tile([rt.link(**params), rt.linkNode(**params), rt.link(**params2), rt.linkNode(**params2), rt.link(**params3), rt.linkNode(**params3)])"
   ]
  },
  {
   "cell_type": "code",
   "execution_count": null,
   "metadata": {},
   "outputs": [],
   "source": [
    "#\n",
    "# Basic Recipe for Handling Color within Polars\n",
    "#\n",
    "_df_ = df.with_columns(pl.col('co').map_elements(lambda x: rt.co_mgr.getColor(x), return_dtype=pl.String).alias('__color__'))\n",
    "_df_ = _df_.with_columns(pl.lit(rt.co_mgr.getTVColor('data','default')).alias('__color_default__'))\n",
    "_df_ = _df_.group_by(['fm','to']).agg(pl.col('__color__').n_unique().alias('__color_nuniq__'),\n",
    "                                      pl.col('__color_default__').first(),\n",
    "                                      pl.col('__color__').first().alias('__color_first__')) \n",
    "_df_ = _df_.with_columns((pl.when(pl.col('__color_nuniq__')==1).then(pl.col('__color_first__')).otherwise(pl.col('__color_default__'))).alias('__color_final__'))\n",
    "# _df_"
   ]
  },
  {
   "cell_type": "code",
   "execution_count": null,
   "metadata": {},
   "outputs": [],
   "source": [
    "rt.tile([rt.link(x_ins=32, y_ins=32, **params), rt.link(x_ins=32, y_ins=32, draw_performance=False, **params)])"
   ]
  },
  {
   "cell_type": "code",
   "execution_count": null,
   "metadata": {},
   "outputs": [],
   "source": [
    "# rt.link(pl.DataFrame({'fm':['a','b','c'], 'to':[1, 2, 3]}), [('fm','to')]) # fails to work properly\n",
    "_x_ = rt.linkNode(pl.DataFrame({'fm':[2, 3, 1], 'to':[1, 2, 3]}), [('fm','to')])\n",
    "_x_"
   ]
  },
  {
   "cell_type": "code",
   "execution_count": null,
   "metadata": {},
   "outputs": [],
   "source": [
    "_y_ = rt.linkNode(pl.DataFrame({'fm':['b','c','a'], 'to':['a','b','c']}), [('fm','to')])\n",
    "_y_"
   ]
  },
  {
   "cell_type": "code",
   "execution_count": null,
   "metadata": {},
   "outputs": [],
   "source": [
    "_x_.pos['a'], _y_.pos['a'] # note that these are the same (even though they should have been randomly generated on instance creation)"
   ]
  },
  {
   "cell_type": "code",
   "execution_count": null,
   "metadata": {},
   "outputs": [],
   "source": [
    "#\n",
    "# Attempting to replicate issue above (persistence of a default variable setting across class instance creations)\n",
    "# ... appears that this only affects empty dictionaries...\n",
    "#\n",
    "class ABC:\n",
    "    def __init__(self, req, opt={}):\n",
    "        self.req = req\n",
    "        self.opt = opt\n",
    "        if 5 not in self.opt.keys(): self.opt[5] = random.random()\n",
    "\n",
    "class ABCCreator:\n",
    "    def __init__(self):\n",
    "        pass\n",
    "    def createAnABC(self, req, opt={}):\n",
    "        _params_ = locals().copy()\n",
    "        _params_.pop('self')\n",
    "        return ABC(**_params_)\n",
    "\n",
    "creator = ABCCreator()\n",
    "abc = creator.createAnABC('abc')\n",
    "xyz = creator.createAnABC('xyz')\n",
    "abc.opt, xyz.opt"
   ]
  },
  {
   "cell_type": "code",
   "execution_count": null,
   "metadata": {},
   "outputs": [],
   "source": [
    "x = ABC(3)\n",
    "y = ABC(4)\n",
    "x.opt, y.opt"
   ]
  },
  {
   "cell_type": "code",
   "execution_count": null,
   "metadata": {},
   "outputs": [],
   "source": [
    "z = ABC(2)\n",
    "z.opt"
   ]
  },
  {
   "cell_type": "code",
   "execution_count": null,
   "metadata": {},
   "outputs": [],
   "source": []
  }
 ],
 "metadata": {
  "kernelspec": {
   "display_name": ".venv",
   "language": "python",
   "name": "python3"
  },
  "language_info": {
   "codemirror_mode": {
    "name": "ipython",
    "version": 3
   },
   "file_extension": ".py",
   "mimetype": "text/x-python",
   "name": "python",
   "nbconvert_exporter": "python",
   "pygments_lexer": "ipython3",
   "version": "3.12.3"
  }
 },
 "nbformat": 4,
 "nbformat_minor": 2
}
