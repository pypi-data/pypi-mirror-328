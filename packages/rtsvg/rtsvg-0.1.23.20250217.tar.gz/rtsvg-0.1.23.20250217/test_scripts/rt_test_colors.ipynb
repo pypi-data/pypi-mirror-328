{
 "cells": [
  {
   "cell_type": "code",
   "execution_count": null,
   "metadata": {},
   "outputs": [],
   "source": [
    "import polars as pl\n",
    "import pandas as pd\n",
    "import numpy as np\n",
    "import rtsvg\n",
    "rt = rtsvg.RACETrack()"
   ]
  },
  {
   "cell_type": "code",
   "execution_count": null,
   "metadata": {},
   "outputs": [],
   "source": [
    "df = pd.DataFrame({'bin': ['True','False'], 'count':[10, 8], \n",
    "                   'boolean':[True,False], 'first_cap':['True','False'], 'lower':['true','false'],\n",
    "                   'all_caps':['TRUE','FALSE']})\n",
    "params = {'df':df, 'bin_by':'bin', 'count_by':'count', 'h':128}\n",
    "rt.tile([rt.histogram(color_by='boolean', **params),\n",
    "         rt.histogram(color_by='first_cap', **params),\n",
    "         rt.histogram(color_by='lower', **params),\n",
    "         rt.histogram(color_by='all_caps', **params)])"
   ]
  },
  {
   "cell_type": "code",
   "execution_count": null,
   "metadata": {},
   "outputs": [],
   "source": [
    "import kagglehub\n",
    "import os\n",
    "path  = kagglehub.dataset_download(\"hashimkhanwazir/global-population-and-migration-dataset\")\n",
    "df    = pl.read_csv(os.path.join(path, 'world_pop_mig_186_countries.csv'))\n",
    "df    = df.with_columns(pl.col('year').cast(str))\n",
    "df    = rt.columnsAreTimestamps(df, ['year'])\n",
    "for _year_ in range(1960, 2024): rt.co_mgr.str_to_color_lu[_year_] = rt.co_mgr.spectrum(_year_, 1960, 2023)\n",
    "_set_ = set(df.sample(10)['country'])\n",
    "rt.smallMultiples(df.filter(pl.col('country').is_in(_set_)), category_by='country', sm_type='temporalBarChart', \n",
    "                  count_by='population', color_by=rt.createTField('year','year'), w=1500, w_sm_override=256, h_sm_override=128)"
   ]
  },
  {
   "cell_type": "code",
   "execution_count": 4,
   "metadata": {},
   "outputs": [],
   "source": []
  },
  {
   "cell_type": "code",
   "execution_count": null,
   "metadata": {},
   "outputs": [],
   "source": []
  }
 ],
 "metadata": {
  "kernelspec": {
   "display_name": ".venv",
   "language": "python",
   "name": "python3"
  },
  "language_info": {
   "codemirror_mode": {
    "name": "ipython",
    "version": 3
   },
   "file_extension": ".py",
   "mimetype": "text/x-python",
   "name": "python",
   "nbconvert_exporter": "python",
   "pygments_lexer": "ipython3",
   "version": "3.12.3"
  }
 },
 "nbformat": 4,
 "nbformat_minor": 2
}
