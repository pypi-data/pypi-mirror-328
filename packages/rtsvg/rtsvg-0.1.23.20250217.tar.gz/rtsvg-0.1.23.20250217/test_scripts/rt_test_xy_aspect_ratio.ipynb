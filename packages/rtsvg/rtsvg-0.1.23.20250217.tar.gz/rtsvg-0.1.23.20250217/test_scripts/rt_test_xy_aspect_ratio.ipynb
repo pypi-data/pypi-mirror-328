{
 "cells": [
  {
   "cell_type": "code",
   "execution_count": null,
   "metadata": {},
   "outputs": [],
   "source": [
    "import pandas as pd\n",
    "import polars as pl\n",
    "import numpy as np\n",
    "import rtsvg\n",
    "rt = rtsvg.RACETrack()"
   ]
  },
  {
   "cell_type": "code",
   "execution_count": null,
   "metadata": {},
   "outputs": [],
   "source": [
    "state_shapes = '../../cb_2018_us_state_20m/cb_2018_us_state_20m/cb_2018_us_state_20m.shp'\n",
    "state_lu, state_fill_lu = rt.createBackgroundLookupsFromShapeFile(state_shapes)\n",
    "\n",
    "#\n",
    "# us city data from here (not included in this repo)\n",
    "# https://github.com/plotly/datasets/blob/master/us-cities-top-1k.csv\n",
    "#\n",
    "df = pd.read_csv('https://raw.githubusercontent.com/plotly/datasets/master/us-cities-top-1k.csv')\n",
    "\n",
    "# reduce precision\n",
    "df['lat_rnd'] = df['lat'].round(1)\n",
    "df['lon_rnd'] = df['lon'].round(1)\n",
    "\n",
    "df_h   = df.query('lat_rnd >=  30 and lat_rnd <=  31')\n",
    "df_v   = df.query('lon_rnd >= -90 and lon_rnd <= -89')\n",
    "\n",
    "df.sample(3)"
   ]
  },
  {
   "cell_type": "code",
   "execution_count": null,
   "metadata": {},
   "outputs": [],
   "source": [
    "w, h = 256, 128\n",
    "\n",
    "params = {'x_field':'lon', 'y_field':'lat', 'bg_shape_lu':state_lu, 'w':w, 'h':h}\n",
    "\n",
    "xy_too_short        = rt.xy(df_h, **params)\n",
    "xy_too_narrow       = rt.xy(df_v, **params)\n",
    "xy_too_short_fixed  = rt.xy(df_h, fix_aspect_ratio=True, **params)\n",
    "xy_too_narrow_fixed = rt.xy(df_v, fix_aspect_ratio=True, **params)\n",
    "\n",
    "rt.tile([xy_too_short, xy_too_short_fixed, xy_too_narrow, xy_too_narrow_fixed], spacer=20)"
   ]
  },
  {
   "cell_type": "code",
   "execution_count": null,
   "metadata": {},
   "outputs": [],
   "source": [
    "df_h   = pl.DataFrame(df_h)\n",
    "df_v   = pl.DataFrame(df_v)\n",
    "\n",
    "w, h = 256, 512\n",
    "\n",
    "params = {'x_field':'lon', 'y_field':'lat', 'bg_shape_lu':state_lu, 'w':w, 'h':h}\n",
    "\n",
    "xy_too_short        = rt.xy(df_h, **params)\n",
    "xy_too_narrow       = rt.xy(df_v, **params)\n",
    "xy_too_short_fixed  = rt.xy(df_h, fix_aspect_ratio=True, **params)\n",
    "xy_too_narrow_fixed = rt.xy(df_v, fix_aspect_ratio=True, **params)\n",
    "\n",
    "rt.tile([xy_too_short, xy_too_short_fixed, xy_too_narrow, xy_too_narrow_fixed], spacer=20)"
   ]
  },
  {
   "cell_type": "code",
   "execution_count": null,
   "metadata": {},
   "outputs": [],
   "source": [
    "# This one is broken ... \n",
    "df_one_city          = df.query('City == \"Washington\"')\n",
    "df_one_city_pl       = pl.DataFrame(df_one_city)\n",
    "xy_one_pandas        = rt.xy(df_one_city,    **params)\n",
    "xy_one_polars        = rt.xy(df_one_city_pl, **params)\n",
    "xy_one_pandas_fixed  = rt.xy(df_one_city,    fix_aspect_ratio=True, **params)\n",
    "xy_one_polars_fixed  = rt.xy(df_one_city_pl, fix_aspect_ratio=True, **params)\n",
    "rt.tile([xy_one_pandas, xy_one_polars, xy_one_pandas_fixed, xy_one_polars_fixed], spacer=20)"
   ]
  },
  {
   "cell_type": "code",
   "execution_count": null,
   "metadata": {},
   "outputs": [],
   "source": [
    "w, h = 384, 128\n",
    "params = {'x_field':'lon', 'y_field':'lat', 'bg_shape_lu':state_lu, 'w':w, 'h':h}\n",
    "df_one_line          = df.query('lat_rnd == 40.5')\n",
    "df_one_line_pl       = pl.DataFrame(df_one_line)\n",
    "xy_one_pandas        = rt.xy(df_one_line,    **params)\n",
    "xy_one_polars        = rt.xy(df_one_line_pl, **params)\n",
    "xy_one_pandas_fixed  = rt.xy(df_one_line,    fix_aspect_ratio=True, **params)\n",
    "xy_one_polars_fixed  = rt.xy(df_one_line_pl, fix_aspect_ratio=True, **params)\n",
    "rt.tile([xy_one_pandas, xy_one_polars, xy_one_pandas_fixed, xy_one_polars_fixed], spacer=20)"
   ]
  },
  {
   "cell_type": "code",
   "execution_count": null,
   "metadata": {},
   "outputs": [],
   "source": [
    "w, h = 128, 256\n",
    "params = {'x_field':'lon', 'y_field':'lat', 'bg_shape_lu':state_lu, 'w':w, 'h':h}\n",
    "df_one_line          = df.query('lon_rnd == -88.0')\n",
    "df_one_line_pl       = pl.DataFrame(df_one_line)\n",
    "xy_one_pandas        = rt.xy(df_one_line,    **params)\n",
    "xy_one_polars        = rt.xy(df_one_line_pl, **params)\n",
    "xy_one_pandas_fixed  = rt.xy(df_one_line,    fix_aspect_ratio=True, **params)\n",
    "xy_one_polars_fixed  = rt.xy(df_one_line_pl, fix_aspect_ratio=True, **params)\n",
    "rt.tile([xy_one_pandas, xy_one_polars, xy_one_pandas_fixed, xy_one_polars_fixed], spacer=20)"
   ]
  },
  {
   "cell_type": "code",
   "execution_count": null,
   "metadata": {},
   "outputs": [],
   "source": [
    "#\n",
    "# Division Lookup\n",
    "# https://en.wikipedia.org/wiki/List_of_regions_of_the_United_States#/media/File:Census_Regions_and_Division_of_the_United_States.svg\n",
    "#\n",
    "state_to_region_lu = {'Washington' :'Pacific', \n",
    "                      'California' :'Pacific', \n",
    "                      'Oregon'     :'Pacific', \n",
    "                      'Alaska'     :'Pacific',\n",
    "                      'Hawaii'     :'Pacific', \n",
    "\n",
    "                      'Idaho'      :'Mountain', \n",
    "                      'Colorado'   :'Mountain', \n",
    "                      'New Mexico' :'Mountain', \n",
    "                      'Utah'       :'Mountain',\n",
    "                      'Nevada'     :'Mountain', \n",
    "                      'Wyoming'    :'Mountain',\n",
    "                      'Arizona'    :'Mountain', \n",
    "                      'Montana'    :'Mountain', \n",
    "\n",
    "                      'Tennessee'   :'East South Central', \n",
    "                      'Mississippi' :'East South Central',\n",
    "                      'Alabama'     :'East South Central', \n",
    "                      'Kentucky'    :'East South Central',\n",
    "\n",
    "                      'Maryland'             :'South Atlantic', \n",
    "                      'South Carolina'       :'South Atlantic', \n",
    "                      'Georgia'              :'South Atlantic', \n",
    "                      'Florida'              :'South Atlantic',\n",
    "                      'Virginia'             :'South Atlantic', \n",
    "                      'North Carolina'       :'South Atlantic', \n",
    "                      'District of Columbia' :'South Atlantic', \n",
    "                      'Delaware'             :'South Atlantic', \n",
    "                      'West Virginia'        :'South Atlantic',\n",
    "\n",
    "                      'North Dakota' :'West North Central', \n",
    "                      'Minnesota'    :'West North Central', \n",
    "                      'Kansas'       :'West North Central', \n",
    "                      'Missouri'     :'West North Central', \n",
    "                      'South Dakota' :'West North Central', \n",
    "                      'Iowa'         :'West North Central', \n",
    "                      'Nebraska'     :'West North Central', \n",
    "\n",
    "                      'Illinois'  :'East North Central',\n",
    "                      'Ohio'      :'East North Central',\n",
    "                      'Michigan'  :'East North Central', \n",
    "                      'Indiana'   :'East North Central',\n",
    "                      'Wisconsin' :'East North Central',\n",
    "\n",
    "                      'Louisiana' :'West South Central',\n",
    "                      'Texas'     :'West South Central',\n",
    "                      'Arkansas'  :'West South Central',\n",
    "                      'Oklahoma'  :'West South Central',\n",
    "\n",
    "                      'Pennsylvania' :'Middle Atlantic', \n",
    "                      'New York'     :'Middle Atlantic', \n",
    "                      'New Jersey'   :'Middle Atlantic', \n",
    "\n",
    "                      'New Hampshire' :'New England', \n",
    "                      'Maine'         :'New England',\n",
    "                      'Massachusetts' :'New England',\n",
    "                      'Connecticut'   :'New England', \n",
    "                      'Rhode Island'  :'New England',\n",
    "                      'Vermont'       :'New England'}\n",
    "df['Division'] = df['State'].map(state_to_region_lu)\n",
    "rt.smallMultiples(df, category_by='Division', sm_type='xy', sm_params={'x_field':'lon', 'y_field':'lat', 'bg_shape_lu':state_lu, 'fix_aspect_ratio':True}, \n",
    "                  w=1024, w_sm_override=320, h_sm_override=320)"
   ]
  },
  {
   "cell_type": "code",
   "execution_count": null,
   "metadata": {},
   "outputs": [],
   "source": []
  },
  {
   "cell_type": "code",
   "execution_count": null,
   "metadata": {},
   "outputs": [],
   "source": []
  }
 ],
 "metadata": {
  "kernelspec": {
   "display_name": ".venv",
   "language": "python",
   "name": "python3"
  },
  "language_info": {
   "codemirror_mode": {
    "name": "ipython",
    "version": 3
   },
   "file_extension": ".py",
   "mimetype": "text/x-python",
   "name": "python",
   "nbconvert_exporter": "python",
   "pygments_lexer": "ipython3",
   "version": "3.12.3"
  }
 },
 "nbformat": 4,
 "nbformat_minor": 2
}
