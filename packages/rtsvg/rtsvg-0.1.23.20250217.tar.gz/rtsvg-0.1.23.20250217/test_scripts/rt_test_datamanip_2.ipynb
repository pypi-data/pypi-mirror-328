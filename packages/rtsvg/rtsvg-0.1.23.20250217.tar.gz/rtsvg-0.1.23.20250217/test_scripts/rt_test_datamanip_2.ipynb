{
 "cells": [
  {
   "cell_type": "code",
   "execution_count": null,
   "metadata": {},
   "outputs": [],
   "source": [
    "#\n",
    "# Demonstrates issue with df_multiple when using an aggregation for xy-scatter that has a line-groupby...\n",
    "#\n",
    "\n",
    "import pandas as pd\n",
    "import numpy  as np\n",
    "\n",
    "import random\n",
    "\n",
    "import sys\n",
    "sys.path.insert(1, '../rtsvg')\n",
    "from rtsvg import *\n",
    "\n",
    "rt = RACETrack()"
   ]
  },
  {
   "cell_type": "code",
   "execution_count": null,
   "metadata": {},
   "outputs": [],
   "source": [
    "_dates,_cats,_cats2,_values = [],[],[],[]\n",
    "for y in range(2000,2002):\n",
    "    for m in range(1,10):\n",
    "        for d in range(1,28):\n",
    "            samples = random.randint(5,10)\n",
    "            for s in range(0,samples):\n",
    "                _cat  = chr(ord('a') + random.randint(0,3))\n",
    "                _cat2 = chr(ord('A') + random.randint(0,3))\n",
    "                _dates.  append(f'{y:04}-{m:02}-{d:02} {random.randint(0,23):02}:{random.randint(0,59):02}')\n",
    "                _cats.   append(_cat)\n",
    "                _cats2.  append(_cat2)\n",
    "\n",
    "                if   _cat  == 'a' and _cat2 == 'B':\n",
    "                    _values.append(0)\n",
    "                elif _cat2 == 'A':\n",
    "                    _values. append(random.randint(40+d,50+d))\n",
    "                elif _cat2 == 'B':\n",
    "                    _values. append(random.randint(60+m,80+m))\n",
    "                elif _cat2 == 'C':\n",
    "                    _values. append(random.randint(100,105))\n",
    "                else:\n",
    "                    _values. append(random.randint(20,25))\n",
    "\n",
    "df = pd.DataFrame({'date':_dates, 'value':_values, 'cat':_cats, 'cat2':_cats2})\n",
    "df['date'] = df['date'].astype(np.datetime64)\n",
    "print(df.shape)\n",
    "df.sample(3)"
   ]
  },
  {
   "cell_type": "code",
   "execution_count": null,
   "metadata": {},
   "outputs": [],
   "source": [
    "df_agg = rt.temporalStatsAggregationWithGBFields(df, fields='value', gb_fields=['cat','cat2'], stats=['median'], freq='MS', fill_missing=True)\n",
    "rt.displaySVG(rt.smallMultiples(df_agg, category_by='cat',\n",
    "                                color_by = 'cat2',\n",
    "                                sm_type='xy', sm_params={'x_field':'date','y_field':'value_median', 'line_groupby_field':'cat2'},\n",
    "                                w=1024,h=200))"
   ]
  },
  {
   "cell_type": "code",
   "execution_count": null,
   "metadata": {},
   "outputs": [],
   "source": []
  },
  {
   "cell_type": "code",
   "execution_count": null,
   "metadata": {},
   "outputs": [],
   "source": []
  }
 ],
 "metadata": {
  "kernelspec": {
   "display_name": "Python 3",
   "language": "python",
   "name": "python3"
  },
  "language_info": {
   "codemirror_mode": {
    "name": "ipython",
    "version": 3
   },
   "file_extension": ".py",
   "mimetype": "text/x-python",
   "name": "python",
   "nbconvert_exporter": "python",
   "pygments_lexer": "ipython3",
   "version": "3.11.1"
  },
  "orig_nbformat": 4,
  "vscode": {
   "interpreter": {
    "hash": "677ca678853aa41fc137f4b55f2bc0c694e45735c0d2faa667d2ec5acb71e67d"
   }
  }
 },
 "nbformat": 4,
 "nbformat_minor": 2
}
