{
 "cells": [
  {
   "cell_type": "code",
   "execution_count": null,
   "id": "5becd1c4-1970-499c-adcc-3deb8a2fb655",
   "metadata": {},
   "outputs": [],
   "source": [
    "#\n",
    "# Tests how small multiple geometry when there are too many to render \n",
    "#\n",
    "import pandas as pd\n",
    "import numpy as np\n",
    "import sys\n",
    "sys.path.insert(1, '../rtsvg')\n",
    "from rtsvg import *\n",
    "import random\n",
    "rt = RACETrack()"
   ]
  },
  {
   "cell_type": "code",
   "execution_count": null,
   "id": "bb8f1f61",
   "metadata": {},
   "outputs": [],
   "source": [
    "_dates,_values,_cats = [],[],[]\n",
    "for y in range(0,5):\n",
    "    for s in range(0,5):\n",
    "        for m in range(1,13):\n",
    "            _cat = chr(ord('a')+random.randint(0,25)) + \\\n",
    "                chr(ord('a')+random.randint(0,25)) \n",
    "            total_days = 28\n",
    "            for d in range(1,total_days+1):\n",
    "                _date = f'20{y:02}-{m:02}-{d:02}'\n",
    "\n",
    "                if (m%2) == 0:\n",
    "                    _value = d\n",
    "                else:\n",
    "                    _value = 50-d\n",
    "\n",
    "                _cats.   append(_cat)\n",
    "                _dates.  append(_date)\n",
    "                _values. append(_value)\n",
    "\n",
    "df = pd.DataFrame({'date':_dates, 'value':_values, 'cat':_cats})\n",
    "df['date'] = df['date'].astype(\"datetime64[ns]\")\n",
    "print(len(df))\n",
    "df.sample(3)"
   ]
  },
  {
   "cell_type": "code",
   "execution_count": null,
   "id": "e0f326ea",
   "metadata": {},
   "outputs": [],
   "source": [
    "rt.displaySVG(\n",
    "    rt.smallMultiples(\n",
    "        df, category_by=[rt.createTField('date','day_of_week'),rt.createTField('date','month')], grid_view=True, sort_by='natural',\n",
    "        sm_type='xy',\n",
    "        sm_params={'x_field':'cat','y_field':'value','draw_labels':False,'dot_size':'small'},\n",
    "        w=1024,h=512\n",
    "    )\n",
    ")"
   ]
  },
  {
   "cell_type": "code",
   "execution_count": null,
   "id": "76b5e3a7",
   "metadata": {},
   "outputs": [],
   "source": [
    "rt.displaySVG(\n",
    "    rt.smallMultiples(\n",
    "        df, category_by=[rt.createTField('date','day_of_week'),rt.createTField('date','month')], \n",
    "        grid_view=True, sort_by='natural', draw_labels=False,\n",
    "        sm_type='xy',\n",
    "        sm_params={'x_field':'cat','y_field':'value','draw_labels':False,'dot_size':'small'},\n",
    "        w=1024,h=512\n",
    "    )\n",
    ")"
   ]
  },
  {
   "cell_type": "code",
   "execution_count": null,
   "id": "d2301680",
   "metadata": {},
   "outputs": [],
   "source": [
    "rt.displaySVG(\n",
    "    rt.smallMultiples(\n",
    "        df, category_by=[rt.createTField('date','year'),rt.createTField('date','month')], grid_view=True, sort_by='natural',\n",
    "        sm_type='xy',\n",
    "        sm_params={'x_field':'cat','y_field':'value','draw_labels':False,'dot_size':'small'},\n",
    "        w=1024,h=512\n",
    "    )\n",
    ")"
   ]
  },
  {
   "cell_type": "code",
   "execution_count": null,
   "id": "44174a8f",
   "metadata": {},
   "outputs": [],
   "source": []
  }
 ],
 "metadata": {
  "kernelspec": {
   "display_name": "Python 3",
   "language": "python",
   "name": "python3"
  },
  "language_info": {
   "codemirror_mode": {
    "name": "ipython",
    "version": 3
   },
   "file_extension": ".py",
   "mimetype": "text/x-python",
   "name": "python",
   "nbconvert_exporter": "python",
   "pygments_lexer": "ipython3",
   "version": "3.11.6"
  },
  "vscode": {
   "interpreter": {
    "hash": "677ca678853aa41fc137f4b55f2bc0c694e45735c0d2faa667d2ec5acb71e67d"
   }
  }
 },
 "nbformat": 4,
 "nbformat_minor": 5
}
