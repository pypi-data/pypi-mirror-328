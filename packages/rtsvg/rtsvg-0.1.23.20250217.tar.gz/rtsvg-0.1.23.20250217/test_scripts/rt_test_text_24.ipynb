{
 "cells": [
  {
   "cell_type": "code",
   "execution_count": null,
   "metadata": {},
   "outputs": [],
   "source": [
    "import pandas as pd\n",
    "import polars as pl\n",
    "import numpy as np\n",
    "import random\n",
    "import string\n",
    "import html\n",
    "from shapely.geometry import Polygon, MultiPolygon\n",
    "import rtsvg\n",
    "rt = rtsvg.RACETrack()\n",
    "def junk(min_words=8, max_words=16):\n",
    "    def makeWord(min_chars=3, max_chars=8):\n",
    "        return ''.join(random.choices(string.ascii_uppercase + string.digits, k=random.randint(min_chars,max_chars)))\n",
    "    words = []\n",
    "    for i in range(random.randint(min_words, max_words)):\n",
    "        words.append(makeWord())\n",
    "    return ' '.join(words)\n",
    "\n",
    "_text_ = '''\n",
    "--- %< --- %< --- Some symbols!!! --- >% --- >% --- \n",
    "''' + junk() + '''\n",
    "This is a very long text string to imitate text that goes across several lines within the visualization.  It is meant to help with debugging this code.  It is also meant to show that the text will wrap correctly.\n",
    "''' + junk() + '''\\n\\n\\n\n",
    "A little bit here.  Some fluff.  Fluff.  Fluff.   And then a copy of that last line...  This is a very long text string to imitate text that goes across several lines within the visualization.  It is meant to help with debugging this code.  It is also meant to show that the text will wrap correctly.  And more fluff.  Fluff.  Fluff.\n",
    "A little more here for an offset.  Some fluff.  Fluff.  Fluff.   And then a copy of that last line...  This is a very long text string to imitate text that goes across several lines within the visualization.  It is meant to help with debugging this code.  It is also meant to show that the text will wrap correctly.  And more fluff.  Fluff.  Fluff.\n",
    "''' + junk() + '''\n",
    "Some fluff.  Fluff.  Fluff.\n",
    "''' + junk(10,50) + '''\n",
    "A little bit here.  Some fluff.  Fluff.  Fluff.   And then a copy of that last line...  This is a very long text string to imitate text that goes across several lines within the visualization.  It is meant to help with debugging this code.  It is also meant to show that the text will wrap correctly.  And more fluff.  Fluff.  Fluff.\n",
    "A little more here for an offset.  Some fluff.  Fluff.  Fluff.   And then a copy of that last line...  This is a very long text string to imitate text that goes across several lines within the visualization.  It is meant to help with debugging this code.  It is also meant to show that the text will wrap correctly.  And more fluff.  Fluff.  Fluff.\n",
    "''' + junk(64,128) + '''\n",
    "A little bit here.  Some fluff.  Fluff.  Fluff.   And then a copy of that last line...  This is a very long text string to imitate text that goes across several lines within the visualization.  It is meant to help with debugging this code.  It is also meant to show that the text will wrap correctly.  And more fluff.  Fluff.  Fluff.\n",
    "'''\n",
    "_tb_ = rt.textBlock(_text_, w=500, word_wrap=True)\n",
    "#_tb_"
   ]
  },
  {
   "cell_type": "code",
   "execution_count": null,
   "metadata": {},
   "outputs": [],
   "source": [
    "my_y_keeps   = [(300,420),(150,200),(580,780)]\n",
    "_shell_      = f'<svg x=\"0\" y=\"0\" width=\"{_tb_.bounds[2]}\" height=\"{_tb_.bounds[3]}\">{_tb_._repr_svg_()}'\n",
    "for i in range(len(my_y_keeps)):\n",
    "    _shell_ += f'<rect x=\"0\" y=\"{my_y_keeps[i][0]}\" width=\"{_tb_.bounds[2]}\" height=\"{my_y_keeps[i][1]-my_y_keeps[i][0]}\" fill=\"#000000\" opacity=\"0.2\" />'\n",
    "_shell_     += '</svg>'\n",
    "_condensed_ = _tb_.condenseText(my_y_keeps)\n",
    "rt.tile([_condensed_, _shell_])"
   ]
  },
  {
   "cell_type": "code",
   "execution_count": null,
   "metadata": {},
   "outputs": [],
   "source": [
    "rt.tile([_condensed_.highlights({'8XLP':'#ff0000'})])\n"
   ]
  },
  {
   "cell_type": "code",
   "execution_count": null,
   "metadata": {},
   "outputs": [],
   "source": []
  }
 ],
 "metadata": {
  "kernelspec": {
   "display_name": ".venv",
   "language": "python",
   "name": "python3"
  },
  "language_info": {
   "codemirror_mode": {
    "name": "ipython",
    "version": 3
   },
   "file_extension": ".py",
   "mimetype": "text/x-python",
   "name": "python",
   "nbconvert_exporter": "python",
   "pygments_lexer": "ipython3",
   "version": "3.12.3"
  }
 },
 "nbformat": 4,
 "nbformat_minor": 2
}
