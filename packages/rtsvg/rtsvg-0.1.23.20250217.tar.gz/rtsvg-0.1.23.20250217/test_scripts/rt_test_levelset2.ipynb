{
 "cells": [
  {
   "cell_type": "code",
   "execution_count": null,
   "metadata": {},
   "outputs": [],
   "source": [
    "import pandas as pd\n",
    "import polars as pl\n",
    "import numpy  as np\n",
    "import heapq\n",
    "from math import sqrt, pi, cos, sin\n",
    "from rtsvg import *\n",
    "rt = RACETrack()\n",
    "\n",
    "my_raster = state = [[None for x in range(128)] for y in range(64)]  # node that found the pixel\n",
    "my_raster[10][10]  = set([1,2,3])\n",
    "my_raster[0][0]    = set([4])\n",
    "my_raster[50][10]  = set()\n",
    "my_raster[3][120]  = set([5,6])\n",
    "my_raster[62][50]  = set([7])\n",
    "my_raster[63][127] = set([8])\n",
    "my_raster[32][100] = set([9,10,11])\n",
    "my_raster[1][5]    = set([12])\n",
    "my_raster[55][93]  = set([13,14])\n",
    "my_raster[50][91]  = set([15,16,17])\n",
    "my_raster[63][0]   = set([18])\n",
    "my_origins         = [5, 10, 4, 18, 15]\n",
    "\n",
    "my_state, my_found_time, my_finds, my_progress_lu = rt.levelSetBalanced(my_raster, my_origins, 0)\n",
    "print(my_finds)\n",
    "rt.tile([rt.levelSetStateAndFoundTimeSVG(my_state,my_found_time),\n",
    "         rt.xy(pl.DataFrame(my_progress_lu), x_field='iteration', y_field='heapsize', color_by='origin', dot_size='tiny', w=1024, h=128)], horz=False)"
   ]
  },
  {
   "cell_type": "code",
   "execution_count": null,
   "metadata": {},
   "outputs": [],
   "source": [
    "my_origins         = [9,10,11,1]\n",
    "my_state, my_found_time, my_finds, my_progress_lu = rt.levelSetBalanced(my_raster, my_origins, 0)\n",
    "print(my_finds)\n",
    "rt.tile([rt.levelSetStateAndFoundTimeSVG(my_state,my_found_time),\n",
    "         rt.xy(pl.DataFrame(my_progress_lu), x_field='iteration', y_field='heapsize', color_by='origin', dot_size='tiny', w=1024, h=128)], horz=False)"
   ]
  },
  {
   "cell_type": "code",
   "execution_count": null,
   "metadata": {},
   "outputs": [],
   "source": []
  }
 ],
 "metadata": {
  "kernelspec": {
   "display_name": ".venv",
   "language": "python",
   "name": "python3"
  },
  "language_info": {
   "codemirror_mode": {
    "name": "ipython",
    "version": 3
   },
   "file_extension": ".py",
   "mimetype": "text/x-python",
   "name": "python",
   "nbconvert_exporter": "python",
   "pygments_lexer": "ipython3",
   "version": "3.12.3"
  }
 },
 "nbformat": 4,
 "nbformat_minor": 2
}
