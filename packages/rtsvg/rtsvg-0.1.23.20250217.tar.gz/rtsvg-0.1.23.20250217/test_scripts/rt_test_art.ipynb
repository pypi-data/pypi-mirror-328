{
 "cells": [
  {
   "cell_type": "code",
   "execution_count": null,
   "id": "cc5ec30b-60e9-4ac2-ae42-ca1281cc777f",
   "metadata": {
    "vscode": {
     "languageId": "javascript"
    }
   },
   "outputs": [],
   "source": [
    "import pandas as pd\n",
    "import polars as pl\n",
    "import numpy as np\n",
    "import sys\n",
    "sys.path.insert(1, '../rtsvg')\n",
    "from rtsvg import *\n",
    "rt = RACETrack()"
   ]
  },
  {
   "cell_type": "code",
   "execution_count": null,
   "id": "494b8207",
   "metadata": {
    "vscode": {
     "languageId": "javascript"
    }
   },
   "outputs": [],
   "source": [
    "params = {}\n",
    "rt.displaySVG(rt.tile([rt.iconLinkNode        (**params),\n",
    "                       rt.iconHistogram       (**params),\n",
    "                       rt.iconTemporalBarChart(**params),\n",
    "                       rt.iconPeriodicBarChart(**params),\n",
    "                       rt.iconPieChart        (**params),\n",
    "                       rt.iconSetCurrentAsRoot(**params),\n",
    "                       rt.iconCurrentMinusRoot(**params)]))"
   ]
  },
  {
   "cell_type": "code",
   "execution_count": null,
   "metadata": {
    "vscode": {
     "languageId": "javascript"
    }
   },
   "outputs": [],
   "source": [
    "params = {'w':30,'h':30,'bg':'#ffffff','x_ins':0,'y_ins':10}\n",
    "rt.displaySVG(rt.tile([rt.iconLinkNode        (**params),\n",
    "                       rt.iconHistogram       (**params),\n",
    "                       rt.iconTemporalBarChart(**params),\n",
    "                       rt.iconPeriodicBarChart(**params),\n",
    "                       rt.iconPieChart        (**params),\n",
    "                       rt.iconSetCurrentAsRoot(**params),\n",
    "                       rt.iconCurrentMinusRoot(**params)]))"
   ]
  },
  {
   "cell_type": "code",
   "execution_count": null,
   "metadata": {
    "vscode": {
     "languageId": "javascript"
    }
   },
   "outputs": [],
   "source": [
    "params = {'w':80,'h':80,'bg':'#ffffff','x_ins':0,'y_ins':0}\n",
    "rt.displaySVG(rt.tile([rt.iconLinkNode        (**params),\n",
    "    rt.iconHistogram       (**params),\n",
    "    rt.iconTemporalBarChart(**params),\n",
    "    rt.iconPeriodicBarChart(**params),\n",
    "    rt.iconPieChart        (**params),\n",
    "    rt.iconSetCurrentAsRoot(**params),\n",
    "    rt.iconCurrentMinusRoot(**params),\n",
    "    rt.iconResetView       (**params),\n",
    "    rt.iconCountBy         (bg='#ffffff'),\n",
    "    rt.iconColorBy         (bg='#ffffff')]))"
   ]
  },
  {
   "cell_type": "code",
   "execution_count": null,
   "id": "608ce8eb",
   "metadata": {
    "vscode": {
     "languageId": "javascript"
    }
   },
   "outputs": [],
   "source": [
    "svg = ['<svg width=\"800\" height=\"600\">']\n",
    "svg.append('<rect x=\"0\" y=\"0\" width=\"800\" height=\"600\" fill=\"#ffffff\" />')\n",
    "svg.append(rt.iconCloud(x=0,   y=0,   w=300, h=150))\n",
    "svg.append('<rect x=\"0\" y=\"0\" width=\"300\" height=\"150\" stroke=\"#ff0000\" fill=\"none\" />')\n",
    "svg.append(rt.iconCloud(x=100, y=50,  w=300, h=150))\n",
    "svg.append('<rect x=\"100\" y=\"50\" width=\"300\" height=\"150\" stroke=\"#ff0000\" fill=\"none\" />')\n",
    "svg.append(rt.iconCloud(x=20,  y=200, w=150, h=75))\n",
    "svg.append('<rect x=\"20\" y=\"200\" width=\"150\" height=\"75\" stroke=\"#ff0000\" fill=\"none\" />')\n",
    "svg.append(rt.iconCloud(x=400,  y=300, w=600, h=25))\n",
    "svg.append('<rect x=\"400\" y=\"300\" width=\"600\" height=\"75\" stroke=\"#ff0000\" fill=\"none\" />')\n",
    "svg.append('</svg>')\n",
    "rt.displaySVG(''.join(svg))"
   ]
  },
  {
   "cell_type": "code",
   "execution_count": null,
   "id": "15b8161c",
   "metadata": {
    "vscode": {
     "languageId": "javascript"
    }
   },
   "outputs": [],
   "source": []
  }
 ],
 "metadata": {
  "kernelspec": {
   "display_name": "Python 3",
   "language": "python",
   "name": "python3"
  },
  "language_info": {
   "codemirror_mode": {
    "name": "ipython",
    "version": 3
   },
   "file_extension": ".py",
   "mimetype": "text/x-python",
   "name": "python",
   "nbconvert_exporter": "python",
   "pygments_lexer": "ipython3",
   "version": "3.9.6"
  },
  "vscode": {
   "interpreter": {
    "hash": "677ca678853aa41fc137f4b55f2bc0c694e45735c0d2faa667d2ec5acb71e67d"
   }
  }
 },
 "nbformat": 4,
 "nbformat_minor": 5
}
