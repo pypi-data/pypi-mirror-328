{
 "cells": [
  {
   "cell_type": "code",
   "execution_count": null,
   "id": "5becd1c4-1970-499c-adcc-3deb8a2fb655",
   "metadata": {},
   "outputs": [],
   "source": [
    "# Tests small multiple overrides \n",
    "import pandas as pd\n",
    "import numpy as np\n",
    "import sys\n",
    "sys.path.insert(1, '../rtsvg')\n",
    "from rtsvg import *\n",
    "import random\n",
    "rt = RACETrack()"
   ]
  },
  {
   "cell_type": "code",
   "execution_count": null,
   "id": "fdfbe123",
   "metadata": {},
   "outputs": [],
   "source": [
    "import pandas as pd\n",
    "cats, bins, counts = [], [], []\n",
    "for x in range(10000):\n",
    "    _str_ = str(chr(ord('a') + random.randint(0,6))) + str(chr(ord('a') + random.randint(0,6)))\n",
    "    cats.append(_str_)\n",
    "    bins.append(str(chr(ord('a') + random.randint(0,25))))\n",
    "    counts.append(random.randint(0,100))\n",
    "df = pd.DataFrame({'cat':cats,'bin':bins,'count':counts})\n",
    "rt.smallMultiples(df, category_by='cat', sm_type='histogram', sm_params={'bin_by':'bin'}, w=800, h=400)"
   ]
  },
  {
   "cell_type": "code",
   "execution_count": null,
   "metadata": {},
   "outputs": [],
   "source": [
    "rt.smallMultiples(df, category_by='cat', sm_type='histogram', sm_params={'bin_by':'bin'}, w=800, h=400, w_sm_override=128, h_sm_override=64)"
   ]
  },
  {
   "cell_type": "code",
   "execution_count": null,
   "metadata": {},
   "outputs": [],
   "source": [
    "rt.smallMultiples(df, category_by='cat', sm_type='histogram', sm_params={'bin_by':'bin'}, w=800, h=400, w_sm_override=128, h_sm_override=64, max_categories=7)"
   ]
  },
  {
   "cell_type": "code",
   "execution_count": null,
   "metadata": {},
   "outputs": [],
   "source": [
    "rt.smallMultiples(df, category_by='cat', sm_type='histogram', sm_params={'bin_by':'bin'}, w=800, h=400, w_sm_override=128, h_sm_override=64, max_categories=6)"
   ]
  },
  {
   "cell_type": "code",
   "execution_count": null,
   "metadata": {},
   "outputs": [],
   "source": [
    "rt.smallMultiples(df, category_by='cat', sm_type='histogram', sm_params={'bin_by':'bin'}, w=800, h=400, w_sm_override=128, h_sm_override=64, max_categories=5)"
   ]
  },
  {
   "cell_type": "code",
   "execution_count": null,
   "metadata": {},
   "outputs": [],
   "source": []
  }
 ],
 "metadata": {
  "kernelspec": {
   "display_name": "Python 3",
   "language": "python",
   "name": "python3"
  },
  "language_info": {
   "codemirror_mode": {
    "name": "ipython",
    "version": 3
   },
   "file_extension": ".py",
   "mimetype": "text/x-python",
   "name": "python",
   "nbconvert_exporter": "python",
   "pygments_lexer": "ipython3",
   "version": "3.11.6"
  },
  "vscode": {
   "interpreter": {
    "hash": "677ca678853aa41fc137f4b55f2bc0c694e45735c0d2faa667d2ec5acb71e67d"
   }
  }
 },
 "nbformat": 4,
 "nbformat_minor": 5
}
