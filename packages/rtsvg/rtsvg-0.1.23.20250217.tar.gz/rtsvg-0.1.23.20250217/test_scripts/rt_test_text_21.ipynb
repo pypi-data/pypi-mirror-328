{
 "cells": [
  {
   "cell_type": "code",
   "execution_count": null,
   "metadata": {},
   "outputs": [],
   "source": [
    "import random\n",
    "import rtsvg\n",
    "import string\n",
    "rt = rtsvg.RACETrack()"
   ]
  },
  {
   "cell_type": "code",
   "execution_count": null,
   "metadata": {},
   "outputs": [],
   "source": [
    "def junk(min_words=16, max_words=128):\n",
    "    def makeWord(min_chars=3, max_chars=8):\n",
    "        return ''.join(random.choices(string.ascii_uppercase + string.digits, k=random.randint(min_chars,max_chars)))\n",
    "    words = []\n",
    "    for i in range(random.randint(min_words, max_words)):\n",
    "        words.append(makeWord())\n",
    "    return ' '.join(words)\n",
    "\n",
    "my_markers = ['marker1', 'marker2', 'marker3', 'marker4', 'this is a longer marker that is meant to go across lines']\n",
    "my_colors  = ['#ff0000', '#00ff00', '#0000ff', '#ffff00', '#a0a0a0']\n",
    "all_lus    = {my_markers[0]: my_colors[0], my_markers[1]: my_colors[1], my_markers[2]: my_colors[2], my_markers[3]: my_colors[3], my_markers[4]: my_colors[4]}\n",
    "my_markups = {'Ex 1': {my_markers[0]: my_colors[0], my_markers[1]: my_colors[1]},\n",
    "              'Ex 2': {my_markers[2]: my_colors[2], my_markers[0]: my_colors[0]},\n",
    "              'Ex 3': {my_markers[0]: my_colors[0], my_markers[1]: my_colors[1], my_markers[3]: my_colors[3]},\n",
    "              'Ex 4': {my_markers[2]: my_colors[2], my_markers[3]: my_colors[3]},\n",
    "              'Ex 5': {my_markers[4]: my_colors[4]}}\n",
    "def makePassage(markers):\n",
    "    _txt_= []\n",
    "    _txt_.append(junk() + ' ' +random.choice(markers) + ' ' + junk())\n",
    "    _txt_.append(random.choice(markers) + ' ' + junk(10, 12) + ' ' + random.choice(markers))\n",
    "    _txt_.append(junk(32,64))\n",
    "    _txt_.append(junk() + ' ' +random.choice(markers) + ' ' + junk(10, 12) + ' ' + random.choice(markers) + ' ' + junk(10, 12) + ' ' + random.choice(markers))\n",
    "    _txt_.append(junk(32,256))\n",
    "    _txt_.append(random.choice(markers) + ' ' + junk(10, 12) + ' ' + random.choice(markers))\n",
    "    _txt_.append(junk(32,256))\n",
    "    _txt_.append(random.choice(markers) + ' ' + junk(10, 12) + ' ' + random.choice(markers))\n",
    "    _txt_.append(junk(32,40))\n",
    "    _txt_.append(random.choice(markers) + ' ' + junk(10, 12) + ' ' + random.choice(markers))\n",
    "    return '\\n'.join(_txt_)\n",
    "\n",
    "passage = makePassage(my_markers)\n",
    "_tb_ = rt.textBlock(passage, word_wrap=True, w=300)\n",
    "\n",
    "my_svg_dict   = _tb_.highlightsComparison(my_markups)# , y_keep=0.0)\n",
    "_example_svg_ =list(my_svg_dict.values())[0]\n",
    "w, h          = rt.__extractSVGWidthAndHeight__(_example_svg_)\n",
    "_spacer_      = rt.spacer(20, h, '#000000')\n",
    "_list_        = []\n",
    "for _svg_ in my_svg_dict.values(): \n",
    "    if len(_list_) > 0: _list_.append(_spacer_)\n",
    "    _list_.append(_svg_)\n",
    "rt.tile(_list_)"
   ]
  },
  {
   "cell_type": "code",
   "execution_count": null,
   "metadata": {},
   "outputs": [],
   "source": [
    "_tb2_         = rt.textBlock(passage, word_wrap=True, w=700)\n",
    "my_svg_dict   = _tb2_.highlightsComparison(my_markups)\n",
    "_example_svg_ =list(my_svg_dict.values())[0]\n",
    "w, h          = rt.__extractSVGWidthAndHeight__(_example_svg_)\n",
    "_spacer_      = rt.spacer(20, h, '#000000')\n",
    "_list_        = []\n",
    "for _svg_ in my_svg_dict.values(): \n",
    "    if len(_list_) > 0: _list_.append(_spacer_)\n",
    "    _list_.append(_svg_)\n",
    "rt.tile([_list_[0], _list_[1], _tb2_.highlights(all_lus)])"
   ]
  },
  {
   "cell_type": "code",
   "execution_count": null,
   "metadata": {},
   "outputs": [],
   "source": []
  }
 ],
 "metadata": {
  "kernelspec": {
   "display_name": ".venv",
   "language": "python",
   "name": "python3"
  },
  "language_info": {
   "codemirror_mode": {
    "name": "ipython",
    "version": 3
   },
   "file_extension": ".py",
   "mimetype": "text/x-python",
   "name": "python",
   "nbconvert_exporter": "python",
   "pygments_lexer": "ipython3",
   "version": "3.12.3"
  }
 },
 "nbformat": 4,
 "nbformat_minor": 2
}
