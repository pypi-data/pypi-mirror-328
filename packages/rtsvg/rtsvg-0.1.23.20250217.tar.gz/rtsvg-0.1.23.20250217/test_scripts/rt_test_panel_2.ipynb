{
 "cells": [
  {
   "cell_type": "code",
   "execution_count": null,
   "id": "70628cb0",
   "metadata": {},
   "outputs": [],
   "source": [
    "#\n",
    "# Tested with: \n",
    "#   panel == 0.14.2\n",
    "#   bokeh == 2.4.3\n",
    "#\n",
    "import pandas as pd\n",
    "\n",
    "import random\n",
    "\n",
    "import sys\n",
    "sys.path.insert(1, '../rtsvg')\n",
    "\n",
    "from rtsvg import *\n",
    "rt = RACETrack()"
   ]
  },
  {
   "cell_type": "code",
   "execution_count": null,
   "id": "557f12da",
   "metadata": {},
   "outputs": [],
   "source": [
    "cats, counts = [], []\n",
    "i,j = 1000000000,0\n",
    "while i > 10:\n",
    "    cats.append(j)\n",
    "    counts.append(i)\n",
    "    j += 1\n",
    "    i /= 1.01\n",
    "counts.append(1e12)\n",
    "cats.append('abc')\n",
    "counts.append(1e11)\n",
    "cats.append('def')\n",
    "df = pd.DataFrame({'cat':cats,'count':counts})\n",
    "spec = {(0,0,4,4):('pieChart',{}),\n",
    "        (4,4,2,2):('pieChart',{}),\n",
    "        (6,5,1,1):('pieChart',{}),\n",
    "        (6,0,2,2):('pieChart',{}),\n",
    "        (8,0,4,6):('histogram',{'bin_by':'cat'})\n",
    "       }\n",
    "rt.displaySVG(rt.layout(spec,df,w=512,h=256,color_by='cat',count_by='count'))"
   ]
  },
  {
   "cell_type": "code",
   "execution_count": null,
   "id": "090abc10",
   "metadata": {},
   "outputs": [],
   "source": [
    "ipanel = rt.interactivePanel(df, spec, 512, 256, {'color_by':'cat', 'count_by':'count'})\n",
    "ipanel"
   ]
  },
  {
   "cell_type": "code",
   "execution_count": null,
   "id": "5f09984f",
   "metadata": {},
   "outputs": [],
   "source": [
    "len(ipanel.visibleDataFrame())"
   ]
  },
  {
   "cell_type": "code",
   "execution_count": null,
   "id": "6e8d883b",
   "metadata": {},
   "outputs": [],
   "source": [
    "rt.displaySVG(rt.layout(spec,df.query('count < 1798'),w=256,h=256,color_by='cat',count_by='count'))"
   ]
  },
  {
   "cell_type": "code",
   "execution_count": null,
   "id": "c63af769",
   "metadata": {},
   "outputs": [],
   "source": []
  }
 ],
 "metadata": {
  "kernelspec": {
   "display_name": "Python 3 (ipykernel)",
   "language": "python",
   "name": "python3"
  },
  "language_info": {
   "codemirror_mode": {
    "name": "ipython",
    "version": 3
   },
   "file_extension": ".py",
   "mimetype": "text/x-python",
   "name": "python",
   "nbconvert_exporter": "python",
   "pygments_lexer": "ipython3",
   "version": "3.11.4"
  }
 },
 "nbformat": 4,
 "nbformat_minor": 5
}
