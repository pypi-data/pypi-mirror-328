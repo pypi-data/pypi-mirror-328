{
 "cells": [
  {
   "cell_type": "code",
   "execution_count": null,
   "metadata": {},
   "outputs": [],
   "source": [
    "import pandas as pd\n",
    "import networkx as nx\n",
    "\n",
    "import sys\n",
    "sys.path.insert(1, '../rtsvg')\n",
    "\n",
    "from rtsvg import *\n",
    "\n",
    "from IPython.display import Javascript, HTML, display\n",
    "%matplotlib inline"
   ]
  },
  {
   "cell_type": "code",
   "execution_count": null,
   "metadata": {},
   "outputs": [],
   "source": [
    "rt = RACETrack()"
   ]
  },
  {
   "cell_type": "code",
   "execution_count": null,
   "metadata": {},
   "outputs": [],
   "source": [
    "df1 = pd.DataFrame({'fm':['a','b','c'],      'to':['b','c','d'],      'count':[10, 20, 1]})\n",
    "df2 = pd.DataFrame({'src':['x','y','z','a'], 'dst':['1','2','3','4'], 'count':[8,   2, 4, 12]})\n",
    "\n",
    "multi_relates = [('fm','to'),('src','dst')]\n",
    "node_shapes   = {'fm':'ellipse','to':'square','src':'triangle','dst':'plus'}\n",
    "\n",
    "pos = {'a':[0,0],'b':[1,0],'c':[1,1],'d':[0,1],'x':[0,0.4],'1':[0.2,0.4],'y':[0,0.2],'2':[0.2,0.2],'z':[0,0.6],'3':[0.2,0.6],'4':[0.6,0.2]}\n",
    "\n",
    "df = pd.concat([df1, df2])\n",
    "rt.linkNode(df, multi_relates, pos, count_by='count', node_size='vary', node_color='#ff0000', node_shape=node_shapes)"
   ]
  },
  {
   "cell_type": "code",
   "execution_count": null,
   "metadata": {},
   "outputs": [],
   "source": [
    "df = pd.DataFrame({'fm':['a','b','c','a' ,'a' ,'a' ,'a' ,'d' ,'d', 'd', 'd', 'd', 'd'],\n",
    "                   'to':['b','c','d','a0','a1','a2','a3','d0','d1','d2','d3','d4','d5'],\n",
    "                   'co':['a','a','a','a', 'b', 'b', 'b', 'b', 'c', 'c', 'c', 'c', 'c']})"
   ]
  },
  {
   "cell_type": "code",
   "execution_count": null,
   "metadata": {},
   "outputs": [],
   "source": [
    "nx_g = rt.createNetworkXGraph(df, [('fm','to')])\n",
    "pos  = nx.kamada_kawai_layout(nx_g)\n",
    "spec = {\n",
    "    '1,1':('linkNode',  {'relationships':[('fm','to')], 'pos':pos, 'link_size':'medium', 'node_size':None,    'node_shape':None}),\n",
    "    '2,1':('linkNode',  {'relationships':[('fm','to')], 'pos':pos, 'link_size':'small',  'node_size':'large', 'node_shape':'ellipse'}),\n",
    "    '3,1':('linkNode',  {'relationships':[('fm','to')], 'pos':pos, 'link_size':'medium', 'node_size':'large', 'node_shape':'square'}),\n",
    "    '4,1':('linkNode',  {'relationships':[('fm','to')], 'pos':pos, 'link_size':'large',  'node_size':'large', 'node_shape':'triangle'}),\n",
    "    '1,2':('linkNode',  {'relationships':[('fm','to')], 'pos':pos, 'link_size':'nil',    'node_size':'large', 'node_shape':'utriangle'}),\n",
    "    '2,2':('linkNode',  {'relationships':[('fm','to')], 'pos':pos, 'link_size':'nil',    'node_size':'large', 'node_shape':'diamond'}),\n",
    "    '3,2':('linkNode',  {'relationships':[('fm','to')], 'pos':pos, 'link_size':'nil',    'node_size':'large', 'node_shape':'plus'}),\n",
    "    '4,2':('linkNode',  {'relationships':[('fm','to')], 'pos':pos, 'link_size':'nil',    'node_size':'large', 'node_shape':'x'}),    \n",
    "}\n",
    "my_svg = rt.multiWidgetPanel(df, spec, w=1024, h=512)\n",
    "#rt.displaySVG(my_svg))"
   ]
  },
  {
   "cell_type": "code",
   "execution_count": null,
   "metadata": {},
   "outputs": [],
   "source": [
    "df2 = pd.DataFrame({'fm0':['a','d','b','b','c'],\n",
    "                    'fm1':['0','5','0','0','1'],\n",
    "                    'to0':['d','e','e','c','f'],\n",
    "                    'to1':['5','6','6','1','7']})\n",
    "df2_relates = [(('fm0','fm1'),('to0','to1'))]\n",
    "\n",
    "pos = {'a|0':[0,0], 'd|5':[1,0], 'e|6':[1,1],'b|0':[0,1],'c|1':[0,0.5],'f|7':[0.5,0.5]}\n",
    "\n",
    "# node_color = dictionary to hash RGB values\n",
    "color1_lu = {}\n",
    "color1_lu['a|0'] = color1_lu['d|5'] = color1_lu['e|6'] = '#ff0000'\n",
    "color1_lu['b|0'] = color1_lu['c|1'] =                    '#00ff00'\n",
    "\n",
    "# node_color = dictionary to strings that the application will hash into colors \n",
    "color2_lu = {}\n",
    "color2_lu['a|0'] = color2_lu['d|5'] =  'what'\n",
    "color2_lu['e|6'] =                     'ever'\n",
    "color2_lu['b|0'] = color2_lu['c|1'] =  'works'\n",
    "\n",
    "spec = {\n",
    "    '1,1': ('linkNode', {}),\n",
    "    '2,1': ('linkNode', {'node_color':color1_lu}),\n",
    "    '3,1': ('linkNode', {'node_color':color2_lu})\n",
    "}\n",
    "\n",
    "#rt.displaySVG(rt.multiWidgetPanel(df2, spec, relationships=df2_relates, pos=pos, bounds_percent=0.2, node_size='large', w=768, h=256)))"
   ]
  },
  {
   "cell_type": "markdown",
   "metadata": {},
   "source": [
    "rt.displaySVG(rt.smallMultiples(df2,category_by='fm1',sm_type='linkNode',\n",
    "                               sm_params={'pos':pos,\n",
    "                                          'use_pos_for_bounds':True,\n",
    "                                          'render_pos_context':True,\n",
    "                                          'relationships':df2_relates,\n",
    "                                          'bounds_percent':0.2,\n",
    "                                          'node_size':'large'},w=512,h=512).renderSVG())"
   ]
  },
  {
   "cell_type": "code",
   "execution_count": null,
   "metadata": {},
   "outputs": [],
   "source": [
    "dfm = pd.DataFrame({\n",
    "    'from': ['a','a','a','b','b','b','b','c','c','c','c'],\n",
    "    'to':   ['b','b','b','c','c','c','c','d','d','d','d'],\n",
    "    'f_sub':['x','y','z','x','y','z','x','y','z','x','y'],\n",
    "    't_sub':['z','x','y','z','w','y','z','x','y','z','x']\n",
    "})\n",
    "\n",
    "upper_pos = {\n",
    " 'a':[0,0],\n",
    " 'b':[0,1],\n",
    " 'c':[1,1],\n",
    " 'd':[1,0]    \n",
    "}\n",
    "\n",
    "lower_pos = {\n",
    "    'x':[0,0],\n",
    "    'y':[1,1],\n",
    "    'z':[2,2],\n",
    "    'w':[0,1],\n",
    "}\n",
    "\n",
    "rt.linkNode(dfm, [('from','to')], pos=upper_pos, bounds_percent=0.2,\n",
    "            node_shape='small_multiple', \n",
    "            link_shape='curve', link_size='medium', link_opacity=0.6, link_arrow=False,\n",
    "            sm_type='linkNode',\n",
    "            sm_params={'relationships':[('f_sub','t_sub')],'pos':lower_pos,'node_size':'small','render_pos_context':True,'draw_labels':False}, \n",
    "            sm_w=32, sm_h=32,\n",
    "            w=384, h=384, draw_labels=False)"
   ]
  },
  {
   "cell_type": "code",
   "execution_count": null,
   "metadata": {},
   "outputs": [],
   "source": [
    "nf_df_orig        = pd.read_csv(\"../../netflow_sample.csv\")\n",
    "nf_df_orig['beg'] = nf_df_orig['beg'].astype('datetime64[ns]')"
   ]
  },
  {
   "cell_type": "code",
   "execution_count": null,
   "metadata": {},
   "outputs": [],
   "source": [
    "nf_df             = nf_df_orig.sample(10000)\n",
    "nf_relates        = [('sip','dip')]\n",
    "pos               = nx.spring_layout(rt.createNetworkXGraph(nf_df,nf_relates))\n",
    "rt.linkNode(nf_df, nf_relates, \n",
    "            pos=pos, \n",
    "            color_by='dpt', node_size='small', \n",
    "            link_shape='curve', link_size='small', link_color='vary', link_opacity=0.4,\n",
    "            label_only=set(['192.168.1.7', '192.168.1.6']), w=512, h=512)"
   ]
  },
  {
   "cell_type": "markdown",
   "metadata": {},
   "source": [
    "rt.displaySVG(rt.smallMultiples(df=nf_df, \n",
    "                               category_by=rt.createTField('beg','hour'),\n",
    "                               sm_type='linkNode',\n",
    "                               sm_params={'relationships':nf_relates, \n",
    "                                          'pos':pos,\n",
    "                                          'color_by':'dpt', \n",
    "                                          'node_size':None,\n",
    "                                          'link_shape':'curve', \n",
    "                                          'link_size':'small', \n",
    "                                          'link_color':'vary', \n",
    "                                          'link_opacity':0.8,\n",
    "                                          'draw_labels':False}, color_by='dpt').renderSVG())"
   ]
  },
  {
   "cell_type": "markdown",
   "metadata": {},
   "source": [
    "rt.displaySVG(rt.smallMultiples(df=nf_df, \n",
    "                               category_by=rt.createTField('beg','hour'),\n",
    "                               sm_type='linkNode',\n",
    "                               sm_params={'relationships':nf_relates, \n",
    "                                          'pos':pos,\n",
    "                                          'use_pos_for_bounds':False,\n",
    "                                          'color_by':'dpt', \n",
    "                                          'node_size':None,\n",
    "                                          'link_shape':'curve', \n",
    "                                          'link_size':'small', \n",
    "                                          'link_color':'vary', \n",
    "                                          'link_opacity':0.8,\n",
    "                                          'draw_labels':False}, color_by='dpt')))"
   ]
  },
  {
   "cell_type": "markdown",
   "metadata": {},
   "source": [
    "rt.displaySVG(rt.smallMultiples(df=nf_df, \n",
    "                               category_by=rt.createTField('beg','hour'),\n",
    "                               sm_type='linkNode',\n",
    "                               sm_params={'relationships':nf_relates, \n",
    "                                          'pos':pos,\n",
    "                                          'use_pos_for_bounds':True,\n",
    "                                          'render_pos_context':True,\n",
    "                                          'pos_context_opacity':0.04,\n",
    "                                          'color_by':'dpt', \n",
    "                                          'node_size':'small',\n",
    "                                          'link_shape':'curve', \n",
    "                                          'link_size':'small', \n",
    "                                          'link_color':'vary', \n",
    "                                          'link_opacity':0.8,\n",
    "                                          'draw_labels':False}, color_by='dpt', x_axis_independent=True)))\n"
   ]
  },
  {
   "cell_type": "markdown",
   "metadata": {},
   "source": [
    "\n",
    "rt.displaySVG(rt.smallMultiples(df=nf_df, \n",
    "                               category_by=rt.createTField('beg','hour'),\n",
    "                               sm_type='linkNode',\n",
    "                               sm_params={'relationships':nf_relates, \n",
    "                                          'pos':pos,\n",
    "                                          'use_pos_for_bounds':False,\n",
    "                                          'color_by':'dpt', \n",
    "                                          'node_size':'vary',\n",
    "                                          'link_size':None, \n",
    "                                          'draw_labels':False}, color_by='dpt', count_by='DBYT')))"
   ]
  },
  {
   "cell_type": "code",
   "execution_count": null,
   "metadata": {},
   "outputs": [],
   "source": [
    "nf_df_details = nf_df_orig[\n",
    "    (nf_df_orig['dpt'] != 80)  &\n",
    "    (nf_df_orig['dpt'] != 443) &\n",
    "    (nf_df_orig['dpt'] != 53)\n",
    "]\n",
    "print(f'details length = {len(nf_df_details)} | # of sip = {len(set(nf_df_details[\"sip\"]))} | # of dip = {len(set(nf_df_details[\"dip\"]))}')\n",
    "\n",
    "pos_details = nx.spring_layout(rt.createNetworkXGraph(nf_df_details,nf_relates))\n",
    "\n",
    "rt.linkNode(nf_df_details, nf_relates, pos=pos_details, color_by='dpt', \n",
    "            node_shape='small_multiple', \n",
    "            link_shape='curve', link_size='vary', link_color='vary', link_opacity=0.8,\n",
    "            sm_type='temporalBarChart',sm_params={'ts_field':'beg'}, sm_w=64, sm_h=24, sm_x_axis_independent=False,\n",
    "            w=1024, h=1024, draw_labels=False)"
   ]
  },
  {
   "cell_type": "code",
   "execution_count": null,
   "metadata": {},
   "outputs": [],
   "source": [
    "rt.linkNode(nf_df_details, nf_relates, pos=pos_details, color_by='dpt', \n",
    "            node_shape='small_multiple', \n",
    "            link_shape='curve', link_size='small', link_color='vary', link_opacity=0.4,\n",
    "            sm_type='xy',sm_params={'x_field':'beg','y_field':'SBYT','draw_context':False}, sm_w=64, sm_h=32,\n",
    "            w=1024, h=1024, draw_labels=False)"
   ]
  },
  {
   "cell_type": "code",
   "execution_count": null,
   "metadata": {},
   "outputs": [],
   "source": [
    "rt.linkNode(nf_df_details, nf_relates, pos=pos_details, color_by='dpt', \n",
    "            node_shape='small_multiple', \n",
    "            link_shape='curve', link_size='medium', link_color='vary', link_opacity=0.4,\n",
    "            sm_type='xy',sm_params={'x_field':'DBYT','y_field':'SBYT','dot_size':'small','draw_labels':False}, sm_w=48, sm_h=48,\n",
    "            w=1024, h=1024, draw_labels=False)"
   ]
  },
  {
   "cell_type": "code",
   "execution_count": null,
   "metadata": {},
   "outputs": [],
   "source": [
    "#rt.displaySVG(rt.linkNodeInstance(nf_df_details, nf_relates, pos=pos_details, color_by='dpt', \n",
    "#                         node_shape='small_multiple', \n",
    "#                         link_shape='curve', link_size='small', link_color='vary', link_opacity=0.4,\n",
    "#                         sm_type='periodicBarChart',sm_params={'ts_field':'beg','time_period':'hour'}, sm_w=32, sm_h=16,\n",
    "#                         w=1024, h=1024, draw_labels=False)))"
   ]
  },
  {
   "cell_type": "code",
   "execution_count": null,
   "metadata": {},
   "outputs": [],
   "source": [
    "rt.linkNode(nf_df_details, nf_relates, pos=pos_details, color_by='dpt', \n",
    "            node_shape='small_multiple', \n",
    "            link_shape='curve', link_size='medium', link_color='vary', link_opacity=0.6, link_arrow=False,\n",
    "            sm_type='histogram',sm_params={'bin_by':'sip'}, sm_w=24, sm_h=24,\n",
    "            w=1024, h=1024, draw_labels=False)"
   ]
  },
  {
   "cell_type": "code",
   "execution_count": null,
   "metadata": {},
   "outputs": [],
   "source": [
    "nf_df_struct = nf_df_orig.sample(1000)\n",
    "\n",
    "# Create the octet structure\n",
    "parent_lu = {}\n",
    "for x in set(nf_df_struct['sip']):\n",
    "    while len(x) > 0:\n",
    "        if '.' in x:\n",
    "            parent = x[:x.rindex('.')]\n",
    "            parent_lu[x] = parent\n",
    "            x = parent\n",
    "        else:\n",
    "            parent_lu[x] = 'root'\n",
    "            x = ''\n",
    "struct_df = pd.DataFrame({'child':parent_lu.keys(),'parent':parent_lu.values()})\n",
    "\n",
    "# Create the graph\n",
    "struct_relates = [('child','parent'),('sip','sip')]\n",
    "pos_struct = nx.kamada_kawai_layout(rt.createNetworkXGraph(struct_df,struct_relates))\n",
    "\n",
    "df = pd.concat([struct_df,nf_df_struct])\n",
    "\n",
    "# Fails / 2024-04-13 -- commented out for now\n",
    "#\n",
    "#rt.linkNode(df, struct_relates, pos=pos_struct, color_by='dpt',\n",
    "#            node_shape='small_multiple',\n",
    "#            link_size='medium', link_shape='line', link_opacity=0.8, link_arrow=False,\n",
    "#            sm_type='xy',sm_params={'x_field':'DBYT','y_field':'SBYT','dot_size':'small','draw_labels':False}, sm_w=48, sm_h=48,\n",
    "#            w=1024, h=1024, draw_labels=True)"
   ]
  },
  {
   "cell_type": "code",
   "execution_count": null,
   "metadata": {},
   "outputs": [],
   "source": [
    "rt.linkNode(df, struct_relates, pos=pos_struct, color_by='dpt',\n",
    "            node_shape='small_multiple',\n",
    "            link_size='medium', link_shape='line', link_opacity=0.8, link_arrow=False,\n",
    "            sm_type='pieChart',sm_params={}, sm_w=32, sm_h=32,\n",
    "            w=1024, h=1024, draw_labels=True)"
   ]
  },
  {
   "cell_type": "code",
   "execution_count": null,
   "metadata": {},
   "outputs": [],
   "source": [
    "pos_details = nx.spring_layout(rt.createNetworkXGraph(nf_df,[('sip','dip')]))"
   ]
  },
  {
   "cell_type": "code",
   "execution_count": null,
   "metadata": {},
   "outputs": [],
   "source": [
    "rt.linkNode(nf_df, [('sip','dip')], pos=pos_details, color_by='dpt', count_by='DBYT', \n",
    "            node_shape='ellipse', node_size='vary', node_opacity=0.2, node_size_min=.8, node_size_max=7,\n",
    "            link_size=None, w=256, h=256, draw_labels=False)"
   ]
  },
  {
   "cell_type": "code",
   "execution_count": null,
   "metadata": {},
   "outputs": [],
   "source": [
    "my_convex_hull_lu = {}\n",
    "my_convex_hull_lu[r'192[.]168[.]1[.][0-9]+'] = 'private'\n",
    "my_convex_hull_lu[r'202[.].*']               = '202.'\n",
    "my_convex_hull_lu[r'207[.].*']               = '207.'\n",
    "my_convex_hull_lu[r'239[.].*']               = '239.'\n",
    "my_convex_hull_lu[r'61[.]185[.].*']          = '61.185.'\n",
    "my_convex_hull_lu[r'74[.].*']                = '74.'\n",
    "rt.linkNode(nf_df, [('sip','dip')], pos=pos_details, color_by='dpt', count_by='DBYT', \n",
    "            node_shape='ellipse', node_size='small', node_size_min=.8, node_size_max=7,\n",
    "            link_size=None,\n",
    "            convex_hull_lu=my_convex_hull_lu,convex_hull_opacity=0.4,convex_hull_labels=True,\n",
    "            w=512, h=512, draw_labels=False)"
   ]
  },
  {
   "cell_type": "code",
   "execution_count": null,
   "metadata": {},
   "outputs": [],
   "source": [
    "rt.linkNode(nf_df, [('sip','dip')], pos=pos_details, color_by='dpt', count_by='DBYT', \n",
    "            node_size=None, link_size=None,\n",
    "            convex_hull_lu=my_convex_hull_lu,convex_hull_opacity=0.1,convex_hull_labels=True,convex_hull_stroke_width=2,\n",
    "            w=512, h=512, draw_labels=False)"
   ]
  },
  {
   "cell_type": "code",
   "execution_count": null,
   "metadata": {},
   "outputs": [],
   "source": []
  }
 ],
 "metadata": {
  "kernelspec": {
   "display_name": "Python 3",
   "language": "python",
   "name": "python3"
  },
  "language_info": {
   "codemirror_mode": {
    "name": "ipython",
    "version": 3
   },
   "file_extension": ".py",
   "mimetype": "text/x-python",
   "name": "python",
   "nbconvert_exporter": "python",
   "pygments_lexer": "ipython3",
   "version": "3.11.6"
  },
  "orig_nbformat": 4,
  "vscode": {
   "interpreter": {
    "hash": "677ca678853aa41fc137f4b55f2bc0c694e45735c0d2faa667d2ec5acb71e67d"
   }
  }
 },
 "nbformat": 4,
 "nbformat_minor": 2
}
