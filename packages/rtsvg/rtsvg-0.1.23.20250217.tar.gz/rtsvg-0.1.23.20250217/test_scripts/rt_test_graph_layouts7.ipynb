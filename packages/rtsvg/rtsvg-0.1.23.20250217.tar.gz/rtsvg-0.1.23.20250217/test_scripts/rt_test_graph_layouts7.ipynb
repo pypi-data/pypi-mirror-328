{
 "cells": [
  {
   "cell_type": "code",
   "execution_count": null,
   "metadata": {},
   "outputs": [],
   "source": [
    "import pandas as pd\n",
    "import numpy as np\n",
    "import networkx as nx\n",
    "import random\n",
    "import sys\n",
    "sys.path.insert(1, '../rtsvg')\n",
    "from rtsvg import RACETrack\n",
    "rt = RACETrack()"
   ]
  },
  {
   "cell_type": "code",
   "execution_count": null,
   "metadata": {},
   "outputs": [],
   "source": [
    "centers = ['a','b','c','d','e','f','g','h','i']\n",
    "to_add  = 100\n",
    "lus     = {'fm':[], 'to':[]}\n",
    "for i in range(to_add):\n",
    "    if random.random() > 0.2:\n",
    "        _center_ = random.choice(centers)\n",
    "        lus['fm'].append(_center_)\n",
    "        lus['to'].append(_center_ + str(random.randint(0, 2**10)))\n",
    "    else:\n",
    "        how_many   = random.randint(2, len(centers))\n",
    "        to_connect = []\n",
    "        while len(to_connect) < how_many:\n",
    "            _center_ = random.choice(centers)\n",
    "            if _center_ not in to_connect:\n",
    "                to_connect.append(_center_)\n",
    "        _new_node_ = 'intra_'+str(random.randint(0, 2**12))\n",
    "        for _center_ in to_connect:\n",
    "            lus['fm'].append(_center_)\n",
    "            lus['to'].append(_new_node_)\n",
    "\n",
    "df  = pd.DataFrame(lus)\n",
    "g   = nx.from_pandas_edgelist(df, 'fm', 'to', create_using=nx.Graph())\n",
    "pos_spring     = nx.spring_layout(g)\n",
    "pos_hypertree  = pos_spring\n",
    "pos_hypertree  = rt.hyperTreeLayout(g)\n",
    "pos_circular   = rt.circularLayout(g, centers)\n",
    "rt.tile([rt.linkNode(df, [('fm','to')], pos_spring,    draw_labels=True, bounds_percent=0.1, w=512, h=512),\n",
    "         rt.linkNode(df, [('fm','to')], pos_hypertree, draw_labels=True, bounds_percent=0.1, w=512, h=512),\n",
    "         rt.linkNode(df, [('fm','to')], pos_circular,  draw_labels=True, bounds_percent=0.1, w=512, h=512)])"
   ]
  },
  {
   "cell_type": "code",
   "execution_count": null,
   "metadata": {},
   "outputs": [],
   "source": [
    "_svgs_ = []\n",
    "for _points_ in [1, 100, 200]:\n",
    "    _nodes_ = ['a'+str(i) for i in range(_points_)]\n",
    "    pos     = rt.sunflowerSeedArrangement(g, _nodes_)\n",
    "    \n",
    "    _more_nodes_ = ['b'+str(i) for i in range(_points_)]\n",
    "    pos          = rt.sunflowerSeedArrangement(g, _more_nodes_, pos, xy=(-2,-2), r_max=0.5)\n",
    "    _nodes_.extend(_more_nodes_)\n",
    "\n",
    "\n",
    "    _more_nodes_ = ['c'+str(i) for i in range(_points_)]\n",
    "    pos          = rt.sunflowerSeedArrangement(g, _more_nodes_, pos, xy=(-2,0), r_max=0.25)\n",
    "    _nodes_.extend(_more_nodes_)\n",
    "\n",
    "    _svgs_.append(rt.linkNode(pd.DataFrame({'node': _nodes_}), [('node','node')], pos, draw_labels=False, node_size='small', bounds_percent=0.1, w=512, h=512))\n",
    "    \n",
    "rt.tile(_svgs_)"
   ]
  },
  {
   "cell_type": "code",
   "execution_count": null,
   "metadata": {},
   "outputs": [],
   "source": [
    "_svgs_ = []\n",
    "for _points_ in [1, 2, 3, 4, 5, 6, 8, 10, 100, 200, 400, 600]:\n",
    "    _nodes_ = ['a'+str(i) for i in range(_points_)]\n",
    "    pos     = rt.rectangularArrangement(g, _nodes_, bounds=(4,6,5,7))\n",
    "    \n",
    "    _more_nodes_ = ['b'+str(i) for i in range(_points_)]\n",
    "    pos          = rt.rectangularArrangement(g, _more_nodes_, pos, (10,10,20,15))\n",
    "    _nodes_.extend(_more_nodes_)\n",
    "\n",
    "    _more_nodes_ = ['c'+str(i) for i in range(_points_)]\n",
    "    pos          = rt.rectangularArrangement(g, _more_nodes_, pos, (1, 3, 2, 8))\n",
    "    _nodes_.extend(_more_nodes_)\n",
    "\n",
    "    _more_nodes_ = ['d'+str(i) for i in range(_points_)]\n",
    "    pos          = rt.rectangularArrangement(g, _more_nodes_, pos, (8, 6, 10, 8))\n",
    "    _nodes_.extend(_more_nodes_)\n",
    "\n",
    "    _svgs_.append(rt.linkNode(pd.DataFrame({'node': _nodes_}), [('node','node')], pos, draw_labels=False, node_size='tiny', bounds_percent=0.1, w=256, h=256))\n",
    "    \n",
    "rt.table(_svgs_, per_row=6)"
   ]
  },
  {
   "cell_type": "code",
   "execution_count": null,
   "metadata": {},
   "outputs": [],
   "source": []
  },
  {
   "cell_type": "code",
   "execution_count": null,
   "metadata": {},
   "outputs": [],
   "source": []
  }
 ],
 "metadata": {
  "kernelspec": {
   "display_name": ".venv",
   "language": "python",
   "name": "python3"
  },
  "language_info": {
   "codemirror_mode": {
    "name": "ipython",
    "version": 3
   },
   "file_extension": ".py",
   "mimetype": "text/x-python",
   "name": "python",
   "nbconvert_exporter": "python",
   "pygments_lexer": "ipython3",
   "version": "3.11.6"
  }
 },
 "nbformat": 4,
 "nbformat_minor": 2
}
