{
 "cells": [
  {
   "cell_type": "code",
   "execution_count": null,
   "metadata": {},
   "outputs": [],
   "source": [
    "import pandas as pd\n",
    "import polars as pl\n",
    "import numpy as np\n",
    "import networkx as nx\n",
    "import os\n",
    "from math import pi, sin, cos, sqrt\n",
    "import sys\n",
    "sys.path.insert(1, '../rtsvg')\n",
    "from rtsvg import *\n",
    "rt = RACETrack()"
   ]
  },
  {
   "cell_type": "code",
   "execution_count": null,
   "metadata": {},
   "outputs": [],
   "source": [
    "fms, tos, files = [], [], []\n",
    "_base_  = '../../data/stanford.edu/facebook/'\n",
    "_files_ = os.listdir(_base_)\n",
    "for _file_ in _files_:\n",
    "    if _file_.endswith('.edges'):\n",
    "        _f_     = open(_base_ + _file_,'rt')\n",
    "        _lines_ = _f_.read().split('\\n')\n",
    "        for _line_ in _lines_:\n",
    "            _fmto_ = _line_.split(' ')\n",
    "            if len(_fmto_) == 2:\n",
    "                fms.append(_fmto_[0]+'_'+str(_file_)), tos.append(_fmto_[1]+'_'+str(_file_)), files.append(str(_file_))\n",
    "df = pl.DataFrame({'fm':fms,'to':tos,'file':files}).filter(pl.col('file') == '0.edges')\n",
    "high_degrees = set(['56_0.edges','67_0.edges','271_0.edges'])\n",
    "df = df.filter(pl.col('fm').is_in(high_degrees) | pl.col('to').is_in(high_degrees))\n",
    "rt.histogram(df, bin_by='fm', count_by='to', count_by_set=True)"
   ]
  },
  {
   "cell_type": "code",
   "execution_count": null,
   "metadata": {},
   "outputs": [],
   "source": [
    "cd = rt.chordDiagram(df, [('fm','to')], link_style='bundled', skeleton_algorithm='hdbscan', link_opacity=0.1, link_size_min=2.0, link_size_max=4.0, x_ins=30, y_ins=30)\n",
    "_svg_= cd._repr_svg_()\n",
    "rt.tile([_svg_, cd.skeleton_svg])"
   ]
  },
  {
   "cell_type": "code",
   "execution_count": null,
   "metadata": {},
   "outputs": [],
   "source": [
    "\n",
    "xmin,xmax,ymin,ymax = 10,220,10,220\n",
    "cx,cy = xmin + (xmax - xmin)/2, ymin + (ymax - ymin)/2\n",
    "r     = min((xmax-xmin)/2,(ymax-ymin)/2)\n",
    "svg = [f'<svg x=\"0\" y=\"0\" width=\"{xmax+10}\" height=\"{ymax+10}\">']\n",
    "svg.append(f'<circle cx=\"{cx}\" cy=\"{cy}\" r=\"{r}\" fill=\"none\" stroke=\"#a0a0a0\" />')\n",
    "svg.append(f'<circle cx=\"{cx}\" cy=\"{cy}\" r=\"2\" fill=\"#ff0000\" stroke=\"#ff0000\" />')\n",
    "\n",
    "r_div  = 10\n",
    "hx_e   = r/r_div\n",
    "hx_h   = sqrt(hx_e**2 - (hx_e/2)**2)\n",
    "hx_p   = lambda x,y: f\"M {x} {y} m {-hx_e} {0} l {hx_e/2} {hx_h} l {hx_e} {0} l {hx_e/2} {-hx_h} l {-hx_e/2} {-hx_h} l {-hx_e} {0} l {-hx_e/2} {hx_h}\"\n",
    "hx_pos = lambda x,y: [(x-hx_e,   y),         \n",
    "                      (x-hx_e/2, y+hx_h), \n",
    "                      (x+hx_e/2, y+hx_h), \n",
    "                      (x+hx_e,   y), \n",
    "                      (x+hx_e/2, y-hx_h), \n",
    "                      (x-hx_e/2, y-hx_h), \n",
    "                      (x-hx_e,   y)]\n",
    "\n",
    "for j in range(r_div):\n",
    "    y_shift = hx_h if (j%2)==0 else 0.0\n",
    "    for i in range(r_div):\n",
    "        svg.append(f'<path d=\"{hx_p(cx-hx_e*1.5*(j),cy+y_shift-2*hx_h*(i))}\" fill=\"none\" stroke=\"#ff0000\" stroke-width=\"0.4\" />')\n",
    "        svg.append(f'<path d=\"{hx_p(cx-hx_e*1.5*(j),cy+y_shift+2*hx_h*(i))}\" fill=\"none\" stroke=\"#ff0000\" stroke-width=\"0.4\" />')\n",
    "        svg.append(f'<path d=\"{hx_p(cx+hx_e*1.5*(j),cy+y_shift-2*hx_h*(i))}\" fill=\"none\" stroke=\"#ff0000\" stroke-width=\"0.4\" />')\n",
    "        svg.append(f'<path d=\"{hx_p(cx+hx_e*1.5*(j),cy+y_shift+2*hx_h*(i))}\" fill=\"none\" stroke=\"#ff0000\" stroke-width=\"0.4\" />')\n",
    "\n",
    "svg.append('</svg>')\n",
    "rt.tile([''.join(svg)])"
   ]
  },
  {
   "cell_type": "code",
   "execution_count": null,
   "metadata": {},
   "outputs": [],
   "source": [
    "def pointsToPath(points):\n",
    "    p = 'M '+str(points[0][0])+','+str(points[0][1])\n",
    "    for i in range(1,len(points)):\n",
    "        p += ' L '+str(points[i][0])+','+str(points[i][1])\n",
    "    return p\n",
    "\n",
    "svg = [f'<svg x=\"0\" y=\"0\" width=\"{xmax+10}\" height=\"{ymax+10}\">']\n",
    "svg.append(f'<circle cx=\"{cx}\" cy=\"{cy}\" r=\"{r}\" fill=\"none\" stroke=\"#a0a0a0\" />')\n",
    "svg.append(f'<circle cx=\"{cx}\" cy=\"{cy}\" r=\"2\" fill=\"#ff0000\" stroke=\"#ff0000\" />')\n",
    "\n",
    "for j in range(r_div):\n",
    "    y_shift = hx_h if (j%2)==0 else 0.0\n",
    "    for i in range(r_div):\n",
    "        svg.append(f'<path d=\"{pointsToPath(hx_pos(cx-hx_e*1.5*(j),cy+y_shift-2*hx_h*(i)))}\" fill=\"none\" stroke=\"#ff0000\" stroke-width=\"0.4\" />')\n",
    "        svg.append(f'<path d=\"{pointsToPath(hx_pos(cx-hx_e*1.5*(j),cy+y_shift+2*hx_h*(i)))}\" fill=\"none\" stroke=\"#ff0000\" stroke-width=\"0.4\" />')\n",
    "        svg.append(f'<path d=\"{pointsToPath(hx_pos(cx+hx_e*1.5*(j),cy+y_shift-2*hx_h*(i)))}\" fill=\"none\" stroke=\"#ff0000\" stroke-width=\"0.4\" />')\n",
    "        svg.append(f'<path d=\"{pointsToPath(hx_pos(cx+hx_e*1.5*(j),cy+y_shift+2*hx_h*(i)))}\" fill=\"none\" stroke=\"#ff0000\" stroke-width=\"0.4\" />')\n",
    "\n",
    "svg.append('</svg>')\n",
    "rt.tile([''.join(svg)])"
   ]
  },
  {
   "cell_type": "code",
   "execution_count": null,
   "metadata": {},
   "outputs": [],
   "source": [
    "svg = [f'<svg x=\"0\" y=\"0\" width=\"{xmax+10}\" height=\"{ymax+10}\">']\n",
    "svg.append(f'<circle cx=\"{cx}\" cy=\"{cy}\" r=\"{r}\" fill=\"none\" stroke=\"#a0a0a0\" />')\n",
    "svg.append(f'<circle cx=\"{cx}\" cy=\"{cy}\" r=\"2\" fill=\"#ff0000\" stroke=\"#ff0000\" />')\n",
    "for j in range(r_div):\n",
    "    y_shift = hx_h if (j%2)==0 else 0.0\n",
    "    for i in range(r_div):\n",
    "        for pnx in [-1, 1]:\n",
    "            for pny in [-1, 1]:\n",
    "                pts = hx_pos(cx+pnx*hx_e*1.5*(j),cy+y_shift+pny*2*hx_h*(i))\n",
    "                for _edge_ in zip(pts,pts[1:]):\n",
    "                    if rt.segmentLength((_edge_[0], (cx,cy))) < r*0.9 and rt.segmentLength((_edge_[1], (cx,cy))) < r*0.9:\n",
    "                        svg.append(f'<path d=\"{pointsToPath(_edge_)}\" fill=\"none\" stroke=\"#ff0000\" stroke-width=\"0.4\" />')\n",
    "svg.append('</svg>')\n",
    "rt.tile([''.join(svg)])"
   ]
  },
  {
   "cell_type": "code",
   "execution_count": null,
   "metadata": {},
   "outputs": [],
   "source": [
    "cd = rt.chordDiagram(df, [('fm','to')],\n",
    "                     skeleton_algorithm='simple',\n",
    "                     link_style='bundled', \n",
    "                     link_opacity=0.1, \n",
    "                     link_size_min=2.0, link_size_max=4.0, x_ins=30, y_ins=30)\n",
    "_svg_= cd._repr_svg_()\n",
    "rt.tile([_svg_, cd.skeleton_svg])"
   ]
  },
  {
   "cell_type": "code",
   "execution_count": null,
   "metadata": {},
   "outputs": [],
   "source": [
    "cd = rt.chordDiagram(df, [('fm','to')],\n",
    "                     skeleton_algorithm='hexagonal',\n",
    "                     link_style='bundled', \n",
    "                     link_opacity=0.1, \n",
    "                     link_size_min=2.0, link_size_max=4.0, x_ins=30, y_ins=30)\n",
    "_svg_= cd._repr_svg_()\n",
    "rt.tile([_svg_, cd.skeleton_svg])"
   ]
  },
  {
   "cell_type": "code",
   "execution_count": null,
   "metadata": {},
   "outputs": [],
   "source": [
    "params = {'df':df, 'relationships':[('fm','to')],'w':512,'h':512}\n",
    "rt.table([rt.chordDiagram(**params),\n",
    "          rt.chordDiagram(**params, link_style='bundled', skeleton_algorithm='hexagonal'),\n",
    "          rt.chordDiagram(**params, link_style='bundled', skeleton_algorithm='hdbscan'),\n",
    "          rt.chordDiagram(**params, link_style='bundled', skeleton_algorithm='simple')], per_row=2)"
   ]
  },
  {
   "cell_type": "code",
   "execution_count": null,
   "metadata": {},
   "outputs": [],
   "source": [
    "params = {'df':df, 'relationships':[('fm','to')],'w':512,'h':512, 'equal_size_nodes':True}\n",
    "rt.table([rt.chordDiagram(**params),\n",
    "          rt.chordDiagram(**params, link_style='bundled', skeleton_algorithm='hexagonal'),\n",
    "          rt.chordDiagram(**params, link_style='bundled', skeleton_algorithm='hdbscan'),\n",
    "          rt.chordDiagram(**params, link_style='bundled', skeleton_algorithm='simple')], per_row=2)"
   ]
  },
  {
   "cell_type": "code",
   "execution_count": null,
   "metadata": {},
   "outputs": [],
   "source": [
    "params = {'df':df, 'relationships':[('fm','to')],'w':512,'h':512, 'equal_size_nodes':True, 'link_color':'shade_fm_to', 'link_opacity':0.4}\n",
    "rt.table([rt.chordDiagram(**params),\n",
    "          rt.chordDiagram(**params, link_style='bundled', skeleton_algorithm='hexagonal'),\n",
    "          rt.chordDiagram(**params, link_style='bundled', skeleton_algorithm='hdbscan'),\n",
    "          rt.chordDiagram(**params, link_style='bundled', skeleton_algorithm='simple')], per_row=2)"
   ]
  },
  {
   "cell_type": "code",
   "execution_count": null,
   "metadata": {},
   "outputs": [],
   "source": []
  }
 ],
 "metadata": {
  "kernelspec": {
   "display_name": "Python 3",
   "language": "python",
   "name": "python3"
  },
  "language_info": {
   "codemirror_mode": {
    "name": "ipython",
    "version": 3
   },
   "file_extension": ".py",
   "mimetype": "text/x-python",
   "name": "python",
   "nbconvert_exporter": "python",
   "pygments_lexer": "ipython3",
   "version": "3.9.6"
  }
 },
 "nbformat": 4,
 "nbformat_minor": 2
}
