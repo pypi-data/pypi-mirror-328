{
 "cells": [
  {
   "cell_type": "code",
   "execution_count": null,
   "metadata": {},
   "outputs": [],
   "source": [
    "import pandas as pd\n",
    "import polars as pl\n",
    "import numpy as np\n",
    "import networkx as nx\n",
    "from shapely import Polygon, Point\n",
    "import sys\n",
    "sys.path.insert(1, '../rtsvg')\n",
    "from rtsvg import *\n",
    "rt = RACETrack()"
   ]
  },
  {
   "cell_type": "code",
   "execution_count": null,
   "metadata": {},
   "outputs": [],
   "source": [
    "df = pl.DataFrame({'fm':'a b c d e f g'.split(),\n",
    "                   'to':'b c d e f g a'.split()})\n",
    "pos = {'a':(0.0,0.0), 'b':(0.5,0.0), 'c':(1.0,1.0), 'd':(1.0,1.0),\n",
    "       'e':(1.0,1.0), 'f':(0.5,1.0), 'g':(0.0,0.0)}\n",
    "_link_ = rt.link(df, [('fm','to')], pos, w=128, h=128, bounds_percent=0.2)\n",
    "_link_"
   ]
  },
  {
   "cell_type": "code",
   "execution_count": null,
   "metadata": {},
   "outputs": [],
   "source": [
    "_rect_ = Polygon([(50,15), (50,115), (120,115), (120,15)])\n",
    "_link_.overlappingEntities(_rect_)"
   ]
  },
  {
   "cell_type": "code",
   "execution_count": null,
   "metadata": {},
   "outputs": [],
   "source": [
    "_link_.entitiesAtPoint((20,107))"
   ]
  },
  {
   "cell_type": "code",
   "execution_count": null,
   "metadata": {},
   "outputs": [],
   "source": [
    "_svgs_ = ['<svg x=\"0\" y=\"0\" width=\"128\" height=\"128\">']\n",
    "_svgs_.append(_link_._repr_svg_())\n",
    "_svgs_.append('</svg>')\n",
    "_all_  = _link_.__createPathDescriptionForAllEntities__()\n",
    "_svgs_.append(f'<path d=\"{_all_}\" stroke=\"#0000ff\" stroke-width=\"2.0\" fill=\"#0000ff\" />')\n",
    "_sel_  = _link_.__createPathDescriptionOfSelectedEntities__(my_selection=['b', 'c', 'f', 'e', 'd'])\n",
    "_svgs_.append(f'<path d=\"{_sel_}\" stroke=\"#ff0000\" stroke-width=\"2.0\" fill=\"none\" />')\n",
    "rt.tile([''.join(_svgs_)])"
   ]
  },
  {
   "cell_type": "code",
   "execution_count": null,
   "metadata": {},
   "outputs": [],
   "source": [
    "print(_link_.pos['b'])\n",
    "_link_.selectEntities(['b'])\n",
    "_link_.__moveSelectedEntities__((-10,-10))\n",
    "print(_link_.pos['b'])\n",
    "_link_.renderSVG()\n",
    "_link_"
   ]
  },
  {
   "cell_type": "code",
   "execution_count": null,
   "metadata": {},
   "outputs": [],
   "source": [
    "_link_.labelOnly(['b', 'c', 'f', 'e', 'd'])\n",
    "_link_.drawLabels(True)\n",
    "_link_.renderSVG()\n",
    "_link_"
   ]
  },
  {
   "cell_type": "code",
   "execution_count": null,
   "metadata": {},
   "outputs": [],
   "source": [
    "_link_.drawLabels(True)\n",
    "_link_.labelOnly(['a','f'])\n",
    "_link_.renderSVG()\n",
    "_link_"
   ]
  },
  {
   "cell_type": "code",
   "execution_count": null,
   "metadata": {},
   "outputs": [],
   "source": [
    "_shape_lu_ = {'abc':Polygon([(0,0), (0,1), (1,1), (1,0)])}\n",
    "_link_ = rt.link(df, [('fm','to')], pos, bg_shape_lu=_shape_lu_, w=128, h=128, bounds_percent=0.2)\n",
    "_link_"
   ]
  },
  {
   "cell_type": "code",
   "execution_count": null,
   "metadata": {},
   "outputs": [],
   "source": [
    "df = pl.DataFrame({'fm':[1, 2, 3, 4], 'to':[2, 3, 4, 1]})\n",
    "pos = {1:(0.0,0.0), 2:(1.0,0.0), 3:(0.8,1.0), 4:(0.2,1.0)}\n",
    "params = {'df':df, 'relationships':[('fm','to')], 'pos':pos,\n",
    "          'draw_labels':True, 'node_labels':{3:'more of a label'},\n",
    "          'w':256, 'h':128, 'bounds_percent':0.2}\n",
    "rt.tile([rt.link(**params), rt.linkNode(**params)])"
   ]
  },
  {
   "cell_type": "code",
   "execution_count": null,
   "metadata": {},
   "outputs": [],
   "source": [
    "ln_params = {'relationships':[('fm','to')]}\n",
    "rt.interactiveGraphLayout(df, ln_params)"
   ]
  },
  {
   "cell_type": "code",
   "execution_count": null,
   "metadata": {},
   "outputs": [],
   "source": [
    "df = pl.DataFrame({'fm':[1,2,3],\n",
    "                   'to':[2,3,1]})\n",
    "_pos_    = {1:(0.0,0.0), 2:(1.0,0.0), 3:(1.0,1.0)}\n",
    "_params_ = {'relationships':[('fm','to')], 'draw_labels':True, 'render_pos_context':True, \n",
    "            'link_size':'large', 'link_opacity':0.2, 'pos':_pos_}\n",
    "_rtg_ = rt.interactiveGraphLayout(df, _params_, w=300, h=200)\n",
    "_rtg_"
   ]
  },
  {
   "cell_type": "code",
   "execution_count": null,
   "metadata": {},
   "outputs": [],
   "source": [
    "_node_labels_ = {1:'this', 2:'test', 3:None, 4:None, 5:'not here'}\n",
    "#_node_labels_ = {1:'this', 2:'test'}\n",
    "_label_only_  = {1, 2, 3}\n",
    "rt.link(df, bounds_percent=0.2, node_labels=_node_labels_, label_only=_label_only_, **_params_)"
   ]
  }
 ],
 "metadata": {
  "kernelspec": {
   "display_name": "Python 3",
   "language": "python",
   "name": "python3"
  },
  "language_info": {
   "codemirror_mode": {
    "name": "ipython",
    "version": 3
   },
   "file_extension": ".py",
   "mimetype": "text/x-python",
   "name": "python",
   "nbconvert_exporter": "python",
   "pygments_lexer": "ipython3",
   "version": "3.12.3"
  }
 },
 "nbformat": 4,
 "nbformat_minor": 2
}
