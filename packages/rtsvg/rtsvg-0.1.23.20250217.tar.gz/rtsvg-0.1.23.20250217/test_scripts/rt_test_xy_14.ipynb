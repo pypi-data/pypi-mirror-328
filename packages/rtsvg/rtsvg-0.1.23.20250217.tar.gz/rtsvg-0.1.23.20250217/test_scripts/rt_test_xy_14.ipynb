{
 "cells": [
  {
   "cell_type": "code",
   "execution_count": null,
   "id": "cc5ec30b-60e9-4ac2-ae42-ca1281cc777f",
   "metadata": {},
   "outputs": [],
   "source": [
    "import pandas as pd\n",
    "import polars as pl\n",
    "import numpy as np\n",
    "import random\n",
    "import sys\n",
    "sys.path.insert(1, '../rtsvg')\n",
    "from rtsvg import *\n",
    "rt = RACETrack()"
   ]
  },
  {
   "cell_type": "code",
   "execution_count": null,
   "id": "7a285862",
   "metadata": {},
   "outputs": [],
   "source": [
    "import random\n",
    "xs,ys,ws = [],[],[]\n",
    "for x in range(0,5):\n",
    "    if   x == 0:\n",
    "        y,samples,mins,maxs = 3, 100,   0,  10\n",
    "    elif x == 1:\n",
    "        y,samples,mins,maxs = 1, 400,   0,  10\n",
    "    elif x == 2:\n",
    "        y,samples,mins,maxs = 4, 1000, 10, 100\n",
    "    elif x == 3:\n",
    "        y,samples,mins,maxs = 2, 400,   0,  10\n",
    "    elif x == 4:\n",
    "        y,samples,mins,maxs = 0, 100,   0,  10\n",
    "    else:\n",
    "        raise Exception('You shouldn\\'t be here...')\n",
    "    for i in range(samples):\n",
    "        xs.append(x)\n",
    "        ys.append(y)\n",
    "        ws.append(random.randint(mins,maxs))\n",
    "df = pd.DataFrame({'x':xs,'y':ys,'w':ws})\n",
    "\n",
    "my_vars = {'x_field':'x', 'y_field':'y', 'x_ins':10, 'y_ins':10, 'w':128, 'h':128, 'draw_labels':False}\n",
    "rt.displaySVG(rt.xy(df, count_by='w', dot_size='large',color_by='w', color_magnitude='stretch',                              **my_vars))"
   ]
  },
  {
   "cell_type": "code",
   "execution_count": null,
   "id": "130d57d3",
   "metadata": {},
   "outputs": [],
   "source": [
    "my_vars = {'x_field':'x', 'y_field':'y', 'x_ins':10, 'y_ins':10, 'w':128, 'h':128, 'draw_labels':False}\n",
    "rt.displaySVG(rt.tile([rt.xy(df, count_by='w', dot_size='large',                                                                      **my_vars),\n",
    "                       rt.xy(df, count_by='w', dot_size='vary',                                                                       **my_vars),\n",
    "                       rt.xy(df, count_by='w', dot_size='large',color_by='w',                                                         **my_vars),\n",
    "                       rt.xy(df, count_by='w', dot_size='large',color_by='w', color_magnitude='linear',                               **my_vars),\n",
    "                       rt.xy(df, count_by='w', dot_size='large',color_by='w', color_magnitude='log',                                  **my_vars),\n",
    "                       rt.xy(df, count_by='w', dot_size='large',color_by='w', color_magnitude='stretch',                              **my_vars),\n",
    "                       rt.xy(df, count_by='w', dot_size='large',color_by='w', render_x_distribution=10,  distribution_style='inside', **my_vars),\n",
    "                       rt.xy(df,               dot_size='large',color_by='w', render_x_distribution=10,  distribution_style='inside', **my_vars)]))"
   ]
  },
  {
   "cell_type": "code",
   "execution_count": null,
   "id": "05e34a4d",
   "metadata": {},
   "outputs": [],
   "source": [
    "my_vars  = {'x_field':'w', 'y_field':'w', 'count_by':'w', 'dot_size':'large','render_x_distribution':10,  'distribution_style':'inside', \n",
    "            'x_ins':10,'y_ins':10,'w':128,'h':128, 'draw_labels':False}\n",
    "my_vars2 = {'x_field':'w', 'y_field':'w',                 'dot_size':'large','render_x_distribution':10,  'distribution_style':'inside', \n",
    "            'x_ins':10,'y_ins':10,'w':128,'h':128, 'draw_labels':False}\n",
    "rt.displaySVG(rt.tile([rt.tile([rt.xy(df.query('x == 0'), **my_vars),  rt.xy(df.query('x == 1'), **my_vars),  rt.xy(df.query('x == 2'), **my_vars),  \n",
    "                                rt.xy(df.query('x == 3'), **my_vars),  rt.xy(df.query('x == 4'), **my_vars)]),\n",
    "                       rt.tile([rt.xy(df.query('x == 0'), **my_vars2), rt.xy(df.query('x == 1'), **my_vars2), rt.xy(df.query('x == 2'), **my_vars2), \n",
    "                                rt.xy(df.query('x == 3'), **my_vars2), rt.xy(df.query('x == 4'), **my_vars2)])], horz=False))"
   ]
  },
  {
   "cell_type": "code",
   "execution_count": null,
   "id": "60372343",
   "metadata": {},
   "outputs": [],
   "source": [
    "import random\n",
    "import pandas as pd\n",
    "xs, ys, ws  = [], [], []\n",
    "for samples in range(30000):\n",
    "    xs.append(random.random())\n",
    "    ys.append(random.random())\n",
    "    ws.append(random.random())\n",
    "df    = pd.DataFrame({'x': xs, 'y': ys, 'w':ws})\n",
    "df_pl = pl.DataFrame(df)\n",
    "rt.xy(df, x_field='x', y_field='y', color_by='ws', dot_size='small', color_magnitude='stretch')"
   ]
  },
  {
   "cell_type": "code",
   "execution_count": null,
   "id": "41108e6e",
   "metadata": {},
   "outputs": [],
   "source": [
    "import time\n",
    "samples  = 3\n",
    "time_sum = 0.0\n",
    "for i in range(samples):\n",
    "    t0 = time.time()\n",
    "    rt.xy(df, x_field='x', y_field='y', w=256, h=256)._repr_svg_()\n",
    "    t1 = time.time()\n",
    "    time_sum += (t1 - t0)\n",
    "pd_time = time_sum / samples\n",
    "time_sum = 0.0\n",
    "for i in range(samples):\n",
    "    t0 = time.time()\n",
    "    rt.xy(df_pl, x_field='x', y_field='y', w=256, h=256)._repr_svg_()\n",
    "    t1 = time.time()\n",
    "    time_sum += (t1 - t0)\n",
    "pl_time = time_sum / samples\n",
    "print(f'pandas {pd_time} || polars {pl_time} || {pl_time/pd_time}')"
   ]
  },
  {
   "cell_type": "code",
   "execution_count": null,
   "id": "04fd2ca5",
   "metadata": {},
   "outputs": [],
   "source": []
  }
 ],
 "metadata": {
  "kernelspec": {
   "display_name": "Python 3",
   "language": "python",
   "name": "python3"
  },
  "language_info": {
   "codemirror_mode": {
    "name": "ipython",
    "version": 3
   },
   "file_extension": ".py",
   "mimetype": "text/x-python",
   "name": "python",
   "nbconvert_exporter": "python",
   "pygments_lexer": "ipython3",
   "version": "3.11.6"
  },
  "vscode": {
   "interpreter": {
    "hash": "677ca678853aa41fc137f4b55f2bc0c694e45735c0d2faa667d2ec5acb71e67d"
   }
  }
 },
 "nbformat": 4,
 "nbformat_minor": 5
}
