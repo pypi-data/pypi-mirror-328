{
 "cells": [
  {
   "cell_type": "code",
   "execution_count": null,
   "metadata": {},
   "outputs": [],
   "source": [
    "import pandas as pd\n",
    "import numpy as np\n",
    "\n",
    "import sys\n",
    "sys.path.insert(1, '../rtsvg/') # base location of the .py classes\n",
    "from rtsvg import *\n",
    "rt = RACETrack()"
   ]
  },
  {
   "cell_type": "code",
   "execution_count": null,
   "metadata": {},
   "outputs": [],
   "source": [
    "model,tokenizer,device = rt.textCreateRoBERTaModel()"
   ]
  },
  {
   "cell_type": "code",
   "execution_count": null,
   "metadata": {},
   "outputs": [],
   "source": [
    "_sentence = 'I flew my parrot to the airport and then took her for a ride around the park.'\n",
    "_results = rt.__textRoBERTaStats__(_sentence, model, tokenizer, device)\n",
    "svgs = []\n",
    "for x in _results:\n",
    "    token      = f'\"{x[\"token\"]}\"'\n",
    "    bg         = {'#ff0000':[(x['score'],0),(x['score']-0.5,3000),(x['score']+0.5,3000)]}\n",
    "    _df        = pd.DataFrame({'w':x['counts'], token:x['boundaries'][1:], 'gb':np.ones(len(x['counts']))})\n",
    "    svgs.append(rt.xy(_df, x_field=token, y_field='w', count_by='w', dot_size=None, line_groupby_field='gb', bg_shape_lu=bg, w=192, h=76, draw_labels=True))\n",
    "rt.displaySVG(rt.table(svgs))"
   ]
  },
  {
   "cell_type": "code",
   "execution_count": null,
   "metadata": {},
   "outputs": [],
   "source": [
    "for x in _results:\n",
    "    _str = f'\"{x[\"token\"]}\"'\n",
    "    _ith = x['ith']\n",
    "    if _ith is None:\n",
    "        _ith = 100\n",
    "    print(f'{_str:14}    {x[\"i0\"]:3}-{x[\"i1\"]:3}   {_ith:3}(nd|th)\\t\\t\"{_sentence[x[\"i0\"]:x[\"i1\"]]}\"  --vs--  {x[\"predicted\"]} (1st)')"
   ]
  },
  {
   "cell_type": "code",
   "execution_count": null,
   "metadata": {},
   "outputs": [],
   "source": []
  }
 ],
 "metadata": {
  "kernelspec": {
   "display_name": "Python 3",
   "language": "python",
   "name": "python3"
  },
  "language_info": {
   "codemirror_mode": {
    "name": "ipython",
    "version": 3
   },
   "file_extension": ".py",
   "mimetype": "text/x-python",
   "name": "python",
   "nbconvert_exporter": "python",
   "pygments_lexer": "ipython3",
   "version": "3.11.5"
  },
  "orig_nbformat": 4
 },
 "nbformat": 4,
 "nbformat_minor": 2
}
