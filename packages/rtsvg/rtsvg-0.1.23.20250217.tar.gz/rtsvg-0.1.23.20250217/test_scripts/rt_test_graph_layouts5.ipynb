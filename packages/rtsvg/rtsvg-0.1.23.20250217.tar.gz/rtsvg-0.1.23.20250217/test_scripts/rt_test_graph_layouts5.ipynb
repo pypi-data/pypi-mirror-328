{
 "cells": [
  {
   "cell_type": "code",
   "execution_count": null,
   "metadata": {},
   "outputs": [],
   "source": [
    "import pandas as pd\n",
    "import polars as pl\n",
    "import numpy as np\n",
    "import networkx as nx\n",
    "import random\n",
    "import sys\n",
    "sys.path.insert(1, '../rtsvg')\n",
    "from rtsvg import *\n",
    "rt = RACETrack()"
   ]
  },
  {
   "cell_type": "code",
   "execution_count": null,
   "metadata": {},
   "outputs": [],
   "source": [
    "df = pd.DataFrame({'fm':['a0','a1','a2','a3','b0','b1','c0','c1','c2','c3'],\n",
    "                   'to':['b0','b0','b1','b1','c0','c2','d0','d0','d1','d1']})\n",
    "df_pl = pl.from_pandas(df)\n",
    "_relates_ = [('fm','to')]\n",
    "g        = rt.createNetworkXGraph(df,    _relates_)\n",
    "g_di     = rt.createNetworkXGraph(df,    _relates_, use_digraph=True)\n",
    "pl_g     = rt.createNetworkXGraph(df_pl, _relates_)\n",
    "pl_g_di  = rt.createNetworkXGraph(df_pl, _relates_, use_digraph=True)"
   ]
  },
  {
   "cell_type": "code",
   "execution_count": null,
   "metadata": {},
   "outputs": [],
   "source": [
    "pos = nx.spring_layout(pl_g_di)\n",
    "rt.tile([rt.linkNode(df,    [('fm','to')], pos, bounds_percent=0.2, draw_labels=True),\n",
    "         rt.linkNode(df_pl, [('fm','to')], pos, bounds_percent=0.2, draw_labels=True)])"
   ]
  },
  {
   "cell_type": "code",
   "execution_count": null,
   "metadata": {},
   "outputs": [],
   "source": [
    "df = pd.DataFrame({'fm':['a','a','a','a','b','b','c','c','c','c'],\n",
    "                   'fi':[ 0,  1,  2,  3,  0,  1,  0,  1,  2,  3],\n",
    "                   'to':['b','b','b','b','c','c','d','d','d','d'],\n",
    "                   'ti':[ 0,  0,  1,  1,  0,  2,  0,  0,  1,  1]})\n",
    "df_pl = pl.from_pandas(df)\n",
    "_relates_ = [(('fm','fi'),('to','ti'))]\n",
    "g        = rt.createNetworkXGraph(df, _relates_)\n",
    "g_di     = rt.createNetworkXGraph(df, _relates_, use_digraph=True)\n",
    "pl_g     = rt.createNetworkXGraph(df_pl, _relates_)\n",
    "pl_g_di  = rt.createNetworkXGraph(df_pl, _relates_, use_digraph=True)"
   ]
  },
  {
   "cell_type": "code",
   "execution_count": null,
   "metadata": {},
   "outputs": [],
   "source": [
    "new_pos = {}\n",
    "for x in pos:\n",
    "    new_pos[x[0]+'|'+x[1]] = pos[x]\n",
    "rt.tile([rt.linkNode(df,    _relates_, new_pos, bounds_percent=0.2, draw_labels=True), \n",
    "         rt.linkNode(df_pl, _relates_, new_pos, bounds_percent=0.2, draw_labels=True)])"
   ]
  },
  {
   "cell_type": "code",
   "execution_count": null,
   "metadata": {},
   "outputs": [],
   "source": [
    "df1  = pd.DataFrame({'fm':['a','b','c'],\n",
    "                     'to':['b','c','a']})\n",
    "df2 = pd.DataFrame({'src':[1, 2, 3],\n",
    "                    'dst':[2, 3, 1]})\n",
    "df    = pd.concat([df1, df2])\n",
    "df_pl = pl.from_pandas(df)\n",
    "_relates_ = [('fm','to'),('src','dst')]\n",
    "g    = rt.createNetworkXGraph(df, _relates_)\n",
    "g_pl = rt.createNetworkXGraph(df_pl, _relates_)\n",
    "pos = nx.spring_layout(g_pl)\n",
    "rt.tile([rt.linkNode(df,    _relates_, pos, bounds_percent=0.2, draw_labels=True),\n",
    "         rt.linkNode(df_pl, _relates_, pos, bounds_percent=0.2, draw_labels=True)])"
   ]
  },
  {
   "cell_type": "code",
   "execution_count": null,
   "metadata": {},
   "outputs": [],
   "source": [
    "df = pd.DataFrame({'s':['dog',  'dog',       'cat',      'horse'],\n",
    "                   'v':['ran',  'barked at', 'slept in', 'ate'],\n",
    "                   'o':['home', 'mailman',   'window',   'grass']})\n",
    "df_pl = pl.from_pandas(df)\n",
    "_relates_ = [('s','o','v')]\n",
    "g         = rt.createNetworkXGraph(df,    _relates_)\n",
    "g_pl      = rt.createNetworkXGraph(df_pl, _relates_)\n",
    "\n",
    "print('pandas\\n----------')\n",
    "for node1, node2, data in g.edges(data=True):\n",
    "    print(node1, node2, data)\n",
    "print()\n",
    "print('polars\\n----------')\n",
    "for node1, node2, data in g_pl.edges(data=True):\n",
    "    print(node1, node2, data)\n"
   ]
  },
  {
   "cell_type": "code",
   "execution_count": null,
   "metadata": {},
   "outputs": [],
   "source": [
    "#\n",
    "# leftToRightLayout() - layout the nodes so that the arrows point from left to right...\n",
    "# - g needs to be a digraph ... ideally without cycles...\n",
    "#\n",
    "def leftToRightLayout(g):\n",
    "    if isinstance(g, nx.DiGraph) == False:\n",
    "        raise Exception('leftToRightLayout() - graph needs to be a digraph')\n",
    "    pass\n",
    "df = pd.DataFrame({'fm':['a0','a1','a2','a3','b0','b1','c0','c1','c2','c3'],\n",
    "                   'to':['b0','b0','b1','b1','c0','c2','d0','d0','d1','d1']})\n",
    "_relates_ = [('fm','to')]\n",
    "g         = rt.createNetworkXGraph(df, _relates_, use_digraph=False)\n",
    "g_di      = rt.createNetworkXGraph(df, _relates_, use_digraph=True)\n",
    "leftToRightLayout(g_di)"
   ]
  },
  {
   "cell_type": "code",
   "execution_count": null,
   "metadata": {},
   "outputs": [],
   "source": [
    "g_rev = nx.DiGraph()\n",
    "for _node_ in g_di:\n",
    "    if _node_ not in node_to_x:\n",
    "        out_d = g_di[_node_]\n",
    "        print(_node_, g_di[_node_])"
   ]
  },
  {
   "cell_type": "code",
   "execution_count": null,
   "metadata": {},
   "outputs": [],
   "source": []
  }
 ],
 "metadata": {
  "kernelspec": {
   "display_name": "Python 3",
   "language": "python",
   "name": "python3"
  },
  "language_info": {
   "codemirror_mode": {
    "name": "ipython",
    "version": 3
   },
   "file_extension": ".py",
   "mimetype": "text/x-python",
   "name": "python",
   "nbconvert_exporter": "python",
   "pygments_lexer": "ipython3",
   "version": "3.11.6"
  }
 },
 "nbformat": 4,
 "nbformat_minor": 2
}
