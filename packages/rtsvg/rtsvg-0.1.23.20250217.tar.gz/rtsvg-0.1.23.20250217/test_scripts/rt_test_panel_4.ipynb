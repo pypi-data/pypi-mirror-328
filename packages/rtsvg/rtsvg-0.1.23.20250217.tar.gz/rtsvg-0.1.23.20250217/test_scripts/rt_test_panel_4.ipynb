{
 "cells": [
  {
   "cell_type": "code",
   "execution_count": null,
   "id": "46f92306-63e1-4f28-a3c8-5ae517707974",
   "metadata": {},
   "outputs": [],
   "source": [
    "import pandas as pd\n",
    "import polars as pl\n",
    "from shapely.geometry import Polygon, Point\n",
    "import random\n",
    "import sys\n",
    "sys.path.insert(1, '../rtsvg')\n",
    "from rtsvg import *\n",
    "rt = RACETrack()\n",
    "\n",
    "samples = 10\n",
    "cats,cats2,counts,timestamps,binaries = [],[],[],[],[]\n",
    "for _sample in range(samples):\n",
    "    _month = random.randint(1,12)\n",
    "    timestamps.append(f'2010-{_month:02}-01')\n",
    "    cats.append(chr(ord('a')+random.randint(0,3)))\n",
    "    cats2.append(chr(ord('G')+random.randint(0,10)))\n",
    "    binaries.append(random.randint(0,1))\n",
    "    counts.append(random.randint(10,100))\n",
    "df_orig = pd.DataFrame({'timestamp':timestamps,'cat':cats,'cat2':cats2,'count':counts, 'binary':binaries})\n",
    "df_orig = rt.columnsAreTimestamps(df_orig, 'timestamp')\n",
    "df = pl.DataFrame(df_orig)\n"
   ]
  },
  {
   "cell_type": "code",
   "execution_count": null,
   "id": "253f05a9-67c9-4360-976a-999208093839",
   "metadata": {},
   "outputs": [],
   "source": [
    "_obj_ = rt.histogram(df, bin_by='cat', count_by='cat2', color_by='binary', track_state=True)\n",
    "_obj_.renderSVG()\n",
    "print(df.columns)\n",
    "pl.concat(_obj_.geom_to_df.values()).columns"
   ]
  },
  {
   "cell_type": "code",
   "execution_count": null,
   "id": "af45d1a4-8af8-4539-a8f2-e2dab535921e",
   "metadata": {},
   "outputs": [],
   "source": [
    "_obj_ = rt.temporalBarChart(df, track_state=True)\n",
    "_obj_.renderSVG()\n",
    "print(df.columns)\n",
    "pl.concat(_obj_.geom_to_df.values()).columns"
   ]
  },
  {
   "cell_type": "code",
   "execution_count": null,
   "id": "f57280af-66d4-4847-8dee-8a90555c1ea8",
   "metadata": {},
   "outputs": [],
   "source": [
    "_obj_ = rt.periodicBarChart(df, track_state=True)\n",
    "_obj_.renderSVG()\n",
    "print(df.columns)\n",
    "pl.concat(_obj_.geom_to_df.values()).columns"
   ]
  },
  {
   "cell_type": "code",
   "execution_count": null,
   "id": "be1c4964-964c-4780-8fd3-4b49728f1c5a",
   "metadata": {},
   "outputs": [],
   "source": [
    "_obj_ = rt.boxplot(df, bin_by='cat', count_by='count', track_state=True)\n",
    "_obj_.renderSVG()\n",
    "print(df.columns)\n",
    "pl.concat(_obj_.geom_to_df.values()).columns"
   ]
  },
  {
   "cell_type": "code",
   "execution_count": null,
   "id": "03fbb866-a1c9-455c-acbe-dafcca72fa94",
   "metadata": {},
   "outputs": [],
   "source": [
    "_obj_ = rt.xy(df, x_field='binary', y_field=['count','cat'], track_state=True)\n",
    "_obj_.renderSVG()\n",
    "print(df.columns)\n",
    "pl.concat(_obj_.geom_to_df.values()).columns"
   ]
  },
  {
   "cell_type": "code",
   "execution_count": null,
   "id": "ea0f7dff-1a63-4c48-b7b9-6d5d1f9efef5",
   "metadata": {},
   "outputs": [],
   "source": [
    "_obj_ = rt.linkNode(df, [('cat','cat2')], track_state=True)\n",
    "_obj_.renderSVG()\n",
    "print(df.columns)\n",
    "dfs = []\n",
    "for k in _obj_.geom_to_df:\n",
    "    something = _obj_.geom_to_df.get(k)\n",
    "    if type(something) == list:\n",
    "        dfs.extend(_obj_.geom_to_df.get(k))\n",
    "    else:\n",
    "        dfs.append(_obj_.geom_to_df.get(k))\n",
    "pl.concat(dfs).columns"
   ]
  },
  {
   "cell_type": "code",
   "execution_count": null,
   "id": "409b531a-718b-4b57-95b7-588f97dd42c9",
   "metadata": {},
   "outputs": [],
   "source": [
    "_obj_ = rt.pieChart(df, color_by='cat', track_state=True)\n",
    "_obj_.renderSVG()\n",
    "print(df.columns)\n",
    "pl.concat(_obj_.geom_to_df.values()).columns"
   ]
  },
  {
   "cell_type": "code",
   "execution_count": null,
   "id": "31563c68-fa31-4e91-ae5a-6a9a77c591cd",
   "metadata": {},
   "outputs": [],
   "source": [
    "_obj_ = rt.smallMultiples(df, category_by='cat', sm_type='temporalBarChart', track_state=True)\n",
    "_obj_.renderSVG()\n",
    "print(df.columns)\n",
    "_obj_.overlappingDataFrames(Polygon([(0,0),(0,1000),(1000,1000),(1000,0)])).columns"
   ]
  },
  {
   "cell_type": "code",
   "execution_count": null,
   "id": "77e1cf98-6ed7-4d72-85b0-27109b059731",
   "metadata": {},
   "outputs": [],
   "source": [
    "_obj_ = rt.smallMultiples(df, category_by='cat', sm_type='xy', sm_params={'x_field':'cat', 'y_field':'cat2'}, track_state=True)\n",
    "_obj_.renderSVG()\n",
    "print(df.columns)\n",
    "_obj_.overlappingDataFrames(Polygon([(0,0),(0,1000),(1000,1000),(1000,0)])).columns"
   ]
  },
  {
   "cell_type": "code",
   "execution_count": null,
   "metadata": {},
   "outputs": [],
   "source": []
  }
 ],
 "metadata": {
  "kernelspec": {
   "display_name": "Python 3",
   "language": "python",
   "name": "python3"
  },
  "language_info": {
   "codemirror_mode": {
    "name": "ipython",
    "version": 3
   },
   "file_extension": ".py",
   "mimetype": "text/x-python",
   "name": "python",
   "nbconvert_exporter": "python",
   "pygments_lexer": "ipython3",
   "version": "3.11.6"
  }
 },
 "nbformat": 4,
 "nbformat_minor": 5
}
