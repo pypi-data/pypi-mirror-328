{
 "cells": [
  {
   "cell_type": "code",
   "execution_count": null,
   "metadata": {},
   "outputs": [],
   "source": [
    "import pandas   as pd\n",
    "import polars   as pl\n",
    "import numpy    as np\n",
    "import networkx as nx\n",
    "import sys\n",
    "sys.path.insert(1, '../rtsvg')\n",
    "from rtsvg import *\n",
    "rt = RACETrack()\n",
    "df = pd.DataFrame({'subject':['dog',  'dog',  'dog',   'cat'], \n",
    "                   'verb':   ['ran',  'walk', 'fetch', 'bit the hand of the (because cats suck)'], \n",
    "                   'object': ['home', 'home', 'stick', 'owner']})\n",
    "pos = {'dog':(0,0), 'home':(1,0), 'stick':(1,1), 'cat':(0,1), 'owner':(0.5,1)}"
   ]
  },
  {
   "cell_type": "code",
   "execution_count": null,
   "metadata": {},
   "outputs": [],
   "source": [
    "params = {'df':df, 'relationships':[('subject','object')], 'pos':pos, 'color_by':'verb',\n",
    "          'link_color':'vary', 'link_labels':True, 'bounds_percent':0.2, 'draw_labels':True}\n",
    "rt.tile([rt.linkNode(**params),\n",
    "         rt.linkNode(**params, link_size=6),\n",
    "         rt.linkNode(**params, label_only={'fetch','walk'}),\n",
    "         rt.linkNode(**params, label_only={'fetch','dog','stick'})])"
   ]
  },
  {
   "cell_type": "code",
   "execution_count": null,
   "metadata": {},
   "outputs": [],
   "source": [
    "params = {'df':df, 'relationships':[('subject', 'object', 'verb')], 'pos':pos, 'color_by':'verb', \n",
    "          'link_labels':True, 'bounds_percent':0.2, 'draw_labels':True}\n",
    "rt.tile([rt.linkNode(**params),\n",
    "         rt.linkNode(**params, link_size=6),\n",
    "         rt.linkNode(**params, label_only={'fetch','walk'}),\n",
    "         rt.linkNode(**params, label_only={'fetch','dog','stick'})])"
   ]
  },
  {
   "cell_type": "code",
   "execution_count": null,
   "metadata": {},
   "outputs": [],
   "source": [
    "params = {'df':df, 'relationships':[('subject', 'object', 'verb')], 'pos':pos, 'color_by':'subject', \n",
    "          'link_labels':True, 'bounds_percent':0.2, 'draw_labels':True}\n",
    "rt.tile([rt.linkNode(**params),\n",
    "         rt.linkNode(**params, link_size=6),\n",
    "         rt.linkNode(**params, label_only={'fetch','walk'}),\n",
    "         rt.linkNode(**params, label_only={'fetch','dog','stick'})])"
   ]
  },
  {
   "cell_type": "code",
   "execution_count": null,
   "metadata": {},
   "outputs": [],
   "source": [
    "params = {'df':df, 'relationships':[('subject', 'object', 'verb')], 'pos':pos,\n",
    "          'link_labels':True, 'bounds_percent':0.2, 'draw_labels':True}\n",
    "rt.tile([rt.linkNode(**params),\n",
    "         rt.linkNode(**params, link_size=6),\n",
    "         rt.linkNode(**params, label_only={'fetch','walk'}),\n",
    "         rt.linkNode(**params, label_only={'fetch','dog','stick'})])"
   ]
  },
  {
   "cell_type": "code",
   "execution_count": null,
   "metadata": {},
   "outputs": [],
   "source": []
  }
 ],
 "metadata": {
  "kernelspec": {
   "display_name": ".venv",
   "language": "python",
   "name": "python3"
  },
  "language_info": {
   "codemirror_mode": {
    "name": "ipython",
    "version": 3
   },
   "file_extension": ".py",
   "mimetype": "text/x-python",
   "name": "python",
   "nbconvert_exporter": "python",
   "pygments_lexer": "ipython3",
   "version": "3.11.6"
  }
 },
 "nbformat": 4,
 "nbformat_minor": 2
}
