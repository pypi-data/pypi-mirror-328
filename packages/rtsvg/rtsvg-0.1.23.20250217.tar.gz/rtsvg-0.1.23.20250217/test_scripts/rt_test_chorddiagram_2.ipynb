{
 "cells": [
  {
   "cell_type": "code",
   "execution_count": null,
   "metadata": {},
   "outputs": [],
   "source": [
    "import pandas as pd\n",
    "import polars as pl\n",
    "import numpy as np\n",
    "import heapq\n",
    "import sys\n",
    "sys.path.insert(1, '../rtsvg')\n",
    "from rtsvg import *\n",
    "rt = RACETrack()"
   ]
  },
  {
   "cell_type": "code",
   "execution_count": null,
   "metadata": {},
   "outputs": [],
   "source": [
    "svgs, _node_gap_ = [], 40\n",
    "\n",
    "df = pl.DataFrame({'fm':['a'], 'to':['b']})\n",
    "svgs.append(rt.chordDiagram(df, [('fm','to')], node_gap=_node_gap_))\n",
    "df = pl.DataFrame({'fm':['a','a'], 'to':['b','c']})\n",
    "svgs.append(rt.chordDiagram(df, [('fm','to')], node_gap=_node_gap_))\n",
    "df = pl.DataFrame({'fm':['a','a','a'], 'to':['b','c','d']})\n",
    "svgs.append(rt.chordDiagram(df, [('fm','to')], node_gap=_node_gap_))\n",
    "\n",
    "df = pl.DataFrame({'fm':['a','c'], 'to':['b','d']})\n",
    "svgs.append(rt.chordDiagram(df, [('fm','to')], node_gap=_node_gap_))\n",
    "df = pl.DataFrame({'fm':['a','a','d','d'], 'to':['b','c','e','f']})\n",
    "svgs.append(rt.chordDiagram(df, [('fm','to')], node_gap=_node_gap_))\n",
    "df = pl.DataFrame({'fm':['a','a','a','x','x','x','x'], 'to':['b','c','d','r','s','t','u']})\n",
    "svgs.append(rt.chordDiagram(df, [('fm','to')], node_gap=_node_gap_))\n",
    "\n",
    "svgs.append(rt.chordDiagram(df, [('fm','to')], node_gap=_node_gap_, node_color='#ff0000', link_color='#ff0000'))\n",
    "svgs.append(rt.chordDiagram(df, [('fm','to')], node_gap=_node_gap_, link_arrow=None))\n",
    "svgs.append(rt.chordDiagram(df, [('fm','to')], node_gap=_node_gap_, link_arrow='sharp'))\n",
    "\n",
    "rt.table(svgs, per_row=3)"
   ]
  },
  {
   "cell_type": "code",
   "execution_count": null,
   "metadata": {},
   "outputs": [],
   "source": [
    "df = pl.DataFrame({'fm':['a',  'a',  'a',  'a',  'b',  'b',  'b',  'c',  'c',  'd',  'd',  'd', 'd'],\n",
    "                   'to':['b',  'c',  'd',  'b',  'a',  'b',  'c',  'a',  'b',  'c',  'a',  'b', 'd'],\n",
    "                   'ct':[10,   20,   5,    1,    20,   3,    5,    10,   15,   5,    10,   50,  20]})\n",
    "print(rt.dendrogramOrdering(df, 'fm', 'to', None, False))\n",
    "print(rt.dendrogramOrdering(df, 'fm', 'to', 'ct', False))\n",
    "print(rt.dendrogramOrdering(df, 'fm', 'to', 'ct', True))\n",
    "params = {'df':df, 'relationships':[('fm','to')]}\n",
    "rt.tile([rt.chordDiagram(**params),\n",
    "         rt.chordDiagram(**params, count_by='ct'),\n",
    "         rt.chordDiagram(**params, count_by='ct', count_by_set=True)])"
   ]
  },
  {
   "cell_type": "code",
   "execution_count": null,
   "metadata": {},
   "outputs": [],
   "source": [
    "svgs = []\n",
    "df2 = pl.DataFrame({'x':['a',  'b',   'c',  'd'],\n",
    "                    'y':['b',  'a',   'd',  'c'],\n",
    "                    'z':[200,  200,   5,    8]})\n",
    "params = {'df':df2, 'relationships':[('x','y')]}\n",
    "svgs.append(rt.chordDiagram(**params, count_by='z', node_h=10))\n",
    "\n",
    "df3 = pl.DataFrame({'sip':['1.2.3.4',  '1.2.3.4',   '5.6.7.8',  '1.1.1.1'],\n",
    "                    'dpt':[80,         80,          443,        443],\n",
    "                    'dip':['5.6.7.8',  '1.1.1.1',   '1.1.1.1',  '5.6.7.8'],\n",
    "                    'pkt':[200,  200,   5,    8]})\n",
    "params = {'df':df3, 'relationships':[('sip',['dip','dpt'])]}\n",
    "svgs.append(rt.chordDiagram(**params, count_by='pkt', node_h=10))\n",
    "\n",
    "df4 = pl.DataFrame({'x':['a',  'b',   'a',  'b', 'c'],\n",
    "                    'y':['a',  'a',   'b',  'b', 'c'],\n",
    "                    'z':[200,  200,   5,    8,   400]})\n",
    "params = {'df':df4, 'relationships':[('x','y')]}\n",
    "svgs.append(rt.chordDiagram(**params, count_by='z', node_h=10))\n",
    "rt.tile(svgs)"
   ]
  },
  {
   "cell_type": "code",
   "execution_count": null,
   "metadata": {},
   "outputs": [],
   "source": [
    "df5 = pl.DataFrame({'sip':['1.2.3.4',  '1.2.3.4',   '5.6.7.8',  '1.1.1.1'],\n",
    "                    'dpt':[80,         80,          443,        443],\n",
    "                    'dip':['5.6.7.8',  '1.1.1.1',   '1.1.1.1',  '5.6.7.8'],\n",
    "                    'pkt':[200,  200,   5,    8]})\n",
    "params = {'df':df5, 'relationships':[('sip',['dip','dpt'])], 'w':128, 'h':128, 'node_h':5, 'count_by':'pkt' }\n",
    "svgs = []\n",
    "svgs.append(rt.chordDiagram(**params, color_by=None))\n",
    "svgs.append(rt.chordDiagram(**params, color_by='sip', link_color='vary'))\n",
    "svgs.append(rt.chordDiagram(**params, color_by='dpt', link_color='vary'))\n",
    "svgs.append(rt.chordDiagram(**params, color_by='dip', link_color='vary'))\n",
    "svgs.append(rt.chordDiagram(**params, color_by='pkt', link_color='vary'))\n",
    "rt.tile(svgs)"
   ]
  },
  {
   "cell_type": "code",
   "execution_count": null,
   "metadata": {},
   "outputs": [],
   "source": [
    "svgs = []\n",
    "df = pl.DataFrame({'fm':['a','a','a',        'x','x','x','x',              'm', 'n',          'o'], \n",
    "                   'to':['b','c','d',        'r','s','t','u',              'n', 'm',          'p'],\n",
    "                   'co':['red','red','red',  'blue','blue','blue','blue',  'black','black',   'green']})\n",
    "\n",
    "params = {'df':df, 'relationships':[('fm','to')], 'w':192, 'h':192, 'node_h':5, 'link_opacity':0.1}\n",
    "svgs.append(rt.chordDiagram(**params, color_by=None, node_color='vary'))\n",
    "svgs.append(rt.chordDiagram(**params, color_by='fm', node_color='vary'))\n",
    "svgs.append(rt.chordDiagram(**params, color_by='to', node_color='vary'))\n",
    "svgs.append(rt.chordDiagram(**params, color_by='co', node_color='vary'))\n",
    "svgs.append(rt.chordDiagram(**params, color_by=None, node_color='vary', link_color='vary'))\n",
    "svgs.append(rt.chordDiagram(**params, color_by='fm', node_color='vary', link_color='vary'))\n",
    "svgs.append(rt.chordDiagram(**params, color_by='to', node_color='vary', link_color='vary'))\n",
    "svgs.append(rt.chordDiagram(**params, color_by='co', node_color='vary', link_color='vary'))\n",
    "rt.table(svgs, per_row=4)"
   ]
  },
  {
   "cell_type": "code",
   "execution_count": null,
   "metadata": {},
   "outputs": [],
   "source": [
    "df = pl.DataFrame({'fm': ['a','a','a','a','a',  'b','b','b',    'c','c','c','c'],\n",
    "                   'to': ['b','c','d','b','b',  'a','c','d',    'a','b','d','e'],\n",
    "                   'opt':[ 1,  1,  1,  2,  3,    1,  2,  3,      1,  2,  3,  4]})\n",
    "params = {'relationships':[('fm','to')]}\n",
    "_struct_ = rt.chordDiagram(df, **params)\n",
    "svgs = []\n",
    "svgs.append(_struct_)\n",
    "_op1_ = rt.chordDiagram(df.filter(pl.col('opt') == 1), **params)\n",
    "_op1_.applyViewConfiguration(_struct_)\n",
    "_op2_ = rt.chordDiagram(df.filter(pl.col('opt') == 2), **params)\n",
    "_op2_.applyViewConfiguration(_struct_)\n",
    "_op3_ = rt.chordDiagram(df.filter(pl.col('opt') == 3), **params)\n",
    "_op3_.applyViewConfiguration(_struct_)\n",
    "_op4_ = rt.chordDiagram(df.filter(pl.col('opt') == 4), **params)\n",
    "_op4_.applyViewConfiguration(_struct_)\n",
    "svgs.extend([_op1_, _op2_, _op3_,_op4_])\n",
    "rt.tile(svgs)"
   ]
  },
  {
   "cell_type": "code",
   "execution_count": null,
   "metadata": {},
   "outputs": [],
   "source": [
    "svgs = []\n",
    "svgs.append(_struct_)\n",
    "svgs.append(rt.chordDiagram(df.filter(pl.col('opt') == 1), **params, structure_template=_struct_))\n",
    "svgs.append(rt.chordDiagram(df.filter(pl.col('opt') == 2), **params, structure_template=_struct_))\n",
    "svgs.append(rt.chordDiagram(df.filter(pl.col('opt') == 3), **params, structure_template=_struct_))\n",
    "svgs.append(rt.chordDiagram(df.filter(pl.col('opt') == 4), **params, structure_template=_struct_))\n",
    "rt.tile(svgs)"
   ]
  },
  {
   "cell_type": "code",
   "execution_count": null,
   "metadata": {},
   "outputs": [],
   "source": [
    "rt.smallMultiples(df, category_by='opt', sm_type='chordDiagram', sm_params={'relationships':[('fm','to')]}, w=300, h=300)"
   ]
  },
  {
   "cell_type": "code",
   "execution_count": null,
   "metadata": {},
   "outputs": [],
   "source": [
    "rt.smallMultiples(df, category_by='opt', sm_type='chordDiagram', sm_params={'relationships':[('fm','to')]}, w=300, h=300, x_axis_independent=False)"
   ]
  },
  {
   "cell_type": "code",
   "execution_count": null,
   "metadata": {},
   "outputs": [],
   "source": [
    "params = {'df':df, 'relationships':[('fm','to')], 'node_h':5}\n",
    "svgs = []\n",
    "\n",
    "svgs.append(rt.chordDiagram(**params, w=200, h=200))\n",
    "svgs.append(rt.chordDiagram(**params, w=160, h=160))\n",
    "svgs.append(rt.chordDiagram(**params, w=140, h=140))\n",
    "svgs.append(rt.chordDiagram(**params, w=120, h=120))\n",
    "svgs.append(rt.chordDiagram(**params, w=100, h=100))\n",
    "svgs.append(rt.chordDiagram(**params, w= 80, h= 80))\n",
    "\n",
    "svgs.append(rt.chordDiagram(**params, w=200, h=200))\n",
    "svgs.append(rt.chordDiagram(**params, w=200, h=160))\n",
    "svgs.append(rt.chordDiagram(**params, w=200, h=140))\n",
    "svgs.append(rt.chordDiagram(**params, w=200, h=120))\n",
    "svgs.append(rt.chordDiagram(**params, w=200, h=100))\n",
    "svgs.append(rt.chordDiagram(**params, w=200, h= 80))\n",
    "\n",
    "svgs.append(rt.chordDiagram(**params, w=200, h=200))\n",
    "svgs.append(rt.chordDiagram(**params, w=160, h=200))\n",
    "svgs.append(rt.chordDiagram(**params, w=140, h=200))\n",
    "svgs.append(rt.chordDiagram(**params, w=120, h=200))\n",
    "svgs.append(rt.chordDiagram(**params, w=100, h=200))\n",
    "svgs.append(rt.chordDiagram(**params, w= 80, h=200))\n",
    "\n",
    "rt.table(svgs, per_row=6)"
   ]
  },
  {
   "cell_type": "code",
   "execution_count": null,
   "metadata": {},
   "outputs": [],
   "source": [
    "params = {'df':df, 'relationships':[('fm','to')], 'node_h':5, 'draw_labels':True, 'w':200, 'h':200}\n",
    "svgs = []\n",
    "svgs.append(rt.chordDiagram(**params))\n",
    "svgs.append(rt.chordDiagram(txt_h=16, **params))\n",
    "svgs.append(rt.chordDiagram(txt_h=16, label_only={'a','d'}, **params))\n",
    "rt.tile(svgs)"
   ]
  },
  {
   "cell_type": "code",
   "execution_count": null,
   "metadata": {},
   "outputs": [],
   "source": []
  }
 ],
 "metadata": {
  "kernelspec": {
   "display_name": ".venv",
   "language": "python",
   "name": "python3"
  },
  "language_info": {
   "codemirror_mode": {
    "name": "ipython",
    "version": 3
   },
   "file_extension": ".py",
   "mimetype": "text/x-python",
   "name": "python",
   "nbconvert_exporter": "python",
   "pygments_lexer": "ipython3",
   "version": "3.11.6"
  }
 },
 "nbformat": 4,
 "nbformat_minor": 2
}
