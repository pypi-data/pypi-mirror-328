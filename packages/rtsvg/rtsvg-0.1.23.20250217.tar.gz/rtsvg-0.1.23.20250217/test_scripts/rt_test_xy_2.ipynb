{
 "cells": [
  {
   "cell_type": "code",
   "execution_count": null,
   "id": "cc5ec30b-60e9-4ac2-ae42-ca1281cc777f",
   "metadata": {},
   "outputs": [],
   "source": [
    "import pandas as pd\n",
    "import numpy as np\n",
    "\n",
    "import sys\n",
    "sys.path.insert(1, '../rtsvg')\n",
    "\n",
    "from rtsvg import *\n",
    "from IPython.display import Javascript, HTML, display\n",
    "%matplotlib inline"
   ]
  },
  {
   "cell_type": "code",
   "execution_count": null,
   "id": "87ad7aa2-8a86-4f06-8370-b91819774bec",
   "metadata": {},
   "outputs": [],
   "source": [
    "rt = RACETrack()"
   ]
  },
  {
   "cell_type": "code",
   "execution_count": null,
   "id": "b4ca1fcc",
   "metadata": {},
   "outputs": [],
   "source": [
    "df = pd.DataFrame({'x':[10, 20, 30, 40, 50, 25], \n",
    "                   'y':[ 5, 35, 40, 10, 20, 25]})\n",
    "display(HTML(rt.xy(df,x_field='x',y_field='y', dot_size='large')))"
   ]
  },
  {
   "cell_type": "code",
   "execution_count": null,
   "id": "d1e48355",
   "metadata": {},
   "outputs": [],
   "source": [
    "rt.displaySVG(rt.xyInstance(df,x_field='x',y_field='y', dot_size='large', plot_background_override='#404040').renderSVG())"
   ]
  },
  {
   "cell_type": "code",
   "execution_count": null,
   "id": "cf72bfab",
   "metadata": {},
   "outputs": [],
   "source": [
    "_bg_lu = {\n",
    "    'square':[(25,25),(25,35),(35,35),(35,25)],\n",
    "    'triangle':[(15,10),(30,10),(22.5,20)]\n",
    "}\n",
    "\n",
    "display(HTML(rt.xy(df,\n",
    "                   x_field='x',\n",
    "                   y_field='y', \n",
    "                   dot_size='large',\n",
    "                   bg_shape_lu=_bg_lu,\n",
    "                   bg_shape_opacity=0.1,\n",
    "                   bg_shape_fill='#ff0000')))"
   ]
  },
  {
   "cell_type": "code",
   "execution_count": null,
   "id": "648518da",
   "metadata": {},
   "outputs": [],
   "source": [
    "\n",
    "rt.displaySVG(rt.xyInstance(df,\n",
    "                   x_field='x',\n",
    "                   y_field='y', \n",
    "                   dot_size='large',\n",
    "                   bg_shape_lu=_bg_lu,\n",
    "                   bg_shape_opacity=0.1,\n",
    "                   bg_shape_fill='#ff0000').renderSVG())"
   ]
  },
  {
   "cell_type": "code",
   "execution_count": null,
   "id": "d01224e1",
   "metadata": {},
   "outputs": [],
   "source": [
    "display(HTML(rt.xy(df,\n",
    "                   x_field='x',\n",
    "                   y_field='y', \n",
    "                   dot_size='large',\n",
    "                   bg_shape_lu=_bg_lu,\n",
    "                   bg_shape_opacity=0.5,\n",
    "                   bg_shape_fill='vary',\n",
    "                   bg_shape_stroke='#ff0000',\n",
    "                   bg_shape_stroke_w=2.0)))"
   ]
  },
  {
   "cell_type": "code",
   "execution_count": null,
   "id": "5da81f77",
   "metadata": {},
   "outputs": [],
   "source": [
    "rt.displaySVG(rt.xyInstance(df,\n",
    "                   x_field='x',\n",
    "                   y_field='y', \n",
    "                   dot_size='large',\n",
    "                   bg_shape_lu=_bg_lu,\n",
    "                   bg_shape_opacity=0.5,\n",
    "                   bg_shape_fill='vary',\n",
    "                   bg_shape_stroke='#ff0000',\n",
    "                   bg_shape_stroke_w=2.0).renderSVG())"
   ]
  },
  {
   "cell_type": "code",
   "execution_count": null,
   "id": "476a11b0",
   "metadata": {},
   "outputs": [],
   "source": [
    "display(HTML(rt.xy(df,\n",
    "                   x_field='x',\n",
    "                   y_field='y', \n",
    "                   dot_size='large',\n",
    "                   bg_shape_lu=_bg_lu,\n",
    "                   bg_shape_label_color='#101010',\n",
    "                   bg_shape_opacity=0.5,\n",
    "                   bg_shape_fill=None,\n",
    "                   bg_shape_stroke='#a0a0a0',\n",
    "                   bg_shape_stroke_w=2.0)))"
   ]
  },
  {
   "cell_type": "code",
   "execution_count": null,
   "id": "cd5f2522",
   "metadata": {},
   "outputs": [],
   "source": [
    "rt.displaySVG(rt.xyInstance(df,\n",
    "                   x_field='x',\n",
    "                   y_field='y', \n",
    "                   dot_size='large',\n",
    "                   bg_shape_lu=_bg_lu,\n",
    "                   bg_shape_label_color='#101010',\n",
    "                   bg_shape_opacity=0.5,\n",
    "                   bg_shape_fill=None,\n",
    "                   bg_shape_stroke='#a0a0a0',\n",
    "                   bg_shape_stroke_w=2.0).renderSVG())"
   ]
  },
  {
   "cell_type": "code",
   "execution_count": null,
   "id": "8289b817",
   "metadata": {},
   "outputs": [],
   "source": [
    "_bg2_lu = {\n",
    "    'pill':'M 20 20 L 40 20 C 50 20 50 30 40 30 L 20 30 C 10 30 10 20 20 20 Z'    \n",
    "}\n",
    "\n",
    "display(HTML(rt.xy(df,\n",
    "                   x_field='x',\n",
    "                   y_field='y', \n",
    "                   dot_size='large',\n",
    "                   bg_shape_lu=_bg2_lu,\n",
    "                   bg_shape_label_color='vary',\n",
    "                   bg_shape_opacity=0.5,\n",
    "                   bg_shape_fill=None,\n",
    "                   bg_shape_stroke='vary',\n",
    "                   bg_shape_stroke_w=2.0)))\n"
   ]
  },
  {
   "cell_type": "code",
   "execution_count": null,
   "id": "e9d95ec4",
   "metadata": {},
   "outputs": [],
   "source": [
    "rt.displaySVG(rt.xyInstance(df,\n",
    "                   x_field='x',\n",
    "                   y_field='y', \n",
    "                   dot_size='large',\n",
    "                   bg_shape_lu=_bg2_lu,\n",
    "                   bg_shape_label_color='vary',\n",
    "                   bg_shape_opacity=0.5,\n",
    "                   bg_shape_fill=None,\n",
    "                   bg_shape_stroke='vary',\n",
    "                   bg_shape_stroke_w=2.0).renderSVG())\n"
   ]
  },
  {
   "cell_type": "code",
   "execution_count": null,
   "id": "dc06a27f",
   "metadata": {},
   "outputs": [],
   "source": [
    "rt.displaySVG(rt.xyInstance(df,\n",
    "                   x_field='x',\n",
    "                   y_field='y', \n",
    "                   dot_size='large',\n",
    "                   bg_shape_lu=_bg2_lu,\n",
    "                   bg_shape_label_color='vary',\n",
    "                   bg_shape_opacity=0.5,\n",
    "                   bg_shape_fill=None,\n",
    "                   bg_shape_stroke='vary',\n",
    "                   bg_shape_stroke_w=2.0,\n",
    "                   background_opacity=0.0).renderSVG())\n"
   ]
  },
  {
   "cell_type": "code",
   "execution_count": null,
   "id": "bda11069",
   "metadata": {},
   "outputs": [],
   "source": [
    "rt.displaySVG(rt.xyInstance(df,\n",
    "                   x_field='x',\n",
    "                   y_field='y', \n",
    "                   dot_size='large',\n",
    "                   bg_shape_lu=_bg_lu,\n",
    "                   bg_shape_label_color  ={'square':'#ff0000', 'triangle':'#0000ff'},\n",
    "                   bg_shape_opacity      ={'square':0.2,       'triangle':0.5},\n",
    "                   bg_shape_fill         ={'square':'#ff0000', 'triangle':'#0000ff'},\n",
    "                   bg_shape_stroke       ={'square':'#ff0000', 'triangle':'#0000ff'},\n",
    "                   bg_shape_stroke_w     ={'square':4.0,       'triangle':1.5}).renderSVG())"
   ]
  },
  {
   "cell_type": "code",
   "execution_count": null,
   "id": "13c7dd5f",
   "metadata": {},
   "outputs": [],
   "source": [
    "rt.displaySVG(rt.xyInstance(df,\n",
    "                   x_field='x',\n",
    "                   y_field='y', \n",
    "                   dot_size='large',\n",
    "                   bg_shape_lu=_bg_lu,\n",
    "                   bg_shape_label_color  ={'square':'#ff0000'},\n",
    "                   bg_shape_opacity      ={'square':0.2},\n",
    "                   bg_shape_fill         ={'square':'#ff0000'},\n",
    "                   bg_shape_stroke       ={'square':'#ff0000'},\n",
    "                   bg_shape_stroke_w     ={'square':4.0}).renderSVG())"
   ]
  },
  {
   "cell_type": "code",
   "execution_count": null,
   "id": "6d81cd60",
   "metadata": {},
   "outputs": [],
   "source": [
    "rt.displaySVG(rt.xyInstance(df,\n",
    "                   x_field='x',\n",
    "                   y_field='y', \n",
    "                   dot_size='large',\n",
    "                   bg_shape_lu=_bg_lu,\n",
    "                   bg_shape_label_color  ={'square':'#ff0000'},\n",
    "                   bg_shape_opacity      =0.5,\n",
    "                   bg_shape_fill         ={'square':'#ff0000'},\n",
    "                   bg_shape_stroke       ={'square':'#ff0000'},\n",
    "                   bg_shape_stroke_w     ={'square':4.0}).renderSVG())"
   ]
  },
  {
   "cell_type": "code",
   "execution_count": null,
   "id": "7321497c",
   "metadata": {},
   "outputs": [],
   "source": [
    "rt.displaySVG(rt.xyInstance(df,\n",
    "                   x_field='x',\n",
    "                   y_field='y', \n",
    "                   dot_size='large',\n",
    "                   bg_shape_lu=_bg_lu,\n",
    "                   bg_shape_label_color  ='#ff0000',\n",
    "                   bg_shape_opacity      ={'square':0.2},\n",
    "                   bg_shape_fill         ={'square':'#ff0000'},\n",
    "                   bg_shape_stroke       ={'square':'#ff0000'},\n",
    "                   bg_shape_stroke_w     ={'square':4.0}).renderSVG())"
   ]
  },
  {
   "cell_type": "code",
   "execution_count": null,
   "id": "364d0680",
   "metadata": {},
   "outputs": [],
   "source": [
    "rt.displaySVG(rt.xyInstance(df,\n",
    "                   x_field='x',\n",
    "                   y_field='y', \n",
    "                   dot_size='large',\n",
    "                   bg_shape_lu=_bg_lu,\n",
    "                   bg_shape_label_color  ='#ff0000',\n",
    "                   bg_shape_opacity      ={'square':0.2},\n",
    "                   bg_shape_fill         ={'square':'#ff0000'},\n",
    "                   bg_shape_stroke       ='#ff0000',\n",
    "                   bg_shape_stroke_w     ={'square':4.0}).renderSVG())"
   ]
  },
  {
   "cell_type": "code",
   "execution_count": null,
   "id": "8af7c556",
   "metadata": {},
   "outputs": [],
   "source": [
    "rt.displaySVG(rt.xyInstance(df,\n",
    "                   x_field='x',\n",
    "                   y_field='y', \n",
    "                   dot_size='large',\n",
    "                   bg_shape_lu=_bg_lu,\n",
    "                   bg_shape_label_color  ={'square':'#ff0000'},\n",
    "                   bg_shape_opacity      ={'square':0.2},\n",
    "                   bg_shape_fill         ={'square':'#ff0000'},\n",
    "                   bg_shape_stroke       ={'square':'#ff0000'},\n",
    "                   bg_shape_stroke_w     =4.0).renderSVG())"
   ]
  },
  {
   "cell_type": "code",
   "execution_count": null,
   "id": "94349593",
   "metadata": {},
   "outputs": [],
   "source": []
  }
 ],
 "metadata": {
  "kernelspec": {
   "display_name": "Python 3",
   "language": "python",
   "name": "python3"
  },
  "language_info": {
   "codemirror_mode": {
    "name": "ipython",
    "version": 3
   },
   "file_extension": ".py",
   "mimetype": "text/x-python",
   "name": "python",
   "nbconvert_exporter": "python",
   "pygments_lexer": "ipython3",
   "version": "3.11.1"
  },
  "vscode": {
   "interpreter": {
    "hash": "677ca678853aa41fc137f4b55f2bc0c694e45735c0d2faa667d2ec5acb71e67d"
   }
  }
 },
 "nbformat": 4,
 "nbformat_minor": 5
}
