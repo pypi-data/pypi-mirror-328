{
 "cells": [
  {
   "cell_type": "code",
   "execution_count": null,
   "metadata": {},
   "outputs": [],
   "source": [
    "#\n",
    "# Calculates the font width formula using panel rendering...\n",
    "#\n",
    "import pandas as pd\n",
    "import numpy  as np\n",
    "from sklearn.linear_model import LinearRegression\n",
    "import random\n",
    "import sys\n",
    "sys.path.insert(1, '../rtsvg')\n",
    "from rtsvg import *\n",
    "rt = RACETrack()"
   ]
  },
  {
   "cell_type": "code",
   "execution_count": null,
   "metadata": {},
   "outputs": [],
   "source": [
    "rt_fmp = rt.RTFontMetricsPanel()\n",
    "rt_fmp"
   ]
  },
  {
   "cell_type": "code",
   "execution_count": null,
   "metadata": {},
   "outputs": [],
   "source": [
    "# After clicking, refresh this cell\n",
    "w12,w14,w16,w24,w36,w48 = rt_fmp.txt12_w,rt_fmp.txt14_w,rt_fmp.txt16_w,rt_fmp.txt24_w,rt_fmp.txt36_w,rt_fmp.txt48_w\n",
    "w12short,w36short = rt_fmp.txt12short_w, rt_fmp.txt36short_w\n",
    "w12,w12short,w14,w16,w24,w36,w36short,w48"
   ]
  },
  {
   "cell_type": "code",
   "execution_count": null,
   "metadata": {},
   "outputs": [],
   "source": [
    "df = pd.DataFrame({'font_sz':[12,  12,       14,  16,  24,  36,  36,       48],\n",
    "                   'char_w': [w12, w12short, w14, w16, w24, w36, w36short, w48]})\n",
    "rt.displaySVG(rt.xy(df, x_field=\"font_sz\", y_field=\"char_w\", dot_size='large', poly_fit_degree=1, dot2_size=None))"
   ]
  },
  {
   "cell_type": "code",
   "execution_count": null,
   "metadata": {},
   "outputs": [],
   "source": [
    "# From https://realpython.com/linear-regression-in-python/\n",
    "x = np.array(df['font_sz']).reshape((-1, 1))\n",
    "y = np.array(df['char_w'])\n",
    "model = LinearRegression()\n",
    "model.fit(x,y)\n",
    "r_sq = model.score(x, y)\n",
    "print(f\"coefficient of determination: {r_sq}\")\n",
    "print(f\"intercept: {model.intercept_}\")\n",
    "print(f\"slope: {model.coef_}\")"
   ]
  },
  {
   "cell_type": "code",
   "execution_count": null,
   "metadata": {},
   "outputs": [],
   "source": [
    "def characterWidth(font_size):\n",
    "    return 0.5496575 * font_size + 0.1928203837408624\n",
    "df['w_calc'] = df['font_sz'].apply(lambda x: characterWidth(x))\n",
    "df"
   ]
  },
  {
   "cell_type": "code",
   "execution_count": null,
   "metadata": {},
   "outputs": [],
   "source": [
    "rt.font_w_slope     = model.coef_ \n",
    "rt.font_w_intercept = model.intercept_\n",
    "# Validate...\n",
    "_txt = \"xxxxxxxxxxxxxxxxxxxxxxxxxxxxxxxxxxxxxxxxxxxxxxxxxxxxxxxxxxxxxxx\"\n",
    "rttb = rt.textBlock(_txt, txt_h=16, w=1536)\n",
    "rt.displaySVG(rttb.__debug_svgOfOverlayOriginalIndices__())"
   ]
  },
  {
   "cell_type": "code",
   "execution_count": null,
   "metadata": {},
   "outputs": [],
   "source": [
    "# Validate\n",
    "_txt = \"xxxxxxxxxxxxxxxxxxxxxxxxxxxxxxxxxxxxxxxxxxxxxxxxxxxxxxxxxxxxxxx\"\n",
    "rttb = rt.textBlock(_txt, txt_h=18, w=1536)\n",
    "rt.displaySVG(rttb.__debug_svgOfOverlayOriginalIndices__())"
   ]
  },
  {
   "cell_type": "code",
   "execution_count": null,
   "metadata": {},
   "outputs": [],
   "source": [
    "# Validate\n",
    "_txt = \"x \"*32\n",
    "rttb = rt.textBlock(_txt, txt_h=18, w=1536)\n",
    "rt.displaySVG(rttb.__debug_svgOfOverlayOriginalIndices__())"
   ]
  },
  {
   "cell_type": "code",
   "execution_count": null,
   "metadata": {},
   "outputs": [],
   "source": []
  }
 ],
 "metadata": {
  "kernelspec": {
   "display_name": "Python 3 (ipykernel)",
   "language": "python",
   "name": "python3"
  },
  "language_info": {
   "codemirror_mode": {
    "name": "ipython",
    "version": 3
   },
   "file_extension": ".py",
   "mimetype": "text/x-python",
   "name": "python",
   "nbconvert_exporter": "python",
   "pygments_lexer": "ipython3",
   "version": "3.11.2"
  },
  "vscode": {
   "interpreter": {
    "hash": "677ca678853aa41fc137f4b55f2bc0c694e45735c0d2faa667d2ec5acb71e67d"
   }
  }
 },
 "nbformat": 4,
 "nbformat_minor": 2
}
