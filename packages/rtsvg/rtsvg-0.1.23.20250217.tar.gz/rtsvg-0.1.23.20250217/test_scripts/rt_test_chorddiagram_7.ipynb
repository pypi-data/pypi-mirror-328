{
 "cells": [
  {
   "cell_type": "code",
   "execution_count": null,
   "metadata": {},
   "outputs": [],
   "source": [
    "import pandas as pd\n",
    "import polars as pl\n",
    "import numpy as np\n",
    "import networkx as nx\n",
    "from math import pi, sin, cos\n",
    "import sys\n",
    "sys.path.insert(1, '../rtsvg')\n",
    "from rtsvg import *\n",
    "rt = RACETrack()\n",
    "_base_ = '../../data/2013_vast_challenge/mc3_netflow/nf/'\n",
    "df_orig = pl.concat([pl.read_csv(_base_ + 'nf-chunk1.csv'),\n",
    "                     pl.read_csv(_base_ + 'nf-chunk2.csv'),\n",
    "                     pl.read_csv(_base_ + 'nf-chunk3.csv')])\n",
    "df_orig = df_orig.rename({'TimeSeconds':'secs',                  'parsedDate':'timestamp',                'dateTimeStr':'timestamp_str',\n",
    "                          'ipLayerProtocol':'pro_str',           'ipLayerProtocolCode':'pro',             'firstSeenSrcIp':'sip',\n",
    "                          'firstSeenDestIp':'dip',               'firstSeenSrcPort':'spt',                'firstSeenDestPort':'dpt',\n",
    "                          'moreFragments':'mfrag',               'contFragments':'cfrag',                 'durationSeconds':'dur',\n",
    "                          'firstSeenSrcPayloadBytes':'soct_pay', 'firstSeenDestPayloadBytes':'doct_pay',  'firstSeenSrcTotalBytes':'soct',\n",
    "                          'firstSeenDestTotalBytes':'doct',      'firstSeenSrcPacketCount':'spkt',        'firstSeenDestPacketCount':'dpkt',\n",
    "                          'recordForceOut':'out'})\n",
    "df_orig = rt.columnsAreTimestamps(df_orig, 'timestamp')\n",
    "_ips_ = ['172.10.0.4','172.20.0.4']\n",
    "df = df_orig.filter(pl.col('sip').is_in(_ips_))"
   ]
  },
  {
   "cell_type": "code",
   "execution_count": null,
   "metadata": {},
   "outputs": [],
   "source": [
    "params = {'df':df, 'relationships':[('sip','dip')], 'w':512, 'h':512, 'link_size_min':0.1, 'link_size_max':1.0}\n",
    "cd0 = rt.chordDiagram(equal_size_nodes=True,                        **params)\n",
    "cd1 = rt.chordDiagram(equal_size_nodes=True,  link_style='bundled', **params)\n",
    "cd2 = rt.chordDiagram(equal_size_nodes=False,                       **params)\n",
    "cd3 = rt.chordDiagram(equal_size_nodes=False, link_style='bundled', **params)\n",
    "rt.table([cd0,cd1,cd2,cd3], per_row=2)"
   ]
  },
  {
   "cell_type": "code",
   "execution_count": null,
   "metadata": {},
   "outputs": [],
   "source": [
    "rt.tile([cd3.skeleton_svg])"
   ]
  },
  {
   "cell_type": "code",
   "execution_count": null,
   "metadata": {},
   "outputs": [],
   "source": [
    "rt.tile([cd1.skeleton_svg])"
   ]
  },
  {
   "cell_type": "code",
   "execution_count": null,
   "metadata": {},
   "outputs": [],
   "source": []
  }
 ],
 "metadata": {
  "kernelspec": {
   "display_name": ".venv",
   "language": "python",
   "name": "python3"
  },
  "language_info": {
   "codemirror_mode": {
    "name": "ipython",
    "version": 3
   },
   "file_extension": ".py",
   "mimetype": "text/x-python",
   "name": "python",
   "nbconvert_exporter": "python",
   "pygments_lexer": "ipython3",
   "version": "3.11.6"
  }
 },
 "nbformat": 4,
 "nbformat_minor": 2
}
