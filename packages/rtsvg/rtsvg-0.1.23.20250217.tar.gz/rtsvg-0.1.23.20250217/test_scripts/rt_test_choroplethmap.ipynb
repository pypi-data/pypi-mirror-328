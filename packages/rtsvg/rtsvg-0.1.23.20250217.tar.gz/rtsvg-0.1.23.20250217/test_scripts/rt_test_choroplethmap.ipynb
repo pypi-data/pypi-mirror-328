{
 "cells": [
  {
   "cell_type": "code",
   "execution_count": null,
   "id": "cc5ec30b-60e9-4ac2-ae42-ca1281cc777f",
   "metadata": {},
   "outputs": [],
   "source": [
    "import pandas as pd\n",
    "import polars as pl\n",
    "import numpy as np\n",
    "from shapely.geometry import Polygon,LineString\n",
    "import sys\n",
    "sys.path.insert(1, '../rtsvg')\n",
    "from rtsvg import *\n",
    "rt = RACETrack()"
   ]
  },
  {
   "cell_type": "code",
   "execution_count": null,
   "id": "608ce8eb",
   "metadata": {},
   "outputs": [],
   "source": [
    "polys    = {}\n",
    "polys[0] = Polygon([(0,  0), ( 0,10), (10,10), (10, 0)])\n",
    "polys[1] = Polygon([(0, 10), ( 0,20), (10,20), (10,10)])\n",
    "polys[2] = Polygon([(10, 0), (10,10), (20,10), (20, 0)])\n",
    "polys[3] = Polygon([(10,10), (10,20), (20,20), (20,10)])\n",
    "polys[4] = Polygon([(22, 5),(20, 10), (24, 10)])\n",
    "df = pd.DataFrame({'loc':[0,     1,    2,    3,    0,    1,    2,    3], \n",
    "                   'num':[10,   20,   30,   10,    5,    6,    7,    9],\n",
    "                   'set':['a',  'a',  'a',  'a',  'a',  'b',  'b',  'b']})\n",
    "df_pl = pl.DataFrame(df)\n",
    "def addSVGs(_svgs_, params={}):\n",
    "    _svgs_.append(rt.choroplethMap(df,    'loc', polys, count_by='num', w=128, h=128, **params))\n",
    "    _svgs_.append(rt.choroplethMap(df_pl, 'loc', polys, count_by='num', w=128, h=128, **params))\n",
    "    _svgs_.append(rt.choroplethMap(df,    'loc', polys, count_by='num', count_by_set=True, w=128, h=128, **params))\n",
    "    _svgs_.append(rt.choroplethMap(df_pl, 'loc', polys, count_by='num', count_by_set=True, w=128, h=128, **params))\n",
    "    _svgs_.append(rt.choroplethMap(df,    'loc', polys, count_by='set', w=128, h=128, **params))\n",
    "    _svgs_.append(rt.choroplethMap(df_pl, 'loc', polys, count_by='set', w=128, h=128, **params))\n",
    "_svgs_ = []\n",
    "addSVGs(_svgs_)\n",
    "addSVGs(_svgs_,{'draw_outlines':False})\n",
    "addSVGs(_svgs_,{'outline_all_shapes':False})\n",
    "addSVGs(_svgs_,{'bounds_from_all_shapes':False})\n",
    "addSVGs(_svgs_,{'draw_labels':False})\n",
    "addSVGs(_svgs_,{'txt_h':18})\n",
    "addSVGs(_svgs_,{'label_only':set([0,1])})\n",
    "addSVGs(_svgs_,{'draw_border':False})\n",
    "\n",
    "rt.table(_svgs_, per_row=6)"
   ]
  },
  {
   "cell_type": "code",
   "execution_count": null,
   "id": "9d320d4b",
   "metadata": {},
   "outputs": [],
   "source": [
    "params = {'df':df, 'category_by':'set', 'sm_type':'choroplethMap', 'sm_params':{'shape_field':'loc', 'shape_lu':polys}, 'w':384, 'h':192}\n",
    "rt.tile([rt.smallMultiples(**params), rt.smallMultiples(**params, y_axis_independent=False), rt.smallMultiples(**params, y_axis_independent=False, count_by='num')],horz=False)"
   ]
  },
  {
   "cell_type": "code",
   "execution_count": null,
   "id": "ebb57a80",
   "metadata": {},
   "outputs": [],
   "source": [
    "params = {'df':df_pl, 'category_by':'set', 'sm_type':'choroplethMap', 'sm_params':{'shape_field':'loc', 'shape_lu':polys}, 'w':384, 'h':192}\n",
    "rt.tile([rt.smallMultiples(**params), rt.smallMultiples(**params, y_axis_independent=False), rt.smallMultiples(**params, y_axis_independent=False, count_by='num')],horz=False)"
   ]
  },
  {
   "cell_type": "code",
   "execution_count": null,
   "id": "a4bf42f9",
   "metadata": {},
   "outputs": [],
   "source": []
  }
 ],
 "metadata": {
  "kernelspec": {
   "display_name": "Python 3",
   "language": "python",
   "name": "python3"
  },
  "language_info": {
   "codemirror_mode": {
    "name": "ipython",
    "version": 3
   },
   "file_extension": ".py",
   "mimetype": "text/x-python",
   "name": "python",
   "nbconvert_exporter": "python",
   "pygments_lexer": "ipython3",
   "version": "3.11.7"
  },
  "vscode": {
   "interpreter": {
    "hash": "677ca678853aa41fc137f4b55f2bc0c694e45735c0d2faa667d2ec5acb71e67d"
   }
  }
 },
 "nbformat": 4,
 "nbformat_minor": 5
}
