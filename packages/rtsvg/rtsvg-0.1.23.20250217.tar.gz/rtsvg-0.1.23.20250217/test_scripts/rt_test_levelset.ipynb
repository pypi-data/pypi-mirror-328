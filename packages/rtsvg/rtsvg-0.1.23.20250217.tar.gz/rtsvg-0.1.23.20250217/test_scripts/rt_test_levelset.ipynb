{
 "cells": [
  {
   "cell_type": "code",
   "execution_count": null,
   "metadata": {},
   "outputs": [],
   "source": [
    "import pandas as pd\n",
    "import random\n",
    "import time\n",
    "from rtsvg import *\n",
    "rt = RACETrack()"
   ]
  },
  {
   "cell_type": "code",
   "execution_count": null,
   "metadata": {},
   "outputs": [],
   "source": [
    "_w,_h = 128,128\n",
    "_base = [[None for x in range(_w)] for y in range(_h)]\n",
    "for x in range(60,70):\n",
    "    for y in range(60,70):\n",
    "        _base[y][x] = -1\n",
    "\n",
    "for x in range(30,32):\n",
    "    for y in range(0,50):\n",
    "        _base[y][x] = -1\n",
    "    for y in range(55,128):\n",
    "        _base[y][x] = -1\n",
    "\n",
    "_base[10][10] = 1\n",
    "_base[90][90] = 2\n",
    "_base[2][120] = 3\n",
    "_base[90][5]  = 4\n",
    "\n",
    "_state, _found_time, _origin = rt.levelSet(_base)\n",
    "rt.displaySVG(rt.levelSetStateAndFoundTimeSVG(_state,_found_time))"
   ]
  },
  {
   "cell_type": "code",
   "execution_count": null,
   "metadata": {},
   "outputs": [],
   "source": [
    "_state, _found_time, _origin = rt.levelSetFast(_base)\n",
    "rt.displaySVG(rt.levelSetStateAndFoundTimeSVG(_state,_found_time))"
   ]
  },
  {
   "cell_type": "code",
   "execution_count": null,
   "metadata": {},
   "outputs": [],
   "source": [
    "_w,_h = 256,256\n",
    "_base = [[None for x in range(_w)] for y in range(_h)]\n",
    "for x in range(50,80):\n",
    "    for y in range(50,80):\n",
    "        _base[y][x] = -1\n",
    "for x in range(30,32):\n",
    "    for y in range(0,50):\n",
    "        _base[y][x] = -1\n",
    "    for y in range(55,128):\n",
    "        _base[y][x] = -1\n",
    "for x in range(120,170):\n",
    "    for y in range(100,110):\n",
    "        _base[y][x] = -1\n",
    "    for y in range(140,150):\n",
    "        _base[y][x] = -1\n",
    "for x in range(120,130):\n",
    "    for y in range(100,140):\n",
    "        _base[y][x] = -1\n",
    "\n",
    "_base[10][50] = 1\n",
    "#_base[90][90]   = 8\n",
    "#_base[2][120]   = 3\n",
    "#_base[90][5]    = 4\n",
    "_base[110][160] = 5\n",
    "#_base[160][150] = 6\n",
    "#_base[195][195] = 7\n",
    "\n",
    "ts0 = time.time()\n",
    "_state, _found_time, _origin = rt.levelSet(_base)\n",
    "ts1 = time.time()\n",
    "print(ts1-ts0)\n",
    "rt.displaySVG(rt.levelSetStateAndFoundTimeSVG(_state,_found_time))"
   ]
  },
  {
   "cell_type": "code",
   "execution_count": null,
   "metadata": {},
   "outputs": [],
   "source": [
    "ts0 = time.time()\n",
    "_state, _found_time, _origin = rt.levelSetFast(_base)\n",
    "ts1 = time.time()\n",
    "print(ts1-ts0)\n",
    "rt.displaySVG(rt.levelSetStateAndFoundTimeSVG(_state,_found_time))"
   ]
  },
  {
   "cell_type": "code",
   "execution_count": null,
   "metadata": {},
   "outputs": [],
   "source": [
    "_w,_h = 200,200\n",
    "_base = [[None for x in range(_w)] for y in range(_h)]\n",
    "\n",
    "for y in range(20,180,20):\n",
    "    x_hole = random.randint(10,190)\n",
    "    for x in range(0,x_hole-1):\n",
    "        _base[y][x] = -1\n",
    "    for x in range(x_hole+2,200):\n",
    "        _base[y][x] = -1\n",
    "\n",
    "_base[195][195] = 1\n",
    "_base[5][5]     = 2\n",
    "_base[195][5]   = 3\n",
    "_base[5][195]   = 5\n",
    "\n",
    "ts0 = time.time()\n",
    "_state, _found_time, _origin = rt.levelSet(_base)\n",
    "ts1 = time.time()\n",
    "print(ts1-ts0)\n",
    "rt.displaySVG(rt.levelSetStateAndFoundTimeSVG(_state,_found_time))"
   ]
  },
  {
   "cell_type": "code",
   "execution_count": null,
   "metadata": {},
   "outputs": [],
   "source": [
    "ts0 = time.time()\n",
    "_state, _found_time, _origin = rt.levelSetFast(_base)\n",
    "ts1 = time.time()\n",
    "print(ts1-ts0)\n",
    "rt.displaySVG(rt.levelSetStateAndFoundTimeSVG(_state,_found_time))"
   ]
  },
  {
   "cell_type": "code",
   "execution_count": null,
   "metadata": {},
   "outputs": [],
   "source": []
  }
 ],
 "metadata": {
  "kernelspec": {
   "display_name": "Python 3",
   "language": "python",
   "name": "python3"
  },
  "language_info": {
   "codemirror_mode": {
    "name": "ipython",
    "version": 3
   },
   "file_extension": ".py",
   "mimetype": "text/x-python",
   "name": "python",
   "nbconvert_exporter": "python",
   "pygments_lexer": "ipython3",
   "version": "3.12.3"
  },
  "orig_nbformat": 4
 },
 "nbformat": 4,
 "nbformat_minor": 2
}
