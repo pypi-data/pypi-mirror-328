{
 "cells": [
  {
   "cell_type": "code",
   "execution_count": null,
   "metadata": {},
   "outputs": [],
   "source": [
    "import pandas as pd\n",
    "import polars as pl\n",
    "import numpy as np\n",
    "import networkx as nx\n",
    "import random\n",
    "import copy\n",
    "import sys\n",
    "sys.path.insert(1, '../rtsvg')\n",
    "from rtsvg import RACETrack\n",
    "rt = RACETrack()"
   ]
  },
  {
   "cell_type": "code",
   "execution_count": null,
   "metadata": {},
   "outputs": [],
   "source": [
    "total_nodes, layout_nodes = 20, 20\n",
    "nodes, to_adjust = [], []\n",
    "for i in range(total_nodes): nodes.append('node_' + str(i))\n",
    "_lu_, pos = {'fm':[], 'to':[], 'ct':[]}, {}\n",
    "for i in range(len(nodes)):\n",
    "    _lu_['fm'].append(nodes[i]), _lu_['to'].append(random.choice(nodes)), _lu_['ct'].append(1)\n",
    "    _lu_['fm'].append(nodes[i]), _lu_['to'].append(random.choice(nodes)), _lu_['ct'].append(1)\n",
    "    _lu_['fm'].append(nodes[i]), _lu_['to'].append(random.choice(nodes)), _lu_['ct'].append(1)\n",
    "    _lu_['fm'].append(nodes[i]), _lu_['to'].append(random.choice(nodes)), _lu_['ct'].append(1)\n",
    "\n",
    "    j = random.randint(0,3)\n",
    "    if   j == 0: pos[nodes[i]] = (0, random.random()*100)\n",
    "    elif j == 1: pos[nodes[i]] = (random.random()*100, 0)\n",
    "    elif j == 2: pos[nodes[i]] = (100, random.random()*100)\n",
    "    else:        pos[nodes[i]] = (random.random()*100, 100)\n",
    "    if len(to_adjust) < layout_nodes: to_adjust.append(nodes[i])\n",
    "\n",
    "a_attach, b_attach, c_attach, d_attach, e_attach_1, e_attach_2 = nodes[0], nodes[1], nodes[2], nodes[3], nodes[4], nodes[5]\n",
    "pos['corner_a'] = (0,   50)\n",
    "pos['corner_b'] = (50,  100)\n",
    "pos['corner_c'] = (100, 50)\n",
    "pos['corner_d'] = (50,  0)\n",
    "pos['e']        = (0,   0)\n",
    "_lu_['fm'].append(a_attach),   _lu_['to'].append('corner_a'), _lu_['ct'].append(10)\n",
    "_lu_['fm'].append(b_attach),   _lu_['to'].append('corner_b'), _lu_['ct'].append(10)\n",
    "_lu_['fm'].append(c_attach),   _lu_['to'].append('corner_c'), _lu_['ct'].append(10)\n",
    "_lu_['fm'].append(d_attach),   _lu_['to'].append('corner_d'), _lu_['ct'].append(10)\n",
    "_lu_['fm'].append(e_attach_1), _lu_['to'].append('e'),        _lu_['ct'].append(10)\n",
    "_lu_['fm'].append(e_attach_2), _lu_['to'].append('e'),        _lu_['ct'].append(10)\n",
    "\n",
    "df  = pl.DataFrame(_lu_)\n",
    "g   = rt.createNetworkXGraph(df, [('fm','to')])\n",
    "_link_orig_ = rt.link(df, [('fm','to')], pos=pos, w=512, h=512)\n",
    "_adj_       = rt.circularOptimizedArrangement(g, to_adjust, pos, xy=(50.0,50.0), r=25.0)\n",
    "new_pos     = copy.deepcopy(pos)\n",
    "for _node_ in _adj_: new_pos[_node_] = _adj_[_node_]\n",
    "_link_adj_  = rt.link(df, [('fm','to')], count_by='ct', link_size='vary', pos=new_pos, w=512, h=512)\n",
    "rt.tile([_link_orig_, _link_adj_])"
   ]
  },
  {
   "cell_type": "code",
   "execution_count": null,
   "metadata": {},
   "outputs": [],
   "source": [
    "ln_params = {'relationships':[('fm','to')], 'pos':new_pos, 'draw_labels':False, 'count_by':'ct', 'link_size':'vary'}\n",
    "_rtg_ = rt.interactiveGraphLayout(df, ln_params, w=512, h=512)\n",
    "_rtg_"
   ]
  },
  {
   "cell_type": "code",
   "execution_count": null,
   "metadata": {},
   "outputs": [],
   "source": []
  }
 ],
 "metadata": {
  "kernelspec": {
   "display_name": ".venv",
   "language": "python",
   "name": "python3"
  },
  "language_info": {
   "codemirror_mode": {
    "name": "ipython",
    "version": 3
   },
   "file_extension": ".py",
   "mimetype": "text/x-python",
   "name": "python",
   "nbconvert_exporter": "python",
   "pygments_lexer": "ipython3",
   "version": "3.11.6"
  }
 },
 "nbformat": 4,
 "nbformat_minor": 2
}
