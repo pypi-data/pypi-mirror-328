{
 "cells": [
  {
   "cell_type": "code",
   "execution_count": null,
   "metadata": {},
   "outputs": [],
   "source": [
    "import pandas as pd\n",
    "import polars as pl\n",
    "import numpy as np\n",
    "from rtsvg import *\n",
    "rt = RACETrack()"
   ]
  },
  {
   "cell_type": "code",
   "execution_count": null,
   "metadata": {},
   "outputs": [],
   "source": [
    "lu = {'fm':'a b c d e f g h i j'.split(), \n",
    "      'to':'b c a e f d h i j g'.split()}\n",
    "df      = pl.DataFrame(lu)\n",
    "relates = [('fm','to')]\n",
    "pos = {\"a\":(0.58, 0.40), \"e\":(0.07, 0.31), \"i\":(0.25, 0.19), \"d\":(0.25, 0.40), \"b\":(0.43, 0.40),\n",
    "       \"c\":(0.58, 0.31), \"g\":(0.07, 0.07), \"f\":(0.07, 0.40), \"j\":(0.07, 0.19), \"h\":(0.25, 0.07) }\n",
    "convex_hull_lu = {'abc':['a','b','c'], 'def':['d','e','f','x','y','z'], 'nothere':['m','n','o'], 'h_only':['h'], 'empty':[], 'as_set':set(['g','i','j'])}\n",
    "rt.tile([rt.linkNode(df, relates, pos, bounds_percent=0.2, node_size='small', convex_hull_lu=convex_hull_lu),\n",
    "         rt.linkNode(df, relates, pos, bounds_percent=0.2, node_size='small', convex_hull_lu=convex_hull_lu, convex_hull_labels=True)])"
   ]
  },
  {
   "cell_type": "code",
   "execution_count": null,
   "metadata": {},
   "outputs": [],
   "source": [
    "rt.tile([rt.link(df, relates, pos, bounds_percent=0.2, node_size='small', convex_hull_lu=convex_hull_lu),\n",
    "         rt.link(df, relates, pos, bounds_percent=0.2, node_size='small', convex_hull_lu=convex_hull_lu, convex_hull_labels=True)])"
   ]
  },
  {
   "cell_type": "code",
   "execution_count": null,
   "metadata": {},
   "outputs": [],
   "source": []
  }
 ],
 "metadata": {
  "kernelspec": {
   "display_name": ".venv",
   "language": "python",
   "name": "python3"
  },
  "language_info": {
   "codemirror_mode": {
    "name": "ipython",
    "version": 3
   },
   "file_extension": ".py",
   "mimetype": "text/x-python",
   "name": "python",
   "nbconvert_exporter": "python",
   "pygments_lexer": "ipython3",
   "version": "3.12.3"
  }
 },
 "nbformat": 4,
 "nbformat_minor": 2
}
