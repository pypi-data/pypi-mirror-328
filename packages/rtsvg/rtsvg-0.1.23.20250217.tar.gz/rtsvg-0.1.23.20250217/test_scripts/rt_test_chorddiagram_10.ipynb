{
 "cells": [
  {
   "cell_type": "code",
   "execution_count": null,
   "metadata": {},
   "outputs": [],
   "source": [
    "import pandas as pd\n",
    "import polars as pl\n",
    "import numpy as np\n",
    "import networkx as nx\n",
    "from math import pi, sin, cos\n",
    "import sys\n",
    "sys.path.insert(1, '../rtsvg')\n",
    "from rtsvg import *\n",
    "rt = RACETrack()\n",
    "_base_ = '../../data/2013_vast_challenge/mc3_netflow/nf/'\n",
    "df_orig = pl.concat([pl.read_csv(_base_ + 'nf-chunk1.csv'),\n",
    "                     pl.read_csv(_base_ + 'nf-chunk2.csv'),\n",
    "                     pl.read_csv(_base_ + 'nf-chunk3.csv')])\n",
    "df_orig = df_orig.rename({'TimeSeconds':'secs',                  'parsedDate':'timestamp',                'dateTimeStr':'timestamp_str',\n",
    "                          'ipLayerProtocol':'pro_str',           'ipLayerProtocolCode':'pro',             'firstSeenSrcIp':'sip',\n",
    "                          'firstSeenDestIp':'dip',               'firstSeenSrcPort':'spt',                'firstSeenDestPort':'dpt',\n",
    "                          'moreFragments':'mfrag',               'contFragments':'cfrag',                 'durationSeconds':'dur',\n",
    "                          'firstSeenSrcPayloadBytes':'soct_pay', 'firstSeenDestPayloadBytes':'doct_pay',  'firstSeenSrcTotalBytes':'soct',\n",
    "                          'firstSeenDestTotalBytes':'doct',      'firstSeenSrcPacketCount':'spkt',        'firstSeenDestPacketCount':'dpkt',\n",
    "                          'recordForceOut':'out'})\n",
    "df_orig = rt.columnsAreTimestamps(df_orig, 'timestamp')\n",
    "_ips_ = ['172.10.0.4','172.20.0.4']\n",
    "df = df_orig.filter(pl.col('sip').is_in(_ips_) | pl.col('dip').is_in(_ips_))"
   ]
  },
  {
   "cell_type": "code",
   "execution_count": null,
   "metadata": {},
   "outputs": [],
   "source": [
    "params = {'df':df, 'relationships':[('sip','dip')], 'w':512, 'h':512, \n",
    "          'link_style':'bundled', 'skeleton_algorithm':'hdbscan', 'link_color':'shade_fm_to',\n",
    "          'link_size_min':0.4, 'link_size_max':2.0}\n",
    "cd = rt.chordDiagram(**params)\n",
    "rt.tile([cd._repr_svg_(), cd.skeleton_svg])"
   ]
  },
  {
   "cell_type": "code",
   "execution_count": null,
   "metadata": {},
   "outputs": [],
   "source": [
    "params['skeleton_rings'] = 2\n",
    "cd = rt.chordDiagram(**params)\n",
    "rt.tile([cd._repr_svg_(), cd.skeleton_svg])"
   ]
  },
  {
   "cell_type": "code",
   "execution_count": null,
   "metadata": {},
   "outputs": [],
   "source": [
    "params['skeleton_rings'] = 3\n",
    "cd = rt.chordDiagram(**params)\n",
    "rt.tile([cd._repr_svg_(), cd.skeleton_svg])"
   ]
  },
  {
   "cell_type": "code",
   "execution_count": null,
   "metadata": {},
   "outputs": [],
   "source": [
    "params['skeleton_rings'] = 4\n",
    "cd = rt.chordDiagram(**params)\n",
    "rt.tile([cd._repr_svg_(), cd.skeleton_svg])"
   ]
  },
  {
   "cell_type": "code",
   "execution_count": null,
   "metadata": {},
   "outputs": [],
   "source": [
    "params['skeleton_rings'] = 5\n",
    "cd = rt.chordDiagram(**params)\n",
    "rt.tile([cd._repr_svg_(), cd.skeleton_svg])"
   ]
  },
  {
   "cell_type": "code",
   "execution_count": null,
   "metadata": {},
   "outputs": [],
   "source": [
    "params['skeleton_rings'] = 6\n",
    "cd = rt.chordDiagram(**params)\n",
    "rt.tile([cd._repr_svg_(), cd.skeleton_svg])"
   ]
  },
  {
   "cell_type": "code",
   "execution_count": null,
   "metadata": {},
   "outputs": [],
   "source": [
    "params['skeleton_rings'] = 7\n",
    "cd = rt.chordDiagram(**params)\n",
    "rt.tile([cd._repr_svg_(), cd.skeleton_svg])"
   ]
  },
  {
   "cell_type": "code",
   "execution_count": null,
   "metadata": {},
   "outputs": [],
   "source": [
    "params['skeleton_rings'] = 8\n",
    "cd = rt.chordDiagram(**params)\n",
    "rt.tile([cd._repr_svg_(), cd.skeleton_svg])"
   ]
  },
  {
   "cell_type": "code",
   "execution_count": null,
   "metadata": {},
   "outputs": [],
   "source": [
    "params['skeleton_rings'] = 9\n",
    "cd = rt.chordDiagram(**params)\n",
    "rt.tile([cd._repr_svg_(), cd.skeleton_svg])"
   ]
  },
  {
   "cell_type": "code",
   "execution_count": null,
   "metadata": {},
   "outputs": [],
   "source": []
  }
 ],
 "metadata": {
  "kernelspec": {
   "display_name": ".venv",
   "language": "python",
   "name": "python3"
  },
  "language_info": {
   "codemirror_mode": {
    "name": "ipython",
    "version": 3
   },
   "file_extension": ".py",
   "mimetype": "text/x-python",
   "name": "python",
   "nbconvert_exporter": "python",
   "pygments_lexer": "ipython3",
   "version": "3.11.6"
  }
 },
 "nbformat": 4,
 "nbformat_minor": 2
}
