{
 "cells": [
  {
   "cell_type": "code",
   "execution_count": null,
   "metadata": {},
   "outputs": [],
   "source": [
    "import pandas as pd\n",
    "import numpy as np\n",
    "\n",
    "from math import log10\n",
    "\n",
    "import sys\n",
    "sys.path.insert(1, '../rtsvg')\n",
    "from rtsvg import *\n",
    "\n",
    "%matplotlib inline"
   ]
  },
  {
   "cell_type": "code",
   "execution_count": null,
   "metadata": {},
   "outputs": [],
   "source": [
    "rt = RACETrack()"
   ]
  },
  {
   "cell_type": "code",
   "execution_count": null,
   "metadata": {},
   "outputs": [],
   "source": [
    "df        = pd.read_csv(\"../../../../data/netflow/netflow_sample.csv\")\n",
    "df['beg'] = df['beg'].astype(np.datetime64)\n",
    "df        = df.rename({'beg':'timestamp'},axis=1)\n",
    "temp_gran = rt.temporalGranularity(df, 'timestamp')\n",
    "df.shape"
   ]
  },
  {
   "cell_type": "code",
   "execution_count": null,
   "metadata": {},
   "outputs": [],
   "source": [
    "rt.displaySVG(rt.temporalBarChartInstance(df,count_by='dip',color_by='sip').renderSVG())"
   ]
  },
  {
   "cell_type": "code",
   "execution_count": null,
   "metadata": {},
   "outputs": [],
   "source": [
    "rt.displaySVG(rt.temporalBarChart(df,count_by='dip',color_by='sip'))"
   ]
  },
  {
   "cell_type": "code",
   "execution_count": null,
   "metadata": {},
   "outputs": [],
   "source": [
    "df['SPKT_log'] = df['SPKT'].apply(lambda x: log10(x+1))\n",
    "rt.displaySVG(rt.temporalBarChartInstance(df, color_by='dpt', count_by='SPKT_log', style='boxplot_w_swarm', w=768, h=384).renderSVG())"
   ]
  },
  {
   "cell_type": "code",
   "execution_count": null,
   "metadata": {},
   "outputs": [],
   "source": [
    "rt.displaySVG(rt.temporalBarChart(df, color_by='dpt', count_by='SPKT_log', style='boxplot_w_swarm', w=768, h=384))"
   ]
  },
  {
   "cell_type": "code",
   "execution_count": null,
   "metadata": {},
   "outputs": [],
   "source": [
    "rt.displaySVG(rt.temporalBarChartInstance(df,count_by='dip',color_by='sip',sm_type='pieChart',w=1024,h=256).renderSVG())"
   ]
  },
  {
   "cell_type": "code",
   "execution_count": null,
   "metadata": {},
   "outputs": [],
   "source": [
    "rt.displaySVG(rt.temporalBarChart(df,count_by='dip',color_by='sip',sm_type='pieChart',w=1024,h=256))"
   ]
  },
  {
   "cell_type": "code",
   "execution_count": null,
   "metadata": {},
   "outputs": [],
   "source": [
    "rt.displaySVG(rt.temporalBarChart(df,count_by='dip',color_by='sip',sm_type='pieChart', ts_min='2010-01-20', ts_max='2010-03-07', w=1600, h=256))"
   ]
  },
  {
   "cell_type": "code",
   "execution_count": null,
   "metadata": {},
   "outputs": [],
   "source": [
    "rt.displaySVG(rt.temporalBarChart(df, color_by='dpt', count_by='SPKT_log', style='boxplot_w_swarm', ts_min='2010-01-22', ts_max='2010-03-04', w=1600, h=384))"
   ]
  },
  {
   "cell_type": "code",
   "execution_count": null,
   "metadata": {},
   "outputs": [],
   "source": [
    "df_test = pd.DataFrame(\n",
    "    { 'timestamp': ['2020-01-01', '2020-01-02', '2020-01-03', '2020-01-15', '2020-01-16', '2020-01-17', '2020-02-02', '2020-02-03'],\n",
    "      'category':  ['red',        'red',        'red',        'green',      'green',      'green',      'blue',       'blue'],\n",
    "      'value':     [10,            20,           30,          5,            10,           15,           40,           45]\n",
    "    }\n",
    ")\n",
    "\n",
    "df_test['timestamp'] = df_test['timestamp'].astype(np.datetime64)\n",
    "\n",
    "rt.displaySVGAsImage(rt.smallMultiples(df_test, category_by='category', \n",
    "                                       sm_type='temporalBarChart', \n",
    "                                       count_by='value', color_by='category',\n",
    "                                       x_axis_independent=False, y_axis_independent=False,\n",
    "                                       w=512,h=384))"
   ]
  },
  {
   "cell_type": "code",
   "execution_count": null,
   "metadata": {},
   "outputs": [],
   "source": []
  }
 ],
 "metadata": {
  "kernelspec": {
   "display_name": "Python 3",
   "language": "python",
   "name": "python3"
  },
  "language_info": {
   "codemirror_mode": {
    "name": "ipython",
    "version": 3
   },
   "file_extension": ".py",
   "mimetype": "text/x-python",
   "name": "python",
   "nbconvert_exporter": "python",
   "pygments_lexer": "ipython3",
   "version": "3.11.1"
  },
  "orig_nbformat": 4,
  "vscode": {
   "interpreter": {
    "hash": "677ca678853aa41fc137f4b55f2bc0c694e45735c0d2faa667d2ec5acb71e67d"
   }
  }
 },
 "nbformat": 4,
 "nbformat_minor": 2
}
