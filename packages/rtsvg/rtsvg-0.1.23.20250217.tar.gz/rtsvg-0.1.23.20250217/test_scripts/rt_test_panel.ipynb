{
 "cells": [
  {
   "cell_type": "code",
   "execution_count": null,
   "id": "70628cb0",
   "metadata": {},
   "outputs": [],
   "source": [
    "import pandas as pd\n",
    "import polars as pl\n",
    "import random\n",
    "import sys\n",
    "sys.path.insert(1, '../rtsvg')\n",
    "from rtsvg import *\n",
    "rt = RACETrack()"
   ]
  },
  {
   "cell_type": "code",
   "execution_count": null,
   "id": "557f12da",
   "metadata": {},
   "outputs": [],
   "source": [
    "samples = 10000\n",
    "cats,cats2,counts,timestamps,binaries = [],[],[],[],[]\n",
    "for _sample in range(samples):\n",
    "    _month = random.randint(1,12)\n",
    "    timestamps.append(f'2010-{_month:02}-01')\n",
    "    cats.append(chr(ord('a')+random.randint(0,3)))\n",
    "    cats2.append(chr(ord('G')+random.randint(0,10)))\n",
    "    binaries.append(random.randint(0,1))\n",
    "    counts.append(random.randint(10,100))\n",
    "df = pd.DataFrame({'timestamp':timestamps,'cat':cats,'cat2':cats2,'count':counts, 'binary':binaries})\n",
    "df['timestamp'] = df['timestamp'].astype('datetime64[s]')\n",
    "spec = {(0,0,4,4):('histogram',{'bin_by':'cat2'}),\n",
    "        (4,0,2,4):('histogram',{'bin_by':'cat'}),\n",
    "        (0,4,6,2):('histogram',{'bin_by':rt.createTField('timestamp','month')}),\n",
    "       }\n",
    "# rt.displaySVG(rt.layout(spec,df,w=256,h=256,color_by='cat',track_state=True))"
   ]
  },
  {
   "cell_type": "code",
   "execution_count": null,
   "id": "090abc10",
   "metadata": {},
   "outputs": [],
   "source": [
    "ipanel = rt.interactivePanel(df, spec, 256, 256, {'color_by':'cat'})\n",
    "ipanel"
   ]
  },
  {
   "cell_type": "code",
   "execution_count": null,
   "id": "7183ba34",
   "metadata": {},
   "outputs": [],
   "source": [
    "spec = {(0,0,4,4):('xy',{'x_field':'timestamp','y_field':'cat','dot_size':'vary'}),\n",
    "        (4,0,2,2):('histogram',{'bin_by':'cat'}),\n",
    "        (4,2,2,2):'pieChart',\n",
    "        (0,4,6,2):('temporalBarChart',{}),\n",
    "        (0,6,6,2):('periodicBarChart',{}),\n",
    "       }\n",
    "ipanel2 = rt.interactivePanel(df, spec,384,384,{'color_by':'cat2', 'count_by':'count','ts_field':'timestamp'})\n",
    "ipanel2"
   ]
  },
  {
   "cell_type": "code",
   "execution_count": null,
   "id": "3c367f5b",
   "metadata": {},
   "outputs": [],
   "source": [
    "spec = {(0,0,4,4):('xy',{'x_field':'binary','y_field':'cat',\n",
    "                         'sm_type':'temporalBarChart','sm_w':64,'sm_h':48,\n",
    "                         'x_ins':32,'y_ins':32,'sm_params':{'draw_labels':False}}),\n",
    "        (4,0,2,4):('histogram',{'bin_by':'cat'}),\n",
    "        (6,0,2,4):('histogram',{'bin_by':'cat2'})}\n",
    "ipanel3 = rt.interactivePanel(df, spec,384,256,{'count_by':'count'})\n",
    "ipanel3"
   ]
  },
  {
   "cell_type": "code",
   "execution_count": null,
   "id": "aa3618a6",
   "metadata": {},
   "outputs": [],
   "source": [
    "relates = [('cat','cat2')]\n",
    "spec = {(0,0,4,4):('linkNode',{'relationships':relates}),\n",
    "        (4,0,2,4):('histogram',{'bin_by':'cat'}),\n",
    "        (6,0,2,4):('histogram',{'bin_by':'cat2'})}\n",
    "ipanel4 = rt.interactivePanel(df, spec,512,256,{'count_by':'count'})\n",
    "ipanel4"
   ]
  },
  {
   "cell_type": "code",
   "execution_count": null,
   "id": "8f0b75bb",
   "metadata": {},
   "outputs": [],
   "source": [
    "relates = [('cat','cat2')]\n",
    "spec = {(0,0,4,4):('linkNode',{'relationships':relates,\n",
    "                               'sm_type':'temporalBarChart','sm_w':64,'sm_h':48,\n",
    "                               'x_ins':32,'y_ins':32,'sm_params':{'draw_labels':False}}),\n",
    "        (4,0,2,4):('histogram',{'bin_by':'cat'}),\n",
    "        (6,0,2,4):('histogram',{'bin_by':'cat2'}),\n",
    "        (0,4,8,2):'temporalBarChart'}\n",
    "ipanel5 = rt.interactivePanel(df, spec,512,384,{'count_by':'count','color_by':'cat'})\n",
    "ipanel5"
   ]
  },
  {
   "cell_type": "code",
   "execution_count": null,
   "id": "1795a84f",
   "metadata": {},
   "outputs": [],
   "source": [
    "spec = {'c':('xy',{'x_field':'timestamp','y_field':'cat2','x_ins':16,'y_ins':16,'sm_type':'pieChart'}),\n",
    "        's':('temporalBarChart',{})}\n",
    "ipanel6 = rt.interactivePanel(df, spec,256,384,{'count_by':'count','color_by':'cat'})\n",
    "ipanel6"
   ]
  },
  {
   "cell_type": "code",
   "execution_count": null,
   "id": "0cc118c3",
   "metadata": {},
   "outputs": [],
   "source": [
    "spec = {(0,0,4,4):('smallMultiples',{'category_by':'cat2','sm_type':'pieChart'})}\n",
    "# rt.displaySVG(rt.layout(spec,df,w=256,h=256,color_by='cat'))\n",
    "ipanel7 = rt.interactivePanel(df, spec,256,256,{'color_by':'cat'})\n",
    "ipanel7"
   ]
  },
  {
   "cell_type": "code",
   "execution_count": null,
   "id": "a65821df-8f0e-4870-bf1b-5410071c2fec",
   "metadata": {},
   "outputs": [],
   "source": []
  }
 ],
 "metadata": {
  "kernelspec": {
   "display_name": "Python 3",
   "language": "python",
   "name": "python3"
  },
  "language_info": {
   "codemirror_mode": {
    "name": "ipython",
    "version": 3
   },
   "file_extension": ".py",
   "mimetype": "text/x-python",
   "name": "python",
   "nbconvert_exporter": "python",
   "pygments_lexer": "ipython3",
   "version": "3.11.6"
  }
 },
 "nbformat": 4,
 "nbformat_minor": 5
}
