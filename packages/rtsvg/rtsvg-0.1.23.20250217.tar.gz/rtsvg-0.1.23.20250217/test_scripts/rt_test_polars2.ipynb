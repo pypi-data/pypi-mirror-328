{
 "cells": [
  {
   "cell_type": "code",
   "execution_count": null,
   "metadata": {},
   "outputs": [],
   "source": [
    "import pandas as pd\n",
    "import polars as pl\n",
    "import numpy  as np\n",
    "from pandas.api.types import is_datetime64_any_dtype as is_datetime\n",
    "from datetime import timedelta\n",
    "from dateutil.relativedelta import relativedelta\n",
    "import random\n",
    "import time\n",
    "import sys\n",
    "sys.path.insert(1, '../rtsvg')\n",
    "from rtsvg import *\n",
    "rt = RACETrack()"
   ]
  },
  {
   "cell_type": "code",
   "execution_count": null,
   "metadata": {},
   "outputs": [],
   "source": [
    "def PROTOTYPE__xyCreateAxisColumn_polars__(self, \n",
    "                                           df, \n",
    "                                           field, \n",
    "                                           is_scalar, \n",
    "                                           new_axis_field,\n",
    "                                           order          = None,   # Order of the values on the axis\n",
    "                                           fill_transform = True,   # Fill in missing transform values\n",
    "                                           timestamp_min  = None,   # Minimum timestamp field\n",
    "                                           timestamp_max  = None,   # Maximum timestamp field\n",
    "                                           _min           = None,   # Minimum for scalar axis\n",
    "                                           _max           = None):  # Maximum for scalar axis\n",
    "    if type(field) != list:\n",
    "        field = [field]\n",
    "    is_time = False    \n",
    "    field_countable = self.fieldIsArithmetic(df, field[0])\n",
    "    f0 = field[0]\n",
    "    transFunc = None\n",
    "    # Numeric scaling // DONE!\n",
    "    if field_countable and is_scalar and len(field) == 1:\n",
    "        my_min = df[f0].min() if _min is None else _min\n",
    "        my_max = df[f0].max() if _max is None else _max\n",
    "        if my_min == my_max:\n",
    "            my_min -= 0.5\n",
    "            my_max += 0.5\n",
    "        df = df.with_columns(((pl.col(f0)-my_min)/(my_max-my_min)).alias(new_axis_field))\n",
    "        label_min = str(my_min)\n",
    "        label_max = str(my_max)\n",
    "        transFunc = lambda x: ((x - my_min)/(my_max - my_min))\n",
    "    # Timestamp scaling // DONE!\n",
    "    elif len(field) == 1 and df[field[0]].dtype == pl.Datetime:\n",
    "        # Use dataframe for min... or the parameter version if set\n",
    "        my_min = df[f0].min() if timestamp_min is None else timestamp_min\n",
    "        my_max = df[f0].max() if timestamp_max is None else timestamp_max\n",
    "        if my_min == my_max:\n",
    "            my_max += timedelta(seconds=1)\n",
    "        df = df.with_columns(((pl.col(f0)-my_min)/(my_max-my_min)).alias(new_axis_field))\n",
    "        label_min = timestamp_min\n",
    "        label_max = timestamp_max\n",
    "        is_time = True\n",
    "        transFunc = lambda x: ((x - my_min)/(my_max - my_min))    \n",
    "    # Equal scaling\n",
    "    else:\n",
    "        # This fills in the natural ordering of the data if the fill_transform is enabled (it's true by default)\n",
    "        # ... unclear what should be done if this is multifield and one or more transforms exists\n",
    "        if fill_transform and order is None and len(field) == 1 and self.isTField(f0):\n",
    "            order = self.transformNaturalOrder(df, f0)\n",
    "            order_filled_by_transform = True\n",
    "        else:\n",
    "            if fill_transform and order is None and len(field) > 1:\n",
    "                for _field in field:\n",
    "                    if self.isTField(_field):\n",
    "                        raise Exception('xy - fill_transform is specified but there are multiple fields with at least one transform... create your own order...')\n",
    "            order_filled_by_transform = False\n",
    "\n",
    "        # Determine all the possibilities in the dataframe\n",
    "        if len(field) == 1:\n",
    "            all_combos = sorted(list(set(df[field[0]])))\n",
    "        else:\n",
    "            df         = df.sort(field)\n",
    "            group_by   = df.group_by(field, maintain_order=True)\n",
    "            all_combos    = []\n",
    "            for k, k_df in group_by:\n",
    "                all_combos.append(k)\n",
    "\n",
    "        # Determine the order & create the dictionary\n",
    "        if order is None:\n",
    "            order = all_combos\n",
    "            # Create the dictionary\n",
    "            _order_len_ = (len(order)-1) if len(order) > 1 else 1\n",
    "            _dict_, i = {}, 0\n",
    "            for x in order:\n",
    "                _dict_[x] = i/_order_len_\n",
    "                i += 1\n",
    "        else:\n",
    "            gb_set, order_set = set(all_combos), set(order)\n",
    "            order_is_complete = (len(gb_set) == len(order_set)) and (len(gb_set & order_set) == len(order_set))\n",
    "            if order_is_complete:\n",
    "                # Create the dictionary\n",
    "                _order_len_ = (len(order)-1) if len(order) > 1 else 1\n",
    "                _dict_, i = {}, 0\n",
    "                for x in order:\n",
    "                    _dict_[x] = i/_order_len_\n",
    "                    i += 1\n",
    "            else:\n",
    "                order.append('ee') # last order is the 'everything else' category...\n",
    "                # Create the dictionary\n",
    "                _order_len_ = (len(order)-1) if len(order) > 1 else 1\n",
    "                _dict_, i = {}, 0\n",
    "                for x in order:\n",
    "                    _dict_[x] = i/_order_len_\n",
    "                    i += 1\n",
    "                for x in (gb_set - order_set):\n",
    "                    _dict_[x] = 1.0\n",
    "\n",
    "        # Create the new column from the dictionary\n",
    "        if len(field) == 1:\n",
    "            df = df.with_columns(pl.col(field[0]).map_dict(_dict_).alias(new_axis_field))\n",
    "        else:\n",
    "            def myMapRows(k):\n",
    "                return _dict_[k]\n",
    "            axis_series = df.drop(set(df.columns) - set(field)).select(field).map_rows(myMapRows)['map']\n",
    "            df = df.with_columns(pl.Series(new_axis_field, axis_series))\n",
    "\n",
    "        # Compute the min and max labels\n",
    "        def concatAsStrs(x):\n",
    "            if type(x) == list:\n",
    "                s = str(x[0])\n",
    "                for i in range(1,len(x)):\n",
    "                    s += '|' + str(x[i])\n",
    "            else:\n",
    "                return str(x)\n",
    "        label_min, label_max = concatAsStrs(order[0]), concatAsStrs(order[-1])\n",
    "\n",
    "    return df, is_time, label_min, label_max, transFunc, order"
   ]
  },
  {
   "cell_type": "code",
   "execution_count": null,
   "metadata": {},
   "outputs": [],
   "source": [
    "df = pd.DataFrame({'x':[0, 10, 9, 20, 2]})\n",
    "df_pl = pl.DataFrame(df)\n",
    "df, is_time, label_min, label_max, tF, order = rt.xyCreateAxisColumn(df, 'x', True,  'xaxis')\n",
    "df, is_time, label_min, label_max, tF, order = rt.xyCreateAxisColumn(df, 'x', True,  'xaxis2',  _min=5, _max=10)\n",
    "df, is_time, label_min, label_max, tF, order = rt.xyCreateAxisColumn(df, 'x', False, 'xaxis3')\n",
    "df"
   ]
  },
  {
   "cell_type": "code",
   "execution_count": null,
   "metadata": {},
   "outputs": [],
   "source": [
    "df_pl, is_time, label_min, label_max, tF, order = rt.xyCreateAxisColumn(df_pl, 'x', True,  'xaxis')\n",
    "df_pl, is_time, label_min, label_max, tF, order = rt.xyCreateAxisColumn(df_pl, 'x', True,  'xaxis2',  _min=5, _max=10)\n",
    "df_pl, is_time, label_min, label_max, tF, order = rt.xyCreateAxisColumn(df_pl, 'x', False, 'xaxis3')\n",
    "df_pl"
   ]
  },
  {
   "cell_type": "code",
   "execution_count": null,
   "metadata": {},
   "outputs": [],
   "source": [
    "df = pd.DataFrame({'ts':['2003-01-01', '2001-10-02', '2010-04-30', '2003-11-30', '2008-03-15']})\n",
    "df = rt.columnsAreTimestamps(df, 'ts')\n",
    "df_pl = pl.DataFrame(df)\n",
    "df, is_time, label_min, label_max, tF, order = rt.xyCreateAxisColumn(df, 'ts', False,  'tsaxis')\n",
    "df"
   ]
  },
  {
   "cell_type": "code",
   "execution_count": null,
   "metadata": {},
   "outputs": [],
   "source": [
    "df_pl, is_time, label_min, label_max, tF, order = rt.xyCreateAxisColumn(df_pl, 'ts', True,  'tsaxis')\n",
    "df_pl"
   ]
  },
  {
   "cell_type": "code",
   "execution_count": null,
   "metadata": {},
   "outputs": [],
   "source": [
    "df    = pd.DataFrame({'field':['a', 'b', 'c', 'a', 'a', 'z', 'b', 'e'],\n",
    "                      'suba': ['i', 'i', 'j', 'j', 'j', 'i', 'i', 'j'],\n",
    "                      'sub':  [1,   1,   1,   2,   1,   10,  0,   10]})\n",
    "df_pl = pl.DataFrame(df)\n",
    "df, is_time, label_min, label_max, tF, order = rt.xyCreateAxisColumn(df, 'field',         False,  'axis')\n",
    "df, is_time, label_min, label_max, tF, order = rt.xyCreateAxisColumn(df, ['field','sub'], False,  'axis2')\n",
    "df, is_time, label_min, label_max, tF, order = rt.xyCreateAxisColumn(df, ['sub','field'], False,  'axis3')\n",
    "df.sort_values(['field','suba','sub', 'axis', 'axis2', 'axis3'])"
   ]
  },
  {
   "cell_type": "code",
   "execution_count": null,
   "metadata": {},
   "outputs": [],
   "source": [
    "df_pl, is_time, label_min, label_max, tF, order = rt.xyCreateAxisColumn(df_pl, 'field',         False,  'axis')\n",
    "df_pl, is_time, label_min, label_max, tF, order = rt.xyCreateAxisColumn(df_pl, ['field','sub'], False,  'axis2')\n",
    "df_pl, is_time, label_min, label_max, tF, order = rt.xyCreateAxisColumn(df_pl, ['sub','field'], False,  'axis3')\n",
    "df_pl.sort(['field', 'suba', 'sub', 'axis', 'axis2', 'axis3'])"
   ]
  },
  {
   "cell_type": "code",
   "execution_count": null,
   "metadata": {},
   "outputs": [],
   "source": [
    "df_pl = pl.DataFrame({'x':[1,2,3], 'y':[3,4,5], 'c':['red', 'blue', 'green'], 's':[10, 5, 15]})\n",
    "rt.xy(df_pl, x_field='x', y_field='y', color_by='c', count_by='s', dot_size='vary')"
   ]
  },
  {
   "cell_type": "code",
   "execution_count": null,
   "metadata": {},
   "outputs": [],
   "source": [
    "df_pl.filter(pl.col('s') >= 10)"
   ]
  },
  {
   "cell_type": "code",
   "execution_count": null,
   "metadata": {},
   "outputs": [],
   "source": [
    "df_pl"
   ]
  },
  {
   "cell_type": "code",
   "execution_count": null,
   "metadata": {},
   "outputs": [],
   "source": []
  }
 ],
 "metadata": {
  "kernelspec": {
   "display_name": "Python 3",
   "language": "python",
   "name": "python3"
  },
  "language_info": {
   "codemirror_mode": {
    "name": "ipython",
    "version": 3
   },
   "file_extension": ".py",
   "mimetype": "text/x-python",
   "name": "python",
   "nbconvert_exporter": "python",
   "pygments_lexer": "ipython3",
   "version": "3.11.6"
  }
 },
 "nbformat": 4,
 "nbformat_minor": 2
}
