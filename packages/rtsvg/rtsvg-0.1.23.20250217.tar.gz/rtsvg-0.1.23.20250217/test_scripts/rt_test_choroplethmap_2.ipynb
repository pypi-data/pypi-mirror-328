{
 "cells": [
  {
   "cell_type": "code",
   "execution_count": null,
   "id": "cc5ec30b-60e9-4ac2-ae42-ca1281cc777f",
   "metadata": {},
   "outputs": [],
   "source": [
    "import pandas as pd\n",
    "import polars as pl\n",
    "import numpy as np\n",
    "from shapely.geometry import Polygon,LineString\n",
    "import sys\n",
    "sys.path.insert(1, '../rtsvg')\n",
    "from rtsvg import *\n",
    "rt = RACETrack()\n",
    "\n",
    "polys    = {}\n",
    "polys[0] = Polygon([(0,  0), ( 0,10), (10,10), (10, 0)])\n",
    "polys[1] = Polygon([(0, 10), ( 0,20), (10,20), (10,10)])\n",
    "polys[2] = Polygon([(10, 0), (10,10), (20,10), (20, 0)])\n",
    "polys[3] = Polygon([(10,10), (10,20), (20,20), (20,10)])\n",
    "polys[4] = Polygon([(22, 5),(20, 10), (24, 10)])\n",
    "df = pd.DataFrame({'loc':[0,     1,    2,    3,    0,    1,    2,    3], \n",
    "                   'num':[10,   20,   30,   10,    5,    6,    7,    9],\n",
    "                   'set':['a',  'a',  'a',  'a',  'a',  'b',  'b',  'b']})\n"
   ]
  },
  {
   "cell_type": "code",
   "execution_count": null,
   "id": "608ce8eb",
   "metadata": {},
   "outputs": [],
   "source": [
    "spec = {(0,0,1,1):('choroplethMap', {'shape_field':'loc', 'shape_lu':polys})}\n",
    "#rt.layout(spec,df,count_by='num',w=256,h=256)\n",
    "_ = rt.interactivePanel(df,spec,w=256,h=256,rt_params={'count_by':'num'})\n",
    "_"
   ]
  },
  {
   "cell_type": "code",
   "execution_count": null,
   "id": "a4bf42f9",
   "metadata": {},
   "outputs": [],
   "source": [
    "df_pl = pl.DataFrame(df)\n",
    "_ = rt.interactivePanel(df_pl,spec,w=256,h=256,rt_params={'count_by':'num'})\n",
    "_"
   ]
  },
  {
   "cell_type": "code",
   "execution_count": null,
   "id": "9020699f",
   "metadata": {},
   "outputs": [],
   "source": []
  }
 ],
 "metadata": {
  "kernelspec": {
   "display_name": "Python 3",
   "language": "python",
   "name": "python3"
  },
  "language_info": {
   "codemirror_mode": {
    "name": "ipython",
    "version": 3
   },
   "file_extension": ".py",
   "mimetype": "text/x-python",
   "name": "python",
   "nbconvert_exporter": "python",
   "pygments_lexer": "ipython3",
   "version": "3.11.7"
  },
  "vscode": {
   "interpreter": {
    "hash": "677ca678853aa41fc137f4b55f2bc0c694e45735c0d2faa667d2ec5acb71e67d"
   }
  }
 },
 "nbformat": 4,
 "nbformat_minor": 5
}
