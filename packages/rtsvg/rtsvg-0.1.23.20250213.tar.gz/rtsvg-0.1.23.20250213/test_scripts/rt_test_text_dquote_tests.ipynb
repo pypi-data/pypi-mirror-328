{
 "cells": [
  {
   "cell_type": "code",
   "execution_count": null,
   "metadata": {},
   "outputs": [],
   "source": [
    "import rtsvg\n",
    "rt    = rtsvg.RACETrack()\n",
    "_txt_ = '''abcdef\n",
    "!@#$%^&*()_+-={}[]\\\\|;:'\",.<>/?\n",
    "\"\tU+0022 // standard double quotes\n",
    "“\tU+201C\n",
    "”\tU+201D\n",
    "„\tU+201E\n",
    "‟\tU+201F\n",
    "ABC\\r\\n\\t\n",
    "'''\n",
    "_tb_ = rt.textBlock(_txt_, txt_h=16)\n",
    "#with open('test.svg', 'w') as f:\n",
    "#    f.write(_tb_._repr_svg_())\n",
    "_tb_"
   ]
  },
  {
   "cell_type": "code",
   "execution_count": null,
   "metadata": {},
   "outputs": [],
   "source": [
    "_tb_._repr_svg_()"
   ]
  },
  {
   "cell_type": "code",
   "execution_count": null,
   "metadata": {},
   "outputs": [],
   "source": [
    "_tb_ = rt.textBlock('This is a test.\\nThis is only a test.\\nTest', txt_h=16)\n",
    "_tb_"
   ]
  },
  {
   "cell_type": "code",
   "execution_count": null,
   "metadata": {},
   "outputs": [],
   "source": [
    "_tb_._repr_svg_()"
   ]
  },
  {
   "cell_type": "code",
   "execution_count": null,
   "metadata": {},
   "outputs": [],
   "source": []
  }
 ],
 "metadata": {
  "kernelspec": {
   "display_name": ".venv",
   "language": "python",
   "name": "python3"
  },
  "language_info": {
   "codemirror_mode": {
    "name": "ipython",
    "version": 3
   },
   "file_extension": ".py",
   "mimetype": "text/x-python",
   "name": "python",
   "nbconvert_exporter": "python",
   "pygments_lexer": "ipython3",
   "version": "3.12.3"
  }
 },
 "nbformat": 4,
 "nbformat_minor": 2
}
