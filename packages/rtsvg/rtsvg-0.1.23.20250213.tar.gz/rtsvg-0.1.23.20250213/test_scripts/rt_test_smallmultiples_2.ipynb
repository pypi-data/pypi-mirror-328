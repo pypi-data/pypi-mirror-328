{
 "cells": [
  {
   "cell_type": "code",
   "execution_count": null,
   "id": "5becd1c4-1970-499c-adcc-3deb8a2fb655",
   "metadata": {},
   "outputs": [],
   "source": [
    "import pandas as pd\n",
    "import networkx as nx\n",
    "import sys\n",
    "sys.path.insert(1, '../rtsvg')\n",
    "from rtsvg import *\n",
    "rt = RACETrack()"
   ]
  },
  {
   "cell_type": "code",
   "execution_count": null,
   "id": "bb8f1f61",
   "metadata": {},
   "outputs": [],
   "source": [
    "df = pd.read_csv('../../netflow_sample.csv')\n",
    "df['timestamp'] = df['beg'].astype('datetime64[ns]')\n",
    "df = df.drop(['beg','end'],axis=1)\n",
    "df = df.sample(500)\n",
    "\n",
    "print(df.shape)\n",
    "\n",
    "exemplar_dip = df.groupby('dip').size().reset_index().sort_values(by=0, ascending=False)['dip'][0]\n",
    "print(f'exemplar_dip = {exemplar_dip}')\n",
    "\n",
    "df.sample(3)"
   ]
  },
  {
   "cell_type": "code",
   "execution_count": null,
   "id": "e0b91abf",
   "metadata": {},
   "outputs": [],
   "source": [
    "rt.displaySVG(rt.smallMultiples(df=df, category_by='dip', max_categories=44, show_df_multiple=True,\n",
    "                                sm_type='pieChart', sm_params={'style':'waffle'},\n",
    "                                sort_by='similarity', \n",
    "                                color_by='sip', txt_h=10, w=768, h=460))"
   ]
  },
  {
   "cell_type": "code",
   "execution_count": null,
   "id": "8464615c",
   "metadata": {},
   "outputs": [],
   "source": [
    "rt.displaySVG(rt.smallMultiples(df=df, category_by='dip', max_categories=45, show_df_multiple=False,\n",
    "                                sm_type='pieChart', sm_params={'style':'waffle'},\n",
    "                                sort_by='similarity', sort_by_field=exemplar_dip,\n",
    "                                color_by='sip', txt_h=10, w=768, h=460))"
   ]
  },
  {
   "cell_type": "code",
   "execution_count": null,
   "id": "69119fad",
   "metadata": {},
   "outputs": [],
   "source": [
    "rt.displaySVG(rt.smallMultiples(df=df, category_by='dip', max_categories=44, show_df_multiple=True,\n",
    "                                sm_type='periodicBarChart', sm_params={'time_period':'hour', 'draw_labels':False},\n",
    "                                sort_by='similarity', \n",
    "                                color_by='sip', txt_h=10, w=768, h=460))"
   ]
  },
  {
   "cell_type": "code",
   "execution_count": null,
   "id": "ccfa8740",
   "metadata": {},
   "outputs": [],
   "source": [
    "rt.displaySVG(rt.smallMultiples(df=df, category_by='dip', max_categories=44, show_df_multiple=False,\n",
    "                                sm_type='periodicBarChart', sm_params={'time_period':'hour','draw_labels':False},\n",
    "                                sort_by='similarity', sort_by_field=exemplar_dip,\n",
    "                                color_by='sip', txt_h=10, w=768, h=460))"
   ]
  },
  {
   "cell_type": "code",
   "execution_count": null,
   "id": "66d4d734",
   "metadata": {},
   "outputs": [],
   "source": [
    "rt.displaySVG(rt.smallMultiples(df=df, category_by='dip', max_categories=10, show_df_multiple=True,\n",
    "                                sm_type='temporalBarChart', sm_params={},\n",
    "                                sort_by='similarity', \n",
    "                                color_by='sip', txt_h=16, w=768, h=460))"
   ]
  },
  {
   "cell_type": "code",
   "execution_count": null,
   "id": "0a4ae36c",
   "metadata": {},
   "outputs": [],
   "source": [
    "rt.displaySVG(rt.smallMultiples(df=df, category_by='dip', max_categories=10, show_df_multiple=False,\n",
    "                                sm_type='temporalBarChart', sm_params={},\n",
    "                                sort_by='similarity', sort_by_field=exemplar_dip,\n",
    "                                color_by='sip', txt_h=16, w=768, h=460))"
   ]
  },
  {
   "cell_type": "code",
   "execution_count": null,
   "id": "920a7f44",
   "metadata": {},
   "outputs": [],
   "source": [
    "rt.displaySVG(rt.smallMultiples(df=df, category_by='dip', max_categories=10, show_df_multiple=True,\n",
    "                                sm_type='histogram', sm_params={'bin_by':'sip'},\n",
    "                                sort_by='similarity', \n",
    "                                color_by='dpt', txt_h=16, w=768, h=460))"
   ]
  },
  {
   "cell_type": "code",
   "execution_count": null,
   "id": "4d4e3929",
   "metadata": {},
   "outputs": [],
   "source": [
    "rt.displaySVG(rt.smallMultiples(df=df, category_by='dip', max_categories=10, show_df_multiple=False,\n",
    "                                sm_type='histogram', sm_params={'bin_by':'sip'},\n",
    "                                sort_by='similarity', sort_by_field=exemplar_dip,\n",
    "                                color_by='dpt', txt_h=16, w=768, h=460))"
   ]
  },
  {
   "cell_type": "code",
   "execution_count": null,
   "id": "38a43133",
   "metadata": {},
   "outputs": [],
   "source": []
  }
 ],
 "metadata": {
  "kernelspec": {
   "display_name": "Python 3",
   "language": "python",
   "name": "python3"
  },
  "language_info": {
   "codemirror_mode": {
    "name": "ipython",
    "version": 3
   },
   "file_extension": ".py",
   "mimetype": "text/x-python",
   "name": "python",
   "nbconvert_exporter": "python",
   "pygments_lexer": "ipython3",
   "version": "3.11.6"
  },
  "vscode": {
   "interpreter": {
    "hash": "677ca678853aa41fc137f4b55f2bc0c694e45735c0d2faa667d2ec5acb71e67d"
   }
  }
 },
 "nbformat": 4,
 "nbformat_minor": 5
}
