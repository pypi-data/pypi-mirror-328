{
 "cells": [
  {
   "cell_type": "code",
   "execution_count": null,
   "id": "cc5ec30b-60e9-4ac2-ae42-ca1281cc777f",
   "metadata": {},
   "outputs": [],
   "source": [
    "import pandas as pd\n",
    "import numpy as np\n",
    "import random\n",
    "import sys\n",
    "sys.path.insert(1, '../rtsvg')\n",
    "from rtsvg import *\n",
    "%matplotlib inline"
   ]
  },
  {
   "cell_type": "code",
   "execution_count": null,
   "id": "87ad7aa2-8a86-4f06-8370-b91819774bec",
   "metadata": {},
   "outputs": [],
   "source": [
    "rt = RACETrack()"
   ]
  },
  {
   "cell_type": "code",
   "execution_count": null,
   "id": "dc06a27f",
   "metadata": {},
   "outputs": [],
   "source": [
    "df        = pd.read_csv(\"../../data/netflow/netflow_sample.csv\")\n",
    "df['beg'] = df['beg'].astype('datetime64[ms]')\n",
    "df        = df.rename({'beg':'timestamp'},axis=1)\n",
    "df.shape"
   ]
  },
  {
   "cell_type": "code",
   "execution_count": null,
   "id": "f8bd663f",
   "metadata": {},
   "outputs": [],
   "source": [
    "def _my_shape_func(_df, _tuple, _x, _y, _w, _color, _opacity):\n",
    "    if len(_df) < 100:\n",
    "        return 'plus'\n",
    "    elif len(_df) < 1000:\n",
    "        return 'x'\n",
    "    else:\n",
    "        return 'ellipse'\n",
    "\n",
    "rt.displaySVGAsImage(rt.xy(df, x_field='sip',y_field='dip', w=512, h=512, dot_shape=_my_shape_func, dot_size='large'))"
   ]
  },
  {
   "cell_type": "code",
   "execution_count": null,
   "id": "fd3e0010",
   "metadata": {},
   "outputs": [],
   "source": [
    "rt.displaySVGAsImage(rt.xy(df, x_field='sip',y_field='dip', w=512, h=512, dot_shape=rt.shapeByDataFrameLength, dot_size='large'))"
   ]
  },
  {
   "cell_type": "code",
   "execution_count": null,
   "id": "47aecc50",
   "metadata": {},
   "outputs": [],
   "source": []
  }
 ],
 "metadata": {
  "kernelspec": {
   "display_name": "Python 3",
   "language": "python",
   "name": "python3"
  },
  "language_info": {
   "codemirror_mode": {
    "name": "ipython",
    "version": 3
   },
   "file_extension": ".py",
   "mimetype": "text/x-python",
   "name": "python",
   "nbconvert_exporter": "python",
   "pygments_lexer": "ipython3",
   "version": "3.10.6"
  },
  "vscode": {
   "interpreter": {
    "hash": "677ca678853aa41fc137f4b55f2bc0c694e45735c0d2faa667d2ec5acb71e67d"
   }
  }
 },
 "nbformat": 4,
 "nbformat_minor": 5
}
