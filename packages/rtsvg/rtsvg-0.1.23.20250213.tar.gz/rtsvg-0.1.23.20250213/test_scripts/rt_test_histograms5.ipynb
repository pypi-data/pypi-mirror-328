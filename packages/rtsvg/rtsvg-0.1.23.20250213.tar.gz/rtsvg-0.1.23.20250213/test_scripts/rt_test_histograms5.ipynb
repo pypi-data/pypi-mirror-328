{
 "cells": [
  {
   "cell_type": "code",
   "execution_count": null,
   "id": "2aff2a08-6a0e-411d-8f4b-0a5c74a44f79",
   "metadata": {},
   "outputs": [],
   "source": [
    "import pandas as pd\n",
    "import polars as pl\n",
    "import numpy as np\n",
    "import random\n",
    "import rtsvg\n",
    "rt = rtsvg.RACETrack()"
   ]
  },
  {
   "cell_type": "code",
   "execution_count": null,
   "id": "1fb53563-8623-4656-b515-094a608cabbf",
   "metadata": {},
   "outputs": [],
   "source": [
    "df = pd.DataFrame({'f0':['a','b','c'],'f1':['x','y','z'],'ct':[10,15,5]})\n",
    "rt.tile([rt.histogram(df, 'f0',        count_by='ct', w=128, h=96),\n",
    "         rt.histogram(df, ['f0','f1'], count_by='ct', w=128, h=96)])"
   ]
  },
  {
   "cell_type": "code",
   "execution_count": null,
   "id": "6dea26e5-8428-41b2-b717-e99457e3a415",
   "metadata": {},
   "outputs": [],
   "source": [
    "df = pl.DataFrame({'f0':['a','b','c'],'f1':['x','y','z'],'ct':[10,15,5]})\n",
    "rt.tile([rt.histogram(df, 'f0',        count_by='ct', w=128, h=96),\n",
    "         rt.histogram(df, ['f0','f1'], count_by='ct', w=128, h=96)])"
   ]
  },
  {
   "cell_type": "code",
   "execution_count": null,
   "id": "fe286e1b-144e-4f6c-9b0e-1f6a2fc9ddad",
   "metadata": {},
   "outputs": [],
   "source": [
    "_lu_ = {'bin':[], 'count':[]}\n",
    "for i in range(100):\n",
    "    _lu_['bin'].append(str(i))\n",
    "    _lu_['count'].append(random.randint(0,200))\n",
    "rt.histogram(pl.DataFrame(_lu_), bin_by='bin', count_by='count', w=160, h=244)"
   ]
  },
  {
   "cell_type": "code",
   "execution_count": null,
   "id": "85ee1063",
   "metadata": {},
   "outputs": [],
   "source": []
  }
 ],
 "metadata": {
  "kernelspec": {
   "display_name": ".venv",
   "language": "python",
   "name": "python3"
  },
  "language_info": {
   "codemirror_mode": {
    "name": "ipython",
    "version": 3
   },
   "file_extension": ".py",
   "mimetype": "text/x-python",
   "name": "python",
   "nbconvert_exporter": "python",
   "pygments_lexer": "ipython3",
   "version": "3.12.3"
  }
 },
 "nbformat": 4,
 "nbformat_minor": 5
}
