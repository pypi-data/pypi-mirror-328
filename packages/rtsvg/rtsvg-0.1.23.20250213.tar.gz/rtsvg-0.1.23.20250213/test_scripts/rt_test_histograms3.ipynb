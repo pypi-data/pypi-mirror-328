{
 "cells": [
  {
   "cell_type": "code",
   "execution_count": null,
   "id": "cc5ec30b-60e9-4ac2-ae42-ca1281cc777f",
   "metadata": {},
   "outputs": [],
   "source": [
    "import pandas as pd\n",
    "import random\n",
    "import sys\n",
    "sys.path.insert(1, '../rtsvg')\n",
    "from rtsvg import *\n",
    "rt = RACETrack()"
   ]
  },
  {
   "cell_type": "code",
   "execution_count": null,
   "id": "87ad7aa2-8a86-4f06-8370-b91819774bec",
   "metadata": {},
   "outputs": [],
   "source": [
    "cats, counts = [], []\n",
    "for cat_i in range(0,1000):\n",
    "    cats.append('abc' + str(cat_i))\n",
    "    counts.append(random.randint(0,10000))\n",
    "df = pd.DataFrame({'cat':cats, 'count':counts})\n",
    "_histo_ = rt.histogramInstance(df, bin_by='cat', count_by='count')\n",
    "rt.displaySVG(_histo_)"
   ]
  },
  {
   "cell_type": "code",
   "execution_count": null,
   "id": "520929a0",
   "metadata": {},
   "outputs": [],
   "source": [
    "_histo_.applyScrollEvent(10)\n",
    "rt.displaySVG(_histo_)"
   ]
  },
  {
   "cell_type": "code",
   "execution_count": null,
   "id": "0bb92abb",
   "metadata": {},
   "outputs": [],
   "source": [
    "_histo_.applyScrollEvent(-10)\n",
    "rt.displaySVG(_histo_)"
   ]
  },
  {
   "cell_type": "code",
   "execution_count": null,
   "id": "e94cf027",
   "metadata": {},
   "outputs": [],
   "source": [
    "_histo_.applyScrollEvent(-10)\n",
    "rt.displaySVG(_histo_)"
   ]
  },
  {
   "cell_type": "code",
   "execution_count": null,
   "id": "8422bce5",
   "metadata": {},
   "outputs": [],
   "source": [
    "_histo_.applyScrollEvent(10000000)\n",
    "rt.displaySVG(_histo_)"
   ]
  },
  {
   "cell_type": "code",
   "execution_count": null,
   "id": "9b2c6d49",
   "metadata": {},
   "outputs": [],
   "source": []
  }
 ],
 "metadata": {
  "kernelspec": {
   "display_name": "Python 3",
   "language": "python",
   "name": "python3"
  },
  "language_info": {
   "codemirror_mode": {
    "name": "ipython",
    "version": 3
   },
   "file_extension": ".py",
   "mimetype": "text/x-python",
   "name": "python",
   "nbconvert_exporter": "python",
   "pygments_lexer": "ipython3",
   "version": "3.11.6"
  },
  "vscode": {
   "interpreter": {
    "hash": "677ca678853aa41fc137f4b55f2bc0c694e45735c0d2faa667d2ec5acb71e67d"
   }
  }
 },
 "nbformat": 4,
 "nbformat_minor": 5
}
