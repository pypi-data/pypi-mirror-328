{
 "cells": [
  {
   "cell_type": "code",
   "execution_count": null,
   "id": "46f92306-63e1-4f28-a3c8-5ae517707974",
   "metadata": {},
   "outputs": [],
   "source": [
    "import pandas as pd\n",
    "import numpy as np\n",
    "import networkx as nx\n",
    "import sys\n",
    "sys.path.insert(1, '../rtsvg')\n",
    "from rtsvg import *\n",
    "rt = RACETrack()\n",
    "df = pd.DataFrame({'fm':['a','b','c','d','e','a','a','a','a','c','f','f','f','f','f','f'],\n",
    "                   'to':['b','c','d','e','f','x','y','z','w','u','v','s','t','r','q','p']})\n",
    "relates = [('fm','to')]\n",
    "g_nx    = rt.createNetworkXGraph(df, relates)\n",
    "pos     = nx.spring_layout(g_nx)\n",
    "spec    = {(0, 0,40, 1):('panelControl'),\n",
    "           (0, 1,20,20):('linkNode', {'relationships':relates,'pos':pos}),\n",
    "           (20,1,20,20):('linkNode', {'relationships':relates,'pos':pos})}"
   ]
  },
  {
   "cell_type": "code",
   "execution_count": null,
   "metadata": {},
   "outputs": [],
   "source": [
    "_panel_ = rt.interactivePanel(df, spec, w=1024, h=512)\n",
    "_panel_"
   ]
  },
  {
   "cell_type": "code",
   "execution_count": null,
   "id": "518490c8",
   "metadata": {},
   "outputs": [],
   "source": []
  }
 ],
 "metadata": {
  "kernelspec": {
   "display_name": "Python 3",
   "language": "python",
   "name": "python3"
  },
  "language_info": {
   "codemirror_mode": {
    "name": "ipython",
    "version": 3
   },
   "file_extension": ".py",
   "mimetype": "text/x-python",
   "name": "python",
   "nbconvert_exporter": "python",
   "pygments_lexer": "ipython3",
   "version": "3.11.7"
  }
 },
 "nbformat": 4,
 "nbformat_minor": 5
}
