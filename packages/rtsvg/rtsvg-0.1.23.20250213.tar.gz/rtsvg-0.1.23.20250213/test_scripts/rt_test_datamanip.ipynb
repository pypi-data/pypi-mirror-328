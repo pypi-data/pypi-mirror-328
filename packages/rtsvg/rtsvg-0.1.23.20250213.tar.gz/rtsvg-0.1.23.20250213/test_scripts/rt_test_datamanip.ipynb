{
 "cells": [
  {
   "cell_type": "code",
   "execution_count": null,
   "metadata": {},
   "outputs": [],
   "source": [
    "import pandas as pd\n",
    "import numpy  as np\n",
    "\n",
    "import random\n",
    "\n",
    "import sys\n",
    "sys.path.insert(1, '../rtsvg')\n",
    "from rtsvg import *\n",
    "\n",
    "rt = RACETrack()"
   ]
  },
  {
   "cell_type": "code",
   "execution_count": null,
   "metadata": {},
   "outputs": [],
   "source": [
    "_dates,_cats,_cats2,_values = [],[],[],[]\n",
    "for y in range(2000,2002):\n",
    "    for m in range(1,10):\n",
    "        for d in range(1,28):\n",
    "            samples = random.randint(5,10)\n",
    "            for s in range(0,samples):\n",
    "                _cat  = chr(ord('a') + random.randint(0,3))\n",
    "                _cat2 = chr(ord('A') + random.randint(0,3))\n",
    "                _dates.  append(f'{y:04}-{m:02}-{d:02} {random.randint(0,23):02}:{random.randint(0,59):02}')\n",
    "                _cats.   append(_cat)\n",
    "                _cats2.  append(_cat2)\n",
    "                _values. append(random.randint(0,50))\n",
    "df = pd.DataFrame({'date':_dates, 'value':_values, 'cat':_cats, 'cat2':_cats2})\n",
    "df = rt.columnsAreTimestamps(df, 'date')\n",
    "print(df.shape)\n",
    "df.sample(3)"
   ]
  },
  {
   "cell_type": "code",
   "execution_count": null,
   "metadata": {},
   "outputs": [],
   "source": [
    "rt.temporalStatsAggregation(df,fields='value')"
   ]
  },
  {
   "cell_type": "code",
   "execution_count": null,
   "metadata": {},
   "outputs": [],
   "source": [
    "rt.temporalStatsAggregationWithGBFields(df,gb_fields=['cat'],fields='value')"
   ]
  },
  {
   "cell_type": "code",
   "execution_count": null,
   "metadata": {},
   "outputs": [],
   "source": [
    "rt.temporalStatsAggregationWithGBFields(df,gb_fields=['cat2'],fields='value')"
   ]
  },
  {
   "cell_type": "code",
   "execution_count": null,
   "metadata": {},
   "outputs": [],
   "source": [
    "rt.temporalStatsAggregationWithGBFields(df,gb_fields=['cat','cat2'],fields='value')"
   ]
  },
  {
   "cell_type": "code",
   "execution_count": null,
   "metadata": {},
   "outputs": [],
   "source": [
    "# Validate one\n",
    "_df = df.query('cat == \"a\" and cat2 == \"B\"')\n",
    "rt.temporalStatsAggregation(_df,fields='value')"
   ]
  },
  {
   "cell_type": "code",
   "execution_count": null,
   "metadata": {},
   "outputs": [],
   "source": [
    "# ... for validation of last cell\n",
    "rt.temporalStatsAggregationWithGBFields(df,gb_fields=['cat','cat2'],fields='value').query('cat == \"a\" and cat2 == \"B\"')"
   ]
  },
  {
   "cell_type": "code",
   "execution_count": null,
   "metadata": {},
   "outputs": [],
   "source": [
    "_df_agg = rt.temporalStatsAggregationWithGBFields(_df,fields='value',freq='MS',gb_fields=['cat','cat2'])\n",
    "_df_agg"
   ]
  },
  {
   "cell_type": "code",
   "execution_count": null,
   "metadata": {},
   "outputs": [],
   "source": [
    "gb        = _df_agg.groupby(['cat','cat2'])\n",
    "gb_w_time = _df_agg.groupby(['cat','cat2','date'])\n",
    "for k, k_df in gb:\n",
    "    for _date in pd.date_range(start=_df_agg['date'].min(), end=_df_agg['date'].max(), freq='MS'):\n",
    "        _k_as_list = list(k)\n",
    "        _k_as_list.append(_date)\n",
    "        _tuple = tuple(_k_as_list)\n",
    "        print(_tuple, type(_date), _tuple in gb_w_time.groups.keys())"
   ]
  },
  {
   "cell_type": "code",
   "execution_count": null,
   "metadata": {},
   "outputs": [],
   "source": [
    "df = pd.DataFrame({'timestamp':['2021-01-01', '2021-01-04', '2021-01-02', '2021-01-05', '2021-01-12'],\n",
    "                   'cat':      ['a',          'a',          'a',          'b',          'b'],\n",
    "                   'cat2':     ['b',          'c',          'b',          'b',          'd'],\n",
    "                   'value':    [10,           20,           10,           5,            10]})\n",
    "df = rt.columnsAreTimestamps(df, 'timestamp')\n",
    "rt.xy(rt.temporalStatsAggregationWithGBFields(df, fields='value', gb_fields=['cat'], freq='D', fill_missing=False),\n",
    "      x_field='timestamp',y_field='value_median', line_groupby_field='cat', color_by='cat', w=512, h=128)\n"
   ]
  },
  {
   "cell_type": "code",
   "execution_count": null,
   "metadata": {},
   "outputs": [],
   "source": [
    "rt.xy(rt.temporalStatsAggregationWithGBFields(df, fields='value', gb_fields=['cat'], freq='D', fill_missing=True),\n",
    "      x_field='timestamp',y_field='value_median', line_groupby_field='cat', color_by='cat', w=512, h=128)"
   ]
  },
  {
   "cell_type": "code",
   "execution_count": null,
   "metadata": {},
   "outputs": [],
   "source": [
    "rt.xy(rt.temporalStatsAggregationWithGBFields(df, fields='value', gb_fields=['cat'], freq='8H', stats='median', fill_missing=True),\n",
    "      x_field='timestamp',y_field='value_median', line_groupby_field='cat', color_by='cat', w=1400, h=128)"
   ]
  },
  {
   "cell_type": "code",
   "execution_count": null,
   "metadata": {},
   "outputs": [],
   "source": [
    "df = pd.DataFrame({'timestamp':['2021-01-01 12:23:22', '2021-04-04 00:00:00', '2021-02-02 00:00:00', '2021-05-05 00:00:00', '2021-06-12 09:20:00'],\n",
    "                   'cat':      ['a',                   'a',          'a',          'b',          'b'],\n",
    "                   'cat2':     ['b',                   'c',          'b',          'b',          'd'],\n",
    "                   'value':    [10,                    20,           10,           5,            10]})\n",
    "df = rt.columnsAreTimestamps(df, 'timestamp')\n",
    "rt.xy(rt.temporalStatsAggregationWithGBFields(df, fields='value', gb_fields=['cat'], freq='MS', stats='median', fill_missing=False),\n",
    "      x_field='timestamp',y_field='value_median', line_groupby_field='cat', color_by='cat', w=512, h=128)"
   ]
  },
  {
   "cell_type": "code",
   "execution_count": null,
   "metadata": {},
   "outputs": [],
   "source": [
    "rt.xy(rt.temporalStatsAggregationWithGBFields(df, fields='value', gb_fields=['cat'], freq='2MS', stats='median', fill_missing=True),\n",
    "      x_field='timestamp',y_field='value_median', line_groupby_field='cat', color_by='cat', w=512, h=128)"
   ]
  },
  {
   "cell_type": "code",
   "execution_count": null,
   "metadata": {},
   "outputs": [],
   "source": [
    "rt.temporalStatsAggregationWithGBFields(df, fields='value', gb_fields=['cat'], freq='2MS', stats=['median','rows'], fill_missing=True).sort_values(['cat','timestamp'])"
   ]
  },
  {
   "cell_type": "code",
   "execution_count": null,
   "metadata": {},
   "outputs": [],
   "source": [
    "gb = df.groupby([pd.Grouper(key='timestamp',freq='2MS'), 'cat'])\n",
    "for k,k_df in gb:\n",
    "    print(k)"
   ]
  },
  {
   "cell_type": "code",
   "execution_count": null,
   "metadata": {},
   "outputs": [],
   "source": []
  }
 ],
 "metadata": {
  "kernelspec": {
   "display_name": "Python 3",
   "language": "python",
   "name": "python3"
  },
  "language_info": {
   "codemirror_mode": {
    "name": "ipython",
    "version": 3
   },
   "file_extension": ".py",
   "mimetype": "text/x-python",
   "name": "python",
   "nbconvert_exporter": "python",
   "pygments_lexer": "ipython3",
   "version": "3.11.6"
  },
  "orig_nbformat": 4,
  "vscode": {
   "interpreter": {
    "hash": "677ca678853aa41fc137f4b55f2bc0c694e45735c0d2faa667d2ec5acb71e67d"
   }
  }
 },
 "nbformat": 4,
 "nbformat_minor": 2
}
