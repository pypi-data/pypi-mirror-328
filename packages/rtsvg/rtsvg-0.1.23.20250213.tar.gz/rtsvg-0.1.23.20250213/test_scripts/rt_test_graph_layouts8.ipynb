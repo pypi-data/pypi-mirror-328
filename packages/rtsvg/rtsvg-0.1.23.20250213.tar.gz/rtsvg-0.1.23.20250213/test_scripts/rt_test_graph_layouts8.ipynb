{
 "cells": [
  {
   "cell_type": "code",
   "execution_count": null,
   "metadata": {},
   "outputs": [],
   "source": [
    "import pandas as pd\n",
    "import polars as pl\n",
    "import numpy as np\n",
    "import networkx as nx\n",
    "import random\n",
    "import copy\n",
    "import sys\n",
    "sys.path.insert(1, '../rtsvg')\n",
    "from rtsvg import RACETrack\n",
    "rt = RACETrack()"
   ]
  },
  {
   "cell_type": "code",
   "execution_count": null,
   "metadata": {},
   "outputs": [],
   "source": [
    "_lu_     = {'fm':[], 'to':[]}\n",
    "to_place = set()\n",
    "pos      = {}\n",
    "for i in range(100):\n",
    "    _lu_['fm'].append('fm'+str(i))\n",
    "    _lu_['to'].append('to'+str(i))\n",
    "    to_place.add('to'+str(i))\n",
    "    pos['fm'+str(i)] = (10.0,                random.random()*100)\n",
    "    pos['to'+str(i)] = (random.random()*100, random.random()*100)\n",
    "\n",
    "df      = pl.DataFrame(_lu_)\n",
    "relates = [('fm','to')]\n",
    "g       = rt.createNetworkXGraph(df, relates)\n",
    "_link_  = rt.link(df, relates, pos)\n",
    "new_pos = copy.deepcopy(pos)\n",
    "adj_pos = rt.linearOptimizedArrangement(g, to_place, new_pos, ((20.0,0.0),(20.0,100.0)))\n",
    "for _node_ in adj_pos.keys(): new_pos[_node_] = adj_pos[_node_]\n",
    "_link_opt_ = rt.link(df, relates, new_pos)\n",
    "rt.tile([_link_, _link_opt_])"
   ]
  },
  {
   "cell_type": "code",
   "execution_count": null,
   "metadata": {},
   "outputs": [],
   "source": []
  }
 ],
 "metadata": {
  "kernelspec": {
   "display_name": ".venv",
   "language": "python",
   "name": "python3"
  },
  "language_info": {
   "codemirror_mode": {
    "name": "ipython",
    "version": 3
   },
   "file_extension": ".py",
   "mimetype": "text/x-python",
   "name": "python",
   "nbconvert_exporter": "python",
   "pygments_lexer": "ipython3",
   "version": "3.11.6"
  }
 },
 "nbformat": 4,
 "nbformat_minor": 2
}
