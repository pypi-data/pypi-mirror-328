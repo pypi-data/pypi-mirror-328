{
 "cells": [
  {
   "cell_type": "code",
   "execution_count": null,
   "metadata": {},
   "outputs": [],
   "source": [
    "import pandas as pd\n",
    "import networkx as nx\n",
    "import sys\n",
    "sys.path.insert(1, '../rtsvg')\n",
    "from rtsvg import *\n",
    "rt = RACETrack()"
   ]
  },
  {
   "cell_type": "code",
   "execution_count": null,
   "metadata": {},
   "outputs": [],
   "source": [
    "df1 = pd.DataFrame({'fm':['a','b','c'],      'to':['b','c','d'],      'count':[10, 20, 1]})\n",
    "df2 = pd.DataFrame({'src':['x','y','z','a'], 'dst':['1','2','3','4'], 'count':[8,   2, 4, 12]})\n",
    "\n",
    "multi_relates = [('fm','to'),('src','dst')]\n",
    "node_shapes   = {'fm':'ellipse','to':'square','src':'triangle','dst':'plus'}\n",
    "\n",
    "pos = {'a':[0,0],'b':[1,0],'c':[1,1],'d':[0,1],'x':[0,0.4],'1':[0.2,0.4],'y':[0,0.2],'2':[0.2,0.2],'z':[0,0.6],'3':[0.2,0.6],'4':[0.6,0.2]}\n",
    "\n",
    "rt.linkNode(pd.concat([df1,df2]), multi_relates, pos, count_by='count', \n",
    "            node_size='vary', node_color='#ff0000', node_shape=node_shapes,\n",
    "            link_size='medium', link_dash=\"4 3\")"
   ]
  },
  {
   "cell_type": "code",
   "execution_count": null,
   "metadata": {},
   "outputs": [],
   "source": [
    "rt.linkNode(pd.concat([df1,df2]), multi_relates, pos, count_by='count', \n",
    "            node_size='vary', node_color='#ff0000', node_shape=node_shapes,\n",
    "            link_size='medium', link_dash={('fm','to'):\"2 4\"})"
   ]
  },
  {
   "cell_type": "code",
   "execution_count": null,
   "metadata": {},
   "outputs": [],
   "source": [
    "rt.linkNode(pd.concat([df1,df2]), multi_relates, pos, count_by='count', \n",
    "            node_size='vary', node_color='#ff0000', node_shape=node_shapes,\n",
    "            link_size={('fm','to'):'large', ('src','dst'):'nil'}, link_dash={('fm','to'):\"2 4\"})"
   ]
  },
  {
   "cell_type": "code",
   "execution_count": null,
   "metadata": {},
   "outputs": [],
   "source": [
    "df = pd.DataFrame({'fm':['a','b','c','d','e','d','c','b'],\n",
    "                   'to':['b','c','d','e','d','c','b','a']})\n",
    "pos = {'a':(0,0), 'b':(1,1), 'c':[2,2], 'd':[3,3], 'e':[4,4]}\n",
    "relates = [('fm','to')]\n",
    "def myDashFunction(fm_str, to_str, fm_pos, to_pos):\n",
    "    if fm_str < to_str:\n",
    "        return '1 3'\n",
    "    else:\n",
    "        return None\n",
    "rt.linkNode(df, relates, pos, link_shape='curve', link_arrow=True, link_size=3, link_dash=myDashFunction)"
   ]
  },
  {
   "cell_type": "code",
   "execution_count": null,
   "metadata": {},
   "outputs": [],
   "source": []
  }
 ],
 "metadata": {
  "kernelspec": {
   "display_name": "Python 3",
   "language": "python",
   "name": "python3"
  },
  "language_info": {
   "codemirror_mode": {
    "name": "ipython",
    "version": 3
   },
   "file_extension": ".py",
   "mimetype": "text/x-python",
   "name": "python",
   "nbconvert_exporter": "python",
   "pygments_lexer": "ipython3",
   "version": "3.11.6"
  },
  "orig_nbformat": 4,
  "vscode": {
   "interpreter": {
    "hash": "677ca678853aa41fc137f4b55f2bc0c694e45735c0d2faa667d2ec5acb71e67d"
   }
  }
 },
 "nbformat": 4,
 "nbformat_minor": 2
}
