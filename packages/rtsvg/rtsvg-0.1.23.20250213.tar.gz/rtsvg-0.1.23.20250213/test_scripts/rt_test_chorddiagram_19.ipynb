{
 "cells": [
  {
   "cell_type": "code",
   "execution_count": null,
   "metadata": {},
   "outputs": [],
   "source": [
    "import pandas as pd\n",
    "import polars as pl\n",
    "import numpy as np\n",
    "import sys\n",
    "sys.path.insert(1, '../rtsvg')\n",
    "from rtsvg import *\n",
    "rt = RACETrack()"
   ]
  },
  {
   "cell_type": "code",
   "execution_count": null,
   "metadata": {},
   "outputs": [],
   "source": [
    "lu = {'fm':[1,2,3], 'to':[2,3,1]}\n",
    "df_pl = pl.DataFrame(lu)\n",
    "df_pd = pd.DataFrame(lu)\n",
    "rt.tile([rt.chordDiagram(df_pl, [('fm','to')]), rt.chordDiagram(df_pd, [('fm','to')])])"
   ]
  },
  {
   "cell_type": "code",
   "execution_count": null,
   "metadata": {},
   "outputs": [],
   "source": [
    "print(rt.dendrogramOrdering(df_pl, 'fm', 'to', None, False))\n",
    "print(rt.dendrogramOrdering(df_pd, 'fm', 'to', None, False))\n",
    "print(rt.dendrogramOrderingTuples(df_pl, 'fm', 'to', None, False))\n",
    "print(rt.dendrogramOrderingTuples(df_pd, 'fm', 'to', None, False))"
   ]
  },
  {
   "cell_type": "code",
   "execution_count": null,
   "metadata": {},
   "outputs": [],
   "source": [
    "#\n",
    "# This part fails... because both pandas and polars convert ints to floats when mixed...\n",
    "#\n",
    "lu = {'fm':[1.0,2.1,3], 'to':[2.1,3,1.0]}\n",
    "df_pl = pl.DataFrame(lu)\n",
    "df_pd = pd.DataFrame(lu)\n",
    "print(rt.dendrogramOrdering(df_pl, 'fm', 'to', None, False))\n",
    "print(rt.dendrogramOrdering(df_pd, 'fm', 'to', None, False))\n",
    "print(rt.dendrogramOrderingTuples(df_pl, 'fm', 'to', None, False))\n",
    "print(rt.dendrogramOrderingTuples(df_pd, 'fm', 'to', None, False))\n",
    "df_pd"
   ]
  },
  {
   "cell_type": "code",
   "execution_count": null,
   "metadata": {},
   "outputs": [],
   "source": [
    "#\n",
    "# This part fails... because only ints and strings are supported by the svg encoder\n",
    "# ... probably because encoding floats is perilous for mismatches...\n",
    "#\n",
    "rt.tile([rt.chordDiagram(df_pl, [('fm','to')]), rt.chordDiagram(df_pd, [('fm','to')])])"
   ]
  },
  {
   "cell_type": "code",
   "execution_count": null,
   "metadata": {},
   "outputs": [],
   "source": []
  }
 ],
 "metadata": {
  "kernelspec": {
   "display_name": ".venv",
   "language": "python",
   "name": "python3"
  },
  "language_info": {
   "codemirror_mode": {
    "name": "ipython",
    "version": 3
   },
   "file_extension": ".py",
   "mimetype": "text/x-python",
   "name": "python",
   "nbconvert_exporter": "python",
   "pygments_lexer": "ipython3",
   "version": "3.11.6"
  }
 },
 "nbformat": 4,
 "nbformat_minor": 2
}
