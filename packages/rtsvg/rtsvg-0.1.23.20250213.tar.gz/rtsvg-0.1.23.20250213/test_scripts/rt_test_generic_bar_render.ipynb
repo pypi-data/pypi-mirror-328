{
 "cells": [
  {
   "cell_type": "code",
   "execution_count": null,
   "metadata": {},
   "outputs": [],
   "source": [
    "import pandas as pd\n",
    "import numpy as np\n",
    "\n",
    "import sys\n",
    "sys.path.insert(1, '../rtsvg')\n",
    "from rtsvg import *\n",
    "\n",
    "rt = RACETrack()\n",
    "\n",
    "df = pd.DataFrame({\n",
    "    'f':[10,     11,    10,    20,    30,   20,   10],\n",
    "    'c':['a',    'b',   'c',   'a',   'b',  'a',  'c'],\n",
    "    'd':['x',    'x',   'y',   'y',   'z',  'z',  'z']\n",
    "})\n",
    "\n",
    "_combos_ = list(df.columns)\n",
    "_combos_.append(None)"
   ]
  },
  {
   "cell_type": "code",
   "execution_count": null,
   "metadata": {},
   "outputs": [],
   "source": [
    "def countBySet(df, count_by):\n",
    "    return count_by != None and df[count_by].dtypes != np.int64   and \\\n",
    "                                df[count_by].dtypes != np.int32   and \\\n",
    "                                df[count_by].dtypes != np.float64 and \\\n",
    "                                df[count_by].dtypes != np.float32\n",
    "\n",
    "def colorRenderOrder(df, color_by, count_by, count_by_set=False):\n",
    "    return colorQuantities(df, color_by, count_by, count_by_set).sort_values(ascending=False)\n",
    "\n",
    "def colorQuantities(df, color_by, count_by, count_by_set=False):\n",
    "    # Make sure we can count by numeric summation\n",
    "    if count_by_set == False:\n",
    "        count_by_set = countBySet(df, count_by)\n",
    "\n",
    "    # For count by set... when count_by == color by... then we'll count by rows\n",
    "    if count_by is not None and count_by_set and count_by == color_by:\n",
    "        count_by = None\n",
    "\n",
    "    if count_by is None:\n",
    "        return df.groupby(color_by).size()\n",
    "    elif count_by_set:\n",
    "        _df = pd.DataFrame(df.groupby([color_by,count_by]).size()).reset_index()\n",
    "        return _df.groupby(color_by).size()\n",
    "    elif count_by == color_by:\n",
    "        _df = df.groupby(color_by).size().reset_index()\n",
    "        _df['__mult__'] = _df.apply(lambda x: x[color_by]*x[0],axis=1)\n",
    "        return _df.groupby(color_by)['__mult__'].sum()\n",
    "    else:\n",
    "        return df.groupby(color_by)[count_by].sum()\n",
    "\n",
    "for count_by in _combos_:\n",
    "    for color_by in _combos_:\n",
    "        if color_by is None:\n",
    "            continue\n",
    "        for _t_or_f_ in range(0,2):\n",
    "            if _t_or_f_ == 0:\n",
    "                count_by_set = False\n",
    "            else:\n",
    "                count_by_set = True\n",
    "            _quants = colorQuantities(df, color_by, count_by, count_by_set)\n",
    "            _order  = colorRenderOrder(df, color_by, count_by, count_by_set)\n"
   ]
  },
  {
   "cell_type": "code",
   "execution_count": null,
   "metadata": {},
   "outputs": [],
   "source": [
    "#\n",
    "# Examples for each case of count_by, color_by\n",
    "#\n",
    "\n",
    "# Count By Rows\n",
    "color_by     = 'f'\n",
    "count_by     = None\n",
    "count_by_set = False\n",
    "sorted(df.groupby(color_by).size(),reverse=True)\n",
    "\n",
    "# Count By Set\n",
    "color_by = 'f'\n",
    "count_by = 'd'\n",
    "count_by_set = True\n",
    "_df = pd.DataFrame(df.groupby([color_by,count_by]).size()).reset_index()\n",
    "sorted(_df.groupby(color_by).size(),reverse=True)\n",
    "\n",
    "# Sum By Numbers\n",
    "color_by = 'c'\n",
    "count_by = 'f'\n",
    "count_by_set = False\n",
    "sorted(df.groupby(color_by)[count_by].sum(),reverse=True)\n",
    "\n",
    "# count_by = color_by , Sum By Numbers\n",
    "color_by = count_by = 'f'\n",
    "count_by_set = False\n",
    "_df = df.groupby(color_by).size().reset_index()\n",
    "_df['__mult__'] = _df.apply(lambda x: x[color_by]*x[0],axis=1)\n",
    "sorted(_df.groupby(color_by)['__mult__'].sum(),reverse=True)\n",
    "\n",
    "# count_by = color_by , Count By Set // In this case, let's make count_by into rows...\n",
    "color_by = count_by = 'f'\n",
    "count_by_set = True"
   ]
  },
  {
   "cell_type": "code",
   "execution_count": null,
   "metadata": {},
   "outputs": [],
   "source": [
    "bar_sz  = 10    # bar width  (assuming vertical bars)\n",
    "bar_len = 100   # bar height (assumting vertical bars)\n",
    "\n",
    "h_svg = f'<svg width=\"{bar_len+20}\" height=\"{bar_sz*len(_combos_)*len(_combos_)}\">'\n",
    "v_svg = f'<svg width=\"{bar_sz*len(_combos_)*len(_combos_)}\" height=\"{bar_len+20}\">'\n",
    "\n",
    "d = 0\n",
    "for count_by in _combos_:\n",
    "    for color_by in _combos_:\n",
    "        count_by_set = False\n",
    "        if count_by != None and df[count_by].dtypes != np.int64   and \\\n",
    "                                df[count_by].dtypes != np.int32   and \\\n",
    "                                df[count_by].dtypes != np.float64 and \\\n",
    "                                df[count_by].dtypes != np.float32:\n",
    "            count_by_set = True\n",
    "        global_color_order = rt.colorRenderOrder(df, color_by, count_by, count_by_set)\n",
    "        h_svg += rt.colorizeBar(df, global_color_order, color_by, count_by, count_by_set,\n",
    "                                10, d,          bar_len, bar_sz, True)\n",
    "        v_svg += rt.colorizeBar(df, global_color_order, color_by, count_by, count_by_set,\n",
    "                                d,  10+bar_len, bar_len, bar_sz, False)\n",
    "\n",
    "        d += bar_sz\n",
    "\n",
    "h_svg += '</svg>'\n",
    "v_svg += '</svg>'"
   ]
  },
  {
   "cell_type": "code",
   "execution_count": null,
   "metadata": {},
   "outputs": [],
   "source": [
    "rt.displaySVG(h_svg)"
   ]
  },
  {
   "cell_type": "code",
   "execution_count": null,
   "metadata": {},
   "outputs": [],
   "source": [
    "rt.displaySVG(v_svg)"
   ]
  },
  {
   "cell_type": "code",
   "execution_count": null,
   "metadata": {},
   "outputs": [],
   "source": []
  }
 ],
 "metadata": {
  "kernelspec": {
   "display_name": "Python 3",
   "language": "python",
   "name": "python3"
  },
  "language_info": {
   "codemirror_mode": {
    "name": "ipython",
    "version": 3
   },
   "file_extension": ".py",
   "mimetype": "text/x-python",
   "name": "python",
   "nbconvert_exporter": "python",
   "pygments_lexer": "ipython3",
   "version": "3.11.1 (tags/v3.11.1:a7a450f, Dec  6 2022, 19:58:39) [MSC v.1934 64 bit (AMD64)]"
  },
  "orig_nbformat": 4,
  "vscode": {
   "interpreter": {
    "hash": "677ca678853aa41fc137f4b55f2bc0c694e45735c0d2faa667d2ec5acb71e67d"
   }
  }
 },
 "nbformat": 4,
 "nbformat_minor": 2
}
