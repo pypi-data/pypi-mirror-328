{
 "cells": [
  {
   "cell_type": "code",
   "execution_count": null,
   "id": "cc5ec30b-60e9-4ac2-ae42-ca1281cc777f",
   "metadata": {},
   "outputs": [],
   "source": [
    "import pandas as pd\n",
    "import numpy as np\n",
    "\n",
    "import sys\n",
    "sys.path.insert(1, '../rtsvg')\n",
    "\n",
    "from rtsvg import *\n",
    "\n",
    "import random\n",
    "random.seed(42)\n",
    "rt = RACETrack()"
   ]
  },
  {
   "cell_type": "code",
   "execution_count": null,
   "id": "87ad7aa2-8a86-4f06-8370-b91819774bec",
   "metadata": {},
   "outputs": [],
   "source": [
    "_timestamps,_values,_colors = [],[],[]\n",
    "for _sample_i in range(1000):\n",
    "    _year   = random.randint(2000,2020)\n",
    "    _month  = random.randint(1,12)\n",
    "    _day    = random.randint(1,28)\n",
    "    _hour   = random.randint(0,23)\n",
    "    _minute = random.randint(0,59) \n",
    "    _value  = random.randint(50,100)\n",
    "    _timestamps.append(f'{_year:04}-{_month:02}-{_day:02} {_hour:02}:{_minute:02}')\n",
    "    _values.    append(_value)\n",
    "    _colors.    append(random.randint(0,3))\n",
    "df = pd.DataFrame({'timestamp':_timestamps,'value':_values,'color':_colors})\n",
    "df['timestamp'] = df['timestamp'].astype('datetime64[ms]')\n",
    "\n",
    "_colors = rt.co_mgr.brewerColors(scale_type='sequential', n=5)\n",
    "for i in range(0,5):\n",
    "    rt.co_mgr.str_to_color_lu[i] = _colors[i]\n",
    "\n",
    "rt.displaySVG(rt.temporalBarChart(df, color_by='color', min_bar_w=20, df2_fade=0.5)) # df2_fade shouldn't apply..."
   ]
  },
  {
   "cell_type": "code",
   "execution_count": null,
   "id": "e0f8a2c3",
   "metadata": {},
   "outputs": [],
   "source": [
    "rt.displaySVG(rt.temporalBarChart(df, min_bar_w=20, y2_field='value', line2_groupby_color='color', df2_fade=0.3))"
   ]
  },
  {
   "cell_type": "code",
   "execution_count": null,
   "id": "2b431757",
   "metadata": {},
   "outputs": [],
   "source": [
    "df2 = pd.DataFrame({'timestamp':['2010','2011','2012', '2010', '2011', '2012'],\n",
    "                    'counts':   [100,    200,  100,    90,     95,     100],\n",
    "                    'cat':      ['a',    'a',  'a',    'b',    'b',    'b']})\n",
    "df2['timestamp'] = df2['timestamp'].astype('datetime64[ms]')\n",
    "rt.displaySVG(rt.temporalBarChart(df, min_bar_w=20, df2=df2, y2_field='counts', line2_groupby_field='cat', line2_groupby_color='cat', dot2_size=None))"
   ]
  },
  {
   "cell_type": "code",
   "execution_count": null,
   "id": "f1563b37",
   "metadata": {},
   "outputs": [],
   "source": [
    "rt.displaySVG(rt.temporalBarChart(df, min_bar_w=20, df2=df2, y2_field='counts', line2_groupby_field='cat', line2_groupby_color='cat', df2_fade=None, dot2_size=None))"
   ]
  },
  {
   "cell_type": "code",
   "execution_count": null,
   "id": "68618afe",
   "metadata": {},
   "outputs": [],
   "source": [
    "from math import sin,cos,pi\n",
    "i,_timestamps,_counts,_cats = 0,[],[],[]\n",
    "for _year in range(1960,2030):\n",
    "    for _month in range(1,13):\n",
    "        _timestamps.append(f'{_year:04}-{_month:02}-01')\n",
    "        _counts.append(cos(i))\n",
    "        _cats.append('cos')\n",
    "\n",
    "        _timestamps.append(f'{_year:04}-{_month:02}-01')\n",
    "        _counts.append(sin(i))\n",
    "        _cats.append('sin')\n",
    "\n",
    "        i += pi/12\n",
    "df2 = pd.DataFrame({'timestamp':_timestamps, 'counts':_counts, 'cat':_cats})\n",
    "df2['timestamp'] = df2['timestamp'].astype('datetime64[ms]')\n",
    "rt.displaySVG(rt.temporalBarChart(df, min_bar_w=20, df2=df2, y2_field='counts', line2_groupby_field='cat', line2_groupby_color='cat', df2_fade=0.4, dot2_size=None))"
   ]
  },
  {
   "cell_type": "code",
   "execution_count": null,
   "id": "d4b87612",
   "metadata": {},
   "outputs": [],
   "source": [
    "rt.displaySVG(rt.temporalBarChart(df.query('timestamp >= \"2009\" and timestamp <= \"2012\"'), min_bar_w=20, \n",
    "                                  df2=df2, y2_field='counts', line2_groupby_field='cat', line2_groupby_color='cat', df2_fade=0.4, dot2_size=None))"
   ]
  },
  {
   "cell_type": "code",
   "execution_count": null,
   "id": "95c7e751",
   "metadata": {},
   "outputs": [],
   "source": [
    "rt.displaySVG(rt.temporalBarChart(df.query('timestamp >= \"2009\" and timestamp <= \"2012\"'), min_bar_w=20, \n",
    "                                  df2=df2, y2_field='counts', line2_groupby_field='cat', line2_groupby_color='cat', df2_fade=0.4, dot2_size='large', line2_groupby_dasharray=None))"
   ]
  },
  {
   "cell_type": "code",
   "execution_count": null,
   "id": "5a84d565",
   "metadata": {},
   "outputs": [],
   "source": [
    "rt.displaySVG(rt.tile([rt.temporalBarChart(df, color_by='color', min_bar_w=20, ts_min=\"2008-01-01\"),\n",
    "                       rt.temporalBarChart(df, color_by='color', min_bar_w=20, ts_max=\"2008-12-31\"),\n",
    "                       rt.temporalBarChart(df, color_by='color', min_bar_w=20, ts_min=\"2008-01-01\", ts_max=\"2010-12-31\")], horz=False))"
   ]
  },
  {
   "cell_type": "code",
   "execution_count": null,
   "id": "7c94727a",
   "metadata": {},
   "outputs": [],
   "source": []
  }
 ],
 "metadata": {
  "kernelspec": {
   "display_name": "Python 3",
   "language": "python",
   "name": "python3"
  },
  "language_info": {
   "codemirror_mode": {
    "name": "ipython",
    "version": 3
   },
   "file_extension": ".py",
   "mimetype": "text/x-python",
   "name": "python",
   "nbconvert_exporter": "python",
   "pygments_lexer": "ipython3",
   "version": "3.11.6"
  },
  "vscode": {
   "interpreter": {
    "hash": "677ca678853aa41fc137f4b55f2bc0c694e45735c0d2faa667d2ec5acb71e67d"
   }
  }
 },
 "nbformat": 4,
 "nbformat_minor": 5
}
