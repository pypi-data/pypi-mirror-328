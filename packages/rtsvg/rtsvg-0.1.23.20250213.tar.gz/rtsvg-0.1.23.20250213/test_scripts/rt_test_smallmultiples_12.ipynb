{
 "cells": [
  {
   "cell_type": "code",
   "execution_count": null,
   "metadata": {},
   "outputs": [],
   "source": [
    "import polars as pl\n",
    "import pandas as pd\n",
    "import numpy as np\n",
    "import rtsvg\n",
    "rt = rtsvg.RACETrack()"
   ]
  },
  {
   "cell_type": "code",
   "execution_count": null,
   "metadata": {},
   "outputs": [],
   "source": [
    "_lu_ = {\n",
    "    'pri': 'a a a a b b b c c c d d d'.split(),\n",
    "    'sec': [1,1,2,2,1,1,2,2,1,1,2,2,2],\n",
    "    'val': [1,2,3,4,5,6,7,8,9,10,11,12,13],\n",
    "    'cat': 'a b c d e f a b c d e a b'.split()\n",
    "}\n",
    "sm_pd = rt.smallMultiples(pd.DataFrame(_lu_), \n",
    "                          category_by=['pri','sec'], grid_view=True,\n",
    "                          sm_type='pieChart',\n",
    "                          sm_params={'color_by':'cat'}, w=256, h=512)\n",
    "sm_pl = rt.smallMultiples(pl.DataFrame(_lu_), \n",
    "                          category_by=['pri','sec'], grid_view=True,\n",
    "                          sm_type='pieChart',\n",
    "                          sm_params={'color_by':'cat'}, w=256, h=512)\n",
    "rt.tile([sm_pd, sm_pl])"
   ]
  },
  {
   "cell_type": "code",
   "execution_count": null,
   "metadata": {},
   "outputs": [],
   "source": []
  }
 ],
 "metadata": {
  "kernelspec": {
   "display_name": ".venv",
   "language": "python",
   "name": "python3"
  },
  "language_info": {
   "codemirror_mode": {
    "name": "ipython",
    "version": 3
   },
   "file_extension": ".py",
   "mimetype": "text/x-python",
   "name": "python",
   "nbconvert_exporter": "python",
   "pygments_lexer": "ipython3",
   "version": "3.12.3"
  }
 },
 "nbformat": 4,
 "nbformat_minor": 2
}
