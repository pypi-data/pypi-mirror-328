{
 "cells": [
  {
   "cell_type": "code",
   "execution_count": null,
   "metadata": {},
   "outputs": [],
   "source": [
    "import pandas   as pd\n",
    "import numpy    as np\n",
    "import networkx as nx\n",
    "import sys\n",
    "sys.path.insert(1, '../rtsvg')\n",
    "from rtsvg import *\n",
    "rt = RACETrack()"
   ]
  },
  {
   "cell_type": "code",
   "execution_count": null,
   "metadata": {},
   "outputs": [],
   "source": [
    "df        = pd.read_csv(\"../../netflow_sample.csv\")\n",
    "df        = rt.columnsAreTimestamps(df, 'beg')\n",
    "df_s      = df.sample(10000)\n",
    "relates = [('sip','dip')]\n",
    "pos = nx.spring_layout(rt.createNetworkXGraph(df_s, relates))"
   ]
  },
  {
   "cell_type": "code",
   "execution_count": null,
   "metadata": {},
   "outputs": [],
   "source": [
    "node_list     = list(pos.keys())\n",
    "_show_nodes_  = set([node_list[0], node_list[-1]])\n",
    "_ln_ = rt.linkNode(df_s, relates, pos, node_size='small', \n",
    "                    link_shape='curve', link_color='vary', color_by='dpt', \n",
    "                    label_only=_show_nodes_, draw_labels=True, w=512, h=512)\n",
    "_ln_"
   ]
  },
  {
   "cell_type": "code",
   "execution_count": null,
   "metadata": {},
   "outputs": [],
   "source": [
    "_view_window_ = rt.viewWindowZoom(_ln_.view_window, 2)\n",
    "_ln2_ = rt.linkNode(df_s, relates, pos, node_size='small', view_window=_view_window_,\n",
    "                    link_shape='curve', link_color='vary', color_by='dpt', \n",
    "                    label_only=_show_nodes_, draw_labels=True, w=512, h=512)\n",
    "_ln2_"
   ]
  },
  {
   "cell_type": "code",
   "execution_count": null,
   "metadata": {},
   "outputs": [],
   "source": [
    "_view_window_ = rt.viewWindowZoom(_ln2_.view_window, 2)\n",
    "_ln3_ = rt.linkNode(df_s, relates, pos, node_size='small', view_window=_view_window_,\n",
    "                    link_shape='curve', link_color='vary', color_by='dpt', \n",
    "                    label_only=_show_nodes_, draw_labels=True, w=512, h=512)\n",
    "_ln3_"
   ]
  },
  {
   "cell_type": "code",
   "execution_count": null,
   "metadata": {},
   "outputs": [],
   "source": [
    "_view_window_ = rt.viewWindowZoom(_ln3_.view_window, -2)\n",
    "_ln4_ = rt.linkNode(df_s, relates, pos, node_size='small', view_window=_view_window_,\n",
    "                    link_shape='curve', link_color='vary', color_by='dpt', \n",
    "                    label_only=_show_nodes_, draw_labels=True, w=512, h=512)\n",
    "_ln4_"
   ]
  },
  {
   "cell_type": "code",
   "execution_count": null,
   "metadata": {},
   "outputs": [],
   "source": [
    "_view_window_ = rt.viewWindowNodeFocus(pos, _show_nodes_)\n",
    "_ln5_ = rt.linkNode(df_s, relates, pos, node_size='small', view_window=_view_window_,\n",
    "                    link_shape='curve', link_color='vary', color_by='dpt', \n",
    "                    label_only=_show_nodes_, draw_labels=True, w=512, h=512)\n",
    "_ln5_"
   ]
  },
  {
   "cell_type": "code",
   "execution_count": null,
   "metadata": {},
   "outputs": [],
   "source": []
  }
 ],
 "metadata": {
  "kernelspec": {
   "display_name": "Python 3",
   "language": "python",
   "name": "python3"
  },
  "language_info": {
   "codemirror_mode": {
    "name": "ipython",
    "version": 3
   },
   "file_extension": ".py",
   "mimetype": "text/x-python",
   "name": "python",
   "nbconvert_exporter": "python",
   "pygments_lexer": "ipython3",
   "version": "3.11.6"
  },
  "orig_nbformat": 4,
  "vscode": {
   "interpreter": {
    "hash": "677ca678853aa41fc137f4b55f2bc0c694e45735c0d2faa667d2ec5acb71e67d"
   }
  }
 },
 "nbformat": 4,
 "nbformat_minor": 2
}
