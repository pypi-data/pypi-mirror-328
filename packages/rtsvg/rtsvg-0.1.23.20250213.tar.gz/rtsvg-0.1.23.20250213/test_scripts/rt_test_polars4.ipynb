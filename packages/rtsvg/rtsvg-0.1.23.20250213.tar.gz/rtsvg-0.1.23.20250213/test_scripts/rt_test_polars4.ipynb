{
 "cells": [
  {
   "cell_type": "code",
   "execution_count": null,
   "metadata": {},
   "outputs": [],
   "source": [
    "import pandas as pd\n",
    "import polars as pl\n",
    "import numpy  as np\n",
    "import networkx as nx\n",
    "import sys\n",
    "sys.path.insert(1, '../rtsvg')\n",
    "from rtsvg import *\n",
    "rt = RACETrack()"
   ]
  },
  {
   "cell_type": "code",
   "execution_count": null,
   "metadata": {},
   "outputs": [],
   "source": [
    "df = pd.DataFrame({'str':['a',  'a',  'a',  'b',  'b',  'b',  'b',  'b',  'c'],\n",
    "                   'st2':[ 1,    1,    2,    1,    3,    5,    7,    7,    1],\n",
    "                   'set':['x',  'x',  'y',  'x',  'y',  'z',  'w',  'x',  'x'],\n",
    "                   'num':[ 1,    1,    2,    3,    3,    2,    3,    4,    10]})\n",
    "df_pl = pl.DataFrame(df)"
   ]
  },
  {
   "cell_type": "code",
   "execution_count": null,
   "metadata": {},
   "outputs": [],
   "source": [
    "params = {'w':64, 'h':64}\n",
    "_svgs_ = []\n",
    "for color_by in df.columns:\n",
    "    columns_plus_none = list(df.columns)\n",
    "    columns_plus_none.append(None)\n",
    "    for count_by in columns_plus_none:\n",
    "        _svgs_.append(rt.pieChart(df,    count_by=count_by, color_by=color_by, **params))\n",
    "        _svgs_.append(rt.pieChart(df_pl, count_by=count_by, color_by=color_by, **params))\n",
    "rt.displaySVG(rt.table(_svgs_, per_row=8))"
   ]
  },
  {
   "cell_type": "code",
   "execution_count": null,
   "metadata": {},
   "outputs": [],
   "source": [
    "relates = [('str', 'st2'),('st2', 'num'),('st2', ('str','num'))]\n",
    "g_pd    = rt.createNetworkXGraph(df,    relates)\n",
    "g_pl    = rt.createNetworkXGraph(df_pl, relates)\n",
    "pos     = nx.spring_layout(g_pl)\n",
    "params  = {}\n",
    "_svgs_  = []\n",
    "_svgs_.append(rt.linkNode(df,    relates, pos, **params))\n",
    "_svgs_.append(rt.linkNode(df_pl, relates, pos, **params))\n",
    "params['node_size'] = 'vary'\n",
    "_svgs_.append(rt.linkNode(df,    relates, pos, **params))\n",
    "_svgs_.append(rt.linkNode(df_pl, relates, pos, **params))\n",
    "params['link_size'] = 'vary'\n",
    "_svgs_.append(rt.linkNode(df,    relates, pos, **params))\n",
    "_svgs_.append(rt.linkNode(df_pl, relates, pos, **params))\n",
    "rt.displaySVG(rt.table(_svgs_, per_row=2))"
   ]
  },
  {
   "cell_type": "code",
   "execution_count": null,
   "metadata": {},
   "outputs": [],
   "source": [
    "df = pd.DataFrame({'ts':['2001','2001','2002','2002','2003','2003','2004','2004'],\n",
    "                   'ct':[100,   200,   190,   300,   200,   180,   220,   240],\n",
    "                   'bn':['a',   'b',   'a',   'b',   'a',   'b',   'a',   'b'],\n",
    "                   'nb':[10,    20,    40,    10,    20,    20,    30,    25]})\n",
    "df = rt.columnsAreTimestamps(df, 'ts')\n",
    "rt.temporalBarChart(df, count_by='ct', sm_type='histogram', sm_params={'bin_by':'bn','count_by':'nb','color_by':'bn'}, sm_w=64, sm_h=64, h=256)"
   ]
  },
  {
   "cell_type": "code",
   "execution_count": null,
   "metadata": {},
   "outputs": [],
   "source": [
    "rt.temporalBarChart(pl.DataFrame(df), count_by='ct', sm_type='histogram', sm_params={'bin_by':'bn','count_by':'nb','color_by':'bn'}, sm_w=64, sm_h=64, h=256)"
   ]
  },
  {
   "cell_type": "code",
   "execution_count": null,
   "metadata": {},
   "outputs": [],
   "source": [
    "df = pd.DataFrame({'bin':['a','a','b','c','c','c']})\n",
    "for k,k_df in df.groupby(['bin']):\n",
    "    print(k)\n",
    "print()\n",
    "df_pl = pl.DataFrame(df)\n",
    "for k,k_df in df_pl.group_by(['bin']):\n",
    "    print(k)"
   ]
  },
  {
   "cell_type": "code",
   "execution_count": null,
   "metadata": {},
   "outputs": [],
   "source": [
    "df = pd.DataFrame({'ts':['2001','2001','2002','2002','2003','2003','2004','2004'],\n",
    "                   'ct':[100,   200,   190,   300,   200,   180,   220,   240],\n",
    "                   'bn':['a',   'b',   'a',   'b',   'a',   'b',   'a',   'b'],\n",
    "                   'nb':[10,    20,    40,    10,    20,    20,    30,    25]})\n",
    "df    = rt.columnsAreTimestamps(df, 'ts')\n",
    "for k,k_df in df.groupby(pd.Grouper(key='ts',freq='1YS')):\n",
    "    print(k)\n",
    "print()\n",
    "df_pl = pl.DataFrame(df).sort('ts')\n",
    "for k,k_df in df_pl.group_by_dynamic('ts',every='1y'):\n",
    "    print(k)"
   ]
  },
  {
   "cell_type": "code",
   "execution_count": null,
   "metadata": {},
   "outputs": [],
   "source": []
  }
 ],
 "metadata": {
  "kernelspec": {
   "display_name": "Python 3",
   "language": "python",
   "name": "python3"
  },
  "language_info": {
   "codemirror_mode": {
    "name": "ipython",
    "version": 3
   },
   "file_extension": ".py",
   "mimetype": "text/x-python",
   "name": "python",
   "nbconvert_exporter": "python",
   "pygments_lexer": "ipython3",
   "version": "3.11.6"
  }
 },
 "nbformat": 4,
 "nbformat_minor": 2
}
