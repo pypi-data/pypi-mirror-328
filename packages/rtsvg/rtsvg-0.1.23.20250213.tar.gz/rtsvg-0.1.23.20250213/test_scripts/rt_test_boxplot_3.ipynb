{
 "cells": [
  {
   "cell_type": "code",
   "execution_count": null,
   "metadata": {},
   "outputs": [],
   "source": [
    "import polars as pl\n",
    "import pandas as pd\n",
    "import numpy as np\n",
    "import random\n",
    "import rtsvg\n",
    "rt = rtsvg.RACETrack()"
   ]
  },
  {
   "cell_type": "code",
   "execution_count": null,
   "metadata": {},
   "outputs": [],
   "source": [
    "_lu_ = {'label':[], 'value':[]}\n",
    "for i in range(10):\n",
    "    _label_ = f'Label {i}'\n",
    "    for j in range(random.randint(2,5)):\n",
    "        _value_ = random.random()\n",
    "        _lu_['label'].append(_label_)\n",
    "        _lu_['value'].append(_value_)\n",
    "df = pd.DataFrame(_lu_)"
   ]
  },
  {
   "cell_type": "code",
   "execution_count": null,
   "metadata": {},
   "outputs": [],
   "source": [
    "rt.tile([rt.boxplot(df, bin_by='label', count_by='value', w=1024, h=256, extra_label_space=25),\n",
    "         rt.boxplot(df, bin_by='label', count_by='value', w=1024, h=256, extra_label_space=25, order_by='min'),\n",
    "         rt.boxplot(df, bin_by='label', count_by='value', w=1024, h=256, extra_label_space=25, order_by='max')], horz=False)"
   ]
  },
  {
   "cell_type": "code",
   "execution_count": null,
   "metadata": {},
   "outputs": [],
   "source": []
  },
  {
   "cell_type": "code",
   "execution_count": null,
   "metadata": {},
   "outputs": [],
   "source": []
  }
 ],
 "metadata": {
  "kernelspec": {
   "display_name": ".venv",
   "language": "python",
   "name": "python3"
  },
  "language_info": {
   "codemirror_mode": {
    "name": "ipython",
    "version": 3
   },
   "file_extension": ".py",
   "mimetype": "text/x-python",
   "name": "python",
   "nbconvert_exporter": "python",
   "pygments_lexer": "ipython3",
   "version": "3.12.3"
  }
 },
 "nbformat": 4,
 "nbformat_minor": 2
}
