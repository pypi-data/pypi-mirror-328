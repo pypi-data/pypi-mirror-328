{
 "cells": [
  {
   "cell_type": "code",
   "execution_count": null,
   "metadata": {},
   "outputs": [],
   "source": [
    "import pandas as pd\n",
    "import polars as pl\n",
    "import numpy  as np\n",
    "import networkx as nx\n",
    "from math import pi, cos, sin, sqrt\n",
    "import random\n",
    "from os.path import exists\n",
    "from rtsvg import *\n",
    "rt = RACETrack()\n",
    "edges_filename  = '../../data/stanford/facebook/348.edges'\n",
    "layout_filename = '../../data/stanford/facebook/348.edges.layout.parquet'\n",
    "_lu_ = {'fm':[], 'to':[]}\n",
    "for _edge_ in open(edges_filename, 'rt').read().split('\\n'):\n",
    "    if _edge_ == '': continue\n",
    "    _split_     = _edge_.split()\n",
    "    _fm_, _to_  = int(_split_[0]), int(_split_[1])\n",
    "    _lu_['fm'].append(_fm_), _lu_['to'].append(_to_)\n",
    "my_df  = pl.DataFrame(_lu_)\n",
    "print(len(my_df))\n",
    "_cd_ = rt.chordDiagram(my_df, [('fm','to')], \n",
    "                       link_style='bundled', color_by='fm', link_color='vary', link_opacity=0.2, beta=0.85,\n",
    "                       skeleton_algorithm='kmeans', track_routes=True, w=768, h=768)\n",
    "_cd_._repr_svg_()\n",
    "rt.tile([_cd_, _cd_.skeleton_svg])"
   ]
  },
  {
   "cell_type": "code",
   "execution_count": null,
   "metadata": {},
   "outputs": [],
   "source": [
    "df_route_histogram_lu = {'segment':[], 'count':[], 'fm':[], 'to':[]}\n",
    "pos_routes            = {}\n",
    "for _segment_ in _cd_.track_routes_segments:\n",
    "    _count_ = _cd_.track_routes_segments[_segment_]\n",
    "    df_route_histogram_lu['segment'].append(str(_segment_))\n",
    "    df_route_histogram_lu['fm']     .append(str(_segment_[0]))\n",
    "    pos_routes[str(_segment_[0])] = _segment_[0]\n",
    "    pos_routes[str(_segment_[1])] = _segment_[1]\n",
    "    df_route_histogram_lu['to']     .append(str(_segment_[1]))\n",
    "    df_route_histogram_lu['count']  .append(_count_)\n",
    "df_route_histogram = pd.DataFrame(df_route_histogram_lu)\n",
    "#rt.histogram(df_route_histogram, bin_by='segment', count_by='count', w=800, h=15000)\n",
    "_link_ = rt.linkNode(df_route_histogram, [('fm','to')], pos=pos_routes, link_arrow=False, link_shape='curve', count_by='count', \n",
    "                     link_size='vary', link_size_max=16.0, link_size_min=1.0, w=600, h=600)\n",
    "rt.tile([_link_, _cd_.skeleton_svg])"
   ]
  },
  {
   "cell_type": "code",
   "execution_count": null,
   "metadata": {},
   "outputs": [],
   "source": []
  }
 ],
 "metadata": {
  "kernelspec": {
   "display_name": ".venv",
   "language": "python",
   "name": "python3"
  },
  "language_info": {
   "codemirror_mode": {
    "name": "ipython",
    "version": 3
   },
   "file_extension": ".py",
   "mimetype": "text/x-python",
   "name": "python",
   "nbconvert_exporter": "python",
   "pygments_lexer": "ipython3",
   "version": "3.12.3"
  }
 },
 "nbformat": 4,
 "nbformat_minor": 2
}
