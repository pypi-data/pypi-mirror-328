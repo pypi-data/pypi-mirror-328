{
 "cells": [
  {
   "cell_type": "code",
   "execution_count": null,
   "metadata": {},
   "outputs": [],
   "source": [
    "import pandas as pd\n",
    "import polars as pl\n",
    "import numpy as np\n",
    "import random\n",
    "import string\n",
    "import html\n",
    "import rtsvg\n",
    "rt = rtsvg.RACETrack()"
   ]
  },
  {
   "cell_type": "code",
   "execution_count": null,
   "metadata": {},
   "outputs": [],
   "source": [
    "def junk(min_words=16, max_words=128):\n",
    "    def makeWord(min_chars=3, max_chars=8):\n",
    "        return ''.join(random.choices(string.ascii_uppercase + string.digits, k=random.randint(min_chars,max_chars)))\n",
    "    words = []\n",
    "    for i in range(random.randint(min_words, max_words)):\n",
    "        words.append(makeWord())\n",
    "    return ' '.join(words)\n",
    "\n",
    "_text_ = '''\n",
    "--- %< --- %< --- %< --- %< ---\n",
    "This is a test using symbols!!!\n",
    "--- >% --- >% --- >% --- >% ---\n",
    "''' + junk() + '''\n",
    "\n",
    "--- %< --- %< --- %< --- %< ---\n",
    "more <<symbols>> (())\n",
    "--- %< --- %< --- %< --- %< ---\n",
    "''' + junk() + '''\n",
    "some markers go here <> () 1234567890\n",
    "''' + junk() + '''\n",
    "another marker and another marker but with test...\n",
    "''' + junk()\n",
    "\n",
    "_tb_ = rt.textBlock(_text_, w=400, word_wrap=True)\n",
    "_highlighters_ = {\n",
    "    'a': {'symbol':'#ff0000', (10, 30): '#0000ff'},\n",
    "    'b': {'marker':'#0000ff'},\n",
    "    'c': {'symbol':'#ff0000' , 'marker':'#0000ff'}\n",
    "}\n",
    "_svg_lu_ = _tb_.highlightsComparison(_highlighters_)\n",
    "svgs = []\n",
    "for x in _svg_lu_: svgs.append(_svg_lu_[x])\n",
    "rt.tile(svgs)"
   ]
  },
  {
   "cell_type": "code",
   "execution_count": null,
   "metadata": {},
   "outputs": [],
   "source": [
    "_html_ = '''\n",
    "<html><head><title>hello</title></head><body>\n",
    "    <h1>H1 Title</h1>\n",
    "    <table>\n",
    "        <tr>\n",
    "            <th>Something</th>\n",
    "            <th>Another</th>\n",
    "            <th>Something</th>\n",
    "        </tr>\n",
    "        <tr>\n",
    "            <td>''' + svgs[0] + '''</td>\n",
    "            <td>''' + svgs[1] + '''</td>\n",
    "            <td>''' + svgs[2] + '''</td>\n",
    "        </tr>\n",
    "    </table>\n",
    "</body></html>\n",
    "'''\n",
    "class HTMLWrapper(object):\n",
    "    def __init__(self, html):\n",
    "        self.html = html\n",
    "    def _repr_html_(self):\n",
    "        return self.html\n",
    "HTMLWrapper(_html_)"
   ]
  },
  {
   "cell_type": "code",
   "execution_count": null,
   "metadata": {},
   "outputs": [],
   "source": []
  }
 ],
 "metadata": {
  "kernelspec": {
   "display_name": ".venv",
   "language": "python",
   "name": "python3"
  },
  "language_info": {
   "codemirror_mode": {
    "name": "ipython",
    "version": 3
   },
   "file_extension": ".py",
   "mimetype": "text/x-python",
   "name": "python",
   "nbconvert_exporter": "python",
   "pygments_lexer": "ipython3",
   "version": "3.12.3"
  }
 },
 "nbformat": 4,
 "nbformat_minor": 2
}
