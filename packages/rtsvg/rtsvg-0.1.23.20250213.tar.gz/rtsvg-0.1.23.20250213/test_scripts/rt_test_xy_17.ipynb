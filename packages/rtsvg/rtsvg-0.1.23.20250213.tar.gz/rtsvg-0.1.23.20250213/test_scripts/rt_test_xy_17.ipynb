{
 "cells": [
  {
   "cell_type": "code",
   "execution_count": null,
   "id": "cc5ec30b-60e9-4ac2-ae42-ca1281cc777f",
   "metadata": {},
   "outputs": [],
   "source": [
    "import pandas as pd\n",
    "import polars as pl\n",
    "import numpy as np\n",
    "import random\n",
    "import sys\n",
    "sys.path.insert(1, '../rtsvg')\n",
    "from rtsvg import *\n",
    "rt = RACETrack()\n",
    "\n",
    "df  = pd.DataFrame({'x':[1, 1, 1, 2,  2,   2,  3,  3,  3],\n",
    "                    'y':[1, 2, 3, 1,  2,   3,  1,  2,  3],\n",
    "                    'n':[1, 1, 1, 1,  100, 1,  1,  1,  1]})\n",
    "df2 = pd.DataFrame({'x':[1, 1, 1, 2,  2,   2,  3,  3,  3],\n",
    "                    'y':[1, 2, 3, 1,  2,   3,  1,  2,  3],\n",
    "                    'n':[1, 2, 3, 10, 100, 20, 50, 75, 76]})"
   ]
  },
  {
   "cell_type": "code",
   "execution_count": null,
   "metadata": {},
   "outputs": [],
   "source": [
    "_svgs_ = []\n",
    "params = {'df':df,  'x_field':'x', 'y_field':'y', 'dot_size':'huge', 'count_by':None, 'x_ins':16, 'y_ins':16, 'w':64, 'h':64}\n",
    "_svgs_.append(rt.xy(color_by=None, **params)),                            _svgs_.append(rt.xy(color_by='n',  **params))\n",
    "_svgs_.append(rt.xy(color_by=None, color_magnitude='linear',  **params)), _svgs_.append(rt.xy(color_by='n',  color_magnitude='linear',  **params))\n",
    "_svgs_.append(rt.xy(color_by=None, color_magnitude='log',     **params)), _svgs_.append(rt.xy(color_by='n',  color_magnitude='log',     **params))\n",
    "_svgs_.append(rt.xy(color_by=None, color_magnitude='stretch', **params)), _svgs_.append(rt.xy(color_by='n',  color_magnitude='stretch', **params))\n",
    "params['count_by'] = 'n'\n",
    "_svgs_.append(rt.xy(color_by=None, **params)),                            _svgs_.append(rt.xy(color_by='n',  **params))\n",
    "_svgs_.append(rt.xy(color_by=None, color_magnitude='linear',  **params)), _svgs_.append(rt.xy(color_by='n',  color_magnitude='linear',  **params))\n",
    "_svgs_.append(rt.xy(color_by=None, color_magnitude='log',     **params)), _svgs_.append(rt.xy(color_by='n',  color_magnitude='log',     **params))\n",
    "_svgs_.append(rt.xy(color_by=None, color_magnitude='stretch', **params)), _svgs_.append(rt.xy(color_by='n',  color_magnitude='stretch', **params))\n",
    "params['df'] = df2\n",
    "_svgs_.append(rt.xy(color_by=None, **params)),                            _svgs_.append(rt.xy(color_by='n',  **params))\n",
    "_svgs_.append(rt.xy(color_by=None, color_magnitude='linear',  **params)), _svgs_.append(rt.xy(color_by='n',  color_magnitude='linear',  **params))\n",
    "_svgs_.append(rt.xy(color_by=None, color_magnitude='log',     **params)), _svgs_.append(rt.xy(color_by='n',  color_magnitude='log',     **params))\n",
    "_svgs_.append(rt.xy(color_by=None, color_magnitude='stretch', **params)), _svgs_.append(rt.xy(color_by='n',  color_magnitude='stretch', **params))\n",
    "params['count_by'] = 'n'\n",
    "_svgs_.append(rt.xy(color_by=None, **params)),                            _svgs_.append(rt.xy(color_by='n',  **params))\n",
    "_svgs_.append(rt.xy(color_by=None, color_magnitude='linear',  **params)), _svgs_.append(rt.xy(color_by='n',  color_magnitude='linear',  **params))\n",
    "_svgs_.append(rt.xy(color_by=None, color_magnitude='log',     **params)), _svgs_.append(rt.xy(color_by='n',  color_magnitude='log',     **params))\n",
    "_svgs_.append(rt.xy(color_by=None, color_magnitude='stretch', **params)), _svgs_.append(rt.xy(color_by='n',  color_magnitude='stretch', **params))\n",
    "params['dot_size'] = 'vary'\n",
    "_svgs_.append(rt.xy(color_by=None, **params)),                            _svgs_.append(rt.xy(color_by='n',  **params))\n",
    "_svgs_.append(rt.xy(color_by=None, color_magnitude='linear',  **params)), _svgs_.append(rt.xy(color_by='n',  color_magnitude='linear',  **params))\n",
    "_svgs_.append(rt.xy(color_by=None, color_magnitude='log',     **params)), _svgs_.append(rt.xy(color_by='n',  color_magnitude='log',     **params))\n",
    "_svgs_.append(rt.xy(color_by=None, color_magnitude='stretch', **params)), _svgs_.append(rt.xy(color_by='n',  color_magnitude='stretch', **params))\n",
    "rt.table(_svgs_, per_row=16)"
   ]
  },
  {
   "cell_type": "code",
   "execution_count": null,
   "metadata": {},
   "outputs": [],
   "source": [
    "_svgs_ = []\n",
    "params = {'df':pl.DataFrame(df),  'x_field':'x', 'y_field':'y', 'dot_size':'huge', 'count_by':None, 'x_ins':16, 'y_ins':16, 'w':64, 'h':64}\n",
    "_svgs_.append(rt.xy(color_by=None, **params)),                            _svgs_.append(rt.xy(color_by='n',  **params))\n",
    "_svgs_.append(rt.xy(color_by=None, color_magnitude='linear',  **params)), _svgs_.append(rt.xy(color_by='n',  color_magnitude='linear',  **params))\n",
    "_svgs_.append(rt.xy(color_by=None, color_magnitude='log',     **params)), _svgs_.append(rt.xy(color_by='n',  color_magnitude='log',     **params))\n",
    "_svgs_.append(rt.xy(color_by=None, color_magnitude='stretch', **params)), _svgs_.append(rt.xy(color_by='n',  color_magnitude='stretch', **params))\n",
    "params['count_by'] = 'n'\n",
    "_svgs_.append(rt.xy(color_by=None, **params)),                            _svgs_.append(rt.xy(color_by='n',  **params))\n",
    "_svgs_.append(rt.xy(color_by=None, color_magnitude='linear',  **params)), _svgs_.append(rt.xy(color_by='n',  color_magnitude='linear',  **params))\n",
    "_svgs_.append(rt.xy(color_by=None, color_magnitude='log',     **params)), _svgs_.append(rt.xy(color_by='n',  color_magnitude='log',     **params))\n",
    "_svgs_.append(rt.xy(color_by=None, color_magnitude='stretch', **params)), _svgs_.append(rt.xy(color_by='n',  color_magnitude='stretch', **params))\n",
    "params['df'] = pl.DataFrame(df2)\n",
    "_svgs_.append(rt.xy(color_by=None, **params)),                            _svgs_.append(rt.xy(color_by='n',  **params))\n",
    "_svgs_.append(rt.xy(color_by=None, color_magnitude='linear',  **params)), _svgs_.append(rt.xy(color_by='n',  color_magnitude='linear',  **params))\n",
    "_svgs_.append(rt.xy(color_by=None, color_magnitude='log',     **params)), _svgs_.append(rt.xy(color_by='n',  color_magnitude='log',     **params))\n",
    "_svgs_.append(rt.xy(color_by=None, color_magnitude='stretch', **params)), _svgs_.append(rt.xy(color_by='n',  color_magnitude='stretch', **params))\n",
    "params['count_by'] = 'n'\n",
    "_svgs_.append(rt.xy(color_by=None, **params)),                            _svgs_.append(rt.xy(color_by='n',  **params))\n",
    "_svgs_.append(rt.xy(color_by=None, color_magnitude='linear',  **params)), _svgs_.append(rt.xy(color_by='n',  color_magnitude='linear',  **params))\n",
    "_svgs_.append(rt.xy(color_by=None, color_magnitude='log',     **params)), _svgs_.append(rt.xy(color_by='n',  color_magnitude='log',     **params))\n",
    "_svgs_.append(rt.xy(color_by=None, color_magnitude='stretch', **params)), _svgs_.append(rt.xy(color_by='n',  color_magnitude='stretch', **params))\n",
    "params['dot_size'] = 'vary'\n",
    "_svgs_.append(rt.xy(color_by=None, **params)),                            _svgs_.append(rt.xy(color_by='n',  **params))\n",
    "_svgs_.append(rt.xy(color_by=None, color_magnitude='linear',  **params)), _svgs_.append(rt.xy(color_by='n',  color_magnitude='linear',  **params))\n",
    "_svgs_.append(rt.xy(color_by=None, color_magnitude='log',     **params)), _svgs_.append(rt.xy(color_by='n',  color_magnitude='log',     **params))\n",
    "_svgs_.append(rt.xy(color_by=None, color_magnitude='stretch', **params)), _svgs_.append(rt.xy(color_by='n',  color_magnitude='stretch', **params))\n",
    "rt.table(_svgs_, per_row=16)"
   ]
  },
  {
   "cell_type": "code",
   "execution_count": null,
   "metadata": {},
   "outputs": [],
   "source": []
  }
 ],
 "metadata": {
  "kernelspec": {
   "display_name": "Python 3",
   "language": "python",
   "name": "python3"
  },
  "language_info": {
   "codemirror_mode": {
    "name": "ipython",
    "version": 3
   },
   "file_extension": ".py",
   "mimetype": "text/x-python",
   "name": "python",
   "nbconvert_exporter": "python",
   "pygments_lexer": "ipython3",
   "version": "3.11.6"
  },
  "vscode": {
   "interpreter": {
    "hash": "677ca678853aa41fc137f4b55f2bc0c694e45735c0d2faa667d2ec5acb71e67d"
   }
  }
 },
 "nbformat": 4,
 "nbformat_minor": 5
}
