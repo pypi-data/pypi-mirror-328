{
 "cells": [
  {
   "cell_type": "code",
   "execution_count": null,
   "metadata": {},
   "outputs": [],
   "source": [
    "import pandas as pd\n",
    "import polars as pl\n",
    "import numpy as np\n",
    "import random\n",
    "import string\n",
    "import html\n",
    "import rtsvg\n",
    "rt = rtsvg.RACETrack()"
   ]
  },
  {
   "cell_type": "code",
   "execution_count": null,
   "metadata": {},
   "outputs": [],
   "source": [
    "def junk(min_words=8, max_words=16):\n",
    "    def makeWord(min_chars=3, max_chars=8):\n",
    "        return ''.join(random.choices(string.ascii_uppercase + string.digits, k=random.randint(min_chars,max_chars)))\n",
    "    words = []\n",
    "    for i in range(random.randint(min_words, max_words)):\n",
    "        words.append(makeWord())\n",
    "    return ' '.join(words)\n",
    "\n",
    "_text_ = '''\n",
    "--- %< --- %< --- Some symbols!!! --- >% --- >% --- \n",
    "''' + junk() + '''\n",
    "This is a very long text string to imitate text that goes across several lines within the visualization.  It is meant to help with debugging this code.  It is also meant to show that the text will wrap correctly.\n",
    "''' + junk() + '''\\n\\n\\n\n",
    "A little bit here.  Some fluff.  Fluff.  Fluff.   And then a copy of that last line...  This is a very long text string to imitate text that goes across several lines within the visualization.  It is meant to help with debugging this code.  It is also meant to show that the text will wrap correctly.  And more fluff.  Fluff.  Fluff.\n",
    "A little more here for an offset.  Some fluff.  Fluff.  Fluff.   And then a copy of that last line...  This is a very long text string to imitate text that goes across several lines within the visualization.  It is meant to help with debugging this code.  It is also meant to show that the text will wrap correctly.  And more fluff.  Fluff.  Fluff.\n",
    "''' + junk() + '''\n",
    "Some fluff.  Fluff.  Fluff.\n",
    "''' + junk(128,1024) + '''\n",
    "A little bit here.  Some fluff.  Fluff.  Fluff.   And then a copy of that last line...  This is a very long text string to imitate text that goes across several lines within the visualization.  It is meant to help with debugging this code.  It is also meant to show that the text will wrap correctly.  And more fluff.  Fluff.  Fluff.\n",
    "A little more here for an offset.  Some fluff.  Fluff.  Fluff.   And then a copy of that last line...  This is a very long text string to imitate text that goes across several lines within the visualization.  It is meant to help with debugging this code.  It is also meant to show that the text will wrap correctly.  And more fluff.  Fluff.  Fluff.\n",
    "''' + junk(64,128) + '''\n",
    "A little bit here.  Some fluff.  Fluff.  Fluff.   And then a copy of that last line...  This is a very long text string to imitate text that goes across several lines within the visualization.  It is meant to help with debugging this code.  It is also meant to show that the text will wrap correctly.  And more fluff.  Fluff.  Fluff.\n",
    "'''\n",
    "\n",
    "_tb_ = rt.textBlock(_text_, w=300, word_wrap=True)\n",
    "_highlighters_ = {\n",
    "    'a': {'symbol': '#ff0000', \n",
    "          'Some fluff.  Fluff.  Fluff.   And then a copy of that last line...  This is a very long text string to imitate text that goes across several lines within the visualization.  It is meant to help with debugging this code.  It is also meant to show that the text will wrap correctly.  And more fluff.  Fluff.  Fluff.': '#0000ff'},\n",
    "    'b': {'This is a very long text string to imitate text that goes across several lines within the visualization.  It is meant to help with debugging this code.':'#0000ff'},\n",
    "    'c': {'Some fluff.  Fluff.  Fluff.':'#ff0000' , \n",
    "          'It is meant to help with debugging this code.  It is also meant to show that the text will wrap correctly.':'#0000ff'}\n",
    "}\n",
    "_all_ = _highlighters_['a'] | _highlighters_['b'] | _highlighters_['c']\n",
    "#_all_ = _highlighters_['a'] | _highlighters_['b']\n",
    "\n",
    "_svg_lu_ = _tb_.highlightsComparison(_highlighters_, y_merge_threshold=0.0, y_render_gap=2.0, y_keep=2.0)\n",
    "svgs = []\n",
    "for x in _svg_lu_: \n",
    "    svgs.append(_svg_lu_[x])\n",
    "    w, h = rt.__extractSVGWidthAndHeight__(_svg_lu_[x])\n",
    "    svgs.append(rt.spacer(20, h))\n",
    "svgs.append(_tb_.highlights(_all_))\n",
    "rt.tile(svgs)"
   ]
  },
  {
   "cell_type": "code",
   "execution_count": null,
   "metadata": {},
   "outputs": [],
   "source": [
    "_highlighters_ = {\n",
    "    'a': {'A little more here for an offset.':'#ff0000',\n",
    "          'then a copy':                      '#ff0000'},\n",
    "    'b': {'for an offset.  Some fluff.':      '#0000ff',\n",
    "          'then a copy':                      '#0000ff'}\n",
    "}\n",
    "_svg_lu_ = _tb_.highlightsComparison(_highlighters_, y_merge_threshold=0.0, y_render_gap=2.0, y_keep=2.0, opacity=0.4, opacity_all=0.3)\n",
    "svgs = []\n",
    "for x in _svg_lu_: \n",
    "    svgs.append(_svg_lu_[x])\n",
    "    w, h = rt.__extractSVGWidthAndHeight__(_svg_lu_[x])\n",
    "    svgs.append(rt.spacer(20, h))\n",
    "rt.tile(svgs)"
   ]
  },
  {
   "cell_type": "code",
   "execution_count": null,
   "metadata": {},
   "outputs": [],
   "source": [
    "_text_ = '''\n",
    "--- %< --- %< --- Some symbols!!! --- >% --- >% --- \n",
    "''' + junk() + '''\n",
    "This is a very long text string to imitate text that goes across several lines within the visualization.  It is meant to help with debugging this code.  It is also meant to show that the text will wrap correctly.\n",
    "''' + junk() + '''\\n\\n\\n\n",
    "A little bit here.  Some fluff.  Fluff.  Fluff.   And then a copy of that last line...  This is a very long text string to imitate text that goes across several lines within the visualization.  It is meant to help with debugging this code.  It is also meant to show that the text will wrap correctly.  And more fluff.  Fluff.  Fluff.\n",
    "A little more here for an offset.  Some fluff.  Fluff.  Fluff.   And then a copy of that last line...  This is a very long text string to imitate text that goes across several lines within the visualization.  It is meant to help with debugging this code.  It is also meant to show that the text will wrap correctly.  And more fluff.  Fluff.  Fluff.\n",
    "''' + junk() + '''\n",
    "Some fluff.  Fluff.  Fluff.\n",
    "''' + junk(128,1024) + '''\n",
    "A little bit here.  Some fluff.  Fluff.  Fluff.   And then a copy of that last line...  This is a very long text string to imitate text that goes across several lines within the visualization.  It is meant to help with debugging this code.  It is also meant to show that the text will wrap correctly.  And more fluff.  Fluff.  Fluff.\n",
    "A little more here for an offset.  Some fluff.  Fluff.  Fluff.   And then a copy of that last line...  This is a very long text string to imitate text that goes across several lines within the visualization.  It is meant to help with debugging this code.  It is also meant to show that the text will wrap correctly.  And more fluff.  Fluff.  Fluff.\n",
    "''' + junk(64,128) + '''\n",
    "A little bit here.  Some fluff.  Fluff.  Fluff.   And then a copy of that last line...  This is a very long text string to imitate text that goes across several lines within the visualization.  It is meant to help with debugging this code.  It is also meant to show that the text will wrap correctly.  And more fluff.  Fluff.  Fluff.\n",
    "'''\n",
    "_tb_ = rt.textBlock(_text_, w=400, word_wrap=True)\n",
    "#_str_  = 'Some fluff.  Fluff.  Fluff.   And then a copy of that last line...  This is a very long text string to imitate text that goes across several lines within the visualization.  It is meant to help with debugging this code.  It is also meant to show that the text will wrap correctly.  And more fluff.'\n",
    "i = random.randint(60, len(_text_)//2)\n",
    "while _text_[i] != ' ': i += 1\n",
    "j = i+random.randint(128,512)\n",
    "while j < len(_text_) and _text_[j] != ' ': j += 1\n",
    "_str_ = _text_[i+1:j]\n",
    "print(f'\"{_str_}\"')\n",
    "_svgs_ = _tb_.highlightsComparison({'a':{_str_:'#0000ff'}})\n",
    "# _tb_.highlights({_str_: '#0000ff'}), \n",
    "rt.tile([_svgs_['__all__']])"
   ]
  },
  {
   "cell_type": "code",
   "execution_count": null,
   "metadata": {},
   "outputs": [],
   "source": []
  }
 ],
 "metadata": {
  "kernelspec": {
   "display_name": ".venv",
   "language": "python",
   "name": "python3"
  },
  "language_info": {
   "codemirror_mode": {
    "name": "ipython",
    "version": 3
   },
   "file_extension": ".py",
   "mimetype": "text/x-python",
   "name": "python",
   "nbconvert_exporter": "python",
   "pygments_lexer": "ipython3",
   "version": "3.12.3"
  }
 },
 "nbformat": 4,
 "nbformat_minor": 2
}
