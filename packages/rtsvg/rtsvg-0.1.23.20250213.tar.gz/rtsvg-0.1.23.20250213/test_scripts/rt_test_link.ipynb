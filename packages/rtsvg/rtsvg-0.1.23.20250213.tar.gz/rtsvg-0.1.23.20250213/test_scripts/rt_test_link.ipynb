{
 "cells": [
  {
   "cell_type": "code",
   "execution_count": null,
   "metadata": {},
   "outputs": [],
   "source": [
    "import pandas as pd\n",
    "import polars as pl\n",
    "import numpy as np\n",
    "import networkx as nx\n",
    "import sys\n",
    "sys.path.insert(1, '../rtsvg')\n",
    "from rtsvg import *\n",
    "rt = RACETrack()"
   ]
  },
  {
   "cell_type": "code",
   "execution_count": null,
   "metadata": {},
   "outputs": [],
   "source": [
    "df = pl.DataFrame({'fm': ['a','b','c', None, None, None], \n",
    "                   'to': ['b','c','a', None, None, None],\n",
    "                   'src':[None, None, None, 'x', 'y', 'z'],\n",
    "                   'dst':[None, None, None, 'y', 'z', 'x']})\n",
    "pos = {'a':(0,0), 'b':(1,0), 'c':(1,1), 'x':(10,10), 'y':(11,10), 'z':(11,11)}\n",
    "_params_ = {'df':df, 'relationships':[('fm','to'),('src','dst')], 'pos':pos}\n",
    "_link_, _linknode_ = rt.link(**_params_) , rt.linkNode(**_params_)\n",
    "_params_['node_size']='nil'\n",
    "_params_['link_size']='nil'\n",
    "_link_nil_, _linknode_nil_ = rt.link(**_params_) , rt.linkNode(**_params_)\n",
    "_params_['node_size']='small'\n",
    "_params_['link_size']='small'\n",
    "_link_sm_, _linknode_sm_ = rt.link(**_params_) , rt.linkNode(**_params_)\n",
    "_params_['node_size']='medium'\n",
    "_params_['link_size']='medium'\n",
    "_link_med_, _linknode_med_ = rt.link(**_params_) , rt.linkNode(**_params_)\n",
    "_params_['node_size']='large'\n",
    "_params_['link_size']='large'\n",
    "_link_lrg_, _linknode_lrg_ = rt.link(**_params_) , rt.linkNode(**_params_)\n",
    "rt.table([_link_, _linknode_, \n",
    "         _link_nil_, _linknode_nil_,\n",
    "         _link_sm_,  _linknode_sm_,\n",
    "         _link_med_, _linknode_med_,\n",
    "         _link_lrg_, _linknode_lrg_\n",
    "         ], per_row=4)"
   ]
  },
  {
   "cell_type": "code",
   "execution_count": null,
   "metadata": {},
   "outputs": [],
   "source": [
    "df = pl.DataFrame({'fm': ['a','b','c'], \n",
    "                   'to': ['b','c','a']})\n",
    "pos = {'a':(0,3), 'b':(5,3), 'c':(5,1), 'x':(10,10), 'y':(11,10), 'z':(11,11)}\n",
    "_link2_     = rt.link    (df, [('fm','to')], pos)\n",
    "_link2node_ = rt.linkNode(df, [('fm','to')], pos)\n",
    "rt.tile([_link2_, _link2node_])"
   ]
  },
  {
   "cell_type": "code",
   "execution_count": null,
   "metadata": {},
   "outputs": [],
   "source": [
    "df = pl.DataFrame({'fm': ['a','b','c'], \n",
    "                   'to': ['b','c','a']})\n",
    "pos = {'a':(0,3), 'b':(5,3), 'c':(5,1)}\n",
    "_link3_     = rt.link    (df, [('fm','to')], pos)\n",
    "_link3node_ = rt.linkNode(df, [('fm','to')], pos)\n",
    "rt.tile([_link3_, _link3node_])"
   ]
  },
  {
   "cell_type": "code",
   "execution_count": null,
   "metadata": {},
   "outputs": [],
   "source": [
    "df = pl.DataFrame({'fm': 'a b c a b a b a b a b'.split(), \n",
    "                   'to': 'b c a b a b a b a b a'.split()})\n",
    "pos = {'a':(0,3), 'b':(5,3), 'c':(5,1)}\n",
    "_params4_  = {'df':df, 'relationships':[('fm','to')], 'pos':pos, 'node_size':'vary'}\n",
    "_link4_     = rt.link    (**_params4_)\n",
    "_link4node_ = rt.linkNode(**_params4_)\n",
    "rt.tile([_link4_, _link4node_])"
   ]
  },
  {
   "cell_type": "code",
   "execution_count": null,
   "metadata": {},
   "outputs": [],
   "source": [
    "df          = pl.DataFrame({'a':[1, 2, 3, 1, 1, 1, 1, 1, 1], \n",
    "                            'b':[2, 3, 1, 2, 2, 2, 2, 2, 2]})\n",
    "my_labels   = {2:'Something',3:'More'}\n",
    "_pos_                   = {1:(0,0), 2:(1,0), 3:(1,1)}\n",
    "_params5_               = {'df':df, 'relationships':[('a','b')], 'pos':_pos_, 'bounds_percent':0.2, 'draw_labels':True}\n",
    "_link5_                 = rt.link(**_params5_)\n",
    "_linknode5_             = rt.linkNode(**_params5_)\n",
    "_pos_                   = {1:(0,0), 2:(1,0), 3:(1,1)} # reset pos each time because the linknode adds string versions... which breaks link...\n",
    "_params5_['label_only'] = set([1,2])\n",
    "_params5_['pos']        = _pos_\n",
    "_link5a_                = rt.link(**_params5_)\n",
    "_params5_['label_only'] = set([1,2,\"1\",\"2\"])\n",
    "_linknode5a_            = rt.linkNode(**_params5_)\n",
    "rt.tile([_link5_, _linknode5_, _link5a_, _linknode5a_])"
   ]
  },
  {
   "cell_type": "code",
   "execution_count": null,
   "metadata": {},
   "outputs": [],
   "source": [
    "\n",
    "df = pl.DataFrame({'fm':'a b d b a f'.split(),\n",
    "                   'to':'b c b e f c'.split()})\n",
    "pos = {'a':(0,0), 'd':(0,0), 'b':(1,-1), 'c':(2,0), 'e':(2,0), 'f':(1,1)}\n",
    "_params6_ = {'df':df, 'relationships':[('fm','to')], 'draw_labels':True, 'bounds_percent':0.2, 'link_size':'vary', 'pos':pos}\n",
    "_svgs_ = []\n",
    "_svgs_.append(rt.linkNode(**_params6_)), _svgs_.append(rt.link(**_params6_))\n",
    "_params6_['node_size'] = 'nil'\n",
    "_svgs_.append(rt.linkNode(**_params6_)), _svgs_.append(rt.link(**_params6_))\n",
    "_params6_['node_size'] = 'small'\n",
    "_svgs_.append(rt.linkNode(**_params6_)), _svgs_.append(rt.link(**_params6_))\n",
    "_params6_['node_size'] = 'large'\n",
    "_svgs_.append(rt.linkNode(**_params6_)), _svgs_.append(rt.link(**_params6_))\n",
    "rt.table(_svgs_, per_row=4)"
   ]
  },
  {
   "cell_type": "code",
   "execution_count": null,
   "metadata": {},
   "outputs": [],
   "source": [
    "import random\n",
    "import time\n",
    "\n",
    "_fms_, _tos_ = [], []\n",
    "for i in range(1_000_000):\n",
    "    _fms_.append(random.randint(1,10_000))\n",
    "    _tos_.append(random.randint(1,10_000))\n",
    "df = pl.DataFrame({'fm':_fms_, 'to':_tos_})\n",
    "pos = {}\n",
    "for x in set(df['fm'])|set(df['to']): pos[x] = (random.random(), random.random())\n",
    "parms = {'df':df, 'relationships':[('fm','to')], 'pos':pos, 'node_size':'vary', 'link_size':'vary', 'draw_labels':True}\n",
    "t0 = time.time()\n",
    "_link_perf_ = rt.link    (**parms)\n",
    "_link_perf_._repr_svg_()\n",
    "t1 = time.time()\n",
    "_linknode_perf_ = rt.linkNode(**parms)\n",
    "_linknode_perf_._repr_svg_()\n",
    "t2 = time.time()\n",
    "\n",
    "#\n",
    "# link    |  linkNode    | date             | rows    | cpu/mem      | nodes | comments\n",
    "# 2.7s    |  60.7s       | 2024-06-10 21:30 | 1M      | M1 Pro / 16g |       |\n",
    "# 2.0s    |  23.6s       | 2024-06-11 19:33 | 1M      | 7900x  / 96g |       |\n",
    "# 0.3s    |   2.7s       | 2024-06-11 19:35 | 100K    | 7900x  / 96g |       |\n",
    "# 1.9s    |  23.6s       | 2024-06-11 20:19 | 1M      | 7900x  / 96g |       | node groupby implemented\n",
    "# 0.4s    |   5.5s       | 2024-06-12 08:30 | 100K    | M1 Pro / 16g | 20K   | (baseline for today)\n",
    "# 0.4s    |   5.5s       | 2024-06-12 08:35 | 100K    | M1 Pro / 16g | 20K   | basic node sizes done\n",
    "# 0.4s    |   6.1s       | 2024-06-12 08:50 | 100K    | M1 Pro / 16g | 20K   | vary node size parameter\n",
    "# 0.7s    |  10.2s       | 2024-06-12 08:55 | 200K    | M1 Pro / 16g | 20K   | <same ... double the rows>\n",
    "# 0.4s    |   6.5s       | 2024-06-12 18:50 | 100K    | M1 Pro / 16g | 20K   | draw_labels=True\n",
    "# 0.4s    |   6.3s       | 2024-06-12 22:20 | 100K    | M1 Pro / 16g | 20K   | base link sizes done\n",
    "# 0.4s    |   6.7s, 6.2s | 2024-06-12 22:30 | 100K    | M1 Pro / 16g | 20K   | vary link sizes parameter\n",
    "# 0.7s    |  10.6s       | 2024-06-12 22:30 | 200K    | M1 Pro / 16g | 20K   | <same ... double the rows>\n",
    "# 0.6s    |   9.6s       | 2024-06-13 18:35 | 200K    | M1 Pro / 16g | 20K   | labels collapse with the number of nodes\n",
    "# 0.7s    |  10.5s       | 2024-06-14 21:30 | 200K    | M1 Pro / 16g | 20K   | added drop nulls to the node concat phase\n",
    "# 0.7s    |  11.2s       | 2024-06-14 21:35 | 200K    | M1 Pro / 16g | 20K   | <repeat of the last test>\n",
    "# 0.4s    |   6.2s       | 2024-06-14 21:40 | 100K    | M1 Pro / 16g | 20K   | <repeat w/ 100K rows>\n",
    "# 0.3s    |   3.0s       | 2024-06-15 17:20 | 100K    | 7900x  / 96g | 20K   | rebaseline on higher perf\n",
    "# 0.5s    |   5.3s       | 2024-06-15 17:20 | 200K    | 7900x  / 96b | 20K   | rebaseline on higher perf\n",
    "# 1.8s    |  23.9s       | 2024-06-29 20:00 | 1M      | 7900x  / 96g | 20K   |\n",
    "# 0.6s    |   5.3s       | 2024-07-05 14:50 | 200K    | 7900x  / 96g | 20K   | after creating the shadow pos for fixing type issues in pl.replace\n",
    "# 1.8s    |  24.4s       | 2024-08-03 15:00 | 1M      | 7900x  / 96g | 20K   | after node/link color implemented in link (but not in these render params)\n",
    "# 3.1s    |  47.0s       | 2024-08-13 22:30 | 1M      | M1 Pro / 16g | 20K   | rebaseline on m1 ... can't tell much since last test w/ these params was unclear\n",
    "#\n",
    "print(f'link = {t1-t0:0.1f} seconds | linkNode = {t2-t1:0.1f} seconds | nodes = {len(pos)}')"
   ]
  },
  {
   "cell_type": "code",
   "execution_count": null,
   "metadata": {},
   "outputs": [],
   "source": [
    "df = pl.DataFrame({'src':'a b c a b c d'.split(),\n",
    "                   'dst':'b c d b d c e'.split(),\n",
    "                   'cts':[1,9,1,2,4,9,1]})\n",
    "pos       = {'a':(0.0,0.0), 'b':(1.0,0.0), 'c':(1.0,1.0), 'd':(0.0,1.0), 'e':(0.0,0.3)}\n",
    "_params7_ = {'df':df, 'relationships':[('src','dst')], 'pos':pos, \n",
    "             'count_by':'cts', 'draw_labels':True, 'bounds_percent':0.2,\n",
    "             'link_size':'vary', 'link_size_min':1, 'link_size_max':8}\n",
    "_linknode7_  = rt.linkNode(**_params7_)\n",
    "_link7_      = rt.link(**_params7_)\n",
    "_params7_['count_by_set'] = True\n",
    "_linknode7a_ = rt.linkNode(**_params7_)\n",
    "_link7a_     = rt.link(**_params7_)\n",
    "rt.tile([_linknode7_, _link7_, _linknode7a_, _link7a_])"
   ]
  },
  {
   "cell_type": "code",
   "execution_count": null,
   "metadata": {},
   "outputs": [],
   "source": [
    "df = pl.DataFrame({'src':'a a a b b b b'.split(),\n",
    "                   'dst':'b b b c c c c'.split(),\n",
    "                   'cts':[1,2,3,4,4,4,4]})\n",
    "pos       = {'a':(0.0,0.0), 'b':(1.0,0.0), 'c':(1.0,1.0)}\n",
    "_params8_ = {'df':df, 'relationships':[('src','dst')], 'pos':pos, \n",
    "             'count_by':'cts', 'count_by_set':True, 'draw_labels':True, 'bounds_percent':0.2,\n",
    "             'link_size':'vary', 'link_size_min':1, 'link_size_max':8,\n",
    "             'node_size':'vary'}\n",
    "_linknode8_  = rt.linkNode(**_params8_)\n",
    "_link8_      = rt.link(**_params8_)\n",
    "_params8_['link_opacity'] = 0.1\n",
    "_linknode8b_  = rt.linkNode(**_params8_)\n",
    "_link8b_      = rt.link(**_params8_)\n",
    "rt.tile([_linknode8_, _link8_, _linknode8b_, _link8b_])"
   ]
  },
  {
   "cell_type": "code",
   "execution_count": null,
   "metadata": {},
   "outputs": [],
   "source": [
    "df = pl.DataFrame({'fm':['abc','<d>'], 'to':['def','<<<x>>>']})\n",
    "pos = {'abc':(0,0), 'def':(1,0), '<d>':(0,1), '<<<x>>>':(1,1)}\n",
    "_node_labels_ = {'abc':'<>XYZ<>'}\n",
    "_params9_ = {'df':df, 'relationships':[('fm','to')], 'pos':pos, 'draw_labels':True, 'node_labels':_node_labels_, 'bounds_percent':0.2}\n",
    "_linknode9_  = rt.linkNode(**_params9_)\n",
    "_link9_      = rt.link(**_params9_)\n",
    "rt.tile([_linknode9_, _link9_])"
   ]
  },
  {
   "cell_type": "code",
   "execution_count": null,
   "metadata": {},
   "outputs": [],
   "source": [
    "df = pl.DataFrame({'src':'a b c'.split(),\n",
    "                   'dst':'b c d'.split(),\n",
    "                   'cts':[1,2,3]})\n",
    "pos        = {'a':(0.0,0.0), 'b':(1.0,0.0), 'c':(1.0,1.0), 'd':(0.0,1.0)}\n",
    "_params10_ = {'df':df, 'relationships':[('src','dst')], 'pos':pos, \n",
    "              'count_by':'cts', 'draw_labels':True, 'bounds_percent':0.2,\n",
    "              'link_size':'vary', 'link_size_min':1, 'link_size_max':8}\n",
    "_linknode10_  = rt.linkNode(**_params10_)\n",
    "_link10_      = rt.link(**_params10_)\n",
    "rt.tile([_linknode10_, _link10_])"
   ]
  },
  {
   "cell_type": "code",
   "execution_count": null,
   "metadata": {},
   "outputs": [],
   "source": [
    "#\n",
    "# Tests to see if link will default to LinkNode if given a pandas dataframe\n",
    "#\n",
    "df = pd.DataFrame({'src':'a b c'.split(),\n",
    "                   'dst':'b c d'.split(),\n",
    "                   'cts':[1,2,3]})\n",
    "pos        = {'a':(0.0,0.0), 'b':(1.0,0.0), 'c':(1.0,1.0), 'd':(0.0,1.0)}\n",
    "_params10_ = {'df':df, 'relationships':[('src','dst')], 'pos':pos, \n",
    "              'count_by':'cts', 'draw_labels':True, 'bounds_percent':0.2,\n",
    "              'link_size':'vary', 'link_size_min':1, 'link_size_max':8}\n",
    "_linknode10_  = rt.linkNode(**_params10_)\n",
    "_link10_      = rt.link(**_params10_)\n",
    "rt.tile([_linknode10_, _link10_])"
   ]
  },
  {
   "cell_type": "code",
   "execution_count": null,
   "metadata": {},
   "outputs": [],
   "source": []
  }
 ],
 "metadata": {
  "kernelspec": {
   "display_name": ".venv",
   "language": "python",
   "name": "python3"
  },
  "language_info": {
   "codemirror_mode": {
    "name": "ipython",
    "version": 3
   },
   "file_extension": ".py",
   "mimetype": "text/x-python",
   "name": "python",
   "nbconvert_exporter": "python",
   "pygments_lexer": "ipython3",
   "version": "3.12.3"
  }
 },
 "nbformat": 4,
 "nbformat_minor": 2
}
