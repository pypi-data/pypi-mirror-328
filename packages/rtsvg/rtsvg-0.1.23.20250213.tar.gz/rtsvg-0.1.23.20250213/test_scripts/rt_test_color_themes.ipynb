{
 "cells": [
  {
   "cell_type": "code",
   "execution_count": null,
   "metadata": {},
   "outputs": [],
   "source": [
    "import pandas as pd\n",
    "import numpy as np\n",
    "import networkx as nx\n",
    "\n",
    "import sys\n",
    "sys.path.insert(1, '../rtsvg')\n",
    "\n",
    "from rtsvg import *\n",
    "from rt_color_manager import RTColorManagerDarkTheme\n",
    "\n",
    "%matplotlib inline"
   ]
  },
  {
   "cell_type": "code",
   "execution_count": null,
   "metadata": {},
   "outputs": [],
   "source": [
    "rt = RACETrack()\n",
    "\n",
    "my_w = 1024\n",
    "svg =  f'<svg width=\"{my_w}\" height=\"32\">'\n",
    "for x in range(0,my_w):\n",
    "    hc = rt.co_mgr.spectrum(x/(my_w-1), 0.0, 1.0, True)\n",
    "    svg += f'<rect x=\"{x}\" y=\"0\" width=\"1\" height=\"32\" fill=\"{hc}\" stroke=\"{hc}\" />'\n",
    "svg += '</svg>'\n",
    "rt.displaySVGAsImage(svg)"
   ]
  },
  {
   "cell_type": "code",
   "execution_count": null,
   "metadata": {},
   "outputs": [],
   "source": [
    "my_w = 1024\n",
    "svg =  f'<svg width=\"{my_w}\" height=\"32\">'\n",
    "for x in range(0,my_w):\n",
    "    hc = rt.co_mgr.spectrum(x/(my_w-1), 0.0, 1.0, False)\n",
    "    svg += f'<rect x=\"{x}\" y=\"0\" width=\"1\" height=\"32\" fill=\"{hc}\" stroke=\"{hc}\" />'\n",
    "svg += '</svg>'\n",
    "rt.displaySVGAsImage(svg)"
   ]
  },
  {
   "cell_type": "code",
   "execution_count": null,
   "metadata": {},
   "outputs": [],
   "source": [
    "rt.co_mgr = RTColorManagerDarkTheme(rt)\n",
    "\n",
    "my_w = 1024\n",
    "svg =  f'<svg width=\"{my_w}\" height=\"32\">'\n",
    "for x in range(0,my_w):\n",
    "    hc = rt.co_mgr.spectrum(x/(my_w-1), 0.0, 1.0, True)\n",
    "    svg += f'<rect x=\"{x}\" y=\"0\" width=\"1\" height=\"32\" fill=\"{hc}\" stroke=\"{hc}\" />'\n",
    "svg += '</svg>'\n",
    "rt.displaySVGAsImage(svg)"
   ]
  },
  {
   "cell_type": "code",
   "execution_count": null,
   "metadata": {},
   "outputs": [],
   "source": [
    "my_w = 1024\n",
    "svg =  f'<svg width=\"{my_w}\" height=\"32\">'\n",
    "for x in range(0,my_w):\n",
    "    hc = rt.co_mgr.spectrum(x/(my_w-1), 0.0, 1.0, False)\n",
    "    svg += f'<rect x=\"{x}\" y=\"0\" width=\"1\" height=\"32\" fill=\"{hc}\" stroke=\"{hc}\" />'\n",
    "svg += '</svg>'\n",
    "rt.displaySVGAsImage(svg)"
   ]
  },
  {
   "cell_type": "code",
   "execution_count": null,
   "metadata": {},
   "outputs": [],
   "source": [
    "df = pd.DataFrame({'food':    ['yogurt','apple','banana','almonds','grapefruit'],\n",
    "                   'calories':[     110,     90,     100,      220,          70]})\n",
    "rt.histogram(df,bin_by='food',count_by='calories',color_by='food',w=512,h=128)"
   ]
  },
  {
   "cell_type": "code",
   "execution_count": null,
   "metadata": {},
   "outputs": [],
   "source": [
    "rt.xy(df,x_field='food',y_field='calories',w=512)"
   ]
  },
  {
   "cell_type": "code",
   "execution_count": null,
   "metadata": {},
   "outputs": [],
   "source": []
  }
 ],
 "metadata": {
  "kernelspec": {
   "display_name": "Python 3",
   "language": "python",
   "name": "python3"
  },
  "language_info": {
   "codemirror_mode": {
    "name": "ipython",
    "version": 3
   },
   "file_extension": ".py",
   "mimetype": "text/x-python",
   "name": "python",
   "nbconvert_exporter": "python",
   "pygments_lexer": "ipython3",
   "version": "3.11.6"
  },
  "orig_nbformat": 4,
  "vscode": {
   "interpreter": {
    "hash": "677ca678853aa41fc137f4b55f2bc0c694e45735c0d2faa667d2ec5acb71e67d"
   }
  }
 },
 "nbformat": 4,
 "nbformat_minor": 2
}
