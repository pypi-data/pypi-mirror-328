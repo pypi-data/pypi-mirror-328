{
 "cells": [
  {
   "cell_type": "code",
   "execution_count": null,
   "metadata": {},
   "outputs": [],
   "source": [
    "import pandas as pd\n",
    "import polars as pl\n",
    "import numpy as np\n",
    "from math import pi, sin, cos\n",
    "import sys\n",
    "sys.path.insert(1, '../rtsvg')\n",
    "from rtsvg import *\n",
    "rt = RACETrack()\n",
    "df     = pd.DataFrame({'fm':['cat', 'dog', 'cow',   'horse', 'horse', 'horse'], \n",
    "                       'to':['dog', 'cow', 'horse', 'cat',   'cow',   'cat']})\n",
    "params = {'df':df, 'relationships':[('fm','to')], 'draw_labels':True, 'node_h':32,\n",
    "          'x_ins':32, 'y_ins':32, 'w':512, 'h':512, 'txt_h':16}\n",
    "cd    = rt.chordDiagram(**params)\n",
    "_svg_ = cd._repr_svg_()\n",
    "rt.tile([_svg_])"
   ]
  },
  {
   "cell_type": "code",
   "execution_count": null,
   "metadata": {},
   "outputs": [],
   "source": [
    "svg_overlay = []\n",
    "def posInfo(_pos_, _color_='#000000'):\n",
    "    x,y       = _pos_[0].xy()\n",
    "    svg_overlay.append(f'<circle cx=\"{x}\" cy=\"{y}\" r=\"8\" fill=\"{_color_}\" />')\n",
    "    for i in range(len(_pos_[0].attachmentPointVecs())):\n",
    "        x,y,xv,yv = _pos_[0].attachmentPointVecs()[i]\n",
    "        svg_overlay.append(f'<line x1=\"{x}\" y1=\"{y}\" x2=\"{x+50*xv}\" y2=\"{y+50*yv}\" stroke=\"{_color_}\" />')\n",
    "    svg_markup = _pos_[0].svg()\n",
    "    svg_overlay.append(svg_markup[:5]+f' fill=\"none\" stroke=\"{_color_}\" '+svg_markup[5:])\n",
    "\n",
    "svg_overlay.append(f'<svg x=\"0\" y=\"0\" width=\"512\" height=\"512\">')\n",
    "svg_overlay.append(_svg_)\n",
    "svg_overlay.append('<rect x=\"0\" y=\"0\" width=\"512\" height=\"512\" fill=\"#ffffff\" opacity=\"0.8\"/>')\n",
    "posInfo(cd.entityPositions('horse'), '#0000ff')\n",
    "posInfo(cd.entityPositions('cat'),   '#ff0000')\n",
    "svg_overlay.append('</svg>')\n",
    "rt.tile([''.join(svg_overlay)])"
   ]
  },
  {
   "cell_type": "code",
   "execution_count": null,
   "metadata": {},
   "outputs": [],
   "source": []
  }
 ],
 "metadata": {
  "kernelspec": {
   "display_name": ".venv",
   "language": "python",
   "name": "python3"
  },
  "language_info": {
   "codemirror_mode": {
    "name": "ipython",
    "version": 3
   },
   "file_extension": ".py",
   "mimetype": "text/x-python",
   "name": "python",
   "nbconvert_exporter": "python",
   "pygments_lexer": "ipython3",
   "version": "3.11.6"
  }
 },
 "nbformat": 4,
 "nbformat_minor": 2
}
