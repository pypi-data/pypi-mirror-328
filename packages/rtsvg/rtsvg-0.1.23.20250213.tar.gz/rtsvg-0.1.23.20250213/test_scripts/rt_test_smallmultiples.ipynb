{
 "cells": [
  {
   "cell_type": "code",
   "execution_count": null,
   "id": "5becd1c4-1970-499c-adcc-3deb8a2fb655",
   "metadata": {},
   "outputs": [],
   "source": [
    "import pandas as pd\n",
    "import networkx as nx\n",
    "import sys\n",
    "sys.path.insert(1, '../rtsvg')\n",
    "from rtsvg import *\n",
    "rt = RACETrack()"
   ]
  },
  {
   "cell_type": "code",
   "execution_count": null,
   "id": "970ac85d",
   "metadata": {},
   "outputs": [],
   "source": [
    "df = pd.DataFrame({'x':['a','b','c','d','a','b', 'e',                   'fairly_long_string'],\n",
    "                   'y':['1','2','3','4','2','4', 'another_long_string', '2'],\n",
    "                   'n':[12, 15, 30, 40, 4,  100, 20,                    30]})\n",
    "rt.displaySVG(rt.smallMultiples(df=df,category_by=['x','y'],sm_type='histogram',\n",
    "                                sm_params={'bin_by':'x'},count_by='n',\n",
    "                                color_by='x', sort_by='field', sort_by_field='n',\n",
    "                                faded_sm_set=set(['d|4', 'b|2']),\n",
    "                                w=384,h=384,draw_labels=True))"
   ]
  },
  {
   "cell_type": "code",
   "execution_count": null,
   "id": "89bfa424",
   "metadata": {},
   "outputs": [],
   "source": [
    "rt.displaySVG(rt.smallMultiples(df=df,category_by=['x','y'],sm_type='histogram',\n",
    "                                sm_params={'bin_by':'x'},count_by='n',\n",
    "                                color_by='x', sort_by='field', sort_by_field='n',\n",
    "                                grid_view=True, # shrink_wrap_rows=True,\n",
    "                                faded_sm_set=set(['d|4', 'b|2']),\n",
    "                                w=384,h=384,draw_labels=True))"
   ]
  },
  {
   "cell_type": "code",
   "execution_count": null,
   "id": "202d692c-e8ec-4f96-bc6b-a1ef9a77a3b0",
   "metadata": {},
   "outputs": [],
   "source": [
    "rt.displaySVG(rt.smallMultiples(df=df,category_by=['x','y'],sm_type='histogram',\n",
    "                                sm_params={'bin_by':'x'},count_by='n',\n",
    "                                color_by='x', sort_by='field', sort_by_field='x',\n",
    "                                grid_view=True, # shrink_wrap_rows=True,\n",
    "                                w=384,h=384,draw_labels=True))"
   ]
  },
  {
   "cell_type": "code",
   "execution_count": null,
   "id": "22a809fc",
   "metadata": {},
   "outputs": [],
   "source": [
    "rt.displaySVG(rt.smallMultiples(df=df,category_by=['x','y'],sm_type='histogram',\n",
    "                                sm_params={'bin_by':'x'},count_by='n',\n",
    "                                color_by='x', sort_by='alpha',\n",
    "                                grid_view=True, # shrink_wrap_rows=True,\n",
    "                                w=384,h=384,draw_labels=True))"
   ]
  },
  {
   "cell_type": "code",
   "execution_count": null,
   "id": "37699ce2",
   "metadata": {},
   "outputs": [],
   "source": [
    "rt.displaySVG(rt.smallMultiples(df=df,category_by=['x','y'],sm_type='histogram',\n",
    "                                sm_params={'bin_by':'x'},count_by='n',\n",
    "                                color_by='x', sort_by='records',\n",
    "                                grid_view=True, # shrink_wrap_rows=True,\n",
    "                                w=384,h=384,draw_labels=True))"
   ]
  },
  {
   "cell_type": "code",
   "execution_count": null,
   "id": "83fdb255",
   "metadata": {},
   "outputs": [],
   "source": [
    "rt.displaySVG(rt.smallMultiples(df=df,category_by=['x','y'],sm_type='histogram',\n",
    "                                sm_params={'bin_by':'x'},count_by='y',\n",
    "                                color_by='x', sort_by='field', sort_by_field='y',\n",
    "                                grid_view=True, # shrink_wrap_rows=True,\n",
    "                                w=384,h=384,draw_labels=True))"
   ]
  },
  {
   "cell_type": "code",
   "execution_count": null,
   "id": "388d9aca",
   "metadata": {},
   "outputs": [],
   "source": [
    "rt.displaySVG(rt.smallMultiples(df=df,category_by=['x','n'],sm_type='histogram',\n",
    "                                sm_params={'bin_by':'x'},count_by='n',\n",
    "                                color_by='x', sort_by='field', sort_by_field='n',\n",
    "                                grid_view=True, # shrink_wrap_rows=True,\n",
    "                                w=384,h=384,draw_labels=True))"
   ]
  },
  {
   "cell_type": "code",
   "execution_count": null,
   "id": "bb8f1f61",
   "metadata": {},
   "outputs": [],
   "source": [
    "df = pd.read_csv('../../netflow_sample.csv')\n",
    "df['timestamp'] = df['beg'].astype('datetime64[ms]')\n",
    "df = df.drop(['beg','end'],axis=1)\n",
    "df = df.sample(10000)\n",
    "print(df.shape)\n",
    "df.sample(3)"
   ]
  },
  {
   "cell_type": "code",
   "execution_count": null,
   "id": "97c1b695",
   "metadata": {},
   "outputs": [],
   "source": [
    "nf_df      = df\n",
    "nf_relates = [('sip','dip')]\n",
    "\n",
    "linknode_params = {'relationships':nf_relates, \n",
    "                   'pos':nx.spring_layout(rt.createNetworkXGraph(nf_df,nf_relates)), \n",
    "                   'node_size':None, \n",
    "                   'link_size':'small', \n",
    "                   'link_color':'vary', \n",
    "                   'link_opacity':'0.4'}\n",
    "\n",
    "rt.displaySVG(rt.smallMultiples(df=nf_df,category_by='sip',sm_type='linkNode',\n",
    "                                sm_params=linknode_params,\n",
    "                                color_by='dpt',sort_by='field',sort_by_field='dip',\n",
    "                                max_categories=10,\n",
    "                                w=512,h=512,draw_labels=True))"
   ]
  },
  {
   "cell_type": "code",
   "execution_count": null,
   "id": "4bae2ff5-2f06-4931-b39a-f4373043e4f7",
   "metadata": {},
   "outputs": [],
   "source": [
    "rt.displaySVG(rt.smallMultiples(df=df,category_by='sip',sm_type='xy',\n",
    "                                sm_params={'x_field':'timestamp','y_field':'dip','draw_labels':True,'dot_size':'small'},\n",
    "                                color_by='dip',sort_by='field',sort_by_field='dip',max_categories=10,\n",
    "                                x_axis_independent=False,y_axis_independent=False,\n",
    "                                w=1600,h=800,draw_labels=False))"
   ]
  },
  {
   "cell_type": "code",
   "execution_count": null,
   "id": "9f83ba8a-d6dc-4273-9d26-5ddd2f5ac44f",
   "metadata": {},
   "outputs": [],
   "source": [
    "rt.displaySVG(rt.smallMultiples(df=df,category_by='dip',sm_type='temporalBarChart',\n",
    "                                count_by='SBYT',color_by='sip',x_axis_independent=False,\n",
    "                                max_categories=10,sort_by='records',sort_by_field=None,w=768,h=512,draw_labels=True))"
   ]
  },
  {
   "cell_type": "code",
   "execution_count": null,
   "id": "4d5af0a0-5484-4966-b98c-8ba807ea00bb",
   "metadata": {},
   "outputs": [],
   "source": [
    "rt.displaySVG(rt.smallMultiples(df=df,category_by='sip',sm_type='histogram',\n",
    "                                sm_params={'bin_by':'dip','draw_labels':True},\n",
    "                                color_by='spt',count_by='SBYT',\n",
    "                                max_categories=20,sort_by='records',sort_by_field=None,w=1280,h=512,draw_labels=True))"
   ]
  },
  {
   "cell_type": "code",
   "execution_count": null,
   "id": "4ae4e61f-ffca-4cd7-bc85-8fd47ca19394",
   "metadata": {},
   "outputs": [],
   "source": [
    "rt.displaySVG(rt.smallMultiples(df=df,category_by='dip',sm_type='periodicBarChart',sm_params={'draw_labels':False,'time_period':'hour'},\n",
    "                                count_by='SBYT',color_by='sip',y_axis_independent=False,\n",
    "                                max_categories=11,sort_by='records',sort_by_field=None,w=1024,h=512,draw_labels=True))"
   ]
  },
  {
   "cell_type": "code",
   "execution_count": null,
   "id": "8812ca56",
   "metadata": {},
   "outputs": [],
   "source": [
    "rt.displaySVG(rt.smallMultiples(df=df,category_by='dip',sm_type='periodicBarChart',sm_params={'draw_labels':False,'time_period':'hour'},\n",
    "                                count_by='SBYT',color_by='sip',y_axis_independent=True,\n",
    "                                max_categories=11,sort_by='records',sort_by_field=None,w=1024,h=512,draw_labels=True))"
   ]
  },
  {
   "cell_type": "code",
   "execution_count": null,
   "id": "acf6deee",
   "metadata": {},
   "outputs": [],
   "source": [
    "rt.displaySVG(rt.smallMultiples(df=df,category_by='dip',sm_type='periodicBarChart',sm_params={'draw_labels':False,'time_period':'hour', 'style':'boxplot'},\n",
    "                                count_by='SBYT',color_by='sip',y_axis_independent=False,\n",
    "                                max_categories=11,sort_by='records',sort_by_field=None,w=1024,h=512,draw_labels=True))"
   ]
  },
  {
   "cell_type": "code",
   "execution_count": null,
   "id": "0fc3d38f",
   "metadata": {},
   "outputs": [],
   "source": [
    "rt.displaySVG(rt.smallMultiples(df=df,category_by='dip',sm_type='periodicBarChart',sm_params={'draw_labels':False,'time_period':'hour', 'style':'boxplot'},\n",
    "                                count_by='SBYT',color_by='sip',y_axis_independent=True,\n",
    "                                max_categories=11,sort_by='records',sort_by_field=None,w=1024,h=512,draw_labels=True))"
   ]
  },
  {
   "cell_type": "code",
   "execution_count": null,
   "id": "c0df57b2",
   "metadata": {},
   "outputs": [],
   "source": [
    "sort_by = ['192.168.1.7', '192.168.1.1', '71.254.205.167']\n",
    "rt.displaySVG(rt.smallMultiples(df=df,category_by='dip',sm_type='periodicBarChart',sm_params={'draw_labels':False,'time_period':'hour', 'style':'boxplot'},\n",
    "                                count_by='SBYT',color_by='sip',y_axis_independent=True,\n",
    "                                max_categories=11,sort_by=sort_by,w=1024,h=512,draw_labels=True))"
   ]
  },
  {
   "cell_type": "code",
   "execution_count": null,
   "id": "48aa5cbe",
   "metadata": {},
   "outputs": [],
   "source": [
    "sort_by = [('208.67.19.117',53), ('122.1.254.10',80), ('208.48.108.85',80)]\n",
    "rt.displaySVG(rt.smallMultiples(df=df, category_by=['dip','dpt'], max_categories=10, show_df_multiple=False,\n",
    "                                sm_type='pieChart', sm_params={'style':'waffle'},\n",
    "                                sort_by=sort_by, \n",
    "                                color_by='sip', w=394, h=128))"
   ]
  },
  {
   "cell_type": "code",
   "execution_count": null,
   "id": "a667fdce",
   "metadata": {},
   "outputs": [],
   "source": [
    "rt.displaySVG(rt.smallMultiples(df=df, category_by=['dip','dpt'], max_categories=8, show_df_multiple=False, grid_view=True,\n",
    "                                sm_type='pieChart', sm_params={'style':'waffle'},\n",
    "                                sort_by=sort_by, color_by='sip', w=400, h=600))"
   ]
  },
  {
   "cell_type": "code",
   "execution_count": null,
   "id": "e0b91abf",
   "metadata": {},
   "outputs": [],
   "source": [
    "rt.displaySVG(rt.smallMultiples(df=df, category_by=['dip','dpt'], max_categories=36, show_df_multiple=True,\n",
    "                                sm_type='pieChart', sm_params={'style':'waffle'},\n",
    "                                sort_by='similarity', color_by='sip', w=768, h=768))"
   ]
  },
  {
   "cell_type": "code",
   "execution_count": null,
   "id": "8464615c",
   "metadata": {},
   "outputs": [],
   "source": [
    "rt.__extractSVGXAndY__('<svg x=\"10.0\" y=\"20.0\" width=\"5\" height=\"5\"> </svg>')"
   ]
  },
  {
   "cell_type": "code",
   "execution_count": null,
   "id": "5d3690db",
   "metadata": {},
   "outputs": [],
   "source": []
  }
 ],
 "metadata": {
  "kernelspec": {
   "display_name": "Python 3",
   "language": "python",
   "name": "python3"
  },
  "language_info": {
   "codemirror_mode": {
    "name": "ipython",
    "version": 3
   },
   "file_extension": ".py",
   "mimetype": "text/x-python",
   "name": "python",
   "nbconvert_exporter": "python",
   "pygments_lexer": "ipython3",
   "version": "3.11.6"
  },
  "vscode": {
   "interpreter": {
    "hash": "677ca678853aa41fc137f4b55f2bc0c694e45735c0d2faa667d2ec5acb71e67d"
   }
  }
 },
 "nbformat": 4,
 "nbformat_minor": 5
}
