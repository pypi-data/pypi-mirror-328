{
 "cells": [
  {
   "cell_type": "code",
   "execution_count": null,
   "metadata": {},
   "outputs": [],
   "source": [
    "import pandas as pd\n",
    "import numpy as np\n",
    "import networkx as nx\n",
    "\n",
    "import random\n",
    "\n",
    "import sys\n",
    "sys.path.insert(1, '../rtsvg')\n",
    "\n",
    "from rtsvg import *\n",
    "\n",
    "from IPython.display import Javascript, HTML, display\n",
    "%matplotlib inline"
   ]
  },
  {
   "cell_type": "code",
   "execution_count": null,
   "metadata": {},
   "outputs": [],
   "source": [
    "rt = RACETrack()"
   ]
  },
  {
   "cell_type": "code",
   "execution_count": null,
   "metadata": {},
   "outputs": [],
   "source": [
    "#\n",
    "#\n",
    "#\n",
    "def svgPolygon(rt, pos, pts, r=8):\n",
    "    x0,y0,x1,y1 = None,None,None,None\n",
    "    for k in pos.keys():\n",
    "        xy = pos[k]\n",
    "        if x0 is None:\n",
    "            x0 = x1 = xy[0]\n",
    "            y0 = y1 = xy[1]\n",
    "        if xy[0] < x0:\n",
    "            x0 = xy[0]\n",
    "        if xy[1] < y0:\n",
    "            y0 = xy[1]\n",
    "        if xy[0] > x1:\n",
    "            x1 = xy[0]\n",
    "        if xy[1] > y1:\n",
    "            y1 = xy[1]\n",
    "\n",
    "    if (x1 - x0) > (y1 - y0):\n",
    "        perc = (x1-x0)*0.4\n",
    "    else:\n",
    "        perc = (y1-y0)*0.4\n",
    "\n",
    "    svg  = f'<svg viewbox=\"{x0-perc/2} {y0-perc/2} {perc+x1-x0} {perc+y1-y0}\" width=\"256\" height=\"256\">'\n",
    "    svg += f'<rect x=\"{x0-perc/2}\" y=\"{y0-perc/2}\" width=\"{perc+x1-x0}\" height=\"{perc+y1-y0}\" fill=\"#ffffff\" />'\n",
    "    svg += '<polygon points=\"'\n",
    "    for pt in pts:\n",
    "        svg += str(pos[pt][0]) + ' ' + str(pos[pt][1]) + ' '\n",
    "    svg += '\" />'\n",
    "\n",
    "    svg += '<path d=\"'\n",
    "    svg += rt.extrudePolyLine(pts, pos, r)\n",
    "    svg += '\" fill=\"None\" stroke=\"#ff0000\" />'\n",
    "\n",
    "    svg += '</svg>'\n",
    "    return svg"
   ]
  },
  {
   "cell_type": "code",
   "execution_count": null,
   "metadata": {},
   "outputs": [],
   "source": [
    "tups = [\n",
    "    (1,2,'a'),\n",
    "    (10,11,'a'),\n",
    "    (20,1,'b'),\n",
    "    (22,15,'c'),\n",
    "    (3,18,'d'),\n",
    "    (10,4,'e'),\n",
    "    (4,8,'e')\n",
    "]\n",
    "my_pos = {}\n",
    "xs  = []\n",
    "ys  = []\n",
    "cs  = []\n",
    "for t in tups:\n",
    "    my_pos[t] = [t[0],t[1]]\n",
    "    xs.append(t[0])\n",
    "    ys.append(t[1])\n",
    "    cs.append(t[2])\n",
    "df = pd.DataFrame({'x':xs,'y':ys,'c':cs})\n",
    "display(HTML(rt.xy(df,x_field='x',y_field='y',color_by='c',dot_size='large')))"
   ]
  },
  {
   "cell_type": "code",
   "execution_count": null,
   "metadata": {},
   "outputs": [],
   "source": [
    "display(HTML(svgPolygon(rt, my_pos, rt.grahamScan(my_pos), r=2)))"
   ]
  },
  {
   "cell_type": "code",
   "execution_count": null,
   "metadata": {},
   "outputs": [],
   "source": [
    "ex = {}\n",
    "ex['a'] = [200,200]\n",
    "ex['b'] = [250,210]\n",
    "ex['c'] = [120,300]\n",
    "ex['d'] = [350,310]\n",
    "ex['e'] = [250,280]\n",
    "display(HTML(svgPolygon(rt, ex, rt.grahamScan(ex))))"
   ]
  },
  {
   "cell_type": "code",
   "execution_count": null,
   "metadata": {},
   "outputs": [],
   "source": [
    "def randomPoints():\n",
    "    n   = random.randint(20,100)\n",
    "    pts = {}\n",
    "    for i in range(0,n):\n",
    "        pts[i] = [10+random.random()*200,10+random.random()*200]\n",
    "    return pts"
   ]
  },
  {
   "cell_type": "code",
   "execution_count": null,
   "metadata": {},
   "outputs": [],
   "source": [
    "pts = randomPoints()\n",
    "display(HTML(svgPolygon(rt, pts, rt.grahamScan(pts))))"
   ]
  },
  {
   "cell_type": "code",
   "execution_count": null,
   "metadata": {},
   "outputs": [],
   "source": [
    "pts = randomPoints()\n",
    "display(HTML(svgPolygon(rt, pts, rt.grahamScan(pts))))"
   ]
  },
  {
   "cell_type": "code",
   "execution_count": null,
   "metadata": {},
   "outputs": [],
   "source": [
    "pts = randomPoints()\n",
    "display(HTML(svgPolygon(rt, pts, rt.grahamScan(pts))))"
   ]
  },
  {
   "cell_type": "code",
   "execution_count": null,
   "metadata": {},
   "outputs": [],
   "source": [
    "pts = randomPoints()\n",
    "display(HTML(svgPolygon(rt, pts, rt.grahamScan(pts))))"
   ]
  },
  {
   "cell_type": "code",
   "execution_count": null,
   "metadata": {},
   "outputs": [],
   "source": []
  }
 ],
 "metadata": {
  "kernelspec": {
   "display_name": "Python 3",
   "language": "python",
   "name": "python3"
  },
  "language_info": {
   "codemirror_mode": {
    "name": "ipython",
    "version": 3
   },
   "file_extension": ".py",
   "mimetype": "text/x-python",
   "name": "python",
   "nbconvert_exporter": "python",
   "pygments_lexer": "ipython3",
   "version": "3.11.1"
  },
  "orig_nbformat": 4,
  "vscode": {
   "interpreter": {
    "hash": "677ca678853aa41fc137f4b55f2bc0c694e45735c0d2faa667d2ec5acb71e67d"
   }
  }
 },
 "nbformat": 4,
 "nbformat_minor": 2
}
