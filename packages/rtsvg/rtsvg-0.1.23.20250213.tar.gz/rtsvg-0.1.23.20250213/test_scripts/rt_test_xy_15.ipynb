{
 "cells": [
  {
   "cell_type": "code",
   "execution_count": null,
   "id": "cc5ec30b-60e9-4ac2-ae42-ca1281cc777f",
   "metadata": {},
   "outputs": [],
   "source": [
    "import pandas as pd\n",
    "import polars as pl\n",
    "import numpy as np\n",
    "import random\n",
    "import sys\n",
    "sys.path.insert(1, '../rtsvg')\n",
    "from rtsvg import *\n",
    "rt = RACETrack()"
   ]
  },
  {
   "cell_type": "code",
   "execution_count": null,
   "id": "60372343",
   "metadata": {},
   "outputs": [],
   "source": [
    "xs, ys, ws  = [], [], []\n",
    "for samples in range(30000):\n",
    "    xs.append(random.random())\n",
    "    ys.append(random.random())\n",
    "    ws.append(random.random())\n",
    "df    = pd.DataFrame({'x': xs, 'y': ys, 'w':ws})\n",
    "df_pl = pl.DataFrame(df)\n",
    "rt.xy(df, x_field='x', y_field='y', color_by='ws', dot_size='small', color_magnitude='stretch')"
   ]
  },
  {
   "cell_type": "code",
   "execution_count": null,
   "id": "41108e6e",
   "metadata": {},
   "outputs": [],
   "source": [
    "import time\n",
    "samples  = 3\n",
    "time_sum = 0.0\n",
    "print('== pandas ==')\n",
    "for i in range(samples):\n",
    "    t0 = time.time()\n",
    "    xy_obj = rt.xy(df, x_field='x', y_field='y', w=256, h=256)\n",
    "    xy_obj._repr_svg_()\n",
    "    t1 = time.time()\n",
    "    # xy_obj.performanceInformation()\n",
    "    time_sum += (t1 - t0)\n",
    "pd_time = time_sum / samples\n",
    "time_sum = 0.0\n",
    "print()\n",
    "print('== polars ==')\n",
    "for i in range(samples):\n",
    "    t0 = time.time()\n",
    "    xy_obj = rt.xy(df_pl, x_field='x', y_field='y', w=256, h=256)\n",
    "    xy_obj._repr_svg_()\n",
    "    t1 = time.time()\n",
    "    # xy_obj.performanceInformation()\n",
    "    time_sum += (t1 - t0)\n",
    "pl_time = time_sum / samples\n",
    "print()\n",
    "print(f'pandas {pd_time} || polars {pl_time} || {pl_time/pd_time}')"
   ]
  },
  {
   "cell_type": "code",
   "execution_count": null,
   "id": "04fd2ca5",
   "metadata": {},
   "outputs": [],
   "source": [
    "sz = 1000000\n",
    "\n",
    "ranges, polars_t, pandas_t = [], [], []\n",
    "\n",
    "for _range_ in range(20,1025,200):\n",
    "    xs, ys = [], []\n",
    "    for i in range(sz):\n",
    "        xs.append(random.randint(1,_range_)), ys.append(random.randint(1,_range_))\n",
    "    df_pd = pd.DataFrame({'x':xs, 'y':ys})\n",
    "    df_pl = pl.DataFrame(df_pd)\n",
    "\n",
    "    t0 = time.time()\n",
    "    gb = df_pd.groupby(['x','y'])\n",
    "    my_sum = 0\n",
    "    for k,k_df in gb:\n",
    "        my_sum += len(k)\n",
    "    t1 = time.time()\n",
    "\n",
    "    t_pd = t1 - t0\n",
    "\n",
    "    t0 = time.time()\n",
    "    gb = df_pl.group_by(['x','y'])\n",
    "    my_sum = 0\n",
    "    for k,k_df in gb:\n",
    "        my_sum += len(k)\n",
    "    t1 = time.time()\n",
    "\n",
    "    t_pl = t1 - t0\n",
    "    # print(f'{t_pd:0.4f} | {t_pl:0.4f}')\n",
    "    ranges.append(_range_), polars_t.append(t_pl), pandas_t.append(t_pd)"
   ]
  },
  {
   "cell_type": "code",
   "execution_count": null,
   "id": "6a653178",
   "metadata": {},
   "outputs": [],
   "source": [
    "xs, ys, types = [], [], []\n",
    "for i in range(len(ranges)):\n",
    "    xs.append(ranges[i])\n",
    "    ys.append(pandas_t[i])\n",
    "    types.append('pandas')\n",
    "    xs.append(ranges[i])\n",
    "    ys.append(polars_t[i])\n",
    "    types.append('polars')\n",
    "rt.co_mgr.str_to_color_lu['pandas'] = '#ffa0a0' # red-ish\n",
    "rt.co_mgr.str_to_color_lu['polars'] = '#a0a0ff' # blue-ish\n",
    "rt.xy(pd.DataFrame({'range':xs, 'time':ys, 'lib':types}), x_field='range', y_field='time', line_groupby_field='lib', line_groupby_w=3, color_by='lib', dot_size=None, w=512, h=384)"
   ]
  },
  {
   "cell_type": "code",
   "execution_count": null,
   "id": "78ef59e9",
   "metadata": {},
   "outputs": [],
   "source": []
  }
 ],
 "metadata": {
  "kernelspec": {
   "display_name": "Python 3",
   "language": "python",
   "name": "python3"
  },
  "language_info": {
   "codemirror_mode": {
    "name": "ipython",
    "version": 3
   },
   "file_extension": ".py",
   "mimetype": "text/x-python",
   "name": "python",
   "nbconvert_exporter": "python",
   "pygments_lexer": "ipython3",
   "version": "3.11.6"
  },
  "vscode": {
   "interpreter": {
    "hash": "677ca678853aa41fc137f4b55f2bc0c694e45735c0d2faa667d2ec5acb71e67d"
   }
  }
 },
 "nbformat": 4,
 "nbformat_minor": 5
}
