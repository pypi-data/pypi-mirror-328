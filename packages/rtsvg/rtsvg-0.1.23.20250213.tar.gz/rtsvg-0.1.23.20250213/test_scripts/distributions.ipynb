{
 "cells": [
  {
   "cell_type": "code",
   "execution_count": null,
   "metadata": {},
   "outputs": [],
   "source": [
    "import pandas as pd\n",
    "import numpy  as np\n",
    "from fitter import Fitter\n",
    "import sys\n",
    "sys.path.insert(1, '../rtsvg')\n",
    "from rtsvg import *\n",
    "rt = RACETrack()"
   ]
  },
  {
   "cell_type": "code",
   "execution_count": null,
   "metadata": {},
   "outputs": [],
   "source": [
    "sz, sz_sub, sz_sub2 = 100000, 20000, 1000\n",
    "df      = pd.DataFrame({'x':np.random.normal(5.0, 2.5, size=sz),'y':np.random.normal(6.0, 0.5, size=sz)})\n",
    "df_sub  = df.sample(sz_sub)\n",
    "df_sub2 = df.sample(sz_sub2)\n",
    "\n",
    "params = {'x_field':'x', 'y_field':'x', 'dot_size':None, 'distribution_h_perc':1.0, 'render_x_distribution':50, 'distribution_style':'inside', 'w':350, 'h':256 }\n",
    "rt.tile([rt.xy(df,      **params),         rt.xy(df_sub,  **params),         rt.xy(df_sub2, **params)])"
   ]
  },
  {
   "cell_type": "code",
   "execution_count": null,
   "metadata": {},
   "outputs": [],
   "source": [
    "params = {'x_field':'x', 'y_field':'x', 'dot_size':None, 'distribution_h_perc':1.0, 'render_y_distribution':50, 'distribution_style':'inside', 'w':350, 'h':256 }\n",
    "rt.tile([rt.xy(df,      **params),         rt.xy(df_sub,  **params),         rt.xy(df_sub2, **params)])"
   ]
  },
  {
   "cell_type": "code",
   "execution_count": null,
   "metadata": {},
   "outputs": [],
   "source": [
    "# something weird going on here with the effect that we can see an axis in the middle of the dots\n",
    "params = {'x_field':'x', 'y_field':'y', 'dot_size':'tiny', 'distribution_h_perc':1.0, 'render_y_distribution':50, 'distribution_style':'inside', 'opacity':0.2, 'w':350, 'h':256 }\n",
    "rt.tile([rt.xy(df,      **params),         rt.xy(df_sub,  **params),         rt.xy(df_sub2, **params)])"
   ]
  },
  {
   "cell_type": "code",
   "execution_count": null,
   "metadata": {},
   "outputs": [],
   "source": [
    "# For 100000, 20000, 1000 --> takes 7m44s (all tests)\n",
    "# For 10000,  2000,  1000 --> takes 5m54s (all tests) ... which doesn't make much sense when compared with last...\n",
    "# ... probably because a lot of tests are skipped when they time out...\n",
    "# For 1000,   200,   100  --> takes 4m43s (all tests)\n",
    "import time\n",
    "_distributions_ = ['norm','gamma','uniform','expon','chi','chi2','beta'] # most popular... also need Bernoulli and Binomial...\n",
    "ts0 = time.time()\n",
    "fitter = Fitter(df['x'], distributions=_distributions_)\n",
    "fitter.fit()\n",
    "fitter.summary()\n",
    "ts1 = time.time()\n",
    "fitter_sub = Fitter(df_sub['x'], distributions=_distributions_)\n",
    "fitter_sub.fit()\n",
    "fitter_sub.summary()\n",
    "ts2 = time.time()\n",
    "fitter_sub2 = Fitter(df_sub2['x'], distributions=_distributions_)\n",
    "fitter_sub2.fit()\n",
    "fitter_sub2.summary()\n",
    "ts3 = time.time()"
   ]
  },
  {
   "cell_type": "code",
   "execution_count": null,
   "metadata": {},
   "outputs": [],
   "source": [
    "sizes, times = [], []\n",
    "sizes.append(sz),      times.append(ts1 - ts0)\n",
    "sizes.append(sz_sub),  times.append(ts2 - ts1)\n",
    "sizes.append(sz_sub2), times.append(ts3 - ts2)\n",
    "df_perf = pd.DataFrame({'size':sizes, 'time':times})\n",
    "df_perf['cat'] = 'a'\n",
    "rt.xy(df_perf, x_field='size', y_field='time', line_groupby_field='cat')"
   ]
  },
  {
   "cell_type": "code",
   "execution_count": null,
   "metadata": {},
   "outputs": [],
   "source": []
  }
 ],
 "metadata": {
  "kernelspec": {
   "display_name": ".venv",
   "language": "python",
   "name": "python3"
  },
  "language_info": {
   "codemirror_mode": {
    "name": "ipython",
    "version": 3
   },
   "file_extension": ".py",
   "mimetype": "text/x-python",
   "name": "python",
   "nbconvert_exporter": "python",
   "pygments_lexer": "ipython3",
   "version": "3.11.6"
  }
 },
 "nbformat": 4,
 "nbformat_minor": 2
}
