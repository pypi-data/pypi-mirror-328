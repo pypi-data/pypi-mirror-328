{
 "cells": [
  {
   "cell_type": "code",
   "execution_count": null,
   "metadata": {},
   "outputs": [],
   "source": [
    "import pandas as pd\n",
    "import numpy as np\n",
    "import networkx as nx\n",
    "\n",
    "import sys\n",
    "sys.path.insert(1, '../rtsvg')\n",
    "\n",
    "from rtsvg import *\n",
    "\n",
    "from IPython.display import Javascript, HTML, display\n",
    "%matplotlib inline"
   ]
  },
  {
   "cell_type": "code",
   "execution_count": null,
   "metadata": {},
   "outputs": [],
   "source": [
    "rt = RACETrack()"
   ]
  },
  {
   "cell_type": "code",
   "execution_count": null,
   "metadata": {},
   "outputs": [],
   "source": [
    "tups = [ ('a', 'b',   2),\n",
    "         ('b', 'c',   2),\n",
    "         ('c', 'd',   2),\n",
    "         ('d', 'e',   2),\n",
    "         ('a', 'a0', 10),\n",
    "         ('a', 'a1', 11),\n",
    "         ('a', 'a2', 12),\n",
    "         ('c', 'c0',  8),\n",
    "         ('c', 'c1',  9),\n",
    "         ('c1','a1', 50)\n",
    "       ]\n",
    "\n",
    "tups = [ ('a','x',2),\n",
    "         ('b','x',2),\n",
    "         ('c','x',2),\n",
    "         ('a','o1',2),\n",
    "         ('b','o1',2),\n",
    "         ('a','o2',2),\n",
    "         ('c','o2',2),\n",
    "         ('b','o3',2),\n",
    "         ('c','o3',2)]\n",
    "\n",
    "fms,tos,weights = [],[],[]\n",
    "for tup in tups:\n",
    "    fms.    append(tup[0])\n",
    "    tos.    append(tup[1])\n",
    "    weights.append(tup[2])\n",
    "\n",
    "df = pd.DataFrame({'fm':fms,'to':tos,'weight':weights})\n",
    "df"
   ]
  },
  {
   "cell_type": "code",
   "execution_count": null,
   "metadata": {},
   "outputs": [],
   "source": [
    "relates = [('fm','to')]\n",
    "G = rt.createNetworkXGraph(df, relates)\n",
    "pos = rt.springLayout(G)\n",
    "display(HTML(rt.linkNode(df, relates, pos)))"
   ]
  },
  {
   "cell_type": "code",
   "execution_count": null,
   "metadata": {},
   "outputs": [],
   "source": [
    "bary_pos = rt.barycentricLayout(G, pos, ['a','b','c','x'])\n",
    "display(HTML(rt.linkNode(df, relates, bary_pos)))"
   ]
  },
  {
   "cell_type": "code",
   "execution_count": null,
   "metadata": {},
   "outputs": [],
   "source": []
  }
 ],
 "metadata": {
  "kernelspec": {
   "display_name": "Python 3",
   "language": "python",
   "name": "python3"
  },
  "language_info": {
   "codemirror_mode": {
    "name": "ipython",
    "version": 3
   },
   "file_extension": ".py",
   "mimetype": "text/x-python",
   "name": "python",
   "nbconvert_exporter": "python",
   "pygments_lexer": "ipython3",
   "version": "3.11.1 (tags/v3.11.1:a7a450f, Dec  6 2022, 19:58:39) [MSC v.1934 64 bit (AMD64)]"
  },
  "orig_nbformat": 4,
  "vscode": {
   "interpreter": {
    "hash": "677ca678853aa41fc137f4b55f2bc0c694e45735c0d2faa667d2ec5acb71e67d"
   }
  }
 },
 "nbformat": 4,
 "nbformat_minor": 2
}
