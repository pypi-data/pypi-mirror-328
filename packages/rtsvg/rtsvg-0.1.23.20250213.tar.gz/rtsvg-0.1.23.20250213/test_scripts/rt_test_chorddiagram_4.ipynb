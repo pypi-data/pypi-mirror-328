{
 "cells": [
  {
   "cell_type": "code",
   "execution_count": null,
   "metadata": {},
   "outputs": [],
   "source": [
    "import pandas as pd\n",
    "import polars as pl\n",
    "import numpy as np\n",
    "import networkx as nx\n",
    "import heapq\n",
    "import copy\n",
    "import sys\n",
    "sys.path.insert(1, '../rtsvg')\n",
    "from rtsvg import *\n",
    "rt = RACETrack()"
   ]
  },
  {
   "cell_type": "code",
   "execution_count": null,
   "metadata": {},
   "outputs": [],
   "source": [
    "df = pd.DataFrame({'fm':['a',  'a',  'a',  'a',  'b',  'b',  'b',  'c',  'c',  'd',  'd',  'd', 'd'],\n",
    "                   'to':['b',  'c',  'd',  'b',  'a',  'b',  'c',  'a',  'b',  'c',  'a',  'b', 'd'],\n",
    "                   'ct':[10,   20,   5,    1,    20,   3,    5,    10,   15,   5,    10,   50,  20]})\n",
    "def test(df, num, params):\n",
    "    print(f'{num}.old_pd', rt.dendrogramOrdering(df,                       *params))\n",
    "    print(f'{num}.old_pl', rt.dendrogramOrdering(pl.DataFrame(df),         *params))\n",
    "    print(f'{num}.hdb_pd', rt.dendrogramOrdering_HDBSCAN(df,               *params))\n",
    "    print(f'{num}.hdb_pl', rt.dendrogramOrdering_HDBSCAN(pl.DataFrame(df), *params))\n",
    "    print(f'{num}.tup_pd', rt.dendrogramOrderingTuples(df,               *params))\n",
    "    print(f'{num}.tup_pl', rt.dendrogramOrderingTuples(pl.DataFrame(df), *params))\n",
    "def testAll(df):\n",
    "    params = ['fm', 'to', None, False]\n",
    "    test(df,1,params)\n",
    "    print()\n",
    "    params = ['fm', 'to', 'ct', False]\n",
    "    test(df,2,params)\n",
    "    print()\n",
    "    params = ['fm', 'to', 'ct', True] \n",
    "    test(df,3,params)\n",
    "testAll(df)"
   ]
  },
  {
   "cell_type": "code",
   "execution_count": null,
   "metadata": {},
   "outputs": [],
   "source": [
    "params = ['fm', 'to', 'ct', False]\n",
    "rt.tile([rt.chordDiagram(df, relationships=[('fm','to')],count_by='ct', draw_labels=True, txt_h=16, dendrogram_algorithm='original'),\n",
    "         rt.chordDiagram(df, relationships=[('fm','to')],count_by='ct', draw_labels=True, txt_h=16, dendrogram_algorithm='hdbscan'),\n",
    "         rt.chordDiagram(df, relationships=[('fm','to')],count_by='ct', draw_labels=True, txt_h=16, dendrogram_algorithm=None)])"
   ]
  },
  {
   "cell_type": "code",
   "execution_count": null,
   "metadata": {},
   "outputs": [],
   "source": [
    "df = pd.DataFrame({'fm':['a',  'x',  'n',  'r',  'h', 'h'],\n",
    "                   'to':['r',  'y',  'm',  'g',  'a', 'i'],\n",
    "                   'ct':[20,   20,   20,    1 ,   1,   1]})\n",
    "params = ['fm', 'to', 'ct', False]\n",
    "rt.tile([rt.chordDiagram(df, relationships=[('fm','to')],count_by='ct', draw_labels=True, txt_h=16, dendrogram_algorithm='original'),\n",
    "         rt.chordDiagram(df, relationships=[('fm','to')],count_by='ct', draw_labels=True, txt_h=16, dendrogram_algorithm='hdbscan'),\n",
    "         rt.chordDiagram(df, relationships=[('fm','to')],count_by='ct', draw_labels=True, txt_h=16, dendrogram_algorithm=None)])"
   ]
  },
  {
   "cell_type": "code",
   "execution_count": null,
   "metadata": {},
   "outputs": [],
   "source": [
    "df = pd.DataFrame({'fm':['a',  'b',  'c',  'w',  'x', 'y', 'a', 'd'],\n",
    "                   'to':['b',  'c',  'd',  'x',  'y', 'z', 'z', 'w'],\n",
    "                   'ct':[20,   20,   20,   20 ,  20,  20,  1,   20]})\n",
    "params = ['fm', 'to', 'ct', False]\n",
    "rt.tile([rt.chordDiagram(df, relationships=[('fm','to')],count_by='ct', draw_labels=True, txt_h=16, dendrogram_algorithm='original'),\n",
    "         rt.chordDiagram(df, relationships=[('fm','to')],count_by='ct', draw_labels=True, txt_h=16, dendrogram_algorithm='hdbscan'),\n",
    "         rt.chordDiagram(df, relationships=[('fm','to')],count_by='ct', draw_labels=True, txt_h=16, dendrogram_algorithm=None)])"
   ]
  },
  {
   "cell_type": "code",
   "execution_count": null,
   "metadata": {},
   "outputs": [],
   "source": []
  }
 ],
 "metadata": {
  "kernelspec": {
   "display_name": ".venv",
   "language": "python",
   "name": "python3"
  },
  "language_info": {
   "codemirror_mode": {
    "name": "ipython",
    "version": 3
   },
   "file_extension": ".py",
   "mimetype": "text/x-python",
   "name": "python",
   "nbconvert_exporter": "python",
   "pygments_lexer": "ipython3",
   "version": "3.11.6"
  }
 },
 "nbformat": 4,
 "nbformat_minor": 2
}
