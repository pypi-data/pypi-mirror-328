{
 "cells": [
  {
   "cell_type": "code",
   "execution_count": null,
   "id": "cc5ec30b-60e9-4ac2-ae42-ca1281cc777f",
   "metadata": {},
   "outputs": [],
   "source": [
    "import pandas as pd\n",
    "import polars as pl\n",
    "import numpy as np\n",
    "import sys\n",
    "sys.path.insert(1, '../rtsvg')\n",
    "from rtsvg import *\n",
    "rt = RACETrack()\n",
    "df = pd.read_csv(\"../../netflow_sample.csv\")\n",
    "df = rt.columnsAreTimestamps(df, ['beg','end'])\n",
    "df = df.rename({'beg':'timestamp','end':'timestamp_end'},axis=1)\n",
    "df = pl.DataFrame(df)\n",
    "df.sample(3)"
   ]
  },
  {
   "cell_type": "code",
   "execution_count": null,
   "id": "82ca6a3f-cfac-4757-806f-efa73a30c6ec",
   "metadata": {},
   "outputs": [],
   "source": [
    "spec = {( 0,0, 3,5):(\"histogram\", {'bin_by':'sip',  'draw_distribution':True}),\n",
    "        ( 3,0, 3,5):(\"histogram\", {'bin_by':'spt',  'draw_distribution':True}),\n",
    "        ( 6,0, 3,5):(\"histogram\", {'bin_by':'pro',  'draw_distribution':True}),\n",
    "        ( 9,0, 3,5):(\"histogram\", {'bin_by':'dpt',  'draw_distribution':True}),\n",
    "        (12,0, 3,5):(\"histogram\", {'bin_by':'dip',  'draw_distribution':True}),\n",
    "        (15,0, 3,5):(\"histogram\", {'bin_by':'SBYT', 'draw_distribution':True}),\n",
    "        (18,0, 3,5):(\"histogram\", {'bin_by':'DBYT', 'draw_distribution':True})}\n",
    "#_ = rt.interactivePanel(df, spec, w=800, h=256)\n",
    "#_\n",
    "rt.layout(spec, df, w=800, h=256)"
   ]
  },
  {
   "cell_type": "code",
   "execution_count": null,
   "metadata": {},
   "outputs": [],
   "source": [
    "_svgs_, params = [], {'df':df, 'bin_by':'pro', 'h':128, 'draw_distribution':True}\n",
    "for w in range(64, 256, 8):\n",
    "    _svgs_.append(rt.histogram(w=w, **params))\n",
    "rt.table(_svgs_)"
   ]
  },
  {
   "cell_type": "code",
   "execution_count": null,
   "metadata": {},
   "outputs": [],
   "source": [
    "params['draw_labels'] = False\n",
    "_svgs_ = []\n",
    "for w in range(64, 256, 8):\n",
    "    _svgs_.append(rt.histogram(w=w, **params))\n",
    "rt.table(_svgs_)"
   ]
  },
  {
   "cell_type": "code",
   "execution_count": null,
   "metadata": {},
   "outputs": [],
   "source": [
    "params['draw_labels'] = True\n",
    "params['bar_h']       = 32\n",
    "_svgs_ = []\n",
    "for w in range(64, 256, 8):\n",
    "    _svgs_.append(rt.histogram(w=w, **params))\n",
    "rt.table(_svgs_)"
   ]
  },
  {
   "cell_type": "code",
   "execution_count": null,
   "metadata": {},
   "outputs": [],
   "source": []
  }
 ],
 "metadata": {
  "kernelspec": {
   "display_name": "Python 3",
   "language": "python",
   "name": "python3"
  },
  "language_info": {
   "codemirror_mode": {
    "name": "ipython",
    "version": 3
   },
   "file_extension": ".py",
   "mimetype": "text/x-python",
   "name": "python",
   "nbconvert_exporter": "python",
   "pygments_lexer": "ipython3",
   "version": "3.11.6"
  },
  "vscode": {
   "interpreter": {
    "hash": "677ca678853aa41fc137f4b55f2bc0c694e45735c0d2faa667d2ec5acb71e67d"
   }
  }
 },
 "nbformat": 4,
 "nbformat_minor": 5
}
