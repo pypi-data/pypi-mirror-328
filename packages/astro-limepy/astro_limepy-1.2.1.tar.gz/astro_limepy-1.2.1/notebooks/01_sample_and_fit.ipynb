{
 "cells": [
  {
   "cell_type": "markdown",
   "metadata": {},
   "source": [
    "## Sample and fit"
   ]
  },
  {
   "cell_type": "markdown",
   "metadata": {},
   "source": [
    "Here we generate discrete points from a LIMEPY model and then fit back the model parameters with a downhill simplex method. First we import the model and sampling routine:"
   ]
  },
  {
   "cell_type": "code",
   "execution_count": 1,
   "metadata": {
    "collapsed": true
   },
   "outputs": [],
   "source": [
    "from limepy import limepy, sample\n",
    "import numpy"
   ]
  },
  {
   "cell_type": "markdown",
   "metadata": {},
   "source": [
    "We then create a model and then use the sample routine to generate 100 values"
   ]
  },
  {
   "cell_type": "code",
   "execution_count": 2,
   "metadata": {
    "collapsed": false
   },
   "outputs": [],
   "source": [
    "W0, rh = 5, 3\n",
    "k = limepy(W0, 1, M=1e5, rh=rh)"
   ]
  },
  {
   "cell_type": "markdown",
   "metadata": {},
   "source": [
    "To generate a discrete sample we run sample on the model and specify the number of points"
   ]
  },
  {
   "cell_type": "code",
   "execution_count": 3,
   "metadata": {
    "collapsed": false
   },
   "outputs": [
    {
     "name": "stdout",
     "output_type": "stream",
     "text": [
      " sample r ...\n",
      " sample v ...\n",
      "   set-up segments for velocity cdf ...\n",
      "   compute cdf ...\n",
      "   (rejection) sampling of k^3/2 values ...\n",
      "   sample angles ...\n",
      " convert to cartesian coordinates ...\n",
      " done! \n",
      "       U: sample =  -5.9760e+06; model =  -5.8345e+06\n",
      "       K: sample =   2.9552e+06; model =   2.9173e+06\n",
      "       Q: sample =  -4.9451e-01; model =  -5.0000e-01\n",
      "  2Kr/Kt: sample =       0.9038; model =       1.0000\n"
     ]
    }
   ],
   "source": [
    "ic = sample(k, N=1e2, verbose=True)"
   ]
  },
  {
   "cell_type": "markdown",
   "metadata": {},
   "source": [
    "All values are in \"ic\". For example, we can compute the distance to the centre in projection as"
   ]
  },
  {
   "cell_type": "code",
   "execution_count": 4,
   "metadata": {
    "collapsed": true
   },
   "outputs": [],
   "source": [
    "R = numpy.sqrt(ic.x**2 + ic.y**2)"
   ]
  },
  {
   "cell_type": "markdown",
   "metadata": {},
   "source": [
    "Now pretend that this array *R* is our \"data\" and we want to retrieve the parameters of the underlying model. Lets define a function that returns the (minus) likelihood, a function that we can minimize with (e.g.) a downhill simplex method"
   ]
  },
  {
   "cell_type": "code",
   "execution_count": 5,
   "metadata": {
    "collapsed": false
   },
   "outputs": [],
   "source": [
    "def minloglike(par, Rdat):\n",
    "    # par is an array with parameters: W0 and rh, create a model with parameters par\n",
    "    m = limepy(par[0], 1, M=1, rh=par[1], project=True) \n",
    "    # Return the minus log likelihood, note that the model is normalised to M=1 above\n",
    "    return -sum(numpy.log(numpy.interp(Rdat, m.R, m.Sigma, right=1e-9)))"
   ]
  },
  {
   "cell_type": "markdown",
   "metadata": {},
   "source": [
    "Now do the fit and compare the result (it takes a few seconds)"
   ]
  },
  {
   "cell_type": "code",
   "execution_count": 6,
   "metadata": {
    "collapsed": false
   },
   "outputs": [
    {
     "name": "stdout",
     "output_type": "stream",
     "text": [
      "Optimization terminated successfully.\n",
      "         Current function value: 441.401295\n",
      "         Iterations: 54\n",
      "         Function evaluations: 120\n",
      " \n",
      " Result: W0 = 5.336 (True=5.000) ; rh = 2.795 (True=3.000)\n"
     ]
    }
   ],
   "source": [
    "from scipy.optimize import fmin\n",
    "x0 = [7,6 ] # Starting values\n",
    "res = fmin(minloglike, x0, args=(R,))\n",
    "print \" \\n Result: W0 = %5.3f (True=%5.3f)\"%(res[0], W0),\"; rh = %5.3f (True=%5.3f)\"%(res[1], rh)"
   ]
  },
  {
   "cell_type": "code",
   "execution_count": null,
   "metadata": {
    "collapsed": true
   },
   "outputs": [],
   "source": []
  }
 ],
 "metadata": {
  "kernelspec": {
   "display_name": "Python 2",
   "language": "python",
   "name": "python2"
  },
  "language_info": {
   "codemirror_mode": {
    "name": "ipython",
    "version": 2
   },
   "file_extension": ".py",
   "mimetype": "text/x-python",
   "name": "python",
   "nbconvert_exporter": "python",
   "pygments_lexer": "ipython2",
   "version": "2.7.11"
  }
 },
 "nbformat": 4,
 "nbformat_minor": 0
}
