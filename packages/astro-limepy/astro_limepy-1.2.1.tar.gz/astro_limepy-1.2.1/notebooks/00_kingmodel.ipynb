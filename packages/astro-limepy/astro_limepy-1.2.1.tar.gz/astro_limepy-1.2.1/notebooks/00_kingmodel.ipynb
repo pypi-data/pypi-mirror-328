{
 "cells": [
  {
   "cell_type": "markdown",
   "metadata": {},
   "source": [
    "## King model"
   ]
  },
  {
   "cell_type": "markdown",
   "metadata": {},
   "source": [
    "Example of solving the well-known [King (1966)](http://adsabs.harvard.edu/abs/1966AJ.....71...64K) model for a single mass system with LIMEPY. "
   ]
  },
  {
   "cell_type": "markdown",
   "metadata": {},
   "source": [
    "First we import the limepy class"
   ]
  },
  {
   "cell_type": "code",
   "execution_count": 1,
   "metadata": {
    "collapsed": false
   },
   "outputs": [],
   "source": [
    "from limepy import limepy"
   ]
  },
  {
   "cell_type": "markdown",
   "metadata": {
    "collapsed": true
   },
   "source": [
    "Then we define the 2 parameters of the LIMEPY model: \n",
    "(1) the (dimensionless) central potential $W_0$\n",
    "(2) the truncation parameter $g$ (note that for the King model $g=1$)"
   ]
  },
  {
   "cell_type": "code",
   "execution_count": 2,
   "metadata": {
    "collapsed": true
   },
   "outputs": [],
   "source": [
    "W0, g = 7, 1"
   ]
  },
  {
   "cell_type": "markdown",
   "metadata": {},
   "source": [
    "Then we solve the model. If we run with verbose=True some global properties of the model are printed:"
   ]
  },
  {
   "cell_type": "code",
   "execution_count": 3,
   "metadata": {
    "collapsed": false
   },
   "outputs": [
    {
     "name": "stdout",
     "output_type": "stream",
     "text": [
      "\n",
      " Model properties: \n",
      " ----------------- \n",
      " phi0 =  7.00; g = 1.00\n",
      " Converged = True\n",
      " M =  2.494e+01; U = -4.609e+01; K = 2.305e+01; Q = 0.5000;  2Kr/Kt = 1.000\n",
      " rv/rh = 1.233; rh/r0 =  3.921; rt/r0 =  33.709; ra/rh = 25504602.664\n"
     ]
    }
   ],
   "source": [
    "k = limepy(W0, g, verbose=True)"
   ]
  },
  {
   "cell_type": "markdown",
   "metadata": {},
   "source": [
    "Plotting some properties"
   ]
  },
  {
   "cell_type": "code",
   "execution_count": 4,
   "metadata": {
    "collapsed": false
   },
   "outputs": [
    {
     "data": {
      "text/plain": [
       "[<matplotlib.lines.Line2D at 0x105ee2b90>]"
      ]
     },
     "execution_count": 4,
     "metadata": {},
     "output_type": "execute_result"
    },
    {
     "data": {
      "image/png": "[encoded data removed]",
      "text/plain": [
       "<matplotlib.figure.Figure at 0x105e50550>"
      ]
     },
     "metadata": {},
     "output_type": "display_data"
    }
   ],
   "source": [
    "%matplotlib inline\n",
    "import matplotlib, numpy\n",
    "import matplotlib.pyplot as plt\n",
    "plt.loglog()\n",
    "plt.axis([1e-1, 1e2, 1e-8,2])\n",
    "plt.plot(k.r, k.rho)"
   ]
  },
  {
   "cell_type": "code",
   "execution_count": 5,
   "metadata": {
    "collapsed": false
   },
   "outputs": [
    {
     "data": {
      "text/plain": [
       "[<matplotlib.lines.Line2D at 0x106294890>]"
      ]
     },
     "execution_count": 5,
     "metadata": {},
     "output_type": "execute_result"
    },
    {
     "data": {
      "image/png": "[encoded data removed]",
      "text/plain": [
       "<matplotlib.figure.Figure at 0x105423950>"
      ]
     },
     "metadata": {},
     "output_type": "display_data"
    }
   ],
   "source": [
    "plt.plot(k.r, k.v2)"
   ]
  },
  {
   "cell_type": "markdown",
   "metadata": {},
   "source": [
    "The model properties are in units that are convenient for solving Poisson's equation (see [section 2.1.2 Gieles & Zocchi 2015](http://adsabs.harvard.edu/abs/2015MNRAS.454..576G), or the original [King (1966)](http://adsabs.harvard.edu/abs/1966AJ.....71...64K) paper). To create a model in physical units [$M_\\odot$; pc and km/s] one needs to specify a mass and radius scale, for example: "
   ]
  },
  {
   "cell_type": "code",
   "execution_count": 6,
   "metadata": {
    "collapsed": false
   },
   "outputs": [
    {
     "name": "stdout",
     "output_type": "stream",
     "text": [
      " No G provided, set to default: G = 0.004302\n",
      " Model scaled to: G = 0.004302, M = 100000.0, rh = 3\n",
      "\n",
      " Model properties: \n",
      " ----------------- \n",
      " phi0 =  7.00; g = 1.00\n",
      " Converged = True\n",
      " M =  1.000e+05; U = -5.817e+06; K = 2.909e+06; Q = 0.5000;  2Kr/Kt = 1.000\n",
      " rv/rh = 1.233; rh/r0 =  3.921; rt/r0 =  33.709; ra/rh = 25504602.664\n"
     ]
    }
   ],
   "source": [
    "k = limepy(W0, g, M=1e5, rh=3, verbose=True)"
   ]
  },
  {
   "cell_type": "markdown",
   "metadata": {},
   "source": [
    "The central 1D velocity dispersion [km/s] is "
   ]
  },
  {
   "cell_type": "code",
   "execution_count": 7,
   "metadata": {
    "collapsed": false
   },
   "outputs": [
    {
     "name": "stdout",
     "output_type": "stream",
     "text": [
      "5.50818919783\n"
     ]
    }
   ],
   "source": [
    "print numpy.sqrt(k.v2[0]/3)"
   ]
  },
  {
   "cell_type": "markdown",
   "metadata": {},
   "source": [
    "To get the properties in projection set the keyword project=True"
   ]
  },
  {
   "cell_type": "code",
   "execution_count": 8,
   "metadata": {
    "collapsed": true
   },
   "outputs": [],
   "source": [
    "k = limepy(W0, g, project=True, M=1e5, rh=3)"
   ]
  },
  {
   "cell_type": "code",
   "execution_count": 9,
   "metadata": {
    "collapsed": false
   },
   "outputs": [
    {
     "data": {
      "text/plain": [
       "[<matplotlib.lines.Line2D at 0x106279950>]"
      ]
     },
     "execution_count": 9,
     "metadata": {},
     "output_type": "execute_result"
    },
    {
     "data": {
      "image/png": "[encoded data removed]",
      "text/plain": [
       "<matplotlib.figure.Figure at 0x10542f250>"
      ]
     },
     "metadata": {},
     "output_type": "display_data"
    }
   ],
   "source": [
    "plt.loglog()\n",
    "plt.axis([1e-1, 1e2, 1e-3,1e5])\n",
    "plt.plot(k.r, k.rho)\n",
    "plt.plot(k.r, k.Sigma)"
   ]
  },
  {
   "cell_type": "code",
   "execution_count": 10,
   "metadata": {
    "collapsed": false
   },
   "outputs": [
    {
     "data": {
      "text/plain": [
       "[<matplotlib.lines.Line2D at 0x1064d04d0>]"
      ]
     },
     "execution_count": 10,
     "metadata": {},
     "output_type": "execute_result"
    },
    {
     "data": {
      "image/png": "[encoded data removed]",
      "text/plain": [
       "<matplotlib.figure.Figure at 0x1064d0d90>"
      ]
     },
     "metadata": {},
     "output_type": "display_data"
    }
   ],
   "source": [
    "plt.plot(k.r, numpy.sqrt(k.v2/3))\n",
    "plt.plot(k.r, numpy.sqrt(k.v2p))"
   ]
  },
  {
   "cell_type": "code",
   "execution_count": null,
   "metadata": {
    "collapsed": true
   },
   "outputs": [],
   "source": []
  }
 ],
 "metadata": {
  "kernelspec": {
   "display_name": "Python 2",
   "language": "python",
   "name": "python2"
  },
  "language_info": {
   "codemirror_mode": {
    "name": "ipython",
    "version": 2
   },
   "file_extension": ".py",
   "mimetype": "text/x-python",
   "name": "python",
   "nbconvert_exporter": "python",
   "pygments_lexer": "ipython2",
   "version": "2.7.11"
  }
 },
 "nbformat": 4,
 "nbformat_minor": 0
}
