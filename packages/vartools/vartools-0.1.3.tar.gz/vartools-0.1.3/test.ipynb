{
 "cells": [
  {
   "cell_type": "code",
   "execution_count": 1,
   "metadata": {},
   "outputs": [],
   "source": [
    "import numpy as np\n",
    "import pandas as pd\n",
    "import yfinance as yf\n",
    "import matplotlib.pyplot as plt\n",
    "from scipy.optimize import minimize\n",
    "import vartools as vt"
   ]
  },
  {
   "cell_type": "markdown",
   "metadata": {},
   "source": [
    "## get_data"
   ]
  },
  {
   "cell_type": "code",
   "execution_count": 2,
   "metadata": {},
   "outputs": [
    {
     "name": "stderr",
     "output_type": "stream",
     "text": [
      "[*********************100%***********************]  5 of 5 completed\n"
     ]
    }
   ],
   "source": [
    "stocks = [\"AAPL\", \"TSLA\", \"AMD\", \"LMT\", \"JPM\"]\n",
    "start_date = \"2020-01-01\"\n",
    "end_date = \"2023-01-01\"\n",
    "type = 'Adj Close' # 'Close', select the type of price you want to download\n",
    "\n",
    "data = vt.get_data(stocks, start_date, end_date, type)"
   ]
  },
  {
   "cell_type": "markdown",
   "metadata": {},
   "source": [
    "## var_stocks"
   ]
  },
  {
   "cell_type": "code",
   "execution_count": 3,
   "metadata": {},
   "outputs": [
    {
     "name": "stderr",
     "output_type": "stream",
     "text": [
      "[*********************100%***********************]  5 of 5 completed\n"
     ]
    },
    {
     "data": {
      "text/html": [
       "<div>\n",
       "<style scoped>\n",
       "    .dataframe tbody tr th:only-of-type {\n",
       "        vertical-align: middle;\n",
       "    }\n",
       "\n",
       "    .dataframe tbody tr th {\n",
       "        vertical-align: top;\n",
       "    }\n",
       "\n",
       "    .dataframe thead th {\n",
       "        text-align: right;\n",
       "    }\n",
       "</style>\n",
       "<table border=\"1\" class=\"dataframe\">\n",
       "  <thead>\n",
       "    <tr style=\"text-align: right;\">\n",
       "      <th></th>\n",
       "      <th>Métrica</th>\n",
       "      <th>Porcentaje</th>\n",
       "      <th>cash</th>\n",
       "    </tr>\n",
       "  </thead>\n",
       "  <tbody>\n",
       "    <tr>\n",
       "      <th>0</th>\n",
       "      <td>VaR</td>\n",
       "      <td>0.0288</td>\n",
       "      <td>33,073.7605</td>\n",
       "    </tr>\n",
       "    <tr>\n",
       "      <th>1</th>\n",
       "      <td>cVaR</td>\n",
       "      <td>0.0463</td>\n",
       "      <td>53,131.4650</td>\n",
       "    </tr>\n",
       "  </tbody>\n",
       "</table>\n",
       "</div>"
      ],
      "text/plain": [
       "  Métrica  Porcentaje        cash\n",
       "0     VaR      0.0288 33,073.7605\n",
       "1    cVaR      0.0463 53,131.4650"
      ]
     },
     "execution_count": 3,
     "metadata": {},
     "output_type": "execute_result"
    }
   ],
   "source": [
    "stocks = [\"AAPL\", \"TSLA\", \"AMD\", \"LMT\", \"JPM\"]\n",
    "start_date = \"2020-01-01\"\n",
    "end_date = \"2023-01-01\"\n",
    "type = 'Adj Close' # 'Close', select the type of price you want to download\n",
    "\n",
    "data = vt.get_data(stocks, start_date, end_date, type)\n",
    "n_stocks =[2193, 1211, 3221, 761, 1231]\n",
    "conf = 95\n",
    "long = True\n",
    "\n",
    "var_df = vt.var_stocks(data, n_stocks, conf, long, stocks)\n",
    "var_df"
   ]
  },
  {
   "cell_type": "markdown",
   "metadata": {},
   "source": [
    "## var_forex"
   ]
  },
  {
   "cell_type": "code",
   "execution_count": 4,
   "metadata": {},
   "outputs": [
    {
     "name": "stderr",
     "output_type": "stream",
     "text": [
      "[*********************100%***********************]  2 of 2 completed\n"
     ]
    },
    {
     "data": {
      "text/html": [
       "<div>\n",
       "<style scoped>\n",
       "    .dataframe tbody tr th:only-of-type {\n",
       "        vertical-align: middle;\n",
       "    }\n",
       "\n",
       "    .dataframe tbody tr th {\n",
       "        vertical-align: top;\n",
       "    }\n",
       "\n",
       "    .dataframe thead th {\n",
       "        text-align: right;\n",
       "    }\n",
       "</style>\n",
       "<table border=\"1\" class=\"dataframe\">\n",
       "  <thead>\n",
       "    <tr style=\"text-align: right;\">\n",
       "      <th></th>\n",
       "      <th>Métrica</th>\n",
       "      <th>Porcentual</th>\n",
       "      <th>Cash</th>\n",
       "    </tr>\n",
       "  </thead>\n",
       "  <tbody>\n",
       "    <tr>\n",
       "      <th>0</th>\n",
       "      <td>VaR</td>\n",
       "      <td>0.0185</td>\n",
       "      <td>5,041,647.6883</td>\n",
       "    </tr>\n",
       "    <tr>\n",
       "      <th>1</th>\n",
       "      <td>cVaR</td>\n",
       "      <td>0.0238</td>\n",
       "      <td>6,478,978.9919</td>\n",
       "    </tr>\n",
       "  </tbody>\n",
       "</table>\n",
       "</div>"
      ],
      "text/plain": [
       "  Métrica  Porcentual           Cash\n",
       "0     VaR      0.0185 5,041,647.6883\n",
       "1    cVaR      0.0238 6,478,978.9919"
      ]
     },
     "execution_count": 4,
     "metadata": {},
     "output_type": "execute_result"
    }
   ],
   "source": [
    "currencies = ['CHFMXN=X', 'MXN=X']\n",
    "start_date = \"2020-01-01\"\n",
    "end_date = \"2024-12-02\"\n",
    "type = 'Adj Close'\n",
    "\n",
    "data = vt.get_data(currencies, start_date, end_date, type)\n",
    "positions = [7100000, 5300000] # How much you have in each currency. Must match the order in currencies.\n",
    "conf = 99 # Nivel de confianza\n",
    "long = True\n",
    "\n",
    "var_forex_df = vt.var_forex(data, positions, conf, long, currencies)\n",
    "var_forex_df"
   ]
  },
  {
   "cell_type": "markdown",
   "metadata": {},
   "source": [
    "## rebalance_stocks"
   ]
  },
  {
   "cell_type": "code",
   "execution_count": 5,
   "metadata": {},
   "outputs": [
    {
     "name": "stderr",
     "output_type": "stream",
     "text": [
      "[*********************100%***********************]  5 of 5 completed\n"
     ]
    },
    {
     "data": {
      "text/html": [
       "<div>\n",
       "<style scoped>\n",
       "    .dataframe tbody tr th:only-of-type {\n",
       "        vertical-align: middle;\n",
       "    }\n",
       "\n",
       "    .dataframe tbody tr th {\n",
       "        vertical-align: top;\n",
       "    }\n",
       "\n",
       "    .dataframe thead th {\n",
       "        text-align: right;\n",
       "    }\n",
       "</style>\n",
       "<table border=\"1\" class=\"dataframe\">\n",
       "  <thead>\n",
       "    <tr style=\"text-align: right;\">\n",
       "      <th>Ticker</th>\n",
       "      <th>AAPL</th>\n",
       "      <th>TSLA</th>\n",
       "      <th>AMD</th>\n",
       "      <th>LMT</th>\n",
       "      <th>JPM</th>\n",
       "    </tr>\n",
       "  </thead>\n",
       "  <tbody>\n",
       "    <tr>\n",
       "      <th>Peso Original</th>\n",
       "      <td>0.2457</td>\n",
       "      <td>0.1301</td>\n",
       "      <td>0.1820</td>\n",
       "      <td>0.3064</td>\n",
       "      <td>0.1359</td>\n",
       "    </tr>\n",
       "    <tr>\n",
       "      <th>Peso Óptimo</th>\n",
       "      <td>0.3300</td>\n",
       "      <td>0.1500</td>\n",
       "      <td>0.0600</td>\n",
       "      <td>0.4600</td>\n",
       "      <td>0.0000</td>\n",
       "    </tr>\n",
       "    <tr>\n",
       "      <th>Acciones (C/V)</th>\n",
       "      <td>752.0000</td>\n",
       "      <td>185.0000</td>\n",
       "      <td>-2,159.0000</td>\n",
       "      <td>381.0000</td>\n",
       "      <td>-1,231.0000</td>\n",
       "    </tr>\n",
       "  </tbody>\n",
       "</table>\n",
       "</div>"
      ],
      "text/plain": [
       "Ticker             AAPL     TSLA         AMD      LMT         JPM\n",
       "Peso Original    0.2457   0.1301      0.1820   0.3064      0.1359\n",
       "Peso Óptimo      0.3300   0.1500      0.0600   0.4600      0.0000\n",
       "Acciones (C/V) 752.0000 185.0000 -2,159.0000 381.0000 -1,231.0000"
      ]
     },
     "execution_count": 5,
     "metadata": {},
     "output_type": "execute_result"
    }
   ],
   "source": [
    "stocks = [\"AAPL\", \"TSLA\", \"AMD\", \"LMT\", \"JPM\"]\n",
    "start_date = \"2020-01-01\"\n",
    "end_date = \"2023-01-01\"\n",
    "type = 'Adj Close' # 'Close', select the type of price you want to download\n",
    "\n",
    "data = vt.get_data(stocks, start_date, end_date, type)\n",
    "\n",
    "rt = data.pct_change().dropna()\n",
    "stock_value = n_stocks * data.iloc[-1]\n",
    "portfolio_value = stock_value.sum()\n",
    "w_original = stock_value / portfolio_value\n",
    "w_opt = [0.33, 0.15, 0.06, 0.46, 0.00]\n",
    "\n",
    "rebalance_df = vt.rebalance_stocks(w_original, w_opt, data, stocks, portfolio_value)\n",
    "rebalance_df"
   ]
  },
  {
   "cell_type": "markdown",
   "metadata": {},
   "source": [
    "## var_weights"
   ]
  },
  {
   "cell_type": "code",
   "execution_count": 6,
   "metadata": {},
   "outputs": [
    {
     "name": "stderr",
     "output_type": "stream",
     "text": [
      "[*********************100%***********************]  5 of 5 completed\n"
     ]
    },
    {
     "data": {
      "text/plain": [
       "0.028849487187278137"
      ]
     },
     "execution_count": 6,
     "metadata": {},
     "output_type": "execute_result"
    }
   ],
   "source": [
    "stocks = [\"AAPL\", \"TSLA\", \"AMD\", \"LMT\", \"JPM\"]\n",
    "start_date = \"2020-01-01\"\n",
    "end_date = \"2023-01-01\"\n",
    "type = 'Adj Close' # 'Close', select the type of price you want to download\n",
    "\n",
    "data = vt.get_data(stocks, start_date, end_date, type)\n",
    "\n",
    "weights = [0.2457, 0.1301, 0.1820, 0.3064, 0.1358]\n",
    "conf = 95\n",
    "var_pct = vt.var_weights(data, weights, conf)\n",
    "var_pct"
   ]
  },
  {
   "cell_type": "markdown",
   "metadata": {},
   "source": [
    "## cvar_weights"
   ]
  },
  {
   "cell_type": "code",
   "execution_count": 7,
   "metadata": {},
   "outputs": [
    {
     "name": "stderr",
     "output_type": "stream",
     "text": [
      "[*********************100%***********************]  5 of 5 completed\n"
     ]
    },
    {
     "data": {
      "text/plain": [
       "0.0463439529060043"
      ]
     },
     "execution_count": 7,
     "metadata": {},
     "output_type": "execute_result"
    }
   ],
   "source": [
    "stocks = [\"AAPL\", \"TSLA\", \"AMD\", \"LMT\", \"JPM\"]\n",
    "start_date = \"2020-01-01\"\n",
    "end_date = \"2023-01-01\"\n",
    "type = 'Adj Close' # 'Close', select the type of price you want to download\n",
    "\n",
    "data = vt.get_data(stocks, start_date, end_date, type)\n",
    "\n",
    "weights = [0.2457, 0.1301, 0.1820, 0.3064, 0.1358]\n",
    "conf = 95\n",
    "cvar_pct = vt.cvar_weights(data, weights, conf)\n",
    "cvar_pct"
   ]
  },
  {
   "cell_type": "markdown",
   "metadata": {},
   "source": [
    "## opt_sharpe"
   ]
  },
  {
   "cell_type": "code",
   "execution_count": 8,
   "metadata": {},
   "outputs": [
    {
     "name": "stderr",
     "output_type": "stream",
     "text": [
      "[*********************100%***********************]  8 of 8 completed\n"
     ]
    },
    {
     "data": {
      "text/html": [
       "<div>\n",
       "<style scoped>\n",
       "    .dataframe tbody tr th:only-of-type {\n",
       "        vertical-align: middle;\n",
       "    }\n",
       "\n",
       "    .dataframe tbody tr th {\n",
       "        vertical-align: top;\n",
       "    }\n",
       "\n",
       "    .dataframe thead th {\n",
       "        text-align: right;\n",
       "    }\n",
       "</style>\n",
       "<table border=\"1\" class=\"dataframe\">\n",
       "  <thead>\n",
       "    <tr style=\"text-align: right;\">\n",
       "      <th></th>\n",
       "      <th>w</th>\n",
       "    </tr>\n",
       "    <tr>\n",
       "      <th>Ticker</th>\n",
       "      <th></th>\n",
       "    </tr>\n",
       "  </thead>\n",
       "  <tbody>\n",
       "    <tr>\n",
       "      <th>WMT</th>\n",
       "      <td>0.4220</td>\n",
       "    </tr>\n",
       "    <tr>\n",
       "      <th>AAPL</th>\n",
       "      <td>0.1577</td>\n",
       "    </tr>\n",
       "    <tr>\n",
       "      <th>GOOGL</th>\n",
       "      <td>0.0000</td>\n",
       "    </tr>\n",
       "    <tr>\n",
       "      <th>PG</th>\n",
       "      <td>0.0000</td>\n",
       "    </tr>\n",
       "    <tr>\n",
       "      <th>XOM</th>\n",
       "      <td>0.1414</td>\n",
       "    </tr>\n",
       "    <tr>\n",
       "      <th>KO</th>\n",
       "      <td>0.0000</td>\n",
       "    </tr>\n",
       "    <tr>\n",
       "      <th>CMG</th>\n",
       "      <td>0.2789</td>\n",
       "    </tr>\n",
       "    <tr>\n",
       "      <th>F</th>\n",
       "      <td>0.0000</td>\n",
       "    </tr>\n",
       "  </tbody>\n",
       "</table>\n",
       "</div>"
      ],
      "text/plain": [
       "            w\n",
       "Ticker       \n",
       "WMT    0.4220\n",
       "AAPL   0.1577\n",
       "GOOGL  0.0000\n",
       "PG     0.0000\n",
       "XOM    0.1414\n",
       "KO     0.0000\n",
       "CMG    0.2789\n",
       "F      0.0000"
      ]
     },
     "execution_count": 8,
     "metadata": {},
     "output_type": "execute_result"
    }
   ],
   "source": [
    "stocks=['WMT','AAPL','GOOGL','PG','XOM','KO','CMG','F']\n",
    "start_date='2020-01-01'\n",
    "end_date='2024-11-24'\n",
    "type='Adj Close'\n",
    "\n",
    "data = vt.get_data(stocks, start_date, end_date, type)\n",
    "returns = data.pct_change().dropna()\n",
    "rf = 0.04413\n",
    "\n",
    "opt_sharpe_df = vt.opt_sharpe(returns, rf)\n",
    "opt_sharpe_df"
   ]
  },
  {
   "cell_type": "markdown",
   "metadata": {},
   "source": [
    "## min_variance"
   ]
  },
  {
   "cell_type": "code",
   "execution_count": 9,
   "metadata": {},
   "outputs": [
    {
     "name": "stderr",
     "output_type": "stream",
     "text": [
      "[*********************100%***********************]  8 of 8 completed\n"
     ]
    },
    {
     "data": {
      "text/html": [
       "<div>\n",
       "<style scoped>\n",
       "    .dataframe tbody tr th:only-of-type {\n",
       "        vertical-align: middle;\n",
       "    }\n",
       "\n",
       "    .dataframe tbody tr th {\n",
       "        vertical-align: top;\n",
       "    }\n",
       "\n",
       "    .dataframe thead th {\n",
       "        text-align: right;\n",
       "    }\n",
       "</style>\n",
       "<table border=\"1\" class=\"dataframe\">\n",
       "  <thead>\n",
       "    <tr style=\"text-align: right;\">\n",
       "      <th></th>\n",
       "      <th>w</th>\n",
       "    </tr>\n",
       "    <tr>\n",
       "      <th>Ticker</th>\n",
       "      <th></th>\n",
       "    </tr>\n",
       "  </thead>\n",
       "  <tbody>\n",
       "    <tr>\n",
       "      <th>WMT</th>\n",
       "      <td>0.2833</td>\n",
       "    </tr>\n",
       "    <tr>\n",
       "      <th>AAPL</th>\n",
       "      <td>0.0000</td>\n",
       "    </tr>\n",
       "    <tr>\n",
       "      <th>GOOGL</th>\n",
       "      <td>0.0194</td>\n",
       "    </tr>\n",
       "    <tr>\n",
       "      <th>PG</th>\n",
       "      <td>0.2568</td>\n",
       "    </tr>\n",
       "    <tr>\n",
       "      <th>XOM</th>\n",
       "      <td>0.0816</td>\n",
       "    </tr>\n",
       "    <tr>\n",
       "      <th>KO</th>\n",
       "      <td>0.2598</td>\n",
       "    </tr>\n",
       "    <tr>\n",
       "      <th>CMG</th>\n",
       "      <td>0.0989</td>\n",
       "    </tr>\n",
       "    <tr>\n",
       "      <th>F</th>\n",
       "      <td>0.0000</td>\n",
       "    </tr>\n",
       "  </tbody>\n",
       "</table>\n",
       "</div>"
      ],
      "text/plain": [
       "            w\n",
       "Ticker       \n",
       "WMT    0.2833\n",
       "AAPL   0.0000\n",
       "GOOGL  0.0194\n",
       "PG     0.2568\n",
       "XOM    0.0816\n",
       "KO     0.2598\n",
       "CMG    0.0989\n",
       "F      0.0000"
      ]
     },
     "execution_count": 9,
     "metadata": {},
     "output_type": "execute_result"
    }
   ],
   "source": [
    "stocks=['WMT','AAPL','GOOGL','PG','XOM','KO','CMG','F']\n",
    "start_date='2020-01-01'\n",
    "end_date='2024-11-24'\n",
    "type='Adj Close'\n",
    "\n",
    "data = vt.get_data(stocks, start_date, end_date, type)\n",
    "returns = data.pct_change().dropna()\n",
    "\n",
    "min_variance_df = vt.min_variance(returns)\n",
    "min_variance_df"
   ]
  },
  {
   "cell_type": "markdown",
   "metadata": {},
   "source": [
    "## mcc_portfolio"
   ]
  },
  {
   "cell_type": "code",
   "execution_count": 10,
   "metadata": {},
   "outputs": [
    {
     "name": "stderr",
     "output_type": "stream",
     "text": [
      "[*********************100%***********************]  4 of 4 completed\n"
     ]
    },
    {
     "data": {
      "text/html": [
       "<div>\n",
       "<style scoped>\n",
       "    .dataframe tbody tr th:only-of-type {\n",
       "        vertical-align: middle;\n",
       "    }\n",
       "\n",
       "    .dataframe tbody tr th {\n",
       "        vertical-align: top;\n",
       "    }\n",
       "\n",
       "    .dataframe thead th {\n",
       "        text-align: right;\n",
       "    }\n",
       "</style>\n",
       "<table border=\"1\" class=\"dataframe\">\n",
       "  <thead>\n",
       "    <tr style=\"text-align: right;\">\n",
       "      <th></th>\n",
       "      <th>w</th>\n",
       "    </tr>\n",
       "    <tr>\n",
       "      <th>Ticker</th>\n",
       "      <th></th>\n",
       "    </tr>\n",
       "  </thead>\n",
       "  <tbody>\n",
       "    <tr>\n",
       "      <th>VBTLX</th>\n",
       "      <td>0.6601</td>\n",
       "    </tr>\n",
       "    <tr>\n",
       "      <th>GSG</th>\n",
       "      <td>0.1209</td>\n",
       "    </tr>\n",
       "    <tr>\n",
       "      <th>VTI</th>\n",
       "      <td>0.1171</td>\n",
       "    </tr>\n",
       "    <tr>\n",
       "      <th>VNQ</th>\n",
       "      <td>0.1018</td>\n",
       "    </tr>\n",
       "  </tbody>\n",
       "</table>\n",
       "</div>"
      ],
      "text/plain": [
       "            w\n",
       "Ticker       \n",
       "VBTLX  0.6601\n",
       "GSG    0.1209\n",
       "VTI    0.1171\n",
       "VNQ    0.1018"
      ]
     },
     "execution_count": 10,
     "metadata": {},
     "output_type": "execute_result"
    }
   ],
   "source": [
    "# bonds, commodities, equities and real estate\n",
    "stocks = ['VBTLX', 'GSG', 'VTI', 'VNQ']\n",
    "start_date = '2019-01-01'\n",
    "end_date = '2024-01-01'\n",
    "type = 'Adj Close'\n",
    "\n",
    "data = vt.get_data(stocks, start_date, end_date, type)\n",
    "returns = data.pct_change().dropna()\n",
    "alpha = 0.05\n",
    "\n",
    "mcc_weights_df = vt.mcc_portfolio(returns, alpha)\n",
    "mcc_weights_df"
   ]
  },
  {
   "cell_type": "markdown",
   "metadata": {},
   "source": [
    "## cvar_contributions"
   ]
  },
  {
   "cell_type": "code",
   "execution_count": 11,
   "metadata": {},
   "outputs": [
    {
     "name": "stderr",
     "output_type": "stream",
     "text": [
      "[*********************100%***********************]  4 of 4 completed\n"
     ]
    },
    {
     "data": {
      "text/plain": [
       "[0.002948268373954786,\n",
       " 0.0029642413550656998,\n",
       " 0.002740975622777905,\n",
       " 0.00296291905739987]"
      ]
     },
     "execution_count": 11,
     "metadata": {},
     "output_type": "execute_result"
    }
   ],
   "source": [
    "# bonds, commodities, equities and real estate\n",
    "stocks = ['VBTLX', 'GSG', 'VTI', 'VNQ']\n",
    "start_date = '2019-01-01'\n",
    "end_date = '2024-01-01'\n",
    "type = 'Adj Close'\n",
    "\n",
    "data = vt.get_data(stocks, start_date, end_date, type)\n",
    "returns = data.pct_change().dropna()\n",
    "alpha = 0.05\n",
    "\n",
    "mcc_weights_df = vt.mcc_portfolio(returns, alpha)\n",
    "w = mcc_weights_df['w'].values\n",
    "\n",
    "cvar_contributions = vt.cvar_contributions(w, returns, alpha)\n",
    "cvar_contributions"
   ]
  },
  {
   "cell_type": "markdown",
   "metadata": {},
   "source": [
    "## min_cvar"
   ]
  },
  {
   "cell_type": "code",
   "execution_count": 12,
   "metadata": {},
   "outputs": [
    {
     "name": "stderr",
     "output_type": "stream",
     "text": [
      "[*********************100%***********************]  4 of 4 completed\n"
     ]
    },
    {
     "data": {
      "text/html": [
       "<div>\n",
       "<style scoped>\n",
       "    .dataframe tbody tr th:only-of-type {\n",
       "        vertical-align: middle;\n",
       "    }\n",
       "\n",
       "    .dataframe tbody tr th {\n",
       "        vertical-align: top;\n",
       "    }\n",
       "\n",
       "    .dataframe thead th {\n",
       "        text-align: right;\n",
       "    }\n",
       "</style>\n",
       "<table border=\"1\" class=\"dataframe\">\n",
       "  <thead>\n",
       "    <tr style=\"text-align: right;\">\n",
       "      <th></th>\n",
       "      <th>w</th>\n",
       "    </tr>\n",
       "    <tr>\n",
       "      <th>Ticker</th>\n",
       "      <th></th>\n",
       "    </tr>\n",
       "  </thead>\n",
       "  <tbody>\n",
       "    <tr>\n",
       "      <th>VBTLX</th>\n",
       "      <td>0.9563</td>\n",
       "    </tr>\n",
       "    <tr>\n",
       "      <th>GSG</th>\n",
       "      <td>0.0374</td>\n",
       "    </tr>\n",
       "    <tr>\n",
       "      <th>VTI</th>\n",
       "      <td>0.0063</td>\n",
       "    </tr>\n",
       "    <tr>\n",
       "      <th>VNQ</th>\n",
       "      <td>0.0000</td>\n",
       "    </tr>\n",
       "  </tbody>\n",
       "</table>\n",
       "</div>"
      ],
      "text/plain": [
       "            w\n",
       "Ticker       \n",
       "VBTLX  0.9563\n",
       "GSG    0.0374\n",
       "VTI    0.0063\n",
       "VNQ    0.0000"
      ]
     },
     "execution_count": 12,
     "metadata": {},
     "output_type": "execute_result"
    }
   ],
   "source": [
    "# bonds, commodities, equities and real estate\n",
    "stocks = ['VBTLX', 'GSG', 'VTI', 'VNQ']\n",
    "start_date = '2019-01-01'\n",
    "end_date = '2024-01-01'\n",
    "type = 'Adj Close'\n",
    "\n",
    "data = vt.get_data(stocks, start_date, end_date, type)\n",
    "returns = data.pct_change().dropna()\n",
    "alpha = 0.05\n",
    "\n",
    "min_cvar_df = vt.min_cvar(returns, alpha)\n",
    "min_cvar_df"
   ]
  },
  {
   "cell_type": "markdown",
   "metadata": {},
   "source": [
    "## plot_weights"
   ]
  },
  {
   "cell_type": "code",
   "execution_count": 13,
   "metadata": {},
   "outputs": [
    {
     "name": "stderr",
     "output_type": "stream",
     "text": [
      "[*********************100%***********************]  8 of 8 completed\n"
     ]
    },
    {
     "data": {
      "image/png": "[encoded data removed]",
      "text/plain": [
       "<Figure size 800x800 with 1 Axes>"
      ]
     },
     "metadata": {},
     "output_type": "display_data"
    }
   ],
   "source": [
    "stocks=['WMT','AAPL','GOOGL','PG','XOM','KO','CMG','F']\n",
    "start_date='2020-01-01'\n",
    "end_date='2024-11-24'\n",
    "type='Adj Close'\n",
    "\n",
    "data = vt.get_data(stocks, start_date, end_date, type)\n",
    "returns = data.pct_change().dropna()\n",
    "rf = 0.04413\n",
    "\n",
    "opt_sharpe_df = vt.opt_sharpe(returns, rf)\n",
    "\n",
    "vt.plot_weights(opt_sharpe_df)"
   ]
  }
 ],
 "metadata": {
  "kernelspec": {
   "display_name": "base",
   "language": "python",
   "name": "python3"
  },
  "language_info": {
   "codemirror_mode": {
    "name": "ipython",
    "version": 3
   },
   "file_extension": ".py",
   "mimetype": "text/x-python",
   "name": "python",
   "nbconvert_exporter": "python",
   "pygments_lexer": "ipython3",
   "version": "3.12.3"
  }
 },
 "nbformat": 4,
 "nbformat_minor": 2
}
