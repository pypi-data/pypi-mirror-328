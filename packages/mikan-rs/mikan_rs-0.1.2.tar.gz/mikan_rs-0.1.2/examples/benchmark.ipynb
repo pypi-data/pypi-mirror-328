{
 "cells": [
  {
   "cell_type": "markdown",
   "metadata": {},
   "source": [
    "## Benchmark"
   ]
  },
  {
   "cell_type": "code",
   "execution_count": 1,
   "metadata": {},
   "outputs": [],
   "source": [
    "import mikan\n",
    "import numpy as np\n",
    "import SimpleITK as sitk\n",
    "import time\n",
    "from medpy.metric import dc, hd, hd95, assd"
   ]
  },
  {
   "cell_type": "markdown",
   "metadata": {},
   "source": [
    "## Load Data"
   ]
  },
  {
   "cell_type": "code",
   "execution_count": null,
   "metadata": {},
   "outputs": [],
   "source": [
    "gt = sitk.ReadImage(rf\"..\\data\\patients_26_ground_truth.nii.gz\", sitk.sitkUInt8)\n",
    "pred = sitk.ReadImage(rf\"..\\data\\patients_26_segmentation.nii.gz\", sitk.sitkUInt8)\n",
    "\n",
    "gt_arr = sitk.GetArrayFromImage(gt)\n",
    "pred_arr = sitk.GetArrayFromImage(pred)\n",
    "\n",
    "# Downsample for faster\n",
    "# If you're patient, you can comment out here and wait for the medpy to run for 30 minutes 😆\n",
    "gt_arr = np.array(gt_arr[::2, ::2, ::2])\n",
    "pred_arr =  np.array(pred_arr[::2, ::2, ::2])"
   ]
  },
  {
   "cell_type": "markdown",
   "metadata": {},
   "source": [
    "### DSC"
   ]
  },
  {
   "cell_type": "code",
   "execution_count": 3,
   "metadata": {},
   "outputs": [
    {
     "name": "stdout",
     "output_type": "stream",
     "text": [
      "DSC: 15.09x faster\n"
     ]
    }
   ],
   "source": [
    "# mikan: DSC\n",
    "t = time.time()\n",
    "evaluator = mikan.ArrayEvaluator(gt_arr, pred_arr, spacing=gt.GetSpacing())\n",
    "dsc = evaluator.labels([1,2,3,4,5]).metrics(\"dsc\")\n",
    "mikan_costs = time.time() - t\n",
    "\n",
    "# medpy: DSC\n",
    "t = time.time()\n",
    "for i in (1,2,3,4,5):\n",
    "    dsc = dc(pred_arr == i, gt_arr == i)\n",
    "medpy_costs = time.time() - t\n",
    "\n",
    "print(f\"DSC: {medpy_costs / mikan_costs :.2f}x faster\")\n"
   ]
  },
  {
   "cell_type": "markdown",
   "metadata": {},
   "source": [
    "### HD"
   ]
  },
  {
   "cell_type": "code",
   "execution_count": 4,
   "metadata": {},
   "outputs": [
    {
     "name": "stdout",
     "output_type": "stream",
     "text": [
      "Mikan has calculated Hausdorff distance and cost 0.78 s.\n",
      "Let's waiting for medpy, be patient for a while...\n",
      "HD: 68.78x faster\n"
     ]
    }
   ],
   "source": [
    "# mikan: HD\n",
    "t = time.time()\n",
    "evaluator = mikan.ArrayEvaluator(gt_arr, pred_arr, spacing=gt.GetSpacing())\n",
    "hausdorff_distance = evaluator.labels([1,2,3,4,5]).metrics(\"HD\")\n",
    "mikan_costs = time.time() - t\n",
    "print(f\"Mikan has calculated Hausdorff distance and cost {mikan_costs:.2f} s.\")\n",
    "print(f\"Let's waiting for medpy, be patient for a while...\")\n",
    "\n",
    "# medpy: HD\n",
    "t = time.time()\n",
    "for i in (1,2,3,4,5):\n",
    "    hausdorff_distance = hd(pred_arr == i, gt_arr == i, voxelspacing=gt.GetSpacing()[::-1])\n",
    "medpy_costs = time.time() - t\n",
    "\n",
    "print(f\"HD: {medpy_costs / mikan_costs :.2f}x faster\")"
   ]
  },
  {
   "cell_type": "markdown",
   "metadata": {},
   "source": [
    "### HD/HD95/ASSD"
   ]
  },
  {
   "cell_type": "code",
   "execution_count": 5,
   "metadata": {},
   "outputs": [
    {
     "name": "stdout",
     "output_type": "stream",
     "text": [
      "{'1': {'hd': 3.8066790103912354, 'hd95': 0.7410011291503906, 'assd': 0.24823972582817078}, '2': {'hd': 5.875893592834473, 'hd95': 0.8939142823219299, 'assd': 0.30189621448516846}, '3': {'hd': 7.1895952224731445, 'hd95': 0.7410049438476562, 'assd': 0.29092279076576233}, '4': {'hd': 55.0378303527832, 'hd95': 0.7410011291503906, 'assd': 0.2536499500274658}, '5': {'hd': 46.238975524902344, 'hd95': 0.7410125732421875, 'assd': 0.27448806166648865}}\n",
      "Mikan has calculated distance and cost 0.85 s.\n",
      "Let's waiting for medpy, be patient for a while...\n",
      "{1: {'hd': 3.8066796490554484, 'hd95': 0.7409999966621399, 'assd': 0.24827345569665876}, 2: {'hd': 5.875891921349948, 'hd95': 0.893913303991663, 'assd': 0.3018870383121832}, 3: {'hd': 7.18959419428273, 'hd95': 0.7409999966621399, 'assd': 0.2909637348388582}, 4: {'hd': 55.03783156368531, 'hd95': 0.7409999966621399, 'assd': 0.25367831066385055}, 5: {'hd': 46.23897571237574, 'hd95': 0.7409999966621399, 'assd': 0.2745253765803193}}\n",
      "Distances: 190.71x faster\n"
     ]
    }
   ],
   "source": [
    "# mikan: Distances\n",
    "t = time.time()\n",
    "evaluator = mikan.ArrayEvaluator(gt_arr, pred_arr, spacing=gt.GetSpacing())\n",
    "mikan_distances = evaluator.labels([1,2,3,4,5]).metrics([\"hd\", \"hd95\", \"assd\"])\n",
    "mikan_costs = time.time() - t\n",
    "print(mikan_distances)\n",
    "print(f\"Mikan has calculated distance and cost {mikan_costs:.2f} s.\")\n",
    "print(f\"Let's waiting for medpy, be patient for a while...\")\n",
    "\n",
    "# medpy: Distances\n",
    "t = time.time()\n",
    "medpy_results = {}\n",
    "for i in (1,2,3,4,5):\n",
    "    hd_ = hd(pred_arr == i, gt_arr == i, voxelspacing=gt.GetSpacing()[::-1])\n",
    "    hd95_ = hd95(pred_arr == i, gt_arr == i, voxelspacing=gt.GetSpacing()[::-1])\n",
    "    assd_ = assd(pred_arr == i, gt_arr == i, voxelspacing=gt.GetSpacing()[::-1])\n",
    "    medpy_results[i] = {\n",
    "        \"hd\": hd_,\n",
    "        \"hd95\": hd95_,\n",
    "        \"assd\": assd_,\n",
    "    }\n",
    "medpy_costs = time.time() - t\n",
    "print(medpy_results)\n",
    "print(f\"Distances: {medpy_costs / mikan_costs :.2f}x faster\")"
   ]
  }
 ],
 "metadata": {
  "kernelspec": {
   "display_name": "Python 3",
   "language": "python",
   "name": "python3"
  },
  "language_info": {
   "codemirror_mode": {
    "name": "ipython",
    "version": 3
   },
   "file_extension": ".py",
   "mimetype": "text/x-python",
   "name": "python",
   "nbconvert_exporter": "python",
   "pygments_lexer": "ipython3",
   "version": "3.12.3"
  }
 },
 "nbformat": 4,
 "nbformat_minor": 2
}
