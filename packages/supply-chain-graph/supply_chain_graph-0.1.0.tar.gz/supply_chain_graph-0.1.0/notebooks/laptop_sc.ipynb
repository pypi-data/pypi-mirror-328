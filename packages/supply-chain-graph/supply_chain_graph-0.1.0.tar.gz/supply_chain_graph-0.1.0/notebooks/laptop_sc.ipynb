{
 "cells": [
  {
   "cell_type": "code",
   "execution_count": 2,
   "id": "73120d0d-d3dc-4982-9eb4-134e9c1eaa32",
   "metadata": {},
   "outputs": [
    {
     "name": "stdout",
     "output_type": "stream",
     "text": [
      "Hello Rust\n"
     ]
    },
    {
     "data": {
      "text/plain": [
       "()"
      ]
     },
     "execution_count": 2,
     "metadata": {},
     "output_type": "execute_result"
    }
   ],
   "source": [
    "println!(\"Hello Rust\")"
   ]
  },
  {
   "cell_type": "code",
   "execution_count": null,
   "id": "70becbdb-62bd-4325-bac0-36daf8cf04f6",
   "metadata": {},
   "outputs": [],
   "source": []
  },
  {
   "cell_type": "code",
   "execution_count": null,
   "id": "898066bf-652c-422b-8ae7-e4285387774b",
   "metadata": {},
   "outputs": [],
   "source": []
  },
  {
   "cell_type": "code",
   "execution_count": 3,
   "id": "ad3e446e-a1e8-435a-99f9-059c66ee695a",
   "metadata": {},
   "outputs": [],
   "source": [
    ":dep supply = { path = \"../\" }"
   ]
  },
  {
   "cell_type": "code",
   "execution_count": null,
   "id": "3f2f6cdc-cc3e-422f-8c8a-22a18e531385",
   "metadata": {},
   "outputs": [],
   "source": []
  },
  {
   "cell_type": "code",
   "execution_count": 4,
   "id": "72c2eefe-8f08-483a-80ad-98d54b7d9553",
   "metadata": {},
   "outputs": [],
   "source": [
    ":dep chrono = \"0.4\"\n",
    ":dep lazy_static = \"1.4\"\n",
    ":dep log = \"0.4\"\n",
    ":dep env_logger = \"0.11.4\"\n",
    ":dep log4rs = \"1.2\"\n",
    ":dep serde = { version = \"1.0\", features = [\"derive\"] }\n",
    ":dep serde_yaml = \"0.9\"\n",
    ":dep anyhow = \"1.0\"\n",
    ":dep tempfile = \"3.8\"\n",
    ":dep function_name = \"0.3.0\"\n",
    ":dep parking_lot = \"0.12\""
   ]
  },
  {
   "cell_type": "code",
   "execution_count": null,
   "id": "aa330a68-c906-4662-9edb-6fb0e2bf9ea5",
   "metadata": {},
   "outputs": [],
   "source": []
  },
  {
   "cell_type": "code",
   "execution_count": 5,
   "id": "9c69dab0-ca1c-4526-9027-d98e47ccd78f",
   "metadata": {},
   "outputs": [],
   "source": [
    "use supply::demand_planner::DemandPlanner;\n",
    "use supply::demand::Demand;\n",
    "use supply::sku::SKU;\n",
    "use supply::specification::Specification;\n",
    "use supply::flow::Flow;\n",
    "use supply::simultaneous_flow::SimultaneousFlow;\n",
    "use supply::operation::{Operation, MaterialFlowVariant, ResourceFlowVariant};\n",
    "use chrono::NaiveDate;\n",
    "use std::sync::Arc;\n",
    "use parking_lot::Mutex;\n",
    "use supply::reports::plan_exporter::PlanExporter;\n",
    "use std::fs;\n",
    "use function_name::named;\n",
    "use supply::resource::Resource;\n",
    "use supply::resource_flow::ResourceFlow;\n",
    "use supply::operation::OperationVariant;\n",
    "\n",
    "use supply::logger_config;\n",
    "use log::LevelFilter;\n"
   ]
  },
  {
   "cell_type": "code",
   "execution_count": 6,
   "id": "dc5abf4b-81b9-4bee-8676-c8885f7d4a32",
   "metadata": {},
   "outputs": [],
   "source": [
    "fn create_date(year: i32, month: u32, day: u32) -> NaiveDate {\n",
    "    NaiveDate::from_ymd_opt(year, month, day).unwrap()\n",
    "}"
   ]
  },
  {
   "cell_type": "code",
   "execution_count": 7,
   "id": "c676748a-92d9-418a-b456-c26c788e7426",
   "metadata": {},
   "outputs": [],
   "source": [
    "fn create_laptop_supply_chain() -> (\n",
    "    // DC1 Products\n",
    "    Arc<Mutex<SKU>>, // Laptop A DC1\n",
    "    Arc<Mutex<SKU>>, // Laptop B DC1\n",
    "    // Plant 1 Products\n",
    "    Arc<Mutex<SKU>>, // Laptop A Plant1\n",
    "    Arc<Mutex<SKU>>, // Laptop B Plant1\n",
    "    Arc<Mutex<SKU>>, // Disk\n",
    "    Arc<Mutex<SKU>>, // CPU\n",
    "    Arc<Mutex<SKU>>, // Memory 8GB\n",
    "    Arc<Mutex<SKU>>, // Memory 16GB\n",
    "    // Resource\n",
    "    Arc<Mutex<Resource>>, // Assembly Resource\n",
    "    // Operations\n",
    "    Arc<Mutex<Operation>>, // Laptop A Assembly\n",
    "    Arc<Mutex<Operation>>, // Laptop B Assembly\n",
    "    Arc<Mutex<Operation>>, // Laptop A Transport\n",
    "    Arc<Mutex<Operation>>  // Laptop B Transport\n",
    ") {\n",
    "    // Create SKUs\n",
    "    let laptop_a_dc1 = SKU::from_name(\"Laptop_A@DC1\");\n",
    "    let laptop_b_dc1 = SKU::from_name(\"Laptop_B@DC1\");\n",
    "    let laptop_a_plant1 = SKU::from_name(\"Laptop_A@Plant1\");\n",
    "    let laptop_b_plant1 = SKU::from_name(\"Laptop_B@Plant1\");\n",
    "    let disk = SKU::from_name(\"Disk@Plant1\");\n",
    "    let cpu = SKU::from_name(\"CPU@Plant1\");\n",
    "    let memory_8gb = SKU::from_name(\"Memory_8GB@Plant1\");\n",
    "    let memory_16gb = SKU::from_name(\"Memory_16GB@Plant1\");\n",
    "    \n",
    "    // Create assembly resource\n",
    "    let assembly_resource = Resource::from_name(\"Assemble_Laptop@Plant1\");\n",
    "    let assembly_resource_flow = ResourceFlow::new(1.0, assembly_resource.clone());\n",
    "\n",
    "    // Create flows for Laptop A assembly\n",
    "    let laptop_a_output = Flow::new(false, 1.0, laptop_a_plant1.clone());\n",
    "    let laptop_a_components = SimultaneousFlow::new(vec![\n",
    "        Flow::new(true, 1.0, disk.clone()),\n",
    "        Flow::new(true, 1.0, cpu.clone()),\n",
    "        Flow::new(true, 2.0, memory_8gb.clone()),\n",
    "    ]);\n",
    "\n",
    "    // Create flows for Laptop B assembly\n",
    "    let laptop_b_output = Flow::new(false, 1.0, laptop_b_plant1.clone());\n",
    "    let laptop_b_components = SimultaneousFlow::new(vec![\n",
    "        Flow::new(true, 1.0, disk.clone()),\n",
    "        Flow::new(true, 1.0, cpu.clone()),\n",
    "        Flow::new(true, 1.0, memory_16gb.clone()),\n",
    "    ]);\n",
    "\n",
    "    // Create assembly operations\n",
    "    let laptop_a_assembly = Operation::new(\n",
    "        \"Make_Laptop_A@Plant1\".to_string(),\n",
    "        1, // lead time\n",
    "        1, // min batch\n",
    "        1, // batch multiple\n",
    "        MaterialFlowVariant::Single(laptop_a_output),\n",
    "        MaterialFlowVariant::Simultaneous(laptop_a_components),\n",
    "        ResourceFlowVariant::SingleResource(assembly_resource_flow.clone())\n",
    "    );\n",
    "\n",
    "    let laptop_b_assembly = Operation::new(\n",
    "        \"Make_Laptop_B@Plant1\".to_string(),\n",
    "        2, // lead time\n",
    "        1, // min batch\n",
    "        1, // batch multiple\n",
    "        MaterialFlowVariant::Single(laptop_b_output),\n",
    "        MaterialFlowVariant::Simultaneous(laptop_b_components),\n",
    "        ResourceFlowVariant::SingleResource(assembly_resource_flow)\n",
    "    );\n",
    "\n",
    "    // Create transport operations\n",
    "    let laptop_a_transport = Operation::new(\n",
    "        \"Move_Laptop_A-to-DC1\".to_string(),\n",
    "        1, // lead time\n",
    "        1, // min batch\n",
    "        1, // batch multiple\n",
    "        MaterialFlowVariant::Single(Flow::new(false, 1.0, laptop_a_dc1.clone())),\n",
    "        MaterialFlowVariant::Single(Flow::new(true, 1.0, laptop_a_plant1.clone())),\n",
    "        ResourceFlowVariant::None\n",
    "    );\n",
    "\n",
    "    let laptop_b_transport = Operation::new(\n",
    "        \"Move_Laptop_B-to-DC1\".to_string(),\n",
    "        1, // lead time\n",
    "        1, // min batch\n",
    "        1, // batch multiple\n",
    "        MaterialFlowVariant::Single(Flow::new(false, 1.0, laptop_b_dc1.clone())),\n",
    "        MaterialFlowVariant::Single(Flow::new(true, 1.0, laptop_b_plant1.clone())),\n",
    "        ResourceFlowVariant::None\n",
    "    );\n",
    "\n",
    "    // Set operations on SKUs\n",
    "    laptop_a_dc1.lock().set_top_producing_operation(OperationVariant::Basic(laptop_a_transport.clone()));\n",
    "    laptop_b_dc1.lock().set_top_producing_operation(OperationVariant::Basic(laptop_b_transport.clone()));\n",
    "    laptop_a_plant1.lock().set_top_producing_operation(OperationVariant::Basic(laptop_a_assembly.clone()));\n",
    "    laptop_b_plant1.lock().set_top_producing_operation(OperationVariant::Basic(laptop_b_assembly.clone()));\n",
    "\n",
    "\n",
    "    (\n",
    "        laptop_a_dc1, laptop_b_dc1,\n",
    "        laptop_a_plant1, laptop_b_plant1,\n",
    "        disk, cpu, memory_8gb, memory_16gb,\n",
    "        assembly_resource,\n",
    "        laptop_a_assembly, laptop_b_assembly,\n",
    "        laptop_a_transport, laptop_b_transport\n",
    "    )\n",
    "}"
   ]
  },
  {
   "cell_type": "code",
   "execution_count": 8,
   "id": "30438dbb-6d54-4b37-8cab-c4d127ad586e",
   "metadata": {},
   "outputs": [],
   "source": [
    "#[named]\n",
    "fn test_laptop_planning() {\n",
    "    /*let path_to_test_settings_yml = \"./tests/config/settings_trace_selected_demands.yml\";\n",
    "    if let Err(e) = supply::logger_config::configure_logger_from_path(path_to_test_settings_yml) {\n",
    "        eprintln!(\"Failed to configure logger: {}\", e);\n",
    "    }*/\n",
    "    let _ = logger_config::set_log_level(LevelFilter::Debug);\n",
    "    \n",
    "    let (\n",
    "        laptop_a_dc1, laptop_b_dc1,\n",
    "        _laptop_a_plant1, _laptop_b_plant1,\n",
    "        disk, cpu, memory_8gb, memory_16gb,\n",
    "        assembly_resource,\n",
    "        _laptop_a_assembly, _laptop_b_assembly,\n",
    "        _laptop_a_transport, _laptop_b_transport\n",
    "    ) = create_laptop_supply_chain();\n",
    "\n",
    "    // Set assembly resource capacity\n",
    "    let mut assembly_resource_ref = assembly_resource.lock();\n",
    "    for day in 15..=31 {\n",
    "        assembly_resource_ref.set_capacity(\n",
    "            create_date(2024, 1, day),\n",
    "            100.0 // Daily assembly capacity\n",
    "        );\n",
    "    }\n",
    "    drop(assembly_resource_ref);\n",
    "\n",
    "    // Add component inventory\n",
    "    let jan_15 = create_date(2024, 1, 15);\n",
    "    disk.lock().add_inventory(jan_15, 1000.0);\n",
    "    cpu.lock().add_inventory(jan_15, 250.0);\n",
    "    memory_8gb.lock().add_inventory(jan_15, 500.0);\n",
    "    memory_16gb.lock().add_inventory(jan_15, 500.0);\n",
    "\n",
    "    // Create demands\n",
    "    let jan_31 = create_date(2024, 1, 31);\n",
    "    let demand_a = Demand::new(\"D1\".to_string(), 200.0, jan_31, 1, laptop_a_dc1.clone());\n",
    "    let demand_b = Demand::new(\"D2\".to_string(), 150.0, jan_31, 2, laptop_b_dc1.clone());\n",
    "\n",
    "    // Plan demands\n",
    "    let dp = DemandPlanner::new();\n",
    "    let mut specification = Specification::new(2, 2);\n",
    "    //let mut specification = Specification::new_from_settings(2, path_to_test_settings_yml);\n",
    "\n",
    "    //let result = dp.plan_demand_list(vec![demand_a.clone(), demand_b.clone()], &mut specification);\n",
    "    let result = dp.plan_demand_list(vec![demand_a.clone(), demand_b.clone()], &mut specification);\n",
    "    \n",
    "    assert!(result.is_ok());\n",
    "\n",
    "    // Export and verify results\n",
    "    let test_name = function_name!().trim_start_matches(\"test_\");\n",
    "    PlanExporter::export_all(test_name).unwrap();\n",
    "    PlanExporter::compare_all(test_name).unwrap();\n",
    "    fs::remove_dir_all(PlanExporter::get_results_base_dir_parent(test_name)).unwrap();\n",
    "}\n"
   ]
  },
  {
   "cell_type": "code",
   "execution_count": 9,
   "id": "ff8575ab-8e35-4b16-aa46-124d53de7330",
   "metadata": {},
   "outputs": [],
   "source": [
    "use std::fs;\n",
    "use std::fs;\n",
    "use std::io::BufReader;\n",
    "use std::io::BufRead;"
   ]
  },
  {
   "cell_type": "code",
   "execution_count": null,
   "id": "22a12c50-34df-4371-96e7-54500795fa94",
   "metadata": {},
   "outputs": [],
   "source": []
  },
  {
   "cell_type": "code",
   "execution_count": 10,
   "id": "d3f9b62e-c548-49ce-aedf-e6c9d53370ad",
   "metadata": {},
   "outputs": [],
   "source": [
    "use std::fs::File;\n",
    "use std::io::{BufReader, BufRead};\n",
    "\n",
    "fn show_inventory() {\n",
    "    let test_name = \"jupyter\";\n",
    "    let ouput_file = \"inventory_profiles.csv\";\n",
    "    let result_dir:String =  format!(\"{}/{}\",\"..\",PlanExporter::get_results_base_dir(test_name));  \n",
    "    println!(\"{}\",result_dir);\n",
    "    let test_file = format!(\"{}/{}\", result_dir, ouput_file);\n",
    "    println!(\"{}\", test_file);\n",
    "    \n",
    "    // Read the exported file in the results folder.\n",
    "    let expect_file = test_file.clone();\n",
    "    let file = File::open(expect_file).unwrap();\n",
    "    let reader = BufReader::new(file);\n",
    "    // Iterate through each line and print in a table-like format\n",
    "    for line in reader.lines() {\n",
    "        let line = line.unwrap();\n",
    "        let fields: Vec<&str> = line.split(',').collect();\n",
    "        if fields.len() == 4 {\n",
    "            println!(\"{:<20} {:<20} {:<12} {:<15}\",fields[0],fields[1],fields[2],fields[3]);\n",
    "        }\n",
    "    }\n",
    "}"
   ]
  },
  {
   "cell_type": "code",
   "execution_count": 11,
   "id": "5742bd8f-b4e5-418e-a14c-84c04436f2b1",
   "metadata": {},
   "outputs": [
    {
     "name": "stdout",
     "output_type": "stream",
     "text": [
      "../tests/data/run_result/jupyter/expects\n",
      "../tests/data/run_result/jupyter/expects/inventory_profiles.csv\n",
      "# SKU Name           Date                 Quantity     Total Quantity \n",
      "CPU@Plant1           2024-01-15           250.00       250.00         \n",
      "CPU@Plant1           2024-01-27           -50.00       200.00         \n",
      "CPU@Plant1           2024-01-28           -100.00      100.00         \n",
      "CPU@Plant1           2024-01-29           -100.00      0.00           \n",
      "Disk@Plant1          2024-01-15           1000.00      1000.00        \n",
      "Disk@Plant1          2024-01-27           -50.00       950.00         \n",
      "Disk@Plant1          2024-01-28           -100.00      850.00         \n",
      "Disk@Plant1          2024-01-29           -100.00      750.00         \n",
      "Laptop_A@DC1         2024-01-31           0.00         0.00           \n",
      "Laptop_A@Plant1      2024-01-29           100.00       100.00         \n",
      "Laptop_A@Plant1      2024-01-30           -100.00      0.00           \n",
      "Laptop_B@DC1         2024-01-31           0.00         0.00           \n",
      "Laptop_B@Plant1      2024-01-29           50.00        50.00          \n",
      "Laptop_B@Plant1      2024-01-30           -50.00       0.00           \n",
      "Memory_16GB@Plant1   2024-01-15           500.00       500.00         \n",
      "Memory_16GB@Plant1   2024-01-27           -50.00       450.00         \n",
      "Memory_8GB@Plant1    2024-01-15           500.00       500.00         \n",
      "Memory_8GB@Plant1    2024-01-28           -200.00      300.00         \n",
      "Memory_8GB@Plant1    2024-01-29           -200.00      100.00         \n"
     ]
    },
    {
     "data": {
      "text/plain": [
       "()"
      ]
     },
     "execution_count": 11,
     "metadata": {},
     "output_type": "execute_result"
    }
   ],
   "source": [
    "show_inventory()"
   ]
  },
  {
   "cell_type": "code",
   "execution_count": 12,
   "id": "29171eca-0d8d-4b1f-b127-d02280a6fa65",
   "metadata": {},
   "outputs": [],
   "source": [
    "use std::fs::File;\n",
    "use std::io::{BufReader, BufRead};\n",
    "\n",
    "fn show_plans(count: i32) {\n",
    "    let test_name = \"jupyter\";\n",
    "    let ouput_file = \"operation_plans.csv\";\n",
    "    let result_dir = PlanExporter::get_results_base_dir(test_name);  \n",
    "    let test_file = format!(\"{}/{}\", result_dir, ouput_file);\n",
    "    \n",
    "    // Read the exported file in the results folder.\n",
    "    let expect_file = test_file.clone();\n",
    "    let file = File::open(expect_file).unwrap();\n",
    "    let reader = BufReader::new(file);\n",
    "    // Iterate through each line and print in a table-like format\n",
    "    for line in reader.lines() {\n",
    "        let line = line.unwrap();\n",
    "        //println!(\"{}\",line);\n",
    "        let fields: Vec<&str> = line.split(',').collect();\n",
    "        if fields.len() as i32  == count && count == 4 {\n",
    "            println!(\"{:<30} {:<20} {:<12} {:<15}\", fields[0],fields[1],fields[2],fields[3]);\n",
    "        }\n",
    "\n",
    "        if fields.len() as i32  == count && count == 5 {\n",
    "            println!(\"{:<30} {:<20} {:<12} {:<15} {:<15}\", fields[0],fields[1],fields[2],fields[3],fields[4]);\n",
    "        }\n",
    "\n",
    "        \n",
    "    }\n",
    "}"
   ]
  },
  {
   "cell_type": "code",
   "execution_count": 13,
   "id": "9cd2ce32-e04a-40e1-968c-617366e41cd9",
   "metadata": {},
   "outputs": [
    {
     "name": "stderr",
     "output_type": "stream",
     "text": [
      "thread '<unnamed>' panicked at src/lib.rs:40:40:\n",
      "called `Result::unwrap()` on an `Err` value: Os { code: 2, kind: NotFound, message: \"No such file or directory\" }\n",
      "stack backtrace:\n",
      "   0: _rust_begin_unwind\n",
      "   1: core::panicking::panic_fmt\n",
      "   2: core::result::unwrap_failed\n",
      "   3: ctx::show_plans\n",
      "   4: std::panic::catch_unwind\n",
      "   5: _run_user_code_12\n",
      "   6: evcxr::runtime::Runtime::run_loop\n",
      "   7: evcxr::runtime::runtime_hook\n",
      "   8: evcxr_jupyter::main\n",
      "note: Some details are omitted, run with `RUST_BACKTRACE=full` for a verbose backtrace.\n"
     ]
    }
   ],
   "source": [
    "show_plans(4)"
   ]
  },
  {
   "cell_type": "code",
   "execution_count": 14,
   "id": "2ac237db-3732-4d1b-94e3-a9a23a998d5d",
   "metadata": {},
   "outputs": [
    {
     "name": "stderr",
     "output_type": "stream",
     "text": [
      "thread '<unnamed>' panicked at src/lib.rs:40:40:\n",
      "called `Result::unwrap()` on an `Err` value: Os { code: 2, kind: NotFound, message: \"No such file or directory\" }\n",
      "stack backtrace:\n",
      "   0: _rust_begin_unwind\n",
      "   1: core::panicking::panic_fmt\n",
      "   2: core::result::unwrap_failed\n",
      "   3: <unknown>\n",
      "   4: <unknown>\n",
      "   5: <unknown>\n",
      "   6: evcxr::runtime::Runtime::run_loop\n",
      "   7: evcxr::runtime::runtime_hook\n",
      "   8: evcxr_jupyter::main\n",
      "note: Some details are omitted, run with `RUST_BACKTRACE=full` for a verbose backtrace.\n"
     ]
    }
   ],
   "source": [
    "show_plans(5)"
   ]
  },
  {
   "cell_type": "code",
   "execution_count": null,
   "id": "90658d15-c0b7-4e70-902c-e32ad4c8b211",
   "metadata": {},
   "outputs": [],
   "source": []
  },
  {
   "cell_type": "code",
   "execution_count": null,
   "id": "cefd2fb7-4b0b-4d94-b50f-663b57425081",
   "metadata": {},
   "outputs": [],
   "source": []
  },
  {
   "cell_type": "code",
   "execution_count": null,
   "id": "39ad1fbd-3fb8-4891-9fac-9200e2b7083d",
   "metadata": {},
   "outputs": [],
   "source": []
  },
  {
   "cell_type": "code",
   "execution_count": null,
   "id": "c17f3dd9-6b88-485e-8088-b2a8170da45f",
   "metadata": {},
   "outputs": [],
   "source": []
  }
 ],
 "metadata": {
  "kernelspec": {
   "display_name": "Rust",
   "language": "rust",
   "name": "rust"
  },
  "language_info": {
   "codemirror_mode": "rust",
   "file_extension": ".rs",
   "mimetype": "text/rust",
   "name": "Rust",
   "pygment_lexer": "rust",
   "version": ""
  }
 },
 "nbformat": 4,
 "nbformat_minor": 5
}
