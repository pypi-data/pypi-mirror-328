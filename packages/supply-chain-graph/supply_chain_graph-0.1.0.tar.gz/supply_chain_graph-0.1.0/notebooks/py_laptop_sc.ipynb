{
 "cells": [
  {
   "cell_type": "code",
   "execution_count": null,
   "id": "c72a0af3-9326-47ab-b438-31e4213ebfb5",
   "metadata": {},
   "outputs": [],
   "source": [
    "from supply import PySKU\n",
    "from supply import PyOperation\n",
    "from supply import PyDemand\n",
    "from supply import PyDemandPlanner\n",
    "from supply import reset_network\n",
    "from supply import get_all_skus\n",
    "from supply import get_all_operations\n",
    "from supply import get_all_resources\n",
    "from supply import get_all_demands\n",
    "\n",
    "from supply import PyResource"
   ]
  },
  {
   "cell_type": "markdown",
   "id": "65b0c1c7-5e2c-449b-827b-f3fb99677657",
   "metadata": {},
   "source": [
    "### Create SKUS"
   ]
  },
  {
   "cell_type": "code",
   "execution_count": null,
   "id": "0941ffdb-a86a-4339-a4fc-f334a60e9903",
   "metadata": {},
   "outputs": [],
   "source": [
    "#===============================================\n",
    "\n",
    "# Create a realistic laptop supply chain with alternate manufacturing locations\n",
    "# SKUs at different locations\n",
    "laptop_dc = PySKU.create(\"Laptop\", \"DC\")\n",
    "laptop_plant1 = PySKU.create(\"Laptop\", \"Plant1\")\n",
    "laptop_plant2 = PySKU.create(\"Laptop\", \"Plant2\")\n",
    "\n",
    "# Components at Plant1\n",
    "disk_plant1 = PySKU.create(\"Disk\", \"Plant1\")\n",
    "cpu_plant1 = PySKU.create(\"CPU\", \"Plant1\")\n",
    "memory_plant1 = PySKU.create(\"Memory\", \"Plant1\")\n",
    "\n",
    "# Components at Plant2\n",
    "disk_plant2 = PySKU.create(\"Disk\", \"Plant2\")\n",
    "cpu_plant2 = PySKU.create(\"CPU\", \"Plant2\")\n",
    "memory_plant2 = PySKU.create(\"Memory\", \"Plant2\")\n",
    "\n"
   ]
  },
  {
   "cell_type": "markdown",
   "id": "e7593703-7bee-4bd6-a310-ac09d26c481d",
   "metadata": {},
   "source": [
    "### Create Resources"
   ]
  },
  {
   "cell_type": "code",
   "execution_count": null,
   "id": "bd3403d3-200f-41cc-8d4d-3c1d98f04423",
   "metadata": {},
   "outputs": [],
   "source": [
    "# Create assembly resources\n",
    "assembly_resource_plant1 = PyResource(\"Assembly_Resource_Plant1\")\n",
    "assembly_resource_plant2 = PyResource(\"Assembly_Resource_Plant2\")\n",
    "\n",
    "# Set daily capacity for the resources (e.g., 100 units per day)\n",
    "for day in range(15, 32):  # Jan 15-31\n",
    "    date = f\"2024-01-{day}\"\n",
    "    assembly_resource_plant1.set_capacity(date, 100.0)\n",
    "    assembly_resource_plant2.set_capacity(date, 100.0)\n"
   ]
  },
  {
   "cell_type": "markdown",
   "id": "788d50d5-e960-41af-b301-6f7dbf69823c",
   "metadata": {},
   "source": [
    "### Setup Processes"
   ]
  },
  {
   "cell_type": "code",
   "execution_count": null,
   "id": "9d80b34f-615c-4887-9744-f6ae4956a9d1",
   "metadata": {},
   "outputs": [],
   "source": [
    "# Create assembly operations for both plants with resources\n",
    "laptop_assembly_plant1 = PyOperation(\"Make_Laptop_Plant1\", lead_time=2, min_lot=1, increment=1)\n",
    "laptop_assembly_plant1.add_produce_flow(laptop_plant1, quantity_per=1.0)\n",
    "laptop_assembly_plant1.add_simultaneous_consume_flow(disk_plant1, quantity_per=1.0)\n",
    "laptop_assembly_plant1.add_simultaneous_consume_flow(cpu_plant1, quantity_per=1.0)\n",
    "laptop_assembly_plant1.add_simultaneous_consume_flow(memory_plant1, quantity_per=2.0)\n",
    "laptop_assembly_plant1.add_resource(assembly_resource_plant1, quantity_per=1.0)  # Add resource requirement\n",
    "\n",
    "laptop_assembly_plant2 = PyOperation(\"Make_Laptop_Plant2\", lead_time=3, min_lot=1, increment=1)\n",
    "laptop_assembly_plant2.add_produce_flow(laptop_plant2, quantity_per=1.0)\n",
    "laptop_assembly_plant2.add_simultaneous_consume_flow(disk_plant2, quantity_per=1.0)\n",
    "laptop_assembly_plant2.add_simultaneous_consume_flow(cpu_plant2, quantity_per=1.0)\n",
    "laptop_assembly_plant2.add_simultaneous_consume_flow(memory_plant2, quantity_per=2.0)\n",
    "laptop_assembly_plant2.add_resource(assembly_resource_plant2, quantity_per=1.0)  # Add resource requirement\n",
    "\n",
    "# Create transport operations from plants to DC\n",
    "move_laptop_plant1_to_dc = PyOperation(\"Move_Laptop_Plant1_to_DC\", lead_time=1, min_lot=1, increment=1)\n",
    "move_laptop_plant1_to_dc.add_produce_flow(laptop_dc, quantity_per=1.0)\n",
    "move_laptop_plant1_to_dc.add_consume_flow(laptop_plant1, quantity_per=1.0)\n",
    "\n",
    "move_laptop_plant2_to_dc = PyOperation(\"Move_Laptop_Plant2_to_DC\", lead_time=1, min_lot=1, increment=1)\n",
    "move_laptop_plant2_to_dc.add_produce_flow(laptop_dc, quantity_per=1.0)\n",
    "move_laptop_plant2_to_dc.add_consume_flow(laptop_plant2, quantity_per=1.0)\n",
    "\n",
    "\n"
   ]
  },
  {
   "cell_type": "markdown",
   "id": "20602604-7673-4498-9b61-e1cb34359d30",
   "metadata": {},
   "source": [
    "### Setup Network"
   ]
  },
  {
   "cell_type": "code",
   "execution_count": null,
   "id": "3e6b68eb-1430-484e-b037-5b5dae362b30",
   "metadata": {},
   "outputs": [],
   "source": [
    "# Link operations to SKUs\n",
    "laptop_plant1.add_producing_operation(laptop_assembly_plant1)\n",
    "laptop_plant1.generate_top_producing_operation()\n",
    "\n",
    "laptop_plant2.add_producing_operation(laptop_assembly_plant2)\n",
    "laptop_plant2.generate_top_producing_operation()\n",
    "\n",
    "laptop_dc.add_producing_operation(move_laptop_plant1_to_dc)\n",
    "laptop_dc.add_producing_operation(move_laptop_plant2_to_dc)\n",
    "laptop_dc.generate_top_producing_operation()"
   ]
  },
  {
   "cell_type": "markdown",
   "id": "bf4584a8-d6f0-4d8a-aaa1-f91f445e2d8a",
   "metadata": {},
   "source": [
    "### Define Inventory"
   ]
  },
  {
   "cell_type": "code",
   "execution_count": null,
   "id": "045a9e93-a9cd-49bc-9c8a-3488f73b3f5f",
   "metadata": {},
   "outputs": [],
   "source": [
    "# Add initial inventory\n",
    "disk_plant1.add_inventory(\"2024-01-15\", 1000.0)\n",
    "cpu_plant1.add_inventory(\"2024-01-15\", 250.0)\n",
    "memory_plant1.add_inventory(\"2024-01-15\", 500.0)\n",
    "disk_plant2.add_inventory(\"2024-01-15\", 1000.0)\n",
    "cpu_plant2.add_inventory(\"2024-01-15\", 250.0)\n",
    "memory_plant2.add_inventory(\"2024-01-15\", 500.0)\n"
   ]
  },
  {
   "cell_type": "markdown",
   "id": "bb1631d4-6478-492c-bb44-f40cb2fff449",
   "metadata": {},
   "source": [
    "### Plan Sales Order Lines"
   ]
  },
  {
   "cell_type": "code",
   "execution_count": null,
   "id": "4e8112c6-74a2-4f28-b308-326eb9fb98e3",
   "metadata": {},
   "outputs": [],
   "source": [
    "# Create and plan a demand\n",
    "demand1 = PyDemand(id=\"D1\",quantity=200.0,request_date=\"2024-01-31\",max_lateness=0,sku=laptop_dc)\n",
    "demand2 = PyDemand(id=\"D2\",quantity=500.0,request_date=\"2024-01-30\",max_lateness=0,sku=laptop_dc)\n",
    "\n",
    "# Create planner and plan demand\n",
    "planner = PyDemandPlanner()\n",
    "\n",
    "planner.plan_demand_list([demand1, demand2], trace_level=2)\n",
    "\n"
   ]
  },
  {
   "cell_type": "markdown",
   "id": "9d2c6669-8717-439a-a6ea-68c61a6fd47f",
   "metadata": {},
   "source": [
    "## Report Results"
   ]
  },
  {
   "cell_type": "markdown",
   "id": "e74a4d45-21fc-43a7-8eec-c5543a9bf64b",
   "metadata": {},
   "source": [
    "### Status of Demands"
   ]
  },
  {
   "cell_type": "code",
   "execution_count": null,
   "id": "e80a0af2-e912-4ae2-a53a-ec6f3c928363",
   "metadata": {},
   "outputs": [],
   "source": [
    "# Print results\n",
    "print(\"\\nDemand Plans:\")\n",
    "for demand in get_all_demands():\n",
    "    demand.print_demand_plans()\n",
    "\n"
   ]
  },
  {
   "cell_type": "markdown",
   "id": "53d41de8-6500-48cc-a8df-9373cb1e2aea",
   "metadata": {},
   "source": [
    "### Show Production Plans"
   ]
  },
  {
   "cell_type": "code",
   "execution_count": null,
   "id": "2c6d98ab-da80-4acc-8e38-7130e563212c",
   "metadata": {},
   "outputs": [],
   "source": [
    "#print(\"\\nInventory Profiles:\")\n",
    "#for sku in get_all_skus():\n",
    "#    sku.print_inventory_profile()\n",
    "\n",
    "print(\"\\nOperation Plans:\")\n",
    "for op in get_all_operations():\n",
    "    op.print_operation_plans()\n",
    "\n"
   ]
  },
  {
   "cell_type": "markdown",
   "id": "d567239c-3c57-4478-a743-1e6b48309375",
   "metadata": {},
   "source": [
    "### Show Capacity Utilization"
   ]
  },
  {
   "cell_type": "code",
   "execution_count": null,
   "id": "5d5e0cf5-a2bf-4b7f-84db-7ccaa172d2c0",
   "metadata": {},
   "outputs": [],
   "source": [
    "print(\"\\nResources:\")\n",
    "for res in get_all_resources():\n",
    "    #if res.name == \"Assembly_Resource_Plant1\":\n",
    "    res.print_all_capacity_buckets()\n"
   ]
  },
  {
   "cell_type": "markdown",
   "id": "75e599bc-10da-4612-8b6c-b9ee32f7f9a0",
   "metadata": {},
   "source": [
    "## Show Network"
   ]
  },
  {
   "cell_type": "code",
   "execution_count": null,
   "id": "831b76c4-628d-4a47-a21f-c264a9a69be2",
   "metadata": {},
   "outputs": [],
   "source": [
    "\n",
    "print(\"\\nSupply Chain:\")\n",
    "sc = laptop_dc.get_supply_chain(\"2024-01-31\")\n",
    "for line in sc:\n",
    "    print(line)"
   ]
  },
  {
   "cell_type": "markdown",
   "id": "ebba1045-da57-42eb-b717-e08a9ab71443",
   "metadata": {},
   "source": [
    "### Reset Plan"
   ]
  },
  {
   "cell_type": "code",
   "execution_count": null,
   "id": "e6ea4bc7-ee04-46a2-962b-86074f1ed36f",
   "metadata": {},
   "outputs": [],
   "source": [
    "reset_network()"
   ]
  },
  {
   "cell_type": "code",
   "execution_count": null,
   "id": "022639d3-797b-411b-a088-44c92ceae5eb",
   "metadata": {},
   "outputs": [],
   "source": []
  },
  {
   "cell_type": "code",
   "execution_count": null,
   "id": "8fcc06bc-5d19-4498-a816-6df4bb993bfd",
   "metadata": {},
   "outputs": [],
   "source": []
  },
  {
   "cell_type": "code",
   "execution_count": null,
   "id": "8c74d77a-ace6-4890-a678-e6703eb45973",
   "metadata": {},
   "outputs": [],
   "source": []
  },
  {
   "cell_type": "code",
   "execution_count": null,
   "id": "eae494f1-560d-43e9-95a6-7c877c63443d",
   "metadata": {},
   "outputs": [],
   "source": []
  },
  {
   "cell_type": "code",
   "execution_count": null,
   "id": "d5665dc9-1490-4f26-bd6b-921d9b620b85",
   "metadata": {},
   "outputs": [],
   "source": []
  },
  {
   "cell_type": "code",
   "execution_count": null,
   "id": "240d35f3-7ae5-4360-a78a-d8bf55e2a92a",
   "metadata": {},
   "outputs": [],
   "source": []
  },
  {
   "cell_type": "code",
   "execution_count": null,
   "id": "296ce2ae-6734-4197-857b-3ab47a3cd55f",
   "metadata": {},
   "outputs": [],
   "source": []
  }
 ],
 "metadata": {
  "kernelspec": {
   "display_name": "Python 3 (ipykernel)",
   "language": "python",
   "name": "python3"
  },
  "language_info": {
   "codemirror_mode": {
    "name": "ipython",
    "version": 3
   },
   "file_extension": ".py",
   "mimetype": "text/x-python",
   "name": "python",
   "nbconvert_exporter": "python",
   "pygments_lexer": "ipython3",
   "version": "3.12.7"
  }
 },
 "nbformat": 4,
 "nbformat_minor": 5
}
