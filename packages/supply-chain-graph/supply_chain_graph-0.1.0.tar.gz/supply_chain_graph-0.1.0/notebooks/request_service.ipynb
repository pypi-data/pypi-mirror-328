{
 "cells": [
  {
   "cell_type": "code",
   "execution_count": null,
   "id": "840dae4b-fca9-4451-bcf4-cabb2ea16ed5",
   "metadata": {},
   "outputs": [],
   "source": [
    "import requests\n",
    "\n",
    "headers = {\n",
    "    \"Content-Type\": \"application/json\",\n",
    "    #\"Authorization\": \"Bearer YOUR_ACCESS_TOKEN\"\n",
    "}"
   ]
  },
  {
   "cell_type": "code",
   "execution_count": null,
   "id": "a5a2788d-3576-4115-9cfc-8874930f959c",
   "metadata": {},
   "outputs": [],
   "source": [
    "url = \"http://localhost:8080/health\"\n",
    "\n",
    "# Health check\n",
    "response = requests.get(url,headers=headers,verify=False)\n",
    "print(\"Status Code:\", response.status_code)\n",
    "print(\"Response Body:\", response.json())  # Assuming the response is JSON"
   ]
  },
  {
   "cell_type": "code",
   "execution_count": null,
   "id": "5d7af3dd-3526-4154-a2e8-086d5a7e3624",
   "metadata": {},
   "outputs": [],
   "source": [
    "# Define the URL of the web service\n",
    "url = \"http://localhost:8080/retrieve\"\n",
    "# Define the payload (data to send in the POST request)\n",
    "payload = {\n",
    "    \"sku_name\": \"FinishedGood\",\n",
    "}\n",
    "response = requests.post(url, json=payload, headers=headers)\n",
    "print(\"Status Code:\", response.status_code)\n",
    "print(\"Response Body:\", response.json()) "
   ]
  },
  {
   "cell_type": "code",
   "execution_count": null,
   "id": "bb1bbe86-2624-43a2-8b47-7ff38a03360e",
   "metadata": {},
   "outputs": [],
   "source": [
    "# Define the URL of the web service\n",
    "url = \"http://localhost:8080/skus\"\n",
    "response = requests.get(url, json=payload, headers=headers)\n",
    "print(\"Status Code:\", response.status_code)\n",
    "#print(\"Response Body:\", response.json()) \n",
    "data = response.json()\n",
    "if data['success']:\n",
    "    # Print each line of the supply chain on a new line\n",
    "    for line in data['skus']:\n",
    "        print(line)\n",
    "else:\n",
    "    print(\"Error:\", data['skus'][0])"
   ]
  },
  {
   "cell_type": "code",
   "execution_count": null,
   "id": "1b249ff4-7129-4568-8dfa-1ed1f2a519d1",
   "metadata": {},
   "outputs": [],
   "source": []
  },
  {
   "cell_type": "code",
   "execution_count": null,
   "id": "8d9dadcb-e615-402c-a95e-e64c2c73d236",
   "metadata": {},
   "outputs": [],
   "source": [
    "url = \"http://localhost:8080/upstream-supply-chain\"\n",
    "payload = {\n",
    "    \"sku_name\": \"Finished Good\",\n",
    "}\n",
    "response = requests.post(url, json=payload, headers=headers)\n",
    "print(\"Status Code:\", response.status_code)\n",
    "\n",
    "# Get the response data\n",
    "data = response.json()\n",
    "\n",
    "print(\"\\nSupply Chain:\")\n",
    "if data['success']:\n",
    "    # Print each line of the supply chain on a new line\n",
    "    for line in data['supply_chain']:\n",
    "        print(line)\n",
    "else:\n",
    "    print(\"Error:\", data['supply_chain'][0])"
   ]
  },
  {
   "cell_type": "code",
   "execution_count": null,
   "id": "7dca8547-c51d-4346-ad70-4da213a493de",
   "metadata": {},
   "outputs": [],
   "source": [
    "url = \"http://localhost:8080/upstream-supply-chain\"\n",
    "payload = {\n",
    "    \"sku_name\": 'Raw Material A11',\n",
    "}\n",
    "response = requests.post(url, json=payload, headers=headers)\n",
    "print(\"Status Code:\", response.status_code)\n",
    "\n",
    "# Get the response data\n",
    "data = response.json()\n",
    "\n",
    "print(\"\\nSupply Chain:\")\n",
    "if data['success']:\n",
    "    # Print each line of the supply chain on a new line\n",
    "    for line in data['supply_chain']:\n",
    "        print(line)\n",
    "else:\n",
    "    print(\"Error:\", data['supply_chain'][0])"
   ]
  },
  {
   "cell_type": "markdown",
   "id": "ede1d1e7-c4c4-429c-b521-12c4107ce93a",
   "metadata": {},
   "source": [
    "<h3> Show All Operations</h3>"
   ]
  },
  {
   "cell_type": "code",
   "execution_count": null,
   "id": "d2d9c554-a016-44a2-8891-0e28e76828f5",
   "metadata": {},
   "outputs": [],
   "source": [
    "# Define the URL of the web service\n",
    "url = \"http://localhost:8080/operations\"\n",
    "response = requests.get(url, json=payload, headers=headers)\n",
    "print(\"Status Code:\", response.status_code)\n",
    "#print(\"Response Body:\", response.json()) \n",
    "data = response.json()\n",
    "if data['success']:\n",
    "    # Print each line of the supply chain on a new line\n",
    "    for line in data['operations']:\n",
    "        print(line)\n",
    "else:\n",
    "    print(\"Error:\", data['skus'][0])"
   ]
  },
  {
   "cell_type": "code",
   "execution_count": null,
   "id": "154c36d0-b8f4-4f24-b093-76d74646f812",
   "metadata": {},
   "outputs": [],
   "source": []
  },
  {
   "cell_type": "code",
   "execution_count": null,
   "id": "0acb3879-d25d-482c-8bdc-4e3ac263e8e8",
   "metadata": {},
   "outputs": [],
   "source": []
  },
  {
   "cell_type": "code",
   "execution_count": null,
   "id": "a2d120ec-8289-4c6a-bc73-be4cf46c2287",
   "metadata": {},
   "outputs": [],
   "source": []
  },
  {
   "cell_type": "code",
   "execution_count": null,
   "id": "85f42181-5fdc-40c4-b206-25710a09e0bc",
   "metadata": {},
   "outputs": [],
   "source": []
  }
 ],
 "metadata": {
  "kernelspec": {
   "display_name": "Python 3 (ipykernel)",
   "language": "python",
   "name": "python3"
  },
  "language_info": {
   "codemirror_mode": {
    "name": "ipython",
    "version": 3
   },
   "file_extension": ".py",
   "mimetype": "text/x-python",
   "name": "python",
   "nbconvert_exporter": "python",
   "pygments_lexer": "ipython3",
   "version": "3.12.7"
  }
 },
 "nbformat": 4,
 "nbformat_minor": 5
}
