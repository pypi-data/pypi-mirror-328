{
 "cells": [
  {
   "cell_type": "code",
   "execution_count": null,
   "id": "73120d0d-d3dc-4982-9eb4-134e9c1eaa32",
   "metadata": {},
   "outputs": [],
   "source": [
    "println!(\"Hello Rust\")"
   ]
  },
  {
   "cell_type": "code",
   "execution_count": null,
   "id": "70becbdb-62bd-4325-bac0-36daf8cf04f6",
   "metadata": {},
   "outputs": [],
   "source": []
  },
  {
   "cell_type": "code",
   "execution_count": null,
   "id": "898066bf-652c-422b-8ae7-e4285387774b",
   "metadata": {},
   "outputs": [],
   "source": []
  },
  {
   "cell_type": "code",
   "execution_count": null,
   "id": "ad3e446e-a1e8-435a-99f9-059c66ee695a",
   "metadata": {},
   "outputs": [],
   "source": [
    ":dep supply = { path = \"../\" }"
   ]
  },
  {
   "cell_type": "code",
   "execution_count": null,
   "id": "3f2f6cdc-cc3e-422f-8c8a-22a18e531385",
   "metadata": {},
   "outputs": [],
   "source": []
  },
  {
   "cell_type": "code",
   "execution_count": null,
   "id": "72c2eefe-8f08-483a-80ad-98d54b7d9553",
   "metadata": {},
   "outputs": [],
   "source": [
    ":dep chrono = \"0.4\"\n",
    ":dep lazy_static = \"1.4\"\n",
    ":dep log = \"0.4\"\n",
    ":dep env_logger = \"0.11.4\"\n",
    ":dep log4rs = \"1.2\"\n",
    ":dep serde = { version = \"1.0\", features = [\"derive\"] }\n",
    ":dep serde_yaml = \"0.9\"\n",
    ":dep anyhow = \"1.0\"\n",
    ":dep tempfile = \"3.8\"\n",
    ":dep function_name = \"0.3.0\"\n",
    ":dep parking_lot = \"0.12\""
   ]
  },
  {
   "cell_type": "code",
   "execution_count": null,
   "id": "aa330a68-c906-4662-9edb-6fb0e2bf9ea5",
   "metadata": {},
   "outputs": [],
   "source": []
  },
  {
   "cell_type": "code",
   "execution_count": null,
   "id": "9c69dab0-ca1c-4526-9027-d98e47ccd78f",
   "metadata": {},
   "outputs": [],
   "source": [
    "use chrono::NaiveDate;\n",
    "use std::sync::Arc;\n",
    "use parking_lot::Mutex;\n",
    "\n",
    "use std::fs;\n",
    "use function_name::named;\n",
    "\n",
    "use supply::demand_planner::DemandPlanner;\n",
    "use supply::demand::Demand;\n",
    "use supply::sku::SKU;\n",
    "use supply::specification::Specification;\n",
    "use supply::flow::Flow;\n",
    "\n",
    "use supply::simultaneous_flow::SimultaneousFlow;\n",
    "use supply::operation::{Operation, MaterialFlowVariant, ResourceFlowVariant};\n",
    "use supply::reports::plan_exporter::PlanExporter;\n",
    "\n",
    "use supply::resource::Resource;\n",
    "use supply::resource_flow::ResourceFlow;\n",
    "use supply::operation::OperationVariant;\n",
    "\n",
    "use supply::supply_chains::sc_with_alternates::create_sc_with_alternates;\n",
    "\n",
    "use supply::utilities::traverse::print_supply_chain;\n",
    "use supply::utilities::cost_calculator::CostCalculator;\n",
    "use supply::utilities::cost_calculator::PathPrinter;\n",
    "use supply::utilities::cost_calculator::OperationCost;\n",
    "use supply::utilities::cost_calculator::SKUCost;\n",
    "use supply::utilities::cost_calculator::ResourceCost;\n",
    "\n",
    "\n",
    "use supply::logger_config;\n",
    "use log::LevelFilter;\n"
   ]
  },
  {
   "cell_type": "code",
   "execution_count": null,
   "id": "dc5abf4b-81b9-4bee-8676-c8885f7d4a32",
   "metadata": {},
   "outputs": [],
   "source": [
    "fn create_date(year: i32, month: u32, day: u32) -> NaiveDate {\n",
    "    NaiveDate::from_ymd_opt(year, month, day).unwrap()\n",
    "}"
   ]
  },
  {
   "cell_type": "raw",
   "id": "fde90c5f-e546-4882-94f8-24355b1b8d1c",
   "metadata": {},
   "source": []
  },
  {
   "cell_type": "code",
   "execution_count": null,
   "id": "cefd2fb7-4b0b-4d94-b50f-663b57425081",
   "metadata": {},
   "outputs": [],
   "source": [
    "let final_product = create_sc_with_alternates();\n",
    "let mut cost_calculator = CostCalculator::new();\n",
    "\n",
    "let _ = logger_config::set_log_level(LevelFilter::Debug);\n",
    "\n",
    "cost_calculator.set_operation_cost(\"Make Component A1\", OperationCost::new(1.0));\n",
    "cost_calculator.set_operation_cost(\"Make Component A2\", OperationCost::new(1.0));\n",
    "cost_calculator.set_operation_cost(\"Make Component B1\", OperationCost::new(1.0));\n",
    "cost_calculator.set_operation_cost(\"Make Component B2\", OperationCost::new(1.0));\n",
    "cost_calculator.set_operation_cost(\"Main Assembly\", OperationCost::new(1.0));\n",
    "cost_calculator.set_operation_cost(\"Direct Production\", OperationCost::new(1.0));\n",
    "cost_calculator.set_operation_cost(\"Procure from Main Vendor\", OperationCost::new(1.0));\n",
    "cost_calculator.set_operation_cost(\"Procure from Alt Vendor\", OperationCost::new(1.0));\n",
    "\n",
    "cost_calculator.set_sku_cost(\"Raw Material A11\", SKUCost::new(1.0));\n",
    "cost_calculator.set_sku_cost(\"Raw Material A12\", SKUCost::new(1.0));\n",
    "cost_calculator.set_sku_cost(\"Raw Material A21\", SKUCost::new(1.0));\n",
    "cost_calculator.set_sku_cost(\"Raw Material B11\", SKUCost::new(1.0));\n",
    "cost_calculator.set_sku_cost(\"Raw Material B21\", SKUCost::new(1.0));\n",
    "cost_calculator.set_sku_cost(\"Raw Material B22\", SKUCost::new(1.0));\n",
    "\n",
    "cost_calculator.set_resource_cost(\"Assembly_Resource\", ResourceCost::new(1.0));\n",
    "\n",
    "let mut path_printer = PathPrinter::new();\n",
    "path_printer.collect_alternates(final_product.clone());\n",
    "let combinations = path_printer.generate_combination_vector();\n",
    "\n",
    "println!(\"\\nCost Analysis for Each Combination:\");\n",
    "for (i, combo) in combinations.iter().enumerate() {\n",
    "    println!(\"\\nCombination {} - Operations: {:?}\", i + 1, combo);\n",
    "    path_printer.traverse_selected_path_with_cost(final_product.clone(), combo, &cost_calculator);\n",
    "}"
   ]
  },
  {
   "cell_type": "code",
   "execution_count": null,
   "id": "938eafc1-8614-45e6-8143-eeaad7c27e9d",
   "metadata": {},
   "outputs": [],
   "source": [
    "\n"
   ]
  },
  {
   "cell_type": "code",
   "execution_count": null,
   "id": "f636abe3-e45e-4aae-a62f-eca0ae7c6816",
   "metadata": {},
   "outputs": [],
   "source": []
  },
  {
   "cell_type": "code",
   "execution_count": null,
   "id": "e1287889-deee-4c31-844b-d2c34e0aa0e4",
   "metadata": {},
   "outputs": [],
   "source": []
  },
  {
   "cell_type": "code",
   "execution_count": null,
   "id": "8ace16bf-04b9-4447-9644-ec7e598d114d",
   "metadata": {},
   "outputs": [],
   "source": []
  },
  {
   "cell_type": "code",
   "execution_count": null,
   "id": "22b14ee3-ad95-4237-ad1d-7b8780af7c57",
   "metadata": {},
   "outputs": [],
   "source": []
  }
 ],
 "metadata": {
  "kernelspec": {
   "display_name": "Rust",
   "language": "rust",
   "name": "rust"
  },
  "language_info": {
   "codemirror_mode": "rust",
   "file_extension": ".rs",
   "mimetype": "text/rust",
   "name": "Rust",
   "pygment_lexer": "rust",
   "version": ""
  }
 },
 "nbformat": 4,
 "nbformat_minor": 5
}
