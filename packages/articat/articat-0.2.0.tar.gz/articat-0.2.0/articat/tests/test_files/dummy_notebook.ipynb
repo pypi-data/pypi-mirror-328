{
 "cells": [
  {
   "cell_type": "code",
   "execution_count": null,
   "id": "textile-indian",
   "metadata": {},
   "outputs": [],
   "source": [
    "import numpy as np\n",
    "from articat.fs_artifact import FSArtifact"
   ]
  },
  {
   "cell_type": "code",
   "execution_count": null,
   "id": "stable-skating",
   "metadata": {
    "tags": [
     "parameters"
    ]
   },
   "outputs": [],
   "source": [
    "a = 42\n",
    "foo = FSArtifact.partitioned(id=\"foo\", partition=None, dev=True)"
   ]
  },
  {
   "cell_type": "code",
   "execution_count": null,
   "id": "dominant-crash",
   "metadata": {},
   "outputs": [],
   "source": [
    "print(f\"foo artifact partition: {foo.partition}\")"
   ]
  },
  {
   "cell_type": "code",
   "execution_count": null,
   "id": "gothic-surfing",
   "metadata": {},
   "outputs": [],
   "source": [
    "b = np.random.normal(loc=a,scale=42,size=1000)"
   ]
  },
  {
   "cell_type": "code",
   "execution_count": null,
   "id": "received-teach",
   "metadata": {},
   "outputs": [],
   "source": [
    "print(f\"Generated some data with Normal(loc={a})\")"
   ]
  }
 ],
 "metadata": {
  "kernelspec": {
   "display_name": "Python 3",
   "language": "python",
   "name": "python3"
  },
  "language_info": {
   "codemirror_mode": {
    "name": "ipython",
    "version": 3
   },
   "file_extension": ".py",
   "mimetype": "text/x-python",
   "name": "python",
   "nbconvert_exporter": "python",
   "pygments_lexer": "ipython3",
   "version": "3.8.8"
  }
 },
 "nbformat": 4,
 "nbformat_minor": 5
}
