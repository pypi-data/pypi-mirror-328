{
 "cells": [
  {
   "cell_type": "code",
   "execution_count": null,
   "metadata": {},
   "outputs": [],
   "source": [
    "import src as ims\n",
    "import line_profiler as lp"
   ]
  },
  {
   "cell_type": "markdown",
   "metadata": {},
   "source": [
    "# Profiling Tests\n",
    "\n",
    "This code shows which lines of the source code take the longest to run.\n",
    "\n",
    "Exact run times vary strongly from machine to machine."
   ]
  },
  {
   "cell_type": "code",
   "execution_count": null,
   "metadata": {},
   "outputs": [],
   "source": [
    "sim = ims.Simulation(n_atoms=22, starting_temperature=800, microstructure=ims.starting_microstructure)\n",
    "#running quick sims to compile physics backend for more consistent benchmarking\n",
    "sim.NVT_run(n_steps=1_000, temperature=500)\n",
    "sim.MMC_run(n_steps=1_000, temperature=500)"
   ]
  },
  {
   "cell_type": "markdown",
   "metadata": {},
   "source": [
    "### NVT Run"
   ]
  },
  {
   "cell_type": "code",
   "execution_count": null,
   "metadata": {},
   "outputs": [],
   "source": [
    "profiler = lp.LineProfiler()\n",
    "profiled_func = profiler(sim.NVT_run)\n",
    "profiled_func(n_steps=100_000, temperature=1200, gamma=0.005, integrator='OVRVO')"
   ]
  },
  {
   "cell_type": "code",
   "execution_count": null,
   "metadata": {},
   "outputs": [],
   "source": [
    "profiler.print_stats(output_unit=1e-3) #ms times displayed"
   ]
  },
  {
   "cell_type": "markdown",
   "metadata": {},
   "source": [
    "### Relax Run"
   ]
  },
  {
   "cell_type": "code",
   "execution_count": null,
   "metadata": {},
   "outputs": [],
   "source": [
    "profiler = lp.LineProfiler()\n",
    "profiled_func = profiler(sim.relax_run)\n",
    "profiled_func(n_steps=100_000, step_size=0.03)"
   ]
  },
  {
   "cell_type": "code",
   "execution_count": null,
   "metadata": {},
   "outputs": [],
   "source": [
    "profiler.print_stats(output_unit=1e-3) #ms times displayed"
   ]
  },
  {
   "cell_type": "markdown",
   "metadata": {},
   "source": [
    "### MMC Run"
   ]
  },
  {
   "cell_type": "code",
   "execution_count": null,
   "metadata": {},
   "outputs": [],
   "source": [
    "profiler = lp.LineProfiler()\n",
    "profiled_func = profiler(sim.MMC_run)\n",
    "profiled_func(n_steps=200_000, temperature=800, random_scale=0.1)"
   ]
  },
  {
   "cell_type": "code",
   "execution_count": null,
   "metadata": {},
   "outputs": [],
   "source": [
    "profiler.print_stats(output_unit=1e-3) #ms times displayed"
   ]
  },
  {
   "cell_type": "markdown",
   "metadata": {},
   "source": [
    "### NVE Run"
   ]
  },
  {
   "cell_type": "code",
   "execution_count": null,
   "metadata": {},
   "outputs": [],
   "source": [
    "profiler = lp.LineProfiler()\n",
    "profiled_func = profiler(sim.NVE_run)\n",
    "profiled_func(n_steps=100_000, temperature=600, gamma=0.005, integrator='Verlet')"
   ]
  },
  {
   "cell_type": "code",
   "execution_count": null,
   "metadata": {},
   "outputs": [],
   "source": [
    "profiler.print_stats(output_unit=1e-3) #ms times displayed"
   ]
  }
 ],
 "metadata": {
  "kernelspec": {
   "display_name": ".venv",
   "language": "python",
   "name": "python3"
  },
  "language_info": {
   "codemirror_mode": {
    "name": "ipython",
    "version": 3
   },
   "file_extension": ".py",
   "mimetype": "text/x-python",
   "name": "python",
   "nbconvert_exporter": "python",
   "pygments_lexer": "ipython3",
   "version": "3.11.11"
  }
 },
 "nbformat": 4,
 "nbformat_minor": 2
}
