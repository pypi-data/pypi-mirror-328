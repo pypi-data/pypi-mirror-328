{
 "cells": [
  {
   "cell_type": "code",
   "execution_count": null,
   "metadata": {},
   "outputs": [],
   "source": [
    "import numpy as np\n",
    "import time\n",
    "import pathlib as pl\n",
    "import pandas as pd"
   ]
  },
  {
   "cell_type": "markdown",
   "metadata": {},
   "source": [
    "# Data Logging Tests\n",
    "\n",
    "This code compares the performance of different data logging strategies."
   ]
  },
  {
   "cell_type": "code",
   "execution_count": null,
   "metadata": {},
   "outputs": [],
   "source": [
    "numbers = np.random.uniform(low=0, high=4, size=(20_000, 10))\n",
    "columns = [f'col_{i}' for i in range(10)]"
   ]
  },
  {
   "cell_type": "code",
   "execution_count": null,
   "metadata": {},
   "outputs": [],
   "source": [
    "start = time.perf_counter()\n",
    "dataframe = pd.DataFrame(numbers, columns=columns)\n",
    "stop = time.perf_counter()\n",
    "print(stop-start)"
   ]
  },
  {
   "cell_type": "code",
   "execution_count": null,
   "metadata": {},
   "outputs": [],
   "source": [
    "start = time.perf_counter()\n",
    "dataframe = pd.DataFrame(np.zeros(shape=numbers.shape), columns=columns)\n",
    "for j, row in enumerate(numbers):\n",
    "    for i, value in enumerate(row):\n",
    "        dataframe.loc[j, f'col_{i}'] = value\n",
    "stop = time.perf_counter()\n",
    "print(stop-start)"
   ]
  },
  {
   "cell_type": "code",
   "execution_count": null,
   "metadata": {},
   "outputs": [],
   "source": [
    "start = time.perf_counter()\n",
    "dataframe = pd.DataFrame(np.zeros(shape=numbers.shape), columns=columns)\n",
    "for j, row in enumerate(numbers):\n",
    "    for i, value in enumerate(row):\n",
    "        dataframe.iloc[j, i] = value\n",
    "stop = time.perf_counter()\n",
    "print(stop-start)"
   ]
  },
  {
   "cell_type": "code",
   "execution_count": null,
   "metadata": {},
   "outputs": [],
   "source": [
    "start = time.perf_counter()\n",
    "array = np.zeros(shape=numbers.shape)\n",
    "for j, row in enumerate(numbers):\n",
    "    for i, value in enumerate(row):\n",
    "        array[j, i] = value\n",
    "dataframe = pd.DataFrame(array, columns=columns)\n",
    "stop = time.perf_counter()\n",
    "print(stop-start)"
   ]
  },
  {
   "cell_type": "code",
   "execution_count": null,
   "metadata": {},
   "outputs": [],
   "source": [
    "start = time.perf_counter()\n",
    "counter = 0\n",
    "dataframe = pd.DataFrame(np.zeros(shape=numbers.shape), columns=columns)\n",
    "for j, row in enumerate(numbers):\n",
    "    for i, value in enumerate(row):\n",
    "        counter += 1\n",
    "stop = time.perf_counter()\n",
    "print(stop-start)"
   ]
  },
  {
   "cell_type": "code",
   "execution_count": null,
   "metadata": {},
   "outputs": [],
   "source": [
    "start = time.perf_counter()\n",
    "dataframe = pd.DataFrame(np.zeros(shape=numbers.shape), columns=columns)\n",
    "for j, row in enumerate(numbers):\n",
    "    dataframe.loc[j] = row\n",
    "stop = time.perf_counter()\n",
    "print(stop-start)"
   ]
  },
  {
   "cell_type": "code",
   "execution_count": null,
   "metadata": {},
   "outputs": [],
   "source": [
    "start = time.perf_counter()\n",
    "dataframe = pd.DataFrame(np.zeros(shape=numbers.shape), columns=columns)\n",
    "for j, row in enumerate(numbers):\n",
    "    row = {f'col_{i}': value for i, value in enumerate(row)}\n",
    "    dataframe.loc[j] = row\n",
    "stop = time.perf_counter()\n",
    "print(stop-start)"
   ]
  },
  {
   "cell_type": "code",
   "execution_count": null,
   "metadata": {},
   "outputs": [],
   "source": [
    "start = time.perf_counter()\n",
    "rows = []\n",
    "for j, row in enumerate(numbers):\n",
    "    rows.append({f'col_{i}': value for i, value in enumerate(row)})\n",
    "dataframe = pd.DataFrame(rows)\n",
    "stop = time.perf_counter()\n",
    "print(stop-start)"
   ]
  },
  {
   "cell_type": "code",
   "execution_count": null,
   "metadata": {},
   "outputs": [],
   "source": [
    "start = time.perf_counter()\n",
    "rows = []\n",
    "for j, row in enumerate(numbers):\n",
    "    rows.append({f'col_{i}': value.copy() for i, value in enumerate(row)})\n",
    "dataframe = pd.DataFrame(rows)\n",
    "stop = time.perf_counter()\n",
    "print(stop-start)"
   ]
  },
  {
   "cell_type": "code",
   "execution_count": null,
   "metadata": {},
   "outputs": [],
   "source": [
    "start = time.perf_counter()\n",
    "with open('temp.txt', 'w') as file:\n",
    "    for row in numbers:\n",
    "        file.write(' '.join(map(str, row)) + '\\n')\n",
    "stop = time.perf_counter()\n",
    "pl.Path().absolute().joinpath('temp.txt').unlink()\n",
    "print(stop-start)"
   ]
  }
 ],
 "metadata": {
  "kernelspec": {
   "display_name": ".venv",
   "language": "python",
   "name": "python3"
  },
  "language_info": {
   "codemirror_mode": {
    "name": "ipython",
    "version": 3
   },
   "file_extension": ".py",
   "mimetype": "text/x-python",
   "name": "python",
   "nbconvert_exporter": "python",
   "pygments_lexer": "ipython3",
   "version": "3.11.11"
  }
 },
 "nbformat": 4,
 "nbformat_minor": 2
}
