{
 "cells": [
  {
   "cell_type": "code",
   "execution_count": null,
   "metadata": {},
   "outputs": [],
   "source": [
    "import imperial_materials_simulation as ims"
   ]
  },
  {
   "cell_type": "markdown",
   "metadata": {},
   "source": [
    "### Minimal Use Example"
   ]
  },
  {
   "cell_type": "code",
   "execution_count": null,
   "metadata": {},
   "outputs": [],
   "source": [
    "sim = ims.Simulation(n_atoms=22, starting_temperature=800, microstructure=ims.starting_microstructure)\n",
    "sim.display(live_display_interval=500) #updates live as simulations are run"
   ]
  },
  {
   "cell_type": "code",
   "execution_count": null,
   "metadata": {},
   "outputs": [],
   "source": [
    "sim.NVT_run(n_steps=100_000, temperature=1200, gamma=0.005, integrator='OVRVO')\n",
    "sim.relax_run(n_steps=50_000, step_size=0.03)\n",
    "sim.MMC_run(n_steps=500_000, temperature=800, random_scale=0.1)\n",
    "sim.NVE_run(n_steps=100_000, temperature=600, gamma=0.005, integrator='Verlet')\n",
    "sim.save(\"simulation 100k\")"
   ]
  }
 ],
 "metadata": {
  "kernelspec": {
   "display_name": ".venv",
   "language": "python",
   "name": "python3"
  },
  "language_info": {
   "codemirror_mode": {
    "name": "ipython",
    "version": 3
   },
   "file_extension": ".py",
   "mimetype": "text/x-python",
   "name": "python",
   "nbconvert_exporter": "python",
   "pygments_lexer": "ipython3",
   "version": "3.11.11"
  }
 },
 "nbformat": 4,
 "nbformat_minor": 2
}
