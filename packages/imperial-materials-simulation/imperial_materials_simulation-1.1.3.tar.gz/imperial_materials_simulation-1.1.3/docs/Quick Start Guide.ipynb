{
 "cells": [
  {
   "cell_type": "markdown",
   "metadata": {},
   "source": [
    "# Software Required\n",
    "\n",
    "You will use the [Imperial Materials Simulation](https://github.com/AyhamSaffar/imperial-materials-simulation) library to run these simluations.\n"
   ]
  },
  {
   "cell_type": "markdown",
   "metadata": {},
   "source": [
    "\n",
    "### Installation For Home Use\n",
    "\n",
    "This guide assumes you already have Anaconda installed.\n",
    "\n",
    "1. Download and install [VSCode](https://code.visualstudio.com/Download). This in a quick and easy code editor that is incredibly popular in industry.\n",
    "\n",
    "    *The codebase's interactive dashboard is **not** guaranteed to work on other editors so VSCode is strongly recommended* \n",
    "\n",
    "2. Create new conda enviroment\n",
    "\n",
    "    The base conda enviroment comes with a number of pre-installed libraries that may clash with imperial-materials-simulation.\n",
    "\n",
    "    To fix this, create a fresh conda environment. This may take 1-2 minutes to run.\n"
   ]
  },
  {
   "cell_type": "code",
   "execution_count": null,
   "metadata": {},
   "outputs": [],
   "source": [
    "!conda create --name sim_env python==3.12.0 ipykernel --yes"
   ]
  },
  {
   "cell_type": "markdown",
   "metadata": {},
   "source": [
    "3. Activate enviroment\n",
    "\n",
    "   Click the *Select Kernel* button in the top right and choose the *sim_env* option."
   ]
  },
  {
   "cell_type": "markdown",
   "metadata": {},
   "source": [
    "### Installation For Use In RSM G08 (recommended)\n",
    "\n",
    "1. Search for *Visual Studio Code* on [Software Hub](https://softwarehub.imperial.ac.uk/) and click launch.\n",
    "\n",
    "    Simulations will likely run 2-3 times faster on these desktops compared to the average laptop."
   ]
  },
  {
   "cell_type": "markdown",
   "metadata": {},
   "source": [
    "# Using The Libarary\n",
    "\n",
    "This notebook will take you through how to use IMS to complete this module's three programming assignments."
   ]
  },
  {
   "cell_type": "markdown",
   "metadata": {
    "vscode": {
     "languageId": "plaintext"
    }
   },
   "source": [
    "### Installation\n",
    "\n",
    "Then run the following cell to install the library. This may take a few seconds."
   ]
  },
  {
   "cell_type": "code",
   "execution_count": null,
   "metadata": {},
   "outputs": [],
   "source": [
    "!pip install imperial-materials-simulation"
   ]
  },
  {
   "cell_type": "markdown",
   "metadata": {},
   "source": [
    "To make sure this was successful, run the following cell to import the library."
   ]
  },
  {
   "cell_type": "code",
   "execution_count": null,
   "metadata": {},
   "outputs": [],
   "source": [
    "import imperial_materials_simulation as ims"
   ]
  },
  {
   "cell_type": "markdown",
   "metadata": {},
   "source": [
    "### Running Simulations\n",
    "\n",
    "First we create a simulated molecule object."
   ]
  },
  {
   "cell_type": "code",
   "execution_count": null,
   "metadata": {},
   "outputs": [],
   "source": [
    "sim = ims.Simulation(n_atoms=22, starting_temperature=850)"
   ]
  },
  {
   "cell_type": "markdown",
   "metadata": {},
   "source": [
    "Notice how you hover over the *Simulation* word above to get a description of what the object is and what the different settings are for creating it.\n",
    "\n",
    "Then it makes sense to display the simulated molecule so we can keep track of what is happening."
   ]
  },
  {
   "cell_type": "code",
   "execution_count": null,
   "metadata": {},
   "outputs": [],
   "source": [
    "sim.display()"
   ]
  },
  {
   "cell_type": "markdown",
   "metadata": {},
   "source": [
    "There is a known bug where sometimes nothing shows in the output of the cell above after first installation, or the graph on the bottom left doesn't render. This can be fixed by restarting your computer.\n",
    "\n",
    "Again, notice how you can hover over the *display* word to understand what this method does and what options it can take. The \"show_config_panel\" arguement can be quite handy when sharing visualisations of differerent structures.\n",
    "\n",
    "This should be done for all following methods.\n",
    "\n",
    "Then we can run each kind of simulation on this simulated molecule."
   ]
  },
  {
   "cell_type": "code",
   "execution_count": null,
   "metadata": {},
   "outputs": [],
   "source": [
    "sim.NVE_run(n_steps=10_000)\n",
    "sim.NVT_run(n_steps=10_000, temperature=850)\n",
    "sim.relax_run(n_steps=10_000)\n",
    "sim.MMC_run(n_steps=50_000, temperature=400)"
   ]
  },
  {
   "cell_type": "markdown",
   "metadata": {},
   "source": [
    "Notice how the display updates live.\n",
    "\n",
    "Play with the sliders, drop downs, and the 3D display to review what happened during each simulation run.\n",
    "\n",
    "Finally the simulation should be saved to a file to make sure the information is not lost."
   ]
  },
  {
   "cell_type": "code",
   "execution_count": null,
   "metadata": {},
   "outputs": [],
   "source": [
    "sim.save(path='Simulation 1')"
   ]
  },
  {
   "cell_type": "markdown",
   "metadata": {},
   "source": [
    "Open the file explorer by clicking the page icon on the top left to make sure the file was saved.\n",
    "\n",
    "Simulations will run significantly faster with a live display interval of 10_000 or even without live displaying them at all.\n",
    "\n",
    "Optionally, simulations can run a full 5x faster on the RSM computers using multiprocessing. An example of this is shown in the [libary's GitHub page](https://github.com/AyhamSaffar/imperial-materials-simulation) under the 'data collection' heading, and [this video](https://www.youtube.com/watch?v=fKl2JW_qrso&ab_channel=CoreySchafer) explains how it works. This however can be confusing to those new to Python and is not necessarily required for a high quality submission. "
   ]
  },
  {
   "cell_type": "markdown",
   "metadata": {},
   "source": [
    "### Data Analysis\n",
    "\n",
    "Each assignment requires processing and plotting the data from multiple simulations.\n",
    "\n",
    "First each simulation should be loaded in from a file."
   ]
  },
  {
   "cell_type": "code",
   "execution_count": null,
   "metadata": {},
   "outputs": [],
   "source": [
    "sim1 = ims.load_simulation(path='Simulation 1')"
   ]
  },
  {
   "cell_type": "markdown",
   "metadata": {},
   "source": [
    "The full object was saved so we can now display the molecule (or run further simulations if needed)."
   ]
  },
  {
   "cell_type": "code",
   "execution_count": null,
   "metadata": {},
   "outputs": [],
   "source": [
    "sim1.display()"
   ]
  },
  {
   "cell_type": "markdown",
   "metadata": {},
   "source": [
    "First we can access the run data. These are the final values at the end of each simulation method call."
   ]
  },
  {
   "cell_type": "code",
   "execution_count": null,
   "metadata": {},
   "outputs": [],
   "source": [
    "sim1.run_data"
   ]
  },
  {
   "cell_type": "markdown",
   "metadata": {},
   "source": [
    "The data is stored as a Pandas DataFrame.\n",
    "\n",
    "For a quick intro to how to manipulate these DataFrames, see the first 30 mins of [this video](https://www.youtube.com/watch?v=2uvysYbKdjM&ab_channel=KeithGalli) or read the [intro docs](https://pandas.pydata.org/docs/user_guide/10min.html).\n",
    "\n",
    "If you are really struggling, the data can be exported to Excel."
   ]
  },
  {
   "cell_type": "code",
   "execution_count": null,
   "metadata": {},
   "outputs": [],
   "source": [
    "sim1.run_data.to_excel('simulation 1 run data.xlsx')"
   ]
  },
  {
   "cell_type": "markdown",
   "metadata": {},
   "source": [
    "However this is not recommended as it is slow and error prone, especially when collating the data from many different simulations.\n",
    "\n",
    "We can also access the step data. These are the values for each time step of a given simulation run.\n",
    "\n",
    "Lets say we want to investigate the step data of the NVT run."
   ]
  },
  {
   "cell_type": "code",
   "execution_count": null,
   "metadata": {},
   "outputs": [],
   "source": [
    "run = 2 # NVT run\n",
    "sim1.step_data[run] "
   ]
  },
  {
   "cell_type": "markdown",
   "metadata": {},
   "source": [
    "Finally we might want to export the structure data for the simulation at a given run and step.\n",
    "\n",
    "This might be useful when working with external software packages. \n",
    "\n",
    "First we should check the microstructure logging interval to figure out how often the structure data was logged."
   ]
  },
  {
   "cell_type": "code",
   "execution_count": null,
   "metadata": {},
   "outputs": [],
   "source": [
    "sim1.microstructure_logging_interval"
   ]
  },
  {
   "cell_type": "markdown",
   "metadata": {},
   "source": [
    "Here the structure was logged every 100 runs.\n",
    "\n",
    "Accessing the data from step 700 is valid while the structure at step 728 is not available."
   ]
  },
  {
   "cell_type": "code",
   "execution_count": null,
   "metadata": {},
   "outputs": [],
   "source": [
    "step = 700\n",
    "sim1.microstructures[run][step]"
   ]
  },
  {
   "cell_type": "markdown",
   "metadata": {},
   "source": [
    "Notice how there are 25 rows, one for each atom."
   ]
  },
  {
   "cell_type": "code",
   "execution_count": null,
   "metadata": {},
   "outputs": [],
   "source": [
    "sim1.n_atoms"
   ]
  }
 ],
 "metadata": {
  "kernelspec": {
   "display_name": ".venv",
   "language": "python",
   "name": "python3"
  },
  "language_info": {
   "codemirror_mode": {
    "name": "ipython",
    "version": 3
   },
   "file_extension": ".py",
   "mimetype": "text/x-python",
   "name": "python",
   "nbconvert_exporter": "python",
   "pygments_lexer": "ipython3",
   "version": "3.11.11"
  }
 },
 "nbformat": 4,
 "nbformat_minor": 2
}
