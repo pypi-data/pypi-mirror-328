{
 "cells": [
  {
   "cell_type": "code",
   "execution_count": 2,
   "metadata": {},
   "outputs": [],
   "source": [
    "import imperial_materials_simulation as ims\n",
    "import numpy as np\n",
    "import time"
   ]
  },
  {
   "cell_type": "markdown",
   "metadata": {},
   "source": [
    "# Legacy Tests\n",
    "\n",
    "This code makes sure the current physics module gives the same results as the course's original implementations."
   ]
  },
  {
   "cell_type": "code",
   "execution_count": 3,
   "metadata": {},
   "outputs": [],
   "source": [
    "n_atoms = 22\n",
    "equilibrium_bond_length = 1.53\n",
    "spring_constant = 15.18\n",
    "sigma = 4.5\n",
    "epsilon = 0.00485678\n",
    "positions = np.zeros(shape=(n_atoms, 3))\n",
    "positions[:, 1] = np.linspace(0, (equilibrium_bond_length+np.random.rand()/10)-1, num=n_atoms)"
   ]
  },
  {
   "cell_type": "markdown",
   "metadata": {},
   "source": [
    "### Bonding Forces"
   ]
  },
  {
   "cell_type": "code",
   "execution_count": 4,
   "metadata": {},
   "outputs": [],
   "source": [
    "def GetBondingEnergy(pos, calculate_force=True): #old function\n",
    "#\n",
    "    potential_bond = 0.0\n",
    "#\n",
    "    bond = np.zeros(3)\n",
    "    bonddir = np.zeros(3)\n",
    "    force_bond = np.zeros((n_atoms,3))\n",
    "#\n",
    "    for i in range(n_atoms-1):\n",
    "        bond = pos[i+1]-pos[i]\n",
    "        bondlength = np.linalg.norm(bond)\n",
    "        bonddir = bond/bondlength\n",
    "        dbondlength = bondlength - equilibrium_bond_length\n",
    "        potential_bond = potential_bond + spring_constant*(dbondlength**2.0)/2.0\n",
    "        if calculate_force:\n",
    "            force_bond[i] = force_bond[i] + spring_constant*dbondlength*bonddir\n",
    "            force_bond[i+1] = force_bond[i+1] - spring_constant*dbondlength*bonddir\n",
    "    \n",
    "    return potential_bond, force_bond"
   ]
  },
  {
   "cell_type": "code",
   "execution_count": 5,
   "metadata": {},
   "outputs": [],
   "source": [
    "new_forces, new_potential = ims.physics.get_bonding_interactions(positions, equilibrium_bond_length, spring_constant)\n",
    "old_potential, old_forces = GetBondingEnergy(positions)\n",
    "assert np.allclose(new_potential, old_potential)\n",
    "assert np.allclose(new_forces, old_forces)"
   ]
  },
  {
   "cell_type": "code",
   "execution_count": 6,
   "metadata": {},
   "outputs": [
    {
     "data": {
      "text/plain": [
       "0.23163930000009714"
      ]
     },
     "execution_count": 6,
     "metadata": {},
     "output_type": "execute_result"
    }
   ],
   "source": [
    "start = time.perf_counter()\n",
    "for i in range(1_000):\n",
    "    GetBondingEnergy(positions)\n",
    "old_run_time_b = time.perf_counter() - start\n",
    "old_run_time_b"
   ]
  },
  {
   "cell_type": "code",
   "execution_count": 7,
   "metadata": {},
   "outputs": [
    {
     "data": {
      "text/plain": [
       "0.005085399999870788"
      ]
     },
     "execution_count": 7,
     "metadata": {},
     "output_type": "execute_result"
    }
   ],
   "source": [
    "start = time.perf_counter()\n",
    "for i in range(1_000):\n",
    "    ims.physics.get_bonding_interactions(positions, equilibrium_bond_length, spring_constant)\n",
    "new_run_time_b = time.perf_counter() - start\n",
    "new_run_time_b"
   ]
  },
  {
   "cell_type": "code",
   "execution_count": 8,
   "metadata": {},
   "outputs": [
    {
     "data": {
      "text/plain": [
       "45.54986825146158"
      ]
     },
     "execution_count": 8,
     "metadata": {},
     "output_type": "execute_result"
    }
   ],
   "source": [
    "old_run_time_b / new_run_time_b"
   ]
  },
  {
   "cell_type": "markdown",
   "metadata": {},
   "source": [
    "### Non-Bonding Forces"
   ]
  },
  {
   "cell_type": "code",
   "execution_count": 9,
   "metadata": {},
   "outputs": [],
   "source": [
    "def GetNonBondingEnergy(pos, calculate_force=True): #depricated old function\n",
    "#\n",
    "    disp = np.zeros(3)\n",
    "    dforce = np.zeros(3)\n",
    "    force_nonbond = np.zeros((n_atoms,3))\n",
    "#\n",
    "    potential_nonbond = 0.0\n",
    "    factor1 = -12.0*epsilon/(sigma*sigma)\n",
    "    for i in range(n_atoms-1):\n",
    "        for j in range(i+3,n_atoms):\n",
    "            disp = pos[j]-pos[i]\n",
    "            dist = np.linalg.norm(disp)\n",
    "            squared = (sigma/dist)**2.0\n",
    "            sixpower = squared**3.0 \n",
    "            twelvepower = sixpower*sixpower\n",
    "            potential_nonbond = potential_nonbond + epsilon*(twelvepower - 2.0*sixpower)\n",
    "            if calculate_force:\n",
    "                dforce  = factor1*squared*(twelvepower - sixpower)*disp\n",
    "                force_nonbond[i] = force_nonbond[i] + dforce\n",
    "                force_nonbond[j] = force_nonbond[j] - dforce\n",
    "    return potential_nonbond, force_nonbond"
   ]
  },
  {
   "cell_type": "code",
   "execution_count": 10,
   "metadata": {},
   "outputs": [],
   "source": [
    "def GetNonBondingEnergy_Carlos(pos, calculate_force=None): #old function\n",
    "   #\n",
    "      force_nonbond = np.zeros((n_atoms,3))\n",
    "   #\n",
    "      potential_nonbond = 0.0\n",
    "      factor1 = -12.0*epsilon/(sigma*sigma)\n",
    "      for i in range(n_atoms-1):\n",
    "         \n",
    "         disp_mat=pos[i+3:]-pos[i]\n",
    "         #dist_sq=calc_dist(pos[i+3:],pos[i].reshape((1,3))).flatten()\n",
    "         #potentials\n",
    "         dist_sq=np.sum(disp_mat*disp_mat, axis=1)\n",
    "         squared_mat = np.divide(sigma**2,dist_sq)\n",
    "         sixpower_mat = squared_mat**3.0 \n",
    "         twelvepower_mat = sixpower_mat*sixpower_mat\n",
    "         potentials_nonbond_mat = epsilon*(twelvepower_mat - 2.0*sixpower_mat)\n",
    "         potential_nonbond = potential_nonbond+potentials_nonbond_mat.sum()\n",
    "         \n",
    "         \n",
    "         #\n",
    "         dforce=disp_mat*(factor1*squared_mat*(twelvepower_mat - sixpower_mat))[:,None]\n",
    "         force_nonbond[i]=force_nonbond[i]+np.sum(dforce,axis=0)\n",
    "         force_nonbond[i+3:]=force_nonbond[i+3:]- dforce\n",
    "\n",
    "      return potential_nonbond, force_nonbond"
   ]
  },
  {
   "cell_type": "code",
   "execution_count": 11,
   "metadata": {},
   "outputs": [],
   "source": [
    "new_forces, new_potential = ims.physics.get_non_bonding_interactions(positions, epsilon, sigma)\n",
    "old_potential, his_forces = GetNonBondingEnergy_Carlos(positions)\n",
    "assert np.allclose(new_potential, old_potential)\n",
    "assert np.allclose(new_forces, his_forces)"
   ]
  },
  {
   "cell_type": "code",
   "execution_count": 12,
   "metadata": {},
   "outputs": [
    {
     "data": {
      "text/plain": [
       "0.5436496999998326"
      ]
     },
     "execution_count": 12,
     "metadata": {},
     "output_type": "execute_result"
    }
   ],
   "source": [
    "start = time.perf_counter()\n",
    "for i in range(1_000):\n",
    "    GetNonBondingEnergy_Carlos(positions)\n",
    "old_run_time_nb = time.perf_counter() - start\n",
    "old_run_time_nb"
   ]
  },
  {
   "cell_type": "code",
   "execution_count": 13,
   "metadata": {},
   "outputs": [
    {
     "data": {
      "text/plain": [
       "0.046888300000091476"
      ]
     },
     "execution_count": 13,
     "metadata": {},
     "output_type": "execute_result"
    }
   ],
   "source": [
    "start = time.perf_counter()\n",
    "for i in range(1_000):\n",
    "    ims.physics.get_non_bonding_interactions(positions, epsilon, sigma)\n",
    "new_run_time_nb = time.perf_counter() - start\n",
    "new_run_time_nb"
   ]
  },
  {
   "cell_type": "code",
   "execution_count": 14,
   "metadata": {},
   "outputs": [
    {
     "data": {
      "text/plain": [
       "11.594570500503792"
      ]
     },
     "execution_count": 14,
     "metadata": {},
     "output_type": "execute_result"
    }
   ],
   "source": [
    "old_run_time_nb / new_run_time_nb"
   ]
  },
  {
   "cell_type": "markdown",
   "metadata": {},
   "source": [
    "### Metropolis Monte Carlo Force Tracker\n",
    "\n",
    "This just compares how much faster it is to only recalculate changed forces as compared to recalculating all forces."
   ]
  },
  {
   "cell_type": "code",
   "execution_count": 15,
   "metadata": {},
   "outputs": [],
   "source": [
    "class OldPotentialEnergyTracker():\n",
    "    '''\n",
    "    Utility class for efficiently tracking how total potential energy (bonding + Lennard Jones non-bonding) changes\n",
    "    when a single atom is displaced.\n",
    "    '''\n",
    "\n",
    "    def __init__(self, positions: np.ndarray, epsilon: float, sigma: float, equilibrium_bond_length: float,\n",
    "                spring_constant: float) -> None:\n",
    "        'calculates key distances, lengths and total potential energy'\n",
    "        self.positions = positions\n",
    "        self.epsilon = epsilon\n",
    "        self.sigma = sigma\n",
    "        self.equilibrium_bond_length = equilibrium_bond_length\n",
    "        self.spring_constant = spring_constant\n",
    "        self.n_atoms = len(positions)\n",
    "\n",
    "        # (n_atoms, n_atoms, 3) array where array[i,j] is the displacement between ith atom and jth atom\n",
    "        self.displacements = positions.reshape((self.n_atoms, 1, 3)) - positions.reshape((1, self.n_atoms, 3))\n",
    "        \n",
    "        self.col_indexes, self.row_indexes = np.meshgrid(np.arange(self.n_atoms), np.arange(self.n_atoms))\n",
    "        self.bonding_mask = (self.col_indexes-self.row_indexes) == 1 #all bonding interactions\n",
    "        #half of non-bonding interactions (all that is needed to calculate non bonding potential energy)\n",
    "        self.non_bonding_mask = (self.col_indexes-self.row_indexes) > 2 \n",
    "\n",
    "        #should ignore distances between atom and itself (i==j). Set to 1 to prevent 0 division errors\n",
    "        self.displacements[self.col_indexes==self.row_indexes] = 1\n",
    "        self.lengths = np.linalg.norm(self.displacements, axis=2)\n",
    "\n",
    "        bonding_extensions = self.lengths[self.bonding_mask] - equilibrium_bond_length\n",
    "        bonding_potential =  np.sum(spring_constant/2 * bonding_extensions**2)\n",
    "        six_power = (sigma/self.lengths[self.non_bonding_mask]) ** 6\n",
    "        non_bonding_potential = np.sum(epsilon * (six_power**2 - 2*six_power))\n",
    "        self.total_potential_energy = bonding_potential + non_bonding_potential\n",
    "        \n",
    "        #used in test_displacement method. allows for each pair to only be checked once. length between ij\n",
    "        #calculated, but not length between ji. using the second length when only calculating potentials is redundant\n",
    "        self.relevant_interactions = self.col_indexes > self.row_indexes\n",
    "\n",
    "    def get_total_potential_energy(self):\n",
    "        '''return total potential energy of molecule'''\n",
    "        return self.total_potential_energy\n",
    "\n",
    "    def test_displacement(self, atom_index: int, displacement: np.ndarray) -> float:\n",
    "        '''stores temporary new positions, displacements, and lengths. Returns change in potential energy'''\n",
    "        self.new_positions = self.positions.copy()\n",
    "        self.new_positions[atom_index] += displacement\n",
    "\n",
    "        self.new_displacements = self.displacements.copy()\n",
    "        self.new_displacements[:, atom_index] = self.new_positions - self.new_positions[atom_index].reshape(1, 3)\n",
    "        self.new_displacements[atom_index, :] = self.new_positions[atom_index].reshape(1, 3) - self.new_positions\n",
    "\n",
    "        affected_interactions = (self.col_indexes == atom_index) | (self.row_indexes == atom_index)\n",
    "        update_mask = self.relevant_interactions & affected_interactions\n",
    "        self.new_lengths = self.lengths.copy()\n",
    "        #axis=1 as slicing 3D array with boolean mask returns 2D array\n",
    "        self.new_lengths[update_mask] = np.linalg.norm(self.new_displacements[update_mask], axis=1)\n",
    "\n",
    "        bonding_extensions = self.new_lengths[self.bonding_mask] - self.equilibrium_bond_length\n",
    "        bonding_potential =  np.sum(self.spring_constant/2 * bonding_extensions**2)\n",
    "        six_power = (self.sigma/self.new_lengths[self.non_bonding_mask])**6\n",
    "        non_bonding_potential = np.sum(self.epsilon * (six_power**2 - 2*six_power))\n",
    "        self.new_total_potential_energy = bonding_potential + non_bonding_potential\n",
    "        return self.new_total_potential_energy - self.total_potential_energy\n",
    "    \n",
    "    def accept_last_displacement(self) -> None:\n",
    "        '''replaces internal positions, displacements, and lengths with values from last test displacement'''\n",
    "        self.positions = self.new_positions\n",
    "        self.displacements = self.new_displacements\n",
    "        self.lengths = self.new_lengths\n",
    "        self.total_potential_energy = self.new_total_potential_energy"
   ]
  },
  {
   "cell_type": "code",
   "execution_count": 16,
   "metadata": {},
   "outputs": [],
   "source": [
    "F_b, PE_b = ims.physics.get_bonding_interactions(positions, equilibrium_bond_length, spring_constant)\n",
    "F_nb, PE_nb = ims.physics.get_non_bonding_interactions(positions, epsilon, sigma)\n",
    "true_PE = PE_b + PE_nb\n",
    "\n",
    "energy_tracker = ims.physics.PotentialEnergyTracker(positions, epsilon, sigma, equilibrium_bond_length, spring_constant)\n",
    "new_PE = energy_tracker.get_total_potential_energy()\n",
    "\n",
    "assert np.allclose(true_PE, new_PE)"
   ]
  },
  {
   "cell_type": "code",
   "execution_count": 17,
   "metadata": {},
   "outputs": [],
   "source": [
    "atom_index, displacement = 1, np.array([0.1, 1, -0.3])\n",
    "new_positions = positions.copy()\n",
    "new_positions[atom_index] += displacement\n",
    "\n",
    "F_b, PE_b = ims.physics.get_bonding_interactions(new_positions, equilibrium_bond_length, spring_constant)\n",
    "F_nb, PE_nb = ims.physics.get_non_bonding_interactions(new_positions, epsilon, sigma)\n",
    "true_displaced_PE = PE_b + PE_nb\n",
    "true_PE_change = true_displaced_PE - true_PE\n",
    "\n",
    "new_PE_change = energy_tracker.test_displacement(atom_index, displacement)\n",
    "\n",
    "assert np.allclose(true_PE_change, new_PE_change)"
   ]
  },
  {
   "cell_type": "code",
   "execution_count": 18,
   "metadata": {},
   "outputs": [
    {
     "data": {
      "text/plain": [
       "0.24993240000003425"
      ]
     },
     "execution_count": 18,
     "metadata": {},
     "output_type": "execute_result"
    }
   ],
   "source": [
    "energy_tracker = OldPotentialEnergyTracker(positions, epsilon, sigma, equilibrium_bond_length, spring_constant)\n",
    "start = time.perf_counter()\n",
    "for i in range(5_000):\n",
    "    energy_tracker.test_displacement(atom_index, displacement)\n",
    "old_MMC_runtime = time.perf_counter() - start\n",
    "old_MMC_runtime"
   ]
  },
  {
   "cell_type": "code",
   "execution_count": 19,
   "metadata": {},
   "outputs": [
    {
     "data": {
      "text/plain": [
       "0.043423900000107096"
      ]
     },
     "execution_count": 19,
     "metadata": {},
     "output_type": "execute_result"
    }
   ],
   "source": [
    "energy_tracker = ims.physics.PotentialEnergyTracker(positions, epsilon, sigma, equilibrium_bond_length, spring_constant)\n",
    "start = time.perf_counter()\n",
    "for i in range(5_000):\n",
    "    energy_tracker.test_displacement(atom_index, displacement)\n",
    "new_MMC_runtime = time.perf_counter() - start\n",
    "new_MMC_runtime"
   ]
  },
  {
   "cell_type": "code",
   "execution_count": 20,
   "metadata": {},
   "outputs": [
    {
     "data": {
      "text/plain": [
       "5.755641478527213"
      ]
     },
     "execution_count": 20,
     "metadata": {},
     "output_type": "execute_result"
    }
   ],
   "source": [
    "old_MMC_runtime / new_MMC_runtime"
   ]
  }
 ],
 "metadata": {
  "kernelspec": {
   "display_name": ".venv",
   "language": "python",
   "name": "python3"
  },
  "language_info": {
   "codemirror_mode": {
    "name": "ipython",
    "version": 3
   },
   "file_extension": ".py",
   "mimetype": "text/x-python",
   "name": "python",
   "nbconvert_exporter": "python",
   "pygments_lexer": "ipython3",
   "version": "3.11.11"
  }
 },
 "nbformat": 4,
 "nbformat_minor": 2
}
