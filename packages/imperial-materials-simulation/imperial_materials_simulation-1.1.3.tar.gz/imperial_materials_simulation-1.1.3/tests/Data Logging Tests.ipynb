{
 "cells": [
  {
   "cell_type": "code",
   "execution_count": 1,
   "metadata": {},
   "outputs": [],
   "source": [
    "import numpy as np\n",
    "import time\n",
    "import pathlib as pl\n",
    "import pandas as pd"
   ]
  },
  {
   "cell_type": "markdown",
   "metadata": {},
   "source": [
    "# Data Logging Tests\n",
    "\n",
    "This code compares the performance of different data logging strategies."
   ]
  },
  {
   "cell_type": "code",
   "execution_count": 2,
   "metadata": {},
   "outputs": [],
   "source": [
    "numbers = np.random.uniform(low=0, high=4, size=(20_000, 10))\n",
    "columns = [f'col_{i}' for i in range(10)]"
   ]
  },
  {
   "cell_type": "code",
   "execution_count": 3,
   "metadata": {},
   "outputs": [
    {
     "name": "stdout",
     "output_type": "stream",
     "text": [
      "0.0004094000000804954\n"
     ]
    }
   ],
   "source": [
    "start = time.perf_counter()\n",
    "dataframe = pd.DataFrame(numbers, columns=columns)\n",
    "stop = time.perf_counter()\n",
    "print(stop-start)"
   ]
  },
  {
   "cell_type": "code",
   "execution_count": 4,
   "metadata": {},
   "outputs": [
    {
     "name": "stdout",
     "output_type": "stream",
     "text": [
      "8.755635399999846\n"
     ]
    }
   ],
   "source": [
    "start = time.perf_counter()\n",
    "dataframe = pd.DataFrame(np.zeros(shape=numbers.shape), columns=columns)\n",
    "for j, row in enumerate(numbers):\n",
    "    for i, value in enumerate(row):\n",
    "        dataframe.loc[j, f'col_{i}'] = value\n",
    "stop = time.perf_counter()\n",
    "print(stop-start)"
   ]
  },
  {
   "cell_type": "code",
   "execution_count": 5,
   "metadata": {},
   "outputs": [
    {
     "name": "stdout",
     "output_type": "stream",
     "text": [
      "6.613807299999962\n"
     ]
    }
   ],
   "source": [
    "start = time.perf_counter()\n",
    "dataframe = pd.DataFrame(np.zeros(shape=numbers.shape), columns=columns)\n",
    "for j, row in enumerate(numbers):\n",
    "    for i, value in enumerate(row):\n",
    "        dataframe.iloc[j, i] = value\n",
    "stop = time.perf_counter()\n",
    "print(stop-start)"
   ]
  },
  {
   "cell_type": "code",
   "execution_count": 6,
   "metadata": {},
   "outputs": [
    {
     "name": "stdout",
     "output_type": "stream",
     "text": [
      "0.0633476000000428\n"
     ]
    }
   ],
   "source": [
    "start = time.perf_counter()\n",
    "array = np.zeros(shape=numbers.shape)\n",
    "for j, row in enumerate(numbers):\n",
    "    for i, value in enumerate(row):\n",
    "        array[j, i] = value\n",
    "dataframe = pd.DataFrame(array, columns=columns)\n",
    "stop = time.perf_counter()\n",
    "print(stop-start)"
   ]
  },
  {
   "cell_type": "code",
   "execution_count": 7,
   "metadata": {},
   "outputs": [
    {
     "name": "stdout",
     "output_type": "stream",
     "text": [
      "0.0505671999999322\n"
     ]
    }
   ],
   "source": [
    "start = time.perf_counter()\n",
    "counter = 0\n",
    "dataframe = pd.DataFrame(np.zeros(shape=numbers.shape), columns=columns)\n",
    "for j, row in enumerate(numbers):\n",
    "    for i, value in enumerate(row):\n",
    "        counter += 1\n",
    "stop = time.perf_counter()\n",
    "print(stop-start)"
   ]
  },
  {
   "cell_type": "code",
   "execution_count": 8,
   "metadata": {},
   "outputs": [
    {
     "name": "stdout",
     "output_type": "stream",
     "text": [
      "0.48541100000011284\n"
     ]
    }
   ],
   "source": [
    "start = time.perf_counter()\n",
    "dataframe = pd.DataFrame(np.zeros(shape=numbers.shape), columns=columns)\n",
    "for j, row in enumerate(numbers):\n",
    "    dataframe.loc[j] = row\n",
    "stop = time.perf_counter()\n",
    "print(stop-start)"
   ]
  },
  {
   "cell_type": "code",
   "execution_count": 9,
   "metadata": {},
   "outputs": [
    {
     "name": "stdout",
     "output_type": "stream",
     "text": [
      "2.8023470000000543\n"
     ]
    }
   ],
   "source": [
    "start = time.perf_counter()\n",
    "dataframe = pd.DataFrame(np.zeros(shape=numbers.shape), columns=columns)\n",
    "for j, row in enumerate(numbers):\n",
    "    row = {f'col_{i}': value for i, value in enumerate(row)}\n",
    "    dataframe.loc[j] = row\n",
    "stop = time.perf_counter()\n",
    "print(stop-start)"
   ]
  },
  {
   "cell_type": "code",
   "execution_count": 10,
   "metadata": {},
   "outputs": [
    {
     "name": "stdout",
     "output_type": "stream",
     "text": [
      "0.1100582999999915\n"
     ]
    }
   ],
   "source": [
    "start = time.perf_counter()\n",
    "rows = []\n",
    "for j, row in enumerate(numbers):\n",
    "    rows.append({f'col_{i}': value for i, value in enumerate(row)})\n",
    "dataframe = pd.DataFrame(rows)\n",
    "stop = time.perf_counter()\n",
    "print(stop-start)"
   ]
  },
  {
   "cell_type": "code",
   "execution_count": 11,
   "metadata": {},
   "outputs": [
    {
     "name": "stdout",
     "output_type": "stream",
     "text": [
      "0.22888130000001183\n"
     ]
    }
   ],
   "source": [
    "start = time.perf_counter()\n",
    "rows = []\n",
    "for j, row in enumerate(numbers):\n",
    "    rows.append({f'col_{i}': value.copy() for i, value in enumerate(row)})\n",
    "dataframe = pd.DataFrame(rows)\n",
    "stop = time.perf_counter()\n",
    "print(stop-start)"
   ]
  },
  {
   "cell_type": "code",
   "execution_count": 12,
   "metadata": {},
   "outputs": [
    {
     "name": "stdout",
     "output_type": "stream",
     "text": [
      "0.18382210000004306\n"
     ]
    }
   ],
   "source": [
    "start = time.perf_counter()\n",
    "with open('temp.txt', 'w') as file:\n",
    "    for row in numbers:\n",
    "        file.write(' '.join(map(str, row)) + '\\n')\n",
    "stop = time.perf_counter()\n",
    "pl.Path().absolute().joinpath('temp.txt').unlink()\n",
    "print(stop-start)"
   ]
  }
 ],
 "metadata": {
  "kernelspec": {
   "display_name": ".venv",
   "language": "python",
   "name": "python3"
  },
  "language_info": {
   "codemirror_mode": {
    "name": "ipython",
    "version": 3
   },
   "file_extension": ".py",
   "mimetype": "text/x-python",
   "name": "python",
   "nbconvert_exporter": "python",
   "pygments_lexer": "ipython3",
   "version": "3.11.11"
  }
 },
 "nbformat": 4,
 "nbformat_minor": 2
}
