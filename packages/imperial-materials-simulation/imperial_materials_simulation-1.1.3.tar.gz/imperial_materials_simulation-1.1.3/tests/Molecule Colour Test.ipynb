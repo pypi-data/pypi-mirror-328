{
 "cells": [
  {
   "cell_type": "code",
   "execution_count": 1,
   "metadata": {},
   "outputs": [],
   "source": [
    "import py3Dmol\n",
    "import imperial_materials_simulation as ims\n",
    "import ipywidgets as ipy"
   ]
  },
  {
   "cell_type": "code",
   "execution_count": 2,
   "metadata": {},
   "outputs": [],
   "source": [
    "molecule = ims.starting_microstructure.copy() #pandas dataframe\n",
    "molecule.insert(loc=0, column='element', value='C')\n",
    "molecule_xyz = f'{len(molecule)}\\n some comment\\n {molecule.to_string(header=False, index=False)}' #format for py3dmol\n",
    "view = py3Dmol.view(width=300, height=300)\n",
    "view.addModel(molecule_xyz, 'xyz')\n",
    "pass"
   ]
  },
  {
   "cell_type": "code",
   "execution_count": 3,
   "metadata": {},
   "outputs": [],
   "source": [
    "#py3dmol predefined colours\n",
    "colours = [\n",
    "    'aliceblue', 'antiquewhite', 'aqua', 'aquamarine', 'azure', 'beige', 'bisque', 'black', 'blanchedalmond', 'blue',\n",
    "    'blueviolet', 'brown', 'burlywood', 'cadetblue', 'chartreuse', 'chocolate', 'coral', 'cornflowerblue', 'cornsilk',\n",
    "    'crimson', 'cyan', 'darkblue', 'darkcyan', 'darkgoldenrod', 'darkgray', 'darkgrey', 'darkgreen', 'darkkhaki',\n",
    "    'darkmagenta', 'darkolivegreen', 'darkorange', 'darkorchid', 'darkred', 'darksalmon', 'darkseagreen',\n",
    "    'darkslateblue', 'darkslategray', 'darkslategrey', 'darkturquoise', 'darkviolet', 'deeppink', 'deepskyblue',\n",
    "    'dimgray', 'dimgrey', 'dodgerblue', 'firebrick', 'floralwhite', 'forestgreen', 'fuchsia', 'gainsboro', 'ghostwhite',\n",
    "    'gold', 'goldenrod', 'gray', 'grey', 'green', 'greenyellow', 'honeydew', 'hotpink', 'indianred', 'indigo', 'ivory',\n",
    "    'khaki', 'lavender', 'lavenderblush', 'lawngreen', 'lemonchiffon', 'lightblue', 'lightcoral', 'lightcyan',\n",
    "    'lightgoldenrodyellow', 'lightgray', 'lightgrey', 'lightgreen', 'lightpink', 'lightsalmon', 'lightseagreen',\n",
    "    'lightskyblue', 'lightslategray', 'lightslategrey', 'lightsteelblue', 'lightyellow', 'lime', 'limegreen', 'linen',\n",
    "    'magenta', 'maroon', 'mediumaquamarine', 'mediumblue', 'mediumorchid', 'mediumpurple', 'mediumseagreen',\n",
    "    'mediumslateblue', 'mediumspringgreen', 'mediumturquoise', 'mediumvioletred', 'midnightblue', 'mintcream',\n",
    "    'mistyrose', 'moccasin', 'navajowhite', 'navy', 'oldlace', 'olive', 'olivedrab', 'orange', 'orangered', 'orchid',\n",
    "    'palegoldenrod', 'palegreen', 'paleturquoise', 'palevioletred', 'papayawhip', 'peachpuff', 'peru', 'pink', 'plum',\n",
    "    'powderblue', 'purple', 'rebeccapurple', 'red', 'rosybrown', 'royalblue', 'saddlebrown', 'salmon', 'sandybrown',\n",
    "    'seagreen', 'seashell', 'sienna', 'silver', 'skyblue', 'slateblue', 'slategray', 'slategrey', 'snow', 'springgreen',\n",
    "    'steelblue', 'tan', 'teal', 'thistle', 'tomato', 'turquoise', 'violet', 'wheat', 'white', 'whitesmoke', 'yellow',\n",
    "    'yellowgreen'\n",
    "    ]"
   ]
  },
  {
   "cell_type": "code",
   "execution_count": 4,
   "metadata": {},
   "outputs": [
    {
     "data": {
      "application/vnd.jupyter.widget-view+json": {
       "model_id": "29b615ed6e5d4263a79bcc627baef2e4",
       "version_major": 2,
       "version_minor": 0
      },
      "text/plain": [
       "interactive(children=(Dropdown(description='stick_colour', index=129, options=('aliceblue', 'antiquewhite', 'a…"
      ]
     },
     "metadata": {},
     "output_type": "display_data"
    },
    {
     "data": {
      "application/3dmoljs_load.v0": "<div id=\"3dmolviewer_17400062271423597\"  style=\"position: relative; width: 300px; height: 300px;\">\n        <p id=\"3dmolwarning_17400062271423597\" style=\"background-color:#ffcccc;color:black\">3Dmol.js failed to load for some reason.  Please check your browser console for error messages.<br></p>\n        </div>\n<script>\n\nvar loadScriptAsync = function(uri){\n  return new Promise((resolve, reject) => {\n    //this is to ignore the existence of requirejs amd\n    var savedexports, savedmodule;\n    if (typeof exports !== 'undefined') savedexports = exports;\n    else exports = {}\n    if (typeof module !== 'undefined') savedmodule = module;\n    else module = {}\n\n    var tag = document.createElement('script');\n    tag.src = uri;\n    tag.async = true;\n    tag.onload = () => {\n        exports = savedexports;\n        module = savedmodule;\n        resolve();\n    };\n  var firstScriptTag = document.getElementsByTagName('script')[0];\n  firstScriptTag.parentNode.insertBefore(tag, firstScriptTag);\n});\n};\n\nif(typeof $3Dmolpromise === 'undefined') {\n$3Dmolpromise = null;\n  $3Dmolpromise = loadScriptAsync('https://cdnjs.cloudflare.com/ajax/libs/3Dmol/2.4.2/3Dmol-min.js');\n}\n\nvar viewer_17400062271423597 = null;\nvar warn = document.getElementById(\"3dmolwarning_17400062271423597\");\nif(warn) {\n    warn.parentNode.removeChild(warn);\n}\n$3Dmolpromise.then(function() {\nviewer_17400062271423597 = $3Dmol.createViewer(document.getElementById(\"3dmolviewer_17400062271423597\"),{backgroundColor:\"white\"});\nviewer_17400062271423597.zoomTo();\n\tviewer_17400062271423597.addModel(\"22\\n some comment\\n C  1.261310 -3.627982  3.228746\\nC  0.011092 -3.816544  2.366664\\nC -1.359807 -3.292667  1.930555\\nC -2.379770 -2.150770  1.876520\\nC -2.576049 -0.677460  2.249171\\nC -1.876202  0.591439  2.747677\\nC -0.500432  1.226120  2.974951\\nC  1.003449  1.140701  2.698185\\nC  2.126027  0.500094  1.877703\\nC  2.564580 -0.395917  0.716846\\nC  2.181724 -1.329835 -0.433509\\nC  1.108317 -1.909066 -1.357722\\nC -0.301075 -1.832405 -1.949189\\nC -1.586287 -1.031444 -2.171559\\nC -2.405765  0.239817 -1.934707\\nC -2.436734  1.665391 -1.375840\\nC -1.614659  2.845161 -0.847111\\nC -0.190282  3.400792 -0.743068\\nC  1.246206  3.266714 -1.259362\\nC  2.093052  2.570819 -2.329763\\nC  2.178031  1.661448 -3.558511\\nC  1.453275  0.955592 -4.706676\",\"xyz\");\n\tviewer_17400062271423597.setStyle({\"stick\": {\"radius\": 0.2, \"color\": \"silver\"}, \"sphere\": {\"radius\": 0.5, \"color\": \"cyan\"}});\n\tviewer_17400062271423597.zoomTo();\nviewer_17400062271423597.render();\n});\n</script>",
      "text/html": [
       "<div id=\"3dmolviewer_17400062271423597\"  style=\"position: relative; width: 300px; height: 300px;\">\n",
       "        <p id=\"3dmolwarning_17400062271423597\" style=\"background-color:#ffcccc;color:black\">3Dmol.js failed to load for some reason.  Please check your browser console for error messages.<br></p>\n",
       "        </div>\n",
       "<script>\n",
       "\n",
       "var loadScriptAsync = function(uri){\n",
       "  return new Promise((resolve, reject) => {\n",
       "    //this is to ignore the existence of requirejs amd\n",
       "    var savedexports, savedmodule;\n",
       "    if (typeof exports !== 'undefined') savedexports = exports;\n",
       "    else exports = {}\n",
       "    if (typeof module !== 'undefined') savedmodule = module;\n",
       "    else module = {}\n",
       "\n",
       "    var tag = document.createElement('script');\n",
       "    tag.src = uri;\n",
       "    tag.async = true;\n",
       "    tag.onload = () => {\n",
       "        exports = savedexports;\n",
       "        module = savedmodule;\n",
       "        resolve();\n",
       "    };\n",
       "  var firstScriptTag = document.getElementsByTagName('script')[0];\n",
       "  firstScriptTag.parentNode.insertBefore(tag, firstScriptTag);\n",
       "});\n",
       "};\n",
       "\n",
       "if(typeof $3Dmolpromise === 'undefined') {\n",
       "$3Dmolpromise = null;\n",
       "  $3Dmolpromise = loadScriptAsync('https://cdnjs.cloudflare.com/ajax/libs/3Dmol/2.4.2/3Dmol-min.js');\n",
       "}\n",
       "\n",
       "var viewer_17400062271423597 = null;\n",
       "var warn = document.getElementById(\"3dmolwarning_17400062271423597\");\n",
       "if(warn) {\n",
       "    warn.parentNode.removeChild(warn);\n",
       "}\n",
       "$3Dmolpromise.then(function() {\n",
       "viewer_17400062271423597 = $3Dmol.createViewer(document.getElementById(\"3dmolviewer_17400062271423597\"),{backgroundColor:\"white\"});\n",
       "viewer_17400062271423597.zoomTo();\n",
       "\tviewer_17400062271423597.addModel(\"22\\n some comment\\n C  1.261310 -3.627982  3.228746\\nC  0.011092 -3.816544  2.366664\\nC -1.359807 -3.292667  1.930555\\nC -2.379770 -2.150770  1.876520\\nC -2.576049 -0.677460  2.249171\\nC -1.876202  0.591439  2.747677\\nC -0.500432  1.226120  2.974951\\nC  1.003449  1.140701  2.698185\\nC  2.126027  0.500094  1.877703\\nC  2.564580 -0.395917  0.716846\\nC  2.181724 -1.329835 -0.433509\\nC  1.108317 -1.909066 -1.357722\\nC -0.301075 -1.832405 -1.949189\\nC -1.586287 -1.031444 -2.171559\\nC -2.405765  0.239817 -1.934707\\nC -2.436734  1.665391 -1.375840\\nC -1.614659  2.845161 -0.847111\\nC -0.190282  3.400792 -0.743068\\nC  1.246206  3.266714 -1.259362\\nC  2.093052  2.570819 -2.329763\\nC  2.178031  1.661448 -3.558511\\nC  1.453275  0.955592 -4.706676\",\"xyz\");\n",
       "\tviewer_17400062271423597.setStyle({\"stick\": {\"radius\": 0.2, \"color\": \"silver\"}, \"sphere\": {\"radius\": 0.5, \"color\": \"cyan\"}});\n",
       "\tviewer_17400062271423597.zoomTo();\n",
       "viewer_17400062271423597.render();\n",
       "});\n",
       "</script>"
      ]
     },
     "metadata": {},
     "output_type": "display_data"
    },
    {
     "data": {
      "text/plain": [
       "<py3Dmol.view at 0x274cd3e28d0>"
      ]
     },
     "execution_count": 4,
     "metadata": {},
     "output_type": "execute_result"
    }
   ],
   "source": [
    "@ipy.interact(stick_colour=colours, sphere_colour=colours, stick_radius=(0, 1, 0.01), sphere_radius=(0, 1.5, 0.01))\n",
    "def update_view(stick_colour = 'silver', sphere_colour = 'cyan', stick_radius = 0.2, sphere_radius = 0.5):\n",
    "    view.setStyle({\n",
    "        'stick': {'radius': 1e-5 if stick_radius==0 else stick_radius, 'color': stick_colour},\n",
    "        'sphere': {'radius': sphere_radius, 'color': sphere_colour},\n",
    "        })\n",
    "    view.zoomTo()\n",
    "    view.update()\n",
    "\n",
    "view"
   ]
  }
 ],
 "metadata": {
  "kernelspec": {
   "display_name": ".venv",
   "language": "python",
   "name": "python3"
  },
  "language_info": {
   "codemirror_mode": {
    "name": "ipython",
    "version": 3
   },
   "file_extension": ".py",
   "mimetype": "text/x-python",
   "name": "python",
   "nbconvert_exporter": "python",
   "pygments_lexer": "ipython3",
   "version": "3.11.11"
  }
 },
 "nbformat": 4,
 "nbformat_minor": 2
}
