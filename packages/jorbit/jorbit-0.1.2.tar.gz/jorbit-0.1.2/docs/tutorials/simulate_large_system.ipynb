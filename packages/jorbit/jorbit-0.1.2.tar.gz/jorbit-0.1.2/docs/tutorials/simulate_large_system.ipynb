{
 "cells": [
  {
   "cell_type": "markdown",
   "metadata": {},
   "source": [
    "# Simulate a large system"
   ]
  },
  {
   "cell_type": "markdown",
   "metadata": {},
   "source": [
    "This is slightly in the weeds, but worth pointing out for any users interested in simulating many particles at once. As of writing, the `newtonian_acceleration` function is the only acceleration function that efficiently separates tracer and massive particles. Consequently, if you have to integrate 1e6 massless particles in the presence of ~30 perturbers, that will work fine if you *only* include Newtonian acceleration. Including PPN gravity will require lots of pairwise calculations that will explode with particle count."
   ]
  },
  {
   "cell_type": "code",
   "execution_count": null,
   "metadata": {},
   "outputs": [],
   "source": [
    "# TODO"
   ]
  }
 ],
 "metadata": {
  "kernelspec": {
   "display_name": "jorbit",
   "language": "python",
   "name": "jorbit"
  },
  "language_info": {
   "codemirror_mode": {
    "name": "ipython",
    "version": 3
   },
   "file_extension": ".py",
   "mimetype": "text/x-python",
   "name": "python",
   "nbconvert_exporter": "python",
   "pygments_lexer": "ipython3",
   "version": "3.13.0"
  }
 },
 "nbformat": 4,
 "nbformat_minor": 2
}
