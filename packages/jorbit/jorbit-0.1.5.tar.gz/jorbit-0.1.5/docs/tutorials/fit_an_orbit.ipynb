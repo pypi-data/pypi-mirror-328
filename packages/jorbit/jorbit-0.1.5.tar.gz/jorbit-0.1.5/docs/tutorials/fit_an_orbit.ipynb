{
 "cells": [
  {
   "cell_type": "markdown",
   "metadata": {},
   "source": [
    "# Fit an orbit"
   ]
  },
  {
   "cell_type": "markdown",
   "metadata": {},
   "source": [
    "max likelihood, emcee example\n",
    "\n",
    "TODO"
   ]
  }
 ],
 "metadata": {
  "language_info": {
   "name": "python"
  }
 },
 "nbformat": 4,
 "nbformat_minor": 2
}
