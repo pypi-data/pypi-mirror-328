{
 "cells": [
  {
   "cell_type": "markdown",
   "metadata": {},
   "source": [
    "# Local MPChecker"
   ]
  },
  {
   "cell_type": "markdown",
   "metadata": {},
   "source": [
    "We can use `jorbit` to mimic the MPC's \"MPChecker\" service. This is a service that, when given a sky coordinate and time, will return a list of all known objects that are in the field of view of a given telescope. This is useful for identifying observed objects in a given field, or for checking for contamination of another science target by solar system objects.\n",
    "\n",
    "The `jorbit` version is not guaranteed to successfully flag every object: there are a number of simplifications where a particle could fall through the cracks. However, it offers a chance for a rapid first pass, and the the ability to run all computations locally (after downloading some cached data, which is done automatically using Astropy)."
   ]
  },
  {
   "cell_type": "code",
   "execution_count": 6,
   "metadata": {},
   "outputs": [],
   "source": [
    "import astropy.units as u\n",
    "from astropy.coordinates import SkyCoord\n",
    "from astropy.time import Time\n",
    "\n",
    "from jorbit.mpchecker import mpchecker"
   ]
  },
  {
   "cell_type": "markdown",
   "metadata": {},
   "source": [
    "For the fastest but crudest check, we can run:"
   ]
  },
  {
   "cell_type": "code",
   "execution_count": 7,
   "metadata": {},
   "outputs": [
    {
     "data": {
      "text/html": [
       "<div><i>Table length=13</i>\n",
       "<table id=\"table5955891776\" class=\"table-striped table-bordered table-condensed\">\n",
       "<thead><tr><th>Unpacked Name</th><th>separation</th><th>ra</th><th>dec</th><th>Packed designation</th><th>H</th><th>G</th><th>Epoch</th><th>M</th><th>Peri</th><th>Node</th><th>Incl.</th><th>e</th><th>n</th><th>a</th><th>U</th><th>Reference</th><th>#Obs</th><th>#Opp</th><th>Arc</th><th>rms</th><th>Coarse Perts</th><th>Precise Perts</th><th>Computer</th><th>Flags</th><th>last obs</th></tr></thead>\n",
       "<thead><tr><th></th><th>arcsec</th><th>deg</th><th>deg</th><th></th><th></th><th></th><th></th><th></th><th></th><th></th><th></th><th></th><th></th><th></th><th></th><th></th><th></th><th></th><th></th><th></th><th></th><th></th><th></th><th></th><th></th></tr></thead>\n",
       "<thead><tr><th>str19</th><th>float64</th><th>float64</th><th>float64</th><th>str7</th><th>str5</th><th>str4</th><th>str5</th><th>str9</th><th>str9</th><th>str9</th><th>str8</th><th>str9</th><th>str10</th><th>str9</th><th>str1</th><th>str9</th><th>str3</th><th>str2</th><th>str9</th><th>str4</th><th>str3</th><th>str3</th><th>str8</th><th>str4</th><th>str8</th></tr></thead>\n",
       "<tr><td>2016 BK84</td><td>270.4278119801477</td><td>359.9281601096068</td><td>-0.021951538035608578</td><td>K16B84K</td><td>17.32</td><td>0.15</td><td>K24AH</td><td>219.42948</td><td>140.85942</td><td>15.97230</td><td>10.97648</td><td>0.1729035</td><td>0.17932373</td><td>3.1144226</td><td>0</td><td>E2024-TN4</td><td>84</td><td>7</td><td>2010-2024</td><td>0.42</td><td>M-v</td><td>3Ek</td><td>MPCLINUX</td><td>0000</td><td>20241010</td></tr>\n",
       "<tr><td>(243996) 2001 RP149</td><td>299.5286772177697</td><td>0.03438721457692705</td><td>-0.07576385186187556</td><td>O3996</td><td>17.80</td><td>0.15</td><td>K24AH</td><td>331.42087</td><td>190.52483</td><td>205.57069</td><td>1.35356</td><td>0.0985994</td><td>0.30013710</td><td>2.2093080</td><td>0</td><td>E2024-W01</td><td>396</td><td>15</td><td>2000-2024</td><td>0.89</td><td>M-v</td><td>3Ek</td><td>MPCLINUX</td><td>0000</td><td>20241109</td></tr>\n",
       "<tr><td>(328594) 2009 SU69</td><td>328.032332410219</td><td>0.040290737741438314</td><td>0.08172838417960725</td><td>W8594</td><td>16.75</td><td>0.15</td><td>K24AH</td><td>139.12830</td><td>23.66358</td><td>199.35336</td><td>5.64561</td><td>0.0343690</td><td>0.19686043</td><td>2.9266027</td><td>0</td><td>E2024-TI9</td><td>223</td><td>13</td><td>1994-2024</td><td>0.99</td><td>M-v</td><td>3Ek</td><td>MPCLINUX</td><td>0000</td><td>20241006</td></tr>\n",
       "<tr><td>(192469) 1998 FF48</td><td>362.62565453097756</td><td>0.04489259766205314</td><td>-0.09017237927678272</td><td>J2469</td><td>15.66</td><td>0.15</td><td>K24AH</td><td>159.54241</td><td>2.44130</td><td>199.19012</td><td>8.44492</td><td>0.1114181</td><td>0.24065368</td><td>2.5598099</td><td>0</td><td>E2025-B02</td><td>877</td><td>18</td><td>1994-2025</td><td>0.78</td><td>M-v</td><td>3Ek</td><td>MPCLINUX</td><td>0000</td><td>20250116</td></tr>\n",
       "<tr><td>2020 SE100</td><td>365.9350844283869</td><td>0.005957379883840604</td><td>-0.1014739107881346</td><td>K20SA0E</td><td>18.59</td><td>0.15</td><td>K24AH</td><td>350.70758</td><td>170.43892</td><td>203.83276</td><td>2.42085</td><td>0.1629633</td><td>0.23284725</td><td>2.6167082</td><td>0</td><td>E2024-TA7</td><td>49</td><td>4</td><td>2003-2024</td><td>0.38</td><td>M-v</td><td>3Ek</td><td>MPCLINUX</td><td>0000</td><td>20241004</td></tr>\n",
       "<tr><td>(572408) 2008 GD168</td><td>394.4635076095755</td><td>359.890512021332</td><td>-0.004320642764797974</td><td>v2408</td><td>14.52</td><td>0.15</td><td>K24AH</td><td>66.34919</td><td>274.73593</td><td>10.43460</td><td>5.35977</td><td>0.1149327</td><td>0.08318784</td><td>5.1971207</td><td>0</td><td>E2024-U66</td><td>109</td><td>9</td><td>2008-2024</td><td>0.98</td><td>M-v</td><td>3Ek</td><td>MPCLINUX</td><td>0009</td><td>20241023</td></tr>\n",
       "<tr><td>(167818) 2005 CH8</td><td>479.0622857428725</td><td>0.1328400530768678</td><td>-0.007868018793497944</td><td>G7818</td><td>16.15</td><td>0.15</td><td>K24AH</td><td>109.74498</td><td>219.05555</td><td>21.24657</td><td>2.00256</td><td>0.1478632</td><td>0.22879081</td><td>2.6475469</td><td>0</td><td>E2025-B02</td><td>650</td><td>19</td><td>1971-2025</td><td>0.86</td><td>M-v</td><td>3Ek</td><td>MPCLINUX</td><td>0000</td><td>20250116</td></tr>\n",
       "<tr><td>(123177) 2000 TD66</td><td>500.0600640883788</td><td>0.026774134766224145</td><td>-0.1363007900551778</td><td>C3177</td><td>16.31</td><td>0.15</td><td>K24AH</td><td>291.52740</td><td>53.76172</td><td>23.80656</td><td>2.18909</td><td>0.0453800</td><td>0.20291467</td><td>2.8680965</td><td>0</td><td>E2025-B02</td><td>395</td><td>17</td><td>1996-2025</td><td>0.93</td><td>M-v</td><td>3Ek</td><td>MPCLINUX</td><td>0000</td><td>20250116</td></tr>\n",
       "<tr><td>2014 TA19</td><td>513.8346854365294</td><td>359.8620746845971</td><td>0.03672864002601806</td><td>K14T19A</td><td>17.65</td><td>0.15</td><td>K24AH</td><td>350.95888</td><td>357.86988</td><td>16.09248</td><td>1.18361</td><td>0.0728358</td><td>0.19136298</td><td>2.9823877</td><td>1</td><td>E2024-XE9</td><td>65</td><td>6</td><td>2009-2024</td><td>0.49</td><td>M-v</td><td>3Ek</td><td>MPCLINUX</td><td>0000</td><td>20241204</td></tr>\n",
       "<tr><td>2019 SP145</td><td>517.459510856259</td><td>359.9312053518237</td><td>-0.1262067080432755</td><td>K19SE5P</td><td>17.84</td><td>0.15</td><td>K24AH</td><td>33.27621</td><td>126.49023</td><td>196.78935</td><td>1.55376</td><td>0.0971157</td><td>0.19212604</td><td>2.9744858</td><td>1</td><td>E2024-XE9</td><td>42</td><td>3</td><td>2017-2024</td><td>0.70</td><td>M-v</td><td>3Ek</td><td>MPCLINUX</td><td>0000</td><td>20241204</td></tr>\n",
       "<tr><td>2024 SO14</td><td>529.2693688240703</td><td>359.98407935100965</td><td>0.14615470904978292</td><td>K24S14O</td><td>17.27</td><td>0.15</td><td>K24AH</td><td>21.53768</td><td>139.30351</td><td>199.57819</td><td>9.88605</td><td>0.0749875</td><td>0.17192009</td><td>3.2032067</td><td>0</td><td>MPO872824</td><td>39</td><td>8</td><td>2007-2024</td><td>0.44</td><td>M-v</td><td>3Ek</td><td>MPCLINUX</td><td>0000</td><td>20241024</td></tr>\n",
       "<tr><td>(361919) 2008 GK103</td><td>542.0887079906211</td><td>359.8789050327811</td><td>0.08950092998907275</td><td>a1919</td><td>16.86</td><td>0.15</td><td>K24AH</td><td>326.57350</td><td>19.76642</td><td>19.56972</td><td>5.86916</td><td>0.0314531</td><td>0.21113310</td><td>2.7931773</td><td>0</td><td>E2024-XE9</td><td>225</td><td>14</td><td>1999-2024</td><td>0.92</td><td>M-v</td><td>3Ek</td><td>MPCLINUX</td><td>0000</td><td>20241204</td></tr>\n",
       "<tr><td>(222437) 2001 QZ19</td><td>553.5496784300641</td><td>359.89379110377575</td><td>-0.11118898587391024</td><td>M2437</td><td>16.52</td><td>0.15</td><td>K24AH</td><td>355.13370</td><td>336.83948</td><td>30.12143</td><td>1.93101</td><td>0.1822703</td><td>0.25693508</td><td>2.4504948</td><td>0</td><td>E2025-AH1</td><td>748</td><td>15</td><td>2001-2024</td><td>0.85</td><td>M-v</td><td>3Ek</td><td>MPCLINUX</td><td>0000</td><td>20241214</td></tr>\n",
       "</table></div>"
      ],
      "text/plain": [
       "<Table length=13>\n",
       "   Unpacked Name        separation              ra          ... Flags last obs\n",
       "                          arcsec               deg          ...               \n",
       "       str19             float64             float64        ...  str4   str8  \n",
       "------------------- ------------------ -------------------- ... ----- --------\n",
       "          2016 BK84  270.4278119801477    359.9281601096068 ...  0000 20241010\n",
       "(243996) 2001 RP149  299.5286772177697  0.03438721457692705 ...  0000 20241109\n",
       " (328594) 2009 SU69   328.032332410219 0.040290737741438314 ...  0000 20241006\n",
       " (192469) 1998 FF48 362.62565453097756  0.04489259766205314 ...  0000 20250116\n",
       "         2020 SE100  365.9350844283869 0.005957379883840604 ...  0000 20241004\n",
       "(572408) 2008 GD168  394.4635076095755     359.890512021332 ...  0009 20241023\n",
       "  (167818) 2005 CH8  479.0622857428725   0.1328400530768678 ...  0000 20250116\n",
       " (123177) 2000 TD66  500.0600640883788 0.026774134766224145 ...  0000 20250116\n",
       "          2014 TA19  513.8346854365294    359.8620746845971 ...  0000 20241204\n",
       "         2019 SP145   517.459510856259    359.9312053518237 ...  0000 20241204\n",
       "          2024 SO14  529.2693688240703   359.98407935100965 ...  0000 20241024\n",
       "(361919) 2008 GK103  542.0887079906211    359.8789050327811 ...  0000 20241204\n",
       " (222437) 2001 QZ19  553.5496784300641   359.89379110377575 ...  0000 20241214"
      ]
     },
     "execution_count": 7,
     "metadata": {},
     "output_type": "execute_result"
    }
   ],
   "source": [
    "mpchecker(\n",
    "    coordinate=SkyCoord(ra=0 * u.deg, dec=0 * u.deg),\n",
    "    time=Time(\"2025-01-01\"),\n",
    "    radius=10 * u.arcmin,\n",
    "    extra_precision=False,\n",
    ")"
   ]
  },
  {
   "cell_type": "markdown",
   "metadata": {},
   "source": [
    "This should take less than a second (if the appropriate files are downloaded), but makes a few simplifications. First, the true underlying positions of the objects here were integrated using only Newtonian gravity and perturbations from the planets and major asteroids. By neglecting effects like GR, we introduce a ~arsec level error (usually much smaller, but we'll be conservative). Second, when converting these positions into sky coordinates, we've assumed that the observer is located at the geocenter. Depending on the observer's true location, this can introduce $>$arcsec level errors, especially if the object is nearby and the observer is actually a spacecraft like TESS or JWST.\n",
    "\n",
    "So, for a more accurate check, we can run:"
   ]
  },
  {
   "cell_type": "code",
   "execution_count": 8,
   "metadata": {},
   "outputs": [
    {
     "data": {
      "text/html": [
       "<div><i>Table length=13</i>\n",
       "<table id=\"table5954663920\" class=\"table-striped table-bordered table-condensed\">\n",
       "<thead><tr><th>Unpacked Name</th><th>separation</th><th>ra</th><th>dec</th><th>est. Vmag</th><th>Packed designation</th><th>H</th><th>G</th><th>Epoch</th><th>M</th><th>Peri</th><th>Node</th><th>Incl.</th><th>e</th><th>n</th><th>a</th><th>U</th><th>Reference</th><th>#Obs</th><th>#Opp</th><th>Arc</th><th>rms</th><th>Coarse Perts</th><th>Precise Perts</th><th>Computer</th><th>Flags</th><th>last obs</th></tr></thead>\n",
       "<thead><tr><th></th><th>arcsec</th><th>deg</th><th>deg</th><th>mag</th><th></th><th></th><th></th><th></th><th></th><th></th><th></th><th></th><th></th><th></th><th></th><th></th><th></th><th></th><th></th><th></th><th></th><th></th><th></th><th></th><th></th><th></th></tr></thead>\n",
       "<thead><tr><th>str19</th><th>float64</th><th>float64</th><th>float64</th><th>float64[1]</th><th>str7</th><th>str5</th><th>str4</th><th>str5</th><th>str9</th><th>str9</th><th>str9</th><th>str8</th><th>str9</th><th>str10</th><th>str9</th><th>str1</th><th>str9</th><th>str3</th><th>str2</th><th>str9</th><th>str4</th><th>str3</th><th>str3</th><th>str8</th><th>str4</th><th>str8</th></tr></thead>\n",
       "<tr><td>2016 BK84</td><td>270.28432021529846</td><td>359.9283187735462</td><td>-0.02233058322974991</td><td>23.638584089643366</td><td>K16B84K</td><td>17.32</td><td>0.15</td><td>K24AH</td><td>219.42948</td><td>140.85942</td><td>15.97230</td><td>10.97648</td><td>0.1729035</td><td>0.17932373</td><td>3.1144226</td><td>0</td><td>E2024-TN4</td><td>84</td><td>7</td><td>2010-2024</td><td>0.42</td><td>M-v</td><td>3Ek</td><td>MPCLINUX</td><td>0000</td><td>20241010</td></tr>\n",
       "<tr><td>(243996) 2001 RP149</td><td>302.2469225849364</td><td>0.03467410789978972</td><td>-0.07646283509311654</td><td>21.977731705004743</td><td>O3996</td><td>17.80</td><td>0.15</td><td>K24AH</td><td>331.42087</td><td>190.52483</td><td>205.57069</td><td>1.35356</td><td>0.0985994</td><td>0.30013710</td><td>2.2093080</td><td>0</td><td>E2024-W01</td><td>396</td><td>15</td><td>2000-2024</td><td>0.89</td><td>M-v</td><td>3Ek</td><td>MPCLINUX</td><td>0000</td><td>20241109</td></tr>\n",
       "<tr><td>(328594) 2009 SU69</td><td>326.9088059954274</td><td>0.04047437534991811</td><td>0.08128910877633423</td><td>22.51069628882137</td><td>W8594</td><td>16.75</td><td>0.15</td><td>K24AH</td><td>139.12830</td><td>23.66358</td><td>199.35336</td><td>5.64561</td><td>0.0343690</td><td>0.19686043</td><td>2.9266027</td><td>0</td><td>E2024-TI9</td><td>223</td><td>13</td><td>1994-2024</td><td>0.99</td><td>M-v</td><td>3Ek</td><td>MPCLINUX</td><td>0000</td><td>20241006</td></tr>\n",
       "<tr><td>(192469) 1998 FF48</td><td>364.4511717399132</td><td>0.045088747965715485</td><td>-0.09064117495488044</td><td>21.19595479190651</td><td>J2469</td><td>15.66</td><td>0.15</td><td>K24AH</td><td>159.54241</td><td>2.44130</td><td>199.19012</td><td>8.44492</td><td>0.1114181</td><td>0.24065368</td><td>2.5598099</td><td>0</td><td>E2025-B02</td><td>877</td><td>18</td><td>1994-2025</td><td>0.78</td><td>M-v</td><td>3Ek</td><td>MPCLINUX</td><td>0000</td><td>20250116</td></tr>\n",
       "<tr><td>2020 SE100</td><td>368.23783387939346</td><td>0.006209053386650075</td><td>-0.10209966401928419</td><td>23.140906581253827</td><td>K20SA0E</td><td>18.59</td><td>0.15</td><td>K24AH</td><td>350.70758</td><td>170.43892</td><td>203.83276</td><td>2.42085</td><td>0.1629633</td><td>0.23284725</td><td>2.6167082</td><td>0</td><td>E2024-TA7</td><td>49</td><td>4</td><td>2003-2024</td><td>0.38</td><td>M-v</td><td>3Ek</td><td>MPCLINUX</td><td>0000</td><td>20241004</td></tr>\n",
       "<tr><td>(572408) 2008 GD168</td><td>394.11007958256664</td><td>359.8906207710635</td><td>-0.004578729942004327</td><td>22.300205386939137</td><td>v2408</td><td>14.52</td><td>0.15</td><td>K24AH</td><td>66.34919</td><td>274.73593</td><td>10.43460</td><td>5.35977</td><td>0.1149327</td><td>0.08318784</td><td>5.1971207</td><td>0</td><td>E2024-U66</td><td>109</td><td>9</td><td>2008-2024</td><td>0.98</td><td>M-v</td><td>3Ek</td><td>MPCLINUX</td><td>0009</td><td>20241023</td></tr>\n",
       "<tr><td>(167818) 2005 CH8</td><td>479.8492711750218</td><td>0.13303118993162397</td><td>-0.00832568691406814</td><td>21.779069217340442</td><td>G7818</td><td>16.15</td><td>0.15</td><td>K24AH</td><td>109.74498</td><td>219.05555</td><td>21.24657</td><td>2.00256</td><td>0.1478632</td><td>0.22879081</td><td>2.6475469</td><td>0</td><td>E2025-B02</td><td>650</td><td>19</td><td>1971-2025</td><td>0.86</td><td>M-v</td><td>3Ek</td><td>MPCLINUX</td><td>0000</td><td>20250116</td></tr>\n",
       "<tr><td>(123177) 2000 TD66</td><td>501.8946693063552</td><td>0.02697180679874228</td><td>-0.13678127461271533</td><td>21.777211614805058</td><td>C3177</td><td>16.31</td><td>0.15</td><td>K24AH</td><td>291.52740</td><td>53.76172</td><td>23.80656</td><td>2.18909</td><td>0.0453800</td><td>0.20291467</td><td>2.8680965</td><td>0</td><td>E2025-B02</td><td>395</td><td>17</td><td>1996-2025</td><td>0.93</td><td>M-v</td><td>3Ek</td><td>MPCLINUX</td><td>0000</td><td>20250116</td></tr>\n",
       "<tr><td>2014 TA19</td><td>512.70908500404</td><td>359.8622699735384</td><td>0.03624455960416231</td><td>23.08049126419606</td><td>K14T19A</td><td>17.65</td><td>0.15</td><td>K24AH</td><td>350.95888</td><td>357.86988</td><td>16.09248</td><td>1.18361</td><td>0.0728358</td><td>0.19136298</td><td>2.9823877</td><td>1</td><td>E2024-XE9</td><td>65</td><td>6</td><td>2009-2024</td><td>0.49</td><td>M-v</td><td>3Ek</td><td>MPCLINUX</td><td>0000</td><td>20241204</td></tr>\n",
       "<tr><td>2019 SP145</td><td>518.6426276886735</td><td>359.9313995994118</td><td>-0.12668625602511516</td><td>23.313600771234864</td><td>K19SE5P</td><td>17.84</td><td>0.15</td><td>K24AH</td><td>33.27621</td><td>126.49023</td><td>196.78935</td><td>1.55376</td><td>0.0971157</td><td>0.19212604</td><td>2.9744858</td><td>1</td><td>E2024-XE9</td><td>42</td><td>3</td><td>2017-2024</td><td>0.70</td><td>M-v</td><td>3Ek</td><td>MPCLINUX</td><td>0000</td><td>20241204</td></tr>\n",
       "<tr><td>2024 SO14</td><td>527.6263288499335</td><td>359.9842606807207</td><td>0.14571530108009095</td><td>23.023584304733316</td><td>K24S14O</td><td>17.27</td><td>0.15</td><td>K24AH</td><td>21.53768</td><td>139.30351</td><td>199.57819</td><td>9.88605</td><td>0.0749875</td><td>0.17192009</td><td>3.2032067</td><td>0</td><td>MPO872824</td><td>39</td><td>8</td><td>2007-2024</td><td>0.44</td><td>M-v</td><td>3Ek</td><td>MPCLINUX</td><td>0000</td><td>20241024</td></tr>\n",
       "<tr><td>(361919) 2008 GK103</td><td>540.4467476915685</td><td>359.87910733879164</td><td>0.08900685702112782</td><td>22.211024532572342</td><td>a1919</td><td>16.86</td><td>0.15</td><td>K24AH</td><td>326.57350</td><td>19.76642</td><td>19.56972</td><td>5.86916</td><td>0.0314531</td><td>0.21113310</td><td>2.7931773</td><td>0</td><td>E2024-XE9</td><td>225</td><td>14</td><td>1999-2024</td><td>0.92</td><td>M-v</td><td>3Ek</td><td>MPCLINUX</td><td>0000</td><td>20241204</td></tr>\n",
       "<tr><td>(222437) 2001 QZ19</td><td>554.6509793667798</td><td>359.8940691465988</td><td>-0.11187558311896671</td><td>20.762323693055155</td><td>M2437</td><td>16.52</td><td>0.15</td><td>K24AH</td><td>355.13370</td><td>336.83948</td><td>30.12143</td><td>1.93101</td><td>0.1822703</td><td>0.25693508</td><td>2.4504948</td><td>0</td><td>E2025-AH1</td><td>748</td><td>15</td><td>2001-2024</td><td>0.85</td><td>M-v</td><td>3Ek</td><td>MPCLINUX</td><td>0000</td><td>20241214</td></tr>\n",
       "</table></div>"
      ],
      "text/plain": [
       "<Table length=13>\n",
       "   Unpacked Name        separation              ra          ... Flags last obs\n",
       "                          arcsec               deg          ...               \n",
       "       str19             float64             float64        ...  str4   str8  \n",
       "------------------- ------------------ -------------------- ... ----- --------\n",
       "          2016 BK84 270.28432021529846    359.9283187735462 ...  0000 20241010\n",
       "(243996) 2001 RP149  302.2469225849364  0.03467410789978972 ...  0000 20241109\n",
       " (328594) 2009 SU69  326.9088059954274  0.04047437534991811 ...  0000 20241006\n",
       " (192469) 1998 FF48  364.4511717399132 0.045088747965715485 ...  0000 20250116\n",
       "         2020 SE100 368.23783387939346 0.006209053386650075 ...  0000 20241004\n",
       "(572408) 2008 GD168 394.11007958256664    359.8906207710635 ...  0009 20241023\n",
       "  (167818) 2005 CH8  479.8492711750218  0.13303118993162397 ...  0000 20250116\n",
       " (123177) 2000 TD66  501.8946693063552  0.02697180679874228 ...  0000 20250116\n",
       "          2014 TA19    512.70908500404    359.8622699735384 ...  0000 20241204\n",
       "         2019 SP145  518.6426276886735    359.9313995994118 ...  0000 20241204\n",
       "          2024 SO14  527.6263288499335    359.9842606807207 ...  0000 20241024\n",
       "(361919) 2008 GK103  540.4467476915685   359.87910733879164 ...  0000 20241204\n",
       " (222437) 2001 QZ19  554.6509793667798    359.8940691465988 ...  0000 20241214"
      ]
     },
     "execution_count": 8,
     "metadata": {},
     "output_type": "execute_result"
    }
   ],
   "source": [
    "mpchecker(\n",
    "    coordinate=SkyCoord(ra=0 * u.deg, dec=0 * u.deg),\n",
    "    time=Time(\"2025-01-01\"),\n",
    "    radius=10 * u.arcmin,\n",
    "    extra_precision=True,\n",
    "    observer=\"palomar\",\n",
    ")"
   ]
  },
  {
   "cell_type": "markdown",
   "metadata": {},
   "source": [
    "This will take longer, but should remedy the above issues. Under the hood, this first runs the approximate version to flag which objects were in the field of view, then runs a fresh N-body integration for each on that fully accounts for the observer's location and relativistic effects. The final coordinates should agree to ~1 mas with horizons for times 2010-2030. \n",
    "\n",
    "As a plus, we now also can add an extra column, \"est. Vmag\": since we now know the true distance to the object and its phase angle, we might as well convert its absolute magnitude into an estimated V-band magnitude.\n",
    "\n",
    "Note though that if any of our above assumptions were egregiously wrong and a particle wasn't flagged, we'll still be out of luck. Also note that this now requires a connection to the internet to request the locations of the observer from Horizons (though the initial positions of the objects are still cached locally)."
   ]
  },
  {
   "cell_type": "markdown",
   "metadata": {},
   "source": []
  }
 ],
 "metadata": {
  "kernelspec": {
   "display_name": "jorbit",
   "language": "python",
   "name": "jorbit"
  },
  "language_info": {
   "codemirror_mode": {
    "name": "ipython",
    "version": 3
   },
   "file_extension": ".py",
   "mimetype": "text/x-python",
   "name": "python",
   "nbconvert_exporter": "python",
   "pygments_lexer": "ipython3",
   "version": "3.13.0"
  }
 },
 "nbformat": 4,
 "nbformat_minor": 2
}
