{
 "cells": [
  {
   "cell_type": "markdown",
   "metadata": {},
   "source": [
    "# ADPA Advanced Features\n",
    "\n",
    "This notebook demonstrates advanced features of the ADPA framework, including agents, monitoring, and advanced text2sql capabilities."
   ]
  },
  {
   "cell_type": "markdown",
   "metadata": {},
   "source": [
    "## Setup\n",
    "\n",
    "First, let's import all necessary components."
   ]
  },
  {
   "cell_type": "code",
   "execution_count": null,
   "metadata": {},
   "outputs": [],
   "source": [
    "from adpa import Text2SQL, Database, Agent, Monitor\n",
    "from adpa.config import Config\n",
    "from adpa.security import SecurityManager\n",
    "from adpa.monitoring import PerformanceMonitor\n",
    "\n",
    "# Initialize configuration\n",
    "config = Config()\n",
    "config.load_env()\n",
    "\n",
    "# Initialize components\n",
    "db = Database(config)\n",
    "text2sql = Text2SQL(config)\n",
    "agent = Agent(config)\n",
    "monitor = Monitor(config)"
   ]
  },
  {
   "cell_type": "markdown",
   "metadata": {},
   "source": [
    "## Advanced Text2SQL Features\n",
    "\n",
    "Let's explore advanced text2sql features like query optimization and schema inference."
   ]
  },
  {
   "cell_type": "code",
   "execution_count": null,
   "metadata": {},
   "outputs": [],
   "source": [
    "# Enable performance monitoring\n",
    "with PerformanceMonitor() as perf:\n",
    "    # Complex query with joins and aggregations\n",
    "    query = \"\"\"\n",
    "    Show me the average salary by department,\n",
    "    but only for departments with more than 2 employees,\n",
    "    and include the name of the highest paid employee in each department\n",
    "    \"\"\"\n",
    "    \n",
    "    # Get query plan and optimization suggestions\n",
    "    plan = text2sql.explain_plan(query)\n",
    "    print(f\"Query Plan:\\n{plan}\\n\")\n",
    "    \n",
    "    # Get optimization suggestions\n",
    "    optimizations = text2sql.suggest_optimizations(query)\n",
    "    print(f\"Optimization Suggestions:\\n{optimizations}\\n\")\n",
    "    \n",
    "    # Execute optimized query\n",
    "    result = text2sql.execute_optimized(query)\n",
    "    print(\"Results:\")\n",
    "    print(result.fetchall())\n",
    "\n",
    "# Print performance metrics\n",
    "print(\"\\nPerformance Metrics:\")\n",
    "print(perf.get_metrics())"
   ]
  },
  {
   "cell_type": "markdown",
   "metadata": {},
   "source": [
    "## Agent-based Query Enhancement\n",
    "\n",
    "Demonstrate how agents can enhance query understanding and results."
   ]
  },
  {
   "cell_type": "code",
   "execution_count": null,
   "metadata": {},
   "outputs": [],
   "source": [
    "# Create an agent chain for query enhancement\n",
    "agent_chain = agent.create_chain([\n",
    "    'schema_analyzer',\n",
    "    'query_enhancer',\n",
    "    'result_formatter'\n",
    "])\n",
    "\n",
    "# Process a complex query through the agent chain\n",
    "query = \"Find potential salary inequities across departments\"\n",
    "\n",
    "enhanced_results = agent_chain.process({\n",
    "    'query': query,\n",
    "    'analysis_type': 'equity',\n",
    "    'visualization': True\n",
    "})\n",
    "\n",
    "print(\"Agent Analysis Results:\")\n",
    "print(enhanced_results)"
   ]
  },
  {
   "cell_type": "markdown",
   "metadata": {},
   "source": [
    "## Security and Monitoring\n",
    "\n",
    "Demonstrate security features and monitoring capabilities."
   ]
  },
  {
   "cell_type": "code",
   "execution_count": null,
   "metadata": {},
   "outputs": [],
   "source": [
    "# Initialize security manager\n",
    "security = SecurityManager(config)\n",
    "\n",
    "# Set up monitoring\n",
    "monitor.start_session()\n",
    "\n",
    "try:\n",
    "    # Attempt some potentially risky queries\n",
    "    queries = [\n",
    "        \"Show all employee salaries\",  # Sensitive data\n",
    "        \"DELETE FROM employees\",        # Destructive operation\n",
    "        \"SELECT * FROM system_logs\"     # System table access\n",
    "    ]\n",
    "    \n",
    "    for query in queries:\n",
    "        # Check security policy\n",
    "        if security.validate_query(query):\n",
    "            print(f\"\\nExecuting query: {query}\")\n",
    "            result = text2sql.execute_secure(query)\n",
    "            print(\"Results:\", result.fetchall())\n",
    "        else:\n",
    "            print(f\"\\nQuery rejected: {query}\")\n",
    "            print(\"Reason:\", security.get_rejection_reason())\n",
    "            \n",
    "finally:\n",
    "    # Get monitoring report\n",
    "    report = monitor.end_session()\n",
    "    print(\"\\nMonitoring Report:\")\n",
    "    print(report)"
   ]
  },
  {
   "cell_type": "markdown",
   "metadata": {},
   "source": [
    "## Cleanup\n",
    "\n",
    "Clean up resources and display final metrics."
   ]
  },
  {
   "cell_type": "code",
   "execution_count": null,
   "metadata": {},
   "outputs": [],
   "source": [
    "# Get final metrics\n",
    "metrics = monitor.get_session_metrics()\n",
    "print(\"Session Metrics:\")\n",
    "print(metrics)\n",
    "\n",
    "# Close connections\n",
    "db.close()\n",
    "monitor.shutdown()"
   ]
  }
 ],
 "metadata": {
  "kernelspec": {
   "display_name": "Python 3",
   "language": "python",
   "name": "python3"
  },
  "language_info": {
   "codemirror_mode": {
    "name": "ipython",
    "version": 3
   },
   "file_extension": ".py",
   "mimetype": "text/x-python",
   "name": "python",
   "nbconvert_exporter": "python",
   "pygments_lexer": "ipython3",
   "version": "3.11"
  }
 },
 "nbformat": 4,
 "nbformat_minor": 4
}
