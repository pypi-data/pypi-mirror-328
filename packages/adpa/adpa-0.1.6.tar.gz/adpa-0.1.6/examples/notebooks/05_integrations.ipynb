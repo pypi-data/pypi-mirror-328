{
 "cells": [
  {
   "cell_type": "markdown",
   "metadata": {},
   "source": [
    "# ADPA Integrations\n",
    "\n",
    "This notebook demonstrates how to integrate ADPA with popular tools and frameworks:\n",
    "- Streamlit for web applications\n",
    "- FastAPI for REST APIs\n",
    "- Pandas for data analysis\n",
    "- SQLAlchemy for ORM\n",
    "- Jupyter widgets for interactive dashboards"
   ]
  },
  {
   "cell_type": "markdown",
   "metadata": {},
   "source": [
    "## Setup\n",
    "\n",
    "First, let's import all necessary components."
   ]
  },
  {
   "cell_type": "code",
   "execution_count": null,
   "metadata": {},
   "outputs": [],
   "source": [
    "import streamlit as st\n",
    "from fastapi import FastAPI, HTTPException\n",
    "import pandas as pd\n",
    "from sqlalchemy import create_engine\n",
    "import ipywidgets as widgets\n",
    "from IPython.display import display\n",
    "\n",
    "from adpa import Text2SQL, Database\n",
    "from adpa.config import Config\n",
    "from adpa.integrations import (\n",
    "    StreamlitIntegration,\n",
    "    FastAPIIntegration,\n",
    "    PandasIntegration,\n",
    "    SQLAlchemyIntegration\n",
    ")\n",
    "\n",
    "# Initialize components\n",
    "config = Config()\n",
    "config.load_env()\n",
    "\n",
    "db = Database(config)\n",
    "text2sql = Text2SQL(config)"
   ]
  },
  {
   "cell_type": "markdown",
   "metadata": {},
   "source": [
    "## Streamlit Integration\n",
    "\n",
    "Create an interactive web application using Streamlit."
   ]
  },
  {
   "cell_type": "code",
   "execution_count": null,
   "metadata": {},
   "outputs": [],
   "source": [
    "# Initialize Streamlit integration\n",
    "streamlit_app = StreamlitIntegration(text2sql, db)\n",
    "\n",
    "def create_streamlit_app():\n",
    "    st.title(\"ADPA Text2SQL Explorer\")\n",
    "    \n",
    "    # Add query input\n",
    "    query = st.text_area(\"Enter your query:\")\n",
    "    if st.button(\"Execute\"):\n",
    "        with st.spinner(\"Processing query...\"):\n",
    "            # Execute query\n",
    "            result = streamlit_app.execute_query(query)\n",
    "            \n",
    "            # Display results\n",
    "            st.write(\"Generated SQL:\")\n",
    "            st.code(result.sql)\n",
    "            \n",
    "            st.write(\"Results:\")\n",
    "            st.dataframe(result.data)\n",
    "            \n",
    "            # Show performance metrics\n",
    "            st.write(\"Performance Metrics:\")\n",
    "            st.json(result.metrics)\n",
    "\n",
    "# Note: This code would be in a separate .py file\n",
    "# streamlit run app.py"
   ]
  },
  {
   "cell_type": "markdown",
   "metadata": {},
   "source": [
    "## FastAPI Integration\n",
    "\n",
    "Create a REST API using FastAPI."
   ]
  },
  {
   "cell_type": "code",
   "execution_count": null,
   "metadata": {},
   "outputs": [],
   "source": [
    "# Initialize FastAPI integration\n",
    "fastapi_app = FastAPIIntegration(text2sql, db)\n",
    "\n",
    "def create_fastapi_app():\n",
    "    app = FastAPI(title=\"ADPA API\")\n",
    "    \n",
    "    @app.post(\"/query\")\n",
    "    async def execute_query(query: str):\n",
    "        try:\n",
    "            result = await fastapi_app.execute_query(query)\n",
    "            return {\n",
    "                \"sql\": result.sql,\n",
    "                \"data\": result.data,\n",
    "                \"metrics\": result.metrics\n",
    "            }\n",
    "        except Exception as e:\n",
    "            raise HTTPException(status_code=400, detail=str(e))\n",
    "    \n",
    "    return app\n",
    "\n",
    "# Note: This code would be in a separate .py file\n",
    "# uvicorn app:app --reload"
   ]
  },
  {
   "cell_type": "markdown",
   "metadata": {},
   "source": [
    "## Pandas Integration\n",
    "\n",
    "Integrate with Pandas for data analysis."
   ]
  },
  {
   "cell_type": "code",
   "execution_count": null,
   "metadata": {},
   "outputs": [],
   "source": [
    "# Initialize Pandas integration\n",
    "pandas_integration = PandasIntegration(text2sql, db)\n",
    "\n",
    "# Example queries\n",
    "queries = [\n",
    "    \"Show me sales by region\",\n",
    "    \"Calculate monthly revenue growth\",\n",
    "    \"Find top 10 products by profit margin\"\n",
    "]\n",
    "\n",
    "# Execute queries and analyze results\n",
    "for query in queries:\n",
    "    print(f\"\\nProcessing query: {query}\")\n",
    "    \n",
    "    # Get results as DataFrame\n",
    "    df = pandas_integration.query_to_dataframe(query)\n",
    "    \n",
    "    # Perform analysis\n",
    "    print(\"\\nSummary Statistics:\")\n",
    "    print(df.describe())\n",
    "    \n",
    "    print(\"\\nCorrelation Matrix:\")\n",
    "    print(df.corr())\n",
    "    \n",
    "    # Create visualizations\n",
    "    pandas_integration.plot_results(df, query)"
   ]
  },
  {
   "cell_type": "markdown",
   "metadata": {},
   "source": [
    "## SQLAlchemy Integration\n",
    "\n",
    "Use SQLAlchemy for ORM capabilities."
   ]
  },
  {
   "cell_type": "code",
   "execution_count": null,
   "metadata": {},
   "outputs": [],
   "source": [
    "# Initialize SQLAlchemy integration\n",
    "sqlalchemy_integration = SQLAlchemyIntegration(text2sql, db)\n",
    "\n",
    "# Define models\n",
    "Base = sqlalchemy_integration.get_declarative_base()\n",
    "\n",
    "class Employee(Base):\n",
    "    __tablename__ = \"employees\"\n",
    "    \n",
    "    id = Column(Integer, primary_key=True)\n",
    "    name = Column(String)\n",
    "    department = Column(String)\n",
    "    salary = Column(Float)\n",
    "\n",
    "# Create session and execute queries\n",
    "with sqlalchemy_integration.session() as session:\n",
    "    # Natural language query using ORM\n",
    "    query = \"Find employees in Engineering with salary above 70000\"\n",
    "    results = sqlalchemy_integration.execute_orm_query(query, Employee)\n",
    "    \n",
    "    for employee in results:\n",
    "        print(f\"{employee.name}: {employee.salary}\")"
   ]
  },
  {
   "cell_type": "markdown",
   "metadata": {},
   "source": [
    "## Interactive Dashboard\n",
    "\n",
    "Create an interactive dashboard using Jupyter widgets."
   ]
  },
  {
   "cell_type": "code",
   "execution_count": null,
   "metadata": {},
   "outputs": [],
   "source": [
    "# Create widgets\n",
    "query_input = widgets.Textarea(\n",
    "    value='',\n",
    "    placeholder='Enter your query',\n",
    "    description='Query:',\n",
    "    disabled=False\n",
    ")\n",
    "\n",
    "execute_button = widgets.Button(\n",
    "    description='Execute',\n",
    "    disabled=False,\n",
    "    button_style='success'\n",
    ")\n",
    "\n",
    "output = widgets.Output()\n",
    "\n",
    "# Define callback\n",
    "def on_execute_button_clicked(b):\n",
    "    with output:\n",
    "        output.clear_output()\n",
    "        query = query_input.value\n",
    "        \n",
    "        try:\n",
    "            # Execute query\n",
    "            result = text2sql.execute(query)\n",
    "            \n",
    "            # Convert to DataFrame\n",
    "            df = pd.DataFrame(result)\n",
    "            \n",
    "            # Display results\n",
    "            print(\"Results:\")\n",
    "            display(df)\n",
    "            \n",
    "            # Create visualization\n",
    "            if len(df) > 0:\n",
    "                df.plot(kind='bar')\n",
    "        except Exception as e:\n",
    "            print(f\"Error: {e}\")\n",
    "\n",
    "execute_button.on_click(on_execute_button_clicked)\n",
    "\n",
    "# Display dashboard\n",
    "display(widgets.VBox([query_input, execute_button, output]))"
   ]
  },
  {
   "cell_type": "markdown",
   "metadata": {},
   "source": [
    "## Cleanup\n",
    "\n",
    "Clean up resources."
   ]
  },
  {
   "cell_type": "code",
   "execution_count": null,
   "metadata": {},
   "outputs": [],
   "source": [
    "# Close database connection\n",
    "db.close()\n",
    "\n",
    "# Cleanup integrations\n",
    "streamlit_app.cleanup()\n",
    "fastapi_app.cleanup()\n",
    "pandas_integration.cleanup()\n",
    "sqlalchemy_integration.cleanup()"
   ]
  }
 ],
 "metadata": {
  "kernelspec": {
   "display_name": "Python 3",
   "language": "python",
   "name": "python3"
  },
  "language_info": {
   "codemirror_mode": {
    "name": "ipython",
    "version": 3
   },
   "file_extension": ".py",
   "mimetype": "text/x-python",
   "name": "python",
   "nbconvert_exporter": "python",
   "pygments_lexer": "ipython3",
   "version": "3.11"
  }
 },
 "nbformat": 4,
 "nbformat_minor": 4
}
