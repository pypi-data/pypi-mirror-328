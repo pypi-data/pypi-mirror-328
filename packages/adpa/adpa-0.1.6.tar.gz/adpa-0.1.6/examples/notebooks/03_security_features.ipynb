{
 "cells": [
  {
   "cell_type": "markdown",
   "metadata": {},
   "source": [
    "# ADPA Security Features\n",
    "\n",
    "This notebook demonstrates the security features of the ADPA framework, including:\n",
    "- Query validation and sanitization\n",
    "- Access control and permissions\n",
    "- Audit logging\n",
    "- Secure data handling"
   ]
  },
  {
   "cell_type": "markdown",
   "metadata": {},
   "source": [
    "## Setup\n",
    "\n",
    "First, let's import the necessary components and set up our security configuration."
   ]
  },
  {
   "cell_type": "code",
   "execution_count": null,
   "metadata": {},
   "outputs": [],
   "source": [
    "from adpa import Text2SQL, Database\n",
    "from adpa.config import Config\n",
    "from adpa.security import SecurityManager, AccessControl, AuditLogger\n",
    "from adpa.monitoring import Monitor\n",
    "\n",
    "# Initialize components\n",
    "config = Config()\n",
    "config.load_env()\n",
    "\n",
    "security = SecurityManager(config)\n",
    "access_control = AccessControl(config)\n",
    "audit = AuditLogger(config)\n",
    "monitor = Monitor(config)"
   ]
  },
  {
   "cell_type": "markdown",
   "metadata": {},
   "source": [
    "## Query Validation and Sanitization\n",
    "\n",
    "Demonstrate how ADPA validates and sanitizes queries to prevent SQL injection and other security issues."
   ]
  },
  {
   "cell_type": "code",
   "execution_count": null,
   "metadata": {},
   "outputs": [],
   "source": [
    "# Example queries with potential security issues\n",
    "queries = [\n",
    "    \"Show all employees\",  # Safe query\n",
    "    \"SELECT * FROM users WHERE id = 1; DROP TABLE users;\",  # SQL injection attempt\n",
    "    \"TRUNCATE TABLE employees\",  # Destructive operation\n",
    "    \"SELECT * FROM pg_shadow\"  # System table access attempt\n",
    "]\n",
    "\n",
    "text2sql = Text2SQL(config)\n",
    "\n",
    "for query in queries:\n",
    "    print(f\"\\nAnalyzing query: {query}\")\n",
    "    \n",
    "    # Validate query\n",
    "    validation = security.validate_query(query)\n",
    "    print(f\"Validation result: {validation}\")\n",
    "    \n",
    "    if validation.is_valid:\n",
    "        # Sanitize and execute query\n",
    "        safe_query = security.sanitize_query(query)\n",
    "        print(f\"Sanitized query: {safe_query}\")\n",
    "        \n",
    "        # Log the attempt\n",
    "        audit.log_query_execution(safe_query)\n",
    "    else:\n",
    "        print(f\"Security violations: {validation.violations}\")\n",
    "        # Log the security violation\n",
    "        audit.log_security_violation(query, validation.violations)"
   ]
  },
  {
   "cell_type": "markdown",
   "metadata": {},
   "source": [
    "## Access Control and Permissions\n",
    "\n",
    "Show how ADPA manages access control and permissions."
   ]
  },
  {
   "cell_type": "code",
   "execution_count": null,
   "metadata": {},
   "outputs": [],
   "source": [
    "# Define user roles and permissions\n",
    "roles = {\n",
    "    'analyst': ['READ'],\n",
    "    'manager': ['READ', 'WRITE'],\n",
    "    'admin': ['READ', 'WRITE', 'DELETE']\n",
    "}\n",
    "\n",
    "# Test access control for different roles\n",
    "test_cases = [\n",
    "    ('analyst', 'SELECT * FROM employees'),\n",
    "    ('analyst', 'UPDATE employees SET salary = 100000'),\n",
    "    ('manager', 'UPDATE employees SET department = \"Sales\"'),\n",
    "    ('admin', 'DELETE FROM employees WHERE id = 1')\n",
    "]\n",
    "\n",
    "for role, query in test_cases:\n",
    "    print(f\"\\nTesting {role} access for query: {query}\")\n",
    "    \n",
    "    # Check permissions\n",
    "    if access_control.check_permission(role, query):\n",
    "        print(f\"Access granted for {role}\")\n",
    "        # Execute query with role context\n",
    "        with access_control.role_context(role):\n",
    "            result = text2sql.execute_secure(query)\n",
    "            print(f\"Query executed successfully\")\n",
    "    else:\n",
    "        print(f\"Access denied for {role}\")\n",
    "        # Log access violation\n",
    "        audit.log_access_violation(role, query)"
   ]
  },
  {
   "cell_type": "markdown",
   "metadata": {},
   "source": [
    "## Audit Logging\n",
    "\n",
    "Demonstrate ADPA's audit logging capabilities."
   ]
  },
  {
   "cell_type": "code",
   "execution_count": null,
   "metadata": {},
   "outputs": [],
   "source": [
    "# Enable detailed audit logging\n",
    "audit.set_level('DEBUG')\n",
    "\n",
    "# Perform some sensitive operations\n",
    "with audit.session() as audit_session:\n",
    "    # Attempt sensitive data access\n",
    "    query = \"SELECT salary FROM employees\"\n",
    "    if security.is_sensitive_data(query):\n",
    "        audit.log_sensitive_access(query)\n",
    "        \n",
    "    # Attempt schema modification\n",
    "    query = \"ALTER TABLE employees ADD COLUMN address TEXT\"\n",
    "    if security.is_schema_modification(query):\n",
    "        audit.log_schema_modification(query)\n",
    "        \n",
    "    # Check audit trail\n",
    "    print(\"\\nAudit Trail:\")\n",
    "    for entry in audit.get_recent_entries():\n",
    "        print(f\"[{entry.timestamp}] {entry.action}: {entry.details}\")"
   ]
  },
  {
   "cell_type": "markdown",
   "metadata": {},
   "source": [
    "## Secure Data Handling\n",
    "\n",
    "Show how ADPA handles sensitive data securely."
   ]
  },
  {
   "cell_type": "code",
   "execution_count": null,
   "metadata": {},
   "outputs": [],
   "source": [
    "# Define sensitive data patterns\n",
    "security.add_sensitive_pattern(\n",
    "    name=\"credit_card\",\n",
    "    pattern=r\"\\d{4}-\\d{4}-\\d{4}-\\d{4}\"\n",
    ")\n",
    "\n",
    "security.add_sensitive_pattern(\n",
    "    name=\"ssn\",\n",
    "    pattern=r\"\\d{3}-\\d{2}-\\d{4}\"\n",
    ")\n",
    "\n",
    "# Test data handling\n",
    "test_data = [\n",
    "    \"John Doe, 123-45-6789\",  # SSN\n",
    "    \"Card: 1234-5678-9012-3456\",  # Credit card\n",
    "    \"Regular data: ABC123\"\n",
    "]\n",
    "\n",
    "for data in test_data:\n",
    "    print(f\"\\nProcessing: {data}\")\n",
    "    \n",
    "    # Check for sensitive data\n",
    "    if security.contains_sensitive_data(data):\n",
    "        print(\"Sensitive data detected!\")\n",
    "        # Redact sensitive information\n",
    "        safe_data = security.redact_sensitive_data(data)\n",
    "        print(f\"Redacted: {safe_data}\")\n",
    "        \n",
    "        # Log the handling of sensitive data\n",
    "        audit.log_sensitive_data_handling()\n",
    "    else:\n",
    "        print(\"No sensitive data detected\")"
   ]
  },
  {
   "cell_type": "markdown",
   "metadata": {},
   "source": [
    "## Cleanup\n",
    "\n",
    "Clean up resources and generate security report."
   ]
  },
  {
   "cell_type": "code",
   "execution_count": null,
   "metadata": {},
   "outputs": [],
   "source": [
    "# Generate security report\n",
    "report = security.generate_report()\n",
    "print(\"\\nSecurity Report:\")\n",
    "print(report)\n",
    "\n",
    "# Clean up\n",
    "audit.close()\n",
    "monitor.shutdown()"
   ]
  }
 ],
 "metadata": {
  "kernelspec": {
   "display_name": "Python 3",
   "language": "python",
   "name": "python3"
  },
  "language_info": {
   "codemirror_mode": {
    "name": "ipython",
    "version": 3
   },
   "file_extension": ".py",
   "mimetype": "text/x-python",
   "name": "python",
   "nbconvert_exporter": "python",
   "pygments_lexer": "ipython3",
   "version": "3.11"
  }
 },
 "nbformat": 4,
 "nbformat_minor": 4
}
