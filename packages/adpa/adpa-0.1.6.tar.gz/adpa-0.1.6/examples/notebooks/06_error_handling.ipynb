{
 "cells": [
  {
   "cell_type": "markdown",
   "metadata": {},
   "source": [
    "# ADPA Error Handling and Debugging\n",
    "\n",
    "This notebook demonstrates advanced error handling and debugging techniques in ADPA:\n",
    "- Custom exception handling\n",
    "- Error recovery strategies\n",
    "- Debugging tools and techniques\n",
    "- Logging and tracing\n",
    "- Error reporting"
   ]
  },
  {
   "cell_type": "markdown",
   "metadata": {},
   "source": [
    "## Setup\n",
    "\n",
    "First, let's import the necessary components."
   ]
  },
  {
   "cell_type": "code",
   "execution_count": null,
   "metadata": {},
   "outputs": [],
   "source": [
    "from adpa import Text2SQL, Database\n",
    "from adpa.config import Config\n",
    "from adpa.exceptions import (\n",
    "    Text2SQLError,\n",
    "    DatabaseError,\n",
    "    ValidationError,\n",
    "    SecurityError\n",
    ")\n",
    "from adpa.debugging import (\n",
    "    Debugger,\n",
    "    ErrorTracer,\n",
    "    QueryAnalyzer\n",
    ")\n",
    "from adpa.logging import Logger\n",
    "\n",
    "# Initialize components\n",
    "config = Config()\n",
    "config.load_env()\n",
    "\n",
    "db = Database(config)\n",
    "text2sql = Text2SQL(config)\n",
    "debugger = Debugger(config)\n",
    "tracer = ErrorTracer(config)\n",
    "analyzer = QueryAnalyzer(config)\n",
    "logger = Logger(config)"
   ]
  },
  {
   "cell_type": "markdown",
   "metadata": {},
   "source": [
    "## Custom Exception Handling\n",
    "\n",
    "Demonstrate how ADPA handles different types of errors."
   ]
  },
  {
   "cell_type": "code",
   "execution_count": null,
   "metadata": {},
   "outputs": [],
   "source": [
    "# Example error scenarios\n",
    "error_queries = [\n",
    "    # Invalid SQL syntax\n",
    "    \"Show me the total sales broken by\",\n",
    "    \n",
    "    # Missing table\n",
    "    \"Show me all records from nonexistent_table\",\n",
    "    \n",
    "    # Security violation\n",
    "    \"DROP TABLE employees\",\n",
    "    \n",
    "    # Invalid data type\n",
    "    \"Show employees where salary = 'high'\"\n",
    "]\n",
    "\n",
    "for query in error_queries:\n",
    "    print(f\"\\nProcessing query: {query}\")\n",
    "    try:\n",
    "        result = text2sql.execute(query)\n",
    "    except Text2SQLError as e:\n",
    "        print(f\"Text2SQL Error: {e}\")\n",
    "        print(\"Error Details:\")\n",
    "        print(f\"- Type: {e.error_type}\")\n",
    "        print(f\"- Context: {e.context}\")\n",
    "        print(f\"- Suggestion: {e.suggestion}\")\n",
    "    except DatabaseError as e:\n",
    "        print(f\"Database Error: {e}\")\n",
    "        print(\"Error Details:\")\n",
    "        print(f\"- SQL State: {e.sqlstate}\")\n",
    "        print(f\"- Table: {e.table}\")\n",
    "        print(f\"- Column: {e.column}\")\n",
    "    except SecurityError as e:\n",
    "        print(f\"Security Error: {e}\")\n",
    "        print(\"Error Details:\")\n",
    "        print(f\"- Violation: {e.violation_type}\")\n",
    "        print(f\"- Policy: {e.policy}\")\n",
    "        print(f\"- Required Role: {e.required_role}\")\n",
    "    except Exception as e:\n",
    "        print(f\"Unexpected Error: {e}\")"
   ]
  },
  {
   "cell_type": "markdown",
   "metadata": {},
   "source": [
    "## Error Recovery Strategies\n",
    "\n",
    "Show how ADPA recovers from errors and provides alternatives."
   ]
  },
  {
   "cell_type": "code",
   "execution_count": null,
   "metadata": {},
   "outputs": [],
   "source": [
    "# Example recovery scenarios\n",
    "def handle_query_with_recovery(query):\n",
    "    print(f\"\\nProcessing query with recovery: {query}\")\n",
    "    \n",
    "    try:\n",
    "        # Attempt query execution\n",
    "        result = text2sql.execute(query)\n",
    "        return result\n",
    "    except ValidationError as e:\n",
    "        print(f\"Validation Error: {e}\")\n",
    "        \n",
    "        # Attempt to fix the query\n",
    "        fixed_query = analyzer.suggest_fix(query)\n",
    "        if fixed_query:\n",
    "            print(f\"Suggested fix: {fixed_query}\")\n",
    "            return text2sql.execute(fixed_query)\n",
    "    except DatabaseError as e:\n",
    "        print(f\"Database Error: {e}\")\n",
    "        \n",
    "        # Try alternative data source\n",
    "        backup_result = db.query_backup(query)\n",
    "        if backup_result:\n",
    "            print(\"Retrieved from backup source\")\n",
    "            return backup_result\n",
    "    except SecurityError as e:\n",
    "        print(f\"Security Error: {e}\")\n",
    "        \n",
    "        # Try with reduced permissions\n",
    "        limited_result = text2sql.execute_with_limited_scope(query)\n",
    "        if limited_result:\n",
    "            print(\"Retrieved with limited scope\")\n",
    "            return limited_result\n",
    "    \n",
    "    return None\n",
    "\n",
    "# Test recovery scenarios\n",
    "recovery_queries = [\n",
    "    \"Show me sales data from last month\",  # Table might be archived\n",
    "    \"Show me sensitive employee data\",      # Security restrictions\n",
    "    \"Show me the average salery by dept\"    # Typo in query\n",
    "]\n",
    "\n",
    "for query in recovery_queries:\n",
    "    result = handle_query_with_recovery(query)\n",
    "    if result:\n",
    "        print(\"Recovery successful!\")\n",
    "        print(f\"Results: {result}\")"
   ]
  },
  {
   "cell_type": "markdown",
   "metadata": {},
   "source": [
    "## Debugging Tools\n",
    "\n",
    "Demonstrate ADPA's debugging capabilities."
   ]
  },
  {
   "cell_type": "code",
   "execution_count": null,
   "metadata": {},
   "outputs": [],
   "source": [
    "# Enable debug mode\n",
    "debugger.enable()\n",
    "\n",
    "# Set breakpoints\n",
    "debugger.set_breakpoint(\"text2sql.translate\")\n",
    "debugger.set_breakpoint(\"database.execute\")\n",
    "\n",
    "# Example debugging session\n",
    "with debugger.session() as debug:\n",
    "    query = \"Show me employee salaries by department\"\n",
    "    \n",
    "    # Analyze query\n",
    "    debug.analyze_query(query)\n",
    "    \n",
    "    # Show query plan\n",
    "    debug.show_plan()\n",
    "    \n",
    "    # Execute with tracing\n",
    "    with tracer.trace() as trace:\n",
    "        result = text2sql.execute(query)\n",
    "    \n",
    "    # Show trace\n",
    "    trace.display()\n",
    "    \n",
    "    # Show variable values\n",
    "    debug.print_vars()\n",
    "    \n",
    "    # Show execution time\n",
    "    debug.show_timing()\n",
    "\n",
    "# Disable debug mode\n",
    "debugger.disable()"
   ]
  },
  {
   "cell_type": "markdown",
   "metadata": {},
   "source": [
    "## Logging and Tracing\n",
    "\n",
    "Show ADPA's logging capabilities."
   ]
  },
  {
   "cell_type": "code",
   "execution_count": null,
   "metadata": {},
   "outputs": [],
   "source": [
    "# Configure logging\n",
    "logger.set_level(\"DEBUG\")\n",
    "logger.add_file_handler(\"debug.log\")\n",
    "\n",
    "# Example logging session\n",
    "with logger.session(\"debug_test\") as log:\n",
    "    # Log different levels\n",
    "    log.debug(\"Detailed information\")\n",
    "    log.info(\"General information\")\n",
    "    log.warning(\"Warning message\")\n",
    "    log.error(\"Error message\")\n",
    "    \n",
    "    try:\n",
    "        # Simulate error\n",
    "        raise ValueError(\"Test error\")\n",
    "    except Exception as e:\n",
    "        # Log exception with traceback\n",
    "        log.exception(\"An error occurred\")\n",
    "\n",
    "# Show log contents\n",
    "print(\"\\nLog Contents:\")\n",
    "print(logger.get_logs())\n",
    "\n",
    "# Generate log report\n",
    "report = logger.generate_report()\n",
    "print(\"\\nLog Report:\")\n",
    "print(report)"
   ]
  },
  {
   "cell_type": "markdown",
   "metadata": {},
   "source": [
    "## Error Reporting\n",
    "\n",
    "Demonstrate ADPA's error reporting capabilities."
   ]
  },
  {
   "cell_type": "code",
   "execution_count": null,
   "metadata": {},
   "outputs": [],
   "source": [
    "# Configure error reporting\n",
    "reporter = debugger.get_reporter()\n",
    "reporter.configure(\n",
    "    include_vars=True,\n",
    "    include_trace=True,\n",
    "    include_context=True\n",
    ")\n",
    "\n",
    "# Example error report\n",
    "try:\n",
    "    query = \"Show me employee details where salary > 'high'\"\n",
    "    result = text2sql.execute(query)\n",
    "except Exception as e:\n",
    "    # Generate error report\n",
    "    report = reporter.generate_report(e)\n",
    "    \n",
    "    print(\"Error Report:\")\n",
    "    print(report.summary)\n",
    "    \n",
    "    print(\"\\nDetailed Information:\")\n",
    "    print(f\"Error Type: {report.error_type}\")\n",
    "    print(f\"Location: {report.location}\")\n",
    "    print(f\"Stack Trace: {report.stack_trace}\")\n",
    "    \n",
    "    print(\"\\nContext:\")\n",
    "    print(f\"Query: {report.context['query']}\")\n",
    "    print(f\"Variables: {report.context['variables']}\")\n",
    "    \n",
    "    print(\"\\nSuggestions:\")\n",
    "    for suggestion in report.suggestions:\n",
    "        print(f\"- {suggestion}\")"
   ]
  },
  {
   "cell_type": "markdown",
   "metadata": {},
   "source": [
    "## Cleanup\n",
    "\n",
    "Clean up resources."
   ]
  },
  {
   "cell_type": "code",
   "execution_count": null,
   "metadata": {},
   "outputs": [],
   "source": [
    "# Close database connection\n",
    "db.close()\n",
    "\n",
    "# Cleanup debugging tools\n",
    "debugger.cleanup()\n",
    "tracer.cleanup()\n",
    "\n",
    "# Close logger\n",
    "logger.close()"
   ]
  }
 ],
 "metadata": {
  "kernelspec": {
   "display_name": "Python 3",
   "language": "python",
   "name": "python3"
  },
  "language_info": {
   "codemirror_mode": {
    "name": "ipython",
    "version": 3
   },
   "file_extension": ".py",
   "mimetype": "text/x-python",
   "name": "python",
   "nbconvert_exporter": "python",
   "pygments_lexer": "ipython3",
   "version": "3.11"
  }
 },
 "nbformat": 4,
 "nbformat_minor": 4
}
