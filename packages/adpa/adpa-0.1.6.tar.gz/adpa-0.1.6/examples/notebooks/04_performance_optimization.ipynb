{
 "cells": [
  {
   "cell_type": "markdown",
   "metadata": {},
   "source": [
    "# ADPA Performance Optimization\n",
    "\n",
    "This notebook demonstrates advanced performance optimization techniques in ADPA, including:\n",
    "- Query optimization\n",
    "- Caching strategies\n",
    "- Batch processing\n",
    "- Performance monitoring"
   ]
  },
  {
   "cell_type": "markdown",
   "metadata": {},
   "source": [
    "## Setup\n",
    "\n",
    "First, let's import the necessary components and set up our environment."
   ]
  },
  {
   "cell_type": "code",
   "execution_count": null,
   "metadata": {},
   "outputs": [],
   "source": [
    "from adpa import Text2SQL, Database\n",
    "from adpa.config import Config\n",
    "from adpa.monitoring import PerformanceMonitor\n",
    "from adpa.optimization import QueryOptimizer, QueryCache\n",
    "from adpa.utils.profiling import profile_query\n",
    "\n",
    "# Initialize components\n",
    "config = Config()\n",
    "config.load_env()\n",
    "\n",
    "db = Database(config)\n",
    "text2sql = Text2SQL(config)\n",
    "optimizer = QueryOptimizer(config)\n",
    "cache = QueryCache(config)\n",
    "monitor = PerformanceMonitor(config)"
   ]
  },
  {
   "cell_type": "markdown",
   "metadata": {},
   "source": [
    "## Query Optimization\n",
    "\n",
    "Demonstrate how ADPA optimizes complex queries for better performance."
   ]
  },
  {
   "cell_type": "code",
   "execution_count": null,
   "metadata": {},
   "outputs": [],
   "source": [
    "# Complex query example\n",
    "query = \"\"\"\n",
    "Show me the average salary by department,\n",
    "including only departments with more than 5 employees,\n",
    "and list the top 3 highest paid employees in each department,\n",
    "sorted by department size\n",
    "\"\"\"\n",
    "\n",
    "# Profile the original query\n",
    "with profile_query() as profiler:\n",
    "    # Get the initial SQL\n",
    "    sql = text2sql.translate(query)\n",
    "    print(f\"\\nOriginal SQL:\\n{sql}\")\n",
    "    \n",
    "    # Get execution plan\n",
    "    plan = optimizer.explain_plan(sql)\n",
    "    print(f\"\\nOriginal Execution Plan:\\n{plan}\")\n",
    "    \n",
    "    # Get optimization suggestions\n",
    "    suggestions = optimizer.analyze(sql)\n",
    "    print(f\"\\nOptimization Suggestions:\\n{suggestions}\")\n",
    "    \n",
    "    # Optimize the query\n",
    "    optimized_sql = optimizer.optimize(sql)\n",
    "    print(f\"\\nOptimized SQL:\\n{optimized_sql}\")\n",
    "    \n",
    "    # Compare execution plans\n",
    "    optimized_plan = optimizer.explain_plan(optimized_sql)\n",
    "    print(f\"\\nOptimized Execution Plan:\\n{optimized_plan}\")\n",
    "\n",
    "# Show profiling results\n",
    "print(\"\\nProfiling Results:\")\n",
    "print(profiler.summary())"
   ]
  },
  {
   "cell_type": "markdown",
   "metadata": {},
   "source": [
    "## Caching Strategies\n",
    "\n",
    "Show how ADPA uses caching to improve performance."
   ]
  },
  {
   "cell_type": "code",
   "execution_count": null,
   "metadata": {},
   "outputs": [],
   "source": [
    "# Configure cache settings\n",
    "cache.configure(\n",
    "    max_size=\"1GB\",\n",
    "    ttl=3600,  # 1 hour\n",
    "    strategy=\"lru\"\n",
    ")\n",
    "\n",
    "# Example queries for cache demonstration\n",
    "queries = [\n",
    "    \"Show total employees by department\",\n",
    "    \"List departments with average salary above 70000\",\n",
    "    \"Show total employees by department\"  # Repeated query\n",
    "]\n",
    "\n",
    "for query in queries:\n",
    "    print(f\"\\nExecuting query: {query}\")\n",
    "    \n",
    "    # Check cache\n",
    "    cache_key = cache.generate_key(query)\n",
    "    cached_result = cache.get(cache_key)\n",
    "    \n",
    "    if cached_result:\n",
    "        print(\"Cache hit! Using cached result\")\n",
    "        result = cached_result\n",
    "    else:\n",
    "        print(\"Cache miss. Executing query...\")\n",
    "        # Execute and cache\n",
    "        with monitor.measure_execution_time():\n",
    "            result = text2sql.execute(query)\n",
    "            cache.set(cache_key, result)\n",
    "    \n",
    "    print(f\"Results: {result}\")\n",
    "\n",
    "# Show cache statistics\n",
    "print(\"\\nCache Statistics:\")\n",
    "print(cache.get_stats())"
   ]
  },
  {
   "cell_type": "markdown",
   "metadata": {},
   "source": [
    "## Batch Processing\n",
    "\n",
    "Demonstrate efficient batch processing techniques."
   ]
  },
  {
   "cell_type": "code",
   "execution_count": null,
   "metadata": {},
   "outputs": [],
   "source": [
    "# Example batch queries\n",
    "batch_queries = [\n",
    "    \"Update department budget for Engineering\",\n",
    "    \"Update department budget for Marketing\",\n",
    "    \"Update department budget for Sales\",\n",
    "    \"Update employee count for Engineering\",\n",
    "    \"Update employee count for Marketing\",\n",
    "    \"Update employee count for Sales\"\n",
    "]\n",
    "\n",
    "# Compare individual vs batch execution\n",
    "print(\"Individual Execution:\")\n",
    "with monitor.measure_execution_time() as individual_timer:\n",
    "    for query in batch_queries:\n",
    "        text2sql.execute(query)\n",
    "print(f\"Individual execution time: {individual_timer.elapsed_time}\")\n",
    "\n",
    "print(\"\\nBatch Execution:\")\n",
    "with monitor.measure_execution_time() as batch_timer:\n",
    "    text2sql.execute_batch(batch_queries)\n",
    "print(f\"Batch execution time: {batch_timer.elapsed_time}\")\n",
    "\n",
    "# Show performance comparison\n",
    "speedup = individual_timer.elapsed_time / batch_timer.elapsed_time\n",
    "print(f\"\\nSpeedup factor: {speedup:.2f}x\")"
   ]
  },
  {
   "cell_type": "markdown",
   "metadata": {},
   "source": [
    "## Performance Monitoring\n",
    "\n",
    "Show ADPA's performance monitoring capabilities."
   ]
  },
  {
   "cell_type": "code",
   "execution_count": null,
   "metadata": {},
   "outputs": [],
   "source": [
    "# Enable detailed performance monitoring\n",
    "monitor.set_level('DEBUG')\n",
    "\n",
    "# Run a performance test suite\n",
    "with monitor.session(\"performance_test\") as session:\n",
    "    # Test query translation performance\n",
    "    with session.measure(\"translation\"):\n",
    "        for _ in range(10):\n",
    "            text2sql.translate(\"Show me all employees\")\n",
    "    \n",
    "    # Test query execution performance\n",
    "    with session.measure(\"execution\"):\n",
    "        for _ in range(10):\n",
    "            text2sql.execute(\"SELECT * FROM employees\")\n",
    "    \n",
    "    # Test cache performance\n",
    "    with session.measure(\"caching\"):\n",
    "        for _ in range(10):\n",
    "            cache_key = cache.generate_key(\"SELECT * FROM employees\")\n",
    "            cache.get(cache_key)\n",
    "\n",
    "# Generate performance report\n",
    "report = monitor.generate_report()\n",
    "print(\"\\nPerformance Report:\")\n",
    "print(report)\n",
    "\n",
    "# Show performance metrics\n",
    "print(\"\\nPerformance Metrics:\")\n",
    "metrics = monitor.get_metrics()\n",
    "for metric in metrics:\n",
    "    print(f\"{metric.name}: {metric.value} {metric.unit}\")"
   ]
  },
  {
   "cell_type": "markdown",
   "metadata": {},
   "source": [
    "## Cleanup\n",
    "\n",
    "Clean up resources and save performance data."
   ]
  },
  {
   "cell_type": "code",
   "execution_count": null,
   "metadata": {},
   "outputs": [],
   "source": [
    "# Save performance data\n",
    "monitor.save_metrics(\"performance_metrics.json\")\n",
    "\n",
    "# Clear cache\n",
    "cache.clear()\n",
    "\n",
    "# Shutdown monitoring\n",
    "monitor.shutdown()\n",
    "\n",
    "# Close database connection\n",
    "db.close()"
   ]
  }
 ],
 "metadata": {
  "kernelspec": {
   "display_name": "Python 3",
   "language": "python",
   "name": "python3"
  },
  "language_info": {
   "codemirror_mode": {
    "name": "ipython",
    "version": 3
   },
   "file_extension": ".py",
   "mimetype": "text/x-python",
   "name": "python",
   "nbconvert_exporter": "python",
   "pygments_lexer": "ipython3",
   "version": "3.11"
  }
 },
 "nbformat": 4,
 "nbformat_minor": 4
}
