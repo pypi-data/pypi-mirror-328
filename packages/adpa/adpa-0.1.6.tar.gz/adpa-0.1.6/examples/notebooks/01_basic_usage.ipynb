{
 "cells": [
  {
   "cell_type": "markdown",
   "metadata": {},
   "source": [
    "# ADPA Basic Usage Example\n",
    "\n",
    "This notebook demonstrates the basic usage of the ADPA (Advanced Data Processing and Analytics) framework."
   ]
  },
  {
   "cell_type": "markdown",
   "metadata": {},
   "source": [
    "## Setup\n",
    "\n",
    "First, let's import the necessary modules and initialize our environment."
   ]
  },
  {
   "cell_type": "code",
   "execution_count": null,
   "metadata": {},
   "outputs": [],
   "source": [
    "from adpa import Text2SQL, Database\n",
    "from adpa.config import Config\n",
    "\n",
    "# Initialize configuration\n",
    "config = Config()\n",
    "config.load_env()"
   ]
  },
  {
   "cell_type": "markdown",
   "metadata": {},
   "source": [
    "## Database Connection\n",
    "\n",
    "Let's set up a connection to our database."
   ]
  },
  {
   "cell_type": "code",
   "execution_count": null,
   "metadata": {},
   "outputs": [],
   "source": [
    "# Initialize database connection\n",
    "db = Database(config)\n",
    "db.connect()\n",
    "\n",
    "# Create a simple table for demonstration\n",
    "db.execute(\"\"\"\n",
    "CREATE TABLE IF NOT EXISTS employees (\n",
    "    id INTEGER PRIMARY KEY,\n",
    "    name TEXT,\n",
    "    department TEXT,\n",
    "    salary FLOAT\n",
    ")\"\"\")\n",
    "\n",
    "# Insert sample data\n",
    "db.execute(\"\"\"\n",
    "INSERT INTO employees (name, department, salary) VALUES\n",
    "    ('John Doe', 'Engineering', 75000),\n",
    "    ('Jane Smith', 'Marketing', 65000),\n",
    "    ('Bob Wilson', 'Engineering', 70000),\n",
    "    ('Alice Brown', 'HR', 60000)\n",
    "\"\"\")"
   ]
  },
  {
   "cell_type": "markdown",
   "metadata": {},
   "source": [
    "## Text2SQL Usage\n",
    "\n",
    "Now let's use the Text2SQL component to convert natural language queries into SQL."
   ]
  },
  {
   "cell_type": "code",
   "execution_count": null,
   "metadata": {},
   "outputs": [],
   "source": [
    "# Initialize Text2SQL\n",
    "text2sql = Text2SQL(config)\n",
    "\n",
    "# Example queries\n",
    "queries = [\n",
    "    \"Show me all employees in Engineering\",\n",
    "    \"What is the average salary by department?\",\n",
    "    \"Who has the highest salary?\"\n",
    "]\n",
    "\n",
    "for query in queries:\n",
    "    print(f\"\\nNatural Language Query: {query}\")\n",
    "    sql = text2sql.translate(query)\n",
    "    print(f\"Generated SQL: {sql}\")\n",
    "    \n",
    "    result = db.execute(sql)\n",
    "    print(\"Results:\")\n",
    "    print(result.fetchall())"
   ]
  },
  {
   "cell_type": "markdown",
   "metadata": {},
   "source": [
    "## Advanced Features\n",
    "\n",
    "Let's explore some advanced features like query validation and explanation."
   ]
  },
  {
   "cell_type": "code",
   "execution_count": null,
   "metadata": {},
   "outputs": [],
   "source": [
    "# Get query explanation\n",
    "query = \"Show me departments where the average salary is above 70000\"\n",
    "explanation = text2sql.explain(query)\n",
    "print(f\"Query Explanation:\\n{explanation}\")\n",
    "\n",
    "# Validate the query\n",
    "validation = text2sql.validate(query)\n",
    "print(f\"\\nValidation Result:\\n{validation}\")\n",
    "\n",
    "# Execute if valid\n",
    "if validation.is_valid:\n",
    "    sql = text2sql.translate(query)\n",
    "    result = db.execute(sql)\n",
    "    print(\"\\nResults:\")\n",
    "    print(result.fetchall())"
   ]
  },
  {
   "cell_type": "markdown",
   "metadata": {},
   "source": [
    "## Cleanup\n",
    "\n",
    "Finally, let's clean up our resources."
   ]
  },
  {
   "cell_type": "code",
   "execution_count": null,
   "metadata": {},
   "outputs": [],
   "source": [
    "# Close database connection\n",
    "db.close()"
   ]
  }
 ],
 "metadata": {
  "kernelspec": {
   "display_name": "Python 3",
   "language": "python",
   "name": "python3"
  },
  "language_info": {
   "codemirror_mode": {
    "name": "ipython",
    "version": 3
   },
   "file_extension": ".py",
   "mimetype": "text/x-python",
   "name": "python",
   "nbconvert_exporter": "python",
   "pygments_lexer": "ipython3",
   "version": "3.11"
  }
 },
 "nbformat": 4,
 "nbformat_minor": 4
}
