{
 "cells": [
  {
   "cell_type": "code",
   "id": "initial_id",
   "metadata": {
    "collapsed": true,
    "ExecuteTime": {
     "end_time": "2025-02-18T17:03:52.137252Z",
     "start_time": "2025-02-18T17:03:51.563570Z"
    }
   },
   "source": [
    "import logging\n",
    "import os\n",
    "from datetime import datetime, timedelta\n",
    "\n",
    "from dotenv import load_dotenv\n",
    "\n",
    "import ironbeam as ib\n",
    "from ironbeam.exceptions import IronbeamAPIError, IronbeamResponseError\n",
    "\n",
    "load_dotenv()\n",
    "\n",
    "logging.basicConfig(level=logging.INFO)"
   ],
   "outputs": [],
   "execution_count": 4
  },
  {
   "metadata": {
    "ExecuteTime": {
     "end_time": "2025-02-18T17:03:53.500878Z",
     "start_time": "2025-02-18T17:03:52.792167Z"
    }
   },
   "cell_type": "code",
   "source": [
    "# # Using apikey in query params\n",
    "client = ib.Ironbeam(apikey=os.getenv(\"IRONBEAM_APIKEY\"))\n",
    "client.authorize(username=os.getenv(\"IRONBEAM_USERNAME\"))"
   ],
   "id": "77df9bc3baa839a3",
   "outputs": [
    {
     "name": "stderr",
     "output_type": "stream",
     "text": [
      "INFO:httpx:HTTP Request: POST https://demo.ironbeamapi.com/v2/auth \"HTTP/1.1 200 OK\"\n"
     ]
    },
    {
     "data": {
      "text/plain": [
       "<ironbeam.base.Ironbeam at 0x79a1ac01f490>"
      ]
     },
     "execution_count": 5,
     "metadata": {},
     "output_type": "execute_result"
    }
   ],
   "execution_count": 5
  },
  {
   "metadata": {
    "ExecuteTime": {
     "end_time": "2025-02-18T17:21:34.757194Z",
     "start_time": "2025-02-18T17:21:34.751465Z"
    }
   },
   "cell_type": "code",
   "source": [
    "# Get trades for last hour\n",
    "end_time = datetime.now() + timedelta(hours=1)\n",
    "start_time = end_time - timedelta(hours=1)\n",
    "logging.info(f'Getting trades from {start_time} to {end_time}')\n",
    "\n",
    "# Time in ms\n",
    "logging.info(f'Time in ms: {int(end_time.timestamp() * 1000)}')"
   ],
   "id": "c5d7e1771926be86",
   "outputs": [
    {
     "name": "stderr",
     "output_type": "stream",
     "text": [
      "INFO:root:Getting trades from 2025-02-18 11:21:34.753257 to 2025-02-18 12:21:34.753257\n",
      "INFO:root:Time in ms: 1739902894753\n"
     ]
    }
   ],
   "execution_count": 33
  },
  {
   "metadata": {
    "ExecuteTime": {
     "end_time": "2025-02-18T17:21:37.413062Z",
     "start_time": "2025-02-18T17:21:35.936011Z"
    }
   },
   "cell_type": "code",
   "source": [
    "trades = client.market.get_trades(\n",
    "    symbol=\"XCME:ES.H25\",\n",
    "    from_time=start_time,\n",
    "    to_time=end_time,\n",
    "    max_trades=2000,\n",
    "    bearer_token=client.token,\n",
    ")"
   ],
   "id": "4725b1dc89ed7dff",
   "outputs": [
    {
     "name": "stderr",
     "output_type": "stream",
     "text": [
      "INFO:httpx:HTTP Request: GET https://demo.ironbeamapi.com/v2/market/trades/XCME:ES.H25/1739899294753/1739902894753/2000/true \"HTTP/1.1 200 OK\"\n"
     ]
    }
   ],
   "execution_count": 34
  },
  {
   "metadata": {
    "ExecuteTime": {
     "end_time": "2025-02-18T17:21:37.486381Z",
     "start_time": "2025-02-18T17:21:37.480577Z"
    }
   },
   "cell_type": "code",
   "source": "df = trades.to_pandas()",
   "id": "669381b2df607229",
   "outputs": [],
   "execution_count": 35
  },
  {
   "metadata": {
    "ExecuteTime": {
     "end_time": "2025-02-18T17:21:38.794546Z",
     "start_time": "2025-02-18T17:21:38.788676Z"
    }
   },
   "cell_type": "code",
   "source": [
    "# Assuming your DataFrame is called 'df'\n",
    "vwap = (df['price'] * df['total_volume']).sum() / df['total_volume'].sum()\n",
    "vwap"
   ],
   "id": "1f7574bbee930946",
   "outputs": [
    {
     "data": {
      "text/plain": [
       "np.float64(6133.264705890188)"
      ]
     },
     "execution_count": 36,
     "metadata": {},
     "output_type": "execute_result"
    }
   ],
   "execution_count": 36
  },
  {
   "metadata": {},
   "cell_type": "code",
   "outputs": [],
   "execution_count": null,
   "source": "",
   "id": "c06bf27513007f08"
  }
 ],
 "metadata": {
  "kernelspec": {
   "display_name": "Python 3",
   "language": "python",
   "name": "python3"
  },
  "language_info": {
   "codemirror_mode": {
    "name": "ipython",
    "version": 2
   },
   "file_extension": ".py",
   "mimetype": "text/x-python",
   "name": "python",
   "nbconvert_exporter": "python",
   "pygments_lexer": "ipython2",
   "version": "2.7.6"
  }
 },
 "nbformat": 4,
 "nbformat_minor": 5
}
