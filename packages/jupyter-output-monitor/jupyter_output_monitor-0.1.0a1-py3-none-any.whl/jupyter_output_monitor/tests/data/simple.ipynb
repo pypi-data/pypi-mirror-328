{
 "cells": [
  {
   "cell_type": "markdown",
   "id": "b26895d5-f326-446e-b847-a4bd71c30b33",
   "metadata": {
    "execution": {
     "iopub.execute_input": "2024-11-13T11:58:55.701204Z",
     "iopub.status.busy": "2024-11-13T11:58:55.701016Z",
     "iopub.status.idle": "2024-11-13T11:58:55.706466Z",
     "shell.execute_reply": "2024-11-13T11:58:55.705916Z",
     "shell.execute_reply.started": "2024-11-13T11:58:55.701186Z"
    }
   },
   "source": [
    "Test a few widgets!"
   ]
  },
  {
   "cell_type": "code",
   "execution_count": null,
   "id": "c53acb0f-394f-45a1-99ef-dbbd0bb16afd",
   "metadata": {},
   "outputs": [],
   "source": [
    "import time"
   ]
  },
  {
   "cell_type": "code",
   "execution_count": null,
   "id": "bd9213d9-cbac-4dcc-898e-5364b038b9bc",
   "metadata": {},
   "outputs": [],
   "source": [
    "from ipywidgets import Button, Textarea"
   ]
  },
  {
   "cell_type": "code",
   "execution_count": null,
   "id": "1e4d91f0-19b8-4603-8077-b30ad6ccb19f",
   "metadata": {},
   "outputs": [],
   "source": [
    "button = Button(description='Test')\n",
    "button.layout.border = '1px solid rgb(143, 56, 3)'\n",
    "button"
   ]
  },
  {
   "cell_type": "code",
   "execution_count": null,
   "id": "74a37995-adf9-4b0c-8211-5611e0974a2c",
   "metadata": {},
   "outputs": [],
   "source": [
    "area = Textarea()\n",
    "area.layout.border = '1px solid rgb(143, 56, 33)'\n",
    "area"
   ]
  },
  {
   "cell_type": "code",
   "execution_count": null,
   "id": "0a116202-6c97-4ae3-b3b4-3accda88c8e5",
   "metadata": {},
   "outputs": [],
   "source": [
    "area.value = 'Test1'\n",
    "time.sleep(3)\n",
    "area.value = 'Test2'"
   ]
  }
 ],
 "metadata": {
  "kernelspec": {
   "display_name": "Python 3 (ipykernel)",
   "language": "python",
   "name": "python3"
  },
  "language_info": {
   "codemirror_mode": {
    "name": "ipython",
    "version": 3
   },
   "file_extension": ".py",
   "mimetype": "text/x-python",
   "name": "python",
   "nbconvert_exporter": "python",
   "pygments_lexer": "ipython3",
   "version": "3.11.2"
  }
 },
 "nbformat": 4,
 "nbformat_minor": 5
}
