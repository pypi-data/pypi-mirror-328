{
 "cells": [
  {
   "cell_type": "markdown",
   "id": "7932dd85",
   "metadata": {},
   "source": [
    "# Notes from the Warwick EPSRC Symposium on \"Computation in geometric topology\"\n",
    "\n",
    "## Veech group elements (affine symmetries)\n",
    "\n",
    "Veech's double n-gon surfaces:"
   ]
  },
  {
   "cell_type": "code",
   "execution_count": null,
   "id": "3acf66e9",
   "metadata": {
    "jupyter": {
     "outputs_hidden": false
    }
   },
   "outputs": [],
   "source": [
    "from flatsurf import translation_surfaces\n",
    "\n",
    "s = translation_surfaces.veech_double_n_gon(5).canonicalize()\n",
    "s.plot()"
   ]
  },
  {
   "cell_type": "code",
   "execution_count": null,
   "id": "424425c3",
   "metadata": {
    "jupyter": {
     "outputs_hidden": false
    }
   },
   "outputs": [],
   "source": [
    "p = s.polygon(0)\n",
    "modulus = (p.vertex(3)[1] - p.vertex(2)[1]) / (p.vertex(2)[0] - p.vertex(4)[0])\n",
    "AA(modulus)"
   ]
  },
  {
   "cell_type": "code",
   "execution_count": null,
   "id": "537f1ed1",
   "metadata": {
    "jupyter": {
     "outputs_hidden": false
    }
   },
   "outputs": [],
   "source": [
    "m = matrix(s.base_ring(), [[1, 2], [0, 1]])\n",
    "show(matrix(AA, m))\n",
    "ss = m * s\n",
    "ss.plot()"
   ]
  },
  {
   "cell_type": "code",
   "execution_count": null,
   "id": "02e152ae",
   "metadata": {},
   "outputs": [],
   "source": [
    "ss = ss.delaunay_decomposition()\n",
    "ss.plot()"
   ]
  },
  {
   "cell_type": "markdown",
   "id": "c16a3622",
   "metadata": {},
   "source": [
    "The following checks that the matrix m stabilizes s; actually, it does not, see [#230](https://github.com/flatsurf/sage-flatsurf/issues/230):"
   ]
  },
  {
   "cell_type": "code",
   "execution_count": null,
   "id": "080f5d19",
   "metadata": {
    "jupyter": {
     "outputs_hidden": false
    }
   },
   "outputs": [],
   "source": [
    "ss.canonicalize() == s"
   ]
  },
  {
   "cell_type": "markdown",
   "id": "1b819d49",
   "metadata": {},
   "source": [
    "## Geodesics"
   ]
  },
  {
   "cell_type": "code",
   "execution_count": null,
   "id": "4a6433ea",
   "metadata": {
    "jupyter": {
     "outputs_hidden": false
    }
   },
   "outputs": [],
   "source": [
    "s = translation_surfaces.veech_double_n_gon(5)"
   ]
  },
  {
   "cell_type": "markdown",
   "id": "fd9ad1cc",
   "metadata": {},
   "source": [
    "The tangent bundle of the surface:"
   ]
  },
  {
   "cell_type": "code",
   "execution_count": null,
   "id": "eab12baa",
   "metadata": {
    "jupyter": {
     "outputs_hidden": true
    }
   },
   "outputs": [],
   "source": [
    "TB = s.tangent_bundle()"
   ]
  },
  {
   "cell_type": "markdown",
   "id": "f163a73e",
   "metadata": {},
   "source": [
    "Define a tangent vector in polygon $0$ starting at $(\\frac{1}{2}, 0)$ and pointed in some direction:"
   ]
  },
  {
   "cell_type": "code",
   "execution_count": null,
   "id": "bd0eb03c",
   "metadata": {
    "jupyter": {
     "outputs_hidden": false
    }
   },
   "outputs": [],
   "source": [
    "direction = s.polygon(0).vertex(2) + 3 * s.polygon(0).vertex(3)\n",
    "v = TB(0, (1 / 2, 0), direction)"
   ]
  },
  {
   "cell_type": "markdown",
   "id": "4f0232d6",
   "metadata": {},
   "source": [
    "Convert the vector to a straight-line trajectory."
   ]
  },
  {
   "cell_type": "code",
   "execution_count": null,
   "id": "043526d9",
   "metadata": {
    "jupyter": {
     "outputs_hidden": true
    }
   },
   "outputs": [],
   "source": [
    "traj = v.straight_line_trajectory()"
   ]
  },
  {
   "cell_type": "code",
   "execution_count": null,
   "id": "a64f02cc",
   "metadata": {
    "jupyter": {
     "outputs_hidden": false
    }
   },
   "outputs": [],
   "source": [
    "s.plot() + traj.plot()"
   ]
  },
  {
   "cell_type": "code",
   "execution_count": null,
   "id": "16deaf25",
   "metadata": {
    "jupyter": {
     "outputs_hidden": false
    }
   },
   "outputs": [],
   "source": [
    "traj.flow(1000)\n",
    "print(traj.is_closed())\n",
    "print(traj.combinatorial_length())\n",
    "s.plot() + traj.plot()"
   ]
  },
  {
   "cell_type": "markdown",
   "id": "a11c90ce",
   "metadata": {},
   "source": [
    "## Cone surfaces from polyhedra\n",
    "\n",
    "Polyhedra are built into Sage and you can use them to build a translation surface.\n",
    "In this demo we only use a built-in function for a Platonic Solid."
   ]
  },
  {
   "cell_type": "code",
   "execution_count": null,
   "id": "12008a49",
   "metadata": {
    "jupyter": {
     "outputs_hidden": true
    }
   },
   "outputs": [],
   "source": [
    "from flatsurf.geometry.polyhedra import platonic_dodecahedron\n",
    "\n",
    "polyhedron, s, mapping = platonic_dodecahedron()"
   ]
  },
  {
   "cell_type": "code",
   "execution_count": null,
   "id": "fd8b8071",
   "metadata": {
    "jupyter": {
     "outputs_hidden": false
    }
   },
   "outputs": [],
   "source": [
    "polyhedron.plot(frame=False)"
   ]
  },
  {
   "cell_type": "code",
   "execution_count": null,
   "id": "d078a555",
   "metadata": {
    "jupyter": {
     "outputs_hidden": false
    }
   },
   "outputs": [],
   "source": [
    "s.plot(polygon_labels=False, edge_labels=False)"
   ]
  },
  {
   "cell_type": "code",
   "execution_count": null,
   "id": "3c972372",
   "metadata": {
    "jupyter": {
     "outputs_hidden": false
    }
   },
   "outputs": [],
   "source": [
    "TB = s.tangent_bundle()\n",
    "direction = s.polygon(0).vertex(2) + 2 * s.polygon(0).vertex(3)\n",
    "v = TB(0, (1 / 2, 0), direction)\n",
    "traj = v.straight_line_trajectory()\n",
    "traj.flow(100)\n",
    "print(traj.is_closed())\n",
    "print(traj.combinatorial_length())"
   ]
  },
  {
   "cell_type": "code",
   "execution_count": null,
   "id": "eb7fa5f2",
   "metadata": {
    "jupyter": {
     "outputs_hidden": false
    }
   },
   "outputs": [],
   "source": [
    "s.plot() + traj.plot()"
   ]
  },
  {
   "cell_type": "code",
   "execution_count": null,
   "id": "b0c828da",
   "metadata": {
    "jupyter": {
     "outputs_hidden": false
    }
   },
   "outputs": [],
   "source": [
    "G = polyhedron.plot(frame=False, point=False, line=False, wireframe=None)\n",
    "G += line3d(mapping(traj), radius=0.02, frame=False)\n",
    "G"
   ]
  },
  {
   "cell_type": "code",
   "execution_count": null,
   "id": "b917996d",
   "metadata": {
    "jupyter": {
     "outputs_hidden": false
    }
   },
   "outputs": [],
   "source": [
    "TB = s.tangent_bundle()\n",
    "direction = s.polygon(0).vertex(2) + 3 * s.polygon(0).vertex(3)\n",
    "v = TB(0, (1 / 2, 0), direction)\n",
    "traj = v.straight_line_trajectory()\n",
    "traj.flow(1000)\n",
    "print(traj.is_closed())\n",
    "print(traj.combinatorial_length())"
   ]
  },
  {
   "cell_type": "code",
   "execution_count": null,
   "id": "72d3bda4",
   "metadata": {
    "jupyter": {
     "outputs_hidden": false
    }
   },
   "outputs": [],
   "source": [
    "show(s.plot() + traj.plot())"
   ]
  },
  {
   "cell_type": "code",
   "execution_count": null,
   "id": "b958e041",
   "metadata": {
    "jupyter": {
     "outputs_hidden": false
    }
   },
   "outputs": [],
   "source": [
    "p = polyhedron.plot(frame=False, point=False, line=False, wireframe=None)\n",
    "p += line3d(mapping(traj), radius=0.02, frame=False)\n",
    "p.show(viewer=\"tachyon\", frame=False)"
   ]
  },
  {
   "cell_type": "markdown",
   "id": "3e55082b",
   "metadata": {},
   "source": [
    "## Relative period deformations"
   ]
  },
  {
   "cell_type": "code",
   "execution_count": null,
   "id": "6ab25305",
   "metadata": {
    "jupyter": {
     "outputs_hidden": false
    }
   },
   "outputs": [],
   "source": [
    "s = translation_surfaces.veech_2n_gon(5)\n",
    "s.plot(edge_labels=False, polygon_labels=False)"
   ]
  },
  {
   "cell_type": "markdown",
   "id": "2cd606e7",
   "metadata": {},
   "source": [
    "Currently we have to triangulate to do a rel deformation."
   ]
  },
  {
   "cell_type": "code",
   "execution_count": null,
   "id": "3380a924",
   "metadata": {
    "jupyter": {
     "outputs_hidden": false
    }
   },
   "outputs": [],
   "source": [
    "s = s.triangulate().codomain().relabel()"
   ]
  },
  {
   "cell_type": "markdown",
   "id": "d69b8913",
   "metadata": {},
   "source": [
    "A singularity is an equivalence class of vertices of polygons."
   ]
  },
  {
   "cell_type": "code",
   "execution_count": null,
   "id": "eea577c9",
   "metadata": {
    "jupyter": {
     "outputs_hidden": false
    }
   },
   "outputs": [],
   "source": [
    "sing = s.point(0, 0)\n",
    "sing"
   ]
  },
  {
   "cell_type": "markdown",
   "id": "dacb77e0",
   "metadata": {},
   "source": [
    "We can now deform by moving one singularity relative to the others.\n",
    "Here is a small deformation in the slope one direction."
   ]
  },
  {
   "cell_type": "code",
   "execution_count": null,
   "id": "9840d770",
   "metadata": {
    "jupyter": {
     "outputs_hidden": false
    }
   },
   "outputs": [],
   "source": [
    "ss = s.rel_deformation({sing: vector(s.base_ring(), (1 / 20, 1 / 20))})\n",
    "ss.plot()"
   ]
  },
  {
   "cell_type": "markdown",
   "id": "8404a4e3",
   "metadata": {},
   "source": [
    "A larger deformation:"
   ]
  },
  {
   "cell_type": "code",
   "execution_count": null,
   "id": "80bda6b5",
   "metadata": {
    "jupyter": {
     "outputs_hidden": false
    }
   },
   "outputs": [],
   "source": [
    "ss = s.rel_deformation({sing: vector(s.base_ring(), (100, 100))})\n",
    "ss.plot()"
   ]
  },
  {
   "cell_type": "markdown",
   "id": "7ba9c00e",
   "metadata": {},
   "source": [
    "## The Necker Cube Surface\n",
    "\n",
    "I'm demonstrating a result (in progress) of Pavel Javornik,\n",
    "an undergraduate at City College of New York."
   ]
  },
  {
   "cell_type": "code",
   "execution_count": null,
   "id": "f86a2e31",
   "metadata": {
    "jupyter": {
     "outputs_hidden": false
    },
    "lines_to_next_cell": 2
   },
   "outputs": [],
   "source": [
    "from flatsurf.geometry.straight_line_trajectory import StraightLineTrajectory\n",
    "\n",
    "\n",
    "class SurfaceToSpaceMapping(SageObject):\n",
    "    def __init__(self, similarity_surface, transformation):\n",
    "        self._s = similarity_surface\n",
    "        from types import FunctionType\n",
    "\n",
    "        if isinstance(transformation, FunctionType):\n",
    "            self.transformation = transformation\n",
    "\n",
    "    def transformation(self, label):\n",
    "        r\"\"\"\n",
    "        Return a pair (m, t) where m is a 3x2 matrix and t is a vector with 3 entries.\n",
    "\n",
    "        The associated transformation from the polygon with the given label\n",
    "        is v mapsto m*v + t where v is a point in the polygon.\n",
    "        \"\"\"\n",
    "        return self._t[label]\n",
    "\n",
    "    def image_polygon(self, label):\n",
    "        r\"\"\"\n",
    "        Return a 2-dimensional polyhedron in 3-space representing\n",
    "        the image of the polygon with the given label.\n",
    "        \"\"\"\n",
    "        p = self._s.polygon(label)\n",
    "        m, t = self.transformation(label)\n",
    "        vertices = [m * v + t for v in p.vertices()]\n",
    "        return Polyhedron(vertices=vertices)\n",
    "\n",
    "    def plot(\n",
    "        self,\n",
    "        labels,\n",
    "        point=False,\n",
    "        line=False,\n",
    "        polygon=None,\n",
    "        wireframe=None,\n",
    "        frame=False,\n",
    "        label_to_color=None,\n",
    "    ):\n",
    "        r\"\"\"\n",
    "        Return a 3d plot of the polygonal images in 3-space\n",
    "        corresponding to the collection of labels.\n",
    "\n",
    "        The other parameters are passed to a Polyhedron.plot method\n",
    "        and affect the rendering.\n",
    "        \"\"\"\n",
    "        it = iter(labels)\n",
    "        label = next(it)\n",
    "        if label_to_color is None:\n",
    "            p = self.image_polygon(label).plot(\n",
    "                point=point,\n",
    "                line=line,\n",
    "                polygon=polygon,\n",
    "                wireframe=wireframe,\n",
    "                frame=frame,\n",
    "                color=\"pink\",\n",
    "            )\n",
    "        else:\n",
    "            p = self.image_polygon(label).plot(\n",
    "                point=point,\n",
    "                line=line,\n",
    "                polygon=polygon,\n",
    "                wireframe=wireframe,\n",
    "                frame=frame,\n",
    "                color=label_to_color(label),\n",
    "            )\n",
    "        for label in it:\n",
    "            if label_to_color is None:\n",
    "                p += self.image_polygon(label).plot(\n",
    "                    point=point,\n",
    "                    line=line,\n",
    "                    polygon=polygon,\n",
    "                    wireframe=wireframe,\n",
    "                    frame=frame,\n",
    "                    color=\"pink\",\n",
    "                )\n",
    "            else:\n",
    "                p += self.image_polygon(label).plot(\n",
    "                    point=point,\n",
    "                    line=line,\n",
    "                    polygon=polygon,\n",
    "                    wireframe=wireframe,\n",
    "                    frame=frame,\n",
    "                    color=label_to_color(label),\n",
    "                )\n",
    "        from sage.modules.free_module_element import vector\n",
    "\n",
    "        p.frame_aspect_ratio(\n",
    "            tuple(vector(p.bounding_box()[1]) - vector(p.bounding_box()[0]))\n",
    "        )\n",
    "        return p\n",
    "\n",
    "    def __call__(self, o):\n",
    "        r\"\"\"\n",
    "        This method is used to convert from an object on the surface to an object in space.\n",
    "\n",
    "        Currently works with\n",
    "\n",
    "        - ``StraightLineTrajectory`` -- returns the corresponding list of points in space\n",
    "        - ``SegmentInPolygon`` -- returns the corresponding pair of points in space\n",
    "        - ``SimilaritySurfaceTangentVector`` -- returns a pair of points corresponding\n",
    "          to the image point and image of the tangent vector.\n",
    "        \"\"\"\n",
    "        if isinstance(o, StraightLineTrajectory):\n",
    "            points = []\n",
    "            it = iter(o.segments())\n",
    "            s = next(it)\n",
    "            label = s.polygon_label()\n",
    "            m, t = self.transformation(label)\n",
    "            points.append(t + m * s.start().point())\n",
    "            points.append(t + m * s.end().point())\n",
    "            for s in it:\n",
    "                label = s.polygon_label()\n",
    "                m, t = self.transformation(label)\n",
    "                points.append(t + m * s.end().point())\n",
    "            return points\n",
    "        if isinstance(o, SegmentInPolygon):\n",
    "            # Return the pair of images of the endpoints.\n",
    "            label = o.polygon_label()\n",
    "            m, t = self.transformation(label)\n",
    "            return (t + m * o.start().point(), t + m * o.end().point())\n",
    "        if isinstance(o, SimilaritySurfaceTangentVector):\n",
    "            # Map to a pair of vectors consisting of the image\n",
    "            # of the basepoint and the image of the vector.\n",
    "            label = o.polygon_label()\n",
    "            m, t = self.transformation(label)\n",
    "            point = o.point()\n",
    "            vector = o.vector()\n",
    "            return (t + m * point, m * vector)\n",
    "        raise ValueError(\"Failed to recognize type of passed object\")"
   ]
  },
  {
   "cell_type": "code",
   "execution_count": null,
   "id": "b06a1139",
   "metadata": {
    "jupyter": {
     "outputs_hidden": true
    },
    "lines_to_next_cell": 2
   },
   "outputs": [],
   "source": [
    "from flatsurf.geometry.surface import OrientedSimilaritySurface\n",
    "from flatsurf.geometry.categories import ConeSurfaces\n",
    "from flatsurf.geometry.polygon import Polygon\n",
    "\n",
    "\n",
    "class CubeSurf(OrientedSimilaritySurface):\n",
    "    def __init__(self, F):\n",
    "        self._faceA = Polygon(vertices=[(0, 0), (1, 0), (1, 1), (0, 1)], base_ring=F)\n",
    "        self._faceB = Polygon(vertices=[(0, 0), (1, 0), (1, 1), (0, 1)], base_ring=F)\n",
    "        self._faceC = Polygon(vertices=[(0, 0), (1, 0), (1, 1), (0, 1)], base_ring=F)\n",
    "        super().__init__(\n",
    "            F,\n",
    "            category=ConeSurfaces()\n",
    "            .Rational()\n",
    "            .InfiniteType()\n",
    "            .WithoutBoundary()\n",
    "            .Connected(),\n",
    "        )\n",
    "\n",
    "    def is_mutable(self):\n",
    "        return False\n",
    "\n",
    "    def is_compact(self):\n",
    "        return False\n",
    "\n",
    "    def roots(self):\n",
    "        return ((0, 0, IntegerModRing(3)(0)),)\n",
    "\n",
    "    def is_translation_surface(self, positive=True):\n",
    "        return False\n",
    "\n",
    "    def is_dilation_surface(self, positive=False):\n",
    "        return False\n",
    "\n",
    "    def __eq__(self, other):\n",
    "        if not isinstance(other, CubeSurf):\n",
    "            return False\n",
    "\n",
    "        return self.base_ring() is other.base_ring()\n",
    "\n",
    "    def __hash__(self):\n",
    "        return hash(self.base_ring())\n",
    "\n",
    "    def polygon(self, label):\n",
    "        x, y, l = label\n",
    "        if l == 0:\n",
    "            return self._faceA\n",
    "        if l == 1:\n",
    "            return self._faceB\n",
    "        if l == 2:\n",
    "            return self._faceC\n",
    "\n",
    "    def opposite_edge(self, label, edge):\n",
    "        x, y, l = label\n",
    "        # l(0) = A, l(1) = B, l(2) = C\n",
    "        if l == 0:\n",
    "            if edge == 0:\n",
    "                return ((x, y - 1, l + 2), 2)\n",
    "            if edge == 1:\n",
    "                return ((x, y, l + 1), 3)\n",
    "            if edge == 2:\n",
    "                return ((x, y, l + 2), 0)\n",
    "            if edge == 3:\n",
    "                return ((x - 1, y, l + 1), 1)\n",
    "        if l == 1:\n",
    "            if edge == 0:\n",
    "                return ((x + 1, y - 1, l + 1), 3)\n",
    "            if edge == 1:\n",
    "                return ((x + 1, y, l + 2), 3)\n",
    "            if edge == 2:\n",
    "                return ((x, y, l + 1), 1)\n",
    "            if edge == 3:\n",
    "                return ((x, y, l + 2), 1)\n",
    "        if l == 2:\n",
    "            if edge == 0:\n",
    "                return ((x, y, l + 1), 2)\n",
    "            if edge == 1:\n",
    "                return ((x, y, l + 2), 2)\n",
    "            if edge == 2:\n",
    "                return ((x, y + 1, l + 1), 0)\n",
    "            if edge == 3:\n",
    "                return ((x - 1, y + 1, l + 2), 0)"
   ]
  },
  {
   "cell_type": "code",
   "execution_count": null,
   "id": "d801307d",
   "metadata": {},
   "outputs": [],
   "source": [
    "s = CubeSurf(QQ)"
   ]
  },
  {
   "cell_type": "code",
   "execution_count": null,
   "id": "dacd1222",
   "metadata": {},
   "outputs": [],
   "source": [
    "TestSuite(s).run()"
   ]
  },
  {
   "cell_type": "code",
   "execution_count": null,
   "id": "43e2e003",
   "metadata": {
    "jupyter": {
     "outputs_hidden": false
    },
    "lines_to_next_cell": 2
   },
   "outputs": [],
   "source": [
    "MM = matrix(QQ, [[0, 1, 0], [-1, 0, 0], [0, 0, 1]])\n",
    "\n",
    "\n",
    "def transformation(label):\n",
    "    M = MatrixSpace(QQ, 3, 2)\n",
    "    V = VectorSpace(QQ, 3)\n",
    "    x, y, l = label\n",
    "    if l == 0:\n",
    "        return MM * M([[1, 0], [0, 1], [0, 0]]), MM * V([x, y, -x - y])\n",
    "    elif l == 1:\n",
    "        return MM * M([[0, 0], [0, 1], [-1, 0]]), MM * V([x + 1, y, -x - y])\n",
    "    else:  # l == 2\n",
    "        return MM * M([[1, 0], [0, 0], [0, -1]]), MM * V([x, y + 1, -x - y])\n",
    "\n",
    "\n",
    "m = SurfaceToSpaceMapping(s, transformation)\n",
    "\n",
    "\n",
    "def label_to_color(label):\n",
    "    if label[2] == 0:\n",
    "        return \"pink\"\n",
    "    if label[2] == 1:\n",
    "        return \"yellow\"\n",
    "    if label[2] == 2:\n",
    "        return \"beige\""
   ]
  },
  {
   "cell_type": "code",
   "execution_count": null,
   "id": "cf4b137a",
   "metadata": {
    "jupyter": {
     "outputs_hidden": false
    }
   },
   "outputs": [],
   "source": [
    "from itertools import islice\n",
    "\n",
    "m.plot(set(islice(s.labels(), 30)), label_to_color=label_to_color)"
   ]
  },
  {
   "cell_type": "markdown",
   "id": "36304fc2",
   "metadata": {},
   "source": [
    "<b>Theorem (Pavel Javornik).</b>\n",
    "A trajectory of rational slope (measured on one of the squares interpreted to\n",
    "have horizontal and vertical sides) on the Necker Cube Surface closes up\n",
    "if and only if the slope can be expressed as the ratio of two odd integers."
   ]
  },
  {
   "cell_type": "code",
   "execution_count": null,
   "id": "f6f9232e",
   "metadata": {
    "jupyter": {
     "outputs_hidden": true
    }
   },
   "outputs": [],
   "source": [
    "B = s.tangent_bundle()"
   ]
  },
  {
   "cell_type": "markdown",
   "id": "07a2dcd4",
   "metadata": {},
   "source": [
    "The following builds a trajectory starting in the base polygon at the point\n",
    "$(\\frac{1}{4}, \\frac{1}{4})$ and traveling in a direction of slope one."
   ]
  },
  {
   "cell_type": "code",
   "execution_count": null,
   "id": "c9ef84e7",
   "metadata": {
    "jupyter": {
     "outputs_hidden": false
    }
   },
   "outputs": [],
   "source": [
    "v = B(s.root(), (1 / 4, 1 / 4), (-1, 1))\n",
    "traj = v.straight_line_trajectory()\n",
    "traj.flow(100)\n",
    "if traj.is_closed():\n",
    "    print(\"The trajectory closed up.\")\n",
    "labels = [seg.polygon_label() for seg in traj.segments()]\n",
    "m.plot(labels, label_to_color=label_to_color) + line3d(m(traj), radius=0.02)"
   ]
  },
  {
   "cell_type": "markdown",
   "id": "5dd076f1",
   "metadata": {},
   "source": [
    "A trajectory of slope $5/4$."
   ]
  },
  {
   "cell_type": "code",
   "execution_count": null,
   "id": "ede3845c",
   "metadata": {
    "jupyter": {
     "outputs_hidden": false
    }
   },
   "outputs": [],
   "source": [
    "v = B(s.root(), (1 / 3, 1 / 4), (4, 5))\n",
    "traj = v.straight_line_trajectory()\n",
    "traj.flow(50)\n",
    "labels = [seg.polygon_label() for seg in traj.segments()]\n",
    "p = m.plot(labels, label_to_color=label_to_color) + line3d(\n",
    "    m(traj), radius=0.04, label_to_color=label_to_color\n",
    ")\n",
    "p.frame_aspect_ratio(tuple(vector(p.bounding_box()[1]) - vector(p.bounding_box()[0])))\n",
    "p"
   ]
  },
  {
   "cell_type": "markdown",
   "id": "633bc434",
   "metadata": {},
   "source": [
    "A trajectory of slope $11/9$"
   ]
  },
  {
   "cell_type": "code",
   "execution_count": null,
   "id": "fcecfe03",
   "metadata": {
    "jupyter": {
     "outputs_hidden": false
    }
   },
   "outputs": [],
   "source": [
    "v = B(s.root(), (1 / 3, 1 / 4), (9, 11))\n",
    "traj = v.straight_line_trajectory()\n",
    "traj.flow(1000)\n",
    "while not traj.is_closed():\n",
    "    traj.flow(1000)\n",
    "labels = [seg.polygon_label() for seg in traj.segments()]\n",
    "p = m.plot(labels, label_to_color=label_to_color)\n",
    "p += line3d(m(traj), radius=0.04)\n",
    "p"
   ]
  }
 ],
 "metadata": {
  "jupytext": {
   "formats": "ipynb,md:myst"
  },
  "kernelspec": {
   "display_name": "SageMath 9.7",
   "language": "sage",
   "name": "sagemath"
  }
 },
 "nbformat": 4,
 "nbformat_minor": 5
}
