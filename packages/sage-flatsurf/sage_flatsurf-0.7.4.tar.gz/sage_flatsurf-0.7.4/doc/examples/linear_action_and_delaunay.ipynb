{
 "cells": [
  {
   "cell_type": "markdown",
   "id": "663dc2c0",
   "metadata": {},
   "source": [
    "# The GL(2,R) Action, the Veech Group, Delaunay Decomposition\n",
    "\n",
    "## Acting on surfaces by matrices."
   ]
  },
  {
   "cell_type": "code",
   "execution_count": null,
   "id": "006898cc",
   "metadata": {
    "jupyter": {
     "outputs_hidden": true
    }
   },
   "outputs": [],
   "source": [
    "from flatsurf import translation_surfaces\n",
    "\n",
    "s = translation_surfaces.veech_double_n_gon(5)"
   ]
  },
  {
   "cell_type": "code",
   "execution_count": null,
   "id": "cd2bed0d",
   "metadata": {
    "jupyter": {
     "outputs_hidden": false
    }
   },
   "outputs": [],
   "source": [
    "s.plot()"
   ]
  },
  {
   "cell_type": "code",
   "execution_count": null,
   "id": "a860e429",
   "metadata": {
    "jupyter": {
     "outputs_hidden": false
    }
   },
   "outputs": [],
   "source": [
    "m = matrix([[2, 1], [1, 1]])"
   ]
  },
  {
   "cell_type": "markdown",
   "id": "e3b997fc",
   "metadata": {},
   "source": [
    "You can act on surfaces with the $GL(2,R)$ action"
   ]
  },
  {
   "cell_type": "code",
   "execution_count": null,
   "id": "cc151bdb",
   "metadata": {
    "jupyter": {
     "outputs_hidden": false
    }
   },
   "outputs": [],
   "source": [
    "ss = m * s\n",
    "ss"
   ]
  },
  {
   "cell_type": "code",
   "execution_count": null,
   "id": "c0ee32ef",
   "metadata": {
    "jupyter": {
     "outputs_hidden": false
    }
   },
   "outputs": [],
   "source": [
    "ss.plot()"
   ]
  },
  {
   "cell_type": "markdown",
   "id": "2f9a45dd",
   "metadata": {},
   "source": [
    "To \"renormalize\" you can improve the presentation using the Delaunay decomposition."
   ]
  },
  {
   "cell_type": "code",
   "execution_count": null,
   "id": "05a46a04",
   "metadata": {
    "jupyter": {
     "outputs_hidden": false
    }
   },
   "outputs": [],
   "source": [
    "sss = ss.delaunay_decomposition()\n",
    "sss"
   ]
  },
  {
   "cell_type": "code",
   "execution_count": null,
   "id": "79c6adef",
   "metadata": {
    "jupyter": {
     "outputs_hidden": false
    }
   },
   "outputs": [],
   "source": [
    "sss.plot()"
   ]
  },
  {
   "cell_type": "markdown",
   "id": "356b73bc",
   "metadata": {},
   "source": [
    "## The Veech group\n",
    "\n",
    "Set $s$ to be the double pentagon again."
   ]
  },
  {
   "cell_type": "code",
   "execution_count": null,
   "id": "e8aecd8c",
   "metadata": {
    "jupyter": {
     "outputs_hidden": true
    }
   },
   "outputs": [],
   "source": [
    "s = translation_surfaces.veech_double_n_gon(5)"
   ]
  },
  {
   "cell_type": "markdown",
   "id": "d553e829",
   "metadata": {},
   "source": [
    "The surface has a horizontal cylinder decomposition all of whose moduli are given as below"
   ]
  },
  {
   "cell_type": "code",
   "execution_count": null,
   "id": "fef721f8",
   "metadata": {
    "jupyter": {
     "outputs_hidden": false
    }
   },
   "outputs": [],
   "source": [
    "p = s.polygon(0)\n",
    "modulus = (p.vertex(3)[1] - p.vertex(2)[1]) / (p.vertex(2)[0] - p.vertex(4)[0])\n",
    "AA(modulus)"
   ]
  },
  {
   "cell_type": "code",
   "execution_count": null,
   "id": "d0ad8f2a",
   "metadata": {
    "jupyter": {
     "outputs_hidden": false
    }
   },
   "outputs": [],
   "source": [
    "m = matrix(s.base_ring(), [[1, 1 / modulus], [0, 1]])\n",
    "show(m)"
   ]
  },
  {
   "cell_type": "code",
   "execution_count": null,
   "id": "0a2a2b6b",
   "metadata": {
    "jupyter": {
     "outputs_hidden": false
    }
   },
   "outputs": [],
   "source": [
    "show(matrix(AA, m))"
   ]
  },
  {
   "cell_type": "markdown",
   "id": "9a3d82a0",
   "metadata": {},
   "source": [
    "The following can be used to check that $m$ is in the Veech group of $s$."
   ]
  },
  {
   "cell_type": "code",
   "execution_count": null,
   "id": "db3dd369",
   "metadata": {
    "jupyter": {
     "outputs_hidden": false
    }
   },
   "outputs": [],
   "source": [
    "s.canonicalize() == (m * s).canonicalize()"
   ]
  },
  {
   "cell_type": "markdown",
   "id": "3d852877",
   "metadata": {},
   "source": [
    "## Infinite surfaces\n",
    "\n",
    "Infinite surfaces support multiplication by matrices and computing the Delaunay decomposition. (Computation is done \"lazily\")"
   ]
  },
  {
   "cell_type": "code",
   "execution_count": null,
   "id": "a5ee92e2",
   "metadata": {
    "jupyter": {
     "outputs_hidden": false
    }
   },
   "outputs": [],
   "source": [
    "s = translation_surfaces.chamanara(1 / 2)"
   ]
  },
  {
   "cell_type": "code",
   "execution_count": null,
   "id": "fc1c088e",
   "metadata": {
    "jupyter": {
     "outputs_hidden": false
    }
   },
   "outputs": [],
   "source": [
    "s.plot(edge_labels=False, polygon_labels=False)"
   ]
  },
  {
   "cell_type": "code",
   "execution_count": null,
   "id": "f89d7ecc",
   "metadata": {
    "jupyter": {
     "outputs_hidden": true
    }
   },
   "outputs": [],
   "source": [
    "ss = s.delaunay_decomposition()"
   ]
  },
  {
   "cell_type": "code",
   "execution_count": null,
   "id": "395082da",
   "metadata": {
    "jupyter": {
     "outputs_hidden": true
    }
   },
   "outputs": [],
   "source": [
    "gs = ss.graphical_surface(edge_labels=False, polygon_labels=False)\n",
    "gs.make_all_visible(limit=20)"
   ]
  },
  {
   "cell_type": "code",
   "execution_count": null,
   "id": "24e2d7c8",
   "metadata": {
    "jupyter": {
     "outputs_hidden": false
    }
   },
   "outputs": [],
   "source": [
    "gs.plot()"
   ]
  },
  {
   "cell_type": "code",
   "execution_count": null,
   "id": "63d298d1",
   "metadata": {
    "jupyter": {
     "outputs_hidden": true
    }
   },
   "outputs": [],
   "source": [
    "m = matrix([[2, 0], [0, 1 / 2]])"
   ]
  },
  {
   "cell_type": "code",
   "execution_count": null,
   "id": "17f86a1a",
   "metadata": {
    "jupyter": {
     "outputs_hidden": true
    }
   },
   "outputs": [],
   "source": [
    "ms = m * s"
   ]
  },
  {
   "cell_type": "code",
   "execution_count": null,
   "id": "9053aa91",
   "metadata": {
    "jupyter": {
     "outputs_hidden": false
    }
   },
   "outputs": [],
   "source": [
    "gs = ms.graphical_surface(edge_labels=False, polygon_labels=False)\n",
    "gs.make_all_visible(limit=20)\n",
    "gs.plot()"
   ]
  },
  {
   "cell_type": "code",
   "execution_count": null,
   "id": "e40b8214",
   "metadata": {
    "jupyter": {
     "outputs_hidden": false
    }
   },
   "outputs": [],
   "source": [
    "mss = ms.delaunay_decomposition()"
   ]
  },
  {
   "cell_type": "code",
   "execution_count": null,
   "id": "54354ec1",
   "metadata": {
    "jupyter": {
     "outputs_hidden": false
    }
   },
   "outputs": [],
   "source": [
    "gs = mss.graphical_surface(edge_labels=False, polygon_labels=False)\n",
    "gs.make_all_visible(limit=20)\n",
    "gs.plot()"
   ]
  },
  {
   "cell_type": "markdown",
   "id": "46653ae8",
   "metadata": {},
   "source": [
    "You can tell from the above picture that $m$ is in the Veech group."
   ]
  }
 ],
 "metadata": {
  "jupytext": {
   "formats": "ipynb,md:myst"
  },
  "kernelspec": {
   "display_name": "SageMath 9.7",
   "language": "sage",
   "name": "sagemath"
  }
 },
 "nbformat": 4,
 "nbformat_minor": 5
}
