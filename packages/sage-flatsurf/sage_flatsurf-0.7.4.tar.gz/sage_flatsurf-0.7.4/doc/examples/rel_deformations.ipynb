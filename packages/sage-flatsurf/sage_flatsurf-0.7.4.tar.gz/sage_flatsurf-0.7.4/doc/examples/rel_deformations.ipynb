{
 "cells": [
  {
   "cell_type": "markdown",
   "id": "76f578b8",
   "metadata": {},
   "source": [
    "# Relative Period Deformations\n",
    "\n",
    "## The Arnoux-Yoccoz surface"
   ]
  },
  {
   "cell_type": "code",
   "execution_count": null,
   "id": "4e1bb68e",
   "metadata": {
    "jupyter": {
     "outputs_hidden": true
    }
   },
   "outputs": [],
   "source": [
    "from flatsurf import translation_surfaces\n",
    "\n",
    "s = translation_surfaces.arnoux_yoccoz(3).canonicalize()"
   ]
  },
  {
   "cell_type": "code",
   "execution_count": null,
   "id": "f2f68fdc",
   "metadata": {
    "jupyter": {
     "outputs_hidden": false
    }
   },
   "outputs": [],
   "source": [
    "s.plot()"
   ]
  },
  {
   "cell_type": "code",
   "execution_count": null,
   "id": "008839fd",
   "metadata": {
    "jupyter": {
     "outputs_hidden": false
    }
   },
   "outputs": [],
   "source": [
    "field = s.base_ring()\n",
    "field"
   ]
  },
  {
   "cell_type": "code",
   "execution_count": null,
   "id": "14647589",
   "metadata": {
    "jupyter": {
     "outputs_hidden": false
    }
   },
   "outputs": [],
   "source": [
    "alpha = field.gen()\n",
    "AA(alpha)"
   ]
  },
  {
   "cell_type": "code",
   "execution_count": null,
   "id": "510a40f1",
   "metadata": {
    "jupyter": {
     "outputs_hidden": false
    }
   },
   "outputs": [],
   "source": [
    "m = matrix(field, [[alpha, 0], [0, 1 / alpha]])\n",
    "show(m)"
   ]
  },
  {
   "cell_type": "markdown",
   "id": "91624dde",
   "metadata": {},
   "source": [
    "Check that $m$ is the derivative of a pseudo-Anosov of $s$."
   ]
  },
  {
   "cell_type": "code",
   "execution_count": null,
   "id": "3686aa33",
   "metadata": {
    "jupyter": {
     "outputs_hidden": false
    }
   },
   "outputs": [],
   "source": [
    "(m * s).canonicalize() == s"
   ]
  },
  {
   "cell_type": "markdown",
   "id": "88364294",
   "metadata": {},
   "source": [
    "## Rel deformation\n",
    "\n",
    "A singularity of the surface is an equivalence class of vertices of the polygons making up the surface."
   ]
  },
  {
   "cell_type": "code",
   "execution_count": null,
   "id": "4a60c5b7",
   "metadata": {
    "jupyter": {
     "outputs_hidden": false
    }
   },
   "outputs": [],
   "source": [
    "s.point(0, 0)"
   ]
  },
  {
   "cell_type": "markdown",
   "id": "7e9d7e64",
   "metadata": {},
   "source": [
    "We'll move this singularity to the right by two different amounts:"
   ]
  },
  {
   "cell_type": "code",
   "execution_count": null,
   "id": "9bc078df",
   "metadata": {
    "jupyter": {
     "outputs_hidden": false
    }
   },
   "outputs": [],
   "source": [
    "s1 = s.rel_deformation(\n",
    "    {s.point(0, 0): vector(field, (alpha / (1 - alpha), 0))}\n",
    ").canonicalize()"
   ]
  },
  {
   "cell_type": "code",
   "execution_count": null,
   "id": "6392384d",
   "metadata": {
    "jupyter": {
     "outputs_hidden": true
    }
   },
   "outputs": [],
   "source": [
    "s2 = s.rel_deformation(\n",
    "    {s.point(0, 0): vector(field, (1 / (1 - alpha), 0))}\n",
    ").canonicalize()"
   ]
  },
  {
   "cell_type": "markdown",
   "id": "dbfaa255",
   "metadata": {
    "jupyter": {
     "outputs_hidden": true
    }
   },
   "source": [
    "Note that by the action of the derivative of the pseudo-Anosov we have:"
   ]
  },
  {
   "cell_type": "code",
   "execution_count": null,
   "id": "717ddffe",
   "metadata": {
    "jupyter": {
     "outputs_hidden": false
    }
   },
   "outputs": [],
   "source": [
    "s1 == (m * s2).canonicalize()"
   ]
  },
  {
   "cell_type": "markdown",
   "id": "6906b033",
   "metadata": {},
   "source": [
    "By a Theorem of Barak Weiss and the author of this notebook, these surfaces are all periodic in the vertical direction. You can see the vertical cylinders:"
   ]
  },
  {
   "cell_type": "code",
   "execution_count": null,
   "id": "1948c4d0",
   "metadata": {
    "jupyter": {
     "outputs_hidden": false
    }
   },
   "outputs": [],
   "source": [
    "s1.plot()"
   ]
  }
 ],
 "metadata": {
  "jupytext": {
   "formats": "ipynb,md:myst"
  },
  "kernelspec": {
   "display_name": "SageMath 9.7",
   "language": "sage",
   "name": "sagemath"
  }
 },
 "nbformat": 4,
 "nbformat_minor": 5
}
