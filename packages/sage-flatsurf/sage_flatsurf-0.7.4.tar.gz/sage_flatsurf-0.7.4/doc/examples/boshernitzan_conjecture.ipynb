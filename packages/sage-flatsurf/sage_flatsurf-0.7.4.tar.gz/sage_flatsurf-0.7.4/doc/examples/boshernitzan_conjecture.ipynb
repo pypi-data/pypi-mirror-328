{
 "cells": [
  {
   "cell_type": "markdown",
   "id": "7cb1bbc3",
   "metadata": {},
   "source": [
    "# Boshernitzan's Conjectures\n",
    "Let $\\Delta$ be a rational triangle and let $P_0:=P_0(\\Delta)$ be the directions for which the flow on the unfolding of $\\Delta$ completely decomposes into cylinders. Let $E:=E(\\Delta)$ be the exceptional directions of $\\Delta$, i.e., the directions for which there exists a generalized diagonal, i.e., a billiard trajectory connecting two vertices.\n",
    "\n",
    "In *Billiards and Rational Periodic Directions in Polygons*, Boshernitzan states the following conjecture:\n",
    "\n",
    "> **Conjecture 2.2**\n",
    "Assume that a rational triangle $\\Delta=(\\alpha, \\beta, \\chi)$ [is embedded into $\\mathbb{R}^2$ such that one of its sides is horizontal or vertical]. Then:\\\n",
    "(a) If $d$ [with $d:=\\alpha+\\beta+\\chi$] is even, we have $S^1(2d')\\subset P_0$ [where $d':=\\mathrm{lcm}(2, d)$ and $S^1(n):=\\{z\\in S^1\\mid|z^n=1\\}$].\\\n",
    "(b) If $d$ is odd, we have $S^1(2d')\\setminus S^1(d')\\subset P_0$.\\\n",
    "(c) If $d\\le 12$, and if $\\Delta\\ne(2/11,3/11,6/11)$, we have $S^1(2d')\\subset P_0$.\\\n",
    "(d) If $d\\le 12$, and if $\\Delta\\ne(2/11,3/11,6/11)$ or $(4/11,4/11,3/11)$, we have $P_0=E$.\\\n",
    "(e) If $\\Delta$ is either isosceles, or right triangle, we have $S^1(2d')\\subset P_0$.\n",
    "\n",
    "In the following, we are trying to verify the statements using sage-flatsurf.\n",
    "\n",
    "We will find that\n",
    "❌ (a) does not hold,\n",
    "❔ (b) might hold,\n",
    "✔ (c) holds,\n",
    "❌ (d) does not hold,\n",
    "❌ (e) does not hold."
   ]
  },
  {
   "cell_type": "markdown",
   "id": "f9508e83",
   "metadata": {},
   "source": [
    "## (a) Cylinder Periodic Directions of Even Triangles\n",
    "Let us first state assertion (a) again:\n",
    "\n",
    "> Let $d$ be even and let $d=α+β+γ$ be a partition into coprime positive integers. Consider the triangle $\\Delta = (α, β, γ)$, i.e., the triangle with angles $(απ/d, βπ/d, γπ/d)$, embedded into the complex plane such that one of its sides is horizontal. Let $z\\in S^1$ be such that $z^{2d}=1$. Then the flow in direction $z$ on the unfolding of $\\Delta$ completely decomposes into cylinders.\n",
    "\n",
    "To verify this conjecture for a given triangle, we do not need to compute the flow decomposition for each such $z$ due to symmetries in the unfolding. Indeed, identifying the set $S^1(2d):=\\{z^{2d}=1\\}$ with $\\mathbb{Z}/2d\\mathbb{Z}$ we see that the assertion holds for a direction $v$ iff it holds for the subset $v + \\langle 2α, 2β, 2γ\\rangle$. Since the angles $α,β,γ$ are coprime, it suffices to check two directions; for example two directions orthogonal (or equally parallel) to edges of $\\Delta$ that do not meet at the one \"even\" angle from $α,β,γ$.\n",
    "\n",
    "We performed such a search systematically with [flatsurvey](https://github.com/flatsurf/flatsurvey) which is built upon sage-flatsurf. An exhaustive search up to d=153 found 9 counterexamples to the conjecture, namely (7, 7, 16), (7, 8, 15), (13, 20, 23), (15, 30, 47), (11, 45, 50), (23, 29, 58), (19, 38, 55), (11, 22, 103), (30, 41, 67).\n",
    "\n",
    "Let us verify that the (7, 7, 16) triangle indeed fails the assertion of the conjecture."
   ]
  },
  {
   "cell_type": "markdown",
   "id": "c3bad10f",
   "metadata": {},
   "source": [
    "First, we construct a triangle with angles (7, 7, 16)."
   ]
  },
  {
   "cell_type": "code",
   "execution_count": null,
   "id": "dd0a0488",
   "metadata": {},
   "outputs": [],
   "source": [
    "from flatsurf import EuclideanPolygonsWithAngles\n",
    "\n",
    "Δ = EuclideanPolygonsWithAngles(7, 7, 16).an_element()\n",
    "Δ"
   ]
  },
  {
   "cell_type": "markdown",
   "id": "dca7ec58",
   "metadata": {},
   "source": [
    "We unfold this triangle and obtain a translation surface."
   ]
  },
  {
   "cell_type": "code",
   "execution_count": null,
   "id": "a33a0faa",
   "metadata": {},
   "outputs": [],
   "source": [
    "from flatsurf import similarity_surfaces\n",
    "\n",
    "S = similarity_surfaces.billiard(Δ).minimal_cover(cover_type=\"translation\")\n",
    "S.plot(edge_labels=False, polygon_labels=False)"
   ]
  },
  {
   "cell_type": "markdown",
   "id": "2ec6e5ba",
   "metadata": {},
   "source": [
    "We construct the flow decomposition in direction (0, 1), orthogonal to one of the sides of the triangle."
   ]
  },
  {
   "cell_type": "code",
   "execution_count": null,
   "id": "8ae9819b",
   "metadata": {},
   "outputs": [],
   "source": [
    "from flatsurf import GL2ROrbitClosure\n",
    "\n",
    "D = GL2ROrbitClosure(S).decomposition(vector(Δ.base_ring(), (0, 1)))\n",
    "D"
   ]
  },
  {
   "cell_type": "markdown",
   "id": "9b03614e",
   "metadata": {},
   "source": [
    "We can visualize the complement of the minimal components if ipvue-flatsurf is available. (Note that visualizing the minimal components themselves might not work correctly until [#62](https://github.com/flatsurf/ipyvue-flatsurf/issues/62) has ben resolved.)\n",
    "\n",
    "```python\n",
    "from ipyvue_flatsurf import Widget\n",
    "\n",
    "cylinders = [c for c in D.components() if c.cylinder()]\n",
    "Widget(cylinders)\n",
    "```\n",
    "\n",
    "## (b) Cylinder Periodic Directions of Odd Triangles\n",
    "\n",
    "Assertion (b) can be phrased as follows:\n",
    "> Let $d$ be odd and let $d=α+β+γ$ be a partition into coprime positive integers. Consider the triangle $\\Delta=(α,β,γ)$, i.e., the triangle with angles $(α\\pi/d, β\\pi/d, γ\\pi/d)$, embedded into the complex plane such that one of its sides is horizontal. Let $z\\in S^1$ be such that $z^{2d}=-1$. Then the flow in direction $z$ on the unfolding of $\\Delta$ completely decomposes into cylinders.\n",
    "\n",
    "Again, we do not need to compute the flow decomposition for each such $z$ since there are a lot of symmetries. Let us identify the $z\\in S^1$ with $z^{4d}=1$ with $\\mathbb{Z}/4d\\mathbb{Z}$. The assertion then holds for a direction $v$ iff it holds for the subset $v + \\langle 4α, 4β, 4γ\\rangle$. Since the $α,β,γ$ are coprime and the assertion excludes directions with $z^{2d}=1$, it suffices to check two directions; for example directions orthogonal to two edges of $\\Delta$ that do not meet at an \"even\" angle.\n",
    "\n",
    "We performed such a search systematically with [flatsurvey](https://github.com/flatsurf/flatsurvey) which is built upon sage-flatsurf. An exhaustive search up to d=189 found no counterexamples to the conjecture."
   ]
  },
  {
   "cell_type": "markdown",
   "id": "bee29fd0",
   "metadata": {},
   "source": [
    "## (c) Cylinder Periodic Directions of Most Small Triangles\n",
    "Assertion (c) is a finite variant of (a) and (b), namely it asserts that:\n",
    "* (a) holds for all $d\\le 12$ and\n",
    "* (b) holds for all $d\\le 12$ even if we replace $z^{2d}=-1$ with $z^{4d}=1$ as long as we exclude the triangle $(2, 3, 6)$."
   ]
  },
  {
   "cell_type": "markdown",
   "id": "e4701e12",
   "metadata": {},
   "source": [
    "We can use sage-flatsurf to verify that this assertion does indeed hold. Let us for example verify here that the assertion holds for the (1, 1, 10) triangle.\n",
    "\n",
    "We start by constructing the unfolding of that triangle:"
   ]
  },
  {
   "cell_type": "code",
   "execution_count": null,
   "id": "73491dbf",
   "metadata": {},
   "outputs": [],
   "source": [
    "from flatsurf import EuclideanPolygonsWithAngles, similarity_surfaces\n",
    "\n",
    "Δ = EuclideanPolygonsWithAngles(1, 1, 10).an_element()\n",
    "S = similarity_surfaces.billiard(Δ).minimal_cover(cover_type=\"translation\")"
   ]
  },
  {
   "cell_type": "markdown",
   "id": "2ed5ce42",
   "metadata": {},
   "source": [
    "We find that this completely decomposes into cylinders in horizontal direction:"
   ]
  },
  {
   "cell_type": "code",
   "execution_count": null,
   "id": "6cffbed6",
   "metadata": {},
   "outputs": [],
   "source": [
    "from flatsurf import GL2ROrbitClosure\n",
    "\n",
    "D = GL2ROrbitClosure(S).decomposition(vector(Δ.base_ring(), (0, 1)))\n",
    "D"
   ]
  },
  {
   "cell_type": "markdown",
   "id": "1fab8ba6",
   "metadata": {},
   "source": [
    "We can visualize these cylinders if ipyvue-flatsurf is available:\n",
    "\n",
    "```python\n",
    "from ipyvue_flatsurf import Widget\n",
    "\n",
    "Widget(D)\n",
    "```\n",
    "\n",
    "### The (2, 3, 6) Triangle\n",
    "As indicated in the conjecture, (2, 3, 6) is exceptional, i.e., there is such a direction for which the flow decomposition does not fully decompose into cylinders."
   ]
  },
  {
   "cell_type": "markdown",
   "id": "f158360d",
   "metadata": {},
   "source": [
    "#### Computing a Flow Decomposition for the (2, 3, 6) Triangle\n",
    "Again, we can ask sage-flatsurf to compute the flow decomposition of the unfolding of the (2, 3, 6) triangle. It turns out that in vertical direction (1, 0), it does not fully decompose into cylinders:"
   ]
  },
  {
   "cell_type": "code",
   "execution_count": null,
   "id": "f4186905",
   "metadata": {},
   "outputs": [],
   "source": [
    "from flatsurf import EuclideanPolygonsWithAngles, similarity_surfaces, GL2ROrbitClosure\n",
    "\n",
    "Δ = EuclideanPolygonsWithAngles(2, 3, 6).an_element()\n",
    "S = similarity_surfaces.billiard(Δ).minimal_cover(cover_type=\"translation\")\n",
    "D = GL2ROrbitClosure(S).decomposition(vector(Δ.base_ring(), (1, 0)))\n",
    "D"
   ]
  },
  {
   "cell_type": "code",
   "execution_count": null,
   "id": "93a54b06",
   "metadata": {},
   "outputs": [],
   "source": [
    "from flatsurf import polygons, similarity_surfaces, EuclideanPolygonsWithAngles\n",
    "from flatsurf import GL2ROrbitClosure\n",
    "\n",
    "E = EuclideanPolygonsWithAngles(2, 3, 6)\n",
    "T = E.random_element()\n",
    "S = similarity_surfaces.billiard(T)\n",
    "S = S.minimal_cover(cover_type=\"translation\")\n",
    "O = GL2ROrbitClosure(S)\n",
    "D = O.decomposition(vector((1, 0)))\n",
    "D"
   ]
  },
  {
   "cell_type": "markdown",
   "id": "e7b0a0af",
   "metadata": {},
   "source": [
    "Using ipyvue-flatsurf, we can visualize the minimal components:\n",
    "\n",
    "```python\n",
    "from ipyvue_flatsurf import Widget\n",
    "\n",
    "Widget([component for component in D.components() if component.withoutPeriodicTrajectory()])\n",
    "```\n",
    "\n",
    "#### Asserting Minimality on the Level of the Interval Exchange Transformation\n",
    "\n",
    "Internally, the preceding computation is performed on Interval Exchange Transformations describing this translation surface. We are now getting that same result by going through (some of) these underlying steps explicitly with more low-level interfaces.\n",
    "\n",
    "Currently, the only way to work with such low-level objects is by invoking functions in the C++ libraries [libflatsurf](https://github.com/flatsurf/flatsurf) and [libintervalxt](https://github.com/flatsurf/intervalxt) directly. We start by passing from our translation surface to the corresponding surface in libflatsurf. (Note that these operations are not considered part of the stable interface of sage-flatsurf and subject to change.)"
   ]
  },
  {
   "cell_type": "code",
   "execution_count": null,
   "id": "101d7db8",
   "metadata": {},
   "outputs": [],
   "source": [
    "F = S.pyflatsurf().codomain().flat_triangulation()"
   ]
  },
  {
   "cell_type": "markdown",
   "id": "222911e7",
   "metadata": {},
   "source": [
    "##### A Unique Large Edge\n",
    "\n",
    "We start by retriangulating our surface. Namely, we want to obtain a single *large edge* for the flow direction, i.e., a unique edge that is wider (perpendicular to the flow direction) than all the other edges."
   ]
  },
  {
   "cell_type": "code",
   "execution_count": null,
   "id": "5e0f15c9",
   "metadata": {},
   "outputs": [],
   "source": [
    "import pyflatsurf\n",
    "\n",
    "V = pyflatsurf.flatsurf.Vector[type(F).Coordinate]\n",
    "horizontal = V(int(1), int(0))\n",
    "\n",
    "F = pyflatsurf.flatsurf.FlatTriangulationCollapsed[type(F).Coordinate](F, horizontal)\n",
    "pyflatsurf.flatsurf.IntervalExchangeTransformation[type(F)].makeUniqueLargeEdges(\n",
    "    F, horizontal\n",
    ")"
   ]
  },
  {
   "cell_type": "markdown",
   "id": "0552d322",
   "metadata": {},
   "source": [
    "Unfortunately, we cannot display a plot of such a surface since it is not a real translation surface anymore. Some of the edges (the ones is direction of the flow) have been collapsed, see [#62](https://github.com/flatsurf/vue-flatsurf/issues/62)."
   ]
  },
  {
   "cell_type": "code",
   "execution_count": null,
   "id": "2b791660",
   "metadata": {},
   "outputs": [],
   "source": [
    "large = [e for e in F.edges() if F.vertical().large(e.positive())][0].negative()\n",
    "large"
   ]
  },
  {
   "cell_type": "markdown",
   "id": "a7e87a2d",
   "metadata": {},
   "source": [
    "##### Flowing from the Large Edge to Construct an Interval Exchange Transformation\n",
    "\n",
    "We (unfortunately do not) see in the above plot how the half edges on the left get shuffled to be become the half edges on the right if we follow the flow across the ``large`` edge.\n",
    "\n",
    "This defines an Interval Exchange Transformation."
   ]
  },
  {
   "cell_type": "code",
   "execution_count": null,
   "id": "38f7411d",
   "metadata": {},
   "outputs": [],
   "source": [
    "import pyintervalxt, pyeantic\n",
    "\n",
    "iet = pyflatsurf.flatsurf.IntervalExchangeTransformation[type(F)](\n",
    "    F, F.vertical().vertical(), large\n",
    ").forget()\n",
    "iet"
   ]
  },
  {
   "cell_type": "markdown",
   "id": "23929673",
   "metadata": {},
   "source": [
    "##### Zorich Induction on the Interval Exchange Transformation\n",
    "\n",
    "We now attempt to decompose the Interval Exchange Transformation by performing some Zorich induction steps.\n",
    "\n",
    "Namely, we begin by subtracting `a` at the top from `g` at the bottom."
   ]
  },
  {
   "cell_type": "code",
   "execution_count": null,
   "id": "f685392c",
   "metadata": {},
   "outputs": [],
   "source": [
    "iet.swap()\n",
    "iet.zorichInduction()\n",
    "iet.swap()\n",
    "iet"
   ]
  },
  {
   "cell_type": "markdown",
   "id": "aa24cdbe",
   "metadata": {},
   "source": [
    "Next, we subtract `g` at the bottom from `b` at the top."
   ]
  },
  {
   "cell_type": "code",
   "execution_count": null,
   "id": "618d8ea1",
   "metadata": {},
   "outputs": [],
   "source": [
    "iet.zorichInduction()\n",
    "iet"
   ]
  },
  {
   "cell_type": "markdown",
   "id": "aa71a73f",
   "metadata": {},
   "source": [
    "Now, we subtract `b` at the top from `g` at the bottom."
   ]
  },
  {
   "cell_type": "code",
   "execution_count": null,
   "id": "52314248",
   "metadata": {},
   "outputs": [],
   "source": [
    "iet.swap()\n",
    "iet.zorichInduction()\n",
    "iet.swap()\n",
    "iet"
   ]
  },
  {
   "cell_type": "markdown",
   "id": "6f38488d",
   "metadata": {},
   "source": [
    "We keep going like this for a few more iterations and end up with the starting labels `f` and `e` of the same length."
   ]
  },
  {
   "cell_type": "code",
   "execution_count": null,
   "id": "2c6c19a3",
   "metadata": {},
   "outputs": [],
   "source": [
    "iet.zorichInduction()\n",
    "iet.swap()\n",
    "iet.zorichInduction()\n",
    "iet.swap()\n",
    "iet.zorichInduction()\n",
    "iet.swap()\n",
    "iet.zorichInduction()\n",
    "iet.swap()\n",
    "iet.zorichInduction()\n",
    "iet"
   ]
  },
  {
   "cell_type": "markdown",
   "id": "6371440b",
   "metadata": {},
   "source": [
    "Therefore, we can simplify the interval exchange transformation by dropping the label `f`."
   ]
  },
  {
   "cell_type": "code",
   "execution_count": null,
   "id": "3c99ad78",
   "metadata": {},
   "outputs": [],
   "source": [
    "iet.induce(int(0))\n",
    "iet"
   ]
  },
  {
   "cell_type": "markdown",
   "id": "02e46058",
   "metadata": {},
   "source": [
    "Now, top and bottom start with the same label `a`. We found a cylinder.\n",
    "\n",
    "We continue with the remaining interval exchange transformation."
   ]
  },
  {
   "cell_type": "code",
   "execution_count": null,
   "id": "3c4662fb",
   "metadata": {},
   "outputs": [],
   "source": [
    "iet = iet.reduce().value()\n",
    "iet"
   ]
  },
  {
   "cell_type": "markdown",
   "id": "a93a57a0",
   "metadata": {},
   "source": [
    "A few more induction steps, let us drop the `e` label as we did before."
   ]
  },
  {
   "cell_type": "code",
   "execution_count": null,
   "id": "a2a3433b",
   "metadata": {},
   "outputs": [],
   "source": [
    "iet.induce(-int(1))\n",
    "iet"
   ]
  },
  {
   "cell_type": "markdown",
   "id": "0ecf7bbd",
   "metadata": {},
   "source": [
    "Now, top and bottom start with the same labels `d` and `h`. The interval exchange transformation splits.\n",
    "\n",
    "Let us consider the first part on the labels `d` and `h`."
   ]
  },
  {
   "cell_type": "code",
   "execution_count": null,
   "id": "25436b70",
   "metadata": {},
   "outputs": [],
   "source": [
    "iet.reduce()\n",
    "iet"
   ]
  },
  {
   "cell_type": "markdown",
   "id": "58cc6ec9",
   "metadata": {},
   "source": [
    "We see that this must be a minimal component. Indeed, consider a point somewhere on the bottom interval, i.e., on either `h` or `d`. As this point flows to the top, it either hits `d` or `h` there. If it hits `d` it gets translated by the length of `h`. If it hits `h` it gets translated by the length of `-d`. If there were a cylinder hidden in this somewhere, we would be able to chain such translations together to get a total translation of zero. However, there is no combination of positive integer multiples of `h` and `-d` that sums to zero. There cannot be a cylinder."
   ]
  },
  {
   "cell_type": "code",
   "execution_count": null,
   "id": "b31ca6ba",
   "metadata": {},
   "outputs": [],
   "source": [
    "iet.boshernitzanNoPeriodicTrajectory()"
   ]
  },
  {
   "cell_type": "markdown",
   "id": "9360eadb",
   "metadata": {},
   "source": [
    "We have found a cylinder and a minimal component. Performing the same steps on the other part formed by the labels `c`, `b`, `g`, `i` yields two more cylinders and another minimal component."
   ]
  },
  {
   "cell_type": "markdown",
   "id": "951df2ff",
   "metadata": {},
   "source": [
    "## (d) Most Small Triangles are Completely Cylinder Periodic\n",
    "Assertion (d) can be phrased as\n",
    "> Let $d\\le 12$ with a partition $d=α+β+γ$ into positive coprime integers with $(α,β,γ)\\ne(2,3,6)$ and $(α,β,γ)\\ne(3,4,4)$. Consider a triangle $\\Delta=(α,β,γ)$, i.e., the triangle with angles $(α\\pi/d, β\\pi/d, γ\\pi/d)$. Then $\\Delta$ is completely cylinder periodic, i.e., the flow in direction $v$ on the unfolding of $\\Delta$ decomposes into cylinders for any direction $v$ given by a saddle connection.\n",
    "\n",
    "We can use sage-flatsurf to check this assertion for some small triangles. Let us consider the (2, 2, 3) triangle."
   ]
  },
  {
   "cell_type": "code",
   "execution_count": null,
   "id": "38143482",
   "metadata": {},
   "outputs": [],
   "source": [
    "from flatsurf import EuclideanPolygonsWithAngles, similarity_surfaces, GL2ROrbitClosure\n",
    "\n",
    "Δ = EuclideanPolygonsWithAngles(2, 2, 3).an_element()\n",
    "S = similarity_surfaces.billiard(Δ).minimal_cover(cover_type=\"translation\")"
   ]
  },
  {
   "cell_type": "markdown",
   "id": "df71b9de",
   "metadata": {},
   "source": [
    "```python\n",
    "from ipyvue_flatsurf import Widget\n",
    "\n",
    "Widget(S)\n",
    "```\n",
    "\n",
    "We can compute flow decompositions for some short saddle connections in this surface and look for minimal components."
   ]
  },
  {
   "cell_type": "code",
   "execution_count": null,
   "id": "d0c4de20",
   "metadata": {},
   "outputs": [],
   "source": [
    "for connection in S.saddle_connections(4):\n",
    "    decomposition = GL2ROrbitClosure(S).decomposition(connection.direction())\n",
    "    if any(\n",
    "        component.withoutPeriodicTrajectory()\n",
    "        for component in decomposition.components()\n",
    "    ):\n",
    "        print(\n",
    "            \"Found minimal component in\",\n",
    "            decomposition,\n",
    "            \"for direction\",\n",
    "            connection.direction(),\n",
    "        )\n",
    "        break"
   ]
  },
  {
   "cell_type": "markdown",
   "id": "0ea86d6e",
   "metadata": {},
   "source": [
    "We can try to visualize the minimal components. There might be some rendering errors due to [#62](https://github.com/flatsurf/ipyvue-flatsurf/issues/62) however:\n",
    "\n",
    "```python\n",
    "from ipyvue_flatsurf import Widget\n",
    "\n",
    "Widget(decomposition)\n",
    "```\n",
    "\n",
    "## (e) Cylinder Periodic Directions of Isosceles and Right Triangles\n",
    "Assertion (e) can be phrased as\n",
    "> Let $d=α+β+γ$ be a sum of positive coprime integers with $γ=α+β$ or $α=β$. Consider the (right) triangle $\\Delta=(α,β,γ)$ embedded into the complex plane such that one of its sides is horizontal. Let $z\\in S^1$ be such that $z^{2\\mathrm{lcm}(2,d)}=1$. Then the flow in direction $z$ on the unfolding of $\\Delta$ completely decomposes into cylinders."
   ]
  },
  {
   "cell_type": "markdown",
   "id": "ce3bcd29",
   "metadata": {},
   "source": [
    "The (7,8,15) triangle which is also a counterexample to (a) works here as well."
   ]
  },
  {
   "cell_type": "code",
   "execution_count": null,
   "id": "e0a2815c",
   "metadata": {},
   "outputs": [],
   "source": [
    "from flatsurf import EuclideanPolygonsWithAngles, similarity_surfaces, GL2ROrbitClosure\n",
    "\n",
    "Δ = EuclideanPolygonsWithAngles(7, 8, 15).an_element()\n",
    "S = similarity_surfaces.billiard(Δ).minimal_cover(cover_type=\"translation\")"
   ]
  },
  {
   "cell_type": "markdown",
   "id": "5044bafa",
   "metadata": {},
   "source": [
    "```python\n",
    "from ipyvue_flatsurf import Widget\n",
    "\n",
    "Widget(S)\n",
    "```"
   ]
  },
  {
   "cell_type": "code",
   "execution_count": null,
   "id": "6df3b1e9",
   "metadata": {},
   "outputs": [],
   "source": [
    "from flatsurf import GL2ROrbitClosure\n",
    "\n",
    "D = GL2ROrbitClosure(S).decomposition(vector(Δ.base_ring(), (1, 0)))\n",
    "D"
   ]
  }
 ],
 "metadata": {
  "jupytext": {
   "encoding": "# -*- coding: utf-8 -*-",
   "formats": "ipynb,md:myst,sage:light"
  },
  "kernelspec": {
   "display_name": "SageMath 9.7",
   "language": "sage",
   "name": "sagemath"
  }
 },
 "nbformat": 4,
 "nbformat_minor": 5
}
