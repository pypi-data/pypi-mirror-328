{
 "cells": [
  {
   "cell_type": "markdown",
   "id": "83285bb8",
   "metadata": {},
   "source": [
    "# Graphics Configuration\n",
    "\n",
    "## Rearranging Polygons"
   ]
  },
  {
   "cell_type": "code",
   "execution_count": null,
   "id": "73f3395e",
   "metadata": {},
   "outputs": [],
   "source": [
    "from flatsurf.geometry.polyhedra import platonic_dodecahedron\n",
    "\n",
    "s = platonic_dodecahedron()[1]"
   ]
  },
  {
   "cell_type": "markdown",
   "id": "ae50b370",
   "metadata": {},
   "source": [
    "The default plot of this surface:"
   ]
  },
  {
   "cell_type": "code",
   "execution_count": null,
   "id": "272f36f2",
   "metadata": {},
   "outputs": [],
   "source": [
    "s.plot()"
   ]
  },
  {
   "cell_type": "markdown",
   "id": "4045eeb1",
   "metadata": {},
   "source": [
    "Labels in the center of each polygon indicate the label of the polygon. Edge labels above indicate which polygon the edge is glued to.\n",
    "\n",
    "Plotting the surface is controlled by a GraphicalSurface object:"
   ]
  },
  {
   "cell_type": "code",
   "execution_count": null,
   "id": "7777ced6",
   "metadata": {},
   "outputs": [],
   "source": [
    "gs = s.graphical_surface()"
   ]
  },
  {
   "cell_type": "markdown",
   "id": "ab2e5850",
   "metadata": {},
   "source": [
    "The graphical surface controls where polygons are drawn. You can glue a polygon across an edge using `gs.make_adjacent(label, edge)`. A difficulty is that you need to know which edge is which. You can enable `zero_flags` to see the zero vertex of each polygon."
   ]
  },
  {
   "cell_type": "code",
   "execution_count": null,
   "id": "3e024029",
   "metadata": {},
   "outputs": [],
   "source": [
    "gs.will_plot_zero_flags = True"
   ]
  },
  {
   "cell_type": "code",
   "execution_count": null,
   "id": "05ea8fc5",
   "metadata": {},
   "outputs": [],
   "source": [
    "gs.plot()"
   ]
  },
  {
   "cell_type": "markdown",
   "id": "a2981f99",
   "metadata": {},
   "source": [
    "sage-flatsurf uses a simple algorithm to layout polygons. Sometimes polygons overlap. But in this example the main concern is maybe that the picture is not as symmetric as we would like it to be. For example, we could aim for things to be symmetric around the polygons 0 and 1. Let's say we would like to move polygon 2 so that it's glued to 10 instead of being glued to 0. We count the edges on polygon 10 until we reach the edge glued to 2. It's the first one. We can verify that this is correct:"
   ]
  },
  {
   "cell_type": "code",
   "execution_count": null,
   "id": "628cbe99",
   "metadata": {},
   "outputs": [],
   "source": [
    "s.opposite_edge(10, 0)"
   ]
  },
  {
   "cell_type": "markdown",
   "id": "55dcb8d6",
   "metadata": {},
   "source": [
    "We can move polygon 2 so that it is adjacent to polygon 10 with the command:"
   ]
  },
  {
   "cell_type": "code",
   "execution_count": null,
   "id": "874aaf96",
   "metadata": {},
   "outputs": [],
   "source": [
    "gs.make_adjacent(10, 0)"
   ]
  },
  {
   "cell_type": "markdown",
   "id": "aad9423d",
   "metadata": {},
   "source": [
    "Lets check that it worked:"
   ]
  },
  {
   "cell_type": "code",
   "execution_count": null,
   "id": "825b83f5",
   "metadata": {},
   "outputs": [],
   "source": [
    "gs.plot()"
   ]
  },
  {
   "cell_type": "markdown",
   "id": "dd380151",
   "metadata": {},
   "source": [
    "Let's build the symmetric widget at polygon 1 by moving 7 to be adjacent to 5 and 3 to be adjacent to 7. Note that the order of the movements matter. If we do it in the wrong order, we detach things:"
   ]
  },
  {
   "cell_type": "code",
   "execution_count": null,
   "id": "7aecf4ac",
   "metadata": {},
   "outputs": [],
   "source": [
    "gs.make_adjacent(7, 3)\n",
    "gs.make_adjacent(5, 4)\n",
    "gs.plot()"
   ]
  },
  {
   "cell_type": "markdown",
   "id": "2363d50c",
   "metadata": {},
   "source": [
    "Indeed, we moved 3 to be adjacent to 7 but then moved 7 away. Let's do it in the correct order:"
   ]
  },
  {
   "cell_type": "code",
   "execution_count": null,
   "id": "3b0b307d",
   "metadata": {},
   "outputs": [],
   "source": [
    "gs.make_adjacent(5, 4)\n",
    "gs.make_adjacent(7, 3)\n",
    "gs.plot()"
   ]
  },
  {
   "cell_type": "markdown",
   "id": "46771f3d",
   "metadata": {},
   "source": [
    "Finally, glue 9 to 8 for a symmetric picture:"
   ]
  },
  {
   "cell_type": "code",
   "execution_count": null,
   "id": "30d1d655",
   "metadata": {},
   "outputs": [],
   "source": [
    "gs.make_adjacent(8, 0)\n",
    "gs.plot()"
   ]
  },
  {
   "cell_type": "markdown",
   "id": "3cea71e0",
   "metadata": {},
   "source": [
    "## Moving between coordinate systems\n",
    "\n",
    "The Euclidean Cone Surface `s` works in a different coordinate system then the graphical surface `gs`. So, when we moved the polygon above, we had no affect on `s`. In fact, the polygons of `s` are all the same:"
   ]
  },
  {
   "cell_type": "code",
   "execution_count": null,
   "id": "b9d1356e",
   "metadata": {},
   "outputs": [],
   "source": [
    "s.polygon(0)"
   ]
  },
  {
   "cell_type": "code",
   "execution_count": null,
   "id": "c67fd3b6",
   "metadata": {},
   "outputs": [],
   "source": [
    "s.polygon(1)"
   ]
  },
  {
   "cell_type": "markdown",
   "id": "72304181",
   "metadata": {},
   "source": [
    "So really `s` is a disjoint union of twelve copies of a standard pentagon with some edge gluings.\n",
    "\n",
    "Lets now look at \"graphical coordinates\" i.e., the coordinates in which `gs` works."
   ]
  },
  {
   "cell_type": "code",
   "execution_count": null,
   "id": "ec03503a",
   "metadata": {},
   "outputs": [],
   "source": [
    "show(gs.plot(), axes=True)"
   ]
  },
  {
   "cell_type": "markdown",
   "id": "4922f54f",
   "metadata": {},
   "source": [
    "We can tell that the point `(4, -4)` is in the unfolding, but we can't immediately tell if it is in polygon 5 or 7. The GraphicalSurface `gs` is made out of GraphicalPolygons which we can use to deal with this sort of thing."
   ]
  },
  {
   "cell_type": "code",
   "execution_count": null,
   "id": "8879f52c",
   "metadata": {},
   "outputs": [],
   "source": [
    "gs.graphical_polygon(5).contains((4, -4))"
   ]
  },
  {
   "cell_type": "code",
   "execution_count": null,
   "id": "d01964dd",
   "metadata": {},
   "outputs": [],
   "source": [
    "gs.graphical_polygon(7).contains((4, -4))"
   ]
  },
  {
   "cell_type": "markdown",
   "id": "d3be1b29",
   "metadata": {},
   "source": [
    "Great. Now we can get the position of the point on the surface!"
   ]
  },
  {
   "cell_type": "code",
   "execution_count": null,
   "id": "0da0bc26",
   "metadata": {},
   "outputs": [],
   "source": [
    "gp = gs.graphical_polygon(7)\n",
    "pt = gp.transform_back((4, -4))\n",
    "pt"
   ]
  },
  {
   "cell_type": "markdown",
   "id": "8937841e",
   "metadata": {},
   "source": [
    "Here we plot polygon 7 in its geometric coordinates with `pt`."
   ]
  },
  {
   "cell_type": "code",
   "execution_count": null,
   "id": "8f072f25",
   "metadata": {},
   "outputs": [],
   "source": [
    "s.polygon(7).plot() + point2d([pt], zorder=100, color=\"red\")"
   ]
  },
  {
   "cell_type": "markdown",
   "id": "319f2f2a",
   "metadata": {},
   "source": [
    "Lets convert it to a surface point and plot it!\n",
    "\n",
    "Note that we will have to pass the graphical surface to the point so it plots with respect to ``gs`` and not with respect to ``s.graphical_surface``."
   ]
  },
  {
   "cell_type": "code",
   "execution_count": null,
   "id": "ea085ea5",
   "metadata": {},
   "outputs": [],
   "source": [
    "spt = s.point(7, pt)\n",
    "spt"
   ]
  },
  {
   "cell_type": "code",
   "execution_count": null,
   "id": "9364d394",
   "metadata": {},
   "outputs": [],
   "source": [
    "gs.plot() + spt.plot(gs, color=\"red\", size=20)"
   ]
  },
  {
   "cell_type": "markdown",
   "id": "9f389144",
   "metadata": {},
   "source": [
    "Now we want to plot an upward trajectory through this point. Again, we have to deal with the fact that the coordinates might not match. You can get access to the transformation (a similarity) from geometric coordinates to graphical coordinates:"
   ]
  },
  {
   "cell_type": "code",
   "execution_count": null,
   "id": "4ce21a2e",
   "metadata": {},
   "outputs": [],
   "source": [
    "transformation = gs.graphical_polygon(7).transformation()\n",
    "transformation"
   ]
  },
  {
   "cell_type": "markdown",
   "id": "069d3dd8",
   "metadata": {},
   "source": [
    "Really we want the inverse:"
   ]
  },
  {
   "cell_type": "code",
   "execution_count": null,
   "id": "86966d32",
   "metadata": {},
   "outputs": [],
   "source": [
    "inverse_transformation = ~transformation\n",
    "inverse_transformation"
   ]
  },
  {
   "cell_type": "markdown",
   "id": "837b311c",
   "metadata": {},
   "source": [
    "We just want the derivative of this similarity to transform the vertical direction. The derivative is a $2 \\times 2$ matrix."
   ]
  },
  {
   "cell_type": "code",
   "execution_count": null,
   "id": "a3f22457",
   "metadata": {},
   "outputs": [],
   "source": [
    "show(inverse_transformation.derivative())"
   ]
  },
  {
   "cell_type": "code",
   "execution_count": null,
   "id": "3875dddc",
   "metadata": {},
   "outputs": [],
   "source": [
    "direction = inverse_transformation.derivative() * vector((0, 1))\n",
    "direction"
   ]
  },
  {
   "cell_type": "markdown",
   "id": "e22165e1",
   "metadata": {},
   "source": [
    "We can use the point and the direction to get a tangent vector, which we convert to a trajectory, flow and plot."
   ]
  },
  {
   "cell_type": "code",
   "execution_count": null,
   "id": "10887fb7",
   "metadata": {},
   "outputs": [],
   "source": [
    "tangent_vector = s.tangent_vector(7, pt, direction)\n",
    "tangent_vector"
   ]
  },
  {
   "cell_type": "code",
   "execution_count": null,
   "id": "6656135c",
   "metadata": {},
   "outputs": [],
   "source": [
    "traj = tangent_vector.straight_line_trajectory()\n",
    "traj.flow(100)\n",
    "traj.is_closed()"
   ]
  },
  {
   "cell_type": "code",
   "execution_count": null,
   "id": "f84dcdf8",
   "metadata": {},
   "outputs": [],
   "source": [
    "gs.plot() + spt.plot(gs, color=\"red\") + traj.plot(gs, color=\"orange\")"
   ]
  },
  {
   "cell_type": "markdown",
   "id": "b81838d5",
   "metadata": {},
   "source": [
    "## Multiple graphical surfaces\n",
    "\n",
    "It is possible to have more than one graphical surface. Maybe you want to have one where things look better.\n",
    "To get a new surface, you can call `s.graphical_surface()` again."
   ]
  },
  {
   "cell_type": "code",
   "execution_count": null,
   "id": "abcaf2e9",
   "metadata": {},
   "outputs": [],
   "source": [
    "pretty_gs = s.graphical_surface(polygon_labels=False, edge_labels=False)"
   ]
  },
  {
   "cell_type": "code",
   "execution_count": null,
   "id": "8917db0e",
   "metadata": {},
   "outputs": [],
   "source": [
    "pretty_gs.plot()"
   ]
  },
  {
   "cell_type": "markdown",
   "id": "f6c9b84e",
   "metadata": {},
   "source": [
    "Current polygon printing options:"
   ]
  },
  {
   "cell_type": "code",
   "execution_count": null,
   "id": "d813f994",
   "metadata": {},
   "outputs": [],
   "source": [
    "pretty_gs.polygon_options"
   ]
  },
  {
   "cell_type": "code",
   "execution_count": null,
   "id": "7738bdd8",
   "metadata": {},
   "outputs": [],
   "source": [
    "del pretty_gs.polygon_options[\"color\"]\n",
    "pretty_gs.polygon_options[\"rgbcolor\"] = \"#ffeeee\""
   ]
  },
  {
   "cell_type": "code",
   "execution_count": null,
   "id": "52a9ae24",
   "metadata": {},
   "outputs": [],
   "source": [
    "pretty_gs.non_adjacent_edge_options[\"thickness\"] = 0.5\n",
    "pretty_gs.non_adjacent_edge_options[\"color\"] = \"lightblue\"\n",
    "pretty_gs.will_plot_adjacent_edges = False"
   ]
  },
  {
   "cell_type": "code",
   "execution_count": null,
   "id": "8b954b64",
   "metadata": {},
   "outputs": [],
   "source": [
    "pretty_gs.plot()"
   ]
  },
  {
   "cell_type": "markdown",
   "id": "b618088a",
   "metadata": {},
   "source": [
    "Again, to use a non-default graphical surface, we need to pass the graphical surface as a parameter."
   ]
  },
  {
   "cell_type": "code",
   "execution_count": null,
   "id": "505b442f",
   "metadata": {},
   "outputs": [],
   "source": [
    "pretty_gs.plot() + spt.plot(pretty_gs, color=\"red\") + traj.plot(pretty_gs)"
   ]
  },
  {
   "cell_type": "markdown",
   "id": "d6b9866f",
   "metadata": {},
   "source": [
    "Lets make it prettier by drawing some stars on the faces!\n",
    "\n",
    "Find all saddle connections of length at most $\\sqrt{16}$:"
   ]
  },
  {
   "cell_type": "code",
   "execution_count": null,
   "id": "515170ca",
   "metadata": {},
   "outputs": [],
   "source": [
    "saddle_connections = s.saddle_connections(16)"
   ]
  },
  {
   "cell_type": "markdown",
   "id": "6aaa76b5",
   "metadata": {},
   "source": [
    "The edges have length two so we will keep anything that has a different length."
   ]
  },
  {
   "cell_type": "code",
   "execution_count": null,
   "id": "86acd4bc",
   "metadata": {},
   "outputs": [],
   "source": [
    "saddle_connections2 = []\n",
    "for sc in saddle_connections:\n",
    "    h = sc.holonomy()\n",
    "    if h[0] ** 2 + h[1] ** 2 != 4:\n",
    "        saddle_connections2.append(sc)\n",
    "len(saddle_connections2)"
   ]
  },
  {
   "cell_type": "code",
   "execution_count": null,
   "id": "4fe798ca",
   "metadata": {},
   "outputs": [],
   "source": [
    "plot = pretty_gs.plot()\n",
    "for sc in saddle_connections2:\n",
    "    plot += sc.plot(pretty_gs, color=\"red\")\n",
    "plot"
   ]
  },
  {
   "cell_type": "markdown",
   "id": "e3840c51",
   "metadata": {},
   "source": [
    "Plot using the original graphical surface."
   ]
  },
  {
   "cell_type": "code",
   "execution_count": null,
   "id": "9704ca1c",
   "metadata": {},
   "outputs": [],
   "source": [
    "plot = s.plot()\n",
    "for sc in saddle_connections2:\n",
    "    plot += sc.plot(color=\"red\")\n",
    "plot"
   ]
  },
  {
   "cell_type": "markdown",
   "id": "b490127d",
   "metadata": {},
   "source": [
    "## Manipulating edge labels"
   ]
  },
  {
   "cell_type": "code",
   "execution_count": null,
   "id": "e6e04d1c",
   "metadata": {},
   "outputs": [],
   "source": [
    "from flatsurf import translation_surfaces\n",
    "\n",
    "s = translation_surfaces.arnoux_yoccoz(4)"
   ]
  },
  {
   "cell_type": "code",
   "execution_count": null,
   "id": "dafc1915",
   "metadata": {},
   "outputs": [],
   "source": [
    "s.plot()"
   ]
  },
  {
   "cell_type": "markdown",
   "id": "2293ca33",
   "metadata": {},
   "source": [
    "Here is an example with the edge labels centered on the edge."
   ]
  },
  {
   "cell_type": "code",
   "execution_count": null,
   "id": "dcb1bf8b",
   "metadata": {},
   "outputs": [],
   "source": [
    "gs = s.graphical_surface()"
   ]
  },
  {
   "cell_type": "code",
   "execution_count": null,
   "id": "bc36dc9a",
   "metadata": {},
   "outputs": [],
   "source": [
    "del gs.polygon_options[\"color\"]\n",
    "gs.polygon_options[\"rgbcolor\"] = \"#eee\"\n",
    "gs.edge_label_options[\"position\"] = \"edge\"\n",
    "gs.edge_label_options[\"t\"] = 0.5\n",
    "gs.edge_label_options[\"push_off\"] = 0\n",
    "gs.edge_label_options[\"color\"] = \"green\"\n",
    "gs.adjacent_edge_options[\"thickness\"] = 0.5\n",
    "gs.will_plot_non_adjacent_edges = False"
   ]
  },
  {
   "cell_type": "code",
   "execution_count": null,
   "id": "80bc96c4",
   "metadata": {},
   "outputs": [],
   "source": [
    "gs.plot()"
   ]
  },
  {
   "cell_type": "code",
   "execution_count": null,
   "id": "11e91391",
   "metadata": {},
   "outputs": [],
   "source": [
    "gs = s.graphical_surface()"
   ]
  },
  {
   "cell_type": "code",
   "execution_count": null,
   "id": "a8bf2579",
   "metadata": {},
   "outputs": [],
   "source": [
    "del gs.polygon_options[\"color\"]\n",
    "gs.polygon_options[\"rgbcolor\"] = \"#eef\"\n",
    "gs.edge_label_options[\"position\"] = \"outside\"\n",
    "gs.edge_label_options[\"t\"] = 0.5\n",
    "gs.edge_label_options[\"push_off\"] = 0.02\n",
    "gs.edge_label_options[\"color\"] = \"green\"\n",
    "gs.adjacent_edge_options[\"thickness\"] = 0.5\n",
    "gs.non_adjacent_edge_options[\"thickness\"] = 0.25"
   ]
  },
  {
   "cell_type": "code",
   "execution_count": null,
   "id": "bf4e33eb",
   "metadata": {},
   "outputs": [],
   "source": [
    "gs.plot()"
   ]
  }
 ],
 "metadata": {
  "jupytext": {
   "formats": "ipynb,md:myst"
  },
  "kernelspec": {
   "display_name": "SageMath 9.7",
   "language": "sage",
   "name": "sagemath"
  }
 },
 "nbformat": 4,
 "nbformat_minor": 5
}
