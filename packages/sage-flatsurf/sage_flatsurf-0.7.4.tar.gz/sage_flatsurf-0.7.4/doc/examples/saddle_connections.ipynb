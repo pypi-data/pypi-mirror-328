{
 "cells": [
  {
   "cell_type": "markdown",
   "id": "acd37645",
   "metadata": {},
   "source": [
    "# Working with Saddle Connections"
   ]
  },
  {
   "cell_type": "code",
   "execution_count": null,
   "id": "ee1efea3",
   "metadata": {
    "jupyter": {
     "outputs_hidden": true
    }
   },
   "outputs": [],
   "source": [
    "from flatsurf import translation_surfaces\n",
    "\n",
    "s = translation_surfaces.veech_double_n_gon(5)"
   ]
  },
  {
   "cell_type": "code",
   "execution_count": null,
   "id": "4ae9f928",
   "metadata": {
    "jupyter": {
     "outputs_hidden": false
    }
   },
   "outputs": [],
   "source": [
    "s.plot()"
   ]
  },
  {
   "cell_type": "markdown",
   "id": "ab1afda7",
   "metadata": {},
   "source": [
    "We get a list of all saddle connections of length less than $\\sqrt{10}$."
   ]
  },
  {
   "cell_type": "code",
   "execution_count": null,
   "id": "5160a645",
   "metadata": {
    "jupyter": {
     "outputs_hidden": false
    }
   },
   "outputs": [],
   "source": [
    "sc_list = s.saddle_connections(10)\n",
    "len(sc_list)"
   ]
  },
  {
   "cell_type": "markdown",
   "id": "2b1a23b3",
   "metadata": {},
   "source": [
    "The following removes duplicate saddle connections which appear with opposite orientations."
   ]
  },
  {
   "cell_type": "code",
   "execution_count": null,
   "id": "fbe646e1",
   "metadata": {
    "jupyter": {
     "outputs_hidden": false
    }
   },
   "outputs": [],
   "source": [
    "sc_set = set()\n",
    "for sc in sc_list:\n",
    "    if sc.invert() not in sc_set:\n",
    "        sc_set.add(sc)\n",
    "sc_list2 = list(sc_set)\n",
    "len(sc_list2)"
   ]
  },
  {
   "cell_type": "markdown",
   "id": "08170e58",
   "metadata": {},
   "source": [
    "We pick two saddle connections:"
   ]
  },
  {
   "cell_type": "code",
   "execution_count": null,
   "id": "6063ff22",
   "metadata": {
    "jupyter": {
     "outputs_hidden": false
    }
   },
   "outputs": [],
   "source": [
    "sc1 = sc_list2[-15]\n",
    "sc2 = sc_list2[-12]"
   ]
  },
  {
   "cell_type": "markdown",
   "id": "7c7bc130",
   "metadata": {},
   "source": [
    "We can find their holonomies and other information about them using methods."
   ]
  },
  {
   "cell_type": "code",
   "execution_count": null,
   "id": "dccc568b",
   "metadata": {
    "jupyter": {
     "outputs_hidden": false
    }
   },
   "outputs": [],
   "source": [
    "print(\"Holonomy of sc1 is\" + str(sc1.holonomy()) + \" = \" + str(sc1.holonomy().n()))\n",
    "print(\"Holonomy of sc2 is\" + str(sc2.holonomy()) + \" = \" + str(sc2.holonomy().n()))"
   ]
  },
  {
   "cell_type": "code",
   "execution_count": null,
   "id": "eafa67b4",
   "metadata": {
    "jupyter": {
     "outputs_hidden": false
    }
   },
   "outputs": [],
   "source": [
    "s.plot() + sc1.plot(color=\"orange\") + sc2.plot(color=\"green\")"
   ]
  },
  {
   "cell_type": "markdown",
   "id": "85e3b013",
   "metadata": {},
   "source": [
    "We can test that they intersect. By default the singularity does not count."
   ]
  },
  {
   "cell_type": "code",
   "execution_count": null,
   "id": "09414015",
   "metadata": {
    "jupyter": {
     "outputs_hidden": false
    }
   },
   "outputs": [],
   "source": [
    "sc1.intersects(sc2)"
   ]
  },
  {
   "cell_type": "markdown",
   "id": "6cfaaaa4",
   "metadata": {},
   "source": [
    "We can get an iterator over the set of intersection points:"
   ]
  },
  {
   "cell_type": "code",
   "execution_count": null,
   "id": "8042975f",
   "metadata": {
    "jupyter": {
     "outputs_hidden": false
    }
   },
   "outputs": [],
   "source": [
    "for p in sc1.intersections(sc2):\n",
    "    print(p)"
   ]
  },
  {
   "cell_type": "markdown",
   "id": "cf46081f",
   "metadata": {},
   "source": [
    "It is a good idea to store the intersections in a list if you want to reuse them:"
   ]
  },
  {
   "cell_type": "code",
   "execution_count": null,
   "id": "5122d292",
   "metadata": {
    "jupyter": {
     "outputs_hidden": false
    }
   },
   "outputs": [],
   "source": [
    "intersections = list(sc1.intersections(sc2))"
   ]
  },
  {
   "cell_type": "markdown",
   "id": "00ac857c",
   "metadata": {},
   "source": [
    "We can plot the intersection points:"
   ]
  },
  {
   "cell_type": "code",
   "execution_count": null,
   "id": "b3f1b267",
   "metadata": {
    "jupyter": {
     "outputs_hidden": false
    }
   },
   "outputs": [],
   "source": [
    "plot = s.plot() + sc1.plot(color=\"orange\") + sc2.plot(color=\"green\")\n",
    "for p in intersections:\n",
    "    plot += p.plot(color=\"red\", zorder=3)\n",
    "plot"
   ]
  },
  {
   "cell_type": "markdown",
   "id": "d8735b0c",
   "metadata": {},
   "source": [
    "We can plot all the saddle connections:"
   ]
  },
  {
   "cell_type": "code",
   "execution_count": null,
   "id": "acf8a6d6",
   "metadata": {
    "jupyter": {
     "outputs_hidden": false
    }
   },
   "outputs": [],
   "source": [
    "plot = s.plot(edge_labels=False, polygon_labels=False)\n",
    "for sc in sc_list:\n",
    "    plot += sc.plot(thickness=0.05)\n",
    "plot"
   ]
  },
  {
   "cell_type": "markdown",
   "id": "8c4f3a6f",
   "metadata": {},
   "source": [
    "We will build a subset of the saddle connection graph where vertices are saddle connections and two vertices are joined by an edge if and only if the saddle connections do not intersect (on their interiors)."
   ]
  },
  {
   "cell_type": "code",
   "execution_count": null,
   "id": "6f960ff6",
   "metadata": {
    "jupyter": {
     "outputs_hidden": false
    }
   },
   "outputs": [],
   "source": [
    "d = {}\n",
    "\n",
    "for i in range(len(sc_list2)):\n",
    "    for j in range(i + 1, len(sc_list2)):\n",
    "        if not sc_list2[i].intersects(sc_list2[j]):\n",
    "            if i not in d:\n",
    "                d[i] = [j]\n",
    "            else:\n",
    "                d[i].append(j)\n",
    "            if j not in d:\n",
    "                d[j] = [i]\n",
    "            else:\n",
    "                d[j].append(i)\n",
    "\n",
    "g = Graph(d)"
   ]
  },
  {
   "cell_type": "markdown",
   "id": "13a5d4ab",
   "metadata": {},
   "source": [
    "We place the vertex of a saddle connection with holonomy $z \\in {\\mathbb C}$ at the point $z^2$."
   ]
  },
  {
   "cell_type": "code",
   "execution_count": null,
   "id": "1316dc07",
   "metadata": {
    "jupyter": {
     "outputs_hidden": false
    }
   },
   "outputs": [],
   "source": [
    "pos = {}\n",
    "for i in range(len(sc_list2)):\n",
    "    sc = sc_list2[i]\n",
    "    val = sc.holonomy().n()\n",
    "    z = val[0] + I * val[1]\n",
    "    w = z**2 / z.abs()\n",
    "    pos[i] = (w.real(), w.imag())"
   ]
  },
  {
   "cell_type": "code",
   "execution_count": null,
   "id": "6e1a4eca",
   "metadata": {
    "jupyter": {
     "outputs_hidden": false
    }
   },
   "outputs": [],
   "source": [
    "g.plot(pos=pos, vertex_labels=False, vertex_size=0)"
   ]
  }
 ],
 "metadata": {
  "jupytext": {
   "formats": "ipynb,md:myst"
  },
  "kernelspec": {
   "display_name": "SageMath 9.7",
   "language": "sage",
   "name": "sagemath"
  }
 },
 "nbformat": 4,
 "nbformat_minor": 5
}
