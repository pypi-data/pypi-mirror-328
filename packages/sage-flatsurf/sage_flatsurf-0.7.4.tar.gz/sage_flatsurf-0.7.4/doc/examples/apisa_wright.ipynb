{
 "cells": [
  {
   "cell_type": "markdown",
   "id": "6e2be0aa",
   "metadata": {},
   "source": [
    "# Exploring Orbit Closures\n",
    "\n",
    "We demonstrate how to use sage-flatsurf to compute the `GL(2,R)`-orbit closure\n",
    "of a surface. This example was interesting to P. Apisa and A. Wright.\n",
    "\n",
    "Parts of this rely on the C++ library libflatsurf. Please consult our\n",
    "installation guide if it is not available on your system yet."
   ]
  },
  {
   "cell_type": "markdown",
   "id": "b88b9f8b",
   "metadata": {},
   "source": [
    "## Building the Surface and Orbit Closure\n",
    "\n",
    "Consider the following half-translation surface:\n",
    "\n",
    "    +---5---+\n",
    "    |       |\n",
    "    4       4\n",
    "    |       |\n",
    "    +       +---5---+---6---+---7---+---8---+\n",
    "    |                                       |\n",
    "    3                                       3\n",
    "    |                                       |\n",
    "    +               +---8---+---7---+---6---+\n",
    "    |               |\n",
    "    2               2\n",
    "    |               |\n",
    "    +---1---+---1---+\n",
    "\n",
    "It belongs to $Q_3(10, -1^2)$."
   ]
  },
  {
   "cell_type": "code",
   "execution_count": null,
   "id": "b48490cc",
   "metadata": {
    "lines_to_next_cell": 2
   },
   "outputs": [],
   "source": [
    "from flatsurf import Polygon, MutableOrientedSimilaritySurface\n",
    "\n",
    "\n",
    "def apisa_wright_surface(h24, h3, l15, l6, l7, l8):\n",
    "    K = Sequence([h24, h3, l15, l6, l7, l8]).universe().fraction_field()\n",
    "\n",
    "    v24 = vector(K, (0, h24))\n",
    "    v3 = vector(K, (0, h3))\n",
    "    v15 = vector(K, (l15, 0))\n",
    "    v6 = vector(K, (l6, 0))\n",
    "    v7 = vector(K, (l7, 0))\n",
    "    v8 = vector(K, (l8, 0))\n",
    "\n",
    "    S = MutableOrientedSimilaritySurface(K)\n",
    "\n",
    "    S.add_polygon(Polygon(edges=[v15, v15, v24, -2 * v15, -v24]))\n",
    "    S.add_polygon(\n",
    "        Polygon(edges=[2 * v15, v8, v7, v6, v3, -v8, -v7, -v6, -v15, -v15, -v3])\n",
    "    )\n",
    "    S.add_polygon(Polygon(edges=[v15, v24, -v15, -v24], base_ring=K))\n",
    "\n",
    "    S.glue((0, 0), (0, 1))\n",
    "    S.glue((0, 2), (0, 4))\n",
    "    S.glue((0, 3), (1, 0))\n",
    "    S.glue((1, 1), (1, 5))\n",
    "    S.glue((1, 2), (1, 6))\n",
    "    S.glue((1, 3), (1, 7))\n",
    "    S.glue((1, 4), (1, 10))\n",
    "    S.glue((1, 8), (2, 2))\n",
    "    S.glue((1, 9), (2, 0))\n",
    "    S.glue((2, 1), (2, 3))\n",
    "    S.set_immutable()\n",
    "    return S"
   ]
  },
  {
   "cell_type": "markdown",
   "id": "1ace36b0",
   "metadata": {},
   "source": [
    "Use some simple parameters:"
   ]
  },
  {
   "cell_type": "code",
   "execution_count": null,
   "id": "34879e31",
   "metadata": {},
   "outputs": [],
   "source": [
    "K = QuadraticField(2)\n",
    "a = K.gen()\n",
    "S = apisa_wright_surface(1, 1 + a, 1, a, 1 + a, 2 * a - 1)\n",
    "S.plot(edge_labels=False)"
   ]
  },
  {
   "cell_type": "code",
   "execution_count": null,
   "id": "38460661",
   "metadata": {},
   "outputs": [],
   "source": [
    "S"
   ]
  },
  {
   "cell_type": "markdown",
   "id": "ba106f95",
   "metadata": {},
   "source": [
    "Build the canonical double cover:"
   ]
  },
  {
   "cell_type": "code",
   "execution_count": null,
   "id": "4a46751d",
   "metadata": {},
   "outputs": [],
   "source": [
    "U = S.minimal_cover(\"translation\")\n",
    "U.stratum()"
   ]
  },
  {
   "cell_type": "markdown",
   "id": "024d5d2a",
   "metadata": {},
   "source": [
    "Now build the orbit closure. The snippet below explores saddle connections up to\n",
    "length 16 looking for cylinders. Each decomposition into cylinders and minimal\n",
    "components provides a new tangent direction in the `GL(2,R)`-orbit closure of\n",
    "the surface via A. Wright's cylinder deformation."
   ]
  },
  {
   "cell_type": "code",
   "execution_count": null,
   "id": "b9146a19",
   "metadata": {},
   "outputs": [],
   "source": [
    "from flatsurf import GL2ROrbitClosure  # optional: pyflatsurf\n",
    "\n",
    "O = GL2ROrbitClosure(U)  # optional: pyflatsurf\n",
    "O.dimension()  # optional: pyflatsurf"
   ]
  },
  {
   "cell_type": "markdown",
   "id": "3879f1ab",
   "metadata": {},
   "source": [
    "The above dimension is just the current dimension. At initialization it only\n",
    "consists of the `GL(2,R)`-direction."
   ]
  },
  {
   "cell_type": "code",
   "execution_count": null,
   "id": "3ab31192",
   "metadata": {},
   "outputs": [],
   "source": [
    "old_dim = O.dimension()  # optional: pyflatsurf\n",
    "for i, dec in enumerate(O.decompositions(16, bfs=True)):  # optional: pyflatsurf\n",
    "    O.update_tangent_space_from_flow_decomposition(dec)\n",
    "    new_dim = O.dimension()\n",
    "    if old_dim != new_dim:\n",
    "        holonomies = [cyl.circumferenceHolonomy() for cyl in dec.cylinders()]\n",
    "        # .area() as reported by libflatsurf is actually twice the area\n",
    "        areas = [cyl.area() / 2 for cyl in dec.cylinders()]\n",
    "        moduli = [\n",
    "            (v.x() * v.x() + v.y() * v.y()) / area for v, area in zip(holonomies, areas)\n",
    "        ]\n",
    "        u = dec.vertical().vertical()\n",
    "        print(\"saddle connection number\", i)\n",
    "        print(\"holonomy           :\", u)\n",
    "        print(\"length             :\", RDF(u.x() * u.x() + u.y() * u.y()).sqrt())\n",
    "        print(\"num cylinders      :\", len(dec.cylinders()))\n",
    "        print(\"num minimal comps. :\", len(dec.minimalComponents()))\n",
    "        print(\"current dimension  :\", new_dim)\n",
    "        print(\"cyls. holonomies   :\", holonomies)\n",
    "        print(\"cyls. moduli       :\", moduli)\n",
    "        if new_dim == 7:\n",
    "            break\n",
    "        old_dim = new_dim\n",
    "        print(\"-\" * 30)"
   ]
  }
 ],
 "metadata": {
  "jupytext": {
   "formats": "ipynb,md:myst"
  },
  "kernelspec": {
   "display_name": "SageMath 9.7",
   "language": "sage",
   "name": "sagemath"
  }
 },
 "nbformat": 4,
 "nbformat_minor": 5
}
