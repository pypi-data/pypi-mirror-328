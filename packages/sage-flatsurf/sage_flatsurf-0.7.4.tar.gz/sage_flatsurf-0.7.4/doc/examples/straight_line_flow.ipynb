{
 "cells": [
  {
   "cell_type": "markdown",
   "id": "f32015bd",
   "metadata": {},
   "source": [
    "# Straight-Line Flow\n",
    "\n",
    "## Acting on surfaces by matrices."
   ]
  },
  {
   "cell_type": "code",
   "execution_count": null,
   "id": "9dbe2755",
   "metadata": {
    "jupyter": {
     "outputs_hidden": true
    }
   },
   "outputs": [],
   "source": [
    "from flatsurf import translation_surfaces\n",
    "\n",
    "s = translation_surfaces.veech_double_n_gon(5)"
   ]
  },
  {
   "cell_type": "code",
   "execution_count": null,
   "id": "f35d576a",
   "metadata": {
    "jupyter": {
     "outputs_hidden": false
    }
   },
   "outputs": [],
   "source": [
    "s.plot()"
   ]
  },
  {
   "cell_type": "markdown",
   "id": "656f97b0",
   "metadata": {},
   "source": [
    "Defines the tangent_bundle on the surface defined over the ``base_ring`` of s."
   ]
  },
  {
   "cell_type": "code",
   "execution_count": null,
   "id": "e575083c",
   "metadata": {
    "jupyter": {
     "outputs_hidden": false
    }
   },
   "outputs": [],
   "source": [
    "TB = s.tangent_bundle()"
   ]
  },
  {
   "cell_type": "code",
   "execution_count": null,
   "id": "d8f5372d",
   "metadata": {
    "jupyter": {
     "outputs_hidden": false
    }
   },
   "outputs": [],
   "source": [
    "baricenter = sum(s.polygon(0).vertices()) / 5"
   ]
  },
  {
   "cell_type": "markdown",
   "id": "b35d4f12",
   "metadata": {},
   "source": [
    "Define the tangent vector based at the baricenter of polygon 0 aimed downward."
   ]
  },
  {
   "cell_type": "code",
   "execution_count": null,
   "id": "9829726b",
   "metadata": {
    "jupyter": {
     "outputs_hidden": true
    }
   },
   "outputs": [],
   "source": [
    "v = TB(0, baricenter, (0, -1))"
   ]
  },
  {
   "cell_type": "markdown",
   "id": "b5f0b111",
   "metadata": {},
   "source": [
    "Convert to a straight-line trajectory. Trajectories are unions of segments in polygons."
   ]
  },
  {
   "cell_type": "code",
   "execution_count": null,
   "id": "c60a77e1",
   "metadata": {
    "jupyter": {
     "outputs_hidden": true
    }
   },
   "outputs": [],
   "source": [
    "traj = v.straight_line_trajectory()"
   ]
  },
  {
   "cell_type": "code",
   "execution_count": null,
   "id": "2cdfe6b2",
   "metadata": {
    "jupyter": {
     "outputs_hidden": false
    }
   },
   "outputs": [],
   "source": [
    "s.plot() + traj.plot()"
   ]
  },
  {
   "cell_type": "markdown",
   "id": "df5df7db",
   "metadata": {},
   "source": [
    "Flow into the next $100$ polygons or until the trajectory hits a vertex."
   ]
  },
  {
   "cell_type": "code",
   "execution_count": null,
   "id": "d84570ef",
   "metadata": {
    "jupyter": {
     "outputs_hidden": true
    }
   },
   "outputs": [],
   "source": [
    "traj.flow(100)"
   ]
  },
  {
   "cell_type": "code",
   "execution_count": null,
   "id": "da086c53",
   "metadata": {
    "jupyter": {
     "outputs_hidden": false
    }
   },
   "outputs": [],
   "source": [
    "s.plot() + traj.plot()"
   ]
  },
  {
   "cell_type": "markdown",
   "id": "a8828e8e",
   "metadata": {},
   "source": [
    "We can tell its type."
   ]
  },
  {
   "cell_type": "code",
   "execution_count": null,
   "id": "c1714bf0",
   "metadata": {
    "jupyter": {
     "outputs_hidden": false
    }
   },
   "outputs": [],
   "source": [
    "traj.is_saddle_connection()"
   ]
  },
  {
   "cell_type": "markdown",
   "id": "ebbca4d8",
   "metadata": {},
   "source": [
    "You can also test if a straight-line trajectory is closed or a forward/backward separatrix.\n",
    "\n",
    "Lets do it again but in the slope one direction."
   ]
  },
  {
   "cell_type": "code",
   "execution_count": null,
   "id": "caab21d2",
   "metadata": {
    "jupyter": {
     "outputs_hidden": false
    }
   },
   "outputs": [],
   "source": [
    "v = TB(0, baricenter, (1, 1))"
   ]
  },
  {
   "cell_type": "code",
   "execution_count": null,
   "id": "39c52c32",
   "metadata": {
    "jupyter": {
     "outputs_hidden": true
    }
   },
   "outputs": [],
   "source": [
    "traj = v.straight_line_trajectory()"
   ]
  },
  {
   "cell_type": "code",
   "execution_count": null,
   "id": "b26ba58f",
   "metadata": {
    "jupyter": {
     "outputs_hidden": true
    }
   },
   "outputs": [],
   "source": [
    "traj.flow(100)"
   ]
  },
  {
   "cell_type": "code",
   "execution_count": null,
   "id": "0d966371",
   "metadata": {
    "jupyter": {
     "outputs_hidden": false
    }
   },
   "outputs": [],
   "source": [
    "s.plot() + traj.plot()"
   ]
  },
  {
   "cell_type": "markdown",
   "id": "90c7ed99",
   "metadata": {},
   "source": [
    "We remark that it follows from work of Veech that the slope one direction is ergodic for the straight-line flow."
   ]
  }
 ],
 "metadata": {
  "jupytext": {
   "formats": "ipynb,md:myst"
  },
  "kernelspec": {
   "display_name": "SageMath 9.7",
   "language": "sage",
   "name": "sagemath"
  }
 },
 "nbformat": 4,
 "nbformat_minor": 5
}
