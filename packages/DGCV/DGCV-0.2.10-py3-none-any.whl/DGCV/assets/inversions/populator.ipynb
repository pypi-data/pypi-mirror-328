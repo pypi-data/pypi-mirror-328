{
 "cells": [
  {
   "cell_type": "code",
   "execution_count": 1,
   "metadata": {},
   "outputs": [
    {
     "name": "stdout",
     "output_type": "stream",
     "text": [
      "precomputed_4x4.py created.\n",
      "precomputed_5x5.py created.\n",
      "precomputed_6x6.py created.\n"
     ]
    }
   ],
   "source": [
    "import sympy as sp\n",
    "\n",
    "\n",
    "# Function to generate inverse formula for a given dimension\n",
    "def generate_inverse_formula(dim):\n",
    "    labels = [[sp.Symbol(f'l{i+1}l{j+1}') for j in range(dim)] for i in range(dim)]\n",
    "    matrix = sp.Matrix(labels)\n",
    "    det = matrix.det()\n",
    "    adjugate = matrix.adjugate()\n",
    "    return det, adjugate.tolist()\n",
    "\n",
    "# Function to create and write to separate .py files\n",
    "def create_precomputed_module(dim):\n",
    "    filename = f\"precomputed_{dim}x{dim}.py\"\n",
    "    with open(filename, \"w\") as file:\n",
    "        # Write import and symbol definitions at the top\n",
    "        file.write(\"import sympy as sp\\n\\n\")\n",
    "        symbols = \", \".join([f\"l{i+1}l{j+1}\" for i in range(dim) for j in range(dim)])\n",
    "        file.write(f\"{symbols} = sp.symbols('{symbols}')\\n\\n\")\n",
    "        \n",
    "        file.write(\"inverse_formulas = {\\n\")\n",
    "        file.write(f\"    {dim}: {{\\n\")\n",
    "        \n",
    "        # Generate the determinant and adjugate\n",
    "        det, adjugate = generate_inverse_formula(dim)\n",
    "        \n",
    "        # Write the determinant and adjugate to the file\n",
    "        file.write(f\"        'det': {repr(det)},\\n\")\n",
    "        file.write(f\"        'adjugate': {repr(adjugate)},\\n\")\n",
    "        file.write(\"    }\\n\")\n",
    "        file.write(\"}\\n\")\n",
    "\n",
    "    print(f\"{filename} created.\")\n",
    "\n",
    "# Create modules for dimensions 2x2 to 10x10\n",
    "for dim in range(4, 7):\n",
    "    create_precomputed_module(dim)"
   ]
  },
  {
   "cell_type": "code",
   "execution_count": null,
   "metadata": {},
   "outputs": [],
   "source": []
  }
 ],
 "metadata": {
  "kernelspec": {
   "display_name": "environments",
   "language": "python",
   "name": "python3"
  },
  "language_info": {
   "codemirror_mode": {
    "name": "ipython",
    "version": 3
   },
   "file_extension": ".py",
   "mimetype": "text/x-python",
   "name": "python",
   "nbconvert_exporter": "python",
   "pygments_lexer": "ipython3",
   "version": "3.12.4"
  }
 },
 "nbformat": 4,
 "nbformat_minor": 4
}
